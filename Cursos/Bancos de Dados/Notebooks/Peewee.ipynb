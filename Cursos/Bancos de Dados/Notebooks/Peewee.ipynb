{
 "cells": [
  {
   "cell_type": "markdown",
   "id": "50792ae2",
   "metadata": {},
   "source": [
    "# Peewee\n",
    "\n",
    "**[Peewee](https://docs.peewee-orm.com/en/latest/index.html)** é um [ORM](https://en.wikipedia.org/wiki/Object%E2%80%93relational_mapping) simples e pequeno. Possui poucos (mas expressivos) conceitos, tornando-o fácil de aprender e intuitivo de usar.\n",
    "\n",
    "Suporta sqlite, mysql, postgresql e cockroachdb.\n",
    "\n",
    "O código-fonte de Peewee hospedado no [GitHub](https://github.com/coleifer/peewee).\n",
    "\n",
    "Para instalar peewee é muito simples, podemos usar o [pip](https://pypi.org/project/pip/):\n",
    "\n",
    "```\n",
    "pip install peewee\n",
    "```"
   ]
  },
  {
   "cell_type": "markdown",
   "id": "c83e81ce",
   "metadata": {},
   "source": [
    "## Tutorial\n",
    "\n",
    "Este documento apresenta uma visão geral breve e de alto nível dos principais recursos do Peewee. Este guia cobrirá:\n",
    "\n",
    "- Definição de Modelos\n",
    "- Armazenamento de Dados\n",
    "- Recuperação de Dados\n",
    "\n",
    "Para maiores detalhes, lembre de consultar a [documentação oficial](https://docs.peewee-orm.com/en/latest/index.html)."
   ]
  },
  {
   "cell_type": "markdown",
   "id": "d3fc3396",
   "metadata": {},
   "source": [
    "### Definição de Modelo\n",
    "\n",
    "Classes de modelo, campos e instâncias de modelo mapeiam para conceitos de banco de dados:\n",
    "\n",
    "| Objeto  | Correspondente |\n",
    "|---|---|\n",
    "| Classes de Modelo  | Tabela de Banco de Dados  |\n",
    "| Instância de Campo  | Coluna de uma Tabela |\n",
    "| Instância de Modelo  | Linha de uma Tabela  |\n",
    "\n",
    "Ao iniciar um projeto com peewee, normalmente é melhor começar com seu modelo de dados, definindo uma ou mais classes de modelo (`Model`):"
   ]
  },
  {
   "cell_type": "code",
   "execution_count": 25,
   "id": "6366e6b7",
   "metadata": {},
   "outputs": [],
   "source": [
    "from peewee import *\n",
    "\n",
    "db = SqliteDatabase('livros.db')\n",
    "\n",
    "class Autor(Model):\n",
    "    nome = CharField()\n",
    "    nacionalidade = CharField()\n",
    "    nascimento = DateField()\n",
    "\n",
    "    class Meta:\n",
    "        database = db # Esse modelo usa o banco de dados \"livros.db\""
   ]
  },
  {
   "cell_type": "markdown",
   "id": "e7b88699",
   "metadata": {},
   "source": [
    "**Observação**: O Peewee inferirá automaticamente o nome da tabela do banco de dados a partir do nome da classe. Você pode substituir o nome padrão especificando um atributo **table_name** na classe interna “Meta” (junto com o atributo **database**). Para aprender mais sobre como o Peewee gera nomes de tabelas, consulte a seção [Nomes de Tabelas](https://docs.peewee-orm.com/en/latest/peewee/models.html#table-names) da documentação.\n",
    "\n",
    "Perceba também que chamamos nosso modelo de **Autor** em vez de **Autores**. Esta é uma convenção que você deve seguir - embora a tabela contenha vários autores, sempre nomeamos a classe usando a forma singular.\n",
    "\n",
    "Existem muitos [tipos de campo](https://docs.peewee-orm.com/en/latest/peewee/models.html#fields) adequados para armazenar vários tipos de dados. O Peewee lida com a conversão entre os valores pythônicos e aqueles usados pelo banco de dados, então você pode usar os tipos Python em seu código sem se preocupar.\n",
    "\n",
    "As coisas ficam interessantes quando configuramos relacionamentos entre modelos usando [relacionamentos de chave estrangeira](https://docs.peewee-orm.com/en/latest/peewee/relationships.html#relationships). Isso é simples com peewee:"
   ]
  },
  {
   "cell_type": "code",
   "execution_count": 26,
   "id": "4271d2ee",
   "metadata": {},
   "outputs": [],
   "source": [
    "class Livro(Model):\n",
    "    autor = ForeignKeyField(Autor, backref='livros')\n",
    "    titulo = CharField()\n",
    "    genero = CharField()\n",
    "\n",
    "    class Meta:\n",
    "        database = db # Esse modelo usa o banco de dados \"livros.db\""
   ]
  },
  {
   "cell_type": "markdown",
   "id": "0ed75146",
   "metadata": {},
   "source": [
    "Agora que temos nossos modelos, vamos nos conectar ao banco de dados. Embora não seja necessário abrir a conexão explicitamente, é uma boa prática, pois isso revelará quaisquer erros com sua conexão de banco de dados imediatamente, ao contrário de algum tempo arbitrário depois, quando a primeira consulta for executada. Também é bom fechar a conexão quando terminar - por exemplo, um aplicativo da web pode abrir uma conexão ao receber uma solicitação e fechar a conexão ao enviar a resposta."
   ]
  },
  {
   "cell_type": "code",
   "execution_count": 27,
   "id": "26990d7e",
   "metadata": {},
   "outputs": [
    {
     "data": {
      "text/plain": [
       "True"
      ]
     },
     "execution_count": 27,
     "metadata": {},
     "output_type": "execute_result"
    }
   ],
   "source": [
    "db.connect()"
   ]
  },
  {
   "cell_type": "markdown",
   "id": "d2b1ead6",
   "metadata": {},
   "source": [
    "Começaremos criando as tabelas no banco de dados que armazenarão nossos dados. \n",
    "\n",
    "O comando a seguir criará as tabelas com as colunas, índices, sequências e restrições de chave estrangeira apropriadas:"
   ]
  },
  {
   "cell_type": "code",
   "execution_count": 28,
   "id": "09e0c6b6",
   "metadata": {},
   "outputs": [],
   "source": [
    "db.create_tables([Autor, Livro])"
   ]
  },
  {
   "cell_type": "markdown",
   "id": "dfc99ef6",
   "metadata": {},
   "source": [
    "### Armazenando Dados\n",
    "\n",
    "Vamos começar preenchendo o banco de dados com alguns **autores**. Usaremos os métodos **save()** e **create()** para adicionar e atualizar os registros das autores."
   ]
  },
  {
   "cell_type": "code",
   "execution_count": 29,
   "id": "aee9e4be",
   "metadata": {},
   "outputs": [
    {
     "data": {
      "text/plain": [
       "1"
      ]
     },
     "execution_count": 29,
     "metadata": {},
     "output_type": "execute_result"
    }
   ],
   "source": [
    "from datetime import date\n",
    "\n",
    "huxley = Autor(nome=\"Aldous Leonard Huxley\", nacionalidade=\"Inglês\", nascimento=date(1894,11,22))\n",
    "huxley.save()"
   ]
  },
  {
   "cell_type": "markdown",
   "id": "d685ab88",
   "metadata": {},
   "source": [
    "Huxley agora está armazenado no banco de dados\n",
    "\n",
    "**Observação**: Quando você chama o método **save()**, o número de linhas modificadas é retornado.\n",
    "\n",
    "Você também pode adicionar um autor chamando o método **create()**, que retorna uma instância de modelo:"
   ]
  },
  {
   "cell_type": "code",
   "execution_count": 30,
   "id": "d3aef975",
   "metadata": {},
   "outputs": [],
   "source": [
    "george = Autor.create(nome='George', nacionalidade=\"Inglês\", nascimento=date(1903,1,21))\n",
    "machado = Autor.create(nome='Machado de Assis', nacionalidade=\"Brasileiro\", nascimento=date(1839,6,21))"
   ]
  },
  {
   "cell_type": "markdown",
   "id": "2bddcc40",
   "metadata": {},
   "source": [
    "Para atualizar uma linha, modifique a instância do modelo e chame **save()** para persistir as mudanças. Aqui, vamos mudar o nome de **george** e, em seguida, salvar as alterações no banco de dados:"
   ]
  },
  {
   "cell_type": "code",
   "execution_count": 31,
   "id": "bd4ba375",
   "metadata": {},
   "outputs": [
    {
     "data": {
      "text/plain": [
       "1"
      ]
     },
     "execution_count": 31,
     "metadata": {},
     "output_type": "execute_result"
    }
   ],
   "source": [
    "george.nome = \"George Orwell\"\n",
    "george.save()"
   ]
  },
  {
   "cell_type": "markdown",
   "id": "eac31d26",
   "metadata": {},
   "source": [
    "Agora armazenamos 3 autores no banco de dados. Vamos cadastrar alguns de seus livros:"
   ]
  },
  {
   "cell_type": "code",
   "execution_count": 32,
   "id": "a92bfba6",
   "metadata": {},
   "outputs": [],
   "source": [
    "orwell_livro = Livro.create(autor=george, titulo=\"Nineteen Eighty-Four\", genero=\"dystopian social science fiction\")\n",
    "huxley_livro = Livro.create(autor=huxley, titulo=\"Brave New World\", genero=\"dystopian social science fiction\")\n",
    "machado_livro = Livro.create(autor=machado, titulo=\"Memórias Póstumas de Brás Cubas\", genero=\"Novel\")"
   ]
  },
  {
   "cell_type": "markdown",
   "id": "ffc2e78d",
   "metadata": {},
   "source": [
    "Se eventualmente quisermos deletar uma instância, podemos usar **delete_instance()**, que irá retornar o número de linhas removidas do banco de dados."
   ]
  },
  {
   "cell_type": "code",
   "execution_count": 33,
   "id": "466feeef",
   "metadata": {},
   "outputs": [
    {
     "data": {
      "text/plain": [
       "1"
      ]
     },
     "execution_count": 33,
     "metadata": {},
     "output_type": "execute_result"
    }
   ],
   "source": [
    "orwell_livro.delete_instance()"
   ]
  },
  {
   "cell_type": "markdown",
   "id": "2d4858b4",
   "metadata": {},
   "source": [
    "#### Inserindo Múltiplos Valores\n",
    "\n",
    "Existem algumas maneiras de carregar muitos dados rapidamente. A abordagem ingênua é simplesmente chamar **Model.create()** em um loop:"
   ]
  },
  {
   "cell_type": "code",
   "execution_count": 47,
   "id": "8ffc6978",
   "metadata": {},
   "outputs": [],
   "source": [
    "autores = [\n",
    "    {'nome': 'William Gibson', 'nacionalidade': 'Canadense', 'nascimento': date(1948,3,17)},\n",
    "    {'nome': 'Monteiro Lobato', 'nacionalidade': 'Brasileiro', 'nascimento': date(1882,7,4)},\n",
    "    {'nome': 'Gabriel García Márquez', 'nacionalidade': 'Colombiano', 'nascimento': date(1927,3,6)}\n",
    "]\n",
    "\n",
    "for autor in autores:\n",
    "    Autor.create(**autor)"
   ]
  },
  {
   "cell_type": "markdown",
   "id": "5d1a4c99",
   "metadata": {},
   "source": [
    "A abordagem acima é lenta por alguns motivos:\n",
    "\n",
    "1. Se você não estiver envolvendo o loop em uma transação, então cada chamada para **create()** acontecerá em sua própria transação. Isso vai ser muito lento!\n",
    "2. Há uma quantidade razoável de lógica Python atrapalhando seu caminho, e cada **InsertQuery** deve ser gerado e *parsed* em SQL.\n",
    "3. São muitos dados (em termos de bytes brutos de SQL) que você está enviando para seu banco de dados fazer *parse*.\n",
    "\n",
    "Você pode obter uma aceleração significativa simplesmente envolvendo isso em uma transação com **atomic()**, que é muito mais rápido:"
   ]
  },
  {
   "cell_type": "code",
   "execution_count": 55,
   "id": "e1282023",
   "metadata": {},
   "outputs": [],
   "source": [
    "novos_autores = [\n",
    "    {'nome': 'Philip K. Dick', 'nacionalidade': 'Estado Unidense', 'nascimento': date(1928,12,16)},\n",
    "    {'nome': 'J. R. R. Tolkien', 'nacionalidade': 'Inglês', 'nascimento': date(1892,1,3)},\n",
    "    {'nome': 'Clarice Lispector', 'nacionalidade': 'Brasileira', 'nascimento': date(1920,12,10)}\n",
    "]\n",
    "\n",
    "with db.atomic():\n",
    "    for novo_autor in novos_autores:\n",
    "        Autor.create(**novo_autor)"
   ]
  },
  {
   "cell_type": "markdown",
   "id": "390059e0",
   "metadata": {},
   "source": [
    "Podemos obter outro grande impulso usando **insert_many()**. Este método aceita uma lista de tuplas ou dicionários e insere várias linhas em uma única consulta:"
   ]
  },
  {
   "cell_type": "code",
   "execution_count": 66,
   "id": "0788137c",
   "metadata": {},
   "outputs": [
    {
     "data": {
      "text/plain": [
       "3"
      ]
     },
     "execution_count": 66,
     "metadata": {},
     "output_type": "execute_result"
    }
   ],
   "source": [
    "philip = Autor.get(Autor.nome == 'Philip K. Dick')\n",
    "tolkien = Autor.get(Autor.nome == 'J. R. R. Tolkien')\n",
    "clarice = Autor.get(Autor.nome == 'Clarice Lispector')\n",
    "\n",
    "livros = [\n",
    "    {'autor': philip, 'titulo': 'The Cosmic Puppets', 'genero': 'Science Fiction'},\n",
    "    {'autor': tolkien, 'titulo': 'The Lord of the Rings', 'genero': 'Epic Fantasy'},\n",
    "    {'autor': clarice, 'titulo': 'The Hour of the Star', 'genero': 'Novel'}\n",
    "]\n",
    "\n",
    "Livro.insert_many(livros).execute()"
   ]
  },
  {
   "cell_type": "markdown",
   "id": "18f32149",
   "metadata": {},
   "source": [
    "O método **insert_many()** também aceita uma lista de tuplas de linha, desde que você também especifique os campos correspondentes:"
   ]
  },
  {
   "cell_type": "code",
   "execution_count": 67,
   "id": "127c30cb",
   "metadata": {},
   "outputs": [
    {
     "data": {
      "text/plain": [
       "4"
      ]
     },
     "execution_count": 67,
     "metadata": {},
     "output_type": "execute_result"
    }
   ],
   "source": [
    "dados = [\n",
    "    (philip, 'The World She Wanted', 'Science Fiction'),\n",
    "    (tolkien, 'The Hobbit', 'Epic Fantasy'),\n",
    "    (huxley, 'The Doors of Perception', 'Psychedelic'),\n",
    "    (machado, 'Quincas Borba', 'Novel')\n",
    "]\n",
    "\n",
    "Livro.insert_many(dados, fields=[Livro.autor, Livro.titulo, Livro.genero]).execute()"
   ]
  },
  {
   "cell_type": "markdown",
   "id": "0ca1f760",
   "metadata": {},
   "source": [
    "Também é uma boa prática envolver a [inserção em massa](http://docs.peewee-orm.com/en/latest/peewee/querying.html#bulk-inserts) em uma transação:"
   ]
  },
  {
   "cell_type": "code",
   "execution_count": 68,
   "id": "51a64238",
   "metadata": {},
   "outputs": [],
   "source": [
    "novos_dados = [\n",
    "    (philip, 'Do Androids Dream of Electric Sheep?', 'Science Fiction'),\n",
    "    (huxley, 'Heaven and Hell', 'Philosophical'),\n",
    "    (machado, 'Dom Casmurro', 'Novel')\n",
    "]\n",
    "\n",
    "campos = [Livro.autor, Livro.titulo, Livro.genero]\n",
    "\n",
    "with db.atomic():\n",
    "    Livro.insert_many(novos_dados, fields=campos).execute()"
   ]
  },
  {
   "cell_type": "markdown",
   "id": "2bbc7d9e",
   "metadata": {},
   "source": [
    "### Recuperando Dados\n",
    "\n",
    "A verdadeira força de nosso banco de dados está em como ele nos permite recuperar dados por meio de consultas (*queries*). Bancos de dados relacionais são excelentes para fazer consultas ad-hoc."
   ]
  },
  {
   "cell_type": "markdown",
   "id": "6f5358b4",
   "metadata": {},
   "source": [
    "#### Obtendo Registros Únicos\n",
    "\n",
    "Vamos obter o registro de Huxley do banco de dados.\n",
    "\n",
    "Para obter um único registro do banco de dados, use **select.get()**:"
   ]
  },
  {
   "cell_type": "code",
   "execution_count": 69,
   "id": "370c2c80",
   "metadata": {},
   "outputs": [
    {
     "data": {
      "text/plain": [
       "'Aldous Leonard Huxley'"
      ]
     },
     "execution_count": 69,
     "metadata": {},
     "output_type": "execute_result"
    }
   ],
   "source": [
    "aldous = Autor.select().where(Autor.nome == 'Aldous Leonard Huxley').get()\n",
    "aldous.nome"
   ]
  },
  {
   "cell_type": "markdown",
   "id": "b47d768f",
   "metadata": {},
   "source": [
    "Também podemos usar a abreviação equivalente **Model.get()**:"
   ]
  },
  {
   "cell_type": "code",
   "execution_count": 70,
   "id": "9abc0181",
   "metadata": {},
   "outputs": [
    {
     "data": {
      "text/plain": [
       "'Machado de Assis'"
      ]
     },
     "execution_count": 70,
     "metadata": {},
     "output_type": "execute_result"
    }
   ],
   "source": [
    "assis = Autor.get(Autor.nome == 'Machado de Assis')\n",
    "assis.nome"
   ]
  },
  {
   "cell_type": "markdown",
   "id": "8f2f2857",
   "metadata": {},
   "source": [
    "#### Lista de Registros\n",
    "\n",
    "Vamos listar todos os autores no banco de dados:"
   ]
  },
  {
   "cell_type": "code",
   "execution_count": 71,
   "id": "8c17fe67",
   "metadata": {},
   "outputs": [
    {
     "name": "stdout",
     "output_type": "stream",
     "text": [
      "Aldous Leonard Huxley\n",
      "George Orwell\n",
      "Machado de Assis\n",
      "William Gibson\n",
      "Monteiro Lobato\n",
      "Gabriel García Márquez\n",
      "Philip K. Dick\n",
      "J. R. R. Tolkien\n",
      "Clarice Lispector\n"
     ]
    }
   ],
   "source": [
    "for autor in Autor.select():\n",
    "    print(autor.nome)"
   ]
  },
  {
   "cell_type": "markdown",
   "id": "17a0a8b5",
   "metadata": {},
   "source": [
    "Vamos listar todos os livros e seus autores:"
   ]
  },
  {
   "cell_type": "code",
   "execution_count": 72,
   "id": "0e3e7f65",
   "metadata": {},
   "outputs": [
    {
     "name": "stdout",
     "output_type": "stream",
     "text": [
      "Livro Título: Brave New World | Autor: Aldous Leonard Huxley\n",
      "Livro Título: Memórias Póstumas de Brás Cubas | Autor: Machado de Assis\n",
      "Livro Título: The Cosmic Puppets | Autor: Philip K. Dick\n",
      "Livro Título: The Lord of the Rings | Autor: J. R. R. Tolkien\n",
      "Livro Título: The Hour of the Star | Autor: Clarice Lispector\n",
      "Livro Título: The World She Wanted | Autor: Philip K. Dick\n",
      "Livro Título: The Hobbit | Autor: J. R. R. Tolkien\n",
      "Livro Título: The Doors of Perception | Autor: Aldous Leonard Huxley\n",
      "Livro Título: Quincas Borba | Autor: Machado de Assis\n",
      "Livro Título: Do Androids Dream of Electric Sheep? | Autor: Philip K. Dick\n",
      "Livro Título: Heaven and Hell | Autor: Aldous Leonard Huxley\n",
      "Livro Título: Dom Casmurro | Autor: Machado de Assis\n"
     ]
    }
   ],
   "source": [
    "query = Livro.select()\n",
    "for livro in query:\n",
    "    print(f'Livro Título: {livro.titulo} | Autor: {livro.autor.nome}')"
   ]
  },
  {
   "cell_type": "markdown",
   "id": "0acfb412",
   "metadata": {},
   "source": [
    "**Atenção**: Há um grande problema com a consulta anterior: como estamos acessando **livro.autor.nome** e não selecionamos essa relação em nossa consulta original, o peewee terá que realizar uma consulta adicional para recuperar o autor do livro. Esse comportamento é conhecido como [N + 1](https://docs.peewee-orm.com/en/latest/peewee/relationships.html#nplusone) e geralmente deve ser evitado.\n",
    "\n",
    "Para obter um guia detalhado sobre como trabalhar com relacionamentos e **joins**, consulte a documentação [Relacionamentos e Joins](https://docs.peewee-orm.com/en/latest/peewee/relationships.html#relationships).\n",
    "\n",
    "Podemos evitar as consultas extras selecionando Livro e Autor e adicionando um join:"
   ]
  },
  {
   "cell_type": "code",
   "execution_count": 78,
   "id": "b18c5172",
   "metadata": {},
   "outputs": [
    {
     "name": "stdout",
     "output_type": "stream",
     "text": [
      "Título do Livro: Brave New World, Autor: Aldous Leonard Huxley\n"
     ]
    }
   ],
   "source": [
    "query = (Livro\n",
    "         .select(Livro, Autor)\n",
    "         .join(Autor)\n",
    "         .where(Livro.titulo == 'Brave New World'))\n",
    "\n",
    "for livro in query:\n",
    "    print(f'Título do Livro: {livro.titulo}, Autor: {livro.autor.nome}')"
   ]
  },
  {
   "cell_type": "markdown",
   "id": "b650e075",
   "metadata": {},
   "source": [
    "Vamos obter todos os livros escritos por Machado de Assis:"
   ]
  },
  {
   "cell_type": "code",
   "execution_count": 74,
   "id": "57bb76b6",
   "metadata": {},
   "outputs": [
    {
     "name": "stdout",
     "output_type": "stream",
     "text": [
      "Memórias Póstumas de Brás Cubas\n",
      "Quincas Borba\n",
      "Dom Casmurro\n"
     ]
    }
   ],
   "source": [
    "for livro in Livro.select().join(Autor).where(Autor.nome == 'Machado de Assis'):\n",
    "    print(livro.titulo)"
   ]
  },
  {
   "cell_type": "markdown",
   "id": "7d8eee5e",
   "metadata": {},
   "source": [
    "Também podemos obter os livros de Machado de Assis de outra maneira. Uma vez que já temos um objeto representando Machado de Assis, podemos fazer o seguinte:"
   ]
  },
  {
   "cell_type": "code",
   "execution_count": 75,
   "id": "3283f2c4",
   "metadata": {},
   "outputs": [
    {
     "name": "stdout",
     "output_type": "stream",
     "text": [
      "Memórias Póstumas de Brás Cubas\n",
      "Quincas Borba\n",
      "Dom Casmurro\n"
     ]
    }
   ],
   "source": [
    "for livro in Livro.select().where(Livro.autor == machado):\n",
    "    print(livro.titulo)"
   ]
  },
  {
   "cell_type": "markdown",
   "id": "009f6345",
   "metadata": {},
   "source": [
    "#### Ordenando\n",
    "\n",
    "Vamos garantir que nossos livros sejam ordenados em ordem alfabética adicionando uma cláusula **order_by()**:"
   ]
  },
  {
   "cell_type": "code",
   "execution_count": 79,
   "id": "c04fb9ad",
   "metadata": {},
   "outputs": [
    {
     "name": "stdout",
     "output_type": "stream",
     "text": [
      "Brave New World\n",
      "Do Androids Dream of Electric Sheep?\n",
      "Dom Casmurro\n",
      "Heaven and Hell\n",
      "Memórias Póstumas de Brás Cubas\n",
      "Quincas Borba\n",
      "The Cosmic Puppets\n",
      "The Doors of Perception\n",
      "The Hobbit\n",
      "The Hour of the Star\n",
      "The Lord of the Rings\n",
      "The World She Wanted\n"
     ]
    }
   ],
   "source": [
    "for livro in Livro.select().order_by(Livro.titulo):\n",
    "    print(livro.titulo)"
   ]
  },
  {
   "cell_type": "markdown",
   "id": "ba835753",
   "metadata": {},
   "source": [
    "Vamos listar todas os autores agora, do mais jovem ao mais velho:"
   ]
  },
  {
   "cell_type": "code",
   "execution_count": 80,
   "id": "97b195cb",
   "metadata": {},
   "outputs": [
    {
     "name": "stdout",
     "output_type": "stream",
     "text": [
      "William Gibson 1948-03-17\n",
      "Philip K. Dick 1928-12-16\n",
      "Gabriel García Márquez 1927-03-06\n",
      "Clarice Lispector 1920-12-10\n",
      "George Orwell 1903-01-21\n",
      "Aldous Leonard Huxley 1894-11-22\n",
      "J. R. R. Tolkien 1892-01-03\n",
      "Monteiro Lobato 1882-07-04\n",
      "Machado de Assis 1839-06-21\n"
     ]
    }
   ],
   "source": [
    "for autor in Autor.select().order_by(Autor.nascimento.desc()):\n",
    "    print(autor.nome, autor.nascimento)"
   ]
  },
  {
   "cell_type": "markdown",
   "id": "551ed2d8",
   "metadata": {},
   "source": [
    "#### Combinação de Expressões de Filtro\n",
    "\n",
    "Peewee suporta expressões aninhadas arbitrariamente. Vamos pegar todas as pessoas cujo aniversário foi:\n",
    "\n",
    "- Antes de 1900\n",
    "- Depois de 1940"
   ]
  },
  {
   "cell_type": "code",
   "execution_count": 81,
   "id": "9bce8321",
   "metadata": {},
   "outputs": [
    {
     "name": "stdout",
     "output_type": "stream",
     "text": [
      "Aldous Leonard Huxley 1894-11-22\n",
      "Machado de Assis 1839-06-21\n",
      "William Gibson 1948-03-17\n",
      "Monteiro Lobato 1882-07-04\n",
      "J. R. R. Tolkien 1892-01-03\n"
     ]
    }
   ],
   "source": [
    "d1900 = date(1900, 1, 1)\n",
    "d1940 = date(1940, 1, 1)\n",
    "\n",
    "query = (Autor\n",
    "         .select()\n",
    "         .where((Autor.nascimento < d1900) | (Autor.nascimento > d1940)))\n",
    "\n",
    "for autor in query:\n",
    "    print(autor.nome, autor.nascimento)"
   ]
  },
  {
   "cell_type": "markdown",
   "id": "e4069a2b",
   "metadata": {},
   "source": [
    "Agora vamos fazer o oposto. Buscar os autores cujo aniversário é entre 1900 e 1940:"
   ]
  },
  {
   "cell_type": "code",
   "execution_count": 83,
   "id": "79ddb4c6",
   "metadata": {},
   "outputs": [
    {
     "name": "stdout",
     "output_type": "stream",
     "text": [
      "George Orwell 1903-01-21\n",
      "Gabriel García Márquez 1927-03-06\n",
      "Philip K. Dick 1928-12-16\n",
      "Clarice Lispector 1920-12-10\n"
     ]
    }
   ],
   "source": [
    "query = (Autor\n",
    "         .select()\n",
    "         .where(Autor.nascimento.between(d1900, d1940)))\n",
    "\n",
    "for autor in query:\n",
    "    print(autor.nome, autor.nascimento)"
   ]
  },
  {
   "cell_type": "markdown",
   "id": "8f5b872f",
   "metadata": {},
   "source": [
    "#### Agregados e Pré-busca\n",
    "\n",
    "Agora vamos listar todas os autores e quantos livros eles têm:"
   ]
  },
  {
   "cell_type": "code",
   "execution_count": 84,
   "id": "c7cc96b2",
   "metadata": {},
   "outputs": [
    {
     "name": "stdout",
     "output_type": "stream",
     "text": [
      "Aldous Leonard Huxley 3 livros\n",
      "George Orwell 0 livros\n",
      "Machado de Assis 3 livros\n",
      "William Gibson 0 livros\n",
      "Monteiro Lobato 0 livros\n",
      "Gabriel García Márquez 0 livros\n",
      "Philip K. Dick 3 livros\n",
      "J. R. R. Tolkien 2 livros\n",
      "Clarice Lispector 1 livros\n"
     ]
    }
   ],
   "source": [
    "for autor in Autor.select():\n",
    "    print(autor.nome, autor.livros.count(), 'livros')"
   ]
  },
  {
   "cell_type": "markdown",
   "id": "8f4816b5",
   "metadata": {},
   "source": [
    "Como podemos ver, alguns autores ainda não possuem livros cadastros e outros estão incompletos, mas já podemos ter uma ideia de como funciona.\n",
    "\n",
    "Mais uma vez, encontramos um exemplo clássico de comportamento de consulta [N + 1](https://docs.peewee-orm.com/en/latest/peewee/relationships.html#nplusone). Neste caso, estamos executando uma consulta adicional para cada **Autor** retornada pelo **SELECT**! Podemos evitar isso executando um **JOIN** e usando uma função SQL para agregar os resultados."
   ]
  },
  {
   "cell_type": "code",
   "execution_count": 85,
   "id": "3309d7d2",
   "metadata": {},
   "outputs": [
    {
     "name": "stdout",
     "output_type": "stream",
     "text": [
      "Aldous Leonard Huxley 3 livros\n",
      "Clarice Lispector 1 livros\n",
      "Gabriel García Márquez 0 livros\n",
      "George Orwell 0 livros\n",
      "J. R. R. Tolkien 2 livros\n",
      "Machado de Assis 3 livros\n",
      "Monteiro Lobato 0 livros\n",
      "Philip K. Dick 3 livros\n",
      "William Gibson 0 livros\n"
     ]
    }
   ],
   "source": [
    "query = (Autor\n",
    "         .select(Autor, fn.COUNT(Livro.id).alias('livro_count'))\n",
    "         .join(Livro, JOIN.LEFT_OUTER)  \n",
    "         .group_by(Autor)\n",
    "         .order_by(Autor.nome))\n",
    "\n",
    "for autor in query:\n",
    "    print(autor.nome, autor.livro_count, 'livros')"
   ]
  },
  {
   "cell_type": "markdown",
   "id": "42432a2e",
   "metadata": {},
   "source": [
    "**Observação**: O Peewee fornece um ajudante mágico **fn()**, que pode ser usado para chamar qualquer função SQL. No exemplo acima, `fn.COUNT(Livro.id).alias('livro_count')` seria traduzido para `COUNT(livro.id) AS livro_count`.\n",
    "\n",
    "Agora vamos listar todos os autores e os titulos de todos os seus livros. Como você deve ter adivinhado, isso poderia facilmente se transformar em outra situação [N + 1](https://docs.peewee-orm.com/en/latest/peewee/relationships.html#nplusone) se não tomarmos cuidado.\n",
    "\n",
    "Antes de mergulhar no código, considere como este exemplo é diferente do exemplo anterior, onde listamos todos os livros e o nome de seus autores. Um livro só pode ter um autor, portanto, quando realizamos a junção de livro para autor, sempre haverá uma única combinação. A situação é diferente quando estamos unindo de autor para livro porque um autor pode ter zero livros ou pode ter vários livros. Como estamos usando bancos de dados relacionais, se fôssemos fazer uma junção de autor a livro, todas as pessoas com vários livros seriam repetidas, uma para cada livro.\n",
    "\n",
    "Ficaria assim:"
   ]
  },
  {
   "cell_type": "code",
   "execution_count": 86,
   "id": "ed39027a",
   "metadata": {},
   "outputs": [
    {
     "name": "stdout",
     "output_type": "stream",
     "text": [
      "Aldous Leonard Huxley Brave New World\n",
      "Aldous Leonard Huxley Heaven and Hell\n",
      "Aldous Leonard Huxley The Doors of Perception\n",
      "Clarice Lispector The Hour of the Star\n",
      "Gabriel García Márquez nenhum livro\n",
      "George Orwell nenhum livro\n",
      "J. R. R. Tolkien The Hobbit\n",
      "J. R. R. Tolkien The Lord of the Rings\n",
      "Machado de Assis Dom Casmurro\n",
      "Machado de Assis Memórias Póstumas de Brás Cubas\n",
      "Machado de Assis Quincas Borba\n",
      "Monteiro Lobato nenhum livro\n",
      "Philip K. Dick Do Androids Dream of Electric Sheep?\n",
      "Philip K. Dick The Cosmic Puppets\n",
      "Philip K. Dick The World She Wanted\n",
      "William Gibson nenhum livro\n"
     ]
    }
   ],
   "source": [
    "query = (Autor\n",
    "         .select(Autor, Livro)\n",
    "         .join(Livro, JOIN.LEFT_OUTER)\n",
    "         .order_by(Autor.nome, Livro.titulo))\n",
    "\n",
    "for autor in query:\n",
    "    if hasattr(autor, 'livro'):\n",
    "        print(autor.nome, autor.livro.titulo)\n",
    "    else:\n",
    "        print(autor.nome, 'nenhum livro')"
   ]
  },
  {
   "cell_type": "markdown",
   "id": "2370ecb7",
   "metadata": {},
   "source": [
    "Normalmente, esse tipo de duplicação é indesejável. Para acomodar o fluxo de trabalho mais comum (e intuitivo) de listar um autor e anexar uma lista dos livros desse autor, podemos usar um método especial chamado **prefetch()**:"
   ]
  },
  {
   "cell_type": "code",
   "execution_count": 87,
   "id": "1ecd9c16",
   "metadata": {},
   "outputs": [
    {
     "name": "stdout",
     "output_type": "stream",
     "text": [
      "Aldous Leonard Huxley\n",
      "  * Brave New World\n",
      "  * The Doors of Perception\n",
      "  * Heaven and Hell\n",
      "Clarice Lispector\n",
      "  * The Hour of the Star\n",
      "Gabriel García Márquez\n",
      "George Orwell\n",
      "J. R. R. Tolkien\n",
      "  * The Lord of the Rings\n",
      "  * The Hobbit\n",
      "Machado de Assis\n",
      "  * Memórias Póstumas de Brás Cubas\n",
      "  * Quincas Borba\n",
      "  * Dom Casmurro\n",
      "Monteiro Lobato\n",
      "Philip K. Dick\n",
      "  * The Cosmic Puppets\n",
      "  * The World She Wanted\n",
      "  * Do Androids Dream of Electric Sheep?\n",
      "William Gibson\n"
     ]
    }
   ],
   "source": [
    "query = Autor.select().order_by(Autor.nome).prefetch(Livro)\n",
    "\n",
    "for autor in query:\n",
    "    print(autor.nome)\n",
    "    for livro in autor.livros:\n",
    "        print('  *', livro.titulo)"
   ]
  },
  {
   "cell_type": "markdown",
   "id": "7d3cf124",
   "metadata": {},
   "source": [
    "#### Funções SQL\n",
    "\n",
    "Uma última consulta. Isso usará uma função SQL para encontrar todas os autores cujos nomes começam com um G maiúsculo ou minúsculo:"
   ]
  },
  {
   "cell_type": "code",
   "execution_count": 88,
   "id": "40342121",
   "metadata": {},
   "outputs": [
    {
     "name": "stdout",
     "output_type": "stream",
     "text": [
      "George Orwell\n",
      "Gabriel García Márquez\n"
     ]
    }
   ],
   "source": [
    "expression = fn.Lower(fn.Substr(Autor.nome, 1, 1)) == 'g'\n",
    "\n",
    "for autor in Autor.select().where(expression):\n",
    "    print(autor.nome)"
   ]
  },
  {
   "cell_type": "markdown",
   "id": "2a2117e3",
   "metadata": {},
   "source": [
    "Este é apenas o básico! Você pode tornar suas consultas tão complexas quanto desejar. Verifique a documentação sobre [Querying](https://docs.peewee-orm.com/en/latest/peewee/querying.html#querying) para obter mais informações."
   ]
  },
  {
   "cell_type": "markdown",
   "id": "106e7e92",
   "metadata": {},
   "source": [
    "#### Banco de Dados\n",
    "\n",
    "Terminamos com nosso banco de dados, vamos então fechar a conexão:"
   ]
  },
  {
   "cell_type": "code",
   "execution_count": 89,
   "id": "3e554221",
   "metadata": {},
   "outputs": [
    {
     "data": {
      "text/plain": [
       "True"
      ]
     },
     "execution_count": 89,
     "metadata": {},
     "output_type": "execute_result"
    }
   ],
   "source": [
    "db.close()"
   ]
  },
  {
   "cell_type": "markdown",
   "id": "16439885",
   "metadata": {},
   "source": [
    "Em um aplicativo real, existem alguns padrões estabelecidos de como você gerencia o tempo de vida da sua conexão com o banco de dados. Por exemplo, um aplicativo da web normalmente abre uma conexão no início da solicitação e fecha a conexão após gerar a resposta. Um pool de conexão pode ajudar a eliminar a latência associada aos custos de inicialização.\n",
    "\n",
    "Para aprender a configurar seu banco de dados, consulte a [documentação do banco de dados](https://docs.peewee-orm.com/en/latest/peewee/database.html#database), que fornece muitos exemplos. O Peewee também suporta a [configuração do banco de dados em tempo de execução](https://docs.peewee-orm.com/en/latest/peewee/database.html#deferring-initialization), bem como a configuração ou alteração do banco de dados a qualquer momento."
   ]
  }
 ],
 "metadata": {
  "kernelspec": {
   "display_name": "Python 3",
   "language": "python",
   "name": "python3"
  },
  "language_info": {
   "codemirror_mode": {
    "name": "ipython",
    "version": 3
   },
   "file_extension": ".py",
   "mimetype": "text/x-python",
   "name": "python",
   "nbconvert_exporter": "python",
   "pygments_lexer": "ipython3",
   "version": "3.7.10"
  }
 },
 "nbformat": 4,
 "nbformat_minor": 5
}
