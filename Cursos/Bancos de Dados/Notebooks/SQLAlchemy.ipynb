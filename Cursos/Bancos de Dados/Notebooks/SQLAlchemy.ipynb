{
 "cells": [
  {
   "cell_type": "markdown",
   "id": "fdb6a603",
   "metadata": {},
   "source": [
    "# SQLAlchemy\n",
    "\n",
    "**[SQLAlchemy](https://www.sqlalchemy.org/)** é o kit de ferramentas Python SQL e [Object Relational Mapper](https://en.wikipedia.org/wiki/Object%E2%80%93relational_mapping) que oferece aos desenvolvedores de aplicações todo o poder e flexibilidade do SQL.\n",
    "\n",
    "SQLAlchemy é uma biblioteca que facilita a comunicação entre programas Python e bancos de dados. Na maioria das vezes, essa biblioteca é usada como uma ferramenta Object Relational Mapper (ORM) que converte classes Python em tabelas em bancos de dados relacionais e converte automaticamente chamadas de função em instruções SQL. SQLAlchemy fornece uma interface padrão que permite aos desenvolvedores criar um código independente de banco de dados para se comunicar com uma ampla variedade de mecanismos de banco de dados.\n",
    "\n",
    "Antes de mergulhar nos recursos ORM fornecidos pelo SQLAlchemy, precisamos aprender como funciona o seu núcleo. As seções a seguir apresentarão **conceitos importantes** que todo desenvolvedor Python precisa entender antes de lidar com os aplicativos SQLAlchemy."
   ]
  },
  {
   "cell_type": "markdown",
   "id": "d3d342c8",
   "metadata": {},
   "source": [
    "## Python DBAPI\n",
    "\n",
    "O **Python DBAPI** (um acrônimo para DataBase API) foi criado para especificar como os módulos Python que se integram com bancos de dados devem expor suas interfaces. Apesar de não interagirmos com essa API diretamente - usaremos SQLAlchemy como uma fachada para ela - é bom saber que ela define como funções comuns como `connect`, `close`, `commit` e `rollback` devem se comportar. Conseqüentemente, sempre que usarmos um módulo Python que atenda à essa especificação, podemos ter certeza de que encontraremos essas funções e que se comportarão conforme o esperado."
   ]
  },
  {
   "cell_type": "markdown",
   "id": "4a3e415d",
   "metadata": {},
   "source": [
    "## SQLAlchemy Engines\n",
    "\n",
    "Sempre que quisermos usar SQLAlchemy para interagir com um banco de dados, precisamos criar um **Engine**. \n",
    "\n",
    "**Engines**, no SQLAlchemy, são usados para gerenciar dois fatores cruciais: **Pools** e **Dialects**. As duas seções a seguir irão explicar o que são esses dois conceitos, mas por enquanto é suficiente dizer que SQLAlchemy os usa para interagir com funções DBAPI.\n",
    "\n",
    "Como SQLAlchemy depende da especificação DBAPI para interagir com bancos de dados, os sistemas de gerenciamento de banco de dados mais comuns disponíveis são suportados. **PostgreSQL**, **MySQL**, **Oracle**, **Microsoft SQL Server** e **SQLite** são exemplos de mecanismos que podemos usar junto com o SQLAlchemy.\n",
    "\n",
    "Para saber mais sobre as opções disponíveis para criar engines SQLAlchemy, dê uma olhada na [documentação oficial](https://docs.sqlalchemy.org/en/14/core/engines.html)."
   ]
  },
  {
   "cell_type": "markdown",
   "id": "ce75b43b",
   "metadata": {},
   "source": [
    "## SQLAlchemy Connection Pools\n",
    "\n",
    "O pool de conexões é uma das implementações mais tradicionais do [padrão de pool de objetos](https://sourcemaking.com/design_patterns/object_pool). Os pools de objetos são usados como caches de objetos pré-inicializados prontos para uso. Ou seja, em vez de perder tempo para criar objetos que são frequentemente necessários (como conexões com bancos de dados), o programa busca um objeto existente no pool, usa-o como desejado e o coloca de volta quando terminar.\n",
    "\n",
    "A principal razão pela qual os programas tiram proveito desse padrão de design é para melhorar o desempenho. No caso de conexões de banco de dados, abrir e manter novas é caro, demorado e desperdiça recursos. Além disso, esse padrão permite um gerenciamento mais fácil do número de conexões que um aplicativo pode utilizar simultaneamente.\n",
    "\n",
    "Existem [várias implementações](https://docs.sqlalchemy.org/en/14/core/pooling.html#api-documentation-available-pool-implementations) do padrão de pool de conexão disponível no SQLAlchemy. Por exemplo, criar um Engine por meio da função **create_engine()** geralmente gera um **QueuePool**. Esse tipo de pool vem configurado com alguns padrões razoáveis, como um tamanho máximo de pool de 5 conexões.\n",
    "\n",
    "Como os programas prontos para produção precisam substituir esses padrões (para ajustar os pools de acordo com suas necessidades), a maioria das diferentes implementações de pools de conexão fornece um conjunto semelhante de opções de configuração. A lista a seguir mostra as opções mais comuns com suas descrições:\n",
    "\n",
    "- **pool_size**: define o número de conexões que o pool tratará.\n",
    "- **max_overflow**: especifica quantas conexões excedentes (em relação a **pool_size**) o pool suporta.\n",
    "- **pool_recycle**: configura a idade máxima (em segundos) das conexões no pool.\n",
    "- **pool_timeout**: identifica quantos segundos o programa aguardará antes de desistir de obter uma conexão do pool.\n",
    "\n",
    "Para saber mais sobre pools de conexão no SQLAlchemy, verifique a [documentação oficial](https://docs.sqlalchemy.org/en/14/core/pooling.html)."
   ]
  },
  {
   "cell_type": "markdown",
   "id": "ef9fba8b",
   "metadata": {},
   "source": [
    "## SQLAlchemy Dialects\n",
    "\n",
    "Como SQLAlchemy é uma fachada que permite aos desenvolvedores Python criar aplicativos que se comunicam com diferentes mecanismos de banco de dados por meio da mesma API, precisamos fazer uso de dialetos. A maioria dos bancos de dados relacionais populares disponíveis segue o padrão **[SQL (Structured Query Language)](https://en.wikipedia.org/wiki/SQL)**, mas também introduz variações proprietárias. Essas variações são as únicas responsáveis pela existência dos dialetos.\n",
    "\n",
    "Por exemplo, digamos que desejamos buscar as dez primeiras linhas de uma tabela chamada **pessoas**. Se nossos dados estivessem sendo mantidos por um mecanismo de banco de dados Microsoft SQL Server, SQLAlchemy precisaria emitir a seguinte consulta:\n",
    "\n",
    "```sql\n",
    "SELECT TOP 10 * FROM people;\n",
    "```\n",
    "\n",
    "Mas, se nossos dados persistissem na instância do MySQL, o SQLAlchemy precisaria emitir:\n",
    "\n",
    "```sql\n",
    "SELECT * FROM people LIMIT 10;\n",
    "```\n",
    "\n",
    "Portanto, para saber exatamente qual consulta emitir, o SQLAlchemy precisa estar ciente do tipo de banco de dados com o qual está lidando. Isso é exatamente o que os dialetos fazem. Eles tornam o SQLAlchemy ciente do dialeto de que ele precisa para falar.\n",
    "\n",
    "Em seu núcleo, SQLAlchemy inclui a seguinte lista de dialetos:\n",
    "\n",
    "- [Firebird](https://docs.sqlalchemy.org/en/14/dialects/firebird.html)\n",
    "- [Microsoft SQL Server](https://docs.sqlalchemy.org/en/14/dialects/mssql.html)\n",
    "- [MySQL](https://docs.sqlalchemy.org/en/14/dialects/mysql.html)\n",
    "- [Oracle](https://docs.sqlalchemy.org/en/14/dialects/oracle.html)\n",
    "- [PostgreSQL](https://docs.sqlalchemy.org/en/14/dialects/postgresql.html)\n",
    "- [SQLite](https://docs.sqlalchemy.org/en/14/dialects/sqlite.html)\n",
    "- [Sybase](http://docs.sqlalchemy.org/en/latest/dialects/sybase.html)\n",
    "\n",
    "Verifique a [documentação oficial](https://docs.sqlalchemy.org/en/14/dialects/) sobre os dialetos SQLAlchemy para saber mais."
   ]
  },
  {
   "cell_type": "markdown",
   "id": "c35aab8b",
   "metadata": {},
   "source": [
    "## SQLAlchemy ORM\n",
    "\n",
    "**ORM**, que significa **Object Relational Mapper**, é a especialização do padrão de design [Data Mapper](https://martinfowler.com/eaaCatalog/dataMapper.html) que aborda bancos de dados relacionais como MySQL, Oracle e PostgreSQL. \n",
    "\n",
    "Conforme explicado por Martin Fowler no artigo, os mapeadores são responsáveis por mover dados entre objetos e um banco de dados, mantendo-os independentes um do outro. Como linguagens de programação orientadas a objetos e bancos de dados relacionais estruturam dados de maneiras diferentes, precisamos de um código específico para traduzir de um esquema para o outro.\n",
    "\n",
    "Por exemplo, em uma linguagem de programação como Python, podemos criar uma classe **Produto** e uma classe **Pedido** para relacionar quantas instâncias forem necessárias de uma classe para outra (ou seja, Produto pode conter uma lista de instâncias de Pedido e vice-versa). Porém, em bancos de dados relacionais, precisamos de três entidades (tabelas), uma para persistir produtos, outra para persistir pedidos e uma terceira para relacionar (por meio de [chave estrangeira](https://en.wikipedia.org/wiki/Foreign_key)) produtos e pedidos."
   ]
  },
  {
   "cell_type": "markdown",
   "id": "674fc923",
   "metadata": {},
   "source": [
    "## Tipos de Dados SQLAlchemy\n",
    "\n",
    "Ao usar o SQLAlchemy, podemos ter certeza de que obteremos suporte para os tipos de dados mais comuns encontrados em bancos de dados relacionais. Por exemplo, booleanos, datas, horas, strings e valores numéricos são apenas um subconjunto dos tipos para os quais SQLAlchemy fornece abstrações. Além desses tipos básicos, SQLAlchemy inclui suporte para alguns tipos específicos de fornecedores (como JSON) e também permite que os desenvolvedores criem tipos personalizados e redefinam os existentes.\n",
    "\n",
    "Para entender como usamos os tipos de dados SQLAlchemy para mapear propriedades de classes Python em colunas de uma tabela de banco de dados de relacionamento, vamos analisar o seguinte exemplo:\n",
    "\n",
    "```python\n",
    "class Produto(Base):\n",
    "    __tablename__ = 'produtos'\n",
    "    id = Column(Integer, primary_key=True)\n",
    "    titulo = Column('titulo', String(32))\n",
    "    em_estoque = Column('em_estoque', Boolean)\n",
    "    quantidade = Column('quantidade', Integer)\n",
    "    preco = Column('preco', Numeric)\n",
    "```\n",
    "\n",
    "No trecho de código acima, estamos definindo uma classe chamada **Produto** que possui seis propriedades. Vamos olhar o que essas propriedades fazem:\n",
    "\n",
    "- A propriedade **__tablename__** informa ao SQLAlchemy que as linhas da tabela de produtos devem ser mapeadas para esta classe.\n",
    "- A propriedade **id** identifica que esta é a primary_key na tabela e que seu tipo é Integer.\n",
    "- A propriedade **titulo** indica que uma coluna da tabela possui o mesmo nome da propriedade e que seu tipo é String.\n",
    "- A propriedade **em_estoque** indica que uma coluna da tabela possui o mesmo nome da propriedade e que seu tipo é Boolean.\n",
    "- A propriedade **quantidade** indica que uma coluna da tabela possui o mesmo nome da propriedade e que seu tipo é Integer.\n",
    "- A propriedade **preco** indica que uma coluna da tabela possui o mesmo nome da propriedade e que seu tipo é Numeric.\n",
    "\n",
    "Observe que (geralmente) bancos de dados relacionais não têm tipos de dados com esses nomes exatos. SQLAlchemy usa esses tipos como representações genéricas para quais bancos de dados suportam e usam o dialeto configurado para entender para quais tipos eles se traduzem. Por exemplo, em um banco de dados PostgreSQL, o **titulo** seria mapeado para uma coluna **varchar**."
   ]
  },
  {
   "cell_type": "markdown",
   "id": "e74c8e53",
   "metadata": {},
   "source": [
    "## Checando a Versão do sqlalchemy\n",
    "\n",
    "A seguir vamos verificar qual versão da biblioteca SQLAlchemy estamos usando:"
   ]
  },
  {
   "cell_type": "code",
   "execution_count": 1,
   "id": "01f40c8b",
   "metadata": {},
   "outputs": [
    {
     "data": {
      "text/plain": [
       "'1.4.7'"
      ]
     },
     "execution_count": 1,
     "metadata": {},
     "output_type": "execute_result"
    }
   ],
   "source": [
    "import sqlalchemy\n",
    "\n",
    "sqlalchemy.__version__ "
   ]
  },
  {
   "cell_type": "markdown",
   "id": "fcd35261",
   "metadata": {},
   "source": [
    "## Conectando\n",
    "\n",
    "Para este tutorial, usaremos um banco de dados SQLite. Para conectar, usamos **create_engine()**:"
   ]
  },
  {
   "cell_type": "code",
   "execution_count": 2,
   "id": "0721c068",
   "metadata": {},
   "outputs": [],
   "source": [
    "from sqlalchemy import create_engine\n",
    "\n",
    "engine = create_engine('sqlite:///banco.db', echo=True)"
   ]
  },
  {
   "cell_type": "markdown",
   "id": "91802976",
   "metadata": {},
   "source": [
    "A flag echo é um atalho para configurar o **logging** do SQLAlchemy, que é realizado por meio do módulo **[logging](https://docs.python.org/3/library/logging.html)** padrão do Python. Com ele habilitado, veremos todo o SQL gerado produzido.\n",
    "\n",
    "O valor de retorno de **create_engine()** é uma instância de **Engine** e representa a interface principal para o banco de dados, adaptada por meio de um dialeto que trata dos detalhes do banco de dados e DBAPI em uso. Nesse caso, o dialeto SQLite interpretará as instruções para o módulo **[sqlite3](https://docs.python.org/3/library/sqlite3.html)** embutido no Python.\n",
    "\n",
    "Na primeira vez que um método como **Engine.execute()** ou **Engine.connect()** é chamado, o engine estabelece uma conexão DBAPI real com o banco de dados, que é então usado para emitir o SQL. Ao usar o ORM, normalmente não usamos o Engine diretamente depois de criado; em vez disso, ele é usado nos bastidores pelo ORM, como veremos em breve."
   ]
  },
  {
   "cell_type": "markdown",
   "id": "2e8d75e7",
   "metadata": {},
   "source": [
    "## Declarando um Mapping\n",
    "\n",
    "Ao usar o ORM, o processo de configuração começa descrevendo as tabelas do banco de dados com as quais estaremos lidando e, em seguida, definindo nossas próprias classes que serão mapeadas para essas tabelas. No SQLAlchemy moderno, essas duas tarefas geralmente são executadas juntas, usando um sistema conhecido como [Declarative Extensions](https://docs.sqlalchemy.org/en/14/orm/extensions/declarative/index.html), que nos permite criar classes que incluem diretivas para descrever a tabela real do banco de dados para a qual serão mapeados.\n",
    "\n",
    "As classes mapeadas usando o sistema Declarativo são definidas em termos de uma classe base que mantém um catálogo de classes e tabelas relativas a essa base - isso é conhecido como **declarative base class**. Nosso aplicativo normalmente terá apenas uma instância dessa base em um módulo comumente importado. Criamos a classe base usando a função **declarative_base()**, da seguinte maneira:"
   ]
  },
  {
   "cell_type": "code",
   "execution_count": 3,
   "id": "85581c14",
   "metadata": {},
   "outputs": [],
   "source": [
    "from sqlalchemy.orm import declarative_base\n",
    "\n",
    "Base = declarative_base()"
   ]
  },
  {
   "cell_type": "markdown",
   "id": "cd733dd2",
   "metadata": {},
   "source": [
    "Agora que temos uma “base”, podemos definir qualquer número de classes mapeadas em termos dela. \n",
    "\n",
    "Começaremos com apenas uma única tabela chamada **Usuários**, que armazenará os registros dos usuários finais que usam nosso aplicativo. Uma nova classe chamada **Usuário** será a classe para a qual mapearemos esta tabela. Dentro da classe, definimos detalhes sobre a tabela para a qual iremos mapear, principalmente o nome da tabela e os nomes e tipos de dados das colunas:"
   ]
  },
  {
   "cell_type": "code",
   "execution_count": 4,
   "id": "0c7f03f3",
   "metadata": {},
   "outputs": [],
   "source": [
    "from sqlalchemy import Column, Integer, String\n",
    "\n",
    "class Usuário(Base):\n",
    "    __tablename__ = 'usuários'\n",
    "\n",
    "    id = Column(Integer, primary_key=True)\n",
    "    nome = Column(String)\n",
    "    sobrenome = Column(String)\n",
    "    apelido = Column(String)\n",
    "\n",
    "    def __repr__(self):\n",
    "        return f\"<Usuário(nome='{self.nome}', apelido='{self.apelido}')>\" "
   ]
  },
  {
   "cell_type": "markdown",
   "id": "5f32cba4",
   "metadata": {},
   "source": [
    "Uma classe que usa Declarativo precisa no mínimo de um atributo **__tablename__** e pelo menos uma coluna que faz parte de uma **chave primária**. \n",
    "\n",
    "SQLAlchemy nunca faz suposições sobre a tabela à qual uma classe se refere, incluindo que ela não possui convenções para nomes, tipos de dados ou restrições. Mas isso não significa que o boilerplate seja necessário; em vez disso, você é encorajado a criar suas próprias convenções automatizadas usando funções auxiliares e classes mixin, que são descritas em detalhes em [Mixin and Custom Base Classes](https://docs.sqlalchemy.org/en/14/orm/extensions/declarative/mixins.html#declarative-mixins).\n",
    "\n",
    "Quando nossa classe é construída, Declarative substitui todos os objetos Column por acessadores Python especiais conhecidos como [descriptors](https://docs.sqlalchemy.org/en/14/glossary.html#term-descriptors); este é um processo conhecido como instrumentação. A classe mapeada “instrumentada” nos fornecerá os meios para fazer referência à nossa tabela em um contexto SQL, bem como para persistir e carregar os valores das colunas do banco de dados.\n",
    "\n",
    "Fora do que o processo de mapeamento faz para nossa classe, a classe permanece de outra forma principalmente uma classe Python normal, para a qual podemos definir qualquer número de atributos e métodos comuns necessários para nosso aplicativo."
   ]
  },
  {
   "cell_type": "markdown",
   "id": "2a28976b",
   "metadata": {},
   "source": [
    "## Criando um Schema\n",
    "\n",
    "Com nossa classe **Usuário** construída por meio do sistema Declarativo, definimos informações sobre nossa tabela, conhecidas como metadados de tabela. O objeto usado por SQLAlchemy para representar essas informações para uma tabela específica é chamado de objeto [Table](https://docs.sqlalchemy.org/en/14/core/metadata.html#sqlalchemy.schema.Table), e aqui o Declarative fez um para nós. \n",
    "\n",
    "Podemos ver esse objeto inspecionando o atributo **__table__**:"
   ]
  },
  {
   "cell_type": "code",
   "execution_count": 5,
   "id": "99349dac",
   "metadata": {},
   "outputs": [
    {
     "data": {
      "text/plain": [
       "Table('usuários', MetaData(), Column('id', Integer(), table=<usuários>, primary_key=True, nullable=False), Column('nome', String(), table=<usuários>), Column('sobrenome', String(), table=<usuários>), Column('apelido', String(), table=<usuários>), schema=None)"
      ]
     },
     "execution_count": 5,
     "metadata": {},
     "output_type": "execute_result"
    }
   ],
   "source": [
    "Usuário.__table__ "
   ]
  },
  {
   "cell_type": "markdown",
   "id": "62e0ee10",
   "metadata": {},
   "source": [
    "Quando declaramos nossa classe, Declarative usou uma metaclasse Python para realizar atividades adicionais uma vez que a declaração da classe foi concluída; dentro dessa fase, ele criou um objeto **Table** de acordo com nossas especificações e o associou à classe construindo um objeto [Mapper](https://docs.sqlalchemy.org/en/14/orm/mapping_api.html#sqlalchemy.orm.Mapper). Este objeto é um objeto de bastidores com o qual normalmente não precisamos lidar diretamente (embora ele possa fornecer muitas informações sobre o nosso mapeamento quando precisamos).\n",
    "\n",
    "O objeto **Table** é membro de uma coleção maior conhecida como [MetaData](https://docs.sqlalchemy.org/en/14/core/metadata.html#sqlalchemy.schema.MetaData). Ao usar Declarative, este objeto está disponível usando o atributo **.metadata** de nossa classe base declarativa.\n",
    "\n",
    "O **MetaData** é um registro que inclui a capacidade de emitir um conjunto limitado de comandos de geração de esquema para o banco de dados. Como nosso banco de dados SQLite não tem realmente uma tabela de **usuários** presente, podemos usar MetaData para emitir instruções **CREATE TABLE** para o banco de dados para todas as tabelas que ainda não existem. \n",
    "\n",
    "Abaixo, chamamos o método **MetaData.create_all()**, passando em nosso Engine como uma fonte de conectividade de banco de dados. Veremos que comandos especiais são emitidos primeiro para verificar a presença da tabela de usuários e, em seguida, a instrução **CREATE TABLE** real:"
   ]
  },
  {
   "cell_type": "code",
   "execution_count": 6,
   "id": "cffe4876",
   "metadata": {},
   "outputs": [
    {
     "name": "stdout",
     "output_type": "stream",
     "text": [
      "2021-06-01 23:01:49,344 INFO sqlalchemy.engine.Engine BEGIN (implicit)\n",
      "2021-06-01 23:01:49,345 INFO sqlalchemy.engine.Engine PRAGMA main.table_info(\"usuários\")\n",
      "2021-06-01 23:01:49,346 INFO sqlalchemy.engine.Engine [raw sql] ()\n",
      "2021-06-01 23:01:49,348 INFO sqlalchemy.engine.Engine PRAGMA temp.table_info(\"usuários\")\n",
      "2021-06-01 23:01:49,349 INFO sqlalchemy.engine.Engine [raw sql] ()\n",
      "2021-06-01 23:01:49,351 INFO sqlalchemy.engine.Engine \n",
      "CREATE TABLE \"usuários\" (\n",
      "\tid INTEGER NOT NULL, \n",
      "\tnome VARCHAR, \n",
      "\tsobrenome VARCHAR, \n",
      "\tapelido VARCHAR, \n",
      "\tPRIMARY KEY (id)\n",
      ")\n",
      "\n",
      "\n",
      "2021-06-01 23:01:49,352 INFO sqlalchemy.engine.Engine [no key 0.00098s] ()\n",
      "2021-06-01 23:01:49,549 INFO sqlalchemy.engine.Engine COMMIT\n"
     ]
    }
   ],
   "source": [
    "Base.metadata.create_all(engine)"
   ]
  },
  {
   "cell_type": "markdown",
   "id": "0c66ba5b",
   "metadata": {},
   "source": [
    "## Criando uma Instância da Classe Mapeada\n",
    "\n",
    "Com os mapeamentos concluídos, vamos agora criar e inspecionar um objeto **Usuário**:"
   ]
  },
  {
   "cell_type": "code",
   "execution_count": 7,
   "id": "3c87a486",
   "metadata": {},
   "outputs": [
    {
     "name": "stdout",
     "output_type": "stream",
     "text": [
      "Nome: Gabriel, Sobrenome: Felippe, Apelido: Akira\n"
     ]
    }
   ],
   "source": [
    "user = Usuário(nome='Gabriel', sobrenome='Felippe', apelido='Akira')\n",
    "print(f'Nome: {user.nome}, Sobrenome: {user.sobrenome}, Apelido: {user.apelido}')"
   ]
  },
  {
   "cell_type": "markdown",
   "id": "3ba7c209",
   "metadata": {},
   "source": [
    "Mesmo que não o tenhamos especificado no construtor, o atributo **id** ainda produz um valor de **None** quando o acessamos (em oposição ao comportamento normal do Python de lançar **AttributeError** para um atributo indefinido). \n",
    "\n",
    "A instrumentação SQLAlchemy normalmente produz este valor padrão para atributos mapeados em coluna quando acessado pela primeira vez. Para aqueles atributos em que realmente atribuímos um valor, o sistema de instrumentação está rastreando essas atribuições para uso em uma eventual instrução **INSERT** a ser emitida para o banco de dados."
   ]
  },
  {
   "cell_type": "markdown",
   "id": "db50ffce",
   "metadata": {},
   "source": [
    "## Criando uma Session\n",
    "\n",
    "Agora estamos prontos para começar a conversar com o banco de dados.\n",
    "\n",
    "O \"handle\" do ORM para o banco de dados é a **[Session](https://docs.sqlalchemy.org/en/14/orm/session_api.html#sqlalchemy.orm.Session)**. Quando configuramos o aplicativo pela primeira vez, no mesmo nível de nossa instrução **create_engine()**, definimos uma classe Session que servirá como uma fábrica para novos objetos Session:"
   ]
  },
  {
   "cell_type": "code",
   "execution_count": 8,
   "id": "3d5c7246",
   "metadata": {},
   "outputs": [],
   "source": [
    "from sqlalchemy.orm import sessionmaker\n",
    "\n",
    "Session = sessionmaker(bind=engine)"
   ]
  },
  {
   "cell_type": "markdown",
   "id": "ecda64b3",
   "metadata": {},
   "source": [
    "Esta classe de **Session** feita sob medida criará novos objetos **Session** que são vinculados ao nosso banco de dados."
   ]
  },
  {
   "cell_type": "markdown",
   "id": "79bcc787",
   "metadata": {},
   "source": [
    "## Adicionando e Atualizando Objetos\n",
    "\n",
    "Para persistir nosso objeto **Usuário**, nós usamos **Session.add()** para nossa **Session**:"
   ]
  },
  {
   "cell_type": "code",
   "execution_count": 9,
   "id": "908868f4",
   "metadata": {},
   "outputs": [],
   "source": [
    "session = Session()\n",
    "session.add(user)"
   ]
  },
  {
   "cell_type": "markdown",
   "id": "aef018a4",
   "metadata": {},
   "source": [
    "Neste ponto, dizemos que a instância está **pendente**; nenhum SQL ainda foi emitido e o objeto ainda não foi representado por uma linha no banco de dados. A session emitirá o SQL para persistir **Gabriel** assim que for necessário, usando um processo conhecido como **flush**. Se consultarmos o banco de dados por **Gabriel**, todas as informações pendentes serão liberadas primeiro e a consulta será emitida imediatamente depois.\n",
    "\n",
    "Por exemplo, a seguir criamos um novo objeto **[Query](https://docs.sqlalchemy.org/en/14/orm/query.html#sqlalchemy.orm.Query)** que carrega instâncias de Usuário. Nós “filtramos por” o atributo de **nome** 'Gabriel' e indicamos que gostaríamos apenas do primeiro resultado na lista completa de linhas. \n",
    "\n",
    "Uma instância de usuário é retornada que é equivalente àquela que adicionamos:"
   ]
  },
  {
   "cell_type": "code",
   "execution_count": 10,
   "id": "b66f1ac7",
   "metadata": {},
   "outputs": [
    {
     "name": "stdout",
     "output_type": "stream",
     "text": [
      "2021-06-01 23:01:49,898 INFO sqlalchemy.engine.Engine BEGIN (implicit)\n",
      "2021-06-01 23:01:49,901 INFO sqlalchemy.engine.Engine INSERT INTO \"usuários\" (nome, sobrenome, apelido) VALUES (?, ?, ?)\n",
      "2021-06-01 23:01:49,902 INFO sqlalchemy.engine.Engine [generated in 0.00128s] ('Gabriel', 'Felippe', 'Akira')\n",
      "2021-06-01 23:01:49,919 INFO sqlalchemy.engine.Engine SELECT \"usuários\".id AS \"usuários_id\", \"usuários\".nome AS \"usuários_nome\", \"usuários\".sobrenome AS \"usuários_sobrenome\", \"usuários\".apelido AS \"usuários_apelido\" \n",
      "FROM \"usuários\" \n",
      "WHERE \"usuários\".nome = ?\n",
      " LIMIT ? OFFSET ?\n",
      "2021-06-01 23:01:49,920 INFO sqlalchemy.engine.Engine [generated in 0.00142s] ('Gabriel', 1, 0)\n"
     ]
    }
   ],
   "source": [
    "our_user = session.query(Usuário).filter_by(nome='Gabriel').first() "
   ]
  },
  {
   "cell_type": "code",
   "execution_count": 11,
   "id": "9e89ce32",
   "metadata": {},
   "outputs": [
    {
     "name": "stdout",
     "output_type": "stream",
     "text": [
      "<Usuário(nome='Gabriel', apelido='Akira')>\n"
     ]
    }
   ],
   "source": [
    "print(our_user)"
   ]
  },
  {
   "cell_type": "markdown",
   "id": "8768a456",
   "metadata": {},
   "source": [
    "Na verdade, a **Session** identificou que a linha retornada é a mesma linha já representada em seu mapa interno de objetos, então, na verdade, recebemos de volta a instância idêntica àquela que acabamos de adicionar:"
   ]
  },
  {
   "cell_type": "code",
   "execution_count": 12,
   "id": "a2c3e1bb",
   "metadata": {},
   "outputs": [
    {
     "data": {
      "text/plain": [
       "True"
      ]
     },
     "execution_count": 12,
     "metadata": {},
     "output_type": "execute_result"
    }
   ],
   "source": [
    "our_user is user"
   ]
  },
  {
   "cell_type": "markdown",
   "id": "39bf01ae",
   "metadata": {},
   "source": [
    "O conceito ORM em ação aqui é conhecido como um [identity map](https://docs.sqlalchemy.org/en/14/glossary.html#term-identity-map) e garante que todas as operações em uma linha específica dentro de uma **Session** operem no mesmo conjunto de dados. Uma vez que um objeto com uma chave primária específica esteja presente na **Session**, todas as consultas SQL nessa **Session** sempre retornarão o mesmo objeto Python para aquela chave primária específica; ele também gerará um erro se for feita uma tentativa de colocar um segundo objeto já persistido com a mesma chave primária dentro da session.\n",
    "\n",
    "Podemos adicionar mais objetos **Usuário** de uma vez usando **add_all()**:"
   ]
  },
  {
   "cell_type": "code",
   "execution_count": 13,
   "id": "1dcae0de",
   "metadata": {},
   "outputs": [],
   "source": [
    "session.add_all([\n",
    "    Usuário(nome='Rafael', sobrenome='Salgado', apelido='Rafa'),\n",
    "    Usuário(nome='Samuel', sobrenome='Pereira', apelido='Samu'),\n",
    "    Usuário(nome='Maria', sobrenome='Oliveira', apelido='Mari')\n",
    "])"
   ]
  },
  {
   "cell_type": "markdown",
   "id": "75896c3d",
   "metadata": {},
   "source": [
    "Além disso, decidimos que o apelido atual de **Gabriel** não é tão bom, então podemos mudá-lo:"
   ]
  },
  {
   "cell_type": "code",
   "execution_count": 14,
   "id": "e88eed31",
   "metadata": {},
   "outputs": [],
   "source": [
    "user.apelido = 'Biel'"
   ]
  },
  {
   "cell_type": "markdown",
   "id": "3a0cdcd8",
   "metadata": {},
   "source": [
    "A **Session** está prestando atenção. Ela sabe, por exemplo, que **Gabriel** foi modificado:"
   ]
  },
  {
   "cell_type": "code",
   "execution_count": 15,
   "id": "11e80fbd",
   "metadata": {},
   "outputs": [
    {
     "data": {
      "text/plain": [
       "IdentitySet([<Usuário(nome='Gabriel', apelido='Biel')>])"
      ]
     },
     "execution_count": 15,
     "metadata": {},
     "output_type": "execute_result"
    }
   ],
   "source": [
    "session.dirty"
   ]
  },
  {
   "cell_type": "markdown",
   "id": "82fbedf5",
   "metadata": {},
   "source": [
    "E também sabe que três novos objetos **Usuário** estão pendentes:"
   ]
  },
  {
   "cell_type": "code",
   "execution_count": 16,
   "id": "5c230c55",
   "metadata": {},
   "outputs": [
    {
     "data": {
      "text/plain": [
       "IdentitySet([<Usuário(nome='Rafael', apelido='Rafa')>, <Usuário(nome='Samuel', apelido='Samu')>, <Usuário(nome='Maria', apelido='Mari')>])"
      ]
     },
     "execution_count": 16,
     "metadata": {},
     "output_type": "execute_result"
    }
   ],
   "source": [
    "session.new  "
   ]
  },
  {
   "cell_type": "markdown",
   "id": "08e1b00c",
   "metadata": {},
   "source": [
    "Então dizemos à **Session** que gostaríamos de emitir todas as alterações restantes no banco de dados e confirmar a transação, que está em andamento desde o início. \n",
    "\n",
    "Fazemos isso através de **Session.commit()**. A **Session** emite a instrução **UPDATE** para a alteração do apelido em \"Gabriel\", bem como as instruções **INSERT** para os três novos objetos User que adicionamos:"
   ]
  },
  {
   "cell_type": "code",
   "execution_count": 17,
   "id": "b1280570",
   "metadata": {},
   "outputs": [
    {
     "name": "stdout",
     "output_type": "stream",
     "text": [
      "2021-06-01 23:01:50,703 INFO sqlalchemy.engine.Engine UPDATE \"usuários\" SET apelido=? WHERE \"usuários\".id = ?\n",
      "2021-06-01 23:01:50,707 INFO sqlalchemy.engine.Engine [generated in 0.00429s] ('Biel', 1)\n",
      "2021-06-01 23:01:50,711 INFO sqlalchemy.engine.Engine INSERT INTO \"usuários\" (nome, sobrenome, apelido) VALUES (?, ?, ?)\n",
      "2021-06-01 23:01:50,713 INFO sqlalchemy.engine.Engine [cached since 0.8115s ago] ('Rafael', 'Salgado', 'Rafa')\n",
      "2021-06-01 23:01:50,715 INFO sqlalchemy.engine.Engine INSERT INTO \"usuários\" (nome, sobrenome, apelido) VALUES (?, ?, ?)\n",
      "2021-06-01 23:01:50,716 INFO sqlalchemy.engine.Engine [cached since 0.8154s ago] ('Samuel', 'Pereira', 'Samu')\n",
      "2021-06-01 23:01:50,718 INFO sqlalchemy.engine.Engine INSERT INTO \"usuários\" (nome, sobrenome, apelido) VALUES (?, ?, ?)\n",
      "2021-06-01 23:01:50,720 INFO sqlalchemy.engine.Engine [cached since 0.8188s ago] ('Maria', 'Oliveira', 'Mari')\n",
      "2021-06-01 23:01:50,724 INFO sqlalchemy.engine.Engine COMMIT\n"
     ]
    }
   ],
   "source": [
    "session.commit()"
   ]
  },
  {
   "cell_type": "markdown",
   "id": "1fd509bd",
   "metadata": {},
   "source": [
    "**Session.commit()** libera as alterações restantes no banco de dados e confirma a transação. Os recursos de conexão referenciados pela session agora são retornados ao connection pool. As operações subsequentes com esta session ocorrerão em uma nova transação, que irá readquirir novamente os recursos de conexão quando necessário.\n",
    "\n",
    "Se olharmos para o atributo **id** de **Gabriel**, que antes era **None**, agora tem um valor:"
   ]
  },
  {
   "cell_type": "code",
   "execution_count": 18,
   "id": "551eeb4d",
   "metadata": {},
   "outputs": [
    {
     "name": "stdout",
     "output_type": "stream",
     "text": [
      "2021-06-01 23:01:50,928 INFO sqlalchemy.engine.Engine BEGIN (implicit)\n",
      "2021-06-01 23:01:50,934 INFO sqlalchemy.engine.Engine SELECT \"usuários\".id AS \"usuários_id\", \"usuários\".nome AS \"usuários_nome\", \"usuários\".sobrenome AS \"usuários_sobrenome\", \"usuários\".apelido AS \"usuários_apelido\" \n",
      "FROM \"usuários\" \n",
      "WHERE \"usuários\".id = ?\n",
      "2021-06-01 23:01:50,942 INFO sqlalchemy.engine.Engine [generated in 0.00770s] (1,)\n",
      "1\n"
     ]
    }
   ],
   "source": [
    "print(user.id)"
   ]
  },
  {
   "cell_type": "markdown",
   "id": "5783e54e",
   "metadata": {},
   "source": [
    "Após a **Session** inserir novas linhas no banco de dados, todos os identificadores recém-gerados e padrões gerados pelo banco de dados tornam-se disponíveis na instância, imediatamente ou por meio de carregamento no primeiro acesso. \n",
    "\n",
    "Nesse caso, toda a linha foi recarregada no acesso porque uma nova transação foi iniciada depois que emitimos **Session.commit()**. O SQLAlchemy, por padrão, atualiza os dados de uma transação anterior na primeira vez em que é acessado em uma nova transação, para que o estado mais recente esteja disponível. O nível de recarregamento é configurável conforme descrito em [Using the Session](https://docs.sqlalchemy.org/en/14/orm/session.html).\n",
    "\n",
    "#### Estados de Objeto da Session\n",
    "\n",
    "À medida que nosso objeto **Usuário** mudou de fora da **Session** para dentro da **Session** sem uma chave primária, para realmente ser inserido, ele mudou entre três dos cinco “estados de objeto” disponíveis - **transitório**, **pendente** e **persistente**."
   ]
  },
  {
   "cell_type": "markdown",
   "id": "8058b2ec",
   "metadata": {},
   "source": [
    "## Rolling Back\n",
    "\n",
    "Uma vez que a **Session** funciona dentro de uma transação, podemos reverter as alterações feitas também. Vamos fazer duas alterações que reverteremos; O nome de usuário de **user** é definido como **Gabriela**:"
   ]
  },
  {
   "cell_type": "code",
   "execution_count": 19,
   "id": "1c238fff",
   "metadata": {},
   "outputs": [],
   "source": [
    "user.nome = 'Gabriela'"
   ]
  },
  {
   "cell_type": "markdown",
   "id": "53c28e68",
   "metadata": {},
   "source": [
    "Também adicionaremos outro usuário incorreto, **fake_user**:"
   ]
  },
  {
   "cell_type": "code",
   "execution_count": 20,
   "id": "f438b7d8",
   "metadata": {},
   "outputs": [],
   "source": [
    "fake_user = Usuário(nome='José', sobrenome='Pedro', apelido='999')\n",
    "session.add(fake_user)"
   ]
  },
  {
   "cell_type": "markdown",
   "id": "034782ad",
   "metadata": {},
   "source": [
    "Consultando a **session**, podemos ver que eles foram incluídos na transação atual:"
   ]
  },
  {
   "cell_type": "code",
   "execution_count": 21,
   "id": "2aaf123a",
   "metadata": {},
   "outputs": [
    {
     "name": "stdout",
     "output_type": "stream",
     "text": [
      "2021-06-01 23:01:51,262 INFO sqlalchemy.engine.Engine UPDATE \"usuários\" SET nome=? WHERE \"usuários\".id = ?\n",
      "2021-06-01 23:01:51,271 INFO sqlalchemy.engine.Engine [generated in 0.00861s] ('Gabriela', 1)\n",
      "2021-06-01 23:01:51,277 INFO sqlalchemy.engine.Engine INSERT INTO \"usuários\" (nome, sobrenome, apelido) VALUES (?, ?, ?)\n",
      "2021-06-01 23:01:51,279 INFO sqlalchemy.engine.Engine [cached since 1.378s ago] ('José', 'Pedro', '999')\n",
      "2021-06-01 23:01:51,286 INFO sqlalchemy.engine.Engine SELECT \"usuários\".id AS \"usuários_id\", \"usuários\".nome AS \"usuários_nome\", \"usuários\".sobrenome AS \"usuários_sobrenome\", \"usuários\".apelido AS \"usuários_apelido\" \n",
      "FROM \"usuários\" \n",
      "WHERE \"usuários\".nome IN (?, ?)\n",
      "2021-06-01 23:01:51,287 INFO sqlalchemy.engine.Engine [generated in 0.00202s] ('Gabriela', 'José')\n"
     ]
    },
    {
     "data": {
      "text/plain": [
       "[<Usuário(nome='Gabriela', apelido='Biel')>,\n",
       " <Usuário(nome='José', apelido='999')>]"
      ]
     },
     "execution_count": 21,
     "metadata": {},
     "output_type": "execute_result"
    }
   ],
   "source": [
    "session.query(Usuário).filter(Usuário.nome.in_(['Gabriela', 'José'])).all()"
   ]
  },
  {
   "cell_type": "markdown",
   "id": "db0e775b",
   "metadata": {},
   "source": [
    "Revertendo (Rolling back), podemos ver que o nome de **user** voltou a ser **Gabriel**, e **fake_user** foi expulso da session:"
   ]
  },
  {
   "cell_type": "code",
   "execution_count": 22,
   "id": "fe1e4f65",
   "metadata": {},
   "outputs": [
    {
     "name": "stdout",
     "output_type": "stream",
     "text": [
      "2021-06-01 23:01:51,383 INFO sqlalchemy.engine.Engine ROLLBACK\n"
     ]
    }
   ],
   "source": [
    "session.rollback()"
   ]
  },
  {
   "cell_type": "code",
   "execution_count": 23,
   "id": "a7a3a915",
   "metadata": {},
   "outputs": [
    {
     "name": "stdout",
     "output_type": "stream",
     "text": [
      "2021-06-01 23:01:51,504 INFO sqlalchemy.engine.Engine BEGIN (implicit)\n",
      "2021-06-01 23:01:51,509 INFO sqlalchemy.engine.Engine SELECT \"usuários\".id AS \"usuários_id\", \"usuários\".nome AS \"usuários_nome\", \"usuários\".sobrenome AS \"usuários_sobrenome\", \"usuários\".apelido AS \"usuários_apelido\" \n",
      "FROM \"usuários\" \n",
      "WHERE \"usuários\".id = ?\n",
      "2021-06-01 23:01:51,513 INFO sqlalchemy.engine.Engine [cached since 0.5789s ago] (1,)\n"
     ]
    },
    {
     "data": {
      "text/plain": [
       "'Gabriel'"
      ]
     },
     "execution_count": 23,
     "metadata": {},
     "output_type": "execute_result"
    }
   ],
   "source": [
    "user.nome"
   ]
  },
  {
   "cell_type": "code",
   "execution_count": 24,
   "id": "71021751",
   "metadata": {},
   "outputs": [
    {
     "data": {
      "text/plain": [
       "False"
      ]
     },
     "execution_count": 24,
     "metadata": {},
     "output_type": "execute_result"
    }
   ],
   "source": [
    "fake_user in session"
   ]
  },
  {
   "cell_type": "markdown",
   "id": "c438074e",
   "metadata": {},
   "source": [
    "Emitir um **SELECT** ilustra as mudanças feitas no banco de dados:"
   ]
  },
  {
   "cell_type": "code",
   "execution_count": 25,
   "id": "9234bd97",
   "metadata": {},
   "outputs": [
    {
     "name": "stdout",
     "output_type": "stream",
     "text": [
      "2021-06-01 23:01:51,735 INFO sqlalchemy.engine.Engine SELECT \"usuários\".id AS \"usuários_id\", \"usuários\".nome AS \"usuários_nome\", \"usuários\".sobrenome AS \"usuários_sobrenome\", \"usuários\".apelido AS \"usuários_apelido\" \n",
      "FROM \"usuários\" \n",
      "WHERE \"usuários\".nome IN (?, ?)\n",
      "2021-06-01 23:01:51,740 INFO sqlalchemy.engine.Engine [cached since 0.455s ago] ('Gabriel', 'José')\n"
     ]
    },
    {
     "data": {
      "text/plain": [
       "[<Usuário(nome='Gabriel', apelido='Biel')>]"
      ]
     },
     "execution_count": 25,
     "metadata": {},
     "output_type": "execute_result"
    }
   ],
   "source": [
    "session.query(Usuário).filter(Usuário.nome.in_(['Gabriel', 'José'])).all()"
   ]
  },
  {
   "cell_type": "markdown",
   "id": "40cffd25",
   "metadata": {},
   "source": [
    "## Querying\n",
    "\n",
    "Um objeto [Query](https://docs.sqlalchemy.org/en/14/orm/query.html#sqlalchemy.orm.Query) é criado usando o método **query()** na **Session**.\n",
    "\n",
    "Essa função recebe um número variável de argumentos, que podem ser qualquer combinação de classes e *class-instrumented descriptors*. \n",
    "\n",
    "Abaixo, indicamos uma Consulta (Query) que carrega as instâncias do **Usuário**. Quando avaliada em um contexto iterativo, a lista de objetos **Usuário** presentes é retornada:"
   ]
  },
  {
   "cell_type": "code",
   "execution_count": 26,
   "id": "a4ca52cf",
   "metadata": {},
   "outputs": [
    {
     "name": "stdout",
     "output_type": "stream",
     "text": [
      "2021-06-01 23:01:51,828 INFO sqlalchemy.engine.Engine SELECT \"usuários\".id AS \"usuários_id\", \"usuários\".nome AS \"usuários_nome\", \"usuários\".sobrenome AS \"usuários_sobrenome\", \"usuários\".apelido AS \"usuários_apelido\" \n",
      "FROM \"usuários\" ORDER BY \"usuários\".id\n",
      "2021-06-01 23:01:51,835 INFO sqlalchemy.engine.Engine [generated in 0.00719s] ()\n",
      "Gabriel Felippe\n",
      "Rafael Salgado\n",
      "Samuel Pereira\n",
      "Maria Oliveira\n"
     ]
    }
   ],
   "source": [
    "for instance in session.query(Usuário).order_by(Usuário.id):\n",
    "    print(instance.nome, instance.sobrenome)"
   ]
  },
  {
   "cell_type": "markdown",
   "id": "a0ea2785",
   "metadata": {},
   "source": [
    "A **Query** também aceita **ORM-instrumented descriptors** como argumentos. \n",
    "\n",
    "Sempre que várias entidades de classe ou entidades baseadas em coluna são expressas como argumentos para a função **query()**, o resultado de retorno é expresso como tuplas:"
   ]
  },
  {
   "cell_type": "code",
   "execution_count": 27,
   "id": "76df4f24",
   "metadata": {},
   "outputs": [
    {
     "name": "stdout",
     "output_type": "stream",
     "text": [
      "2021-06-01 23:01:51,948 INFO sqlalchemy.engine.Engine SELECT \"usuários\".nome AS \"usuários_nome\", \"usuários\".sobrenome AS \"usuários_sobrenome\" \n",
      "FROM \"usuários\"\n",
      "2021-06-01 23:01:51,954 INFO sqlalchemy.engine.Engine [generated in 0.00553s] ()\n",
      "Gabriel Felippe\n",
      "Rafael Salgado\n",
      "Samuel Pereira\n",
      "Maria Oliveira\n"
     ]
    }
   ],
   "source": [
    "for nome, sobrenome in session.query(Usuário.nome, Usuário.sobrenome):\n",
    "    print(nome, sobrenome)"
   ]
  },
  {
   "cell_type": "markdown",
   "id": "2245920a",
   "metadata": {},
   "source": [
    "As tuplas retornadas por Query são **named tuples**, fornecidas pela classe [Row](https://docs.sqlalchemy.org/en/14/core/connections.html#sqlalchemy.engine.Row) e podem ser tratadas como um objeto Python comum. \n",
    "\n",
    "Os nomes são iguais ao nome do atributo para um atributo e ao nome da classe para uma classe:"
   ]
  },
  {
   "cell_type": "code",
   "execution_count": 28,
   "id": "9e0812db",
   "metadata": {},
   "outputs": [
    {
     "name": "stdout",
     "output_type": "stream",
     "text": [
      "2021-06-01 23:01:52,058 INFO sqlalchemy.engine.Engine SELECT \"usuários\".id AS \"usuários_id\", \"usuários\".nome AS \"usuários_nome\", \"usuários\".sobrenome AS \"usuários_sobrenome\", \"usuários\".apelido AS \"usuários_apelido\" \n",
      "FROM \"usuários\"\n",
      "2021-06-01 23:01:52,062 INFO sqlalchemy.engine.Engine [generated in 0.00439s] ()\n",
      "<Usuário(nome='Gabriel', apelido='Biel')> Gabriel\n",
      "<Usuário(nome='Rafael', apelido='Rafa')> Rafael\n",
      "<Usuário(nome='Samuel', apelido='Samu')> Samuel\n",
      "<Usuário(nome='Maria', apelido='Mari')> Maria\n"
     ]
    }
   ],
   "source": [
    "for row in session.query(Usuário, Usuário.nome).all():\n",
    "    print(row.Usuário, row.nome)"
   ]
  },
  {
   "cell_type": "markdown",
   "id": "10304125",
   "metadata": {},
   "source": [
    "Você pode controlar os nomes de expressões de coluna individuais usando a construção [ColumnElement.label()](https://docs.sqlalchemy.org/en/14/core/sqlelement.html#sqlalchemy.sql.expression.ColumnElement.label), que está disponível em qualquer objeto derivado de [ColumnElement](https://docs.sqlalchemy.org/en/14/core/sqlelement.html#sqlalchemy.sql.expression.ColumnElement), bem como qualquer atributo de classe mapeado para um (como **Usuário.nome**):"
   ]
  },
  {
   "cell_type": "code",
   "execution_count": 29,
   "id": "6d5ad687",
   "metadata": {},
   "outputs": [
    {
     "name": "stdout",
     "output_type": "stream",
     "text": [
      "2021-06-01 23:01:52,156 INFO sqlalchemy.engine.Engine SELECT \"usuários\".nome AS username \n",
      "FROM \"usuários\"\n",
      "2021-06-01 23:01:52,158 INFO sqlalchemy.engine.Engine [generated in 0.00242s] ()\n",
      "Gabriel\n",
      "Rafael\n",
      "Samuel\n",
      "Maria\n"
     ]
    }
   ],
   "source": [
    "for row in session.query(Usuário.nome.label('username')).all():\n",
    "    print(row.username)"
   ]
  },
  {
   "cell_type": "markdown",
   "id": "e4ed4296",
   "metadata": {},
   "source": [
    "O nome dado a uma entidade completa, como **Usuário**, assumindo que várias entidades estão presentes na chamada para [Session.query()](https://docs.sqlalchemy.org/en/14/orm/session_api.html#sqlalchemy.orm.Session.query), pode ser controlado usando [aliased()](https://docs.sqlalchemy.org/en/14/orm/query.html#sqlalchemy.orm.aliased):"
   ]
  },
  {
   "cell_type": "code",
   "execution_count": 30,
   "id": "93416afe",
   "metadata": {},
   "outputs": [
    {
     "name": "stdout",
     "output_type": "stream",
     "text": [
      "2021-06-01 23:01:52,284 INFO sqlalchemy.engine.Engine SELECT user_alias.id AS user_alias_id, user_alias.nome AS user_alias_nome, user_alias.sobrenome AS user_alias_sobrenome, user_alias.apelido AS user_alias_apelido \n",
      "FROM \"usuários\" AS user_alias\n",
      "2021-06-01 23:01:52,292 INFO sqlalchemy.engine.Engine [generated in 0.00915s] ()\n",
      "<Usuário(nome='Gabriel', apelido='Biel')>\n",
      "<Usuário(nome='Rafael', apelido='Rafa')>\n",
      "<Usuário(nome='Samuel', apelido='Samu')>\n",
      "<Usuário(nome='Maria', apelido='Mari')>\n"
     ]
    }
   ],
   "source": [
    "from sqlalchemy.orm import aliased\n",
    "\n",
    "user_alias = aliased(Usuário, name='user_alias')\n",
    "\n",
    "for row in session.query(user_alias, user_alias.nome).all():\n",
    "    print(row.user_alias)"
   ]
  },
  {
   "cell_type": "markdown",
   "id": "e31466f4",
   "metadata": {},
   "source": [
    "As operações básicas com Query incluem emitir **LIMIT** e **OFFSET**, mais convenientemente usando slices de array Python e normalmente em conjunto com **ORDER BY**:"
   ]
  },
  {
   "cell_type": "code",
   "execution_count": 31,
   "id": "a69820d2",
   "metadata": {},
   "outputs": [
    {
     "name": "stdout",
     "output_type": "stream",
     "text": [
      "2021-06-01 23:01:52,389 INFO sqlalchemy.engine.Engine SELECT \"usuários\".id AS \"usuários_id\", \"usuários\".nome AS \"usuários_nome\", \"usuários\".sobrenome AS \"usuários_sobrenome\", \"usuários\".apelido AS \"usuários_apelido\" \n",
      "FROM \"usuários\" ORDER BY \"usuários\".id\n",
      " LIMIT ? OFFSET ?\n",
      "2021-06-01 23:01:52,391 INFO sqlalchemy.engine.Engine [generated in 0.00127s] (2, 1)\n",
      "<Usuário(nome='Rafael', apelido='Rafa')>\n",
      "<Usuário(nome='Samuel', apelido='Samu')>\n"
     ]
    }
   ],
   "source": [
    "for u in session.query(Usuário).order_by(Usuário.id)[1:3]:\n",
    "    print(u)"
   ]
  },
  {
   "cell_type": "markdown",
   "id": "5da12958",
   "metadata": {},
   "source": [
    "E a filtragem de resultados, que é realizada com **filter_by()**, que usa argumentos de palavra-chave:"
   ]
  },
  {
   "cell_type": "code",
   "execution_count": 32,
   "id": "039da67c",
   "metadata": {},
   "outputs": [
    {
     "name": "stdout",
     "output_type": "stream",
     "text": [
      "2021-06-01 23:01:52,514 INFO sqlalchemy.engine.Engine SELECT \"usuários\".nome AS \"usuários_nome\" \n",
      "FROM \"usuários\" \n",
      "WHERE \"usuários\".sobrenome = ?\n",
      "2021-06-01 23:01:52,517 INFO sqlalchemy.engine.Engine [generated in 0.00329s] ('Pereira',)\n",
      "Samuel\n"
     ]
    }
   ],
   "source": [
    "for nome, in session.query(Usuário.nome).filter_by(sobrenome='Pereira'):\n",
    "    print(nome)"
   ]
  },
  {
   "cell_type": "markdown",
   "id": "c5988ca9",
   "metadata": {},
   "source": [
    "Ou **filter()**, que usa construções de linguagem de expressão SQL mais flexíveis. \n",
    "\n",
    "Eles permitem que você use operadores Python regulares com os atributos de nível de classe em sua classe mapeada:"
   ]
  },
  {
   "cell_type": "code",
   "execution_count": 33,
   "id": "fad42b05",
   "metadata": {},
   "outputs": [
    {
     "name": "stdout",
     "output_type": "stream",
     "text": [
      "2021-06-01 23:01:52,698 INFO sqlalchemy.engine.Engine SELECT \"usuários\".nome AS \"usuários_nome\" \n",
      "FROM \"usuários\" \n",
      "WHERE \"usuários\".sobrenome = ?\n",
      "2021-06-01 23:01:52,699 INFO sqlalchemy.engine.Engine [cached since 0.1856s ago] ('Felippe',)\n",
      "Gabriel\n"
     ]
    }
   ],
   "source": [
    "for nome, in session.query(Usuário.nome).filter(Usuário.sobrenome == 'Felippe'):\n",
    "    print(nome)"
   ]
  },
  {
   "cell_type": "markdown",
   "id": "d9a001bb",
   "metadata": {},
   "source": [
    "O objeto **Query** é totalmente **generative**, o que significa que a maioria das chamadas de método retorna um novo objeto Query ao qual outros critérios podem ser adicionados. \n",
    "\n",
    "Por exemplo, para consultar usuários chamados “Gabriel” com um sobrenome “Felippe”, você pode chamar **filter()** duas vezes, que une os critérios usando **AND**:"
   ]
  },
  {
   "cell_type": "code",
   "execution_count": 34,
   "id": "932abef8",
   "metadata": {},
   "outputs": [
    {
     "name": "stdout",
     "output_type": "stream",
     "text": [
      "2021-06-01 23:01:52,874 INFO sqlalchemy.engine.Engine SELECT \"usuários\".id AS \"usuários_id\", \"usuários\".nome AS \"usuários_nome\", \"usuários\".sobrenome AS \"usuários_sobrenome\", \"usuários\".apelido AS \"usuários_apelido\" \n",
      "FROM \"usuários\" \n",
      "WHERE \"usuários\".nome = ? AND \"usuários\".sobrenome = ?\n",
      "2021-06-01 23:01:52,876 INFO sqlalchemy.engine.Engine [generated in 0.00225s] ('Gabriel', 'Felippe')\n",
      "<Usuário(nome='Gabriel', apelido='Biel')>\n"
     ]
    }
   ],
   "source": [
    "for usuário in session.query(Usuário).filter(Usuário.nome=='Gabriel').filter(Usuário.sobrenome=='Felippe'):\n",
    "    print(usuário)"
   ]
  },
  {
   "cell_type": "markdown",
   "id": "a6a4509f",
   "metadata": {},
   "source": [
    "## Operadores de Filtro Comuns\n",
    "\n",
    "A seguir temos um resumo de alguns dos operadores mais comuns usados em **filter()**:"
   ]
  },
  {
   "cell_type": "markdown",
   "id": "ec90ffe3",
   "metadata": {},
   "source": [
    "#### ColumnOperators.__eq__():"
   ]
  },
  {
   "cell_type": "code",
   "execution_count": 35,
   "id": "19d6a62f",
   "metadata": {},
   "outputs": [
    {
     "name": "stdout",
     "output_type": "stream",
     "text": [
      "2021-06-01 23:01:53,102 INFO sqlalchemy.engine.Engine SELECT \"usuários\".id AS \"usuários_id\", \"usuários\".nome AS \"usuários_nome\", \"usuários\".sobrenome AS \"usuários_sobrenome\", \"usuários\".apelido AS \"usuários_apelido\" \n",
      "FROM \"usuários\" \n",
      "WHERE \"usuários\".nome = ?\n",
      "2021-06-01 23:01:53,104 INFO sqlalchemy.engine.Engine [generated in 0.00280s] ('Gabriel',)\n",
      "<Usuário(nome='Gabriel', apelido='Biel')>\n"
     ]
    }
   ],
   "source": [
    "for usuário in session.query(Usuário).filter(Usuário.nome == 'Gabriel'):\n",
    "    print(usuário)"
   ]
  },
  {
   "cell_type": "markdown",
   "id": "ac923239",
   "metadata": {},
   "source": [
    "#### ColumnOperators.__ne__():"
   ]
  },
  {
   "cell_type": "code",
   "execution_count": 36,
   "id": "558f3131",
   "metadata": {},
   "outputs": [
    {
     "name": "stdout",
     "output_type": "stream",
     "text": [
      "2021-06-01 23:01:53,242 INFO sqlalchemy.engine.Engine SELECT \"usuários\".id AS \"usuários_id\", \"usuários\".nome AS \"usuários_nome\", \"usuários\".sobrenome AS \"usuários_sobrenome\", \"usuários\".apelido AS \"usuários_apelido\" \n",
      "FROM \"usuários\" \n",
      "WHERE \"usuários\".nome != ?\n",
      "2021-06-01 23:01:53,246 INFO sqlalchemy.engine.Engine [generated in 0.00425s] ('Gabriel',)\n",
      "<Usuário(nome='Rafael', apelido='Rafa')>\n",
      "<Usuário(nome='Samuel', apelido='Samu')>\n",
      "<Usuário(nome='Maria', apelido='Mari')>\n"
     ]
    }
   ],
   "source": [
    "for usuário in session.query(Usuário).filter(Usuário.nome != 'Gabriel'):\n",
    "    print(usuário)"
   ]
  },
  {
   "cell_type": "markdown",
   "id": "6aa9ebbd",
   "metadata": {},
   "source": [
    "#### ColumnOperators.like():"
   ]
  },
  {
   "cell_type": "code",
   "execution_count": 37,
   "id": "ee9b1571",
   "metadata": {},
   "outputs": [
    {
     "name": "stdout",
     "output_type": "stream",
     "text": [
      "2021-06-01 23:01:53,354 INFO sqlalchemy.engine.Engine SELECT \"usuários\".id AS \"usuários_id\", \"usuários\".nome AS \"usuários_nome\", \"usuários\".sobrenome AS \"usuários_sobrenome\", \"usuários\".apelido AS \"usuários_apelido\" \n",
      "FROM \"usuários\" \n",
      "WHERE \"usuários\".sobrenome LIKE ?\n",
      "2021-06-01 23:01:53,357 INFO sqlalchemy.engine.Engine [generated in 0.00257s] ('%eira%',)\n",
      "Samuel Pereira\n",
      "Maria Oliveira\n"
     ]
    }
   ],
   "source": [
    "for usuário in session.query(Usuário).filter(Usuário.sobrenome.like('%eira%')):\n",
    "    print(usuário.nome, usuário.sobrenome)"
   ]
  },
  {
   "cell_type": "markdown",
   "id": "33194148",
   "metadata": {},
   "source": [
    "**Observação**: [ColumnOperators.like()](https://docs.sqlalchemy.org/en/14/core/sqlelement.html#sqlalchemy.sql.expression.ColumnOperators.like) renderiza o operador LIKE, que não diferencia maiúsculas de minúsculas em alguns back-ends e diferencia maiúsculas de minúsculas em outros. Para comparações sem distinção entre maiúsculas e minúsculas garantidas, use [ColumnOperators.ilike()](https://docs.sqlalchemy.org/en/14/core/sqlelement.html#sqlalchemy.sql.expression.ColumnOperators.ilike)."
   ]
  },
  {
   "cell_type": "markdown",
   "id": "880af425",
   "metadata": {},
   "source": [
    "#### ColumnOperators.ilike() (case-insensitive LIKE):"
   ]
  },
  {
   "cell_type": "code",
   "execution_count": 38,
   "id": "831a8f06",
   "metadata": {},
   "outputs": [
    {
     "name": "stdout",
     "output_type": "stream",
     "text": [
      "2021-06-01 23:01:53,521 INFO sqlalchemy.engine.Engine SELECT \"usuários\".id AS \"usuários_id\", \"usuários\".nome AS \"usuários_nome\", \"usuários\".sobrenome AS \"usuários_sobrenome\", \"usuários\".apelido AS \"usuários_apelido\" \n",
      "FROM \"usuários\" \n",
      "WHERE lower(\"usuários\".sobrenome) LIKE lower(?)\n",
      "2021-06-01 23:01:53,523 INFO sqlalchemy.engine.Engine [generated in 0.00158s] ('%EiRa%',)\n",
      "Samuel Pereira\n",
      "Maria Oliveira\n"
     ]
    }
   ],
   "source": [
    "for usuário in session.query(Usuário).filter(Usuário.sobrenome.ilike('%EiRa%')):\n",
    "    print(usuário.nome, usuário.sobrenome)"
   ]
  },
  {
   "cell_type": "markdown",
   "id": "3a5bb683",
   "metadata": {},
   "source": [
    "#### ColumnOperators.in_():"
   ]
  },
  {
   "cell_type": "code",
   "execution_count": 39,
   "id": "847fb7a0",
   "metadata": {},
   "outputs": [
    {
     "name": "stdout",
     "output_type": "stream",
     "text": [
      "2021-06-01 23:01:53,629 INFO sqlalchemy.engine.Engine SELECT \"usuários\".id AS \"usuários_id\", \"usuários\".nome AS \"usuários_nome\", \"usuários\".sobrenome AS \"usuários_sobrenome\", \"usuários\".apelido AS \"usuários_apelido\" \n",
      "FROM \"usuários\" \n",
      "WHERE \"usuários\".nome IN (?, ?, ?)\n",
      "2021-06-01 23:01:53,631 INFO sqlalchemy.engine.Engine [cached since 2.346s ago] ('Gabriel', 'Samuel', 'Maria')\n",
      "Felippe\n",
      "Pereira\n",
      "Oliveira\n"
     ]
    }
   ],
   "source": [
    "for usuário in session.query(Usuário).filter(Usuário.nome.in_(['Gabriel','Samuel','Maria'])):\n",
    "    print(usuário.sobrenome)"
   ]
  },
  {
   "cell_type": "markdown",
   "id": "7d8f174a",
   "metadata": {},
   "source": [
    "Também funciona com objetos query:"
   ]
  },
  {
   "cell_type": "code",
   "execution_count": 40,
   "id": "db5428a6",
   "metadata": {},
   "outputs": [
    {
     "name": "stdout",
     "output_type": "stream",
     "text": [
      "2021-06-01 23:01:53,751 INFO sqlalchemy.engine.Engine SELECT \"usuários\".id AS \"usuários_id\", \"usuários\".nome AS \"usuários_nome\", \"usuários\".sobrenome AS \"usuários_sobrenome\", \"usuários\".apelido AS \"usuários_apelido\" \n",
      "FROM \"usuários\" \n",
      "WHERE \"usuários\".nome IN (SELECT \"usuários\".nome \n",
      "FROM \"usuários\" \n",
      "WHERE \"usuários\".nome LIKE ?)\n",
      "2021-06-01 23:01:53,752 INFO sqlalchemy.engine.Engine [generated in 0.00120s] ('%G%',)\n",
      "Gabriel\n"
     ]
    }
   ],
   "source": [
    "for usuário in session.query(Usuário).filter(Usuário.nome.in_(session.query(Usuário.nome).filter(Usuário.nome.like('%G%')))):\n",
    "    print(usuário.nome)"
   ]
  },
  {
   "cell_type": "markdown",
   "id": "f4999ed2",
   "metadata": {},
   "source": [
    "Use **tuple_()** para consultas compostas (multi-colunas):"
   ]
  },
  {
   "cell_type": "code",
   "execution_count": 41,
   "id": "f1034b15",
   "metadata": {},
   "outputs": [
    {
     "name": "stdout",
     "output_type": "stream",
     "text": [
      "2021-06-01 23:01:53,874 INFO sqlalchemy.engine.Engine SELECT \"usuários\".id AS \"usuários_id\", \"usuários\".nome AS \"usuários_nome\", \"usuários\".sobrenome AS \"usuários_sobrenome\", \"usuários\".apelido AS \"usuários_apelido\" \n",
      "FROM \"usuários\" \n",
      "WHERE (\"usuários\".nome, \"usuários\".sobrenome) IN (VALUES (?, ?), (?, ?))\n",
      "2021-06-01 23:01:53,879 INFO sqlalchemy.engine.Engine [generated in 0.00455s] ('Gabriel', 'Felippe', 'Maria', 'Oliveira')\n",
      "Biel\n",
      "Mari\n"
     ]
    }
   ],
   "source": [
    "from sqlalchemy import tuple_\n",
    "\n",
    "for usuário in session.query(Usuário).filter(tuple_(Usuário.nome, Usuário.sobrenome).in_([('Gabriel','Felippe'),('Maria','Oliveira')])):\n",
    "    print(usuário.apelido)"
   ]
  },
  {
   "cell_type": "markdown",
   "id": "f40d861d",
   "metadata": {},
   "source": [
    "#### ColumnOperators.not_in():"
   ]
  },
  {
   "cell_type": "code",
   "execution_count": 42,
   "id": "721d73b8",
   "metadata": {},
   "outputs": [
    {
     "name": "stdout",
     "output_type": "stream",
     "text": [
      "2021-06-01 23:01:54,006 INFO sqlalchemy.engine.Engine SELECT \"usuários\".id AS \"usuários_id\", \"usuários\".nome AS \"usuários_nome\", \"usuários\".sobrenome AS \"usuários_sobrenome\", \"usuários\".apelido AS \"usuários_apelido\" \n",
      "FROM \"usuários\" \n",
      "WHERE \"usuários\".nome NOT IN (?, ?, ?)\n",
      "2021-06-01 23:01:54,008 INFO sqlalchemy.engine.Engine [generated in 0.00210s] ('Gabriel', 'Rafael', 'Samuel')\n",
      "<Usuário(nome='Maria', apelido='Mari')>\n"
     ]
    }
   ],
   "source": [
    "for usuário in session.query(Usuário).filter(~Usuário.nome.in_(['Gabriel','Rafael','Samuel'])):\n",
    "    print(usuário)"
   ]
  },
  {
   "cell_type": "markdown",
   "id": "e2f17a9b",
   "metadata": {},
   "source": [
    "#### ColumnOperators.is_():"
   ]
  },
  {
   "cell_type": "code",
   "execution_count": 43,
   "id": "0b4e26f3",
   "metadata": {},
   "outputs": [
    {
     "name": "stdout",
     "output_type": "stream",
     "text": [
      "2021-06-01 23:01:54,108 INFO sqlalchemy.engine.Engine SELECT \"usuários\".id AS \"usuários_id\", \"usuários\".nome AS \"usuários_nome\", \"usuários\".sobrenome AS \"usuários_sobrenome\", \"usuários\".apelido AS \"usuários_apelido\" \n",
      "FROM \"usuários\" \n",
      "WHERE \"usuários\".nome IS NULL\n",
      "2021-06-01 23:01:54,109 INFO sqlalchemy.engine.Engine [generated in 0.00146s] ()\n"
     ]
    }
   ],
   "source": [
    "for usuário in session.query(Usuário).filter(Usuário.nome == None):\n",
    "    print(usuário)"
   ]
  },
  {
   "cell_type": "code",
   "execution_count": 44,
   "id": "f75f9882",
   "metadata": {},
   "outputs": [
    {
     "name": "stdout",
     "output_type": "stream",
     "text": [
      "2021-06-01 23:01:54,235 INFO sqlalchemy.engine.Engine SELECT \"usuários\".id AS \"usuários_id\", \"usuários\".nome AS \"usuários_nome\", \"usuários\".sobrenome AS \"usuários_sobrenome\", \"usuários\".apelido AS \"usuários_apelido\" \n",
      "FROM \"usuários\" \n",
      "WHERE \"usuários\".nome IS ?\n",
      "2021-06-01 23:01:54,255 INFO sqlalchemy.engine.Engine [generated in 0.02078s] ('Gabriel',)\n",
      "<Usuário(nome='Gabriel', apelido='Biel')>\n"
     ]
    }
   ],
   "source": [
    "for usuário in session.query(Usuário).filter(Usuário.nome.is_('Gabriel')):\n",
    "    print(usuário)"
   ]
  },
  {
   "cell_type": "markdown",
   "id": "efc9558b",
   "metadata": {},
   "source": [
    "#### ColumnOperators.is_not():"
   ]
  },
  {
   "cell_type": "code",
   "execution_count": 45,
   "id": "a4bca510",
   "metadata": {},
   "outputs": [
    {
     "name": "stdout",
     "output_type": "stream",
     "text": [
      "2021-06-01 23:01:54,380 INFO sqlalchemy.engine.Engine SELECT \"usuários\".id AS \"usuários_id\", \"usuários\".nome AS \"usuários_nome\", \"usuários\".sobrenome AS \"usuários_sobrenome\", \"usuários\".apelido AS \"usuários_apelido\" \n",
      "FROM \"usuários\" \n",
      "WHERE \"usuários\".nome IS NOT NULL\n",
      "2021-06-01 23:01:54,382 INFO sqlalchemy.engine.Engine [generated in 0.00229s] ()\n",
      "<Usuário(nome='Gabriel', apelido='Biel')>\n",
      "<Usuário(nome='Rafael', apelido='Rafa')>\n",
      "<Usuário(nome='Samuel', apelido='Samu')>\n",
      "<Usuário(nome='Maria', apelido='Mari')>\n"
     ]
    }
   ],
   "source": [
    "for usuário in session.query(Usuário).filter(Usuário.nome != None):\n",
    "    print(usuário)"
   ]
  },
  {
   "cell_type": "code",
   "execution_count": 46,
   "id": "89b4b87a",
   "metadata": {},
   "outputs": [
    {
     "name": "stdout",
     "output_type": "stream",
     "text": [
      "2021-06-01 23:01:54,504 INFO sqlalchemy.engine.Engine SELECT \"usuários\".id AS \"usuários_id\", \"usuários\".nome AS \"usuários_nome\", \"usuários\".sobrenome AS \"usuários_sobrenome\", \"usuários\".apelido AS \"usuários_apelido\" \n",
      "FROM \"usuários\" \n",
      "WHERE \"usuários\".nome IS NOT ?\n",
      "2021-06-01 23:01:54,505 INFO sqlalchemy.engine.Engine [generated in 0.00141s] ('Gabriel',)\n",
      "<Usuário(nome='Rafael', apelido='Rafa')>\n",
      "<Usuário(nome='Samuel', apelido='Samu')>\n",
      "<Usuário(nome='Maria', apelido='Mari')>\n"
     ]
    }
   ],
   "source": [
    "for usuário in session.query(Usuário).filter(Usuário.nome.is_not('Gabriel')):\n",
    "    print(usuário)"
   ]
  },
  {
   "cell_type": "markdown",
   "id": "f008a401",
   "metadata": {},
   "source": [
    "#### AND\n",
    "\n",
    "Usando **and_()**:"
   ]
  },
  {
   "cell_type": "code",
   "execution_count": 47,
   "id": "d87cb497",
   "metadata": {},
   "outputs": [
    {
     "name": "stdout",
     "output_type": "stream",
     "text": [
      "2021-06-01 23:01:54,627 INFO sqlalchemy.engine.Engine SELECT \"usuários\".id AS \"usuários_id\", \"usuários\".nome AS \"usuários_nome\", \"usuários\".sobrenome AS \"usuários_sobrenome\", \"usuários\".apelido AS \"usuários_apelido\" \n",
      "FROM \"usuários\" \n",
      "WHERE \"usuários\".nome = ? AND \"usuários\".sobrenome = ?\n",
      "2021-06-01 23:01:54,628 INFO sqlalchemy.engine.Engine [generated in 0.00123s] ('Gabriel', 'Felippe')\n",
      "<Usuário(nome='Gabriel', apelido='Biel')>\n"
     ]
    }
   ],
   "source": [
    "from sqlalchemy import and_\n",
    "\n",
    "for usuário in session.query(Usuário).filter(and_(Usuário.nome == 'Gabriel', Usuário.sobrenome == 'Felippe')):\n",
    "    print(usuário)"
   ]
  },
  {
   "cell_type": "markdown",
   "id": "7125163c",
   "metadata": {},
   "source": [
    "Ou enviando várias expressões para **.filter()**:"
   ]
  },
  {
   "cell_type": "code",
   "execution_count": 48,
   "id": "4aabbb79",
   "metadata": {},
   "outputs": [
    {
     "name": "stdout",
     "output_type": "stream",
     "text": [
      "2021-06-01 23:01:54,749 INFO sqlalchemy.engine.Engine SELECT \"usuários\".id AS \"usuários_id\", \"usuários\".nome AS \"usuários_nome\", \"usuários\".sobrenome AS \"usuários_sobrenome\", \"usuários\".apelido AS \"usuários_apelido\" \n",
      "FROM \"usuários\" \n",
      "WHERE \"usuários\".nome = ? AND \"usuários\".sobrenome = ?\n",
      "2021-06-01 23:01:54,755 INFO sqlalchemy.engine.Engine [cached since 1.881s ago] ('Gabriel', 'Felippe')\n",
      "<Usuário(nome='Gabriel', apelido='Biel')>\n"
     ]
    }
   ],
   "source": [
    "for usuário in session.query(Usuário).filter(Usuário.nome == 'Gabriel', Usuário.sobrenome == 'Felippe'):\n",
    "    print(usuário)"
   ]
  },
  {
   "cell_type": "markdown",
   "id": "0fe77400",
   "metadata": {},
   "source": [
    "Ou encadear várias chamadas de **filter()** / **filter_by()**:"
   ]
  },
  {
   "cell_type": "code",
   "execution_count": 49,
   "id": "85bfd6b0",
   "metadata": {},
   "outputs": [
    {
     "name": "stdout",
     "output_type": "stream",
     "text": [
      "2021-06-01 23:01:54,901 INFO sqlalchemy.engine.Engine SELECT \"usuários\".id AS \"usuários_id\", \"usuários\".nome AS \"usuários_nome\", \"usuários\".sobrenome AS \"usuários_sobrenome\", \"usuários\".apelido AS \"usuários_apelido\" \n",
      "FROM \"usuários\" \n",
      "WHERE \"usuários\".nome = ? AND \"usuários\".sobrenome = ?\n",
      "2021-06-01 23:01:54,902 INFO sqlalchemy.engine.Engine [cached since 2.028s ago] ('Gabriel', 'Felippe')\n",
      "<Usuário(nome='Gabriel', apelido='Biel')>\n"
     ]
    }
   ],
   "source": [
    "for usuário in session.query(Usuário).filter(Usuário.nome == 'Gabriel').filter(Usuário.sobrenome == 'Felippe'):\n",
    "    print(usuário)"
   ]
  },
  {
   "cell_type": "markdown",
   "id": "3f4ae3ed",
   "metadata": {},
   "source": [
    "**Observação**: Certifique-se de usar **and_()** e não o operador Python **and**!"
   ]
  },
  {
   "cell_type": "markdown",
   "id": "5b026e72",
   "metadata": {},
   "source": [
    "#### OR\n",
    "\n",
    "Usando **or_()**:"
   ]
  },
  {
   "cell_type": "code",
   "execution_count": 50,
   "id": "cbc18f66",
   "metadata": {},
   "outputs": [
    {
     "name": "stdout",
     "output_type": "stream",
     "text": [
      "2021-06-01 23:01:55,025 INFO sqlalchemy.engine.Engine SELECT \"usuários\".id AS \"usuários_id\", \"usuários\".nome AS \"usuários_nome\", \"usuários\".sobrenome AS \"usuários_sobrenome\", \"usuários\".apelido AS \"usuários_apelido\" \n",
      "FROM \"usuários\" \n",
      "WHERE \"usuários\".nome = ? OR \"usuários\".nome = ?\n",
      "2021-06-01 23:01:55,028 INFO sqlalchemy.engine.Engine [generated in 0.00337s] ('Gabriel', 'Maria')\n",
      "<Usuário(nome='Gabriel', apelido='Biel')>\n",
      "<Usuário(nome='Maria', apelido='Mari')>\n"
     ]
    }
   ],
   "source": [
    "from sqlalchemy import or_\n",
    "\n",
    "for usuário in session.query(Usuário).filter(or_(Usuário.nome == 'Gabriel', Usuário.nome == 'Maria')):\n",
    "    print(usuário)"
   ]
  },
  {
   "cell_type": "markdown",
   "id": "2350e78f",
   "metadata": {},
   "source": [
    "**Observação**: Certifique-se de usar **or_()** e não o operador Python **or**!"
   ]
  },
  {
   "cell_type": "markdown",
   "id": "e92992bc",
   "metadata": {},
   "source": [
    "## Retornando Listas e Scalars\n",
    "\n",
    "Vários métodos no **Query** emitem SQL imediatamente e retornam um valor contendo os resultados do banco de dados carregado. \n",
    "\n",
    "Vejamos alguns exemplos a seguir.\n",
    "\n",
    "**Query.all()** retorna uma lista:"
   ]
  },
  {
   "cell_type": "code",
   "execution_count": 51,
   "id": "958df3d6",
   "metadata": {},
   "outputs": [
    {
     "name": "stdout",
     "output_type": "stream",
     "text": [
      "2021-06-01 23:01:55,146 INFO sqlalchemy.engine.Engine SELECT \"usuários\".id AS \"usuários_id\", \"usuários\".nome AS \"usuários_nome\", \"usuários\".sobrenome AS \"usuários_sobrenome\", \"usuários\".apelido AS \"usuários_apelido\" \n",
      "FROM \"usuários\" \n",
      "WHERE \"usuários\".sobrenome LIKE ? ORDER BY \"usuários\".id\n",
      "2021-06-01 23:01:55,155 INFO sqlalchemy.engine.Engine [generated in 0.00643s] ('%eira',)\n"
     ]
    },
    {
     "data": {
      "text/plain": [
       "[<Usuário(nome='Samuel', apelido='Samu')>,\n",
       " <Usuário(nome='Maria', apelido='Mari')>]"
      ]
     },
     "execution_count": 51,
     "metadata": {},
     "output_type": "execute_result"
    }
   ],
   "source": [
    "query = session.query(Usuário).filter(Usuário.sobrenome.like('%eira')).order_by(Usuário.id)\n",
    "query.all()"
   ]
  },
  {
   "cell_type": "markdown",
   "id": "da6ff22b",
   "metadata": {},
   "source": [
    "**Query.first()** aplica um limite de um e retorna o primeiro resultado como um scalar:"
   ]
  },
  {
   "cell_type": "code",
   "execution_count": 52,
   "id": "f2c66fb2",
   "metadata": {},
   "outputs": [
    {
     "name": "stdout",
     "output_type": "stream",
     "text": [
      "2021-06-01 23:01:55,273 INFO sqlalchemy.engine.Engine SELECT \"usuários\".id AS \"usuários_id\", \"usuários\".nome AS \"usuários_nome\", \"usuários\".sobrenome AS \"usuários_sobrenome\", \"usuários\".apelido AS \"usuários_apelido\" \n",
      "FROM \"usuários\" \n",
      "WHERE \"usuários\".sobrenome LIKE ? ORDER BY \"usuários\".id\n",
      " LIMIT ? OFFSET ?\n",
      "2021-06-01 23:01:55,276 INFO sqlalchemy.engine.Engine [generated in 0.00278s] ('%eira', 1, 0)\n"
     ]
    },
    {
     "data": {
      "text/plain": [
       "<Usuário(nome='Samuel', apelido='Samu')>"
      ]
     },
     "execution_count": 52,
     "metadata": {},
     "output_type": "execute_result"
    }
   ],
   "source": [
    "query.first()"
   ]
  },
  {
   "cell_type": "markdown",
   "id": "3e054d01",
   "metadata": {},
   "source": [
    "## Contando\n",
    "\n",
    "**Query** inclui um método de conveniência para contagem chamado **Query.count()**:"
   ]
  },
  {
   "cell_type": "code",
   "execution_count": 53,
   "id": "4fd953db",
   "metadata": {},
   "outputs": [
    {
     "name": "stdout",
     "output_type": "stream",
     "text": [
      "2021-06-01 23:01:55,422 INFO sqlalchemy.engine.Engine SELECT count(*) AS count_1 \n",
      "FROM (SELECT \"usuários\".id AS \"usuários_id\", \"usuários\".nome AS \"usuários_nome\", \"usuários\".sobrenome AS \"usuários_sobrenome\", \"usuários\".apelido AS \"usuários_apelido\" \n",
      "FROM \"usuários\" \n",
      "WHERE \"usuários\".sobrenome LIKE ?) AS anon_1\n",
      "2021-06-01 23:01:55,425 INFO sqlalchemy.engine.Engine [generated in 0.00223s] ('%eira',)\n"
     ]
    },
    {
     "data": {
      "text/plain": [
       "2"
      ]
     },
     "execution_count": 53,
     "metadata": {},
     "output_type": "execute_result"
    }
   ],
   "source": [
    "session.query(Usuário).filter(Usuário.sobrenome.like('%eira')).count()"
   ]
  },
  {
   "cell_type": "markdown",
   "id": "3d1c6cb6",
   "metadata": {},
   "source": [
    "O método **Query.count()** é usado para determinar quantas linhas a instrução SQL retornaria.\n",
    "\n",
    "Para situações em que a “coisa a ser contada” precisa ser indicada especificamente, podemos especificar a função **count** diretamente usando a expressão **func.count()**, disponível na construção **expression.func**.\n",
    "\n",
    "Abaixo, nós o usamos para retornar a contagem de cada nome de usuário distinto:"
   ]
  },
  {
   "cell_type": "code",
   "execution_count": 54,
   "id": "f3c6de81",
   "metadata": {},
   "outputs": [
    {
     "name": "stdout",
     "output_type": "stream",
     "text": [
      "2021-06-01 23:01:55,522 INFO sqlalchemy.engine.Engine SELECT count(\"usuários\".nome) AS count_1, \"usuários\".nome AS \"usuários_nome\" \n",
      "FROM \"usuários\" GROUP BY \"usuários\".nome\n",
      "2021-06-01 23:01:55,523 INFO sqlalchemy.engine.Engine [generated in 0.00118s] ()\n"
     ]
    },
    {
     "data": {
      "text/plain": [
       "[(1, 'Gabriel'), (1, 'Maria'), (1, 'Rafael'), (1, 'Samuel')]"
      ]
     },
     "execution_count": 54,
     "metadata": {},
     "output_type": "execute_result"
    }
   ],
   "source": [
    "from sqlalchemy import func\n",
    "\n",
    "session.query(func.count(Usuário.nome), Usuário.nome).group_by(Usuário.nome).all()"
   ]
  },
  {
   "cell_type": "markdown",
   "id": "c987c5d0",
   "metadata": {},
   "source": [
    "Para alcançar nossa contagem `SELECT count(*) FROM tabela`, podemos aplicá-la como:"
   ]
  },
  {
   "cell_type": "code",
   "execution_count": 55,
   "id": "ab9a1f43",
   "metadata": {},
   "outputs": [
    {
     "name": "stdout",
     "output_type": "stream",
     "text": [
      "2021-06-01 23:01:55,634 INFO sqlalchemy.engine.Engine SELECT count(?) AS count_1 \n",
      "FROM \"usuários\"\n",
      "2021-06-01 23:01:55,635 INFO sqlalchemy.engine.Engine [generated in 0.00161s] ('*',)\n"
     ]
    },
    {
     "data": {
      "text/plain": [
       "4"
      ]
     },
     "execution_count": 55,
     "metadata": {},
     "output_type": "execute_result"
    }
   ],
   "source": [
    "session.query(func.count('*')).select_from(Usuário).scalar()"
   ]
  },
  {
   "cell_type": "markdown",
   "id": "5207c678",
   "metadata": {},
   "source": [
    "O uso de **Query.select_from()** pode ser removido se expressarmos a contagem em termos da chave primária do usuário diretamente:"
   ]
  },
  {
   "cell_type": "code",
   "execution_count": 56,
   "id": "62823a69",
   "metadata": {},
   "outputs": [
    {
     "name": "stdout",
     "output_type": "stream",
     "text": [
      "2021-06-01 23:01:55,754 INFO sqlalchemy.engine.Engine SELECT count(\"usuários\".id) AS count_1 \n",
      "FROM \"usuários\"\n",
      "2021-06-01 23:01:55,755 INFO sqlalchemy.engine.Engine [generated in 0.00122s] ()\n"
     ]
    },
    {
     "data": {
      "text/plain": [
       "4"
      ]
     },
     "execution_count": 56,
     "metadata": {},
     "output_type": "execute_result"
    }
   ],
   "source": [
    "session.query(func.count(Usuário.id)).scalar()"
   ]
  },
  {
   "cell_type": "markdown",
   "id": "ff528b26",
   "metadata": {},
   "source": [
    "## Construindo um Relacionamento\n",
    "\n",
    "Vamos considerar como uma segunda tabela, relacionada ao usuário, que pode ser mapeada e consultada. \n",
    "\n",
    "Os usuários em nosso sistema podem armazenar qualquer número de endereços de e-mail associados ao seu nome de usuário. \n",
    "\n",
    "Isso implica uma associação básica de um para muitos (**one to many**) dos usuários a uma nova tabela que armazena endereços de e-mail, que chamaremos de **endereços**. \n",
    "\n",
    "Usando declarative, definimos esta tabela junto com sua classe mapeada, **Endereço**:"
   ]
  },
  {
   "cell_type": "code",
   "execution_count": 57,
   "id": "78b2de68",
   "metadata": {},
   "outputs": [],
   "source": [
    "from sqlalchemy import ForeignKey\n",
    "from sqlalchemy.orm import relationship\n",
    "\n",
    "class Endereço(Base):\n",
    "    __tablename__ = 'endereços'\n",
    "    \n",
    "    id = Column(Integer, primary_key=True)\n",
    "    email = Column(String, nullable=False)\n",
    "    usuário_id = Column(Integer, ForeignKey('usuários.id'))\n",
    "    usuário = relationship(\"Usuário\", back_populates=\"endereços\")\n",
    "    \n",
    "    def __repr__(self):\n",
    "        return f\"<Endereço(email='{self.email}')>\"\n",
    "\n",
    "Usuário.endereços = relationship(\"Endereço\", order_by=Endereço.id, back_populates=\"usuário\")"
   ]
  },
  {
   "cell_type": "markdown",
   "id": "c1a3aaf3",
   "metadata": {},
   "source": [
    "A classe acima apresenta a construção **[ForeignKey](https://docs.sqlalchemy.org/en/14/core/constraints.html#sqlalchemy.schema.ForeignKey)**, que é uma diretiva aplicada a [Column](https://docs.sqlalchemy.org/en/14/core/metadata.html#sqlalchemy.schema.Column) que indica que os valores nesta coluna devem ser restritos a valores presentes na coluna remota nomeada. \n",
    "\n",
    "Este é um recurso central dos bancos de dados relacionais e é a “cola” que transforma uma coleção de tabelas, de outra forma não conectada, para ter relacionamentos de sobreposição ricos. A **ForeignKey** acima expressa que os valores na coluna **endereço.usuário_id** devem ser restritos aos valores na coluna **usuário.id**, ou seja, sua chave primária.\n",
    "\n",
    "Uma segunda diretiva, conhecida como **relationship()**, informa ao ORM que a própria classe **Endereço** deve ser vinculada à classe **Usuário**, usando o atributo **Endereço.usuário.relationship()** usa os relacionamentos de chave estrangeira entre as duas tabelas para determinar a natureza dessa ligação, determinando que **Endereço.usuário** será de muitos para um (**many to one**). \n",
    "\n",
    "Uma diretiva **relationship()** adicional é colocada na classe mapeada do Usuário sob o atributo **Usuário.endereços**. Em ambas as diretivas **relationship()**, o parâmetro **relationship.back_populates** é atribuído para se referir aos nomes de atributos complementares; ao fazer isso, cada **relationship()** pode tomar uma decisão inteligente sobre o mesmo relacionamento expresso ao contrário; de um lado, **Endereço.usuário** se refere a uma instância de **Usuário** e, do outro lado, **Usuário.endereços** se refere a uma lista de instâncias de **Endereço**.\n",
    "\n",
    "**Observação**: O parâmetro **relationship.back_populates** é uma versão mais recente de um recurso SQLAlchemy muito comum chamado **relationship.backref**. O parâmetro **relationship.backref** não foi a lugar nenhum e sempre permanecerá disponível! O **relationship.back_populates** é a mesma coisa, exceto um pouco mais detalhado e mais fácil de manipular.\n",
    "\n",
    "Agora precisamos criar a tabela de **endereços** no banco de dados, portanto, emitiremos outro **CREATE** a partir de nossos metadados, que pulará as tabelas que já foram criadas:"
   ]
  },
  {
   "cell_type": "code",
   "execution_count": 58,
   "id": "a02cc5d8",
   "metadata": {},
   "outputs": [
    {
     "name": "stdout",
     "output_type": "stream",
     "text": [
      "2021-06-01 23:01:55,989 INFO sqlalchemy.engine.Engine BEGIN (implicit)\n",
      "2021-06-01 23:01:55,994 INFO sqlalchemy.engine.Engine PRAGMA main.table_info(\"usuários\")\n",
      "2021-06-01 23:01:55,996 INFO sqlalchemy.engine.Engine [raw sql] ()\n",
      "2021-06-01 23:01:55,999 INFO sqlalchemy.engine.Engine PRAGMA main.table_info(\"endereços\")\n",
      "2021-06-01 23:01:56,002 INFO sqlalchemy.engine.Engine [raw sql] ()\n",
      "2021-06-01 23:01:56,006 INFO sqlalchemy.engine.Engine PRAGMA temp.table_info(\"endereços\")\n",
      "2021-06-01 23:01:56,010 INFO sqlalchemy.engine.Engine [raw sql] ()\n",
      "2021-06-01 23:01:56,013 INFO sqlalchemy.engine.Engine \n",
      "CREATE TABLE \"endereços\" (\n",
      "\tid INTEGER NOT NULL, \n",
      "\temail VARCHAR NOT NULL, \n",
      "\t\"usuário_id\" INTEGER, \n",
      "\tPRIMARY KEY (id), \n",
      "\tFOREIGN KEY(\"usuário_id\") REFERENCES \"usuários\" (id)\n",
      ")\n",
      "\n",
      "\n",
      "2021-06-01 23:01:56,015 INFO sqlalchemy.engine.Engine [no key 0.00161s] ()\n",
      "2021-06-01 23:01:56,224 INFO sqlalchemy.engine.Engine COMMIT\n"
     ]
    }
   ],
   "source": [
    "Base.metadata.create_all(engine)"
   ]
  },
  {
   "cell_type": "markdown",
   "id": "0a6bcbf6",
   "metadata": {},
   "source": [
    "## Trabalhando com Objetos Relacionados\n",
    "\n",
    "Agora, quando criamos um usuário, uma coleção de endereços em branco estará presente. Vários tipos de coleção, como sets e dicionários, são possíveis aqui, mas por padrão, a coleção é uma lista Python."
   ]
  },
  {
   "cell_type": "code",
   "execution_count": 59,
   "id": "07b465f4",
   "metadata": {},
   "outputs": [
    {
     "data": {
      "text/plain": [
       "[]"
      ]
     },
     "execution_count": 59,
     "metadata": {},
     "output_type": "execute_result"
    }
   ],
   "source": [
    "luiz = Usuário(nome='Luiz', sobrenome='Mario', apelido='Luma')\n",
    "luiz.endereços"
   ]
  },
  {
   "cell_type": "markdown",
   "id": "c0481f53",
   "metadata": {},
   "source": [
    "Somos livres para adicionar objetos **Endereço** em nosso objeto **Usuário**. \n",
    "\n",
    "Nesse caso, apenas atribuímos uma lista completa diretamente:"
   ]
  },
  {
   "cell_type": "code",
   "execution_count": 60,
   "id": "41d10755",
   "metadata": {},
   "outputs": [],
   "source": [
    "luiz.endereços = [\n",
    "    Endereço(email='luiz@google.com'),\n",
    "    Endereço(email='luiz_mario@google.com')\n",
    "]"
   ]
  },
  {
   "cell_type": "markdown",
   "id": "aff5bfe5",
   "metadata": {},
   "source": [
    "Ao usar uma relação bidirecional, os elementos adicionados em uma direção tornam-se automaticamente visíveis na outra direção. Esse comportamento ocorre com base em eventos de mudança de atributo e é avaliado em Python, sem usar nenhum SQL:"
   ]
  },
  {
   "cell_type": "code",
   "execution_count": 61,
   "id": "e1c814e8",
   "metadata": {},
   "outputs": [
    {
     "data": {
      "text/plain": [
       "<Endereço(email='luiz_mario@google.com')>"
      ]
     },
     "execution_count": 61,
     "metadata": {},
     "output_type": "execute_result"
    }
   ],
   "source": [
    "luiz.endereços[1]"
   ]
  },
  {
   "cell_type": "code",
   "execution_count": 62,
   "id": "4514cacc",
   "metadata": {},
   "outputs": [
    {
     "data": {
      "text/plain": [
       "<Usuário(nome='Luiz', apelido='Luma')>"
      ]
     },
     "execution_count": 62,
     "metadata": {},
     "output_type": "execute_result"
    }
   ],
   "source": [
    "luiz.endereços[1].usuário"
   ]
  },
  {
   "cell_type": "markdown",
   "id": "9f446e78",
   "metadata": {},
   "source": [
    "Vamos adicionar e enviar **Luiz Mario** para o banco de dados. \n",
    "\n",
    "Luiz, bem como os dois membros Endereço na coleção de endereços correspondente, são adicionados à sessão de uma vez, usando um processo conhecido como **cascading**:"
   ]
  },
  {
   "cell_type": "code",
   "execution_count": 63,
   "id": "b53b6425",
   "metadata": {},
   "outputs": [
    {
     "name": "stdout",
     "output_type": "stream",
     "text": [
      "2021-06-01 23:01:56,717 INFO sqlalchemy.engine.Engine INSERT INTO \"usuários\" (nome, sobrenome, apelido) VALUES (?, ?, ?)\n",
      "2021-06-01 23:01:56,719 INFO sqlalchemy.engine.Engine [generated in 0.00192s] ('Luiz', 'Mario', 'Luma')\n",
      "2021-06-01 23:01:56,723 INFO sqlalchemy.engine.Engine INSERT INTO \"endereços\" (email, \"usuário_id\") VALUES (?, ?)\n",
      "2021-06-01 23:01:56,724 INFO sqlalchemy.engine.Engine [generated in 0.00116s] ('luiz@google.com', 5)\n",
      "2021-06-01 23:01:56,726 INFO sqlalchemy.engine.Engine INSERT INTO \"endereços\" (email, \"usuário_id\") VALUES (?, ?)\n",
      "2021-06-01 23:01:56,728 INFO sqlalchemy.engine.Engine [cached since 0.004844s ago] ('luiz_mario@google.com', 5)\n",
      "2021-06-01 23:01:56,730 INFO sqlalchemy.engine.Engine COMMIT\n"
     ]
    }
   ],
   "source": [
    "session.add(luiz)\n",
    "session.commit()"
   ]
  },
  {
   "cell_type": "markdown",
   "id": "4516e490",
   "metadata": {},
   "source": [
    "Consultando por Luiz, recebemos apenas Luiz de volta. Nenhum SQL ainda foi emitido para os endereços de Luiz:"
   ]
  },
  {
   "cell_type": "code",
   "execution_count": 64,
   "id": "30124395",
   "metadata": {},
   "outputs": [
    {
     "name": "stdout",
     "output_type": "stream",
     "text": [
      "2021-06-01 23:01:56,924 INFO sqlalchemy.engine.Engine BEGIN (implicit)\n",
      "2021-06-01 23:01:56,927 INFO sqlalchemy.engine.Engine SELECT \"usuários\".id AS \"usuários_id\", \"usuários\".nome AS \"usuários_nome\", \"usuários\".sobrenome AS \"usuários_sobrenome\", \"usuários\".apelido AS \"usuários_apelido\" \n",
      "FROM \"usuários\" \n",
      "WHERE \"usuários\".nome = ?\n",
      "2021-06-01 23:01:56,928 INFO sqlalchemy.engine.Engine [cached since 3.827s ago] ('Luiz',)\n"
     ]
    },
    {
     "data": {
      "text/plain": [
       "<Usuário(nome='Luiz', apelido='Luma')>"
      ]
     },
     "execution_count": 64,
     "metadata": {},
     "output_type": "execute_result"
    }
   ],
   "source": [
    "luiz = session.query(Usuário).filter_by(nome='Luiz').one()\n",
    "luiz"
   ]
  },
  {
   "cell_type": "markdown",
   "id": "8fb6e603",
   "metadata": {},
   "source": [
    "Vejamos a coleção de endereços. Observe o SQL:"
   ]
  },
  {
   "cell_type": "code",
   "execution_count": 65,
   "id": "1170c8e8",
   "metadata": {},
   "outputs": [
    {
     "name": "stdout",
     "output_type": "stream",
     "text": [
      "2021-06-01 23:01:57,048 INFO sqlalchemy.engine.Engine SELECT \"endereços\".id AS \"endereços_id\", \"endereços\".email AS \"endereços_email\", \"endereços\".\"usuário_id\" AS \"endereços_usuário_id\" \n",
      "FROM \"endereços\" \n",
      "WHERE ? = \"endereços\".\"usuário_id\" ORDER BY \"endereços\".id\n",
      "2021-06-01 23:01:57,049 INFO sqlalchemy.engine.Engine [generated in 0.00155s] (5,)\n"
     ]
    },
    {
     "data": {
      "text/plain": [
       "[<Endereço(email='luiz@google.com')>,\n",
       " <Endereço(email='luiz_mario@google.com')>]"
      ]
     },
     "execution_count": 65,
     "metadata": {},
     "output_type": "execute_result"
    }
   ],
   "source": [
    "luiz.endereços"
   ]
  },
  {
   "cell_type": "markdown",
   "id": "135a1aec",
   "metadata": {},
   "source": [
    "Quando acessamos a coleção de **endereços**, o SQL foi emitido repentinamente. Este é um exemplo de relacionamento de [lazy loading](https://docs.sqlalchemy.org/en/14/glossary.html#term-lazy-loading). A coleção de endereços agora está carregada e se comporta como uma lista comum. "
   ]
  },
  {
   "cell_type": "markdown",
   "id": "3f94d630",
   "metadata": {},
   "source": [
    "## Consultando com Associações\n",
    "\n",
    "Agora que temos duas tabelas, podemos mostrar mais alguns recursos do **Query**, especificamente como criar consultas que lidam com as duas tabelas ao mesmo tempo. A página da Wikipedia em [SQL JOIN](https://en.wikipedia.org/wiki/Join_%28SQL%29) oferece uma boa introdução às técnicas de **join**.\n",
    "\n",
    "Para construir uma **join** implícita simples entre **Usuário** e **Endereço**, podemos usar **Query.filter()** para igualar suas colunas relacionadas. \n",
    "\n",
    "Abaixo carregamos as entidades de usuário e endereço de uma vez usando este método:"
   ]
  },
  {
   "cell_type": "code",
   "execution_count": 66,
   "id": "44553add",
   "metadata": {},
   "outputs": [
    {
     "name": "stdout",
     "output_type": "stream",
     "text": [
      "2021-06-01 23:01:57,162 INFO sqlalchemy.engine.Engine SELECT \"usuários\".id AS \"usuários_id\", \"usuários\".nome AS \"usuários_nome\", \"usuários\".sobrenome AS \"usuários_sobrenome\", \"usuários\".apelido AS \"usuários_apelido\", \"endereços\".id AS \"endereços_id\", \"endereços\".email AS \"endereços_email\", \"endereços\".\"usuário_id\" AS \"endereços_usuário_id\" \n",
      "FROM \"usuários\", \"endereços\" \n",
      "WHERE \"usuários\".id = \"endereços\".\"usuário_id\" AND \"endereços\".email = ?\n",
      "2021-06-01 23:01:57,164 INFO sqlalchemy.engine.Engine [generated in 0.00222s] ('luiz@google.com',)\n",
      "<Usuário(nome='Luiz', apelido='Luma')>\n",
      "<Endereço(email='luiz@google.com')>\n"
     ]
    }
   ],
   "source": [
    "for u, a in session.query(Usuário, Endereço).filter(Usuário.id==Endereço.usuário_id).filter(Endereço.email=='luiz@google.com').all():\n",
    "    print(u)\n",
    "    print(a)"
   ]
  },
  {
   "cell_type": "markdown",
   "id": "a701f10c",
   "metadata": {},
   "source": [
    "A sintaxe SQL JOIN real, por outro lado, é mais facilmente obtida usando o método **Query.join()**:"
   ]
  },
  {
   "cell_type": "code",
   "execution_count": 67,
   "id": "bcffc8d8",
   "metadata": {},
   "outputs": [
    {
     "name": "stdout",
     "output_type": "stream",
     "text": [
      "2021-06-01 23:01:57,282 INFO sqlalchemy.engine.Engine SELECT \"usuários\".id AS \"usuários_id\", \"usuários\".nome AS \"usuários_nome\", \"usuários\".sobrenome AS \"usuários_sobrenome\", \"usuários\".apelido AS \"usuários_apelido\" \n",
      "FROM \"usuários\" JOIN \"endereços\" ON \"usuários\".id = \"endereços\".\"usuário_id\" \n",
      "WHERE \"endereços\".email = ?\n",
      "2021-06-01 23:01:57,283 INFO sqlalchemy.engine.Engine [generated in 0.00112s] ('luiz_mario@google.com',)\n"
     ]
    },
    {
     "data": {
      "text/plain": [
       "[<Usuário(nome='Luiz', apelido='Luma')>]"
      ]
     },
     "execution_count": 67,
     "metadata": {},
     "output_type": "execute_result"
    }
   ],
   "source": [
    "session.query(Usuário).join(Endereço).filter(Endereço.email=='luiz_mario@google.com').all()"
   ]
  },
  {
   "cell_type": "markdown",
   "id": "70d54f47",
   "metadata": {},
   "source": [
    "**Query.join()** sabe como fazer a junção entre o usuário e o endereço porque há apenas uma chave estrangeira entre eles. "
   ]
  },
  {
   "cell_type": "markdown",
   "id": "c1dd6396",
   "metadata": {},
   "source": [
    "## Deletando\n",
    "\n",
    "Vamos tentar deletar **Luiz** e ver como fica. Marcaremos o objeto como excluído na session e, em seguida, emitiremos uma consulta de **count** para ver se nenhuma linha permanece:"
   ]
  },
  {
   "cell_type": "code",
   "execution_count": 68,
   "id": "82d1184d",
   "metadata": {},
   "outputs": [],
   "source": [
    "session.delete(luiz)"
   ]
  },
  {
   "cell_type": "code",
   "execution_count": 69,
   "id": "332d18a3",
   "metadata": {},
   "outputs": [
    {
     "name": "stdout",
     "output_type": "stream",
     "text": [
      "2021-06-01 23:01:57,533 INFO sqlalchemy.engine.Engine UPDATE \"endereços\" SET \"usuário_id\"=? WHERE \"endereços\".id = ?\n",
      "2021-06-01 23:01:57,534 INFO sqlalchemy.engine.Engine [generated in 0.00157s] ((None, 1), (None, 2))\n",
      "2021-06-01 23:01:57,557 INFO sqlalchemy.engine.Engine DELETE FROM \"usuários\" WHERE \"usuários\".id = ?\n",
      "2021-06-01 23:01:57,564 INFO sqlalchemy.engine.Engine [generated in 0.00813s] (5,)\n",
      "2021-06-01 23:01:57,578 INFO sqlalchemy.engine.Engine SELECT count(*) AS count_1 \n",
      "FROM (SELECT \"usuários\".id AS \"usuários_id\", \"usuários\".nome AS \"usuários_nome\", \"usuários\".sobrenome AS \"usuários_sobrenome\", \"usuários\".apelido AS \"usuários_apelido\" \n",
      "FROM \"usuários\" \n",
      "WHERE \"usuários\".nome = ?) AS anon_1\n",
      "2021-06-01 23:01:57,584 INFO sqlalchemy.engine.Engine [generated in 0.00602s] ('Luiz',)\n"
     ]
    },
    {
     "data": {
      "text/plain": [
       "0"
      ]
     },
     "execution_count": 69,
     "metadata": {},
     "output_type": "execute_result"
    }
   ],
   "source": [
    "session.query(Usuário).filter_by(nome='Luiz').count()"
   ]
  },
  {
   "cell_type": "markdown",
   "id": "cfc39b67",
   "metadata": {},
   "source": [
    "Até agora tudo bem. E os objetos de endereço de Luiz?"
   ]
  },
  {
   "cell_type": "code",
   "execution_count": 70,
   "id": "3ed95099",
   "metadata": {},
   "outputs": [
    {
     "name": "stdout",
     "output_type": "stream",
     "text": [
      "2021-06-01 23:01:57,675 INFO sqlalchemy.engine.Engine SELECT count(*) AS count_1 \n",
      "FROM (SELECT \"endereços\".id AS \"endereços_id\", \"endereços\".email AS \"endereços_email\", \"endereços\".\"usuário_id\" AS \"endereços_usuário_id\" \n",
      "FROM \"endereços\" \n",
      "WHERE \"endereços\".email IN (?, ?)) AS anon_1\n",
      "2021-06-01 23:01:57,676 INFO sqlalchemy.engine.Engine [generated in 0.00133s] ('luiz@google.com', 'luiz_mario@google.com')\n"
     ]
    },
    {
     "data": {
      "text/plain": [
       "2"
      ]
     },
     "execution_count": 70,
     "metadata": {},
     "output_type": "execute_result"
    }
   ],
   "source": [
    "session.query(Endereço).filter(Endereço.email.in_(['luiz@google.com', 'luiz_mario@google.com'])).count()"
   ]
  },
  {
   "cell_type": "markdown",
   "id": "3550714f",
   "metadata": {},
   "source": [
    "Veja que eles ainda estão lá! Analisando o flush SQL, podemos ver que a coluna **usuário_id** de cada endereço foi definida como **NULL**, mas as linhas não foram excluídas. SQLAlchemy não assume que exclui em cascata, você tem que dizer a ele para fazer isso."
   ]
  },
  {
   "cell_type": "markdown",
   "id": "a4625d2e",
   "metadata": {},
   "source": [
    "### Configurando delete/delete-orphan Cascade\n",
    "\n",
    "Configuraremos opções em cascata no relacionamento **Usuário.endereços** para alterar o comportamento. \n",
    "\n",
    "Embora SQLAlchemy permita adicionar novos atributos e relacionamentos aos mapeamentos a qualquer momento, neste caso, o relacionamento existente precisa ser removido, então precisamos destruir os mapeamentos completamente e começar novamente - vamos então fechar a **Session**:"
   ]
  },
  {
   "cell_type": "code",
   "execution_count": 71,
   "id": "0cef39d9",
   "metadata": {},
   "outputs": [
    {
     "name": "stdout",
     "output_type": "stream",
     "text": [
      "2021-06-01 23:01:57,759 INFO sqlalchemy.engine.Engine ROLLBACK\n"
     ]
    }
   ],
   "source": [
    "session.close()"
   ]
  },
  {
   "cell_type": "markdown",
   "id": "7655ba27",
   "metadata": {},
   "source": [
    "E usar uma nova **declarative_base()**:"
   ]
  },
  {
   "cell_type": "code",
   "execution_count": 72,
   "id": "b5350c70",
   "metadata": {},
   "outputs": [],
   "source": [
    "Base = declarative_base()"
   ]
  },
  {
   "cell_type": "markdown",
   "id": "0d9afdea",
   "metadata": {},
   "source": [
    "Em seguida, declararemos a classe **Usuário**, adicionando a relação de endereços, incluindo a configuração em cascata (deixaremos o construtor de fora também):"
   ]
  },
  {
   "cell_type": "code",
   "execution_count": 73,
   "id": "67712f74",
   "metadata": {},
   "outputs": [],
   "source": [
    "class Usuário(Base):\n",
    "    __tablename__ = 'usuários'\n",
    "\n",
    "    id = Column(Integer, primary_key=True)\n",
    "    nome = Column(String)\n",
    "    sobrenome = Column(String)\n",
    "    apelido = Column(String)\n",
    "    \n",
    "    endereços = relationship(\"Endereço\", back_populates='usuário', cascade=\"all, delete, delete-orphan\")\n",
    "\n",
    "    def __repr__(self):\n",
    "        return f\"<Usuário(nome='{self.nome}', apelido='{self.apelido}')>\" "
   ]
  },
  {
   "cell_type": "markdown",
   "id": "28ccbe14",
   "metadata": {},
   "source": [
    "Em seguida, recriamos **Endereço**, observando que, neste caso, já criamos o relacionamento **Endereço.usuário** por meio da classe **Usuário**:"
   ]
  },
  {
   "cell_type": "code",
   "execution_count": 74,
   "id": "85b0b3a9",
   "metadata": {},
   "outputs": [],
   "source": [
    "class Endereço(Base):\n",
    "    __tablename__ = 'endereços'\n",
    "    \n",
    "    id = Column(Integer, primary_key=True)\n",
    "    email = Column(String, nullable=False)\n",
    "    usuário_id = Column(Integer, ForeignKey('usuários.id'))\n",
    "    usuário = relationship(\"Usuário\", back_populates=\"endereços\")\n",
    "    \n",
    "    def __repr__(self):\n",
    "        return f\"<Endereço(email='{self.email}')>\""
   ]
  },
  {
   "cell_type": "markdown",
   "id": "87cc83c9",
   "metadata": {},
   "source": [
    "Agora, quando carregamos o usuário **Luiz** (abaixo usando **Query.get()**, que carrega por chave primária), remover um endereço da coleção de endereços correspondente resultará na exclusão desse endereço.\n",
    "\n",
    "Carregamos Luiz por sua chave primária:"
   ]
  },
  {
   "cell_type": "code",
   "execution_count": 75,
   "id": "b2080881",
   "metadata": {},
   "outputs": [
    {
     "name": "stdout",
     "output_type": "stream",
     "text": [
      "2021-06-01 23:01:58,286 INFO sqlalchemy.engine.Engine BEGIN (implicit)\n",
      "2021-06-01 23:01:58,293 INFO sqlalchemy.engine.Engine SELECT \"usuários\".id AS \"usuários_id\", \"usuários\".nome AS \"usuários_nome\", \"usuários\".sobrenome AS \"usuários_sobrenome\", \"usuários\".apelido AS \"usuários_apelido\" \n",
      "FROM \"usuários\" \n",
      "WHERE \"usuários\".id = ?\n",
      "2021-06-01 23:01:58,295 INFO sqlalchemy.engine.Engine [generated in 0.00210s] (5,)\n"
     ]
    },
    {
     "data": {
      "text/plain": [
       "<Usuário(nome='Luiz', apelido='Luma')>"
      ]
     },
     "execution_count": 75,
     "metadata": {},
     "output_type": "execute_result"
    }
   ],
   "source": [
    "luiz = session.query(Usuário).get(5)\n",
    "luiz"
   ]
  },
  {
   "cell_type": "markdown",
   "id": "935cd30e",
   "metadata": {},
   "source": [
    "Removemos um endereço (lazy load é disparado):"
   ]
  },
  {
   "cell_type": "code",
   "execution_count": 76,
   "id": "c7c66fb0",
   "metadata": {},
   "outputs": [
    {
     "name": "stdout",
     "output_type": "stream",
     "text": [
      "2021-06-01 23:01:58,385 INFO sqlalchemy.engine.Engine SELECT \"endereços\".id AS \"endereços_id\", \"endereços\".email AS \"endereços_email\", \"endereços\".\"usuário_id\" AS \"endereços_usuário_id\" \n",
      "FROM \"endereços\" \n",
      "WHERE ? = \"endereços\".\"usuário_id\"\n",
      "2021-06-01 23:01:58,386 INFO sqlalchemy.engine.Engine [generated in 0.00134s] (5,)\n"
     ]
    }
   ],
   "source": [
    "del luiz.endereços[1]"
   ]
  },
  {
   "cell_type": "markdown",
   "id": "36f9c8f4",
   "metadata": {},
   "source": [
    "Apenas um endereço permanece:"
   ]
  },
  {
   "cell_type": "code",
   "execution_count": 77,
   "id": "4e3d10be",
   "metadata": {},
   "outputs": [
    {
     "name": "stdout",
     "output_type": "stream",
     "text": [
      "2021-06-01 23:01:58,486 INFO sqlalchemy.engine.Engine DELETE FROM \"endereços\" WHERE \"endereços\".id = ?\n",
      "2021-06-01 23:01:58,492 INFO sqlalchemy.engine.Engine [generated in 0.00592s] (2,)\n",
      "2021-06-01 23:01:58,513 INFO sqlalchemy.engine.Engine SELECT count(*) AS count_1 \n",
      "FROM (SELECT \"endereços\".id AS \"endereços_id\", \"endereços\".email AS \"endereços_email\", \"endereços\".\"usuário_id\" AS \"endereços_usuário_id\" \n",
      "FROM \"endereços\" \n",
      "WHERE \"endereços\".email IN (?, ?)) AS anon_1\n",
      "2021-06-01 23:01:58,517 INFO sqlalchemy.engine.Engine [generated in 0.00422s] ('luiz@google.com', 'luiz_mario@google.com')\n"
     ]
    },
    {
     "data": {
      "text/plain": [
       "1"
      ]
     },
     "execution_count": 77,
     "metadata": {},
     "output_type": "execute_result"
    }
   ],
   "source": [
    "session.query(Endereço).filter(Endereço.email.in_(['luiz@google.com', 'luiz_mario@google.com'])).count()"
   ]
  },
  {
   "cell_type": "markdown",
   "id": "fcd167e0",
   "metadata": {},
   "source": [
    "A exclusão de Luiz excluirá Luiz e o endereço restante associado a ele:"
   ]
  },
  {
   "cell_type": "code",
   "execution_count": 78,
   "id": "f94493e8",
   "metadata": {},
   "outputs": [],
   "source": [
    "session.delete(luiz)"
   ]
  },
  {
   "cell_type": "code",
   "execution_count": 79,
   "id": "dbb4b85f",
   "metadata": {},
   "outputs": [
    {
     "name": "stdout",
     "output_type": "stream",
     "text": [
      "2021-06-01 23:01:58,717 INFO sqlalchemy.engine.Engine DELETE FROM \"endereços\" WHERE \"endereços\".id = ?\n",
      "2021-06-01 23:01:58,721 INFO sqlalchemy.engine.Engine [cached since 0.2338s ago] (1,)\n",
      "2021-06-01 23:01:58,727 INFO sqlalchemy.engine.Engine DELETE FROM \"usuários\" WHERE \"usuários\".id = ?\n",
      "2021-06-01 23:01:58,729 INFO sqlalchemy.engine.Engine [generated in 0.00223s] (5,)\n",
      "2021-06-01 23:01:58,742 INFO sqlalchemy.engine.Engine SELECT count(*) AS count_1 \n",
      "FROM (SELECT \"usuários\".id AS \"usuários_id\", \"usuários\".nome AS \"usuários_nome\", \"usuários\".sobrenome AS \"usuários_sobrenome\", \"usuários\".apelido AS \"usuários_apelido\" \n",
      "FROM \"usuários\" \n",
      "WHERE \"usuários\".nome = ?) AS anon_1\n",
      "2021-06-01 23:01:58,744 INFO sqlalchemy.engine.Engine [generated in 0.00244s] ('Luiz',)\n"
     ]
    },
    {
     "data": {
      "text/plain": [
       "0"
      ]
     },
     "execution_count": 79,
     "metadata": {},
     "output_type": "execute_result"
    }
   ],
   "source": [
    "session.query(Usuário).filter_by(nome='Luiz').count()"
   ]
  },
  {
   "cell_type": "code",
   "execution_count": 80,
   "id": "cb4a8313",
   "metadata": {},
   "outputs": [
    {
     "name": "stdout",
     "output_type": "stream",
     "text": [
      "2021-06-01 23:01:58,832 INFO sqlalchemy.engine.Engine SELECT count(*) AS count_1 \n",
      "FROM (SELECT \"endereços\".id AS \"endereços_id\", \"endereços\".email AS \"endereços_email\", \"endereços\".\"usuário_id\" AS \"endereços_usuário_id\" \n",
      "FROM \"endereços\" \n",
      "WHERE \"endereços\".email IN (?, ?)) AS anon_1\n",
      "2021-06-01 23:01:58,834 INFO sqlalchemy.engine.Engine [cached since 0.3216s ago] ('luiz@google.com', 'luiz_mario@google.com')\n"
     ]
    },
    {
     "data": {
      "text/plain": [
       "0"
      ]
     },
     "execution_count": 80,
     "metadata": {},
     "output_type": "execute_result"
    }
   ],
   "source": [
    "session.query(Endereço).filter(Endereço.email.in_(['luiz@google.com', 'luiz_mario@google.com'])).count()"
   ]
  },
  {
   "cell_type": "markdown",
   "id": "a730e334",
   "metadata": {},
   "source": [
    "Observe que agora o último email que restava também foi embora, junto com o usuário.\n",
    "\n",
    "Novamente fechamos a **session**:"
   ]
  },
  {
   "cell_type": "code",
   "execution_count": 81,
   "id": "6eeb47d6",
   "metadata": {},
   "outputs": [
    {
     "name": "stdout",
     "output_type": "stream",
     "text": [
      "2021-06-01 23:01:58,963 INFO sqlalchemy.engine.Engine ROLLBACK\n"
     ]
    }
   ],
   "source": [
    "session.close()"
   ]
  },
  {
   "cell_type": "markdown",
   "id": "5fe28fa1",
   "metadata": {},
   "source": [
    "## Construindo Relacionamentos Many To Many\n",
    "\n",
    "Faremos nosso sistema um aplicativo de blog, onde os usuários podem escrever itens **BlogPost**, que têm itens de **Keyword** (palavra-chave) associados a eles.\n",
    "\n",
    "Para um simples relacionamento muitos-para-muitos (**Many To Many**), precisamos criar uma construção de [Table](https://docs.sqlalchemy.org/en/14/core/metadata.html#sqlalchemy.schema.Table) não mapeada para servir como a tabela de associação. \n",
    "\n",
    "Isso se parece com o seguinte:"
   ]
  },
  {
   "cell_type": "code",
   "execution_count": 82,
   "id": "04f5dc18",
   "metadata": {},
   "outputs": [],
   "source": [
    "from sqlalchemy import Table, Text\n",
    "\n",
    "post_keywords = Table('post_keywords', Base.metadata,\n",
    "    Column('post_id', ForeignKey('posts.id'), primary_key=True),\n",
    "    Column('keyword_id', ForeignKey('keywords.id'), primary_key=True)\n",
    ")"
   ]
  },
  {
   "cell_type": "markdown",
   "id": "59afb3f5",
   "metadata": {},
   "source": [
    "Acima, podemos ver que declarar uma Table diretamente é um pouco diferente de declarar uma classe mapeada. \n",
    "\n",
    "Table é uma função construtora, portanto, cada argumento de **Column** individual é separado por uma vírgula. O objeto Column também recebe seu nome explicitamente, em vez de ser obtido de um nome de atributo atribuído.\n",
    "\n",
    "Em seguida, definimos **BlogPost** e **Keyword**, usando construções de **relationship()** complementar, cada uma referindo-se à tabela **post_keywords** como uma tabela de associação:"
   ]
  },
  {
   "cell_type": "code",
   "execution_count": 83,
   "id": "a96e5937",
   "metadata": {},
   "outputs": [],
   "source": [
    "class BlogPost(Base):\n",
    "    __tablename__ = 'posts'\n",
    "    \n",
    "    id = Column(Integer, primary_key=True)\n",
    "    usuário_id = Column(Integer, ForeignKey('usuários.id'))\n",
    "    título = Column(String(255), nullable=False)\n",
    "    corpo = Column(Text)\n",
    "    \n",
    "    # many to many BlogPost <-> Keyword\n",
    "    keywords = relationship('Keyword', secondary=post_keywords, back_populates='posts')\n",
    "    \n",
    "    def __init__(self, título, corpo, autor):\n",
    "        self.autor = autor\n",
    "        self.título = título\n",
    "        self.corpo = corpo\n",
    "    \n",
    "    def __repr__(self):\n",
    "        return f\"BlogPost({self.título}, {self.corpo}, {self.autor})\""
   ]
  },
  {
   "cell_type": "code",
   "execution_count": 84,
   "id": "a806bc2d",
   "metadata": {},
   "outputs": [],
   "source": [
    "class Keyword(Base):\n",
    "    __tablename__ = 'keywords'\n",
    "    \n",
    "    id = Column(Integer, primary_key=True)\n",
    "    keyword = Column(String(50), nullable=False, unique=True)\n",
    "    posts = relationship('BlogPost', secondary=post_keywords, back_populates='keywords')\n",
    "    \n",
    "    def __init__(self, keyword):\n",
    "        self.keyword = keyword"
   ]
  },
  {
   "cell_type": "markdown",
   "id": "ce764373",
   "metadata": {},
   "source": [
    "**Observação**: As declarações de classe acima ilustram métodos **__init __()** explícitos. Lembre-se, ao usar Declarative, é opcional!\n",
    "\n",
    "Acima, o relacionamento muitos para muitos é **BlogPost.keywords**. O recurso que define um relacionamento muitos-para-muitos é o argumento da palavra-chave **secondary** que faz referência a um objeto Table que representa a tabela de associação. Esta tabela contém apenas colunas que fazem referência aos dois lados do relacionamento; se tiver quaisquer outras colunas, como sua própria chave primária ou chaves estrangeiras para outras tabelas, SQLAlchemy requer um padrão de uso diferente denominado “objeto de associação”, descrito em [Association Object](https://docs.sqlalchemy.org/en/14/orm/basic_relationships.html#association-pattern).\n",
    "\n",
    "Também gostaríamos que nossa classe BlogPost tivesse um campo de **autor**. Adicionaremos isso como outra relação bidirecional, exceto que um problema que teremos é que um único usuário pode ter muitas postagens de blog. Quando acessamos **Usuário.posts**, gostaríamos de poder filtrar ainda mais os resultados para não carregar a coleção inteira. Para isso, usamos uma configuração aceita por **relationship()** chamada `lazy='dynamic'`, que configura uma **loader strategy** alternativa no atributo:"
   ]
  },
  {
   "cell_type": "code",
   "execution_count": 85,
   "id": "bd399636",
   "metadata": {},
   "outputs": [],
   "source": [
    "BlogPost.autor = relationship(Usuário, back_populates=\"posts\")"
   ]
  },
  {
   "cell_type": "code",
   "execution_count": 86,
   "id": "cf885090",
   "metadata": {},
   "outputs": [],
   "source": [
    "Usuário.posts = relationship(BlogPost, back_populates=\"autor\", lazy=\"dynamic\")"
   ]
  },
  {
   "cell_type": "markdown",
   "id": "e291e5e4",
   "metadata": {},
   "source": [
    "Criamos as novas tabelas:"
   ]
  },
  {
   "cell_type": "code",
   "execution_count": 87,
   "id": "277d2952",
   "metadata": {},
   "outputs": [
    {
     "name": "stdout",
     "output_type": "stream",
     "text": [
      "2021-06-01 23:01:59,730 INFO sqlalchemy.engine.Engine BEGIN (implicit)\n",
      "2021-06-01 23:01:59,733 INFO sqlalchemy.engine.Engine PRAGMA main.table_info(\"usuários\")\n",
      "2021-06-01 23:01:59,736 INFO sqlalchemy.engine.Engine [raw sql] ()\n",
      "2021-06-01 23:01:59,741 INFO sqlalchemy.engine.Engine PRAGMA main.table_info(\"endereços\")\n",
      "2021-06-01 23:01:59,742 INFO sqlalchemy.engine.Engine [raw sql] ()\n",
      "2021-06-01 23:01:59,744 INFO sqlalchemy.engine.Engine PRAGMA main.table_info(\"post_keywords\")\n",
      "2021-06-01 23:01:59,746 INFO sqlalchemy.engine.Engine [raw sql] ()\n",
      "2021-06-01 23:01:59,748 INFO sqlalchemy.engine.Engine PRAGMA temp.table_info(\"post_keywords\")\n",
      "2021-06-01 23:01:59,749 INFO sqlalchemy.engine.Engine [raw sql] ()\n",
      "2021-06-01 23:01:59,754 INFO sqlalchemy.engine.Engine PRAGMA main.table_info(\"posts\")\n",
      "2021-06-01 23:01:59,760 INFO sqlalchemy.engine.Engine [raw sql] ()\n",
      "2021-06-01 23:01:59,766 INFO sqlalchemy.engine.Engine PRAGMA temp.table_info(\"posts\")\n",
      "2021-06-01 23:01:59,773 INFO sqlalchemy.engine.Engine [raw sql] ()\n",
      "2021-06-01 23:01:59,777 INFO sqlalchemy.engine.Engine PRAGMA main.table_info(\"keywords\")\n",
      "2021-06-01 23:01:59,779 INFO sqlalchemy.engine.Engine [raw sql] ()\n",
      "2021-06-01 23:01:59,785 INFO sqlalchemy.engine.Engine PRAGMA temp.table_info(\"keywords\")\n",
      "2021-06-01 23:01:59,788 INFO sqlalchemy.engine.Engine [raw sql] ()\n",
      "2021-06-01 23:01:59,792 INFO sqlalchemy.engine.Engine \n",
      "CREATE TABLE posts (\n",
      "\tid INTEGER NOT NULL, \n",
      "\t\"usuário_id\" INTEGER, \n",
      "\t\"título\" VARCHAR(255) NOT NULL, \n",
      "\tcorpo TEXT, \n",
      "\tPRIMARY KEY (id), \n",
      "\tFOREIGN KEY(\"usuário_id\") REFERENCES \"usuários\" (id)\n",
      ")\n",
      "\n",
      "\n",
      "2021-06-01 23:01:59,793 INFO sqlalchemy.engine.Engine [no key 0.00155s] ()\n",
      "2021-06-01 23:01:59,945 INFO sqlalchemy.engine.Engine \n",
      "CREATE TABLE keywords (\n",
      "\tid INTEGER NOT NULL, \n",
      "\tkeyword VARCHAR(50) NOT NULL, \n",
      "\tPRIMARY KEY (id), \n",
      "\tUNIQUE (keyword)\n",
      ")\n",
      "\n",
      "\n",
      "2021-06-01 23:01:59,947 INFO sqlalchemy.engine.Engine [no key 0.00166s] ()\n",
      "2021-06-01 23:02:00,045 INFO sqlalchemy.engine.Engine \n",
      "CREATE TABLE post_keywords (\n",
      "\tpost_id INTEGER NOT NULL, \n",
      "\tkeyword_id INTEGER NOT NULL, \n",
      "\tPRIMARY KEY (post_id, keyword_id), \n",
      "\tFOREIGN KEY(post_id) REFERENCES posts (id), \n",
      "\tFOREIGN KEY(keyword_id) REFERENCES keywords (id)\n",
      ")\n",
      "\n",
      "\n",
      "2021-06-01 23:02:00,046 INFO sqlalchemy.engine.Engine [no key 0.00095s] ()\n",
      "2021-06-01 23:02:00,156 INFO sqlalchemy.engine.Engine COMMIT\n"
     ]
    }
   ],
   "source": [
    "Base.metadata.create_all(engine)"
   ]
  },
  {
   "cell_type": "markdown",
   "id": "dba17575",
   "metadata": {},
   "source": [
    "O uso não é muito diferente do que temos feito. Vamos dar a **Gabriel** algumas postagens no blog:"
   ]
  },
  {
   "cell_type": "code",
   "execution_count": 88,
   "id": "c232537f",
   "metadata": {},
   "outputs": [
    {
     "name": "stdout",
     "output_type": "stream",
     "text": [
      "2021-06-01 23:02:00,164 INFO sqlalchemy.engine.Engine BEGIN (implicit)\n",
      "2021-06-01 23:02:00,168 INFO sqlalchemy.engine.Engine SELECT \"usuários\".id AS \"usuários_id\", \"usuários\".nome AS \"usuários_nome\", \"usuários\".sobrenome AS \"usuários_sobrenome\", \"usuários\".apelido AS \"usuários_apelido\" \n",
      "FROM \"usuários\" \n",
      "WHERE \"usuários\".nome = ?\n",
      "2021-06-01 23:02:00,170 INFO sqlalchemy.engine.Engine [generated in 0.00168s] ('Gabriel',)\n"
     ]
    },
    {
     "data": {
      "text/plain": [
       "<Usuário(nome='Gabriel', apelido='Biel')>"
      ]
     },
     "execution_count": 88,
     "metadata": {},
     "output_type": "execute_result"
    }
   ],
   "source": [
    "gabriel = session.query(Usuário).filter_by(nome='Gabriel').one()\n",
    "gabriel"
   ]
  },
  {
   "cell_type": "code",
   "execution_count": 89,
   "id": "8cc22278",
   "metadata": {},
   "outputs": [],
   "source": [
    "post = BlogPost(\"Post do Gabriel\", \"Meu primeiro post no blog\", gabriel)\n",
    "session.add(post)"
   ]
  },
  {
   "cell_type": "markdown",
   "id": "0eb38d25",
   "metadata": {},
   "source": [
    "Estamos armazenando **keywords** (palavras-chave) exclusivamente no banco de dados, mas sabemos que ainda não temos nenhuma, então podemos apenas criá-las:"
   ]
  },
  {
   "cell_type": "code",
   "execution_count": 90,
   "id": "4e097688",
   "metadata": {},
   "outputs": [],
   "source": [
    "post.keywords.append(Keyword('gabriel'))\n",
    "post.keywords.append(Keyword('primeiro_post'))"
   ]
  },
  {
   "cell_type": "markdown",
   "id": "d8d6f54b",
   "metadata": {},
   "source": [
    "Agora podemos pesquisar todas as postagens de blog com a palavra-chave ‘primeiro_post’. \n",
    "\n",
    "Usaremos o operador **any** para localizar “postagens de blog em que qualquer uma de suas palavras-chave tenha a string de palavra-chave ‘primeiro_post’”:"
   ]
  },
  {
   "cell_type": "code",
   "execution_count": 91,
   "id": "0ddf11ce",
   "metadata": {},
   "outputs": [
    {
     "name": "stdout",
     "output_type": "stream",
     "text": [
      "2021-06-01 23:02:00,542 INFO sqlalchemy.engine.Engine INSERT INTO keywords (keyword) VALUES (?)\n",
      "2021-06-01 23:02:00,544 INFO sqlalchemy.engine.Engine [generated in 0.00236s] ('gabriel',)\n",
      "2021-06-01 23:02:00,550 INFO sqlalchemy.engine.Engine INSERT INTO keywords (keyword) VALUES (?)\n",
      "2021-06-01 23:02:00,553 INFO sqlalchemy.engine.Engine [cached since 0.01126s ago] ('primeiro_post',)\n",
      "2021-06-01 23:02:00,566 INFO sqlalchemy.engine.Engine INSERT INTO posts (\"usuário_id\", \"título\", corpo) VALUES (?, ?, ?)\n",
      "2021-06-01 23:02:00,571 INFO sqlalchemy.engine.Engine [generated in 0.00513s] (1, 'Post do Gabriel', 'Meu primeiro post no blog')\n",
      "2021-06-01 23:02:00,579 INFO sqlalchemy.engine.Engine INSERT INTO post_keywords (post_id, keyword_id) VALUES (?, ?)\n",
      "2021-06-01 23:02:00,587 INFO sqlalchemy.engine.Engine [generated in 0.00833s] ((1, 1), (1, 2))\n",
      "2021-06-01 23:02:00,609 INFO sqlalchemy.engine.Engine SELECT posts.id AS posts_id, posts.\"usuário_id\" AS \"posts_usuário_id\", posts.\"título\" AS \"posts_título\", posts.corpo AS posts_corpo \n",
      "FROM posts \n",
      "WHERE EXISTS (SELECT 1 \n",
      "FROM post_keywords, keywords \n",
      "WHERE posts.id = post_keywords.post_id AND keywords.id = post_keywords.keyword_id AND keywords.keyword = ?)\n",
      "2021-06-01 23:02:00,612 INFO sqlalchemy.engine.Engine [generated in 0.00314s] ('primeiro_post',)\n"
     ]
    },
    {
     "data": {
      "text/plain": [
       "[BlogPost(Post do Gabriel, Meu primeiro post no blog, <Usuário(nome='Gabriel', apelido='Biel')>)]"
      ]
     },
     "execution_count": 91,
     "metadata": {},
     "output_type": "execute_result"
    }
   ],
   "source": [
    "session.query(BlogPost).filter(BlogPost.keywords.any(keyword='primeiro_post')).all()"
   ]
  },
  {
   "cell_type": "markdown",
   "id": "5d0de57e",
   "metadata": {},
   "source": [
    "Se quisermos pesquisar as postagens pertencentes ao usuário **Gabriel**, podemos dizer à consulta para se restringir a esse objeto **Usuário** como pai:"
   ]
  },
  {
   "cell_type": "code",
   "execution_count": 92,
   "id": "b7c0d7da",
   "metadata": {},
   "outputs": [
    {
     "name": "stdout",
     "output_type": "stream",
     "text": [
      "2021-06-01 23:02:00,680 INFO sqlalchemy.engine.Engine SELECT posts.id AS posts_id, posts.\"usuário_id\" AS \"posts_usuário_id\", posts.\"título\" AS \"posts_título\", posts.corpo AS posts_corpo \n",
      "FROM posts \n",
      "WHERE ? = posts.\"usuário_id\" AND (EXISTS (SELECT 1 \n",
      "FROM post_keywords, keywords \n",
      "WHERE posts.id = post_keywords.post_id AND keywords.id = post_keywords.keyword_id AND keywords.keyword = ?))\n",
      "2021-06-01 23:02:00,681 INFO sqlalchemy.engine.Engine [generated in 0.00214s] (1, 'primeiro_post')\n"
     ]
    },
    {
     "data": {
      "text/plain": [
       "[BlogPost(Post do Gabriel, Meu primeiro post no blog, <Usuário(nome='Gabriel', apelido='Biel')>)]"
      ]
     },
     "execution_count": 92,
     "metadata": {},
     "output_type": "execute_result"
    }
   ],
   "source": [
    "session.query(BlogPost).filter(BlogPost.autor==gabriel).filter(BlogPost.keywords.any(keyword='primeiro_post')).all()"
   ]
  },
  {
   "cell_type": "markdown",
   "id": "f3bda13c",
   "metadata": {},
   "source": [
    "Ou podemos usar o relacionamento de postagens do próprio Gabriel, que é um relacionamento \"dinâmico\", para consultar diretamente a partir daí:"
   ]
  },
  {
   "cell_type": "code",
   "execution_count": 93,
   "id": "943d4766",
   "metadata": {},
   "outputs": [
    {
     "name": "stdout",
     "output_type": "stream",
     "text": [
      "2021-06-01 23:02:00,816 INFO sqlalchemy.engine.Engine SELECT posts.id AS posts_id, posts.\"usuário_id\" AS \"posts_usuário_id\", posts.\"título\" AS \"posts_título\", posts.corpo AS posts_corpo \n",
      "FROM posts \n",
      "WHERE ? = posts.\"usuário_id\" AND (EXISTS (SELECT 1 \n",
      "FROM post_keywords, keywords \n",
      "WHERE posts.id = post_keywords.post_id AND keywords.id = post_keywords.keyword_id AND keywords.keyword = ?))\n",
      "2021-06-01 23:02:00,818 INFO sqlalchemy.engine.Engine [generated in 0.00259s] (1, 'primeiro_post')\n"
     ]
    },
    {
     "data": {
      "text/plain": [
       "[BlogPost(Post do Gabriel, Meu primeiro post no blog, <Usuário(nome='Gabriel', apelido='Biel')>)]"
      ]
     },
     "execution_count": 93,
     "metadata": {},
     "output_type": "execute_result"
    }
   ],
   "source": [
    "gabriel.posts.filter(BlogPost.keywords.any(keyword='primeiro_post')).all()"
   ]
  },
  {
   "cell_type": "markdown",
   "id": "400445d6",
   "metadata": {},
   "source": [
    "Com tudo concluído, encerramos a **session**."
   ]
  },
  {
   "cell_type": "code",
   "execution_count": 94,
   "id": "b21a7690",
   "metadata": {},
   "outputs": [
    {
     "name": "stdout",
     "output_type": "stream",
     "text": [
      "2021-06-01 23:10:31,542 INFO sqlalchemy.engine.Engine ROLLBACK\n"
     ]
    }
   ],
   "source": [
    "session.close()"
   ]
  },
  {
   "cell_type": "markdown",
   "id": "da1ce2e9",
   "metadata": {},
   "source": [
    "## Referências\n",
    "\n",
    "- [SQLAlchemy Tutorial](https://docs.sqlalchemy.org/en/14/orm/tutorial.html)\n",
    "- [SQLAlchemy ORM Tutorial](https://auth0.com/blog/sqlalchemy-orm-tutorial-for-python-developers/)"
   ]
  }
 ],
 "metadata": {
  "kernelspec": {
   "display_name": "Python 3",
   "language": "python",
   "name": "python3"
  },
  "language_info": {
   "codemirror_mode": {
    "name": "ipython",
    "version": 3
   },
   "file_extension": ".py",
   "mimetype": "text/x-python",
   "name": "python",
   "nbconvert_exporter": "python",
   "pygments_lexer": "ipython3",
   "version": "3.7.10"
  }
 },
 "nbformat": 4,
 "nbformat_minor": 5
}
