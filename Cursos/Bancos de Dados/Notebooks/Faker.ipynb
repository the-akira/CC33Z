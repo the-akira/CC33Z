{
 "cells": [
  {
   "cell_type": "markdown",
   "id": "1cfcc404",
   "metadata": {},
   "source": [
    "# Gerando Dados Falsos com Faker\n",
    "\n",
    "Python fornece uma biblioteca **open-source**, também conhecida como [Faker](https://faker.readthedocs.io/en/master/https://faker.readthedocs.io/en/master/), que ajuda o usuário a construir o seu conjunto de dados. \n",
    "\n",
    "Podemos gerar dados aleatórios usando atributos aleatórios como **nome**, **idade**, **localização** e muitos mais. A biblioteca Faker oferece suporte a diversos locais e idiomas úteis para gerar dados baseados na sua localidade. \n",
    "\n",
    "Podemos utilizar esses dados do Faker para ajustar modelos de machine learning, testar a resistência de um modelo, criar um banco de dados experimental e muito mais. Podemos gerar dados dependendo de nossos requisitos. \n",
    "\n",
    "Neste notebook, entenderemos o Faker e suas funções e criaremos nosso próprio Dataset."
   ]
  },
  {
   "cell_type": "markdown",
   "id": "4f90eae5",
   "metadata": {},
   "source": [
    "## Instalando Faker\n",
    "\n",
    "Antes de começarmos a trabalhar no Faker, é necessário instalarmos a biblioteca. Podemos fazer isso usando o instalador [pip](https://pypi.org/project/pip/) no prompt de comando ou terminal, conforme mostrado abaixo:\n",
    "\n",
    "```\n",
    "pip install faker  \n",
    "```"
   ]
  },
  {
   "cell_type": "markdown",
   "id": "b3fe1059",
   "metadata": {},
   "source": [
    "## Importando Bibliotecas Necessárias\n",
    "\n",
    "Para descobrir várias funções da biblioteca Faker, devemos importar a biblioteca faker. \n",
    "\n",
    "Também estamos importando a biblioteca pandas, pois faremos algumas operações no Dataset."
   ]
  },
  {
   "cell_type": "code",
   "execution_count": 1,
   "id": "f0283dfe",
   "metadata": {},
   "outputs": [],
   "source": [
    "from faker import Faker\n",
    "import pandas as pd"
   ]
  },
  {
   "cell_type": "markdown",
   "id": "1ce86878",
   "metadata": {},
   "source": [
    "## Usando Funções\n",
    "\n",
    "Assim que terminarmos de importar as bibliotecas necessárias, vamos tentar usar várias funções disponíveis na biblioteca Faker. Para realizar tal atividade, temos que instanciar um objeto Faker com o auxílio de uma variável conforme mostrado abaixo:"
   ]
  },
  {
   "cell_type": "code",
   "execution_count": 2,
   "id": "d8866bdb",
   "metadata": {},
   "outputs": [
    {
     "name": "stdout",
     "output_type": "stream",
     "text": [
      "<faker.proxy.Faker object at 0x7fbfc6f9fc10>\n"
     ]
    }
   ],
   "source": [
    "amostra = Faker()  \n",
    "print(amostra)"
   ]
  },
  {
   "cell_type": "markdown",
   "id": "0860be78",
   "metadata": {},
   "source": [
    "Agora que temos o objeto **amostra** podemos facilmente gerar dados.\n",
    "\n",
    "Vamos começar gerando um nome:"
   ]
  },
  {
   "cell_type": "code",
   "execution_count": 3,
   "id": "5f2eed1a",
   "metadata": {},
   "outputs": [
    {
     "name": "stdout",
     "output_type": "stream",
     "text": [
      "Seu Nome é: Kristopher Molina\n"
     ]
    }
   ],
   "source": [
    "print(f\"Seu Nome é: {amostra.name()}\")  "
   ]
  },
  {
   "cell_type": "markdown",
   "id": "eb469f8c",
   "metadata": {},
   "source": [
    "Data de Nascimento:"
   ]
  },
  {
   "cell_type": "code",
   "execution_count": 4,
   "id": "0ecd9bfd",
   "metadata": {},
   "outputs": [
    {
     "name": "stdout",
     "output_type": "stream",
     "text": [
      "Seu nascimento é em 1926-03-10\n"
     ]
    }
   ],
   "source": [
    "print(f\"Seu nascimento é em {amostra.date_of_birth()}\")"
   ]
  },
  {
   "cell_type": "markdown",
   "id": "7d0183c1",
   "metadata": {},
   "source": [
    "Endereço:"
   ]
  },
  {
   "cell_type": "code",
   "execution_count": 5,
   "id": "565f5a6e",
   "metadata": {},
   "outputs": [
    {
     "name": "stdout",
     "output_type": "stream",
     "text": [
      "Seu endereço é: 12054 Vazquez Meadows Suite 961\n",
      "Port Jennifer, ME 93410\n"
     ]
    }
   ],
   "source": [
    "print(f\"Seu endereço é: {amostra.address()}\")"
   ]
  },
  {
   "cell_type": "markdown",
   "id": "cd080dbe",
   "metadata": {},
   "source": [
    "País:"
   ]
  },
  {
   "cell_type": "code",
   "execution_count": 6,
   "id": "4c7931ed",
   "metadata": {},
   "outputs": [
    {
     "name": "stdout",
     "output_type": "stream",
     "text": [
      "Seu país é: Ethiopia\n"
     ]
    }
   ],
   "source": [
    "print(f\"Seu país é: {amostra.country()}\")"
   ]
  },
  {
   "cell_type": "markdown",
   "id": "1c77ded2",
   "metadata": {},
   "source": [
    "Email:"
   ]
  },
  {
   "cell_type": "code",
   "execution_count": 7,
   "id": "91164c64",
   "metadata": {},
   "outputs": [
    {
     "name": "stdout",
     "output_type": "stream",
     "text": [
      "Seu email é: bradleypratt@lang-hernandez.net\n"
     ]
    }
   ],
   "source": [
    "print(f\"Seu email é: {amostra.email()}\")"
   ]
  },
  {
   "cell_type": "markdown",
   "id": "3088cccd",
   "metadata": {},
   "source": [
    "Também podemos gerar informações de acordo com diferentes localidades e regiões em diferentes idiomas. Tudo o que precisamos fazer é mencionar o idioma que desejamos."
   ]
  },
  {
   "cell_type": "code",
   "execution_count": 8,
   "id": "516df2a5",
   "metadata": {},
   "outputs": [],
   "source": [
    "sample = Faker('pt_br')  "
   ]
  },
  {
   "cell_type": "code",
   "execution_count": 9,
   "id": "7c39c0c5",
   "metadata": {},
   "outputs": [
    {
     "name": "stdout",
     "output_type": "stream",
     "text": [
      "Davi Lucas Martins\n",
      "Anthony Vieira\n",
      "Thales Correia\n",
      "Julia da Cruz\n",
      "Luigi Pires\n",
      "Maria Eduarda Vieira\n",
      "Sophie Freitas\n",
      "Cauã Monteiro\n",
      "Júlia Araújo\n",
      "Sr. Davi da Rosa\n"
     ]
    }
   ],
   "source": [
    "for _ in range(10):  \n",
    "    print(sample.name())  "
   ]
  },
  {
   "cell_type": "markdown",
   "id": "0bc13a00",
   "metadata": {},
   "source": [
    "Também podemos gerar nossos próprios textos ou frases usando funções como texto e frases.\n",
    "\n",
    "Vamos considerar o exemplo a seguir para entender como essas funções funcionam."
   ]
  },
  {
   "cell_type": "code",
   "execution_count": 10,
   "id": "0826ce71",
   "metadata": {},
   "outputs": [
    {
     "name": "stdout",
     "output_type": "stream",
     "text": [
      "Texto: Repudiandae aperiam eius dolorem hic perspiciatis nobis. Labore omnis dolorem inventore.\n",
      "Sentence: Nesciunt velit repellendus.\n"
     ]
    }
   ],
   "source": [
    "print(f\"Texto: {sample.text()}\")   \n",
    "print(f\"Sentence: {sample.sentence()}\")  "
   ]
  },
  {
   "cell_type": "markdown",
   "id": "91ec5675",
   "metadata": {},
   "source": [
    "Além disso, o módulo Faker também fornece uma função para gerar os perfis completos para diferentes pessoas não existentes, em vez de gerar nomes e endereços separadamente. Essa função é conhecida como função **profile** e gera um perfil falso de uma pessoa.\n",
    "\n",
    "Vamos considerar o exemplo a seguir para entender o comportamento desta função:"
   ]
  },
  {
   "cell_type": "code",
   "execution_count": 11,
   "id": "e3fc0750",
   "metadata": {},
   "outputs": [
    {
     "name": "stdout",
     "output_type": "stream",
     "text": [
      "Perfil Completo: {'job': 'Letrista', 'company': 'Duarte Ltda.', 'ssn': '08742516307', 'residence': 'Residencial Rafael Farias, 9\\nLiberdade\\n00429-813 Caldeira da Praia / CE', 'current_location': (Decimal('-48.768407'), Decimal('60.896277')), 'blood_group': 'B+', 'website': ['http://teixeira.br/', 'https://santos.br/', 'http://www.viana.br/', 'http://www.fernandes.com/'], 'username': 'unascimento', 'name': 'Dr. Pedro Miguel Costela', 'sex': 'M', 'address': 'Núcleo de Ferreira, 7\\nSão Francisco Das Chagas\\n13680-090 Rezende / PA', 'mail': 'otavio85@bol.com.br', 'birthdate': datetime.date(1932, 3, 16)}\n"
     ]
    }
   ],
   "source": [
    "print(f\"Perfil Completo: {sample.profile()}\")  "
   ]
  },
  {
   "cell_type": "markdown",
   "id": "b74331f0",
   "metadata": {},
   "source": [
    "## Criando um Conjunto de Dados Falso\n",
    "\n",
    "Como descobrimos a maioria das funções e já trabalhamos na função de profile, vamos tentar gerar um conjunto de dados contendo perfis falsos de 20 pessoas únicas. Para armazenar esses perfis em um **DataFrame**, usaremos a biblioteca pandas."
   ]
  },
  {
   "cell_type": "code",
   "execution_count": 12,
   "id": "5e44abc2",
   "metadata": {},
   "outputs": [
    {
     "data": {
      "text/html": [
       "<div>\n",
       "<style scoped>\n",
       "    .dataframe tbody tr th:only-of-type {\n",
       "        vertical-align: middle;\n",
       "    }\n",
       "\n",
       "    .dataframe tbody tr th {\n",
       "        vertical-align: top;\n",
       "    }\n",
       "\n",
       "    .dataframe thead th {\n",
       "        text-align: right;\n",
       "    }\n",
       "</style>\n",
       "<table border=\"1\" class=\"dataframe\">\n",
       "  <thead>\n",
       "    <tr style=\"text-align: right;\">\n",
       "      <th></th>\n",
       "      <th>job</th>\n",
       "      <th>company</th>\n",
       "      <th>ssn</th>\n",
       "      <th>residence</th>\n",
       "      <th>current_location</th>\n",
       "      <th>blood_group</th>\n",
       "      <th>website</th>\n",
       "      <th>username</th>\n",
       "      <th>name</th>\n",
       "      <th>sex</th>\n",
       "      <th>address</th>\n",
       "      <th>mail</th>\n",
       "      <th>birthdate</th>\n",
       "    </tr>\n",
       "  </thead>\n",
       "  <tbody>\n",
       "    <tr>\n",
       "      <th>0</th>\n",
       "      <td>Repórter</td>\n",
       "      <td>Pereira Almeida e Filhos</td>\n",
       "      <td>12936708559</td>\n",
       "      <td>Praça Francisco Dias\\nMantiqueira\\n36449729 da...</td>\n",
       "      <td>(-82.2432365, 174.512792)</td>\n",
       "      <td>B-</td>\n",
       "      <td>[https://moreira.br/, http://www.lopes.com/, h...</td>\n",
       "      <td>gustavo-henrique64</td>\n",
       "      <td>Ana Julia Pires</td>\n",
       "      <td>F</td>\n",
       "      <td>Largo Moraes, 64\\nVila Suzana Primeira Seção\\n...</td>\n",
       "      <td>isisda-cruz@hotmail.com</td>\n",
       "      <td>1968-05-08</td>\n",
       "    </tr>\n",
       "    <tr>\n",
       "      <th>1</th>\n",
       "      <td>Ortopedista</td>\n",
       "      <td>Rodrigues</td>\n",
       "      <td>52980317659</td>\n",
       "      <td>Chácara de Lopes, 8\\nNossa Senhora Da Conceiçã...</td>\n",
       "      <td>(-24.081178, -23.111544)</td>\n",
       "      <td>AB+</td>\n",
       "      <td>[http://fernandes.net/, https://viana.com/, ht...</td>\n",
       "      <td>knovaes</td>\n",
       "      <td>Guilherme Monteiro</td>\n",
       "      <td>M</td>\n",
       "      <td>Trevo Lopes, 462\\nAcaiaca\\n94526-132 Martins d...</td>\n",
       "      <td>costadavi-luiz@yahoo.com.br</td>\n",
       "      <td>1975-06-07</td>\n",
       "    </tr>\n",
       "    <tr>\n",
       "      <th>2</th>\n",
       "      <td>Dançarino</td>\n",
       "      <td>da Conceição Moraes e Filhos</td>\n",
       "      <td>45809762310</td>\n",
       "      <td>Alameda Davi Luiz Barbosa, 973\\nVila Nova\\n581...</td>\n",
       "      <td>(87.5386115, -45.403479)</td>\n",
       "      <td>AB-</td>\n",
       "      <td>[http://castro.net/, http://www.da.br/, http:/...</td>\n",
       "      <td>isabelnascimento</td>\n",
       "      <td>Alexia Melo</td>\n",
       "      <td>F</td>\n",
       "      <td>Jardim Ramos, 58\\nIpe\\n88831565 da Cunha da Ma...</td>\n",
       "      <td>bramos@ig.com.br</td>\n",
       "      <td>1979-07-07</td>\n",
       "    </tr>\n",
       "    <tr>\n",
       "      <th>3</th>\n",
       "      <td>Escrivão</td>\n",
       "      <td>Mendes</td>\n",
       "      <td>39124765007</td>\n",
       "      <td>Rua de da Conceição, 86\\nCamponesa 2ª Seção\\n0...</td>\n",
       "      <td>(17.3598725, -0.597174)</td>\n",
       "      <td>AB+</td>\n",
       "      <td>[http://cardoso.com/, http://www.freitas.br/, ...</td>\n",
       "      <td>teixeiramiguel</td>\n",
       "      <td>Luiz Otávio Gonçalves</td>\n",
       "      <td>M</td>\n",
       "      <td>Avenida da Cruz, 56\\nVila Santa Rosa\\n69024561...</td>\n",
       "      <td>eloahvieira@bol.com.br</td>\n",
       "      <td>1957-01-24</td>\n",
       "    </tr>\n",
       "    <tr>\n",
       "      <th>4</th>\n",
       "      <td>Protesista</td>\n",
       "      <td>Moreira Rodrigues S.A.</td>\n",
       "      <td>82017453960</td>\n",
       "      <td>Passarela de Moura, 9\\nJoão Alfredo\\n02595-860...</td>\n",
       "      <td>(67.756709, 93.912120)</td>\n",
       "      <td>AB-</td>\n",
       "      <td>[https://www.lima.com/, https://www.jesus.com/...</td>\n",
       "      <td>augusto80</td>\n",
       "      <td>Valentina Mendes</td>\n",
       "      <td>F</td>\n",
       "      <td>Residencial Alice Viana, 768\\nVila Calafate\\n7...</td>\n",
       "      <td>lucas-gabrielmoura@hotmail.com</td>\n",
       "      <td>1970-03-04</td>\n",
       "    </tr>\n",
       "    <tr>\n",
       "      <th>5</th>\n",
       "      <td>Desembargador de justiça</td>\n",
       "      <td>Santos</td>\n",
       "      <td>96037215499</td>\n",
       "      <td>Conjunto Oliveira, 4\\nLaranjeiras\\n29019-652 G...</td>\n",
       "      <td>(15.704599, 82.561746)</td>\n",
       "      <td>O+</td>\n",
       "      <td>[https://melo.net/, http://almeida.br/]</td>\n",
       "      <td>davisilva</td>\n",
       "      <td>Antônio da Paz</td>\n",
       "      <td>M</td>\n",
       "      <td>Lago de Moreira, 161\\nMarajó\\n39046840 Teixeir...</td>\n",
       "      <td>fcosta@bol.com.br</td>\n",
       "      <td>1927-07-19</td>\n",
       "    </tr>\n",
       "    <tr>\n",
       "      <th>6</th>\n",
       "      <td>Pecuarista</td>\n",
       "      <td>da Rocha</td>\n",
       "      <td>23089617595</td>\n",
       "      <td>Viela Rezende, 55\\nGrotinha\\n90707-797 da Rosa...</td>\n",
       "      <td>(-88.478204, 125.764363)</td>\n",
       "      <td>A-</td>\n",
       "      <td>[https://www.almeida.com/, http://www.ribeiro....</td>\n",
       "      <td>rda-costa</td>\n",
       "      <td>Yuri da Paz</td>\n",
       "      <td>M</td>\n",
       "      <td>Recanto Dias, 372\\nVila Engenho Nogueira\\n7033...</td>\n",
       "      <td>ian38@bol.com.br</td>\n",
       "      <td>1948-05-15</td>\n",
       "    </tr>\n",
       "    <tr>\n",
       "      <th>7</th>\n",
       "      <td>Coveiro/Sepultador</td>\n",
       "      <td>Moura</td>\n",
       "      <td>12439786519</td>\n",
       "      <td>Jardim Rafaela Pinto, 39\\nChácara Leonina\\n894...</td>\n",
       "      <td>(53.288959, 177.637613)</td>\n",
       "      <td>A+</td>\n",
       "      <td>[https://www.moraes.net/, https://www.peixoto....</td>\n",
       "      <td>cbarbosa</td>\n",
       "      <td>André Freitas</td>\n",
       "      <td>M</td>\n",
       "      <td>Passarela Heloísa da Mata, 23\\nVitoria Da Conq...</td>\n",
       "      <td>fernandasilva@uol.com.br</td>\n",
       "      <td>2013-08-13</td>\n",
       "    </tr>\n",
       "    <tr>\n",
       "      <th>8</th>\n",
       "      <td>Soldado</td>\n",
       "      <td>Vieira Duarte e Filhos</td>\n",
       "      <td>29387645100</td>\n",
       "      <td>Jardim da Rosa, 81\\nVila Aeroporto\\n06858745 B...</td>\n",
       "      <td>(40.001005, 74.842750)</td>\n",
       "      <td>AB+</td>\n",
       "      <td>[https://www.vieira.com/, https://dias.br/, ht...</td>\n",
       "      <td>laura09</td>\n",
       "      <td>Ana Luiza Moura</td>\n",
       "      <td>F</td>\n",
       "      <td>Vereda Stella Pires, 54\\nDas Industrias I\\n646...</td>\n",
       "      <td>silvaamanda@uol.com.br</td>\n",
       "      <td>1925-06-07</td>\n",
       "    </tr>\n",
       "  </tbody>\n",
       "</table>\n",
       "</div>"
      ],
      "text/plain": [
       "                        job                       company          ssn  \\\n",
       "0                  Repórter      Pereira Almeida e Filhos  12936708559   \n",
       "1               Ortopedista                     Rodrigues  52980317659   \n",
       "2                 Dançarino  da Conceição Moraes e Filhos  45809762310   \n",
       "3                  Escrivão                        Mendes  39124765007   \n",
       "4                Protesista        Moreira Rodrigues S.A.  82017453960   \n",
       "5  Desembargador de justiça                        Santos  96037215499   \n",
       "6                Pecuarista                      da Rocha  23089617595   \n",
       "7        Coveiro/Sepultador                         Moura  12439786519   \n",
       "8                   Soldado        Vieira Duarte e Filhos  29387645100   \n",
       "\n",
       "                                           residence  \\\n",
       "0  Praça Francisco Dias\\nMantiqueira\\n36449729 da...   \n",
       "1  Chácara de Lopes, 8\\nNossa Senhora Da Conceiçã...   \n",
       "2  Alameda Davi Luiz Barbosa, 973\\nVila Nova\\n581...   \n",
       "3  Rua de da Conceição, 86\\nCamponesa 2ª Seção\\n0...   \n",
       "4  Passarela de Moura, 9\\nJoão Alfredo\\n02595-860...   \n",
       "5  Conjunto Oliveira, 4\\nLaranjeiras\\n29019-652 G...   \n",
       "6  Viela Rezende, 55\\nGrotinha\\n90707-797 da Rosa...   \n",
       "7  Jardim Rafaela Pinto, 39\\nChácara Leonina\\n894...   \n",
       "8  Jardim da Rosa, 81\\nVila Aeroporto\\n06858745 B...   \n",
       "\n",
       "            current_location blood_group  \\\n",
       "0  (-82.2432365, 174.512792)          B-   \n",
       "1   (-24.081178, -23.111544)         AB+   \n",
       "2   (87.5386115, -45.403479)         AB-   \n",
       "3    (17.3598725, -0.597174)         AB+   \n",
       "4     (67.756709, 93.912120)         AB-   \n",
       "5     (15.704599, 82.561746)          O+   \n",
       "6   (-88.478204, 125.764363)          A-   \n",
       "7    (53.288959, 177.637613)          A+   \n",
       "8     (40.001005, 74.842750)         AB+   \n",
       "\n",
       "                                             website            username  \\\n",
       "0  [https://moreira.br/, http://www.lopes.com/, h...  gustavo-henrique64   \n",
       "1  [http://fernandes.net/, https://viana.com/, ht...             knovaes   \n",
       "2  [http://castro.net/, http://www.da.br/, http:/...    isabelnascimento   \n",
       "3  [http://cardoso.com/, http://www.freitas.br/, ...      teixeiramiguel   \n",
       "4  [https://www.lima.com/, https://www.jesus.com/...           augusto80   \n",
       "5            [https://melo.net/, http://almeida.br/]           davisilva   \n",
       "6  [https://www.almeida.com/, http://www.ribeiro....           rda-costa   \n",
       "7  [https://www.moraes.net/, https://www.peixoto....            cbarbosa   \n",
       "8  [https://www.vieira.com/, https://dias.br/, ht...             laura09   \n",
       "\n",
       "                    name sex  \\\n",
       "0        Ana Julia Pires   F   \n",
       "1     Guilherme Monteiro   M   \n",
       "2            Alexia Melo   F   \n",
       "3  Luiz Otávio Gonçalves   M   \n",
       "4       Valentina Mendes   F   \n",
       "5         Antônio da Paz   M   \n",
       "6            Yuri da Paz   M   \n",
       "7          André Freitas   M   \n",
       "8        Ana Luiza Moura   F   \n",
       "\n",
       "                                             address  \\\n",
       "0  Largo Moraes, 64\\nVila Suzana Primeira Seção\\n...   \n",
       "1  Trevo Lopes, 462\\nAcaiaca\\n94526-132 Martins d...   \n",
       "2  Jardim Ramos, 58\\nIpe\\n88831565 da Cunha da Ma...   \n",
       "3  Avenida da Cruz, 56\\nVila Santa Rosa\\n69024561...   \n",
       "4  Residencial Alice Viana, 768\\nVila Calafate\\n7...   \n",
       "5  Lago de Moreira, 161\\nMarajó\\n39046840 Teixeir...   \n",
       "6  Recanto Dias, 372\\nVila Engenho Nogueira\\n7033...   \n",
       "7  Passarela Heloísa da Mata, 23\\nVitoria Da Conq...   \n",
       "8  Vereda Stella Pires, 54\\nDas Industrias I\\n646...   \n",
       "\n",
       "                             mail   birthdate  \n",
       "0         isisda-cruz@hotmail.com  1968-05-08  \n",
       "1     costadavi-luiz@yahoo.com.br  1975-06-07  \n",
       "2                bramos@ig.com.br  1979-07-07  \n",
       "3          eloahvieira@bol.com.br  1957-01-24  \n",
       "4  lucas-gabrielmoura@hotmail.com  1970-03-04  \n",
       "5               fcosta@bol.com.br  1927-07-19  \n",
       "6                ian38@bol.com.br  1948-05-15  \n",
       "7        fernandasilva@uol.com.br  2013-08-13  \n",
       "8          silvaamanda@uol.com.br  1925-06-07  "
      ]
     },
     "execution_count": 12,
     "metadata": {},
     "output_type": "execute_result"
    }
   ],
   "source": [
    "dados = [sample.profile() for _ in range(20)]  \n",
    "df = pd.DataFrame(dados)\n",
    "df.head(9)"
   ]
  },
  {
   "cell_type": "markdown",
   "id": "888a8e2a",
   "metadata": {},
   "source": [
    "Podemos também gerar quantidades grandes de dados e armazenar em um **defaultdict** e posteriormente construir um DataFrame.\n",
    "\n",
    "Vejamos um exemplo:"
   ]
  },
  {
   "cell_type": "code",
   "execution_count": 13,
   "id": "c8791665",
   "metadata": {},
   "outputs": [],
   "source": [
    "from collections import defaultdict\n",
    "\n",
    "fake = Faker('es')\n",
    "\n",
    "fake_data = defaultdict(list)\n",
    "\n",
    "for _ in range(1000):\n",
    "    fake_data[\"nome\"].append(fake.first_name())\n",
    "    fake_data[\"sobrenome\"].append(fake.last_name())\n",
    "    fake_data[\"profissão\"].append(fake.job())\n",
    "    fake_data[\"nascimento\"].append(fake.date_of_birth())\n",
    "    fake_data[\"país\"].append(fake.country())"
   ]
  },
  {
   "cell_type": "code",
   "execution_count": 14,
   "id": "ae776b26",
   "metadata": {},
   "outputs": [
    {
     "name": "stdout",
     "output_type": "stream",
     "text": [
      "['Jerónimo', 'Merche', 'Martirio', 'Wálter', 'Concepción', 'Salvador', 'Valerio', 'Nereida', 'Julio César', 'Lalo']\n"
     ]
    }
   ],
   "source": [
    "print(fake_data['nome'][:10])"
   ]
  },
  {
   "cell_type": "code",
   "execution_count": 15,
   "id": "218cc7fb",
   "metadata": {},
   "outputs": [
    {
     "name": "stdout",
     "output_type": "stream",
     "text": [
      "['Rueda', 'Múgica', 'Campoy', 'Dalmau', 'Tormo', 'Castellanos', 'Casals', 'Araujo', 'Carrillo', 'Briones']\n"
     ]
    }
   ],
   "source": [
    "print(fake_data['sobrenome'][:10])"
   ]
  },
  {
   "cell_type": "code",
   "execution_count": 16,
   "id": "3e709ad6",
   "metadata": {},
   "outputs": [
    {
     "name": "stdout",
     "output_type": "stream",
     "text": [
      "['Designer, ceramics/pottery', 'Designer, exhibition/display', 'Magazine features editor', 'Investment banker, corporate', 'Therapist, drama', 'Exhibition designer', 'Museum/gallery exhibitions officer', 'Air traffic controller', 'Armed forces logistics/support/administrative officer', 'Exhibitions officer, museum/gallery']\n"
     ]
    }
   ],
   "source": [
    "print(fake_data['profissão'][:10])"
   ]
  },
  {
   "cell_type": "code",
   "execution_count": 17,
   "id": "7cf60fdb",
   "metadata": {},
   "outputs": [
    {
     "name": "stdout",
     "output_type": "stream",
     "text": [
      "[datetime.date(1949, 4, 14), datetime.date(1951, 11, 15), datetime.date(1973, 2, 4), datetime.date(1958, 6, 1), datetime.date(1949, 12, 20), datetime.date(2003, 8, 24), datetime.date(1993, 2, 19), datetime.date(2018, 7, 29), datetime.date(1914, 11, 14), datetime.date(1971, 5, 5)]\n"
     ]
    }
   ],
   "source": [
    "print(fake_data['nascimento'][:10])"
   ]
  },
  {
   "cell_type": "code",
   "execution_count": 18,
   "id": "092ab790",
   "metadata": {},
   "outputs": [
    {
     "name": "stdout",
     "output_type": "stream",
     "text": [
      "['Emiratos Árabes Unidos', 'Belice', 'Congo', 'Togo', 'Burundi', 'Serbia', 'Burundi', 'Noruega', 'Canadá', 'República Checa']\n"
     ]
    }
   ],
   "source": [
    "print(fake_data['país'][:10])"
   ]
  },
  {
   "cell_type": "code",
   "execution_count": 19,
   "id": "4de76afa",
   "metadata": {},
   "outputs": [
    {
     "data": {
      "text/html": [
       "<div>\n",
       "<style scoped>\n",
       "    .dataframe tbody tr th:only-of-type {\n",
       "        vertical-align: middle;\n",
       "    }\n",
       "\n",
       "    .dataframe tbody tr th {\n",
       "        vertical-align: top;\n",
       "    }\n",
       "\n",
       "    .dataframe thead th {\n",
       "        text-align: right;\n",
       "    }\n",
       "</style>\n",
       "<table border=\"1\" class=\"dataframe\">\n",
       "  <thead>\n",
       "    <tr style=\"text-align: right;\">\n",
       "      <th></th>\n",
       "      <th>nome</th>\n",
       "      <th>sobrenome</th>\n",
       "      <th>profissão</th>\n",
       "      <th>nascimento</th>\n",
       "      <th>país</th>\n",
       "    </tr>\n",
       "  </thead>\n",
       "  <tbody>\n",
       "    <tr>\n",
       "      <th>0</th>\n",
       "      <td>Jerónimo</td>\n",
       "      <td>Rueda</td>\n",
       "      <td>Designer, ceramics/pottery</td>\n",
       "      <td>1949-04-14</td>\n",
       "      <td>Emiratos Árabes Unidos</td>\n",
       "    </tr>\n",
       "    <tr>\n",
       "      <th>1</th>\n",
       "      <td>Merche</td>\n",
       "      <td>Múgica</td>\n",
       "      <td>Designer, exhibition/display</td>\n",
       "      <td>1951-11-15</td>\n",
       "      <td>Belice</td>\n",
       "    </tr>\n",
       "    <tr>\n",
       "      <th>2</th>\n",
       "      <td>Martirio</td>\n",
       "      <td>Campoy</td>\n",
       "      <td>Magazine features editor</td>\n",
       "      <td>1973-02-04</td>\n",
       "      <td>Congo</td>\n",
       "    </tr>\n",
       "    <tr>\n",
       "      <th>3</th>\n",
       "      <td>Wálter</td>\n",
       "      <td>Dalmau</td>\n",
       "      <td>Investment banker, corporate</td>\n",
       "      <td>1958-06-01</td>\n",
       "      <td>Togo</td>\n",
       "    </tr>\n",
       "    <tr>\n",
       "      <th>4</th>\n",
       "      <td>Concepción</td>\n",
       "      <td>Tormo</td>\n",
       "      <td>Therapist, drama</td>\n",
       "      <td>1949-12-20</td>\n",
       "      <td>Burundi</td>\n",
       "    </tr>\n",
       "    <tr>\n",
       "      <th>5</th>\n",
       "      <td>Salvador</td>\n",
       "      <td>Castellanos</td>\n",
       "      <td>Exhibition designer</td>\n",
       "      <td>2003-08-24</td>\n",
       "      <td>Serbia</td>\n",
       "    </tr>\n",
       "    <tr>\n",
       "      <th>6</th>\n",
       "      <td>Valerio</td>\n",
       "      <td>Casals</td>\n",
       "      <td>Museum/gallery exhibitions officer</td>\n",
       "      <td>1993-02-19</td>\n",
       "      <td>Burundi</td>\n",
       "    </tr>\n",
       "    <tr>\n",
       "      <th>7</th>\n",
       "      <td>Nereida</td>\n",
       "      <td>Araujo</td>\n",
       "      <td>Air traffic controller</td>\n",
       "      <td>2018-07-29</td>\n",
       "      <td>Noruega</td>\n",
       "    </tr>\n",
       "    <tr>\n",
       "      <th>8</th>\n",
       "      <td>Julio César</td>\n",
       "      <td>Carrillo</td>\n",
       "      <td>Armed forces logistics/support/administrative ...</td>\n",
       "      <td>1914-11-14</td>\n",
       "      <td>Canadá</td>\n",
       "    </tr>\n",
       "    <tr>\n",
       "      <th>9</th>\n",
       "      <td>Lalo</td>\n",
       "      <td>Briones</td>\n",
       "      <td>Exhibitions officer, museum/gallery</td>\n",
       "      <td>1971-05-05</td>\n",
       "      <td>República Checa</td>\n",
       "    </tr>\n",
       "  </tbody>\n",
       "</table>\n",
       "</div>"
      ],
      "text/plain": [
       "          nome    sobrenome  \\\n",
       "0     Jerónimo        Rueda   \n",
       "1       Merche       Múgica   \n",
       "2     Martirio       Campoy   \n",
       "3       Wálter       Dalmau   \n",
       "4   Concepción        Tormo   \n",
       "5     Salvador  Castellanos   \n",
       "6      Valerio       Casals   \n",
       "7      Nereida       Araujo   \n",
       "8  Julio César     Carrillo   \n",
       "9         Lalo      Briones   \n",
       "\n",
       "                                           profissão  nascimento  \\\n",
       "0                         Designer, ceramics/pottery  1949-04-14   \n",
       "1                       Designer, exhibition/display  1951-11-15   \n",
       "2                           Magazine features editor  1973-02-04   \n",
       "3                       Investment banker, corporate  1958-06-01   \n",
       "4                                   Therapist, drama  1949-12-20   \n",
       "5                                Exhibition designer  2003-08-24   \n",
       "6                 Museum/gallery exhibitions officer  1993-02-19   \n",
       "7                             Air traffic controller  2018-07-29   \n",
       "8  Armed forces logistics/support/administrative ...  1914-11-14   \n",
       "9                Exhibitions officer, museum/gallery  1971-05-05   \n",
       "\n",
       "                     país  \n",
       "0  Emiratos Árabes Unidos  \n",
       "1                  Belice  \n",
       "2                   Congo  \n",
       "3                    Togo  \n",
       "4                 Burundi  \n",
       "5                  Serbia  \n",
       "6                 Burundi  \n",
       "7                 Noruega  \n",
       "8                  Canadá  \n",
       "9         República Checa  "
      ]
     },
     "execution_count": 19,
     "metadata": {},
     "output_type": "execute_result"
    }
   ],
   "source": [
    "df_fake_data = pd.DataFrame(fake_data)\n",
    "df_fake_data.head(10)"
   ]
  },
  {
   "cell_type": "code",
   "execution_count": 20,
   "id": "972e6007",
   "metadata": {},
   "outputs": [],
   "source": [
    "df_fake_data['id'] = df_fake_data.index"
   ]
  },
  {
   "cell_type": "code",
   "execution_count": 21,
   "id": "84520df7",
   "metadata": {},
   "outputs": [
    {
     "data": {
      "text/html": [
       "<div>\n",
       "<style scoped>\n",
       "    .dataframe tbody tr th:only-of-type {\n",
       "        vertical-align: middle;\n",
       "    }\n",
       "\n",
       "    .dataframe tbody tr th {\n",
       "        vertical-align: top;\n",
       "    }\n",
       "\n",
       "    .dataframe thead th {\n",
       "        text-align: right;\n",
       "    }\n",
       "</style>\n",
       "<table border=\"1\" class=\"dataframe\">\n",
       "  <thead>\n",
       "    <tr style=\"text-align: right;\">\n",
       "      <th></th>\n",
       "      <th>nome</th>\n",
       "      <th>sobrenome</th>\n",
       "      <th>profissão</th>\n",
       "      <th>nascimento</th>\n",
       "      <th>país</th>\n",
       "      <th>id</th>\n",
       "    </tr>\n",
       "  </thead>\n",
       "  <tbody>\n",
       "    <tr>\n",
       "      <th>995</th>\n",
       "      <td>Emigdio</td>\n",
       "      <td>Solana</td>\n",
       "      <td>Lighting technician, broadcasting/film/video</td>\n",
       "      <td>1921-11-04</td>\n",
       "      <td>Ghana</td>\n",
       "      <td>995</td>\n",
       "    </tr>\n",
       "    <tr>\n",
       "      <th>996</th>\n",
       "      <td>Maricela</td>\n",
       "      <td>Pacheco</td>\n",
       "      <td>Warehouse manager</td>\n",
       "      <td>1905-09-08</td>\n",
       "      <td>Malawi</td>\n",
       "      <td>996</td>\n",
       "    </tr>\n",
       "    <tr>\n",
       "      <th>997</th>\n",
       "      <td>Fabio</td>\n",
       "      <td>Cortes</td>\n",
       "      <td>Graphic designer</td>\n",
       "      <td>1952-10-23</td>\n",
       "      <td>Eslovenia</td>\n",
       "      <td>997</td>\n",
       "    </tr>\n",
       "    <tr>\n",
       "      <th>998</th>\n",
       "      <td>Germán</td>\n",
       "      <td>Baeza</td>\n",
       "      <td>Toxicologist</td>\n",
       "      <td>1974-07-28</td>\n",
       "      <td>Hungría</td>\n",
       "      <td>998</td>\n",
       "    </tr>\n",
       "    <tr>\n",
       "      <th>999</th>\n",
       "      <td>Modesto</td>\n",
       "      <td>Garrido</td>\n",
       "      <td>Furniture conservator/restorer</td>\n",
       "      <td>2015-03-12</td>\n",
       "      <td>Armenia</td>\n",
       "      <td>999</td>\n",
       "    </tr>\n",
       "  </tbody>\n",
       "</table>\n",
       "</div>"
      ],
      "text/plain": [
       "         nome sobrenome                                     profissão  \\\n",
       "995   Emigdio    Solana  Lighting technician, broadcasting/film/video   \n",
       "996  Maricela   Pacheco                             Warehouse manager   \n",
       "997     Fabio    Cortes                              Graphic designer   \n",
       "998    Germán     Baeza                                  Toxicologist   \n",
       "999   Modesto   Garrido                Furniture conservator/restorer   \n",
       "\n",
       "     nascimento       país   id  \n",
       "995  1921-11-04      Ghana  995  \n",
       "996  1905-09-08     Malawi  996  \n",
       "997  1952-10-23  Eslovenia  997  \n",
       "998  1974-07-28    Hungría  998  \n",
       "999  2015-03-12    Armenia  999  "
      ]
     },
     "execution_count": 21,
     "metadata": {},
     "output_type": "execute_result"
    }
   ],
   "source": [
    "df_fake_data.tail()"
   ]
  },
  {
   "cell_type": "markdown",
   "id": "c2cb3c80",
   "metadata": {},
   "source": [
    "## Adicionando Dados Gerados ao Banco de Dados\n",
    "\n",
    "Para esta tarefa vamos usar a biblioteca **SQLAlchemy**.\n",
    "\n",
    "**Importante**: Ao usar esse notebook pela primeira vez é possível que você obtenha erros ao executar as consultas, isso é devido ao fato de que os dados são gerados aleatoriamente. Por este motivo, devemos adaptar as consultas (queries).\n",
    "\n",
    "Criaremos um banco de dados chamado de **pessoas** e vamos definir uma tabela de nome **pessoa** ao qual iremos inserir os nossos dados falsos gerados através da biblioteca pandas."
   ]
  },
  {
   "cell_type": "code",
   "execution_count": 22,
   "id": "1c70284c",
   "metadata": {},
   "outputs": [
    {
     "name": "stdout",
     "output_type": "stream",
     "text": [
      "2021-06-16 19:54:01,801 INFO sqlalchemy.engine.Engine SELECT name FROM sqlite_master WHERE type='table' ORDER BY name\n",
      "2021-06-16 19:54:01,802 INFO sqlalchemy.engine.Engine [raw sql] ()\n",
      "2021-06-16 19:54:01,808 INFO sqlalchemy.engine.Engine PRAGMA main.table_info(\"pessoa\")\n",
      "2021-06-16 19:54:01,809 INFO sqlalchemy.engine.Engine [raw sql] ()\n",
      "2021-06-16 19:54:01,811 INFO sqlalchemy.engine.Engine PRAGMA temp.table_info(\"pessoa\")\n",
      "2021-06-16 19:54:01,812 INFO sqlalchemy.engine.Engine [raw sql] ()\n",
      "2021-06-16 19:54:01,819 INFO sqlalchemy.engine.Engine BEGIN (implicit)\n",
      "2021-06-16 19:54:01,821 INFO sqlalchemy.engine.Engine \n",
      "CREATE TABLE pessoa (\n",
      "\tnome TEXT, \n",
      "\tsobrenome TEXT, \n",
      "\t\"profissão\" TEXT, \n",
      "\tnascimento DATE, \n",
      "\t\"país\" TEXT, \n",
      "\tid BIGINT\n",
      ")\n",
      "\n",
      "\n",
      "2021-06-16 19:54:01,822 INFO sqlalchemy.engine.Engine [no key 0.00105s] ()\n",
      "2021-06-16 19:54:01,932 INFO sqlalchemy.engine.Engine COMMIT\n",
      "2021-06-16 19:54:01,935 INFO sqlalchemy.engine.Engine BEGIN (implicit)\n",
      "2021-06-16 19:54:01,953 INFO sqlalchemy.engine.Engine INSERT INTO pessoa (nome, sobrenome, \"profissão\", nascimento, \"país\", id) VALUES (?, ?, ?, ?, ?, ?)\n",
      "2021-06-16 19:54:01,954 INFO sqlalchemy.engine.Engine [generated in 0.01599s] (('Jerónimo', 'Rueda', 'Designer, ceramics/pottery', '1949-04-14', 'Emiratos Árabes Unidos', 0), ('Merche', 'Múgica', 'Designer, exhibition/display', '1951-11-15', 'Belice', 1), ('Martirio', 'Campoy', 'Magazine features editor', '1973-02-04', 'Congo', 2), ('Wálter', 'Dalmau', 'Investment banker, corporate', '1958-06-01', 'Togo', 3), ('Concepción', 'Tormo', 'Therapist, drama', '1949-12-20', 'Burundi', 4), ('Salvador', 'Castellanos', 'Exhibition designer', '2003-08-24', 'Serbia', 5), ('Valerio', 'Casals', 'Museum/gallery exhibitions officer', '1993-02-19', 'Burundi', 6), ('Nereida', 'Araujo', 'Air traffic controller', '2018-07-29', 'Noruega', 7)  ... displaying 10 of 1000 total bound parameter sets ...  ('Germán', 'Baeza', 'Toxicologist', '1974-07-28', 'Hungría', 998), ('Modesto', 'Garrido', 'Furniture conservator/restorer', '2015-03-12', 'Armenia', 999))\n",
      "2021-06-16 19:54:01,959 INFO sqlalchemy.engine.Engine COMMIT\n"
     ]
    }
   ],
   "source": [
    "from sqlalchemy.ext.automap import automap_base\n",
    "from sqlalchemy import create_engine\n",
    "from sqlalchemy.orm import Session\n",
    "\n",
    "Base = automap_base()\n",
    "engine = create_engine('sqlite:///pessoas.db', echo=True)\n",
    "Base.prepare(engine, reflect=True)\n",
    "df_fake_data.to_sql('pessoa', con=engine, index=False)\n",
    "session = Session(engine)"
   ]
  },
  {
   "cell_type": "markdown",
   "id": "0bd17443",
   "metadata": {},
   "source": [
    "Agora que temos a tabela **pessoa** criada, podemos selecionar os dados diretamente do banco de dados através da biblioteca pandas."
   ]
  },
  {
   "cell_type": "code",
   "execution_count": 23,
   "id": "d83ed3e3",
   "metadata": {},
   "outputs": [
    {
     "name": "stdout",
     "output_type": "stream",
     "text": [
      "2021-06-16 19:54:04,934 INFO sqlalchemy.engine.Engine PRAGMA main.table_info(\"SELECT * FROM pessoa\")\n",
      "2021-06-16 19:54:04,939 INFO sqlalchemy.engine.Engine [raw sql] ()\n",
      "2021-06-16 19:54:04,949 INFO sqlalchemy.engine.Engine PRAGMA temp.table_info(\"SELECT * FROM pessoa\")\n",
      "2021-06-16 19:54:04,955 INFO sqlalchemy.engine.Engine [raw sql] ()\n",
      "2021-06-16 19:54:04,963 INFO sqlalchemy.engine.Engine SELECT * FROM pessoa\n",
      "2021-06-16 19:54:04,967 INFO sqlalchemy.engine.Engine [raw sql] ()\n"
     ]
    },
    {
     "data": {
      "text/html": [
       "<div>\n",
       "<style scoped>\n",
       "    .dataframe tbody tr th:only-of-type {\n",
       "        vertical-align: middle;\n",
       "    }\n",
       "\n",
       "    .dataframe tbody tr th {\n",
       "        vertical-align: top;\n",
       "    }\n",
       "\n",
       "    .dataframe thead th {\n",
       "        text-align: right;\n",
       "    }\n",
       "</style>\n",
       "<table border=\"1\" class=\"dataframe\">\n",
       "  <thead>\n",
       "    <tr style=\"text-align: right;\">\n",
       "      <th></th>\n",
       "      <th>nome</th>\n",
       "      <th>sobrenome</th>\n",
       "      <th>profissão</th>\n",
       "      <th>nascimento</th>\n",
       "      <th>país</th>\n",
       "      <th>id</th>\n",
       "    </tr>\n",
       "  </thead>\n",
       "  <tbody>\n",
       "    <tr>\n",
       "      <th>0</th>\n",
       "      <td>Jerónimo</td>\n",
       "      <td>Rueda</td>\n",
       "      <td>Designer, ceramics/pottery</td>\n",
       "      <td>1949-04-14</td>\n",
       "      <td>Emiratos Árabes Unidos</td>\n",
       "      <td>0</td>\n",
       "    </tr>\n",
       "    <tr>\n",
       "      <th>1</th>\n",
       "      <td>Merche</td>\n",
       "      <td>Múgica</td>\n",
       "      <td>Designer, exhibition/display</td>\n",
       "      <td>1951-11-15</td>\n",
       "      <td>Belice</td>\n",
       "      <td>1</td>\n",
       "    </tr>\n",
       "    <tr>\n",
       "      <th>2</th>\n",
       "      <td>Martirio</td>\n",
       "      <td>Campoy</td>\n",
       "      <td>Magazine features editor</td>\n",
       "      <td>1973-02-04</td>\n",
       "      <td>Congo</td>\n",
       "      <td>2</td>\n",
       "    </tr>\n",
       "    <tr>\n",
       "      <th>3</th>\n",
       "      <td>Wálter</td>\n",
       "      <td>Dalmau</td>\n",
       "      <td>Investment banker, corporate</td>\n",
       "      <td>1958-06-01</td>\n",
       "      <td>Togo</td>\n",
       "      <td>3</td>\n",
       "    </tr>\n",
       "    <tr>\n",
       "      <th>4</th>\n",
       "      <td>Concepción</td>\n",
       "      <td>Tormo</td>\n",
       "      <td>Therapist, drama</td>\n",
       "      <td>1949-12-20</td>\n",
       "      <td>Burundi</td>\n",
       "      <td>4</td>\n",
       "    </tr>\n",
       "  </tbody>\n",
       "</table>\n",
       "</div>"
      ],
      "text/plain": [
       "         nome sobrenome                     profissão  nascimento  \\\n",
       "0    Jerónimo     Rueda    Designer, ceramics/pottery  1949-04-14   \n",
       "1      Merche    Múgica  Designer, exhibition/display  1951-11-15   \n",
       "2    Martirio    Campoy      Magazine features editor  1973-02-04   \n",
       "3      Wálter    Dalmau  Investment banker, corporate  1958-06-01   \n",
       "4  Concepción     Tormo              Therapist, drama  1949-12-20   \n",
       "\n",
       "                     país  id  \n",
       "0  Emiratos Árabes Unidos   0  \n",
       "1                  Belice   1  \n",
       "2                   Congo   2  \n",
       "3                    Togo   3  \n",
       "4                 Burundi   4  "
      ]
     },
     "execution_count": 23,
     "metadata": {},
     "output_type": "execute_result"
    }
   ],
   "source": [
    "sql_df = pd.read_sql(\n",
    "    \"SELECT * FROM pessoa\",\n",
    "    con=engine,\n",
    ")\n",
    "sql_df.head()"
   ]
  },
  {
   "cell_type": "markdown",
   "id": "e2712641",
   "metadata": {},
   "source": [
    "Para podemos trabalhar com estes dados na biblioteca SQLAlchemy, precisamos mapeá-los através de seu **ORM**."
   ]
  },
  {
   "cell_type": "code",
   "execution_count": 24,
   "id": "a1a705fd",
   "metadata": {},
   "outputs": [],
   "source": [
    "from sqlalchemy import Column, Integer, String\n",
    "\n",
    "class Pessoa(Base):\n",
    "    __tablename__ = \"pessoa\"\n",
    "\n",
    "    id = Column(Integer, primary_key=True)\n",
    "    nome = Column(String)\n",
    "    sobrenome = Column(String)\n",
    "    profissão = Column(String)\n",
    "    nascimento = Column(String)\n",
    "    país = Column(String)"
   ]
  },
  {
   "cell_type": "code",
   "execution_count": 25,
   "id": "0e82957b",
   "metadata": {},
   "outputs": [
    {
     "data": {
      "text/plain": [
       "Table('pessoa', MetaData(), Column('id', Integer(), table=<pessoa>, primary_key=True, nullable=False), Column('nome', String(), table=<pessoa>), Column('sobrenome', String(), table=<pessoa>), Column('profissão', String(), table=<pessoa>), Column('nascimento', String(), table=<pessoa>), Column('país', String(), table=<pessoa>), schema=None)"
      ]
     },
     "execution_count": 25,
     "metadata": {},
     "output_type": "execute_result"
    }
   ],
   "source": [
    "Pessoa.__table__"
   ]
  },
  {
   "cell_type": "code",
   "execution_count": 26,
   "id": "a401d02f",
   "metadata": {},
   "outputs": [],
   "source": [
    "Pessoa.prepare()"
   ]
  },
  {
   "cell_type": "markdown",
   "id": "9abee295",
   "metadata": {},
   "source": [
    "E agora podemos executar consultas:"
   ]
  },
  {
   "cell_type": "code",
   "execution_count": 27,
   "id": "2f00c775",
   "metadata": {},
   "outputs": [
    {
     "name": "stdout",
     "output_type": "stream",
     "text": [
      "2021-06-16 19:54:12,623 INFO sqlalchemy.engine.Engine BEGIN (implicit)\n",
      "2021-06-16 19:54:12,627 INFO sqlalchemy.engine.Engine SELECT pessoa.id AS pessoa_id, pessoa.nome AS pessoa_nome, pessoa.sobrenome AS pessoa_sobrenome, pessoa.\"profissão\" AS \"pessoa_profissão\", pessoa.nascimento AS pessoa_nascimento, pessoa.\"país\" AS \"pessoa_país\" \n",
      "FROM pessoa\n",
      "2021-06-16 19:54:12,629 INFO sqlalchemy.engine.Engine [generated in 0.00224s] ()\n"
     ]
    }
   ],
   "source": [
    "pessoas = session.query(Pessoa).all()"
   ]
  },
  {
   "cell_type": "markdown",
   "id": "f712bdbc",
   "metadata": {},
   "source": [
    "Número total de pessoas na tabela **pessoa**:"
   ]
  },
  {
   "cell_type": "code",
   "execution_count": 28,
   "id": "0ce262d2",
   "metadata": {},
   "outputs": [
    {
     "data": {
      "text/plain": [
       "1000"
      ]
     },
     "execution_count": 28,
     "metadata": {},
     "output_type": "execute_result"
    }
   ],
   "source": [
    "len(pessoas)"
   ]
  },
  {
   "cell_type": "markdown",
   "id": "97db0ffb",
   "metadata": {},
   "source": [
    "Selecionar a pessoa cujo nome é **Merche**:"
   ]
  },
  {
   "cell_type": "code",
   "execution_count": 29,
   "id": "c58d65fd",
   "metadata": {},
   "outputs": [
    {
     "name": "stdout",
     "output_type": "stream",
     "text": [
      "2021-06-16 19:54:30,385 INFO sqlalchemy.engine.Engine SELECT pessoa.id AS pessoa_id, pessoa.nome AS pessoa_nome, pessoa.sobrenome AS pessoa_sobrenome, pessoa.\"profissão\" AS \"pessoa_profissão\", pessoa.nascimento AS pessoa_nascimento, pessoa.\"país\" AS \"pessoa_país\" \n",
      "FROM pessoa \n",
      "WHERE pessoa.nome = ?\n",
      " LIMIT ? OFFSET ?\n",
      "2021-06-16 19:54:30,387 INFO sqlalchemy.engine.Engine [generated in 0.00197s] ('Merche', 1, 0)\n",
      "Múgica\n"
     ]
    }
   ],
   "source": [
    "merche = session.query(Pessoa).filter_by(nome='Merche').first()\n",
    "print(merche.sobrenome)"
   ]
  },
  {
   "cell_type": "markdown",
   "id": "13989af5",
   "metadata": {},
   "source": [
    "Com **inspect** podemos inspecionar o nosso banco de dados para saber detalhes sobre ele."
   ]
  },
  {
   "cell_type": "code",
   "execution_count": 30,
   "id": "1e4541a5",
   "metadata": {},
   "outputs": [
    {
     "name": "stdout",
     "output_type": "stream",
     "text": [
      "2021-06-16 19:54:38,062 INFO sqlalchemy.engine.Engine SELECT name FROM sqlite_master WHERE type='table' ORDER BY name\n",
      "2021-06-16 19:54:38,064 INFO sqlalchemy.engine.Engine [raw sql] ()\n",
      "['pessoa']\n"
     ]
    }
   ],
   "source": [
    "from sqlalchemy import inspect\n",
    "\n",
    "inspector = inspect(engine)\n",
    "table_names = inspector.get_table_names()\n",
    "print(table_names)"
   ]
  },
  {
   "cell_type": "code",
   "execution_count": 31,
   "id": "130f7a31",
   "metadata": {},
   "outputs": [
    {
     "name": "stdout",
     "output_type": "stream",
     "text": [
      "2021-06-16 19:54:38,860 INFO sqlalchemy.engine.Engine PRAGMA main.table_xinfo(\"pessoa\")\n",
      "2021-06-16 19:54:38,865 INFO sqlalchemy.engine.Engine [raw sql] ()\n"
     ]
    },
    {
     "data": {
      "text/plain": [
       "[{'name': 'nome',\n",
       "  'type': TEXT(),\n",
       "  'nullable': True,\n",
       "  'default': None,\n",
       "  'autoincrement': 'auto',\n",
       "  'primary_key': 0},\n",
       " {'name': 'sobrenome',\n",
       "  'type': TEXT(),\n",
       "  'nullable': True,\n",
       "  'default': None,\n",
       "  'autoincrement': 'auto',\n",
       "  'primary_key': 0},\n",
       " {'name': 'profissão',\n",
       "  'type': TEXT(),\n",
       "  'nullable': True,\n",
       "  'default': None,\n",
       "  'autoincrement': 'auto',\n",
       "  'primary_key': 0},\n",
       " {'name': 'nascimento',\n",
       "  'type': DATE(),\n",
       "  'nullable': True,\n",
       "  'default': None,\n",
       "  'autoincrement': 'auto',\n",
       "  'primary_key': 0},\n",
       " {'name': 'país',\n",
       "  'type': TEXT(),\n",
       "  'nullable': True,\n",
       "  'default': None,\n",
       "  'autoincrement': 'auto',\n",
       "  'primary_key': 0},\n",
       " {'name': 'id',\n",
       "  'type': BIGINT(),\n",
       "  'nullable': True,\n",
       "  'default': None,\n",
       "  'autoincrement': 'auto',\n",
       "  'primary_key': 0}]"
      ]
     },
     "execution_count": 31,
     "metadata": {},
     "output_type": "execute_result"
    }
   ],
   "source": [
    "inspector.get_columns('pessoa')"
   ]
  },
  {
   "cell_type": "markdown",
   "id": "99d6a44a",
   "metadata": {},
   "source": [
    "Para finalizarmos este exercício, vamos selecionar apenas as pessoas nascidas entre 1985 e 1988 de nossos dados falsos."
   ]
  },
  {
   "cell_type": "code",
   "execution_count": 32,
   "id": "2893abf8",
   "metadata": {},
   "outputs": [],
   "source": [
    "from sqlalchemy import and_\n",
    "\n",
    "pessoas = session.query(Pessoa).filter(and_(Pessoa.nascimento <= '1988-01-17', Pessoa.nascimento >= '1985-01-17'))"
   ]
  },
  {
   "cell_type": "code",
   "execution_count": 33,
   "id": "1aae5309",
   "metadata": {},
   "outputs": [
    {
     "name": "stdout",
     "output_type": "stream",
     "text": [
      "2021-06-16 19:54:45,690 INFO sqlalchemy.engine.Engine SELECT pessoa.id AS pessoa_id, pessoa.nome AS pessoa_nome, pessoa.sobrenome AS pessoa_sobrenome, pessoa.\"profissão\" AS \"pessoa_profissão\", pessoa.nascimento AS pessoa_nascimento, pessoa.\"país\" AS \"pessoa_país\" \n",
      "FROM pessoa \n",
      "WHERE pessoa.nascimento <= ? AND pessoa.nascimento >= ?\n",
      "2021-06-16 19:54:45,692 INFO sqlalchemy.engine.Engine [generated in 0.00252s] ('1988-01-17', '1985-01-17')\n",
      "Isaac\n",
      "Luis Ángel\n",
      "Gilberto\n",
      "Verónica\n",
      "Nilo\n",
      "Juanito\n",
      "Ascensión\n",
      "Casemiro\n",
      "Pedro\n",
      "Sosimo\n",
      "Vanesa\n",
      "Matías\n",
      "Josefina\n",
      "Angelita\n",
      "Nuria\n",
      "Ruth\n",
      "Melisa\n",
      "Sandalio\n",
      "Pedro\n",
      "Bernardino\n",
      "Manu\n",
      "Juan Francisco\n",
      "Flora\n",
      "Nuria\n",
      "Juanito\n",
      "Julie\n",
      "Rolando\n",
      "Jose Manuel\n"
     ]
    }
   ],
   "source": [
    "for pessoa in pessoas:\n",
    "    print(pessoa.nome)"
   ]
  },
  {
   "cell_type": "markdown",
   "id": "a96c2a9b",
   "metadata": {},
   "source": [
    "Vamos confirmar a data de nascimento de **Isaac** para ver se está de acordo com a nossa restrição."
   ]
  },
  {
   "cell_type": "code",
   "execution_count": 34,
   "id": "ed8a7e30",
   "metadata": {},
   "outputs": [
    {
     "name": "stdout",
     "output_type": "stream",
     "text": [
      "2021-06-16 19:54:57,816 INFO sqlalchemy.engine.Engine SELECT pessoa.id AS pessoa_id, pessoa.nome AS pessoa_nome, pessoa.sobrenome AS pessoa_sobrenome, pessoa.\"profissão\" AS \"pessoa_profissão\", pessoa.nascimento AS pessoa_nascimento, pessoa.\"país\" AS \"pessoa_país\" \n",
      "FROM pessoa \n",
      "WHERE pessoa.nome = ?\n",
      " LIMIT ? OFFSET ?\n",
      "2021-06-16 19:54:57,818 INFO sqlalchemy.engine.Engine [cached since 27.43s ago] ('Isaac', 1, 0)\n",
      "1986-09-11\n"
     ]
    }
   ],
   "source": [
    "isaac = session.query(Pessoa).filter_by(nome='Isaac').first()\n",
    "print(isaac.nascimento)"
   ]
  }
 ],
 "metadata": {
  "kernelspec": {
   "display_name": "Python 3",
   "language": "python",
   "name": "python3"
  },
  "language_info": {
   "codemirror_mode": {
    "name": "ipython",
    "version": 3
   },
   "file_extension": ".py",
   "mimetype": "text/x-python",
   "name": "python",
   "nbconvert_exporter": "python",
   "pygments_lexer": "ipython3",
   "version": "3.7.10"
  }
 },
 "nbformat": 4,
 "nbformat_minor": 5
}
