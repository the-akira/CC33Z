{
 "cells": [
  {
   "cell_type": "markdown",
   "id": "70126d2f",
   "metadata": {},
   "source": [
    "# Tutorial SQLite com Python\n",
    "\n",
    "Este tutorial abordará o uso do **[SQLite](https://www.sqlite.org/index.html)** em combinação com a interface **[sqlite3](https://docs.python.org/3/library/sqlite3.html)** do Python. \n",
    "\n",
    "**SQLite** é um banco de dados relacional de arquivo único, empacotado com a maioria das instalações Python padrão. SQLite é frequentemente a tecnologia preferida para pequenos aplicativos, particularmente aqueles de sistemas e dispositivos incorporados como telefones e tablets. No entanto, não é incomum ouví-lo sendo usado para aplicações Web e de Desktop de pequeno e médio porte.\n",
    "\n",
    "O esquema a seguir ilustra como o módulo **sqlite3** Python opera:\n",
    "\n",
    "![img](https://i.ibb.co/1KfTx6W/python-sqlite3-module-working.png)"
   ]
  },
  {
   "cell_type": "markdown",
   "id": "14bc13fd",
   "metadata": {},
   "source": [
    "## Conectando com o Banco de Dados\n",
    "\n",
    "A seguir temos as etapas de como se conectar ao banco de dados SQLite em Python:\n",
    "\n",
    "1. Importar módulo **sqlite3**: A instrução `import sqlite3` importa o módulo sqlite3 em nosso programa. Usando os objetos e métodos definidos no módulo sqlite3, podemos nos comunicar com o banco de dados SQLite.\n",
    "\n",
    "2. Método **connect()**: Use o método `connect()` do objeto `connector` com o nome do banco de dados. Para estabelecer uma conexão com o SQLite, você precisa passar o nome do banco de dados que deseja conectar. Se você especificar o nome do arquivo de banco de dados que já está presente no disco, ele se conectará a ele. Mas se o arquivo de banco de dados SQLite especificado não existir, o SQLite criará um novo banco de dados para você. Este método retorna o objeto de conexão SQLite (se a conexão for bem-sucedida).\n",
    "\n",
    "3. Método **cursor()**: Use o método `cursor()` de um objeto de conexão para criar um objeto cursor para executar comandos/consultas SQLite no Python.\n",
    "\n",
    "4. Método **execute()** e **executemany()**: Os métodos `execute()` e `executemany()` executam consultas SQL e retornam o resultado.\n",
    "\n",
    "5. Extraia o resultado: Use `cursor.fetchall()`, `fetchone()` ou `fetchmany()` para ler o resultado da consulta.\n",
    "\n",
    "6. Fechar o **cursor** e os objetos de conexão: Use os métodos `cursor.close()` e `connection.close()` para fechar o cursor e as conexões SQLite após a conclusão do seu trabalho.\n",
    "\n",
    "7. Capture a exceção do banco de dados, se houver alguma que possa ocorrer durante o processo de conexão.\n",
    "\n",
    "O programa Python a seguir cria e se conecta ao novo arquivo de banco de dados `database.db` e imprime os detalhes da versão do SQLite."
   ]
  },
  {
   "cell_type": "code",
   "execution_count": 1,
   "id": "b1178085",
   "metadata": {},
   "outputs": [
    {
     "name": "stdout",
     "output_type": "stream",
     "text": [
      "Banco de dados criado e conectado com sucesso ao SQLite\n",
      "A versão do banco de dados SQLite é: [('3.35.4',)]\n",
      "A conexão SQLite está fechada\n"
     ]
    }
   ],
   "source": [
    "import sqlite3\n",
    "\n",
    "try:\n",
    "    sqlite_connection = sqlite3.connect('database.db')\n",
    "    cursor = sqlite_connection.cursor()\n",
    "    print(\"Banco de dados criado e conectado com sucesso ao SQLite\")\n",
    "\n",
    "    sqlite_select_query = \"select sqlite_version();\"\n",
    "    cursor.execute(sqlite_select_query)\n",
    "    record = cursor.fetchall()\n",
    "    print(f\"A versão do banco de dados SQLite é: {record}\")\n",
    "    cursor.close()\n",
    "\n",
    "except sqlite3.Error as error:\n",
    "    print(f\"Erro ao conectar ao SQLite: {error}\")\n",
    "    \n",
    "finally:\n",
    "    if sqlite_connection:\n",
    "        sqlite_connection.close()\n",
    "        print(\"A conexão SQLite está fechada\")"
   ]
  },
  {
   "cell_type": "markdown",
   "id": "55005de1",
   "metadata": {},
   "source": [
    "Pontos importantes ao se conectar ao SQLite:\n",
    "\n",
    "- O objeto de conexão não é seguro para thread. O módulo sqlite3 não permite o compartilhamento de conexões entre threads. Se você ainda tentar fazer isso, obterá uma exceção no tempo de execução.\n",
    "- O método **connect()** aceita vários argumentos. Em nosso exemplo, passamos o argumento do nome do banco de dados para conectar.\n",
    "- Usando um objeto de conexão, podemos criar um objeto **cursor** que nos permite executar comandos/consultas SQLite através do Python.\n",
    "- Podemos criar quantos cursores quisermos de um único objeto de conexão. Assim como um objeto de conexão, este objeto cursor também não é seguro para threads. O módulo sqlite3 não permite o compartilhamento de cursores entre threads. Se você ainda tentar fazer isso, obterá uma exceção no tempo de execução.\n",
    "- Bloco **try-except-finally**: Colocamos todo o nosso código neste bloco para capturar as exceções e erros do banco de dados SQLite durante este processo.\n",
    "- Usando o objeto **Error**, podemos lidar com qualquer erro de banco de dados e exceção que pode ocorrer ao trabalhar com SQLite do Python.\n",
    "- O objeto **Error** nos ajuda a entender o erro em detalhes. Ele retorna uma mensagem de erro e um código de erro.\n",
    "- É sempre uma boa prática fechar o cursor e o objeto de conexão assim que seu trabalho for concluído para evitar problemas de banco de dados."
   ]
  },
  {
   "cell_type": "markdown",
   "id": "610fa543",
   "metadata": {},
   "source": [
    "## Criando uma Tabela SQLite a partir do Python\n",
    "\n",
    "Nesta seção veremos como criar uma tabela no banco de dados SQLite do Python. Criar uma instrução de tabela é uma consulta [DDL](https://en.wikipedia.org/wiki/Data_definition_language). Vamos ver como executá-lo em Python.\n",
    "\n",
    "Neste exemplo, estamos criando uma tabela de nome **Pessoas** dentro do banco de dados `database.db`.\n",
    "\n",
    "A ideia é eventualmente termos uma tabela com uma estrutura semelhante a esta:\n",
    "\n",
    "| id | nome | email | nascimento |\n",
    "|---|---|---|---|\n",
    "| 1  | Gabriel  | `gabriel@gmail.com`  | 1992-03-17  |\n",
    "| 2  | Rafael  | `rafael@gmail.com`  | 1991-08-16  |\n",
    "| 3  | Miguel  | `miguel@yahoo.com`  | 1985-04-21  |\n",
    "| 4  | Uriel  | `uriel@yahoo.com`  | 1970-06-03  |\n",
    "| 5  | Maria  | `maria@gmail.com`  | 1950-07-11  |\n",
    "| 6  | Paula  | `paula@gmail.com`  | 1996-06-13  |\n",
    "| 7  | Joana  | `joana@gmail.com`  | 2001-11-21  |\n",
    "\n",
    "Observe que a tabela **Pessoas** tem 4 colunas (**id**, **nome**, **email** e **nascimento**).\n",
    "\n",
    "Etapas para criar uma tabela em SQLite a partir de Python:\n",
    "\n",
    "- Conecte-se ao SQLite usando **sqlite3.connect()**\n",
    "- Prepare uma consulta de criação de tabela\n",
    "- Execute a consulta usando um **cursor.execute()**"
   ]
  },
  {
   "cell_type": "code",
   "execution_count": 2,
   "id": "2b529c66",
   "metadata": {},
   "outputs": [
    {
     "name": "stdout",
     "output_type": "stream",
     "text": [
      "Conectado com sucesso ao SQLite\n",
      "Tabela SQLite criada\n",
      "A conexão SQLite está fechada\n"
     ]
    }
   ],
   "source": [
    "try:\n",
    "    sqlite_connection = sqlite3.connect('database.db')\n",
    "    sqlite_create_table_query = '''CREATE TABLE Pessoas (\n",
    "                                id INTEGER PRIMARY KEY,\n",
    "                                nome TEXT NOT NULL,\n",
    "                                email text NOT NULL UNIQUE,\n",
    "                                nascimento datetime);'''\n",
    "    cursor = sqlite_connection.cursor()\n",
    "    print(\"Conectado com sucesso ao SQLite\")\n",
    "    cursor.execute(sqlite_create_table_query)\n",
    "    sqlite_connection.commit()\n",
    "    print(\"Tabela SQLite criada\")\n",
    "    cursor.close()\n",
    "\n",
    "except sqlite3.Error as error:\n",
    "    print(f\"Erro ao conectar ao SQLite: {error}\")\n",
    "    \n",
    "finally:\n",
    "    if sqlite_connection:\n",
    "        sqlite_connection.close()\n",
    "        print(\"A conexão SQLite está fechada\")"
   ]
  },
  {
   "cell_type": "markdown",
   "id": "c2033056",
   "metadata": {},
   "source": [
    "## Tipos de dados SQLite e seus Tipos Python Correspondentes\n",
    "\n",
    "Antes de executar as operações SQLite [CRUD](https://en.wikipedia.org/wiki/Create,_read,_update_and_delete) no Python, primeiro devemos entender os tipos de dados SQLite e seus tipos Python correspondentes, o que nos ajudará a armazenar e ler os dados da tabela SQLite.\n",
    "\n",
    "O mecanismo de banco de dados SQLite possui várias classes de armazenamento para armazenar valores. Cada valor armazenado em um banco de dados SQLite possui uma das seguintes classes de armazenamento ou tipos de dados.\n",
    "\n",
    "Tipos de dados SQLite:\n",
    "\n",
    "- **NULL**: O valor é um valor NULL.\n",
    "- **INTEGER**: Para armazenar o valor numérico. O inteiro armazenado em 1, 2, 3, 4, 6 ou 8 bytes dependendo da magnitude do número.\n",
    "- **REAL**: O valor é um valor de ponto flutuante, por exemplo, 3.14 valor de PI.\n",
    "- **TEXT**: O valor é uma string de texto, valor TEXT é armazenado usando a codificação UTF-8, UTF-16BE ou UTF-16LE.\n",
    "- **BLOB**: O valor é um blob de dados, ou seja, dados binários. Ele é usado para armazenar imagens e arquivos.\n",
    "\n",
    "Os seguintes tipos de dados Python são convertidos em SQLite sem nenhum problema. Portanto, quando você estiver modificando ou lendo a tabela SQLite (executando operações CRUD), lembre-se desta tabela: \t\n",
    "\n",
    "| Tipos Python | Tipos SQLite |\n",
    "|---|---|\n",
    "| None  | NULL  |\n",
    "| int  | INTEGER  |\n",
    "| float  | REAL  |\n",
    "| str  | TEXT  |\n",
    "| bytes  | BLOB  |"
   ]
  },
  {
   "cell_type": "markdown",
   "id": "d2524f14",
   "metadata": {},
   "source": [
    "## Inserindo Dados em uma Tabela SQLite com Python\n",
    "\n",
    "Vamos agora executar a consulta SQLite **INSERT** no Python para adicionar novas linhas à tabela **Pessoas** SQLite usando um módulo Python **sqlite3**.\n",
    "\n",
    "A seguir temos as etapas de como inserir dados na tabela SQLite através do Python:\n",
    "\n",
    "1. Conecte-se ao SQLite no Python: Referenciar a conexão do banco de dados Python SQLite para se conectar ao banco de dados SQLite do Python usando o módulo sqlite3.\n",
    "\n",
    "2. Definir uma SQL Query INSERT: Em seguida, prepare uma SQL Query INSERT para inserir uma linha em uma tabela. Nesta consulta de inserção, mencionamos os nomes das colunas e seus valores para inserir em uma tabela. Por exemplo: `INSERT INTO mysql_table (coluna1, coluna2,…) VALUES (valor1, valor2,…);`\n",
    "\n",
    "3. Obter objeto Cursor de conexão: Em seguida, use um método **connection.cursor()** para criar um objeto cursor. usando o objeto cursor, podemos executar consultas (queries) SQL.\n",
    "\n",
    "4. Execute a query de inserção usando o método **execute()**: O método **cursor.execute()** executa a operação armazenada na Query INSERT.\n",
    "\n",
    "5. Fazer **commit** das mudanças: Depois de executar com sucesso uma operação de inserção, faça alterações persistentes em um banco de dados usando o método **commit()** de um objeto de conexão.\n",
    "\n",
    "6. Obtenha o número de linhas afetadas: Após uma operação de inserção bem-sucedida, use um método **cursor.rowcount** para obter o número de linhas afetadas. A contagem depende de quantas linhas você está inserindo.\n",
    "\n",
    "7. Verifique o resultado usando a consulta SQL **SELECT**: Se necessário, execute a consulta de seleção do SQLite em Python para ver as novas alterações.\n",
    "\n",
    "8. Fechar o objeto cursor e o objeto de conexão com o banco de dados: Use os métodos **cursor.close()** e **connection.close()** para fechar o cursor e as conexões SQLite após a conclusão do trabalho.\n",
    "\n",
    "Até então, a tabela **Pessoas** está vazia, então vamos inserir dados nela!"
   ]
  },
  {
   "cell_type": "code",
   "execution_count": 3,
   "id": "4031e23f",
   "metadata": {},
   "outputs": [
    {
     "name": "stdout",
     "output_type": "stream",
     "text": [
      "Conectado com sucesso ao SQLite\n",
      "Registro inserido com sucesso na tabela Pessoas: 1\n",
      "A conexão SQLite está fechada\n"
     ]
    }
   ],
   "source": [
    "try:\n",
    "    sqlite_connection = sqlite3.connect('database.db')\n",
    "    cursor = sqlite_connection.cursor()\n",
    "    print(\"Conectado com sucesso ao SQLite\")\n",
    "\n",
    "    sqlite_insert_query = \"\"\"INSERT INTO Pessoas\n",
    "                          (id, nome, email, nascimento) \n",
    "                           VALUES \n",
    "                          (1,'Gabriel','gabriel@gmail.com','1992-03-17')\"\"\"\n",
    "\n",
    "    count = cursor.execute(sqlite_insert_query)\n",
    "    sqlite_connection.commit()\n",
    "    print(f\"Registro inserido com sucesso na tabela Pessoas: {cursor.rowcount}\")\n",
    "    cursor.close()\n",
    "\n",
    "except sqlite3.Error as error:\n",
    "    print(f\"Erro ao conectar ao SQLite: {error}\")\n",
    "    \n",
    "finally:\n",
    "    if sqlite_connection:\n",
    "        sqlite_connection.close()\n",
    "        print(\"A conexão SQLite está fechada\")"
   ]
  },
  {
   "cell_type": "markdown",
   "id": "d2f1dcee",
   "metadata": {},
   "source": [
    "### Usando Variáveis Python na Consulta SQLite INSERT\n",
    "\n",
    "Às vezes, precisamos inserir um valor de variável Python na coluna de uma tabela. Este valor pode ser qualquer coisa, incluindo **int**, **string**, **float** e **DateTime**. \n",
    "\n",
    "Por exemplo: em um formulário de inscrição a pessoa insere seus dados. Você pode capturar esses valores em variáveis Python e inseri-los na tabela SQLite através do Python.\n",
    "\n",
    "Usamos uma **consulta parametrizada** para inserir variáveis Python na tabela. Usando uma consulta parametrizada, podemos passar variáveis Python como um parâmetro de consulta em placeholders (`?`).\n",
    "\n",
    "Vamos então definir uma função para facilitar este procedimento de inserção:"
   ]
  },
  {
   "cell_type": "code",
   "execution_count": 4,
   "id": "c6d080fa",
   "metadata": {},
   "outputs": [],
   "source": [
    "def insert_variable_into_table(id, nome, email, nascimento):\n",
    "    try:\n",
    "        sqlite_connection = sqlite3.connect('database.db')\n",
    "        cursor = sqlite_connection.cursor()\n",
    "        print(\"Conectado com sucesso ao SQLite\")\n",
    "\n",
    "        sqlite_insert_with_param = \"\"\"INSERT INTO Pessoas\n",
    "                          (id, nome, email, nascimento) \n",
    "                          VALUES (?, ?, ?, ?);\"\"\"\n",
    "\n",
    "        data_tuple = (id, nome, email, nascimento)\n",
    "        cursor.execute(sqlite_insert_with_param, data_tuple)\n",
    "        sqlite_connection.commit()\n",
    "        print(\"Variáveis Python inseridas com sucesso na tabela Pessoas\")\n",
    "\n",
    "        cursor.close()\n",
    "\n",
    "    except sqlite3.Error as error:\n",
    "        print(f\"Erro ao conectar ao SQLite: {error}\")\n",
    "\n",
    "    finally:\n",
    "        if sqlite_connection:\n",
    "            sqlite_connection.close()\n",
    "            print(\"A conexão SQLite está fechada\")"
   ]
  },
  {
   "cell_type": "markdown",
   "id": "8bdf5a11",
   "metadata": {},
   "source": [
    "Uma vez que a função está definida, agora podemos facilmente inserir valores em nossa tabela **Pessoas**."
   ]
  },
  {
   "cell_type": "code",
   "execution_count": 5,
   "id": "0c4f155b",
   "metadata": {},
   "outputs": [
    {
     "name": "stdout",
     "output_type": "stream",
     "text": [
      "Conectado com sucesso ao SQLite\n",
      "Variáveis Python inseridas com sucesso na tabela Pessoas\n",
      "A conexão SQLite está fechada\n",
      "Conectado com sucesso ao SQLite\n",
      "Variáveis Python inseridas com sucesso na tabela Pessoas\n",
      "A conexão SQLite está fechada\n",
      "Conectado com sucesso ao SQLite\n",
      "Variáveis Python inseridas com sucesso na tabela Pessoas\n",
      "A conexão SQLite está fechada\n"
     ]
    }
   ],
   "source": [
    "insert_variable_into_table(2, 'Rafael', 'rafael@gmail.com', '1991-08-16')\n",
    "insert_variable_into_table(3, 'Miguel', 'miguel@yahoo.com', '1985-04-21')\n",
    "insert_variable_into_table(4, 'Uriel', 'uriel@yahoo.com', '1970-06-03')"
   ]
  },
  {
   "cell_type": "markdown",
   "id": "2ab8c728",
   "metadata": {},
   "source": [
    "### Inserindo várias linhas na Tabela SQLite\n",
    "\n",
    "No exemplo acima, usamos o método **execute()** do objeto **cursor** para inserir um único registro em nossa tabela. Ainda assim, às vezes precisamos inserir várias linhas na tabela em uma única consulta de inserção.\n",
    "\n",
    "Por exemplo, você deseja adicionar todos os registros de um arquivo CSV à tabela SQLite. Em vez de executar a consulta **INSERT** todas as vezes para adicionar cada registro, você pode realizar uma operação de inserção em massa em uma única consulta usando a função **executemany()** de um cursor.\n",
    "\n",
    "O método **executemany()** leva dois argumentos: consulta SQL e registros para atualizar.\n",
    "\n",
    "Novamente, vamos definir uma função para este trabalho:"
   ]
  },
  {
   "cell_type": "code",
   "execution_count": 6,
   "id": "d0594b9d",
   "metadata": {},
   "outputs": [],
   "source": [
    "def insert_multiple_records(record_list):\n",
    "    try:\n",
    "        sqlite_connection = sqlite3.connect('database.db')\n",
    "        cursor = sqlite_connection.cursor()\n",
    "        print(\"Conectado com sucesso ao SQLite\")\n",
    "\n",
    "        sqlite_insert_query = \"\"\"INSERT INTO Pessoas\n",
    "                          (id, nome, email, nascimento) \n",
    "                          VALUES (?, ?, ?, ?);\"\"\"\n",
    "\n",
    "        cursor.executemany(sqlite_insert_query, record_list)\n",
    "        sqlite_connection.commit()\n",
    "        print(f\"Total de {cursor.rowcount} Registros inseridos com sucesso na tabela Pessoas\")\n",
    "        sqlite_connection.commit()\n",
    "        cursor.close()\n",
    "\n",
    "    except sqlite3.Error as error:\n",
    "        print(f\"Erro ao conectar ao SQLite: {error}\")\n",
    "\n",
    "    finally:\n",
    "        if sqlite_connection:\n",
    "            sqlite_connection.close()\n",
    "            print(\"A conexão SQLite está fechada\")"
   ]
  },
  {
   "cell_type": "markdown",
   "id": "5bd0e70f",
   "metadata": {},
   "source": [
    "Podemos agora definir uma lista de registros e em seguida inserí-los através da função **insert_multiple_records()** que definimos."
   ]
  },
  {
   "cell_type": "code",
   "execution_count": 7,
   "id": "54a890f9",
   "metadata": {},
   "outputs": [
    {
     "name": "stdout",
     "output_type": "stream",
     "text": [
      "Conectado com sucesso ao SQLite\n",
      "Total de 3 Registros inseridos com sucesso na tabela Pessoas\n",
      "A conexão SQLite está fechada\n"
     ]
    }
   ],
   "source": [
    "registros = [(5, 'Maria', 'maria@gmail.com', '1950-07-11'),\n",
    "             (6, 'Paula', 'paula@gmail.com', '1996-06-13'),\n",
    "             (7, 'Joana', 'joana@gmail.com', '2001-11-21')]\n",
    "\n",
    "insert_multiple_records(registros)"
   ]
  },
  {
   "cell_type": "markdown",
   "id": "2f556bac",
   "metadata": {},
   "source": [
    "Compreendendo o exemplo acima:\n",
    "\n",
    "- Primeiramente nos conectamos ao banco de dados `database.db` através do método **connect()**\n",
    "- Novamente instanciamos um objeto **cursor** para realizarmos nossa consulta.\n",
    "- A instrução SQL INSERT contém a consulta parametrizada, que usa o marcador (`?`) Para cada valor de coluna.\n",
    "- Em seguida, usando **cursor.executemany()**, inserimos várias linhas na tabela.\n",
    "- Para saber a quantidade de registros inseridos, utilizamos o atributo **cursor.rowcount**.\n",
    "- Finalmente, preparamos uma lista de registros para inserir na tabela Pessoas. Cada entrada na lista **registros** nada mais é do que uma tupla que representa uma linha a ser inserida em nossa tabela Pessoas.\n",
    "- Por fim, chamamos a função **insert_multiple_records()** passando a nossa lista como argumento."
   ]
  },
  {
   "cell_type": "markdown",
   "id": "a7d9ac4a",
   "metadata": {},
   "source": [
    "## Selecionando Dados em uma Tabela SQLite com Python\n",
    "\n",
    "Vamos agora executar uma SQLite **SELECT** Query no Python para recuperar linhas da tabela **Pessoas** SQLite usando o módulo interno **sqlite3**.\n",
    "\n",
    "A seguir temos as etapas de como selecionar dados em uma tabela SQLite usando Python:\n",
    "\n",
    "1. Conecte-se ao SQLite no Python: Referenciar a conexão do banco de dados Python SQLite para se conectar ao banco de dados SQLite do Python usando o módulo sqlite3.\n",
    "\n",
    "2. Definir uma consulta SQLite **SELECT**: Em seguida, prepare uma consulta SQLite SELECT para buscar linhas de uma tabela. Você pode selecionar todas as linhas ou limitadas com base em seus requisitos. Por exemplo: `SELECT coluna1, coluna2, colunaN FROM nome_tabela;`\n",
    "\n",
    "3. Obter objeto Cursor de conexão: Em seguida, use um método **connection.cursor()** para criar um objeto cursor. Este método retorna um objeto cursor. O objeto Cursor é necessário para executar a consulta.\n",
    "\n",
    "4. Execute a consulta **SELECT**: Execute a consulta de seleção usando o método **cursor.execute()**.\n",
    "\n",
    "5. Extraia todas as linhas de um resultado: Depois de executar com sucesso uma operação de seleção, use o método **fetchall()** de um objeto cursor para obter todas as linhas de um resultado de consulta. ele retorna uma lista de linhas.\n",
    "\n",
    "6. Iterar sob cada linha: Itere sob uma lista de linhas usando um **for** loop e acesse cada linha individualmente (acesse os dados da coluna de cada linha usando um nome de coluna ou número de índice).\n",
    "\n",
    "7. Fechar o objeto cursor e o objeto de conexão com o banco de dados: Use os métodos **cursor.close()** e **connection.close()** para fechar a conexão SQLite após a conclusão de seu trabalho.\n",
    "\n",
    "Vamos então definir uma função para ler todas as linhas da tabela SQLite **Pessoas**:"
   ]
  },
  {
   "cell_type": "code",
   "execution_count": 8,
   "id": "825134bc",
   "metadata": {},
   "outputs": [],
   "source": [
    "def select_pessoas():\n",
    "    try:\n",
    "        sqlite_connection = sqlite3.connect('database.db')\n",
    "        cursor = sqlite_connection.cursor()\n",
    "        print(\"Conectado com sucesso ao SQLite\")\n",
    "\n",
    "        sqlite_select_query = \"\"\"SELECT * from Pessoas\"\"\"\n",
    "        cursor.execute(sqlite_select_query)\n",
    "        records = cursor.fetchall()\n",
    "        print(f\"Total de linhas na tabela Pessoas = {len(records)}\")\n",
    "        print(\"Imprimindo cada linha:\")\n",
    "        for row in records:\n",
    "            print(f\"Id: {row[0]}\")\n",
    "            print(f\"Nome: {row[1]}\")\n",
    "            print(f\"Email: {row[2]}\")\n",
    "            print(f\"Nascimento: {row[3]}\")\n",
    "        cursor.close()\n",
    "\n",
    "    except sqlite3.Error as error:\n",
    "        print(f\"Erro ao conectar ao SQLite: {error}\")\n",
    "\n",
    "    finally:\n",
    "        if sqlite_connection:\n",
    "            sqlite_connection.close()\n",
    "            print(\"A conexão SQLite está fechada\")"
   ]
  },
  {
   "cell_type": "markdown",
   "id": "1499c2b8",
   "metadata": {},
   "source": [
    "Agora podemos invocar a função **select_pessoas()** para selecionar todos os registros da tabela **Pessoas**."
   ]
  },
  {
   "cell_type": "code",
   "execution_count": 9,
   "id": "789ac6fb",
   "metadata": {},
   "outputs": [
    {
     "name": "stdout",
     "output_type": "stream",
     "text": [
      "Conectado com sucesso ao SQLite\n",
      "Total de linhas na tabela Pessoas = 7\n",
      "Imprimindo cada linha:\n",
      "Id: 1\n",
      "Nome: Gabriel\n",
      "Email: gabriel@gmail.com\n",
      "Nascimento: 1992-03-17\n",
      "Id: 2\n",
      "Nome: Rafael\n",
      "Email: rafael@gmail.com\n",
      "Nascimento: 1991-08-16\n",
      "Id: 3\n",
      "Nome: Miguel\n",
      "Email: miguel@yahoo.com\n",
      "Nascimento: 1985-04-21\n",
      "Id: 4\n",
      "Nome: Uriel\n",
      "Email: uriel@yahoo.com\n",
      "Nascimento: 1970-06-03\n",
      "Id: 5\n",
      "Nome: Maria\n",
      "Email: maria@gmail.com\n",
      "Nascimento: 1950-07-11\n",
      "Id: 6\n",
      "Nome: Paula\n",
      "Email: paula@gmail.com\n",
      "Nascimento: 1996-06-13\n",
      "Id: 7\n",
      "Nome: Joana\n",
      "Email: joana@gmail.com\n",
      "Nascimento: 2001-11-21\n",
      "A conexão SQLite está fechada\n"
     ]
    }
   ],
   "source": [
    "select_pessoas()"
   ]
  },
  {
   "cell_type": "markdown",
   "id": "22f8d7fe",
   "metadata": {},
   "source": [
    "### Usando Variáveis Python como Parâmetros no SQLite SELECT Query\n",
    "\n",
    "Freqüentemente, precisamos passar uma variável para a consulta **SELECT** do SQLite na cláusula **where** para verificar alguma condição.\n",
    "\n",
    "Digamos que o aplicativo deseja obter os detalhes de uma pessoa, fornecendo qualquer id no tempo de execução. Para lidar com esse requisito, precisamos usar uma consulta parametrizada.\n",
    "\n",
    "Uma consulta parametrizada é uma consulta na qual marcadores de posição (`?`) são usados para parâmetros e os valores dos parâmetros fornecidos em tempo de execução.\n",
    "\n",
    "Por exemplo, vamos definir uma função para selecionar uma pessoa específica por **id**:"
   ]
  },
  {
   "cell_type": "code",
   "execution_count": 10,
   "id": "687cc678",
   "metadata": {},
   "outputs": [],
   "source": [
    "def get_pessoa_info(id):\n",
    "    try:\n",
    "        sqlite_connection = sqlite3.connect('database.db')\n",
    "        cursor = sqlite_connection.cursor()\n",
    "        print(\"Conectado com sucesso ao SQLite\")\n",
    "\n",
    "        sql_select_query = \"\"\"SELECT * from Pessoas where id = ?\"\"\"\n",
    "        cursor.execute(sql_select_query, (id,))\n",
    "        records = cursor.fetchall()\n",
    "        print(f\"Imprimindo ID: {id}\")\n",
    "        for row in records:\n",
    "            print(f\"Id: {row[0]}\")\n",
    "            print(f\"Nome: {row[1]}\")\n",
    "            print(f\"Email: {row[2]}\")\n",
    "        cursor.close()\n",
    "\n",
    "    except sqlite3.Error as error:\n",
    "        print(f\"Erro ao conectar ao SQLite: {error}\")\n",
    "\n",
    "    finally:\n",
    "        if sqlite_connection:\n",
    "            sqlite_connection.close()\n",
    "            print(\"A conexão SQLite está fechada\")"
   ]
  },
  {
   "cell_type": "markdown",
   "id": "81875627",
   "metadata": {},
   "source": [
    "Agora podemos usar a função **get_pessoa_info()** para obter informações sobre uma pessoa com um determinado **id**."
   ]
  },
  {
   "cell_type": "code",
   "execution_count": 11,
   "id": "26c247a4",
   "metadata": {},
   "outputs": [
    {
     "name": "stdout",
     "output_type": "stream",
     "text": [
      "Conectado com sucesso ao SQLite\n",
      "Imprimindo ID: 1\n",
      "Id: 1\n",
      "Nome: Gabriel\n",
      "Email: gabriel@gmail.com\n",
      "A conexão SQLite está fechada\n"
     ]
    }
   ],
   "source": [
    "get_pessoa_info(1)"
   ]
  },
  {
   "cell_type": "code",
   "execution_count": 12,
   "id": "9fcd12c8",
   "metadata": {},
   "outputs": [
    {
     "name": "stdout",
     "output_type": "stream",
     "text": [
      "Conectado com sucesso ao SQLite\n",
      "Imprimindo ID: 7\n",
      "Id: 7\n",
      "Nome: Joana\n",
      "Email: joana@gmail.com\n",
      "A conexão SQLite está fechada\n"
     ]
    }
   ],
   "source": [
    "get_pessoa_info(7)"
   ]
  },
  {
   "cell_type": "markdown",
   "id": "c9a4fe50",
   "metadata": {},
   "source": [
    "### Selecionando Linhas Limitadas da Tabela SQLite\n",
    "\n",
    "Em algumas circunstâncias, buscar todas as linhas de dados de uma tabela é uma tarefa demorada se a tabela contiver milhares de linhas.\n",
    "\n",
    "Para buscar todas as linhas, precisamos usar mais recursos, portanto, precisamos de mais espaço e tempo de processamento. Para melhorar o desempenho, use o método **fetchmany()** de um objeto cursor para buscar menos linhas.\n",
    "\n",
    "Vamos então definir uma função em que possamos especificar o número de linhas que desejamos buscar via argumento:"
   ]
  },
  {
   "cell_type": "code",
   "execution_count": 13,
   "id": "be8b446e",
   "metadata": {},
   "outputs": [],
   "source": [
    "def read_limited_rows(row_size):\n",
    "    try:\n",
    "        sqlite_connection = sqlite3.connect('database.db')\n",
    "        cursor = sqlite_connection.cursor()\n",
    "        print(\"Conectado com sucesso ao SQLite\")\n",
    "\n",
    "        sqlite_select_query = \"\"\"SELECT * from Pessoas\"\"\"\n",
    "        cursor.execute(sqlite_select_query)\n",
    "        print(f\"Lendo {row_size} linhas\")\n",
    "        records = cursor.fetchmany(row_size)\n",
    "        print(\"Imprimindo cada linha:\")\n",
    "        for row in records:\n",
    "            print(f\"Id: {row[0]}\")\n",
    "            print(f\"Nome: {row[1]}\")\n",
    "            print(f\"Email: {row[2]}\")\n",
    "            print(f\"Nascimento: {row[3]}\")\n",
    "        cursor.close()\n",
    "\n",
    "    except sqlite3.Error as error:\n",
    "        print(f\"Erro ao conectar ao SQLite: {error}\")\n",
    "\n",
    "    finally:\n",
    "        if sqlite_connection:\n",
    "            sqlite_connection.close()\n",
    "            print(\"A conexão SQLite está fechada\")"
   ]
  },
  {
   "cell_type": "markdown",
   "id": "8c442a30",
   "metadata": {},
   "source": [
    "Agora podemos usar a função **read_limited_rows()** para ler o número de linhas que desejamos."
   ]
  },
  {
   "cell_type": "code",
   "execution_count": 14,
   "id": "0ec8b9e5",
   "metadata": {},
   "outputs": [
    {
     "name": "stdout",
     "output_type": "stream",
     "text": [
      "Conectado com sucesso ao SQLite\n",
      "Lendo 1 linhas\n",
      "Imprimindo cada linha:\n",
      "Id: 1\n",
      "Nome: Gabriel\n",
      "Email: gabriel@gmail.com\n",
      "Nascimento: 1992-03-17\n",
      "A conexão SQLite está fechada\n"
     ]
    }
   ],
   "source": [
    "read_limited_rows(1)"
   ]
  },
  {
   "cell_type": "code",
   "execution_count": 15,
   "id": "f6a49abc",
   "metadata": {},
   "outputs": [
    {
     "name": "stdout",
     "output_type": "stream",
     "text": [
      "Conectado com sucesso ao SQLite\n",
      "Lendo 3 linhas\n",
      "Imprimindo cada linha:\n",
      "Id: 1\n",
      "Nome: Gabriel\n",
      "Email: gabriel@gmail.com\n",
      "Nascimento: 1992-03-17\n",
      "Id: 2\n",
      "Nome: Rafael\n",
      "Email: rafael@gmail.com\n",
      "Nascimento: 1991-08-16\n",
      "Id: 3\n",
      "Nome: Miguel\n",
      "Email: miguel@yahoo.com\n",
      "Nascimento: 1985-04-21\n",
      "A conexão SQLite está fechada\n"
     ]
    }
   ],
   "source": [
    "read_limited_rows(3)"
   ]
  },
  {
   "cell_type": "markdown",
   "id": "291af8ef",
   "metadata": {},
   "source": [
    "### Selecionando uma Única Linha da Tabela SQLite\n",
    "\n",
    "Quando você deseja ler apenas uma linha da tabela SQLite, você deve usar o método **fetchone()** de um objeto cursor. Você também pode usar esse método em situações em que sabe que a consulta retornará apenas uma linha.\n",
    "\n",
    "O método **cursor.fetchone()** recupera a próxima linha do conjunto de resultados, vamos então definir uma função que buscará apenas uma única linha com um **id** especificado por nós via argumento."
   ]
  },
  {
   "cell_type": "code",
   "execution_count": 16,
   "id": "31a5f883",
   "metadata": {},
   "outputs": [],
   "source": [
    "def read_single_row(pessoa_id):\n",
    "    try:\n",
    "        sqlite_connection = sqlite3.connect('database.db')\n",
    "        cursor = sqlite_connection.cursor()\n",
    "        print(\"Conectado com sucesso ao SQLite\")\n",
    "\n",
    "        sqlite_select_query = \"\"\"SELECT * from Pessoas where id = ?\"\"\"\n",
    "        cursor.execute(sqlite_select_query, (pessoa_id,))\n",
    "        print(\"Lendo uma única linha:\")\n",
    "        record = cursor.fetchone()\n",
    "        print(f\"Id: {record[0]}\")\n",
    "        print(f\"Nome: {record[1]}\")\n",
    "        print(f\"Email: {record[2]}\")\n",
    "        print(f\"Nascimento: {record[3]}\")\n",
    "        cursor.close()\n",
    "\n",
    "    except sqlite3.Error as error:\n",
    "        print(f\"Erro ao conectar ao SQLite: {error}\")\n",
    "\n",
    "    finally:\n",
    "        if sqlite_connection:\n",
    "            sqlite_connection.close()\n",
    "            print(\"A conexão SQLite está fechada\")"
   ]
  },
  {
   "cell_type": "markdown",
   "id": "0ae87a8f",
   "metadata": {},
   "source": [
    "Uma vez definida, podemos usar a função **read_single_row()**:"
   ]
  },
  {
   "cell_type": "code",
   "execution_count": 17,
   "id": "f8cec8a9",
   "metadata": {},
   "outputs": [
    {
     "name": "stdout",
     "output_type": "stream",
     "text": [
      "Conectado com sucesso ao SQLite\n",
      "Lendo uma única linha:\n",
      "Id: 5\n",
      "Nome: Maria\n",
      "Email: maria@gmail.com\n",
      "Nascimento: 1950-07-11\n",
      "A conexão SQLite está fechada\n"
     ]
    }
   ],
   "source": [
    "read_single_row(5)"
   ]
  },
  {
   "cell_type": "markdown",
   "id": "068c41a7",
   "metadata": {},
   "source": [
    "### Acessando Dados Armazenados em SQLite usando a Biblioteca Pandas\n",
    "\n",
    "Usando o **[pandas](https://pandas.pydata.org/)**, podemos importar os resultados de uma consulta SQLite para um **DataFrame**. \n",
    "\n",
    "Observe que você pode usar os mesmos comandos/sintaxe SQL que usamos na lição SQLite. \n",
    "\n",
    "A seguir temos um exemplo de uso de pandas junto com SQLite, primeiramente devemos importar a biblioteca pandas:"
   ]
  },
  {
   "cell_type": "code",
   "execution_count": 18,
   "id": "9c91ec09",
   "metadata": {},
   "outputs": [],
   "source": [
    "import pandas as pd"
   ]
  },
  {
   "cell_type": "markdown",
   "id": "786c6d07",
   "metadata": {},
   "source": [
    "Leia os resultados da consulta SQLite em um DataFrame do pandas:"
   ]
  },
  {
   "cell_type": "code",
   "execution_count": 19,
   "id": "e2f99094",
   "metadata": {},
   "outputs": [],
   "source": [
    "con = sqlite3.connect(\"database.db\")\n",
    "df = pd.read_sql_query(\"SELECT * from Pessoas\", con)\n",
    "con.close()"
   ]
  },
  {
   "cell_type": "markdown",
   "id": "37bbc91e",
   "metadata": {},
   "source": [
    "Verifique se o resultado da consulta SQL está armazenado no DataFrame:"
   ]
  },
  {
   "cell_type": "code",
   "execution_count": 20,
   "id": "428f0103",
   "metadata": {},
   "outputs": [
    {
     "data": {
      "text/html": [
       "<div>\n",
       "<style scoped>\n",
       "    .dataframe tbody tr th:only-of-type {\n",
       "        vertical-align: middle;\n",
       "    }\n",
       "\n",
       "    .dataframe tbody tr th {\n",
       "        vertical-align: top;\n",
       "    }\n",
       "\n",
       "    .dataframe thead th {\n",
       "        text-align: right;\n",
       "    }\n",
       "</style>\n",
       "<table border=\"1\" class=\"dataframe\">\n",
       "  <thead>\n",
       "    <tr style=\"text-align: right;\">\n",
       "      <th></th>\n",
       "      <th>id</th>\n",
       "      <th>nome</th>\n",
       "      <th>email</th>\n",
       "      <th>nascimento</th>\n",
       "    </tr>\n",
       "  </thead>\n",
       "  <tbody>\n",
       "    <tr>\n",
       "      <th>0</th>\n",
       "      <td>1</td>\n",
       "      <td>Gabriel</td>\n",
       "      <td>gabriel@gmail.com</td>\n",
       "      <td>1992-03-17</td>\n",
       "    </tr>\n",
       "    <tr>\n",
       "      <th>1</th>\n",
       "      <td>2</td>\n",
       "      <td>Rafael</td>\n",
       "      <td>rafael@gmail.com</td>\n",
       "      <td>1991-08-16</td>\n",
       "    </tr>\n",
       "    <tr>\n",
       "      <th>2</th>\n",
       "      <td>3</td>\n",
       "      <td>Miguel</td>\n",
       "      <td>miguel@yahoo.com</td>\n",
       "      <td>1985-04-21</td>\n",
       "    </tr>\n",
       "    <tr>\n",
       "      <th>3</th>\n",
       "      <td>4</td>\n",
       "      <td>Uriel</td>\n",
       "      <td>uriel@yahoo.com</td>\n",
       "      <td>1970-06-03</td>\n",
       "    </tr>\n",
       "    <tr>\n",
       "      <th>4</th>\n",
       "      <td>5</td>\n",
       "      <td>Maria</td>\n",
       "      <td>maria@gmail.com</td>\n",
       "      <td>1950-07-11</td>\n",
       "    </tr>\n",
       "  </tbody>\n",
       "</table>\n",
       "</div>"
      ],
      "text/plain": [
       "   id     nome              email  nascimento\n",
       "0   1  Gabriel  gabriel@gmail.com  1992-03-17\n",
       "1   2   Rafael   rafael@gmail.com  1991-08-16\n",
       "2   3   Miguel   miguel@yahoo.com  1985-04-21\n",
       "3   4    Uriel    uriel@yahoo.com  1970-06-03\n",
       "4   5    Maria    maria@gmail.com  1950-07-11"
      ]
     },
     "execution_count": 20,
     "metadata": {},
     "output_type": "execute_result"
    }
   ],
   "source": [
    "df.head()"
   ]
  },
  {
   "cell_type": "markdown",
   "id": "71faf896",
   "metadata": {},
   "source": [
    "## Atualizando Dados em uma Tabela SQLite com Python\n",
    "\n",
    "Aprenderemos a executar uma consulta **UPDATE** através de um aplicativo Python para atualizar os dados da tabela SQLite. \n",
    "\n",
    "Usaremos o módulo **sqlite3** do Python para atualizar a tabela **Pessoas** SQLite.\n",
    "\n",
    "Atualmente, a tabela **Pessoas** contém 7 linhas, então vamos atualizar o email de uma pessoa cujo id é 4. \n",
    "\n",
    "Para realizar a consulta SQLite **UPDATE** do Python, você precisa seguir estas etapas simples:\n",
    "\n",
    "1. Conecte-se ao SQLite no Python: Referenciar a conexão do banco de dados Python SQLite para se conectar ao banco de dados SQLite do Python usando o módulo sqlite3.\n",
    "\n",
    "2. Prepare uma consulta SQL **UPDATE**: Prepare uma consulta de atualização com dados a serem atualizados. Mencione o nome da coluna que queremos atualizar e seu novo valor. Por exemplo:`UPDATE nome_tabela SET coluna1 = valor1, coluna2 = valor2 ...., colunaN = valorN WHERE [condição];`\n",
    "\n",
    "3. Execute a consulta **UPDATE**, usando **cursor.execute()**: Este método executa a operação armazenada na consulta UPDATE.\n",
    "\n",
    "4. Fazer commit das mudanças: Após a execução bem-sucedida da consulta de atualização do SQLite, não se esqueça de confirmar suas alterações no banco de dados usando **connection.comit()**.\n",
    "\n",
    "5. Extraia o número de linhas afetadas: Após uma operação de atualização bem-sucedida, use um atributo **cursor.rowcount** para obter o número de linhas afetadas. A contagem depende de quantas linhas você está atualizando.\n",
    "\n",
    "6. Verifique o resultado usando a consulta SQL **SELECT**: Execute uma consulta SQLite **SELECT** no Python para ver as novas mudanças.\n",
    "\n",
    "7. Fechar o objeto cursor e o objeto de conexão com o banco de dados: Use os métodos **cursor.close()** e **connection.close()** para fechar a conexão SQLite após a conclusão de seu trabalho.\n",
    "\n",
    "Vamos então fazer atualizações, começaremos definindo uma função responsável por atualizar o email da Pessoa com id = 4."
   ]
  },
  {
   "cell_type": "code",
   "execution_count": 21,
   "id": "16c9b7bf",
   "metadata": {},
   "outputs": [],
   "source": [
    "def updated_sqlite_table():\n",
    "    try:\n",
    "        sqlite_connection = sqlite3.connect('database.db')\n",
    "        cursor = sqlite_connection.cursor()\n",
    "        print(\"Conectado com sucesso ao SQLite\")\n",
    "\n",
    "        sql_update_query = \"\"\"UPDATE Pessoas set email = 'uriel@gmail.com' where id = 4\"\"\"\n",
    "        cursor.execute(sql_update_query)\n",
    "        sqlite_connection.commit()\n",
    "        print(\"Registro atualizado com sucesso!\")\n",
    "        cursor.close()\n",
    "\n",
    "    except sqlite3.Error as error:\n",
    "        print(f\"Erro ao conectar ao SQLite: {error}\")\n",
    "\n",
    "    finally:\n",
    "        if sqlite_connection:\n",
    "            sqlite_connection.close()\n",
    "            print(\"A conexão SQLite está fechada\")"
   ]
  },
  {
   "cell_type": "markdown",
   "id": "af9c2143",
   "metadata": {},
   "source": [
    "Uma vez que temos a função criada, podemos agora atualizar o email do Uriel, cujo id é 4."
   ]
  },
  {
   "cell_type": "code",
   "execution_count": 22,
   "id": "7328781b",
   "metadata": {},
   "outputs": [
    {
     "name": "stdout",
     "output_type": "stream",
     "text": [
      "Conectado com sucesso ao SQLite\n",
      "Registro atualizado com sucesso!\n",
      "A conexão SQLite está fechada\n"
     ]
    }
   ],
   "source": [
    "updated_sqlite_table()"
   ]
  },
  {
   "cell_type": "markdown",
   "id": "79d5fc2d",
   "metadata": {},
   "source": [
    "Selecionamos agora apenas o id 4 para ver se conseguimos efetivamente atualizar o seu email."
   ]
  },
  {
   "cell_type": "code",
   "execution_count": 23,
   "id": "957fd06e",
   "metadata": {},
   "outputs": [
    {
     "name": "stdout",
     "output_type": "stream",
     "text": [
      "Conectado com sucesso ao SQLite\n",
      "Imprimindo ID: 4\n",
      "Id: 4\n",
      "Nome: Uriel\n",
      "Email: uriel@gmail.com\n",
      "A conexão SQLite está fechada\n"
     ]
    }
   ],
   "source": [
    "get_pessoa_info(4)"
   ]
  },
  {
   "cell_type": "markdown",
   "id": "3dc0ffd8",
   "metadata": {},
   "source": [
    "**Observação**: Se você estiver fazendo várias operações de atualização e quiser reverter sua alteração em caso de falha de qualquer operação, use o método **rollback()** de um objeto de conexão para reverter as alterações. Use o método **rollback()** no bloco **except**."
   ]
  },
  {
   "cell_type": "markdown",
   "id": "fe70face",
   "metadata": {},
   "source": [
    "### Usando Variáveis Python na Consulta SQLite UPDATE\n",
    "\n",
    "Na maioria das vezes, precisamos atualizar uma tabela com alguns valores de tempo de execução. \n",
    "\n",
    "Por exemplo: quando os usuários atualizam seu perfil ou quaisquer outros detalhes por meio de uma interface de usuário, precisamos atualizar uma tabela com esses novos valores. Nesses casos, é sempre uma prática recomendada usar uma consulta parametrizada.\n",
    "\n",
    "A consulta parametrizada usa placeholders (`?`) dentro de instruções SQL que contêm entradas de usuários. Isso nos ajuda a atualizar os valores de tempo de execução e evitar problemas de injeção de SQL.\n",
    "\n",
    "Novamente definiremos uma função para esta tarefa, que receberá como argumento: o id da pessoa que desejamos alterar e o novo email a ser atualizado."
   ]
  },
  {
   "cell_type": "code",
   "execution_count": 24,
   "id": "e6379ab5",
   "metadata": {},
   "outputs": [],
   "source": [
    "def update_table(id, email):\n",
    "    try:\n",
    "        sqlite_connection = sqlite3.connect('database.db')\n",
    "        cursor = sqlite_connection.cursor()\n",
    "        print(\"Conectado com sucesso ao SQLite\")\n",
    "\n",
    "        sql_update_query = \"\"\"UPDATE Pessoas set email = ? where id = ?\"\"\"\n",
    "        data = (email, id)\n",
    "        cursor.execute(sql_update_query, data)\n",
    "        sqlite_connection.commit()\n",
    "        print(\"Registro atualizado com sucesso!\")\n",
    "        cursor.close()\n",
    "\n",
    "    except sqlite3.Error as error:\n",
    "        print(f\"Erro ao conectar ao SQLite: {error}\")\n",
    "\n",
    "    finally:\n",
    "        if sqlite_connection:\n",
    "            sqlite_connection.close()\n",
    "            print(\"A conexão SQLite está fechada\")"
   ]
  },
  {
   "cell_type": "markdown",
   "id": "aea56450",
   "metadata": {},
   "source": [
    "Com esta função, podemos facilmente alterar os emails das pessoas."
   ]
  },
  {
   "cell_type": "code",
   "execution_count": 25,
   "id": "fe5bda71",
   "metadata": {},
   "outputs": [
    {
     "name": "stdout",
     "output_type": "stream",
     "text": [
      "Conectado com sucesso ao SQLite\n",
      "Registro atualizado com sucesso!\n",
      "A conexão SQLite está fechada\n"
     ]
    }
   ],
   "source": [
    "update_table(5,'maria@yahoo.com')"
   ]
  },
  {
   "cell_type": "code",
   "execution_count": 26,
   "id": "36dca154",
   "metadata": {},
   "outputs": [
    {
     "name": "stdout",
     "output_type": "stream",
     "text": [
      "Conectado com sucesso ao SQLite\n",
      "Registro atualizado com sucesso!\n",
      "A conexão SQLite está fechada\n"
     ]
    }
   ],
   "source": [
    "update_table(1,'gabriel@yahoo.com')"
   ]
  },
  {
   "cell_type": "markdown",
   "id": "56216cc5",
   "metadata": {},
   "source": [
    "E então confirmamos se as alterações estão corretas."
   ]
  },
  {
   "cell_type": "code",
   "execution_count": 27,
   "id": "e3905391",
   "metadata": {},
   "outputs": [
    {
     "name": "stdout",
     "output_type": "stream",
     "text": [
      "Conectado com sucesso ao SQLite\n",
      "Total de linhas na tabela Pessoas = 7\n",
      "Imprimindo cada linha:\n",
      "Id: 1\n",
      "Nome: Gabriel\n",
      "Email: gabriel@yahoo.com\n",
      "Nascimento: 1992-03-17\n",
      "Id: 2\n",
      "Nome: Rafael\n",
      "Email: rafael@gmail.com\n",
      "Nascimento: 1991-08-16\n",
      "Id: 3\n",
      "Nome: Miguel\n",
      "Email: miguel@yahoo.com\n",
      "Nascimento: 1985-04-21\n",
      "Id: 4\n",
      "Nome: Uriel\n",
      "Email: uriel@gmail.com\n",
      "Nascimento: 1970-06-03\n",
      "Id: 5\n",
      "Nome: Maria\n",
      "Email: maria@yahoo.com\n",
      "Nascimento: 1950-07-11\n",
      "Id: 6\n",
      "Nome: Paula\n",
      "Email: paula@gmail.com\n",
      "Nascimento: 1996-06-13\n",
      "Id: 7\n",
      "Nome: Joana\n",
      "Email: joana@gmail.com\n",
      "Nascimento: 2001-11-21\n",
      "A conexão SQLite está fechada\n"
     ]
    }
   ],
   "source": [
    "select_pessoas()"
   ]
  },
  {
   "cell_type": "markdown",
   "id": "6fd687ba",
   "metadata": {},
   "source": [
    "Vamos compreender a função **update_table()**:\n",
    "\n",
    "- Usamos dois placeholders na consulta de atualização, um para a coluna de **email** e o outro para a coluna de **id**.\n",
    "- A seguir, preparamos uma tupla de dados chamada **data**, especificando duas variáveis Python em ordem sequencial.\n",
    "- Em seguida, passamos a consulta de atualização SQL e a tupla de dados para o método **cursor.execute()**. Lembre-se de que a ordem das variáveis na tupla é sequencial de acordo com a ordem dos placeholders de coluna."
   ]
  },
  {
   "cell_type": "markdown",
   "id": "e5dffa8d",
   "metadata": {},
   "source": [
    "### Atualizando Várias Linhas da Tabela SQLite\n",
    "\n",
    "No exemplo anterior, usamos o método **execute()** do objeto cursor para atualizar um único registro. Mas às vezes, precisamos atualizar várias linhas da tabela SQLite. \n",
    "\n",
    "Por exemplo: você deseja alterar a data de nascimento de várias pessoas.\n",
    "\n",
    "Em vez de executar a consulta **UPDATE** todas as vezes para atualizar cada registro, você pode realizar operações de atualização em massa em uma única consulta usando o método **cursor.executemany()**."
   ]
  },
  {
   "cell_type": "code",
   "execution_count": 28,
   "id": "a17642a6",
   "metadata": {},
   "outputs": [],
   "source": [
    "def update_multiple_records(record_list):\n",
    "    try:\n",
    "        sqlite_connection = sqlite3.connect('database.db')\n",
    "        cursor = sqlite_connection.cursor()\n",
    "        print(\"Conectado com sucesso ao SQLite\")\n",
    "\n",
    "        sqlite_update_query = \"\"\"Update Pessoas set nascimento = ? where id = ?\"\"\"\n",
    "        cursor.executemany(sqlite_update_query, record_list)\n",
    "        sqlite_connection.commit()\n",
    "        print(f\"Total de {cursor.rowcount} registros atualizados com sucesso\")\n",
    "        sqlite_connection.commit()\n",
    "        cursor.close()\n",
    "\n",
    "    except sqlite3.Error as error:\n",
    "        print(f\"Erro ao conectar ao SQLite: {error}\")\n",
    "\n",
    "    finally:\n",
    "        if sqlite_connection:\n",
    "            sqlite_connection.close()\n",
    "            print(\"A conexão SQLite está fechada\")"
   ]
  },
  {
   "cell_type": "markdown",
   "id": "3964c15b",
   "metadata": {},
   "source": [
    "Com a função **update_multiple_records()** podemos agora atualizar múltiplos registros de uma só vez."
   ]
  },
  {
   "cell_type": "code",
   "execution_count": 29,
   "id": "a24b0c0b",
   "metadata": {},
   "outputs": [
    {
     "name": "stdout",
     "output_type": "stream",
     "text": [
      "Conectado com sucesso ao SQLite\n",
      "Total de 3 registros atualizados com sucesso\n",
      "A conexão SQLite está fechada\n"
     ]
    }
   ],
   "source": [
    "registros_para_atualizar = [('1990-05-15', 1), ('1990-04-14', 2), ('1990-03-13', 3)]\n",
    "update_multiple_records(registros_para_atualizar)"
   ]
  },
  {
   "cell_type": "markdown",
   "id": "26ec600b",
   "metadata": {},
   "source": [
    "E novamente confirmamos se as mudanças tiveram o efeito correto."
   ]
  },
  {
   "cell_type": "code",
   "execution_count": 30,
   "id": "f1040d65",
   "metadata": {},
   "outputs": [
    {
     "name": "stdout",
     "output_type": "stream",
     "text": [
      "Conectado com sucesso ao SQLite\n",
      "Lendo 3 linhas\n",
      "Imprimindo cada linha:\n",
      "Id: 1\n",
      "Nome: Gabriel\n",
      "Email: gabriel@yahoo.com\n",
      "Nascimento: 1990-05-15\n",
      "Id: 2\n",
      "Nome: Rafael\n",
      "Email: rafael@gmail.com\n",
      "Nascimento: 1990-04-14\n",
      "Id: 3\n",
      "Nome: Miguel\n",
      "Email: miguel@yahoo.com\n",
      "Nascimento: 1990-03-13\n",
      "A conexão SQLite está fechada\n"
     ]
    }
   ],
   "source": [
    "read_limited_rows(3)"
   ]
  },
  {
   "cell_type": "markdown",
   "id": "fb471a06",
   "metadata": {},
   "source": [
    "Vamos entender a função **update_multiple_records()**:\n",
    "\n",
    "- Preparamos a consulta de atualização do SQLite com dois placeholders (coluna **nascimento** e **id**) e uma lista de registros para atualizar em formato de tupla.\n",
    "- Cada elemento de uma lista nada mais é do que uma tupla para cada linha. Cada tupla contém dois valores, ou seja, **nascimento** e **id** de uma pesssoa.\n",
    "- Passamos a consulta de atualização do SQLite e a lista de registros para **executemany()** como argumentos.\n",
    "- Acessamos o atributo **cursor.rowcount** para saber a quantidade de registros atualizados."
   ]
  },
  {
   "cell_type": "markdown",
   "id": "36122266",
   "metadata": {},
   "source": [
    "### Atualizando Várias Colunas da Tabela SQLite\n",
    "\n",
    "Também podemos atualizar várias colunas de uma tabela SQLite em uma única consulta. \n",
    "\n",
    "Basta preparar uma consulta parametrizada usando um placeholder para atualizar várias colunas. \n",
    "\n",
    "Vamos definir uma nova função de exemplo para entendermos essa ideia."
   ]
  },
  {
   "cell_type": "code",
   "execution_count": 31,
   "id": "37329c4d",
   "metadata": {},
   "outputs": [],
   "source": [
    "def update_multiple_columns(id, nascimento, email):\n",
    "    try:\n",
    "        sqlite_connection = sqlite3.connect('database.db')\n",
    "        cursor = sqlite_connection.cursor()\n",
    "        print(\"Conectado com sucesso ao SQLite\")\n",
    "\n",
    "        sqlite_update_query = \"\"\"Update Pessoas set nascimento = ?, email = ? where id = ?\"\"\"\n",
    "        column_values = (nascimento, email, id)\n",
    "        cursor.execute(sqlite_update_query, column_values)\n",
    "        sqlite_connection.commit()\n",
    "        print(\"Múltiplas colunas atualizadas com sucesso\")\n",
    "        sqlite_connection.commit()\n",
    "        cursor.close()\n",
    "\n",
    "    except sqlite3.Error as error:\n",
    "        print(f\"Erro ao conectar ao SQLite: {error}\")\n",
    "\n",
    "    finally:\n",
    "        if sqlite_connection:\n",
    "            sqlite_connection.close()\n",
    "            print(\"A conexão SQLite está fechada\")"
   ]
  },
  {
   "cell_type": "markdown",
   "id": "b71ac19a",
   "metadata": {},
   "source": [
    "Com a função **update_multiple_columns()** podemos agora atualizar múltiplas colunas (nascimento e email) de uma só vez, por exemplo:"
   ]
  },
  {
   "cell_type": "code",
   "execution_count": 32,
   "id": "df9ca30c",
   "metadata": {},
   "outputs": [
    {
     "name": "stdout",
     "output_type": "stream",
     "text": [
      "Conectado com sucesso ao SQLite\n",
      "Múltiplas colunas atualizadas com sucesso\n",
      "A conexão SQLite está fechada\n"
     ]
    }
   ],
   "source": [
    "update_multiple_columns(1,'1915-01-10','gabriel@hotmail.com')"
   ]
  },
  {
   "cell_type": "markdown",
   "id": "e7b30727",
   "metadata": {},
   "source": [
    "E então verificamos se a nossa alteração está correta."
   ]
  },
  {
   "cell_type": "code",
   "execution_count": 33,
   "id": "ad4d4116",
   "metadata": {},
   "outputs": [
    {
     "name": "stdout",
     "output_type": "stream",
     "text": [
      "Conectado com sucesso ao SQLite\n",
      "Lendo 1 linhas\n",
      "Imprimindo cada linha:\n",
      "Id: 1\n",
      "Nome: Gabriel\n",
      "Email: gabriel@hotmail.com\n",
      "Nascimento: 1915-01-10\n",
      "A conexão SQLite está fechada\n"
     ]
    }
   ],
   "source": [
    "read_limited_rows(1)"
   ]
  },
  {
   "cell_type": "markdown",
   "id": "09b2d3bc",
   "metadata": {},
   "source": [
    "Como podemos observar, atualizar múltiplas colunas é simples, basta definirmos as colunas que desejamos atualizar em nossa SQL Query."
   ]
  },
  {
   "cell_type": "markdown",
   "id": "e3523c72",
   "metadata": {},
   "source": [
    "## Deletando Dados em uma Tabela SQLite com Python\n",
    "\n",
    "Finalmente vamos aprender a excluir dados de uma tabela SQLite usando Python. Usaremos o módulo interno **sqlite3** do Python para excluir dados da tabela SQLite.\n",
    "\n",
    "Para excluir dados da tabela SQLite usando Python devemos seguir etapas semelhantes a estas:\n",
    "\n",
    "1. Conecte-se ao SQLite no Python: Referenciar a conexão do banco de dados Python SQLite para se conectar ao banco de dados SQLite do Python usando o módulo sqlite3.\n",
    "\n",
    "2. Definir uma consulta SQL **DELETE**: Em seguida, prepare uma consulta de exclusão SQL para excluir uma linha de uma tabela. A consulta excluir contém a linha a ser excluída com base em uma condição colocada na cláusula where de uma consulta. Por exemplo: `DELETE FROM MySQL_table WHERE id = 10;`\n",
    "\n",
    "3. Obter objeto Cursor de conexão: Em seguida, use um método **connection.cursor()** para criar um objeto cursor. Este método retorna um objeto cursor. O objeto Cursor é necessário para executar a consulta.\n",
    "\n",
    "4. Execute a consulta de exclusão usando o método **execute()**: O método **cursor.execute()** executa a operação armazenada na consulta de exclusão. Após uma operação de exclusão bem-sucedida, o método **execute()** retorna o número de linhas afetadas.\n",
    "\n",
    "5. Fazer commit das mudanças: Após a execução bem-sucedida da consulta de exclusão do SQLite, não se esqueça de confirmar suas alterações no banco de dados usando **connection.comit()** para que estas alterações persistam.\n",
    "\n",
    "6. Obtenha o número de linhas afetadas: Acesse o atributo **cursor.rowcount** para obter o número de linhas afetadas. A contagem depende de quantas linhas você está excluindo. Você também pode executar a consulta de seleção do SQLite em Python para verificar o resultado.\n",
    "\n",
    "7. Fechar o objeto cursor e o objeto de conexão com o banco de dados: Use os métodos **cursor.close()** e **connection.close()** para fechar a conexão SQLite após a conclusão de seu trabalho.\n",
    "\n",
    "Atualmente, a tabela **Pessoas** contém 7 linhas, então vamos remover a pessoa cujo id é 5."
   ]
  },
  {
   "cell_type": "code",
   "execution_count": 34,
   "id": "22402407",
   "metadata": {},
   "outputs": [],
   "source": [
    "def delete_record():\n",
    "    try:\n",
    "        sqlite_connection = sqlite3.connect('database.db')\n",
    "        cursor = sqlite_connection.cursor()\n",
    "        print(\"Conectado com sucesso ao SQLite\")\n",
    "        \n",
    "        sql_delete_query = \"\"\"DELETE from Pessoas where id = 5\"\"\"\n",
    "        cursor.execute(sql_delete_query)\n",
    "        sqlite_connection.commit()\n",
    "        print(\"Registro removido com sucesso\")\n",
    "        cursor.close()\n",
    "\n",
    "    except sqlite3.Error as error:\n",
    "        print(f\"Erro ao conectar ao SQLite: {error}\")\n",
    "\n",
    "    finally:\n",
    "        if sqlite_connection:\n",
    "            sqlite_connection.close()\n",
    "            print(\"A conexão SQLite está fechada\")"
   ]
  },
  {
   "cell_type": "code",
   "execution_count": 35,
   "id": "68d17e2c",
   "metadata": {},
   "outputs": [
    {
     "name": "stdout",
     "output_type": "stream",
     "text": [
      "Conectado com sucesso ao SQLite\n",
      "Registro removido com sucesso\n",
      "A conexão SQLite está fechada\n"
     ]
    }
   ],
   "source": [
    "delete_record()"
   ]
  },
  {
   "cell_type": "markdown",
   "id": "240331ff",
   "metadata": {},
   "source": [
    "Vejamos se o registro foi removido de fato:"
   ]
  },
  {
   "cell_type": "code",
   "execution_count": 36,
   "id": "c7d39b9c",
   "metadata": {},
   "outputs": [
    {
     "name": "stdout",
     "output_type": "stream",
     "text": [
      "Conectado com sucesso ao SQLite\n",
      "Total de linhas na tabela Pessoas = 6\n",
      "Imprimindo cada linha:\n",
      "Id: 1\n",
      "Nome: Gabriel\n",
      "Email: gabriel@hotmail.com\n",
      "Nascimento: 1915-01-10\n",
      "Id: 2\n",
      "Nome: Rafael\n",
      "Email: rafael@gmail.com\n",
      "Nascimento: 1990-04-14\n",
      "Id: 3\n",
      "Nome: Miguel\n",
      "Email: miguel@yahoo.com\n",
      "Nascimento: 1990-03-13\n",
      "Id: 4\n",
      "Nome: Uriel\n",
      "Email: uriel@gmail.com\n",
      "Nascimento: 1970-06-03\n",
      "Id: 6\n",
      "Nome: Paula\n",
      "Email: paula@gmail.com\n",
      "Nascimento: 1996-06-13\n",
      "Id: 7\n",
      "Nome: Joana\n",
      "Email: joana@gmail.com\n",
      "Nascimento: 2001-11-21\n",
      "A conexão SQLite está fechada\n"
     ]
    }
   ],
   "source": [
    "select_pessoas()"
   ]
  },
  {
   "cell_type": "markdown",
   "id": "a91267cf",
   "metadata": {},
   "source": [
    "**Observação**: Se você estiver executando várias operações de exclusão e quiser reverter sua alteração em caso de falha de qualquer operação, use a função **rollback()** do objeto de conexão para reverter as alterações. Use a função **rollback()** no bloco **except**."
   ]
  },
  {
   "cell_type": "markdown",
   "id": "a7cff3f3",
   "metadata": {},
   "source": [
    "### Usando uma Variável Python em uma Consulta SQLite DELETE\n",
    "\n",
    "Na maioria das vezes, precisamos deletar uma linha de uma tabela SQLite onde o id foi passado em tempo de execução. \n",
    "\n",
    "Por exemplo: quando um usuário cancela sua assinatura, precisamos excluir a entrada de uma tabela de acordo com o ID do usuário. Nesses casos, é sempre uma prática recomendada usar uma consulta parametrizada.\n",
    "\n",
    "A consulta parametrizada usa placeholders (`?`) dentro de instruções SQL que contêm entradas de usuários. Isso nos ajuda a excluir valores de tempo de execução e evitar problemas de injeção de SQL.\n",
    "\n",
    "Vamos definir uma função que receberá o **id** do usuário como argumento e então removerá este usuário respectivo."
   ]
  },
  {
   "cell_type": "code",
   "execution_count": 37,
   "id": "89255606",
   "metadata": {},
   "outputs": [],
   "source": [
    "def delete_sqlite_record(id):\n",
    "    try:\n",
    "        sqlite_connection = sqlite3.connect('database.db')\n",
    "        cursor = sqlite_connection.cursor()\n",
    "        print(\"Conectado com sucesso ao SQLite\")\n",
    "\n",
    "        sql_update_query = \"\"\"DELETE from Pessoas where id = ?\"\"\"\n",
    "        cursor.execute(sql_update_query, (id,))\n",
    "        sqlite_connection.commit()\n",
    "        print(\"Registro removido com sucesso\")\n",
    "        cursor.close()\n",
    "\n",
    "    except sqlite3.Error as error:\n",
    "        print(f\"Erro ao conectar ao SQLite: {error}\")\n",
    "\n",
    "    finally:\n",
    "        if sqlite_connection:\n",
    "            sqlite_connection.close()\n",
    "            print(\"A conexão SQLite está fechada\")"
   ]
  },
  {
   "cell_type": "markdown",
   "id": "16b2218b",
   "metadata": {},
   "source": [
    "E agora podemos usar a função **delete_sqlite_record()** para excluir o registro que desejarmos, por exemplo:"
   ]
  },
  {
   "cell_type": "code",
   "execution_count": 38,
   "id": "b2ff4b17",
   "metadata": {},
   "outputs": [
    {
     "name": "stdout",
     "output_type": "stream",
     "text": [
      "Conectado com sucesso ao SQLite\n",
      "Registro removido com sucesso\n",
      "A conexão SQLite está fechada\n"
     ]
    }
   ],
   "source": [
    "delete_sqlite_record(2)"
   ]
  },
  {
   "cell_type": "code",
   "execution_count": 39,
   "id": "51096030",
   "metadata": {},
   "outputs": [
    {
     "name": "stdout",
     "output_type": "stream",
     "text": [
      "Conectado com sucesso ao SQLite\n",
      "Registro removido com sucesso\n",
      "A conexão SQLite está fechada\n"
     ]
    }
   ],
   "source": [
    "delete_sqlite_record(1)"
   ]
  },
  {
   "cell_type": "markdown",
   "id": "34f02bf7",
   "metadata": {},
   "source": [
    "E então confirmamos se os registros realmente foram removidos de nossa tabela:"
   ]
  },
  {
   "cell_type": "code",
   "execution_count": 40,
   "id": "08b86c5d",
   "metadata": {},
   "outputs": [
    {
     "name": "stdout",
     "output_type": "stream",
     "text": [
      "Conectado com sucesso ao SQLite\n",
      "Total de linhas na tabela Pessoas = 4\n",
      "Imprimindo cada linha:\n",
      "Id: 3\n",
      "Nome: Miguel\n",
      "Email: miguel@yahoo.com\n",
      "Nascimento: 1990-03-13\n",
      "Id: 4\n",
      "Nome: Uriel\n",
      "Email: uriel@gmail.com\n",
      "Nascimento: 1970-06-03\n",
      "Id: 6\n",
      "Nome: Paula\n",
      "Email: paula@gmail.com\n",
      "Nascimento: 1996-06-13\n",
      "Id: 7\n",
      "Nome: Joana\n",
      "Email: joana@gmail.com\n",
      "Nascimento: 2001-11-21\n",
      "A conexão SQLite está fechada\n"
     ]
    }
   ],
   "source": [
    "select_pessoas()"
   ]
  },
  {
   "cell_type": "markdown",
   "id": "d41f5cb0",
   "metadata": {},
   "source": [
    "### Excluindo Várias Linhas da Tabela SQLite\n",
    "\n",
    "No exemplo anterior, usamos o método **execute()** do objeto cursor para atualizar um único registro, mas às vezes precisamos excluir um número **N** de linhas. \n",
    "\n",
    "Por exemplo: você deseja excluir os dados do múltiplas pessoas da tabela **Pessoas**.\n",
    "\n",
    "Em vez de executar uma consulta de exclusão repetidamente para excluir cada registro, você pode executar a operação de exclusão em massa em uma única consulta usando o método **cursor.executemany()**.\n",
    "\n",
    "O método **executemany()** aceita dois parâmetros, uma consulta SQL e uma lista de registros a serem excluídos.\n",
    "\n",
    "Vamos então definir uma função que recebe como argumento uma lista de ID's e exclui as pessoas com estes ID's respectivos."
   ]
  },
  {
   "cell_type": "code",
   "execution_count": 41,
   "id": "89488036",
   "metadata": {},
   "outputs": [],
   "source": [
    "def delete_multiple_records(id_list):\n",
    "    try:\n",
    "        sqlite_connection = sqlite3.connect('database.db')\n",
    "        cursor = sqlite_connection.cursor()\n",
    "        print(\"Conectado com sucesso ao SQLite\")\n",
    "        \n",
    "        sqlite_update_query = \"\"\"DELETE from Pessoas where id = ?\"\"\"\n",
    "        cursor.executemany(sqlite_update_query, id_list)\n",
    "        sqlite_connection.commit()\n",
    "        print(f\"Total de {cursor.rowcount} registros removidos com sucesso.\")\n",
    "        cursor.close()\n",
    "\n",
    "    except sqlite3.Error as error:\n",
    "        print(f\"Erro ao conectar ao SQLite: {error}\")\n",
    "\n",
    "    finally:\n",
    "        if sqlite_connection:\n",
    "            sqlite_connection.close()\n",
    "            print(\"A conexão SQLite está fechada\")"
   ]
  },
  {
   "cell_type": "markdown",
   "id": "ccdb0787",
   "metadata": {},
   "source": [
    "Usaremos a função **delete_multiple_records()** para remover as pessoas com ID's 3, 4 e 6."
   ]
  },
  {
   "cell_type": "code",
   "execution_count": 42,
   "id": "53f34d1a",
   "metadata": {},
   "outputs": [
    {
     "name": "stdout",
     "output_type": "stream",
     "text": [
      "Conectado com sucesso ao SQLite\n",
      "Total de 3 registros removidos com sucesso.\n",
      "A conexão SQLite está fechada\n"
     ]
    }
   ],
   "source": [
    "ids_para_remover = [(3,), (4,), (6,)]\n",
    "delete_multiple_records(ids_para_remover)"
   ]
  },
  {
   "cell_type": "markdown",
   "id": "9afdd2aa",
   "metadata": {},
   "source": [
    "E então confirmamos se todos foram removidos com sucesso:"
   ]
  },
  {
   "cell_type": "code",
   "execution_count": 43,
   "id": "809aa118",
   "metadata": {},
   "outputs": [
    {
     "name": "stdout",
     "output_type": "stream",
     "text": [
      "Conectado com sucesso ao SQLite\n",
      "Total de linhas na tabela Pessoas = 1\n",
      "Imprimindo cada linha:\n",
      "Id: 7\n",
      "Nome: Joana\n",
      "Email: joana@gmail.com\n",
      "Nascimento: 2001-11-21\n",
      "A conexão SQLite está fechada\n"
     ]
    }
   ],
   "source": [
    "select_pessoas()"
   ]
  },
  {
   "cell_type": "markdown",
   "id": "267925ee",
   "metadata": {},
   "source": [
    "Vamos entender a função **delete_multiple_records()**:\n",
    "\n",
    "- Preparamos a consulta de exclusão parametrizada do SQLite com um único placeholder e, em seguida, criamos uma lista de ID's para remover no formato de tupla.\n",
    "- Cada elemento de uma lista nada mais é do que uma tupla para cada linha. Cada tupla contém o id de uma pessoa. Neste exemplo específico, criamos três tuplas, portanto, estamos excluindo três linhas.\n",
    "- Em seguida, chamamos um método **executemany()** para excluir várias linhas da tabela SQLite **Pessoas**.\n",
    "- Para saber a quantidade de registros atualizados, acessamos o atributo **cursor.rowcount**.\n",
    "\n",
    "E assim concluímos os exemplos das operações fundamentais **CRUD** (**C**reate - **R**ead - **U**pdate - **D**elete)."
   ]
  },
  {
   "cell_type": "markdown",
   "id": "7512e9e8",
   "metadata": {},
   "source": [
    "## Fazendo um Backup do Banco de Dados SQLite com Python\n",
    "\n",
    "Usando um método **connection.backup()**, você pode fazer o backup do banco de dados SQLite.\n",
    "\n",
    "```python\n",
    "connection.backup(target, pages=0, progress=None, name=\"main\", sleep=0.250)\n",
    "```\n",
    "\n",
    "Esta função faz um backup do banco de dados SQLite e uma cópia será gravada no argumento **target**, que deve ser outra instância do **connection**. Por padrão, ou quando **pages** é 0 ou um número inteiro negativo, todo o banco de dados é copiado em uma única etapa; caso contrário, o método executa uma cópia em loop de até **n** páginas por vez.\n",
    "\n",
    "O argumento **name** especifica o banco de dados que você deseja copiar. O argumento **sleep** define o número de segundos para dormir entre tentativas sucessivas de backup das páginas restantes de um banco de dados. O argumento **sleep** pode ser especificado como um número inteiro ou um valor de ponto flutuante.\n",
    "\n",
    "Vamos ver o exemplo para copiar um banco de dados existente para outro."
   ]
  },
  {
   "cell_type": "code",
   "execution_count": 44,
   "id": "abc63ae3",
   "metadata": {},
   "outputs": [
    {
     "name": "stdout",
     "output_type": "stream",
     "text": [
      "Copiado 3 de 3 páginas...\n",
      "Backup feito com sucesso\n"
     ]
    }
   ],
   "source": [
    "def progress(status, remaining, total):\n",
    "    print(f'Copiado {total - remaining} de {total} páginas...')\n",
    "\n",
    "try:\n",
    "    # Banco Existente\n",
    "    sqlite_con = sqlite3.connect('database.db')\n",
    "    # Banco Backup\n",
    "    backup_con = sqlite3.connect('database_backup.db')\n",
    "    with backup_con:\n",
    "        sqlite_con.backup(backup_con, pages=3, progress=progress)\n",
    "    print(\"Backup feito com sucesso\")\n",
    "    \n",
    "except sqlite3.Error as error:\n",
    "    print(f\"Erro ao fazer o backup: {error}\")\n",
    "    \n",
    "finally:\n",
    "    if backup_con:\n",
    "        backup_con.close()\n",
    "        sqlite_con.close()"
   ]
  },
  {
   "cell_type": "markdown",
   "id": "6d7df0c4",
   "metadata": {},
   "source": [
    "**Observação**:\n",
    "\n",
    "- Após conectar ao SQLite, abrimos os dois bancos de dados usando duas conexões diferentes.\n",
    "- Em seguida, executamos o método **connection.backup()** usando uma primeira instância de conexão. Além disso, especificamos o número de pages (páginas) do banco de dados a serem copiadas em cada iteração."
   ]
  },
  {
   "cell_type": "markdown",
   "id": "6df9bde0",
   "metadata": {},
   "source": [
    "## Foreign Key\n",
    "\n",
    "Uma **Chave Estrangeira** (Foreign Key) é um conjunto de atributos em uma tabela que se refere à chave primária de outra tabela (identificador único dela, por exemplo: um **ID**). \n",
    "\n",
    "A chave estrangeira liga essas duas tabelas. Em palavras simples, uma chave estrangeira é um conjunto de atributos que faz referência a uma chave candidata. Por exemplo, uma tabela chamada **TIME** pode ter um atributo, **NOME_MEMBRO**, que é uma chave estrangeira que faz referência a uma chave candidata, **NOME_PESSOA**, na tabela **PESSOA**. Visto que **NOME_MEMBRO** é uma chave estrangeira, qualquer valor existente como o nome de um membro em **TIME** também deve existir como o nome de uma pessoa na tabela **PESSOA**; em outras palavras, cada membro de uma **EQUIPE** também é uma **PESSOA**.\n",
    "\n",
    "A tabela que contém a chave estrangeira é chamada de tabela filha, e a tabela que contém a chave candidata é chamada de tabela referenciada ou pai.\n",
    "\n",
    "Na modelagem e implementação relacional de banco de dados, uma chave candidata é um conjunto de zero ou mais atributos, considerados valores são garantidos como únicos para cada tupla (linha) em uma relação. O valor ou combinação de valores de atributos-chave candidatos para qualquer tupla não pode ser duplicado para qualquer outra tupla nessa relação.\n",
    "\n",
    "Como o objetivo da chave estrangeira é identificar uma linha específica da tabela referenciada, geralmente é necessário que a chave estrangeira seja igual à chave candidata em alguma linha da tabela primária, ou então não tenha valor (o valor **NULL**). Essa regra é chamada de **referential integrity constraint** entre as duas tabelas. Como as violações dessas restrições podem ser a fonte de muitos problemas de banco de dados, a maioria dos sistemas de gerenciamento de banco de dados fornece mecanismos para garantir que cada chave estrangeira não nula corresponda a uma linha da tabela referenciada. \n",
    "\n",
    "Por exemplo, considere um banco de dados com duas tabelas: uma tabela **CLIENTE** que inclui todos os dados do cliente e uma tabela **PEDIDO** que inclui todos os pedidos do cliente. Suponha que a empresa exija que cada pedido se refira a um único cliente. Para refletir isso no banco de dados, uma coluna de chave estrangeira é adicionada à tabela **PEDIDO** (por exemplo, **CLIENTE_ID**), que faz referência à chave primária de **CLIENTE** (por exemplo, **ID**). Como a chave primária de uma tabela deve ser única e porque **CLIENTE_ID** contém apenas valores desse campo de chave primária, podemos supor que, quando tiver um valor, **CLIENTE_ID** identificará o cliente específico que fez o pedido. No entanto, isso não pode mais ser assumido se a tabela **PEDIDO** não for mantida atualizada quando as linhas da tabela **CLIENTE** forem excluídas ou a coluna **ID** alterada, e trabalhar com essas tabelas pode se tornar mais difícil. Muitos bancos de dados do mundo real contornam esse problema 'inativando' em vez de excluindo fisicamente as chaves estrangeiras da tabela mestre ou por programas de atualização complexos que modificam todas as referências a uma chave estrangeira quando uma mudança é necessária.\n",
    "\n",
    "As chaves estrangeiras desempenham um papel essencial no design do banco de dados. Uma parte importante do design do banco de dados é garantir que os relacionamentos entre entidades do mundo real sejam refletidos no banco de dados por referências, usando chaves estrangeiras para se referir de uma tabela a outra.\n",
    "\n",
    "A seguir veremos como podemos construir tabelas relacionadas usando **SQLite**."
   ]
  },
  {
   "cell_type": "markdown",
   "id": "6c6fbbaf",
   "metadata": {},
   "source": [
    "### Criando um Banco de Dados e Fazendo uma Conexão\n",
    "\n",
    "Vamos criar função generalizada reutilizável para conectar ao banco de dados, dessa vez definiremos uma função simples, sem tratamento de exceção, uma vez que o nosso objetivo é entender o conceito de chaves estrangeiras."
   ]
  },
  {
   "cell_type": "code",
   "execution_count": 45,
   "id": "22fc2032",
   "metadata": {},
   "outputs": [],
   "source": [
    "def db_connect(db_path):\n",
    "    con = sqlite3.connect(db_path)\n",
    "    return con"
   ]
  },
  {
   "cell_type": "markdown",
   "id": "234e639a",
   "metadata": {},
   "source": [
    "### Criando Tabelas\n",
    "\n",
    "Neste exemplo vamos criar duas tabelas:\n",
    "\n",
    "![img](https://i.ibb.co/K5vqb8y/tabelas.png)\n",
    "\n",
    "- **Artistas**: Representando um artista musical, com as colunas **id**, **nome**, **origem**.\n",
    "- **Albuns**: Representando os albuns de um artista, com as colunas **id**, **nome**, **ano_lancamento** e **artista_id**.\n",
    "\n",
    "Vamos então criá-las:"
   ]
  },
  {
   "cell_type": "code",
   "execution_count": 46,
   "id": "49f8c735",
   "metadata": {},
   "outputs": [],
   "source": [
    "con = db_connect('dados.db')\n",
    "cur = con.cursor()\n",
    "\n",
    "artistas_sql = \"\"\"\n",
    "CREATE TABLE Artistas (\n",
    "id integer PRIMARY KEY,\n",
    "nome text NOT NULL,\n",
    "origem text NOT NULL)\"\"\"\n",
    "cur.execute(artistas_sql)\n",
    "\n",
    "albuns_sql = \"\"\"\n",
    "CREATE TABLE Albuns (\n",
    "id integer PRIMARY KEY,\n",
    "nome text NOT NULL,\n",
    "ano_lancamento integer,\n",
    "artista_id integer,\n",
    "FOREIGN KEY (artista_id) REFERENCES Artistas (id))\"\"\"\n",
    "\n",
    "cur.execute(albuns_sql);"
   ]
  },
  {
   "cell_type": "markdown",
   "id": "5ad32de8",
   "metadata": {},
   "source": [
    "O código acima cria um objeto de conexão e o usa para instanciar um objeto cursor. O objeto cursor é usado para executar instruções SQL no banco de dados SQLite.\n",
    "\n",
    "Com o cursor criado, escrevi o SQL para criar a tabela de **Artistas**, dando a ela uma chave primária junto com um campo de texto de nome e origem e atribuí ela uma variável chamada **artistas_sql**. Em seguida, chamo o método **execute()** do objeto cursor, passando a variável **artistas_sql**. Em seguida, crio uma tabela de **Albuns** de maneira semelhante, com ela tendo uma referência a tabela **Artistas**, em que o ID do artista é uma chave estrangeira na tabela **Albuns**.\n",
    "\n",
    "Você pode consultar a tabela **sqlite_master**, uma tabela de metadados SQLite embutida, para verificar se os comandos acima foram bem-sucedidos.\n",
    "\n",
    "Para ver todas as tabelas no banco de dados conectado atualmente, consulte a coluna de nome da tabela **sqlite_master** onde o tipo é igual a \"table\"."
   ]
  },
  {
   "cell_type": "code",
   "execution_count": 47,
   "id": "f08f0dc8",
   "metadata": {},
   "outputs": [
    {
     "name": "stdout",
     "output_type": "stream",
     "text": [
      "[('Artistas',), ('Albuns',)]\n"
     ]
    }
   ],
   "source": [
    "cur.execute(\"SELECT name FROM sqlite_master WHERE type='table'\")\n",
    "print(cur.fetchall())"
   ]
  },
  {
   "cell_type": "markdown",
   "id": "4846728b",
   "metadata": {},
   "source": [
    "Para dar uma olhada no esquema das tabelas, consulte a coluna sql da mesma tabela onde o tipo ainda é \"table\" e o nome é igual a \"Artistas\" e / ou \"Albuns\"."
   ]
  },
  {
   "cell_type": "code",
   "execution_count": 48,
   "id": "aed03f1e",
   "metadata": {},
   "outputs": [
    {
     "name": "stdout",
     "output_type": "stream",
     "text": [
      "CREATE TABLE Artistas (\n",
      "id integer PRIMARY KEY,\n",
      "nome text NOT NULL,\n",
      "origem text NOT NULL)\n"
     ]
    }
   ],
   "source": [
    "cur.execute(\"\"\"SELECT sql FROM sqlite_master WHERE type='table' AND name='Artistas'\"\"\")\n",
    "print(cur.fetchone()[0])"
   ]
  },
  {
   "cell_type": "markdown",
   "id": "9a677551",
   "metadata": {},
   "source": [
    "### Carregando os Dados\n",
    "\n",
    "Seguiremos este simples fluxo de trabalho para executar instruções INSERT:\n",
    "\n",
    "- Conecte-se ao banco de dados\n",
    "- Crie um objeto de cursor\n",
    "- Escreva uma instrução SQL de inserção parametrizada e armazene como uma variável\n",
    "- Chame o método **execute()** no objeto cursor passando a variável sql e os valores, como uma tupla, a serem inseridos na tabela\n",
    "- Chame o método **executemany()** no objeto cursor passando a variável sql e os valores, como uma lista de tuplas, a serem inseridos na tabela\n",
    "\n",
    "Dado este ideia geral, vejamos como podemos fazer estes procedimentos."
   ]
  },
  {
   "cell_type": "code",
   "execution_count": 49,
   "id": "24f19369",
   "metadata": {},
   "outputs": [],
   "source": [
    "con = db_connect('dados.db')\n",
    "cur = con.cursor()\n",
    "\n",
    "artista_sql = \"INSERT INTO Artistas (nome, origem) VALUES (?, ?)\"\n",
    "cur.execute(artista_sql, ('Pink Floyd', 'Reino Unido'))\n",
    "cur.execute(artista_sql, ('Iron Maiden', 'Reino Unido'))\n",
    "cur.execute(artista_sql, ('Angra', 'Brasil'))\n",
    "cur.execute(artista_sql, ('Dream Theater', 'Estados Unidos'));"
   ]
  },
  {
   "cell_type": "markdown",
   "id": "767eb10b",
   "metadata": {},
   "source": [
    "E agora usamos o método **commit()** para efetivar as alterações no banco de dados."
   ]
  },
  {
   "cell_type": "code",
   "execution_count": 50,
   "id": "e09f22f4",
   "metadata": {},
   "outputs": [],
   "source": [
    "con.commit()"
   ]
  },
  {
   "cell_type": "markdown",
   "id": "10296ec2",
   "metadata": {},
   "source": [
    "Vamos selecionar a tabela **Artistas** para ver se os dados foram realmente inseridos."
   ]
  },
  {
   "cell_type": "code",
   "execution_count": 51,
   "id": "c93464b8",
   "metadata": {},
   "outputs": [],
   "source": [
    "con = db_connect('dados.db')\n",
    "artistas = pd.read_sql_query(\"SELECT * from Artistas\", con)\n",
    "con.close()"
   ]
  },
  {
   "cell_type": "code",
   "execution_count": 52,
   "id": "248129c1",
   "metadata": {},
   "outputs": [
    {
     "data": {
      "text/html": [
       "<div>\n",
       "<style scoped>\n",
       "    .dataframe tbody tr th:only-of-type {\n",
       "        vertical-align: middle;\n",
       "    }\n",
       "\n",
       "    .dataframe tbody tr th {\n",
       "        vertical-align: top;\n",
       "    }\n",
       "\n",
       "    .dataframe thead th {\n",
       "        text-align: right;\n",
       "    }\n",
       "</style>\n",
       "<table border=\"1\" class=\"dataframe\">\n",
       "  <thead>\n",
       "    <tr style=\"text-align: right;\">\n",
       "      <th></th>\n",
       "      <th>id</th>\n",
       "      <th>nome</th>\n",
       "      <th>origem</th>\n",
       "    </tr>\n",
       "  </thead>\n",
       "  <tbody>\n",
       "    <tr>\n",
       "      <th>0</th>\n",
       "      <td>1</td>\n",
       "      <td>Pink Floyd</td>\n",
       "      <td>Reino Unido</td>\n",
       "    </tr>\n",
       "    <tr>\n",
       "      <th>1</th>\n",
       "      <td>2</td>\n",
       "      <td>Iron Maiden</td>\n",
       "      <td>Reino Unido</td>\n",
       "    </tr>\n",
       "    <tr>\n",
       "      <th>2</th>\n",
       "      <td>3</td>\n",
       "      <td>Angra</td>\n",
       "      <td>Brasil</td>\n",
       "    </tr>\n",
       "    <tr>\n",
       "      <th>3</th>\n",
       "      <td>4</td>\n",
       "      <td>Dream Theater</td>\n",
       "      <td>Estados Unidos</td>\n",
       "    </tr>\n",
       "  </tbody>\n",
       "</table>\n",
       "</div>"
      ],
      "text/plain": [
       "   id           nome          origem\n",
       "0   1     Pink Floyd     Reino Unido\n",
       "1   2    Iron Maiden     Reino Unido\n",
       "2   3          Angra          Brasil\n",
       "3   4  Dream Theater  Estados Unidos"
      ]
     },
     "execution_count": 52,
     "metadata": {},
     "output_type": "execute_result"
    }
   ],
   "source": [
    "artistas"
   ]
  },
  {
   "cell_type": "markdown",
   "id": "88fbb528",
   "metadata": {},
   "source": [
    "Como podemos observar, os dados foram inseridos com sucesso em nossa tabela **Artistas**.\n",
    "\n",
    "Agora vamos inserir dados em nossa tabela **Albuns**, que está relacionada com a tabela **Artistas** através da chave estrangeira **artista_id**."
   ]
  },
  {
   "cell_type": "code",
   "execution_count": 53,
   "id": "31ceefd5",
   "metadata": {},
   "outputs": [],
   "source": [
    "con = db_connect('dados.db')\n",
    "cur = con.cursor()\n",
    "\n",
    "album_sql = \"INSERT INTO Albuns (nome, ano_lancamento, artista_id) VALUES (?, ?, ?)\"\n",
    "lista_albuns = [\n",
    "    ('The Wall', 1979, 1),\n",
    "    ('The Dark Side of the Moon', 1973, 1),\n",
    "    ('Powerslave', 1984, 2),\n",
    "    ('Brave New World', 2000, 2),\n",
    "    ('Angels Cry', 1993, 3),\n",
    "    ('Rebirth', 2001, 3),\n",
    "    ('Awake', 1994, 4),\n",
    "    ('Octavarium', 2005, 4)\n",
    "]\n",
    "cur.executemany(album_sql, lista_albuns)\n",
    "con.commit()"
   ]
  },
  {
   "cell_type": "markdown",
   "id": "7576da21",
   "metadata": {},
   "source": [
    "Vamos selecionar a tabela **Albuns** para ver se os dados foram realmente inseridos."
   ]
  },
  {
   "cell_type": "code",
   "execution_count": 54,
   "id": "4b133e4c",
   "metadata": {},
   "outputs": [],
   "source": [
    "con = db_connect('dados.db')\n",
    "albuns = pd.read_sql_query(\"SELECT * from Albuns\", con)\n",
    "con.close()"
   ]
  },
  {
   "cell_type": "code",
   "execution_count": 55,
   "id": "10a7246e",
   "metadata": {},
   "outputs": [
    {
     "data": {
      "text/html": [
       "<div>\n",
       "<style scoped>\n",
       "    .dataframe tbody tr th:only-of-type {\n",
       "        vertical-align: middle;\n",
       "    }\n",
       "\n",
       "    .dataframe tbody tr th {\n",
       "        vertical-align: top;\n",
       "    }\n",
       "\n",
       "    .dataframe thead th {\n",
       "        text-align: right;\n",
       "    }\n",
       "</style>\n",
       "<table border=\"1\" class=\"dataframe\">\n",
       "  <thead>\n",
       "    <tr style=\"text-align: right;\">\n",
       "      <th></th>\n",
       "      <th>id</th>\n",
       "      <th>nome</th>\n",
       "      <th>ano_lancamento</th>\n",
       "      <th>artista_id</th>\n",
       "    </tr>\n",
       "  </thead>\n",
       "  <tbody>\n",
       "    <tr>\n",
       "      <th>0</th>\n",
       "      <td>1</td>\n",
       "      <td>The Wall</td>\n",
       "      <td>1979</td>\n",
       "      <td>1</td>\n",
       "    </tr>\n",
       "    <tr>\n",
       "      <th>1</th>\n",
       "      <td>2</td>\n",
       "      <td>The Dark Side of the Moon</td>\n",
       "      <td>1973</td>\n",
       "      <td>1</td>\n",
       "    </tr>\n",
       "    <tr>\n",
       "      <th>2</th>\n",
       "      <td>3</td>\n",
       "      <td>Powerslave</td>\n",
       "      <td>1984</td>\n",
       "      <td>2</td>\n",
       "    </tr>\n",
       "    <tr>\n",
       "      <th>3</th>\n",
       "      <td>4</td>\n",
       "      <td>Brave New World</td>\n",
       "      <td>2000</td>\n",
       "      <td>2</td>\n",
       "    </tr>\n",
       "    <tr>\n",
       "      <th>4</th>\n",
       "      <td>5</td>\n",
       "      <td>Angels Cry</td>\n",
       "      <td>1993</td>\n",
       "      <td>3</td>\n",
       "    </tr>\n",
       "    <tr>\n",
       "      <th>5</th>\n",
       "      <td>6</td>\n",
       "      <td>Rebirth</td>\n",
       "      <td>2001</td>\n",
       "      <td>3</td>\n",
       "    </tr>\n",
       "    <tr>\n",
       "      <th>6</th>\n",
       "      <td>7</td>\n",
       "      <td>Awake</td>\n",
       "      <td>1994</td>\n",
       "      <td>4</td>\n",
       "    </tr>\n",
       "    <tr>\n",
       "      <th>7</th>\n",
       "      <td>8</td>\n",
       "      <td>Octavarium</td>\n",
       "      <td>2005</td>\n",
       "      <td>4</td>\n",
       "    </tr>\n",
       "  </tbody>\n",
       "</table>\n",
       "</div>"
      ],
      "text/plain": [
       "   id                       nome  ano_lancamento  artista_id\n",
       "0   1                   The Wall            1979           1\n",
       "1   2  The Dark Side of the Moon            1973           1\n",
       "2   3                 Powerslave            1984           2\n",
       "3   4            Brave New World            2000           2\n",
       "4   5                 Angels Cry            1993           3\n",
       "5   6                    Rebirth            2001           3\n",
       "6   7                      Awake            1994           4\n",
       "7   8                 Octavarium            2005           4"
      ]
     },
     "execution_count": 55,
     "metadata": {},
     "output_type": "execute_result"
    }
   ],
   "source": [
    "albuns"
   ]
  },
  {
   "cell_type": "markdown",
   "id": "6771ad3d",
   "metadata": {},
   "source": [
    "Uma vez que temos as duas tabelas com dados inseridos, podemos usar a função **merge()** da biblioteca pandas, unindo assim as duas tabelas para que possamos ver todos os artistas e seus respectivos albuns."
   ]
  },
  {
   "cell_type": "code",
   "execution_count": 56,
   "id": "8b116ba7",
   "metadata": {},
   "outputs": [
    {
     "data": {
      "text/html": [
       "<div>\n",
       "<style scoped>\n",
       "    .dataframe tbody tr th:only-of-type {\n",
       "        vertical-align: middle;\n",
       "    }\n",
       "\n",
       "    .dataframe tbody tr th {\n",
       "        vertical-align: top;\n",
       "    }\n",
       "\n",
       "    .dataframe thead th {\n",
       "        text-align: right;\n",
       "    }\n",
       "</style>\n",
       "<table border=\"1\" class=\"dataframe\">\n",
       "  <thead>\n",
       "    <tr style=\"text-align: right;\">\n",
       "      <th></th>\n",
       "      <th>id_x</th>\n",
       "      <th>nome_x</th>\n",
       "      <th>origem</th>\n",
       "      <th>nome_y</th>\n",
       "      <th>ano_lancamento</th>\n",
       "      <th>artista_id</th>\n",
       "    </tr>\n",
       "  </thead>\n",
       "  <tbody>\n",
       "    <tr>\n",
       "      <th>0</th>\n",
       "      <td>1</td>\n",
       "      <td>Pink Floyd</td>\n",
       "      <td>Reino Unido</td>\n",
       "      <td>The Wall</td>\n",
       "      <td>1979</td>\n",
       "      <td>1</td>\n",
       "    </tr>\n",
       "    <tr>\n",
       "      <th>1</th>\n",
       "      <td>1</td>\n",
       "      <td>Pink Floyd</td>\n",
       "      <td>Reino Unido</td>\n",
       "      <td>The Dark Side of the Moon</td>\n",
       "      <td>1973</td>\n",
       "      <td>1</td>\n",
       "    </tr>\n",
       "    <tr>\n",
       "      <th>2</th>\n",
       "      <td>2</td>\n",
       "      <td>Iron Maiden</td>\n",
       "      <td>Reino Unido</td>\n",
       "      <td>Powerslave</td>\n",
       "      <td>1984</td>\n",
       "      <td>2</td>\n",
       "    </tr>\n",
       "    <tr>\n",
       "      <th>3</th>\n",
       "      <td>2</td>\n",
       "      <td>Iron Maiden</td>\n",
       "      <td>Reino Unido</td>\n",
       "      <td>Brave New World</td>\n",
       "      <td>2000</td>\n",
       "      <td>2</td>\n",
       "    </tr>\n",
       "    <tr>\n",
       "      <th>4</th>\n",
       "      <td>3</td>\n",
       "      <td>Angra</td>\n",
       "      <td>Brasil</td>\n",
       "      <td>Angels Cry</td>\n",
       "      <td>1993</td>\n",
       "      <td>3</td>\n",
       "    </tr>\n",
       "    <tr>\n",
       "      <th>5</th>\n",
       "      <td>3</td>\n",
       "      <td>Angra</td>\n",
       "      <td>Brasil</td>\n",
       "      <td>Rebirth</td>\n",
       "      <td>2001</td>\n",
       "      <td>3</td>\n",
       "    </tr>\n",
       "    <tr>\n",
       "      <th>6</th>\n",
       "      <td>4</td>\n",
       "      <td>Dream Theater</td>\n",
       "      <td>Estados Unidos</td>\n",
       "      <td>Awake</td>\n",
       "      <td>1994</td>\n",
       "      <td>4</td>\n",
       "    </tr>\n",
       "    <tr>\n",
       "      <th>7</th>\n",
       "      <td>4</td>\n",
       "      <td>Dream Theater</td>\n",
       "      <td>Estados Unidos</td>\n",
       "      <td>Octavarium</td>\n",
       "      <td>2005</td>\n",
       "      <td>4</td>\n",
       "    </tr>\n",
       "  </tbody>\n",
       "</table>\n",
       "</div>"
      ],
      "text/plain": [
       "   id_x         nome_x          origem                     nome_y  \\\n",
       "0     1     Pink Floyd     Reino Unido                   The Wall   \n",
       "1     1     Pink Floyd     Reino Unido  The Dark Side of the Moon   \n",
       "2     2    Iron Maiden     Reino Unido                 Powerslave   \n",
       "3     2    Iron Maiden     Reino Unido            Brave New World   \n",
       "4     3          Angra          Brasil                 Angels Cry   \n",
       "5     3          Angra          Brasil                    Rebirth   \n",
       "6     4  Dream Theater  Estados Unidos                      Awake   \n",
       "7     4  Dream Theater  Estados Unidos                 Octavarium   \n",
       "\n",
       "   ano_lancamento  artista_id  \n",
       "0            1979           1  \n",
       "1            1973           1  \n",
       "2            1984           2  \n",
       "3            2000           2  \n",
       "4            1993           3  \n",
       "5            2001           3  \n",
       "6            1994           4  \n",
       "7            2005           4  "
      ]
     },
     "execution_count": 56,
     "metadata": {},
     "output_type": "execute_result"
    }
   ],
   "source": [
    "pd.merge(artistas, albuns, left_on='id', right_on='artista_id', how='left').drop('id_y',axis=1)"
   ]
  },
  {
   "cell_type": "markdown",
   "id": "89a3b8df",
   "metadata": {},
   "source": [
    "Neste notebook, fiz uma breve demonstração dos recursos e funcionalidades mais importantes da interface **sqlite3 Python** para o banco de dados SQLite de arquivo único e leve que vem pré-empacotado com a maioria das instalações do Python.\n",
    "\n",
    "Para mais detalhes técnicos você pode checar a [documentação oficial](https://docs.python.org/3/library/sqlite3.html)."
   ]
  },
  {
   "cell_type": "markdown",
   "id": "d398a797",
   "metadata": {},
   "source": [
    "## Referências\n",
    "\n",
    "- [Guru99](https://www.guru99.com/sqlite-primary-foreign-key-tutorial.html)\n",
    "- [Foreign Key](https://en.wikipedia.org/wiki/Foreign_key)\n",
    "- [PyNative](https://pynative.com/python-sqlite/)\n",
    "- [Stackabuse](https://stackabuse.com/a-sqlite-tutorial-with-python/)"
   ]
  }
 ],
 "metadata": {
  "kernelspec": {
   "display_name": "Python 3",
   "language": "python",
   "name": "python3"
  },
  "language_info": {
   "codemirror_mode": {
    "name": "ipython",
    "version": 3
   },
   "file_extension": ".py",
   "mimetype": "text/x-python",
   "name": "python",
   "nbconvert_exporter": "python",
   "pygments_lexer": "ipython3",
   "version": "3.7.10"
  }
 },
 "nbformat": 4,
 "nbformat_minor": 5
}
