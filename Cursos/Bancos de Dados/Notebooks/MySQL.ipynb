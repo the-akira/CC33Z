{
 "cells": [
  {
   "cell_type": "markdown",
   "id": "7d688fda",
   "metadata": {},
   "source": [
    "# MySQL com Python\n",
    "\n",
    "O [MySQL](https://www.mysql.com/) é um dos [sistemas de gerenciamento de banco de dados](https://en.wikipedia.org/wiki/Database#Database_management_system) mais populares do mercado atualmente. Ele ficou em segundo lugar apenas para o Oracle DBMS no [DB-Engines Ranking](https://db-engines.com/en/ranking) deste ano. Como a maioria dos aplicativos de software precisa interagir com os dados de alguma forma, linguagens de programação como Python fornecem ferramentas para armazenar e acessar essas fontes de dados.\n",
    "\n",
    "[SQL](https://en.wikipedia.org/wiki/SQL) significa **Structured Query Language** e é uma linguagem de domínio-específico, amplamente usada para gerenciar bancos de dados relacionais. Você pode ter ouvido falar de diferentes tipos de sistemas de gerenciamento de banco de dados baseados em SQL. Os mais populares incluem: MySQL, PostgreSQL, SQLite e SQL Server. Todos esses bancos de dados são compatíveis com os padrões SQL, mas com diferentes graus de conformidade.\n",
    "\n",
    "Sendo de código aberto desde seu início em 1995, o MySQL rapidamente se tornou um líder de mercado entre as soluções SQL. O MySQL também faz parte do ecossistema Oracle. Embora sua funcionalidade principal seja totalmente gratuita, também existem alguns complementos pagos."
   ]
  },
  {
   "cell_type": "markdown",
   "id": "f8670954",
   "metadata": {},
   "source": [
    "## Instalando o MySQL Server e MySQL Connector/Python\n",
    "\n",
    "Agora, para começar a trabalhar neste tutorial, você precisa configurar duas coisas: \n",
    "\n",
    "- Um **servidor MySQL** \n",
    "- Um **conector MySQL** \n",
    "\n",
    "O [servidor MySQL](https://dev.mysql.com/doc/refman/8.0/en/) fornecerá todos os serviços necessários para lidar com seu banco de dados. Assim que o servidor estiver instalado e funcionando, você pode conectar seu aplicativo Python a ele usando o [MySQL Connector/Python](https://dev.mysql.com/doc/connector-python/en/)."
   ]
  },
  {
   "cell_type": "markdown",
   "id": "a1f00e8d",
   "metadata": {},
   "source": [
    "### Instalando o Servidor MySQL\n",
    "\n",
    "A [documentação oficial](https://dev.mysql.com/doc/refman/5.7/en/installing.html) detalha a maneira recomendada de baixar e instalar o servidor MySQL. Você encontrará instruções para todos os sistemas operacionais populares, incluindo Windows, macOS, Solaris, Linux e muitos mais."
   ]
  },
  {
   "cell_type": "markdown",
   "id": "048ea3f2",
   "metadata": {},
   "source": [
    "### Instalando o MySQL Connector/Python\n",
    "\n",
    "Um [driver de banco de dados](https://docs.microsoft.com/en-us/sql/odbc/reference/dbms-based-drivers) é um software que permite que um aplicativo se conecte e interaja com um sistema de banco de dados. Linguagens de programação como Python precisam de um driver especial antes de poderem se comunicar com um banco de dados de um fornecedor específico.\n",
    "\n",
    "Esses drivers são normalmente obtidos como módulos de terceiros. A API de banco de dados Python (DB-API) define a interface padrão com a qual todos os drivers de banco de dados Python devem estar em conformidade. Esses detalhes estão documentados no [PEP 249](https://www.python.org/dev/peps/pep-0249/). Todos os drivers de banco de dados Python, como sqlite3 para SQLite, [psycopg](https://www.psycopg.org/docs/) para PostgreSQL e [MySQL Connector/Python](https://github.com/mysql/mysql-connector-python) para MySQL, seguem essas regras de implementação.\n",
    "\n",
    "**Observação**: a documentação oficial do MySQL usa o termo **connector** em vez de driver. Tecnicamente, os conectores estão associados apenas à conexão com um banco de dados, não à interação com ele. No entanto, o termo é freqüentemente usado para todo o módulo de acesso ao banco de dados que compreende o conector e o driver.\n",
    "\n",
    "Muitas linguagens de programação populares têm sua própria API de banco de dados. Por exemplo, Java tem a API [Java Database Connectivity (JDBC)](https://docs.oracle.com/javase/8/docs/technotes/guides/jdbc/). Se você precisar conectar um aplicativo Java a um banco de dados MySQL, precisará usar o conector MySQL JDBC, que segue a API JDBC.\n",
    "\n",
    "Da mesma forma, em Python, você precisa instalar um conector Python MySQL para interagir com um banco de dados MySQL. Muitos pacotes seguem os padrões DB-API, mas o mais popular entre eles é o MySQL Connector/Python. Você pode obtê-lo com [pip](https://realpython.com/what-is-pip/):\n",
    "\n",
    "```\n",
    "pip install mysql-connector-python\n",
    "```\n",
    "\n",
    "Para testar se a instalação foi bem-sucedida, podemos executar o seguinte comando:"
   ]
  },
  {
   "cell_type": "code",
   "execution_count": 1,
   "id": "809fbd3e",
   "metadata": {},
   "outputs": [],
   "source": [
    "import mysql.connector"
   ]
  },
  {
   "cell_type": "markdown",
   "id": "611f1e9b",
   "metadata": {},
   "source": [
    "## Estabelecendo uma Conexão com o Servidor MySQL\n",
    "\n",
    "MySQL é um sistema de gerenciamento de banco de dados baseado em servidor. \n",
    "\n",
    "Um servidor pode conter vários bancos de dados. Para interagir com um banco de dados, você deve primeiro estabelecer uma conexão com o servidor. O fluxo de trabalho geral de um programa Python que interage com um banco de dados baseado em MySQL é o seguinte:\n",
    "\n",
    "1. Conecte-se ao servidor MySQL.\n",
    "2. Crie um novo banco de dados.\n",
    "3. Conecte-se ao banco de dados recém-criado ou um outro existente.\n",
    "4. Execute uma consulta SQL e obtenha os resultados (Criar tabelas, inserir, selecionar e atualizar dados).\n",
    "5. Informe o banco de dados se alguma alteração for feita em uma tabela.\n",
    "6. Feche a conexão com o servidor MySQL.\n",
    "\n",
    "Este é um fluxo de trabalho genérico que pode variar dependendo do aplicativo individual. Mas seja qual for o aplicativo, a primeira etapa é conectar seu banco de dados ao seu aplicativo."
   ]
  },
  {
   "cell_type": "markdown",
   "id": "f8b179ac",
   "metadata": {},
   "source": [
    "### Conectando\n",
    "\n",
    "O primeiro passo para interagir com um servidor MySQL é estabelecer uma conexão. Para fazer isso, você precisa do método **[connect()](https://dev.mysql.com/doc/connector-python/en/connector-python-api-mysql-connector-connect.html)** do módulo **mysql.connector**. \n",
    "\n",
    "Esta função recebe parâmetros como **host**, **usuário** e **senha** e retorna um objeto **MySQLConnection**. \n",
    "\n",
    "Você pode receber essas credenciais como input do usuário e passá-las para **connect()**:"
   ]
  },
  {
   "cell_type": "code",
   "execution_count": 10,
   "id": "e98fd2d7",
   "metadata": {},
   "outputs": [
    {
     "name": "stdin",
     "output_type": "stream",
     "text": [
      "Informe o usuário:  root\n",
      "Informe a senha:  ·············\n"
     ]
    },
    {
     "name": "stdout",
     "output_type": "stream",
     "text": [
      "<mysql.connector.connection.MySQLConnection object at 0x7f8ba87027d0>\n"
     ]
    }
   ],
   "source": [
    "from getpass import getpass\n",
    "from mysql.connector import connect, Error\n",
    "\n",
    "user = input('Informe o usuário: ')\n",
    "password = getpass('Informe a senha: ')\n",
    "\n",
    "try: \n",
    "    connection = connect(host=\"localhost\", user=user, password=password)\n",
    "    print(connection)\n",
    "except Error as e:\n",
    "    print(e)"
   ]
  },
  {
   "cell_type": "markdown",
   "id": "e0d11e6c",
   "metadata": {},
   "source": [
    "Agora você estabeleceu uma conexão entre o seu programa e o servidor MySQL, mas ainda precisa criar um novo banco de dados ou conectar-se a um banco de dados existente dentro do servidor."
   ]
  },
  {
   "cell_type": "markdown",
   "id": "723e3b36",
   "metadata": {},
   "source": [
    "### Criando um Novo Banco de Dados\n",
    "\n",
    "Na última seção, você estabeleceu uma conexão com o servidor MySQL. \n",
    "\n",
    "Para criar um novo banco de dados, você precisa executar uma instrução SQL:\n",
    "\n",
    "```sql\n",
    "CREATE DATABASE livros_db;\n",
    "```\n",
    "\n",
    "A instrução acima criará um novo banco de dados com o nome **livros_db**.\n",
    "\n",
    "Para executar uma consulta SQL em Python, você precisará usar um [cursor](https://en.wikipedia.org/wiki/Cursor_(databases)), que abstrai o acesso aos registros do banco de dados. MySQL Connector/Python fornece a classe [MySQLCursor](https://dev.mysql.com/doc/connector-python/en/connector-python-api-mysqlcursor.html), que instancia objetos que podem executar consultas MySQL em Python. Uma instância da classe MySQLCursor também é chamada de **cursor**.\n",
    "\n",
    "Objetos cursor fazem uso de um objeto MySQLConnection para interagir com seu servidor MySQL. Para criar um cursor, use o método **cursor()** da sua variável de **connection**:"
   ]
  },
  {
   "cell_type": "code",
   "execution_count": 11,
   "id": "e0021b33",
   "metadata": {},
   "outputs": [
    {
     "name": "stdout",
     "output_type": "stream",
     "text": [
      "MySQLCursor: (Nothing executed yet)\n"
     ]
    }
   ],
   "source": [
    "cursor = connection.cursor()\n",
    "print(cursor)"
   ]
  },
  {
   "cell_type": "markdown",
   "id": "d4e98b8c",
   "metadata": {},
   "source": [
    "O código acima fornece uma instância da classe **MySQLCursor**.\n",
    "\n",
    "Uma consulta que precisa ser executada é enviada para **cursor.execute()** em formato de string. Nesta ocasião específica, você enviará a consulta `CREATE DATABASE` para **cursor.execute()**:"
   ]
  },
  {
   "cell_type": "code",
   "execution_count": 13,
   "id": "17eb4669",
   "metadata": {},
   "outputs": [
    {
     "name": "stdin",
     "output_type": "stream",
     "text": [
      "Informe o usuário:  root\n",
      "Informe a senha:  ·············\n"
     ]
    }
   ],
   "source": [
    "user = input('Informe o usuário: ')\n",
    "password = getpass('Informe a senha: ')\n",
    "\n",
    "try: \n",
    "    connection = connect(host=\"localhost\", user=user, password=password)\n",
    "    create_db_query = \"CREATE DATABASE avaliacoes_filmes\"\n",
    "    cursor = connection.cursor()\n",
    "    cursor.execute(create_db_query)\n",
    "except Error as e:\n",
    "    print(e)"
   ]
  },
  {
   "cell_type": "markdown",
   "id": "8a902a23",
   "metadata": {},
   "source": [
    "Após executar o código acima, você terá um novo banco de dados chamado **avaliacoes_filmes** em seu servidor MySQL.\n",
    "\n",
    "A consulta **CREATE DATABASE** é armazenada como uma string na variável **create_db_query** e então passada para **cursor.execute()** para execução. \n",
    "\n",
    "Você pode receber um erro aqui se um banco de dados com o mesmo nome já existir em seu servidor. Para confirmar isso, você pode exibir o nome de todos os bancos de dados em seu servidor. Usando o mesmo objeto **MySQLConnection** anterior, execute a instrução `SHOW DATABASES`:"
   ]
  },
  {
   "cell_type": "code",
   "execution_count": 19,
   "id": "b44159bd",
   "metadata": {},
   "outputs": [
    {
     "name": "stdin",
     "output_type": "stream",
     "text": [
      "Informe o usuário:  root\n",
      "Informe a senha:  ·············\n"
     ]
    },
    {
     "name": "stdout",
     "output_type": "stream",
     "text": [
      "('information_schema',)\n",
      "('avaliacoes_filmes',)\n",
      "('banco',)\n",
      "('mysql',)\n",
      "('performance_schema',)\n",
      "('sys',)\n",
      "('wordpress',)\n"
     ]
    }
   ],
   "source": [
    "user = input('Informe o usuário: ')\n",
    "password = getpass('Informe a senha: ')\n",
    "\n",
    "try: \n",
    "    connection = connect(host=\"localhost\", user=user, password=password)\n",
    "    show_db_query = \"SHOW DATABASES\"\n",
    "    cursor = connection.cursor()\n",
    "    cursor.execute(show_db_query)\n",
    "    for db in cursor:\n",
    "        print(db)\n",
    "except Error as e:\n",
    "    print(e)"
   ]
  },
  {
   "cell_type": "markdown",
   "id": "d51db384",
   "metadata": {},
   "source": [
    "O código acima imprime os nomes de todos os bancos de dados atualmente em seu servidor MySQL. \n",
    "\n",
    "O comando `SHOW DATABASES` também produz alguns bancos de dados que você não criou em seu servidor, como **information_schema**, **performance_schema** e assim por diante. Esses bancos de dados são gerados automaticamente pelo servidor MySQL e fornecem acesso a uma variedade de metadados de banco de dados e configurações do servidor MySQL.\n",
    "\n",
    "Você criou um novo banco de dados nesta seção executando a instrução `CREATE DATABASE`. Na próxima seção, você verá como se conectar a um banco de dados que já existe."
   ]
  },
  {
   "cell_type": "markdown",
   "id": "15a40a4e",
   "metadata": {},
   "source": [
    "### Conectando-se a um Banco de Dados Existente\n",
    "\n",
    "Na última seção, você criou um novo banco de dados chamado **avaliacoes_filmes**. No entanto, você ainda não se conectou a ele. Em muitas situações, você já terá um banco de dados MySQL que deseja conectar ao seu aplicativo Python.\n",
    "\n",
    "Você pode fazer isso usando a mesma função **connect()** usada anteriormente, enviando um parâmetro adicional chamado banco de dados:"
   ]
  },
  {
   "cell_type": "code",
   "execution_count": 21,
   "id": "eaae993c",
   "metadata": {},
   "outputs": [
    {
     "name": "stdout",
     "output_type": "stream",
     "text": [
      "<mysql.connector.connection.MySQLConnection object at 0x7f8ba89a86d0>\n"
     ]
    }
   ],
   "source": [
    "try: \n",
    "    connection = connect(host=\"localhost\", user=user, password=password, database=\"avaliacoes_filmes\")\n",
    "    print(connection)\n",
    "except Error as e:\n",
    "    print(e)"
   ]
  },
  {
   "cell_type": "markdown",
   "id": "b94a2050",
   "metadata": {},
   "source": [
    "O código acima é muito semelhante ao script de conexão que você usou anteriormente. A única mudança aqui é o parâmetro **database** adicional, onde o nome de seu banco de dados é passado para **connect()**. Depois de executar este script, você será conectado ao banco de dados **avaliacoes_filmes**."
   ]
  },
  {
   "cell_type": "markdown",
   "id": "e8a28761",
   "metadata": {},
   "source": [
    "### Criando, Alterando e Eliminando uma Tabela\n",
    "\n",
    "Nesta seção, você aprenderá a realizar algumas consultas [DDL](https://en.wikipedia.org/wiki/Data_definition_language) básicas, como **CREATE**, **DROP** e **ALTER** com Python.\n",
    "\n",
    "Você também criará todas as tabelas necessárias para o banco de dados e aprenderá a realizar modificações nessas tabelas posteriormente.\n",
    "\n",
    "#### Definindo o Esquema de Banco de Dados\n",
    "\n",
    "Começamos criando um esquema de banco de dados para um sistema de Avaliações de Filme. O banco de dados será composto por três tabelas:\n",
    "\n",
    "1. **Filmes**: contém informações gerais sobre filmes e possui os seguintes atributos:\n",
    "    - id\n",
    "    - título\n",
    "    - ano_lançamento\n",
    "    - gênero\n",
    "\n",
    "2. **Revisores**: contém informações sobre pessoas que postaram comentários ou avaliações dos filmes e possui os seguintes atributos:\n",
    "    - id\n",
    "    - nome\n",
    "    - sobrenome\n",
    " \n",
    "3. **Avaliações**: contém informações sobre as avaliações que foram postadas e possui os seguintes atributos:\n",
    "    - filme_id (chave estrangeira)\n",
    "    - revisor_id (chave estrangeira)\n",
    "    - avaliação\n",
    "\n",
    "Esteja ciente que um sistema de classificação de filmes do mundo real, como o [IMDb](https://www.imdb.com/), precisaria armazenar vários outros atributos, como e-mails, listas de elenco de filmes e assim por diante. Se desejar, você pode adicionar mais tabelas e atributos a este banco de dados.\n",
    "\n",
    "A imagem abaixo mostra o esquema do banco de dados:\n",
    "\n",
    "![img](https://i.ibb.co/RHR3zCL/scheme.png)\n",
    "\n",
    "As tabelas neste banco de dados estão relacionadas entre si. **filmes** e **revisores** terão uma relação muitos para muitos, pois um filme pode ser revisado por vários revisores e um revisor pode revisar vários filmes. A tabela de **avaliações** conecta a tabela de filmes com a tabela de revisores."
   ]
  },
  {
   "cell_type": "markdown",
   "id": "21622415",
   "metadata": {},
   "source": [
    "#### Criando Tabelas usando a Instrução CREATE TABLE\n",
    "\n",
    "Para criar uma nova tabela no MySQL, você precisa usar a instrução `CREATE TABLE`. \n",
    "\n",
    "A seguinte consulta MySQL criará a tabela **filmes** para seu banco de dados **avaliacoes_filmes**:\n",
    "\n",
    "```sql\n",
    "CREATE TABLE filmes(\n",
    "    id INT AUTO_INCREMENT PRIMARY KEY,\n",
    "    titulo VARCHAR(100),\n",
    "    ano_lancamento YEAR(4),\n",
    "    genero VARCHAR(100)\n",
    ");\n",
    "```\n",
    "\n",
    "Para criar uma nova tabela, você precisa passar esta consulta para **cursor.execute()**, que aceita uma consulta MySQL e executa a consulta no banco de dados MySQL conectado:"
   ]
  },
  {
   "cell_type": "code",
   "execution_count": 23,
   "id": "a84547e3",
   "metadata": {},
   "outputs": [],
   "source": [
    "try: \n",
    "    connection = connect(host=\"localhost\", user=user, password=password, database=\"avaliacoes_filmes\")\n",
    "    create_filmes_table_query = \"\"\"\n",
    "    CREATE TABLE filmes(\n",
    "        id INT AUTO_INCREMENT PRIMARY KEY,\n",
    "        titulo VARCHAR(100),\n",
    "        ano_lancamento YEAR(4),\n",
    "        genero VARCHAR(100)\n",
    "    )\n",
    "    \"\"\"\n",
    "    cursor = connection.cursor()\n",
    "    cursor.execute(create_filmes_table_query)\n",
    "    connection.commit()\n",
    "except Error as e:\n",
    "    print(e)"
   ]
  },
  {
   "cell_type": "markdown",
   "id": "de5cb4eb",
   "metadata": {},
   "source": [
    "Agora você tem a tabela de **filmes** em seu banco de dados. Você passa **create_filmes_table_query** para **cursor.execute()**, que realiza a execução necessária.\n",
    "\n",
    "Além disso, observe a instrução **connection.commit()** no final do código. Por padrão, seu conector MySQL não confirma transações automaticamente. No MySQL, as modificações mencionadas em uma transação ocorrem apenas quando você usa um comando **COMMIT** no final. Sempre chame este método após cada transação para realizar alterações na tabela real.\n",
    "\n",
    "Como fez com a tabela de filmes, execute o seguinte script para criar a tabela de **revisores**:"
   ]
  },
  {
   "cell_type": "code",
   "execution_count": 24,
   "id": "7c5cd33b",
   "metadata": {},
   "outputs": [],
   "source": [
    "try: \n",
    "    connection = connect(host=\"localhost\", user=user, password=password, database=\"avaliacoes_filmes\")\n",
    "    create_revisores_table_query = \"\"\"\n",
    "    CREATE TABLE revisores (\n",
    "        id INT AUTO_INCREMENT PRIMARY KEY,\n",
    "        nome VARCHAR(100),\n",
    "        sobrenome VARCHAR(100)\n",
    "    )\n",
    "    \"\"\"\n",
    "    cursor = connection.cursor()\n",
    "    cursor.execute(create_revisores_table_query)\n",
    "    connection.commit()\n",
    "except Error as e:\n",
    "    print(e)"
   ]
  },
  {
   "cell_type": "markdown",
   "id": "cc762385",
   "metadata": {},
   "source": [
    "Finalmente, você pode criar a tabela de **avaliações** usando o seguinte script:"
   ]
  },
  {
   "cell_type": "code",
   "execution_count": 26,
   "id": "2d7a08e0",
   "metadata": {},
   "outputs": [],
   "source": [
    "try: \n",
    "    connection = connect(host=\"localhost\", user=user, password=password, database=\"avaliacoes_filmes\")\n",
    "    create_avaliacoes_table_query = \"\"\"\n",
    "    CREATE TABLE avaliacoes (\n",
    "        filme_id INT,\n",
    "        revisor_id INT,\n",
    "        avaliacao DECIMAL(2,1),\n",
    "        FOREIGN KEY(filme_id) REFERENCES filmes(id),\n",
    "        FOREIGN KEY(revisor_id) REFERENCES revisores(id),\n",
    "        PRIMARY KEY(filme_id, revisor_id)\n",
    "    )\n",
    "    \"\"\"\n",
    "    cursor = connection.cursor()\n",
    "    cursor.execute(create_avaliacoes_table_query)\n",
    "    connection.commit()\n",
    "except Error as e:\n",
    "    print(e)"
   ]
  },
  {
   "cell_type": "markdown",
   "id": "3b962adc",
   "metadata": {},
   "source": [
    "A implementação de relacionamentos de chave estrangeira no MySQL é ligeiramente diferente e limitada em [comparação com o SQL padrão](https://dev.mysql.com/doc/mysql-reslimits-excerpt/8.0/en/ansi-diff-foreign-keys.html). No MySQL, o pai e o filho na restrição de chave estrangeira devem usar o mesmo mecanismo de armazenamento (**storage engine**).\n",
    "\n",
    "Um mecanismo de armazenamento é o componente de software subjacente que um sistema de gerenciamento de banco de dados usa para executar operações SQL. No MySQL, os mecanismos de armazenamento vêm em dois sabores diferentes:\n",
    "\n",
    "1. **Transactional storage engines** são seguros para transações e permitem reverter transações usando comandos simples como **[rollback](https://dev.mysql.com/doc/refman/8.0/en/innodb-autocommit-commit-rollback.html)**. Muitos motores MySQL populares, incluindo [InnoDB](https://dev.mysql.com/doc/refman/8.0/en/innodb-storage-engine.html) e [NDB](https://dev.mysql.com/doc/refman/8.0/en/mysql-cluster.html), pertencem a esta categoria.\n",
    "\n",
    "2. **Nontransactional storage engines** dependem de código manual elaborado para desfazer instruções confirmadas em um banco de dados. [MyISAM](https://dev.mysql.com/doc/refman/8.0/en/myisam-storage-engine.html), [MEMORY](https://dev.mysql.com/doc/refman/8.0/en/memory-storage-engine.html) e muitos outros mecanismos MySQL são nontransactional.\n",
    "\n",
    "InnoDB é o mecanismo de armazenamento padrão e mais popular. Ele ajuda a manter a integridade dos dados, oferecendo suporte a restrições de chave estrangeira. Isso significa que qualquer operação [CRUD](https://en.wikipedia.org/wiki/Create,_read,_update_and_delete) em uma chave estrangeira é verificada para garantir que não leve a inconsistências em tabelas diferentes.\n",
    "\n",
    "Além disso, observe que a tabela de **avaliações** usa as colunas **filme_id** e **revisor_id**, ambas chaves estrangeiras, juntamente com a chave primária. Esta etapa garante que um revisor não possa avaliar o mesmo filme duas vezes."
   ]
  },
  {
   "cell_type": "markdown",
   "id": "c25d38f3",
   "metadata": {},
   "source": [
    "#### Mostrando um Esquema de Tabela usando a Instrução DESCRIBE\n",
    "\n",
    "Agora que você criou todas as três tabelas, é possível examinar seu esquema usando a seguinte instrução SQL:\n",
    "\n",
    "```sql\n",
    "DESCRIBE <nome_tabela>;\n",
    "```\n",
    "\n",
    "Para obter alguns resultados do objeto cursor, você precisa usar **cursor.fetchall()**. Este método busca todas as linhas da última instrução executada. Supondo que você já tenha o objeto **MySQLConnection** na variável de **connection**, você pode imprimir todos os resultados obtidos por **cursor.fetchall()**:"
   ]
  },
  {
   "cell_type": "code",
   "execution_count": 28,
   "id": "ebf85656",
   "metadata": {},
   "outputs": [
    {
     "name": "stdout",
     "output_type": "stream",
     "text": [
      "('id', 'int(11)', 'NO', 'PRI', None, 'auto_increment')\n",
      "('titulo', 'varchar(100)', 'YES', '', None, '')\n",
      "('ano_lancamento', 'year(4)', 'YES', '', None, '')\n",
      "('genero', 'varchar(100)', 'YES', '', None, '')\n"
     ]
    }
   ],
   "source": [
    "try: \n",
    "    connection = connect(host=\"localhost\", user=user, password=password, database=\"avaliacoes_filmes\")\n",
    "    show_table_query = \"DESCRIBE filmes\"\n",
    "    cursor = connection.cursor()\n",
    "    cursor.execute(show_table_query)\n",
    "    result = cursor.fetchall()\n",
    "    for row in result:\n",
    "        print(row)\n",
    "except Error as e:\n",
    "    print(e)"
   ]
  },
  {
   "cell_type": "markdown",
   "id": "f9f4d548",
   "metadata": {},
   "source": [
    "Depois de executar o código acima, você deve receber uma tabela contendo informações sobre todas as colunas da tabela **filmes**. Para cada coluna, você receberá detalhes como o tipo de dados da coluna, se a coluna é uma chave primária e assim por diante."
   ]
  },
  {
   "cell_type": "markdown",
   "id": "3807ccf7",
   "metadata": {},
   "source": [
    "#### Modificando um Esquema de Tabela usando a Instrução ALTER\n",
    "\n",
    "Na tabela de **filmes**, você tem uma coluna chamada **titulo**, que contém o titulo do filme. Você pode escrever a seguinte instrução MySQL para modificar o tipo de dados do atributo titulo de VARCHAR(100) para VARCHAR(150):\n",
    "\n",
    "```sql\n",
    "ALTER TABLE filmes MODIFY COLUMN titulo VARCHAR(150);\n",
    "```\n",
    "\n",
    "Depois de executar a instrução `ALTER TABLE`, você pode mostrar o esquema da tabela atualizado usando `DESCRIBE`:"
   ]
  },
  {
   "cell_type": "code",
   "execution_count": 29,
   "id": "6cc60a3d",
   "metadata": {},
   "outputs": [
    {
     "name": "stdout",
     "output_type": "stream",
     "text": [
      "Esquema da tabela filme após alteração:\n",
      "('id', 'int(11)', 'NO', 'PRI', None, 'auto_increment')\n",
      "('titulo', 'varchar(150)', 'YES', '', None, '')\n",
      "('ano_lancamento', 'year(4)', 'YES', '', None, '')\n",
      "('genero', 'varchar(100)', 'YES', '', None, '')\n"
     ]
    }
   ],
   "source": [
    "try: \n",
    "    connection = connect(host=\"localhost\", user=user, password=password, database=\"avaliacoes_filmes\")\n",
    "    alter_table_query = \"\"\"\n",
    "    ALTER TABLE filmes\n",
    "    MODIFY COLUMN titulo VARCHAR(150)\n",
    "    \"\"\"\n",
    "    show_table_query = \"DESCRIBE filmes\"\n",
    "    cursor = connection.cursor()\n",
    "    cursor.execute(alter_table_query)\n",
    "    cursor.execute(show_table_query)\n",
    "    result = cursor.fetchall()\n",
    "    print(\"Esquema da tabela filme após alteração:\")\n",
    "    for row in result:\n",
    "        print(row)\n",
    "except Error as e:\n",
    "    print(e)"
   ]
  },
  {
   "cell_type": "markdown",
   "id": "a8673ddf",
   "metadata": {},
   "source": [
    "Conforme mostrado no *output*, o atributo **titulo** agora é do tipo **VARCHAR(150)**. Observe também que, no código acima, você chama **cursor.execute()** duas vezes. Mas **cursor.fetchall()** busca linhas apenas da última consulta executada, que é **show_table_query**."
   ]
  },
  {
   "cell_type": "markdown",
   "id": "21e90eea",
   "metadata": {},
   "source": [
    "#### Excluindo Tabelas usando a Instrução DROP\n",
    "\n",
    "Para deletar uma tabela, você precisa executar a instrução `DROP TABLE` no MySQL. Excluir uma tabela é um processo irreversível. Se você executar o código abaixo, precisará chamar a consulta `CREATE TABLE` novamente para usar a tabela de **avaliações** nas próximas seções.\n",
    "\n",
    "Para deletar a tabela de avaliações, envie **drop_table_query** para **cursor.execute()**:"
   ]
  },
  {
   "cell_type": "code",
   "execution_count": 31,
   "id": "e9e52191",
   "metadata": {},
   "outputs": [
    {
     "name": "stdout",
     "output_type": "stream",
     "text": [
      "1051 (42S02): Unknown table 'avaliacoes_filmes.avaliacoes'\n"
     ]
    }
   ],
   "source": [
    "try: \n",
    "    connection = connect(host=\"localhost\", user=user, password=password, database=\"avaliacoes_filmes\")\n",
    "    drop_table_query = \"DROP TABLE avaliacoes\"\n",
    "    cursor = connection.cursor()\n",
    "    cursor.execute(drop_table_query)\n",
    "except Error as e:\n",
    "    print(e)"
   ]
  },
  {
   "cell_type": "markdown",
   "id": "d5976f1c",
   "metadata": {},
   "source": [
    "Se você executar o código acima, terá excluído com sucesso a tabela de avaliações.\n",
    "\n",
    "Como precisaremos dela para trabalhar, vamos então recriá-la:"
   ]
  },
  {
   "cell_type": "code",
   "execution_count": 32,
   "id": "533ac5b6",
   "metadata": {},
   "outputs": [],
   "source": [
    "try: \n",
    "    connection = connect(host=\"localhost\", user=user, password=password, database=\"avaliacoes_filmes\")\n",
    "    create_avaliacoes_table_query = \"\"\"\n",
    "    CREATE TABLE avaliacoes (\n",
    "        filme_id INT,\n",
    "        revisor_id INT,\n",
    "        avaliacao DECIMAL(2,1),\n",
    "        FOREIGN KEY(filme_id) REFERENCES filmes(id),\n",
    "        FOREIGN KEY(revisor_id) REFERENCES revisores(id),\n",
    "        PRIMARY KEY(filme_id, revisor_id)\n",
    "    )\n",
    "    \"\"\"\n",
    "    cursor = connection.cursor()\n",
    "    cursor.execute(create_avaliacoes_table_query)\n",
    "    connection.commit()\n",
    "except Error as e:\n",
    "    print(e)"
   ]
  },
  {
   "cell_type": "markdown",
   "id": "d52a6fe7",
   "metadata": {},
   "source": [
    "#### Inserindo Registros em Tabelas\n",
    "\n",
    "Na última seção, você criou três tabelas em seu banco de dados: **filmes**, **revisores** e **avaliações**. \n",
    "\n",
    "Agora você precisa preencher essas tabelas com dados. Esta seção cobrirá duas maneiras diferentes de inserir registros no Conector MySQL para Python.\n",
    "\n",
    "O primeiro método, **execute()**, funciona bem quando o número de registros é pequeno e os registros podem ser codificados permanentemente. O segundo método, **executemany()**, é mais popular e é mais adequado para cenários do mundo real."
   ]
  },
  {
   "cell_type": "markdown",
   "id": "4788f305",
   "metadata": {},
   "source": [
    "##### Usando **execute()**\n",
    "\n",
    "A primeira abordagem usa o mesmo método **cursor.execute()** que você usou até agora. Você escreve a consulta `INSERT INTO` em uma string e a passa para **cursor.execute()**. Você pode usar este método para inserir dados na tabela de filmes.\n",
    "\n",
    "Para referência, a tabela de filmes possui quatro atributos:\n",
    "\n",
    "- id \n",
    "- titulo\n",
    "- ano_lancamento\n",
    "- genero\n",
    "\n",
    "Você não precisa adicionar dados para **id**, pois **AUTO_INCREMENT** calcula automaticamente o **id** para você. O seguinte script insere registros na tabela de filmes:"
   ]
  },
  {
   "cell_type": "code",
   "execution_count": 33,
   "id": "95f8380f",
   "metadata": {},
   "outputs": [],
   "source": [
    "try: \n",
    "    connection = connect(host=\"localhost\", user=user, password=password, database=\"avaliacoes_filmes\")\n",
    "    insert_movies_query = \"\"\"\n",
    "    INSERT INTO filmes (titulo, ano_lancamento, genero)\n",
    "    VALUES\n",
    "        (\"Forrest Gump\", 1994, \"Drama\"),\n",
    "        (\"Gladiator\", 2000, \"Action\"),\n",
    "        (\"Titanic\", 1997, \"Romance\"),\n",
    "        (\"The Godfather\", 1972, \"Crime\"),\n",
    "        (\"Inception\", 2010, \"Adventure\"),\n",
    "        (\"Pulp Fiction\", 1994, \"Crime\"),\n",
    "        (\"The Matrix\", 1999, \"Cyberpunk\"),\n",
    "        (\"Johnny Mnemonic\", 1995, \"Cyberpunk\"),\n",
    "        (\"Dark City\", 1998, \"Science Fiction\"),\n",
    "        (\"They Live\", 1988, \"Science Fiction\"),\n",
    "        (\"The Truman Show\", 1998, \"Comedy Drama\"),\n",
    "        (\"Brazil\", 1985, \"Black Comedy\"),\n",
    "        (\"THX 1138\", 1971, \"Science Fiction\"),\n",
    "        (\"Andrei Rublev\", 1966, \"Historical Drama\"),\n",
    "        (\"The Thirteenth Floor\", 1999, \"Science Fiction\"),\n",
    "        (\"2001: A Space Odyssey\", 1968, \"Science Fiction\")\n",
    "    \"\"\"\n",
    "    cursor = connection.cursor()\n",
    "    cursor.execute(insert_movies_query)\n",
    "    connection.commit()\n",
    "except Error as e:\n",
    "    print(e)"
   ]
  },
  {
   "cell_type": "markdown",
   "id": "b30c11a8",
   "metadata": {},
   "source": [
    "A tabela de filmes agora está carregada com 16 registros. \n",
    "\n",
    "O código chama **connection.commit()** no final. É crucial chamar **commit()** após realizar quaisquer modificações em uma tabela."
   ]
  },
  {
   "cell_type": "markdown",
   "id": "02651a49",
   "metadata": {},
   "source": [
    "##### Usando **executemany()**\n",
    "\n",
    "A abordagem anterior é mais adequada quando o número de registros é bastante pequeno e você pode escrever esses registros diretamente no código. Mas isso raramente é verdade. Freqüentemente, você terá esses dados armazenados em algum outro arquivo ou os dados serão gerados por um script diferente e precisarão ser adicionados ao banco de dados MySQL.\n",
    "\n",
    "É aqui que **executemany()** se torna útil. Ele aceita dois parâmetros:\n",
    "\n",
    "1. Uma consulta que contém marcadores de posição (**placeholders**) para os registros que precisam ser inseridos.\n",
    "2. Uma lista que contém todos os registros que você deseja inserir.\n",
    "\n",
    "O exemplo a seguir insere registros para a tabela de revisores:"
   ]
  },
  {
   "cell_type": "code",
   "execution_count": 34,
   "id": "4efa7d18",
   "metadata": {},
   "outputs": [],
   "source": [
    "try: \n",
    "    connection = connect(host=\"localhost\", user=user, password=password, database=\"avaliacoes_filmes\")\n",
    "    insert_revisores_query = \"\"\"\n",
    "    INSERT INTO revisores\n",
    "    (nome, sobrenome)\n",
    "    VALUES (%s, %s)\n",
    "    \"\"\"\n",
    "    registros_revisores = [\n",
    "        (\"Chaitanya\", \"Baweja\"),\n",
    "        (\"Mary\", \"Cooper\"),\n",
    "        (\"John\", \"Wayne\"),\n",
    "        (\"Thomas\", \"Stoneman\"),\n",
    "        (\"Penny\", \"Hofstadter\"),\n",
    "        (\"Mitchell\", \"Marsh\"),\n",
    "        (\"Wyatt\", \"Skaggs\"),\n",
    "        (\"Andre\", \"Veiga\"),\n",
    "        (\"Sheldon\", \"Cooper\"),\n",
    "        (\"Kimbra\", \"Masters\"),\n",
    "        (\"Kat\", \"Dennings\"),\n",
    "        (\"Bruce\", \"Wayne\"),\n",
    "        (\"Domingo\", \"Cortes\"),\n",
    "        (\"Rajesh\", \"Koothrappali\"),\n",
    "        (\"Ben\", \"Glocker\"),\n",
    "        (\"Mahinder\", \"Dhoni\"),\n",
    "        (\"Akbar\", \"Khan\"),\n",
    "        (\"Howard\", \"Wolowitz\"),\n",
    "        (\"Pinkie\", \"Petit\"),\n",
    "        (\"Gurkaran\", \"Singh\"),\n",
    "        (\"Amy\", \"Farah Fowler\"),\n",
    "        (\"Marlon\", \"Crafford\"),\n",
    "    ]\n",
    "    cursor = connection.cursor()\n",
    "    cursor.executemany(insert_revisores_query, registros_revisores)\n",
    "    connection.commit()\n",
    "except Error as e:\n",
    "    print(e)"
   ]
  },
  {
   "cell_type": "markdown",
   "id": "9f5862da",
   "metadata": {},
   "source": [
    "No script acima, você passa a consulta e a lista de registros como argumentos para **executemany()**. Esses registros podem ter sido obtidos de um arquivo ou do usuário e armazenados na lista **registros_revisores**.\n",
    "\n",
    "O código usa **%s** como um espaço reservado para as duas strings que tiveram que ser inseridas em **insert_revisores_query**. Os marcadores de posição atuam como especificadores de formato e ajudam a reservar um lugar para uma variável dentro de uma string. A variável especificada é então adicionada a este local durante a execução.\n",
    "\n",
    "Da mesma forma, você pode usar **executemany()** para inserir registros na tabela de avaliacoes:"
   ]
  },
  {
   "cell_type": "code",
   "execution_count": 37,
   "id": "5f9ffc54",
   "metadata": {},
   "outputs": [],
   "source": [
    "try: \n",
    "    connection = connect(host=\"localhost\", user=user, password=password, database=\"avaliacoes_filmes\")\n",
    "    insert_avaliacoes_query = \"\"\"\n",
    "    INSERT INTO avaliacoes\n",
    "    (avaliacao, filme_id, revisor_id)\n",
    "    VALUES (%s, %s, %s)\n",
    "    \"\"\"\n",
    "    registros_avaliacoes = [\n",
    "        (6.4, 1, 5), (5.6, 2, 1), (6.3, 3, 14), (5.1, 4, 17),\n",
    "        (5.0, 5, 5), (6.5, 6, 5), (8.5, 7, 13), (9.7, 8, 4),\n",
    "        (8.5, 9, 12), (9.9, 10, 9), (8.7, 11, 14), (9.9, 12, 10),\n",
    "        (5.1, 13, 6), (5.4, 14, 16), (6.2, 15, 20), (7.3, 16, 19)\n",
    "    ]\n",
    "    cursor = connection.cursor()\n",
    "    cursor.executemany(insert_avaliacoes_query, registros_avaliacoes)\n",
    "    connection.commit()\n",
    "except Error as e:\n",
    "    print(e)"
   ]
  },
  {
   "cell_type": "markdown",
   "id": "aa817bae",
   "metadata": {},
   "source": [
    "Todas as três tabelas agora são preenchidas com dados. Agora você tem um banco de dados de **avaliações de filmes** totalmente funcional. A próxima etapa é entender como interagir com esse banco de dados."
   ]
  },
  {
   "cell_type": "markdown",
   "id": "172416f6",
   "metadata": {},
   "source": [
    "### Lendo Registros do Banco de Dados\n",
    "\n",
    "Até agora, você construiu seu banco de dados. Agora é hora de realizar algumas consultas nele e encontrar algumas propriedades interessantes deste conjunto de dados. Nesta seção, você aprenderá a ler registros de tabelas de banco de dados usando a instrução [SELECT](https://dev.mysql.com/doc/refman/8.0/en/select.html).\n",
    "\n",
    "#### Lendo Registros usando a Instrução SELECT\n",
    "\n",
    "Para recuperar registros, você precisa enviar uma consulta **SELECT** para **cursor.execute()**. Em seguida, você usa **cursor.fetchall()** para extrair a tabela recuperada na forma de uma lista de linhas ou registros.\n",
    "\n",
    "Tente escrever uma consulta MySQL para selecionar todos os registros da tabela de filmes e enviá-la para **execute()**:"
   ]
  },
  {
   "cell_type": "code",
   "execution_count": 39,
   "id": "87391acf",
   "metadata": {},
   "outputs": [
    {
     "name": "stdout",
     "output_type": "stream",
     "text": [
      "(1, 'Forrest Gump', 1994, 'Drama')\n",
      "(2, 'Gladiator', 2000, 'Action')\n",
      "(3, 'Titanic', 1997, 'Romance')\n",
      "(4, 'The Godfather', 1972, 'Crime')\n",
      "(5, 'Inception', 2010, 'Adventure')\n"
     ]
    }
   ],
   "source": [
    "try: \n",
    "    connection = connect(host=\"localhost\", user=user, password=password, database=\"avaliacoes_filmes\")\n",
    "    select_filmes_query = \"SELECT * FROM filmes LIMIT 5\"\n",
    "    cursor = connection.cursor()\n",
    "    cursor.execute(select_filmes_query)\n",
    "    result = cursor.fetchall()\n",
    "    for row in result:\n",
    "        print(row)\n",
    "except Error as e:\n",
    "    print(e)"
   ]
  },
  {
   "cell_type": "markdown",
   "id": "04756c27",
   "metadata": {},
   "source": [
    "A variável de **result** contém os registros retornados do uso de **fetchall()**. É uma lista de tuplas que representam registros individuais da tabela.\n",
    "\n",
    "Na consulta acima, você usa a cláusula **LIMIT** para restringir o número de linhas que são recebidas da instrução **SELECT**. Os desenvolvedores geralmente usam LIMIT para executar a paginação ao lidar com grandes volumes de dados.\n",
    "\n",
    "No MySQL, a cláusula **LIMIT** aceita um ou dois argumentos numéricos não negativos. Ao usar um argumento, você especifica o número máximo de linhas a serem retornadas. Como sua consulta inclui **LIMIT** 5, apenas os 5 primeiros registros são buscados.\n",
    "\n",
    "Ao usar os dois argumentos, você também pode especificar o **offset** da primeira linha a ser retornada:\n",
    "\n",
    "```sql\n",
    "SELECT * FROM movies LIMIT 2,5;\n",
    "```\n",
    "\n",
    "O primeiro argumento especifica um deslocamento de 2 e o segundo argumento restringe o número de linhas retornadas a 5. A consulta acima retornará as linhas 3 a 7.\n",
    "\n",
    "Você também pode consultar apenas as colunas que deseja selecionar:"
   ]
  },
  {
   "cell_type": "code",
   "execution_count": 41,
   "id": "2782eb5f",
   "metadata": {},
   "outputs": [
    {
     "name": "stdout",
     "output_type": "stream",
     "text": [
      "('Titanic', 1997)\n",
      "('The Godfather', 1972)\n",
      "('Inception', 2010)\n",
      "('Pulp Fiction', 1994)\n",
      "('The Matrix', 1999)\n"
     ]
    }
   ],
   "source": [
    "try: \n",
    "    connection = connect(host=\"localhost\", user=user, password=password, database=\"avaliacoes_filmes\")\n",
    "    select_filmes_query = \"SELECT titulo, ano_lancamento FROM filmes LIMIT 2,5\"\n",
    "    cursor = connection.cursor()\n",
    "    cursor.execute(select_filmes_query)\n",
    "    result = cursor.fetchall()\n",
    "    for row in result:\n",
    "        print(row)\n",
    "except Error as e:\n",
    "    print(e)"
   ]
  },
  {
   "cell_type": "markdown",
   "id": "e43317b2",
   "metadata": {},
   "source": [
    "Agora, o código emite valores apenas das duas colunas especificadas: **titulo** e **ano_lancamento**."
   ]
  },
  {
   "cell_type": "markdown",
   "id": "469aef5f",
   "metadata": {},
   "source": [
    "#### Filtrando Resultados usando a Cláusula WHERE\n",
    "\n",
    "Você pode filtrar os registros da tabela por critérios específicos usando a cláusula **WHERE**. \n",
    "\n",
    "Por exemplo, para recuperar todos os filmes que foram lançados depois dos anos 90, você pode executar a seguinte consulta:\n",
    "\n",
    "```sql\n",
    "SELECT titulo, ano_lancamento\n",
    "FROM filmes\n",
    "WHERE ano_lancamento > 1990;\n",
    "```\n",
    "\n",
    "Você também pode usar a cláusula **ORDER BY** na última consulta para ordenar os resultados do maior para o menor ano:"
   ]
  },
  {
   "cell_type": "code",
   "execution_count": 42,
   "id": "d9eda1c7",
   "metadata": {},
   "outputs": [
    {
     "name": "stdout",
     "output_type": "stream",
     "text": [
      "('Inception', 2010)\n",
      "('Gladiator', 2000)\n",
      "('The Matrix', 1999)\n",
      "('The Thirteenth Floor', 1999)\n",
      "('Dark City', 1998)\n",
      "('The Truman Show', 1998)\n",
      "('Titanic', 1997)\n",
      "('Johnny Mnemonic', 1995)\n",
      "('Forrest Gump', 1994)\n",
      "('Pulp Fiction', 1994)\n"
     ]
    }
   ],
   "source": [
    "try: \n",
    "    connection = connect(host=\"localhost\", user=user, password=password, database=\"avaliacoes_filmes\")\n",
    "    select_filmes_query = \"\"\"\n",
    "    SELECT titulo, ano_lancamento\n",
    "    FROM filmes\n",
    "    WHERE ano_lancamento > 1990\n",
    "    ORDER BY ano_lancamento DESC\n",
    "    \"\"\"\n",
    "    cursor = connection.cursor()\n",
    "    cursor.execute(select_filmes_query)\n",
    "    for filme in cursor.fetchall():\n",
    "        print(filme)\n",
    "except Error as e:\n",
    "    print(e)"
   ]
  },
  {
   "cell_type": "markdown",
   "id": "07d58609",
   "metadata": {},
   "source": [
    "O MySQL oferece uma infinidade de [operações de formatação de strings](https://dev.mysql.com/doc/refman/8.0/en/string-functions.html) como **CONCAT** para concatenar strings. Freqüentemente, os sites mostram o título do filme junto com o ano de lançamento para evitar confusão. Para recuperar os títulos dos cinco filmes mais recentes, concatenados com seus gêneros, você pode escrever a seguinte consulta:"
   ]
  },
  {
   "cell_type": "code",
   "execution_count": 44,
   "id": "fd2bfa42",
   "metadata": {},
   "outputs": [
    {
     "name": "stdout",
     "output_type": "stream",
     "text": [
      "('Inception (2010)', 'Adventure')\n",
      "('Gladiator (2000)', 'Action')\n",
      "('The Thirteenth Floor (1999)', 'Science Fiction')\n",
      "('The Matrix (1999)', 'Cyberpunk')\n",
      "('Dark City (1998)', 'Science Fiction')\n"
     ]
    }
   ],
   "source": [
    "try: \n",
    "    connection = connect(host=\"localhost\", user=user, password=password, database=\"avaliacoes_filmes\")\n",
    "    select_filmes_query = \"\"\"\n",
    "    SELECT CONCAT(titulo, \" (\", ano_lancamento, \")\"), genero\n",
    "    FROM filmes\n",
    "    WHERE ano_lancamento > 1990\n",
    "    ORDER BY ano_lancamento DESC\n",
    "    LIMIT 5\n",
    "    \"\"\"\n",
    "    cursor = connection.cursor()\n",
    "    cursor.execute(select_filmes_query)\n",
    "    for filme in cursor.fetchall():\n",
    "        print(filme)\n",
    "except Error as e:\n",
    "    print(e)"
   ]
  },
  {
   "cell_type": "markdown",
   "id": "059d6724",
   "metadata": {},
   "source": [
    "Se você não quiser usar a cláusula **LIMIT** e você não precisa buscar todos os registros, o objeto **cursor** também terá os métodos **fetchone()** e **fetchmany()**:\n",
    "\n",
    "- **fetchone()** recupera a próxima linha do resultado, como uma tupla, ou None se não houver mais linhas disponíveis.\n",
    "- **fetchmany()** recupera o próximo conjunto de linhas do resultado como uma lista de tuplas. Ele tem um argumento **size**, cujo padrão é 1, que você pode usar para especificar o número de linhas que precisa buscar. Se não houver mais linhas disponíveis, o método retornará uma lista vazia.\n",
    "\n",
    "Tente recuperar os títulos dos cinco filmes mais recentes concatenados com seus anos de lançamento e gênero novamente, mas desta vez use **fetchmany()**:"
   ]
  },
  {
   "cell_type": "code",
   "execution_count": 46,
   "id": "4b6c7cd6",
   "metadata": {},
   "outputs": [
    {
     "name": "stdout",
     "output_type": "stream",
     "text": [
      "('Inception (2010)', 'Adventure')\n",
      "('Gladiator (2000)', 'Action')\n",
      "('The Matrix (1999)', 'Cyberpunk')\n",
      "('The Thirteenth Floor (1999)', 'Science Fiction')\n",
      "('Dark City (1998)', 'Science Fiction')\n"
     ]
    }
   ],
   "source": [
    "try: \n",
    "    connection = connect(host=\"localhost\", user=user, password=password, database=\"avaliacoes_filmes\")\n",
    "    select_filmes_query = \"\"\"\n",
    "    SELECT CONCAT(titulo, \" (\", ano_lancamento, \")\"), genero\n",
    "    FROM filmes\n",
    "    WHERE ano_lancamento > 1990\n",
    "    ORDER BY ano_lancamento DESC\n",
    "    \"\"\"\n",
    "    cursor = connection.cursor()\n",
    "    cursor.execute(select_filmes_query)\n",
    "    for filme in cursor.fetchmany(size=5):\n",
    "        print(filme)\n",
    "    cursor.fetchall()\n",
    "except Error as e:\n",
    "    print(e)"
   ]
  },
  {
   "cell_type": "markdown",
   "id": "d7235091",
   "metadata": {},
   "source": [
    "O *output* com **fetchmany()** é semelhante ao que você recebeu quando usou a cláusula **LIMIT**. Você deve ter notado a chamada adicional **cursor.fetchall()** no final. Faça isso para limpar todos os resultados restantes que não foram lidos por **fetchmany()**.\n",
    "\n",
    "É necessário limpar todos os resultados não lidos antes de executar qualquer outra instrução na mesma conexão. Caso contrário, uma exceção InternalError: Unread result found será levantada."
   ]
  },
  {
   "cell_type": "markdown",
   "id": "cf16b842",
   "metadata": {},
   "source": [
    "#### Lidando com várias Tabelas usando a Instrução JOIN\n",
    "\n",
    "Se você achou as consultas na última seção bastante diretas, não se preocupe. Você pode tornar suas consultas **SELECT** tão complexas quanto desejar usando os mesmos métodos da última seção.\n",
    "\n",
    "Vejamos algumas consultas **JOIN** um pouco mais complexas. Se você deseja descobrir o nome dos cinco filmes mais bem avaliados em seu banco de dados, pode executar a seguinte consulta:"
   ]
  },
  {
   "cell_type": "code",
   "execution_count": 47,
   "id": "58ae67f9",
   "metadata": {},
   "outputs": [
    {
     "name": "stdout",
     "output_type": "stream",
     "text": [
      "('They Live', Decimal('9.90000'))\n",
      "('Brazil', Decimal('9.90000'))\n",
      "('Johnny Mnemonic', Decimal('9.70000'))\n",
      "('The Truman Show', Decimal('8.70000'))\n",
      "('The Matrix', Decimal('8.50000'))\n"
     ]
    }
   ],
   "source": [
    "try: \n",
    "    connection = connect(host=\"localhost\", user=user, password=password, database=\"avaliacoes_filmes\")\n",
    "    select_filmes_query = \"\"\"\n",
    "    SELECT titulo, AVG(avaliacao) as avaliacao_media\n",
    "    FROM avaliacoes\n",
    "    INNER JOIN filmes\n",
    "        ON filmes.id = avaliacoes.filme_id\n",
    "    GROUP BY filme_id\n",
    "    ORDER BY avaliacao_media DESC\n",
    "    LIMIT 5\n",
    "    \"\"\"\n",
    "    cursor = connection.cursor()\n",
    "    cursor.execute(select_filmes_query)\n",
    "    for filme in cursor.fetchall():\n",
    "        print(filme)\n",
    "except Error as e:\n",
    "    print(e)"
   ]
  },
  {
   "cell_type": "markdown",
   "id": "6124a6b7",
   "metadata": {},
   "source": [
    "Como mostrado acima, **They Live** e **Brazil** estão empatados como os filmes de melhor avaliação em seu banco de dados **avaliacoes_filmes**.\n",
    "\n",
    "Lembre que esses dados são apenas ilustrativos e não reais.\n",
    "\n",
    "Para encontrar o nome do revisor que deu mais avaliações, escreva a seguinte consulta:"
   ]
  },
  {
   "cell_type": "code",
   "execution_count": 48,
   "id": "c50cefd2",
   "metadata": {},
   "outputs": [
    {
     "name": "stdout",
     "output_type": "stream",
     "text": [
      "('Penny Hofstadter', 3)\n"
     ]
    }
   ],
   "source": [
    "try: \n",
    "    connection = connect(host=\"localhost\", user=user, password=password, database=\"avaliacoes_filmes\")\n",
    "    select_filmes_query = \"\"\"\n",
    "    SELECT CONCAT(nome, \" \", sobrenome), COUNT(*) as num\n",
    "    FROM revisores\n",
    "    INNER JOIN avaliacoes\n",
    "        ON revisores.id = avaliacoes.revisor_id\n",
    "    GROUP BY revisor_id\n",
    "    ORDER BY num DESC\n",
    "    LIMIT 1\n",
    "    \"\"\"\n",
    "    cursor = connection.cursor()\n",
    "    cursor.execute(select_filmes_query)\n",
    "    for filme in cursor.fetchall():\n",
    "        print(filme)\n",
    "except Error as e:\n",
    "    print(e)"
   ]
  },
  {
   "cell_type": "markdown",
   "id": "2e5114d3",
   "metadata": {},
   "source": [
    "**Penny Hofstadter** é a revisora mais frequente neste banco de dados. Como visto acima, não importa o quão complicada seja a consulta, porque ela é, em última análise, tratada pelo servidor MySQL. Seu processo de execução de uma consulta sempre permanecerá o mesmo: passe a consulta para **cursor.execute()** e busque os resultados usando **fetchall()**."
   ]
  },
  {
   "cell_type": "markdown",
   "id": "00380bba",
   "metadata": {},
   "source": [
    "### Atualizando e Excluindo Registros do Banco de Dados\n",
    "\n",
    "Nesta seção, você atualizará e excluirá registros do banco de dados. Ambas as operações podem ser executadas em um único registro ou em vários registros da tabela. Você selecionará as linhas que precisam ser modificadas usando a cláusula **WHERE**."
   ]
  },
  {
   "cell_type": "markdown",
   "id": "cc98a626",
   "metadata": {},
   "source": [
    "#### Instrução UPDATE\n",
    "\n",
    "Uma das revisoras de seu banco de dados, Amy Farah Fowler, agora é casada com Sheldon Cooper. O sobrenome dela agora mudou para Cooper, então você precisa atualizar seu banco de dados de acordo. Para atualizar os registros, o MySQL usa a instrução **UPDATE**:"
   ]
  },
  {
   "cell_type": "code",
   "execution_count": 49,
   "id": "64977ec4",
   "metadata": {},
   "outputs": [],
   "source": [
    "try: \n",
    "    connection = connect(host=\"localhost\", user=user, password=password, database=\"avaliacoes_filmes\")\n",
    "    update_query = \"\"\"\n",
    "    UPDATE\n",
    "        revisores\n",
    "    SET\n",
    "        sobrenome = \"Cooper\"\n",
    "    WHERE\n",
    "        nome = \"Amy\"\n",
    "    \"\"\"\n",
    "    cursor = connection.cursor()\n",
    "    cursor.execute(update_query)\n",
    "    connection.commit()\n",
    "except Error as e:\n",
    "    print(e)"
   ]
  },
  {
   "cell_type": "markdown",
   "id": "5f685e1e",
   "metadata": {},
   "source": [
    "O código acima passa a consulta de atualização para **cursor.execute()** e **commit()** traz as alterações necessárias para a tabela **revisores**.\n",
    "\n",
    "**Observação**: Na consulta **UPDATE**, a cláusula **WHERE** ajuda a especificar os registros que precisam ser atualizados. Se você não usar **WHERE**, todos os registros serão atualizados!"
   ]
  },
  {
   "cell_type": "markdown",
   "id": "aea00590",
   "metadata": {},
   "source": [
    "#### Instrução DELETE\n",
    "\n",
    "A exclusão de registros funciona de forma muito semelhante à atualização de registros. Use a instrução **DELETE** para remover os registros selecionados.\n",
    "\n",
    "**Observação**: a exclusão é um processo irreversível. Se você não usar a cláusula **WHERE**, todos os registros da tabela especificada serão excluídos. Você precisará executar a consulta **INSERT INTO** novamente para recuperar os registros excluídos.\n",
    "\n",
    "É recomendável que você primeiro execute uma consulta **SELECT** com o mesmo filtro para certificar-se de que está excluindo os registros corretos. Por exemplo, para remover todas as avaliações fornecidas por `revisor_id = 5`, você deve primeiro executar a consulta **SELECT** correspondente:"
   ]
  },
  {
   "cell_type": "code",
   "execution_count": 74,
   "id": "522c7075",
   "metadata": {},
   "outputs": [
    {
     "name": "stdout",
     "output_type": "stream",
     "text": [
      "(5, 1)\n",
      "(5, 5)\n",
      "(5, 6)\n"
     ]
    }
   ],
   "source": [
    "try: \n",
    "    connection = connect(host=\"localhost\", user=user, password=password, database=\"avaliacoes_filmes\")\n",
    "    select_movies_query = \"\"\"\n",
    "    SELECT revisor_id, filme_id FROM avaliacoes\n",
    "    WHERE revisor_id = 5\n",
    "    \"\"\"\n",
    "    cursor = connection.cursor()\n",
    "    cursor.execute(select_movies_query)\n",
    "    for filme in cursor.fetchall():\n",
    "        print(filme)\n",
    "except Error as e:\n",
    "    print(e)"
   ]
  },
  {
   "cell_type": "markdown",
   "id": "e9ae8885",
   "metadata": {},
   "source": [
    "O trecho de código acima gera o **revisor_id** e o **filme_id** para registros na tabela de **avaliações**, onde `revisor_id = 5`. Depois de confirmar que esses são os registros que você precisa excluir, você pode executar uma consulta **DELETE** com o mesmo filtro:"
   ]
  },
  {
   "cell_type": "code",
   "execution_count": 75,
   "id": "a0d1b2f4",
   "metadata": {},
   "outputs": [],
   "source": [
    "try: \n",
    "    connection = connect(host=\"localhost\", user=user, password=password, database=\"avaliacoes_filmes\")\n",
    "    delete_query = \"\"\"\n",
    "    DELETE FROM avaliacoes WHERE revisor_id = 5\n",
    "    \"\"\"\n",
    "    cursor = connection.cursor()\n",
    "    cursor.execute(delete_query)\n",
    "    connection.commit()\n",
    "except Error as e:\n",
    "    print(e)"
   ]
  },
  {
   "cell_type": "markdown",
   "id": "a56ff54c",
   "metadata": {},
   "source": [
    "Com esta consulta, você remove todas as avaliações feitas pelo revisor com `revisor_id = 5` da tabela de **avaliações**.\n",
    "\n",
    "Podemos confirmar que elas se foram com uma novamente consulta **SELECT**:"
   ]
  },
  {
   "cell_type": "code",
   "execution_count": 76,
   "id": "d854248b",
   "metadata": {},
   "outputs": [],
   "source": [
    "try: \n",
    "    connection = connect(host=\"localhost\", user=user, password=password, database=\"avaliacoes_filmes\")\n",
    "    select_movies_query = \"\"\"\n",
    "    SELECT revisor_id, filme_id FROM avaliacoes\n",
    "    WHERE revisor_id = 5\n",
    "    \"\"\"\n",
    "    cursor = connection.cursor()\n",
    "    cursor.execute(select_movies_query)\n",
    "    for filme in cursor.fetchall():\n",
    "        print(filme)\n",
    "except Error as e:\n",
    "    print(e)"
   ]
  },
  {
   "cell_type": "markdown",
   "id": "9351aaa8",
   "metadata": {},
   "source": [
    "Neste tutorial, você viu como usar o MySQL Connector/Python para integrar um banco de dados MySQL ao seu aplicativo Python.\n",
    "\n",
    "Para mais detalhes, cheque as referências. Bons estudos!"
   ]
  },
  {
   "cell_type": "markdown",
   "id": "ff3d0c30",
   "metadata": {},
   "source": [
    "## Referências\n",
    "\n",
    "- [Python-MySQL](https://realpython.com/python-mysql/)\n",
    "- [Python MySQL](https://www.w3schools.com/python/python_mysql_getstarted.asp)"
   ]
  }
 ],
 "metadata": {
  "kernelspec": {
   "display_name": "Python 3",
   "language": "python",
   "name": "python3"
  },
  "language_info": {
   "codemirror_mode": {
    "name": "ipython",
    "version": 3
   },
   "file_extension": ".py",
   "mimetype": "text/x-python",
   "name": "python",
   "nbconvert_exporter": "python",
   "pygments_lexer": "ipython3",
   "version": "3.7.10"
  }
 },
 "nbformat": 4,
 "nbformat_minor": 5
}
