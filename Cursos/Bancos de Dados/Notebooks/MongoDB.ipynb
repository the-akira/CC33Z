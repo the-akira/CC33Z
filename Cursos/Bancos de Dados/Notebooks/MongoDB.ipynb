{
 "cells": [
  {
   "cell_type": "markdown",
   "id": "d1d1c6f3",
   "metadata": {},
   "source": [
    "# Python e MongoDB\n",
    "\n",
    "**[MongoDB](https://www.mongodb.com/what-is-mongodb)** é uma solução de banco de dados [NoSQL](https://en.wikipedia.org/wiki/NoSQL) e [orientada a documentos](https://en.wikipedia.org/wiki/Document-oriented_database) que oferece grande escalabilidade e flexibilidade junto com um sistema de consulta poderoso. Com MongoDB e Python, você pode desenvolver muitos tipos diferentes de aplicativos de banco de dados rapidamente. Portanto, se seu aplicativo Python precisa de um banco de dados que seja tão flexível quanto a própria linguagem, o MongoDB é para você.\n",
    "\n",
    "## Bancos de Dados SQL vs NoSQL\n",
    "\n",
    "Por décadas, os bancos de dados SQL foram uma das únicas opções para desenvolvedores que buscavam construir sistemas de banco de dados grandes e escaláveis. No entanto, a necessidade crescente de armazenar estruturas de dados complexas levou ao nascimento de bancos de dados NoSQL. Esse novo tipo de sistema de banco de dados permite que os desenvolvedores armazenem dados heterogêneos e sem estrutura de maneira eficiente.\n",
    "\n",
    "Em geral, os sistemas de banco de dados NoSQL armazenam e recuperam dados de uma maneira muito diferente dos [sistemas de gerenciamento de banco de dados relacional](https://en.wikipedia.org/wiki/Relational_database#RDBMS) SQL.\n",
    "\n",
    "Quando se trata de escolher entre as tecnologias de banco de dados disponíveis atualmente, você pode precisar decidir entre usar sistemas SQL ou NoSQL. Ambos possuem características específicas que você deve considerar ao escolher um ou outro. Aqui estão algumas de suas diferenças mais substanciais:\n",
    "\n",
    "| Propriedade  | Bancos de Dados SQL | Bancos de Dados NoSQL |\n",
    "|---|---|---|\n",
    "| Modelo de dados | Relacional  | Não-relacional  |\n",
    "| Estrutura | Baseado em tabela, com colunas e linhas  | Com base em documento, pares de valores-chave, grafo ou coluna larga  |\n",
    "| Schema | Um esquema predefinido e rígido em que cada registro (linha) é da mesma natureza e possui as mesmas propriedades  | Um esquema dinâmico ou sem esquema, o que significa que os registros não precisam ser da mesma natureza  |\n",
    "| Query Language | Structured Query Language (SQL)\t| Varia de banco de dados para banco de dados  |\n",
    "| Escalabilidade | Vertical  | Horizontal  |\n",
    "| Transações [ACID](https://en.wikipedia.org/wiki/ACID) | Suportado  | Suportado, dependendo do banco de dados NoSQL específico  |\n",
    "| Habilidade de adicionar novas propriedades  | Precisa alterar o esquema primeiro  | Possível sem atrapalhar nada  |\n",
    "\n",
    "Existem muitas outras diferenças entre os dois tipos de banco de dados, mas aqueles mencionados acima são alguns dos mais importantes para conhecer.\n",
    "\n",
    "Ao escolher um banco de dados, você deve considerar seus pontos fortes e fracos com cuidado. Você também precisa considerar como o banco de dados se encaixa em seu cenário específico e nos requisitos de seu aplicativo. Às vezes, a solução certa é usar uma combinação de bancos de dados SQL e NoSQL para lidar com diferentes aspectos de um sistema mais amplo.\n",
    "\n",
    "Alguns exemplos comuns de bancos de dados SQL incluem:\n",
    "\n",
    "- [SQLite](https://www.sqlite.org/docs.html)\n",
    "- [MySQL](https://www.xplenty.com/integrations/mysql/)\n",
    "- [Oracle](https://www.xplenty.com/integrations/oracle/)\n",
    "- [PostgreSQL](https://www.xplenty.com/integrations/postgresql/)\n",
    "- [Microsoft SQL Server](https://www.xplenty.com/integrations/microsoft-sql-server/)\n",
    "\n",
    "Os exemplos de banco de dados NoSQL incluem:\n",
    "\n",
    "- [DynamoDB](https://aws.amazon.com/dynamodb/)\n",
    "- [Cassandra](https://cassandra.apache.org/doc/latest/)\n",
    "- [Redis](https://realpython.com/python-redis/)\n",
    "- [CouchDB](https://couchdb.apache.org/#about)\n",
    "- [RethinkDB](https://rethinkdb.com/faq)\n",
    "- [RavenDB](https://ravendb.net/about)\n",
    "- [MongoDB](https://www.xplenty.com/integrations/mongodb/)\n",
    "\n",
    "Nos últimos anos, os bancos de dados SQL e NoSQL começaram a se fundir. Por exemplo, sistemas de banco de dados, como [PostgreSQL](https://www.postgresql.org/docs/9.2/datatype-json.html), [MySQL](https://dev.mysql.com/doc/refman/5.7/en/json.html) e [Microsoft SQL Server](https://docs.microsoft.com/en-us/sql/relational-databases/json/json-data-sql-server?redirectedfrom=MSDN&view=sql-server-ver15) agora oferecem suporte ao armazenamento e consulta de dados [JSON](https://en.wikipedia.org/wiki/JSON), bem como bancos de dados NoSQL. Com isso, agora você pode obter muitos dos mesmos resultados com as duas tecnologias. Mas você ainda não obtém muitos dos recursos do NoSQL, como dimensionamento horizontal e interface amigável."
   ]
  },
  {
   "cell_type": "markdown",
   "id": "b3dbc7e7",
   "metadata": {},
   "source": [
    "## Gerenciando Bancos de Dados NoSQL com MongoDB\n",
    "\n",
    "**MongoDB** é um banco de dados **orientado a documentos** classificado como **NoSQL**. Tornou-se popular em todo o setor nos últimos anos e se integra extremamente bem ao Python. Ao contrário dos sistemas de gerenciamento de banco de dados relacionais tradicionais SQL, o MongoDB usa **coleções** de **documentos** em vez de **tabelas** de **linhas** para organizar e armazenar dados.\n",
    "\n",
    "O MongoDB armazena dados em documentos semelhantes a **JSON** flexíveis e sem esquema. Aqui, sem esquema significa que você pode ter documentos com um conjunto diferente de campos na mesma coleção, sem a necessidade de satisfazer um esquema de tabela rígido.\n",
    "\n",
    "Você pode alterar a estrutura de seus documentos e dados ao longo do tempo, o que resulta em um sistema flexível que permite que você se adapte rapidamente às mudanças de requisitos sem a necessidade de um processo complexo de migração de dados. No entanto, a desvantagem de alterar a estrutura de novos documentos é que os documentos existentes tornam-se inconsistentes com o esquema atualizado. Então esse é um assunto que precisa ser tratado com cuidado.\n",
    "\n",
    "**Observação**: JSON significa **JavaScript Object Notation**. É um formato de arquivo com uma estrutura legível por humanos que consiste em pares de valores-chave que podem ser aninhados de forma arbitrária, ele é compatível com a maioria das linguagens de programação.\n",
    "\n",
    "O MongoDB é escrito em [C++](https://www.cplusplus.com/) e [desenvolvido](https://github.com/mongodb/mongo) ativamente pela [MongoDB Inc](https://www.mongodb.com/company). Ele é executado em todas as principais plataformas, como macOS, Windows, Solaris e na maioria das distribuições Linux. Em geral, existem três objetivos de desenvolvimento principais por trás do banco de dados MongoDB:\n",
    "\n",
    "1. Escala bem\n",
    "2. Armazene estruturas de dados ricas\n",
    "3. Fornece um mecanismo de consulta sofisticado\n",
    "\n",
    "O MongoDB é um banco de dados distribuído, portanto, alta disponibilidade, escala horizontal e distribuição geográfica são incorporados ao sistema. Ele armazena dados em documentos flexíveis do tipo JSON. Você pode modelar esses documentos para mapear os objetos em seus aplicativos, o que torna possível trabalhar com seus dados de forma eficaz.\n",
    "\n",
    "O MongoDB fornece uma [linguagem de consulta](https://docs.mongodb.com/manual/introduction/#rich-query-language) poderosa que suporta consultas ad hoc, [indexação](https://docs.mongodb.com/manual/indexes/), [agregação](https://docs.mongodb.com/manual/aggregation/), [pesquisa geoespacial](https://docs.mongodb.com/manual/tutorial/geospatial-tutorial/), [pesquisa de texto](https://docs.mongodb.com/manual/text-search/) e muito mais. Isso apresenta a você um kit de ferramentas poderoso para acessar e trabalhar com seus dados. Por fim, o MongoDB está disponível gratuitamente e tem excelente [suporte para Python](https://docs.mongodb.com/drivers/python/)."
   ]
  },
  {
   "cell_type": "markdown",
   "id": "dc8ec9ea",
   "metadata": {},
   "source": [
    "## Revisando as Características do MongoDB\n",
    "\n",
    "Quanto ao lado do gerenciamento de banco de dados, o MongoDB oferece os seguintes recursos:\n",
    "\n",
    "- **Suporte de consulta**: você pode usar muitos tipos de consulta padrão, como correspondência (==), comparação (<,>) e [expressões regulares](https://realpython.com/regex-python/).\n",
    "- **Acomodação de dados**: você pode armazenar praticamente qualquer tipo de dados, sejam estruturados, parcialmente estruturados ou até polimórficos.\n",
    "- **Escalabilidade**: lida com mais consultas apenas adicionando mais máquinas ao cluster de servidor.\n",
    "- **Flexibilidade e agilidade**: você pode desenvolver aplicativos com ele rapidamente.\n",
    "- **Orientação do documento e ausência de esquema**: você pode armazenar todas as informações sobre um modelo de dados em um único documento.\n",
    "- **Esquema ajustável**: você pode alterar o esquema do banco de dados em tempo real, o que reduz o tempo necessário para fornecer novos recursos ou corrigir problemas existentes.\n",
    "- **Funcionalidades do banco de dados relacional**: você pode executar ações comuns aos bancos de dados relacionais, como indexação.\n",
    "\n",
    "Quanto ao lado das operações, o MongoDB fornece algumas ferramentas e recursos que você não encontrará em outros sistemas de banco de dados:\n",
    "\n",
    "- **Escalabilidade**: Se você precisa de um servidor autônomo ou clusters completos de servidores independentes, você pode dimensionar o MongoDB para qualquer tamanho que você precisar.\n",
    "- **Suporte ao balanceamento de carga**: o MongoDB moverá dados automaticamente entre vários *shards*.\n",
    "- **Suporte a failover automático**: se o seu servidor primário cair, um novo primário será ativado e executado automaticamente.\n",
    "- **Ferramentas de gerenciamento**: você pode rastrear suas máquinas usando o MongoDB Management Service (MMS) baseado em nuvem.\n",
    "- **Eficiência de memória**: graças aos arquivos mapeados por memória, o MongoDB costuma ser mais eficiente do que bancos de dados relacionais.\n",
    "\n",
    "Todos esses recursos são bastante úteis. Por exemplo, se você tirar proveito do recurso de indexação, muitos dos seus dados serão mantidos na memória para recuperação rápida. Mesmo sem indexar chaves de documentos específicas, o MongoDB armazena em cache uma boa quantidade de dados usando a técnica [least recently used](https://realpython.com/lru-cache-python/)."
   ]
  },
  {
   "cell_type": "markdown",
   "id": "9ccbb167",
   "metadata": {},
   "source": [
    "## Instalando e Rodando MongoDB\n",
    "\n",
    "O site oficial do MongoDB oferece duas edições do servidor de banco de dados:\n",
    "\n",
    "1. A [edição da comunidade](https://docs.mongodb.com/manual/installation/#mongodb-community-edition-installation-tutorials) oferece o modelo de documento flexível junto com consultas ad hoc, indexação e agregação em tempo real para fornecer maneiras poderosas de acessar e analisar seus dados. Esta edição está disponível gratuitamente.\n",
    "2. A [edição corporativa](https://docs.mongodb.com/manual/installation/#mongodb-enterprise-edition-installation-tutorials) oferece os mesmos recursos da edição comunitária, além de outros recursos avançados relacionados à segurança e monitoramento. Esta é a edição comercial, mas você pode usá-la gratuitamente por tempo ilimitado para fins de avaliação e desenvolvimento.\n",
    "\n",
    "### Windows\n",
    "\n",
    "Se você estiver no Windows, poderá ler o [tutorial de instalação](https://docs.mongodb.com/manual/tutorial/install-mongodb-enterprise-on-windows/) para obter instruções completas. Em geral, você pode ir para a [página de download](https://www.mongodb.com/try/download/enterprise), selecionar a plataforma Windows na caixa Downloads disponíveis, escolher o instalador **.msi** adequado ao seu sistema atual e clicar em *Download*.\n",
    "\n",
    "### macOS\n",
    "\n",
    "Se você estiver no macOS, poderá usar o [Homebrew](https://brew.sh/) para instalar o MongoDB em seu sistema. Consulte o [tutorial de instalação](https://docs.mongodb.com/manual/tutorial/install-mongodb-enterprise-on-os-x/) para obter o guia completo. Além disso, certifique-se de seguir as instruções para executar o MongoDB como um serviço macOS.\n",
    "\n",
    "### Linux\n",
    "\n",
    "Se você estiver no Linux, o processo de instalação dependerá de sua distribuição específica. Para obter um guia detalhado sobre como instalar o MongoDB em diferentes sistemas Linux, vá para a [página do tutorial](https://docs.mongodb.com/manual/installation/#mongodb-enterprise-edition-installation-tutorials) de instalação e selecione o tutorial que corresponde ao seu sistema operacional atual. Certifique-se de executar o daemon MongoDB, **mongod**, no final da instalação.\n",
    "\n",
    "### Docker\n",
    "\n",
    "Por fim, você também pode instalar o MongoDB usando o [Docker](https://docs.docker.com/). Isso é útil se você não quiser sobrecarregar seu sistema com outra instalação. Se você preferir esta opção de instalação, você pode ler o [tutorial oficial](https://docs.mongodb.com/manual/tutorial/install-mongodb-enterprise-with-docker/) e seguir suas instruções. Observe que o conhecimento prévio de [como usar o Docker](https://realpython.com/tutorials/docker/) seria necessário neste caso.\n",
    "\n",
    "### Mongo Shell\n",
    "\n",
    "Com o banco de dados MongoDB instalado e em execução em seu sistema, você pode começar a trabalhar com bancos de dados reais usando o **mongo** shell."
   ]
  },
  {
   "cell_type": "markdown",
   "id": "8c475631",
   "metadata": {},
   "source": [
    "## Criando Bancos de Dados MongoDB com o **mongo** Shell\n",
    "\n",
    "Nesta seção, você aprenderá como usar o [mongo](https://docs.mongodb.com/manual/reference/program/mongo/#bin.mongo) shell para criar, ler, atualizar e excluir documentos em um banco de dados.\n",
    "\n",
    "### Rodando o **mongo** Shell\n",
    "\n",
    "O mongo shell é uma interface [JavaScript](https://www.w3schools.com/js/) interativa para MongoDB. Você pode usar esta ferramenta para consultar e manipular seus dados, bem como para realizar operações administrativas. Por ser uma interface JavaScript, você não usará a conhecida linguagem SQL para consultar o banco de dados. Em vez disso, você usará o código JavaScript.\n",
    "\n",
    "Para executar o **mongo** shell, primeiro devemos iniciar servidor do MongoDB, para isso, execute o seguinte comando:\n",
    "\n",
    "```\n",
    "mongod\n",
    "```\n",
    "\n",
    "Você pode confirmar se ele está rodando com sucesso usando a ferramenta [netstat](https://en.wikipedia.org/wiki/Netstat):\n",
    "\n",
    "```\n",
    "netstat -an | grep 27017\n",
    "```\n",
    "\n",
    "É comum o MongoDB usar a porta **27017**. Para iniciar o mongo shell, abra seu terminal ou linha de comando e execute o seguinte comando:\n",
    "\n",
    "```\n",
    "mongo\n",
    "```\n",
    "\n",
    "Este comando leva você ao mongo shell. Neste ponto, você provavelmente verá um monte de mensagens com informações sobre a versão do shell e sobre o endereço e **porta** do **servidor**. Finalmente, você verá o prompt do shell (**>**) para inserir consultas e comandos.\n",
    "\n",
    "Você pode passar o endereço do banco de dados como um argumento para o comando mongo. Você também pode usar várias opções, como especificar o host e a porta para acessar um banco de dados remoto e assim por diante. Para obter mais detalhes sobre como usar o comando mongo, você pode executar `mongo --help`."
   ]
  },
  {
   "cell_type": "markdown",
   "id": "7e96f47c",
   "metadata": {},
   "source": [
    "### Estabelecendo uma Conexão\n",
    "\n",
    "Quando você executa o comando mongo sem argumentos, ele inicia o shell e se conecta ao servidor local padrão fornecido pelo processo mongod em **mongod://127.0.0.1:27017**. Isso significa que você está conectado ao host local por meio da porta **27017**.\n",
    "\n",
    "Por padrão, o mongo shell inicia a sessão estabelecendo uma conexão com o banco de dados **test**. Você pode acessar o banco de dados atual por meio do objeto **db**:\n",
    "\n",
    "``` \n",
    "> db\n",
    "test\n",
    "```\n",
    "\n",
    "Nesse caso, **db** contém uma referência para **test**, que é o banco de dados padrão. Para trocar de banco de dados, emita o comando **use**, fornecendo um nome de banco de dados como argumento.\n",
    "\n",
    "Por exemplo, digamos que você deseja criar um site para publicar conteúdo Python e está planejando usar o MongoDB para armazenar seus tutoriais e artigos. Nesse caso, você pode alternar para o banco de dados do site com o seguinte comando:\n",
    "\n",
    "```\n",
    "> use tutoriais\n",
    "switched to db tutoriais\n",
    "```\n",
    "\n",
    "Este comando muda sua conexão para o banco de dados **tutoriais**. O MongoDB não cria o arquivo de banco de dados físico no sistema de arquivos até que você insira dados reais no banco de dados. Portanto, neste caso, **tutoriais** não aparecerão em sua lista de banco de dados atual:\n",
    "\n",
    "```\n",
    "show dbs\n",
    "admin           0.000GB\n",
    "banco_de_dados  0.000GB\n",
    "config          0.000GB\n",
    "local           0.000GB\n",
    "```\n",
    "\n",
    "O mongo shell oferece muitos recursos e opções. Ele permite que você consulte e manipule seus dados e também gerencie o próprio servidor de banco de dados.\n",
    "\n",
    "Em vez de usar uma linguagem de consulta padronizada, como SQL, o mongo shell usa a linguagem de programação JavaScript e uma [API](https://en.wikipedia.org/wiki/API) amigável. Esta API permite que você brinque com seus dados."
   ]
  },
  {
   "cell_type": "markdown",
   "id": "da4b107d",
   "metadata": {},
   "source": [
    "### Criando Coleções e Documentos\n",
    "\n",
    "Um banco de dados MongoDB é um contêiner físico para **coleções** de **documentos**. Cada banco de dados obtém seu próprio conjunto de arquivos no sistema de arquivos. Esses arquivos são gerenciados pelo servidor MongoDB, que pode lidar com vários bancos de dados.\n",
    "\n",
    "No MongoDB, uma **coleção** é um grupo de **documentos**. As coleções são um tanto análogas às tabelas em um [RDBMS](https://www.codecademy.com/articles/what-is-rdbms-sql) tradicional, mas sem impor um esquema rígido. Em teoria, cada documento em uma coleção pode ter uma estrutura ou conjunto de campos completamente diferente.\n",
    "\n",
    "Na prática, os documentos em uma coleção geralmente compartilham uma estrutura semelhante para permitir processos uniformes de recuperação, inserção e atualização. Você pode impor uma estrutura de documento uniforme usando [regras de validação de documento](https://docs.mongodb.com/manual/core/schema-validation/) durante atualizações e inserções.\n",
    "\n",
    "Permitir diferentes estruturas de documentos é um recurso-chave das coleções do MongoDB. Esse recurso oferece flexibilidade e permite adicionar novos campos a documentos sem a necessidade de modificar um esquema de tabela formal.\n",
    "\n",
    "Para criar uma coleção usando o mongo shell, você precisa apontar **db** para seu banco de dados de destino e, em seguida, criar as coleções usando a **notação de ponto**:\n",
    "\n",
    "```\n",
    "> use tutoriais\n",
    "switched to db tutoriais\n",
    "> db\n",
    "tutoriais\n",
    "> db.tutorial\n",
    "tutoriais.tutoria\n",
    "```\n",
    "\n",
    "Neste exemplo, você usa a **notação de ponto** para criar **tutorial** como uma coleção em **tutoriais**, que é seu banco de dados atual. É importante observar que o MongoDB cria bancos de dados e coleções **lazily**. Em outras palavras, eles são criados fisicamente somente depois que você insere o primeiro documento.\n",
    "\n",
    "Depois de ter um **banco de dados** e uma **coleção**, você pode começar a inserir **documentos**. \n",
    "\n",
    "Os documentos são a unidade de armazenamento no MongoDB. Em um RDBMS, isso seria equivalente a uma linha da tabela. No entanto, os documentos do MongoDB são muito mais versáteis do que as linhas porque podem armazenar informações complexas, como [arrays](https://en.wikipedia.org/wiki/Array_data_structure), documentos incorporados e até mesmo arrays de documentos.\n",
    "\n",
    "O MongoDB armazena documentos em um formato chamado Binary JSON ([BSON](https://docs.mongodb.com/manual/reference/glossary/#term-bson)), que é uma representação binária de JSON. Os documentos do MongoDB são compostos de pares de **campo** e **valor** e têm a seguinte estrutura:\n",
    "\n",
    "```\n",
    "{\n",
    "   campo1 → valor1,\n",
    "   campo2 → valor2,\n",
    "   campo3 → valor3,\n",
    "   ...\n",
    "   campoN → valorN\n",
    "}\n",
    "```\n",
    "\n",
    "O valor de um campo pode ser qualquer tipo de dados BSON, incluindo outros documentos, arrays e arrays de documentos. Na prática, você especificará seus documentos usando o formato JSON.\n",
    "\n",
    "Quando você está construindo um aplicativo de banco de dados MongoDB, provavelmente sua decisão mais importante é sobre a estrutura dos documentos. Em outras palavras, você terá que decidir quais campos e valores seus documentos terão.\n",
    "\n",
    "No caso dos tutoriais para seu site Python, seus documentos podem ser estruturados assim:\n",
    "\n",
    "```json\n",
    "{\n",
    "    \"titulo\": \"Desenhando com o Módulo Python Turtle\",\n",
    "    \"autor\": \"Gabriel\",\n",
    "    \"contribuidores\": [\n",
    "        \"Rafael\",\n",
    "        \"Miguel\",\n",
    "        \"Ana\",\n",
    "        \"Maria\"\n",
    "    ],\n",
    "    \"url\": \"https://akiradev.netlify.app/posts/desenhando-turtle-python/\"\n",
    "}\n",
    "```\n",
    "\n",
    "Um documento é essencialmente um conjunto de **nomes de propriedades** e seus **valores**. Os valores podem ser tipos de dados simples, como strings e números, mas também podem ser arrays, como contribuidores no exemplo acima.\n",
    "\n",
    "O modelo de dados orientado a documentos do MongoDB naturalmente representa dados complexos como um único objeto. Isso permite que você trabalhe com objetos de dados holisticamente, sem a necessidade de olhar vários lugares ou tabelas.\n",
    "\n",
    "Se você estivesse usando um RDBMS tradicional para armazenar seus tutoriais, provavelmente teria uma tabela para armazenar seus tutoriais e outra tabela para armazenar seus contribuidores. Então você teria que configurar uma relação entre as duas tabelas para que pudesse recuperar os dados mais tarde."
   ]
  },
  {
   "cell_type": "markdown",
   "id": "2b4ee71b",
   "metadata": {},
   "source": [
    "### Trabalhando com Coleções e Documentos\n",
    "\n",
    "Até agora, você sabe o básico sobre como executar e usar o mongo shell. Você também sabe como criar seus próprios documentos usando o formato JSON. Agora é hora de aprender como **inserir documentos** em seu banco de dados MongoDB.\n",
    "\n",
    "Para inserir um documento em um banco de dados usando o mongo shell, primeiro você precisa **escolher uma coleção** e, em seguida, chamar **insertOne()** na coleção com o seu documento como argumento:\n",
    "\n",
    "```\n",
    "> db.tutorial.insertOne({\n",
    "    \"titulo\": \"Desenhando com o Módulo Python Turtle\",\n",
    "    \"autor\": \"Gabriel\",\n",
    "    \"contribuidores\": [\n",
    "        \"Rafael\",\n",
    "        \"Miguel\",\n",
    "        \"Ana\",\n",
    "        \"Maria\"\n",
    "    ],\n",
    "    \"url\": \"https://akiradev.netlify.app/posts/desenhando-turtle-python/\"\n",
    "})\n",
    "{\n",
    "\t\"acknowledged\" : true,\n",
    "\t\"insertedId\" : ObjectId(\"60b88bc0ac7064e0b3808b1c\")\n",
    "}\n",
    "```\n",
    "\n",
    "Com o primeiro comando, você alterna para o banco de dados que deseja usar. O segundo comando é uma chamada de método JavaScript que insere um documento simples na coleção selecionada, tutorial. Depois de pressionar `Enter`, você receberá uma mensagem na tela informando sobre o documento recém-inserido e seu **insertedId**.\n",
    "\n",
    "Assim como os bancos de dados relacionais precisam de uma chave primária para identificar com exclusividade cada linha em uma tabela, os documentos do MongoDB precisam ter um campo **_id** que identifica exclusivamente o documento. O MongoDB permite que você insira um **_id** personalizado, desde que você garanta sua exclusividade. No entanto, uma prática amplamente aceita é permitir que o MongoDB insira automaticamente um **_id** para você.\n",
    "\n",
    "Da mesma forma, você pode adicionar vários documentos de uma vez usando [insertMany()](https://docs.mongodb.com/manual/reference/method/db.collection.insertMany/#db.collection.insertMany):\n",
    "\n",
    "```\n",
    "> tutorial1 = {\n",
    "    \"titulo\": \"Introdução ao Desenvolvimento de Games 2D com PyGame\",\n",
    "    \"autor\": \"Gabriel\",\n",
    "    \"contribuidores\": [\n",
    "        \"Michel\",\n",
    "        \"Luiz\",\n",
    "        \"Paula\",\n",
    "        \"Maria\"\n",
    "    ],\n",
    "    \"url\": \"https://akiradev.netlify.app/posts/desenvolvimento-games-python/\"\n",
    "}\n",
    "> tutorial2 = {\n",
    "    \"titulo\": \"Detecção Facial com a Biblioteca OpenCV\",\n",
    "    \"autor\": \"Gabriel\",\n",
    "    \"contribuidores\": [\n",
    "        \"Rafael\",\n",
    "        \"Miguel\"\n",
    "    ],\n",
    "    \"url\": \"https://akiradev.netlify.app/posts/face-detection/\"\n",
    "}\n",
    "> db.tutorial.insertMany([tutorial1, tutorial2])\n",
    "{\n",
    "\t\"acknowledged\" : true,\n",
    "\t\"insertedIds\" : [\n",
    "\t\tObjectId(\"60b88d3fac7064e0b3808b1d\"),\n",
    "\t\tObjectId(\"60b88d3fac7064e0b3808b1e\")\n",
    "\t]\n",
    "}\n",
    "```\n",
    "\n",
    "Aqui, a chamada para **insertMany()** pega uma lista de tutoriais e os insere no banco de dados. Novamente, o *output* do shell mostra informações sobre os documentos recém-inseridos e seus campos **_id** adicionados automaticamente.\n",
    "\n",
    "O mongo shell também fornece métodos para executar operações de [leitura](https://docs.mongodb.com/manual/crud/#read-operations), [atualização](https://docs.mongodb.com/manual/crud/#update-operations) e [exclusão](https://docs.mongodb.com/manual/crud/#delete-operations) no banco de dados. Por exemplo, você pode usar **find()** para recuperar os documentos em uma coleção:\n",
    "\n",
    "```\n",
    "> use tutoriais\n",
    "switched to db tutoriais\n",
    "> db.tutorial.find()\n",
    "{ \"_id\" : ObjectId(\"60b88bc0ac7064e0b3808b1c\"), \"titulo\" : \"Desenhando com o Módulo Python Turtle\", \"autor\" : \"Gabriel\", \"contribuidores\" : [ \"Rafael\", \"Miguel\", \"Ana\", \"Maria\" ], \"url\" : \"https://akiradev.netlify.app/posts/desenhando-turtle-python/\" }\n",
    "{ \"_id\" : ObjectId(\"60b88d3fac7064e0b3808b1d\"), \"titulo\" : \"Introdução ao Desenvolvimento de Games 2D com PyGame\", \"autor\" : \"Gabriel\", \"contribuidores\" : [ \"Michel\", \"Luiz\", \"Paula\", \"Maria\" ], \"url\" : \"https://akiradev.netlify.app/posts/desenvolvimento-games-python/\" }\n",
    "{ \"_id\" : ObjectId(\"60b88d3fac7064e0b3808b1e\"), \"titulo\" : \"Detecção Facial com a Biblioteca OpenCV\", \"autor\" : \"Gabriel\", \"contribuidores\" : [ \"Rafael\", \"Miguel\" ], \"url\" : \"https://akiradev.netlify.app/posts/face-detection/\" }\n",
    "```\n",
    "\n",
    "A primeira chamada para **find()** recupera todos os documentos na coleção do tutorial.\n",
    "\n",
    "```\n",
    "> db.tutorial.find({contribuidores: \"Michel\"})\n",
    "{ \"_id\" : ObjectId(\"60b88d3fac7064e0b3808b1d\"), \"titulo\" : \"Introdução ao Desenvolvimento de Games 2D com PyGame\", \"autor\" : \"Gabriel\", \"contribuidores\" : [ \"Michel\", \"Luiz\", \"Paula\", \"Maria\" ], \"url\" : \"https://akiradev.netlify.app/posts/desenvolvimento-games-python/\" }\n",
    "```\n",
    "\n",
    "Já a segunda chamada para **find()** recupera apenas os documentos onde o **Michel** é contribuidor.\n",
    "\n",
    "Com esse conhecimento prévio sobre como usar o MongoDB por meio de seu mongo shell, você está pronto para começar a usar o MongoDB com Python!"
   ]
  },
  {
   "cell_type": "markdown",
   "id": "b70754cc",
   "metadata": {},
   "source": [
    "## Usando MongoDB com Python e PyMongo\n",
    "\n",
    "Agora que você sabe o que é MongoDB e como criar e gerenciar bancos de dados usando o mongo shell, pode começar a usar o MongoDB, mas desta vez com Python. O MongoDB fornece um [driver Python](https://github.com/mongodb/mongo-python-driver) oficial chamado [PyMongo](https://pymongo.readthedocs.io/en/stable/index.html).\n",
    "\n",
    "Nesta seção, você passará por alguns exemplos que o ajudarão a ter uma ideia de como usar o PyMongo para criar seus próprios aplicativos de banco de dados com MongoDB e Python.\n",
    "\n",
    "Cada [módulo do PyMongo](https://pymongo.readthedocs.io/en/stable/api/pymongo/index.html) é responsável por um conjunto de operações no banco de dados. Você terá [módulos](https://realpython.com/python-modules-packages/) para pelo menos as seguintes tarefas:\n",
    "\n",
    "- Estabelecendo [conexões de banco de dados](https://pymongo.readthedocs.io/en/stable/api/pymongo/index.html#module-pymongo)\n",
    "- Trabalhando com [bancos de dados](https://pymongo.readthedocs.io/en/stable/api/pymongo/database.html)\n",
    "- Trabalho com [coleções e documentos](https://pymongo.readthedocs.io/en/stable/api/pymongo/collection.html)\n",
    "- Manipulando o [cursor](https://pymongo.readthedocs.io/en/stable/api/pymongo/cursor.html)\n",
    "- Trabalhando com [criptografia](https://pymongo.readthedocs.io/en/stable/api/pymongo/encryption.html) de dados\n",
    "\n",
    "Em geral, o PyMongo fornece um rico conjunto de ferramentas que você pode usar para se comunicar com um servidor MongoDB. Ele fornece funcionalidade para **consultar**, **recuperar** resultados, **gravar** e **excluir** dados e executar comandos de banco de dados."
   ]
  },
  {
   "cell_type": "markdown",
   "id": "3093bde1",
   "metadata": {},
   "source": [
    "### Instalando PyMongo\n",
    "\n",
    "O [PyMongo](https://pypi.org/project/pymongo/) está disponível no [PyPI](https://pypi.org/), então a maneira mais rápida de instalá-lo é com o [pip](https://realpython.com/what-is-pip/). Abra seu terminal e execute o seguinte comando:\n",
    "\n",
    "```\n",
    "$ pip install pymongo\n",
    "```\n",
    "\n",
    "**Observação**: para obter um guia completo sobre como instalar o PyMongo, verifique a página de [instalação/atualização](https://pymongo.readthedocs.io/en/stable/installation.html) de sua documentação oficial.\n",
    "\n",
    "Depois de concluir a instalação, você pode executar o seguinte [import](https://realpython.com/python-import/):"
   ]
  },
  {
   "cell_type": "code",
   "execution_count": 60,
   "id": "0aa89a92",
   "metadata": {},
   "outputs": [],
   "source": [
    "import pymongo"
   ]
  },
  {
   "cell_type": "markdown",
   "id": "866370d6",
   "metadata": {},
   "source": [
    "### Estabelecendo uma Conexão\n",
    "\n",
    "Para estabelecer uma conexão com um banco de dados, você precisa criar uma instância do [MongoClient](https://pymongo.readthedocs.io/en/stable/api/pymongo/mongo_client.html#pymongo.mongo_client.MongoClient). Esta classe fornece um cliente para uma instância ou servidor MongoDB. Cada objeto cliente tem um [pool de conexão](https://pymongo.readthedocs.io/en/stable/faq.html#how-does-connection-pooling-work-in-pymongo) embutido que, por padrão, lida com até cem conexões com o servidor.\n",
    "\n",
    "Vamos então importar o **MongoClient** do **pymongo**. Em seguida, criaremos um objeto client para se comunicar com a nossa instância do MongoDB atualmente em execução:"
   ]
  },
  {
   "cell_type": "code",
   "execution_count": 61,
   "id": "ddd1abd5",
   "metadata": {},
   "outputs": [
    {
     "data": {
      "text/plain": [
       "MongoClient(host=['localhost:27017'], document_class=dict, tz_aware=False, connect=True)"
      ]
     },
     "execution_count": 61,
     "metadata": {},
     "output_type": "execute_result"
    }
   ],
   "source": [
    "from pymongo import MongoClient\n",
    "client = MongoClient()\n",
    "client"
   ]
  },
  {
   "cell_type": "markdown",
   "id": "762fea5a",
   "metadata": {},
   "source": [
    "O código acima estabelece uma conexão com o host padrão (**localhost**) e a porta (**27017**). \n",
    "\n",
    "MongoClient aceita um conjunto de argumentos que permite especificar host, porta e outros parâmetros de conexão personalizados. Por exemplo, para fornecer um host e uma porta personalizados, você pode usar o seguinte código:"
   ]
  },
  {
   "cell_type": "code",
   "execution_count": 62,
   "id": "285fa252",
   "metadata": {},
   "outputs": [
    {
     "data": {
      "text/plain": [
       "MongoClient(host=['localhost:27017'], document_class=dict, tz_aware=False, connect=True)"
      ]
     },
     "execution_count": 62,
     "metadata": {},
     "output_type": "execute_result"
    }
   ],
   "source": [
    "client = MongoClient(host=\"localhost\", port=27017)\n",
    "client"
   ]
  },
  {
   "cell_type": "markdown",
   "id": "764fd2c1",
   "metadata": {},
   "source": [
    "Isso é útil quando você precisa fornecer um host e uma porta diferentes da configuração padrão do MongoDB. Você também pode usar o [formato URI do MongoDB](https://docs.mongodb.com/manual/reference/connection-string/):"
   ]
  },
  {
   "cell_type": "code",
   "execution_count": 63,
   "id": "90fadda4",
   "metadata": {},
   "outputs": [
    {
     "data": {
      "text/plain": [
       "MongoClient(host=['localhost:27017'], document_class=dict, tz_aware=False, connect=True)"
      ]
     },
     "execution_count": 63,
     "metadata": {},
     "output_type": "execute_result"
    }
   ],
   "source": [
    "client = MongoClient(\"mongodb://localhost:27017\")\n",
    "client"
   ]
  },
  {
   "cell_type": "markdown",
   "id": "5a7807ae",
   "metadata": {},
   "source": [
    "Todas essas instâncias do **MongoClient** fornecem a mesma configuração de cliente para conectar sua instância atual do MongoDB. Qual você deve usar depende apenas de quão explícito você deseja que seja em seu código.\n",
    "\n",
    "Depois de instanciar o MongoClient, você pode usar sua instância para se referir a essa conexão de banco de dados específica, assim como fez com o objeto **db** do mongo shell anteriormente."
   ]
  },
  {
   "cell_type": "markdown",
   "id": "3b5263da",
   "metadata": {},
   "source": [
    "### Trabalhando com Bancos de Dados, Coleções e Documentos\n",
    "\n",
    "Depois de conectar uma instância do MongoClient, você pode acessar qualquer banco de dados gerenciado pelo servidor MongoDB especificado. Para definir qual banco de dados deseja usar, você pode usar a notação de ponto, assim como fez no mongo shell:"
   ]
  },
  {
   "cell_type": "code",
   "execution_count": 64,
   "id": "7ecc56ba",
   "metadata": {},
   "outputs": [
    {
     "data": {
      "text/plain": [
       "Database(MongoClient(host=['localhost:27017'], document_class=dict, tz_aware=False, connect=True), 'tutoriais')"
      ]
     },
     "execution_count": 64,
     "metadata": {},
     "output_type": "execute_result"
    }
   ],
   "source": [
    "db = client.tutoriais\n",
    "db"
   ]
  },
  {
   "cell_type": "markdown",
   "id": "54d60534",
   "metadata": {},
   "source": [
    "Nesse caso, **tutoriais** é o nome do banco de dados com o qual você trabalhará. Se o banco de dados não existir, o MongoDB o criará para você, mas apenas quando você executar a primeira operação no banco de dados.\n",
    "\n",
    "Você também pode usar o [acesso de estilo de dicionário](https://realpython.com/python-dicts/#accessing-dictionary-values) se o nome do banco de dados não for um identificador Python válido:"
   ]
  },
  {
   "cell_type": "code",
   "execution_count": 65,
   "id": "3fd8df89",
   "metadata": {},
   "outputs": [
    {
     "data": {
      "text/plain": [
       "Database(MongoClient(host=['localhost:27017'], document_class=dict, tz_aware=False, connect=True), 'tutoriais')"
      ]
     },
     "execution_count": 65,
     "metadata": {},
     "output_type": "execute_result"
    }
   ],
   "source": [
    "db = client[\"tutoriais\"]\n",
    "db"
   ]
  },
  {
   "cell_type": "markdown",
   "id": "97f9e455",
   "metadata": {},
   "source": [
    "Esta declaração é útil quando o nome do seu banco de dados não é um identificador Python válido. Por exemplo, se seu banco de dados é denominado **python-tutoriais**, você precisa usar o acesso de estilo de dicionário.\n",
    "\n",
    "**Observação**: Ao usar o mongo shell, você tem acesso ao banco de dados por meio do objeto global **db**. Ao usar o PyMongo, você pode atribuir o banco de dados a uma variável chamada **db** para obter um comportamento semelhante.\n",
    "\n",
    "Armazenar dados em seu banco de dados usando o PyMongo é semelhante ao que você fez com o mongo shell nas seções acima. Mas primeiro, você precisa criar seus documentos. Em Python, você usa [dicionários](https://www.w3schools.com/python/python_dictionaries.asp) para criar documentos:"
   ]
  },
  {
   "cell_type": "code",
   "execution_count": 66,
   "id": "c0287c96",
   "metadata": {},
   "outputs": [],
   "source": [
    "tutorial1 = {\n",
    "    \"titulo\": \"Explorando Comandos Bash\",\n",
    "    \"autor\": \"Gabriel\",\n",
    "    \"contribuidores\": [\n",
    "        \"Akira\",\n",
    "        \"Felippe\",\n",
    "        \"Talantyr\"\n",
    "    ],\n",
    "    \"url\": \"https://akiradev.netlify.app/posts/comandos-bash/\"\n",
    "}"
   ]
  },
  {
   "cell_type": "markdown",
   "id": "679ab2bb",
   "metadata": {},
   "source": [
    "Depois de criar o documento como um dicionário, você precisa especificar qual **coleção** deseja usar. Para fazer isso, você pode usar a notação de ponto no objeto de banco de dados:"
   ]
  },
  {
   "cell_type": "code",
   "execution_count": 67,
   "id": "430890e7",
   "metadata": {},
   "outputs": [
    {
     "data": {
      "text/plain": [
       "Collection(Database(MongoClient(host=['localhost:27017'], document_class=dict, tz_aware=False, connect=True), 'tutoriais'), 'tutorial')"
      ]
     },
     "execution_count": 67,
     "metadata": {},
     "output_type": "execute_result"
    }
   ],
   "source": [
    "tutorial = db.tutorial\n",
    "tutorial"
   ]
  },
  {
   "cell_type": "markdown",
   "id": "4e9ff505",
   "metadata": {},
   "source": [
    "Nesse caso, o tutorial é uma instância de [Collection](https://pymongo.readthedocs.io/en/stable/api/pymongo/collection.html#pymongo.collection.Collection) e representa uma coleção física de documentos em seu banco de dados. \n",
    "\n",
    "Você pode inserir documentos no **tutorial** chamando **insert_one()** nele com um documento como argumento:"
   ]
  },
  {
   "cell_type": "code",
   "execution_count": 68,
   "id": "c01f5bed",
   "metadata": {},
   "outputs": [
    {
     "name": "stdout",
     "output_type": "stream",
     "text": [
      "Tutorial 1: 60b8b65414133df5fa906943\n"
     ]
    }
   ],
   "source": [
    "result = tutorial.insert_one(tutorial1)\n",
    "print(f\"Tutorial 1: {result.inserted_id}\")"
   ]
  },
  {
   "cell_type": "code",
   "execution_count": 69,
   "id": "32d2b5f3",
   "metadata": {},
   "outputs": [
    {
     "name": "stdout",
     "output_type": "stream",
     "text": [
      "<pymongo.results.InsertOneResult object at 0x7f95030be960>\n"
     ]
    }
   ],
   "source": [
    "print(result)"
   ]
  },
  {
   "cell_type": "markdown",
   "id": "a106f255",
   "metadata": {},
   "source": [
    "Aqui, **insert_one()** pega o **tutorial1**, o insere na coleção **tutorial** e retorna um objeto **InsertOneResult**. Este objeto fornece feedback sobre o documento inserido.\n",
    "\n",
    "Se você tiver muitos documentos para adicionar ao banco de dados, poderá usar **insert_many()** para inseri-los de uma vez:"
   ]
  },
  {
   "cell_type": "code",
   "execution_count": 70,
   "id": "6c2aefaa",
   "metadata": {},
   "outputs": [
    {
     "name": "stdout",
     "output_type": "stream",
     "text": [
      "Múltiplos tutoriais: [ObjectId('60b8b65614133df5fa906944'), ObjectId('60b8b65614133df5fa906945')]\n"
     ]
    }
   ],
   "source": [
    "tutorial2 = {\n",
    "    \"titulo\": \"Introdução aos Princípios da Computação e Programação\",\n",
    "    \"autor\": \"Akira\",\n",
    "    \"contribuidores\": [\n",
    "        \"Gabriel\",\n",
    "        \"Felippe\"\n",
    "    ],\n",
    "    \"url\": \"https://akiradev.netlify.app/posts/introducao-computacao/\"\n",
    "}\n",
    "\n",
    "tutorial3 = {\n",
    "    \"titulo\": \"Introdução ao SQL com o Módulo sqlite3\",\n",
    "    \"autor\": \"Gabriel\",\n",
    "    \"contribuidores\": [\n",
    "        \"Maria\",\n",
    "        \"Miguel\",\n",
    "        \"Michel\"\n",
    "    ],\n",
    "    \"url\": \"https://akiradev.netlify.app/posts/introducao-sql/\"\n",
    "}\n",
    "\n",
    "new_result = tutorial.insert_many([tutorial2, tutorial3])\n",
    "print(f\"Múltiplos tutoriais: {new_result.inserted_ids}\")"
   ]
  },
  {
   "cell_type": "code",
   "execution_count": 71,
   "id": "840d6b7c",
   "metadata": {},
   "outputs": [
    {
     "name": "stdout",
     "output_type": "stream",
     "text": [
      "<pymongo.results.InsertManyResult object at 0x7f95030bf320>\n"
     ]
    }
   ],
   "source": [
    "print(new_result)"
   ]
  },
  {
   "cell_type": "markdown",
   "id": "2eecea6b",
   "metadata": {},
   "source": [
    "Isso é mais rápido e direto do que chamar **insert_one()** várias vezes. A chamada para **insert_many()** pega um iterável de documentos (por exemplo: uma lista) e os insere na coleção **tutorial** em seu banco de dados **tutoriais**. O método retorna uma instância de **InsertManyResult**, que fornece informações sobre os documentos inseridos.\n",
    "\n",
    "Para recuperar documentos de uma coleção, você pode usar **find()**. \n",
    "\n",
    "Sem argumentos, **find()** retorna um objeto **Cursor** que produz os documentos na coleção sob demanda:"
   ]
  },
  {
   "cell_type": "code",
   "execution_count": 72,
   "id": "4ba54ad4",
   "metadata": {},
   "outputs": [
    {
     "name": "stdout",
     "output_type": "stream",
     "text": [
      "{'_id': ObjectId('60b8b60ea8c573a963a0779c'),\n",
      " 'autor': 'Gabriel',\n",
      " 'contribuidores': ['Rafael', 'Miguel', 'Ana', 'Maria'],\n",
      " 'titulo': 'Desenhando com o Módulo Python Turtle',\n",
      " 'url': 'https://akiradev.netlify.app/posts/desenhando-turtle-python/'}\n",
      "{'_id': ObjectId('60b8b62ca8c573a963a0779d'),\n",
      " 'autor': 'Gabriel',\n",
      " 'contribuidores': ['Michel', 'Luiz', 'Paula', 'Maria'],\n",
      " 'titulo': 'Introdução ao Desenvolvimento de Games 2D com PyGame',\n",
      " 'url': 'https://akiradev.netlify.app/posts/desenvolvimento-games-python/'}\n",
      "{'_id': ObjectId('60b8b62ca8c573a963a0779e'),\n",
      " 'autor': 'Gabriel',\n",
      " 'contribuidores': ['Rafael', 'Miguel'],\n",
      " 'titulo': 'Detecção Facial com a Biblioteca OpenCV',\n",
      " 'url': 'https://akiradev.netlify.app/posts/face-detection/'}\n",
      "{'_id': ObjectId('60b8b65414133df5fa906943'),\n",
      " 'autor': 'Gabriel',\n",
      " 'contribuidores': ['Akira', 'Felippe', 'Talantyr'],\n",
      " 'titulo': 'Explorando Comandos Bash',\n",
      " 'url': 'https://akiradev.netlify.app/posts/comandos-bash/'}\n",
      "{'_id': ObjectId('60b8b65614133df5fa906944'),\n",
      " 'autor': 'Akira',\n",
      " 'contribuidores': ['Gabriel', 'Felippe'],\n",
      " 'titulo': 'Introdução aos Princípios da Computação e Programação',\n",
      " 'url': 'https://akiradev.netlify.app/posts/introducao-computacao/'}\n",
      "{'_id': ObjectId('60b8b65614133df5fa906945'),\n",
      " 'autor': 'Gabriel',\n",
      " 'contribuidores': ['Maria', 'Miguel', 'Michel'],\n",
      " 'titulo': 'Introdução ao SQL com o Módulo sqlite3',\n",
      " 'url': 'https://akiradev.netlify.app/posts/introducao-sql/'}\n"
     ]
    }
   ],
   "source": [
    "import pprint\n",
    "\n",
    "for doc in tutorial.find():\n",
    "    pprint.pprint(doc)"
   ]
  },
  {
   "cell_type": "markdown",
   "id": "854024a7",
   "metadata": {},
   "source": [
    "Aqui, você executa um loop no objeto que **find()** retorna e imprime resultados sucessivos, usando [pprint.pprint()](https://docs.python.org/3/library/pprint.html#pprint.pprint) para fornecer um formato de *output* amigável.\n",
    "\n",
    "Você também pode usar **find_one()** para recuperar um único documento. Nesse caso, você pode usar um dicionário que contém campos correspondentes. Por exemplo, se quiser recuperar o primeiro tutorial de Gabriel, você pode fazer algo assim:"
   ]
  },
  {
   "cell_type": "code",
   "execution_count": 73,
   "id": "84553ea4",
   "metadata": {},
   "outputs": [
    {
     "name": "stdout",
     "output_type": "stream",
     "text": [
      "{'_id': ObjectId('60b8b60ea8c573a963a0779c'),\n",
      " 'autor': 'Gabriel',\n",
      " 'contribuidores': ['Rafael', 'Miguel', 'Ana', 'Maria'],\n",
      " 'titulo': 'Desenhando com o Módulo Python Turtle',\n",
      " 'url': 'https://akiradev.netlify.app/posts/desenhando-turtle-python/'}\n"
     ]
    }
   ],
   "source": [
    "gabriel_tutorial = tutorial.find_one({\"autor\": \"Gabriel\"})\n",
    "pprint.pprint(gabriel_tutorial)"
   ]
  },
  {
   "cell_type": "markdown",
   "id": "7845cc96",
   "metadata": {},
   "source": [
    "Observe que o **ObjectId** do tutorial é definido na chave **_id**, que é o identificador de documento exclusivo que o MongoDB adiciona automaticamente quando você insere um documento em seu banco de dados."
   ]
  },
  {
   "cell_type": "markdown",
   "id": "9f7dc7c7",
   "metadata": {},
   "source": [
    "#### Filtrando Resultados\n",
    "\n",
    "Para fazer consultas avançadas, você pode usar modificadores como valores no objeto de consulta.\n",
    "\n",
    "Por exemplo. para encontrar os documentos onde o campo \"titulo\" começa com a letra \"I\" ou superior (alfabeticamente), use o modificador maior que: `{\"$ gt\": \"I\"}`:"
   ]
  },
  {
   "cell_type": "code",
   "execution_count": 74,
   "id": "a08203c1",
   "metadata": {},
   "outputs": [
    {
     "name": "stdout",
     "output_type": "stream",
     "text": [
      "{'_id': ObjectId('60b8b62ca8c573a963a0779d'),\n",
      " 'autor': 'Gabriel',\n",
      " 'contribuidores': ['Michel', 'Luiz', 'Paula', 'Maria'],\n",
      " 'titulo': 'Introdução ao Desenvolvimento de Games 2D com PyGame',\n",
      " 'url': 'https://akiradev.netlify.app/posts/desenvolvimento-games-python/'}\n",
      "{'_id': ObjectId('60b8b65614133df5fa906944'),\n",
      " 'autor': 'Akira',\n",
      " 'contribuidores': ['Gabriel', 'Felippe'],\n",
      " 'titulo': 'Introdução aos Princípios da Computação e Programação',\n",
      " 'url': 'https://akiradev.netlify.app/posts/introducao-computacao/'}\n",
      "{'_id': ObjectId('60b8b65614133df5fa906945'),\n",
      " 'autor': 'Gabriel',\n",
      " 'contribuidores': ['Maria', 'Miguel', 'Michel'],\n",
      " 'titulo': 'Introdução ao SQL com o Módulo sqlite3',\n",
      " 'url': 'https://akiradev.netlify.app/posts/introducao-sql/'}\n"
     ]
    }
   ],
   "source": [
    "query = { \"titulo\": { \"$gt\": \"I\" } }\n",
    "\n",
    "resultado_i = tutorial.find(query)\n",
    "\n",
    "for r_i in resultado_i:\n",
    "    pprint.pprint(r_i)"
   ]
  },
  {
   "cell_type": "markdown",
   "id": "ab9891d0",
   "metadata": {},
   "source": [
    "#### Expressões Regulares\n",
    "\n",
    "Você também pode usar expressões regulares como um modificador.\n",
    "\n",
    "**Expressões regulares só podem ser usadas para consultar strings**.\n",
    "\n",
    "Para encontrar apenas os documentos onde o campo \"autor\" começa com a letra \"A\", use a expressão regular `{\"$ regex\": \"^ A\"}`:"
   ]
  },
  {
   "cell_type": "code",
   "execution_count": 75,
   "id": "fb85242c",
   "metadata": {},
   "outputs": [
    {
     "name": "stdout",
     "output_type": "stream",
     "text": [
      "{'_id': ObjectId('60b8b65614133df5fa906944'),\n",
      " 'autor': 'Akira',\n",
      " 'contribuidores': ['Gabriel', 'Felippe'],\n",
      " 'titulo': 'Introdução aos Princípios da Computação e Programação',\n",
      " 'url': 'https://akiradev.netlify.app/posts/introducao-computacao/'}\n"
     ]
    }
   ],
   "source": [
    "query = { \"autor\": { \"$regex\": \"^A\" } }\n",
    "\n",
    "resultado_a = tutorial.find(query)\n",
    "\n",
    "for r_a in resultado_a:\n",
    "    pprint.pprint(r_a)"
   ]
  },
  {
   "cell_type": "markdown",
   "id": "44a58453",
   "metadata": {},
   "source": [
    "#### Ordenando o Resultado\n",
    "\n",
    "Use o método **sort()** para ordenar o resultado em ordem crescente ou decrescente.\n",
    "\n",
    "O método **sort()** usa um parâmetro para \"fieldname\" e um parâmetro para \"direção\" (ascendente é a direção padrão).\n",
    "\n",
    "Vamos então ordenar os nossos tutoriais por **titulo** de forma ascendente:"
   ]
  },
  {
   "cell_type": "code",
   "execution_count": 76,
   "id": "915dcfef",
   "metadata": {},
   "outputs": [
    {
     "name": "stdout",
     "output_type": "stream",
     "text": [
      "{'_id': ObjectId('60b8b60ea8c573a963a0779c'),\n",
      " 'autor': 'Gabriel',\n",
      " 'contribuidores': ['Rafael', 'Miguel', 'Ana', 'Maria'],\n",
      " 'titulo': 'Desenhando com o Módulo Python Turtle',\n",
      " 'url': 'https://akiradev.netlify.app/posts/desenhando-turtle-python/'}\n",
      "{'_id': ObjectId('60b8b62ca8c573a963a0779e'),\n",
      " 'autor': 'Gabriel',\n",
      " 'contribuidores': ['Rafael', 'Miguel'],\n",
      " 'titulo': 'Detecção Facial com a Biblioteca OpenCV',\n",
      " 'url': 'https://akiradev.netlify.app/posts/face-detection/'}\n",
      "{'_id': ObjectId('60b8b65414133df5fa906943'),\n",
      " 'autor': 'Gabriel',\n",
      " 'contribuidores': ['Akira', 'Felippe', 'Talantyr'],\n",
      " 'titulo': 'Explorando Comandos Bash',\n",
      " 'url': 'https://akiradev.netlify.app/posts/comandos-bash/'}\n",
      "{'_id': ObjectId('60b8b62ca8c573a963a0779d'),\n",
      " 'autor': 'Gabriel',\n",
      " 'contribuidores': ['Michel', 'Luiz', 'Paula', 'Maria'],\n",
      " 'titulo': 'Introdução ao Desenvolvimento de Games 2D com PyGame',\n",
      " 'url': 'https://akiradev.netlify.app/posts/desenvolvimento-games-python/'}\n",
      "{'_id': ObjectId('60b8b65614133df5fa906945'),\n",
      " 'autor': 'Gabriel',\n",
      " 'contribuidores': ['Maria', 'Miguel', 'Michel'],\n",
      " 'titulo': 'Introdução ao SQL com o Módulo sqlite3',\n",
      " 'url': 'https://akiradev.netlify.app/posts/introducao-sql/'}\n",
      "{'_id': ObjectId('60b8b65614133df5fa906944'),\n",
      " 'autor': 'Akira',\n",
      " 'contribuidores': ['Gabriel', 'Felippe'],\n",
      " 'titulo': 'Introdução aos Princípios da Computação e Programação',\n",
      " 'url': 'https://akiradev.netlify.app/posts/introducao-computacao/'}\n"
     ]
    }
   ],
   "source": [
    "resultado_sort = tutorial.find().sort('titulo')\n",
    "\n",
    "for rs in resultado_sort:\n",
    "    pprint.pprint(rs)"
   ]
  },
  {
   "cell_type": "markdown",
   "id": "20070d24",
   "metadata": {},
   "source": [
    "Use o valor **-1** como o segundo parâmetro para ordenar em ordem decrescente:"
   ]
  },
  {
   "cell_type": "code",
   "execution_count": 77,
   "id": "04cf23a3",
   "metadata": {},
   "outputs": [
    {
     "name": "stdout",
     "output_type": "stream",
     "text": [
      "{'_id': ObjectId('60b8b65614133df5fa906944'),\n",
      " 'autor': 'Akira',\n",
      " 'contribuidores': ['Gabriel', 'Felippe'],\n",
      " 'titulo': 'Introdução aos Princípios da Computação e Programação',\n",
      " 'url': 'https://akiradev.netlify.app/posts/introducao-computacao/'}\n",
      "{'_id': ObjectId('60b8b65614133df5fa906945'),\n",
      " 'autor': 'Gabriel',\n",
      " 'contribuidores': ['Maria', 'Miguel', 'Michel'],\n",
      " 'titulo': 'Introdução ao SQL com o Módulo sqlite3',\n",
      " 'url': 'https://akiradev.netlify.app/posts/introducao-sql/'}\n",
      "{'_id': ObjectId('60b8b62ca8c573a963a0779d'),\n",
      " 'autor': 'Gabriel',\n",
      " 'contribuidores': ['Michel', 'Luiz', 'Paula', 'Maria'],\n",
      " 'titulo': 'Introdução ao Desenvolvimento de Games 2D com PyGame',\n",
      " 'url': 'https://akiradev.netlify.app/posts/desenvolvimento-games-python/'}\n",
      "{'_id': ObjectId('60b8b65414133df5fa906943'),\n",
      " 'autor': 'Gabriel',\n",
      " 'contribuidores': ['Akira', 'Felippe', 'Talantyr'],\n",
      " 'titulo': 'Explorando Comandos Bash',\n",
      " 'url': 'https://akiradev.netlify.app/posts/comandos-bash/'}\n",
      "{'_id': ObjectId('60b8b62ca8c573a963a0779e'),\n",
      " 'autor': 'Gabriel',\n",
      " 'contribuidores': ['Rafael', 'Miguel'],\n",
      " 'titulo': 'Detecção Facial com a Biblioteca OpenCV',\n",
      " 'url': 'https://akiradev.netlify.app/posts/face-detection/'}\n",
      "{'_id': ObjectId('60b8b60ea8c573a963a0779c'),\n",
      " 'autor': 'Gabriel',\n",
      " 'contribuidores': ['Rafael', 'Miguel', 'Ana', 'Maria'],\n",
      " 'titulo': 'Desenhando com o Módulo Python Turtle',\n",
      " 'url': 'https://akiradev.netlify.app/posts/desenhando-turtle-python/'}\n"
     ]
    }
   ],
   "source": [
    "resultado_sort_dec = tutorial.find().sort('titulo', -1)\n",
    "\n",
    "for rsd in resultado_sort_dec:\n",
    "    pprint.pprint(rsd)"
   ]
  },
  {
   "cell_type": "markdown",
   "id": "106773ea",
   "metadata": {},
   "source": [
    "Você deve ter percebido que os resultados de nossas consultas estão nos retornando **dicionários** Python.\n",
    "\n",
    "Isso é interessante, uma vez que a partir deles podemos facilmente construir um **DataFrame** [pandas](https://pandas.pydata.org/), nos permitindo assim trabalhar com esses dados de forma tabular."
   ]
  },
  {
   "cell_type": "code",
   "execution_count": 78,
   "id": "6d1084b7",
   "metadata": {},
   "outputs": [
    {
     "data": {
      "text/html": [
       "<div>\n",
       "<style scoped>\n",
       "    .dataframe tbody tr th:only-of-type {\n",
       "        vertical-align: middle;\n",
       "    }\n",
       "\n",
       "    .dataframe tbody tr th {\n",
       "        vertical-align: top;\n",
       "    }\n",
       "\n",
       "    .dataframe thead th {\n",
       "        text-align: right;\n",
       "    }\n",
       "</style>\n",
       "<table border=\"1\" class=\"dataframe\">\n",
       "  <thead>\n",
       "    <tr style=\"text-align: right;\">\n",
       "      <th></th>\n",
       "      <th>_id</th>\n",
       "      <th>titulo</th>\n",
       "      <th>autor</th>\n",
       "      <th>contribuidores</th>\n",
       "      <th>url</th>\n",
       "    </tr>\n",
       "  </thead>\n",
       "  <tbody>\n",
       "    <tr>\n",
       "      <th>0</th>\n",
       "      <td>60b8b65614133df5fa906944</td>\n",
       "      <td>Introdução aos Princípios da Computação e Prog...</td>\n",
       "      <td>Akira</td>\n",
       "      <td>[Gabriel, Felippe]</td>\n",
       "      <td>https://akiradev.netlify.app/posts/introducao-...</td>\n",
       "    </tr>\n",
       "    <tr>\n",
       "      <th>1</th>\n",
       "      <td>60b8b65614133df5fa906945</td>\n",
       "      <td>Introdução ao SQL com o Módulo sqlite3</td>\n",
       "      <td>Gabriel</td>\n",
       "      <td>[Maria, Miguel, Michel]</td>\n",
       "      <td>https://akiradev.netlify.app/posts/introducao-...</td>\n",
       "    </tr>\n",
       "    <tr>\n",
       "      <th>2</th>\n",
       "      <td>60b8b62ca8c573a963a0779d</td>\n",
       "      <td>Introdução ao Desenvolvimento de Games 2D com ...</td>\n",
       "      <td>Gabriel</td>\n",
       "      <td>[Michel, Luiz, Paula, Maria]</td>\n",
       "      <td>https://akiradev.netlify.app/posts/desenvolvim...</td>\n",
       "    </tr>\n",
       "    <tr>\n",
       "      <th>3</th>\n",
       "      <td>60b8b65414133df5fa906943</td>\n",
       "      <td>Explorando Comandos Bash</td>\n",
       "      <td>Gabriel</td>\n",
       "      <td>[Akira, Felippe, Talantyr]</td>\n",
       "      <td>https://akiradev.netlify.app/posts/comandos-bash/</td>\n",
       "    </tr>\n",
       "    <tr>\n",
       "      <th>4</th>\n",
       "      <td>60b8b62ca8c573a963a0779e</td>\n",
       "      <td>Detecção Facial com a Biblioteca OpenCV</td>\n",
       "      <td>Gabriel</td>\n",
       "      <td>[Rafael, Miguel]</td>\n",
       "      <td>https://akiradev.netlify.app/posts/face-detect...</td>\n",
       "    </tr>\n",
       "    <tr>\n",
       "      <th>5</th>\n",
       "      <td>60b8b60ea8c573a963a0779c</td>\n",
       "      <td>Desenhando com o Módulo Python Turtle</td>\n",
       "      <td>Gabriel</td>\n",
       "      <td>[Rafael, Miguel, Ana, Maria]</td>\n",
       "      <td>https://akiradev.netlify.app/posts/desenhando-...</td>\n",
       "    </tr>\n",
       "  </tbody>\n",
       "</table>\n",
       "</div>"
      ],
      "text/plain": [
       "                        _id  \\\n",
       "0  60b8b65614133df5fa906944   \n",
       "1  60b8b65614133df5fa906945   \n",
       "2  60b8b62ca8c573a963a0779d   \n",
       "3  60b8b65414133df5fa906943   \n",
       "4  60b8b62ca8c573a963a0779e   \n",
       "5  60b8b60ea8c573a963a0779c   \n",
       "\n",
       "                                              titulo    autor  \\\n",
       "0  Introdução aos Princípios da Computação e Prog...    Akira   \n",
       "1             Introdução ao SQL com o Módulo sqlite3  Gabriel   \n",
       "2  Introdução ao Desenvolvimento de Games 2D com ...  Gabriel   \n",
       "3                           Explorando Comandos Bash  Gabriel   \n",
       "4            Detecção Facial com a Biblioteca OpenCV  Gabriel   \n",
       "5              Desenhando com o Módulo Python Turtle  Gabriel   \n",
       "\n",
       "                 contribuidores  \\\n",
       "0            [Gabriel, Felippe]   \n",
       "1       [Maria, Miguel, Michel]   \n",
       "2  [Michel, Luiz, Paula, Maria]   \n",
       "3    [Akira, Felippe, Talantyr]   \n",
       "4              [Rafael, Miguel]   \n",
       "5  [Rafael, Miguel, Ana, Maria]   \n",
       "\n",
       "                                                 url  \n",
       "0  https://akiradev.netlify.app/posts/introducao-...  \n",
       "1  https://akiradev.netlify.app/posts/introducao-...  \n",
       "2  https://akiradev.netlify.app/posts/desenvolvim...  \n",
       "3  https://akiradev.netlify.app/posts/comandos-bash/  \n",
       "4  https://akiradev.netlify.app/posts/face-detect...  \n",
       "5  https://akiradev.netlify.app/posts/desenhando-...  "
      ]
     },
     "execution_count": 78,
     "metadata": {},
     "output_type": "execute_result"
    }
   ],
   "source": [
    "import pandas as pd\n",
    "\n",
    "resultado_sort_dec = tutorial.find().sort('titulo', -1)\n",
    "\n",
    "lista_dicts = [rsd for rsd in resultado_sort_dec]\n",
    "\n",
    "df = pd.DataFrame(lista_dicts)\n",
    "df"
   ]
  },
  {
   "cell_type": "markdown",
   "id": "ce813599",
   "metadata": {},
   "source": [
    "#### Deletando Documentos\n",
    "\n",
    "Para deletar um documento, usamos o método **delete_one()**.\n",
    "\n",
    "O primeiro parâmetro do método **delete_one()** é um objeto de consulta que define qual documento excluir.\n",
    "\n",
    "**Observação**: Se a consulta encontrar mais de um documento, apenas a primeira ocorrência será excluída.\n",
    "\n",
    "Vamos remover o documento cujo autor é \"Akira\":"
   ]
  },
  {
   "cell_type": "code",
   "execution_count": 79,
   "id": "d7869b59",
   "metadata": {},
   "outputs": [
    {
     "data": {
      "text/plain": [
       "<pymongo.results.DeleteResult at 0x7f9503119190>"
      ]
     },
     "execution_count": 79,
     "metadata": {},
     "output_type": "execute_result"
    }
   ],
   "source": [
    "query = { \"autor\": \"Akira\" }\n",
    "\n",
    "tutorial.delete_one(query)"
   ]
  },
  {
   "cell_type": "markdown",
   "id": "b45067bb",
   "metadata": {},
   "source": [
    "E então podemos confirmar se ele foi removido com sucesso:"
   ]
  },
  {
   "cell_type": "code",
   "execution_count": 80,
   "id": "fd572a06",
   "metadata": {},
   "outputs": [
    {
     "name": "stdout",
     "output_type": "stream",
     "text": [
      "{'_id': ObjectId('60b8b60ea8c573a963a0779c'),\n",
      " 'autor': 'Gabriel',\n",
      " 'contribuidores': ['Rafael', 'Miguel', 'Ana', 'Maria'],\n",
      " 'titulo': 'Desenhando com o Módulo Python Turtle',\n",
      " 'url': 'https://akiradev.netlify.app/posts/desenhando-turtle-python/'}\n",
      "{'_id': ObjectId('60b8b62ca8c573a963a0779d'),\n",
      " 'autor': 'Gabriel',\n",
      " 'contribuidores': ['Michel', 'Luiz', 'Paula', 'Maria'],\n",
      " 'titulo': 'Introdução ao Desenvolvimento de Games 2D com PyGame',\n",
      " 'url': 'https://akiradev.netlify.app/posts/desenvolvimento-games-python/'}\n",
      "{'_id': ObjectId('60b8b62ca8c573a963a0779e'),\n",
      " 'autor': 'Gabriel',\n",
      " 'contribuidores': ['Rafael', 'Miguel'],\n",
      " 'titulo': 'Detecção Facial com a Biblioteca OpenCV',\n",
      " 'url': 'https://akiradev.netlify.app/posts/face-detection/'}\n",
      "{'_id': ObjectId('60b8b65414133df5fa906943'),\n",
      " 'autor': 'Gabriel',\n",
      " 'contribuidores': ['Akira', 'Felippe', 'Talantyr'],\n",
      " 'titulo': 'Explorando Comandos Bash',\n",
      " 'url': 'https://akiradev.netlify.app/posts/comandos-bash/'}\n",
      "{'_id': ObjectId('60b8b65614133df5fa906945'),\n",
      " 'autor': 'Gabriel',\n",
      " 'contribuidores': ['Maria', 'Miguel', 'Michel'],\n",
      " 'titulo': 'Introdução ao SQL com o Módulo sqlite3',\n",
      " 'url': 'https://akiradev.netlify.app/posts/introducao-sql/'}\n"
     ]
    }
   ],
   "source": [
    "resultado = tutorial.find()\n",
    "\n",
    "for r in resultado:\n",
    "    pprint.pprint(r)"
   ]
  },
  {
   "cell_type": "markdown",
   "id": "7d39863c",
   "metadata": {},
   "source": [
    "Para deletar mais de um documento, use o método **delete_many()**.\n",
    "\n",
    "O primeiro parâmetro do método **delete_many()** é um objeto de consulta que define quais documentos excluir.\n",
    "\n",
    "Vamos então excluir todos os tutoriais onde o titulo começa com a letra **D**:"
   ]
  },
  {
   "cell_type": "code",
   "execution_count": 81,
   "id": "bdd96006",
   "metadata": {},
   "outputs": [
    {
     "name": "stdout",
     "output_type": "stream",
     "text": [
      "2 documentos deletados.\n"
     ]
    }
   ],
   "source": [
    "query = { \"titulo\": {\"$regex\": \"^D\"} }\n",
    "\n",
    "resultado = tutorial.delete_many(query)\n",
    "\n",
    "print(resultado.deleted_count, \"documentos deletados.\")"
   ]
  },
  {
   "cell_type": "markdown",
   "id": "cf8a3bbf",
   "metadata": {},
   "source": [
    "Para excluir todos os documentos em uma coleção, passe um objeto de consulta vazio `{}` para o método **delete_many()**:"
   ]
  },
  {
   "cell_type": "markdown",
   "id": "20ddee14",
   "metadata": {},
   "source": [
    "#### Atualizando Documentos\n",
    "\n",
    "Você pode atualizar um registro ou documento como é chamado no MongoDB, usando o método **update_one()**.\n",
    "\n",
    "O primeiro parâmetro do método **update_one()** é um objeto de consulta que define qual documento atualizar.\n",
    "\n",
    "**Observação**: Se a consulta encontrar mais de um registro, apenas a primeira ocorrência é atualizada.\n",
    "\n",
    "O segundo parâmetro é um objeto que define os novos valores do documento.\n",
    "\n",
    "Vamos então alterar o titulo do artigo \"Explorando Comandos Bash\":"
   ]
  },
  {
   "cell_type": "code",
   "execution_count": 82,
   "id": "20438624",
   "metadata": {},
   "outputs": [
    {
     "name": "stdout",
     "output_type": "stream",
     "text": [
      "{'_id': ObjectId('60b8b62ca8c573a963a0779d'),\n",
      " 'autor': 'Gabriel',\n",
      " 'contribuidores': ['Michel', 'Luiz', 'Paula', 'Maria'],\n",
      " 'titulo': 'Introdução ao Desenvolvimento de Games 2D com PyGame',\n",
      " 'url': 'https://akiradev.netlify.app/posts/desenvolvimento-games-python/'}\n",
      "{'_id': ObjectId('60b8b65414133df5fa906943'),\n",
      " 'autor': 'Gabriel',\n",
      " 'contribuidores': ['Akira', 'Felippe', 'Talantyr'],\n",
      " 'titulo': 'Estudando Comandos Linux',\n",
      " 'url': 'https://akiradev.netlify.app/posts/comandos-bash/'}\n",
      "{'_id': ObjectId('60b8b65614133df5fa906945'),\n",
      " 'autor': 'Gabriel',\n",
      " 'contribuidores': ['Maria', 'Miguel', 'Michel'],\n",
      " 'titulo': 'Introdução ao SQL com o Módulo sqlite3',\n",
      " 'url': 'https://akiradev.netlify.app/posts/introducao-sql/'}\n"
     ]
    }
   ],
   "source": [
    "query = { \"titulo\": \"Explorando Comandos Bash\" }\n",
    "novos_valores = { \"$set\": { \"titulo\": \"Estudando Comandos Linux\" } }\n",
    "\n",
    "tutorial.update_one(query, novos_valores)\n",
    "\n",
    "for resultado in tutorial.find():\n",
    "    pprint.pprint(resultado)"
   ]
  },
  {
   "cell_type": "markdown",
   "id": "0e17cf13",
   "metadata": {},
   "source": [
    "Para atualizar todos os documentos que atendem aos critérios da consulta, use o método **update_many()**.\n",
    "\n",
    "Vamos atualizar todos os documentos em que o **autor** comece com a letra **G**:"
   ]
  },
  {
   "cell_type": "code",
   "execution_count": 83,
   "id": "dfc0cb97",
   "metadata": {},
   "outputs": [
    {
     "name": "stdout",
     "output_type": "stream",
     "text": [
      "{'_id': ObjectId('60b8b62ca8c573a963a0779d'),\n",
      " 'autor': 'Akira',\n",
      " 'contribuidores': ['Michel', 'Luiz', 'Paula', 'Maria'],\n",
      " 'titulo': 'Introdução ao Desenvolvimento de Games 2D com PyGame',\n",
      " 'url': 'https://akiradev.netlify.app/posts/desenvolvimento-games-python/'}\n",
      "{'_id': ObjectId('60b8b65414133df5fa906943'),\n",
      " 'autor': 'Akira',\n",
      " 'contribuidores': ['Akira', 'Felippe', 'Talantyr'],\n",
      " 'titulo': 'Estudando Comandos Linux',\n",
      " 'url': 'https://akiradev.netlify.app/posts/comandos-bash/'}\n",
      "{'_id': ObjectId('60b8b65614133df5fa906945'),\n",
      " 'autor': 'Akira',\n",
      " 'contribuidores': ['Maria', 'Miguel', 'Michel'],\n",
      " 'titulo': 'Introdução ao SQL com o Módulo sqlite3',\n",
      " 'url': 'https://akiradev.netlify.app/posts/introducao-sql/'}\n"
     ]
    }
   ],
   "source": [
    "query = { \"autor\": { \"$regex\": \"^G\" } }\n",
    "novos_valores = { \"$set\": { \"autor\": \"Akira\" } }\n",
    "\n",
    "tutorial.update_many(query, novos_valores)\n",
    "\n",
    "for resultado in tutorial.find():\n",
    "    pprint.pprint(resultado)"
   ]
  },
  {
   "cell_type": "markdown",
   "id": "3b67cb62",
   "metadata": {},
   "source": [
    "#### Limitando o Resultado\n",
    "\n",
    "Para limitar o resultado no MongoDB, usamos o método **limit()**.\n",
    "\n",
    "O método **limit()** usa um parâmetro, um número que define quantos documentos devem ser retornados.\n",
    "\n",
    "Vamos então limitar o retorno de tutoriais apenas para 2:"
   ]
  },
  {
   "cell_type": "code",
   "execution_count": 84,
   "id": "c1bf8b9c",
   "metadata": {},
   "outputs": [
    {
     "name": "stdout",
     "output_type": "stream",
     "text": [
      "{'_id': ObjectId('60b8b62ca8c573a963a0779d'),\n",
      " 'autor': 'Akira',\n",
      " 'contribuidores': ['Michel', 'Luiz', 'Paula', 'Maria'],\n",
      " 'titulo': 'Introdução ao Desenvolvimento de Games 2D com PyGame',\n",
      " 'url': 'https://akiradev.netlify.app/posts/desenvolvimento-games-python/'}\n",
      "{'_id': ObjectId('60b8b65414133df5fa906943'),\n",
      " 'autor': 'Akira',\n",
      " 'contribuidores': ['Akira', 'Felippe', 'Talantyr'],\n",
      " 'titulo': 'Estudando Comandos Linux',\n",
      " 'url': 'https://akiradev.netlify.app/posts/comandos-bash/'}\n"
     ]
    }
   ],
   "source": [
    "resultado = tutorial.find().limit(2)\n",
    "\n",
    "for r in resultado:\n",
    "    pprint.pprint(r)"
   ]
  },
  {
   "cell_type": "markdown",
   "id": "eb067da1",
   "metadata": {},
   "source": [
    "#### Fechando Conexões\n",
    "\n",
    "Estabelecer uma conexão com um banco de dados MongoDB é normalmente uma operação cara. Se você tem um aplicativo que constantemente recupera e manipula dados em um banco de dados MongoDB, provavelmente não deseja abrir e fechar a conexão o tempo todo, pois isso pode afetar o desempenho do seu aplicativo.\n",
    "\n",
    "Nesse tipo de situação, você deve manter sua conexão ativa e apenas fechá-la antes de sair do aplicativo para limpar todos os recursos adquiridos. Você pode fechar a conexão chamando **close()** na instância do **MongoClient**:"
   ]
  },
  {
   "cell_type": "code",
   "execution_count": 85,
   "id": "c164740b",
   "metadata": {},
   "outputs": [],
   "source": [
    "client.close()"
   ]
  },
  {
   "cell_type": "markdown",
   "id": "c3347c52",
   "metadata": {},
   "source": [
    "Outra situação é quando você tem um aplicativo que ocasionalmente usa um banco de dados MongoDB. Nesse caso, você pode desejar abrir a conexão quando necessário e fechá-la imediatamente após o uso para liberar os recursos adquiridos. Uma abordagem consistente para esse problema seria usar a instrução **[with](https://docs.python.org/3/reference/compound_stmts.html#with)**. Sim, o MongoClient implementa o [context manager protocol](https://realpython.com/python-timer/#understanding-context-managers-in-python):"
   ]
  },
  {
   "cell_type": "code",
   "execution_count": 87,
   "id": "644fe586",
   "metadata": {},
   "outputs": [
    {
     "name": "stdout",
     "output_type": "stream",
     "text": [
      "{'_id': ObjectId('60b8b62ca8c573a963a0779d'),\n",
      " 'autor': 'Akira',\n",
      " 'contribuidores': ['Michel', 'Luiz', 'Paula', 'Maria'],\n",
      " 'titulo': 'Introdução ao Desenvolvimento de Games 2D com PyGame',\n",
      " 'url': 'https://akiradev.netlify.app/posts/desenvolvimento-games-python/'}\n",
      "{'_id': ObjectId('60b8b65414133df5fa906943'),\n",
      " 'autor': 'Akira',\n",
      " 'contribuidores': ['Akira', 'Felippe', 'Talantyr'],\n",
      " 'titulo': 'Estudando Comandos Linux',\n",
      " 'url': 'https://akiradev.netlify.app/posts/comandos-bash/'}\n",
      "{'_id': ObjectId('60b8b65614133df5fa906945'),\n",
      " 'autor': 'Akira',\n",
      " 'contribuidores': ['Maria', 'Miguel', 'Michel'],\n",
      " 'titulo': 'Introdução ao SQL com o Módulo sqlite3',\n",
      " 'url': 'https://akiradev.netlify.app/posts/introducao-sql/'}\n"
     ]
    }
   ],
   "source": [
    "with MongoClient() as client:\n",
    "    db = client.tutoriais\n",
    "    for doc in db.tutorial.find():\n",
    "        pprint.pprint(doc)"
   ]
  },
  {
   "cell_type": "markdown",
   "id": "19dcb795",
   "metadata": {},
   "source": [
    "Se você usar a instrução **with** para lidar com seu cliente MongoDB, então, no final do bloco de código **with**, o método **__exit__()** do cliente é chamado, o que ao mesmo tempo fecha a conexão chamando **close()**."
   ]
  },
  {
   "cell_type": "markdown",
   "id": "173d769d",
   "metadata": {},
   "source": [
    "#### Deletando uma Coleção\n",
    "\n",
    "Você pode excluir uma tabela ou coleção como é chamada no MongoDB, usando o método **drop()**.\n",
    "\n",
    "Podemos deletar a coleção **tutorial**:"
   ]
  },
  {
   "cell_type": "code",
   "execution_count": 88,
   "id": "2000016c",
   "metadata": {},
   "outputs": [],
   "source": [
    "tutorial.drop()"
   ]
  },
  {
   "cell_type": "markdown",
   "id": "aee339eb",
   "metadata": {},
   "source": [
    "O método **drop()** retorna **True** se a coleção foi descartada com sucesso e **False** se a coleção não existe."
   ]
  },
  {
   "cell_type": "markdown",
   "id": "6dc0906f",
   "metadata": {},
   "source": [
    "## Usando MongoDB com Python e MongoEngine\n",
    "\n",
    "Embora o PyMongo seja um driver Python excelente e poderoso para fazer interface com o MongoDB, provavelmente é um nível um pouco baixo para muitos de seus projetos. Com o PyMongo, você terá que escrever muitos códigos para inserir, recuperar, atualizar e excluir documentos de forma consistente.\n",
    "\n",
    "Uma biblioteca que fornece uma abstração superior ao topo de PyMongo é [MongoEngine](http://docs.mongoengine.org/). MongoEngine é um object-document mapper (ODM), que é aproximadamente equivalente a um [object-relational mapper](https://en.wikipedia.org/wiki/Object-relational_mapping) (ORM) baseado em SQL. MongoEngine fornece uma abstração baseada em classe, então todos os modelos que você cria são classes."
   ]
  },
  {
   "cell_type": "markdown",
   "id": "400cb821",
   "metadata": {},
   "source": [
    "### Instalando MongoEngine\n",
    "\n",
    "Existem várias bibliotecas Python para ajudá-lo a trabalhar com o MongoDB. MongoEngine, no entanto, é um popular que fornece um bom conjunto de recursos, flexibilidade e suporte da comunidade. O MongoEngine está [disponível no PyPI](https://pypi.org/project/mongoengine/). Você pode instalá-lo usando o seguinte comando pip:\n",
    "\n",
    "```\n",
    "$ pip install mongoengine\n",
    "```\n",
    "\n",
    "Depois de instalar o MongoEngine em seu ambiente Python, você está pronto para começar a trabalhar com bancos de dados MongoDB usando os recursos [orientados a objetos](https://realpython.com/python3-object-oriented-programming/) do Python. \n",
    "\n",
    "A próxima etapa é conectar-se à sua instância do MongoDB em execução."
   ]
  },
  {
   "cell_type": "markdown",
   "id": "9ce454db",
   "metadata": {},
   "source": [
    "### Estabelecendo uma Conexão\n",
    "\n",
    "Para estabelecer uma conexão com seu banco de dados, você precisa usar **mongoengine.connect()**. Esta função leva vários argumentos. No entanto, neste tutorial, você usará apenas três deles."
   ]
  },
  {
   "cell_type": "code",
   "execution_count": 90,
   "id": "53e21950",
   "metadata": {},
   "outputs": [
    {
     "data": {
      "text/plain": [
       "MongoClient(host=['localhost:27017'], document_class=dict, tz_aware=False, connect=True, read_preference=Primary())"
      ]
     },
     "execution_count": 90,
     "metadata": {},
     "output_type": "execute_result"
    }
   ],
   "source": [
    "from mongoengine import connect\n",
    "\n",
    "connect(db=\"tutoriais\", host=\"localhost\", port=27017)"
   ]
  },
  {
   "cell_type": "markdown",
   "id": "af1cf665",
   "metadata": {},
   "source": [
    "Aqui, você primeiro define o nome do banco de dados db como \"tutoriais\", que é o nome do banco de dados no qual deseja trabalhar. Em seguida, você fornece um host e uma porta para se conectar à sua instância atual do MongoDB. Como você está usando o host e a porta padrão, pode omitir esses dois parâmetros e apenas usar `connect(\"tutoriais\")` se desejar."
   ]
  },
  {
   "cell_type": "markdown",
   "id": "076eea5b",
   "metadata": {},
   "source": [
    "### Trabalhando com Coleções e Documentos\n",
    "\n",
    "Para criar documentos com o MongoEngine, você primeiro precisa definir quais dados deseja que os documentos tenham. Em outras palavras, você precisa definir um **[document schema](https://docs.mongoengine.org/guide/defining-documents.html#defining-a-document-s-schema)**. MongoEngine encoraja você a definir um **document schema** para ajudá-lo a reduzir erros de codificação e permitir que você defina métodos utilitários ou auxiliares.\n",
    "\n",
    "Semelhante aos ORMs, ODMs como MongoEngine fornecem uma classe base ou modelo para você definir um document schema. Em ORMs, essa classe é equivalente a uma tabela e suas instâncias são equivalentes a linhas. No MongoEngine, a classe é equivalente a uma coleção e suas instâncias são equivalentes a documentos.\n",
    "\n",
    "Para criar um modelo, você precisa criar uma subclasse de [Document](https://docs.mongoengine.org/apireference.html#documents) e fornecer os campos obrigatórios como [atributos de classe](https://realpython.com/python3-object-oriented-programming/#class-and-instance-attributes). Para continuar com o exemplo do blog, veja como você pode criar um modelo para seus tutoriais:"
   ]
  },
  {
   "cell_type": "code",
   "execution_count": 91,
   "id": "6cda8f4b",
   "metadata": {},
   "outputs": [],
   "source": [
    "from mongoengine import Document, ListField, StringField, URLField\n",
    "\n",
    "class Tutorial(Document):\n",
    "    titulo = StringField(required=True, max_length=70)\n",
    "    autor = StringField(required=True, max_length=20)\n",
    "    contribuidores = ListField(StringField(max_length=20))\n",
    "    url = URLField(required=True)"
   ]
  },
  {
   "cell_type": "markdown",
   "id": "a7df2f4b",
   "metadata": {},
   "source": [
    "Com este modelo, você diz ao MongoEngine que espera que um documento Tutorial tenha um **titulo**, um **autor**, uma lista de **contribuidores** e um **url**. A classe base, **Document**, usa essas informações junto com os tipos de campo para validar os dados de *input* para você.\n",
    "\n",
    "**Observação**: uma das tarefas mais difíceis com modelos de banco de dados é a validação de dados. Como você se certifica de que os dados de *input* estão em conformidade com seus requisitos de formato? Essa é uma das razões para você ter um **document schema** coerente e uniforme.\n",
    "\n",
    "MongoDB é considerado um banco de dados sem esquema, mas isso não significa que seja livre de esquemas. Ter documentos com um esquema diferente na mesma coleção pode levar a erros de processamento e comportamento inconsistente.\n",
    "\n",
    "Por exemplo: se você tentar salvar um objeto Tutorial sem um **titulo**, seu modelo lançará uma exception e avisará você. Você pode levar isso ainda mais longe e adicionar mais restrições, como o comprimento do **titulo** e assim por diante.\n",
    "\n",
    "Existem alguns parâmetros gerais que você pode usar para validar campos. Aqui estão alguns dos parâmetros mais comumente usados:\n",
    "\n",
    "- **db_field**: especifica um nome de campo diferente.\n",
    "- **required**: garante que o campo seja fornecido.\n",
    "- **default**: fornece um valor padrão para um determinado campo se nenhum valor for fornecido.\n",
    "- **unique**: garante que nenhum outro documento da coleção tenha o mesmo valor para este campo.\n",
    "\n",
    "Cada tipo de campo específico também possui seu próprio conjunto de parâmetros. Você pode verificar a [documentação](https://docs.mongoengine.org/apireference.html#fields) para um guia completo dos tipos de campo disponíveis.\n",
    "\n",
    "Para salvar um documento em seu banco de dados, você precisa chamar **save()** em um objeto de documento. Se o documento já existir, todas as alterações serão aplicadas ao documento existente. Se o documento não existir, ele será criado.\n",
    "\n",
    "Aqui está um exemplo de criação e salvamento de um tutorial em seu banco de dados de exemplos de **tutoriais**:"
   ]
  },
  {
   "cell_type": "code",
   "execution_count": 92,
   "id": "92a5036e",
   "metadata": {},
   "outputs": [],
   "source": [
    "tutorial1 = Tutorial(\n",
    "    titulo=\"Análise de Séries Temporais com Pandas\",\n",
    "    autor=\"Gabriel\",\n",
    "    contribuidores=[\"Miguel\", \"Rafael\", \"Paula\"],\n",
    "    url=\"https://akiradev.netlify.app/posts/series-temporais-pandas/\"\n",
    ")"
   ]
  },
  {
   "cell_type": "markdown",
   "id": "e9ecd37b",
   "metadata": {},
   "source": [
    "Com o tutorial definido, agora devemos salvá-lo:"
   ]
  },
  {
   "cell_type": "code",
   "execution_count": 93,
   "id": "5cba7597",
   "metadata": {},
   "outputs": [
    {
     "data": {
      "text/plain": [
       "<Tutorial: Tutorial object>"
      ]
     },
     "execution_count": 93,
     "metadata": {},
     "output_type": "execute_result"
    }
   ],
   "source": [
    "tutorial1.save()"
   ]
  },
  {
   "cell_type": "markdown",
   "id": "c7c1cda6",
   "metadata": {},
   "source": [
    "Por padrão, **save()** insere o novo documento em uma coleção com o nome da classe de modelo, **Tutorial**, exceto usando letras minúsculas. Nesse caso, o nome da coleção é **tutorial**, que corresponde à coleção que você está usando para salvar seus tutoriais.\n",
    "\n",
    "O PyMongo executa a **validação de dados** quando você chama **save()**. Isso significa que ele verifica os dados de *input* em relação ao esquema que você declarou na classe de modelo **Tutorial**. Se os dados de entrada violam o esquema ou qualquer uma de suas restrições, você obtém uma exceção e os dados não são salvos no banco de dados."
   ]
  },
  {
   "cell_type": "markdown",
   "id": "3a5ec9fa",
   "metadata": {},
   "source": [
    "Cada subclasse de **Document** possui um atributo **objects** que você pode usar para acessar os documentos na coleção associada. Por exemplo, aqui está como você pode imprimir o **titulo** de todos os seus tutoriais atuais:"
   ]
  },
  {
   "cell_type": "code",
   "execution_count": 95,
   "id": "e0f8f338",
   "metadata": {},
   "outputs": [
    {
     "name": "stdout",
     "output_type": "stream",
     "text": [
      "Análise de Séries Temporais com Pandas\n"
     ]
    }
   ],
   "source": [
    "for doc in Tutorial.objects:\n",
    "    print(doc.titulo)"
   ]
  },
  {
   "cell_type": "markdown",
   "id": "ada63e4a",
   "metadata": {},
   "source": [
    "Também podemos usar a notação de dicionários:"
   ]
  },
  {
   "cell_type": "code",
   "execution_count": 96,
   "id": "69fe6633",
   "metadata": {},
   "outputs": [
    {
     "name": "stdout",
     "output_type": "stream",
     "text": [
      "['Miguel', 'Rafael', 'Paula']\n"
     ]
    }
   ],
   "source": [
    "for doc in Tutorial.objects:\n",
    "    print(doc['contribuidores'])"
   ]
  },
  {
   "cell_type": "markdown",
   "id": "3cccb267",
   "metadata": {},
   "source": [
    "Você também pode usar **objects** para filtrar seus documentos. Por exemplo, digamos que você queira recuperar os tutoriais de autoria de Gabriel:"
   ]
  },
  {
   "cell_type": "code",
   "execution_count": 99,
   "id": "0c74d728",
   "metadata": {},
   "outputs": [
    {
     "name": "stdout",
     "output_type": "stream",
     "text": [
      "Análise de Séries Temporais com Pandas\n"
     ]
    }
   ],
   "source": [
    "for doc in Tutorial.objects(autor=\"Gabriel\"):\n",
    "    print(doc['titulo'])"
   ]
  },
  {
   "cell_type": "markdown",
   "id": "d2c939cf",
   "metadata": {},
   "source": [
    "O MongoEngine é adequado para gerenciar seus bancos de dados MongoDB para praticamente qualquer tipo de aplicativo. Seus recursos o tornam ideal para a criação de programas eficientes e escaláveis usando uma abordagem de alto nível. Se você estiver procurando por mais informações sobre o MongoEngine, certifique-se de verificar seu [guia do usuário](https://docs.mongoengine.org/guide/index.html).\n",
    "\n",
    "Se você precisa de uma solução de banco de dados robusta, escalonável e flexível, o MongoDB pode ser uma boa opção para você. MongoDB é um banco de dados NoSQL maduro e popular com excelente suporte para Python. Com um bom entendimento de como acessar o MongoDB com Python, você estará pronto para criar aplicativos de banco de dados que escalam bem e fornecem excelente desempenho."
   ]
  },
  {
   "cell_type": "markdown",
   "id": "a8200553",
   "metadata": {},
   "source": [
    "## Referências\n",
    "\n",
    "- [Python MongoDB](https://www.w3schools.com/python/python_mongodb_getstarted.asp)\n",
    "- [Python and MongoDB: Connecting to NoSQL Databases](https://realpython.com/introduction-to-mongodb-and-python/)"
   ]
  }
 ],
 "metadata": {
  "kernelspec": {
   "display_name": "Python 3",
   "language": "python",
   "name": "python3"
  },
  "language_info": {
   "codemirror_mode": {
    "name": "ipython",
    "version": 3
   },
   "file_extension": ".py",
   "mimetype": "text/x-python",
   "name": "python",
   "nbconvert_exporter": "python",
   "pygments_lexer": "ipython3",
   "version": "3.7.10"
  }
 },
 "nbformat": 4,
 "nbformat_minor": 5
}
