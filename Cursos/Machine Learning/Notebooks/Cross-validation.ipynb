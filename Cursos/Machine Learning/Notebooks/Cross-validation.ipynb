{
 "cells": [
  {
   "cell_type": "markdown",
   "id": "337d1902",
   "metadata": {},
   "source": [
    "# Cross-validation\n",
    "\n",
    "A **Cross-validation**, às vezes chamada de **rotation estimation**, é qualquer uma das várias técnicas de validação de modelo semelhantes para avaliar como os resultados de uma análise estatística serão generalizados para um conjunto de dados independente.\n",
    "\n",
    "É usado principalmente em configurações onde o objetivo é a previsão e se deseja estimar a precisão com que um modelo preditivo será executado na prática.\n",
    "\n",
    "Em um problema de predição, um modelo geralmente recebe um conjunto de dados conhecidos no qual o treinamento é executado (conjunto de dados de treinamento) e um conjunto de dados desconhecidos (ou dados vistos pela primeira vez) contra o qual o modelo é testado (chamado de conjunto de dados de validação ou teste).\n",
    "\n",
    "![img](https://i.ibb.co/4mBSH9P/K-fold-cross-validation-EN.png)\n",
    "\n",
    "O objetivo da Cross-validation é testar a capacidade do modelo de prever novos dados que não foram usados na estimativa, a fim de sinalizar problemas como **overfitting** ou **selection bias** e dar uma visão de como o modelo irá generalizar para um conjunto de dados independente (ou seja, um conjunto de dados desconhecido, por exemplo, de um problema real).\n",
    "\n",
    "Para mais detalhes você pode checar o **[Wikipedia](https://en.wikipedia.org/wiki/Cross-validation_(statistics))**\n",
    "\n",
    "Vamos agora executar experimentos para melhor compreendermos o conceito de Cross-Validation."
   ]
  },
  {
   "cell_type": "markdown",
   "id": "45b9ac6b",
   "metadata": {},
   "source": [
    "## Dados\n",
    "\n",
    "Primeiramente vamos lidar com um problema de regressão envolvendo dados relacionados a propaganda e seu devido resultado em vendas para uma determinada corporação.\n",
    "\n",
    "Inicialmente importamos as bibliotecas necessárias para trabalharmos."
   ]
  },
  {
   "cell_type": "code",
   "execution_count": 10,
   "id": "36c80ffe",
   "metadata": {},
   "outputs": [],
   "source": [
    "import numpy as np\n",
    "import pandas as pd\n",
    "import matplotlib.pyplot as plt\n",
    "import seaborn as sns"
   ]
  },
  {
   "cell_type": "markdown",
   "id": "e31e3828",
   "metadata": {},
   "source": [
    "E agora carregamos os nossos dados em um **DataFrame** pandas."
   ]
  },
  {
   "cell_type": "code",
   "execution_count": 18,
   "id": "454ba126",
   "metadata": {},
   "outputs": [
    {
     "data": {
      "text/html": [
       "<div>\n",
       "<style scoped>\n",
       "    .dataframe tbody tr th:only-of-type {\n",
       "        vertical-align: middle;\n",
       "    }\n",
       "\n",
       "    .dataframe tbody tr th {\n",
       "        vertical-align: top;\n",
       "    }\n",
       "\n",
       "    .dataframe thead th {\n",
       "        text-align: right;\n",
       "    }\n",
       "</style>\n",
       "<table border=\"1\" class=\"dataframe\">\n",
       "  <thead>\n",
       "    <tr style=\"text-align: right;\">\n",
       "      <th></th>\n",
       "      <th>TV</th>\n",
       "      <th>radio</th>\n",
       "      <th>newspaper</th>\n",
       "      <th>sales</th>\n",
       "    </tr>\n",
       "  </thead>\n",
       "  <tbody>\n",
       "    <tr>\n",
       "      <th>0</th>\n",
       "      <td>230.1</td>\n",
       "      <td>37.8</td>\n",
       "      <td>69.2</td>\n",
       "      <td>22.1</td>\n",
       "    </tr>\n",
       "    <tr>\n",
       "      <th>1</th>\n",
       "      <td>44.5</td>\n",
       "      <td>39.3</td>\n",
       "      <td>45.1</td>\n",
       "      <td>10.4</td>\n",
       "    </tr>\n",
       "    <tr>\n",
       "      <th>2</th>\n",
       "      <td>17.2</td>\n",
       "      <td>45.9</td>\n",
       "      <td>69.3</td>\n",
       "      <td>9.3</td>\n",
       "    </tr>\n",
       "    <tr>\n",
       "      <th>3</th>\n",
       "      <td>151.5</td>\n",
       "      <td>41.3</td>\n",
       "      <td>58.5</td>\n",
       "      <td>18.5</td>\n",
       "    </tr>\n",
       "    <tr>\n",
       "      <th>4</th>\n",
       "      <td>180.8</td>\n",
       "      <td>10.8</td>\n",
       "      <td>58.4</td>\n",
       "      <td>12.9</td>\n",
       "    </tr>\n",
       "  </tbody>\n",
       "</table>\n",
       "</div>"
      ],
      "text/plain": [
       "      TV  radio  newspaper  sales\n",
       "0  230.1   37.8       69.2   22.1\n",
       "1   44.5   39.3       45.1   10.4\n",
       "2   17.2   45.9       69.3    9.3\n",
       "3  151.5   41.3       58.5   18.5\n",
       "4  180.8   10.8       58.4   12.9"
      ]
     },
     "execution_count": 18,
     "metadata": {},
     "output_type": "execute_result"
    }
   ],
   "source": [
    "df = pd.read_csv('dados/Advertising.csv')\n",
    "df.head()"
   ]
  },
  {
   "cell_type": "markdown",
   "id": "18ac7042",
   "metadata": {},
   "source": [
    "## Procedimento de Divisão: Treinamento | Teste\n",
    "\n",
    "0. Limpar e ajustar os dados conforme necessário para **X** e **y**\n",
    "1. Dividir os dados em Treinamento/Teste para ambos **X** e **y**\n",
    "2. Ajustar/Treinar um Scaler nos dados de treinamento **X**\n",
    "3. Fazer o Scale dos dados de teste **X**\n",
    "4. Criar o Modelo\n",
    "5. Ajustar/Treinar o Modelo nos dados de treinamento **X**\n",
    "6. Avaliar o Modelo nos dados de treinamento **X** (Ao criar previsões e compará-las com **y_test**)\n",
    "7. Ajustar os parâmetros conforme necessário e repetir os procedimento **5** e **6**\n",
    "\n",
    "Vamos então executar essas etapas para o nosso problema atual."
   ]
  },
  {
   "cell_type": "markdown",
   "id": "4682fd3c",
   "metadata": {},
   "source": [
    "#### 0"
   ]
  },
  {
   "cell_type": "code",
   "execution_count": 19,
   "id": "bb7ae2c9",
   "metadata": {},
   "outputs": [],
   "source": [
    "X = df.drop('sales', axis=1)\n",
    "y = df['sales']"
   ]
  },
  {
   "cell_type": "markdown",
   "id": "bc3cc960",
   "metadata": {},
   "source": [
    "#### 1"
   ]
  },
  {
   "cell_type": "code",
   "execution_count": 20,
   "id": "c1a52bde",
   "metadata": {},
   "outputs": [],
   "source": [
    "from sklearn.model_selection import train_test_split\n",
    "\n",
    "X_train, X_test, y_train, y_test = train_test_split(X, y, test_size=0.3)"
   ]
  },
  {
   "cell_type": "markdown",
   "id": "84f7ca52",
   "metadata": {},
   "source": [
    "#### 2-3"
   ]
  },
  {
   "cell_type": "code",
   "execution_count": 21,
   "id": "eb26fc44",
   "metadata": {},
   "outputs": [],
   "source": [
    "from sklearn.preprocessing import StandardScaler\n",
    "\n",
    "scaler = StandardScaler()\n",
    "scaler.fit(X_train)\n",
    "X_train = scaler.transform(X_train)\n",
    "X_test = scaler.transform(X_test)"
   ]
  },
  {
   "cell_type": "markdown",
   "id": "a5069174",
   "metadata": {},
   "source": [
    "#### 4-5"
   ]
  },
  {
   "cell_type": "code",
   "execution_count": 22,
   "id": "4ce5bac4",
   "metadata": {},
   "outputs": [],
   "source": [
    "from sklearn.linear_model import Ridge\n",
    "\n",
    "model = Ridge(alpha=100)\n",
    "model.fit(X_train, y_train);"
   ]
  },
  {
   "cell_type": "markdown",
   "id": "0306dc52",
   "metadata": {},
   "source": [
    "#### 6"
   ]
  },
  {
   "cell_type": "code",
   "execution_count": 23,
   "id": "36436b5a",
   "metadata": {},
   "outputs": [
    {
     "data": {
      "text/plain": [
       "9.739601506686308"
      ]
     },
     "execution_count": 23,
     "metadata": {},
     "output_type": "execute_result"
    }
   ],
   "source": [
    "from sklearn.metrics import mean_squared_error\n",
    "\n",
    "y_pred = model.predict(X_test)\n",
    "mean_squared_error(y_test, y_pred)"
   ]
  },
  {
   "cell_type": "markdown",
   "id": "dd04cc87",
   "metadata": {},
   "source": [
    "#### 7"
   ]
  },
  {
   "cell_type": "code",
   "execution_count": 24,
   "id": "8ce582bf",
   "metadata": {},
   "outputs": [
    {
     "data": {
      "text/plain": [
       "2.461088644854306"
      ]
     },
     "execution_count": 24,
     "metadata": {},
     "output_type": "execute_result"
    }
   ],
   "source": [
    "ridge = Ridge(alpha=1)\n",
    "ridge.fit(X_train, y_train)\n",
    "y_preds = ridge.predict(X_test)\n",
    "\n",
    "mean_squared_error(y_test, y_preds)"
   ]
  },
  {
   "cell_type": "markdown",
   "id": "62e1b205",
   "metadata": {},
   "source": [
    "## Divisão: Treinamento | Validação | Teste\n",
    "\n",
    "Para uma melhor avaliação de nosso modelo, vamos dividir os nossos dados em três conjuntos: **treinamento**, **validação** e **teste**."
   ]
  },
  {
   "cell_type": "code",
   "execution_count": 38,
   "id": "13d6f0b2",
   "metadata": {},
   "outputs": [],
   "source": [
    "X = df.drop('sales', axis=1)\n",
    "y = df['sales']"
   ]
  },
  {
   "cell_type": "markdown",
   "id": "c77ffd50",
   "metadata": {},
   "source": [
    "Faremos a primeira divisão."
   ]
  },
  {
   "cell_type": "code",
   "execution_count": 39,
   "id": "2cda4963",
   "metadata": {},
   "outputs": [],
   "source": [
    "X_train, X_other, y_train, y_other = train_test_split(X, y, test_size=0.3)"
   ]
  },
  {
   "cell_type": "markdown",
   "id": "cf8635b8",
   "metadata": {},
   "source": [
    "E a segunda divisão."
   ]
  },
  {
   "cell_type": "code",
   "execution_count": 40,
   "id": "1d12253f",
   "metadata": {},
   "outputs": [],
   "source": [
    "X_val, X_test, y_val, y_test = train_test_split(X_other, y_other, test_size=0.5)"
   ]
  },
  {
   "cell_type": "markdown",
   "id": "e34e02a1",
   "metadata": {},
   "source": [
    "Para confirmar a exatidão de nossas divisões, podemos verificar o tamanho de cada conjunto."
   ]
  },
  {
   "cell_type": "code",
   "execution_count": 41,
   "id": "d065a8ad",
   "metadata": {},
   "outputs": [
    {
     "data": {
      "text/plain": [
       "200"
      ]
     },
     "execution_count": 41,
     "metadata": {},
     "output_type": "execute_result"
    }
   ],
   "source": [
    "len(df)"
   ]
  },
  {
   "cell_type": "code",
   "execution_count": 42,
   "id": "3f1f4a3b",
   "metadata": {},
   "outputs": [
    {
     "data": {
      "text/plain": [
       "200"
      ]
     },
     "execution_count": 42,
     "metadata": {},
     "output_type": "execute_result"
    }
   ],
   "source": [
    "len(X_train) + len(X_val) + len(X_test)"
   ]
  },
  {
   "cell_type": "markdown",
   "id": "7ae7e03b",
   "metadata": {},
   "source": [
    "E agora faremos o scaling dos nossos dados."
   ]
  },
  {
   "cell_type": "code",
   "execution_count": 43,
   "id": "888a701f",
   "metadata": {},
   "outputs": [],
   "source": [
    "scaler = StandardScaler()\n",
    "scaler.fit(X_train)\n",
    "X_train = scaler.transform(X_train)\n",
    "X_val = scaler.transform(X_val)\n",
    "X_test = scaler.transform(X_test)"
   ]
  },
  {
   "cell_type": "markdown",
   "id": "75f85a20",
   "metadata": {},
   "source": [
    "Criamos um novo modelo."
   ]
  },
  {
   "cell_type": "code",
   "execution_count": 44,
   "id": "13c397aa",
   "metadata": {},
   "outputs": [],
   "source": [
    "model_1 = Ridge(alpha=100)\n",
    "model_1.fit(X_train, y_train)\n",
    "y_val_pred = model_1.predict(X_val)"
   ]
  },
  {
   "cell_type": "markdown",
   "id": "0c745ce6",
   "metadata": {},
   "source": [
    "Checamos as métricas."
   ]
  },
  {
   "cell_type": "code",
   "execution_count": 45,
   "id": "a6797cd7",
   "metadata": {},
   "outputs": [
    {
     "data": {
      "text/plain": [
       "5.879842460946637"
      ]
     },
     "execution_count": 45,
     "metadata": {},
     "output_type": "execute_result"
    }
   ],
   "source": [
    "mean_squared_error(y_val, y_val_pred)"
   ]
  },
  {
   "cell_type": "markdown",
   "id": "638f9170",
   "metadata": {},
   "source": [
    "Mais uma vez, criamos um novo modelo."
   ]
  },
  {
   "cell_type": "code",
   "execution_count": 46,
   "id": "d2b1ff4a",
   "metadata": {},
   "outputs": [],
   "source": [
    "model_2 = Ridge(alpha=1)\n",
    "model_2.fit(X_train, y_train)\n",
    "new_pred_val = model_2.predict(X_val)"
   ]
  },
  {
   "cell_type": "markdown",
   "id": "1a86ee88",
   "metadata": {},
   "source": [
    "Novamente checamos as métricas."
   ]
  },
  {
   "cell_type": "code",
   "execution_count": 47,
   "id": "6ae301ed",
   "metadata": {},
   "outputs": [
    {
     "data": {
      "text/plain": [
       "2.450795644643107"
      ]
     },
     "execution_count": 47,
     "metadata": {},
     "output_type": "execute_result"
    }
   ],
   "source": [
    "mean_squared_error(y_val, new_pred_val)"
   ]
  },
  {
   "cell_type": "markdown",
   "id": "fb253a78",
   "metadata": {},
   "source": [
    "Supondo que estamos satisfeitos com este último modelo que desempenhou melhor, podemos então finalmente executar previsões nos dados de teste e avaliar o seu desempenho."
   ]
  },
  {
   "cell_type": "code",
   "execution_count": 48,
   "id": "4ffe49a0",
   "metadata": {},
   "outputs": [],
   "source": [
    "y_final_test_pred = model_2.predict(X_test)"
   ]
  },
  {
   "cell_type": "code",
   "execution_count": 49,
   "id": "1a5c26e5",
   "metadata": {},
   "outputs": [
    {
     "data": {
      "text/plain": [
       "2.1221630223459815"
      ]
     },
     "execution_count": 49,
     "metadata": {},
     "output_type": "execute_result"
    }
   ],
   "source": [
    "mean_squared_error(y_test, y_final_test_pred)"
   ]
  },
  {
   "cell_type": "markdown",
   "id": "abc2b9e4",
   "metadata": {},
   "source": [
    "## Cross-validation\n",
    "\n",
    "Faremos Cross-Validation em nossos dados com a função **cross_val_score**.\n",
    "\n",
    "Vamos novamente repetir as etapas tradicionais."
   ]
  },
  {
   "cell_type": "code",
   "execution_count": 50,
   "id": "f88f43bd",
   "metadata": {},
   "outputs": [],
   "source": [
    "X = df.drop('sales', axis=1)\n",
    "y = df['sales']"
   ]
  },
  {
   "cell_type": "markdown",
   "id": "e5780fe2",
   "metadata": {},
   "source": [
    "Dessa vez trabalharemos apenas com conjunto de treinamento e teste."
   ]
  },
  {
   "cell_type": "code",
   "execution_count": 51,
   "id": "bbbac09b",
   "metadata": {},
   "outputs": [],
   "source": [
    "X_train, X_test, y_train, y_test = train_test_split(X, y, test_size=0.3)"
   ]
  },
  {
   "cell_type": "markdown",
   "id": "4f74d2a0",
   "metadata": {},
   "source": [
    "Fazemos o scaling dos dados."
   ]
  },
  {
   "cell_type": "code",
   "execution_count": 52,
   "id": "bb7fe9c5",
   "metadata": {},
   "outputs": [],
   "source": [
    "scaler = StandardScaler()\n",
    "scaler.fit(X_train)\n",
    "X_train = scaler.transform(X_train)\n",
    "X_test = scaler.transform(X_test)"
   ]
  },
  {
   "cell_type": "markdown",
   "id": "93e46d7a",
   "metadata": {},
   "source": [
    "Criamos um modelo para cross-validar a escolha dos parâmetros."
   ]
  },
  {
   "cell_type": "code",
   "execution_count": 53,
   "id": "ba9ec0b2",
   "metadata": {},
   "outputs": [],
   "source": [
    "model = Ridge(alpha=100)"
   ]
  },
  {
   "cell_type": "code",
   "execution_count": 54,
   "id": "36662600",
   "metadata": {},
   "outputs": [],
   "source": [
    "from sklearn.model_selection import cross_val_score\n",
    "\n",
    "scores = cross_val_score(model, X_train, y_train, scoring='neg_mean_squared_error', cv=5)"
   ]
  },
  {
   "cell_type": "code",
   "execution_count": 57,
   "id": "001c8934",
   "metadata": {},
   "outputs": [
    {
     "data": {
      "text/plain": [
       "8.372820360401166"
      ]
     },
     "execution_count": 57,
     "metadata": {},
     "output_type": "execute_result"
    }
   ],
   "source": [
    "abs(scores.mean())"
   ]
  },
  {
   "cell_type": "markdown",
   "id": "aabdb3d1",
   "metadata": {},
   "source": [
    "Não obtivemos um bom desempenho neste modelo, podemos então criar outro e avaliá-lo."
   ]
  },
  {
   "cell_type": "code",
   "execution_count": 73,
   "id": "e1c44f2f",
   "metadata": {},
   "outputs": [
    {
     "data": {
      "text/plain": [
       "3.2938656880340473"
      ]
     },
     "execution_count": 73,
     "metadata": {},
     "output_type": "execute_result"
    }
   ],
   "source": [
    "model = Ridge(alpha=1)\n",
    "\n",
    "scores = cross_val_score(model, X_train, y_train, scoring='neg_mean_squared_error', cv=5)\n",
    "abs(scores.mean())"
   ]
  },
  {
   "cell_type": "markdown",
   "id": "6a775452",
   "metadata": {},
   "source": [
    "Supondo que estamos satisfeitos com esse modelo.\n",
    "\n",
    "Neste caso, devemos então treiná-lo novamente e finalmente executar previsões nos dados de teste."
   ]
  },
  {
   "cell_type": "code",
   "execution_count": 74,
   "id": "f0c7b0ad",
   "metadata": {},
   "outputs": [
    {
     "data": {
      "text/plain": [
       "2.28650154353358"
      ]
     },
     "execution_count": 74,
     "metadata": {},
     "output_type": "execute_result"
    }
   ],
   "source": [
    "model.fit(X_train, y_train)\n",
    "y_final_test_pred = model.predict(X_test)\n",
    "mean_squared_error(y_test, y_final_test_pred)"
   ]
  },
  {
   "cell_type": "markdown",
   "id": "14f4527e",
   "metadata": {},
   "source": [
    "E este será o nosso **mean_squared_error** final."
   ]
  },
  {
   "cell_type": "markdown",
   "id": "dcac2b92",
   "metadata": {},
   "source": [
    "## A Função cross_validate\n",
    "\n",
    "A função **cross_validate()** nos permite ver múltiplas métricas de perfomance da **cross-validation** em um modelo e explorar quanto tempo o ajuste dos dados e o teste levou.\n",
    "\n",
    "A seguir veremos um exemplo de como esta função opera."
   ]
  },
  {
   "cell_type": "code",
   "execution_count": 75,
   "id": "af45139b",
   "metadata": {},
   "outputs": [],
   "source": [
    "X = df.drop('sales', axis=1)\n",
    "y = df['sales']\n",
    "\n",
    "X_train, X_test, y_train, y_test = train_test_split(X, y, test_size=0.3)\n",
    "\n",
    "scaler = StandardScaler()\n",
    "scaler.fit(X_train)\n",
    "X_train = scaler.transform(X_train)\n",
    "X_test = scaler.transform(X_test)"
   ]
  },
  {
   "cell_type": "markdown",
   "id": "f827e4fb",
   "metadata": {},
   "source": [
    "Com nossos dados preparados, podemos testar a função **cross_validate**."
   ]
  },
  {
   "cell_type": "code",
   "execution_count": 76,
   "id": "c7e60226",
   "metadata": {},
   "outputs": [],
   "source": [
    "from sklearn.model_selection import cross_validate\n",
    "\n",
    "model = Ridge(alpha=100)\n",
    "\n",
    "scores = cross_validate(model, X_train, y_train, scoring=['neg_mean_squared_error','neg_mean_absolute_error'], cv=10)"
   ]
  },
  {
   "cell_type": "markdown",
   "id": "99c915ea",
   "metadata": {},
   "source": [
    "Nosso modelo foi executado em 10 **folds** diferentes e calculou ambas as métricas de desempenho que definimos no parâmetro **scoring**.\n",
    "\n",
    "Para melhor visualizar esses resultados, podemos construir um **DataFrame** pandas."
   ]
  },
  {
   "cell_type": "code",
   "execution_count": 77,
   "id": "e411e720",
   "metadata": {},
   "outputs": [
    {
     "data": {
      "text/html": [
       "<div>\n",
       "<style scoped>\n",
       "    .dataframe tbody tr th:only-of-type {\n",
       "        vertical-align: middle;\n",
       "    }\n",
       "\n",
       "    .dataframe tbody tr th {\n",
       "        vertical-align: top;\n",
       "    }\n",
       "\n",
       "    .dataframe thead th {\n",
       "        text-align: right;\n",
       "    }\n",
       "</style>\n",
       "<table border=\"1\" class=\"dataframe\">\n",
       "  <thead>\n",
       "    <tr style=\"text-align: right;\">\n",
       "      <th></th>\n",
       "      <th>fit_time</th>\n",
       "      <th>score_time</th>\n",
       "      <th>test_neg_mean_squared_error</th>\n",
       "      <th>test_neg_mean_absolute_error</th>\n",
       "    </tr>\n",
       "  </thead>\n",
       "  <tbody>\n",
       "    <tr>\n",
       "      <th>0</th>\n",
       "      <td>0.002835</td>\n",
       "      <td>0.016784</td>\n",
       "      <td>-7.619863</td>\n",
       "      <td>-2.117068</td>\n",
       "    </tr>\n",
       "    <tr>\n",
       "      <th>1</th>\n",
       "      <td>0.002378</td>\n",
       "      <td>0.004966</td>\n",
       "      <td>-4.539462</td>\n",
       "      <td>-1.533362</td>\n",
       "    </tr>\n",
       "    <tr>\n",
       "      <th>2</th>\n",
       "      <td>0.002399</td>\n",
       "      <td>0.001550</td>\n",
       "      <td>-9.553552</td>\n",
       "      <td>-2.506458</td>\n",
       "    </tr>\n",
       "    <tr>\n",
       "      <th>3</th>\n",
       "      <td>0.001906</td>\n",
       "      <td>0.001924</td>\n",
       "      <td>-8.755653</td>\n",
       "      <td>-2.236681</td>\n",
       "    </tr>\n",
       "    <tr>\n",
       "      <th>4</th>\n",
       "      <td>0.002300</td>\n",
       "      <td>0.001730</td>\n",
       "      <td>-4.160177</td>\n",
       "      <td>-1.831017</td>\n",
       "    </tr>\n",
       "    <tr>\n",
       "      <th>5</th>\n",
       "      <td>0.002524</td>\n",
       "      <td>0.001527</td>\n",
       "      <td>-8.516092</td>\n",
       "      <td>-2.348971</td>\n",
       "    </tr>\n",
       "    <tr>\n",
       "      <th>6</th>\n",
       "      <td>0.001680</td>\n",
       "      <td>0.001152</td>\n",
       "      <td>-3.742907</td>\n",
       "      <td>-1.563091</td>\n",
       "    </tr>\n",
       "    <tr>\n",
       "      <th>7</th>\n",
       "      <td>0.001604</td>\n",
       "      <td>0.001114</td>\n",
       "      <td>-10.293452</td>\n",
       "      <td>-2.612610</td>\n",
       "    </tr>\n",
       "    <tr>\n",
       "      <th>8</th>\n",
       "      <td>0.001608</td>\n",
       "      <td>0.003474</td>\n",
       "      <td>-2.265035</td>\n",
       "      <td>-1.041094</td>\n",
       "    </tr>\n",
       "    <tr>\n",
       "      <th>9</th>\n",
       "      <td>0.008229</td>\n",
       "      <td>0.003213</td>\n",
       "      <td>-13.212076</td>\n",
       "      <td>-3.214754</td>\n",
       "    </tr>\n",
       "  </tbody>\n",
       "</table>\n",
       "</div>"
      ],
      "text/plain": [
       "   fit_time  score_time  test_neg_mean_squared_error  \\\n",
       "0  0.002835    0.016784                    -7.619863   \n",
       "1  0.002378    0.004966                    -4.539462   \n",
       "2  0.002399    0.001550                    -9.553552   \n",
       "3  0.001906    0.001924                    -8.755653   \n",
       "4  0.002300    0.001730                    -4.160177   \n",
       "5  0.002524    0.001527                    -8.516092   \n",
       "6  0.001680    0.001152                    -3.742907   \n",
       "7  0.001604    0.001114                   -10.293452   \n",
       "8  0.001608    0.003474                    -2.265035   \n",
       "9  0.008229    0.003213                   -13.212076   \n",
       "\n",
       "   test_neg_mean_absolute_error  \n",
       "0                     -2.117068  \n",
       "1                     -1.533362  \n",
       "2                     -2.506458  \n",
       "3                     -2.236681  \n",
       "4                     -1.831017  \n",
       "5                     -2.348971  \n",
       "6                     -1.563091  \n",
       "7                     -2.612610  \n",
       "8                     -1.041094  \n",
       "9                     -3.214754  "
      ]
     },
     "execution_count": 77,
     "metadata": {},
     "output_type": "execute_result"
    }
   ],
   "source": [
    "scores_df = pd.DataFrame(scores)\n",
    "scores_df"
   ]
  },
  {
   "cell_type": "markdown",
   "id": "c5502b0e",
   "metadata": {},
   "source": [
    "Para ver a média das pontuações podemos simplesmente chamar a função **mean()**."
   ]
  },
  {
   "cell_type": "code",
   "execution_count": 78,
   "id": "fea8e8b0",
   "metadata": {},
   "outputs": [
    {
     "data": {
      "text/plain": [
       "fit_time                        0.002746\n",
       "score_time                      0.003744\n",
       "test_neg_mean_squared_error    -7.265827\n",
       "test_neg_mean_absolute_error   -2.100511\n",
       "dtype: float64"
      ]
     },
     "execution_count": 78,
     "metadata": {},
     "output_type": "execute_result"
    }
   ],
   "source": [
    "scores_df.mean()"
   ]
  },
  {
   "cell_type": "markdown",
   "id": "c2e34ad1",
   "metadata": {},
   "source": [
    "E agora podemos tentar construir um modelo melhor."
   ]
  },
  {
   "cell_type": "code",
   "execution_count": 79,
   "id": "bae78fe3",
   "metadata": {},
   "outputs": [
    {
     "data": {
      "text/html": [
       "<div>\n",
       "<style scoped>\n",
       "    .dataframe tbody tr th:only-of-type {\n",
       "        vertical-align: middle;\n",
       "    }\n",
       "\n",
       "    .dataframe tbody tr th {\n",
       "        vertical-align: top;\n",
       "    }\n",
       "\n",
       "    .dataframe thead th {\n",
       "        text-align: right;\n",
       "    }\n",
       "</style>\n",
       "<table border=\"1\" class=\"dataframe\">\n",
       "  <thead>\n",
       "    <tr style=\"text-align: right;\">\n",
       "      <th></th>\n",
       "      <th>fit_time</th>\n",
       "      <th>score_time</th>\n",
       "      <th>test_neg_mean_squared_error</th>\n",
       "      <th>test_neg_mean_absolute_error</th>\n",
       "    </tr>\n",
       "  </thead>\n",
       "  <tbody>\n",
       "    <tr>\n",
       "      <th>0</th>\n",
       "      <td>0.015302</td>\n",
       "      <td>0.003647</td>\n",
       "      <td>-2.793109</td>\n",
       "      <td>-1.301176</td>\n",
       "    </tr>\n",
       "    <tr>\n",
       "      <th>1</th>\n",
       "      <td>0.002755</td>\n",
       "      <td>0.002129</td>\n",
       "      <td>-1.794693</td>\n",
       "      <td>-1.103833</td>\n",
       "    </tr>\n",
       "    <tr>\n",
       "      <th>2</th>\n",
       "      <td>0.002494</td>\n",
       "      <td>0.001546</td>\n",
       "      <td>-1.808498</td>\n",
       "      <td>-1.142403</td>\n",
       "    </tr>\n",
       "    <tr>\n",
       "      <th>3</th>\n",
       "      <td>0.002088</td>\n",
       "      <td>0.001564</td>\n",
       "      <td>-2.706553</td>\n",
       "      <td>-1.356509</td>\n",
       "    </tr>\n",
       "    <tr>\n",
       "      <th>4</th>\n",
       "      <td>0.001823</td>\n",
       "      <td>0.001399</td>\n",
       "      <td>-2.236854</td>\n",
       "      <td>-1.325531</td>\n",
       "    </tr>\n",
       "    <tr>\n",
       "      <th>5</th>\n",
       "      <td>0.001797</td>\n",
       "      <td>0.001355</td>\n",
       "      <td>-1.255678</td>\n",
       "      <td>-0.844707</td>\n",
       "    </tr>\n",
       "    <tr>\n",
       "      <th>6</th>\n",
       "      <td>0.001755</td>\n",
       "      <td>0.001299</td>\n",
       "      <td>-2.959246</td>\n",
       "      <td>-1.290730</td>\n",
       "    </tr>\n",
       "    <tr>\n",
       "      <th>7</th>\n",
       "      <td>0.001800</td>\n",
       "      <td>0.001289</td>\n",
       "      <td>-6.018774</td>\n",
       "      <td>-1.753217</td>\n",
       "    </tr>\n",
       "    <tr>\n",
       "      <th>8</th>\n",
       "      <td>0.001639</td>\n",
       "      <td>0.001157</td>\n",
       "      <td>-2.099935</td>\n",
       "      <td>-1.158073</td>\n",
       "    </tr>\n",
       "    <tr>\n",
       "      <th>9</th>\n",
       "      <td>0.001653</td>\n",
       "      <td>0.001283</td>\n",
       "      <td>-4.187740</td>\n",
       "      <td>-1.846565</td>\n",
       "    </tr>\n",
       "  </tbody>\n",
       "</table>\n",
       "</div>"
      ],
      "text/plain": [
       "   fit_time  score_time  test_neg_mean_squared_error  \\\n",
       "0  0.015302    0.003647                    -2.793109   \n",
       "1  0.002755    0.002129                    -1.794693   \n",
       "2  0.002494    0.001546                    -1.808498   \n",
       "3  0.002088    0.001564                    -2.706553   \n",
       "4  0.001823    0.001399                    -2.236854   \n",
       "5  0.001797    0.001355                    -1.255678   \n",
       "6  0.001755    0.001299                    -2.959246   \n",
       "7  0.001800    0.001289                    -6.018774   \n",
       "8  0.001639    0.001157                    -2.099935   \n",
       "9  0.001653    0.001283                    -4.187740   \n",
       "\n",
       "   test_neg_mean_absolute_error  \n",
       "0                     -1.301176  \n",
       "1                     -1.103833  \n",
       "2                     -1.142403  \n",
       "3                     -1.356509  \n",
       "4                     -1.325531  \n",
       "5                     -0.844707  \n",
       "6                     -1.290730  \n",
       "7                     -1.753217  \n",
       "8                     -1.158073  \n",
       "9                     -1.846565  "
      ]
     },
     "execution_count": 79,
     "metadata": {},
     "output_type": "execute_result"
    }
   ],
   "source": [
    "model = Ridge(alpha=1)\n",
    "\n",
    "scores = cross_validate(model, X_train, y_train, scoring=['neg_mean_squared_error','neg_mean_absolute_error'], cv=10)\n",
    "scores_df = pd.DataFrame(scores)\n",
    "scores_df"
   ]
  },
  {
   "cell_type": "code",
   "execution_count": 80,
   "id": "36482ca4",
   "metadata": {},
   "outputs": [
    {
     "data": {
      "text/plain": [
       "fit_time                        0.003311\n",
       "score_time                      0.001667\n",
       "test_neg_mean_squared_error    -2.786108\n",
       "test_neg_mean_absolute_error   -1.312274\n",
       "dtype: float64"
      ]
     },
     "execution_count": 80,
     "metadata": {},
     "output_type": "execute_result"
    }
   ],
   "source": [
    "scores_df.mean()"
   ]
  },
  {
   "cell_type": "markdown",
   "id": "51ce9fe9",
   "metadata": {},
   "source": [
    "De fato conseguimos obter um modelo mais eficaz.\n",
    "\n",
    "Agora podemos realizar previsões com este modelo e testá-lo em uma métrica final."
   ]
  },
  {
   "cell_type": "code",
   "execution_count": 82,
   "id": "142a328e",
   "metadata": {},
   "outputs": [
    {
     "data": {
      "text/plain": [
       "3.5465657634631875"
      ]
     },
     "execution_count": 82,
     "metadata": {},
     "output_type": "execute_result"
    }
   ],
   "source": [
    "model.fit(X_train, y_train)\n",
    "y_final_pred = model.predict(X_test)\n",
    "mean_squared_error(y_test, y_final_pred)"
   ]
  },
  {
   "cell_type": "markdown",
   "id": "2cec7431",
   "metadata": {},
   "source": [
    "## Grid Search\n",
    "\n",
    "Muitas vezes modelos complexos possuem múltiplos hiperparâmetros ajustáveis.\n",
    "\n",
    "Grid Search é uma maneira de treinar e validar o modelo em todas as possíveis combinações de múltiplas opções de hiperparâmetros.\n",
    "\n",
    "Scikit-Learn inclui uma classe **GridSearchCV** capaz de testar um dicionário de múltiplas opções de hiperparâmetros através de **Cross-validation**.\n",
    "\n",
    "Isso permite que ambos cross-validation e grid search sejam executamos de forma generalizada para qualquer modelo.\n",
    "\n",
    "Vamos então explorar essa técnica, começamos executando as etapas tradicionais."
   ]
  },
  {
   "cell_type": "code",
   "execution_count": 83,
   "id": "eee3139a",
   "metadata": {},
   "outputs": [],
   "source": [
    "X = df.drop('sales', axis=1)\n",
    "y = df['sales']\n",
    "\n",
    "X_train, X_test, y_train, y_test = train_test_split(X, y, test_size=0.3)\n",
    "\n",
    "scaler = StandardScaler()\n",
    "scaler.fit(X_train)\n",
    "X_train = scaler.transform(X_train)\n",
    "X_test = scaler.transform(X_test)"
   ]
  },
  {
   "cell_type": "markdown",
   "id": "fe4279ad",
   "metadata": {},
   "source": [
    "Então iremos criar um modelo padrão base e definir uma grid de hiperparâmetros."
   ]
  },
  {
   "cell_type": "code",
   "execution_count": 85,
   "id": "f29da5e0",
   "metadata": {},
   "outputs": [],
   "source": [
    "from sklearn.linear_model import ElasticNet\n",
    "\n",
    "base_elastic_net_model = ElasticNet()"
   ]
  },
  {
   "cell_type": "code",
   "execution_count": 86,
   "id": "24d6cdcd",
   "metadata": {},
   "outputs": [],
   "source": [
    "param_grid = {'alpha':[0.1, 1, 5, 10, 50, 100], 'l1_ratio': [0.1, 0.5, 0.7, 0.95, 0.99, 1]}"
   ]
  },
  {
   "cell_type": "markdown",
   "id": "ec639cad",
   "metadata": {},
   "source": [
    "E então executamos o **Grid Search**."
   ]
  },
  {
   "cell_type": "code",
   "execution_count": 88,
   "id": "efd2fe32",
   "metadata": {},
   "outputs": [
    {
     "name": "stdout",
     "output_type": "stream",
     "text": [
      "Fitting 5 folds for each of 36 candidates, totalling 180 fits\n"
     ]
    },
    {
     "name": "stderr",
     "output_type": "stream",
     "text": [
      "[Parallel(n_jobs=1)]: Using backend SequentialBackend with 1 concurrent workers.\n",
      "[Parallel(n_jobs=1)]: Done 180 out of 180 | elapsed:    0.8s finished\n"
     ]
    },
    {
     "data": {
      "text/plain": [
       "GridSearchCV(cv=5, error_score=nan,\n",
       "             estimator=ElasticNet(alpha=1.0, copy_X=True, fit_intercept=True,\n",
       "                                  l1_ratio=0.5, max_iter=1000, normalize=False,\n",
       "                                  positive=False, precompute=False,\n",
       "                                  random_state=None, selection='cyclic',\n",
       "                                  tol=0.0001, warm_start=False),\n",
       "             iid='deprecated', n_jobs=None,\n",
       "             param_grid={'alpha': [0.1, 1, 5, 10, 50, 100],\n",
       "                         'l1_ratio': [0.1, 0.5, 0.7, 0.95, 0.99, 1]},\n",
       "             pre_dispatch='2*n_jobs', refit=True, return_train_score=False,\n",
       "             scoring='neg_mean_squared_error', verbose=1)"
      ]
     },
     "execution_count": 88,
     "metadata": {},
     "output_type": "execute_result"
    }
   ],
   "source": [
    "from sklearn.model_selection import GridSearchCV\n",
    "\n",
    "grid_model = GridSearchCV(estimator=base_elastic_net_model, param_grid=param_grid, scoring='neg_mean_squared_error', cv=5, verbose=1)\n",
    "grid_model.fit(X_train, y_train)"
   ]
  },
  {
   "cell_type": "markdown",
   "id": "1861fe3e",
   "metadata": {},
   "source": [
    "E agora vejamos qual é o melhor estimador."
   ]
  },
  {
   "cell_type": "code",
   "execution_count": 89,
   "id": "6d700fd2",
   "metadata": {},
   "outputs": [
    {
     "data": {
      "text/plain": [
       "ElasticNet(alpha=0.1, copy_X=True, fit_intercept=True, l1_ratio=1,\n",
       "           max_iter=1000, normalize=False, positive=False, precompute=False,\n",
       "           random_state=None, selection='cyclic', tol=0.0001, warm_start=False)"
      ]
     },
     "execution_count": 89,
     "metadata": {},
     "output_type": "execute_result"
    }
   ],
   "source": [
    "grid_model.best_estimator_"
   ]
  },
  {
   "cell_type": "markdown",
   "id": "72877992",
   "metadata": {},
   "source": [
    "Também podemos ver quais os melhores hiperparâmetros encontrados."
   ]
  },
  {
   "cell_type": "code",
   "execution_count": 90,
   "id": "8b2239e7",
   "metadata": {},
   "outputs": [
    {
     "data": {
      "text/plain": [
       "{'alpha': 0.1, 'l1_ratio': 1}"
      ]
     },
     "execution_count": 90,
     "metadata": {},
     "output_type": "execute_result"
    }
   ],
   "source": [
    "grid_model.best_params_"
   ]
  },
  {
   "cell_type": "markdown",
   "id": "c06cf907",
   "metadata": {},
   "source": [
    "Também podemos obter todas as informações de todas as combinações do Grid Search."
   ]
  },
  {
   "cell_type": "code",
   "execution_count": 93,
   "id": "2be35671",
   "metadata": {},
   "outputs": [
    {
     "data": {
      "text/html": [
       "<div>\n",
       "<style scoped>\n",
       "    .dataframe tbody tr th:only-of-type {\n",
       "        vertical-align: middle;\n",
       "    }\n",
       "\n",
       "    .dataframe tbody tr th {\n",
       "        vertical-align: top;\n",
       "    }\n",
       "\n",
       "    .dataframe thead th {\n",
       "        text-align: right;\n",
       "    }\n",
       "</style>\n",
       "<table border=\"1\" class=\"dataframe\">\n",
       "  <thead>\n",
       "    <tr style=\"text-align: right;\">\n",
       "      <th></th>\n",
       "      <th>0</th>\n",
       "      <th>1</th>\n",
       "      <th>2</th>\n",
       "      <th>3</th>\n",
       "      <th>4</th>\n",
       "      <th>5</th>\n",
       "      <th>6</th>\n",
       "      <th>7</th>\n",
       "      <th>8</th>\n",
       "      <th>9</th>\n",
       "      <th>...</th>\n",
       "      <th>26</th>\n",
       "      <th>27</th>\n",
       "      <th>28</th>\n",
       "      <th>29</th>\n",
       "      <th>30</th>\n",
       "      <th>31</th>\n",
       "      <th>32</th>\n",
       "      <th>33</th>\n",
       "      <th>34</th>\n",
       "      <th>35</th>\n",
       "    </tr>\n",
       "  </thead>\n",
       "  <tbody>\n",
       "    <tr>\n",
       "      <th>mean_fit_time</th>\n",
       "      <td>0.00468302</td>\n",
       "      <td>0.00248928</td>\n",
       "      <td>0.0020524</td>\n",
       "      <td>0.00279469</td>\n",
       "      <td>0.00395298</td>\n",
       "      <td>0.00371737</td>\n",
       "      <td>0.00351739</td>\n",
       "      <td>0.00452728</td>\n",
       "      <td>0.0069778</td>\n",
       "      <td>0.00598488</td>\n",
       "      <td>...</td>\n",
       "      <td>0.00101357</td>\n",
       "      <td>0.00121608</td>\n",
       "      <td>0.000976896</td>\n",
       "      <td>0.00505219</td>\n",
       "      <td>0.000948048</td>\n",
       "      <td>0.000994444</td>\n",
       "      <td>0.00124798</td>\n",
       "      <td>0.000968933</td>\n",
       "      <td>0.000991869</td>\n",
       "      <td>0.00141497</td>\n",
       "    </tr>\n",
       "    <tr>\n",
       "      <th>std_fit_time</th>\n",
       "      <td>0.00238295</td>\n",
       "      <td>0.00058354</td>\n",
       "      <td>0.000624266</td>\n",
       "      <td>0.00141403</td>\n",
       "      <td>0.00095762</td>\n",
       "      <td>0.00138793</td>\n",
       "      <td>0.000923927</td>\n",
       "      <td>0.00238094</td>\n",
       "      <td>0.00305583</td>\n",
       "      <td>0.00269613</td>\n",
       "      <td>...</td>\n",
       "      <td>0.000140988</td>\n",
       "      <td>0.000394847</td>\n",
       "      <td>9.9147e-05</td>\n",
       "      <td>0.00806883</td>\n",
       "      <td>3.46758e-05</td>\n",
       "      <td>7.94504e-05</td>\n",
       "      <td>0.00033511</td>\n",
       "      <td>4.50203e-05</td>\n",
       "      <td>8.92763e-05</td>\n",
       "      <td>0.000607852</td>\n",
       "    </tr>\n",
       "    <tr>\n",
       "      <th>mean_score_time</th>\n",
       "      <td>0.00161228</td>\n",
       "      <td>0.00170956</td>\n",
       "      <td>0.000858688</td>\n",
       "      <td>0.000977755</td>\n",
       "      <td>0.00279694</td>\n",
       "      <td>0.00167489</td>\n",
       "      <td>0.00194507</td>\n",
       "      <td>0.0013422</td>\n",
       "      <td>0.00311418</td>\n",
       "      <td>0.00252714</td>\n",
       "      <td>...</td>\n",
       "      <td>0.000444555</td>\n",
       "      <td>0.000726795</td>\n",
       "      <td>0.0004076</td>\n",
       "      <td>0.000521135</td>\n",
       "      <td>0.000439405</td>\n",
       "      <td>0.000415802</td>\n",
       "      <td>0.000752163</td>\n",
       "      <td>0.000410318</td>\n",
       "      <td>0.000482607</td>\n",
       "      <td>0.000550699</td>\n",
       "    </tr>\n",
       "    <tr>\n",
       "      <th>std_score_time</th>\n",
       "      <td>0.000662964</td>\n",
       "      <td>0.000696013</td>\n",
       "      <td>0.000177427</td>\n",
       "      <td>0.000291092</td>\n",
       "      <td>0.000979012</td>\n",
       "      <td>0.00104375</td>\n",
       "      <td>0.00094467</td>\n",
       "      <td>0.00064523</td>\n",
       "      <td>0.00128013</td>\n",
       "      <td>0.00169444</td>\n",
       "      <td>...</td>\n",
       "      <td>5.06574e-05</td>\n",
       "      <td>0.000393601</td>\n",
       "      <td>1.95437e-05</td>\n",
       "      <td>0.000216457</td>\n",
       "      <td>5.77979e-05</td>\n",
       "      <td>1.94611e-05</td>\n",
       "      <td>0.000413355</td>\n",
       "      <td>2.03917e-05</td>\n",
       "      <td>0.000134438</td>\n",
       "      <td>0.000284207</td>\n",
       "    </tr>\n",
       "    <tr>\n",
       "      <th>param_alpha</th>\n",
       "      <td>0.1</td>\n",
       "      <td>0.1</td>\n",
       "      <td>0.1</td>\n",
       "      <td>0.1</td>\n",
       "      <td>0.1</td>\n",
       "      <td>0.1</td>\n",
       "      <td>1</td>\n",
       "      <td>1</td>\n",
       "      <td>1</td>\n",
       "      <td>1</td>\n",
       "      <td>...</td>\n",
       "      <td>50</td>\n",
       "      <td>50</td>\n",
       "      <td>50</td>\n",
       "      <td>50</td>\n",
       "      <td>100</td>\n",
       "      <td>100</td>\n",
       "      <td>100</td>\n",
       "      <td>100</td>\n",
       "      <td>100</td>\n",
       "      <td>100</td>\n",
       "    </tr>\n",
       "    <tr>\n",
       "      <th>param_l1_ratio</th>\n",
       "      <td>0.1</td>\n",
       "      <td>0.5</td>\n",
       "      <td>0.7</td>\n",
       "      <td>0.95</td>\n",
       "      <td>0.99</td>\n",
       "      <td>1</td>\n",
       "      <td>0.1</td>\n",
       "      <td>0.5</td>\n",
       "      <td>0.7</td>\n",
       "      <td>0.95</td>\n",
       "      <td>...</td>\n",
       "      <td>0.7</td>\n",
       "      <td>0.95</td>\n",
       "      <td>0.99</td>\n",
       "      <td>1</td>\n",
       "      <td>0.1</td>\n",
       "      <td>0.5</td>\n",
       "      <td>0.7</td>\n",
       "      <td>0.95</td>\n",
       "      <td>0.99</td>\n",
       "      <td>1</td>\n",
       "    </tr>\n",
       "    <tr>\n",
       "      <th>params</th>\n",
       "      <td>{'alpha': 0.1, 'l1_ratio': 0.1}</td>\n",
       "      <td>{'alpha': 0.1, 'l1_ratio': 0.5}</td>\n",
       "      <td>{'alpha': 0.1, 'l1_ratio': 0.7}</td>\n",
       "      <td>{'alpha': 0.1, 'l1_ratio': 0.95}</td>\n",
       "      <td>{'alpha': 0.1, 'l1_ratio': 0.99}</td>\n",
       "      <td>{'alpha': 0.1, 'l1_ratio': 1}</td>\n",
       "      <td>{'alpha': 1, 'l1_ratio': 0.1}</td>\n",
       "      <td>{'alpha': 1, 'l1_ratio': 0.5}</td>\n",
       "      <td>{'alpha': 1, 'l1_ratio': 0.7}</td>\n",
       "      <td>{'alpha': 1, 'l1_ratio': 0.95}</td>\n",
       "      <td>...</td>\n",
       "      <td>{'alpha': 50, 'l1_ratio': 0.7}</td>\n",
       "      <td>{'alpha': 50, 'l1_ratio': 0.95}</td>\n",
       "      <td>{'alpha': 50, 'l1_ratio': 0.99}</td>\n",
       "      <td>{'alpha': 50, 'l1_ratio': 1}</td>\n",
       "      <td>{'alpha': 100, 'l1_ratio': 0.1}</td>\n",
       "      <td>{'alpha': 100, 'l1_ratio': 0.5}</td>\n",
       "      <td>{'alpha': 100, 'l1_ratio': 0.7}</td>\n",
       "      <td>{'alpha': 100, 'l1_ratio': 0.95}</td>\n",
       "      <td>{'alpha': 100, 'l1_ratio': 0.99}</td>\n",
       "      <td>{'alpha': 100, 'l1_ratio': 1}</td>\n",
       "    </tr>\n",
       "    <tr>\n",
       "      <th>split0_test_score</th>\n",
       "      <td>-2.8928</td>\n",
       "      <td>-2.72941</td>\n",
       "      <td>-2.64764</td>\n",
       "      <td>-2.55142</td>\n",
       "      <td>-2.53672</td>\n",
       "      <td>-2.53308</td>\n",
       "      <td>-9.46049</td>\n",
       "      <td>-8.38233</td>\n",
       "      <td>-7.53369</td>\n",
       "      <td>-6.06217</td>\n",
       "      <td>...</td>\n",
       "      <td>-29.3355</td>\n",
       "      <td>-29.3355</td>\n",
       "      <td>-29.3355</td>\n",
       "      <td>-29.3355</td>\n",
       "      <td>-29.3355</td>\n",
       "      <td>-29.3355</td>\n",
       "      <td>-29.3355</td>\n",
       "      <td>-29.3355</td>\n",
       "      <td>-29.3355</td>\n",
       "      <td>-29.3355</td>\n",
       "    </tr>\n",
       "    <tr>\n",
       "      <th>split1_test_score</th>\n",
       "      <td>-2.48542</td>\n",
       "      <td>-2.50557</td>\n",
       "      <td>-2.52162</td>\n",
       "      <td>-2.5512</td>\n",
       "      <td>-2.55701</td>\n",
       "      <td>-2.55851</td>\n",
       "      <td>-5.35221</td>\n",
       "      <td>-4.74699</td>\n",
       "      <td>-4.31287</td>\n",
       "      <td>-3.61182</td>\n",
       "      <td>...</td>\n",
       "      <td>-19.2893</td>\n",
       "      <td>-19.2893</td>\n",
       "      <td>-19.2893</td>\n",
       "      <td>-19.2893</td>\n",
       "      <td>-19.2893</td>\n",
       "      <td>-19.2893</td>\n",
       "      <td>-19.2893</td>\n",
       "      <td>-19.2893</td>\n",
       "      <td>-19.2893</td>\n",
       "      <td>-19.2893</td>\n",
       "    </tr>\n",
       "    <tr>\n",
       "      <th>split2_test_score</th>\n",
       "      <td>-3.41803</td>\n",
       "      <td>-3.21681</td>\n",
       "      <td>-3.12281</td>\n",
       "      <td>-3.02473</td>\n",
       "      <td>-3.0157</td>\n",
       "      <td>-3.01348</td>\n",
       "      <td>-9.2667</td>\n",
       "      <td>-7.81779</td>\n",
       "      <td>-6.81869</td>\n",
       "      <td>-5.5276</td>\n",
       "      <td>...</td>\n",
       "      <td>-25.6008</td>\n",
       "      <td>-25.6008</td>\n",
       "      <td>-25.6008</td>\n",
       "      <td>-25.6008</td>\n",
       "      <td>-25.6008</td>\n",
       "      <td>-25.6008</td>\n",
       "      <td>-25.6008</td>\n",
       "      <td>-25.6008</td>\n",
       "      <td>-25.6008</td>\n",
       "      <td>-25.6008</td>\n",
       "    </tr>\n",
       "    <tr>\n",
       "      <th>split3_test_score</th>\n",
       "      <td>-3.51535</td>\n",
       "      <td>-3.21009</td>\n",
       "      <td>-3.0638</td>\n",
       "      <td>-2.89261</td>\n",
       "      <td>-2.87618</td>\n",
       "      <td>-2.87212</td>\n",
       "      <td>-11.535</td>\n",
       "      <td>-9.78954</td>\n",
       "      <td>-8.5607</td>\n",
       "      <td>-6.79908</td>\n",
       "      <td>...</td>\n",
       "      <td>-32.637</td>\n",
       "      <td>-32.637</td>\n",
       "      <td>-32.637</td>\n",
       "      <td>-32.637</td>\n",
       "      <td>-32.637</td>\n",
       "      <td>-32.637</td>\n",
       "      <td>-32.637</td>\n",
       "      <td>-32.637</td>\n",
       "      <td>-32.637</td>\n",
       "      <td>-32.637</td>\n",
       "    </tr>\n",
       "    <tr>\n",
       "      <th>split4_test_score</th>\n",
       "      <td>-2.14397</td>\n",
       "      <td>-2.21837</td>\n",
       "      <td>-2.26399</td>\n",
       "      <td>-2.33374</td>\n",
       "      <td>-2.34633</td>\n",
       "      <td>-2.34954</td>\n",
       "      <td>-4.63169</td>\n",
       "      <td>-4.22962</td>\n",
       "      <td>-3.86046</td>\n",
       "      <td>-3.25476</td>\n",
       "      <td>...</td>\n",
       "      <td>-19.2114</td>\n",
       "      <td>-19.2114</td>\n",
       "      <td>-19.2114</td>\n",
       "      <td>-19.2114</td>\n",
       "      <td>-19.2114</td>\n",
       "      <td>-19.2114</td>\n",
       "      <td>-19.2114</td>\n",
       "      <td>-19.2114</td>\n",
       "      <td>-19.2114</td>\n",
       "      <td>-19.2114</td>\n",
       "    </tr>\n",
       "    <tr>\n",
       "      <th>mean_test_score</th>\n",
       "      <td>-2.89111</td>\n",
       "      <td>-2.77605</td>\n",
       "      <td>-2.72397</td>\n",
       "      <td>-2.67074</td>\n",
       "      <td>-2.66639</td>\n",
       "      <td>-2.66535</td>\n",
       "      <td>-8.04921</td>\n",
       "      <td>-6.99325</td>\n",
       "      <td>-6.21728</td>\n",
       "      <td>-5.05109</td>\n",
       "      <td>...</td>\n",
       "      <td>-25.2148</td>\n",
       "      <td>-25.2148</td>\n",
       "      <td>-25.2148</td>\n",
       "      <td>-25.2148</td>\n",
       "      <td>-25.2148</td>\n",
       "      <td>-25.2148</td>\n",
       "      <td>-25.2148</td>\n",
       "      <td>-25.2148</td>\n",
       "      <td>-25.2148</td>\n",
       "      <td>-25.2148</td>\n",
       "    </tr>\n",
       "    <tr>\n",
       "      <th>std_test_score</th>\n",
       "      <td>0.527281</td>\n",
       "      <td>0.392173</td>\n",
       "      <td>0.32647</td>\n",
       "      <td>0.251646</td>\n",
       "      <td>0.243822</td>\n",
       "      <td>0.241905</td>\n",
       "      <td>2.62974</td>\n",
       "      <td>2.14998</td>\n",
       "      <td>1.83126</td>\n",
       "      <td>1.38586</td>\n",
       "      <td>...</td>\n",
       "      <td>5.35483</td>\n",
       "      <td>5.35483</td>\n",
       "      <td>5.35483</td>\n",
       "      <td>5.35483</td>\n",
       "      <td>5.35483</td>\n",
       "      <td>5.35483</td>\n",
       "      <td>5.35483</td>\n",
       "      <td>5.35483</td>\n",
       "      <td>5.35483</td>\n",
       "      <td>5.35483</td>\n",
       "    </tr>\n",
       "    <tr>\n",
       "      <th>rank_test_score</th>\n",
       "      <td>6</td>\n",
       "      <td>5</td>\n",
       "      <td>4</td>\n",
       "      <td>3</td>\n",
       "      <td>2</td>\n",
       "      <td>1</td>\n",
       "      <td>12</td>\n",
       "      <td>11</td>\n",
       "      <td>10</td>\n",
       "      <td>9</td>\n",
       "      <td>...</td>\n",
       "      <td>17</td>\n",
       "      <td>17</td>\n",
       "      <td>17</td>\n",
       "      <td>17</td>\n",
       "      <td>17</td>\n",
       "      <td>17</td>\n",
       "      <td>17</td>\n",
       "      <td>17</td>\n",
       "      <td>17</td>\n",
       "      <td>17</td>\n",
       "    </tr>\n",
       "  </tbody>\n",
       "</table>\n",
       "<p>15 rows × 36 columns</p>\n",
       "</div>"
      ],
      "text/plain": [
       "                                                0   \\\n",
       "mean_fit_time                           0.00468302   \n",
       "std_fit_time                            0.00238295   \n",
       "mean_score_time                         0.00161228   \n",
       "std_score_time                         0.000662964   \n",
       "param_alpha                                    0.1   \n",
       "param_l1_ratio                                 0.1   \n",
       "params             {'alpha': 0.1, 'l1_ratio': 0.1}   \n",
       "split0_test_score                          -2.8928   \n",
       "split1_test_score                         -2.48542   \n",
       "split2_test_score                         -3.41803   \n",
       "split3_test_score                         -3.51535   \n",
       "split4_test_score                         -2.14397   \n",
       "mean_test_score                           -2.89111   \n",
       "std_test_score                            0.527281   \n",
       "rank_test_score                                  6   \n",
       "\n",
       "                                                1   \\\n",
       "mean_fit_time                           0.00248928   \n",
       "std_fit_time                            0.00058354   \n",
       "mean_score_time                         0.00170956   \n",
       "std_score_time                         0.000696013   \n",
       "param_alpha                                    0.1   \n",
       "param_l1_ratio                                 0.5   \n",
       "params             {'alpha': 0.1, 'l1_ratio': 0.5}   \n",
       "split0_test_score                         -2.72941   \n",
       "split1_test_score                         -2.50557   \n",
       "split2_test_score                         -3.21681   \n",
       "split3_test_score                         -3.21009   \n",
       "split4_test_score                         -2.21837   \n",
       "mean_test_score                           -2.77605   \n",
       "std_test_score                            0.392173   \n",
       "rank_test_score                                  5   \n",
       "\n",
       "                                                2   \\\n",
       "mean_fit_time                            0.0020524   \n",
       "std_fit_time                           0.000624266   \n",
       "mean_score_time                        0.000858688   \n",
       "std_score_time                         0.000177427   \n",
       "param_alpha                                    0.1   \n",
       "param_l1_ratio                                 0.7   \n",
       "params             {'alpha': 0.1, 'l1_ratio': 0.7}   \n",
       "split0_test_score                         -2.64764   \n",
       "split1_test_score                         -2.52162   \n",
       "split2_test_score                         -3.12281   \n",
       "split3_test_score                          -3.0638   \n",
       "split4_test_score                         -2.26399   \n",
       "mean_test_score                           -2.72397   \n",
       "std_test_score                             0.32647   \n",
       "rank_test_score                                  4   \n",
       "\n",
       "                                                 3   \\\n",
       "mean_fit_time                            0.00279469   \n",
       "std_fit_time                             0.00141403   \n",
       "mean_score_time                         0.000977755   \n",
       "std_score_time                          0.000291092   \n",
       "param_alpha                                     0.1   \n",
       "param_l1_ratio                                 0.95   \n",
       "params             {'alpha': 0.1, 'l1_ratio': 0.95}   \n",
       "split0_test_score                          -2.55142   \n",
       "split1_test_score                           -2.5512   \n",
       "split2_test_score                          -3.02473   \n",
       "split3_test_score                          -2.89261   \n",
       "split4_test_score                          -2.33374   \n",
       "mean_test_score                            -2.67074   \n",
       "std_test_score                             0.251646   \n",
       "rank_test_score                                   3   \n",
       "\n",
       "                                                 4   \\\n",
       "mean_fit_time                            0.00395298   \n",
       "std_fit_time                             0.00095762   \n",
       "mean_score_time                          0.00279694   \n",
       "std_score_time                          0.000979012   \n",
       "param_alpha                                     0.1   \n",
       "param_l1_ratio                                 0.99   \n",
       "params             {'alpha': 0.1, 'l1_ratio': 0.99}   \n",
       "split0_test_score                          -2.53672   \n",
       "split1_test_score                          -2.55701   \n",
       "split2_test_score                           -3.0157   \n",
       "split3_test_score                          -2.87618   \n",
       "split4_test_score                          -2.34633   \n",
       "mean_test_score                            -2.66639   \n",
       "std_test_score                             0.243822   \n",
       "rank_test_score                                   2   \n",
       "\n",
       "                                              5   \\\n",
       "mean_fit_time                         0.00371737   \n",
       "std_fit_time                          0.00138793   \n",
       "mean_score_time                       0.00167489   \n",
       "std_score_time                        0.00104375   \n",
       "param_alpha                                  0.1   \n",
       "param_l1_ratio                                 1   \n",
       "params             {'alpha': 0.1, 'l1_ratio': 1}   \n",
       "split0_test_score                       -2.53308   \n",
       "split1_test_score                       -2.55851   \n",
       "split2_test_score                       -3.01348   \n",
       "split3_test_score                       -2.87212   \n",
       "split4_test_score                       -2.34954   \n",
       "mean_test_score                         -2.66535   \n",
       "std_test_score                          0.241905   \n",
       "rank_test_score                                1   \n",
       "\n",
       "                                              6   \\\n",
       "mean_fit_time                         0.00351739   \n",
       "std_fit_time                         0.000923927   \n",
       "mean_score_time                       0.00194507   \n",
       "std_score_time                        0.00094467   \n",
       "param_alpha                                    1   \n",
       "param_l1_ratio                               0.1   \n",
       "params             {'alpha': 1, 'l1_ratio': 0.1}   \n",
       "split0_test_score                       -9.46049   \n",
       "split1_test_score                       -5.35221   \n",
       "split2_test_score                        -9.2667   \n",
       "split3_test_score                        -11.535   \n",
       "split4_test_score                       -4.63169   \n",
       "mean_test_score                         -8.04921   \n",
       "std_test_score                           2.62974   \n",
       "rank_test_score                               12   \n",
       "\n",
       "                                              7   \\\n",
       "mean_fit_time                         0.00452728   \n",
       "std_fit_time                          0.00238094   \n",
       "mean_score_time                        0.0013422   \n",
       "std_score_time                        0.00064523   \n",
       "param_alpha                                    1   \n",
       "param_l1_ratio                               0.5   \n",
       "params             {'alpha': 1, 'l1_ratio': 0.5}   \n",
       "split0_test_score                       -8.38233   \n",
       "split1_test_score                       -4.74699   \n",
       "split2_test_score                       -7.81779   \n",
       "split3_test_score                       -9.78954   \n",
       "split4_test_score                       -4.22962   \n",
       "mean_test_score                         -6.99325   \n",
       "std_test_score                           2.14998   \n",
       "rank_test_score                               11   \n",
       "\n",
       "                                              8   \\\n",
       "mean_fit_time                          0.0069778   \n",
       "std_fit_time                          0.00305583   \n",
       "mean_score_time                       0.00311418   \n",
       "std_score_time                        0.00128013   \n",
       "param_alpha                                    1   \n",
       "param_l1_ratio                               0.7   \n",
       "params             {'alpha': 1, 'l1_ratio': 0.7}   \n",
       "split0_test_score                       -7.53369   \n",
       "split1_test_score                       -4.31287   \n",
       "split2_test_score                       -6.81869   \n",
       "split3_test_score                        -8.5607   \n",
       "split4_test_score                       -3.86046   \n",
       "mean_test_score                         -6.21728   \n",
       "std_test_score                           1.83126   \n",
       "rank_test_score                               10   \n",
       "\n",
       "                                               9   ...  \\\n",
       "mean_fit_time                          0.00598488  ...   \n",
       "std_fit_time                           0.00269613  ...   \n",
       "mean_score_time                        0.00252714  ...   \n",
       "std_score_time                         0.00169444  ...   \n",
       "param_alpha                                     1  ...   \n",
       "param_l1_ratio                               0.95  ...   \n",
       "params             {'alpha': 1, 'l1_ratio': 0.95}  ...   \n",
       "split0_test_score                        -6.06217  ...   \n",
       "split1_test_score                        -3.61182  ...   \n",
       "split2_test_score                         -5.5276  ...   \n",
       "split3_test_score                        -6.79908  ...   \n",
       "split4_test_score                        -3.25476  ...   \n",
       "mean_test_score                          -5.05109  ...   \n",
       "std_test_score                            1.38586  ...   \n",
       "rank_test_score                                 9  ...   \n",
       "\n",
       "                                               26  \\\n",
       "mean_fit_time                          0.00101357   \n",
       "std_fit_time                          0.000140988   \n",
       "mean_score_time                       0.000444555   \n",
       "std_score_time                        5.06574e-05   \n",
       "param_alpha                                    50   \n",
       "param_l1_ratio                                0.7   \n",
       "params             {'alpha': 50, 'l1_ratio': 0.7}   \n",
       "split0_test_score                        -29.3355   \n",
       "split1_test_score                        -19.2893   \n",
       "split2_test_score                        -25.6008   \n",
       "split3_test_score                         -32.637   \n",
       "split4_test_score                        -19.2114   \n",
       "mean_test_score                          -25.2148   \n",
       "std_test_score                            5.35483   \n",
       "rank_test_score                                17   \n",
       "\n",
       "                                                27  \\\n",
       "mean_fit_time                           0.00121608   \n",
       "std_fit_time                           0.000394847   \n",
       "mean_score_time                        0.000726795   \n",
       "std_score_time                         0.000393601   \n",
       "param_alpha                                     50   \n",
       "param_l1_ratio                                0.95   \n",
       "params             {'alpha': 50, 'l1_ratio': 0.95}   \n",
       "split0_test_score                         -29.3355   \n",
       "split1_test_score                         -19.2893   \n",
       "split2_test_score                         -25.6008   \n",
       "split3_test_score                          -32.637   \n",
       "split4_test_score                         -19.2114   \n",
       "mean_test_score                           -25.2148   \n",
       "std_test_score                             5.35483   \n",
       "rank_test_score                                 17   \n",
       "\n",
       "                                                28  \\\n",
       "mean_fit_time                          0.000976896   \n",
       "std_fit_time                            9.9147e-05   \n",
       "mean_score_time                          0.0004076   \n",
       "std_score_time                         1.95437e-05   \n",
       "param_alpha                                     50   \n",
       "param_l1_ratio                                0.99   \n",
       "params             {'alpha': 50, 'l1_ratio': 0.99}   \n",
       "split0_test_score                         -29.3355   \n",
       "split1_test_score                         -19.2893   \n",
       "split2_test_score                         -25.6008   \n",
       "split3_test_score                          -32.637   \n",
       "split4_test_score                         -19.2114   \n",
       "mean_test_score                           -25.2148   \n",
       "std_test_score                             5.35483   \n",
       "rank_test_score                                 17   \n",
       "\n",
       "                                             29  \\\n",
       "mean_fit_time                        0.00505219   \n",
       "std_fit_time                         0.00806883   \n",
       "mean_score_time                     0.000521135   \n",
       "std_score_time                      0.000216457   \n",
       "param_alpha                                  50   \n",
       "param_l1_ratio                                1   \n",
       "params             {'alpha': 50, 'l1_ratio': 1}   \n",
       "split0_test_score                      -29.3355   \n",
       "split1_test_score                      -19.2893   \n",
       "split2_test_score                      -25.6008   \n",
       "split3_test_score                       -32.637   \n",
       "split4_test_score                      -19.2114   \n",
       "mean_test_score                        -25.2148   \n",
       "std_test_score                          5.35483   \n",
       "rank_test_score                              17   \n",
       "\n",
       "                                                30  \\\n",
       "mean_fit_time                          0.000948048   \n",
       "std_fit_time                           3.46758e-05   \n",
       "mean_score_time                        0.000439405   \n",
       "std_score_time                         5.77979e-05   \n",
       "param_alpha                                    100   \n",
       "param_l1_ratio                                 0.1   \n",
       "params             {'alpha': 100, 'l1_ratio': 0.1}   \n",
       "split0_test_score                         -29.3355   \n",
       "split1_test_score                         -19.2893   \n",
       "split2_test_score                         -25.6008   \n",
       "split3_test_score                          -32.637   \n",
       "split4_test_score                         -19.2114   \n",
       "mean_test_score                           -25.2148   \n",
       "std_test_score                             5.35483   \n",
       "rank_test_score                                 17   \n",
       "\n",
       "                                                31  \\\n",
       "mean_fit_time                          0.000994444   \n",
       "std_fit_time                           7.94504e-05   \n",
       "mean_score_time                        0.000415802   \n",
       "std_score_time                         1.94611e-05   \n",
       "param_alpha                                    100   \n",
       "param_l1_ratio                                 0.5   \n",
       "params             {'alpha': 100, 'l1_ratio': 0.5}   \n",
       "split0_test_score                         -29.3355   \n",
       "split1_test_score                         -19.2893   \n",
       "split2_test_score                         -25.6008   \n",
       "split3_test_score                          -32.637   \n",
       "split4_test_score                         -19.2114   \n",
       "mean_test_score                           -25.2148   \n",
       "std_test_score                             5.35483   \n",
       "rank_test_score                                 17   \n",
       "\n",
       "                                                32  \\\n",
       "mean_fit_time                           0.00124798   \n",
       "std_fit_time                            0.00033511   \n",
       "mean_score_time                        0.000752163   \n",
       "std_score_time                         0.000413355   \n",
       "param_alpha                                    100   \n",
       "param_l1_ratio                                 0.7   \n",
       "params             {'alpha': 100, 'l1_ratio': 0.7}   \n",
       "split0_test_score                         -29.3355   \n",
       "split1_test_score                         -19.2893   \n",
       "split2_test_score                         -25.6008   \n",
       "split3_test_score                          -32.637   \n",
       "split4_test_score                         -19.2114   \n",
       "mean_test_score                           -25.2148   \n",
       "std_test_score                             5.35483   \n",
       "rank_test_score                                 17   \n",
       "\n",
       "                                                 33  \\\n",
       "mean_fit_time                           0.000968933   \n",
       "std_fit_time                            4.50203e-05   \n",
       "mean_score_time                         0.000410318   \n",
       "std_score_time                          2.03917e-05   \n",
       "param_alpha                                     100   \n",
       "param_l1_ratio                                 0.95   \n",
       "params             {'alpha': 100, 'l1_ratio': 0.95}   \n",
       "split0_test_score                          -29.3355   \n",
       "split1_test_score                          -19.2893   \n",
       "split2_test_score                          -25.6008   \n",
       "split3_test_score                           -32.637   \n",
       "split4_test_score                          -19.2114   \n",
       "mean_test_score                            -25.2148   \n",
       "std_test_score                              5.35483   \n",
       "rank_test_score                                  17   \n",
       "\n",
       "                                                 34  \\\n",
       "mean_fit_time                           0.000991869   \n",
       "std_fit_time                            8.92763e-05   \n",
       "mean_score_time                         0.000482607   \n",
       "std_score_time                          0.000134438   \n",
       "param_alpha                                     100   \n",
       "param_l1_ratio                                 0.99   \n",
       "params             {'alpha': 100, 'l1_ratio': 0.99}   \n",
       "split0_test_score                          -29.3355   \n",
       "split1_test_score                          -19.2893   \n",
       "split2_test_score                          -25.6008   \n",
       "split3_test_score                           -32.637   \n",
       "split4_test_score                          -19.2114   \n",
       "mean_test_score                            -25.2148   \n",
       "std_test_score                              5.35483   \n",
       "rank_test_score                                  17   \n",
       "\n",
       "                                              35  \n",
       "mean_fit_time                         0.00141497  \n",
       "std_fit_time                         0.000607852  \n",
       "mean_score_time                      0.000550699  \n",
       "std_score_time                       0.000284207  \n",
       "param_alpha                                  100  \n",
       "param_l1_ratio                                 1  \n",
       "params             {'alpha': 100, 'l1_ratio': 1}  \n",
       "split0_test_score                       -29.3355  \n",
       "split1_test_score                       -19.2893  \n",
       "split2_test_score                       -25.6008  \n",
       "split3_test_score                        -32.637  \n",
       "split4_test_score                       -19.2114  \n",
       "mean_test_score                         -25.2148  \n",
       "std_test_score                           5.35483  \n",
       "rank_test_score                               17  \n",
       "\n",
       "[15 rows x 36 columns]"
      ]
     },
     "execution_count": 93,
     "metadata": {},
     "output_type": "execute_result"
    }
   ],
   "source": [
    "pd.DataFrame(grid_model.cv_results_).T"
   ]
  },
  {
   "cell_type": "markdown",
   "id": "a4021bb3",
   "metadata": {},
   "source": [
    "Finalmente podemos realizar previsões, lembrando que Scikit-Learn automaticamente utilizará os melhores hiperparâmetros."
   ]
  },
  {
   "cell_type": "code",
   "execution_count": 94,
   "id": "c38c38dc",
   "metadata": {},
   "outputs": [],
   "source": [
    "y_pred = grid_model.predict(X_test)"
   ]
  },
  {
   "cell_type": "markdown",
   "id": "08c9cbab",
   "metadata": {},
   "source": [
    "E agora pode medir o desempenho com a métrica que desejarmos."
   ]
  },
  {
   "cell_type": "code",
   "execution_count": 95,
   "id": "a4b3234d",
   "metadata": {},
   "outputs": [
    {
     "data": {
      "text/plain": [
       "3.639585218463167"
      ]
     },
     "execution_count": 95,
     "metadata": {},
     "output_type": "execute_result"
    }
   ],
   "source": [
    "mean_squared_error(y_test, y_pred)"
   ]
  },
  {
   "cell_type": "markdown",
   "id": "9a226306",
   "metadata": {},
   "source": [
    "Temos então o resultado final para a métrica **mean_squared_error**.\n",
    "\n",
    "Podemos também retomar o processo de **Grid Search** e buscar por mais combinações de hiperparâmetros ou finalizar com este resultado."
   ]
  }
 ],
 "metadata": {
  "kernelspec": {
   "display_name": "Python 3",
   "language": "python",
   "name": "python3"
  },
  "language_info": {
   "codemirror_mode": {
    "name": "ipython",
    "version": 3
   },
   "file_extension": ".py",
   "mimetype": "text/x-python",
   "name": "python",
   "nbconvert_exporter": "python",
   "pygments_lexer": "ipython3",
   "version": "3.7.10"
  }
 },
 "nbformat": 4,
 "nbformat_minor": 5
}
