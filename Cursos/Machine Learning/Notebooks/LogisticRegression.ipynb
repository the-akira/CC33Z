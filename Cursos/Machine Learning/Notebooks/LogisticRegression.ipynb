{
 "cells": [
  {
   "cell_type": "markdown",
   "metadata": {},
   "source": [
    "# Logistic Regression\n",
    "\n",
    "Em estatística, o modelo logístico é usado para modelar a probabilidade de uma determinada classe ou evento existir, como: \n",
    "\n",
    "- aprovação **/** reprovação\n",
    "- vitória **/** derrota \n",
    "- vivo **/** morto \n",
    "- saudável **/** doente\n",
    "\n",
    "A regressão logística é um modelo estatístico que em sua forma básica usa uma função logística para modelar uma variável dependente binária, embora existam muitas extensões mais complexas.\n",
    "\n",
    "Isso pode ser estendido para modelar várias classes de eventos, como determinar se uma imagem contém um gato, cachorro, leão, etc. Cada objeto sendo detectado na imagem seria atribuído a uma probabilidade entre **0** e **1**, com a soma de **um**.\n",
    "\n",
    "A regressão logística é usada em vários campos, incluindo Machine Learning, a maioria dos campos médicos e ciências sociais.\n",
    "\n",
    "Mais detalhes podem ser encontrados na página do [Wikipedia](https://en.wikipedia.org/wiki/Logistic_regression)"
   ]
  },
  {
   "cell_type": "markdown",
   "metadata": {},
   "source": [
    "## Tutorial\n",
    "\n",
    "![img](https://upload.wikimedia.org/wikipedia/commons/2/27/MnistExamples.png)\n",
    "\n",
    "Neste tutorial, usamos a regressão logística para prever **labels** de dígitos com base em imagens. A imagem acima mostra diversos dígitos de treinamento (observações) do conjunto de dados MNIST cuja associação de categoria é conhecida (labels de 0-9). \n",
    "\n",
    "Depois de treinar um modelo com regressão logística, ele pode ser usado para prever um label de imagem (labels 0-9) dada uma imagem.\n",
    "\n",
    "1. A primeira parte desta postagem do tutorial aborda um conjunto de dados experimental (conjunto de dados de dígitos) para rapidamente ilustrar o padrão de modelagem de 4 etapas do Scikit-Learn e mostrar o comportamento do algoritmo de regressão logística. \n",
    "\n",
    "2. A segunda parte do tutorial aborda um conjunto de dados mais realista (conjunto de dados MNIST) para mostrar brevemente como a alteração dos parâmetros padrão de um modelo pode afetar o desempenho (tanto no tempo quanto na precisão do modelo)."
   ]
  },
  {
   "cell_type": "markdown",
   "metadata": {},
   "source": [
    "### Conjunto de Dados Dígitos\n",
    "\n",
    "O conjunto de dados de dígitos é um dos conjuntos de dados com os quais vem com o scikit-learn e não exige o download de nenhum arquivo de sites externos. \n",
    "\n",
    "O código carrega o conjunto de dados de dígitos."
   ]
  },
  {
   "cell_type": "code",
   "execution_count": 1,
   "metadata": {},
   "outputs": [
    {
     "data": {
      "text/plain": [
       "sklearn.utils.Bunch"
      ]
     },
     "execution_count": 1,
     "metadata": {},
     "output_type": "execute_result"
    }
   ],
   "source": [
    "from sklearn.datasets import load_digits\n",
    "\n",
    "digits = load_digits()\n",
    "type(digits)"
   ]
  },
  {
   "cell_type": "markdown",
   "metadata": {},
   "source": [
    "Como podemos observar, estamos trabalhando com um objeto do tipo **Bunch**.\n",
    "\n",
    "Agora que carregamos o conjunto de dados, podemos acessar alguns atributos para obter mais informações sobre ele."
   ]
  },
  {
   "cell_type": "code",
   "execution_count": 2,
   "metadata": {},
   "outputs": [
    {
     "name": "stdout",
     "output_type": "stream",
     "text": [
      "Image Data Shape: (1797, 64)\n"
     ]
    }
   ],
   "source": [
    "print(\"Image Data Shape:\",digits.data.shape)"
   ]
  },
  {
   "cell_type": "markdown",
   "metadata": {},
   "source": [
    "Para ver que existem 1797 imagens (**8x8** imagens para uma dimensionalidade de 64)."
   ]
  },
  {
   "cell_type": "code",
   "execution_count": 3,
   "metadata": {},
   "outputs": [
    {
     "name": "stdout",
     "output_type": "stream",
     "text": [
      "Label Data Shape: (1797,)\n"
     ]
    }
   ],
   "source": [
    "print(\"Label Data Shape:\",digits.target.shape)"
   ]
  },
  {
   "cell_type": "markdown",
   "metadata": {},
   "source": [
    "Para ver que existem 1797 labels (inteiros de 0 a 9)."
   ]
  },
  {
   "cell_type": "markdown",
   "metadata": {},
   "source": [
    "### Mostrando as Imagens e os Labels\n",
    "\n",
    "Mostraremos a aparência das imagens e labels. \n",
    "\n",
    "Visualizar os dados nos ajuda a ver com o que estamos trabalhando."
   ]
  },
  {
   "cell_type": "code",
   "execution_count": 4,
   "metadata": {},
   "outputs": [
    {
     "data": {
      "image/png": "[encoded data removed]",
      "text/plain": [
       "<Figure size 1440x288 with 5 Axes>"
      ]
     },
     "metadata": {
      "needs_background": "light"
     },
     "output_type": "display_data"
    }
   ],
   "source": [
    "import numpy as np \n",
    "import matplotlib.pyplot as plt\n",
    "\n",
    "plt.figure(figsize=(20,4))\n",
    "\n",
    "for index, (image, label) in enumerate(zip(digits.data[0:5], digits.target[0:5])):\n",
    "    plt.subplot(1, 5, index + 1)\n",
    "    plt.imshow(np.reshape(image, (8,8)), cmap=plt.cm.gray)\n",
    "    plt.title('Training: {}\\n'.format(label), fontsize=20)"
   ]
  },
  {
   "cell_type": "markdown",
   "metadata": {},
   "source": [
    "### Divisão de Dados em Conjuntos de Treinamento e Teste\n",
    "\n",
    "Fazemos conjuntos de treinamento e teste para garantir que, depois de treinar nosso algoritmo de classificação, ele seja capaz de generalizar bem para novos dados."
   ]
  },
  {
   "cell_type": "code",
   "execution_count": 5,
   "metadata": {},
   "outputs": [],
   "source": [
    "from sklearn.model_selection import train_test_split\n",
    "\n",
    "X = digits.data\n",
    "y = digits.target\n",
    "\n",
    "X_train, X_test, y_train, y_test = train_test_split(X, y, test_size=0.25)"
   ]
  },
  {
   "cell_type": "markdown",
   "metadata": {},
   "source": [
    "### Modelando\n",
    "\n",
    "Uma vez que nossos dados estão divididos, vamos instanciar o nosso modelo e ajustar os dados nele para o treinamento."
   ]
  },
  {
   "cell_type": "code",
   "execution_count": 6,
   "metadata": {},
   "outputs": [],
   "source": [
    "from sklearn.linear_model import LogisticRegression\n",
    "\n",
    "log_reg = LogisticRegression(solver='newton-cg')"
   ]
  },
  {
   "cell_type": "markdown",
   "metadata": {},
   "source": [
    "Com o modelo instanciado, podemos treiná-lo nos dados, armazenando assim as informações aprendidas com os dados.\n",
    "\n",
    "O modelo irá aprender a relação entre os dígitos (**X_train**) e os labels (**y_train**)."
   ]
  },
  {
   "cell_type": "code",
   "execution_count": 7,
   "metadata": {},
   "outputs": [
    {
     "data": {
      "text/plain": [
       "LogisticRegression(C=1.0, class_weight=None, dual=False, fit_intercept=True,\n",
       "                   intercept_scaling=1, l1_ratio=None, max_iter=100,\n",
       "                   multi_class='auto', n_jobs=None, penalty='l2',\n",
       "                   random_state=None, solver='newton-cg', tol=0.0001, verbose=0,\n",
       "                   warm_start=False)"
      ]
     },
     "execution_count": 7,
     "metadata": {},
     "output_type": "execute_result"
    }
   ],
   "source": [
    "log_reg.fit(X_train, y_train)"
   ]
  },
  {
   "cell_type": "markdown",
   "metadata": {},
   "source": [
    "Agora podemos prever **labels** para novos dados (novas imagens).\n",
    "\n",
    "O algoritmo usará as informações que aprendeu durante o processo de treinamento."
   ]
  },
  {
   "cell_type": "code",
   "execution_count": 8,
   "metadata": {},
   "outputs": [
    {
     "data": {
      "text/plain": [
       "5"
      ]
     },
     "execution_count": 8,
     "metadata": {},
     "output_type": "execute_result"
    }
   ],
   "source": [
    "log_reg.predict(X_test[0].reshape(1,-1))[0]"
   ]
  },
  {
   "cell_type": "markdown",
   "metadata": {},
   "source": [
    "Podemos confirmar se o nosso modelo foi capaz de acertar este exemplo."
   ]
  },
  {
   "cell_type": "code",
   "execution_count": 9,
   "metadata": {},
   "outputs": [
    {
     "name": "stdout",
     "output_type": "stream",
     "text": [
      "5\n"
     ]
    }
   ],
   "source": [
    "print(y_test[0])"
   ]
  },
  {
   "cell_type": "markdown",
   "metadata": {},
   "source": [
    "Como podemos ver, ele foi correto em sua previsão.\n",
    "\n",
    "Também é possível prever múltiplas observações (imagens) de uma só vez."
   ]
  },
  {
   "cell_type": "code",
   "execution_count": 10,
   "metadata": {},
   "outputs": [
    {
     "data": {
      "text/plain": [
       "array([5, 8, 8, 9, 9, 4, 5, 4, 2, 5])"
      ]
     },
     "execution_count": 10,
     "metadata": {},
     "output_type": "execute_result"
    }
   ],
   "source": [
    "predictions = log_reg.predict(X_test)\n",
    "predictions[:10]"
   ]
  },
  {
   "cell_type": "markdown",
   "metadata": {},
   "source": [
    "### Medindo a Perfomance do Modelo\n",
    "\n",
    "Embora existam outras maneiras de medir o desempenho do modelo (precision, recall, F1 score, ROC curve, etc), vamos manter este tutorial simples e usar a **accuracy** como nossa métrica.\n",
    "\n",
    "Para fazer isso, veremos o desempenho do modelo nos novos dados (conjunto de teste) a accuracy é definida como:\n",
    "\n",
    "- (fração de previsões corretas): previsões corretas **/** número total de pontos de dados\n",
    "\n",
    "Usamos o método **score** para obter a accuracy do modelo."
   ]
  },
  {
   "cell_type": "code",
   "execution_count": 11,
   "metadata": {},
   "outputs": [
    {
     "name": "stdout",
     "output_type": "stream",
     "text": [
      "0.9666666666666667\n"
     ]
    }
   ],
   "source": [
    "score = log_reg.score(X_test, y_test)\n",
    "\n",
    "print(score)"
   ]
  },
  {
   "cell_type": "markdown",
   "metadata": {},
   "source": [
    "Obtivemos uma accuracy de **96%**."
   ]
  },
  {
   "cell_type": "markdown",
   "metadata": {},
   "source": [
    "### Matriz de Confusão\n",
    "\n",
    "Uma matriz de confusão é uma tabela frequentemente usada para descrever o desempenho de um modelo de classificação (ou \"classificador\") em um conjunto de dados de teste para os quais os verdadeiros valores são conhecidos. \n",
    "\n",
    "A matriz de confusão não é visualmente super informativa ou visualmente atraente em sua forma matricial, mas podemos melhorar isso."
   ]
  },
  {
   "cell_type": "code",
   "execution_count": 12,
   "metadata": {},
   "outputs": [
    {
     "name": "stdout",
     "output_type": "stream",
     "text": [
      "[[42  0  0  0  0  0  0  0  0  0]\n",
      " [ 0 54  0  0  0  0  0  0  1  1]\n",
      " [ 0  0 43  0  0  0  0  0  0  0]\n",
      " [ 0  0  0 43  0  1  0  0  0  0]\n",
      " [ 0  1  0  0 44  0  0  0  1  0]\n",
      " [ 0  0  0  0  0 42  1  0  0  2]\n",
      " [ 0  1  0  0  0  0 37  0  0  0]\n",
      " [ 0  0  0  0  0  0  0 40  0  0]\n",
      " [ 1  2  0  0  0  1  0  0 41  1]\n",
      " [ 0  0  0  0  0  1  0  0  0 49]]\n"
     ]
    }
   ],
   "source": [
    "from sklearn.metrics import confusion_matrix\n",
    "\n",
    "cm = confusion_matrix(y_test, predictions)\n",
    "print(cm)"
   ]
  },
  {
   "cell_type": "markdown",
   "metadata": {},
   "source": [
    "Como você pode ver abaixo, esse método produz uma matriz de confusão mais compreensível e visualmente legível usando a biblioteca **seaborn**."
   ]
  },
  {
   "cell_type": "code",
   "execution_count": 13,
   "metadata": {},
   "outputs": [
    {
     "data": {
      "image/png": "[encoded data removed]",
      "text/plain": [
       "<Figure size 648x648 with 2 Axes>"
      ]
     },
     "metadata": {
      "needs_background": "light"
     },
     "output_type": "display_data"
    }
   ],
   "source": [
    "import seaborn as sns\n",
    "\n",
    "plt.figure(figsize=(9,9))\n",
    "sns.heatmap(cm, annot=True, fmt=\".2f\", linewidths=.5, square=True, cmap='Blues_r');\n",
    "plt.ylabel('Actual label');\n",
    "plt.xlabel('Predicted label');\n",
    "all_sample_title = 'Accuracy Score: {0}'.format(score)\n",
    "plt.title(all_sample_title, size=15);"
   ]
  },
  {
   "cell_type": "markdown",
   "metadata": {},
   "source": [
    "### Conjunto de Dados MNIST\n",
    "\n",
    "Um ponto importante a enfatizar que o conjunto de dados de dígitos contido no scikit-learn é muito pequeno para ser representativo de uma tarefa de Machine Learning do mundo real.\n",
    "\n",
    "Usaremos o conjunto de dados MNIST porque é para pessoas que desejam experimentar técnicas de learning e métodos de reconhecimento de padrões em dados do mundo real, gastando esforços mínimos no pré-processamento e formatação. Uma das coisas que notaremos é que o ajuste de parâmetro pode acelerar muito o tempo de treinamento de um algoritmo de Machine Learning.\n",
    "\n",
    "O conjunto de dados MNIST também pode ser encontrado em: [THE MNIST DATABASE](http://yann.lecun.com/exdb/mnist/)\n",
    "\n",
    "Uma vez que ele não vem embutido no scikit-learn, teremos que fazer o download dele."
   ]
  },
  {
   "cell_type": "code",
   "execution_count": 14,
   "metadata": {},
   "outputs": [],
   "source": [
    "from sklearn.datasets import fetch_openml\n",
    "\n",
    "mnist = fetch_openml('mnist_784')"
   ]
  },
  {
   "cell_type": "markdown",
   "metadata": {},
   "source": [
    "Agora que carregamos o conjunto de dados, podemos acessar alguns atributos.\n",
    "\n",
    "Existem 70.000 imagens (**28x28** imagens para uma dimensionalidade de 784)."
   ]
  },
  {
   "cell_type": "code",
   "execution_count": 15,
   "metadata": {},
   "outputs": [
    {
     "name": "stdout",
     "output_type": "stream",
     "text": [
      "(70000, 784)\n"
     ]
    }
   ],
   "source": [
    "print(mnist.data.shape)"
   ]
  },
  {
   "cell_type": "markdown",
   "metadata": {},
   "source": [
    "A seguir temos os labels."
   ]
  },
  {
   "cell_type": "code",
   "execution_count": 16,
   "metadata": {},
   "outputs": [
    {
     "name": "stdout",
     "output_type": "stream",
     "text": [
      "(70000,)\n"
     ]
    }
   ],
   "source": [
    "print(mnist.target.shape)"
   ]
  },
  {
   "cell_type": "markdown",
   "metadata": {},
   "source": [
    "Com isso, podemos confirmar que existem 70.000 imagens e 70.000 labels neste conjunto de dados."
   ]
  },
  {
   "cell_type": "markdown",
   "metadata": {},
   "source": [
    "### Divisão de Dados em Conjuntos de Treinamento e Teste\n",
    "\n",
    "O código abaixo divide os dados em conjuntos de dados de treinamento e teste. \n",
    "\n",
    "O `test_size = 1/7.0` torna o tamanho do conjunto de treinamento de 60.000 imagens e o tamanho do conjunto de teste de 10.000."
   ]
  },
  {
   "cell_type": "code",
   "execution_count": 17,
   "metadata": {},
   "outputs": [],
   "source": [
    "X = mnist.data\n",
    "y = mnist.target\n",
    "\n",
    "X_train, X_test, y_train, y_test = train_test_split(X, y, test_size=1/7.0)"
   ]
  },
  {
   "cell_type": "markdown",
   "metadata": {},
   "source": [
    "### Mostrando as Imagens e Labels\n",
    "\n",
    "A seguir vamos apresentar algumas imagens do conjunto MNIST e suas respectivas labels."
   ]
  },
  {
   "cell_type": "code",
   "execution_count": 18,
   "metadata": {},
   "outputs": [
    {
     "data": {
      "image/png": "[encoded data removed]",
      "text/plain": [
       "<Figure size 1440x288 with 5 Axes>"
      ]
     },
     "metadata": {
      "needs_background": "light"
     },
     "output_type": "display_data"
    }
   ],
   "source": [
    "plt.figure(figsize=(20,4))\n",
    "\n",
    "for index, (image, label) in enumerate(zip(X_train[0:5], y_train[0:5])):\n",
    "    plt.subplot(1, 5, index + 1)\n",
    "    plt.imshow(np.reshape(image, (28,28)), cmap=plt.cm.gray)\n",
    "    plt.title('Training: {}\\n'.format(label), fontsize=20)"
   ]
  },
  {
   "cell_type": "markdown",
   "metadata": {},
   "source": [
    "As diferentes classes estão distribuídas uniformemente? \n",
    "\n",
    "Podemos encontrar isso plotando um **histograma** dos rótulos nos conjuntos de dados de teste e treinamento."
   ]
  },
  {
   "cell_type": "code",
   "execution_count": 19,
   "metadata": {},
   "outputs": [
    {
     "data": {
      "image/png": "[encoded data removed]",
      "text/plain": [
       "<Figure size 720x360 with 2 Axes>"
      ]
     },
     "metadata": {
      "needs_background": "light"
     },
     "output_type": "display_data"
    }
   ],
   "source": [
    "plt.figure(figsize=(10,5))\n",
    "plt.subplot(1,2,1)\n",
    "plt.hist(y_train);\n",
    "plt.title('Frequency of different classes - Training data');\n",
    "\n",
    "plt.subplot(1,2,2)\n",
    "plt.hist(y_test);\n",
    "plt.title('Frequency of different classes - Test data');"
   ]
  },
  {
   "cell_type": "markdown",
   "metadata": {},
   "source": [
    "### Modelando\n",
    "\n",
    "Algo que é importante mencionar é a importância do ajuste dos parâmetros. Embora possa não ter importado muito para o conjunto de dados de dígitos menores, faz uma diferença maior em conjuntos de dados maiores e mais complexos. Embora normalmente se ajuste os parâmetros por uma questão de accuracy, no caso abaixo, estamos ajustando o solucionador de parâmetros para acelerar o ajuste do modelo.\n",
    "\n",
    "Novamente faremos uma instância do modelo de regressão logística, dessa vez com um **solver** diferente e outros parâmetros definidos.\n",
    "\n",
    "Para saber todos os parâmetros que podem ser usados no algoritmo LogisticRegression, visite a [documentação do Scikit-Learn](https://scikit-learn.org/stable/modules/generated/sklearn.linear_model.LogisticRegression.html)."
   ]
  },
  {
   "cell_type": "code",
   "execution_count": 20,
   "metadata": {},
   "outputs": [],
   "source": [
    "lr = LogisticRegression(fit_intercept=True,\n",
    "                        multi_class='auto',\n",
    "                        penalty='l1',\n",
    "                        solver='saga',\n",
    "                        max_iter=1000,\n",
    "                        C=50,\n",
    "                        verbose=2, \n",
    "                        n_jobs=5,\n",
    "                        tol=0.01)"
   ]
  },
  {
   "cell_type": "markdown",
   "metadata": {},
   "source": [
    "E agora treinamos o modelo nos dados de treinamento."
   ]
  },
  {
   "cell_type": "code",
   "execution_count": 21,
   "metadata": {},
   "outputs": [
    {
     "name": "stderr",
     "output_type": "stream",
     "text": [
      "[Parallel(n_jobs=5)]: Using backend ThreadingBackend with 5 concurrent workers.\n"
     ]
    },
    {
     "name": "stdout",
     "output_type": "stream",
     "text": [
      "convergence after 52 epochs took 515 seconds\n"
     ]
    },
    {
     "name": "stderr",
     "output_type": "stream",
     "text": [
      "[Parallel(n_jobs=5)]: Done   1 out of   1 | elapsed:  8.6min finished\n"
     ]
    },
    {
     "data": {
      "text/plain": [
       "LogisticRegression(C=50, class_weight=None, dual=False, fit_intercept=True,\n",
       "                   intercept_scaling=1, l1_ratio=None, max_iter=1000,\n",
       "                   multi_class='auto', n_jobs=5, penalty='l1',\n",
       "                   random_state=None, solver='saga', tol=0.01, verbose=2,\n",
       "                   warm_start=False)"
      ]
     },
     "execution_count": 21,
     "metadata": {},
     "output_type": "execute_result"
    }
   ],
   "source": [
    "lr.fit(X_train, y_train)"
   ]
  },
  {
   "cell_type": "markdown",
   "metadata": {},
   "source": [
    "**Observação**: Como o **verbose** é definido como `> 0`, as mensagens foram impressas, mas foram impressas no terminal, não no notebook."
   ]
  },
  {
   "cell_type": "markdown",
   "metadata": {},
   "source": [
    "Vamos ver o que o classificador aprendeu."
   ]
  },
  {
   "cell_type": "code",
   "execution_count": 22,
   "metadata": {},
   "outputs": [
    {
     "data": {
      "text/plain": [
       "array(['0', '1', '2', '3', '4', '5', '6', '7', '8', '9'], dtype=object)"
      ]
     },
     "execution_count": 22,
     "metadata": {},
     "output_type": "execute_result"
    }
   ],
   "source": [
    "lr.classes_"
   ]
  },
  {
   "cell_type": "code",
   "execution_count": 23,
   "metadata": {},
   "outputs": [
    {
     "data": {
      "text/plain": [
       "(10, 784)"
      ]
     },
     "execution_count": 23,
     "metadata": {},
     "output_type": "execute_result"
    }
   ],
   "source": [
    "lr.coef_.shape"
   ]
  },
  {
   "cell_type": "markdown",
   "metadata": {},
   "source": [
    "Número de iterações antes que a tolerância fosse alcançada."
   ]
  },
  {
   "cell_type": "code",
   "execution_count": 24,
   "metadata": {},
   "outputs": [
    {
     "data": {
      "text/plain": [
       "52"
      ]
     },
     "execution_count": 24,
     "metadata": {},
     "output_type": "execute_result"
    }
   ],
   "source": [
    "lr.n_iter_[0]"
   ]
  },
  {
   "cell_type": "markdown",
   "metadata": {},
   "source": [
    "### Previsões e Desempenho\n",
    "\n",
    "Agora vamos prever em um conjunto de dados desconhecido e comparar com a verdade absoluta."
   ]
  },
  {
   "cell_type": "code",
   "execution_count": 25,
   "metadata": {},
   "outputs": [
    {
     "name": "stdout",
     "output_type": "stream",
     "text": [
      "['3' '6' '8' '5' '4' '8' '3' '4' '4']\n",
      "['3' '6' '8' '8' '4' '8' '3' '4' '4']\n"
     ]
    }
   ],
   "source": [
    "print(lr.predict(X_test[0:9]))\n",
    "print(y_test[0:9])"
   ]
  },
  {
   "cell_type": "markdown",
   "metadata": {},
   "source": [
    "Vejamos a pontuação em relação aos dados de treinamento e teste."
   ]
  },
  {
   "cell_type": "code",
   "execution_count": 26,
   "metadata": {},
   "outputs": [
    {
     "data": {
      "text/plain": [
       "0.93695"
      ]
     },
     "execution_count": 26,
     "metadata": {},
     "output_type": "execute_result"
    }
   ],
   "source": [
    "lr.score(X_train, y_train)"
   ]
  },
  {
   "cell_type": "code",
   "execution_count": 29,
   "metadata": {},
   "outputs": [
    {
     "data": {
      "text/plain": [
       "0.922"
      ]
     },
     "execution_count": 29,
     "metadata": {},
     "output_type": "execute_result"
    }
   ],
   "source": [
    "score = lr.score(X_test, y_test)\n",
    "score"
   ]
  },
  {
   "cell_type": "markdown",
   "metadata": {},
   "source": [
    "Obtivemos uma pontuação de **92%** de acertos.\n",
    "\n",
    "Vejamos a matriz de confusão."
   ]
  },
  {
   "cell_type": "code",
   "execution_count": 28,
   "metadata": {},
   "outputs": [
    {
     "data": {
      "text/plain": [
       "array([[ 960,    0,    7,    2,    0,    9,    7,    3,   10,    1],\n",
       "       [   0, 1106,    6,    4,    2,    1,    1,    2,   11,    1],\n",
       "       [   7,   12,  910,   19,   14,    5,    6,   13,   19,    1],\n",
       "       [   3,    7,   21,  892,    1,   38,    2,    9,   16,    3],\n",
       "       [   2,    6,    5,    1,  875,    3,    7,    3,    8,   33],\n",
       "       [  10,    1,   11,   37,    7,  805,   18,    4,   23,   11],\n",
       "       [   6,    2,    5,    2,   11,   10,  939,    1,    9,    0],\n",
       "       [   3,    4,   14,   10,    7,    1,    0, 1009,    0,   36],\n",
       "       [   7,   19,   11,   27,    6,   24,    6,    5,  861,    9],\n",
       "       [   4,    6,    3,   13,   22,    6,    0,   31,    7,  863]])"
      ]
     },
     "execution_count": 28,
     "metadata": {},
     "output_type": "execute_result"
    }
   ],
   "source": [
    "preds = lr.predict(X_test)\n",
    "cm = confusion_matrix(y_true=y_test, y_pred=preds, labels=lr.classes_)\n",
    "cm"
   ]
  },
  {
   "cell_type": "markdown",
   "metadata": {},
   "source": [
    "Com a biblioteca **seaborn** para melhor visualização."
   ]
  },
  {
   "cell_type": "code",
   "execution_count": 30,
   "metadata": {},
   "outputs": [
    {
     "data": {
      "image/png": "[encoded data removed]",
      "text/plain": [
       "<Figure size 864x864 with 2 Axes>"
      ]
     },
     "metadata": {
      "needs_background": "light"
     },
     "output_type": "display_data"
    }
   ],
   "source": [
    "plt.figure(figsize=(12,12))\n",
    "sns.heatmap(cm, annot=True, linewidths=.5, square=True, cmap='Blues_r', fmt='0.4g');\n",
    "\n",
    "plt.ylabel('Actual label')\n",
    "plt.xlabel('Predicted label')\n",
    "all_sample_title = 'Accuracy Score: {0}'.format(score)\n",
    "plt.title(all_sample_title);"
   ]
  },
  {
   "cell_type": "markdown",
   "metadata": {},
   "source": [
    "Este notebook mostra a realização de classificação multi-classe usando regressão logística através da técnica **one-vs-all**. \n",
    "\n",
    "Quando executado no conjunto de dados MNIST, a melhor accuracy ainda é de apenas 92%. \n",
    "\n",
    "Ainda há espaço para melhorias. Bons estudos!"
   ]
  },
  {
   "cell_type": "markdown",
   "metadata": {},
   "source": [
    "### Referências\n",
    "\n",
    "- [MNIST digits classification using logistic regression from Scikit-Learn](https://atmamani.github.io/projects/ml/mnist-digits-classification-using-logistic-regression-scikit-learn/)\n",
    "- [Logistic Regression using Python (Scikit-Learn)](https://towardsdatascience.com/logistic-regression-using-python-sklearn-numpy-mnist-handwriting-recognition-matplotlib-a6b31e2b166a)"
   ]
  }
 ],
 "metadata": {
  "kernelspec": {
   "display_name": "Python 3",
   "language": "python",
   "name": "python3"
  },
  "language_info": {
   "codemirror_mode": {
    "name": "ipython",
    "version": 3
   },
   "file_extension": ".py",
   "mimetype": "text/x-python",
   "name": "python",
   "nbconvert_exporter": "python",
   "pygments_lexer": "ipython3",
   "version": "3.7.10"
  }
 },
 "nbformat": 4,
 "nbformat_minor": 4
}
