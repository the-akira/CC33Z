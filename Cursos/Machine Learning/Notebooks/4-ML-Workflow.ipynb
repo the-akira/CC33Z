{
 "cells": [
  {
   "cell_type": "markdown",
   "metadata": {},
   "source": [
    "# Fluxo de Trabalho de Machine Learning\n",
    "\n",
    "Neste notebook veremos com mais detalhes o fluxo de trabalho de Machine Learning com a biblioteca **Scikit-Learn**.\n",
    "\n",
    "Abordaremos os seguintes tópicos:\n",
    "\n",
    "1. Preparando os Dados\n",
    "2. Escolhendo o melhor Modelo/Estimador/Algoritmo para os nossos problemas\n",
    "3. Ajustar o Modelo e usá-lo para fazer previsões em nossos dados\n",
    "4. Avaliar o desempenho do Modelo\n",
    "5. Aperfeiçoar o Modelo\n",
    "6. Salvar e carregar o Modelo treinado"
   ]
  },
  {
   "cell_type": "markdown",
   "metadata": {},
   "source": [
    "Antes de tudo, vamos importar as bibliotecas necessárias para trabalharmos adequadamente."
   ]
  },
  {
   "cell_type": "code",
   "execution_count": 360,
   "metadata": {},
   "outputs": [],
   "source": [
    "import numpy as np\n",
    "import pandas as pd\n",
    "import matplotlib.pyplot as plt\n",
    "%matplotlib inline"
   ]
  },
  {
   "cell_type": "markdown",
   "metadata": {},
   "source": [
    "## 4. Avaliando um Modelo de Machine Learning\n",
    "\n",
    "Como sempre, para saber mais detalhes você pode checar a documentação oficial da biblioteca Scikit-Learn, nela, há uma seção específica que trata somente de métodos de avaliação de modelos.\n",
    "\n",
    "[Avaliação de Modelos - Documentação](https://scikit-learn.org/stable/modules/model_evaluation.html)\n",
    "\n",
    "Novamente voltaremos aos nossos dados de doença do coração (heart disease)."
   ]
  },
  {
   "cell_type": "code",
   "execution_count": 361,
   "metadata": {},
   "outputs": [],
   "source": [
    "from sklearn.ensemble import RandomForestClassifier\n",
    "from sklearn.model_selection import train_test_split\n",
    "\n",
    "heart_disease = pd.read_csv('dados/heart-disease.csv')\n",
    "X = heart_disease.drop('target',axis=1)\n",
    "y = heart_disease['target']\n",
    "\n",
    "X_train, X_test, y_train, y_test = train_test_split(X, y, test_size=0.2)\n",
    "\n",
    "clf = RandomForestClassifier()\n",
    "clf.fit(X_train, y_train);"
   ]
  },
  {
   "cell_type": "markdown",
   "metadata": {},
   "source": [
    "Existem três principais maneiras de avaliar os modelos/estimadores de Scikit-Learn:\n",
    "\n",
    "1. Método **score()** do estimador\n",
    "2. Funções de métricas específicas para o problema\n",
    "3. O parâmetro **scoring**"
   ]
  },
  {
   "cell_type": "markdown",
   "metadata": {},
   "source": [
    "O método **score()** é o que estamos usando desde então."
   ]
  },
  {
   "cell_type": "code",
   "execution_count": 362,
   "metadata": {},
   "outputs": [
    {
     "data": {
      "text/plain": [
       "1.0"
      ]
     },
     "execution_count": 362,
     "metadata": {},
     "output_type": "execute_result"
    }
   ],
   "source": [
    "clf.score(X_train, y_train)"
   ]
  },
  {
   "cell_type": "code",
   "execution_count": 363,
   "metadata": {},
   "outputs": [
    {
     "data": {
      "text/plain": [
       "0.819672131147541"
      ]
     },
     "execution_count": 363,
     "metadata": {},
     "output_type": "execute_result"
    }
   ],
   "source": [
    "clf.score(X_test, y_test)"
   ]
  },
  {
   "cell_type": "markdown",
   "metadata": {},
   "source": [
    "Podemos fazer o mesmo para problemas de regressão."
   ]
  },
  {
   "cell_type": "code",
   "execution_count": 364,
   "metadata": {},
   "outputs": [],
   "source": [
    "from sklearn.ensemble import RandomForestRegressor\n",
    "from sklearn.datasets import load_boston\n",
    "\n",
    "boston = load_boston()\n",
    "boston_df = pd.DataFrame(boston['data'],columns=boston['feature_names'])\n",
    "boston_df['target'] = pd.Series(boston['target'])\n",
    "\n",
    "X = boston_df.drop('target',axis=1)\n",
    "y = boston_df['target']\n",
    "\n",
    "X_train, X_test, y_train, y_test = train_test_split(X,y,test_size=0.2)\n",
    "\n",
    "rf = RandomForestRegressor(n_estimators=150).fit(X_train,y_train)"
   ]
  },
  {
   "cell_type": "markdown",
   "metadata": {},
   "source": [
    "Uma vez que o modelo está treinado, também podemos usar o método **score()**."
   ]
  },
  {
   "cell_type": "code",
   "execution_count": 365,
   "metadata": {},
   "outputs": [
    {
     "data": {
      "text/plain": [
       "0.9793735072341857"
      ]
     },
     "execution_count": 365,
     "metadata": {},
     "output_type": "execute_result"
    }
   ],
   "source": [
    "rf.score(X_train, y_train)"
   ]
  },
  {
   "cell_type": "code",
   "execution_count": 366,
   "metadata": {},
   "outputs": [
    {
     "data": {
      "text/plain": [
       "0.8458024750518687"
      ]
     },
     "execution_count": 366,
     "metadata": {},
     "output_type": "execute_result"
    }
   ],
   "source": [
    "rf.score(X_test, y_test)"
   ]
  },
  {
   "cell_type": "markdown",
   "metadata": {},
   "source": [
    "É importante então lembrarmos que para cada algoritmo de Machine Learning (em Scikit-Learn) existe uma função padrão para avaliarmos o desempenho do modelo.\n",
    "\n",
    "Iremos agora usar o parâmetro **scoring** para avaliar um modelo."
   ]
  },
  {
   "cell_type": "code",
   "execution_count": 367,
   "metadata": {},
   "outputs": [
    {
     "data": {
      "text/plain": [
       "array([0.83606557, 0.8852459 , 0.80327869, 0.8       , 0.8       ])"
      ]
     },
     "execution_count": 367,
     "metadata": {},
     "output_type": "execute_result"
    }
   ],
   "source": [
    "from sklearn.model_selection import cross_val_score\n",
    "\n",
    "X = heart_disease.drop('target',axis=1)\n",
    "y = heart_disease['target']\n",
    "\n",
    "X_train, X_test, y_train, y_test = train_test_split(X, y, test_size=0.2)\n",
    "\n",
    "clf = RandomForestClassifier().fit(X_train, y_train);\n",
    "cross_val_score(clf, X, y)"
   ]
  },
  {
   "cell_type": "markdown",
   "metadata": {},
   "source": [
    "Observe que estamos usando **Cross Validation**, o que este método faz é executar 5 **splits** diferentes em nossos dados originais e nos traz uma avaliação para cada um.\n",
    "\n",
    "Em outras palavras, ele treina 5 versões diferentes do modelo e traz uma métrica de desempenho para cada uma.\n",
    "\n",
    "Podemos fazer com mais versões se quisermos e tirar a média de pontuação.\n",
    "\n",
    "Primeiramente vamos obter a pontuação de um **split único**."
   ]
  },
  {
   "cell_type": "code",
   "execution_count": 368,
   "metadata": {},
   "outputs": [
    {
     "data": {
      "text/plain": [
       "0.7868852459016393"
      ]
     },
     "execution_count": 368,
     "metadata": {},
     "output_type": "execute_result"
    }
   ],
   "source": [
    "clf_single_score = clf.score(X_test, y_test)\n",
    "clf_single_score"
   ]
  },
  {
   "cell_type": "markdown",
   "metadata": {},
   "source": [
    "E agora vamos obter a média do **5-fold cross-validation score**."
   ]
  },
  {
   "cell_type": "code",
   "execution_count": 369,
   "metadata": {},
   "outputs": [
    {
     "data": {
      "text/plain": [
       "0.8249180327868852"
      ]
     },
     "execution_count": 369,
     "metadata": {},
     "output_type": "execute_result"
    }
   ],
   "source": [
    "clf_cross_val_score = np.mean(cross_val_score(clf, X, y, cv=5))\n",
    "clf_cross_val_score"
   ]
  },
  {
   "cell_type": "markdown",
   "metadata": {},
   "source": [
    "Podemos ver que o parâmetro **scoring** é setado como **None** por padrão."
   ]
  },
  {
   "cell_type": "code",
   "execution_count": 370,
   "metadata": {},
   "outputs": [
    {
     "data": {
      "text/plain": [
       "array([0.83606557, 0.8852459 , 0.75409836, 0.8       , 0.8       ])"
      ]
     },
     "execution_count": 370,
     "metadata": {},
     "output_type": "execute_result"
    }
   ],
   "source": [
    "cross_val_score(clf, X, y, cv=5, scoring=None)"
   ]
  },
  {
   "cell_type": "markdown",
   "metadata": {},
   "source": [
    "Se o parâmetro **scoring** estiver como **None** ele usa o parâmetro padrão de **scoring** do nosso estimador.\n",
    "\n",
    "O parâmetro **scoring** padrão de um classificador é **mean accuracy**.\n",
    "\n",
    "Vamos então ver outras métricas de avaliação de algoritmos:\n",
    "\n",
    "1. Accuracy\n",
    "2. Área sob a curva ROC\n",
    "3. Matriz de Confusão\n",
    "4. Classification Report\n",
    "\n",
    "Começaremos usando a métrica **Accuracy**."
   ]
  },
  {
   "cell_type": "code",
   "execution_count": 371,
   "metadata": {},
   "outputs": [
    {
     "data": {
      "text/plain": [
       "0.8249726775956283"
      ]
     },
     "execution_count": 371,
     "metadata": {},
     "output_type": "execute_result"
    }
   ],
   "source": [
    "X = heart_disease.drop('target',axis=1)\n",
    "y = heart_disease['target']\n",
    "\n",
    "clf = RandomForestClassifier()\n",
    "cross_val_score = cross_val_score(clf, X, y, cv=5)\n",
    "np.mean(cross_val_score)"
   ]
  },
  {
   "cell_type": "code",
   "execution_count": 372,
   "metadata": {},
   "outputs": [
    {
     "name": "stdout",
     "output_type": "stream",
     "text": [
      "Accuracy Cross-Validated do Classificador de Doença do Coração: 82.50%\n"
     ]
    }
   ],
   "source": [
    "print(f'Accuracy Cross-Validated do Classificador de Doença do Coração: {np.mean(cross_val_score) * 100:.2f}%')"
   ]
  },
  {
   "cell_type": "markdown",
   "metadata": {},
   "source": [
    "Vamos ver agora a métrica **Receiver Operating Characteristic Curve (AUC/ROC)**.\n",
    "\n",
    "- Area Under Cuver (AUC)\n",
    "- ROC Curve\n",
    "\n",
    "Essencialmente ele é a comparação do modelo **True Positive Rate (TPR)** vs **False Positive Rate (FPR)**.\n",
    "\n",
    "- True Positive = Modelo prevê 1 e a verdade é 1\n",
    "- False Positive = Modelo prevê 1 e a verdade é 0\n",
    "- True Negative = Modelo prevê 0 e a verdade é 0\n",
    "- False Negative = Modelo prevê o e a verdade é 1\n",
    "\n",
    "Por exemplo: \n",
    "\n",
    "Se um paciente tem realmente doença de coração e o algoritmo prevê que ele tem, isso significa um **True Positive**.\n",
    "\n",
    "Se um paciente não tem doença do coração e o algoritmo prevê que ele tem, isso é um **False Positive**.\n",
    "\n",
    "Se um paciente não tem doença do coração e o algoritmo prevê que ele não tem, isso é um **True Negative**.\n",
    "\n",
    "E por último, se a pessoa tem a doença do coração e o algoritmo prevê que ela não tem, isso é um **False Negative**.\n",
    "\n",
    "Para usar a métrica **ROC Curve**, é necessário primeiro importá-la."
   ]
  },
  {
   "cell_type": "code",
   "execution_count": 373,
   "metadata": {},
   "outputs": [],
   "source": [
    "from sklearn.metrics import roc_curve"
   ]
  },
  {
   "cell_type": "markdown",
   "metadata": {},
   "source": [
    "Agora faremos previsões com probabilidades."
   ]
  },
  {
   "cell_type": "code",
   "execution_count": 374,
   "metadata": {},
   "outputs": [
    {
     "data": {
      "text/plain": [
       "array([[0.15, 0.85],\n",
       "       [0.04, 0.96],\n",
       "       [0.18, 0.82],\n",
       "       [0.1 , 0.9 ],\n",
       "       [0.96, 0.04],\n",
       "       [0.27, 0.73],\n",
       "       [0.6 , 0.4 ],\n",
       "       [0.86, 0.14],\n",
       "       [0.27, 0.73],\n",
       "       [0.21, 0.79]])"
      ]
     },
     "execution_count": 374,
     "metadata": {},
     "output_type": "execute_result"
    }
   ],
   "source": [
    "X_train, X_test, y_train, y_test = train_test_split(X, y, test_size=0.2)\n",
    "\n",
    "clf.fit(X_train, y_train)\n",
    "y_probs = clf.predict_proba(X_test)\n",
    "y_probs[:10]"
   ]
  },
  {
   "cell_type": "markdown",
   "metadata": {},
   "source": [
    "Vamos agora selecionar apenas as probabilidades que indicam em favor de que a pessoa tem doença de coração."
   ]
  },
  {
   "cell_type": "code",
   "execution_count": 375,
   "metadata": {},
   "outputs": [
    {
     "data": {
      "text/plain": [
       "array([0.85, 0.96, 0.82, 0.9 , 0.04, 0.73, 0.4 , 0.14, 0.73, 0.79, 0.99,\n",
       "       0.91, 0.41, 0.76, 0.83, 0.03, 0.36, 0.62, 0.8 , 0.77, 0.6 , 0.42,\n",
       "       0.97, 0.78, 0.81, 0.99, 0.98, 0.02, 0.43, 0.51, 0.27, 0.56, 0.65,\n",
       "       0.29, 0.4 , 0.53, 0.99, 0.03, 0.79, 0.96, 0.66, 0.94, 0.26, 0.13,\n",
       "       0.03, 0.09, 0.78, 0.88, 0.38, 0.42, 0.71, 0.88, 0.95, 0.76, 0.56,\n",
       "       0.82, 0.04, 0.52, 0.43, 0.78, 0.11])"
      ]
     },
     "execution_count": 375,
     "metadata": {},
     "output_type": "execute_result"
    }
   ],
   "source": [
    "y_probs_positive = y_probs[:,1]\n",
    "y_probs_positive"
   ]
  },
  {
   "cell_type": "markdown",
   "metadata": {},
   "source": [
    "Agora vamos calcular o **FPR**, **TPR** tresholds."
   ]
  },
  {
   "cell_type": "code",
   "execution_count": 376,
   "metadata": {},
   "outputs": [],
   "source": [
    "fpr, tpr, tresholds = roc_curve(y_test, y_probs_positive)"
   ]
  },
  {
   "cell_type": "markdown",
   "metadata": {},
   "source": [
    "Checamos então a taxa de falsos positivos."
   ]
  },
  {
   "cell_type": "code",
   "execution_count": 377,
   "metadata": {},
   "outputs": [
    {
     "data": {
      "text/plain": [
       "array([0.        , 0.        , 0.03571429, 0.03571429, 0.03571429,\n",
       "       0.03571429, 0.03571429, 0.03571429, 0.07142857, 0.07142857,\n",
       "       0.07142857, 0.14285714, 0.14285714, 0.14285714, 0.14285714,\n",
       "       0.17857143, 0.21428571, 0.21428571, 0.25      , 0.32142857,\n",
       "       0.35714286, 0.35714286, 0.42857143, 0.46428571, 0.5       ,\n",
       "       0.53571429, 0.53571429, 0.64285714, 0.64285714, 0.78571429,\n",
       "       0.85714286, 0.96428571, 1.        ])"
      ]
     },
     "execution_count": 377,
     "metadata": {},
     "output_type": "execute_result"
    }
   ],
   "source": [
    "fpr"
   ]
  },
  {
   "cell_type": "markdown",
   "metadata": {},
   "source": [
    "Para compreendermos melhor este conceito, vamos criar uma função para plotar **ROC Curves**."
   ]
  },
  {
   "cell_type": "code",
   "execution_count": 378,
   "metadata": {},
   "outputs": [],
   "source": [
    "def plot_roc_curve(fpr, tpr):\n",
    "    \"\"\"\n",
    "    Plota a ROC Curve dado o False Positive Rate (FPR)\n",
    "    e True Positive Rate (TPR) de um modelo\n",
    "    \"\"\"\n",
    "    # Plota a ROC Curve\n",
    "    plt.plot(fpr, tpr, color='orange', label='ROC')\n",
    "    # Plota a linha com nenhum poder preditivo (baseline)\n",
    "    plt.plot([0,1],[0,1], color='darkblue', linestyle='--', label='Guessing')\n",
    "    # Customizando o Gráfico\n",
    "    plt.xlabel('False Positive Rate (FPR)')\n",
    "    plt.ylabel('True Positive Rate (TPR)')\n",
    "    plt.title('Receiver Operating Characteristic (ROC) Curve')\n",
    "    plt.legend()\n",
    "    plt.show()"
   ]
  },
  {
   "cell_type": "code",
   "execution_count": 379,
   "metadata": {},
   "outputs": [
    {
     "data": {
      "image/png": "[encoded data removed]",
      "text/plain": [
       "<Figure size 432x288 with 1 Axes>"
      ]
     },
     "metadata": {
      "needs_background": "light"
     },
     "output_type": "display_data"
    }
   ],
   "source": [
    "plot_roc_curve(fpr, tpr)"
   ]
  },
  {
   "cell_type": "markdown",
   "metadata": {},
   "source": [
    "E para calcular a **Area Under Curve** usamos a função **roc_auc_score**."
   ]
  },
  {
   "cell_type": "code",
   "execution_count": 380,
   "metadata": {},
   "outputs": [
    {
     "data": {
      "text/plain": [
       "0.8436147186147186"
      ]
     },
     "execution_count": 380,
     "metadata": {},
     "output_type": "execute_result"
    }
   ],
   "source": [
    "from sklearn.metrics import roc_auc_score\n",
    "\n",
    "roc_auc_score(y_test, y_probs_positive)"
   ]
  },
  {
   "cell_type": "markdown",
   "metadata": {},
   "source": [
    "Lembrando: **AUC** = Area Under Curve = Área Embaixo da Curva.\n",
    "\n",
    "Se medirmos a área baixo da curva, obteremos um valor, sendo o máximo possível desse valor = **1**.\n",
    "\n",
    "Vamos então plotar uma ROC Curve e AUC Score perfeito."
   ]
  },
  {
   "cell_type": "code",
   "execution_count": 381,
   "metadata": {},
   "outputs": [
    {
     "data": {
      "image/png": "[encoded data removed]",
      "text/plain": [
       "<Figure size 432x288 with 1 Axes>"
      ]
     },
     "metadata": {
      "needs_background": "light"
     },
     "output_type": "display_data"
    }
   ],
   "source": [
    "fpr, tpr, treshold = roc_curve(y_test, y_test)\n",
    "plot_roc_curve(fpr, tpr)"
   ]
  },
  {
   "cell_type": "markdown",
   "metadata": {},
   "source": [
    "Para este exemplo, o AUC Score deve então ser **1**, uma vez que ele preenche a área inteira do gráfico."
   ]
  },
  {
   "cell_type": "code",
   "execution_count": 382,
   "metadata": {},
   "outputs": [
    {
     "data": {
      "text/plain": [
       "1.0"
      ]
     },
     "execution_count": 382,
     "metadata": {},
     "output_type": "execute_result"
    }
   ],
   "source": [
    "roc_auc_score(y_test, y_test)"
   ]
  },
  {
   "cell_type": "markdown",
   "metadata": {},
   "source": [
    "Agora veremos a métrica **Confusion Matrix**.\n",
    "\n",
    "Uma **Confusion Matrix** é uma maneira rápida de comparar as labels que o modelo prevê com as labels reais que o modelo supostamente deve prever.\n",
    "\n",
    "Em essência, nos apresenta uma ideia de onde o modelo está confuso."
   ]
  },
  {
   "cell_type": "code",
   "execution_count": 383,
   "metadata": {},
   "outputs": [
    {
     "data": {
      "text/plain": [
       "array([[18, 10],\n",
       "       [ 4, 29]])"
      ]
     },
     "execution_count": 383,
     "metadata": {},
     "output_type": "execute_result"
    }
   ],
   "source": [
    "from sklearn.metrics import confusion_matrix\n",
    "\n",
    "y_preds = clf.predict(X_test)\n",
    "confusion_matrix(y_test, y_preds)"
   ]
  },
  {
   "cell_type": "markdown",
   "metadata": {},
   "source": [
    "Recebemos um array de 4 números como **output**.\n",
    "\n",
    "Vamos agora visualizar a Confusion Matrix para compreender melhor do que se trata."
   ]
  },
  {
   "cell_type": "code",
   "execution_count": 384,
   "metadata": {},
   "outputs": [
    {
     "data": {
      "text/html": [
       "<div>\n",
       "<style scoped>\n",
       "    .dataframe tbody tr th:only-of-type {\n",
       "        vertical-align: middle;\n",
       "    }\n",
       "\n",
       "    .dataframe tbody tr th {\n",
       "        vertical-align: top;\n",
       "    }\n",
       "\n",
       "    .dataframe thead th {\n",
       "        text-align: right;\n",
       "    }\n",
       "</style>\n",
       "<table border=\"1\" class=\"dataframe\">\n",
       "  <thead>\n",
       "    <tr style=\"text-align: right;\">\n",
       "      <th>Labels Previstas</th>\n",
       "      <th>0</th>\n",
       "      <th>1</th>\n",
       "    </tr>\n",
       "    <tr>\n",
       "      <th>Labels Reais</th>\n",
       "      <th></th>\n",
       "      <th></th>\n",
       "    </tr>\n",
       "  </thead>\n",
       "  <tbody>\n",
       "    <tr>\n",
       "      <th>0</th>\n",
       "      <td>18</td>\n",
       "      <td>10</td>\n",
       "    </tr>\n",
       "    <tr>\n",
       "      <th>1</th>\n",
       "      <td>4</td>\n",
       "      <td>29</td>\n",
       "    </tr>\n",
       "  </tbody>\n",
       "</table>\n",
       "</div>"
      ],
      "text/plain": [
       "Labels Previstas   0   1\n",
       "Labels Reais            \n",
       "0                 18  10\n",
       "1                  4  29"
      ]
     },
     "execution_count": 384,
     "metadata": {},
     "output_type": "execute_result"
    }
   ],
   "source": [
    "pd.crosstab(y_test, y_preds, rownames=[\"Labels Reais\"], colnames=[\"Labels Previstas\"])"
   ]
  },
  {
   "cell_type": "markdown",
   "metadata": {},
   "source": [
    "Observe que."
   ]
  },
  {
   "cell_type": "code",
   "execution_count": 403,
   "metadata": {},
   "outputs": [
    {
     "data": {
      "text/plain": [
       "61"
      ]
     },
     "execution_count": 403,
     "metadata": {},
     "output_type": "execute_result"
    }
   ],
   "source": [
    "18 + 10 + 4 + 29"
   ]
  },
  {
   "cell_type": "code",
   "execution_count": 386,
   "metadata": {},
   "outputs": [
    {
     "data": {
      "text/plain": [
       "61"
      ]
     },
     "execution_count": 386,
     "metadata": {},
     "output_type": "execute_result"
    }
   ],
   "source": [
    "len(X_test)"
   ]
  },
  {
   "cell_type": "markdown",
   "metadata": {},
   "source": [
    "São 61 previsões no total, na intersecção entre os números podemos ver que:\n",
    "\n",
    "- Quando uma label prevista é 0 e a label real é 0, temos 18 previsões corretas.\n",
    "- Quando uma label prevista é 1 e a label real é 1, temos 29 previsões corretas.\n",
    "- Quando uma label prevista é 0 e a label real é 1, temos 4 previsões incorretas. (Falso Negativo)\n",
    "- Quando uma label prevista é 1 e a label real é 0, temos 10 previsões incorretas. (Falso Positivo)"
   ]
  },
  {
   "cell_type": "markdown",
   "metadata": {},
   "source": [
    "Podemos tornar nossa Confusion Matrix mais intuitiva / visual através da biblioteca **seaborn**."
   ]
  },
  {
   "cell_type": "code",
   "execution_count": 387,
   "metadata": {},
   "outputs": [
    {
     "data": {
      "image/png": "[encoded data removed]",
      "text/plain": [
       "<Figure size 432x288 with 2 Axes>"
      ]
     },
     "metadata": {},
     "output_type": "display_data"
    }
   ],
   "source": [
    "import seaborn as sns\n",
    "\n",
    "# Alteramos a escala da fonte\n",
    "sns.set(font_scale=1.5)\n",
    "\n",
    "# Criamos a confusion matrix\n",
    "conf_mat = confusion_matrix(y_test, y_preds)\n",
    "\n",
    "# Plotamos usando Seaborn\n",
    "sns.heatmap(conf_mat, annot=True);"
   ]
  },
  {
   "cell_type": "markdown",
   "metadata": {},
   "source": [
    "Como podemos ver, ela não está muito funcional.\n",
    "\n",
    "Vamos customizá-la criando uma função específica."
   ]
  },
  {
   "cell_type": "code",
   "execution_count": 388,
   "metadata": {},
   "outputs": [],
   "source": [
    "def plot_conf_mat(conf_mat):\n",
    "    \"\"\"\n",
    "    Plota uma Confusion Matrix usando Seaborn Heatmap\n",
    "    \"\"\"\n",
    "    fig, ax = plt.subplots(figsize=(3,3))\n",
    "    ax = sns.heatmap(conf_mat, annot=True, cbar=False)\n",
    "    plt.xlabel('Label Verdadeira')\n",
    "    plt.ylabel('Label Prevista')"
   ]
  },
  {
   "cell_type": "code",
   "execution_count": 389,
   "metadata": {},
   "outputs": [
    {
     "data": {
      "image/png": "[encoded data removed]",
      "text/plain": [
       "<Figure size 216x216 with 1 Axes>"
      ]
     },
     "metadata": {},
     "output_type": "display_data"
    }
   ],
   "source": [
    "plot_conf_mat(conf_mat)"
   ]
  },
  {
   "cell_type": "markdown",
   "metadata": {},
   "source": [
    "Por fim, temos a opção de usar a função **plot_confusion_matrix** da biblioteca Scikit-Learn."
   ]
  },
  {
   "cell_type": "code",
   "execution_count": 390,
   "metadata": {},
   "outputs": [
    {
     "data": {
      "image/png": "[encoded data removed]",
      "text/plain": [
       "<Figure size 432x288 with 2 Axes>"
      ]
     },
     "metadata": {},
     "output_type": "display_data"
    }
   ],
   "source": [
    "from sklearn.metrics import plot_confusion_matrix\n",
    "\n",
    "plot_confusion_matrix(clf, X_test, y_test);"
   ]
  },
  {
   "cell_type": "markdown",
   "metadata": {},
   "source": [
    "Agora veremos a métrica **Classification Report**, que é na verdade uma coleção de diferentes métricas de avaliação."
   ]
  },
  {
   "cell_type": "code",
   "execution_count": 391,
   "metadata": {},
   "outputs": [
    {
     "name": "stdout",
     "output_type": "stream",
     "text": [
      "              precision    recall  f1-score   support\n",
      "\n",
      "           0       0.82      0.64      0.72        28\n",
      "           1       0.74      0.88      0.81        33\n",
      "\n",
      "    accuracy                           0.77        61\n",
      "   macro avg       0.78      0.76      0.76        61\n",
      "weighted avg       0.78      0.77      0.77        61\n",
      "\n"
     ]
    }
   ],
   "source": [
    "from sklearn.metrics import classification_report \n",
    "\n",
    "print(classification_report(y_test, y_preds))"
   ]
  },
  {
   "cell_type": "markdown",
   "metadata": {},
   "source": [
    "- **Precision**: Indica a proporção de identificações positivas (modelo previu a classe 1) no qual está de fato correta. Um modelo que produz nenhum Falso Positivo tem uma precisão **1.0**.\n",
    "\n",
    "- **Recall**: Indica a proporção de positivos reais no qual foram corretamente classificados. Um modelo que não produz Falsos Negativos tem um recall **1.0**.\n",
    "\n",
    "- **F1 score**: Uma combinação de precision e recall. Um modelo perfeito alcança um F1 score de **1.0**.\n",
    "\n",
    "- **Support**: O número de amostras que cada métrica foi calculada.\n",
    "\n",
    "- **Accuracy**: A accuracy de um modelo em forma decimal. Accuracy perfeita é igual a **1.0**.\n",
    "\n",
    "- **Macro Avg**: A média de precision, recall e F1 score entre classes. Importante lembrar que essa métrica não considera classes não-balanceadas, portanto se você tiver classes não-balanceadas, preste atenção a essa métrica.\n",
    "\n",
    "- **Weighted Avg**: A média ponderada de precision, recall e F1 score entre classes. Ponderada significa que cada métrica é calculada em respeito de quantas amostras há em cada classe. Essa métrica irá favorecer a classe majoritária (ou seja, irá fornecer um valor alto quando uma classe supera a outra devido a ter mais amostras)."
   ]
  },
  {
   "cell_type": "markdown",
   "metadata": {},
   "source": [
    "Vamos agora testar uso de métricas em um caso específico que temos que prever se uma pessoa tem uma doença em uma amostra grande de pessoas onde há apenas de fato um doente."
   ]
  },
  {
   "cell_type": "code",
   "execution_count": 476,
   "metadata": {},
   "outputs": [
    {
     "data": {
      "text/html": [
       "<div>\n",
       "<style scoped>\n",
       "    .dataframe tbody tr th:only-of-type {\n",
       "        vertical-align: middle;\n",
       "    }\n",
       "\n",
       "    .dataframe tbody tr th {\n",
       "        vertical-align: top;\n",
       "    }\n",
       "\n",
       "    .dataframe thead th {\n",
       "        text-align: right;\n",
       "    }\n",
       "</style>\n",
       "<table border=\"1\" class=\"dataframe\">\n",
       "  <thead>\n",
       "    <tr style=\"text-align: right;\">\n",
       "      <th></th>\n",
       "      <th>0.0</th>\n",
       "      <th>1.0</th>\n",
       "      <th>accuracy</th>\n",
       "      <th>macro avg</th>\n",
       "      <th>weighted avg</th>\n",
       "    </tr>\n",
       "  </thead>\n",
       "  <tbody>\n",
       "    <tr>\n",
       "      <th>precision</th>\n",
       "      <td>0.99990</td>\n",
       "      <td>0.0</td>\n",
       "      <td>0.9999</td>\n",
       "      <td>0.499950</td>\n",
       "      <td>0.99980</td>\n",
       "    </tr>\n",
       "    <tr>\n",
       "      <th>recall</th>\n",
       "      <td>1.00000</td>\n",
       "      <td>0.0</td>\n",
       "      <td>0.9999</td>\n",
       "      <td>0.500000</td>\n",
       "      <td>0.99990</td>\n",
       "    </tr>\n",
       "    <tr>\n",
       "      <th>f1-score</th>\n",
       "      <td>0.99995</td>\n",
       "      <td>0.0</td>\n",
       "      <td>0.9999</td>\n",
       "      <td>0.499975</td>\n",
       "      <td>0.99985</td>\n",
       "    </tr>\n",
       "    <tr>\n",
       "      <th>support</th>\n",
       "      <td>9999.00000</td>\n",
       "      <td>1.0</td>\n",
       "      <td>0.9999</td>\n",
       "      <td>10000.000000</td>\n",
       "      <td>10000.00000</td>\n",
       "    </tr>\n",
       "  </tbody>\n",
       "</table>\n",
       "</div>"
      ],
      "text/plain": [
       "                  0.0  1.0  accuracy     macro avg  weighted avg\n",
       "precision     0.99990  0.0    0.9999      0.499950       0.99980\n",
       "recall        1.00000  0.0    0.9999      0.500000       0.99990\n",
       "f1-score      0.99995  0.0    0.9999      0.499975       0.99985\n",
       "support    9999.00000  1.0    0.9999  10000.000000   10000.00000"
      ]
     },
     "execution_count": 476,
     "metadata": {},
     "output_type": "execute_result"
    }
   ],
   "source": [
    "disease_true = np.zeros(10_000)\n",
    "disease_true[0] = 1 # apenas um caso positivo de doença\n",
    "\n",
    "disease_preds = np.zeros(10_000) # o modelo prevê todo caso como 0 (negativo)\n",
    "\n",
    "pd.DataFrame(classification_report(disease_true, disease_preds, output_dict=True))"
   ]
  },
  {
   "cell_type": "markdown",
   "metadata": {},
   "source": [
    "Neste caso, o modelo está errando apenas **1**, alcançando uma accuracy de **99%**, o que pode nos enganar.\n",
    "\n",
    "Por isso olhamos outras métricas, neste caso ele está com uma precision e recall **0** para a classe **1.0**, o que é péssimo.\n",
    "\n",
    "Para sumarizar, temos então que:\n",
    "\n",
    "- **Accuracy** é uma medida boa para começar se todas as classes estiverem balanceadas (mesma quantidade de amostras que estão com labels 0 e 1)\n",
    "- **Precision** e **recall** se tornam mais importantes quando as classes estiverem não-balanceadas\n",
    "- Se previsões falsos positivas forem pior do que falsos negativas, busque por uma precision maior\n",
    "- Se previsões falsos negativas forem pior do que falsos positivas, busque por um recall maior\n",
    "- **F1 Score** é uma combinação de precision e recall"
   ]
  },
  {
   "cell_type": "markdown",
   "metadata": {},
   "source": [
    "Vamos agora conhecer métricas para algoritmos de **Regressão**:\n",
    "\n",
    "1. R^2 (R-Squared) ou coefficient of determination\n",
    "2. Mean Absolute Error (MAE)\n",
    "3. Mean Squared Error (MSE)\n",
    "\n",
    "Usaremos o conjunto de dados das casas de Boston."
   ]
  },
  {
   "cell_type": "code",
   "execution_count": 393,
   "metadata": {},
   "outputs": [],
   "source": [
    "X = boston_df.drop('target',axis=1)\n",
    "y = boston_df['target']\n",
    "\n",
    "X_train, X_test, y_train, y_test = train_test_split(X, y, test_size=0.2)\n",
    "\n",
    "modelo = RandomForestRegressor().fit(X_train, y_train);"
   ]
  },
  {
   "cell_type": "markdown",
   "metadata": {},
   "source": [
    "Como de costume, podemos usar o **score()**, que traz a métrica padrão para este modelo, que no caso é **R^2**."
   ]
  },
  {
   "cell_type": "code",
   "execution_count": 394,
   "metadata": {},
   "outputs": [
    {
     "data": {
      "text/plain": [
       "0.8953964221616648"
      ]
     },
     "execution_count": 394,
     "metadata": {},
     "output_type": "execute_result"
    }
   ],
   "source": [
    "modelo.score(X_test, y_test)"
   ]
  },
  {
   "cell_type": "markdown",
   "metadata": {},
   "source": [
    "**R^2** efetivamente é uma métrica que compara as previsões do nosso modelo com a média do **target** que estamos tentando prever.\n",
    "\n",
    "Seus valores podem variar de infinidade negativa até 1.\n",
    "\n",
    "A seguir temos uma outra forma de calcular **R^2**.\n",
    "\n",
    "Teremos que criar um array do tamanho de **y_test** preenchido completamente com a **média de y_test**."
   ]
  },
  {
   "cell_type": "code",
   "execution_count": 395,
   "metadata": {},
   "outputs": [
    {
     "data": {
      "text/plain": [
       "array([22.10098039, 22.10098039, 22.10098039, 22.10098039, 22.10098039,\n",
       "       22.10098039, 22.10098039, 22.10098039, 22.10098039, 22.10098039])"
      ]
     },
     "execution_count": 395,
     "metadata": {},
     "output_type": "execute_result"
    }
   ],
   "source": [
    "from sklearn.metrics import r2_score\n",
    "\n",
    "y_test_mean = np.full(len(y_test), y_test.mean())\n",
    "y_test_mean[:10]"
   ]
  },
  {
   "cell_type": "markdown",
   "metadata": {},
   "source": [
    "Se o nosso modelo, por exemplo prever a média do target, seu **R^2** será **0**."
   ]
  },
  {
   "cell_type": "code",
   "execution_count": 396,
   "metadata": {},
   "outputs": [
    {
     "data": {
      "text/plain": [
       "0.0"
      ]
     },
     "execution_count": 396,
     "metadata": {},
     "output_type": "execute_result"
    }
   ],
   "source": [
    "r2_score(y_test, y_test_mean)"
   ]
  },
  {
   "cell_type": "markdown",
   "metadata": {},
   "source": [
    "Se o nosso modelo prever perfeitamente um intervalo de números, seu **R^2** será 1."
   ]
  },
  {
   "cell_type": "code",
   "execution_count": 397,
   "metadata": {},
   "outputs": [
    {
     "data": {
      "text/plain": [
       "1.0"
      ]
     },
     "execution_count": 397,
     "metadata": {},
     "output_type": "execute_result"
    }
   ],
   "source": [
    "r2_score(y_test, y_test)"
   ]
  },
  {
   "cell_type": "markdown",
   "metadata": {},
   "source": [
    "Agora vamos ver a métrica **Mean Absolute Error (MAE)**."
   ]
  },
  {
   "cell_type": "code",
   "execution_count": 398,
   "metadata": {},
   "outputs": [
    {
     "data": {
      "text/plain": [
       "2.098147058823528"
      ]
     },
     "execution_count": 398,
     "metadata": {},
     "output_type": "execute_result"
    }
   ],
   "source": [
    "from sklearn.metrics import mean_absolute_error\n",
    "\n",
    "y_preds = modelo.predict(X_test)\n",
    "mae = mean_absolute_error(y_test, y_preds)\n",
    "mae"
   ]
  },
  {
   "cell_type": "markdown",
   "metadata": {},
   "source": [
    "**MAE** é a média das diferenças absolutas entre as previsões e os valores verdadeiros, nos fornece uma ideia de quão errada as previsões de nosso modelo está."
   ]
  },
  {
   "cell_type": "code",
   "execution_count": 399,
   "metadata": {},
   "outputs": [
    {
     "data": {
      "text/html": [
       "<div>\n",
       "<style scoped>\n",
       "    .dataframe tbody tr th:only-of-type {\n",
       "        vertical-align: middle;\n",
       "    }\n",
       "\n",
       "    .dataframe tbody tr th {\n",
       "        vertical-align: top;\n",
       "    }\n",
       "\n",
       "    .dataframe thead th {\n",
       "        text-align: right;\n",
       "    }\n",
       "</style>\n",
       "<table border=\"1\" class=\"dataframe\">\n",
       "  <thead>\n",
       "    <tr style=\"text-align: right;\">\n",
       "      <th></th>\n",
       "      <th>valores verdadeiros</th>\n",
       "      <th>valores previstos</th>\n",
       "      <th>diferenças</th>\n",
       "    </tr>\n",
       "  </thead>\n",
       "  <tbody>\n",
       "    <tr>\n",
       "      <th>313</th>\n",
       "      <td>21.6</td>\n",
       "      <td>21.483</td>\n",
       "      <td>-0.117</td>\n",
       "    </tr>\n",
       "    <tr>\n",
       "      <th>303</th>\n",
       "      <td>33.1</td>\n",
       "      <td>33.239</td>\n",
       "      <td>0.139</td>\n",
       "    </tr>\n",
       "    <tr>\n",
       "      <th>217</th>\n",
       "      <td>28.7</td>\n",
       "      <td>23.959</td>\n",
       "      <td>-4.741</td>\n",
       "    </tr>\n",
       "    <tr>\n",
       "      <th>423</th>\n",
       "      <td>13.4</td>\n",
       "      <td>13.089</td>\n",
       "      <td>-0.311</td>\n",
       "    </tr>\n",
       "    <tr>\n",
       "      <th>240</th>\n",
       "      <td>22.0</td>\n",
       "      <td>27.173</td>\n",
       "      <td>5.173</td>\n",
       "    </tr>\n",
       "    <tr>\n",
       "      <th>35</th>\n",
       "      <td>18.9</td>\n",
       "      <td>20.453</td>\n",
       "      <td>1.553</td>\n",
       "    </tr>\n",
       "    <tr>\n",
       "      <th>68</th>\n",
       "      <td>17.4</td>\n",
       "      <td>19.839</td>\n",
       "      <td>2.439</td>\n",
       "    </tr>\n",
       "    <tr>\n",
       "      <th>468</th>\n",
       "      <td>19.1</td>\n",
       "      <td>14.584</td>\n",
       "      <td>-4.516</td>\n",
       "    </tr>\n",
       "    <tr>\n",
       "      <th>332</th>\n",
       "      <td>19.4</td>\n",
       "      <td>21.037</td>\n",
       "      <td>1.637</td>\n",
       "    </tr>\n",
       "    <tr>\n",
       "      <th>82</th>\n",
       "      <td>24.8</td>\n",
       "      <td>23.118</td>\n",
       "      <td>-1.682</td>\n",
       "    </tr>\n",
       "    <tr>\n",
       "      <th>356</th>\n",
       "      <td>17.8</td>\n",
       "      <td>15.089</td>\n",
       "      <td>-2.711</td>\n",
       "    </tr>\n",
       "    <tr>\n",
       "      <th>469</th>\n",
       "      <td>20.1</td>\n",
       "      <td>17.507</td>\n",
       "      <td>-2.593</td>\n",
       "    </tr>\n",
       "  </tbody>\n",
       "</table>\n",
       "</div>"
      ],
      "text/plain": [
       "     valores verdadeiros  valores previstos  diferenças\n",
       "313                 21.6             21.483      -0.117\n",
       "303                 33.1             33.239       0.139\n",
       "217                 28.7             23.959      -4.741\n",
       "423                 13.4             13.089      -0.311\n",
       "240                 22.0             27.173       5.173\n",
       "35                  18.9             20.453       1.553\n",
       "68                  17.4             19.839       2.439\n",
       "468                 19.1             14.584      -4.516\n",
       "332                 19.4             21.037       1.637\n",
       "82                  24.8             23.118      -1.682\n",
       "356                 17.8             15.089      -2.711\n",
       "469                 20.1             17.507      -2.593"
      ]
     },
     "execution_count": 399,
     "metadata": {},
     "output_type": "execute_result"
    }
   ],
   "source": [
    "df = pd.DataFrame(data={'valores verdadeiros': y_test, \"valores previstos\": y_preds})\n",
    "df['diferenças'] = df['valores previstos'] - df['valores verdadeiros']\n",
    "df.head(12)"
   ]
  },
  {
   "cell_type": "markdown",
   "metadata": {},
   "source": [
    "Agora veremos o **Mean Squared Error (MSE)**."
   ]
  },
  {
   "cell_type": "code",
   "execution_count": 400,
   "metadata": {},
   "outputs": [
    {
     "data": {
      "text/plain": [
       "9.143367872549003"
      ]
     },
     "execution_count": 400,
     "metadata": {},
     "output_type": "execute_result"
    }
   ],
   "source": [
    "from sklearn.metrics import mean_squared_error\n",
    "\n",
    "y_preds = modelo.predict(X_test)\n",
    "mse = mean_squared_error(y_test, y_preds)\n",
    "mse"
   ]
  },
  {
   "cell_type": "markdown",
   "metadata": {},
   "source": [
    "Para entendermos melhor, vamos realizar o MSE por etapas."
   ]
  },
  {
   "cell_type": "code",
   "execution_count": 401,
   "metadata": {},
   "outputs": [
    {
     "data": {
      "text/plain": [
       "9.143367872549003"
      ]
     },
     "execution_count": 401,
     "metadata": {},
     "output_type": "execute_result"
    }
   ],
   "source": [
    "squared = np.square(df['diferenças'])\n",
    "squared.mean()"
   ]
  },
  {
   "cell_type": "markdown",
   "metadata": {},
   "source": [
    "Em resumo temos que:\n",
    "\n",
    "- **R^2** é similar à accuracy. Ele nos fornece uma indicação rápida de quão bem nosso modelo está se saindo. Geralmente, quanto mais próximo R^2 está de 1.0, melhor é o modelo. Porém ele realmente não nos indica exatamente quão errado o modelo está em termos de quão distante estão as previsões.\n",
    "\n",
    "- **MAE** nos oferece uma indicação melhor de quão distante cada uma das previsões do modelo está em média.\n",
    "\n",
    "- Em relação a **MAE** e **MSE**, pelo fato de MSE ser calculado elevando ao quadrado as diferenças entre os valores previstos e os valores verdadeiros, ela amplifica diferenças maiores.\n",
    "\n",
    "Devemos então minimizar MAE e MSE e maximizar R^2.\n",
    "\n",
    "Finalmente vamos usar o parâmetro **scoring**."
   ]
  },
  {
   "cell_type": "code",
   "execution_count": 402,
   "metadata": {},
   "outputs": [
    {
     "data": {
      "text/plain": [
       "array([0.85245902, 0.8852459 , 0.80327869, 0.78333333, 0.76666667])"
      ]
     },
     "execution_count": 402,
     "metadata": {},
     "output_type": "execute_result"
    }
   ],
   "source": [
    "from sklearn.model_selection import cross_val_score \n",
    "from sklearn.ensemble import RandomForestClassifier\n",
    "\n",
    "X = heart_disease.drop('target',axis=1)\n",
    "y = heart_disease['target']\n",
    "\n",
    "clf = RandomForestClassifier()\n",
    "cv_acc = cross_val_score(clf, X, y, cv=5)\n",
    "cv_acc"
   ]
  },
  {
   "cell_type": "markdown",
   "metadata": {},
   "source": [
    "Vejamos a **Cross-Validated Accuracy**:"
   ]
  },
  {
   "cell_type": "code",
   "execution_count": 477,
   "metadata": {},
   "outputs": [
    {
     "name": "stdout",
     "output_type": "stream",
     "text": [
      "O cross-validated accuracy é: 81.82%\n"
     ]
    }
   ],
   "source": [
    "print(f'O cross-validated accuracy é: {np.mean(cv_acc)*100:.2f}%')"
   ]
  },
  {
   "cell_type": "markdown",
   "metadata": {},
   "source": [
    "Podemos também mudar o **scoring** padrão se desejarmos.\n",
    "\n",
    "Vamos então alterar o padrão para **precision**."
   ]
  },
  {
   "cell_type": "code",
   "execution_count": 478,
   "metadata": {},
   "outputs": [
    {
     "data": {
      "text/plain": [
       "0.8167134581105169"
      ]
     },
     "execution_count": 478,
     "metadata": {},
     "output_type": "execute_result"
    }
   ],
   "source": [
    "cv_precision = cross_val_score(clf, X, y, cv=5, scoring='precision')\n",
    "np.mean(cv_precision)"
   ]
  },
  {
   "cell_type": "markdown",
   "metadata": {},
   "source": [
    "Podemos também usar **recall**."
   ]
  },
  {
   "cell_type": "code",
   "execution_count": 479,
   "metadata": {},
   "outputs": [
    {
     "data": {
      "text/plain": [
       "0.8787878787878787"
      ]
     },
     "execution_count": 479,
     "metadata": {},
     "output_type": "execute_result"
    }
   ],
   "source": [
    "cv_recall = cross_val_score(clf, X, y, cv=5, scoring='recall')\n",
    "np.mean(cv_recall)"
   ]
  },
  {
   "cell_type": "markdown",
   "metadata": {},
   "source": [
    "Até mesmo **F1 score**."
   ]
  },
  {
   "cell_type": "code",
   "execution_count": 480,
   "metadata": {},
   "outputs": [
    {
     "data": {
      "text/plain": [
       "0.8442549396511205"
      ]
     },
     "execution_count": 480,
     "metadata": {},
     "output_type": "execute_result"
    }
   ],
   "source": [
    "cv_f1 = cross_val_score(clf, X, y, cv=5, scoring='f1')\n",
    "np.mean(cv_f1)"
   ]
  },
  {
   "cell_type": "markdown",
   "metadata": {},
   "source": [
    "E se estivermos trabalhando com um modelo de **Regressão**?"
   ]
  },
  {
   "cell_type": "code",
   "execution_count": 481,
   "metadata": {},
   "outputs": [],
   "source": [
    "from sklearn.model_selection import cross_val_score \n",
    "from sklearn.ensemble import RandomForestRegressor\n",
    "\n",
    "X = boston_df.drop('target',axis=1)\n",
    "y = boston_df['target']\n",
    "\n",
    "regressor = RandomForestRegressor()"
   ]
  },
  {
   "cell_type": "markdown",
   "metadata": {},
   "source": [
    "Lembrando que a métrica padrão para este modelo é **R^2**."
   ]
  },
  {
   "cell_type": "code",
   "execution_count": 482,
   "metadata": {},
   "outputs": [
    {
     "data": {
      "text/plain": [
       "array([0.76942352, 0.84888297, 0.76113935, 0.46930145, 0.27413303])"
      ]
     },
     "execution_count": 482,
     "metadata": {},
     "output_type": "execute_result"
    }
   ],
   "source": [
    "cv_r2 = cross_val_score(regressor, X, y, cv=5, scoring=None)\n",
    "cv_r2"
   ]
  },
  {
   "cell_type": "markdown",
   "metadata": {},
   "source": [
    "Da mesma forma, podemos especificar **R^2** explicitamente."
   ]
  },
  {
   "cell_type": "code",
   "execution_count": 483,
   "metadata": {},
   "outputs": [
    {
     "data": {
      "text/plain": [
       "array([0.76566433, 0.85503373, 0.74609425, 0.46079437, 0.28723162])"
      ]
     },
     "execution_count": 483,
     "metadata": {},
     "output_type": "execute_result"
    }
   ],
   "source": [
    "cv_r2 = cross_val_score(regressor, X, y, cv=5, scoring='r2')\n",
    "cv_r2"
   ]
  },
  {
   "cell_type": "markdown",
   "metadata": {},
   "source": [
    "Podemos também usar a métrica **MAE**, que vimos anteriormente."
   ]
  },
  {
   "cell_type": "code",
   "execution_count": 484,
   "metadata": {},
   "outputs": [
    {
     "data": {
      "text/plain": [
       "array([-2.13095098, -2.63577228, -3.39874257, -3.81921782, -3.06323762])"
      ]
     },
     "execution_count": 484,
     "metadata": {},
     "output_type": "execute_result"
    }
   ],
   "source": [
    "cv_mae = cross_val_score(regressor, X, y, cv=5, scoring='neg_mean_absolute_error')\n",
    "cv_mae"
   ]
  },
  {
   "cell_type": "markdown",
   "metadata": {},
   "source": [
    "E por fim, podemos usar a métrica **MSE**."
   ]
  },
  {
   "cell_type": "code",
   "execution_count": 485,
   "metadata": {},
   "outputs": [
    {
     "data": {
      "text/plain": [
       "array([ -7.86635513, -13.81861059, -21.74322096, -47.23404905,\n",
       "       -19.62399021])"
      ]
     },
     "execution_count": 485,
     "metadata": {},
     "output_type": "execute_result"
    }
   ],
   "source": [
    "cv_mse = cross_val_score(regressor, X, y, cv=5, scoring='neg_mean_squared_error')\n",
    "cv_mse"
   ]
  },
  {
   "cell_type": "markdown",
   "metadata": {},
   "source": [
    "Finalmente vamos fazer uma revisão usando diferentes métricas de avaliação como funções Scikit-Learn.\n",
    "\n",
    "Começaremos avaliando um modelo de classificação.\n",
    "\n",
    "Novamente usaremos o exemplo de doença do coração."
   ]
  },
  {
   "cell_type": "code",
   "execution_count": 486,
   "metadata": {},
   "outputs": [],
   "source": [
    "from sklearn.metrics import accuracy_score, precision_score, recall_score, f1_score\n",
    "from sklearn.ensemble import RandomForestClassifier\n",
    "from sklearn.model_selection import train_test_split\n",
    "\n",
    "X = heart_disease.drop('target',axis=1)\n",
    "y = heart_disease['target']\n",
    "\n",
    "X_train, X_test, y_train, y_test = train_test_split(X, y, test_size=0.2)\n",
    "\n",
    "clf = RandomForestClassifier().fit(X_train, y_train);\n",
    "\n",
    "y_preds = clf.predict(X_test)"
   ]
  },
  {
   "cell_type": "markdown",
   "metadata": {},
   "source": [
    "Agora que temos o modelo e as previsões, vamos avaliar este modelo."
   ]
  },
  {
   "cell_type": "code",
   "execution_count": 487,
   "metadata": {},
   "outputs": [
    {
     "name": "stdout",
     "output_type": "stream",
     "text": [
      "Métricas de Classificação no conjunto de testes\n",
      "Accuracy: 75.41%\n",
      "Precision: 0.7428571428571429\n",
      "Recall: 0.8125\n",
      "F1: 0.7761194029850748\n"
     ]
    }
   ],
   "source": [
    "print('Métricas de Classificação no conjunto de testes')\n",
    "print(f'Accuracy: {accuracy_score(y_test, y_preds)*100:.2f}%')\n",
    "print(f'Precision: {precision_score(y_test, y_preds)}')\n",
    "print(f'Recall: {recall_score(y_test, y_preds)}')\n",
    "print(f'F1: {f1_score(y_test, y_preds)}')"
   ]
  },
  {
   "cell_type": "markdown",
   "metadata": {},
   "source": [
    "E agora revisaremos as funções de avaliação para Modelos de Regressão.\n",
    "\n",
    "Novamente usaremos o exemplo das casas de Boston, treinando e executando previsões"
   ]
  },
  {
   "cell_type": "code",
   "execution_count": 488,
   "metadata": {},
   "outputs": [],
   "source": [
    "from sklearn.metrics import r2_score, mean_absolute_error, mean_squared_error\n",
    "from sklearn.ensemble import RandomForestRegressor\n",
    "from sklearn.model_selection import train_test_split\n",
    "\n",
    "X = boston_df.drop('target',axis=1)\n",
    "y = boston_df['target']\n",
    "\n",
    "X_train, X_test, y_train, y_test = train_test_split(X,y,test_size=0.2)\n",
    "\n",
    "rf = RandomForestRegressor(n_estimators=150).fit(X_train,y_train)\n",
    "y_preds = rf.predict(X_test)"
   ]
  },
  {
   "cell_type": "markdown",
   "metadata": {},
   "source": [
    "E então avaliamos o modelo com as diferentes métricas."
   ]
  },
  {
   "cell_type": "code",
   "execution_count": 489,
   "metadata": {},
   "outputs": [
    {
     "name": "stdout",
     "output_type": "stream",
     "text": [
      "Métricas do Modelo de Regressão no conjunto de teste\n",
      "R^2: 0.8700252942088691\n",
      "MAE: 2.306568627450979\n",
      "MSE: 11.61324845751635\n"
     ]
    }
   ],
   "source": [
    "print('Métricas do Modelo de Regressão no conjunto de teste')\n",
    "print(f'R^2: {r2_score(y_test, y_preds)}')\n",
    "print(f'MAE: {mean_absolute_error(y_test, y_preds)}')\n",
    "print(f'MSE: {mean_squared_error(y_test, y_preds)}')"
   ]
  },
  {
   "cell_type": "markdown",
   "metadata": {},
   "source": [
    "Agora podemos ir para a pŕoxima etapa de nosso fluxo de trabalho, que é aperfeiçoar os nossos modelos."
   ]
  }
 ],
 "metadata": {
  "kernelspec": {
   "display_name": "Python 3",
   "language": "python",
   "name": "python3"
  },
  "language_info": {
   "codemirror_mode": {
    "name": "ipython",
    "version": 3
   },
   "file_extension": ".py",
   "mimetype": "text/x-python",
   "name": "python",
   "nbconvert_exporter": "python",
   "pygments_lexer": "ipython3",
   "version": "3.7.7"
  }
 },
 "nbformat": 4,
 "nbformat_minor": 4
}
