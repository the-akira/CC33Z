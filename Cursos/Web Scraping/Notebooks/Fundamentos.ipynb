{
 "cells": [
  {
   "cell_type": "markdown",
   "id": "97d9d7b2",
   "metadata": {},
   "source": [
    "# Web Scraping\n",
    "\n",
    "[Web Scraping](https://en.wikipedia.org/wiki/Web_scraping) é o processo de usar programação para extrair conteúdo e dados de um site.\n",
    "\n",
    "Essas informações são coletadas e exportadas para um formato mais útil para o usuário. Seja uma planilha ou uma API.\n",
    "\n",
    "Para aprender Web Scraping, a primeira coisa que você precisa entender são as páginas web. O que suporta todos os tipos de páginas web não é nada além de algum código. Chamamos esse tipo de código de **[HTML](https://www.w3schools.com/html/html_intro.asp)**. Um navegador (Chrome, Safari, IE, Firefox, etc.) é um software que entende a linguagem HTML, o navegador é capaz de converter essa linguagem na página web bonita que vemos.\n",
    "\n",
    "Em HTML, basicamente toda entidade do conteúdo terá uma **tag** para enquadrá-la. O conteúdo marcado pode ser exibido em diferentes formas ou ter diferentes funções. A tag `html` principal é dividida em duas partes, `head` e `body`. No `head`, as meta-informações das páginas são armazenadas, por exemplo, o `title` que representa o título do website, essas informações não serão exibidas na página web que você vê. Na maioria das vezes, essas informações são para o navegador ou para os [search engines](https://en.wikipedia.org/wiki/Search_engine).\n",
    "\n",
    "![img](https://raw.githubusercontent.com/the-akira/PythonExperimentos/master/Imagens/Tutoriais/DOM.png)\n",
    "\n",
    "A segunda grande parte do HTML é o `body`; essa parte são as informações da página da web que você vê. No `body` da página web, vídeos, imagens e texto podem ser armazenados. A tag `<h1></h1>` representa o cabeçalho principal (um título grande). A tag `<p></p>` representa um parágrafo. A tag `<a></a>` serve para representar links que ligam as páginas do site entre si ou nos levam a outros sites externos. \n",
    "\n",
    "Sabendo o básico sobre como uma página web é constituída, podemos usar a biblioteca [BeautifulSoup](https://www.crummy.com/software/BeautifulSoup/bs4/doc/) da linguagem Python para extrair informações de websites.\n",
    "\n",
    "Então, para começar, vamos precisar de HTML. Extraíremos o HTML da página [Ciência da Computação](https://cc33z.netlify.app/) usando a biblioteca Python [Requests](https://docs.python-requests.org/en/master/)."
   ]
  },
  {
   "cell_type": "code",
   "execution_count": 1,
   "id": "12ba352b",
   "metadata": {},
   "outputs": [
    {
     "name": "stdout",
     "output_type": "stream",
     "text": [
      "<!DOCTYPE html>\n",
      "<html>\n",
      "<head>\n",
      "    <meta charset=\"utf-8\">\n",
      "    <title>Ciência da Computação</title>\n",
      "    <meta name=\"viewport\" content=\"width=device-width, initial-scale=1.0\">\n",
      "    <meta name=\"description\" content=\"Website de Ciência da Computação\">\n",
      "    <meta name=\"author\" content=\"Gabriel Felippe\">\n",
      "    <link rel=\"stylesheet\" type=\"text/css\" href=\"styles/style.css\">\n",
      "    <script src=\"https://kit.fontawesome.com/abb211c046.js\"></script>\n",
      "</head>\n",
      "<body>\n",
      "    <div>\n",
      "        <h1 id=\"titulo\">Ciência da Computação</h1>\n",
      "        <img class=\"imagem\" src=\"imagens/CompSci.jpg\">\n",
      "        <p><b>Ciência da computação</b> é o estudo de computadores e computação, incluindo seus fundamentos teóricos e algorítmicos, hardware e software e seus usos para processamento de informações. A disciplina de ciência da computação inclui o estudo de algoritmos e estruturas de dados, design de computadores e redes, modelagem de dados e processos de informação, e inteligência artificial.</p>\n",
      "        <p>A <a href=\"https://cc33z.herokuapp.com/\">ciência da computação</a> extrai alguns de seus fundamentos da matemática e da engenharia e, portanto, incorpora técnicas de áreas como teoria das filas, probabilidade e estatística e design de circuitos eletrônicos. A ciência da computação também faz uso intenso de testes de hipóteses e experimentação durante a conceituação, design, medição e refinamento de novos algoritmos, estruturas de informação e arquiteturas de computador.</p>\n",
      "        <h2 id=\"campos\">Campos da Ciência da Computação</h2>\n",
      "        <blockquote>\"Computer science is no more about computers than astronomy is about telescopes.\" <b>Edsger Dijkstra</b></blockquote>\n",
      "        <ul>\n",
      "            <li>&#8702; Teoria da Computação</li>\n",
      "            <li>&#8702; Estruturas de Dados e Algoritmos</li>\n",
      "            <li>&#8702; Teoria da linguagem de programação e métodos formais</li>\n",
      "            <li>&#8702; Inteligência Artificial</li>\n",
      "            <li>&#8702; Arquitetura e Organização de Computadores</li>\n",
      "            <li>&#8702; Computação simultânea, paralela e distribuída</li>\n",
      "            <li>&#8702; Redes de Computadores</li>\n",
      "            <li>&#8702; Segurança de Computadores e Criptografia</li>\n",
      "            <li>&#8702; Bancos de Dados e Mineração de Dados</li>\n",
      "            <li>&#8702; Computação Gráfica e Visualização</li>\n",
      "            <li>&#8702; Processamento de Imagens e Som</li>\n",
      "            <li>&#8702; Computação social e interação humano-computador</li>\n",
      "            <li>&#8702; Engenharia de Software</li>\n",
      "        </ul>\n",
      "        <h2 id=\"programming\">Programação de Computadores</h2>\n",
      "        <p>A <b>programação de computador</b> é o processo de projetar e construir um programa de computador executável para realizar um resultado de computação específico ou para realizar uma tarefa específica. A programação envolve tarefas como: análise, geração de algoritmos, precisão dos algoritmos e consumo de recursos, e a implementação de algoritmos em uma linguagem de programação escolhida (comumente chamada de codificação). O código-fonte de um programa é escrito em uma ou mais linguagens inteligíveis para os programadores, ao invés do código de máquina, que é executado diretamente pela unidade central de processamento. O objetivo da programação é encontrar uma sequência de instruções que automatizará o desempenho de uma tarefa (que pode ser tão complexa quanto um sistema operacional) em um computador, geralmente para resolver um determinado problema. A programação proficiente, portanto, geralmente requer experiência em vários assuntos diferentes, incluindo conhecimento do domínio do aplicativo, algoritmos especializados e lógica formal.</p>\n",
      "        <h3 id=\"paradigmas\">Paradigmas de Programação</h3>\n",
      "        <p><a href=\"https://www.tiobe.com/tiobe-index/\">Linguagens de programação</a> podem ser usadas para realizar tarefas diferentes de maneiras diferentes. Paradigmas de programação comuns incluem:</p>\n",
      "        <ul>\n",
      "            <li><strong>Programação funcional</strong>: um estilo de construção da estrutura e dos elementos de programas de computador que trata a computação como a avaliação de funções matemáticas e evita o estado e os dados mutáveis. É um paradigma de programação declarativo, o que significa que a programação é feita com expressões ou declarações em vez de instruções.</li>\n",
      "            <li><strong>Programação imperativa</strong>: um paradigma de programação que usa instruções que alteram o estado de um programa. Da mesma forma que o modo imperativo em linguagens naturais expressa comandos, um programa imperativo consiste em comandos para serem executados pelo computador. A programação imperativa se concentra em descrever como um programa opera.</li>\n",
      "            <li><strong>Programação orientada a objetos</strong>: um paradigma de programação baseado no conceito de \"objetos\", que podem conter dados, na forma de campos, muitas vezes conhecidos como atributos; e código, na forma de procedimentos, geralmente conhecidos como métodos. Uma característica dos objetos é que os procedimentos de um objeto podem acessar e frequentemente modificar os campos de dados do objeto ao qual estão associados. Assim, os programas de computador orientados a objetos são feitos de objetos que interagem uns com os outros.</li>\n",
      "            <li><strong>Programação orientada a serviços</strong>: um paradigma de programação que usa \"serviços\" como a unidade de trabalho do computador, para projetar e implementar aplicativos de negócios integrados e programas de software de missão crítica.</li>\n",
      "        </ul>\n",
      "        <h2 id=\"pioneiros\">Pioneiros da Computação</h2>\n",
      "        <table>\n",
      "            <tr>\n",
      "                <th>Nome</th>\n",
      "                <th>País</th>\n",
      "                <th>Email</th>\n",
      "            </tr>\n",
      "            <tr>\n",
      "                <td>Alan Turing</td>\n",
      "                <td>Reino Unido</td>\n",
      "                <td>turing@science.com</td>\n",
      "            </tr>\n",
      "            <tr>\n",
      "                <td>Tim Berners-Lee</td>\n",
      "                <td>Reino Unido</td>\n",
      "                <td>tim@science.com</td>\n",
      "            </tr>\n",
      "            <tr>\n",
      "                <td>Grace Hopper</td>\n",
      "                <td>Estados Unidos</td>\n",
      "                <td>grace@science.com</td>\n",
      "            </tr>\n",
      "            <tr>\n",
      "                <td>Donald Knuth</td>\n",
      "                <td>Estados Unidos</td>\n",
      "                <td>donald@science.com</td>\n",
      "            </tr>\n",
      "            <tr>\n",
      "                <td>John Von Neumann</td>\n",
      "                <td>Hungria</td>\n",
      "                <td>john@science.com</td>\n",
      "            </tr>\n",
      "            <tr>\n",
      "                <td>Dennis Ritchie</td>\n",
      "                <td>Estados Unidos</td>\n",
      "                <td>dennis@science.com</td>\n",
      "            </tr>\n",
      "            <tr>\n",
      "                <td>Barbara Liskov</td>\n",
      "                <td>Estados Unidos</td>\n",
      "                <td>barbara@science.com</td>\n",
      "            </tr>\n",
      "            <tr>\n",
      "                <td>Ada Lovelace</td>\n",
      "                <td>Reino Unido</td>\n",
      "                <td>ada@science.com</td>\n",
      "            </tr>\n",
      "            <tr>\n",
      "                <td>Charles Babbage</td>\n",
      "                <td>Reino Unido</td>\n",
      "                <td>charles@science.com</td>\n",
      "            </tr>\n",
      "            <tr>\n",
      "                <td>Ken Thompson</td>\n",
      "                <td>Estados Unidos</td>\n",
      "                <td>ken@science.com</td>\n",
      "            </tr>\n",
      "            <tr>\n",
      "                <td>Claude Shannon</td>\n",
      "                <td>Estados Unidos</td>\n",
      "                <td>shannon@science.com</td>\n",
      "            </tr>\n",
      "            <tr>\n",
      "                <td>Edsger W. Dijkstra</td>\n",
      "                <td>Holanda</td>\n",
      "                <td>dijkstra@science.com</td>\n",
      "            </tr>\n",
      "            <tr>\n",
      "                <td>Guido van Rossum</td>\n",
      "                <td>Holanda</td>\n",
      "                <td>guido@science.com</td>\n",
      "            </tr>\n",
      "            <tr>\n",
      "                <td>Geoffrey Hinton</td>\n",
      "                <td>Canadá</td>\n",
      "                <td>hinton@science.com</td>\n",
      "            </tr>\n",
      "            <tr>\n",
      "                <td>Niklaus Wirth</td>\n",
      "                <td>Suíça</td>\n",
      "                <td>wirth@science.com</td>\n",
      "            </tr>\n",
      "            <tr>\n",
      "                <td>Brian Kernighan</td>\n",
      "                <td>Canadá</td>\n",
      "                <td>brian@science.com</td>\n",
      "            </tr>\n",
      "            <tr>\n",
      "                <td>Bjarne Stroustrup</td>\n",
      "                <td>Dinamarca</td>\n",
      "                <td>bjarne@science.com</td>\n",
      "            </tr>\n",
      "            <tr>\n",
      "                <td>Edgar F. Codd</td>\n",
      "                <td>Reino Unido</td>\n",
      "                <td>edgar@science.com</td>\n",
      "            </tr>\n",
      "            <tr>\n",
      "                <td>Adi Shamir</td>\n",
      "                <td>Israel</td>\n",
      "                <td>shamir@science.com</td>\n",
      "            </tr>\n",
      "            <tr>\n",
      "                <td>Roberto Ierusalimschy</td>\n",
      "                <td>Brasil</td>\n",
      "                <td>roberto@science.com</td>\n",
      "            </tr>\n",
      "        </table>\n",
      "        <h2 id=\"cursos\">Cursos de Ciência da Computação</h2>\n",
      "        <ul>\n",
      "            <li>&#8702; <a href=\"https://www.youtube.com/watch?v=SzJ46YA_RaA\">Map of Computer Science</a></li>\n",
      "            <li>&#8702; <a href=\"https://www.youtube.com/playlist?list=PLWKjhJtqVAbn5emQ3RRG8gEBqkhf_5vxD\">Computer Science Concepts</a></li>\n",
      "            <li>&#8702; <a href=\"https://www.youtube.com/playlist?list=PLH2l6uzC4UEW0s7-KewFLBC1D0l6XRfye\">Crash Course: Computer Science</a></li>\n",
      "            <li>&#8702; <a href=\"https://www.youtube.com/playlist?list=PLhQjrBD2T382_R182iC2gNZI9HzWFMC_8\">CS50 Lectures (Harvard University)</a></li>\n",
      "            <li>&#8702; <a href=\"https://www.youtube.com/playlist?list=PLWKjhJtqVAbmfoj2Th9fvxhHIeqFO7wOy\">Computer Science and Software Engineering Theory</a></li>\n",
      "            <li>&#8702; <a href=\"https://www.youtube.com/playlist?list=PLUl4u3cNGP63WbdFxL8giv4yhgdMGaZNA\">Introduction to Computer Science and Programming in Python (MIT)</a></li>\n",
      "        </ul>\n",
      "        <footer>\n",
      "            <h4>Desenvolvido por Gabriel Felippe para o Curso de Web Scraping</h4>\n",
      "            <a href=\"https://github.com/the-akira/CC33Z\" target=\"_blank\"><i class=\"fab fa-github fa-2x\"></i></a>\n",
      "            <a href=\"https://twitter.com/akirascientist\" target=\"_blank\"><i class=\"fab fa-twitter fa-2x\"></i></a>\n",
      "        </footer>\n",
      "    </div>\n",
      "</body>\n",
      "</html>\n"
     ]
    }
   ],
   "source": [
    "import requests\n",
    "\n",
    "resposta = requests.get(\"https://cc33z.netlify.app\")\n",
    "\n",
    "if resposta.status_code != 200:\n",
    "\tprint(\"Erro ao obter a página!\")\n",
    "else:\n",
    "\thtml = resposta.text\n",
    "print(html)"
   ]
  },
  {
   "cell_type": "markdown",
   "id": "2bb36f74",
   "metadata": {},
   "source": [
    "Antes de usarmos a biblioteca **BeautifulSoup**, podemos experimentar algumas [expressões regulares](https://en.wikipedia.org/wiki/Regular_expression) que também são muito úteis para extração de conteúdo.\n",
    "\n",
    "Se quisermos encontrar o **título** desta página, podemos usar o seguinte código:"
   ]
  },
  {
   "cell_type": "code",
   "execution_count": 2,
   "id": "b28fa783",
   "metadata": {},
   "outputs": [
    {
     "name": "stdout",
     "output_type": "stream",
     "text": [
      "O título da página é: Ciência da Computação\n"
     ]
    }
   ],
   "source": [
    "import re\n",
    "\n",
    "título = re.findall(r\"<title>(.+?)</title>\", html)\n",
    "print(f\"O título da página é: {título[0]}\")"
   ]
  },
  {
   "cell_type": "markdown",
   "id": "3a3cb69c",
   "metadata": {},
   "source": [
    "Se você quiser encontrar o conteúdo dos parágrafos `<p>` da página, podemos usamos o método a seguir:"
   ]
  },
  {
   "cell_type": "code",
   "execution_count": 3,
   "id": "247a4756",
   "metadata": {},
   "outputs": [
    {
     "name": "stdout",
     "output_type": "stream",
     "text": [
      "<b>Ciência da computação</b> é o estudo de computadores e computação, incluindo seus fundamentos teóricos e algorítmicos, hardware e software e seus usos para processamento de informações. A disciplina de ciência da computação inclui o estudo de algoritmos e estruturas de dados, design de computadores e redes, modelagem de dados e processos de informação, e inteligência artificial.\n",
      "A <a href=\"https://cc33z.herokuapp.com/\">ciência da computação</a> extrai alguns de seus fundamentos da matemática e da engenharia e, portanto, incorpora técnicas de áreas como teoria das filas, probabilidade e estatística e design de circuitos eletrônicos. A ciência da computação também faz uso intenso de testes de hipóteses e experimentação durante a conceituação, design, medição e refinamento de novos algoritmos, estruturas de informação e arquiteturas de computador.\n",
      "A <b>programação de computador</b> é o processo de projetar e construir um programa de computador executável para realizar um resultado de computação específico ou para realizar uma tarefa específica. A programação envolve tarefas como: análise, geração de algoritmos, precisão dos algoritmos e consumo de recursos, e a implementação de algoritmos em uma linguagem de programação escolhida (comumente chamada de codificação). O código-fonte de um programa é escrito em uma ou mais linguagens inteligíveis para os programadores, ao invés do código de máquina, que é executado diretamente pela unidade central de processamento. O objetivo da programação é encontrar uma sequência de instruções que automatizará o desempenho de uma tarefa (que pode ser tão complexa quanto um sistema operacional) em um computador, geralmente para resolver um determinado problema. A programação proficiente, portanto, geralmente requer experiência em vários assuntos diferentes, incluindo conhecimento do domínio do aplicativo, algoritmos especializados e lógica formal.\n",
      "<a href=\"https://www.tiobe.com/tiobe-index/\">Linguagens de programação</a> podem ser usadas para realizar tarefas diferentes de maneiras diferentes. Paradigmas de programação comuns incluem:\n"
     ]
    }
   ],
   "source": [
    "parágrafos = re.findall(r\"<p>(.*?)</p>\", html)    \n",
    "\n",
    "for parágrafo in parágrafos:\n",
    "    print(parágrafo)"
   ]
  },
  {
   "cell_type": "markdown",
   "id": "4a5a809a",
   "metadata": {},
   "source": [
    "Também podemos encontrar todos os links. Isso é mais útil. Às vezes, você deseja encontrar os links na página web e, em seguida, baixar algum conteúdo para o seu computador.\n",
    "\n",
    "Para extrair todos os links, podemos usar o seguinte código:"
   ]
  },
  {
   "cell_type": "code",
   "execution_count": 4,
   "id": "01d64a07",
   "metadata": {},
   "outputs": [
    {
     "name": "stdout",
     "output_type": "stream",
     "text": [
      "styles/style.css\n",
      "https://cc33z.herokuapp.com/\n",
      "https://www.tiobe.com/tiobe-index/\n",
      "https://www.youtube.com/watch?v=SzJ46YA_RaA\n",
      "https://www.youtube.com/playlist?list=PLWKjhJtqVAbn5emQ3RRG8gEBqkhf_5vxD\n",
      "https://www.youtube.com/playlist?list=PLH2l6uzC4UEW0s7-KewFLBC1D0l6XRfye\n",
      "https://www.youtube.com/playlist?list=PLhQjrBD2T382_R182iC2gNZI9HzWFMC_8\n",
      "https://www.youtube.com/playlist?list=PLWKjhJtqVAbmfoj2Th9fvxhHIeqFO7wOy\n",
      "https://www.youtube.com/playlist?list=PLUl4u3cNGP63WbdFxL8giv4yhgdMGaZNA\n",
      "https://github.com/the-akira/CC33Z\n",
      "https://twitter.com/akirascientist\n"
     ]
    }
   ],
   "source": [
    "links = re.findall(r'href=\"(.*?)\"', html)\n",
    "\n",
    "for link in links:\n",
    "    print(link)"
   ]
  },
  {
   "cell_type": "markdown",
   "id": "5087d4bc",
   "metadata": {},
   "source": [
    "Como último exercício antes de trabalharmos com **BeautifulSoup**, vamos extrair todos os emails da página web.\n",
    "\n",
    "Para isso, podemos usar o código a seguir:"
   ]
  },
  {
   "cell_type": "code",
   "execution_count": 5,
   "id": "38219b22",
   "metadata": {},
   "outputs": [
    {
     "name": "stdout",
     "output_type": "stream",
     "text": [
      "turing@science.com\n",
      "tim@science.com\n",
      "grace@science.com\n",
      "donald@science.com\n",
      "john@science.com\n",
      "dennis@science.com\n",
      "barbara@science.com\n",
      "ada@science.com\n",
      "charles@science.com\n",
      "ken@science.com\n",
      "shannon@science.com\n",
      "dijkstra@science.com\n",
      "guido@science.com\n",
      "hinton@science.com\n",
      "wirth@science.com\n",
      "brian@science.com\n",
      "bjarne@science.com\n",
      "edgar@science.com\n",
      "shamir@science.com\n",
      "roberto@science.com\n"
     ]
    }
   ],
   "source": [
    "emails = re.findall(r'([\\d\\w\\.]+@[\\d\\w\\.\\-]+\\.\\w+)', html)\n",
    "\n",
    "for email in emails:\n",
    "    print(email)"
   ]
  },
  {
   "cell_type": "markdown",
   "id": "eddb3bac",
   "metadata": {},
   "source": [
    "Vamos agora trabalhar com **BeautifulSoup**. Já temos o HTML acessível, usaremos o **BeautifulSoup** para analisá-lo. \n",
    "\n",
    "Se ainda não o fez, você pode instalar este pacote executando:`pip install beautifullsoup4`. \n",
    "\n",
    "No restante deste notebook, iremos nos referir a **BeautifulSoup4** como **BS4**.\n",
    "\n",
    "Agora precisamos analisar o HTML e carregá-lo em uma estrutura **BS4**."
   ]
  },
  {
   "cell_type": "code",
   "execution_count": 6,
   "id": "b1ab4c32",
   "metadata": {},
   "outputs": [],
   "source": [
    "from bs4 import BeautifulSoup\n",
    "\n",
    "soup = BeautifulSoup(html, 'html.parser')"
   ]
  },
  {
   "cell_type": "markdown",
   "id": "d849fb65",
   "metadata": {},
   "source": [
    "Este objeto **soup** é muito útil e nos permite acessar facilmente muitas informações úteis, como:\n",
    "\n",
    "O título HTML da página:"
   ]
  },
  {
   "cell_type": "code",
   "execution_count": 7,
   "id": "be11d597",
   "metadata": {},
   "outputs": [
    {
     "name": "stdout",
     "output_type": "stream",
     "text": [
      "<title>Ciência da Computação</title>\n"
     ]
    }
   ],
   "source": [
    "print(soup.title)"
   ]
  },
  {
   "cell_type": "markdown",
   "id": "1f46432f",
   "metadata": {},
   "source": [
    "Apenas o texto do título da página:"
   ]
  },
  {
   "cell_type": "code",
   "execution_count": 8,
   "id": "2f0f76f9",
   "metadata": {},
   "outputs": [
    {
     "name": "stdout",
     "output_type": "stream",
     "text": [
      "Ciência da Computação\n"
     ]
    }
   ],
   "source": [
    "print(soup.title.string)"
   ]
  },
  {
   "cell_type": "markdown",
   "id": "480535be",
   "metadata": {},
   "source": [
    "Todos os links da página:"
   ]
  },
  {
   "cell_type": "code",
   "execution_count": 9,
   "id": "99fc2b42",
   "metadata": {},
   "outputs": [
    {
     "name": "stdout",
     "output_type": "stream",
     "text": [
      "Existem 10 links nessa página\n"
     ]
    }
   ],
   "source": [
    "links = soup.find_all('a')\n",
    "print(f\"Existem {len(links)} links nessa página\")"
   ]
  },
  {
   "cell_type": "code",
   "execution_count": 10,
   "id": "41ae0989",
   "metadata": {},
   "outputs": [
    {
     "name": "stdout",
     "output_type": "stream",
     "text": [
      "https://cc33z.herokuapp.com/\n",
      "https://www.tiobe.com/tiobe-index/\n",
      "https://www.youtube.com/watch?v=SzJ46YA_RaA\n",
      "https://www.youtube.com/playlist?list=PLWKjhJtqVAbn5emQ3RRG8gEBqkhf_5vxD\n",
      "https://www.youtube.com/playlist?list=PLH2l6uzC4UEW0s7-KewFLBC1D0l6XRfye\n",
      "https://www.youtube.com/playlist?list=PLhQjrBD2T382_R182iC2gNZI9HzWFMC_8\n",
      "https://www.youtube.com/playlist?list=PLWKjhJtqVAbmfoj2Th9fvxhHIeqFO7wOy\n",
      "https://www.youtube.com/playlist?list=PLUl4u3cNGP63WbdFxL8giv4yhgdMGaZNA\n",
      "https://github.com/the-akira/CC33Z\n",
      "https://twitter.com/akirascientist\n"
     ]
    }
   ],
   "source": [
    "for link in links:\n",
    "    print(link['href'])"
   ]
  },
  {
   "cell_type": "markdown",
   "id": "b9f6d0d5",
   "metadata": {},
   "source": [
    "Apenas os conteúdo textual da página:"
   ]
  },
  {
   "cell_type": "code",
   "execution_count": 31,
   "id": "1f850723",
   "metadata": {},
   "outputs": [
    {
     "name": "stdout",
     "output_type": "stream",
     "text": [
      "Ciência da Computação\n",
      "\n",
      "Ciência da computação é o estudo de computadores e computação, incluindo seus fundamentos teóricos e algorítmicos, hardware e software e seus usos para processamento de informações. A disciplina de ciência da computação inclui o estudo de algoritmos e estruturas de dados, design de computadores e redes, modelagem de dados e processos de informação, e inteligência artificial.\n"
     ]
    }
   ],
   "source": [
    "print(soup.get_text().strip()[30:430])"
   ]
  },
  {
   "cell_type": "markdown",
   "id": "55426394",
   "metadata": {},
   "source": [
    "Podemos selecionar exclusivamente as linhas da tabela do website:"
   ]
  },
  {
   "cell_type": "code",
   "execution_count": 12,
   "id": "c49f7b5e",
   "metadata": {},
   "outputs": [
    {
     "name": "stdout",
     "output_type": "stream",
     "text": [
      "<tr>\n",
      "<th>Nome</th>\n",
      "<th>País</th>\n",
      "<th>Email</th>\n",
      "</tr>\n",
      "<tr>\n",
      "<td>Alan Turing</td>\n",
      "<td>Reino Unido</td>\n",
      "<td>turing@science.com</td>\n",
      "</tr>\n",
      "<tr>\n",
      "<td>Tim Berners-Lee</td>\n",
      "<td>Reino Unido</td>\n",
      "<td>tim@science.com</td>\n",
      "</tr>\n",
      "<tr>\n",
      "<td>Grace Hopper</td>\n",
      "<td>Estados Unidos</td>\n",
      "<td>grace@science.com</td>\n",
      "</tr>\n",
      "<tr>\n",
      "<td>Donald Knuth</td>\n",
      "<td>Estados Unidos</td>\n",
      "<td>donald@science.com</td>\n",
      "</tr>\n",
      "<tr>\n",
      "<td>John Von Neumann</td>\n",
      "<td>Hungria</td>\n",
      "<td>john@science.com</td>\n",
      "</tr>\n",
      "<tr>\n",
      "<td>Dennis Ritchie</td>\n",
      "<td>Estados Unidos</td>\n",
      "<td>dennis@science.com</td>\n",
      "</tr>\n",
      "<tr>\n",
      "<td>Barbara Liskov</td>\n",
      "<td>Estados Unidos</td>\n",
      "<td>barbara@science.com</td>\n",
      "</tr>\n",
      "<tr>\n",
      "<td>Ada Lovelace</td>\n",
      "<td>Reino Unido</td>\n",
      "<td>ada@science.com</td>\n",
      "</tr>\n",
      "<tr>\n",
      "<td>Charles Babbage</td>\n",
      "<td>Reino Unido</td>\n",
      "<td>charles@science.com</td>\n",
      "</tr>\n",
      "<tr>\n",
      "<td>Ken Thompson</td>\n",
      "<td>Estados Unidos</td>\n",
      "<td>ken@science.com</td>\n",
      "</tr>\n",
      "<tr>\n",
      "<td>Claude Shannon</td>\n",
      "<td>Estados Unidos</td>\n",
      "<td>shannon@science.com</td>\n",
      "</tr>\n",
      "<tr>\n",
      "<td>Edsger W. Dijkstra</td>\n",
      "<td>Holanda</td>\n",
      "<td>dijkstra@science.com</td>\n",
      "</tr>\n",
      "<tr>\n",
      "<td>Guido van Rossum</td>\n",
      "<td>Holanda</td>\n",
      "<td>guido@science.com</td>\n",
      "</tr>\n",
      "<tr>\n",
      "<td>Geoffrey Hinton</td>\n",
      "<td>Canadá</td>\n",
      "<td>hinton@science.com</td>\n",
      "</tr>\n",
      "<tr>\n",
      "<td>Niklaus Wirth</td>\n",
      "<td>Suíça</td>\n",
      "<td>wirth@science.com</td>\n",
      "</tr>\n",
      "<tr>\n",
      "<td>Brian Kernighan</td>\n",
      "<td>Canadá</td>\n",
      "<td>brian@science.com</td>\n",
      "</tr>\n",
      "<tr>\n",
      "<td>Bjarne Stroustrup</td>\n",
      "<td>Dinamarca</td>\n",
      "<td>bjarne@science.com</td>\n",
      "</tr>\n",
      "<tr>\n",
      "<td>Edgar F. Codd</td>\n",
      "<td>Reino Unido</td>\n",
      "<td>edgar@science.com</td>\n",
      "</tr>\n",
      "<tr>\n",
      "<td>Adi Shamir</td>\n",
      "<td>Israel</td>\n",
      "<td>shamir@science.com</td>\n",
      "</tr>\n",
      "<tr>\n",
      "<td>Roberto Ierusalimschy</td>\n",
      "<td>Brasil</td>\n",
      "<td>roberto@science.com</td>\n",
      "</tr>\n"
     ]
    }
   ],
   "source": [
    "linhas_tabela = soup.find_all('tr')\n",
    "\n",
    "for linha in linhas_tabela:\n",
    "    print(linha)"
   ]
  },
  {
   "cell_type": "markdown",
   "id": "a87726ba",
   "metadata": {},
   "source": [
    "E apenas os itens das listas:"
   ]
  },
  {
   "cell_type": "code",
   "execution_count": 13,
   "id": "1fe03c3f",
   "metadata": {},
   "outputs": [
    {
     "name": "stdout",
     "output_type": "stream",
     "text": [
      "<li>⇾ Teoria da Computação</li>\n",
      "<li>⇾ Estruturas de Dados e Algoritmos</li>\n",
      "<li>⇾ Teoria da linguagem de programação e métodos formais</li>\n",
      "<li>⇾ Inteligência Artificial</li>\n",
      "<li>⇾ Arquitetura e Organização de Computadores</li>\n",
      "<li>⇾ Computação simultânea, paralela e distribuída</li>\n",
      "<li>⇾ Redes de Computadores</li>\n",
      "<li>⇾ Segurança de Computadores e Criptografia</li>\n",
      "<li>⇾ Bancos de Dados e Mineração de Dados</li>\n",
      "<li>⇾ Computação Gráfica e Visualização</li>\n",
      "<li>⇾ Processamento de Imagens e Som</li>\n",
      "<li>⇾ Computação social e interação humano-computador</li>\n",
      "<li>⇾ Engenharia de Software</li>\n",
      "<li><strong>Programação funcional</strong>: um estilo de construção da estrutura e dos elementos de programas de computador que trata a computação como a avaliação de funções matemáticas e evita o estado e os dados mutáveis. É um paradigma de programação declarativo, o que significa que a programação é feita com expressões ou declarações em vez de instruções.</li>\n",
      "<li><strong>Programação imperativa</strong>: um paradigma de programação que usa instruções que alteram o estado de um programa. Da mesma forma que o modo imperativo em linguagens naturais expressa comandos, um programa imperativo consiste em comandos para serem executados pelo computador. A programação imperativa se concentra em descrever como um programa opera.</li>\n",
      "<li><strong>Programação orientada a objetos</strong>: um paradigma de programação baseado no conceito de \"objetos\", que podem conter dados, na forma de campos, muitas vezes conhecidos como atributos; e código, na forma de procedimentos, geralmente conhecidos como métodos. Uma característica dos objetos é que os procedimentos de um objeto podem acessar e frequentemente modificar os campos de dados do objeto ao qual estão associados. Assim, os programas de computador orientados a objetos são feitos de objetos que interagem uns com os outros.</li>\n",
      "<li><strong>Programação orientada a serviços</strong>: um paradigma de programação que usa \"serviços\" como a unidade de trabalho do computador, para projetar e implementar aplicativos de negócios integrados e programas de software de missão crítica.</li>\n",
      "<li>⇾ <a href=\"https://www.youtube.com/watch?v=SzJ46YA_RaA\">Map of Computer Science</a></li>\n",
      "<li>⇾ <a href=\"https://www.youtube.com/playlist?list=PLWKjhJtqVAbn5emQ3RRG8gEBqkhf_5vxD\">Computer Science Concepts</a></li>\n",
      "<li>⇾ <a href=\"https://www.youtube.com/playlist?list=PLH2l6uzC4UEW0s7-KewFLBC1D0l6XRfye\">Crash Course: Computer Science</a></li>\n",
      "<li>⇾ <a href=\"https://www.youtube.com/playlist?list=PLhQjrBD2T382_R182iC2gNZI9HzWFMC_8\">CS50 Lectures (Harvard University)</a></li>\n",
      "<li>⇾ <a href=\"https://www.youtube.com/playlist?list=PLWKjhJtqVAbmfoj2Th9fvxhHIeqFO7wOy\">Computer Science and Software Engineering Theory</a></li>\n",
      "<li>⇾ <a href=\"https://www.youtube.com/playlist?list=PLUl4u3cNGP63WbdFxL8giv4yhgdMGaZNA\">Introduction to Computer Science and Programming in Python (MIT)</a></li>\n"
     ]
    }
   ],
   "source": [
    "itens = soup.find_all('li')\n",
    "\n",
    "for item in itens:\n",
    "    print(item)"
   ]
  },
  {
   "cell_type": "markdown",
   "id": "7633a815",
   "metadata": {},
   "source": [
    "Também podemos selecionar um elemento baseado no seu **id**, por exemplo:"
   ]
  },
  {
   "cell_type": "code",
   "execution_count": 35,
   "id": "b4965e4a",
   "metadata": {},
   "outputs": [
    {
     "name": "stdout",
     "output_type": "stream",
     "text": [
      "<h2 id=\"programming\">Programação de Computadores</h2>\n",
      "Programação de Computadores\n"
     ]
    }
   ],
   "source": [
    "elemento = soup.find(id=\"programming\")\n",
    "print(elemento)\n",
    "print(elemento.text)"
   ]
  },
  {
   "cell_type": "markdown",
   "id": "6e1c46a0",
   "metadata": {},
   "source": [
    "Da mesma forma, podemos selecionar um elemento baseado em sua **class**, por exemplo:"
   ]
  },
  {
   "cell_type": "code",
   "execution_count": 32,
   "id": "76e35441",
   "metadata": {},
   "outputs": [
    {
     "name": "stdout",
     "output_type": "stream",
     "text": [
      "<img class=\"imagem\" src=\"imagens/CompSci.jpg\"/>\n"
     ]
    }
   ],
   "source": [
    "imagem = soup.find(class_=\"imagem\")\n",
    "print(imagem)"
   ]
  },
  {
   "cell_type": "markdown",
   "id": "31e2c3d0",
   "metadata": {},
   "source": [
    "E então podemos facilmente reconstruir a **URL** da imagem:"
   ]
  },
  {
   "cell_type": "code",
   "execution_count": 24,
   "id": "441d513d",
   "metadata": {},
   "outputs": [
    {
     "name": "stdout",
     "output_type": "stream",
     "text": [
      "https://cc33z.netlify.app/imagens/CompSci.jpg\n"
     ]
    }
   ],
   "source": [
    "print(resposta.url + imagem['src'])"
   ]
  },
  {
   "cell_type": "markdown",
   "id": "67cf8e87",
   "metadata": {},
   "source": [
    "Temos a opção de obter o descendente direto de uma tag através do uso de seletores CSS:"
   ]
  },
  {
   "cell_type": "code",
   "execution_count": 25,
   "id": "b332118c",
   "metadata": {},
   "outputs": [
    {
     "name": "stdout",
     "output_type": "stream",
     "text": [
      "<h4>Desenvolvido por Gabriel Felippe para o Curso de Web Scraping</h4>\n"
     ]
    }
   ],
   "source": [
    "h4 = soup.select(\"footer > h4\")\n",
    "print(h4[0])"
   ]
  },
  {
   "cell_type": "markdown",
   "id": "6a4babb2",
   "metadata": {},
   "source": [
    "Seguindo uma lógica similar, é possível selecionar o **nth-child** de um elemento:"
   ]
  },
  {
   "cell_type": "code",
   "execution_count": 26,
   "id": "7d7d52a3",
   "metadata": {},
   "outputs": [
    {
     "name": "stdout",
     "output_type": "stream",
     "text": [
      "<h2 id=\"pioneiros\">Pioneiros da Computação</h2>\n"
     ]
    }
   ],
   "source": [
    "h2 = soup.select(\"div h2:nth-of-type(3)\")\n",
    "print(h2[0])"
   ]
  },
  {
   "cell_type": "markdown",
   "id": "38d93f64",
   "metadata": {},
   "source": [
    "Esta foi uma apresentação dos fundamentos de Web Scraping com a biblioteca **BeautifulSoup**.\n",
    "\n",
    "Para mais detalhes leia a **[documentação](https://www.crummy.com/software/BeautifulSoup/bs4/doc/)**."
   ]
  }
 ],
 "metadata": {
  "kernelspec": {
   "display_name": "Python 3",
   "language": "python",
   "name": "python3"
  },
  "language_info": {
   "codemirror_mode": {
    "name": "ipython",
    "version": 3
   },
   "file_extension": ".py",
   "mimetype": "text/x-python",
   "name": "python",
   "nbconvert_exporter": "python",
   "pygments_lexer": "ipython3",
   "version": "3.7.10"
  }
 },
 "nbformat": 4,
 "nbformat_minor": 5
}
