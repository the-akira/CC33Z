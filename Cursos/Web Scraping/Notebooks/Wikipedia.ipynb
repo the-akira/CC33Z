{
 "cells": [
  {
   "cell_type": "markdown",
   "id": "b0692597",
   "metadata": {},
   "source": [
    "# Wikipedia\n",
    "\n",
    "**[Wikipedia](https://www.wikipedia.org/)** é uma enciclopédia online gratuita, criada e editada por voluntários em todo o mundo e hospedada pela Fundação Wikimedia.\n",
    "\n",
    "A **Wikipedia** é sem dúvida a maior e mais popular obra de referência geral na internet, e um dos sites mais populares. Possui conteúdo exclusivamente gratuito. Como resultado, ser capaz de acessar essa grande quantidade de informações em Python é um trabalho útil. Neste tutorial, você será capaz de extrair informações da Wikipedia facilmente, sem nenhum trabalho complicado.\n",
    "\n",
    "Devo mencionar que não vamos fazer o *scraping* das páginas da Wikipedia manualmente, o módulo da **[wikipedia](https://pypi.org/project/wikipedia/)** já fez este trabalho difícil para nós. Precisamos apenas instalar ele com o seguinte comando:\n",
    "\n",
    "```\n",
    "pip install wikipedia\n",
    "```\n",
    "\n",
    "E agora vamos fazer alguns experimentos. **Observação**: inicialmente vamos trabalhar em inglês e depois veremos como trocar de idioma.\n",
    "\n",
    "Vamos começar obtendo um resumo do que é a linguagem de programação Python:"
   ]
  },
  {
   "cell_type": "code",
   "execution_count": 1,
   "id": "ba137939",
   "metadata": {},
   "outputs": [
    {
     "name": "stdout",
     "output_type": "stream",
     "text": [
      "Python is an interpreted high-level general-purpose programming language. Python's design philosophy emphasizes code readability with its notable use of significant indentation. Its language constructs as well as its object-oriented approach aim to help programmers write clear, logical code for small and large-scale projects.Python is dynamically-typed and garbage-collected. It supports multiple programming paradigms, including structured (particularly, procedural), object-oriented and functional programming. Python is often described as a \"batteries included\" language due to its comprehensive standard library.Guido van Rossum began working on Python in the late 1980s, as a successor to the ABC programming language, and first released it in 1991 as Python 0.9.0. Python 2.0 was released in 2000 and introduced new features, such as list comprehensions and a garbage collection system using reference counting. Python 3.0 was released in 2008 and was a major revision of the language that is not completely backward-compatible and much Python 2 code does not run unmodified on Python 3. Python 2 was discontinued with version 2.7.18 in 2020.Python consistently ranks as one of the most popular programming languages.\n"
     ]
    }
   ],
   "source": [
    "import wikipedia\n",
    "\n",
    "print(wikipedia.summary(\"Python Programming Language\").strip())"
   ]
  },
  {
   "cell_type": "markdown",
   "id": "4cd7ef20",
   "metadata": {},
   "source": [
    "O código acima irá extrair o resumo [página Python](https://en.wikipedia.org/wiki/Python_(programming_language)) da Wikipedia. \n",
    "\n",
    "Mais especificamente, ele irá imprimir algumas primeiras frases, podemos especificar o número de frases a extrair:"
   ]
  },
  {
   "cell_type": "code",
   "execution_count": 2,
   "id": "53badebb",
   "metadata": {},
   "outputs": [
    {
     "data": {
      "text/plain": [
       "\"Python is an interpreted high-level general-purpose programming language. Python's design philosophy emphasizes code readability with its notable use of significant indentation. Its language constructs as well as its object-oriented approach aim to help programmers write clear, logical code for small and large-scale projects.Python is dynamically-typed and garbage-collected.\""
      ]
     },
     "execution_count": 2,
     "metadata": {},
     "output_type": "execute_result"
    }
   ],
   "source": [
    "wikipedia.summary(\"Python prog lang\", sentences=3)"
   ]
  },
  {
   "cell_type": "markdown",
   "id": "8f13a3b1",
   "metadata": {},
   "source": [
    "Observe que eu digitei incorretamente a consulta intencionalmente, mas ainda assim obtive um resultado preciso.\n",
    "\n",
    "Podemos também buscar um termo na pesquisa da Wikipedia, por exemplo:"
   ]
  },
  {
   "cell_type": "code",
   "execution_count": 3,
   "id": "87440431",
   "metadata": {},
   "outputs": [
    {
     "name": "stdout",
     "output_type": "stream",
     "text": [
      "['Neural network', 'Artificial neural network', 'Convolutional neural network', 'Recurrent neural network', 'Feedforward neural network', 'Rectifier (neural networks)', 'Spiking neural network', 'Neural circuit', 'Siamese neural network', 'Residual neural network']\n"
     ]
    }
   ],
   "source": [
    "resultado = wikipedia.search(\"Neural networks\")\n",
    "print(resultado)"
   ]
  },
  {
   "cell_type": "markdown",
   "id": "cf79be8c",
   "metadata": {},
   "source": [
    "O comando acima nos retornou uma lista de títulos de página relacionados ao termo pesquisado. \n",
    "\n",
    "Vamos obter a página inteira para \"**Neural Networks**\" da seguinte forma:"
   ]
  },
  {
   "cell_type": "code",
   "execution_count": 4,
   "id": "a928fd54",
   "metadata": {},
   "outputs": [],
   "source": [
    "página = wikipedia.page(resultado[0])"
   ]
  },
  {
   "cell_type": "markdown",
   "id": "129a13c8",
   "metadata": {},
   "source": [
    "Agora podemos extrair o título da página:"
   ]
  },
  {
   "cell_type": "code",
   "execution_count": 5,
   "id": "1b435cd7",
   "metadata": {},
   "outputs": [
    {
     "name": "stdout",
     "output_type": "stream",
     "text": [
      "Neural network\n"
     ]
    }
   ],
   "source": [
    "title = página.title\n",
    "print(title)"
   ]
  },
  {
   "cell_type": "markdown",
   "id": "42e8adbd",
   "metadata": {},
   "source": [
    "Obtendo todas as categorias dessa página da Wikipedia:"
   ]
  },
  {
   "cell_type": "code",
   "execution_count": 6,
   "id": "d0f51e56",
   "metadata": {},
   "outputs": [
    {
     "name": "stdout",
     "output_type": "stream",
     "text": [
      "['All articles with incomplete citations', 'Articles with hAudio microformats', 'Articles with incomplete citations from April 2019', 'Articles with short description', 'Artificial intelligence', 'CS1 errors: dates', 'Computational neuroscience', 'Econometrics', 'Emerging technologies', 'Network architecture', 'Networks', 'Neural networks', 'Short description matches Wikidata', 'Spoken articles', 'Use mdy dates from January 2019', 'Wikipedia articles with LCCN identifiers']\n"
     ]
    }
   ],
   "source": [
    "categories = página.categories\n",
    "print(categories)"
   ]
  },
  {
   "cell_type": "markdown",
   "id": "a1835bcb",
   "metadata": {},
   "source": [
    "Extrair o texto depois de remover todas as tags HTML (isso é feito automaticamente):"
   ]
  },
  {
   "cell_type": "code",
   "execution_count": 7,
   "id": "ada93c84",
   "metadata": {},
   "outputs": [
    {
     "name": "stdout",
     "output_type": "stream",
     "text": [
      "A neural network is a network or circuit of neurons, or in a modern sense, an artificial neural network, composed of artificial neurons or nodes. Thus a neural network is either a biological neural network, made up of biological neurons, or an artificial neural network, for solving artificial intelligence (AI) problems. The connections of the biological neuron are modeled as weights. A positive weight reflects an excitatory connection, while negative values mean inhibitory connections. All inputs are modified by a weight and summed. This activity is referred to as a linear combination. Finally, an activation function controls the amplitude of the output. For example, an acceptable range of output is usually between 0 and 1, or it could be −1 and 1.\n",
      "These artificial networks may be used for predictive modeling, adaptive control and applications where they can be trained via a dataset. Self-learning resulting from experience can occur within networks, which can derive conclusions from a complex and seemingly unrelated set of information.\n"
     ]
    }
   ],
   "source": [
    "content = página.content\n",
    "print(content[:1051])"
   ]
  },
  {
   "cell_type": "markdown",
   "id": "66d4d579",
   "metadata": {},
   "source": [
    "Todos os links:"
   ]
  },
  {
   "cell_type": "code",
   "execution_count": 8,
   "id": "7334fb55",
   "metadata": {},
   "outputs": [
    {
     "name": "stdout",
     "output_type": "stream",
     "text": [
      "['3Blue1Brown', 'A. K. Dewdney', 'ADALINE', 'Acetylcholine', 'Adaptive control', 'Adaptive resonance theory', 'Adaptive system', 'Alan Turing', 'Alexander Bain', 'Amplitude', 'Analog signal', 'Artificial intelligence', 'Artificial neural network', 'Artificial neuron', 'Autonomous robot', 'Axon', 'BCM theory', 'Back-propagation', 'Backpropagation', 'Bibcode (identifier)', 'Biological cybernetics', 'Biological neural network', 'Biological neuron models', 'Biologically inspired computing', 'Biophysics', 'Blind signal separation', 'Boltzmann machine', 'Brain connectivity estimators', 'CPU', 'Cerebellar model articulation controller', 'Cerebral cortex', 'Charles Scott Sherrington', 'CiteSeerX (identifier)', 'Cognitive architecture', 'Cognitive modeling', 'Cognitive science', 'Computation', 'Computational neuroscience', 'Computer simulation', 'Connectionism', 'Connectomics', 'Convolution', 'Cultured neuronal networks', 'Data compression', 'Data mining', 'Data modeling', 'Data processing', 'Data storage', 'Database', 'David H. Hubel', 'Decision making', 'Deep Image Prior', 'Deep learning', 'Dendrite', 'Dendrodendritic synapse', 'Digital data', 'Digital morphogenesis', 'Doi (identifier)', 'Donald Hebb', 'Dopamine', 'E-mail spam', 'Efficiently updatable neural network', 'Evolutionary algorithm', 'Exclusive-or', 'Exclusive or', 'Facial recognition system', 'Feedforward neural network', 'Frank Rosenblatt', 'Function approximation', 'GPU', 'Gene expression programming', 'Generative adversarial network', 'Genetic algorithm', 'Geoff Hinton', 'Geoffrey Hinton', 'Group method of data handling', 'Habituation', 'Handwriting recognition', 'Handwritten text recognition', 'Hebbian learning', 'Hopfield network', 'IDSIA', 'ISBN (identifier)', 'ISSN (identifier)', 'Image analysis', 'In situ adaptive tabulation', 'Information processing', 'Information theory', 'Jürgen Schmidhuber', 'Kunihiko Fukushima', 'Learning', 'Long short term memory', 'Long term potentiation', 'Machine learning', 'Marvin Minsky', 'Mathematical model', 'Memristor', 'Multilinear subspace learning', 'NYU', 'Nanodevice', 'Nature Nanotechnology', 'Nature Neuroscience', 'Neocognitron', 'Neural Computation (journal)', 'Neural backpropagation', 'Neural circuit', 'Neural computing', 'Neural network (disambiguation)', 'Neural network software', 'Neuromodulators', 'Neuromorphic computing', 'Neurotransmitter', 'Non-linear', 'Nonlinear system identification', 'Novelty detection', 'PMC (identifier)', 'PMID (identifier)', 'Parallel constraint satisfaction processes', 'Parallel distributed processing', 'Pattern recognition', 'Perceptron', 'Predictive analytics', 'Predictive modeling', 'Principal component', 'Programming language', 'Pyramidal neuron', 'Radial basis function network', 'Radial basis networks', 'Random-access memory', 'Recurrent neural network', 'Regression analysis', 'Roger Bridgman', 'S2CID (identifier)', 'Scientific American', 'Self-organizing map', 'Serotonin', 'Seymour Papert', 'Simulated reality', 'Software agents', 'Speech recognition', 'Statistical', 'Statistical classification', 'Support vector machine', 'Symbolic artificial intelligence', 'Synapse', 'Synaptic plasticity', 'Tensor product network', 'Threshold logic', 'Time delay neural network', 'Time series prediction', 'Tomaso Poggio', 'Torsten Wiesel', 'University of Chicago', 'University of Toronto', 'Unorganized machine', 'Unsupervised learning', 'Video game', 'Visual cortex', 'Von Neumann model', 'Walter Pitts', 'Warren McCulloch', 'Warren Sturgis McCulloch', 'William James', 'Yann LeCun', 'YouTube']\n"
     ]
    }
   ],
   "source": [
    "links = página.links\n",
    "print(links)"
   ]
  },
  {
   "cell_type": "markdown",
   "id": "6b466b04",
   "metadata": {},
   "source": [
    "Também podemos obter a URL da página:"
   ]
  },
  {
   "cell_type": "code",
   "execution_count": 9,
   "id": "77ee0ba9",
   "metadata": {},
   "outputs": [
    {
     "name": "stdout",
     "output_type": "stream",
     "text": [
      "https://en.wikipedia.org/wiki/Neural_network\n"
     ]
    }
   ],
   "source": [
    "url = página.url\n",
    "print(url)"
   ]
  },
  {
   "cell_type": "markdown",
   "id": "f94be644",
   "metadata": {},
   "source": [
    "E todas as suas imagens:"
   ]
  },
  {
   "cell_type": "code",
   "execution_count": 10,
   "id": "4eec627e",
   "metadata": {},
   "outputs": [
    {
     "name": "stdout",
     "output_type": "stream",
     "text": [
      "['https://upload.wikimedia.org/wikipedia/commons/1/16/CC-BY_icon.svg', 'https://upload.wikimedia.org/wikipedia/commons/a/a3/En-Neural_network.ogg', 'https://upload.wikimedia.org/wikipedia/commons/b/be/Forest_of_synthetic_pyramidal_dendrites_grown_using_Cajal%27s_laws_of_neuronal_branching.png', 'https://upload.wikimedia.org/wikipedia/commons/9/99/Neural_network_example.svg', 'https://upload.wikimedia.org/wikipedia/commons/4/47/Sound-icon.svg', 'https://upload.wikimedia.org/wikipedia/en/8/8a/OOjs_UI_icon_edit-ltr-progressive.svg']\n"
     ]
    }
   ],
   "source": [
    "imagens = página.images\n",
    "print(imagens)"
   ]
  },
  {
   "cell_type": "markdown",
   "id": "f74ab7cc",
   "metadata": {},
   "source": [
    "Assim como as referências:"
   ]
  },
  {
   "cell_type": "code",
   "execution_count": 11,
   "id": "11c6fc64",
   "metadata": {},
   "outputs": [
    {
     "name": "stdout",
     "output_type": "stream",
     "text": [
      "['http://www.iro.umontreal.ca/~lisa/publications2/index.php/publications/show/4', 'http://papers.nips.cc/paper/3449-offline-handwriting-recognition-with-multidimensional-recurrent-neural-networks', 'http://www.dkriesel.com/en/science/neural_networks', 'http://members.fortunecity.com/templarseries/popper.html', 'http://uhaweb.hartford.edu/compsci/neural-networks-definition.html', 'http://citeseerx.ist.psu.edu/viewdoc/summary?doi=10.1.1.139.4502', 'http://citeseerx.ist.psu.edu/viewdoc/summary?doi=10.1.1.588.3775', 'http://citeseerx.ist.psu.edu/viewdoc/summary?doi=10.1.1.76.1541', 'http://www.cs.toronto.edu/~hinton/absps/fastnc.pdf', 'http://www.nasa.gov/centers/dryden/news/NewsReleases/2003/03-49.html', 'http://pubmed.ncbi.nlm.nih.gov/10526343', 'http://pubmed.ncbi.nlm.nih.gov/13602029', 'http://pubmed.ncbi.nlm.nih.gov/16764513', 'http://pubmed.ncbi.nlm.nih.gov/18451858', 'http://pubmed.ncbi.nlm.nih.gov/18654568', 'http://pubmed.ncbi.nlm.nih.gov/19299860', 'http://pubmed.ncbi.nlm.nih.gov/32776924', 'http://pubmed.ncbi.nlm.nih.gov/6953413', 'http://pubmed.ncbi.nlm.nih.gov/7370364', 'http://www.ncbi.nlm.nih.gov/pmc/articles/PMC346238', 'http://www.kurzweilai.net/how-bio-inspired-deep-learning-keeps-winning-competitions', 'http://doi.org/10.1007%2FBF00344251', 'http://doi.org/10.1007%2FBF02478259', 'http://doi.org/10.1037%2Fh0042519', 'http://doi.org/10.1038%2F14819', 'http://doi.org/10.1038%2Fnature06932', 'http://doi.org/10.1038%2Fnnano.2008.160', 'http://doi.org/10.1073%2Fpnas.79.8.2554', 'http://doi.org/10.1098%2Frstb.1898.0002', 'http://doi.org/10.1109%2FTIT.1954.1057468', 'http://doi.org/10.1109%2FTIT.1956.1056810', 'http://doi.org/10.1109%2FTPAMI.2008.137', 'http://doi.org/10.1162%2Fneco.2006.18.7.1527', 'http://doi.org/10.1371%2Fimage.pcbi.v06.i08', 'http://doi.org/10.1371%2Fjournal.pcbi.1008033', 'http://doi.org/10.3233%2F978-1-61499-894-5-179', 'http://www.worldcat.org/issn/1553-7358', 'http://www.msm.cam.ac.uk/phase-trans/2009/performance.html', 'http://www.msm.cam.ac.uk/phase-trans/2009/review_Bhadeshia_SADM.pdf', 'http://www.msm.cam.ac.uk/phase-trans/abstracts/neural.review.html', 'https://papers.nips.cc/paper/4741-deep-neural-networks-segment-neuronal-membranes-in-electron-microscopy-images.pdf', 'https://people.lu.usi.ch/mascij/data/papers/2012_nn_traffic.pdf', 'https://www.gartner.com/it-glossary/neural-net-or-neural-network', 'https://medicalxpress.com/news/2020-08-neuroscientists-regions-brain.html', 'https://www.youtube.com/watch?v=AyzOUbkUf3M', 'https://www.youtube.com/watch?v=aircAruvnKk&list=PLZHQObOWTQDNU6R1_67000Dx_ZCJB-3pi', 'https://ui.adsabs.harvard.edu/abs/1982PNAS...79.2554H', 'https://ui.adsabs.harvard.edu/abs/2008Natur.453...80S', 'https://id.loc.gov/authorities/subjects/sh93002348', 'https://www.researchgate.net/publication/328964756', 'https://archive.org/details/in.ernet.dli.2015.226341', 'https://archive.org/details/paralleldistribu00rume', 'https://archive.org/details/principlespsych01jamegoog', 'https://web.archive.org/web/20090318133122/http://www.gc.ssr.upm.es/inves/neural/ann1/anntutorial.html', 'https://web.archive.org/web/20091216110504/http://www.doc.ic.ac.uk/~nd/surprise_96/journal/vol4/cs11/report.html', 'https://web.archive.org/web/20120319163352/http://members.fortunecity.com/templarseries/popper.html', 'https://web.archive.org/web/20140529155320/http://uhaweb.hartford.edu/compsci/neural-networks-definition.html', 'https://web.archive.org/web/20180831075249/http://www.kurzweilai.net/how-bio-inspired-deep-learning-keeps-winning-competitions', 'https://creativecommons.org/licenses/by/4.0/', 'https://api.semanticscholar.org/CorpusID:221100528', 'https://www.wikidata.org/wiki/Q55624999#identifiers']\n"
     ]
    }
   ],
   "source": [
    "referências = página.references\n",
    "print(referências)"
   ]
  },
  {
   "cell_type": "markdown",
   "id": "94e06993",
   "metadata": {},
   "source": [
    "E finalmente o sumário:"
   ]
  },
  {
   "cell_type": "code",
   "execution_count": 12,
   "id": "98714117",
   "metadata": {},
   "outputs": [
    {
     "name": "stdout",
     "output_type": "stream",
     "text": [
      "A neural network is a network or circuit of neurons, or in a modern sense, an artificial neural network, composed of artificial neurons or nodes. Thus a neural network is either a biological neural network, made up of biological neurons, or an artificial neural network, for solving artificial intelligence (AI) problems. The connections of the biological neuron are modeled as weights. A positive weight reflects an excitatory connection, while negative values mean inhibitory connections. All inputs are modified by a weight and summed. This activity is referred to as a linear combination. Finally, an activation function controls the amplitude of the output. For example, an acceptable range of output is usually between 0 and 1, or it could be −1 and 1.\n",
      "These artificial networks may be used for predictive modeling, adaptive control and applications where they can be trained via a dataset. Self-learning resulting from experience can occur within networks, which can derive conclusions from a complex and seemingly unrelated set of information.\n"
     ]
    }
   ],
   "source": [
    "summary = página.summary\n",
    "print(summary)"
   ]
  },
  {
   "cell_type": "markdown",
   "id": "b6455f68",
   "metadata": {},
   "source": [
    "Até então estávamos trabalhando com inglês, mas sabemos que o Wikipedia está disponível em diversas linguagens.\n",
    "\n",
    "Podemos ver quais linguagens a biblioteca wikipedia nos disponibiliza através do seguinte comando:"
   ]
  },
  {
   "cell_type": "code",
   "execution_count": 13,
   "id": "1be073ab",
   "metadata": {},
   "outputs": [
    {
     "name": "stdout",
     "output_type": "stream",
     "text": [
      "['aa', 'ab', 'abs', 'ace', 'ady', 'ady-cyrl', 'aeb', 'aeb-arab', 'aeb-latn', 'af', 'ak', 'aln', 'als', 'alt', 'am', 'ami', 'an', 'ang', 'anp', 'ar', 'arc', 'arn', 'arq', 'ary', 'arz', 'as', 'ase', 'ast', 'atj', 'av', 'avk', 'awa', 'ay', 'az', 'azb', 'ba', 'ban', 'ban-bali', 'bar', 'bat-smg', 'bbc', 'bbc-latn', 'bcc', 'bcl', 'be', 'be-tarask', 'be-x-old', 'bg', 'bgn', 'bh', 'bho', 'bi', 'bjn', 'bm', 'bn', 'bo', 'bpy', 'bqi', 'br', 'brh', 'bs', 'btm', 'bto', 'bug', 'bxr', 'ca', 'cbk-zam', 'cdo', 'ce', 'ceb', 'ch', 'cho', 'chr', 'chy', 'ckb', 'co', 'cps', 'cr', 'crh', 'crh-cyrl', 'crh-latn', 'cs', 'csb', 'cu', 'cv', 'cy', 'da', 'dag', 'de', 'de-at', 'de-ch', 'de-formal', 'din', 'diq', 'dsb', 'dtp', 'dty', 'dv', 'dz', 'ee', 'egl', 'el', 'eml', 'en', 'en-ca', 'en-gb', 'eo', 'es', 'es-419', 'es-formal', 'et', 'eu', 'ext', 'fa', 'ff', 'fi', 'fit', 'fiu-vro', 'fj', 'fo', 'fr', 'frc', 'frp', 'frr', 'fur', 'fy', 'ga', 'gag', 'gan', 'gan-hans', 'gan-hant', 'gcr', 'gd', 'gl', 'glk', 'gn', 'gom', 'gom-deva', 'gom-latn', 'gor', 'got', 'grc', 'gsw', 'gu', 'guc', 'gv', 'ha', 'hak', 'haw', 'he', 'hi', 'hif', 'hif-latn', 'hil', 'ho', 'hr', 'hrx', 'hsb', 'ht', 'hu', 'hu-formal', 'hy', 'hyw', 'hz', 'ia', 'id', 'ie', 'ig', 'ii', 'ik', 'ike-cans', 'ike-latn', 'ilo', 'inh', 'io', 'is', 'it', 'iu', 'ja', 'jam', 'jbo', 'jut', 'jv', 'ka', 'kaa', 'kab', 'kbd', 'kbd-cyrl', 'kbp', 'kcg', 'kg', 'khw', 'ki', 'kiu', 'kj', 'kjp', 'kk', 'kk-arab', 'kk-cn', 'kk-cyrl', 'kk-kz', 'kk-latn', 'kk-tr', 'kl', 'km', 'kn', 'ko', 'ko-kp', 'koi', 'kr', 'krc', 'kri', 'krj', 'krl', 'ks', 'ks-arab', 'ks-deva', 'ksh', 'ku', 'ku-arab', 'ku-latn', 'kum', 'kv', 'kw', 'ky', 'la', 'lad', 'lb', 'lbe', 'lez', 'lfn', 'lg', 'li', 'lij', 'liv', 'lki', 'lld', 'lmo', 'ln', 'lo', 'loz', 'lrc', 'lt', 'ltg', 'lus', 'luz', 'lv', 'lzh', 'lzz', 'mad', 'mai', 'map-bms', 'mdf', 'mg', 'mh', 'mhr', 'mi', 'min', 'mk', 'ml', 'mn', 'mni', 'mnw', 'mo', 'mr', 'mrh', 'mrj', 'ms', 'ms-arab', 'mt', 'mus', 'mwl', 'my', 'myv', 'mzn', 'na', 'nah', 'nan', 'nap', 'nb', 'nds', 'nds-nl', 'ne', 'new', 'ng', 'nia', 'niu', 'nl', 'nl-informal', 'nn', 'no', 'nov', 'nqo', 'nrm', 'nso', 'nv', 'ny', 'nys', 'oc', 'ojb', 'olo', 'om', 'or', 'os', 'pa', 'pag', 'pam', 'pap', 'pcd', 'pdc', 'pdt', 'pfl', 'pi', 'pih', 'pl', 'pms', 'pnb', 'pnt', 'prg', 'ps', 'pt', 'pt-br', 'pwn', 'qu', 'qug', 'rgn', 'rif', 'rm', 'rmc', 'rmy', 'rn', 'ro', 'roa-rup', 'roa-tara', 'ru', 'rue', 'rup', 'ruq', 'ruq-cyrl', 'ruq-latn', 'rw', 'sa', 'sah', 'sat', 'sc', 'scn', 'sco', 'sd', 'sdc', 'sdh', 'se', 'sei', 'ses', 'sg', 'sgs', 'sh', 'shi', 'shi-latn', 'shi-tfng', 'shn', 'shy', 'shy-latn', 'si', 'simple', 'sk', 'skr', 'skr-arab', 'sl', 'sli', 'sm', 'sma', 'smn', 'sn', 'so', 'sq', 'sr', 'sr-ec', 'sr-el', 'srn', 'ss', 'st', 'stq', 'sty', 'su', 'sv', 'sw', 'szl', 'szy', 'ta', 'tay', 'tcy', 'te', 'tet', 'tg', 'tg-cyrl', 'tg-latn', 'th', 'ti', 'tk', 'tl', 'tly', 'tly-cyrl', 'tn', 'to', 'tpi', 'tr', 'tru', 'trv', 'ts', 'tt', 'tt-cyrl', 'tt-latn', 'tum', 'tw', 'ty', 'tyv', 'tzm', 'udm', 'ug', 'ug-arab', 'ug-latn', 'uk', 'ur', 'uz', 'uz-cyrl', 'uz-latn', 've', 'vec', 'vep', 'vi', 'vls', 'vmf', 'vo', 'vot', 'vro', 'wa', 'war', 'wls', 'wo', 'wuu', 'xal', 'xh', 'xmf', 'xsy', 'yi', 'yo', 'yue', 'za', 'zea', 'zgh', 'zh', 'zh-classical', 'zh-cn', 'zh-hans', 'zh-hant', 'zh-hk', 'zh-min-nan', 'zh-mo', 'zh-my', 'zh-sg', 'zh-tw', 'zh-yue', 'zu']\n"
     ]
    }
   ],
   "source": [
    "linguagens = list(wikipedia.languages())\n",
    "print(linguagens)"
   ]
  },
  {
   "cell_type": "markdown",
   "id": "25039489",
   "metadata": {},
   "source": [
    "Vejamos se temos Português disponível:"
   ]
  },
  {
   "cell_type": "code",
   "execution_count": 19,
   "id": "562f884b",
   "metadata": {},
   "outputs": [
    {
     "data": {
      "text/plain": [
       "True"
      ]
     },
     "execution_count": 19,
     "metadata": {},
     "output_type": "execute_result"
    }
   ],
   "source": [
    "\"pt\" in linguagens"
   ]
  },
  {
   "cell_type": "markdown",
   "id": "8cbddb9f",
   "metadata": {},
   "source": [
    "Podemos então alterar as nossas buscas para português:"
   ]
  },
  {
   "cell_type": "code",
   "execution_count": 17,
   "id": "b5bf8d60",
   "metadata": {},
   "outputs": [],
   "source": [
    "wikipedia.set_lang('pt')"
   ]
  },
  {
   "cell_type": "code",
   "execution_count": 18,
   "id": "c8ba155c",
   "metadata": {},
   "outputs": [
    {
     "name": "stdout",
     "output_type": "stream",
     "text": [
      "Ubuntu é um sistema operacional (pt-BR) ou sistema operativo (pt-PT)  de código aberto, construído a partir do núcleo Linux, baseado no Debian e utiliza GNOME como ambiente de desktop de sua mais recente versão com suporte de longo prazo (LTS). É desenvolvido pela Canonical Ltd.Geralmente é executado em computadores pessoais e também é popular em servidores de rede, geralmente executando a versão Ubuntu Server, com recursos de classe empresarial.\n"
     ]
    }
   ],
   "source": [
    "print(wikipedia.summary(\"ubuntu\", sentences=2))  "
   ]
  },
  {
   "cell_type": "markdown",
   "id": "201b134f",
   "metadata": {},
   "source": [
    "A lista **linguagens** anterior nos traz apenas o prefixo dos idiomas, se quisermos confirmar de qual idioma se trata, podemos acessá-los individualmente:"
   ]
  },
  {
   "cell_type": "code",
   "execution_count": 24,
   "id": "5b3ebc15",
   "metadata": {},
   "outputs": [
    {
     "name": "stdout",
     "output_type": "stream",
     "text": [
      "español\n"
     ]
    }
   ],
   "source": [
    "print(wikipedia.languages()['es'])"
   ]
  },
  {
   "cell_type": "code",
   "execution_count": 25,
   "id": "a1c9f24f",
   "metadata": {},
   "outputs": [
    {
     "name": "stdout",
     "output_type": "stream",
     "text": [
      "português do Brasil\n"
     ]
    }
   ],
   "source": [
    "print(wikipedia.languages()['pt-br'])"
   ]
  },
  {
   "cell_type": "markdown",
   "id": "a612830d",
   "metadata": {},
   "source": [
    "Se eventualmente você quiser obter a página completa da wikipedia em formato HTML, você pode usar o seguinte comando:"
   ]
  },
  {
   "cell_type": "code",
   "execution_count": 34,
   "id": "38773e66",
   "metadata": {},
   "outputs": [
    {
     "name": "stdout",
     "output_type": "stream",
     "text": [
      "<div class=\"mw-parser-output\"><div class=\"hatnote\"><img alt=\"Disambig grey.svg\" src=\"//upload.wikimedia.org/wikipedia/commons/thumb/4/4a/Disambig_grey.svg/20px-Disambig_grey.svg.png\" decoding=\"async\" width=\"20\" height=\"15\" srcset=\"//upload.wikimedia.org/wikipedia/commons/thumb/4/4a/Disambig_grey.svg/30px-Disambig_grey.svg.png 1.5x, //upload.wikimedia.org/wikipedia/commons/thumb/4/4a/Disambig_grey.svg/40px-Disambig_grey.svg.png 2x\" data-file-width=\"260\" data-file-height=\"200\" />&#160;<b>Nota:</b> Para outros significados, veja <a href=\"/wiki/Ubuntu_(desambigua%C3%A7%C3%A3o)\" class=\"mw-disambig\" title=\"Ubuntu (desambiguação)\">Ubuntu (desambiguação)</a>.</div>\n"
     ]
    }
   ],
   "source": [
    "print(wikipedia.page(\"Ubuntu\").html()[:665])"
   ]
  },
  {
   "cell_type": "markdown",
   "id": "9fd74f74",
   "metadata": {},
   "source": [
    "**Atenção**: **wikipedia.summary** irá gerar um **DisambiguationError** se a página for uma página de desambiguação ou um **PageError** se a página não existir (embora por padrão, ele tenta encontrar a página que você quis dizer com sugestão e pesquisa).\n",
    "\n",
    "Por exemplo, vamos buscar por **Mercury**, que é um planeta, elemento, Deus mitológico, etc:"
   ]
  },
  {
   "cell_type": "code",
   "execution_count": 36,
   "id": "44410c7a",
   "metadata": {},
   "outputs": [
    {
     "name": "stdout",
     "output_type": "stream",
     "text": [
      "['Mercury (planet)', 'Mercury (element)', 'Mercury (mythology)', 'Mercury (toy manufacturer)', 'Mercury Communications', 'Mercury Drug', 'Mercury Energy', 'Mercury Insurance Group', 'Mercury Interactive', 'Mercury Marine', 'Mercury Systems', 'Mercury (programming language)', 'Mercury (metadata search system)', 'Ferranti Mercury', 'Mercury Browser', 'Mercury Mail Transport System', 'Mercury (film)', 'Mercury (TV series)', 'Young Adult', 'character in the RWBY web series', 'Mercury (Marvel Comics)', 'Makkari (comics)', 'Metal Men', \"Cerebro's X-Men\", 'Amalgam Comics character', 'Mercury (magazine)', 'The American Mercury', 'The Mercury (Hobart)', 'The Mercury (South Africa)', 'The Mercury (Pennsylvania)', 'Mercury (Newport)', 'List of newspapers named Mercury', 'Mercury (2005 novel)', 'Mercury (2016 novel)', 'Anna Kavan', 'Mercury Nashville', 'Mercury Records', 'Mercury Prize', 'The Planets', 'Mercury (American Music Club album)', 'Mercury (Longview album)', 'Mercury (Madder Mortem album)', '\"Mercury\" (song)', 'Recovering the Satellites', 'Failer', 'Planetarium', 'Mercury, Savoie', 'Mercury Bay', 'place in Alabama', 'Mercury, Nevada', 'Mercury, Texas', 'Mercury (plant)', 'Annual mercury', 'Blitum bonus-henricus', 'Mercury FM', 'Heart Hertfordshire', 'Edmonton Mercurys', 'Fujita Soccer Club Mercury', 'Memphis Mercury', 'Phoenix Mercury', 'Toledo Mercurys', 'Blackburn Mercury', 'Boeing E-6 Mercury', 'Bristol Mercury', 'Miles Mercury', 'Mercury (automobile)', 'Mercury (cyclecar)', 'Mercury (train)', 'Cape Cod Mercury 15', 'HMS\\xa0Mercury', 'Mercury 18', 'Mercury\\xa0(ship)', 'Russian brig\\xa0Mercury', 'USS\\xa0Mercury', \"Archer Maclean's Mercury\", 'Mercury (cipher machine)', 'Mercury (name)', 'Mercury (pigeon)', 'Mercury (satellite)', 'Mercury Boulevard', 'Mercury Cinema', 'Operation Mercury', 'Project Mercury', 'Shuttle America', 'The Mercury Mall', 'All pages with titles beginning with Mercury ', 'Hg (disambiguation)', 'HMS Mercury', 'Mercur (disambiguation)', 'Mercure (disambiguation)', 'Mercuri', 'Mercurio (disambiguation)', 'Mercurius (disambiguation)', 'Mercury 1 (disambiguation)', 'Mercury 2 (disambiguation)', 'Mercury 3 (disambiguation)', 'Mercury 4 (disambiguation)', 'Mercury 5 (disambiguation)', 'Mercury 6 (disambiguation)', 'Mercury 7 (disambiguation)', 'Mercury 8 (disambiguation)', 'Mercury City (disambiguation)', 'Mercury FM (disambiguation)', 'Mercury House (disambiguation)', 'Mercury mission (disambiguation)', 'Mercury program (disambiguation)', 'Mercury project (disambiguation)', 'Merkur (disambiguation)', 'USS Mercury', 'All pages with titles containing Mercury']\n"
     ]
    }
   ],
   "source": [
    "import warnings\n",
    "warnings.filterwarnings('ignore')\n",
    "\n",
    "wikipedia.set_lang('en')\n",
    "\n",
    "try:\n",
    "    mercury = wikipedia.summary(\"Mercury\")\n",
    "except wikipedia.exceptions.DisambiguationError as e:\n",
    "    print(e.options)"
   ]
  },
  {
   "cell_type": "markdown",
   "id": "25116d28",
   "metadata": {},
   "source": [
    "E assim concluímos, esta foi uma breve introdução sobre como você pode extrair informações da Wikipedia em Python. Isso pode ser útil se você deseja coletar dados automaticamente para modelos de linguagem, fazer um chatbot de resposta a perguntas, fazer um aplicativo em torno desses dados e muito mais, bons estudos!"
   ]
  }
 ],
 "metadata": {
  "kernelspec": {
   "display_name": "Python 3",
   "language": "python",
   "name": "python3"
  },
  "language_info": {
   "codemirror_mode": {
    "name": "ipython",
    "version": 3
   },
   "file_extension": ".py",
   "mimetype": "text/x-python",
   "name": "python",
   "nbconvert_exporter": "python",
   "pygments_lexer": "ipython3",
   "version": "3.7.10"
  }
 },
 "nbformat": 4,
 "nbformat_minor": 5
}
