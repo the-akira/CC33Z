{
 "cells": [
  {
   "cell_type": "markdown",
   "metadata": {},
   "source": [
    "# Estatística\n",
    "\n",
    "A estatística é a ciência de analisar dados."
   ]
  },
  {
   "cell_type": "markdown",
   "metadata": {},
   "source": [
    "## Estatística Descritiva\n",
    "\n",
    "Vamos primeiro cobrir algumas estatísticas descritivas básicas.\n",
    "\n",
    "As estatísticas descritivas resumem recursos importantes de um conjunto de dados, como:\n",
    "\n",
    "- Contagem\n",
    "- Soma\n",
    "- Desvio padrão\n",
    "- Percentil\n",
    "- Média\n",
    "- Etc\n",
    "\n",
    "É um bom ponto de partida para se familiarizar com os dados."
   ]
  },
  {
   "cell_type": "markdown",
   "metadata": {},
   "source": [
    "Primeiro devemos carregar o nosso conjunto de dados referente à saúde de pessoas\n",
    "\n",
    "Para esta tarefa, contamos com a ajuda da função **read_csv**"
   ]
  },
  {
   "cell_type": "code",
   "execution_count": 7,
   "metadata": {},
   "outputs": [
    {
     "data": {
      "text/html": [
       "<div>\n",
       "<style scoped>\n",
       "    .dataframe tbody tr th:only-of-type {\n",
       "        vertical-align: middle;\n",
       "    }\n",
       "\n",
       "    .dataframe tbody tr th {\n",
       "        vertical-align: top;\n",
       "    }\n",
       "\n",
       "    .dataframe thead th {\n",
       "        text-align: right;\n",
       "    }\n",
       "</style>\n",
       "<table border=\"1\" class=\"dataframe\">\n",
       "  <thead>\n",
       "    <tr style=\"text-align: right;\">\n",
       "      <th></th>\n",
       "      <th>Duration</th>\n",
       "      <th>Average_Pulse</th>\n",
       "      <th>Max_Pulse</th>\n",
       "      <th>Calorie_Burnage</th>\n",
       "      <th>Hours_Work</th>\n",
       "      <th>Hours_Sleep</th>\n",
       "    </tr>\n",
       "  </thead>\n",
       "  <tbody>\n",
       "    <tr>\n",
       "      <th>0</th>\n",
       "      <td>30</td>\n",
       "      <td>80</td>\n",
       "      <td>120</td>\n",
       "      <td>240</td>\n",
       "      <td>10</td>\n",
       "      <td>7</td>\n",
       "    </tr>\n",
       "    <tr>\n",
       "      <th>1</th>\n",
       "      <td>30</td>\n",
       "      <td>85</td>\n",
       "      <td>120</td>\n",
       "      <td>250</td>\n",
       "      <td>10</td>\n",
       "      <td>7</td>\n",
       "    </tr>\n",
       "    <tr>\n",
       "      <th>2</th>\n",
       "      <td>45</td>\n",
       "      <td>90</td>\n",
       "      <td>130</td>\n",
       "      <td>260</td>\n",
       "      <td>8</td>\n",
       "      <td>7</td>\n",
       "    </tr>\n",
       "    <tr>\n",
       "      <th>3</th>\n",
       "      <td>45</td>\n",
       "      <td>95</td>\n",
       "      <td>130</td>\n",
       "      <td>270</td>\n",
       "      <td>8</td>\n",
       "      <td>7</td>\n",
       "    </tr>\n",
       "    <tr>\n",
       "      <th>4</th>\n",
       "      <td>45</td>\n",
       "      <td>100</td>\n",
       "      <td>140</td>\n",
       "      <td>280</td>\n",
       "      <td>0</td>\n",
       "      <td>7</td>\n",
       "    </tr>\n",
       "    <tr>\n",
       "      <th>5</th>\n",
       "      <td>60</td>\n",
       "      <td>105</td>\n",
       "      <td>140</td>\n",
       "      <td>290</td>\n",
       "      <td>7</td>\n",
       "      <td>8</td>\n",
       "    </tr>\n",
       "    <tr>\n",
       "      <th>6</th>\n",
       "      <td>60</td>\n",
       "      <td>110</td>\n",
       "      <td>145</td>\n",
       "      <td>300</td>\n",
       "      <td>7</td>\n",
       "      <td>8</td>\n",
       "    </tr>\n",
       "    <tr>\n",
       "      <th>7</th>\n",
       "      <td>60</td>\n",
       "      <td>115</td>\n",
       "      <td>145</td>\n",
       "      <td>310</td>\n",
       "      <td>8</td>\n",
       "      <td>8</td>\n",
       "    </tr>\n",
       "    <tr>\n",
       "      <th>8</th>\n",
       "      <td>75</td>\n",
       "      <td>120</td>\n",
       "      <td>150</td>\n",
       "      <td>320</td>\n",
       "      <td>0</td>\n",
       "      <td>8</td>\n",
       "    </tr>\n",
       "    <tr>\n",
       "      <th>9</th>\n",
       "      <td>75</td>\n",
       "      <td>125</td>\n",
       "      <td>150</td>\n",
       "      <td>330</td>\n",
       "      <td>8</td>\n",
       "      <td>8</td>\n",
       "    </tr>\n",
       "  </tbody>\n",
       "</table>\n",
       "</div>"
      ],
      "text/plain": [
       "   Duration  Average_Pulse  Max_Pulse  Calorie_Burnage  Hours_Work  \\\n",
       "0        30             80        120              240          10   \n",
       "1        30             85        120              250          10   \n",
       "2        45             90        130              260           8   \n",
       "3        45             95        130              270           8   \n",
       "4        45            100        140              280           0   \n",
       "5        60            105        140              290           7   \n",
       "6        60            110        145              300           7   \n",
       "7        60            115        145              310           8   \n",
       "8        75            120        150              320           0   \n",
       "9        75            125        150              330           8   \n",
       "\n",
       "   Hours_Sleep  \n",
       "0            7  \n",
       "1            7  \n",
       "2            7  \n",
       "3            7  \n",
       "4            7  \n",
       "5            8  \n",
       "6            8  \n",
       "7            8  \n",
       "8            8  \n",
       "9            8  "
      ]
     },
     "execution_count": 7,
     "metadata": {},
     "output_type": "execute_result"
    }
   ],
   "source": [
    "import pandas as pd\n",
    "\n",
    "df = pd.read_csv('health_data_clean.csv')\n",
    "df"
   ]
  },
  {
   "cell_type": "markdown",
   "metadata": {},
   "source": [
    "O conjunto de dados acima consiste em 6 variáveis, cada uma com 10 observações:\n",
    "\n",
    "- **Duration** - Quanto tempo durou a sessão de treinamento em minutos?\n",
    "- **Average_Pulse** - Qual foi o pulso médio da sessão de treinamento? Isso é medido por batimentos por minuto\n",
    "- **Max_Pulse** - Qual foi o pulso máximo da sessão de treinamento?\n",
    "- **Calorie_Burnage** - Quantas calorias foram queimadas na sessão de treinamento?\n",
    "- **Hours_Work** - Quantas horas trabalhamos em nosso trabalho antes do treinamento?\n",
    "- **Hours_Sleep** - Quanto dormimos na noite anterior ao treino?"
   ]
  },
  {
   "cell_type": "markdown",
   "metadata": {},
   "source": [
    "A função Python **max()** é usada para encontrar o **valor mais alto** em um array"
   ]
  },
  {
   "cell_type": "code",
   "execution_count": 10,
   "metadata": {},
   "outputs": [
    {
     "data": {
      "text/plain": [
       "125"
      ]
     },
     "execution_count": 10,
     "metadata": {},
     "output_type": "execute_result"
    }
   ],
   "source": [
    "Average_pulse_max = max(df['Average_Pulse'])\n",
    "Average_pulse_max"
   ]
  },
  {
   "cell_type": "markdown",
   "metadata": {},
   "source": [
    "A função Python **min()** é usada para encontrar o **valor mais baixo** em um array"
   ]
  },
  {
   "cell_type": "code",
   "execution_count": 11,
   "metadata": {},
   "outputs": [
    {
     "data": {
      "text/plain": [
       "80"
      ]
     },
     "execution_count": 11,
     "metadata": {},
     "output_type": "execute_result"
    }
   ],
   "source": [
    "Average_pulse_min = min(df['Average_Pulse'])\n",
    "Average_pulse_min"
   ]
  },
  {
   "cell_type": "markdown",
   "metadata": {},
   "source": [
    "A função **mean()** é usada para encontrar o **valor médio** de um array"
   ]
  },
  {
   "cell_type": "code",
   "execution_count": 15,
   "metadata": {},
   "outputs": [
    {
     "data": {
      "text/plain": [
       "285.0"
      ]
     },
     "execution_count": 15,
     "metadata": {},
     "output_type": "execute_result"
    }
   ],
   "source": [
    "Average_calorie_burnage = df['Calorie_Burnage'].mean()\n",
    "Average_calorie_burnage"
   ]
  },
  {
   "cell_type": "markdown",
   "metadata": {},
   "source": [
    "## Preparação de Dados\n",
    "\n",
    "Antes de analisar os dados, um cientista de dados deve extrair os dados e torná-los claros e valiosos.\n",
    "\n",
    "Vamos novamente carregar um conjunto de dados para que possamos prepará-lo para análise."
   ]
  },
  {
   "cell_type": "code",
   "execution_count": 16,
   "metadata": {},
   "outputs": [
    {
     "data": {
      "text/html": [
       "<div>\n",
       "<style scoped>\n",
       "    .dataframe tbody tr th:only-of-type {\n",
       "        vertical-align: middle;\n",
       "    }\n",
       "\n",
       "    .dataframe tbody tr th {\n",
       "        vertical-align: top;\n",
       "    }\n",
       "\n",
       "    .dataframe thead th {\n",
       "        text-align: right;\n",
       "    }\n",
       "</style>\n",
       "<table border=\"1\" class=\"dataframe\">\n",
       "  <thead>\n",
       "    <tr style=\"text-align: right;\">\n",
       "      <th></th>\n",
       "      <th>Duration</th>\n",
       "      <th>Average_Pulse</th>\n",
       "      <th>Max_Pulse</th>\n",
       "      <th>Calorie_Burnage</th>\n",
       "      <th>Hours_Work</th>\n",
       "      <th>Hours_Sleep</th>\n",
       "    </tr>\n",
       "  </thead>\n",
       "  <tbody>\n",
       "    <tr>\n",
       "      <th>0</th>\n",
       "      <td>30.0</td>\n",
       "      <td>80</td>\n",
       "      <td>120</td>\n",
       "      <td>240.0</td>\n",
       "      <td>10.0</td>\n",
       "      <td>7.0</td>\n",
       "    </tr>\n",
       "    <tr>\n",
       "      <th>1</th>\n",
       "      <td>45.0</td>\n",
       "      <td>85</td>\n",
       "      <td>120</td>\n",
       "      <td>250.0</td>\n",
       "      <td>10.0</td>\n",
       "      <td>7.0</td>\n",
       "    </tr>\n",
       "    <tr>\n",
       "      <th>2</th>\n",
       "      <td>45.0</td>\n",
       "      <td>90</td>\n",
       "      <td>130</td>\n",
       "      <td>260.0</td>\n",
       "      <td>8.0</td>\n",
       "      <td>7.0</td>\n",
       "    </tr>\n",
       "    <tr>\n",
       "      <th>3</th>\n",
       "      <td>60.0</td>\n",
       "      <td>95</td>\n",
       "      <td>130</td>\n",
       "      <td>270.0</td>\n",
       "      <td>8.0</td>\n",
       "      <td>7.0</td>\n",
       "    </tr>\n",
       "    <tr>\n",
       "      <th>4</th>\n",
       "      <td>60.0</td>\n",
       "      <td>100</td>\n",
       "      <td>140</td>\n",
       "      <td>280.0</td>\n",
       "      <td>0.0</td>\n",
       "      <td>7.0</td>\n",
       "    </tr>\n",
       "    <tr>\n",
       "      <th>5</th>\n",
       "      <td>NaN</td>\n",
       "      <td>NaN</td>\n",
       "      <td>NaN</td>\n",
       "      <td>NaN</td>\n",
       "      <td>NaN</td>\n",
       "      <td>NaN</td>\n",
       "    </tr>\n",
       "    <tr>\n",
       "      <th>6</th>\n",
       "      <td>60.0</td>\n",
       "      <td>105</td>\n",
       "      <td>140</td>\n",
       "      <td>290.0</td>\n",
       "      <td>7.0</td>\n",
       "      <td>8.0</td>\n",
       "    </tr>\n",
       "    <tr>\n",
       "      <th>7</th>\n",
       "      <td>60.0</td>\n",
       "      <td>110</td>\n",
       "      <td>145</td>\n",
       "      <td>300.0</td>\n",
       "      <td>7.0</td>\n",
       "      <td>8.0</td>\n",
       "    </tr>\n",
       "    <tr>\n",
       "      <th>8</th>\n",
       "      <td>45.0</td>\n",
       "      <td>NaN</td>\n",
       "      <td>AF</td>\n",
       "      <td>NaN</td>\n",
       "      <td>8.0</td>\n",
       "      <td>8.0</td>\n",
       "    </tr>\n",
       "    <tr>\n",
       "      <th>9</th>\n",
       "      <td>45.0</td>\n",
       "      <td>115</td>\n",
       "      <td>145</td>\n",
       "      <td>310.0</td>\n",
       "      <td>8.0</td>\n",
       "      <td>8.0</td>\n",
       "    </tr>\n",
       "    <tr>\n",
       "      <th>10</th>\n",
       "      <td>60.0</td>\n",
       "      <td>120</td>\n",
       "      <td>150</td>\n",
       "      <td>320.0</td>\n",
       "      <td>0.0</td>\n",
       "      <td>8.0</td>\n",
       "    </tr>\n",
       "    <tr>\n",
       "      <th>11</th>\n",
       "      <td>60.0</td>\n",
       "      <td>9 000</td>\n",
       "      <td>130</td>\n",
       "      <td>NaN</td>\n",
       "      <td>NaN</td>\n",
       "      <td>8.0</td>\n",
       "    </tr>\n",
       "    <tr>\n",
       "      <th>12</th>\n",
       "      <td>45.0</td>\n",
       "      <td>125</td>\n",
       "      <td>150</td>\n",
       "      <td>330.0</td>\n",
       "      <td>8.0</td>\n",
       "      <td>8.0</td>\n",
       "    </tr>\n",
       "  </tbody>\n",
       "</table>\n",
       "</div>"
      ],
      "text/plain": [
       "    Duration Average_Pulse Max_Pulse  Calorie_Burnage  Hours_Work  Hours_Sleep\n",
       "0       30.0            80       120            240.0        10.0          7.0\n",
       "1       45.0            85       120            250.0        10.0          7.0\n",
       "2       45.0            90       130            260.0         8.0          7.0\n",
       "3       60.0            95       130            270.0         8.0          7.0\n",
       "4       60.0           100       140            280.0         0.0          7.0\n",
       "5        NaN           NaN       NaN              NaN         NaN          NaN\n",
       "6       60.0           105       140            290.0         7.0          8.0\n",
       "7       60.0           110       145            300.0         7.0          8.0\n",
       "8       45.0           NaN        AF              NaN         8.0          8.0\n",
       "9       45.0           115       145            310.0         8.0          8.0\n",
       "10      60.0           120       150            320.0         0.0          8.0\n",
       "11      60.0         9 000       130              NaN         NaN          8.0\n",
       "12      45.0           125       150            330.0         8.0          8.0"
      ]
     },
     "execution_count": 16,
     "metadata": {},
     "output_type": "execute_result"
    }
   ],
   "source": [
    "dados = pd.read_csv(\"health_data.csv\", header=0, sep=\",\")\n",
    "dados"
   ]
  },
  {
   "cell_type": "markdown",
   "metadata": {},
   "source": [
    "Observe que:\n",
    "\n",
    "- Estamos nomeando o **DataFrame** com o nome **dados**\n",
    "- `header = 0` significa que os cabeçalhos para os nomes das variáveis devem ser encontrados na primeira linha (note que 0 significa a primeira linha em Python)\n",
    "- `sep = \",\"` significa que \",\" é usado como separador entre os valores. Isso ocorre porque estamos usando o tipo de arquivo **.csv** (comma separated values)"
   ]
  },
  {
   "cell_type": "markdown",
   "metadata": {},
   "source": [
    "Se você tiver um arquivo CSV muito grande, poderá usar a função **head()** para mostrar apenas as **5 linhas principais**."
   ]
  },
  {
   "cell_type": "code",
   "execution_count": 17,
   "metadata": {},
   "outputs": [
    {
     "data": {
      "text/html": [
       "<div>\n",
       "<style scoped>\n",
       "    .dataframe tbody tr th:only-of-type {\n",
       "        vertical-align: middle;\n",
       "    }\n",
       "\n",
       "    .dataframe tbody tr th {\n",
       "        vertical-align: top;\n",
       "    }\n",
       "\n",
       "    .dataframe thead th {\n",
       "        text-align: right;\n",
       "    }\n",
       "</style>\n",
       "<table border=\"1\" class=\"dataframe\">\n",
       "  <thead>\n",
       "    <tr style=\"text-align: right;\">\n",
       "      <th></th>\n",
       "      <th>Duration</th>\n",
       "      <th>Average_Pulse</th>\n",
       "      <th>Max_Pulse</th>\n",
       "      <th>Calorie_Burnage</th>\n",
       "      <th>Hours_Work</th>\n",
       "      <th>Hours_Sleep</th>\n",
       "    </tr>\n",
       "  </thead>\n",
       "  <tbody>\n",
       "    <tr>\n",
       "      <th>0</th>\n",
       "      <td>30.0</td>\n",
       "      <td>80</td>\n",
       "      <td>120</td>\n",
       "      <td>240.0</td>\n",
       "      <td>10.0</td>\n",
       "      <td>7.0</td>\n",
       "    </tr>\n",
       "    <tr>\n",
       "      <th>1</th>\n",
       "      <td>45.0</td>\n",
       "      <td>85</td>\n",
       "      <td>120</td>\n",
       "      <td>250.0</td>\n",
       "      <td>10.0</td>\n",
       "      <td>7.0</td>\n",
       "    </tr>\n",
       "    <tr>\n",
       "      <th>2</th>\n",
       "      <td>45.0</td>\n",
       "      <td>90</td>\n",
       "      <td>130</td>\n",
       "      <td>260.0</td>\n",
       "      <td>8.0</td>\n",
       "      <td>7.0</td>\n",
       "    </tr>\n",
       "    <tr>\n",
       "      <th>3</th>\n",
       "      <td>60.0</td>\n",
       "      <td>95</td>\n",
       "      <td>130</td>\n",
       "      <td>270.0</td>\n",
       "      <td>8.0</td>\n",
       "      <td>7.0</td>\n",
       "    </tr>\n",
       "    <tr>\n",
       "      <th>4</th>\n",
       "      <td>60.0</td>\n",
       "      <td>100</td>\n",
       "      <td>140</td>\n",
       "      <td>280.0</td>\n",
       "      <td>0.0</td>\n",
       "      <td>7.0</td>\n",
       "    </tr>\n",
       "  </tbody>\n",
       "</table>\n",
       "</div>"
      ],
      "text/plain": [
       "   Duration Average_Pulse Max_Pulse  Calorie_Burnage  Hours_Work  Hours_Sleep\n",
       "0      30.0            80       120            240.0        10.0          7.0\n",
       "1      45.0            85       120            250.0        10.0          7.0\n",
       "2      45.0            90       130            260.0         8.0          7.0\n",
       "3      60.0            95       130            270.0         8.0          7.0\n",
       "4      60.0           100       140            280.0         0.0          7.0"
      ]
     },
     "execution_count": 17,
     "metadata": {},
     "output_type": "execute_result"
    }
   ],
   "source": [
    "dados.head()"
   ]
  },
  {
   "cell_type": "markdown",
   "metadata": {},
   "source": [
    "## Limpeza de Dados\n",
    "\n",
    "Observe os dados importados. Como podemos ver, os dados estão \"sujos\" com valores incorretos ou não registrados."
   ]
  },
  {
   "cell_type": "code",
   "execution_count": 18,
   "metadata": {},
   "outputs": [
    {
     "data": {
      "text/html": [
       "<div>\n",
       "<style scoped>\n",
       "    .dataframe tbody tr th:only-of-type {\n",
       "        vertical-align: middle;\n",
       "    }\n",
       "\n",
       "    .dataframe tbody tr th {\n",
       "        vertical-align: top;\n",
       "    }\n",
       "\n",
       "    .dataframe thead th {\n",
       "        text-align: right;\n",
       "    }\n",
       "</style>\n",
       "<table border=\"1\" class=\"dataframe\">\n",
       "  <thead>\n",
       "    <tr style=\"text-align: right;\">\n",
       "      <th></th>\n",
       "      <th>Duration</th>\n",
       "      <th>Average_Pulse</th>\n",
       "      <th>Max_Pulse</th>\n",
       "      <th>Calorie_Burnage</th>\n",
       "      <th>Hours_Work</th>\n",
       "      <th>Hours_Sleep</th>\n",
       "    </tr>\n",
       "  </thead>\n",
       "  <tbody>\n",
       "    <tr>\n",
       "      <th>0</th>\n",
       "      <td>30.0</td>\n",
       "      <td>80</td>\n",
       "      <td>120</td>\n",
       "      <td>240.0</td>\n",
       "      <td>10.0</td>\n",
       "      <td>7.0</td>\n",
       "    </tr>\n",
       "    <tr>\n",
       "      <th>1</th>\n",
       "      <td>45.0</td>\n",
       "      <td>85</td>\n",
       "      <td>120</td>\n",
       "      <td>250.0</td>\n",
       "      <td>10.0</td>\n",
       "      <td>7.0</td>\n",
       "    </tr>\n",
       "    <tr>\n",
       "      <th>2</th>\n",
       "      <td>45.0</td>\n",
       "      <td>90</td>\n",
       "      <td>130</td>\n",
       "      <td>260.0</td>\n",
       "      <td>8.0</td>\n",
       "      <td>7.0</td>\n",
       "    </tr>\n",
       "    <tr>\n",
       "      <th>3</th>\n",
       "      <td>60.0</td>\n",
       "      <td>95</td>\n",
       "      <td>130</td>\n",
       "      <td>270.0</td>\n",
       "      <td>8.0</td>\n",
       "      <td>7.0</td>\n",
       "    </tr>\n",
       "    <tr>\n",
       "      <th>4</th>\n",
       "      <td>60.0</td>\n",
       "      <td>100</td>\n",
       "      <td>140</td>\n",
       "      <td>280.0</td>\n",
       "      <td>0.0</td>\n",
       "      <td>7.0</td>\n",
       "    </tr>\n",
       "    <tr>\n",
       "      <th>5</th>\n",
       "      <td>NaN</td>\n",
       "      <td>NaN</td>\n",
       "      <td>NaN</td>\n",
       "      <td>NaN</td>\n",
       "      <td>NaN</td>\n",
       "      <td>NaN</td>\n",
       "    </tr>\n",
       "    <tr>\n",
       "      <th>6</th>\n",
       "      <td>60.0</td>\n",
       "      <td>105</td>\n",
       "      <td>140</td>\n",
       "      <td>290.0</td>\n",
       "      <td>7.0</td>\n",
       "      <td>8.0</td>\n",
       "    </tr>\n",
       "    <tr>\n",
       "      <th>7</th>\n",
       "      <td>60.0</td>\n",
       "      <td>110</td>\n",
       "      <td>145</td>\n",
       "      <td>300.0</td>\n",
       "      <td>7.0</td>\n",
       "      <td>8.0</td>\n",
       "    </tr>\n",
       "    <tr>\n",
       "      <th>8</th>\n",
       "      <td>45.0</td>\n",
       "      <td>NaN</td>\n",
       "      <td>AF</td>\n",
       "      <td>NaN</td>\n",
       "      <td>8.0</td>\n",
       "      <td>8.0</td>\n",
       "    </tr>\n",
       "    <tr>\n",
       "      <th>9</th>\n",
       "      <td>45.0</td>\n",
       "      <td>115</td>\n",
       "      <td>145</td>\n",
       "      <td>310.0</td>\n",
       "      <td>8.0</td>\n",
       "      <td>8.0</td>\n",
       "    </tr>\n",
       "    <tr>\n",
       "      <th>10</th>\n",
       "      <td>60.0</td>\n",
       "      <td>120</td>\n",
       "      <td>150</td>\n",
       "      <td>320.0</td>\n",
       "      <td>0.0</td>\n",
       "      <td>8.0</td>\n",
       "    </tr>\n",
       "    <tr>\n",
       "      <th>11</th>\n",
       "      <td>60.0</td>\n",
       "      <td>9 000</td>\n",
       "      <td>130</td>\n",
       "      <td>NaN</td>\n",
       "      <td>NaN</td>\n",
       "      <td>8.0</td>\n",
       "    </tr>\n",
       "    <tr>\n",
       "      <th>12</th>\n",
       "      <td>45.0</td>\n",
       "      <td>125</td>\n",
       "      <td>150</td>\n",
       "      <td>330.0</td>\n",
       "      <td>8.0</td>\n",
       "      <td>8.0</td>\n",
       "    </tr>\n",
       "  </tbody>\n",
       "</table>\n",
       "</div>"
      ],
      "text/plain": [
       "    Duration Average_Pulse Max_Pulse  Calorie_Burnage  Hours_Work  Hours_Sleep\n",
       "0       30.0            80       120            240.0        10.0          7.0\n",
       "1       45.0            85       120            250.0        10.0          7.0\n",
       "2       45.0            90       130            260.0         8.0          7.0\n",
       "3       60.0            95       130            270.0         8.0          7.0\n",
       "4       60.0           100       140            280.0         0.0          7.0\n",
       "5        NaN           NaN       NaN              NaN         NaN          NaN\n",
       "6       60.0           105       140            290.0         7.0          8.0\n",
       "7       60.0           110       145            300.0         7.0          8.0\n",
       "8       45.0           NaN        AF              NaN         8.0          8.0\n",
       "9       45.0           115       145            310.0         8.0          8.0\n",
       "10      60.0           120       150            320.0         0.0          8.0\n",
       "11      60.0         9 000       130              NaN         NaN          8.0\n",
       "12      45.0           125       150            330.0         8.0          8.0"
      ]
     },
     "execution_count": 18,
     "metadata": {},
     "output_type": "execute_result"
    }
   ],
   "source": [
    "dados"
   ]
  },
  {
   "cell_type": "markdown",
   "metadata": {},
   "source": [
    "Perceba que:\n",
    "    \n",
    "- Existem alguns campos em branco\n",
    "- **Average_Pulse** de 9.000 não é possível\n",
    "- 9 000 será tratado como não numérico, por causa do separador de espaço\n",
    "- Uma observação do **Max_Pulse** é denotada como \"AF\", o que não faz sentido\n",
    "\n",
    "Portanto, devemos limpar os dados para realizar a análise."
   ]
  },
  {
   "cell_type": "markdown",
   "metadata": {},
   "source": [
    "## Remover Linhas em Branco\n",
    "\n",
    "Vemos que os valores não numéricos (9 000 e AF) estão nas mesmas linhas com valores ausentes.\n",
    "\n",
    "**Solução:** Podemos remover as linhas com observações ausentes para corrigir este problema.\n",
    "\n",
    "Quando carregamos um conjunto de dados usando o Pandas, todas as células em branco são automaticamente convertidas em valores **\"NaN\"**.\n",
    "\n",
    "Portanto, remover as células NaN nos dá um conjunto de dados limpo que pode ser analisado.\n",
    "\n",
    "Podemos usar a função **dropna()** para remover os NaNs. \n",
    "\n",
    "`axis = 0` significa que queremos remover todas as linhas que têm um valor NaN."
   ]
  },
  {
   "cell_type": "code",
   "execution_count": 19,
   "metadata": {},
   "outputs": [],
   "source": [
    "dados.dropna(axis=0,inplace=True)"
   ]
  },
  {
   "cell_type": "code",
   "execution_count": 20,
   "metadata": {},
   "outputs": [
    {
     "data": {
      "text/html": [
       "<div>\n",
       "<style scoped>\n",
       "    .dataframe tbody tr th:only-of-type {\n",
       "        vertical-align: middle;\n",
       "    }\n",
       "\n",
       "    .dataframe tbody tr th {\n",
       "        vertical-align: top;\n",
       "    }\n",
       "\n",
       "    .dataframe thead th {\n",
       "        text-align: right;\n",
       "    }\n",
       "</style>\n",
       "<table border=\"1\" class=\"dataframe\">\n",
       "  <thead>\n",
       "    <tr style=\"text-align: right;\">\n",
       "      <th></th>\n",
       "      <th>Duration</th>\n",
       "      <th>Average_Pulse</th>\n",
       "      <th>Max_Pulse</th>\n",
       "      <th>Calorie_Burnage</th>\n",
       "      <th>Hours_Work</th>\n",
       "      <th>Hours_Sleep</th>\n",
       "    </tr>\n",
       "  </thead>\n",
       "  <tbody>\n",
       "    <tr>\n",
       "      <th>0</th>\n",
       "      <td>30.0</td>\n",
       "      <td>80</td>\n",
       "      <td>120</td>\n",
       "      <td>240.0</td>\n",
       "      <td>10.0</td>\n",
       "      <td>7.0</td>\n",
       "    </tr>\n",
       "    <tr>\n",
       "      <th>1</th>\n",
       "      <td>45.0</td>\n",
       "      <td>85</td>\n",
       "      <td>120</td>\n",
       "      <td>250.0</td>\n",
       "      <td>10.0</td>\n",
       "      <td>7.0</td>\n",
       "    </tr>\n",
       "    <tr>\n",
       "      <th>2</th>\n",
       "      <td>45.0</td>\n",
       "      <td>90</td>\n",
       "      <td>130</td>\n",
       "      <td>260.0</td>\n",
       "      <td>8.0</td>\n",
       "      <td>7.0</td>\n",
       "    </tr>\n",
       "    <tr>\n",
       "      <th>3</th>\n",
       "      <td>60.0</td>\n",
       "      <td>95</td>\n",
       "      <td>130</td>\n",
       "      <td>270.0</td>\n",
       "      <td>8.0</td>\n",
       "      <td>7.0</td>\n",
       "    </tr>\n",
       "    <tr>\n",
       "      <th>4</th>\n",
       "      <td>60.0</td>\n",
       "      <td>100</td>\n",
       "      <td>140</td>\n",
       "      <td>280.0</td>\n",
       "      <td>0.0</td>\n",
       "      <td>7.0</td>\n",
       "    </tr>\n",
       "    <tr>\n",
       "      <th>6</th>\n",
       "      <td>60.0</td>\n",
       "      <td>105</td>\n",
       "      <td>140</td>\n",
       "      <td>290.0</td>\n",
       "      <td>7.0</td>\n",
       "      <td>8.0</td>\n",
       "    </tr>\n",
       "    <tr>\n",
       "      <th>7</th>\n",
       "      <td>60.0</td>\n",
       "      <td>110</td>\n",
       "      <td>145</td>\n",
       "      <td>300.0</td>\n",
       "      <td>7.0</td>\n",
       "      <td>8.0</td>\n",
       "    </tr>\n",
       "    <tr>\n",
       "      <th>9</th>\n",
       "      <td>45.0</td>\n",
       "      <td>115</td>\n",
       "      <td>145</td>\n",
       "      <td>310.0</td>\n",
       "      <td>8.0</td>\n",
       "      <td>8.0</td>\n",
       "    </tr>\n",
       "    <tr>\n",
       "      <th>10</th>\n",
       "      <td>60.0</td>\n",
       "      <td>120</td>\n",
       "      <td>150</td>\n",
       "      <td>320.0</td>\n",
       "      <td>0.0</td>\n",
       "      <td>8.0</td>\n",
       "    </tr>\n",
       "    <tr>\n",
       "      <th>12</th>\n",
       "      <td>45.0</td>\n",
       "      <td>125</td>\n",
       "      <td>150</td>\n",
       "      <td>330.0</td>\n",
       "      <td>8.0</td>\n",
       "      <td>8.0</td>\n",
       "    </tr>\n",
       "  </tbody>\n",
       "</table>\n",
       "</div>"
      ],
      "text/plain": [
       "    Duration Average_Pulse Max_Pulse  Calorie_Burnage  Hours_Work  Hours_Sleep\n",
       "0       30.0            80       120            240.0        10.0          7.0\n",
       "1       45.0            85       120            250.0        10.0          7.0\n",
       "2       45.0            90       130            260.0         8.0          7.0\n",
       "3       60.0            95       130            270.0         8.0          7.0\n",
       "4       60.0           100       140            280.0         0.0          7.0\n",
       "6       60.0           105       140            290.0         7.0          8.0\n",
       "7       60.0           110       145            300.0         7.0          8.0\n",
       "9       45.0           115       145            310.0         8.0          8.0\n",
       "10      60.0           120       150            320.0         0.0          8.0\n",
       "12      45.0           125       150            330.0         8.0          8.0"
      ]
     },
     "execution_count": 20,
     "metadata": {},
     "output_type": "execute_result"
    }
   ],
   "source": [
    "dados"
   ]
  },
  {
   "cell_type": "markdown",
   "metadata": {},
   "source": [
    "## Categorias de Dados\n",
    "\n",
    "Para analisar dados, também precisamos saber os tipos de dados com os quais estamos lidando.\n",
    "\n",
    "Os dados podem ser divididos em três categorias principais:\n",
    "\n",
    "1. **Numérico** - Contém valores numéricos. Pode ser dividido em duas categorias:\n",
    "    - **Discreto**: Os números são contados como \"inteiros\". **Exemplo:** Você não pode ter treinado 2.5 sessões, é 2 ou 3 sessões\n",
    "    - **Contínuo**: Os números podem ter uma precisão infinita. **Exemplo:** você pode dormir 7 horas, 30 minutos e 20 segundos ou 7.533 horas\n",
    "2. **Categórico** - Contém valores que não podem ser comparados entre si. Exemplo: uma cor ou tipo de treinamento\n",
    "3. **Ordinal** - Contém dados categóricos que podem ser comparados entre si. Exemplo: notas escolares onde **A** é melhor do que **B** e assim por diante\n",
    "\n",
    "Conhecendo o tipo de seus dados, você saberá qual técnica usar para analisá-los."
   ]
  },
  {
   "cell_type": "markdown",
   "metadata": {},
   "source": [
    "## Tipos de Dados\n",
    "\n",
    "Podemos usar a função **info()** para listar os tipos de dados em nosso conjunto de dados."
   ]
  },
  {
   "cell_type": "code",
   "execution_count": 21,
   "metadata": {},
   "outputs": [
    {
     "name": "stdout",
     "output_type": "stream",
     "text": [
      "<class 'pandas.core.frame.DataFrame'>\n",
      "Int64Index: 10 entries, 0 to 12\n",
      "Data columns (total 6 columns):\n",
      " #   Column           Non-Null Count  Dtype  \n",
      "---  ------           --------------  -----  \n",
      " 0   Duration         10 non-null     float64\n",
      " 1   Average_Pulse    10 non-null     object \n",
      " 2   Max_Pulse        10 non-null     object \n",
      " 3   Calorie_Burnage  10 non-null     float64\n",
      " 4   Hours_Work       10 non-null     float64\n",
      " 5   Hours_Sleep      10 non-null     float64\n",
      "dtypes: float64(4), object(2)\n",
      "memory usage: 560.0+ bytes\n"
     ]
    }
   ],
   "source": [
    "dados.info()"
   ]
  },
  {
   "cell_type": "markdown",
   "metadata": {},
   "source": [
    "Vemos que esse conjunto de dados tem dois tipos diferentes de dados:\n",
    "\n",
    "- float64\n",
    "- object\n",
    "\n",
    "Não podemos usar **objects** para calcular e realizar análises aqui. \n",
    "\n",
    "Devemos converter o tipo **object** para float64.\n",
    "\n",
    "Podemos usar a função **astype()** para converter os dados em float64.\n",
    "\n",
    "O exemplo a seguir converte **\"Average_Pulse\"** e **\"Max_Pulse\"** no tipo de dados float64 (as outras variáveis já são do tipo de dados float64)."
   ]
  },
  {
   "cell_type": "code",
   "execution_count": 25,
   "metadata": {},
   "outputs": [
    {
     "name": "stdout",
     "output_type": "stream",
     "text": [
      "<class 'pandas.core.frame.DataFrame'>\n",
      "Int64Index: 10 entries, 0 to 12\n",
      "Data columns (total 6 columns):\n",
      " #   Column           Non-Null Count  Dtype  \n",
      "---  ------           --------------  -----  \n",
      " 0   Duration         10 non-null     float64\n",
      " 1   Average_Pulse    10 non-null     float64\n",
      " 2   Max_Pulse        10 non-null     float64\n",
      " 3   Calorie_Burnage  10 non-null     float64\n",
      " 4   Hours_Work       10 non-null     float64\n",
      " 5   Hours_Sleep      10 non-null     float64\n",
      "dtypes: float64(6)\n",
      "memory usage: 560.0 bytes\n"
     ]
    }
   ],
   "source": [
    "dados[\"Average_Pulse\"] = dados['Average_Pulse'].astype(float)\n",
    "dados[\"Max_Pulse\"] = dados[\"Max_Pulse\"].astype(float)\n",
    "\n",
    "dados.info()"
   ]
  },
  {
   "cell_type": "markdown",
   "metadata": {},
   "source": [
    "Agora, o conjunto de dados tem apenas tipos de dados **float64**."
   ]
  },
  {
   "cell_type": "markdown",
   "metadata": {},
   "source": [
    "## Analisando os Dados\n",
    "\n",
    "Depois de limpar o conjunto de dados, podemos começar a analisar os dados.\n",
    "\n",
    "Podemos usar a função **describe()** para resumir os dados."
   ]
  },
  {
   "cell_type": "code",
   "execution_count": 26,
   "metadata": {},
   "outputs": [
    {
     "data": {
      "text/html": [
       "<div>\n",
       "<style scoped>\n",
       "    .dataframe tbody tr th:only-of-type {\n",
       "        vertical-align: middle;\n",
       "    }\n",
       "\n",
       "    .dataframe tbody tr th {\n",
       "        vertical-align: top;\n",
       "    }\n",
       "\n",
       "    .dataframe thead th {\n",
       "        text-align: right;\n",
       "    }\n",
       "</style>\n",
       "<table border=\"1\" class=\"dataframe\">\n",
       "  <thead>\n",
       "    <tr style=\"text-align: right;\">\n",
       "      <th></th>\n",
       "      <th>Duration</th>\n",
       "      <th>Average_Pulse</th>\n",
       "      <th>Max_Pulse</th>\n",
       "      <th>Calorie_Burnage</th>\n",
       "      <th>Hours_Work</th>\n",
       "      <th>Hours_Sleep</th>\n",
       "    </tr>\n",
       "  </thead>\n",
       "  <tbody>\n",
       "    <tr>\n",
       "      <th>count</th>\n",
       "      <td>10.000000</td>\n",
       "      <td>10.000000</td>\n",
       "      <td>10.000000</td>\n",
       "      <td>10.000000</td>\n",
       "      <td>10.000000</td>\n",
       "      <td>10.000000</td>\n",
       "    </tr>\n",
       "    <tr>\n",
       "      <th>mean</th>\n",
       "      <td>51.000000</td>\n",
       "      <td>102.500000</td>\n",
       "      <td>137.000000</td>\n",
       "      <td>285.000000</td>\n",
       "      <td>6.600000</td>\n",
       "      <td>7.500000</td>\n",
       "    </tr>\n",
       "    <tr>\n",
       "      <th>std</th>\n",
       "      <td>10.488088</td>\n",
       "      <td>15.138252</td>\n",
       "      <td>11.352924</td>\n",
       "      <td>30.276504</td>\n",
       "      <td>3.627059</td>\n",
       "      <td>0.527046</td>\n",
       "    </tr>\n",
       "    <tr>\n",
       "      <th>min</th>\n",
       "      <td>30.000000</td>\n",
       "      <td>80.000000</td>\n",
       "      <td>120.000000</td>\n",
       "      <td>240.000000</td>\n",
       "      <td>0.000000</td>\n",
       "      <td>7.000000</td>\n",
       "    </tr>\n",
       "    <tr>\n",
       "      <th>25%</th>\n",
       "      <td>45.000000</td>\n",
       "      <td>91.250000</td>\n",
       "      <td>130.000000</td>\n",
       "      <td>262.500000</td>\n",
       "      <td>7.000000</td>\n",
       "      <td>7.000000</td>\n",
       "    </tr>\n",
       "    <tr>\n",
       "      <th>50%</th>\n",
       "      <td>52.500000</td>\n",
       "      <td>102.500000</td>\n",
       "      <td>140.000000</td>\n",
       "      <td>285.000000</td>\n",
       "      <td>8.000000</td>\n",
       "      <td>7.500000</td>\n",
       "    </tr>\n",
       "    <tr>\n",
       "      <th>75%</th>\n",
       "      <td>60.000000</td>\n",
       "      <td>113.750000</td>\n",
       "      <td>145.000000</td>\n",
       "      <td>307.500000</td>\n",
       "      <td>8.000000</td>\n",
       "      <td>8.000000</td>\n",
       "    </tr>\n",
       "    <tr>\n",
       "      <th>max</th>\n",
       "      <td>60.000000</td>\n",
       "      <td>125.000000</td>\n",
       "      <td>150.000000</td>\n",
       "      <td>330.000000</td>\n",
       "      <td>10.000000</td>\n",
       "      <td>8.000000</td>\n",
       "    </tr>\n",
       "  </tbody>\n",
       "</table>\n",
       "</div>"
      ],
      "text/plain": [
       "        Duration  Average_Pulse   Max_Pulse  Calorie_Burnage  Hours_Work  \\\n",
       "count  10.000000      10.000000   10.000000        10.000000   10.000000   \n",
       "mean   51.000000     102.500000  137.000000       285.000000    6.600000   \n",
       "std    10.488088      15.138252   11.352924        30.276504    3.627059   \n",
       "min    30.000000      80.000000  120.000000       240.000000    0.000000   \n",
       "25%    45.000000      91.250000  130.000000       262.500000    7.000000   \n",
       "50%    52.500000     102.500000  140.000000       285.000000    8.000000   \n",
       "75%    60.000000     113.750000  145.000000       307.500000    8.000000   \n",
       "max    60.000000     125.000000  150.000000       330.000000   10.000000   \n",
       "\n",
       "       Hours_Sleep  \n",
       "count    10.000000  \n",
       "mean      7.500000  \n",
       "std       0.527046  \n",
       "min       7.000000  \n",
       "25%       7.000000  \n",
       "50%       7.500000  \n",
       "75%       8.000000  \n",
       "max       8.000000  "
      ]
     },
     "execution_count": 26,
     "metadata": {},
     "output_type": "execute_result"
    }
   ],
   "source": [
    "dados.describe()"
   ]
  },
  {
   "cell_type": "markdown",
   "metadata": {},
   "source": [
    "- **count** - conta o número de observações\n",
    "- **mean** - o valor médio\n",
    "- **std** - desvio padrão \n",
    "- **min** - o valor mais baixo\n",
    "- **max** - o valor mais alto\n",
    "- **25%**, **50%** e **75%** - são percentis"
   ]
  },
  {
   "cell_type": "markdown",
   "metadata": {},
   "source": [
    "## 25%, 50% e 75% - Percentis\n",
    "\n",
    "Os percentis são usados em estatísticas para fornecer um número que descreve o valor que uma determinada porcentagem dos valores é inferior.\n",
    "\n",
    "Vamos tentar explicar por alguns exemplos, usando **Average_Pulse**:\n",
    "\n",
    "- O percentil **25%** de **Average_Pulse** significa que 25% de todas as sessões de treinamento têm um pulso médio de 91.25 batimentos por minuto ou menos. Se invertermos a afirmação, isso significa que 75% de todas as sessões de treinamento têm um pulso médio de 91.25 batimentos por minuto ou mais\n",
    "- O percentil **75%** de **Average_Pulse** significa que 75% de toda a sessão de treinamento tem um pulso médio de 113.75 ou inferior. Se invertermos a afirmação, isso significa que 25% de todas as sessões de treinamento têm um pulso médio de 113.75 batimentos por minuto ou mais"
   ]
  },
  {
   "cell_type": "markdown",
   "metadata": {},
   "source": [
    "### Encontrando o percentil de 10% para Max_Pulse\n",
    "\n",
    "Para este exemplo vamos usar a biblioteca **NumPy**."
   ]
  },
  {
   "cell_type": "code",
   "execution_count": 28,
   "metadata": {},
   "outputs": [
    {
     "data": {
      "text/plain": [
       "120.0"
      ]
     },
     "execution_count": 28,
     "metadata": {},
     "output_type": "execute_result"
    }
   ],
   "source": [
    "import numpy as np\n",
    "\n",
    "percetile_10 = np.percentile(dados['Max_Pulse'],10)\n",
    "percetile_10"
   ]
  },
  {
   "cell_type": "markdown",
   "metadata": {},
   "source": [
    "## Desvio Padrão\n",
    "\n",
    "O desvio padrão é um número que descreve a dispersão das observações.\n",
    "\n",
    "Uma função matemática terá dificuldade em prever valores precisos, se as observações estiverem \"espalhadas\". \n",
    "\n",
    "O desvio padrão é uma medida de incerteza.\n",
    "\n",
    "Um desvio padrão baixo significa que a maioria dos números está próxima do valor médio (**média**).\n",
    "\n",
    "Um alto desvio padrão significa que os valores estão espalhados por uma faixa mais ampla.\n",
    "\n",
    "O **Desvio Padrão** é frequentemente representado pelo símbolo Sigma: $\\sigma$"
   ]
  },
  {
   "cell_type": "markdown",
   "metadata": {},
   "source": [
    "Podemos usar a função **std()** de NumPy para encontrar o desvio padrão de uma variável."
   ]
  },
  {
   "cell_type": "code",
   "execution_count": 34,
   "metadata": {},
   "outputs": [
    {
     "data": {
      "text/plain": [
       "Duration            9.949874\n",
       "Average_Pulse      14.361407\n",
       "Max_Pulse          10.770330\n",
       "Calorie_Burnage    28.722813\n",
       "Hours_Work          3.440930\n",
       "Hours_Sleep         0.500000\n",
       "dtype: float64"
      ]
     },
     "execution_count": 34,
     "metadata": {},
     "output_type": "execute_result"
    }
   ],
   "source": [
    "std = np.std(dados)\n",
    "std"
   ]
  },
  {
   "cell_type": "markdown",
   "metadata": {},
   "source": [
    "## Coeficiente de Variação\n",
    "\n",
    "O coeficiente de variação é usado para se ter uma ideia de quão grande é o desvio padrão.\n",
    "\n",
    "Matematicamente, o coeficiente de variação é definido como:\n",
    "\n",
    "`Coefficient of Variation = Standard Deviation / Mean`\n",
    "\n",
    "Podemos fazer isso em Python se prosseguirmos com o seguinte código."
   ]
  },
  {
   "cell_type": "code",
   "execution_count": 35,
   "metadata": {},
   "outputs": [
    {
     "name": "stdout",
     "output_type": "stream",
     "text": [
      "Duration           0.195096\n",
      "Average_Pulse      0.140111\n",
      "Max_Pulse          0.078616\n",
      "Calorie_Burnage    0.100782\n",
      "Hours_Work         0.521353\n",
      "Hours_Sleep        0.066667\n",
      "dtype: float64\n"
     ]
    }
   ],
   "source": [
    "cv = np.std(dados) / np.mean(dados)\n",
    "print(cv)"
   ]
  },
  {
   "cell_type": "markdown",
   "metadata": {},
   "source": [
    "## Variância\n",
    "\n",
    "A variância é outro número que indica a dispersão dos valores.\n",
    "\n",
    "Na verdade, se extrairmos a raiz quadrada da variância, vamos obter o **desvio padrão**. \n",
    "\n",
    "Ou o contrário, se multiplicarmos o desvio padrão por ele mesmo, obteremos a **variância**!"
   ]
  },
  {
   "cell_type": "markdown",
   "metadata": {},
   "source": [
    "Podemos usar a função **var()** de NumPy para encontrar a variância."
   ]
  },
  {
   "cell_type": "code",
   "execution_count": 36,
   "metadata": {},
   "outputs": [
    {
     "name": "stdout",
     "output_type": "stream",
     "text": [
      "Duration            99.00\n",
      "Average_Pulse      206.25\n",
      "Max_Pulse          116.00\n",
      "Calorie_Burnage    825.00\n",
      "Hours_Work          11.84\n",
      "Hours_Sleep          0.25\n",
      "dtype: float64\n"
     ]
    }
   ],
   "source": [
    "var = np.var(dados)\n",
    "print(var)"
   ]
  },
  {
   "cell_type": "markdown",
   "metadata": {},
   "source": [
    "## Correlação \n",
    "\n",
    "A correlação mede a relação entre duas variáveis.\n",
    "\n",
    "Mencionamos que uma função tem o propósito de prever um valor, convertendo a input(**x**) em output(**f(x)**). \n",
    "\n",
    "Podemos dizer também que uma função usa a relação entre duas variáveis para predição."
   ]
  },
  {
   "cell_type": "markdown",
   "metadata": {},
   "source": [
    "### Coeficiente de Correlação\n",
    "\n",
    "O coeficiente de correlação mede a relação entre duas variáveis.\n",
    "\n",
    "O coeficiente de correlação nunca pode ser menor que **-1** ou maior que **1**.\n",
    "\n",
    "- `1` = há uma relação linear perfeita entre as variáveis (como Average_Pulse contra Calorie_Burnage)\n",
    "- `0` = não há relação linear entre as variáveis\n",
    "- `-1` = há uma relação linear negativa perfeita entre as variáveis (por exemplo, menos horas trabalhadas, leva a uma maior queima de calorias durante uma sessão de treinamento)"
   ]
  },
  {
   "cell_type": "markdown",
   "metadata": {},
   "source": [
    "### Exemplo de uma relação linear perfeita (coeficiente de correlação = 1)\n",
    "\n",
    "Usaremos o gráfico de dispersão para visualizar a relação entre **Average_Pulse** e **Calorie_Burnage**\n",
    "\n",
    "Desta vez, queremos gráficos de dispersão, então mudamos o tipo para **\"scatter\"**."
   ]
  },
  {
   "cell_type": "code",
   "execution_count": 39,
   "metadata": {},
   "outputs": [
    {
     "data": {
      "image/png": "[encoded data removed]",
      "text/plain": [
       "<Figure size 432x288 with 1 Axes>"
      ]
     },
     "metadata": {
      "needs_background": "light"
     },
     "output_type": "display_data"
    }
   ],
   "source": [
    "import matplotlib.pyplot as plt\n",
    "\n",
    "dados.plot(x ='Average_Pulse', y='Calorie_Burnage', kind='scatter')\n",
    "plt.show()"
   ]
  },
  {
   "cell_type": "markdown",
   "metadata": {},
   "source": [
    "Como vimos anteriormente, existe uma relação linear perfeita entre **Average_Pulse** e **Calorie_Burnage**."
   ]
  },
  {
   "cell_type": "markdown",
   "metadata": {},
   "source": [
    "### Exemplo de uma relação linear negativa perfeita (coeficiente de correlação = -1)\n",
    "\n",
    "Usamos dados fictícios neste exemplo. \n",
    "\n",
    "- O **eixo x** representa a quantidade de horas trabalhadas em nosso trabalho antes de uma sessão de treinamento. \n",
    "\n",
    "- O **eixo y** é Calorie_Burnage.\n",
    "\n",
    "Se trabalharmos mais horas, tendemos a queimar menos calorias porque ficamos exaustos antes da sessão de treinamento.\n",
    "\n",
    "O coeficiente de correlação aqui é `-1`."
   ]
  },
  {
   "cell_type": "code",
   "execution_count": 40,
   "metadata": {},
   "outputs": [
    {
     "data": {
      "image/png": "[encoded data removed]",
      "text/plain": [
       "<Figure size 432x288 with 1 Axes>"
      ]
     },
     "metadata": {
      "needs_background": "light"
     },
     "output_type": "display_data"
    }
   ],
   "source": [
    "negative_corr = {\n",
    "    'Hours_Work_Before_Training': [10,9,8,7,6,5,4,3,2,1],\n",
    "    'Calorie_Burnage': [220,240,260,280,300,320,340,360,380,400]\n",
    "}\n",
    "negative_corr = pd.DataFrame(data=negative_corr)\n",
    "\n",
    "negative_corr.plot(x ='Hours_Work_Before_Training', y='Calorie_Burnage', kind='scatter')\n",
    "plt.show()"
   ]
  },
  {
   "cell_type": "markdown",
   "metadata": {},
   "source": [
    "### Exemplo de relação não linear (coeficiente de correlação = 0)\n",
    "\n",
    "Aqui, plotamos **Max_Pulse** em relação à **Duration**.\n",
    "\n",
    "Como você pode ver, não existe uma relação linear entre as duas variáveis. \n",
    "\n",
    "Isso significa que uma sessão de treinamento mais longa não leva a um **Max_Pulse** mais alto.\n",
    "\n",
    "O coeficiente de correlação aqui é `0`."
   ]
  },
  {
   "cell_type": "code",
   "execution_count": 41,
   "metadata": {},
   "outputs": [
    {
     "data": {
      "image/png": "[encoded data removed]",
      "text/plain": [
       "<Figure size 432x288 with 1 Axes>"
      ]
     },
     "metadata": {
      "needs_background": "light"
     },
     "output_type": "display_data"
    }
   ],
   "source": [
    "dados.plot(x ='Duration', y='Max_Pulse', kind='scatter')\n",
    "plt.show()"
   ]
  },
  {
   "cell_type": "markdown",
   "metadata": {},
   "source": [
    "## Matriz de Correlação\n",
    "\n",
    "Uma matriz é uma matriz de números organizados em **linhas** e **colunas**.\n",
    "\n",
    "Uma matriz de correlação é simplesmente uma tabela que mostra os coeficientes de correlação entre as variáveis.\n",
    "\n",
    "Aqui, as variáveis são representadas na primeira linha e na primeira coluna."
   ]
  },
  {
   "cell_type": "code",
   "execution_count": 44,
   "metadata": {},
   "outputs": [
    {
     "data": {
      "text/html": [
       "<div>\n",
       "<style scoped>\n",
       "    .dataframe tbody tr th:only-of-type {\n",
       "        vertical-align: middle;\n",
       "    }\n",
       "\n",
       "    .dataframe tbody tr th {\n",
       "        vertical-align: top;\n",
       "    }\n",
       "\n",
       "    .dataframe thead th {\n",
       "        text-align: right;\n",
       "    }\n",
       "</style>\n",
       "<table border=\"1\" class=\"dataframe\">\n",
       "  <thead>\n",
       "    <tr style=\"text-align: right;\">\n",
       "      <th></th>\n",
       "      <th>Duration</th>\n",
       "      <th>Average_Pulse</th>\n",
       "      <th>Max_Pulse</th>\n",
       "      <th>Calorie_Burnage</th>\n",
       "      <th>Hours_Work</th>\n",
       "      <th>Hours_Sleep</th>\n",
       "    </tr>\n",
       "  </thead>\n",
       "  <tbody>\n",
       "    <tr>\n",
       "      <th>Duration</th>\n",
       "      <td>1.000000</td>\n",
       "      <td>0.968330</td>\n",
       "      <td>0.951405</td>\n",
       "      <td>0.968330</td>\n",
       "      <td>-0.425423</td>\n",
       "      <td>0.878310</td>\n",
       "    </tr>\n",
       "    <tr>\n",
       "      <th>Average_Pulse</th>\n",
       "      <td>0.968330</td>\n",
       "      <td>1.000000</td>\n",
       "      <td>0.969762</td>\n",
       "      <td>1.000000</td>\n",
       "      <td>-0.424958</td>\n",
       "      <td>0.870388</td>\n",
       "    </tr>\n",
       "    <tr>\n",
       "      <th>Max_Pulse</th>\n",
       "      <td>0.951405</td>\n",
       "      <td>0.969762</td>\n",
       "      <td>1.000000</td>\n",
       "      <td>0.969762</td>\n",
       "      <td>-0.558554</td>\n",
       "      <td>0.835629</td>\n",
       "    </tr>\n",
       "    <tr>\n",
       "      <th>Calorie_Burnage</th>\n",
       "      <td>0.968330</td>\n",
       "      <td>1.000000</td>\n",
       "      <td>0.969762</td>\n",
       "      <td>1.000000</td>\n",
       "      <td>-0.424958</td>\n",
       "      <td>0.870388</td>\n",
       "    </tr>\n",
       "    <tr>\n",
       "      <th>Hours_Work</th>\n",
       "      <td>-0.425423</td>\n",
       "      <td>-0.424958</td>\n",
       "      <td>-0.558554</td>\n",
       "      <td>-0.424958</td>\n",
       "      <td>1.000000</td>\n",
       "      <td>-0.174371</td>\n",
       "    </tr>\n",
       "    <tr>\n",
       "      <th>Hours_Sleep</th>\n",
       "      <td>0.878310</td>\n",
       "      <td>0.870388</td>\n",
       "      <td>0.835629</td>\n",
       "      <td>0.870388</td>\n",
       "      <td>-0.174371</td>\n",
       "      <td>1.000000</td>\n",
       "    </tr>\n",
       "  </tbody>\n",
       "</table>\n",
       "</div>"
      ],
      "text/plain": [
       "                 Duration  Average_Pulse  Max_Pulse  Calorie_Burnage  \\\n",
       "Duration         1.000000       0.968330   0.951405         0.968330   \n",
       "Average_Pulse    0.968330       1.000000   0.969762         1.000000   \n",
       "Max_Pulse        0.951405       0.969762   1.000000         0.969762   \n",
       "Calorie_Burnage  0.968330       1.000000   0.969762         1.000000   \n",
       "Hours_Work      -0.425423      -0.424958  -0.558554        -0.424958   \n",
       "Hours_Sleep      0.878310       0.870388   0.835629         0.870388   \n",
       "\n",
       "                 Hours_Work  Hours_Sleep  \n",
       "Duration          -0.425423     0.878310  \n",
       "Average_Pulse     -0.424958     0.870388  \n",
       "Max_Pulse         -0.558554     0.835629  \n",
       "Calorie_Burnage   -0.424958     0.870388  \n",
       "Hours_Work         1.000000    -0.174371  \n",
       "Hours_Sleep       -0.174371     1.000000  "
      ]
     },
     "execution_count": 44,
     "metadata": {},
     "output_type": "execute_result"
    }
   ],
   "source": [
    "df.corr()"
   ]
  },
  {
   "cell_type": "markdown",
   "metadata": {},
   "source": [
    "Observações:\n",
    "\n",
    "- Observamos que **Duration** e **Calorie_Burnage** estão intimamente relacionados, com um coeficiente de correlação de 0.968330 (Isso faz sentido, pois quanto mais treinamos, mais calorias queimamos)\n",
    "- Observamos que não há relações lineares entre **Hours_Sleep** e **Hours_Work** (coeficiente de correlação de -0.174371)"
   ]
  },
  {
   "cell_type": "markdown",
   "metadata": {},
   "source": [
    "Podemos usar a função **corr()** para criar uma matriz de correlação. \n",
    "\n",
    "Também usamos a função **round()** para arredondar o output para duas casas decimais."
   ]
  },
  {
   "cell_type": "code",
   "execution_count": 46,
   "metadata": {},
   "outputs": [
    {
     "data": {
      "text/html": [
       "<div>\n",
       "<style scoped>\n",
       "    .dataframe tbody tr th:only-of-type {\n",
       "        vertical-align: middle;\n",
       "    }\n",
       "\n",
       "    .dataframe tbody tr th {\n",
       "        vertical-align: top;\n",
       "    }\n",
       "\n",
       "    .dataframe thead th {\n",
       "        text-align: right;\n",
       "    }\n",
       "</style>\n",
       "<table border=\"1\" class=\"dataframe\">\n",
       "  <thead>\n",
       "    <tr style=\"text-align: right;\">\n",
       "      <th></th>\n",
       "      <th>Duration</th>\n",
       "      <th>Average_Pulse</th>\n",
       "      <th>Max_Pulse</th>\n",
       "      <th>Calorie_Burnage</th>\n",
       "      <th>Hours_Work</th>\n",
       "      <th>Hours_Sleep</th>\n",
       "    </tr>\n",
       "  </thead>\n",
       "  <tbody>\n",
       "    <tr>\n",
       "      <th>Duration</th>\n",
       "      <td>1.00</td>\n",
       "      <td>0.97</td>\n",
       "      <td>0.95</td>\n",
       "      <td>0.97</td>\n",
       "      <td>-0.43</td>\n",
       "      <td>0.88</td>\n",
       "    </tr>\n",
       "    <tr>\n",
       "      <th>Average_Pulse</th>\n",
       "      <td>0.97</td>\n",
       "      <td>1.00</td>\n",
       "      <td>0.97</td>\n",
       "      <td>1.00</td>\n",
       "      <td>-0.42</td>\n",
       "      <td>0.87</td>\n",
       "    </tr>\n",
       "    <tr>\n",
       "      <th>Max_Pulse</th>\n",
       "      <td>0.95</td>\n",
       "      <td>0.97</td>\n",
       "      <td>1.00</td>\n",
       "      <td>0.97</td>\n",
       "      <td>-0.56</td>\n",
       "      <td>0.84</td>\n",
       "    </tr>\n",
       "    <tr>\n",
       "      <th>Calorie_Burnage</th>\n",
       "      <td>0.97</td>\n",
       "      <td>1.00</td>\n",
       "      <td>0.97</td>\n",
       "      <td>1.00</td>\n",
       "      <td>-0.42</td>\n",
       "      <td>0.87</td>\n",
       "    </tr>\n",
       "    <tr>\n",
       "      <th>Hours_Work</th>\n",
       "      <td>-0.43</td>\n",
       "      <td>-0.42</td>\n",
       "      <td>-0.56</td>\n",
       "      <td>-0.42</td>\n",
       "      <td>1.00</td>\n",
       "      <td>-0.17</td>\n",
       "    </tr>\n",
       "    <tr>\n",
       "      <th>Hours_Sleep</th>\n",
       "      <td>0.88</td>\n",
       "      <td>0.87</td>\n",
       "      <td>0.84</td>\n",
       "      <td>0.87</td>\n",
       "      <td>-0.17</td>\n",
       "      <td>1.00</td>\n",
       "    </tr>\n",
       "  </tbody>\n",
       "</table>\n",
       "</div>"
      ],
      "text/plain": [
       "                 Duration  Average_Pulse  Max_Pulse  Calorie_Burnage  \\\n",
       "Duration             1.00           0.97       0.95             0.97   \n",
       "Average_Pulse        0.97           1.00       0.97             1.00   \n",
       "Max_Pulse            0.95           0.97       1.00             0.97   \n",
       "Calorie_Burnage      0.97           1.00       0.97             1.00   \n",
       "Hours_Work          -0.43          -0.42      -0.56            -0.42   \n",
       "Hours_Sleep          0.88           0.87       0.84             0.87   \n",
       "\n",
       "                 Hours_Work  Hours_Sleep  \n",
       "Duration              -0.43         0.88  \n",
       "Average_Pulse         -0.42         0.87  \n",
       "Max_Pulse             -0.56         0.84  \n",
       "Calorie_Burnage       -0.42         0.87  \n",
       "Hours_Work             1.00        -0.17  \n",
       "Hours_Sleep           -0.17         1.00  "
      ]
     },
     "execution_count": 46,
     "metadata": {},
     "output_type": "execute_result"
    }
   ],
   "source": [
    "corr_matrix = round(df.corr(),2)\n",
    "corr_matrix"
   ]
  },
  {
   "cell_type": "markdown",
   "metadata": {},
   "source": [
    "## Usando um Heatmap\n",
    "\n",
    "Podemos usar um Heatmap para visualizar a correlação entre as variáveis."
   ]
  },
  {
   "cell_type": "code",
   "execution_count": 48,
   "metadata": {},
   "outputs": [
    {
     "data": {
      "image/png": "[encoded data removed]",
      "text/plain": [
       "<Figure size 432x288 with 2 Axes>"
      ]
     },
     "metadata": {
      "needs_background": "light"
     },
     "output_type": "display_data"
    }
   ],
   "source": [
    "import seaborn as sns\n",
    "\n",
    "corr = dados.corr()\n",
    "\n",
    "axis_corr = sns.heatmap(\n",
    "    corr,\n",
    "    vmin=-1, vmax=1, center=0,\n",
    "    cmap=sns.diverging_palette(50, 500, n=500),\n",
    "    square=True\n",
    ")\n",
    "\n",
    "plt.show()"
   ]
  },
  {
   "cell_type": "markdown",
   "metadata": {},
   "source": [
    "- Quanto mais próximo o coeficiente de correlação estiver de 1, mais verdes ficarão os quadrados.\n",
    "\n",
    "- Quanto mais próximo o coeficiente de correlação estiver de -1, mais castanhos ficarão os quadrados."
   ]
  }
 ],
 "metadata": {
  "kernelspec": {
   "display_name": "Python 3",
   "language": "python",
   "name": "python3"
  },
  "language_info": {
   "codemirror_mode": {
    "name": "ipython",
    "version": 3
   },
   "file_extension": ".py",
   "mimetype": "text/x-python",
   "name": "python",
   "nbconvert_exporter": "python",
   "pygments_lexer": "ipython3",
   "version": "3.7.7"
  }
 },
 "nbformat": 4,
 "nbformat_minor": 4
}
