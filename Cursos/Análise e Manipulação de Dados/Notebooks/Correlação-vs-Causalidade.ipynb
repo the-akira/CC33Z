{
 "cells": [
  {
   "cell_type": "markdown",
   "metadata": {},
   "source": [
    "# Correlação vs Causalidade\n",
    "\n",
    "## Correlação Não Implica Causalidade\n",
    "\n",
    "A correlação mede a relação numérica entre duas variáveis.\n",
    "\n",
    "Um alto coeficiente de correlação (próximo a 1), não significa que podemos com certeza concluir uma relação real entre duas variáveis.\n",
    "\n",
    "Um exemplo clássico:\n",
    "\n",
    "- Durante o verão, a venda de sorvete na praia aumenta\n",
    "- Simultaneamente, os acidentes por afogamento também aumentam\n",
    "\n",
    "Isso significa que o aumento da venda de sorvetes é uma causa direta do aumento de acidentes por afogamento? "
   ]
  },
  {
   "cell_type": "markdown",
   "metadata": {},
   "source": [
    "### O Exemplo da Praia em Python\n",
    "\n",
    "Vamos construir um conjunto de dados fictício para este exemplo."
   ]
  },
  {
   "cell_type": "code",
   "execution_count": 19,
   "metadata": {},
   "outputs": [
    {
     "data": {
      "image/png": "[encoded data removed]",
      "text/plain": [
       "<Figure size 576x432 with 1 Axes>"
      ]
     },
     "metadata": {
      "needs_background": "light"
     },
     "output_type": "display_data"
    }
   ],
   "source": [
    "import pandas as pd\n",
    "import matplotlib.pyplot as plt\n",
    "\n",
    "acidentes_afogamento = [20,40,60,80,100,120,140,160,180,200]\n",
    "vendas_sorvetes = [20,40,60,80,100,120,140,160,180,200]\n",
    "\n",
    "dados = {\n",
    "    \"Drowning_Accident\": acidentes_afogamento,\n",
    "    \"Ice_Cream_Sale\": vendas_sorvetes\n",
    "}\n",
    "\n",
    "df = pd.DataFrame(data=dados)\n",
    "df.plot(x=\"Ice_Cream_Sale\", y=\"Drowning_Accident\", kind=\"scatter\", s=40, color='green', figsize=(8,6));\n",
    "plt.grid()"
   ]
  },
  {
   "cell_type": "code",
   "execution_count": 21,
   "metadata": {},
   "outputs": [
    {
     "data": {
      "text/html": [
       "<div>\n",
       "<style scoped>\n",
       "    .dataframe tbody tr th:only-of-type {\n",
       "        vertical-align: middle;\n",
       "    }\n",
       "\n",
       "    .dataframe tbody tr th {\n",
       "        vertical-align: top;\n",
       "    }\n",
       "\n",
       "    .dataframe thead th {\n",
       "        text-align: right;\n",
       "    }\n",
       "</style>\n",
       "<table border=\"1\" class=\"dataframe\">\n",
       "  <thead>\n",
       "    <tr style=\"text-align: right;\">\n",
       "      <th></th>\n",
       "      <th>Drowning_Accident</th>\n",
       "      <th>Ice_Cream_Sale</th>\n",
       "    </tr>\n",
       "  </thead>\n",
       "  <tbody>\n",
       "    <tr>\n",
       "      <th>Drowning_Accident</th>\n",
       "      <td>1.0</td>\n",
       "      <td>1.0</td>\n",
       "    </tr>\n",
       "    <tr>\n",
       "      <th>Ice_Cream_Sale</th>\n",
       "      <td>1.0</td>\n",
       "      <td>1.0</td>\n",
       "    </tr>\n",
       "  </tbody>\n",
       "</table>\n",
       "</div>"
      ],
      "text/plain": [
       "                   Drowning_Accident  Ice_Cream_Sale\n",
       "Drowning_Accident                1.0             1.0\n",
       "Ice_Cream_Sale                   1.0             1.0"
      ]
     },
     "execution_count": 21,
     "metadata": {},
     "output_type": "execute_result"
    }
   ],
   "source": [
    "correlação_praia = df.corr()\n",
    "correlação_praia"
   ]
  },
  {
   "cell_type": "markdown",
   "metadata": {},
   "source": [
    "### Explicando o Exemplo\n",
    "\n",
    "Em outras palavras: podemos usar a venda de sorvete para prever acidentes de afogamento?\n",
    "\n",
    "A resposta é: **provavelmente não**.\n",
    "\n",
    "É provável que essas duas variáveis estejam acidentalmente correlacionadas uma com a outra.\n",
    "\n",
    "O que causa o afogamento então?\n",
    "\n",
    "- Nadadores não qualificados\n",
    "- Ondas\n",
    "- Cãibra\n",
    "- Distúrbios convulsivos\n",
    "- Falta de supervisão\n",
    "- Uso (impróprio) de álcool\n",
    "- Etc"
   ]
  },
  {
   "cell_type": "markdown",
   "metadata": {},
   "source": [
    "Vamos inverter o argumento:\n",
    "\n",
    "Um coeficiente de correlação baixo (próximo de zero) significa que a mudança em x não afeta y?\n",
    "\n",
    "De volta à pergunta:\n",
    "\n",
    "Podemos concluir que Average_Pulse não afeta Calorie_Burnage por causa de um baixo coeficiente de correlação?\n",
    "\n",
    "A resposta é: **não**.\n",
    "\n",
    "Há uma diferença importante entre correlação e causalidade:\n",
    "\n",
    "- Correlação é um número que mede o quão intimamente os dados estão relacionados\n",
    "- Causalidade é a conclusão de que **x** causa **y**.\n",
    "\n",
    "Portanto, é importante refletir criticamente sobre o conceito de causalidade quando fazemos previsões!"
   ]
  }
 ],
 "metadata": {
  "kernelspec": {
   "display_name": "Python 3",
   "language": "python",
   "name": "python3"
  },
  "language_info": {
   "codemirror_mode": {
    "name": "ipython",
    "version": 3
   },
   "file_extension": ".py",
   "mimetype": "text/x-python",
   "name": "python",
   "nbconvert_exporter": "python",
   "pygments_lexer": "ipython3",
   "version": "3.7.7"
  }
 },
 "nbformat": 4,
 "nbformat_minor": 4
}
