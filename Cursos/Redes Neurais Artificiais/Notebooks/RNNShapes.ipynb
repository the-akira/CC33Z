{
  "nbformat": 4,
  "nbformat_minor": 0,
  "metadata": {
    "colab": {
      "name": "RNNShapes.ipynb",
      "provenance": [],
      "collapsed_sections": []
    },
    "kernelspec": {
      "name": "python3",
      "display_name": "Python 3"
    },
    "language_info": {
      "name": "python"
    }
  },
  "cells": [
    {
      "cell_type": "markdown",
      "metadata": {
        "id": "xACnMujLGe-3"
      },
      "source": [
        "# Compreendendo a Forma das RNN's\n",
        "\n",
        "Neste notebook, vamos compreender a forma (**shape**) dos dados para que possamos trabalhar adequadamente com as RNN's.\n",
        "\n",
        "Algumas nomenclaturas importantes:\n",
        "\n",
        "- **N** = número de amostras\n",
        "- **T** = comprimento da sequência\n",
        "- **D** = número de features de input\n",
        "- **M** = número de hidden units\n",
        "- **K** = número de output units"
      ]
    },
    {
      "cell_type": "code",
      "metadata": {
        "id": "e90Bq1yAG-Dk"
      },
      "source": [
        "import torch\n",
        "import torch.nn as nn\n",
        "import numpy as np\n",
        "import matplotlib.pyplot as plt"
      ],
      "execution_count": 1,
      "outputs": []
    },
    {
      "cell_type": "markdown",
      "metadata": {
        "id": "63Pii2fIIdEt"
      },
      "source": [
        "Criamos dados sintéticos para o nosso experimento:"
      ]
    },
    {
      "cell_type": "code",
      "metadata": {
        "colab": {
          "base_uri": "https://localhost:8080/"
        },
        "id": "t-I0EOYxIql9",
        "outputId": "a32abb4d-d998-4574-88c8-2275a6141f92"
      },
      "source": [
        "N = 1\n",
        "T = 10\n",
        "D = 3\n",
        "M = 5\n",
        "K = 2\n",
        "X = np.random.randn(N, T, D)\n",
        "print(X)"
      ],
      "execution_count": 2,
      "outputs": [
        {
          "output_type": "stream",
          "text": [
            "[[[-0.00943505 -1.32602294  0.44338797]\n",
            "  [ 0.83251681  0.70938055  1.37799121]\n",
            "  [ 0.85904206  0.69557623  2.63294845]\n",
            "  [ 1.15123266  1.82088775  0.3270658 ]\n",
            "  [ 1.50675687 -2.3714614   0.40914567]\n",
            "  [-0.65683853  1.19596887 -0.08413552]\n",
            "  [ 0.40377389  1.61672659  1.43369377]\n",
            "  [ 0.10751359 -0.73816713  0.29595958]\n",
            "  [-0.51243643 -0.61586604  0.12251861]\n",
            "  [-1.56424461  0.13736604 -0.39195131]]]\n"
          ],
          "name": "stdout"
        }
      ]
    },
    {
      "cell_type": "markdown",
      "metadata": {
        "id": "VxpGZtjMRtP1"
      },
      "source": [
        "Construímos a RNN:"
      ]
    },
    {
      "cell_type": "code",
      "metadata": {
        "id": "qpXl-oa2Ruq9"
      },
      "source": [
        "class SimpleRNN(nn.Module):\n",
        "    def __init__(self, n_inputs, n_hidden, n_outputs):\n",
        "        super(SimpleRNN, self).__init__()\n",
        "        self.D = n_inputs\n",
        "        self.M = n_hidden\n",
        "        self.K = n_outputs\n",
        "        self.rnn = nn.RNN(\n",
        "            input_size=self.D,\n",
        "            hidden_size=self.M,\n",
        "            nonlinearity='tanh',\n",
        "            batch_first=True)\n",
        "        self.fc = nn.Linear(self.M, self.K)\n",
        "\n",
        "    def forward(self, X):\n",
        "        # initial hidden states\n",
        "        h0 = torch.zeros(1, X.size(0), self.M)\n",
        "\n",
        "        # get RNN unit output\n",
        "        out, _ = self.rnn(X, h0)\n",
        "\n",
        "        # we only want h(T) at the final time step\n",
        "        # out = self.fc(out[:, -1, :])\n",
        "        out = self.fc(out)\n",
        "        return out"
      ],
      "execution_count": 3,
      "outputs": []
    },
    {
      "cell_type": "markdown",
      "metadata": {
        "id": "yKJX-XY1R3C5"
      },
      "source": [
        "Instanciamos o modelo:"
      ]
    },
    {
      "cell_type": "code",
      "metadata": {
        "id": "n9Msp2HgR4ub"
      },
      "source": [
        "model = SimpleRNN(n_inputs=D, n_hidden=M, n_outputs=K)"
      ],
      "execution_count": 4,
      "outputs": []
    },
    {
      "cell_type": "markdown",
      "metadata": {
        "id": "gqA1MNBQR7d2"
      },
      "source": [
        "Obtemos o *output*:"
      ]
    },
    {
      "cell_type": "code",
      "metadata": {
        "colab": {
          "base_uri": "https://localhost:8080/"
        },
        "id": "GJLiHDYlR-E9",
        "outputId": "5669bbb0-35d3-4af9-f9f7-55e5873743fe"
      },
      "source": [
        "inputs = torch.from_numpy(X.astype(np.float32))\n",
        "out = model(inputs)\n",
        "print(out)"
      ],
      "execution_count": 5,
      "outputs": [
        {
          "output_type": "stream",
          "text": [
            "tensor([[[-0.2869,  0.3848],\n",
            "         [-0.4218,  0.2541],\n",
            "         [-0.4719,  0.2888],\n",
            "         [-0.1923, -0.0218],\n",
            "         [-0.0209,  0.3298],\n",
            "         [-0.2076,  0.0873],\n",
            "         [-0.3614,  0.0780],\n",
            "         [-0.1170,  0.0927],\n",
            "         [-0.0999,  0.1863],\n",
            "         [-0.0784, -0.0010]]], grad_fn=<AddBackward0>)\n"
          ],
          "name": "stdout"
        }
      ]
    },
    {
      "cell_type": "markdown",
      "metadata": {
        "id": "8oZtZ5_SSDSd"
      },
      "source": [
        "Acessamos o atributo **shape**:"
      ]
    },
    {
      "cell_type": "code",
      "metadata": {
        "colab": {
          "base_uri": "https://localhost:8080/"
        },
        "id": "2tK3JwFESE0v",
        "outputId": "ca5502c9-51f7-4ed3-8e39-8156fda92430"
      },
      "source": [
        "print(out.shape)"
      ],
      "execution_count": 6,
      "outputs": [
        {
          "output_type": "stream",
          "text": [
            "torch.Size([1, 10, 2])\n"
          ],
          "name": "stdout"
        }
      ]
    },
    {
      "cell_type": "markdown",
      "metadata": {
        "id": "B9Idkqe8SMX9"
      },
      "source": [
        "Salvamos o *output* para uso posterior:"
      ]
    },
    {
      "cell_type": "code",
      "metadata": {
        "colab": {
          "base_uri": "https://localhost:8080/"
        },
        "id": "cKQDnmyySFtT",
        "outputId": "4dd3349b-6a42-44e3-b19b-a479cad6159f"
      },
      "source": [
        "Yhats_torch = out.detach().numpy()\n",
        "print(Yhats_torch)"
      ],
      "execution_count": 7,
      "outputs": [
        {
          "output_type": "stream",
          "text": [
            "[[[-0.2868827   0.38481712]\n",
            "  [-0.4218371   0.25413838]\n",
            "  [-0.47191644  0.28883094]\n",
            "  [-0.19227447 -0.02184061]\n",
            "  [-0.02091083  0.32980207]\n",
            "  [-0.20760347  0.08731602]\n",
            "  [-0.36137658  0.07796021]\n",
            "  [-0.11702731  0.0926653 ]\n",
            "  [-0.09993263  0.18629757]\n",
            "  [-0.07844485 -0.0009826 ]]]\n"
          ],
          "name": "stdout"
        }
      ]
    },
    {
      "cell_type": "markdown",
      "metadata": {
        "id": "qpcQKlyRU7Sb"
      },
      "source": [
        "Obtemos os parâmetros da RNN:"
      ]
    },
    {
      "cell_type": "code",
      "metadata": {
        "colab": {
          "base_uri": "https://localhost:8080/"
        },
        "id": "5rD4gozeVOMC",
        "outputId": "cc4a2255-ea57-4d09-b516-9e56e0724c2d"
      },
      "source": [
        "W_xh, W_hh, b_xh, b_hh = model.rnn.parameters()\n",
        "\n",
        "print(W_xh.shape)\n",
        "print(W_xh)"
      ],
      "execution_count": 10,
      "outputs": [
        {
          "output_type": "stream",
          "text": [
            "torch.Size([5, 3])\n",
            "Parameter containing:\n",
            "tensor([[-0.1637, -0.3728, -0.2261],\n",
            "        [-0.0897, -0.3706, -0.1556],\n",
            "        [ 0.3651, -0.3630, -0.1952],\n",
            "        [-0.0349, -0.2168,  0.2665],\n",
            "        [-0.0537,  0.0343, -0.0485]], requires_grad=True)\n"
          ],
          "name": "stdout"
        }
      ]
    },
    {
      "cell_type": "markdown",
      "metadata": {
        "id": "dUT32wPAVf-G"
      },
      "source": [
        "Convertemos os parâmetros para NumPy:"
      ]
    },
    {
      "cell_type": "code",
      "metadata": {
        "id": "c_ZSh9CwVj1n"
      },
      "source": [
        "W_xh = W_xh.data.numpy()\n",
        "b_xh = b_xh.data.numpy()\n",
        "W_hh = W_hh.data.numpy()\n",
        "b_hh = b_hh.data.numpy()"
      ],
      "execution_count": 11,
      "outputs": []
    },
    {
      "cell_type": "markdown",
      "metadata": {
        "id": "h6AfLzDEVrDB"
      },
      "source": [
        "Vejamos se está correto:"
      ]
    },
    {
      "cell_type": "code",
      "metadata": {
        "colab": {
          "base_uri": "https://localhost:8080/"
        },
        "id": "6j2ViaJtVvSI",
        "outputId": "44a97173-1553-4be6-f38e-125ce74a8232"
      },
      "source": [
        "W_xh.shape, b_xh.shape, W_hh.shape, b_hh.shape"
      ],
      "execution_count": 12,
      "outputs": [
        {
          "output_type": "execute_result",
          "data": {
            "text/plain": [
              "((5, 3), (5,), (5, 5), (5,))"
            ]
          },
          "metadata": {
            "tags": []
          },
          "execution_count": 12
        }
      ]
    },
    {
      "cell_type": "markdown",
      "metadata": {
        "id": "LHliyOl3V4jt"
      },
      "source": [
        "Também iremos obter os parâmetros da Fully Connected Layer (FC Layer):"
      ]
    },
    {
      "cell_type": "code",
      "metadata": {
        "id": "DvN4wQGQWBCC"
      },
      "source": [
        "Wo, bo = model.fc.parameters()"
      ],
      "execution_count": 13,
      "outputs": []
    },
    {
      "cell_type": "markdown",
      "metadata": {
        "id": "k6xteNTrWNvj"
      },
      "source": [
        "E convertemos eles para NumPy:"
      ]
    },
    {
      "cell_type": "code",
      "metadata": {
        "colab": {
          "base_uri": "https://localhost:8080/"
        },
        "id": "S6oqQMQ7WP4d",
        "outputId": "991ec1d3-8739-4fb7-c47f-ea23b7220213"
      },
      "source": [
        "Wo = Wo.data.numpy()\n",
        "bo = bo.data.numpy()\n",
        "Wo.shape, bo.shape"
      ],
      "execution_count": 14,
      "outputs": [
        {
          "output_type": "execute_result",
          "data": {
            "text/plain": [
              "((2, 5), (2,))"
            ]
          },
          "metadata": {
            "tags": []
          },
          "execution_count": 14
        }
      ]
    },
    {
      "cell_type": "markdown",
      "metadata": {
        "id": "4YGcFsR0WTBb"
      },
      "source": [
        "Vejamos se podemos replicar o *output* com os parâmetros:"
      ]
    },
    {
      "cell_type": "code",
      "metadata": {
        "id": "lTc3PHEyWWFO"
      },
      "source": [
        "h_last = np.zeros(M) # initial hidden state\n",
        "x = X[0] # the one and only sample\n",
        "Yhats = np.zeros((T, K)) # where we store the outputs\n",
        "\n",
        "for t in range(T):\n",
        "    h = np.tanh(x[t].dot(W_xh.T) + b_xh + h_last.dot(W_hh.T) + b_hh)\n",
        "    y = h.dot(Wo.T) + bo # we only care about this value on the last iteration\n",
        "    Yhats[t] = y\n",
        "\n",
        "    # important: assign h to h_last\n",
        "    h_last = h"
      ],
      "execution_count": 15,
      "outputs": []
    },
    {
      "cell_type": "markdown",
      "metadata": {
        "id": "X_MxZKA8Wgl0"
      },
      "source": [
        "Imprimimos o *output* final:"
      ]
    },
    {
      "cell_type": "code",
      "metadata": {
        "colab": {
          "base_uri": "https://localhost:8080/"
        },
        "id": "6ij9uAnKWjEX",
        "outputId": "48d7e386-2652-4387-e41a-30519e0c5dcc"
      },
      "source": [
        "print(Yhats)"
      ],
      "execution_count": 16,
      "outputs": [
        {
          "output_type": "stream",
          "text": [
            "[[-0.28688266  0.38481712]\n",
            " [-0.42183714  0.25413839]\n",
            " [-0.47191646  0.28883093]\n",
            " [-0.19227447 -0.02184063]\n",
            " [-0.02091083  0.32980204]\n",
            " [-0.20760349  0.087316  ]\n",
            " [-0.36137659  0.07796023]\n",
            " [-0.1170273   0.09266529]\n",
            " [-0.09993263  0.18629755]\n",
            " [-0.07844485 -0.0009826 ]]\n"
          ],
          "name": "stdout"
        }
      ]
    },
    {
      "cell_type": "markdown",
      "metadata": {
        "id": "42FVFJOTWmnZ"
      },
      "source": [
        "Por fim, checamos se está correto:"
      ]
    },
    {
      "cell_type": "code",
      "metadata": {
        "colab": {
          "base_uri": "https://localhost:8080/"
        },
        "id": "Ak-x80QIWqTx",
        "outputId": "5f3a2f74-4355-4e09-bd39-02a69f43f9cb"
      },
      "source": [
        "np.allclose(Yhats, Yhats_torch)"
      ],
      "execution_count": 17,
      "outputs": [
        {
          "output_type": "execute_result",
          "data": {
            "text/plain": [
              "True"
            ]
          },
          "metadata": {
            "tags": []
          },
          "execution_count": 17
        }
      ]
    }
  ]
}