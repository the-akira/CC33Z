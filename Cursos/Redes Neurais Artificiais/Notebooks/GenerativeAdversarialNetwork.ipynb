{
  "nbformat": 4,
  "nbformat_minor": 0,
  "metadata": {
    "colab": {
      "name": "GenerativeAdversarialNetwork.ipynb",
      "provenance": [],
      "collapsed_sections": []
    },
    "kernelspec": {
      "name": "python3",
      "display_name": "Python 3"
    },
    "language_info": {
      "name": "python"
    },
    "accelerator": "GPU",
    "widgets": {
      "application/vnd.jupyter.widget-state+json": {
        "bfd73b03aa1b46fd8d726c5a733df5c7": {
          "model_module": "@jupyter-widgets/controls",
          "model_name": "HBoxModel",
          "state": {
            "_view_name": "HBoxView",
            "_dom_classes": [],
            "_model_name": "HBoxModel",
            "_view_module": "@jupyter-widgets/controls",
            "_model_module_version": "1.5.0",
            "_view_count": null,
            "_view_module_version": "1.5.0",
            "box_style": "",
            "layout": "IPY_MODEL_df9f13ca469b4cc2b7c82c6fa4b7e2e1",
            "_model_module": "@jupyter-widgets/controls",
            "children": [
              "IPY_MODEL_1aa844ecda8c4b6ca9fdeddbc781c496",
              "IPY_MODEL_7ae0b3b900554974bff8c04f88ace9ee"
            ]
          }
        },
        "df9f13ca469b4cc2b7c82c6fa4b7e2e1": {
          "model_module": "@jupyter-widgets/base",
          "model_name": "LayoutModel",
          "state": {
            "_view_name": "LayoutView",
            "grid_template_rows": null,
            "right": null,
            "justify_content": null,
            "_view_module": "@jupyter-widgets/base",
            "overflow": null,
            "_model_module_version": "1.2.0",
            "_view_count": null,
            "flex_flow": null,
            "width": null,
            "min_width": null,
            "border": null,
            "align_items": null,
            "bottom": null,
            "_model_module": "@jupyter-widgets/base",
            "top": null,
            "grid_column": null,
            "overflow_y": null,
            "overflow_x": null,
            "grid_auto_flow": null,
            "grid_area": null,
            "grid_template_columns": null,
            "flex": null,
            "_model_name": "LayoutModel",
            "justify_items": null,
            "grid_row": null,
            "max_height": null,
            "align_content": null,
            "visibility": null,
            "align_self": null,
            "height": null,
            "min_height": null,
            "padding": null,
            "grid_auto_rows": null,
            "grid_gap": null,
            "max_width": null,
            "order": null,
            "_view_module_version": "1.2.0",
            "grid_template_areas": null,
            "object_position": null,
            "object_fit": null,
            "grid_auto_columns": null,
            "margin": null,
            "display": null,
            "left": null
          }
        },
        "1aa844ecda8c4b6ca9fdeddbc781c496": {
          "model_module": "@jupyter-widgets/controls",
          "model_name": "FloatProgressModel",
          "state": {
            "_view_name": "ProgressView",
            "style": "IPY_MODEL_e7ac197c718b46f69dd64a974fe00d13",
            "_dom_classes": [],
            "description": "",
            "_model_name": "FloatProgressModel",
            "bar_style": "success",
            "max": 9912422,
            "_view_module": "@jupyter-widgets/controls",
            "_model_module_version": "1.5.0",
            "value": 9912422,
            "_view_count": null,
            "_view_module_version": "1.5.0",
            "orientation": "horizontal",
            "min": 0,
            "description_tooltip": null,
            "_model_module": "@jupyter-widgets/controls",
            "layout": "IPY_MODEL_29ce03e7cdac4407ad9fd805ae87be63"
          }
        },
        "7ae0b3b900554974bff8c04f88ace9ee": {
          "model_module": "@jupyter-widgets/controls",
          "model_name": "HTMLModel",
          "state": {
            "_view_name": "HTMLView",
            "style": "IPY_MODEL_ccddbbcf25de4fbc88a6cfc4c048c45d",
            "_dom_classes": [],
            "description": "",
            "_model_name": "HTMLModel",
            "placeholder": "​",
            "_view_module": "@jupyter-widgets/controls",
            "_model_module_version": "1.5.0",
            "value": " 9913344/? [08:56&lt;00:00, 18468.85it/s]",
            "_view_count": null,
            "_view_module_version": "1.5.0",
            "description_tooltip": null,
            "_model_module": "@jupyter-widgets/controls",
            "layout": "IPY_MODEL_b3eb2b8b07754fb4ad938f4537db7d16"
          }
        },
        "e7ac197c718b46f69dd64a974fe00d13": {
          "model_module": "@jupyter-widgets/controls",
          "model_name": "ProgressStyleModel",
          "state": {
            "_view_name": "StyleView",
            "_model_name": "ProgressStyleModel",
            "description_width": "initial",
            "_view_module": "@jupyter-widgets/base",
            "_model_module_version": "1.5.0",
            "_view_count": null,
            "_view_module_version": "1.2.0",
            "bar_color": null,
            "_model_module": "@jupyter-widgets/controls"
          }
        },
        "29ce03e7cdac4407ad9fd805ae87be63": {
          "model_module": "@jupyter-widgets/base",
          "model_name": "LayoutModel",
          "state": {
            "_view_name": "LayoutView",
            "grid_template_rows": null,
            "right": null,
            "justify_content": null,
            "_view_module": "@jupyter-widgets/base",
            "overflow": null,
            "_model_module_version": "1.2.0",
            "_view_count": null,
            "flex_flow": null,
            "width": null,
            "min_width": null,
            "border": null,
            "align_items": null,
            "bottom": null,
            "_model_module": "@jupyter-widgets/base",
            "top": null,
            "grid_column": null,
            "overflow_y": null,
            "overflow_x": null,
            "grid_auto_flow": null,
            "grid_area": null,
            "grid_template_columns": null,
            "flex": null,
            "_model_name": "LayoutModel",
            "justify_items": null,
            "grid_row": null,
            "max_height": null,
            "align_content": null,
            "visibility": null,
            "align_self": null,
            "height": null,
            "min_height": null,
            "padding": null,
            "grid_auto_rows": null,
            "grid_gap": null,
            "max_width": null,
            "order": null,
            "_view_module_version": "1.2.0",
            "grid_template_areas": null,
            "object_position": null,
            "object_fit": null,
            "grid_auto_columns": null,
            "margin": null,
            "display": null,
            "left": null
          }
        },
        "ccddbbcf25de4fbc88a6cfc4c048c45d": {
          "model_module": "@jupyter-widgets/controls",
          "model_name": "DescriptionStyleModel",
          "state": {
            "_view_name": "StyleView",
            "_model_name": "DescriptionStyleModel",
            "description_width": "",
            "_view_module": "@jupyter-widgets/base",
            "_model_module_version": "1.5.0",
            "_view_count": null,
            "_view_module_version": "1.2.0",
            "_model_module": "@jupyter-widgets/controls"
          }
        },
        "b3eb2b8b07754fb4ad938f4537db7d16": {
          "model_module": "@jupyter-widgets/base",
          "model_name": "LayoutModel",
          "state": {
            "_view_name": "LayoutView",
            "grid_template_rows": null,
            "right": null,
            "justify_content": null,
            "_view_module": "@jupyter-widgets/base",
            "overflow": null,
            "_model_module_version": "1.2.0",
            "_view_count": null,
            "flex_flow": null,
            "width": null,
            "min_width": null,
            "border": null,
            "align_items": null,
            "bottom": null,
            "_model_module": "@jupyter-widgets/base",
            "top": null,
            "grid_column": null,
            "overflow_y": null,
            "overflow_x": null,
            "grid_auto_flow": null,
            "grid_area": null,
            "grid_template_columns": null,
            "flex": null,
            "_model_name": "LayoutModel",
            "justify_items": null,
            "grid_row": null,
            "max_height": null,
            "align_content": null,
            "visibility": null,
            "align_self": null,
            "height": null,
            "min_height": null,
            "padding": null,
            "grid_auto_rows": null,
            "grid_gap": null,
            "max_width": null,
            "order": null,
            "_view_module_version": "1.2.0",
            "grid_template_areas": null,
            "object_position": null,
            "object_fit": null,
            "grid_auto_columns": null,
            "margin": null,
            "display": null,
            "left": null
          }
        },
        "ace1fd198c4342b998887dcaaaf8e88b": {
          "model_module": "@jupyter-widgets/controls",
          "model_name": "HBoxModel",
          "state": {
            "_view_name": "HBoxView",
            "_dom_classes": [],
            "_model_name": "HBoxModel",
            "_view_module": "@jupyter-widgets/controls",
            "_model_module_version": "1.5.0",
            "_view_count": null,
            "_view_module_version": "1.5.0",
            "box_style": "",
            "layout": "IPY_MODEL_0885983e7d7d4b3c8e01b95eaa816a5a",
            "_model_module": "@jupyter-widgets/controls",
            "children": [
              "IPY_MODEL_fe02c0aff6a14393ad97c97431037d2a",
              "IPY_MODEL_cae48385bdd04f718a4c8db9de32e651"
            ]
          }
        },
        "0885983e7d7d4b3c8e01b95eaa816a5a": {
          "model_module": "@jupyter-widgets/base",
          "model_name": "LayoutModel",
          "state": {
            "_view_name": "LayoutView",
            "grid_template_rows": null,
            "right": null,
            "justify_content": null,
            "_view_module": "@jupyter-widgets/base",
            "overflow": null,
            "_model_module_version": "1.2.0",
            "_view_count": null,
            "flex_flow": null,
            "width": null,
            "min_width": null,
            "border": null,
            "align_items": null,
            "bottom": null,
            "_model_module": "@jupyter-widgets/base",
            "top": null,
            "grid_column": null,
            "overflow_y": null,
            "overflow_x": null,
            "grid_auto_flow": null,
            "grid_area": null,
            "grid_template_columns": null,
            "flex": null,
            "_model_name": "LayoutModel",
            "justify_items": null,
            "grid_row": null,
            "max_height": null,
            "align_content": null,
            "visibility": null,
            "align_self": null,
            "height": null,
            "min_height": null,
            "padding": null,
            "grid_auto_rows": null,
            "grid_gap": null,
            "max_width": null,
            "order": null,
            "_view_module_version": "1.2.0",
            "grid_template_areas": null,
            "object_position": null,
            "object_fit": null,
            "grid_auto_columns": null,
            "margin": null,
            "display": null,
            "left": null
          }
        },
        "fe02c0aff6a14393ad97c97431037d2a": {
          "model_module": "@jupyter-widgets/controls",
          "model_name": "FloatProgressModel",
          "state": {
            "_view_name": "ProgressView",
            "style": "IPY_MODEL_c735f1e83aae4154928ead7e6115f8c1",
            "_dom_classes": [],
            "description": "",
            "_model_name": "FloatProgressModel",
            "bar_style": "success",
            "max": 28881,
            "_view_module": "@jupyter-widgets/controls",
            "_model_module_version": "1.5.0",
            "value": 28881,
            "_view_count": null,
            "_view_module_version": "1.5.0",
            "orientation": "horizontal",
            "min": 0,
            "description_tooltip": null,
            "_model_module": "@jupyter-widgets/controls",
            "layout": "IPY_MODEL_ede9cf944b1942b0a2f92e97aee9aebb"
          }
        },
        "cae48385bdd04f718a4c8db9de32e651": {
          "model_module": "@jupyter-widgets/controls",
          "model_name": "HTMLModel",
          "state": {
            "_view_name": "HTMLView",
            "style": "IPY_MODEL_3220d1e818144f858ea2c09f3eea5bbf",
            "_dom_classes": [],
            "description": "",
            "_model_name": "HTMLModel",
            "placeholder": "​",
            "_view_module": "@jupyter-widgets/controls",
            "_model_module_version": "1.5.0",
            "value": " 29696/? [04:10&lt;00:00, 118.72it/s]",
            "_view_count": null,
            "_view_module_version": "1.5.0",
            "description_tooltip": null,
            "_model_module": "@jupyter-widgets/controls",
            "layout": "IPY_MODEL_7ea9c79da7de45259a4819fb446eba3c"
          }
        },
        "c735f1e83aae4154928ead7e6115f8c1": {
          "model_module": "@jupyter-widgets/controls",
          "model_name": "ProgressStyleModel",
          "state": {
            "_view_name": "StyleView",
            "_model_name": "ProgressStyleModel",
            "description_width": "initial",
            "_view_module": "@jupyter-widgets/base",
            "_model_module_version": "1.5.0",
            "_view_count": null,
            "_view_module_version": "1.2.0",
            "bar_color": null,
            "_model_module": "@jupyter-widgets/controls"
          }
        },
        "ede9cf944b1942b0a2f92e97aee9aebb": {
          "model_module": "@jupyter-widgets/base",
          "model_name": "LayoutModel",
          "state": {
            "_view_name": "LayoutView",
            "grid_template_rows": null,
            "right": null,
            "justify_content": null,
            "_view_module": "@jupyter-widgets/base",
            "overflow": null,
            "_model_module_version": "1.2.0",
            "_view_count": null,
            "flex_flow": null,
            "width": null,
            "min_width": null,
            "border": null,
            "align_items": null,
            "bottom": null,
            "_model_module": "@jupyter-widgets/base",
            "top": null,
            "grid_column": null,
            "overflow_y": null,
            "overflow_x": null,
            "grid_auto_flow": null,
            "grid_area": null,
            "grid_template_columns": null,
            "flex": null,
            "_model_name": "LayoutModel",
            "justify_items": null,
            "grid_row": null,
            "max_height": null,
            "align_content": null,
            "visibility": null,
            "align_self": null,
            "height": null,
            "min_height": null,
            "padding": null,
            "grid_auto_rows": null,
            "grid_gap": null,
            "max_width": null,
            "order": null,
            "_view_module_version": "1.2.0",
            "grid_template_areas": null,
            "object_position": null,
            "object_fit": null,
            "grid_auto_columns": null,
            "margin": null,
            "display": null,
            "left": null
          }
        },
        "3220d1e818144f858ea2c09f3eea5bbf": {
          "model_module": "@jupyter-widgets/controls",
          "model_name": "DescriptionStyleModel",
          "state": {
            "_view_name": "StyleView",
            "_model_name": "DescriptionStyleModel",
            "description_width": "",
            "_view_module": "@jupyter-widgets/base",
            "_model_module_version": "1.5.0",
            "_view_count": null,
            "_view_module_version": "1.2.0",
            "_model_module": "@jupyter-widgets/controls"
          }
        },
        "7ea9c79da7de45259a4819fb446eba3c": {
          "model_module": "@jupyter-widgets/base",
          "model_name": "LayoutModel",
          "state": {
            "_view_name": "LayoutView",
            "grid_template_rows": null,
            "right": null,
            "justify_content": null,
            "_view_module": "@jupyter-widgets/base",
            "overflow": null,
            "_model_module_version": "1.2.0",
            "_view_count": null,
            "flex_flow": null,
            "width": null,
            "min_width": null,
            "border": null,
            "align_items": null,
            "bottom": null,
            "_model_module": "@jupyter-widgets/base",
            "top": null,
            "grid_column": null,
            "overflow_y": null,
            "overflow_x": null,
            "grid_auto_flow": null,
            "grid_area": null,
            "grid_template_columns": null,
            "flex": null,
            "_model_name": "LayoutModel",
            "justify_items": null,
            "grid_row": null,
            "max_height": null,
            "align_content": null,
            "visibility": null,
            "align_self": null,
            "height": null,
            "min_height": null,
            "padding": null,
            "grid_auto_rows": null,
            "grid_gap": null,
            "max_width": null,
            "order": null,
            "_view_module_version": "1.2.0",
            "grid_template_areas": null,
            "object_position": null,
            "object_fit": null,
            "grid_auto_columns": null,
            "margin": null,
            "display": null,
            "left": null
          }
        },
        "27f2abc16db4423b904f211517d7c4d1": {
          "model_module": "@jupyter-widgets/controls",
          "model_name": "HBoxModel",
          "state": {
            "_view_name": "HBoxView",
            "_dom_classes": [],
            "_model_name": "HBoxModel",
            "_view_module": "@jupyter-widgets/controls",
            "_model_module_version": "1.5.0",
            "_view_count": null,
            "_view_module_version": "1.5.0",
            "box_style": "",
            "layout": "IPY_MODEL_3d55fed1454548d591b5f48f2b5689d9",
            "_model_module": "@jupyter-widgets/controls",
            "children": [
              "IPY_MODEL_5f083fd840514a1da48f57594128127f",
              "IPY_MODEL_a436266bd135422aab608e496b3dd3f2"
            ]
          }
        },
        "3d55fed1454548d591b5f48f2b5689d9": {
          "model_module": "@jupyter-widgets/base",
          "model_name": "LayoutModel",
          "state": {
            "_view_name": "LayoutView",
            "grid_template_rows": null,
            "right": null,
            "justify_content": null,
            "_view_module": "@jupyter-widgets/base",
            "overflow": null,
            "_model_module_version": "1.2.0",
            "_view_count": null,
            "flex_flow": null,
            "width": null,
            "min_width": null,
            "border": null,
            "align_items": null,
            "bottom": null,
            "_model_module": "@jupyter-widgets/base",
            "top": null,
            "grid_column": null,
            "overflow_y": null,
            "overflow_x": null,
            "grid_auto_flow": null,
            "grid_area": null,
            "grid_template_columns": null,
            "flex": null,
            "_model_name": "LayoutModel",
            "justify_items": null,
            "grid_row": null,
            "max_height": null,
            "align_content": null,
            "visibility": null,
            "align_self": null,
            "height": null,
            "min_height": null,
            "padding": null,
            "grid_auto_rows": null,
            "grid_gap": null,
            "max_width": null,
            "order": null,
            "_view_module_version": "1.2.0",
            "grid_template_areas": null,
            "object_position": null,
            "object_fit": null,
            "grid_auto_columns": null,
            "margin": null,
            "display": null,
            "left": null
          }
        },
        "5f083fd840514a1da48f57594128127f": {
          "model_module": "@jupyter-widgets/controls",
          "model_name": "FloatProgressModel",
          "state": {
            "_view_name": "ProgressView",
            "style": "IPY_MODEL_216e188bed9f476d965a749efb7097de",
            "_dom_classes": [],
            "description": "",
            "_model_name": "FloatProgressModel",
            "bar_style": "success",
            "max": 1648877,
            "_view_module": "@jupyter-widgets/controls",
            "_model_module_version": "1.5.0",
            "value": 1648877,
            "_view_count": null,
            "_view_module_version": "1.5.0",
            "orientation": "horizontal",
            "min": 0,
            "description_tooltip": null,
            "_model_module": "@jupyter-widgets/controls",
            "layout": "IPY_MODEL_fd2ab2de254749b29ffa53d8047a824a"
          }
        },
        "a436266bd135422aab608e496b3dd3f2": {
          "model_module": "@jupyter-widgets/controls",
          "model_name": "HTMLModel",
          "state": {
            "_view_name": "HTMLView",
            "style": "IPY_MODEL_5c9042c520f941849e9fbbe18520eea9",
            "_dom_classes": [],
            "description": "",
            "_model_name": "HTMLModel",
            "placeholder": "​",
            "_view_module": "@jupyter-widgets/controls",
            "_model_module_version": "1.5.0",
            "value": " 1649664/? [00:42&lt;00:00, 39153.22it/s]",
            "_view_count": null,
            "_view_module_version": "1.5.0",
            "description_tooltip": null,
            "_model_module": "@jupyter-widgets/controls",
            "layout": "IPY_MODEL_99cc78890f1d4f02b2f2ea0ed83353a2"
          }
        },
        "216e188bed9f476d965a749efb7097de": {
          "model_module": "@jupyter-widgets/controls",
          "model_name": "ProgressStyleModel",
          "state": {
            "_view_name": "StyleView",
            "_model_name": "ProgressStyleModel",
            "description_width": "initial",
            "_view_module": "@jupyter-widgets/base",
            "_model_module_version": "1.5.0",
            "_view_count": null,
            "_view_module_version": "1.2.0",
            "bar_color": null,
            "_model_module": "@jupyter-widgets/controls"
          }
        },
        "fd2ab2de254749b29ffa53d8047a824a": {
          "model_module": "@jupyter-widgets/base",
          "model_name": "LayoutModel",
          "state": {
            "_view_name": "LayoutView",
            "grid_template_rows": null,
            "right": null,
            "justify_content": null,
            "_view_module": "@jupyter-widgets/base",
            "overflow": null,
            "_model_module_version": "1.2.0",
            "_view_count": null,
            "flex_flow": null,
            "width": null,
            "min_width": null,
            "border": null,
            "align_items": null,
            "bottom": null,
            "_model_module": "@jupyter-widgets/base",
            "top": null,
            "grid_column": null,
            "overflow_y": null,
            "overflow_x": null,
            "grid_auto_flow": null,
            "grid_area": null,
            "grid_template_columns": null,
            "flex": null,
            "_model_name": "LayoutModel",
            "justify_items": null,
            "grid_row": null,
            "max_height": null,
            "align_content": null,
            "visibility": null,
            "align_self": null,
            "height": null,
            "min_height": null,
            "padding": null,
            "grid_auto_rows": null,
            "grid_gap": null,
            "max_width": null,
            "order": null,
            "_view_module_version": "1.2.0",
            "grid_template_areas": null,
            "object_position": null,
            "object_fit": null,
            "grid_auto_columns": null,
            "margin": null,
            "display": null,
            "left": null
          }
        },
        "5c9042c520f941849e9fbbe18520eea9": {
          "model_module": "@jupyter-widgets/controls",
          "model_name": "DescriptionStyleModel",
          "state": {
            "_view_name": "StyleView",
            "_model_name": "DescriptionStyleModel",
            "description_width": "",
            "_view_module": "@jupyter-widgets/base",
            "_model_module_version": "1.5.0",
            "_view_count": null,
            "_view_module_version": "1.2.0",
            "_model_module": "@jupyter-widgets/controls"
          }
        },
        "99cc78890f1d4f02b2f2ea0ed83353a2": {
          "model_module": "@jupyter-widgets/base",
          "model_name": "LayoutModel",
          "state": {
            "_view_name": "LayoutView",
            "grid_template_rows": null,
            "right": null,
            "justify_content": null,
            "_view_module": "@jupyter-widgets/base",
            "overflow": null,
            "_model_module_version": "1.2.0",
            "_view_count": null,
            "flex_flow": null,
            "width": null,
            "min_width": null,
            "border": null,
            "align_items": null,
            "bottom": null,
            "_model_module": "@jupyter-widgets/base",
            "top": null,
            "grid_column": null,
            "overflow_y": null,
            "overflow_x": null,
            "grid_auto_flow": null,
            "grid_area": null,
            "grid_template_columns": null,
            "flex": null,
            "_model_name": "LayoutModel",
            "justify_items": null,
            "grid_row": null,
            "max_height": null,
            "align_content": null,
            "visibility": null,
            "align_self": null,
            "height": null,
            "min_height": null,
            "padding": null,
            "grid_auto_rows": null,
            "grid_gap": null,
            "max_width": null,
            "order": null,
            "_view_module_version": "1.2.0",
            "grid_template_areas": null,
            "object_position": null,
            "object_fit": null,
            "grid_auto_columns": null,
            "margin": null,
            "display": null,
            "left": null
          }
        },
        "6bfd25bb047e41b2afa06d7940fee4f8": {
          "model_module": "@jupyter-widgets/controls",
          "model_name": "HBoxModel",
          "state": {
            "_view_name": "HBoxView",
            "_dom_classes": [],
            "_model_name": "HBoxModel",
            "_view_module": "@jupyter-widgets/controls",
            "_model_module_version": "1.5.0",
            "_view_count": null,
            "_view_module_version": "1.5.0",
            "box_style": "",
            "layout": "IPY_MODEL_265e5191a757499f9263d3953712903e",
            "_model_module": "@jupyter-widgets/controls",
            "children": [
              "IPY_MODEL_f73b423df8054af790d319bbc7626708",
              "IPY_MODEL_583b3e4c32404d4a8c829924d0aea190"
            ]
          }
        },
        "265e5191a757499f9263d3953712903e": {
          "model_module": "@jupyter-widgets/base",
          "model_name": "LayoutModel",
          "state": {
            "_view_name": "LayoutView",
            "grid_template_rows": null,
            "right": null,
            "justify_content": null,
            "_view_module": "@jupyter-widgets/base",
            "overflow": null,
            "_model_module_version": "1.2.0",
            "_view_count": null,
            "flex_flow": null,
            "width": null,
            "min_width": null,
            "border": null,
            "align_items": null,
            "bottom": null,
            "_model_module": "@jupyter-widgets/base",
            "top": null,
            "grid_column": null,
            "overflow_y": null,
            "overflow_x": null,
            "grid_auto_flow": null,
            "grid_area": null,
            "grid_template_columns": null,
            "flex": null,
            "_model_name": "LayoutModel",
            "justify_items": null,
            "grid_row": null,
            "max_height": null,
            "align_content": null,
            "visibility": null,
            "align_self": null,
            "height": null,
            "min_height": null,
            "padding": null,
            "grid_auto_rows": null,
            "grid_gap": null,
            "max_width": null,
            "order": null,
            "_view_module_version": "1.2.0",
            "grid_template_areas": null,
            "object_position": null,
            "object_fit": null,
            "grid_auto_columns": null,
            "margin": null,
            "display": null,
            "left": null
          }
        },
        "f73b423df8054af790d319bbc7626708": {
          "model_module": "@jupyter-widgets/controls",
          "model_name": "FloatProgressModel",
          "state": {
            "_view_name": "ProgressView",
            "style": "IPY_MODEL_7fd9c7a5ace24b5da47e5cb7c64fa67f",
            "_dom_classes": [],
            "description": "",
            "_model_name": "FloatProgressModel",
            "bar_style": "success",
            "max": 4542,
            "_view_module": "@jupyter-widgets/controls",
            "_model_module_version": "1.5.0",
            "value": 4542,
            "_view_count": null,
            "_view_module_version": "1.5.0",
            "orientation": "horizontal",
            "min": 0,
            "description_tooltip": null,
            "_model_module": "@jupyter-widgets/controls",
            "layout": "IPY_MODEL_d764f225e756485d9a530a6976fabc41"
          }
        },
        "583b3e4c32404d4a8c829924d0aea190": {
          "model_module": "@jupyter-widgets/controls",
          "model_name": "HTMLModel",
          "state": {
            "_view_name": "HTMLView",
            "style": "IPY_MODEL_21678fcec5ca43ca961dd72779130ec6",
            "_dom_classes": [],
            "description": "",
            "_model_name": "HTMLModel",
            "placeholder": "​",
            "_view_module": "@jupyter-widgets/controls",
            "_model_module_version": "1.5.0",
            "value": " 5120/? [00:00&lt;00:00, 36709.88it/s]",
            "_view_count": null,
            "_view_module_version": "1.5.0",
            "description_tooltip": null,
            "_model_module": "@jupyter-widgets/controls",
            "layout": "IPY_MODEL_faf17a312e09414f8d7c8c7dbcc03849"
          }
        },
        "7fd9c7a5ace24b5da47e5cb7c64fa67f": {
          "model_module": "@jupyter-widgets/controls",
          "model_name": "ProgressStyleModel",
          "state": {
            "_view_name": "StyleView",
            "_model_name": "ProgressStyleModel",
            "description_width": "initial",
            "_view_module": "@jupyter-widgets/base",
            "_model_module_version": "1.5.0",
            "_view_count": null,
            "_view_module_version": "1.2.0",
            "bar_color": null,
            "_model_module": "@jupyter-widgets/controls"
          }
        },
        "d764f225e756485d9a530a6976fabc41": {
          "model_module": "@jupyter-widgets/base",
          "model_name": "LayoutModel",
          "state": {
            "_view_name": "LayoutView",
            "grid_template_rows": null,
            "right": null,
            "justify_content": null,
            "_view_module": "@jupyter-widgets/base",
            "overflow": null,
            "_model_module_version": "1.2.0",
            "_view_count": null,
            "flex_flow": null,
            "width": null,
            "min_width": null,
            "border": null,
            "align_items": null,
            "bottom": null,
            "_model_module": "@jupyter-widgets/base",
            "top": null,
            "grid_column": null,
            "overflow_y": null,
            "overflow_x": null,
            "grid_auto_flow": null,
            "grid_area": null,
            "grid_template_columns": null,
            "flex": null,
            "_model_name": "LayoutModel",
            "justify_items": null,
            "grid_row": null,
            "max_height": null,
            "align_content": null,
            "visibility": null,
            "align_self": null,
            "height": null,
            "min_height": null,
            "padding": null,
            "grid_auto_rows": null,
            "grid_gap": null,
            "max_width": null,
            "order": null,
            "_view_module_version": "1.2.0",
            "grid_template_areas": null,
            "object_position": null,
            "object_fit": null,
            "grid_auto_columns": null,
            "margin": null,
            "display": null,
            "left": null
          }
        },
        "21678fcec5ca43ca961dd72779130ec6": {
          "model_module": "@jupyter-widgets/controls",
          "model_name": "DescriptionStyleModel",
          "state": {
            "_view_name": "StyleView",
            "_model_name": "DescriptionStyleModel",
            "description_width": "",
            "_view_module": "@jupyter-widgets/base",
            "_model_module_version": "1.5.0",
            "_view_count": null,
            "_view_module_version": "1.2.0",
            "_model_module": "@jupyter-widgets/controls"
          }
        },
        "faf17a312e09414f8d7c8c7dbcc03849": {
          "model_module": "@jupyter-widgets/base",
          "model_name": "LayoutModel",
          "state": {
            "_view_name": "LayoutView",
            "grid_template_rows": null,
            "right": null,
            "justify_content": null,
            "_view_module": "@jupyter-widgets/base",
            "overflow": null,
            "_model_module_version": "1.2.0",
            "_view_count": null,
            "flex_flow": null,
            "width": null,
            "min_width": null,
            "border": null,
            "align_items": null,
            "bottom": null,
            "_model_module": "@jupyter-widgets/base",
            "top": null,
            "grid_column": null,
            "overflow_y": null,
            "overflow_x": null,
            "grid_auto_flow": null,
            "grid_area": null,
            "grid_template_columns": null,
            "flex": null,
            "_model_name": "LayoutModel",
            "justify_items": null,
            "grid_row": null,
            "max_height": null,
            "align_content": null,
            "visibility": null,
            "align_self": null,
            "height": null,
            "min_height": null,
            "padding": null,
            "grid_auto_rows": null,
            "grid_gap": null,
            "max_width": null,
            "order": null,
            "_view_module_version": "1.2.0",
            "grid_template_areas": null,
            "object_position": null,
            "object_fit": null,
            "grid_auto_columns": null,
            "margin": null,
            "display": null,
            "left": null
          }
        }
      }
    }
  },
  "cells": [
    {
      "cell_type": "markdown",
      "metadata": {
        "id": "GB1-YIDoGpVh"
      },
      "source": [
        "# Generative Adversarial Network\n",
        "\n",
        "Uma [Generative Adversarial Network](https://en.wikipedia.org/wiki/Generative_adversarial_network) (GAN) é uma classe de frameworks de machine learning projetada por Ian Goodfellow e seus colegas em 2014. Duas redes neurais competem entre si em um jogo (na forma de um jogo de soma zero, em que o ganho de um agente é a perda de outro).\n",
        "\n",
        "Dado um conjunto de treinamento, essa técnica aprende a gerar novos dados com as mesmas estatísticas do conjunto de treinamento. Por exemplo, uma GAN treinada em fotografias pode gerar novas fotografias que parecem pelo menos superficialmente autênticas para observadores humanos, com muitas características realistas.\n",
        "\n",
        "Neste notebook, veremos um exemplo de como podemos criar uma GAN com PyTorch.\n",
        "\n",
        "Primeiramente vamos então importar as bibliotecas necessárias:"
      ]
    },
    {
      "cell_type": "code",
      "metadata": {
        "id": "S_nTdG2oHWhJ"
      },
      "source": [
        "import torch\n",
        "import torch.nn as nn\n",
        "import torchvision\n",
        "import torchvision.transforms as transforms\n",
        "from torchvision.utils import save_image\n",
        "import numpy as np\n",
        "import matplotlib.pyplot as plt\n",
        "from datetime import datetime\n",
        "import os"
      ],
      "execution_count": 2,
      "outputs": []
    },
    {
      "cell_type": "markdown",
      "metadata": {
        "id": "7A2Hq-3hHgyN"
      },
      "source": [
        "Definimos um transformador que fará os valores de pixels entre -1 e +1:"
      ]
    },
    {
      "cell_type": "code",
      "metadata": {
        "id": "SKxdDEEeHzVj"
      },
      "source": [
        "transform = transforms.Compose([transforms.ToTensor(),transforms.Normalize(mean=(0.5,),std=(0.5,))])"
      ],
      "execution_count": 3,
      "outputs": []
    },
    {
      "cell_type": "markdown",
      "metadata": {
        "id": "2Xe2AsFxH73h"
      },
      "source": [
        "Carregamos o conjunto de dados de dígitos numéricos MNIST:"
      ]
    },
    {
      "cell_type": "code",
      "metadata": {
        "colab": {
          "base_uri": "https://localhost:8080/",
          "height": 539,
          "referenced_widgets": [
            "bfd73b03aa1b46fd8d726c5a733df5c7",
            "df9f13ca469b4cc2b7c82c6fa4b7e2e1",
            "1aa844ecda8c4b6ca9fdeddbc781c496",
            "7ae0b3b900554974bff8c04f88ace9ee",
            "e7ac197c718b46f69dd64a974fe00d13",
            "29ce03e7cdac4407ad9fd805ae87be63",
            "ccddbbcf25de4fbc88a6cfc4c048c45d",
            "b3eb2b8b07754fb4ad938f4537db7d16",
            "ace1fd198c4342b998887dcaaaf8e88b",
            "0885983e7d7d4b3c8e01b95eaa816a5a",
            "fe02c0aff6a14393ad97c97431037d2a",
            "cae48385bdd04f718a4c8db9de32e651",
            "c735f1e83aae4154928ead7e6115f8c1",
            "ede9cf944b1942b0a2f92e97aee9aebb",
            "3220d1e818144f858ea2c09f3eea5bbf",
            "7ea9c79da7de45259a4819fb446eba3c",
            "27f2abc16db4423b904f211517d7c4d1",
            "3d55fed1454548d591b5f48f2b5689d9",
            "5f083fd840514a1da48f57594128127f",
            "a436266bd135422aab608e496b3dd3f2",
            "216e188bed9f476d965a749efb7097de",
            "fd2ab2de254749b29ffa53d8047a824a",
            "5c9042c520f941849e9fbbe18520eea9",
            "99cc78890f1d4f02b2f2ea0ed83353a2",
            "6bfd25bb047e41b2afa06d7940fee4f8",
            "265e5191a757499f9263d3953712903e",
            "f73b423df8054af790d319bbc7626708",
            "583b3e4c32404d4a8c829924d0aea190",
            "7fd9c7a5ace24b5da47e5cb7c64fa67f",
            "d764f225e756485d9a530a6976fabc41",
            "21678fcec5ca43ca961dd72779130ec6",
            "faf17a312e09414f8d7c8c7dbcc03849"
          ]
        },
        "id": "yn8W0zVJIBro",
        "outputId": "b05044a2-1fd2-4e2e-d646-f3d74759fdfc"
      },
      "source": [
        "train_dataset = torchvision.datasets.MNIST(\n",
        "    root = '.',\n",
        "    train = True,\n",
        "    transform =transform,\n",
        "    download  = True\n",
        ")"
      ],
      "execution_count": 4,
      "outputs": [
        {
          "output_type": "stream",
          "text": [
            "Downloading http://yann.lecun.com/exdb/mnist/train-images-idx3-ubyte.gz\n",
            "Downloading http://yann.lecun.com/exdb/mnist/train-images-idx3-ubyte.gz to ./MNIST/raw/train-images-idx3-ubyte.gz\n"
          ],
          "name": "stdout"
        },
        {
          "output_type": "display_data",
          "data": {
            "application/vnd.jupyter.widget-view+json": {
              "model_id": "bfd73b03aa1b46fd8d726c5a733df5c7",
              "version_minor": 0,
              "version_major": 2
            },
            "text/plain": [
              "HBox(children=(FloatProgress(value=0.0, max=9912422.0), HTML(value='')))"
            ]
          },
          "metadata": {
            "tags": []
          }
        },
        {
          "output_type": "stream",
          "text": [
            "\n",
            "Extracting ./MNIST/raw/train-images-idx3-ubyte.gz to ./MNIST/raw\n",
            "\n",
            "Downloading http://yann.lecun.com/exdb/mnist/train-labels-idx1-ubyte.gz\n",
            "Downloading http://yann.lecun.com/exdb/mnist/train-labels-idx1-ubyte.gz to ./MNIST/raw/train-labels-idx1-ubyte.gz\n"
          ],
          "name": "stdout"
        },
        {
          "output_type": "display_data",
          "data": {
            "application/vnd.jupyter.widget-view+json": {
              "model_id": "ace1fd198c4342b998887dcaaaf8e88b",
              "version_minor": 0,
              "version_major": 2
            },
            "text/plain": [
              "HBox(children=(FloatProgress(value=0.0, max=28881.0), HTML(value='')))"
            ]
          },
          "metadata": {
            "tags": []
          }
        },
        {
          "output_type": "stream",
          "text": [
            "\n",
            "Extracting ./MNIST/raw/train-labels-idx1-ubyte.gz to ./MNIST/raw\n",
            "\n",
            "Downloading http://yann.lecun.com/exdb/mnist/t10k-images-idx3-ubyte.gz\n",
            "Downloading http://yann.lecun.com/exdb/mnist/t10k-images-idx3-ubyte.gz to ./MNIST/raw/t10k-images-idx3-ubyte.gz\n"
          ],
          "name": "stdout"
        },
        {
          "output_type": "display_data",
          "data": {
            "application/vnd.jupyter.widget-view+json": {
              "model_id": "27f2abc16db4423b904f211517d7c4d1",
              "version_minor": 0,
              "version_major": 2
            },
            "text/plain": [
              "HBox(children=(FloatProgress(value=0.0, max=1648877.0), HTML(value='')))"
            ]
          },
          "metadata": {
            "tags": []
          }
        },
        {
          "output_type": "stream",
          "text": [
            "\n",
            "Extracting ./MNIST/raw/t10k-images-idx3-ubyte.gz to ./MNIST/raw\n",
            "\n",
            "Downloading http://yann.lecun.com/exdb/mnist/t10k-labels-idx1-ubyte.gz\n",
            "Downloading http://yann.lecun.com/exdb/mnist/t10k-labels-idx1-ubyte.gz to ./MNIST/raw/t10k-labels-idx1-ubyte.gz\n"
          ],
          "name": "stdout"
        },
        {
          "output_type": "display_data",
          "data": {
            "application/vnd.jupyter.widget-view+json": {
              "model_id": "6bfd25bb047e41b2afa06d7940fee4f8",
              "version_minor": 0,
              "version_major": 2
            },
            "text/plain": [
              "HBox(children=(FloatProgress(value=0.0, max=4542.0), HTML(value='')))"
            ]
          },
          "metadata": {
            "tags": []
          }
        },
        {
          "output_type": "stream",
          "text": [
            "\n",
            "Extracting ./MNIST/raw/t10k-labels-idx1-ubyte.gz to ./MNIST/raw\n",
            "\n"
          ],
          "name": "stdout"
        },
        {
          "output_type": "stream",
          "text": [
            "/usr/local/lib/python3.7/dist-packages/torchvision/datasets/mnist.py:498: UserWarning: The given NumPy array is not writeable, and PyTorch does not support non-writeable tensors. This means you can write to the underlying (supposedly non-writeable) NumPy array using the tensor. You may want to copy the array to protect its data or make it writeable before converting it to a tensor. This type of warning will be suppressed for the rest of this program. (Triggered internally at  /pytorch/torch/csrc/utils/tensor_numpy.cpp:180.)\n",
            "  return torch.from_numpy(parsed.astype(m[2], copy=False)).view(*s)\n"
          ],
          "name": "stderr"
        }
      ]
    },
    {
      "cell_type": "markdown",
      "metadata": {
        "id": "e5EebtzwJSRd"
      },
      "source": [
        "Vejamos com quantas amostras estamos lidando:"
      ]
    },
    {
      "cell_type": "code",
      "metadata": {
        "colab": {
          "base_uri": "https://localhost:8080/"
        },
        "id": "YpBM6a03JZhz",
        "outputId": "148aaa2a-2040-4591-b07b-86b00b005778"
      },
      "source": [
        "len(train_dataset)"
      ],
      "execution_count": 5,
      "outputs": [
        {
          "output_type": "execute_result",
          "data": {
            "text/plain": [
              "60000"
            ]
          },
          "metadata": {
            "tags": []
          },
          "execution_count": 5
        }
      ]
    },
    {
      "cell_type": "markdown",
      "metadata": {
        "id": "HABTlzW7JeEq"
      },
      "source": [
        "A seguir, criamos um **DataLoader** a partir de nosso conjunto de dados:"
      ]
    },
    {
      "cell_type": "code",
      "metadata": {
        "id": "bE_FcxG3Jjgv"
      },
      "source": [
        "batch_size = 128\n",
        "data_loader = torch.utils.data.DataLoader(dataset=train_dataset,batch_size=batch_size, shuffle=True)"
      ],
      "execution_count": 6,
      "outputs": []
    },
    {
      "cell_type": "markdown",
      "metadata": {
        "id": "Nop7BypcJoxP"
      },
      "source": [
        "Definimos a nossa rede neural discriminadora:"
      ]
    },
    {
      "cell_type": "code",
      "metadata": {
        "id": "pycpZHeZJrQA"
      },
      "source": [
        "D = nn.Sequential(\n",
        "    nn.Linear(784, 512),\n",
        "    nn.LeakyReLU(0.2),\n",
        "    nn.Linear(512, 256),\n",
        "    nn.LeakyReLU(0.2),\n",
        "    nn.Linear(256, 1),\n",
        ")"
      ],
      "execution_count": 7,
      "outputs": []
    },
    {
      "cell_type": "markdown",
      "metadata": {
        "id": "IF88roCRJuRd"
      },
      "source": [
        "Definimos a nossa rede neural geradora:"
      ]
    },
    {
      "cell_type": "code",
      "metadata": {
        "id": "9IMyz4j2JyWk"
      },
      "source": [
        "latent_dim = 100\n",
        "G = nn.Sequential(\n",
        "    nn.Linear(latent_dim, 256),\n",
        "    nn.LeakyReLU(0.2),\n",
        "    nn.BatchNorm1d(256, momentum=0.7),\n",
        "    nn.Linear(256, 512),\n",
        "    nn.LeakyReLU(0.2),\n",
        "    nn.BatchNorm1d(512, momentum=0.7),\n",
        "    nn.Linear(512, 1024),\n",
        "    nn.LeakyReLU(0.2),\n",
        "    nn.BatchNorm1d(1024, momentum=0.7),\n",
        "    nn.Linear(1024, 784),\n",
        "    nn.Tanh()\n",
        ")"
      ],
      "execution_count": 8,
      "outputs": []
    },
    {
      "cell_type": "markdown",
      "metadata": {
        "id": "jBC9XDaHJ22h"
      },
      "source": [
        "Setamos o dispositivo de processamento disponível:"
      ]
    },
    {
      "cell_type": "code",
      "metadata": {
        "id": "rTqb3mi0J55Z"
      },
      "source": [
        "device = torch.device('cuda' if torch.cuda.is_available() else 'cpu')\n",
        "D = D.to(device)\n",
        "G = G.to(device)"
      ],
      "execution_count": 9,
      "outputs": []
    },
    {
      "cell_type": "markdown",
      "metadata": {
        "id": "sz3hqRXKLUa2"
      },
      "source": [
        "Definimos a função Loss e os Otimizadores:"
      ]
    },
    {
      "cell_type": "code",
      "metadata": {
        "id": "ZqQUdfW2LW0t"
      },
      "source": [
        "criterion = nn.BCEWithLogitsLoss()\n",
        "d_optimizer = torch.optim.Adam(D.parameters(), lr=0.0002, betas=(0.5, 0.999))\n",
        "g_optimizer = torch.optim.Adam(G.parameters(), lr=0.0002, betas=(0.5, 0.999))"
      ],
      "execution_count": 10,
      "outputs": []
    },
    {
      "cell_type": "markdown",
      "metadata": {
        "id": "0rpLhuunLZn8"
      },
      "source": [
        "Criamos uma função para retornar as imagens a sua escala original (0,1):"
      ]
    },
    {
      "cell_type": "code",
      "metadata": {
        "id": "tG933gk3LdKb"
      },
      "source": [
        "def scale_image(img):\n",
        "    out = (img + 1) / 2\n",
        "    return out"
      ],
      "execution_count": 11,
      "outputs": []
    },
    {
      "cell_type": "markdown",
      "metadata": {
        "id": "NOsDNRp4LhAL"
      },
      "source": [
        "Criamos um diretório para armazenar as imagens geradas:"
      ]
    },
    {
      "cell_type": "code",
      "metadata": {
        "id": "aIiyWZpqLjti"
      },
      "source": [
        "if not os.path.exists('gan_images'):\n",
        "    os.makedirs('gan_images')"
      ],
      "execution_count": 12,
      "outputs": []
    },
    {
      "cell_type": "markdown",
      "metadata": {
        "id": "uPBrBsDWLpUV"
      },
      "source": [
        "E então treinamos a GAN:"
      ]
    },
    {
      "cell_type": "code",
      "metadata": {
        "colab": {
          "base_uri": "https://localhost:8080/"
        },
        "id": "PUZW_BdGLr6y",
        "outputId": "8d4a04ec-0453-4f2d-a448-54f54b0ef68a"
      },
      "source": [
        "# labels to use in the loop\n",
        "ones_ = torch.ones(batch_size, 1).to(device)\n",
        "zeros_ = torch.zeros(batch_size, 1).to(device)\n",
        "\n",
        "# save losses\n",
        "d_losses = []\n",
        "g_losses = []\n",
        "\n",
        "for epoch in range(200):\n",
        "    for inputs, _ in data_loader:\n",
        "        # don't need targets\n",
        "\n",
        "        # reshape and move to GPU\n",
        "        n = inputs.size(0)\n",
        "        inputs = inputs.reshape(n, 784).to(device)\n",
        "\n",
        "        # set ones and zeros to correct size\n",
        "        ones = ones_[:n]\n",
        "        zeros = zeros_[:n]\n",
        "\n",
        "\n",
        "        ###########################\n",
        "        ### Train discriminator ###\n",
        "        ###########################\n",
        "\n",
        "        # real images\n",
        "        real_outputs = D(inputs)\n",
        "        d_loss_real = criterion(real_outputs, ones)\n",
        "\n",
        "        # fake images\n",
        "        noise = torch.randn(n, latent_dim).to(device)\n",
        "        fake_images = G(noise)\n",
        "        fake_outputs = D(fake_images)\n",
        "        d_loss_fake = criterion(fake_outputs, zeros)\n",
        "\n",
        "        # gradient descent step\n",
        "        d_loss = 0.5 * (d_loss_real + d_loss_fake)\n",
        "        d_optimizer.zero_grad()\n",
        "        g_optimizer.zero_grad()\n",
        "        d_loss.backward()\n",
        "        d_optimizer.step()\n",
        "\n",
        "        #######################\n",
        "        ### Train generator ###\n",
        "        #######################\n",
        "\n",
        "        # do it twice:\n",
        "        for _ in range(2):\n",
        "            # fake images\n",
        "            noise = torch.randn(n, latent_dim).to(device)\n",
        "            fake_images = G(noise)\n",
        "            fake_outputs = D(fake_images)\n",
        "\n",
        "            # reverse the labels!\n",
        "            g_loss = criterion(fake_outputs, ones)\n",
        "\n",
        "            # gradient descent step\n",
        "            d_optimizer.zero_grad()\n",
        "            g_optimizer.zero_grad()\n",
        "            g_loss.backward()\n",
        "            g_optimizer.step()\n",
        "\n",
        "        # save losses\n",
        "        d_losses.append(d_loss.item())\n",
        "        g_losses.append(g_loss.item())\n",
        "\n",
        "\n",
        "    ### print and save things ###\n",
        "    print(f\"Epoch: {epoch}, d_loss: {d_loss.item()}, g_loss: {g_loss.item()}\")\n",
        "\n",
        "    # PyTorch has a function to save a batch of images to file\n",
        "    fake_images = fake_images.reshape(-1, 1, 28, 28)\n",
        "    save_image(scale_image(fake_images), f\"gan_images/{epoch+1}.png\")"
      ],
      "execution_count": 13,
      "outputs": [
        {
          "output_type": "stream",
          "text": [
            "Epoch: 0, d_loss: 0.696446418762207, g_loss: 0.7024463415145874\n",
            "Epoch: 1, d_loss: 0.6792521476745605, g_loss: 0.7582287788391113\n",
            "Epoch: 2, d_loss: 0.6978943943977356, g_loss: 0.5770364999771118\n",
            "Epoch: 3, d_loss: 0.6864240169525146, g_loss: 0.7597310543060303\n",
            "Epoch: 4, d_loss: 0.6816473007202148, g_loss: 0.7532069087028503\n",
            "Epoch: 5, d_loss: 0.6766785979270935, g_loss: 0.7252835035324097\n",
            "Epoch: 6, d_loss: 0.6956831216812134, g_loss: 0.7213507890701294\n",
            "Epoch: 7, d_loss: 0.6780012845993042, g_loss: 0.708427369594574\n",
            "Epoch: 8, d_loss: 0.6843835115432739, g_loss: 0.7268991470336914\n",
            "Epoch: 9, d_loss: 0.683853030204773, g_loss: 0.7282597422599792\n",
            "Epoch: 10, d_loss: 0.6886143088340759, g_loss: 0.7052297592163086\n",
            "Epoch: 11, d_loss: 0.6784414052963257, g_loss: 0.7104452848434448\n",
            "Epoch: 12, d_loss: 0.6953577399253845, g_loss: 0.6963197588920593\n",
            "Epoch: 13, d_loss: 0.6745682954788208, g_loss: 0.7354743480682373\n",
            "Epoch: 14, d_loss: 0.6913512349128723, g_loss: 0.687524676322937\n",
            "Epoch: 15, d_loss: 0.6942609548568726, g_loss: 0.7083557844161987\n",
            "Epoch: 16, d_loss: 0.6917994022369385, g_loss: 0.690910816192627\n",
            "Epoch: 17, d_loss: 0.69603431224823, g_loss: 0.7352503538131714\n",
            "Epoch: 18, d_loss: 0.6775463819503784, g_loss: 0.7213203310966492\n",
            "Epoch: 19, d_loss: 0.68379807472229, g_loss: 0.7016842365264893\n",
            "Epoch: 20, d_loss: 0.6774430274963379, g_loss: 0.7069336771965027\n",
            "Epoch: 21, d_loss: 0.687897801399231, g_loss: 0.7328893542289734\n",
            "Epoch: 22, d_loss: 0.6796346306800842, g_loss: 0.6862542033195496\n",
            "Epoch: 23, d_loss: 0.6839120388031006, g_loss: 0.7115203738212585\n",
            "Epoch: 24, d_loss: 0.6789426803588867, g_loss: 0.7315429449081421\n",
            "Epoch: 25, d_loss: 0.674254834651947, g_loss: 0.7326919436454773\n",
            "Epoch: 26, d_loss: 0.6870215535163879, g_loss: 0.7823714017868042\n",
            "Epoch: 27, d_loss: 0.684352695941925, g_loss: 0.7303848266601562\n",
            "Epoch: 28, d_loss: 0.6666268706321716, g_loss: 0.7547523379325867\n",
            "Epoch: 29, d_loss: 0.6899300217628479, g_loss: 0.7392146587371826\n",
            "Epoch: 30, d_loss: 0.6869024038314819, g_loss: 0.7226559519767761\n",
            "Epoch: 31, d_loss: 0.6801321506500244, g_loss: 0.7288450598716736\n",
            "Epoch: 32, d_loss: 0.6768741607666016, g_loss: 0.673198401927948\n",
            "Epoch: 33, d_loss: 0.6865038871765137, g_loss: 0.7099528312683105\n",
            "Epoch: 34, d_loss: 0.6889269351959229, g_loss: 0.6788657903671265\n",
            "Epoch: 35, d_loss: 0.6908437013626099, g_loss: 0.6756381988525391\n",
            "Epoch: 36, d_loss: 0.6649234890937805, g_loss: 0.7325825691223145\n",
            "Epoch: 37, d_loss: 0.6776231527328491, g_loss: 0.7896393537521362\n",
            "Epoch: 38, d_loss: 0.682367205619812, g_loss: 0.7146093249320984\n",
            "Epoch: 39, d_loss: 0.6733018159866333, g_loss: 0.6843761205673218\n",
            "Epoch: 40, d_loss: 0.6663528084754944, g_loss: 0.7103179693222046\n",
            "Epoch: 41, d_loss: 0.6632579565048218, g_loss: 0.7522373199462891\n",
            "Epoch: 42, d_loss: 0.6620397567749023, g_loss: 0.7703930735588074\n",
            "Epoch: 43, d_loss: 0.6661234498023987, g_loss: 0.7703613042831421\n",
            "Epoch: 44, d_loss: 0.6838173270225525, g_loss: 0.6692909002304077\n",
            "Epoch: 45, d_loss: 0.6647576093673706, g_loss: 0.7842755317687988\n",
            "Epoch: 46, d_loss: 0.6570867300033569, g_loss: 0.7754018306732178\n",
            "Epoch: 47, d_loss: 0.6610618829727173, g_loss: 0.7280542254447937\n",
            "Epoch: 48, d_loss: 0.6558836102485657, g_loss: 0.7380678057670593\n",
            "Epoch: 49, d_loss: 0.6579192876815796, g_loss: 0.7786995768547058\n",
            "Epoch: 50, d_loss: 0.6696202754974365, g_loss: 0.7115921974182129\n",
            "Epoch: 51, d_loss: 0.6596853733062744, g_loss: 0.7196900844573975\n",
            "Epoch: 52, d_loss: 0.6506196856498718, g_loss: 0.6816956400871277\n",
            "Epoch: 53, d_loss: 0.6560152769088745, g_loss: 0.7694315910339355\n",
            "Epoch: 54, d_loss: 0.6680126786231995, g_loss: 0.7055585384368896\n",
            "Epoch: 55, d_loss: 0.6602721810340881, g_loss: 0.7571949362754822\n",
            "Epoch: 56, d_loss: 0.6693379878997803, g_loss: 0.8631887435913086\n",
            "Epoch: 57, d_loss: 0.64970862865448, g_loss: 0.8642081618309021\n",
            "Epoch: 58, d_loss: 0.6442036628723145, g_loss: 0.6799246072769165\n",
            "Epoch: 59, d_loss: 0.6409380435943604, g_loss: 0.8231138586997986\n",
            "Epoch: 60, d_loss: 0.6569050550460815, g_loss: 0.9008969068527222\n",
            "Epoch: 61, d_loss: 0.6495732069015503, g_loss: 0.8890610933303833\n",
            "Epoch: 62, d_loss: 0.6638653874397278, g_loss: 0.5657325387001038\n",
            "Epoch: 63, d_loss: 0.6450389623641968, g_loss: 0.7615493535995483\n",
            "Epoch: 64, d_loss: 0.6550600528717041, g_loss: 0.8039571046829224\n",
            "Epoch: 65, d_loss: 0.6429812908172607, g_loss: 0.6540437340736389\n",
            "Epoch: 66, d_loss: 0.6486300230026245, g_loss: 0.7978233098983765\n",
            "Epoch: 67, d_loss: 0.6740518808364868, g_loss: 0.7969490885734558\n",
            "Epoch: 68, d_loss: 0.6564701795578003, g_loss: 0.7366600036621094\n",
            "Epoch: 69, d_loss: 0.632886528968811, g_loss: 0.7589399814605713\n",
            "Epoch: 70, d_loss: 0.606619119644165, g_loss: 1.0021051168441772\n",
            "Epoch: 71, d_loss: 0.648128867149353, g_loss: 0.7581928968429565\n",
            "Epoch: 72, d_loss: 0.6322446465492249, g_loss: 0.7781197428703308\n",
            "Epoch: 73, d_loss: 0.636228084564209, g_loss: 0.8181419372558594\n",
            "Epoch: 74, d_loss: 0.6632242202758789, g_loss: 0.6580658555030823\n",
            "Epoch: 75, d_loss: 0.6308831572532654, g_loss: 0.6270899772644043\n",
            "Epoch: 76, d_loss: 0.6786421537399292, g_loss: 0.792926549911499\n",
            "Epoch: 77, d_loss: 0.6104426383972168, g_loss: 0.8232965469360352\n",
            "Epoch: 78, d_loss: 0.6378303170204163, g_loss: 0.6393889784812927\n",
            "Epoch: 79, d_loss: 0.6224486231803894, g_loss: 0.8439676761627197\n",
            "Epoch: 80, d_loss: 0.6427830457687378, g_loss: 0.8901485800743103\n",
            "Epoch: 81, d_loss: 0.6326965689659119, g_loss: 0.6734890341758728\n",
            "Epoch: 82, d_loss: 0.6189635396003723, g_loss: 1.0995879173278809\n",
            "Epoch: 83, d_loss: 0.631121039390564, g_loss: 0.8034536242485046\n",
            "Epoch: 84, d_loss: 0.6353280544281006, g_loss: 0.8412178754806519\n",
            "Epoch: 85, d_loss: 0.6455158591270447, g_loss: 0.9404873847961426\n",
            "Epoch: 86, d_loss: 0.7043318748474121, g_loss: 0.41698405146598816\n",
            "Epoch: 87, d_loss: 0.6164126396179199, g_loss: 0.7535024881362915\n",
            "Epoch: 88, d_loss: 0.6036585569381714, g_loss: 1.0112345218658447\n",
            "Epoch: 89, d_loss: 0.7004450559616089, g_loss: 1.1545333862304688\n",
            "Epoch: 90, d_loss: 0.672962486743927, g_loss: 0.9164131879806519\n",
            "Epoch: 91, d_loss: 0.6180425882339478, g_loss: 1.038088083267212\n",
            "Epoch: 92, d_loss: 0.6161253452301025, g_loss: 0.7946540713310242\n",
            "Epoch: 93, d_loss: 0.6338457465171814, g_loss: 0.9738180041313171\n",
            "Epoch: 94, d_loss: 0.6187394857406616, g_loss: 0.8827714920043945\n",
            "Epoch: 95, d_loss: 0.6163996458053589, g_loss: 0.8503907918930054\n",
            "Epoch: 96, d_loss: 0.6157688498497009, g_loss: 0.859125018119812\n",
            "Epoch: 97, d_loss: 0.6751692891120911, g_loss: 0.8672523498535156\n",
            "Epoch: 98, d_loss: 0.6104992628097534, g_loss: 0.9304947853088379\n",
            "Epoch: 99, d_loss: 0.6474179029464722, g_loss: 0.584382176399231\n",
            "Epoch: 100, d_loss: 0.6147459745407104, g_loss: 1.0352752208709717\n",
            "Epoch: 101, d_loss: 0.6087058782577515, g_loss: 0.8030926585197449\n",
            "Epoch: 102, d_loss: 0.6309134364128113, g_loss: 0.5459492206573486\n",
            "Epoch: 103, d_loss: 0.6348862648010254, g_loss: 0.8041815161705017\n",
            "Epoch: 104, d_loss: 0.6271229982376099, g_loss: 0.6987058520317078\n",
            "Epoch: 105, d_loss: 0.59348464012146, g_loss: 1.192739725112915\n",
            "Epoch: 106, d_loss: 0.5857027173042297, g_loss: 0.9374589920043945\n",
            "Epoch: 107, d_loss: 0.6386209726333618, g_loss: 0.7846934199333191\n",
            "Epoch: 108, d_loss: 0.5743664503097534, g_loss: 0.7580207586288452\n",
            "Epoch: 109, d_loss: 0.6297802329063416, g_loss: 0.7625166773796082\n",
            "Epoch: 110, d_loss: 0.5906716585159302, g_loss: 1.0530755519866943\n",
            "Epoch: 111, d_loss: 0.6561264395713806, g_loss: 1.2768585681915283\n",
            "Epoch: 112, d_loss: 0.6105126142501831, g_loss: 0.8348970413208008\n",
            "Epoch: 113, d_loss: 0.6138838529586792, g_loss: 1.1156514883041382\n",
            "Epoch: 114, d_loss: 0.6041797399520874, g_loss: 1.0057581663131714\n",
            "Epoch: 115, d_loss: 0.6058050394058228, g_loss: 0.7933422923088074\n",
            "Epoch: 116, d_loss: 0.5898464322090149, g_loss: 0.8956906199455261\n",
            "Epoch: 117, d_loss: 0.6595025062561035, g_loss: 0.9952821731567383\n",
            "Epoch: 118, d_loss: 0.5975554585456848, g_loss: 0.7636429667472839\n",
            "Epoch: 119, d_loss: 0.6219057440757751, g_loss: 1.1706595420837402\n",
            "Epoch: 120, d_loss: 0.5607693791389465, g_loss: 0.912735104560852\n",
            "Epoch: 121, d_loss: 0.6079707741737366, g_loss: 0.9575695991516113\n",
            "Epoch: 122, d_loss: 0.6695678234100342, g_loss: 0.6771849393844604\n",
            "Epoch: 123, d_loss: 0.6404399871826172, g_loss: 1.294217824935913\n",
            "Epoch: 124, d_loss: 0.5972681641578674, g_loss: 1.0619394779205322\n",
            "Epoch: 125, d_loss: 0.5980000495910645, g_loss: 0.7543047666549683\n",
            "Epoch: 126, d_loss: 0.5795060396194458, g_loss: 1.0146825313568115\n",
            "Epoch: 127, d_loss: 0.5775694847106934, g_loss: 1.0386567115783691\n",
            "Epoch: 128, d_loss: 0.5784205198287964, g_loss: 1.085822582244873\n",
            "Epoch: 129, d_loss: 0.5768361687660217, g_loss: 0.8856943845748901\n",
            "Epoch: 130, d_loss: 0.6379544734954834, g_loss: 0.6299751400947571\n",
            "Epoch: 131, d_loss: 0.5607365369796753, g_loss: 0.9939905405044556\n",
            "Epoch: 132, d_loss: 0.5922159552574158, g_loss: 0.9836301207542419\n",
            "Epoch: 133, d_loss: 0.591920018196106, g_loss: 0.8964642882347107\n",
            "Epoch: 134, d_loss: 0.5988010764122009, g_loss: 0.9692544341087341\n",
            "Epoch: 135, d_loss: 0.5729516744613647, g_loss: 0.7916512489318848\n",
            "Epoch: 136, d_loss: 0.5885229706764221, g_loss: 0.8689331412315369\n",
            "Epoch: 137, d_loss: 0.6214733123779297, g_loss: 0.6410067081451416\n",
            "Epoch: 138, d_loss: 0.6025416851043701, g_loss: 0.8930060267448425\n",
            "Epoch: 139, d_loss: 0.5885291695594788, g_loss: 1.1428964138031006\n",
            "Epoch: 140, d_loss: 0.6507272720336914, g_loss: 1.129488468170166\n",
            "Epoch: 141, d_loss: 0.5711351633071899, g_loss: 1.176795482635498\n",
            "Epoch: 142, d_loss: 0.5916451215744019, g_loss: 0.8495306372642517\n",
            "Epoch: 143, d_loss: 0.5871469974517822, g_loss: 0.9124277830123901\n",
            "Epoch: 144, d_loss: 0.5472697615623474, g_loss: 0.8745741844177246\n",
            "Epoch: 145, d_loss: 0.570902943611145, g_loss: 0.82570481300354\n",
            "Epoch: 146, d_loss: 0.594270646572113, g_loss: 0.7991167902946472\n",
            "Epoch: 147, d_loss: 0.5754296183586121, g_loss: 1.0973763465881348\n",
            "Epoch: 148, d_loss: 0.5940460562705994, g_loss: 1.033237099647522\n",
            "Epoch: 149, d_loss: 0.6875581741333008, g_loss: 1.6345202922821045\n",
            "Epoch: 150, d_loss: 0.6000567078590393, g_loss: 0.927203893661499\n",
            "Epoch: 151, d_loss: 0.531281054019928, g_loss: 0.864000678062439\n",
            "Epoch: 152, d_loss: 0.5665425062179565, g_loss: 0.9102219343185425\n",
            "Epoch: 153, d_loss: 0.5899330973625183, g_loss: 1.1963248252868652\n",
            "Epoch: 154, d_loss: 0.6039224863052368, g_loss: 0.8254377245903015\n",
            "Epoch: 155, d_loss: 0.5687954425811768, g_loss: 0.9594802856445312\n",
            "Epoch: 156, d_loss: 0.6198720932006836, g_loss: 0.7676848769187927\n",
            "Epoch: 157, d_loss: 0.5837411284446716, g_loss: 1.1636179685592651\n",
            "Epoch: 158, d_loss: 0.579505443572998, g_loss: 0.7862186431884766\n",
            "Epoch: 159, d_loss: 0.5920259952545166, g_loss: 0.7192486524581909\n",
            "Epoch: 160, d_loss: 0.5779097080230713, g_loss: 1.068892478942871\n",
            "Epoch: 161, d_loss: 0.6065845489501953, g_loss: 0.907742440700531\n",
            "Epoch: 162, d_loss: 0.6276993155479431, g_loss: 1.1375175714492798\n",
            "Epoch: 163, d_loss: 0.5911458730697632, g_loss: 0.8696106672286987\n",
            "Epoch: 164, d_loss: 0.5935092568397522, g_loss: 0.7495235204696655\n",
            "Epoch: 165, d_loss: 0.5429683327674866, g_loss: 1.0730310678482056\n",
            "Epoch: 166, d_loss: 0.5939774513244629, g_loss: 0.7273566126823425\n",
            "Epoch: 167, d_loss: 0.5492430925369263, g_loss: 0.9495882987976074\n",
            "Epoch: 168, d_loss: 0.6541138887405396, g_loss: 0.8530740737915039\n",
            "Epoch: 169, d_loss: 0.5873894095420837, g_loss: 0.8562323451042175\n",
            "Epoch: 170, d_loss: 0.606343150138855, g_loss: 0.7330548167228699\n",
            "Epoch: 171, d_loss: 0.6156359910964966, g_loss: 0.8728794455528259\n",
            "Epoch: 172, d_loss: 0.5739567279815674, g_loss: 0.9153741598129272\n",
            "Epoch: 173, d_loss: 0.5225215554237366, g_loss: 1.08451247215271\n",
            "Epoch: 174, d_loss: 0.5520845651626587, g_loss: 0.8392238616943359\n",
            "Epoch: 175, d_loss: 0.5722897052764893, g_loss: 0.8864388465881348\n",
            "Epoch: 176, d_loss: 0.576620876789093, g_loss: 1.0731014013290405\n",
            "Epoch: 177, d_loss: 0.5642523765563965, g_loss: 0.7908552885055542\n",
            "Epoch: 178, d_loss: 0.5451908111572266, g_loss: 1.3544334173202515\n",
            "Epoch: 179, d_loss: 0.5588639974594116, g_loss: 1.193993330001831\n",
            "Epoch: 180, d_loss: 0.5648980140686035, g_loss: 0.8882932662963867\n",
            "Epoch: 181, d_loss: 0.6470953226089478, g_loss: 1.1602567434310913\n",
            "Epoch: 182, d_loss: 0.5411468744277954, g_loss: 0.9515611529350281\n",
            "Epoch: 183, d_loss: 0.6120061874389648, g_loss: 0.9495181441307068\n",
            "Epoch: 184, d_loss: 0.5878411531448364, g_loss: 0.791471004486084\n",
            "Epoch: 185, d_loss: 0.5684726238250732, g_loss: 1.1301578283309937\n",
            "Epoch: 186, d_loss: 0.5477907657623291, g_loss: 0.7650959491729736\n",
            "Epoch: 187, d_loss: 0.5800167918205261, g_loss: 0.6544137597084045\n",
            "Epoch: 188, d_loss: 0.5783733129501343, g_loss: 0.8971710205078125\n",
            "Epoch: 189, d_loss: 0.5477613210678101, g_loss: 1.1355113983154297\n",
            "Epoch: 190, d_loss: 0.5692367553710938, g_loss: 1.3962585926055908\n",
            "Epoch: 191, d_loss: 0.5428574085235596, g_loss: 1.008222222328186\n",
            "Epoch: 192, d_loss: 0.5513233542442322, g_loss: 1.163213849067688\n",
            "Epoch: 193, d_loss: 0.560882568359375, g_loss: 0.7824543714523315\n",
            "Epoch: 194, d_loss: 0.52541583776474, g_loss: 1.1892197132110596\n",
            "Epoch: 195, d_loss: 0.5929585695266724, g_loss: 1.4249671697616577\n",
            "Epoch: 196, d_loss: 0.569383978843689, g_loss: 1.2255746126174927\n",
            "Epoch: 197, d_loss: 0.5513883829116821, g_loss: 0.918787956237793\n",
            "Epoch: 198, d_loss: 0.5904569029808044, g_loss: 1.364558219909668\n",
            "Epoch: 199, d_loss: 0.5317479372024536, g_loss: 1.3063726425170898\n"
          ],
          "name": "stdout"
        }
      ]
    },
    {
      "cell_type": "markdown",
      "metadata": {
        "id": "hvoSQc1yWTGY"
      },
      "source": [
        "Plotamos as losses do discriminador e do gerador:"
      ]
    },
    {
      "cell_type": "code",
      "metadata": {
        "colab": {
          "base_uri": "https://localhost:8080/",
          "height": 265
        },
        "id": "TDtLvAuxWVtK",
        "outputId": "55e9c98e-ed8a-44a6-f5d1-59870446262c"
      },
      "source": [
        "plt.plot(g_losses, label='g_losses')\n",
        "plt.plot(d_losses, label='d_losses')\n",
        "plt.legend();"
      ],
      "execution_count": 14,
      "outputs": [
        {
          "output_type": "display_data",
          "data": {
            "image/png": "[encoded data removed]",
            "text/plain": [
              "<Figure size 432x288 with 1 Axes>"
            ]
          },
          "metadata": {
            "tags": [],
            "needs_background": "light"
          }
        }
      ]
    },
    {
      "cell_type": "markdown",
      "metadata": {
        "id": "vbwT75-_WYUP"
      },
      "source": [
        "E por fim, apresentamos algumas imagens geradas pela GAN:"
      ]
    },
    {
      "cell_type": "code",
      "metadata": {
        "colab": {
          "base_uri": "https://localhost:8080/",
          "height": 269
        },
        "id": "zmqGFpgwWaiP",
        "outputId": "911e9a7e-2139-4e3c-8713-896877e9503e"
      },
      "source": [
        "from skimage.io import imread\n",
        "\n",
        "a = imread('gan_images/1.png')\n",
        "plt.imshow(a);"
      ],
      "execution_count": 15,
      "outputs": [
        {
          "output_type": "display_data",
          "data": {
            "image/png": "[encoded data removed]",
            "text/plain": [
              "<Figure size 432x288 with 1 Axes>"
            ]
          },
          "metadata": {
            "tags": [],
            "needs_background": "light"
          }
        }
      ]
    },
    {
      "cell_type": "code",
      "metadata": {
        "colab": {
          "base_uri": "https://localhost:8080/",
          "height": 269
        },
        "id": "RdYR43c7Wc2q",
        "outputId": "8f563c0c-1482-4937-ccad-e7270c0e0353"
      },
      "source": [
        "a = imread('gan_images/50.png')\n",
        "plt.imshow(a);"
      ],
      "execution_count": 16,
      "outputs": [
        {
          "output_type": "display_data",
          "data": {
            "image/png": "[encoded data removed]",
            "text/plain": [
              "<Figure size 432x288 with 1 Axes>"
            ]
          },
          "metadata": {
            "tags": [],
            "needs_background": "light"
          }
        }
      ]
    },
    {
      "cell_type": "code",
      "metadata": {
        "colab": {
          "base_uri": "https://localhost:8080/",
          "height": 269
        },
        "id": "xT61ikPMWfKJ",
        "outputId": "28fe4d33-429c-4637-a2cd-3aa5320769b0"
      },
      "source": [
        "a = imread('gan_images/100.png')\n",
        "plt.imshow(a);"
      ],
      "execution_count": 17,
      "outputs": [
        {
          "output_type": "display_data",
          "data": {
            "image/png": "[encoded data removed]",
            "text/plain": [
              "<Figure size 432x288 with 1 Axes>"
            ]
          },
          "metadata": {
            "tags": [],
            "needs_background": "light"
          }
        }
      ]
    },
    {
      "cell_type": "code",
      "metadata": {
        "colab": {
          "base_uri": "https://localhost:8080/",
          "height": 269
        },
        "id": "oiYvNhG5Wid0",
        "outputId": "e6c68677-69b9-4c22-d37a-9f8861d781b1"
      },
      "source": [
        "a = imread('gan_images/150.png')\n",
        "plt.imshow(a);"
      ],
      "execution_count": 19,
      "outputs": [
        {
          "output_type": "display_data",
          "data": {
            "image/png": "[encoded data removed]",
            "text/plain": [
              "<Figure size 432x288 with 1 Axes>"
            ]
          },
          "metadata": {
            "tags": [],
            "needs_background": "light"
          }
        }
      ]
    },
    {
      "cell_type": "code",
      "metadata": {
        "colab": {
          "base_uri": "https://localhost:8080/",
          "height": 269
        },
        "id": "mGKdATJPWkIl",
        "outputId": "af2f1dff-81c1-4c7d-feb1-ab331d11ed9e"
      },
      "source": [
        "a = imread('gan_images/200.png')\n",
        "plt.imshow(a);"
      ],
      "execution_count": 20,
      "outputs": [
        {
          "output_type": "display_data",
          "data": {
            "image/png": "[encoded data removed]",
            "text/plain": [
              "<Figure size 432x288 with 1 Axes>"
            ]
          },
          "metadata": {
            "tags": [],
            "needs_background": "light"
          }
        }
      ]
    }
  ]
}