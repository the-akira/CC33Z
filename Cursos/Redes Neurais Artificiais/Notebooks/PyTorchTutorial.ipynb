{
  "nbformat": 4,
  "nbformat_minor": 0,
  "metadata": {
    "colab": {
      "name": "PyTorchTutorial.ipynb",
      "provenance": [],
      "collapsed_sections": []
    },
    "kernelspec": {
      "name": "python3",
      "display_name": "Python 3"
    },
    "language_info": {
      "name": "python"
    },
    "accelerator": "GPU"
  },
  "cells": [
    {
      "cell_type": "markdown",
      "metadata": {
        "id": "CXWxiupmIOke"
      },
      "source": [
        "# PyTorch Tutorial\n",
        "\n",
        "Neste notebook vamos estudar a biblioteca [PyTorch](https://pytorch.org/) e seus fundamentos.\n",
        "\n",
        "Existem diveras maneiras de instalar o PyTorch, visite o [site oficial](https://pytorch.org/get-started/locally/) para mais detalhes."
      ]
    },
    {
      "cell_type": "markdown",
      "metadata": {
        "id": "I6mklmgsJF7t"
      },
      "source": [
        "## Tensor\n",
        "\n",
        "Primeiramente vamos aprender como trabalhar com [Tensors](https://pytorch.org/docs/stable/tensors.html), que são matrizes multidimensionais que contém elementos de um único tipo de dados.\n",
        "\n",
        "Veremos como criá-los e algumas operações básicas com eles, assim como converter de [arrays NumPy](https://numpy.org/doc/stable/reference/generated/numpy.array.html) para Tensors e vice-versa.\n",
        "\n",
        "Em PyTorch, basicamente tudo é baseado em operações de Tensors, um Tensor pode ter diferentes dimensões (1D, 2D, 3D, etc).\n",
        "\n",
        "Começaremos criando um Tensor vazio:"
      ]
    },
    {
      "cell_type": "code",
      "metadata": {
        "colab": {
          "base_uri": "https://localhost:8080/"
        },
        "id": "sqOvFI3ZJ6Ye",
        "outputId": "ed384574-4e50-4715-a423-730bbbf1bdd8"
      },
      "source": [
        "import torch\n",
        "\n",
        "x = torch.empty(1)\n",
        "print(x)"
      ],
      "execution_count": null,
      "outputs": [
        {
          "output_type": "stream",
          "text": [
            "tensor([8.8433e+18])\n"
          ],
          "name": "stdout"
        }
      ]
    },
    {
      "cell_type": "markdown",
      "metadata": {
        "id": "udjWmmdtKQta"
      },
      "source": [
        "Dessa forma, temos um [Scalar](https://en.wikipedia.org/wiki/Scalar_(physics)).\n",
        "\n",
        "Podemos mudar para um vector de 1 dimensão ao alterar o argumento de **empty**:"
      ]
    },
    {
      "cell_type": "code",
      "metadata": {
        "colab": {
          "base_uri": "https://localhost:8080/"
        },
        "id": "MLUYAIlBKjFT",
        "outputId": "9347ccbf-d26d-419e-9cb4-42470f38120b"
      },
      "source": [
        "x = torch.empty(3)\n",
        "print(x)"
      ],
      "execution_count": null,
      "outputs": [
        {
          "output_type": "stream",
          "text": [
            "tensor([8.8445e+18, 3.0737e-41, 3.3631e-44])\n"
          ],
          "name": "stdout"
        }
      ]
    },
    {
      "cell_type": "markdown",
      "metadata": {
        "id": "EwQWsmOhKnkO"
      },
      "source": [
        "Agora temos 3 itens em nosso Tensor.\n",
        "\n",
        "Também podemos fazê-lo de 2 dimensões ao passar dois argumentos (linhas e colunas):"
      ]
    },
    {
      "cell_type": "code",
      "metadata": {
        "colab": {
          "base_uri": "https://localhost:8080/"
        },
        "id": "BjZ_ZMf2KxXl",
        "outputId": "64d8f0c6-ceea-4989-c1a8-d924e94a8329"
      },
      "source": [
        "x = torch.empty(2, 3)\n",
        "print(x)"
      ],
      "execution_count": null,
      "outputs": [
        {
          "output_type": "stream",
          "text": [
            "tensor([[8.8448e+18, 3.0737e-41, 4.4842e-44],\n",
            "        [0.0000e+00,        nan, 1.3593e-43]])\n"
          ],
          "name": "stdout"
        }
      ]
    },
    {
      "cell_type": "markdown",
      "metadata": {
        "id": "YI6hQ0-SK4Za"
      },
      "source": [
        "Seguindo a mesma lógica, podemos torná-lo em um Tensor de 3 dimensões:"
      ]
    },
    {
      "cell_type": "code",
      "metadata": {
        "colab": {
          "base_uri": "https://localhost:8080/"
        },
        "id": "_GODC02OK9kg",
        "outputId": "666cbc00-03ac-4f75-d306-4acd1ab8140f"
      },
      "source": [
        "x = torch.empty(2, 2, 3)\n",
        "print(x)"
      ],
      "execution_count": null,
      "outputs": [
        {
          "output_type": "stream",
          "text": [
            "tensor([[[9.2062e+18, 3.0737e-41, 3.3631e-44],\n",
            "         [2.0000e+00, 0.0000e+00, 2.0000e+00]],\n",
            "\n",
            "        [[0.0000e+00, 2.0000e+00, 0.0000e+00],\n",
            "         [2.0000e+00, 6.0289e-01, 9.3184e-01]]])\n"
          ],
          "name": "stdout"
        }
      ]
    },
    {
      "cell_type": "markdown",
      "metadata": {
        "id": "vQuFvFC4LG3J"
      },
      "source": [
        "Até mesmo 4 dimensões é possível, porém torna-se difícil de visualizarmos e compreendermos, por isso vamos nos limitar até 3 dimensões.\n",
        "\n",
        "Também podemos criar um Tensor com valores aleatórios, por exemplo:"
      ]
    },
    {
      "cell_type": "code",
      "metadata": {
        "colab": {
          "base_uri": "https://localhost:8080/"
        },
        "id": "s7Q9XBPwLTUb",
        "outputId": "a7bdd8e6-ccb5-467b-a571-73587cbc49f5"
      },
      "source": [
        "x = torch.rand(2, 2)\n",
        "print(x)"
      ],
      "execution_count": null,
      "outputs": [
        {
          "output_type": "stream",
          "text": [
            "tensor([[0.7913, 0.7339],\n",
            "        [0.9869, 0.0273]])\n"
          ],
          "name": "stdout"
        }
      ]
    },
    {
      "cell_type": "markdown",
      "metadata": {
        "id": "UWhlp9zNLYHV"
      },
      "source": [
        "É possível também criarmos um Tensor somente com 0's:"
      ]
    },
    {
      "cell_type": "code",
      "metadata": {
        "colab": {
          "base_uri": "https://localhost:8080/"
        },
        "id": "U-f7A881LffE",
        "outputId": "468001c8-5dc7-4c59-d3af-d389d7a391a1"
      },
      "source": [
        "x = torch.zeros(3, 3)\n",
        "print(x)"
      ],
      "execution_count": null,
      "outputs": [
        {
          "output_type": "stream",
          "text": [
            "tensor([[0., 0., 0.],\n",
            "        [0., 0., 0.],\n",
            "        [0., 0., 0.]])\n"
          ],
          "name": "stdout"
        }
      ]
    },
    {
      "cell_type": "markdown",
      "metadata": {
        "id": "hRXaXkE8LkXL"
      },
      "source": [
        "Com 1's:"
      ]
    },
    {
      "cell_type": "code",
      "metadata": {
        "colab": {
          "base_uri": "https://localhost:8080/"
        },
        "id": "iZ7LGUeYLom-",
        "outputId": "bef3b60b-7a7e-4a95-9ed4-f1706ed33d84"
      },
      "source": [
        "x = torch.ones(3, 3)\n",
        "print(x)"
      ],
      "execution_count": null,
      "outputs": [
        {
          "output_type": "stream",
          "text": [
            "tensor([[1., 1., 1.],\n",
            "        [1., 1., 1.],\n",
            "        [1., 1., 1.]])\n"
          ],
          "name": "stdout"
        }
      ]
    },
    {
      "cell_type": "markdown",
      "metadata": {
        "id": "UXHtrwK6Lr3U"
      },
      "source": [
        "Também podemos informar um tipo de dados específico.\n",
        "\n",
        "Observe que por padrão o Tensor é criado com o tipo **float32**:"
      ]
    },
    {
      "cell_type": "code",
      "metadata": {
        "colab": {
          "base_uri": "https://localhost:8080/"
        },
        "id": "rJIR1R5lLvpP",
        "outputId": "e8ea32d5-d529-4e79-dd55-ab9d22ce243e"
      },
      "source": [
        "x = torch.empty(1, 4)\n",
        "print(x.dtype)"
      ],
      "execution_count": null,
      "outputs": [
        {
          "output_type": "stream",
          "text": [
            "torch.float32\n"
          ],
          "name": "stdout"
        }
      ]
    },
    {
      "cell_type": "markdown",
      "metadata": {
        "id": "GoK1ugKuMEL8"
      },
      "source": [
        "Alterando o parâmetro **dtype** podemos transformar para **int**:"
      ]
    },
    {
      "cell_type": "code",
      "metadata": {
        "colab": {
          "base_uri": "https://localhost:8080/"
        },
        "id": "dVam37QBMRjT",
        "outputId": "26284e07-507a-4234-eeef-07111c598796"
      },
      "source": [
        "x = torch.empty(1, 4, dtype=torch.int)\n",
        "print(x.dtype)"
      ],
      "execution_count": null,
      "outputs": [
        {
          "output_type": "stream",
          "text": [
            "torch.int32\n"
          ],
          "name": "stdout"
        }
      ]
    },
    {
      "cell_type": "markdown",
      "metadata": {
        "id": "DwOuNXZaM4ho"
      },
      "source": [
        "Conseguimos ver o tamanho do Tensor através do método **size**:"
      ]
    },
    {
      "cell_type": "code",
      "metadata": {
        "colab": {
          "base_uri": "https://localhost:8080/"
        },
        "id": "hCnsb01zM-gw",
        "outputId": "97f4ae07-8585-4875-a7a6-0fc204d939a1"
      },
      "source": [
        "print(x.size())"
      ],
      "execution_count": null,
      "outputs": [
        {
          "output_type": "stream",
          "text": [
            "torch.Size([1, 4])\n"
          ],
          "name": "stdout"
        }
      ]
    },
    {
      "cell_type": "markdown",
      "metadata": {
        "id": "Mv22cLniNFDz"
      },
      "source": [
        "Também podemos criar um Tensor a partir de uma outra estrutura de dados, como por exemplo, uma lista Python:"
      ]
    },
    {
      "cell_type": "code",
      "metadata": {
        "colab": {
          "base_uri": "https://localhost:8080/"
        },
        "id": "_YMAecCWVbZ-",
        "outputId": "230f261f-faf3-4fb2-863a-741cf7034e60"
      },
      "source": [
        "x = torch.tensor([1,2,0.5])\n",
        "print(x)"
      ],
      "execution_count": null,
      "outputs": [
        {
          "output_type": "stream",
          "text": [
            "tensor([1.0000, 2.0000, 0.5000])\n"
          ],
          "name": "stdout"
        }
      ]
    },
    {
      "cell_type": "markdown",
      "metadata": {
        "id": "c1tQe2GZVkub"
      },
      "source": [
        "## Operações\n",
        "\n",
        "Vejamos agora algumas operações básicas que podemos executar.\n",
        "\n",
        "Iniciaremos definindo dois Tensors com valores aleatórios:"
      ]
    },
    {
      "cell_type": "code",
      "metadata": {
        "colab": {
          "base_uri": "https://localhost:8080/"
        },
        "id": "k2cYAXiDVrNf",
        "outputId": "e0f1bc41-9db4-4bb7-b017-a8a6a8357bba"
      },
      "source": [
        "x = torch.rand(2,2)\n",
        "y = torch.rand(2,2)\n",
        "\n",
        "print(x)\n",
        "print(y)"
      ],
      "execution_count": null,
      "outputs": [
        {
          "output_type": "stream",
          "text": [
            "tensor([[0.2571, 0.2093],\n",
            "        [0.6417, 0.7596]])\n",
            "tensor([[0.9045, 0.7261],\n",
            "        [0.6304, 0.4823]])\n"
          ],
          "name": "stdout"
        }
      ]
    },
    {
      "cell_type": "markdown",
      "metadata": {
        "id": "DAVqzp5cVyEV"
      },
      "source": [
        "Adição básica (Element-wise):"
      ]
    },
    {
      "cell_type": "code",
      "metadata": {
        "colab": {
          "base_uri": "https://localhost:8080/"
        },
        "id": "dHZLzW1yVzkT",
        "outputId": "6cbbd91f-c3dd-4eb2-a086-356eae545db5"
      },
      "source": [
        "z = x + y \n",
        "print(z)"
      ],
      "execution_count": null,
      "outputs": [
        {
          "output_type": "stream",
          "text": [
            "tensor([[1.1615, 0.9354],\n",
            "        [1.2722, 1.2419]])\n"
          ],
          "name": "stdout"
        }
      ]
    },
    {
      "cell_type": "markdown",
      "metadata": {
        "id": "OffFbMlOV6EU"
      },
      "source": [
        "Da mesma forma, podemos expressar a adição da seguinte forma:"
      ]
    },
    {
      "cell_type": "code",
      "metadata": {
        "colab": {
          "base_uri": "https://localhost:8080/"
        },
        "id": "74XNzU0AV80X",
        "outputId": "5ff4943b-6958-45f1-e79d-e3562e1f6a44"
      },
      "source": [
        "z = torch.add(x, y)\n",
        "print(z)"
      ],
      "execution_count": null,
      "outputs": [
        {
          "output_type": "stream",
          "text": [
            "tensor([[1.1615, 0.9354],\n",
            "        [1.2722, 1.2419]])\n"
          ],
          "name": "stdout"
        }
      ]
    },
    {
      "cell_type": "markdown",
      "metadata": {
        "id": "Hkm49QNPWXUS"
      },
      "source": [
        "Subtração básica (Element-wise):"
      ]
    },
    {
      "cell_type": "code",
      "metadata": {
        "colab": {
          "base_uri": "https://localhost:8080/"
        },
        "id": "-z_c21zZWaFB",
        "outputId": "fb8ebe88-93e8-407d-ff38-21db32cb6f68"
      },
      "source": [
        "z = x - y\n",
        "print(z)"
      ],
      "execution_count": null,
      "outputs": [
        {
          "output_type": "stream",
          "text": [
            "tensor([[-0.6474, -0.5168],\n",
            "        [ 0.0113,  0.2773]])\n"
          ],
          "name": "stdout"
        }
      ]
    },
    {
      "cell_type": "markdown",
      "metadata": {
        "id": "F12npOPBWlXG"
      },
      "source": [
        "Da mesma forma, podemos expressar a subtração da seguinte forma:"
      ]
    },
    {
      "cell_type": "code",
      "metadata": {
        "colab": {
          "base_uri": "https://localhost:8080/"
        },
        "id": "2V9cz7R4WmzM",
        "outputId": "9ac154f5-be7f-48ba-fc85-13e6f9cfbd4d"
      },
      "source": [
        "z = torch.sub(x, y)\n",
        "print(z)"
      ],
      "execution_count": null,
      "outputs": [
        {
          "output_type": "stream",
          "text": [
            "tensor([[-0.6474, -0.5168],\n",
            "        [ 0.0113,  0.2773]])\n"
          ],
          "name": "stdout"
        }
      ]
    },
    {
      "cell_type": "markdown",
      "metadata": {
        "id": "gLUZbk68WsNN"
      },
      "source": [
        "Multiplicação básica (Element-wise):"
      ]
    },
    {
      "cell_type": "code",
      "metadata": {
        "colab": {
          "base_uri": "https://localhost:8080/"
        },
        "id": "cgv6HTiyWtha",
        "outputId": "feff508a-cd3b-4751-c34f-7c88cc9ee26b"
      },
      "source": [
        "z = x * y\n",
        "print(z)"
      ],
      "execution_count": null,
      "outputs": [
        {
          "output_type": "stream",
          "text": [
            "tensor([[0.2325, 0.1520],\n",
            "        [0.4046, 0.3664]])\n"
          ],
          "name": "stdout"
        }
      ]
    },
    {
      "cell_type": "markdown",
      "metadata": {
        "id": "Y6DVGdlqWwrE"
      },
      "source": [
        "Da mesma forma, podemos expressar a multiplicação da seguinte forma:"
      ]
    },
    {
      "cell_type": "code",
      "metadata": {
        "colab": {
          "base_uri": "https://localhost:8080/"
        },
        "id": "nLXNM45VWy6r",
        "outputId": "1909ded0-00a6-4c05-80c0-e9393df4449c"
      },
      "source": [
        "z = torch.mul(x, y)\n",
        "print(z)"
      ],
      "execution_count": null,
      "outputs": [
        {
          "output_type": "stream",
          "text": [
            "tensor([[0.2325, 0.1520],\n",
            "        [0.4046, 0.3664]])\n"
          ],
          "name": "stdout"
        }
      ]
    },
    {
      "cell_type": "markdown",
      "metadata": {
        "id": "Z_kgEe64W3Hk"
      },
      "source": [
        "Divisão básica (Element-wise):"
      ]
    },
    {
      "cell_type": "code",
      "metadata": {
        "colab": {
          "base_uri": "https://localhost:8080/"
        },
        "id": "UWjYJ_7zW6AM",
        "outputId": "0b9d683b-d851-44e6-f580-9d3977af54b2"
      },
      "source": [
        "z = x / y\n",
        "print(z)"
      ],
      "execution_count": null,
      "outputs": [
        {
          "output_type": "stream",
          "text": [
            "tensor([[0.2842, 0.2882],\n",
            "        [1.0179, 1.5749]])\n"
          ],
          "name": "stdout"
        }
      ]
    },
    {
      "cell_type": "markdown",
      "metadata": {
        "id": "bRYXmciSW8c9"
      },
      "source": [
        "Da mesma forma, podemos expressar a divisão da seguinte forma:"
      ]
    },
    {
      "cell_type": "code",
      "metadata": {
        "colab": {
          "base_uri": "https://localhost:8080/"
        },
        "id": "kbM6Q2VeW970",
        "outputId": "3493acf9-a3e6-4b62-d516-4a86ef599f37"
      },
      "source": [
        "z = torch.div(x, y)\n",
        "print(z)"
      ],
      "execution_count": null,
      "outputs": [
        {
          "output_type": "stream",
          "text": [
            "tensor([[0.2842, 0.2882],\n",
            "        [1.0179, 1.5749]])\n"
          ],
          "name": "stdout"
        }
      ]
    },
    {
      "cell_type": "markdown",
      "metadata": {
        "id": "5eDSAcowXHRu"
      },
      "source": [
        "Assim como os arrays NumPy, também podemos executar operações de slicing nos Tensors.\n",
        "\n",
        "Vejamos um exemplo:"
      ]
    },
    {
      "cell_type": "code",
      "metadata": {
        "colab": {
          "base_uri": "https://localhost:8080/"
        },
        "id": "ws9X2nzoXOlV",
        "outputId": "f26e3c5e-58b5-4c84-f854-6e9bb059cc2e"
      },
      "source": [
        "x = torch.rand(5, 3)\n",
        "print(x)"
      ],
      "execution_count": null,
      "outputs": [
        {
          "output_type": "stream",
          "text": [
            "tensor([[0.0300, 0.6424, 0.3933],\n",
            "        [0.5361, 0.9011, 0.3667],\n",
            "        [0.7730, 0.3112, 0.0898],\n",
            "        [0.7467, 0.7579, 0.6274],\n",
            "        [0.5114, 0.6914, 0.8884]])\n"
          ],
          "name": "stdout"
        }
      ]
    },
    {
      "cell_type": "markdown",
      "metadata": {
        "id": "RS0z8HRNXWn2"
      },
      "source": [
        "Obtendo todas as linhas e apenas uma coluna.\n",
        "\n",
        "Neste exemplo, vamos selecionar todas as linhas da primeira coluna:"
      ]
    },
    {
      "cell_type": "code",
      "metadata": {
        "colab": {
          "base_uri": "https://localhost:8080/"
        },
        "id": "YiiC2i3UXYbv",
        "outputId": "b73c3de8-5e6e-4437-985c-955a4d5d0878"
      },
      "source": [
        "print(x[:, 0])"
      ],
      "execution_count": null,
      "outputs": [
        {
          "output_type": "stream",
          "text": [
            "tensor([0.0300, 0.5361, 0.7730, 0.7467, 0.5114])\n"
          ],
          "name": "stdout"
        }
      ]
    },
    {
      "cell_type": "markdown",
      "metadata": {
        "id": "EaSASW_YXyre"
      },
      "source": [
        "Obtendo todas as colunas e apenas uma linha.\n",
        "\n",
        "Neste exemplo, vamos selecionar todas as colunas e apenas a primeira linha:"
      ]
    },
    {
      "cell_type": "code",
      "metadata": {
        "colab": {
          "base_uri": "https://localhost:8080/"
        },
        "id": "8kTnNttIYFD2",
        "outputId": "5c2e312b-662b-463b-a8e5-faa5a7261f2d"
      },
      "source": [
        "print(x[0, :])"
      ],
      "execution_count": null,
      "outputs": [
        {
          "output_type": "stream",
          "text": [
            "tensor([0.0300, 0.6424, 0.3933])\n"
          ],
          "name": "stdout"
        }
      ]
    },
    {
      "cell_type": "markdown",
      "metadata": {
        "id": "VJNf3yNQYOSr"
      },
      "source": [
        "Selecionando apenas um elemento.\n",
        "\n",
        "Neste exemplo, vamos selecionar apenas o elemento da segunda linha e segunda coluna:"
      ]
    },
    {
      "cell_type": "code",
      "metadata": {
        "colab": {
          "base_uri": "https://localhost:8080/"
        },
        "id": "3-gzjUQzYVec",
        "outputId": "e32de5e6-a601-4db4-dba1-a22c84c87d63"
      },
      "source": [
        "print(x[1,1])"
      ],
      "execution_count": null,
      "outputs": [
        {
          "output_type": "stream",
          "text": [
            "tensor(0.9011)\n"
          ],
          "name": "stdout"
        }
      ]
    },
    {
      "cell_type": "markdown",
      "metadata": {
        "id": "r4NgUqB2YeMh"
      },
      "source": [
        "O método **item** nos traz o valor de fato, por exemplo:"
      ]
    },
    {
      "cell_type": "code",
      "metadata": {
        "colab": {
          "base_uri": "https://localhost:8080/"
        },
        "id": "XfPzy8zIYh4H",
        "outputId": "530141db-690d-452b-bdab-2f7569671558"
      },
      "source": [
        "print(x[1,1].item())"
      ],
      "execution_count": null,
      "outputs": [
        {
          "output_type": "stream",
          "text": [
            "0.9010779857635498\n"
          ],
          "name": "stdout"
        }
      ]
    },
    {
      "cell_type": "markdown",
      "metadata": {
        "id": "K4amEmPNYxeL"
      },
      "source": [
        "## Reshaping\n",
        "\n",
        "Agora vamos ver como podemos mudar a forma de um Tensor.\n",
        "\n",
        "Digamos que temos um Tensor de 4 linhas e 4 colunas:"
      ]
    },
    {
      "cell_type": "code",
      "metadata": {
        "colab": {
          "base_uri": "https://localhost:8080/"
        },
        "id": "CvVB3hUZY1XB",
        "outputId": "60496338-12bd-4d34-8fd0-fd657883a9d9"
      },
      "source": [
        "x = torch.rand(4,4)\n",
        "print(x)"
      ],
      "execution_count": null,
      "outputs": [
        {
          "output_type": "stream",
          "text": [
            "tensor([[0.1643, 0.2254, 0.6051, 0.4687],\n",
            "        [0.2242, 0.8467, 0.2485, 0.0175],\n",
            "        [0.1061, 0.4917, 0.8280, 0.8843],\n",
            "        [0.0178, 0.2463, 0.1733, 0.2084]])\n"
          ],
          "name": "stdout"
        }
      ]
    },
    {
      "cell_type": "markdown",
      "metadata": {
        "id": "Sj5J-ArFZQoM"
      },
      "source": [
        "Se quisermos alterar sua forma (**shape**) podemos usar o método **view**.\n",
        "\n",
        "Digamos que desejamos alterar o nosso Tensor para apenas 1 dimensão:"
      ]
    },
    {
      "cell_type": "code",
      "metadata": {
        "colab": {
          "base_uri": "https://localhost:8080/"
        },
        "id": "oJi8-roKZcsO",
        "outputId": "61547dcc-44fb-4e8e-e8f7-962cbb19a247"
      },
      "source": [
        "y = x.view(16)\n",
        "print(y)"
      ],
      "execution_count": null,
      "outputs": [
        {
          "output_type": "stream",
          "text": [
            "tensor([0.1643, 0.2254, 0.6051, 0.4687, 0.2242, 0.8467, 0.2485, 0.0175, 0.1061,\n",
            "        0.4917, 0.8280, 0.8843, 0.0178, 0.2463, 0.1733, 0.2084])\n"
          ],
          "name": "stdout"
        }
      ]
    },
    {
      "cell_type": "markdown",
      "metadata": {
        "id": "IU0sPkW5Zh2Y"
      },
      "source": [
        "Digamos que queremos que ele tenha 8 colunas:"
      ]
    },
    {
      "cell_type": "code",
      "metadata": {
        "colab": {
          "base_uri": "https://localhost:8080/"
        },
        "id": "u0TwOeMIZ0zB",
        "outputId": "dd4813ed-fa27-456f-8045-6d4312b0b383"
      },
      "source": [
        "y = x.view(-1, 8)\n",
        "print(y)"
      ],
      "execution_count": null,
      "outputs": [
        {
          "output_type": "stream",
          "text": [
            "tensor([[0.1643, 0.2254, 0.6051, 0.4687, 0.2242, 0.8467, 0.2485, 0.0175],\n",
            "        [0.1061, 0.4917, 0.8280, 0.8843, 0.0178, 0.2463, 0.1733, 0.2084]])\n"
          ],
          "name": "stdout"
        }
      ]
    },
    {
      "cell_type": "markdown",
      "metadata": {
        "id": "nEcyInpoZ_1j"
      },
      "source": [
        "O atributo **shape** nos permite vermos a forma de um Tensor, por exemplo:"
      ]
    },
    {
      "cell_type": "code",
      "metadata": {
        "colab": {
          "base_uri": "https://localhost:8080/"
        },
        "id": "I4lXRalUaEKb",
        "outputId": "d63edd0a-7ba7-4561-cba0-164a7f9f8256"
      },
      "source": [
        "print(y.shape)"
      ],
      "execution_count": null,
      "outputs": [
        {
          "output_type": "stream",
          "text": [
            "torch.Size([2, 8])\n"
          ],
          "name": "stdout"
        }
      ]
    },
    {
      "cell_type": "markdown",
      "metadata": {
        "id": "e1paeablaKm0"
      },
      "source": [
        "## Conversões NumPy\n",
        "\n",
        "Vejamos como podemos fazer a conversão de arrays NumPy para Tensors e vice-versa.\n",
        "\n",
        "Primeiramente vamos criar um Tensor e em seguida vamos convertê-lo para um array NumPy:"
      ]
    },
    {
      "cell_type": "code",
      "metadata": {
        "colab": {
          "base_uri": "https://localhost:8080/"
        },
        "id": "gOX7x5CPaomm",
        "outputId": "0050964b-1da5-45ed-a13f-782b1d954d0f"
      },
      "source": [
        "a = torch.ones(5)\n",
        "print(a)\n",
        "print(type(a))\n",
        "\n",
        "b = a.numpy()\n",
        "print(b)\n",
        "print(type(b))"
      ],
      "execution_count": null,
      "outputs": [
        {
          "output_type": "stream",
          "text": [
            "tensor([1., 1., 1., 1., 1.])\n",
            "<class 'torch.Tensor'>\n",
            "[1. 1. 1. 1. 1.]\n",
            "<class 'numpy.ndarray'>\n"
          ],
          "name": "stdout"
        }
      ]
    },
    {
      "cell_type": "markdown",
      "metadata": {
        "id": "DvSfY5GAbB15"
      },
      "source": [
        "Tenha cuidado, pois ambos os objetos compartilham espaço em memória.\n",
        "\n",
        "Se modificarmos, por exemplo, o Tensor, automaticamente o array NumPy será afetado.\n",
        "\n",
        "Podemos ver um exemplo deste efeito ao usarmos o método **add_** que modifica um Tensor in-place:"
      ]
    },
    {
      "cell_type": "code",
      "metadata": {
        "colab": {
          "base_uri": "https://localhost:8080/"
        },
        "id": "wZzHD08ObQMI",
        "outputId": "bcede51d-d6d4-464d-cf1b-9f2b04f9518a"
      },
      "source": [
        "a.add_(1)\n",
        "print(a)\n",
        "print(b)"
      ],
      "execution_count": null,
      "outputs": [
        {
          "output_type": "stream",
          "text": [
            "tensor([2., 2., 2., 2., 2.])\n",
            "[2. 2. 2. 2. 2.]\n"
          ],
          "name": "stdout"
        }
      ]
    },
    {
      "cell_type": "markdown",
      "metadata": {
        "id": "P1FZ6liPbY0y"
      },
      "source": [
        "Digamos agora que temos um array NumPy e queremos convertê-lo para um Tensor:"
      ]
    },
    {
      "cell_type": "code",
      "metadata": {
        "colab": {
          "base_uri": "https://localhost:8080/"
        },
        "id": "KTSZlr1kbfIc",
        "outputId": "11c7135b-c286-4647-cd4c-e99608b43440"
      },
      "source": [
        "import numpy as np\n",
        "\n",
        "a = np.ones(5)\n",
        "print(a)\n",
        "print(type(a))\n",
        "\n",
        "b = torch.from_numpy(a)\n",
        "print(b)\n",
        "print(type(b))"
      ],
      "execution_count": null,
      "outputs": [
        {
          "output_type": "stream",
          "text": [
            "[1. 1. 1. 1. 1.]\n",
            "<class 'numpy.ndarray'>\n",
            "tensor([1., 1., 1., 1., 1.], dtype=torch.float64)\n",
            "<class 'torch.Tensor'>\n"
          ],
          "name": "stdout"
        }
      ]
    },
    {
      "cell_type": "markdown",
      "metadata": {
        "id": "w5Hzpcc7buz5"
      },
      "source": [
        "Da mesma forma, temos que ficar atentos ao compartilhamento de memória dos objetos.\n",
        "\n",
        "Se modificarmos o array NumPy, também estaremos automaticamente modificando o Tensor:"
      ]
    },
    {
      "cell_type": "code",
      "metadata": {
        "colab": {
          "base_uri": "https://localhost:8080/"
        },
        "id": "SGEDnkYdb2EH",
        "outputId": "f40dd945-2a04-481a-9511-f941ce8b0fea"
      },
      "source": [
        "a += 1\n",
        "print(a)\n",
        "print(b)"
      ],
      "execution_count": null,
      "outputs": [
        {
          "output_type": "stream",
          "text": [
            "[2. 2. 2. 2. 2.]\n",
            "tensor([2., 2., 2., 2., 2.], dtype=torch.float64)\n"
          ],
          "name": "stdout"
        }
      ]
    },
    {
      "cell_type": "markdown",
      "metadata": {
        "id": "Zvj_mfdecuF_"
      },
      "source": [
        "## Operações na GPU\n",
        "\n",
        "Um dos grandes poderes de PyTorch é a sua capacidade de executar operações em uma GPU.\n",
        "\n",
        "Vejamos como podemos realizar essa tarefa:"
      ]
    },
    {
      "cell_type": "code",
      "metadata": {
        "id": "yT6NNTPec3m7"
      },
      "source": [
        "if torch.cuda.is_available():\n",
        "    device = torch.device('cuda')\n",
        "    x = torch.ones(5, device=device)\n",
        "    y = torch.ones(5)\n",
        "    y = y.to(device)\n",
        "    z = x + y\n",
        "    print(z)"
      ],
      "execution_count": null,
      "outputs": []
    },
    {
      "cell_type": "markdown",
      "metadata": {
        "id": "kHOGrihjdU_T"
      },
      "source": [
        "Neste caso, nosso Tensor **z** reside na GPU, se quisermos converter ele para um array NumPy, primeiro devemos passá-lo para a CPU:"
      ]
    },
    {
      "cell_type": "code",
      "metadata": {
        "colab": {
          "base_uri": "https://localhost:8080/"
        },
        "id": "aPk-H3iYdjB6",
        "outputId": "12bd6fe6-9181-41a9-f10c-bc30049400c2"
      },
      "source": [
        "z = z.to('cpu')\n",
        "print(z.numpy())"
      ],
      "execution_count": null,
      "outputs": [
        {
          "output_type": "stream",
          "text": [
            "[[0.28422618 0.28822917]\n",
            " [1.0179443  1.5749168 ]]\n"
          ],
          "name": "stdout"
        }
      ]
    },
    {
      "cell_type": "markdown",
      "metadata": {
        "id": "zUmopyx6eDVA"
      },
      "source": [
        "## Calculando Gradients\n",
        "\n",
        "Conhecendo o básico de Tensors, agora vamos aprender a usar o pacote **autograd** do PyTorch para calcular gradients.\n",
        "\n",
        "Os gradients são essenciais para a otimização de um modelo, portanto são um conceito muito importante dentro do contexto de Deep Learning.\n",
        "\n",
        "Começamos definindo um Tensor, observe que vamos setar o parâmetro **requires_grad** como **True**:"
      ]
    },
    {
      "cell_type": "code",
      "metadata": {
        "colab": {
          "base_uri": "https://localhost:8080/"
        },
        "id": "6BtC64Mp7i_H",
        "outputId": "ecb7a0ff-3eee-4432-fb4d-607a50fb4f62"
      },
      "source": [
        "x = torch.tensor(5.0, requires_grad=True)\n",
        "print(x)"
      ],
      "execution_count": null,
      "outputs": [
        {
          "output_type": "stream",
          "text": [
            "tensor(5., requires_grad=True)\n"
          ],
          "name": "stdout"
        }
      ]
    },
    {
      "cell_type": "markdown",
      "metadata": {
        "id": "drq7ARET76kN"
      },
      "source": [
        "Conforme executamos operações com esse Tensor, PyTorch irá criar um Grafo Computacional:"
      ]
    },
    {
      "cell_type": "code",
      "metadata": {
        "colab": {
          "base_uri": "https://localhost:8080/"
        },
        "id": "EY-EKsFF8ACR",
        "outputId": "86bcaff5-1864-4be6-d63c-6b974878731b"
      },
      "source": [
        "y = x - 2 \n",
        "print(y)"
      ],
      "execution_count": null,
      "outputs": [
        {
          "output_type": "stream",
          "text": [
            "tensor(3., grad_fn=<SubBackward0>)\n"
          ],
          "name": "stdout"
        }
      ]
    },
    {
      "cell_type": "markdown",
      "metadata": {
        "id": "PqH1FyNS8yBd"
      },
      "source": [
        "Vamos agora fazer mais uma operação com o nosso Tensor:"
      ]
    },
    {
      "cell_type": "code",
      "metadata": {
        "colab": {
          "base_uri": "https://localhost:8080/"
        },
        "id": "4bbOJ3VI82Qn",
        "outputId": "5571696c-a863-4a5e-d185-7ef1b101ca69"
      },
      "source": [
        "z = y * (-4)\n",
        "print(z)"
      ],
      "execution_count": null,
      "outputs": [
        {
          "output_type": "stream",
          "text": [
            "tensor(-12., grad_fn=<MulBackward0>)\n"
          ],
          "name": "stdout"
        }
      ]
    },
    {
      "cell_type": "markdown",
      "metadata": {
        "id": "UvnFDurC9GX-"
      },
      "source": [
        "Para calcular o gradient usamos o método **backward**.\n",
        "\n",
        "Neste exemplo, vamos calcular o gradient $ \\frac{\\partial z}{\\partial x} $"
      ]
    },
    {
      "cell_type": "code",
      "metadata": {
        "colab": {
          "base_uri": "https://localhost:8080/"
        },
        "id": "HvET9c699bnG",
        "outputId": "e6d5d2e2-0884-4943-e136-f76c3403edf9"
      },
      "source": [
        "z.backward()\n",
        "print(x.grad)"
      ],
      "execution_count": null,
      "outputs": [
        {
          "output_type": "stream",
          "text": [
            "tensor(-4.)\n"
          ],
          "name": "stdout"
        }
      ]
    },
    {
      "cell_type": "markdown",
      "metadata": {
        "id": "9U3VzMxQABhs"
      },
      "source": [
        "Se eventualmente quisermos evitar que PyTorch crie as funções de gradient para rastrear o histórico de computações no grafo computacional, podemos usar algumas opções.\n",
        "\n",
        "Primeiramente, temos o método **detach**:"
      ]
    },
    {
      "cell_type": "code",
      "metadata": {
        "colab": {
          "base_uri": "https://localhost:8080/"
        },
        "id": "lXpGzAyRAViU",
        "outputId": "5c2b3af1-72ea-4c24-b9ff-81b44bce9899"
      },
      "source": [
        "y = x.detach()\n",
        "print(y)"
      ],
      "execution_count": null,
      "outputs": [
        {
          "output_type": "stream",
          "text": [
            "tensor(5.)\n"
          ],
          "name": "stdout"
        }
      ]
    },
    {
      "cell_type": "markdown",
      "metadata": {
        "id": "O8p8My90Af5B"
      },
      "source": [
        "Também temos a opção de usar o gerenciador de contexto **with** com a função **no_grad**:"
      ]
    },
    {
      "cell_type": "code",
      "metadata": {
        "colab": {
          "base_uri": "https://localhost:8080/"
        },
        "id": "IRrvvIYGApMl",
        "outputId": "3064ad22-8126-4e5b-92e1-be2520f95d9c"
      },
      "source": [
        "with torch.no_grad():\n",
        "    y = x * z \n",
        "    print(y)"
      ],
      "execution_count": null,
      "outputs": [
        {
          "output_type": "stream",
          "text": [
            "tensor(-60.)\n"
          ],
          "name": "stdout"
        }
      ]
    },
    {
      "cell_type": "markdown",
      "metadata": {
        "id": "chjG5dKzA0w9"
      },
      "source": [
        "Ou até mesmo o método **requires_grad_**:"
      ]
    },
    {
      "cell_type": "code",
      "metadata": {
        "colab": {
          "base_uri": "https://localhost:8080/"
        },
        "id": "6ZQjXMepA5Xy",
        "outputId": "520efac6-37ca-48e7-9b88-3e57a944f802"
      },
      "source": [
        "print(x.requires_grad_(False))"
      ],
      "execution_count": null,
      "outputs": [
        {
          "output_type": "stream",
          "text": [
            "tensor(5.)\n"
          ],
          "name": "stdout"
        }
      ]
    },
    {
      "cell_type": "markdown",
      "metadata": {
        "id": "nAOlERdzBq5-"
      },
      "source": [
        "É importante estarmos cientes de que quando chamamos o método **backward**, o gradient para este Tensor específico será acumulado no atributo **grad**, os valores serão somados.\n",
        "\n",
        "Por isso devemos ser cuidadosos.\n",
        "\n",
        "Vamos criar um exemplo de treinamento de um modelo com alguns *weights* para ilustrarmos essa ideia de que é necessária zerar o gradient para evitar o erro de acúmulo."
      ]
    },
    {
      "cell_type": "code",
      "metadata": {
        "colab": {
          "base_uri": "https://localhost:8080/"
        },
        "id": "zhWd-TavCNep",
        "outputId": "8665f189-0e76-431d-959b-ccd92afe002c"
      },
      "source": [
        "weights = torch.ones(4, requires_grad=True)\n",
        "\n",
        "for epoch in range(3):\n",
        "    model_output = (weights * 3).sum()\n",
        "\n",
        "    model_output.backward()\n",
        "\n",
        "    print(weights.grad)\n",
        "\n",
        "    weights.grad.zero_()"
      ],
      "execution_count": null,
      "outputs": [
        {
          "output_type": "stream",
          "text": [
            "tensor([3., 3., 3., 3.])\n",
            "tensor([3., 3., 3., 3.])\n",
            "tensor([3., 3., 3., 3.])\n"
          ],
          "name": "stdout"
        }
      ]
    },
    {
      "cell_type": "markdown",
      "metadata": {
        "id": "jJYDQGi9DFMd"
      },
      "source": [
        "O mesmo processo seria feito no contexto de um otimizador, por exemplo:"
      ]
    },
    {
      "cell_type": "code",
      "metadata": {
        "colab": {
          "base_uri": "https://localhost:8080/"
        },
        "id": "RoM2Fv_HDKy7",
        "outputId": "cc38a423-73ed-42f7-b081-7794430d7e70"
      },
      "source": [
        "weights = torch.ones(4, requires_grad=True)\n",
        "\n",
        "optimizer = torch.optim.SGD([weights], lr=0.01)\n",
        "optimizer.step()\n",
        "print(weights)\n",
        "optimizer.zero_grad()"
      ],
      "execution_count": null,
      "outputs": [
        {
          "output_type": "stream",
          "text": [
            "tensor([1., 1., 1., 1.], requires_grad=True)\n"
          ],
          "name": "stdout"
        }
      ]
    },
    {
      "cell_type": "markdown",
      "metadata": {
        "id": "mrUwOWYgRLS9"
      },
      "source": [
        "## Backpropagation\n",
        "\n",
        "Em Machine Learning, a **[Backpropagation](https://en.wikipedia.org/wiki/Backpropagation)** é um algoritmo amplamente usado para treinar redes neurais feedforward. \n",
        "\n",
        "No ajuste de uma rede neural, o Backpropagation calcula o gradiente da função Loss em relação aos weights da rede para um único exemplo de entrada-saída e o faz de forma eficiente, ao contrário de um cálculo direto ingênuo do gradiente em relação a cada weight individualmente. Essa eficiência viabiliza o uso de métodos gradientes para treinar redes multicamadas, atualizando weights para minimizar Loss; O **gradient descent** ou variantes como o **stochastic gradient descent** são comumente usadas.\n",
        "\n",
        "A seguir vejamos um simples exemplo de como o backpropagation funciona:"
      ]
    },
    {
      "cell_type": "code",
      "metadata": {
        "id": "DpaAMwPqR-Ey"
      },
      "source": [
        "x = torch.tensor(1.0)\n",
        "y = torch.tensor(2.0)\n",
        "\n",
        "w = torch.tensor(1.0, requires_grad=True)"
      ],
      "execution_count": null,
      "outputs": []
    },
    {
      "cell_type": "markdown",
      "metadata": {
        "id": "ISOoFrpPSIEV"
      },
      "source": [
        "Agora faremos um **Forward pass** e vamos computar o Loss:"
      ]
    },
    {
      "cell_type": "code",
      "metadata": {
        "colab": {
          "base_uri": "https://localhost:8080/"
        },
        "id": "Co1hollISLKG",
        "outputId": "daa30530-7a05-4d20-e543-17c5a43f797b"
      },
      "source": [
        "y_hat = w * x\n",
        "loss = (y_hat - y)**2\n",
        "print(loss)"
      ],
      "execution_count": null,
      "outputs": [
        {
          "output_type": "stream",
          "text": [
            "tensor(1., grad_fn=<PowBackward0>)\n"
          ],
          "name": "stdout"
        }
      ]
    },
    {
      "cell_type": "markdown",
      "metadata": {
        "id": "2RSm83DJST-Q"
      },
      "source": [
        "Por fim, faremos um **Backward pass** e imprimimos o valor do gradient:"
      ]
    },
    {
      "cell_type": "code",
      "metadata": {
        "colab": {
          "base_uri": "https://localhost:8080/"
        },
        "id": "DFwhSD1mSbhv",
        "outputId": "f3f6d4d6-e7a5-446a-fe98-07eee2ff37ac"
      },
      "source": [
        "loss.backward()\n",
        "print(w.grad)"
      ],
      "execution_count": null,
      "outputs": [
        {
          "output_type": "stream",
          "text": [
            "tensor(-2.)\n"
          ],
          "name": "stdout"
        }
      ]
    },
    {
      "cell_type": "markdown",
      "metadata": {
        "id": "8NCiqyPwSnhp"
      },
      "source": [
        "O próximo passo seria atualizar os weights e fazer um novo **Forward/Backward pass** até que os weights estejam ajustados adequadamente e a rede neural esteja com a Loss minimizada."
      ]
    },
    {
      "cell_type": "markdown",
      "metadata": {
        "id": "IJXcAApuUjEy"
      },
      "source": [
        "## Gradient Descent\n",
        "\n",
        "A seguir vamos ver um exemplo de Regressão Linear (previsão de valores contínuos) usando o algoritmo Gradient Descent para otimização da Loss.\n",
        "\n",
        "Como estamos trabalhando com Regressão Linear, então usaremos uma função que terá apenas uma combinação linear de nossos **weights** com os **inputs**: $ f = w * x $\n",
        "\n",
        "Vamos começar definindo um array **X** de amostras de treinamento e um array **Y** com os labels, iremos inicializar nossos **weights** em **0**."
      ]
    },
    {
      "cell_type": "code",
      "metadata": {
        "id": "h37IsdBRUx87"
      },
      "source": [
        "X = np.array([1, 2, 3, 4], dtype=np.float32)\n",
        "Y = np.array([2, 4, 6, 8], dtype=np.float32)\n",
        "\n",
        "w = 0.0"
      ],
      "execution_count": null,
      "outputs": []
    },
    {
      "cell_type": "markdown",
      "metadata": {
        "id": "mqCPUG9SV1ZM"
      },
      "source": [
        "Agora precisamos calcular a previsão do nosso modelo, nomearemos a função de **forward** para seguirmos a convenção da biblioteca PyTorch."
      ]
    },
    {
      "cell_type": "code",
      "metadata": {
        "id": "rd53GCEhV-nt"
      },
      "source": [
        "def forward(x):\n",
        "    return w * x"
      ],
      "execution_count": null,
      "outputs": []
    },
    {
      "cell_type": "markdown",
      "metadata": {
        "id": "Ef59szdAWFYZ"
      },
      "source": [
        "A seguir definimos a função Loss que irá depender dos valores **y** (valor real) e **y_predicted** (valor previsto pelo nosso modelo).\n",
        "\n",
        "Neste caso, como estamos trabalhando com Regressão Linear, vamos usar **Mean Squared Error**."
      ]
    },
    {
      "cell_type": "code",
      "metadata": {
        "id": "rni8CupcWNL_"
      },
      "source": [
        "def loss(y, y_predicted):\n",
        "    return ((y_predicted - y)**2).mean()"
      ],
      "execution_count": null,
      "outputs": []
    },
    {
      "cell_type": "markdown",
      "metadata": {
        "id": "RB9mwTe-Wk48"
      },
      "source": [
        "E então precisamos manualmente calcular o gradient da função Loss em relação aos nossos parâmetros.\n",
        "\n",
        "Temos então que: $ MSE = \\frac{1}{N} * (w*x - y)^2 $\n",
        "\n",
        "E a derivada $ \\frac{dJ}{dw} = \\frac{1}{N} * 2x * (w*x - y) $"
      ]
    },
    {
      "cell_type": "code",
      "metadata": {
        "id": "1yGsG-CNX5Wp"
      },
      "source": [
        "def gradient(x, y, y_predicted):\n",
        "    return np.dot(2*x, y_predicted-y).mean()"
      ],
      "execution_count": null,
      "outputs": []
    },
    {
      "cell_type": "markdown",
      "metadata": {
        "id": "dSH77twuYDRT"
      },
      "source": [
        "E então podemos fazer uma previsão antes de treinarmos o modelo:"
      ]
    },
    {
      "cell_type": "code",
      "metadata": {
        "colab": {
          "base_uri": "https://localhost:8080/"
        },
        "id": "pBhPdTEcYFkl",
        "outputId": "8d3cbccb-5c87-4368-e657-5509a535976c"
      },
      "source": [
        "print(f'Previsão antes do treinamento: f(5) = {forward(5):.3f}')"
      ],
      "execution_count": null,
      "outputs": [
        {
          "output_type": "stream",
          "text": [
            "Previsão antes do treinamento: f(5) = 0.000\n"
          ],
          "name": "stdout"
        }
      ]
    },
    {
      "cell_type": "markdown",
      "metadata": {
        "id": "MoOxj0EmYP6_"
      },
      "source": [
        "E agora vamos treinar o nosso modelo para ajustar os weights adequadamente para que ele possa fazer previsões corretas:"
      ]
    },
    {
      "cell_type": "code",
      "metadata": {
        "colab": {
          "base_uri": "https://localhost:8080/"
        },
        "id": "M2ULESINYXVD",
        "outputId": "b6b7e7a0-614d-4cc1-8af6-2d85f5cda996"
      },
      "source": [
        "learning_rate = 0.01\n",
        "n_iters = 13\n",
        "\n",
        "for epoch in range(n_iters):\n",
        "    # Fazermos as previsões (forward pass)\n",
        "    y_pred = forward(X)\n",
        "    # Computamos a Loss\n",
        "    l = loss(Y, y_pred)\n",
        "    # Computamos o Gradient\n",
        "    dw = gradient(X, Y, y_pred)\n",
        "    # Atualizamos os weights com o Gradient Descent\n",
        "    w -= learning_rate * dw\n",
        "    if epoch % 1 == 0:\n",
        "        print(f'epoch {epoch+1}: w = {w:.3f}, loss = {l:.8f}')\n",
        "\n",
        "print(f'Previsão após o treinamento: f(5) = {forward(5):.3f}')"
      ],
      "execution_count": null,
      "outputs": [
        {
          "output_type": "stream",
          "text": [
            "epoch 1: w = 1.200, loss = 30.00000000\n",
            "epoch 2: w = 1.680, loss = 4.79999924\n",
            "epoch 3: w = 1.872, loss = 0.76800019\n",
            "epoch 4: w = 1.949, loss = 0.12288000\n",
            "epoch 5: w = 1.980, loss = 0.01966083\n",
            "epoch 6: w = 1.992, loss = 0.00314574\n",
            "epoch 7: w = 1.997, loss = 0.00050331\n",
            "epoch 8: w = 1.999, loss = 0.00008053\n",
            "epoch 9: w = 1.999, loss = 0.00001288\n",
            "epoch 10: w = 2.000, loss = 0.00000206\n",
            "epoch 11: w = 2.000, loss = 0.00000033\n",
            "epoch 12: w = 2.000, loss = 0.00000005\n",
            "epoch 13: w = 2.000, loss = 0.00000001\n",
            "Previsão após o treinamento: f(5) = 10.000\n"
          ],
          "name": "stdout"
        }
      ]
    },
    {
      "cell_type": "markdown",
      "metadata": {
        "id": "Wzp-PACobVSq"
      },
      "source": [
        "Anteriormente computamos o gradient manualmente, vejamos agora como podemos usar PyTorch para computá-lo."
      ]
    },
    {
      "cell_type": "code",
      "metadata": {
        "colab": {
          "base_uri": "https://localhost:8080/"
        },
        "id": "tmBivzMTbi0C",
        "outputId": "59c48f6d-fe87-41e8-95a7-82b4ba9b9679"
      },
      "source": [
        "X = torch.tensor([1, 2, 3, 4], dtype=torch.float32)\n",
        "Y = torch.tensor([2, 4, 6, 8], dtype=torch.float32)\n",
        "\n",
        "w = torch.tensor(0.0, dtype=torch.float32, requires_grad=True)\n",
        "\n",
        "def forward(x):\n",
        "    return w * x\n",
        "\n",
        "def loss(y, y_predicted):\n",
        "    return ((y_predicted - y)**2).mean()\n",
        "\n",
        "learning_rate = 0.02\n",
        "n_iters = 30\n",
        "\n",
        "for epoch in range(n_iters):\n",
        "    # Fazermos as previsões (forward pass)\n",
        "    y_pred = forward(X)\n",
        "    # Computamos a Loss\n",
        "    l = loss(Y, y_pred)\n",
        "    # Computamos o Gradient (backward pass)\n",
        "    l.backward() # dl/dw\n",
        "    # Atualizamos os weights com o Gradient Descent\n",
        "    with torch.no_grad():\n",
        "        w -= learning_rate * w.grad\n",
        "    # Devemos zerar os parâmetros do gradient \n",
        "    w.grad.zero_()\n",
        "\n",
        "    if epoch % 1 == 0:\n",
        "        print(f'epoch {epoch+1}: w = {w:.3f}, loss = {l:.8f}')\n",
        "\n",
        "print(f'Previsão após o treinamento: f(5) = {forward(5):.3f}')"
      ],
      "execution_count": null,
      "outputs": [
        {
          "output_type": "stream",
          "text": [
            "epoch 1: w = 0.600, loss = 30.00000000\n",
            "epoch 2: w = 1.020, loss = 14.70000076\n",
            "epoch 3: w = 1.314, loss = 7.20300007\n",
            "epoch 4: w = 1.520, loss = 3.52946997\n",
            "epoch 5: w = 1.664, loss = 1.72944093\n",
            "epoch 6: w = 1.765, loss = 0.84742588\n",
            "epoch 7: w = 1.835, loss = 0.41523871\n",
            "epoch 8: w = 1.885, loss = 0.20346695\n",
            "epoch 9: w = 1.919, loss = 0.09969879\n",
            "epoch 10: w = 1.944, loss = 0.04885240\n",
            "epoch 11: w = 1.960, loss = 0.02393769\n",
            "epoch 12: w = 1.972, loss = 0.01172951\n",
            "epoch 13: w = 1.981, loss = 0.00574747\n",
            "epoch 14: w = 1.986, loss = 0.00281625\n",
            "epoch 15: w = 1.991, loss = 0.00137996\n",
            "epoch 16: w = 1.993, loss = 0.00067618\n",
            "epoch 17: w = 1.995, loss = 0.00033133\n",
            "epoch 18: w = 1.997, loss = 0.00016235\n",
            "epoch 19: w = 1.998, loss = 0.00007955\n",
            "epoch 20: w = 1.998, loss = 0.00003898\n",
            "epoch 21: w = 1.999, loss = 0.00001910\n",
            "epoch 22: w = 1.999, loss = 0.00000936\n",
            "epoch 23: w = 1.999, loss = 0.00000459\n",
            "epoch 24: w = 2.000, loss = 0.00000225\n",
            "epoch 25: w = 2.000, loss = 0.00000110\n",
            "epoch 26: w = 2.000, loss = 0.00000054\n",
            "epoch 27: w = 2.000, loss = 0.00000026\n",
            "epoch 28: w = 2.000, loss = 0.00000013\n",
            "epoch 29: w = 2.000, loss = 0.00000006\n",
            "epoch 30: w = 2.000, loss = 0.00000003\n",
            "Previsão após o treinamento: f(5) = 10.000\n"
          ],
          "name": "stdout"
        }
      ]
    },
    {
      "cell_type": "markdown",
      "metadata": {
        "id": "JkM8jRS8cgZ_"
      },
      "source": [
        "Observe que ajustamos a taxa de aprendizado (**learning_rate**) e também aumentamos o número de iterações, eventualmente o algoritmo convergiu para a previsão correta como na forma manual.\n",
        "\n",
        "Feito isso, veremos como podemos usar PyTorch para automatizar toda a pipeline para nós, ou seja: **previsão**, **computação do gradient**, **computação da loss** e a **atualização dos parâmetros**.\n",
        "\n",
        "Resumindo, a pipeline do PyTorch funciona da seguinte forma:\n",
        "\n",
        "1. Design do Modelo (definir o tamanho do input e output, forward pass)\n",
        "2. Construir a função Loss e o Optimizer\n",
        "3. Loop de Treinamento\n",
        "    - forward pass: computar as previsões\n",
        "    - backward pass: computar os gradients\n",
        "    - atualizar os weights"
      ]
    },
    {
      "cell_type": "code",
      "metadata": {
        "colab": {
          "base_uri": "https://localhost:8080/"
        },
        "id": "FQ2fBT0UcrGF",
        "outputId": "a8dcb673-6d2c-42be-c63b-a6911985b58f"
      },
      "source": [
        "import torch.nn as nn\n",
        "\n",
        "X = torch.tensor([1, 2, 3, 4], dtype=torch.float32)\n",
        "Y = torch.tensor([2, 4, 6, 8], dtype=torch.float32)\n",
        "\n",
        "w = torch.tensor(0.0, dtype=torch.float32, requires_grad=True)\n",
        "\n",
        "def forward(x):\n",
        "    return w * x\n",
        "\n",
        "learning_rate = 0.02\n",
        "n_iters = 30\n",
        "loss = nn.MSELoss()\n",
        "optimizer = torch.optim.SGD([w], lr=learning_rate)\n",
        "\n",
        "for epoch in range(n_iters):\n",
        "    # Fazermos as previsões (forward pass)\n",
        "    y_pred = forward(X)\n",
        "    # Computamos a Loss\n",
        "    l = loss(Y, y_pred)\n",
        "    # Computamos o Gradient (backward pass)\n",
        "    l.backward() # dl/dw\n",
        "    # Atualizamos os weights com o Gradient Descent\n",
        "    optimizer.step()\n",
        "    # Devemos zerar os parâmetros do gradient \n",
        "    optimizer.zero_grad()\n",
        "\n",
        "    if epoch % 1 == 0:\n",
        "        print(f'epoch {epoch+1}: w = {w:.3f}, loss = {l:.8f}')\n",
        "\n",
        "print(f'Previsão após o treinamento: f(5) = {forward(5):.3f}')"
      ],
      "execution_count": null,
      "outputs": [
        {
          "output_type": "stream",
          "text": [
            "epoch 1: w = 0.600, loss = 30.00000000\n",
            "epoch 2: w = 1.020, loss = 14.70000076\n",
            "epoch 3: w = 1.314, loss = 7.20300007\n",
            "epoch 4: w = 1.520, loss = 3.52946997\n",
            "epoch 5: w = 1.664, loss = 1.72944093\n",
            "epoch 6: w = 1.765, loss = 0.84742588\n",
            "epoch 7: w = 1.835, loss = 0.41523871\n",
            "epoch 8: w = 1.885, loss = 0.20346695\n",
            "epoch 9: w = 1.919, loss = 0.09969879\n",
            "epoch 10: w = 1.944, loss = 0.04885240\n",
            "epoch 11: w = 1.960, loss = 0.02393769\n",
            "epoch 12: w = 1.972, loss = 0.01172951\n",
            "epoch 13: w = 1.981, loss = 0.00574747\n",
            "epoch 14: w = 1.986, loss = 0.00281625\n",
            "epoch 15: w = 1.991, loss = 0.00137996\n",
            "epoch 16: w = 1.993, loss = 0.00067618\n",
            "epoch 17: w = 1.995, loss = 0.00033133\n",
            "epoch 18: w = 1.997, loss = 0.00016235\n",
            "epoch 19: w = 1.998, loss = 0.00007955\n",
            "epoch 20: w = 1.998, loss = 0.00003898\n",
            "epoch 21: w = 1.999, loss = 0.00001910\n",
            "epoch 22: w = 1.999, loss = 0.00000936\n",
            "epoch 23: w = 1.999, loss = 0.00000459\n",
            "epoch 24: w = 2.000, loss = 0.00000225\n",
            "epoch 25: w = 2.000, loss = 0.00000110\n",
            "epoch 26: w = 2.000, loss = 0.00000054\n",
            "epoch 27: w = 2.000, loss = 0.00000026\n",
            "epoch 28: w = 2.000, loss = 0.00000013\n",
            "epoch 29: w = 2.000, loss = 0.00000006\n",
            "epoch 30: w = 2.000, loss = 0.00000003\n",
            "Previsão após o treinamento: f(5) = 10.000\n"
          ],
          "name": "stdout"
        }
      ]
    },
    {
      "cell_type": "markdown",
      "metadata": {
        "id": "Ccu860ZRfPm4"
      },
      "source": [
        "Agora vamos substituir a nossa função manualmente implementada **forward** com o modelo do PyTorch:"
      ]
    },
    {
      "cell_type": "code",
      "metadata": {
        "colab": {
          "base_uri": "https://localhost:8080/"
        },
        "id": "Y_KqQ4avfbi8",
        "outputId": "ab7329bc-b459-4282-c930-0ac4b9ba5a67"
      },
      "source": [
        "import torch.nn as nn\n",
        "\n",
        "X = torch.tensor([[1], [2], [3], [4]], dtype=torch.float32)\n",
        "Y = torch.tensor([[2], [4], [6], [8]], dtype=torch.float32)\n",
        "\n",
        "X_test = torch.tensor([5], dtype=torch.float32)\n",
        "n_samples, n_features = X.shape\n",
        "print(f'Amostras: {n_samples}, Features: {n_features}')\n",
        "\n",
        "input_size = n_features\n",
        "output_size = n_features\n",
        "model = nn.Linear(input_size, output_size)\n",
        "\n",
        "learning_rate = 0.03\n",
        "n_iters = 25\n",
        "loss = nn.MSELoss()\n",
        "optimizer = torch.optim.SGD(model.parameters(), lr=learning_rate)\n",
        "\n",
        "for epoch in range(n_iters):\n",
        "    # Fazermos as previsões (forward pass)\n",
        "    y_pred = model(X)\n",
        "    # Computamos a Loss\n",
        "    l = loss(Y, y_pred)\n",
        "    # Computamos o Gradient (backward pass)\n",
        "    l.backward() # dl/dw\n",
        "    # Atualizamos os weights com o Gradient Descent\n",
        "    optimizer.step()\n",
        "    # Devemos zerar os parâmetros do gradient \n",
        "    optimizer.zero_grad()\n",
        "\n",
        "    if epoch % 1 == 0:\n",
        "        [w, b] = model.parameters()\n",
        "        print(f'epoch {epoch+1}: w = {w[0][0].item():.3f}, loss = {l:.8f}')\n",
        "\n",
        "print(f'Previsão após o treinamento: f(5) = {model(X_test).item():.3f}')"
      ],
      "execution_count": null,
      "outputs": [
        {
          "output_type": "stream",
          "text": [
            "Amostras: 4, Features: 1\n",
            "epoch 1: w = 0.999, loss = 36.60515594\n",
            "epoch 2: w = 1.495, loss = 9.11420059\n",
            "epoch 3: w = 1.742, loss = 2.26942635\n",
            "epoch 4: w = 1.866, loss = 0.56519234\n",
            "epoch 5: w = 1.927, loss = 0.14086476\n",
            "epoch 6: w = 1.958, loss = 0.03521217\n",
            "epoch 7: w = 1.974, loss = 0.00890393\n",
            "epoch 8: w = 1.981, loss = 0.00235122\n",
            "epoch 9: w = 1.985, loss = 0.00071731\n",
            "epoch 10: w = 1.987, loss = 0.00030812\n",
            "epoch 11: w = 1.988, loss = 0.00020393\n",
            "epoch 12: w = 1.989, loss = 0.00017571\n",
            "epoch 13: w = 1.989, loss = 0.00016645\n",
            "epoch 14: w = 1.989, loss = 0.00016195\n",
            "epoch 15: w = 1.990, loss = 0.00015867\n",
            "epoch 16: w = 1.990, loss = 0.00015574\n",
            "epoch 17: w = 1.990, loss = 0.00015293\n",
            "epoch 18: w = 1.990, loss = 0.00015019\n",
            "epoch 19: w = 1.990, loss = 0.00014750\n",
            "epoch 20: w = 1.990, loss = 0.00014487\n",
            "epoch 21: w = 1.990, loss = 0.00014228\n",
            "epoch 22: w = 1.990, loss = 0.00013973\n",
            "epoch 23: w = 1.990, loss = 0.00013723\n",
            "epoch 24: w = 1.990, loss = 0.00013478\n",
            "epoch 25: w = 1.991, loss = 0.00013237\n",
            "Previsão após o treinamento: f(5) = 9.980\n"
          ],
          "name": "stdout"
        }
      ]
    },
    {
      "cell_type": "markdown",
      "metadata": {
        "id": "v5ywSSZ_hxUs"
      },
      "source": [
        "## Regressão Linear\n",
        "\n",
        "Agora que sabemos como otimizar o nosso modelo atualizando os seus parâmetros, vejamos um exemplo mais concreto de como podemos implementar a Regressão Linear com PyTorch.\n",
        "\n",
        "Também usaremos as bibliotecas scikit-learn e matplotlib para nos auxiliar nessa tarefa.\n",
        "\n",
        "Nossas etapas serão basicamente:\n",
        "\n",
        "1. Preparar os dados\n",
        "2. Definir o Modelo\n",
        "3. Definir a função Loss e o Optimizer\n",
        "4. Treinar o Modelo"
      ]
    },
    {
      "cell_type": "code",
      "metadata": {
        "colab": {
          "base_uri": "https://localhost:8080/",
          "height": 605
        },
        "id": "iOI-1TBxiGUk",
        "outputId": "253d7055-bfef-4149-bece-20a51dd7d9b6"
      },
      "source": [
        "from sklearn import datasets\n",
        "import matplotlib.pyplot as plt \n",
        "\n",
        "# Preparando os dados\n",
        "X_numpy, y_numpy = datasets.make_regression(n_samples=200, n_features=1, noise=12)\n",
        "\n",
        "X = torch.from_numpy(X_numpy.astype(np.float32))\n",
        "y = torch.from_numpy(y_numpy.astype(np.float32))\n",
        "y = y.view(y.shape[0], 1)\n",
        "\n",
        "n_samples, n_features = X.shape\n",
        "\n",
        "# Definindo o modelo\n",
        "input_size = n_features\n",
        "output_size = 1\n",
        "model = nn.Linear(input_size, output_size)\n",
        "\n",
        "# Definindo a função Loss e o Optimizer\n",
        "learning_rate = 0.01\n",
        "criterion = nn.MSELoss()\n",
        "optimizer = torch.optim.SGD(model.parameters(), lr=learning_rate)\n",
        "\n",
        "# Loop de treinamento\n",
        "num_epochs = 100\n",
        "for epoch in range(num_epochs):\n",
        "    # forward pass e loss\n",
        "    y_predicted = model(X)\n",
        "    loss = criterion(y_predicted, y)\n",
        "    # backward pass\n",
        "    loss.backward()\n",
        "    # atualizar os weights\n",
        "    optimizer.step()\n",
        "    # zerar o gradient\n",
        "    optimizer.zero_grad()\n",
        "    if (epoch+1) % 5 == 0:\n",
        "        print(f'Epoch: {epoch+1}, Loss = {loss.item():.4f}')\n",
        "\n",
        "# Plotamos o resultado\n",
        "predicted = model(X).detach().numpy()\n",
        "plt.plot(X_numpy, y_numpy, 'ro')\n",
        "plt.plot(X_numpy, predicted, c='blue', lw=2.5);"
      ],
      "execution_count": null,
      "outputs": [
        {
          "output_type": "stream",
          "text": [
            "Epoch: 5, Loss = 538.3498\n",
            "Epoch: 10, Loss = 471.2179\n",
            "Epoch: 15, Loss = 415.5769\n",
            "Epoch: 20, Loss = 369.4540\n",
            "Epoch: 25, Loss = 331.2164\n",
            "Epoch: 30, Loss = 299.5122\n",
            "Epoch: 35, Loss = 273.2218\n",
            "Epoch: 40, Loss = 251.4182\n",
            "Epoch: 45, Loss = 233.3335\n",
            "Epoch: 50, Loss = 218.3318\n",
            "Epoch: 55, Loss = 205.8860\n",
            "Epoch: 60, Loss = 195.5595\n",
            "Epoch: 65, Loss = 186.9905\n",
            "Epoch: 70, Loss = 179.8790\n",
            "Epoch: 75, Loss = 173.9766\n",
            "Epoch: 80, Loss = 169.0771\n",
            "Epoch: 85, Loss = 165.0098\n",
            "Epoch: 90, Loss = 161.6329\n",
            "Epoch: 95, Loss = 158.8289\n",
            "Epoch: 100, Loss = 156.5004\n"
          ],
          "name": "stdout"
        },
        {
          "output_type": "display_data",
          "data": {
            "image/png": "[encoded data removed]",
            "text/plain": [
              "<Figure size 432x288 with 1 Axes>"
            ]
          },
          "metadata": {
            "tags": [],
            "needs_background": "light"
          }
        }
      ]
    },
    {
      "cell_type": "markdown",
      "metadata": {
        "id": "hv5DbC-dzV7s"
      },
      "source": [
        "## Regressão Logística\n",
        "\n",
        "Dessa vez, vamos implementar a Regressão Logística na tarefa de classificação de dados biomédicos (câncer de mama).\n",
        "\n",
        "Vamos seguir a mesma pipeline anterior."
      ]
    },
    {
      "cell_type": "code",
      "metadata": {
        "colab": {
          "base_uri": "https://localhost:8080/"
        },
        "id": "GY2NyRMuzovT",
        "outputId": "40329a30-5ea5-4fbd-d290-c13502c6e050"
      },
      "source": [
        "from sklearn.preprocessing import StandardScaler\n",
        "from sklearn.model_selection import train_test_split\n",
        "\n",
        "# Preparando os dados\n",
        "bc = datasets.load_breast_cancer()\n",
        "X, y = bc.data, bc.target\n",
        "\n",
        "n_samples, n_features = X.shape\n",
        "\n",
        "X_train, X_test, y_train, y_test = train_test_split(X, y, test_size=0.2)\n",
        "\n",
        "# Scaling dos dados\n",
        "sc = StandardScaler()\n",
        "X_train = sc.fit_transform(X_train)\n",
        "X_test = sc.transform(X_test)\n",
        "\n",
        "# Convertendo para Tensor\n",
        "X_train = torch.from_numpy(X_train.astype(np.float32))\n",
        "X_test = torch.from_numpy(X_test.astype(np.float32))\n",
        "y_train = torch.from_numpy(y_train.astype(np.float32))\n",
        "y_test = torch.from_numpy(y_test.astype(np.float32))\n",
        "\n",
        "# Reshaping\n",
        "y_train = y_train.view(y_train.shape[0], 1)\n",
        "y_test = y_test.view(y_test.shape[0], 1)\n",
        "\n",
        "# Definindo o Modelo\n",
        "class LogisticRegression(nn.Module):\n",
        "    def __init__(self, n_input_features):\n",
        "        super(LogisticRegression, self).__init__()\n",
        "        self.linear = nn.Linear(n_input_features, 1)\n",
        "    \n",
        "    def forward(self, x):\n",
        "        y_predicted = torch.sigmoid(self.linear(x))\n",
        "        return y_predicted \n",
        "\n",
        "model = LogisticRegression(n_features)\n",
        "\n",
        "# Definindo o Loss e o Optimizer\n",
        "learning_rate = 0.01\n",
        "criterion = nn.BCELoss()\n",
        "optimizer = torch.optim.SGD(model.parameters(), lr=learning_rate)\n",
        "\n",
        "# Treinamos o Modelo\n",
        "num_epochs = 100\n",
        "for epoch in range(num_epochs):\n",
        "    # Forward pass e loss\n",
        "    y_predicted = model(X_train)\n",
        "    loss = criterion(y_predicted, y_train)\n",
        "    # Backward pass\n",
        "    loss.backward()\n",
        "    # Atualiza os weights\n",
        "    optimizer.step()\n",
        "    # Zerar o gradient\n",
        "    optimizer.zero_grad()\n",
        "\n",
        "    if (epoch+1) % 5 == 0:\n",
        "        print(f'Epoch: {epoch+1}, loss = {loss.item():.4f}')\n",
        "\n",
        "# Avaliando o Modelo (Accuracy)\n",
        "with torch.no_grad():\n",
        "    y_predicted = model(X_test)\n",
        "    y_predicted_cls = y_predicted.round()\n",
        "    acc = y_predicted_cls.eq(y_test).sum() / float(y_test.shape[0])\n",
        "    print(f'Accuracy = {acc:.4f}')"
      ],
      "execution_count": null,
      "outputs": [
        {
          "output_type": "stream",
          "text": [
            "Epoch: 5, loss = 0.5857\n",
            "Epoch: 10, loss = 0.5285\n",
            "Epoch: 15, loss = 0.4840\n",
            "Epoch: 20, loss = 0.4486\n",
            "Epoch: 25, loss = 0.4197\n",
            "Epoch: 30, loss = 0.3957\n",
            "Epoch: 35, loss = 0.3752\n",
            "Epoch: 40, loss = 0.3576\n",
            "Epoch: 45, loss = 0.3423\n",
            "Epoch: 50, loss = 0.3288\n",
            "Epoch: 55, loss = 0.3167\n",
            "Epoch: 60, loss = 0.3059\n",
            "Epoch: 65, loss = 0.2962\n",
            "Epoch: 70, loss = 0.2874\n",
            "Epoch: 75, loss = 0.2793\n",
            "Epoch: 80, loss = 0.2718\n",
            "Epoch: 85, loss = 0.2650\n",
            "Epoch: 90, loss = 0.2586\n",
            "Epoch: 95, loss = 0.2527\n",
            "Epoch: 100, loss = 0.2472\n",
            "Accuracy = 0.9825\n"
          ],
          "name": "stdout"
        }
      ]
    },
    {
      "cell_type": "markdown",
      "metadata": {
        "id": "zmbDz-ui4GDI"
      },
      "source": [
        "## Dataset e DataLoader\n",
        "\n",
        "Nesta seção veremos como usar as classes **Dataset** e **DataLoader** da biblioteca PyTorch.\n",
        "\n",
        "Mas antes é importante estarmos familiarizados com alguns termos:\n",
        "\n",
        "- **epoch**: uma passagem forward e backward de todas as amostras de treinamento\n",
        "- **batch_size**: número de amostras de treinamento em uma passagem forward e backward\n",
        "- **número de iterações**: número de passagens, cada passagem usando um **batch_size** de número de amostras\n",
        "\n",
        "Por exemplo: 100 amostras, batch_size=20 ---> 100/20 = 5 iterações por epoch.\n",
        "\n",
        "Primeiramente vamos fazer o download dos dados que precisaremos para este experimento:"
      ]
    },
    {
      "cell_type": "code",
      "metadata": {
        "colab": {
          "base_uri": "https://localhost:8080/"
        },
        "id": "lYAWwwq855NW",
        "outputId": "ec3ff2ea-6d89-46f6-ae2e-9c5e3e582afd"
      },
      "source": [
        "!wget -nc https://gist.githubusercontent.com/the-akira/c568feeebb6903d4dc68e3d1f90c089d/raw/d9f8be0d85ff982b8d952a6ec9cb71120419e70f/wine.csv"
      ],
      "execution_count": null,
      "outputs": [
        {
          "output_type": "stream",
          "text": [
            "--2021-06-25 12:55:17--  https://gist.githubusercontent.com/the-akira/c568feeebb6903d4dc68e3d1f90c089d/raw/d9f8be0d85ff982b8d952a6ec9cb71120419e70f/wine.csv\n",
            "Resolving gist.githubusercontent.com (gist.githubusercontent.com)... 185.199.110.133, 185.199.108.133, 185.199.109.133, ...\n",
            "Connecting to gist.githubusercontent.com (gist.githubusercontent.com)|185.199.110.133|:443... connected.\n",
            "HTTP request sent, awaiting response... 200 OK\n",
            "Length: 10889 (11K) [text/plain]\n",
            "Saving to: ‘wine.csv’\n",
            "\n",
            "wine.csv            100%[===================>]  10.63K  --.-KB/s    in 0s      \n",
            "\n",
            "2021-06-25 12:55:18 (107 MB/s) - ‘wine.csv’ saved [10889/10889]\n",
            "\n"
          ],
          "name": "stdout"
        }
      ]
    },
    {
      "cell_type": "markdown",
      "metadata": {
        "id": "iF5rXOnK7Hdj"
      },
      "source": [
        "Vamos agora definir o nosso conjunto de dados:"
      ]
    },
    {
      "cell_type": "code",
      "metadata": {
        "colab": {
          "base_uri": "https://localhost:8080/"
        },
        "id": "At1n7kyS5D8L",
        "outputId": "356cb943-e4e2-4e60-befb-99d1df1761a6"
      },
      "source": [
        "from torch.utils.data import Dataset, DataLoader\n",
        "import math\n",
        "\n",
        "class WineDataset(Dataset):\n",
        "    def __init__(self):\n",
        "        xy = np.loadtxt('wine.csv', delimiter=',', dtype=np.float32, skiprows=1)\n",
        "        self.x = torch.from_numpy(xy[:,1:])\n",
        "        self.y = torch.from_numpy(xy[:,[0]])\n",
        "        self.n_samples = xy.shape[0]\n",
        "\n",
        "    def __getitem__(self, index):\n",
        "        return self.x[index], self.y[index]\n",
        "\n",
        "    def __len__(self):\n",
        "        return self.n_samples\n",
        "\n",
        "dataset = WineDataset()\n",
        "first_data = dataset[0]\n",
        "features, labels = first_data\n",
        "print(features, labels)"
      ],
      "execution_count": null,
      "outputs": [
        {
          "output_type": "stream",
          "text": [
            "tensor([1.4230e+01, 1.7100e+00, 2.4300e+00, 1.5600e+01, 1.2700e+02, 2.8000e+00,\n",
            "        3.0600e+00, 2.8000e-01, 2.2900e+00, 5.6400e+00, 1.0400e+00, 3.9200e+00,\n",
            "        1.0650e+03]) tensor([1.])\n"
          ],
          "name": "stdout"
        }
      ]
    },
    {
      "cell_type": "markdown",
      "metadata": {
        "id": "_6kGqmEq7jdc"
      },
      "source": [
        "Criamos o **DataLoader** e iteramos sob ele:"
      ]
    },
    {
      "cell_type": "code",
      "metadata": {
        "colab": {
          "base_uri": "https://localhost:8080/"
        },
        "id": "AgEsZ0TK64gi",
        "outputId": "82210c85-6a9e-4087-e916-999a4bce9a94"
      },
      "source": [
        "dataloader = DataLoader(dataset=dataset, batch_size=4, shuffle=True, num_workers=2)\n",
        "dataiter = iter(dataloader)\n",
        "data = dataiter.next()\n",
        "features, labels = data\n",
        "print(features, labels)"
      ],
      "execution_count": null,
      "outputs": [
        {
          "output_type": "stream",
          "text": [
            "tensor([[1.2340e+01, 2.4500e+00, 2.4600e+00, 2.1000e+01, 9.8000e+01, 2.5600e+00,\n",
            "         2.1100e+00, 3.4000e-01, 1.3100e+00, 2.8000e+00, 8.0000e-01, 3.3800e+00,\n",
            "         4.3800e+02],\n",
            "        [1.3110e+01, 1.0100e+00, 1.7000e+00, 1.5000e+01, 7.8000e+01, 2.9800e+00,\n",
            "         3.1800e+00, 2.6000e-01, 2.2800e+00, 5.3000e+00, 1.1200e+00, 3.1800e+00,\n",
            "         5.0200e+02],\n",
            "        [1.2880e+01, 2.9900e+00, 2.4000e+00, 2.0000e+01, 1.0400e+02, 1.3000e+00,\n",
            "         1.2200e+00, 2.4000e-01, 8.3000e-01, 5.4000e+00, 7.4000e-01, 1.4200e+00,\n",
            "         5.3000e+02],\n",
            "        [1.4100e+01, 2.0200e+00, 2.4000e+00, 1.8800e+01, 1.0300e+02, 2.7500e+00,\n",
            "         2.9200e+00, 3.2000e-01, 2.3800e+00, 6.2000e+00, 1.0700e+00, 2.7500e+00,\n",
            "         1.0600e+03]]) tensor([[2.],\n",
            "        [2.],\n",
            "        [3.],\n",
            "        [1.]])\n"
          ],
          "name": "stdout"
        }
      ]
    },
    {
      "cell_type": "markdown",
      "metadata": {
        "id": "EQoNnX-v7tAx"
      },
      "source": [
        "Veja que temos 4 vetores de features e 4 labels (isso ocorre porque definimos o **batch_size** como 4).\n",
        "\n",
        "Também podemos iterar sob TODO o **DataLoader**.\n",
        "\n",
        "Vamos simular o treinamento de um modelo para exemplificar a ideia:"
      ]
    },
    {
      "cell_type": "code",
      "metadata": {
        "colab": {
          "base_uri": "https://localhost:8080/"
        },
        "id": "JSeyv7ni7X9_",
        "outputId": "c3f175ff-5988-4120-ebd6-72c04eb903cd"
      },
      "source": [
        "num_epochs = 2\n",
        "total_samples = len(dataset)\n",
        "n_iterations = math.ceil(total_samples/4)\n",
        "print(total_samples, n_iterations)\n",
        "\n",
        "for epoch in range(num_epochs):\n",
        "    for i, (inputs, labels) in enumerate(dataloader):\n",
        "        if (i+1) % 5 == 0:\n",
        "            print(f'Epoch: {epoch+1}/{num_epochs}, step: {i+1}/{n_iterations}, inputs: {inputs.shape}')"
      ],
      "execution_count": null,
      "outputs": [
        {
          "output_type": "stream",
          "text": [
            "178 45\n",
            "Epoch: 1/2, step: 5/45, inputs: torch.Size([4, 13])\n",
            "Epoch: 1/2, step: 10/45, inputs: torch.Size([4, 13])\n",
            "Epoch: 1/2, step: 15/45, inputs: torch.Size([4, 13])\n",
            "Epoch: 1/2, step: 20/45, inputs: torch.Size([4, 13])\n",
            "Epoch: 1/2, step: 25/45, inputs: torch.Size([4, 13])\n",
            "Epoch: 1/2, step: 30/45, inputs: torch.Size([4, 13])\n",
            "Epoch: 1/2, step: 35/45, inputs: torch.Size([4, 13])\n",
            "Epoch: 1/2, step: 40/45, inputs: torch.Size([4, 13])\n",
            "Epoch: 1/2, step: 45/45, inputs: torch.Size([2, 13])\n",
            "Epoch: 2/2, step: 5/45, inputs: torch.Size([4, 13])\n",
            "Epoch: 2/2, step: 10/45, inputs: torch.Size([4, 13])\n",
            "Epoch: 2/2, step: 15/45, inputs: torch.Size([4, 13])\n",
            "Epoch: 2/2, step: 20/45, inputs: torch.Size([4, 13])\n",
            "Epoch: 2/2, step: 25/45, inputs: torch.Size([4, 13])\n",
            "Epoch: 2/2, step: 30/45, inputs: torch.Size([4, 13])\n",
            "Epoch: 2/2, step: 35/45, inputs: torch.Size([4, 13])\n",
            "Epoch: 2/2, step: 40/45, inputs: torch.Size([4, 13])\n",
            "Epoch: 2/2, step: 45/45, inputs: torch.Size([2, 13])\n"
          ],
          "name": "stdout"
        }
      ]
    },
    {
      "cell_type": "markdown",
      "metadata": {
        "id": "UoheH7Z482WU"
      },
      "source": [
        "Neste caso, o nosso **batch_size** é 4 e o número de features em cada **batch** é 13."
      ]
    },
    {
      "cell_type": "markdown",
      "metadata": {
        "id": "FAEKqSsIKzd1"
      },
      "source": [
        "## Dataset Transforms\n",
        "\n",
        "PyTorch nos possibilita usar transformadores para transformar automaticamente os nossos dados.\n",
        "\n",
        "Para saber mais detalhes sobre eles, você pode visitar a [documentação oficial](https://pytorch.org/vision/stable/transforms.html).\n",
        "\n",
        "Anteriormente escrevemos um conjunto de dados customizado, vamos expandir essa classe para suportar os nossos transformadores.\n",
        "\n",
        "Vejamos um exemplo a seguir:"
      ]
    },
    {
      "cell_type": "code",
      "metadata": {
        "id": "EwzLeciROXag"
      },
      "source": [
        "class WineDataset(Dataset):\n",
        "    def __init__(self, transform=None):\n",
        "        xy = np.loadtxt('wine.csv', delimiter=',', dtype=np.float32, skiprows=1)\n",
        "        self.x = xy[:,1:]\n",
        "        self.y = xy[:,[0]]\n",
        "        self.n_samples = xy.shape[0]\n",
        "        self.transform = transform\n",
        "\n",
        "    def __getitem__(self, index):\n",
        "        sample = self.x[index], self.y[index]\n",
        "\n",
        "        if self.transform:\n",
        "            sample = self.transform(sample)\n",
        "        \n",
        "        return sample\n",
        "\n",
        "    def __len__(self):\n",
        "        return self.n_samples\n",
        "\n",
        "class ToTensor:\n",
        "    \"\"\"\n",
        "    Transformador que converte os dados para um Torch Tensor\n",
        "    \"\"\"\n",
        "    def __call__(self, sample):\n",
        "        inputs, targets = sample\n",
        "        return torch.from_numpy(inputs), torch.from_numpy(targets)\n",
        "\n",
        "class MulTransform:\n",
        "    \"\"\"\n",
        "    Transformador que multiplica os inputs por um fator informado\n",
        "    \"\"\"\n",
        "    def __init__(self, factor):\n",
        "        self.factor = factor\n",
        "    \n",
        "    def __call__(self, sample):\n",
        "        inputs, targets = sample\n",
        "        inputs *= self.factor\n",
        "        return inputs, targets"
      ],
      "execution_count": null,
      "outputs": []
    },
    {
      "cell_type": "markdown",
      "metadata": {
        "id": "WGltN7CZQnVx"
      },
      "source": [
        "Convertendo os arrays NumPy para Tensor com o Transformador **ToTensor**:"
      ]
    },
    {
      "cell_type": "code",
      "metadata": {
        "colab": {
          "base_uri": "https://localhost:8080/"
        },
        "id": "Vj_Rm_XvQsDz",
        "outputId": "f2ae620e-afe4-4903-eb03-517ed5c86865"
      },
      "source": [
        "dataset = WineDataset(transform=ToTensor())\n",
        "first_data = dataset[0]\n",
        "features, labels = first_data\n",
        "print(type(features), type(labels))\n",
        "print(features)"
      ],
      "execution_count": null,
      "outputs": [
        {
          "output_type": "stream",
          "text": [
            "<class 'torch.Tensor'> <class 'torch.Tensor'>\n",
            "tensor([1.4230e+01, 1.7100e+00, 2.4300e+00, 1.5600e+01, 1.2700e+02, 2.8000e+00,\n",
            "        3.0600e+00, 2.8000e-01, 2.2900e+00, 5.6400e+00, 1.0400e+00, 3.9200e+00,\n",
            "        1.0650e+03])\n"
          ],
          "name": "stdout"
        }
      ]
    },
    {
      "cell_type": "markdown",
      "metadata": {
        "id": "xufuPE05Qu4o"
      },
      "source": [
        "Vamos agora fazer uma composição de transformadores.\n",
        "\n",
        "Primeiro vamos transformar os arrays NumPy para Tensor usando **ToTensor**.\n",
        "\n",
        "Depois vamos multiplicar os inputs com o transformador **MulTransform**."
      ]
    },
    {
      "cell_type": "code",
      "metadata": {
        "colab": {
          "base_uri": "https://localhost:8080/"
        },
        "id": "GJMQ8RAYQy0Z",
        "outputId": "d5be3b1e-d54c-4642-be04-a35e334de516"
      },
      "source": [
        "import torchvision\n",
        "\n",
        "composed = torchvision.transforms.Compose([ToTensor(), MulTransform(2)])\n",
        "dataset = WineDataset(transform=composed)\n",
        "first_data = dataset[0]\n",
        "features, labels = first_data\n",
        "print(type(features), type(labels))\n",
        "print(features)"
      ],
      "execution_count": null,
      "outputs": [
        {
          "output_type": "stream",
          "text": [
            "<class 'torch.Tensor'> <class 'torch.Tensor'>\n",
            "tensor([2.8460e+01, 3.4200e+00, 4.8600e+00, 3.1200e+01, 2.5400e+02, 5.6000e+00,\n",
            "        6.1200e+00, 5.6000e-01, 4.5800e+00, 1.1280e+01, 2.0800e+00, 7.8400e+00,\n",
            "        2.1300e+03])\n"
          ],
          "name": "stdout"
        }
      ]
    },
    {
      "cell_type": "markdown",
      "metadata": {
        "id": "jvot81aqRrjO"
      },
      "source": [
        "## Softmax e Cross Entropy\n",
        "\n",
        "A [função softmax](https://en.wikipedia.org/wiki/Softmax_function) é uma generalização da função logística para múltiplas dimensões. É usado em regressão logística multinomial e é frequentemente usado como a última função de ativação de uma rede neural para normalizar a saída de uma rede para uma distribuição de probabilidade sobre classes de saída previstas, com base no axioma de escolha de Luce.\n",
        "\n",
        "A seguir, vamos ver como podemos implementar a função softmax com NumPy:"
      ]
    },
    {
      "cell_type": "code",
      "metadata": {
        "colab": {
          "base_uri": "https://localhost:8080/"
        },
        "id": "Sr7GJcUQSiJc",
        "outputId": "34549e4d-57ad-486f-d754-cd42689049b7"
      },
      "source": [
        "def softmax(x):\n",
        "    return np.exp(x) / np.sum(np.exp(x), axis=0)\n",
        "\n",
        "x = np.array([2.0, 1.0, 0.1])\n",
        "outputs = softmax(x)\n",
        "print(f'Softmax Numpy: {outputs}')"
      ],
      "execution_count": null,
      "outputs": [
        {
          "output_type": "stream",
          "text": [
            "Softmax Numpy: [0.65900114 0.24243297 0.09856589]\n"
          ],
          "name": "stdout"
        }
      ]
    },
    {
      "cell_type": "markdown",
      "metadata": {
        "id": "-Mj-xeE8S0BK"
      },
      "source": [
        "A seguir, vamos ver como podemos implementar a função softmax com PyTorch:"
      ]
    },
    {
      "cell_type": "code",
      "metadata": {
        "colab": {
          "base_uri": "https://localhost:8080/"
        },
        "id": "BuwJ7dbVS1Qz",
        "outputId": "2911c9d1-cddf-4af2-84f4-cb410a6ee3a4"
      },
      "source": [
        "x = torch.tensor([2.0, 1.0, 0.1])\n",
        "outputs = torch.softmax(x, dim=0)\n",
        "print(f'Softmax PyTorch: {outputs}')"
      ],
      "execution_count": null,
      "outputs": [
        {
          "output_type": "stream",
          "text": [
            "Softmax PyTorch: tensor([0.6590, 0.2424, 0.0986])\n"
          ],
          "name": "stdout"
        }
      ]
    },
    {
      "cell_type": "markdown",
      "metadata": {
        "id": "6cd-Qnq1TH6c"
      },
      "source": [
        "Muitas vezes a função softmax é combinada com a **[Cross-Entropy](https://en.wikipedia.org/wiki/Cross_entropy)**, que mede a performance de nosso modelo de classificação cuja saída é uma probabilidade entre 0 e 1, ela pode ser usada em problemas de múltiplas classes. A loss aumenta conforme a probabilidade prevista diverge da label verdadeira, ou seja, quanto melhor a nossa previsão, menor será a loss.\n",
        "\n",
        "Vejamos a seguir como podemos implementar a **Cross-Entropy**:"
      ]
    },
    {
      "cell_type": "code",
      "metadata": {
        "id": "wFglyueTT924"
      },
      "source": [
        "def cross_entropy(actual, predicted):\n",
        "    loss = -np.sum(actual * np.log(predicted))\n",
        "    return loss"
      ],
      "execution_count": null,
      "outputs": []
    },
    {
      "cell_type": "markdown",
      "metadata": {
        "id": "QQrxPKqWUOR2"
      },
      "source": [
        "**Importante**: y deve ser **hot encoded**.\n",
        "\n",
        "Por exemplo:\n",
        "\n",
        "- Se class 0: **[1 0 0]**\n",
        "- Se class 1: **[0 1 0]**\n",
        "- Se class 2: **[0 0 1]**"
      ]
    },
    {
      "cell_type": "code",
      "metadata": {
        "id": "tjYJlrCVUvvl"
      },
      "source": [
        "y = np.array([1, 0, 0])"
      ],
      "execution_count": null,
      "outputs": []
    },
    {
      "cell_type": "markdown",
      "metadata": {
        "id": "N4aBGz6JU1EI"
      },
      "source": [
        "Observe que **y_pred** possui probabilidades:\n",
        "\n",
        "- **y_pred_good**: a classe 0 possui probabilidade boa, ou seja, ela é alta para a classe 0.\n",
        "- **y_pred_bad**: a classe 0 possui probabilidade ruim, ou seja, ela é baixa para a classe 0."
      ]
    },
    {
      "cell_type": "code",
      "metadata": {
        "colab": {
          "base_uri": "https://localhost:8080/"
        },
        "id": "Wo9z_s8sU0Nn",
        "outputId": "871dffbe-0e59-4c70-afef-2e7b520bb398"
      },
      "source": [
        "y_pred_good = np.array([0.7, 0.2, 0.1])\n",
        "y_pred_bad = np.array([0.1, 0.3, 0.6])\n",
        "\n",
        "l1 = cross_entropy(y, y_pred_good)\n",
        "l2 = cross_entropy(y, y_pred_bad)\n",
        "\n",
        "print(f'Loss 1 NumPy = {l1:.4f}')\n",
        "print(f'Loss 2 NumPy = {l2:.4f}')"
      ],
      "execution_count": null,
      "outputs": [
        {
          "output_type": "stream",
          "text": [
            "Loss 1 NumPy = 0.3567\n",
            "Loss 2 NumPy = 2.3026\n"
          ],
          "name": "stdout"
        }
      ]
    },
    {
      "cell_type": "markdown",
      "metadata": {
        "id": "5b_iAizPVrJS"
      },
      "source": [
        "Observe que a primeira previsão possui uma loss baixa, pois está adequada.\n",
        "\n",
        "Já a segunda previsão possui uma loss alta, pois está inadequada.\n",
        "\n",
        "Vejamos agora podemos replicar este experimento com PyTorch:\n",
        "\n",
        "- Dessa vez não usaremos softmax na última layer, pois já é implementado.\n",
        "\n",
        "- Também não devemos usar **hot encoding** em nosso y.\n",
        "\n",
        "- Também não teremos softmax em nossas previsões y_pred."
      ]
    },
    {
      "cell_type": "code",
      "metadata": {
        "colab": {
          "base_uri": "https://localhost:8080/"
        },
        "id": "2yfu82m1V8QL",
        "outputId": "a0852053-2389-4b4f-cf24-28cc8307a08e"
      },
      "source": [
        "loss = nn.CrossEntropyLoss()\n",
        "\n",
        "y = torch.tensor([0])\n",
        "y_pred_good = torch.tensor([[2.0, 1.0, 0.1]])\n",
        "y_pred_bad = torch.tensor([[0.5, 2.0, 0.3]])\n",
        "\n",
        "l1 = loss(y_pred_good, y)\n",
        "l2 = loss(y_pred_bad, y)\n",
        "\n",
        "print(f'Loss 1 Torch = {l1.item():.4f}')\n",
        "print(f'Loss 2 Torch = {l2.item():.4f}')"
      ],
      "execution_count": null,
      "outputs": [
        {
          "output_type": "stream",
          "text": [
            "Loss 1 Torch = 0.4170\n",
            "Loss 2 Torch = 1.8406\n"
          ],
          "name": "stdout"
        }
      ]
    },
    {
      "cell_type": "markdown",
      "metadata": {
        "id": "aasdlsQwXShv"
      },
      "source": [
        "Para obter as previsões, fazemos da seguinte forma:"
      ]
    },
    {
      "cell_type": "code",
      "metadata": {
        "colab": {
          "base_uri": "https://localhost:8080/"
        },
        "id": "Y5mbDXkVXVIo",
        "outputId": "4f417168-ea0f-4370-b77b-fc0de679bcdc"
      },
      "source": [
        "_, predictions1 = torch.max(y_pred_good, 1)\n",
        "_, predictions2 = torch.max(y_pred_bad, 1)\n",
        "\n",
        "print(f'Previsão 1: {predictions1}')\n",
        "print(f'Previsão 2: {predictions2}')"
      ],
      "execution_count": null,
      "outputs": [
        {
          "output_type": "stream",
          "text": [
            "Previsão 1: tensor([0])\n",
            "Previsão 2: tensor([1])\n"
          ],
          "name": "stdout"
        }
      ]
    },
    {
      "cell_type": "markdown",
      "metadata": {
        "id": "FkZSzRAPXrwt"
      },
      "source": [
        "Veja que em ambos os casos estamos escolhendo o valor com maior probabilidade, que é o **2.0**, indexado em **predictions1** por **0** e em **predictions2** por **1**.\n",
        "\n",
        "É importante estarmos cientes que a Loss em PyTorch nos possibilita trabalhar com múltiplas amostras. \n",
        "\n",
        "Vamos então aumentar nossas amostras para ver esste exemplo:"
      ]
    },
    {
      "cell_type": "code",
      "metadata": {
        "colab": {
          "base_uri": "https://localhost:8080/"
        },
        "id": "gDDpfK5eYb1B",
        "outputId": "83b3b605-07a1-48a0-bbb0-7893b4f82d04"
      },
      "source": [
        "loss = nn.CrossEntropyLoss()\n",
        "\n",
        "# 3 amostras\n",
        "y = torch.tensor([2, 0, 1])\n",
        "# n_amostras x n_classes = 3 x 3\n",
        "y_pred_good = torch.tensor([[0.1, 1.0, 2.1], [2.0, 1.0, 0.1], [0.1, 3.0, 0.1]])\n",
        "y_pred_bad = torch.tensor([[2.1, 1.0, 0.1], [0.3, 1.0, 2.1], [0.1, 3.0, 0.1]])\n",
        "\n",
        "l1 = loss(y_pred_good, y)\n",
        "l2 = loss(y_pred_bad, y)\n",
        "\n",
        "print(f'Loss 1 Torch = {l1.item():.4f}')\n",
        "print(f'Loss 2 Torch = {l2.item():.4f}')\n",
        "\n",
        "_, predictions1 = torch.max(y_pred_good, 1)\n",
        "_, predictions2 = torch.max(y_pred_bad, 1)\n",
        "\n",
        "print(f'Previsão 1: {predictions1}')\n",
        "print(f'Previsão 2: {predictions2}')"
      ],
      "execution_count": null,
      "outputs": [
        {
          "output_type": "stream",
          "text": [
            "Loss 1 Torch = 0.3018\n",
            "Loss 2 Torch = 1.5642\n",
            "Previsão 1: tensor([2, 0, 1])\n",
            "Previsão 2: tensor([0, 2, 1])\n"
          ],
          "name": "stdout"
        }
      ]
    },
    {
      "cell_type": "markdown",
      "metadata": {
        "id": "B7wcLB35a2XA"
      },
      "source": [
        "Observe que a nossa primeira previsão é correta e está de acordo com **y**, já a segunda previsão está incorreta."
      ]
    },
    {
      "cell_type": "markdown",
      "metadata": {
        "id": "hlyGjOn1kyVa"
      },
      "source": [
        "## Funções de Ativação\n",
        "\n",
        "Em redes neurais artificiais, a função de ativação de um nó define a saída desse nó dada uma entrada ou conjunto de entradas.\n",
        "\n",
        "As funções de ativação são uma característica importante das redes neurais artificiais.\n",
        "\n",
        "Elas são responsáveis por aplicar uma transformação não-linear e então decidir se um neurônio deve ser ativado ou não.\n",
        "\n",
        "Através de suas transformações não-lineares as nossas redes neurais podem aprender \"melhor\", podendo resolver problemas mais complexos.\n",
        "\n",
        "A seguir temos uma lista das funções de ativação mais populares:\n",
        "\n",
        "1. Step Function\n",
        "2. Sigmoid\n",
        "3. TanH\n",
        "4. ReLU\n",
        "5. Leaky ReLU\n",
        "6. Softmax\n",
        "\n",
        "## Multilayer Feed-Forward Neural Network\n",
        "\n",
        "A seguir vamos implementar uma Multilayer Network capaz de fazer classificação de dígitos escritos a mão, usaremos o famosos conjunto de dados MNIST para solucionar este problema.\n",
        "\n",
        "Usaremos vários conceitos que já aprendemos anteriormente, como o **DataLoader** para carregar o nosso conjunto de dados, aplicaremos também um transfomador nos dados.\n",
        "\n",
        "Implementaremos a nossa Rede Neural com uma layer de input, hidden layer e output layer e também aplicaremos as funções de ativação.\n",
        "\n",
        "Iremos então setar uma função Loss e o Otimizador e definiremos um loop de treinamento para treinar o modelo (rede neural).\n",
        "\n",
        "Por fim, iremos avaliar o modelo e calcular a **Accuracy** dele."
      ]
    },
    {
      "cell_type": "code",
      "metadata": {
        "colab": {
          "base_uri": "https://localhost:8080/"
        },
        "id": "k_vRa8Tjk_93",
        "outputId": "85582d63-7a4b-4660-cec2-f386df2cbc8a"
      },
      "source": [
        "import torchvision.transforms as transforms\n",
        "\n",
        "# configuração do dispositivo\n",
        "device = torch.device('cuda' if torch.cuda.is_available() else 'cpu')\n",
        "\n",
        "# hyper parameters\n",
        "input_size = 784 # dimensão da imagem = 28x28\n",
        "hidden_size = 100\n",
        "num_classes = 10 # números de 0 a 9\n",
        "num_epochs = 2\n",
        "batch_size = 100\n",
        "learning_rate = 0.001\n",
        "\n",
        "# MNIST dataset\n",
        "train_dataset = torchvision.datasets.MNIST(root='.', train=True, transform=transforms.ToTensor(), download=True)\n",
        "test_dataset = torchvision.datasets.MNIST(root='.', train=False, transform=transforms.ToTensor())\n",
        "\n",
        "# DataLoaders\n",
        "train_loader = torch.utils.data.DataLoader(dataset=train_dataset, batch_size=batch_size, shuffle=True)\n",
        "test_loader = torch.utils.data.DataLoader(dataset=test_dataset, batch_size=batch_size, shuffle=False)\n",
        "\n",
        "examples = iter(train_loader)\n",
        "samples, labels = examples.next()\n",
        "print(samples.shape, labels.shape)"
      ],
      "execution_count": null,
      "outputs": [
        {
          "output_type": "stream",
          "text": [
            "torch.Size([100, 1, 28, 28]) torch.Size([100])\n"
          ],
          "name": "stdout"
        }
      ]
    },
    {
      "cell_type": "markdown",
      "metadata": {
        "id": "WVO1cHppqcuK"
      },
      "source": [
        "Observe que temos um batch de 100 amostras, com apenas 1 canal de cores de dimensão 28 x 28.\n",
        "\n",
        "Também temos um vetor de 100 labels, indicando a classe a qual cada imagem pertence.\n",
        "\n",
        "Vamos plotar algumas imagens para vermos os dados que estamos trabalhando:"
      ]
    },
    {
      "cell_type": "code",
      "metadata": {
        "colab": {
          "base_uri": "https://localhost:8080/",
          "height": 267
        },
        "id": "NzeTXjW7qnL-",
        "outputId": "f805dec4-1089-4fb5-8eca-93aa97cf46b5"
      },
      "source": [
        "for i in range(6):\n",
        "    plt.subplot(2, 3, i+1)\n",
        "    plt.imshow(samples[i][0], cmap='gray')\n",
        "plt.show()"
      ],
      "execution_count": null,
      "outputs": [
        {
          "output_type": "display_data",
          "data": {
            "image/png": "[encoded data removed]",
            "text/plain": [
              "<Figure size 432x288 with 6 Axes>"
            ]
          },
          "metadata": {
            "tags": [],
            "needs_background": "light"
          }
        }
      ]
    },
    {
      "cell_type": "markdown",
      "metadata": {
        "id": "rSWb7C-brFJX"
      },
      "source": [
        "Agora vamos construir a nossa Rede Neural (Modelo Classificador) usando os conceitos que aprendemos até então:"
      ]
    },
    {
      "cell_type": "code",
      "metadata": {
        "id": "AZElaQfBrRAq"
      },
      "source": [
        "class NeuralNet(nn.Module):\n",
        "    def __init__(self, input_size, hidden_size, num_classes):\n",
        "        super(NeuralNet, self).__init__()\n",
        "        self.l1 = nn.Linear(input_size, hidden_size)\n",
        "        self.relu = nn.ReLU()\n",
        "        self.l2 = nn.Linear(hidden_size, num_classes)\n",
        "    \n",
        "    def forward(self, x):\n",
        "        out = self.l1(x)\n",
        "        out = self.relu(out)\n",
        "        out = self.l2(out)\n",
        "        return out"
      ],
      "execution_count": null,
      "outputs": []
    },
    {
      "cell_type": "markdown",
      "metadata": {
        "id": "IOCeAjiPr6xL"
      },
      "source": [
        "Com o nosso Modelo definido, podemos instanciá-lo para usar ele:"
      ]
    },
    {
      "cell_type": "code",
      "metadata": {
        "id": "-Md3z4P-r-L4"
      },
      "source": [
        "model = NeuralNet(input_size, hidden_size, num_classes)"
      ],
      "execution_count": null,
      "outputs": []
    },
    {
      "cell_type": "markdown",
      "metadata": {
        "id": "n8Icy2rosD1o"
      },
      "source": [
        "Definimos a função Loss e o Optimizer:"
      ]
    },
    {
      "cell_type": "code",
      "metadata": {
        "id": "6sYYBX-UsGGz"
      },
      "source": [
        "criterion = nn.CrossEntropyLoss()\n",
        "optimizer = torch.optim.Adam(model.parameters(), lr=learning_rate)"
      ],
      "execution_count": null,
      "outputs": []
    },
    {
      "cell_type": "markdown",
      "metadata": {
        "id": "Fev5qt6bsPk9"
      },
      "source": [
        "Treinamos o Modelo:"
      ]
    },
    {
      "cell_type": "code",
      "metadata": {
        "colab": {
          "base_uri": "https://localhost:8080/"
        },
        "id": "6Fm3JOlCsSrQ",
        "outputId": "1eccd48f-f2e0-497e-e26d-509ccf21abcb"
      },
      "source": [
        "n_total_steps = len(train_loader)\n",
        "\n",
        "for epoch in range(num_epochs):\n",
        "    for i, (images, labels) in enumerate(train_loader):\n",
        "        # 100, 1, 28, 28 -> 100, 784\n",
        "        images = images.reshape(-1, 28*28).to(device)\n",
        "        labels = labels.to(device)\n",
        "        # forward pass\n",
        "        outputs = model(images)\n",
        "        loss = criterion(outputs, labels)\n",
        "        # backwards\n",
        "        optimizer.zero_grad()\n",
        "        loss.backward()\n",
        "        optimizer.step()\n",
        "        if (i + 1) % 100 == 0:\n",
        "            print(f'epoch: {epoch+1} / {num_epochs}, step {i+1} / {n_total_steps}, loss = {loss.item():.4f}')"
      ],
      "execution_count": null,
      "outputs": [
        {
          "output_type": "stream",
          "text": [
            "epoch: 1 / 2, step 100 / 600, loss = 0.4185\n",
            "epoch: 1 / 2, step 200 / 600, loss = 0.2613\n",
            "epoch: 1 / 2, step 300 / 600, loss = 0.2317\n",
            "epoch: 1 / 2, step 400 / 600, loss = 0.2591\n",
            "epoch: 1 / 2, step 500 / 600, loss = 0.1763\n",
            "epoch: 1 / 2, step 600 / 600, loss = 0.1951\n",
            "epoch: 2 / 2, step 100 / 600, loss = 0.1413\n",
            "epoch: 2 / 2, step 200 / 600, loss = 0.1762\n",
            "epoch: 2 / 2, step 300 / 600, loss = 0.1871\n",
            "epoch: 2 / 2, step 400 / 600, loss = 0.1090\n",
            "epoch: 2 / 2, step 500 / 600, loss = 0.2516\n",
            "epoch: 2 / 2, step 600 / 600, loss = 0.2131\n"
          ],
          "name": "stdout"
        }
      ]
    },
    {
      "cell_type": "markdown",
      "metadata": {
        "id": "KA9uxDKHtdUa"
      },
      "source": [
        "Por fim, calculamos a **Accuracy** do modelo:"
      ]
    },
    {
      "cell_type": "code",
      "metadata": {
        "colab": {
          "base_uri": "https://localhost:8080/"
        },
        "id": "KRjT5qBFtfvg",
        "outputId": "046f9073-cca0-46b7-c85b-31e6f0f10168"
      },
      "source": [
        "with torch.no_grad():\n",
        "    n_correct = 0\n",
        "    n_samples = 0\n",
        "    for images, labels in test_loader:\n",
        "        images = images.reshape(-1, 28*28).to(device)\n",
        "        labels = labels.to(device)\n",
        "        outputs = model(images)\n",
        "\n",
        "        _, predictions = torch.max(outputs, 1)\n",
        "        n_samples += labels.shape[0]\n",
        "        n_correct += (predictions == labels).sum().item()\n",
        "\n",
        "    acc = 100.0 * n_correct / n_samples\n",
        "    print(f'Accuracy = {acc}%')"
      ],
      "execution_count": null,
      "outputs": [
        {
          "output_type": "stream",
          "text": [
            "Accuracy = 95.43%\n"
          ],
          "name": "stdout"
        }
      ]
    },
    {
      "cell_type": "markdown",
      "metadata": {
        "id": "x6jwJbZx3K6I"
      },
      "source": [
        "## Referências\n",
        "\n",
        "- [Deep Learning With PyTorch](https://www.youtube.com/watch?v=c36lUUr864M&t=3814s&ab_channel=PythonEngineer)\n",
        "- [PyTorch](https://pytorch.org/)"
      ]
    }
  ]
}