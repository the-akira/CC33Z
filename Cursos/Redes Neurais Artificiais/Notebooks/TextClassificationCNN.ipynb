{
  "nbformat": 4,
  "nbformat_minor": 0,
  "metadata": {
    "colab": {
      "name": "TextClassificationCNN.ipynb",
      "provenance": [],
      "collapsed_sections": []
    },
    "kernelspec": {
      "name": "python3",
      "display_name": "Python 3"
    },
    "language_info": {
      "name": "python"
    }
  },
  "cells": [
    {
      "cell_type": "markdown",
      "metadata": {
        "id": "sLwSU1bWpXd9"
      },
      "source": [
        "# Classificação de Texto usando CNN\n",
        "\n",
        "Neste notebook vamos trabalhar com a tarefa de classificação de emails usando uma [Convolutional Neural Network (CNN)](https://en.wikipedia.org/wiki/Convolutional_neural_network).\n",
        "\n",
        "Primeiramente importamos as bibliotecas necessárias:"
      ]
    },
    {
      "cell_type": "code",
      "metadata": {
        "id": "q95q4HB_qGK-"
      },
      "source": [
        "import torch\n",
        "import torch.nn as nn\n",
        "from torchtext.legacy import data as ttd\n",
        "import torch.nn.functional as F\n",
        "from torchtext.vocab import GloVe\n",
        "import numpy as np\n",
        "import pandas as pd\n",
        "import matplotlib.pyplot as plt\n",
        "from datetime import datetime"
      ],
      "execution_count": 114,
      "outputs": []
    },
    {
      "cell_type": "markdown",
      "metadata": {
        "id": "RqX5_xP2qKus"
      },
      "source": [
        "Em seguida, obtemos o conjunto de dados:"
      ]
    },
    {
      "cell_type": "code",
      "metadata": {
        "colab": {
          "base_uri": "https://localhost:8080/"
        },
        "id": "FHPAwHhOqN53",
        "outputId": "4b8aa5ae-46b6-4d2e-c7e7-1b1d935d10ae"
      },
      "source": [
        "!wget -nc https://gist.githubusercontent.com/the-akira/9280f786082bdd23c7717284833f72c4/raw/bb639bec021e14960c07f679c4995b281d03bb7f/spam.csv"
      ],
      "execution_count": 115,
      "outputs": [
        {
          "output_type": "stream",
          "text": [
            "--2021-06-22 17:27:17--  https://gist.githubusercontent.com/the-akira/9280f786082bdd23c7717284833f72c4/raw/bb639bec021e14960c07f679c4995b281d03bb7f/spam.csv\n",
            "Resolving gist.githubusercontent.com (gist.githubusercontent.com)... 185.199.109.133, 185.199.110.133, 185.199.111.133, ...\n",
            "Connecting to gist.githubusercontent.com (gist.githubusercontent.com)|185.199.109.133|:443... connected.\n",
            "HTTP request sent, awaiting response... 200 OK\n",
            "Length: 498960 (487K) [text/plain]\n",
            "Saving to: ‘spam.csv’\n",
            "\n",
            "\rspam.csv              0%[                    ]       0  --.-KB/s               \rspam.csv            100%[===================>] 487.27K  --.-KB/s    in 0.04s   \n",
            "\n",
            "2021-06-22 17:27:17 (11.4 MB/s) - ‘spam.csv’ saved [498960/498960]\n",
            "\n"
          ],
          "name": "stdout"
        }
      ]
    },
    {
      "cell_type": "markdown",
      "metadata": {
        "id": "NR7ir8BnqSL3"
      },
      "source": [
        "Carregamos o conjunto de dados em um DataFrame pandas:"
      ]
    },
    {
      "cell_type": "code",
      "metadata": {
        "id": "LAmClREoqUxf"
      },
      "source": [
        "df = pd.read_csv('spam.csv', encoding='ISO-8859-1')"
      ],
      "execution_count": 116,
      "outputs": []
    },
    {
      "cell_type": "code",
      "metadata": {
        "colab": {
          "base_uri": "https://localhost:8080/",
          "height": 204
        },
        "id": "b_s02VtYqWHj",
        "outputId": "dbb61a89-172f-48cf-b9f4-305e877bc726"
      },
      "source": [
        "df.head()"
      ],
      "execution_count": 117,
      "outputs": [
        {
          "output_type": "execute_result",
          "data": {
            "text/html": [
              "<div>\n",
              "<style scoped>\n",
              "    .dataframe tbody tr th:only-of-type {\n",
              "        vertical-align: middle;\n",
              "    }\n",
              "\n",
              "    .dataframe tbody tr th {\n",
              "        vertical-align: top;\n",
              "    }\n",
              "\n",
              "    .dataframe thead th {\n",
              "        text-align: right;\n",
              "    }\n",
              "</style>\n",
              "<table border=\"1\" class=\"dataframe\">\n",
              "  <thead>\n",
              "    <tr style=\"text-align: right;\">\n",
              "      <th></th>\n",
              "      <th>v1</th>\n",
              "      <th>v2</th>\n",
              "      <th>Unnamed: 2</th>\n",
              "      <th>Unnamed: 3</th>\n",
              "      <th>Unnamed: 4</th>\n",
              "    </tr>\n",
              "  </thead>\n",
              "  <tbody>\n",
              "    <tr>\n",
              "      <th>0</th>\n",
              "      <td>ham</td>\n",
              "      <td>Go until jurong point, crazy.. Available only ...</td>\n",
              "      <td>NaN</td>\n",
              "      <td>NaN</td>\n",
              "      <td>NaN</td>\n",
              "    </tr>\n",
              "    <tr>\n",
              "      <th>1</th>\n",
              "      <td>ham</td>\n",
              "      <td>Ok lar... Joking wif u oni...</td>\n",
              "      <td>NaN</td>\n",
              "      <td>NaN</td>\n",
              "      <td>NaN</td>\n",
              "    </tr>\n",
              "    <tr>\n",
              "      <th>2</th>\n",
              "      <td>spam</td>\n",
              "      <td>Free entry in 2 a wkly comp to win FA Cup fina...</td>\n",
              "      <td>NaN</td>\n",
              "      <td>NaN</td>\n",
              "      <td>NaN</td>\n",
              "    </tr>\n",
              "    <tr>\n",
              "      <th>3</th>\n",
              "      <td>ham</td>\n",
              "      <td>U dun say so early hor... U c already then say...</td>\n",
              "      <td>NaN</td>\n",
              "      <td>NaN</td>\n",
              "      <td>NaN</td>\n",
              "    </tr>\n",
              "    <tr>\n",
              "      <th>4</th>\n",
              "      <td>ham</td>\n",
              "      <td>Nah I don't think he goes to usf, he lives aro...</td>\n",
              "      <td>NaN</td>\n",
              "      <td>NaN</td>\n",
              "      <td>NaN</td>\n",
              "    </tr>\n",
              "  </tbody>\n",
              "</table>\n",
              "</div>"
            ],
            "text/plain": [
              "     v1  ... Unnamed: 4\n",
              "0   ham  ...        NaN\n",
              "1   ham  ...        NaN\n",
              "2  spam  ...        NaN\n",
              "3   ham  ...        NaN\n",
              "4   ham  ...        NaN\n",
              "\n",
              "[5 rows x 5 columns]"
            ]
          },
          "metadata": {
            "tags": []
          },
          "execution_count": 117
        }
      ]
    },
    {
      "cell_type": "markdown",
      "metadata": {
        "id": "AXuhzlXHqZrI"
      },
      "source": [
        "Eliminamos as colunas desnecessárias:"
      ]
    },
    {
      "cell_type": "code",
      "metadata": {
        "id": "Zcq2pQjGqbiH"
      },
      "source": [
        "df = df.drop([\"Unnamed: 2\", \"Unnamed: 3\", \"Unnamed: 4\"], axis=1)"
      ],
      "execution_count": 118,
      "outputs": []
    },
    {
      "cell_type": "code",
      "metadata": {
        "colab": {
          "base_uri": "https://localhost:8080/",
          "height": 204
        },
        "id": "gJ0KlVrAqeGA",
        "outputId": "a2e8b775-ce47-4fee-a720-d61d01068778"
      },
      "source": [
        "df.head()"
      ],
      "execution_count": 119,
      "outputs": [
        {
          "output_type": "execute_result",
          "data": {
            "text/html": [
              "<div>\n",
              "<style scoped>\n",
              "    .dataframe tbody tr th:only-of-type {\n",
              "        vertical-align: middle;\n",
              "    }\n",
              "\n",
              "    .dataframe tbody tr th {\n",
              "        vertical-align: top;\n",
              "    }\n",
              "\n",
              "    .dataframe thead th {\n",
              "        text-align: right;\n",
              "    }\n",
              "</style>\n",
              "<table border=\"1\" class=\"dataframe\">\n",
              "  <thead>\n",
              "    <tr style=\"text-align: right;\">\n",
              "      <th></th>\n",
              "      <th>v1</th>\n",
              "      <th>v2</th>\n",
              "    </tr>\n",
              "  </thead>\n",
              "  <tbody>\n",
              "    <tr>\n",
              "      <th>0</th>\n",
              "      <td>ham</td>\n",
              "      <td>Go until jurong point, crazy.. Available only ...</td>\n",
              "    </tr>\n",
              "    <tr>\n",
              "      <th>1</th>\n",
              "      <td>ham</td>\n",
              "      <td>Ok lar... Joking wif u oni...</td>\n",
              "    </tr>\n",
              "    <tr>\n",
              "      <th>2</th>\n",
              "      <td>spam</td>\n",
              "      <td>Free entry in 2 a wkly comp to win FA Cup fina...</td>\n",
              "    </tr>\n",
              "    <tr>\n",
              "      <th>3</th>\n",
              "      <td>ham</td>\n",
              "      <td>U dun say so early hor... U c already then say...</td>\n",
              "    </tr>\n",
              "    <tr>\n",
              "      <th>4</th>\n",
              "      <td>ham</td>\n",
              "      <td>Nah I don't think he goes to usf, he lives aro...</td>\n",
              "    </tr>\n",
              "  </tbody>\n",
              "</table>\n",
              "</div>"
            ],
            "text/plain": [
              "     v1                                                 v2\n",
              "0   ham  Go until jurong point, crazy.. Available only ...\n",
              "1   ham                      Ok lar... Joking wif u oni...\n",
              "2  spam  Free entry in 2 a wkly comp to win FA Cup fina...\n",
              "3   ham  U dun say so early hor... U c already then say...\n",
              "4   ham  Nah I don't think he goes to usf, he lives aro..."
            ]
          },
          "metadata": {
            "tags": []
          },
          "execution_count": 119
        }
      ]
    },
    {
      "cell_type": "markdown",
      "metadata": {
        "id": "5637tMZlqhRm"
      },
      "source": [
        "Renomeamos as colunas adequadamente:"
      ]
    },
    {
      "cell_type": "code",
      "metadata": {
        "id": "SbkwuYBmqlTO"
      },
      "source": [
        "df.columns = ['labels', 'data']"
      ],
      "execution_count": 120,
      "outputs": []
    },
    {
      "cell_type": "code",
      "metadata": {
        "colab": {
          "base_uri": "https://localhost:8080/",
          "height": 204
        },
        "id": "woW60QzeqoBK",
        "outputId": "fd371e51-9135-4bc1-faa2-593e9f4b9582"
      },
      "source": [
        "df.head()"
      ],
      "execution_count": 121,
      "outputs": [
        {
          "output_type": "execute_result",
          "data": {
            "text/html": [
              "<div>\n",
              "<style scoped>\n",
              "    .dataframe tbody tr th:only-of-type {\n",
              "        vertical-align: middle;\n",
              "    }\n",
              "\n",
              "    .dataframe tbody tr th {\n",
              "        vertical-align: top;\n",
              "    }\n",
              "\n",
              "    .dataframe thead th {\n",
              "        text-align: right;\n",
              "    }\n",
              "</style>\n",
              "<table border=\"1\" class=\"dataframe\">\n",
              "  <thead>\n",
              "    <tr style=\"text-align: right;\">\n",
              "      <th></th>\n",
              "      <th>labels</th>\n",
              "      <th>data</th>\n",
              "    </tr>\n",
              "  </thead>\n",
              "  <tbody>\n",
              "    <tr>\n",
              "      <th>0</th>\n",
              "      <td>ham</td>\n",
              "      <td>Go until jurong point, crazy.. Available only ...</td>\n",
              "    </tr>\n",
              "    <tr>\n",
              "      <th>1</th>\n",
              "      <td>ham</td>\n",
              "      <td>Ok lar... Joking wif u oni...</td>\n",
              "    </tr>\n",
              "    <tr>\n",
              "      <th>2</th>\n",
              "      <td>spam</td>\n",
              "      <td>Free entry in 2 a wkly comp to win FA Cup fina...</td>\n",
              "    </tr>\n",
              "    <tr>\n",
              "      <th>3</th>\n",
              "      <td>ham</td>\n",
              "      <td>U dun say so early hor... U c already then say...</td>\n",
              "    </tr>\n",
              "    <tr>\n",
              "      <th>4</th>\n",
              "      <td>ham</td>\n",
              "      <td>Nah I don't think he goes to usf, he lives aro...</td>\n",
              "    </tr>\n",
              "  </tbody>\n",
              "</table>\n",
              "</div>"
            ],
            "text/plain": [
              "  labels                                               data\n",
              "0    ham  Go until jurong point, crazy.. Available only ...\n",
              "1    ham                      Ok lar... Joking wif u oni...\n",
              "2   spam  Free entry in 2 a wkly comp to win FA Cup fina...\n",
              "3    ham  U dun say so early hor... U c already then say...\n",
              "4    ham  Nah I don't think he goes to usf, he lives aro..."
            ]
          },
          "metadata": {
            "tags": []
          },
          "execution_count": 121
        }
      ]
    },
    {
      "cell_type": "markdown",
      "metadata": {
        "id": "WRq2VqEHqrIN"
      },
      "source": [
        "A seguir, criaremos labels (rótulos) binários:"
      ]
    },
    {
      "cell_type": "code",
      "metadata": {
        "id": "4ae2sSKFqtw1"
      },
      "source": [
        "df['b_labels'] = df['labels'].map({'ham': 0, 'spam': 1})"
      ],
      "execution_count": 122,
      "outputs": []
    },
    {
      "cell_type": "markdown",
      "metadata": {
        "id": "S7EMEGTsqwWI"
      },
      "source": [
        "E então definimos um novo DataFrame:"
      ]
    },
    {
      "cell_type": "code",
      "metadata": {
        "id": "fbvQKQBgqyPa"
      },
      "source": [
        "df2 = df[['data', 'b_labels']]"
      ],
      "execution_count": 123,
      "outputs": []
    },
    {
      "cell_type": "code",
      "metadata": {
        "colab": {
          "base_uri": "https://localhost:8080/",
          "height": 204
        },
        "id": "DS3ssGc4qzic",
        "outputId": "e7a6c93d-ba31-4c40-fe3c-c0b5a37fe705"
      },
      "source": [
        "df2.head()"
      ],
      "execution_count": 124,
      "outputs": [
        {
          "output_type": "execute_result",
          "data": {
            "text/html": [
              "<div>\n",
              "<style scoped>\n",
              "    .dataframe tbody tr th:only-of-type {\n",
              "        vertical-align: middle;\n",
              "    }\n",
              "\n",
              "    .dataframe tbody tr th {\n",
              "        vertical-align: top;\n",
              "    }\n",
              "\n",
              "    .dataframe thead th {\n",
              "        text-align: right;\n",
              "    }\n",
              "</style>\n",
              "<table border=\"1\" class=\"dataframe\">\n",
              "  <thead>\n",
              "    <tr style=\"text-align: right;\">\n",
              "      <th></th>\n",
              "      <th>data</th>\n",
              "      <th>b_labels</th>\n",
              "    </tr>\n",
              "  </thead>\n",
              "  <tbody>\n",
              "    <tr>\n",
              "      <th>0</th>\n",
              "      <td>Go until jurong point, crazy.. Available only ...</td>\n",
              "      <td>0</td>\n",
              "    </tr>\n",
              "    <tr>\n",
              "      <th>1</th>\n",
              "      <td>Ok lar... Joking wif u oni...</td>\n",
              "      <td>0</td>\n",
              "    </tr>\n",
              "    <tr>\n",
              "      <th>2</th>\n",
              "      <td>Free entry in 2 a wkly comp to win FA Cup fina...</td>\n",
              "      <td>1</td>\n",
              "    </tr>\n",
              "    <tr>\n",
              "      <th>3</th>\n",
              "      <td>U dun say so early hor... U c already then say...</td>\n",
              "      <td>0</td>\n",
              "    </tr>\n",
              "    <tr>\n",
              "      <th>4</th>\n",
              "      <td>Nah I don't think he goes to usf, he lives aro...</td>\n",
              "      <td>0</td>\n",
              "    </tr>\n",
              "  </tbody>\n",
              "</table>\n",
              "</div>"
            ],
            "text/plain": [
              "                                                data  b_labels\n",
              "0  Go until jurong point, crazy.. Available only ...         0\n",
              "1                      Ok lar... Joking wif u oni...         0\n",
              "2  Free entry in 2 a wkly comp to win FA Cup fina...         1\n",
              "3  U dun say so early hor... U c already then say...         0\n",
              "4  Nah I don't think he goes to usf, he lives aro...         0"
            ]
          },
          "metadata": {
            "tags": []
          },
          "execution_count": 124
        }
      ]
    },
    {
      "cell_type": "markdown",
      "metadata": {
        "id": "-cibEYfAq2b2"
      },
      "source": [
        "Exportamos o novo DataFrame (**df2**) para um arquivo CSV:"
      ]
    },
    {
      "cell_type": "code",
      "metadata": {
        "id": "c2KfqL_xq5bA"
      },
      "source": [
        "df2.to_csv('spam2.csv', index=False)"
      ],
      "execution_count": 125,
      "outputs": []
    },
    {
      "cell_type": "markdown",
      "metadata": {
        "id": "9uaT76W1q9EL"
      },
      "source": [
        "Criamos dois objetos **Field**:"
      ]
    },
    {
      "cell_type": "code",
      "metadata": {
        "id": "g8aD-PSaq-4d"
      },
      "source": [
        "TEXT = ttd.Field(sequential=True, batch_first=True, lower=False, pad_first=True)\n",
        "LABEL = ttd.Field(sequential=False, use_vocab=False, is_target=True)"
      ],
      "execution_count": 126,
      "outputs": []
    },
    {
      "cell_type": "markdown",
      "metadata": {
        "id": "FLu3qk3orB_v"
      },
      "source": [
        "E criamos um objeto **TabularDataset**:"
      ]
    },
    {
      "cell_type": "code",
      "metadata": {
        "id": "w8M27TQ5rEyV"
      },
      "source": [
        "dataset = ttd.TabularDataset(\n",
        "    path='spam2.csv',\n",
        "    format='csv',\n",
        "    skip_header=True,\n",
        "    fields=[('data', TEXT), ('label', LABEL)]\n",
        ")"
      ],
      "execution_count": 127,
      "outputs": []
    },
    {
      "cell_type": "markdown",
      "metadata": {
        "id": "ggWSVC-5rKJI"
      },
      "source": [
        "Dividimos os dados em um conjunto de treinamento e outro de teste:"
      ]
    },
    {
      "cell_type": "code",
      "metadata": {
        "id": "wQLDwVU8rO2M"
      },
      "source": [
        "train_dataset, test_dataset = dataset.split()"
      ],
      "execution_count": 128,
      "outputs": []
    },
    {
      "cell_type": "markdown",
      "metadata": {
        "id": "OF_Gg8HwrSEn"
      },
      "source": [
        "Construímos um vocabulário com a função **build_vocab**:"
      ]
    },
    {
      "cell_type": "code",
      "metadata": {
        "id": "zRwTLb5lrV9G"
      },
      "source": [
        "TEXT.build_vocab(train_dataset,)"
      ],
      "execution_count": 129,
      "outputs": []
    },
    {
      "cell_type": "code",
      "metadata": {
        "colab": {
          "base_uri": "https://localhost:8080/"
        },
        "id": "01ouElUarXEh",
        "outputId": "bba7d0b0-ac4e-4658-e9eb-488836ecc0f8"
      },
      "source": [
        "vocab = TEXT.vocab\n",
        "print(vocab.itos)"
      ],
      "execution_count": 130,
      "outputs": [
        {
          "output_type": "stream",
          "text": [
            "['<unk>', '<pad>', 'to', 'you', 'I', 'a', 'the', 'and', 'in', 'is', 'i', 'u', 'my', 'for', 'of', 'your', 'me', 'on', 'have', '2', 'that', 'are', 'it', 'call', 'or', 'at', 'with', 'be', 'not', 'will', 'get', 'ur', 'but', 'so', '&lt;#&gt;', 'can', \"I'm\", 'U', '.', 'from', 'You', '4', 'when', 'just', 'we', 'all', 'if', 'like', 'this', 'know', 'go', 'up', 'out', 'do', 'now', 'was', 'come', 'got', 'am', '?', '...', 'by', 'Call', 'send', 'what', 'about', 'want', 'only', 'going', 'time', 'one', 'its', 'no', 'But', 'How', 'We', 'as', \"I'll\", 'our', 'then', 'text', 'there', 'Just', 'So', 'n', 'need', 'r', 'still', 'has', 'If', 'No', \"don't\", 'he', 'an', 'been', 'love', 'home', 'Ã\\x8c_', 'how', 'Do', 'her', 'see', 'think', 'some', 'tell', 'good', 'any', 'back', 'd', 'free', 'they', 'Your', '&', 'make', 'me.', 'The', 'And', 'Ok', 'What', 'day', 'A', 'give', 'who', '-', 'mobile', 'My', 'dont', 'now.', 'take', 'Have', 'FREE', 'him', 'new', 'much', 'phone', \"i'm\", 'more', 'you.', 'she', '&amp;', 'ask', 'Are', 'claim', 'had', 'here', 'very', 'Can', 'da', 'really', 'reply', 'them', '1', 'Hey', 'To', 'Good', 'find', 'great', 'later', 'should', 'every', 'sent', 'week', 'Hi', 'This', 'lor.', 'too', 'txt', 'work', 'after', 'night', 'number', 'way', 'would', 'Then', 'pick', 'say', 'where', 'Please', 'Txt', 'meet', 'said', 'buy', 'contact', '!', 'right', ':)', 'It', 'Not', 'doing', 'stop', 'wan', 'Its', 'Oh', 'e', \"it's\", 'many', 'us', 'which', 'Is', 'Pls', 'When', 'lor...', 'miss', 'sure', 'Did', 'He', 'Sorry', 'also', 'cant', 'cos', 'could', 'keep', 'last', 'let', 'next', 'someone', 'Ã\\x8cÃ\\x8f', 'Happy', 'it.', 'message', 'something', 'were', '3', 'Reply', 'anything', 'did', 'off', 'ok', 'place', 'service', 'won', 'before', \"can't\", 'his', 'per', 'around', 'being', 'cash', 'leave', 'other', 'Hope', 'gonna', 'hope', 'well', 'Lol', 'STOP', 'always', 'even', 'feel', 'few', 'now!', 'prize', 'told', 'tomorrow', 'why', 'Dear', \"It's\", 'already', 'b', 'first', 'over', 'people', 'thing', 'today', 'went', 'coming', 'day.', 'dun', 'sleep', 'For', 'Nokia', 'Sorry,', 'because', 'c', 'than', 'thought', 'trying', 'wait', '*', 'Get', 'Ur', 'hi', 'please', 'win', \"you're\", 'In', 'Send', 'They', 'Will', 'care', 'getting', 'having', 'might', 'money', 'msg', 'name', \"I've\", 'R', 'Text', 'Where', \"didn't\", 'down', 'life', 'pls', 'All', 'Or', 'happy', 'im', 'shows', 'things', 'thk', 'use', 'waiting', 'you,', '1st', 'Free', 'That', 'YOU', 'Yeah', 'Yes', 'called', 'car', 'dat', 'dear', 'draw', 'morning', 'receive', 'talk', 'try', 'wat', 'She', 'awarded', 'didnt', 'finish', 'pay', 'sorry', 'Ã¥Â£1000', 'Gud', 'Now', 'Thanks', 'Yup', 'another', 'between', 'class', 'customer', 'half', 'late', 'long', 'stuff', 'time.', 'wont', 'x', 'you!', 'you?', 'Dont', 'See', 'babe', 'better', 'da.', 'dis', 'help', 'home.', 'looking', 'now?', 'probably', 'same', 'special', \"that's\", 'v', 'watch', 'As', 'C', 'Claim', 'Tell', 'UR', 'Wat', 'best', 'big', 'bit', 'eat', 'ever', 'friend', 'into', 'job', 'live', 'lot', 'meeting', 'ready', 'shit', 'tonight', '150ppm', '5', 'CALL', 'MY', 'Mobile', 'NOW', 'New', 'Only', 'URGENT!', 'Well', 'chance', \"i'll\", 'ill', 'nice', 'soon', 'today.', '&lt;DECIMAL&gt;', ',', 'IS', 'K', 'ME', \"That's\", 'again', 'end', 'face', 'friends', 'guess', 'hour', 'look', 'may', 'never', 'reach', 'start', 'there.', 'till', 'u.', 'until', 'wanna', 'year', 'AT', 'Me', 'able', 'asked', 'bus', 'came', 'chat', 'dinner', 'done', 'early', 'goes', 'guaranteed', 'haf', 'hear', 'latest', 'lunch', 'made', 'minutes', 'person', 'selected', 'wanted', 'wif', '+', '16', '18', ':-)', 'IM', 'LOVE', 'PO', 'UP', 'Why', 'bad', 'bring', 'days', 'entry', 'forgot', 'girl', 'guys', 'later.', 'left', 'little', 'lor', 'min', 'mins', 'once', 'part', 'put', 'real', 'says', 'since', 'stay', 'that.', 'watching', 'ya', '2nd', '4*', 'Am', 'Got', 'Had', 'Holiday', 'Im', 'Ok...', 'THE', 'away', 'den', 'do.', 'full', 'guy', \"haven't\", \"i've\", 'making', 'means', 'most', 'ok.', 'plan', 'play', 'quite', 'show', 'texts', 'thanks', 'thats', 'those', 'tried', 'tv', \"won't\", 'working', 'yet', 'Ã¥Â£100', 'Ã¥Â£5000', '150p', '16+', '6', \"Don't\", 'Going', 'Love', 'No.', 'Want', 'abt', 'calling', 'does', 'driving', 'enough', 'everything', 'hair', 'hav', 'heart', 'important', 'join', 'juz', 'line', 'me?', 'mind', 'out.', 'right?', 'school', 'town', 'weekly', 'while', 'wish', 'without', '500', '8007', 'GUARANTEED.', 'Haha', 'I.ll', 'Thats', 'There', 'Valid', 'WIN', \"What's\", 'Y', 'boy', 'camera', 'decided', 'evening', 'good.', \"he's\", 'jus', 'makes', 'missed', 'oh.', 'plz', 'post', 'problem', 'remember', 'til', 'times', 'together', 'tomorrow.', 'top', 'tot', 'two', 'up.', 'wake', 'wants', 'word', 'world', 'worth', 'y', '10', 'At', 'Cost', 'Customer', 'May', 'NOW!', 'Ok.', 'Orange', 'account', 'actually', 'apply', 'attempt', 'await', 'calls', 'check', 'collect', 'dad', 'either', 'house', 'leaving', 'liao...', 'lose', 'mail', 'network', 'old', 'princess!', 'shopping', 'smile', 'tones', 'took', \"we're\", 'work.', 'Ã¥Â£500', '12hrs', '7', ':-(', 'Any', 'BSLVYL', 'Expires', 'From', 'IN', 'Last', 'ON', 'On', 'Our', 'SMS', 'Should', 'Speak', 'Take', 'Was', 'Ya', 'Yeah,', 'comes', 'enjoy', 'feeling', 'fine.', 'finished', 'fuck', 'fun', 'head', 'hold', \"how's\", 'hurt', 'land', 'lar...', 'lei...', 'line.', 'luv', 'mean', 'month', 'must', 'now,', 'operator', 'pa.', 'pretty', 'room', 'sat', 'saw', 'saying', 'search', 'set', 'sms', 'speak', 'started', 'sweet', 'takes', 'taking', 'thinking', 'though', 'too.', 'trip', 'video', 'walk', 'week.', 'whole', 'wid', 'Ã¥Â£2000', 'Ã¥Â£250', '..', '0800', '86688', 'Account', 'Aight,', 'Box', 'Come', 'Cos', 'Even', 'Identifier', 'PRIVATE!', 'Statement', 'Todays', 'U.', 'WON', 'ah?', 'already.', 'angry', 'answer', 'anyone', 'apply.', 'collection.', 'dating', 'details', 'drink', 'drop', 'goin', 'havent', 'her.', 'it,', 'it?', 'knw', 'lots', 'man', 'missing', 'no.', 'noe', 'oso', 'pain', 'plus', 'pounds', 're', 'run', 'sexy', \"there's\", 'these', \"we'll\", 'wil', 'words', 'yeah', 'years', '||', 'Ã¥Â£1.50', '!!', '1.', '2.', '4.', '750', 'Bonus', 'Dunno', 'FOR', 'Let', 'No:', 'Okie', 'One', 'Sir,', 'Smile', 'Still', 'T&Cs', 'THAT', 'Thank', 'Today', 'WITH', 'Wish', 'aft', 'almost', 'award', 'babe,', 'beautiful', 'believe', 'both', 'bout', 'cause', 'change', 'close', 'colour', 'cool', 'cost', 'delivery', \"doesn't\", 'download', 'eg', 'family', 'figure', 'fine,', 'found', 'gift', 'girls', 'gud', 'hot', 'id', 'in.', 'k', 'kind', 'light', 'maybe', 'me,', 'mob', 'mom', 'month.', 'needs', 'news', 'night.', 'nothing', 'offers', 'picking', 'price', 'prize!', 'prize.', 'question', 'sister', 'talking', 'test', 'their', 'today?', 'tone', 'tonight?', 'type', 'visit', 'weekend', 'weeks', 'whenever', 'within', 'yourself', '08000930705', '100', '10p', '18+', '3.', '87066', 'AND', 'ARE', 'After', 'Aight', 'By', 'CHAT', 'Code:', 'Congratulations', 'Double', 'GOOD', 'Guess', 'HAVE', 'HI', 'Hello', 'IF', 'IT', 'Jus', 'MobileUpd8', 'NEW', 'OF', 'OUT', 'Prize', 'SO', 'T', 'T&C', 'TO', 'Think', 'Win', 'With', 'YES', 'YOUR', 'Yo', 'alone', 'baby', 'bed', 'birthday', 'bt', 'code', 'company', 'de', 'dunno', 'each', 'else', 'email', 'everyone', 'extra', 'felt', 'food', 'fr', 'frm', 'gets', 'here.', 'hours', 'it!', 'it...', 'know.', 'landline.', 'lesson', 'listen', 'loads', 'mayb', 'me...', 'message.', 'neva', 'offer', 'online', 'outside', 'phones', 'rate', 'ring', 'seeing', 'seems', 'shall', 'soon.', 'support', 'supposed', 'tmr', 'touch', 'u?', 'unsubscribe', 'used', 'wat...', 'wonderful', 'xxx', 'year.', '*grins*', '08000839402', '2003', '800', '=', '@', 'ALL', 'Also', 'Anything', 'B', 'CASH', 'Check', 'Congrats', 'FREE.', 'GO', 'Great', 'Haha...', \"How's\", 'Hows', \"Joy's\", 'POBox', 'SAE', \"She's\", 'Someone', 'TIME', 'TONE', 'Thanx', 'V', 'WAS', 'Watching', 'X', 'address', 'ard', 'b4', 'back.', 'blue', 'book', 'boytoy', 'break', 'brings', 'care.', 'charge.', 'class.', 'comp', 'complimentary', 'couple', 'currently', 'dear.', 'direct', 'drive', 'easy,', 'feels', 'forget', 'gas', 'gave', 'gone', 'gr8', 'happen', 'hit', 'house.', \"isn't\", 'kiss*', 'least', 'leaves', 'me..', 'meant', 'messages', 'min.', 'mobile!', 'money.', 'movie', 'mu', 'now...', 'office', 'ok?', 'open', 'opt', 'order', 'oredi...', 'out!', 'pics', 'points.', 'poor', 'prob', 'problem.', 'pub', 'second', 'secret', 'sell', 'sending', 'shop', 'simple..', 'sis', 'smoke', 'somewhere', 'story', 'ten', 'there,', 'thinks', 'train', 'treat', 'u...', 'update', 'via', 'vouchers', 'wana', 'wat.', 'way.', 'week!', 'wkly', 'wot', 'yet.', 'yr', 'Ã¥Â£200', 'Ã¥Â£350', 'Ã¥Â£800', '12', '87077', ':', 'Actually', 'BOX', 'CAN', 'Cs', 'DA', 'Del', 'Dogging', 'Dude', 'FREE!', 'Go', 'God', 'Hi.', 'ITS', 'Ill', 'K,', 'Latest', 'More', 'Morning', 'NICE', 'NOKIA', 'NTT', 'Need', 'Night', 'Nope', 'Nothing', 'ONLY', 'Of', 'Omg', 'Shall', 'Sounds', 'THIS', \"There's\", 'Tone', 'Tones', 'Ugh', 'Very', 'WHAT', 'Wanna', 'Which', 'XXX', 'YOU!', \"You're\", 'afternoon', 'again.', 'already?', 'asking', 'available', 'award.', 'bank', 'bathe', 'bill', 'bored', 'busy', 'card', 'charge', 'checking', 'collection', 'completely', 'copy', 'course', 'cum', 'darren', 'discount', 'dnt', 'doesnt', 'dream', 'dreams', 'ends', 'exam', 'film', 'final', 'fri', 'friday', 'friend.', 'friends.', 'fucking', 'game', 'gettin', 'god', 'gotta', 'happened', 'happiness', 'hard', 'heard', 'help.', 'here,', 'holiday', 'info', 'kiss', 'knew', 'know!', 'landline', 'later?', 'leh...', 'love,', 'mind.', 'mine', 'morning.', 'myself', 'numbers', 'oh', 'one.', 'only.', 'park', 'party', 'place.', 'planning', 'pm', 'point', 'project', 'rates', 'representative', 'rite...', 's', 'sch', 'sea', 'seen', \"she's\", 'sleep.', 'smth', 'snow', 'specially', 'spend', 'spent', 'tel', 'telling', 'thank', 'them.', 'there?', 'this.', 'tmr?', 'tomo', 'txting', 'un-redeemed', 'using', 'valued', \"wasn't\", 'weed', 'wen', 'whatever', 'winner', 'wit', 'wk', 'woke', 'wonder', 'wondering', 'workin', 'worry', 'write', 'wrong', \"you'll\", 'yours.', 'Â\\x89Ã\\x9bÃ\\x92', '08712460324', '09050090044', '20', '6.', '9', 'Abiola', 'BABE', 'BUT', 'Bt', 'Cant', 'Congrats!', 'Cool,', 'Costa', 'CostÃ¥Â£1.50/pm,', 'Coz', 'Eh', 'FREEPHONE', 'FROM', 'Fuck', 'Give', 'Great.', 'HAPPY', 'HMV', 'Haha,', 'JUST', 'Juz', 'Lets', 'Life', 'Ltd,', 'MUSIC', 'Make', 'Max10mins', 'Maybe', 'Mins', 'NOW.', 'Never', 'O', 'Oops', 'POBox334,', 'Plus', 'Really', 'SAE,', 'SK38xh,', 'STOP.', 'Same', 'Service', 'Sol', 'Stockport,', 'Stop', 'TC', 'TEXT', 'Ts&Cs', 'Update', 'Urgent!', 'Video', 'WANT', 'WELL', 'WORK', 'Wen', 'Would', 'Yar', 'Yes,', 'afternoon,', 'again!', 'alright', 'anytime', 'anyway', 'area', 'bb', 'best.', 'booked', 'call.', 'catch', 'confirm', 'cool.', 'crave', 'custcare', 'decide', 'dog', 'doing.', 'doing?', 'easy', 'em', 'empty', 'ex', 'far', 'father', 'finally', 'fine', 'following', 'fone', 'g', 'giving', 'goto', 'great.', 'him.', 'hop', 'huh?', \"i'd\", 'imma', 'is.', 'keeping', 'lar', 'lar.', 'late.', 'learn', 'lect', 'less', 'library', 'life,', 'liked', 'lost', 'love.', 'lovely', 'lucky', 'marry', 'match', 'men', 'minute', 'mistake', 'mr', 'mrng', 'national', 'near', 'night?', 'nite', 'noon', 'normal', 'not.', 'nt', 'number.', 'ok...', 'ones', 'own', 'pass', 'pic', 'plans', 'player', 'pleased', 'possible', 'rental', 'round', 'rply', 'sad', 'safe', 'services', 'side', 'sleeping', 'small', 'smiling', 'so.', 'song', 'sort', 'south', 'st', 'starting', 'stop.', 'study', 'tampa', 'text.', 'th', 'that!', 'tho', 'through', 'thru', 'tht', 'toClaim.', 'tonight.', 'trouble', 'true', 'uncle', 'urgent', 'w', 'week?', 'weekend.', 'weekends', 'wer', \"what's\", 'wnt', 'word:', 'www.getzed.co.uk', 'ya,', 'yesterday', 'yours', 'Ã¥Â£150', 'Ã¥Â£2,000', '!!!', '$', '0870', '11', '1327', '20p', '36504', '5.', '530', '5WB', '62468', '8', '85023', '9.', ':(', ':V', 'AGE', 'Ahmad', 'Ard', 'BT-national-rate', 'Back', 'Beautiful', 'CDs', 'CR9', 'Calls', 'Change', 'Chat', 'Choose', 'Croydon', 'Does', 'Don', 'Dun', 'E', 'Enjoy', 'FRND', 'First', 'FreeMsg', 'Friends', 'G', 'GET', 'HEY', 'HL', 'HOW', 'Hee...', 'Hello!', 'Hello,', 'Hi,', 'Huh', 'I.', 'Iam', 'LIVE', 'Later', 'Like', 'Lol!', 'M.', 'MUCH', 'Man', 'Miss', 'Mm', 'NAME', 'NEED', 'Nah', 'No1', 'Oh,', 'Over', 'POBOX', 'POLY', 'Plz', 'Press', 'R*reveal', 'S.', 'STOP?', 'SavaMob,', 'Shopping', 'Sorry.', \"T&C's\", \"T's&C's\", 'TODAY', 'TXT:', 'Tenerife', 'Thanks.', 'Thk', 'Thought', 'U-find', 'U?', 'UK', 'Urgent', 'Valentines', 'WE', 'WOT', 'Wait', \"We'll\", 'Xmas', 'Yes.', 'Yo,', \"You've\", 'access', 'across', 'add', 'added', 'against', 'already...', 'anything.', 'around?', 'ass', 'awake', 'awesome', 'babe.', 'bag', 'balance', 'battery', 'bid', 'brother', 'brother.', 'buying', 'camcorder', 'cancel', 'carlos', 'case', 'checked', 'choose', 'competition', 'computer', 'connection', 'coz', 'customer,', 'cut', 'darlin', 'date', 'day,', 'de.', 'deal', 'die', 'different', 'difficult', 'din', 'directly', 'doin', 'drugs', 'dude', 'during', 'earlier', 'eatin', 'ending', 'enter', 'entered', 'especially', 'exciting', 'fall', 'fancy', 'fetch', 'fix', 'forward', 'frens', 'friendship', 'fullonsms.com', 'fun.', 'gal.', 'games,', 'gd', 'going?', 'good,', 'group', 'gym', 'hand', 'happened?', 'happy.', 'hoping', 'house?', 'however', 'hungry', 'hv', 'i.ll', 'ignore', 'immediately', 'inviting', 'is,', 'isnt', 'jay', 'kb', 'kinda', 'lazy', 'leh.', 'life.', 'locations', 'longer', 'lor,', 'loved', 'march', 'mates', 'mid', 'moment', 'morning,', 'mrt', 'msg.', 'msg:', 'msgs', 'much.', 'murder', 'need.', 'net', 'nice.', 'nokia', 'notice', 'office.', 'ok,', 'okay.', 'opinion', 'original', 'others', 'over.', 'over?', 'past', 'paying', 'people.', 'phone.', 'photo', 'picked', 'plan?', 'posted', 'power', 'promise', 'quick', 'rate)', 'rather', 'reached', 'read', 'recently', 'rent', 'rest', 'revealed.', 'ringtone', 'room.', 'running', 'shd', 'showing', 'sim', 'sitting', 'sound', 'special-call', 'spree', 'stock', 'street', 'stuff.', 'style', 'sun', 'sure.', 'swing', 'texting', 'that,', 'then,', \"they're\", 'thnk', 'tired', 'to.', 'tomorrow,', 'towards', 'trust', 'txts', \"u'll\", 'u,', 'under', 'unless', 'waking', 'walking', 'want.', 'wat?', 'weekend?', 'well,', 'whats', 'wife', 'wine', 'wish.', 'wiv', 'worries', 'www.comuk.net', 'yahoo', 'yo', \"you've\", 'you...', 'Â\\x89Ã\\x9b_', 'Ã¥Â£3.00', 'Ã¥Â£900', '#', \"'\", \"'help'\", '*sighs*', '08001950382', '08707509020', '08712300220', '1000s', '11mths+?', '150p/msg.', '2004', '3030.', '3G', '3GBP', '3mins', '3qxj9', '4th', '7.', '786', '8.', '87121', '87239', '9AE', ':/', '=D', 'Aiyar', 'Alright', 'Always', 'Anyway', 'Awesome,', 'BEEN', 'Babe', 'Bcoz', 'Be', 'Better', 'Bluetooth', 'CC:', 'CD', 'COME', 'CW25WX', 'Caller', 'Camera!', 'Carlos', 'Club:', 'Code', 'Could', 'DARLIN', 'DVD', 'Day', 'Day,', 'December', 'Delivery', 'Den', 'Depends', 'Digital', 'Dload', 'Every', 'FA', 'FANTASIES', 'Fancy', 'Found', 'GOT', 'Gift', \"God's\", 'Gr8', 'Great!', 'Grl:', 'HEART', 'HG/Suite342/2Lands', 'HOPE', 'HOT', 'Half', 'Havent', \"He's\", 'Height', 'Hello.', 'Hey,', 'Hmm', 'Howz', \"I'd\", 'IÂ\\x89Ã\\x9bÃ·m', 'John', 'John.', 'Join', 'K.', 'Kate', 'Keep', 'LOL', 'Loyalty', 'Ltd', 'MISS', 'Many', 'Motorola', 'Motorola,', 'N', 'NO', 'National', 'Now!', 'Offer', 'Okay', 'Okie...', 'Once', 'Opt-out', 'Otherwise', 'PHONE', 'POBox36504W45WQ', 'Pete', 'Police', 'Read', 'Rose', 'SORRY', 'SURPRISE', 'Said:', 'Santa', 'SavaMob', 'Say', 'She.s', 'SiPix', 'Since', 'Sub.', 'Tenants', 'Thanx...', 'TnCs', \"UK's\", 'URGENT', 'Videophones', 'Voucher', 'W45WQ', 'WHO', 'WILL', \"We're\", 'Welcome', 'Well,', \"Where's\", 'Who', \"Who's\", 'Wishing', 'Wow', 'Ya,', 'Year', 'Yes..', 'Yup...', '\\\\Hi', '\\\\I', 'addicted', 'address?', 'adult', 'advice', 'afraid', 'again?', 'age', 'ah...', \"ain't\", 'air', 'airport', 'al', 'also.', 'amount', 'announcement.', 'ans', 'appreciate', 'ar?', \"aren't\", 'arrested', 'askd', 'askin', 'asks', 'assume', 'award!', 'baby!', 'back,', 'barely', 'bath', 'bed,', 'bed.', 'befor', 'bf', 'bin', 'birds', 'birthday.', 'blackberry', 'bold', 'broke', 'cal', 'can...', 'cash-balance', 'cash-in', 'cell', 'center', 'character', 'cheap', 'chennai', 'cine', 'cinema', 'club', 'comin', 'contacted', 'contract', 'correct', \"couldn't\", 'crazy', 'created', 'credits,', 'cuz', 'da:)', 'darling', 'day?', 'days.', 'deep', 'dint', 'disturb', 'due', 'eating', 'ec2a.', 'email.', 'end.', 'ended', 'energy\\\\\"', 'entitled', 'etc', 'everyone.', 'exactly', 'excuse', 'expect', 'experience.', 'eyes', 'fact', 'fast', 'faster', 'father.', 'fill', 'forever', 'free,', 'frnd', 'frnds', 'funny', 'further', 'future', 'games', 'gap', 'gay', 'glad', 'go.', 'great!', 'ha', 'happening', 'happens', 'hate', 'heavy', 'hella', 'her:', 'here?', 'hip', 'holla', 'home...', 'hook', 'horny', 'hurts', 'imagine', 'in,', 'inclusive', 'informed', 'issues', 'it..', 'java', 'joined', 'k.', 'kept', 'kick', 'knows', 'lady', 'laid', 'laptop', 'largest', 'late...', 'laugh', 'leh', \"let's\", 'lets', 'letters', 'lift', 'lik', 'like?', 'link', 'll', 'log', 'login=', 'lol', 'looked', 'lor..', 'loving', 'lunch.', 'malaria.', 'man.', 'mate', 'mates,', 'maximize', 'medical', 'meds', 'meh...', 'member', 'menu', 'messages.', 'months', 'movies', 'much,', 'music,', 'muz', 'name.', 'naughty', 'night,', 'no,', 'nobody', 'noline', 'norm150p/tone', 'not,', 'ntwk', 'number,', 'official', 'only!', 'orange', 'paper', 'personal', 'persons', 'photos', 'pig', 'played', 'players', 'points', 'poly', 'polys', 'present', 'princess?', 'purpose', 'quality', 'questions', 'ran', 'rcvd.', 'reason', 'released', 'remain', 'remove', 'rentl.', 'replied', 'reply.', 'reply...', 'request', 'results', 'return', 'returns', 'review', 'ride', 'rooms', 'rose', 'row', 's,', 'saturday', 'save', 'searching', 'season', 'see.', 'selection', 'self', 'semester', 'semester.', 'she.s', \"shouldn't\", 'shower', 'sir', 'sir.', 'sit', 'slave', 'smile*', 'snow.', 'some1', 'somebody', 'songs', 'sounds', 'stand', 'standard', 'starts', 'station', 'stopped', 'store', 'straight', 'summer', 'sunny', 'surfing', 'tat', 'terms', 'thanx...', 'theatre', 'then.', 'then...', 'there!', 'thinkin', 'tickets', 'time...', 'tkts', 'today!', 'todays', 'tomorrow?', 'tone,', 'too,', 'too...', 'truth', 'turns', 'twice', 'umma', 'understand', 'unredeemed', 'up,', 'upto', 'user', 'usually', 'vary', 'videochat', 'voice.', 'voucher', 'vry', 'waste', 'water', 'wats', 'way,', 'way?', 'wear', 'weather', 'wednesday', 'well.', 'wherever', 'who?', 'willing', 'wishes', 'worse', 'www.ringtones.co.uk,', 'xx', 'yesterday.', 'yoga', \"you'd\", '|', 'Ã¥Â£10', 'Ã¥Â£10,000', 'Ã¥Â£3', '#5000', '&gt;:(', '(18+)', '(std', '***********', '*9', '*kiss*', '*loving', '*pouts*', '*smiles*', '*stomps', '.....', '02/06/03!', '08000938767', '08002986906', '0808', '0845', '08702840625.COMUK.', '08715705022,', '08717898035.', '08718720201', '09063458130', '09066362231', '1)', '1,His', '1/2', '114/14', '11mths', '145', '150p/Msg', '150p/min', '150p/tone.', '16+.', '1956669', '1x150p/wk', '2)', '2,Police', '2005.', '21st', '220-CM2', '250', '25p', '2morrow', '3,Wife:', '4.Cook:', '40GB', '45239', '4742', '4get', '4info', '4mths', '5.Gardener:', '50p', '542', '5min', '5we.', '6,', '6.House-Maid:', '60p/min.', '7.Children:', '7250i.', '8.Neighbour:', '82277.', '86021', '87021.', '87131', '87575.', '9am-11pm', ';_;', '<Forwarded', 'ABOUT', 'ABTA', 'ALRITE', 'ASAP!', 'About', 'Aft', 'AfterNoon.', 'Aftr', 'Aiyo', 'Another', 'Anyways', 'Auction', 'BABY', 'BACK', 'BE', 'BEFORE', 'BIRTHDAY', 'BLOOD.Send', 'BMW', 'Babe,', 'Bad', 'Behind', 'Boy:', 'Break', 'Brilliant.', 'Busy', 'CAMERA', 'CARE', 'COLLECT', 'Callers.', 'Callertune', \"Can't\", 'Case', 'Cash', 'Club', 'Content', 'Cup', 'D', 'DAY', 'DONE!', 'DONÃ¥Ã\\x95T', 'DOWN', 'DRAW', 'Dad', 'Damn', 'Dave', 'END', 'EVE', 'Each', 'Easy', 'England', 'Er', 'FRIEND', 'Feb', 'Finally', 'Free!', 'GIRL', 'GIVE', 'GOD', 'GOD,I', 'GOING', 'Games', 'Gary', 'Gee...', 'Geeee', 'God.', 'Goodmorning,', 'Grahmbell', 'Gravity..', 'HAD', 'HELLO??', 'HG/Suite342/2Lands/Row/W1J6HL', 'HOME', \"Haven't\", 'Heart', 'Hello\\\\\"', 'Here', 'Hey...', 'Hi!', 'Hiya,', 'Homeowners', 'Horrible', 'How?', 'Hurry', 'ID', 'Id', 'Immediately.', 'Including', 'It?', 'Jada', 'KATE', 'KEEP', 'KNOW', 'Kusruthi', 'LAST', 'LDN.', 'LIKE', 'Lacs.there', 'Landline', 'Loan', 'Lol.', 'London', 'Long', 'Looks', 'Lovable', 'Lovely', 'Loves', 'Loving', 'Luck!', 'Luv', 'M26', 'MORE', 'MP3', 'MSG', 'Maintain', 'Mark', 'Meanwhile', 'Missing', 'Mob', 'MobilesDirect', 'Moral:One', 'Murdered', 'Music', 'Must', 'NOT', 'Netcollex', 'Neva', 'News!', 'Next', 'No,', 'Nobody', 'Nope.', 'O2', 'ONE', 'OR', 'Offer!', 'Oh...', 'Ok.ok', 'Ok?', 'Orange.', 'P', 'Pain', 'Person', 'Play', 'Pleasure', 'Points.', 'Police.', 'Price', 'Prize,', 'Ptbo', 'Q!', 'Quiz', 'REAL', 'REALLY', 'RING', 'RINGTONE', 'Ranjith', 'Reading', 'Reason,', 'Row/W1JHL', 'S', 'SAM', 'SERVICES.', 'SHOP', 'SMS.', 'SOMEONE', 'SOON', 'SP', 'SP:Tyrone', 'STOP,', 'STORE', 'STUPID', 'Sat', 'Sent', 'Sept', 'Silent', 'Simple', 'Sir,I', 'Solve', 'Some', 'Somebody', 'Sometimes', 'Sony', 'SonyEricsson', 'Spl', 'Start', 'Storming', 'Stylish', 'Sunshine', 'Sure,', 'T&Cs/stop', 'TAKE', 'TCR/W1', 'TELL', 'TXT', 'Talk', 'Ten', 'Those', \"Today's\", 'Too', 'Transaction', 'True', 'Truth', 'Try', 'TsCs', 'U!', 'U,', 'U..', 'U...', 'UNLIMITED', 'Unsubscribe', 'Use', 'VIP', 'Voda', 'Vodafone', 'Vouchers', 'WAP', 'WC1N3XX', 'WERE', 'WON!', 'Waiting', 'Wake', 'Were', 'Wine', 'Wkly', 'Wn', 'Wot', 'YO', 'YOU,CLEAN', 'Yep,', 'Yun', 'Yup.', '\\\\', '\\\\\"Margaret', '\\\\HELLO\\\\\"', '\\\\HEY', '\\\\Our', 'about?', 'activities', 'ad', 'admirer', 'adore', 'advise', 'again...', 'age16', 'ago', 'ah,', 'ahead', 'aint', 'all.', 'amt.', 'ans.', 'ansr', 'answers', 'anyway.', 'are.', 'argue', 'arng', 'arrange', 'arrive', 'asleep', 'at?', 'ate', 'auction.', 'ave', 'awaiting', 'awesome,', 'baby?', 'back?', 'basic', 'basically', 'bay.', 'bcoz', 'become', 'becoz', 'believe.', 'bell', 'belly', 'bet', 'billed', 'birth', 'birthday...', \"blake's\", 'bloo', 'blood', 'blow', 'body', 'boost', 'bored...', 'boston', 'bother', 'bought', 'box', 'boy?', 'brand', 'bucks', 'bud', 'budget', 'buff', 'bugis', 'buns', 'buy.', 'bx420.', 'cafe', 'callertune', 'calls.', 'calls..messages..missed', 'campus', 'can.', 'cancer.', \"cann't\", 'car.', 'career', 'carefully:', 'celebrate', 'centre', 'certainly', 'changed', 'changes', 'charged', 'charges', 'charity', 'chikku', 'children', 'choice', 'christmas', 'clean', 'cleared', 'closer', 'cn', 'coffee', 'come?', 'comedy', 'content', 'content.', 'convey', 'cooking.', 'cool,', 'cost.', 'country', 'cover', 'cream', 'credit', 'cross', 'cruise', 'cud', 'current', 'cute', 'da,', 'daddy', 'daily.', 'dear..', 'definitely', 'deliver', 'details.', \"did't\", 'dinner.', 'dinner?', 'discuss', 'distance', 'do,', 'docs', 'doctor', 'don', 'done.', 'donÂ\\x89Ã\\x9bÃ·t', 'door', 'downloads', 'dress', 'drinking', 'early...', 'easy.', 'eat.', 'else.', 'ends..', 'escape', 'eve', 'except', 'eye', 'f', 'face.', 'facebook', 'family.', 'fancies', 'fast...', 'fat', 'fb', 'fees', 'feet*', 'fell', 'female', 'fight', 'file', 'files', 'finishes', 'first.', 'first?', 'followed', 'freak', 'free.', 'freezing', 'fren', 'friends..', 'fyi', 'gal', 'gaps', 'ge', 'gentle', 'get.', 'gift.', 'girl..!', 'girl??', 'girlfrnd', 'gona', 'good!', 'google', 'gram', 'grand', 'greet', 'gt', 'gym?', 'hair.', 'handle', 'happend?', 'happiness.', 'happy?', \"he'll\", 'heart.', 'hell', 'hey.', 'ho', 'ho.', 'holding', 'home,', 'hospital', 'hostel.', 'hotel', 'how?', 'hows', 'iPod', 'ice', 'idea', 'il', 'in?', 'inches', 'infernal', 'inside', 'instead', 'interested', 'invited', 'invnted', 'ip4.', 'is?', 'it,pls,pls', 'it..\\\\\"', 'ive', 'iz', 'jazz', 'jiu', 'job!', 'john', 'juicy', 'k...', 'king', 'know,', 'knowing', 'lacs..thats', 'lecture', 'lei.', 'lemme', 'lessons', 'letter', 'liao', 'liao.', 'lick', 'loan', 'login', 'logo', 'lol.', 'lonely', 'lookin', 'loss', 'loves', 'loyalty.', 'm', 'ma', 'mah', 'mail.', 'malaria', 'man,', 'marriage.', 'married', 'matches', 'matured', 'me.i', 'meaning', 'message..no', 'met', 'middle', 'mins?', 'minute.', 'miracle', 'mobiles', 'mode', \"mom's\", 'moms.', 'mon', \"month's\", 'morning?', 'mother', 'move', 'movie.', 'mths', \"mum's\", 'mummy', 'murderer', 'na.', 'names', 'network.', 'ni8', 'ni8\"', 'nice...', 'nigeria', 'noe...', 'norm', 'not?', 'num', 'nxt', 'office..', 'ok..then..whats', 'on!', 'one...', 'or2stoptxt', 'orchard', 'other!', 'out,', 'outta', 'pa', 'pack', 'page', 'paid', 'paper,', 'partner', 'passed', 'password', 'payoh', 'perfect', 'phne,', 'phone!', 'phone?', 'pieces', 'pissed', 'pizza', 'places', 'plane', 'planned', 'play.', 'playing', 'please.', 'plenty', 'po', 'pound', 'ppl', 'pray', 'previous', 'previously', 'private', 'problems', 'promises', 'proof', 'questioned', 'quickly', 'quote', 'quoting', 'random', 'rays', 'reading', 'ready!', 'realy', 'recent', 'refused?', 'regards', 'registered', 'regular', 'relax.', 'reply..', 'responce..what', 'respond', 'result', 'right!', 'road', 'rock', 'roommates', 'rude', 'rush', 'said,', 'sale', 'saturday.', 'saved', 'say,', 'school.', 'score', 'seat', 'sense', 'sentence', 'series', 'seriously', 'settle', 'sex', 'share', \"she'll\", 'shoot', 'shortage', 'sick', 'side.', 'sight,', 'sight..', 'sign', 'simply', 'single', 'singles', 'sir,', 'site', 'situation', 'sleep,', 'sleeping,', 'slept', 'slow', 'slowly.?', 'smart', 'sms.', 'social', 'something?', 'soon,', 'source', 'space', 'speed', 'spell', 'spending', 'spoken', 'sport', 'staying', 'step', 'stomach', 'strong', 'stuck', 'students', 'students.', 'stupid', 'subscribed', 'successful', 'sucks.', 'sum1', 'supply', 'sure,', 'system', 'talk.', 'tape', 'tariffs.', 'technical', 'tells', 'telphone...', 'temp', 'thanks.', 'then!', 'thing.', 'thing...', 'though,', 'though.', 'throat', 'throw', 'tis', \"today's\", 'today...', 'tog', 'together...', 'too!', 'torch', 'track', 'training', 'true...', 'truly', 'tt', 'txtin', 'tyler', 'u!', \"u're\", 'u..', 'unable', 'uncles', 'up?', 'upgrade', 'upload', 'urgent.but', 'urgently..its', 'urself', 'us?', 'usf', 'usual..iam', 'valentine', 'various', 'vegetables.', 'wait?', 'waitin', 'walls', 'warm', 'warm.', 'weak', 'website.', 'wedding', \"week's\", 'week,', 'weird', 'welcome.', 'well!', 'well..:)', 'whether', 'while.', 'wishing', 'work,', 'working.', 'works', 'worried', 'worry.', \"wouldn't\", 'ws', 'wt', 'yan', 'yeah,', 'yes', 'yes,', 'yet...', 'yogasana', 'zed', 'Ã\\x8c_...', 'Ã\\x8cÂ©', 'Ã¥Â£1450', 'Ã¥Â£1500', 'Ã¥Â£400', 'Ã¥Â£75,000.', '!!!!', '$5.00', '%', '%.', '&lt;3', '&lt;TIME&gt;', \"''\", \"'Maangalyam\", \"'SIMPLE'\", \"'hw\", \"'ll\", \"'terrorist'\", \"'til\", '(', '(10p/min)', '(10p/min).', '(25/F)', \"(Alaipayuthe)'\", '(Bank', '(flights', '(nat', '(preferably', ')', '*****UP', \"*I'm\", '*Missing', '*Number', '*Sent:Date', '*Wait,U', '*devouring', '*teasing', '+123', '+447797706009', '+std', '-Message', '....', '.be', '/', '/7', '0', '008704050406', '01223585334', '0207', '021', '07123456789', '07734396839', '07742676969', '07786200117', '07xxxxxxxxx', '08000407165', '08006344447', '08081560665', '0825', '08452810073', \"08452810075over18's\", '08700621170150p', '08701417012', '08708034412', '08709222922.', '08712101358', '08712402050', '08712405022,', '08718727868.', '08718730666', '08718738001', '08719180248', '08719181513.', '09050002311', '09050003091', '09058091854', '09058099801', '09061209465', '09061221061', '09061221066', '09061743806', '09061790121', '09064011000.', '09064012160.', '09064019014', '09066358152', '09066364589', '09066382422', \"1's\", '1)Unbreakable,', '1,2', '1-u', '1.50', '1.5p/min', '1000', \"1000's\", '1030', '10K,', '10am-7pm', '10am-9pm', '10p/min', '10ppm.', '121', '150', '150p.', '150p/MTmsg', '150p/Msg.', '150p/day,', '150p/msg', '150pm', '150pm.', '150ppermessSubscription', '150ppm.', '153', '169', '18+6*Ã¥Â£1.50(moreFrmMob.', '18+only.', '18p/txt', '1Winaweek,', '1x150p/wk.', '2)Untamed,', '2-u', '20,000', '200', '2000', '2007', '21', '26th', '28', '28days.', '2C', '2End', '2MOROW', '2MRW', '2NITE', '2day', '2gthr', '2nite?', '2optout', '2p', '2yr', '3)', '3)Unkempt.', '3-u', '300%', '300603', '3100', '31p.msg@150p', '326', '3510i', '3650', '3AJ', '3SS.', '3UZ', '3d', '3g', '3lp', '3rd', '4-some1', '4403LDNW1A7RW18', '4882', '4T&Ctxt', '4a', '4fil', '5+-', '5..', '5.30', '50', '5K,', '5th', '6.30', '6031', '630', '69696', '69698', '6WU', '6days,', '6months', '6th', '7.8p/min', '7876150ppm', '7th', '80082', '80086', '80182', '80608.', '80878.', '81010', '81151', '81303', '82277.unsub', '83049.', '83222.', '83355!', '83600', '84199', '8552', '8552.', '88222', '88600', '89070', '8th', '9?', '9pm.', ':)voice', ';)', '?1,000', '?2,000', 'A,', 'ACTION', 'ADAM', 'AG', 'ALWAYS', 'AM', 'AN', 'ASAP', 'AVE', 'AWAITING', 'Accept', 'Aco&Entry41', 'Admirer', 'Aeronautics', 'Again', 'Ah,', 'Aiya', 'Aiyah', 'Aiyo...', 'Al', 'Already', 'Amazing', 'American', 'An', 'Anyway,', 'Apply', 'Arcade', 'Arcade.', 'Argh', 'Argument', 'Atlanta.', 'Available', 'Ave', 'B4', 'BABE!', 'BAHAMAS!', 'BAK', 'BCM4284', 'BED', 'BIT', 'BONUS', 'BOX385', 'BOX97N7QP,', 'BT', 'BUS', 'Bahamas', 'Bcoz,', 'Becomes', 'Best', 'Bit', 'Blind', 'Bloomberg', 'Blu', 'Bored', 'Both', 'Box177.', 'Box326', 'Box39822', 'Boy', 'British', 'Btw', 'Burger', 'But,', 'Buy', 'Buzz', \"C's\", 'C52.', 'CARD', 'CASH!', 'CASH,', 'CDGT', 'CHARITY', 'CLAIM', 'CLAIRE', 'CNN', 'COMIN', 'CR01327BT', 'CSH11', 'CUP', 'CallFREEFONE', 'Camcorder?', 'Camera', 'Careful!', 'Cha', 'Chance!', 'Cheers', 'Children', 'Chinese', 'Christmas', 'City', 'Close', 'Co', 'Co.', 'Colleagues', 'Colleagues.', 'Collect', 'Confidence:', 'Convey', 'Cool.', 'Cornwall', 'Crack', 'Crazy', 'DATE', 'DATEBox1282EssexCM61XN', 'DAY\\\\\"', 'DID', 'DIS', 'DO', 'DONE', 'DONT', 'DOUBLE', 'Da', 'Daddy', 'Dai', 'Damn,', 'Dat', 'Dear...........', 'Deeraj', 'Delhi', 'Dey', 'Disconnect', 'Dnt', 'Doing', 'Done', 'Draw', 'Drop,', 'Duchess', 'Dunno,', 'ENG', 'ENGLAND!', 'EURO', 'EURO2004', 'EVER', 'EXPLOSIVE', 'Eat', 'Enjoy!', 'Especially', 'Euro2004', 'EuroDisinc', 'Ever', 'Everything', 'Evr\"', 'F', 'FANTASTIC', 'FEEL', 'FINAL', 'FIND', 'FLAG', 'FONE', 'FRAN', 'FREEFONE', 'FRNDS\\\\\"', 'FUCKING', 'Feel', 'Fighting', 'Fine', 'Fingers', 'Finish', 'Foley', 'Forgot', 'Friends..!!', 'Friendship', 'Friendship\\\\\"...', 'Frnd', 'Fuck,', 'Future', 'Fyi', 'GENDER', 'GENT!', 'GIV', 'GM+GN+GE+GN:)', 'GOIN', 'GOODMORNING\"', 'GUARANTEED', 'Gay', 'Ge:-)..', 'Germany', 'Glad', 'Goodmorning', 'Goodo!', 'Got\\\\\"', 'Granite', 'HER', 'HIYA', 'HORO', 'Ha', 'Ha...', 'Haf', 'Hahaha..use', 'Hai', 'Hallaq', 'Halloween', 'Havnt', 'Hear', 'Help?', 'Helpline', 'Hey.', 'High', 'His', 'Hmm.', 'Hmmm', 'Holder,', 'Honeybee', 'Hopefully', 'Hot', 'House-Maid', 'Hugs', 'Hurt', 'Hurts', 'IAS', 'IBH', 'IBHltd', 'IBN.', 'IKEA', 'IL', 'ILL', 'IMPORTANT', 'INDIA', 'INR', 'IQ', 'IQ.', 'Ibiza', 'Idk.', 'Imagine', 'Incredible', 'India', 'India.', 'Indian', 'Indians', 'Italian', 'Itz', 'Izzit', 'IÂ\\x89Ã\\x9bÃ·ll', 'JESS', 'JUS', 'Jackpot!', 'January..', 'Jay', 'Jokes!', 'June', 'K...k:)why', 'K52.', 'KAVALAN', 'KR', 'KeralaCircle', 'Kids', 'Kidz,', 'King', 'Knock', 'LCCLTD', 'LIFE', 'LOOK', 'LOTR', 'LOVE..!', 'LOVEME', 'LS1', 'LS15HB', 'LUV', 'Landline.', 'Laughed', 'Laughing', 'Ldn', 'LdnW15H', 'Leave', \"Let's\", 'Lions', 'Live', 'Liverpool', 'Living', 'Lmao', 'Lots', 'Lover', 'Ltd.', 'Lucky', 'M221BP.', 'M263UZ.', 'M6', 'MAN', 'MANEESHA', 'MATE', 'MEET', 'MEMBERS', 'MESSAGE', 'MINE', 'MINUTES', 'MOBNO', 'MORAL:', 'MOST', 'Male', 'Mandan', 'Matrix3,', 'Means', 'Meet+Greet', 'Meeting', 'Men', 'Merry', 'Message:some', 'Met', 'Midnight', 'Mind', 'Missed', 'Missing*', 'Mmmm', 'Mmmmm', 'Mnths?', 'Moby', 'Moji', 'Money', \"Moon's\", 'Moral', 'Most', 'Mr', 'Mr.', 'Msg', 'Msg*', 'Much', 'Mum', 'Mum,', 'Mumtaz', \"Mumtaz's\", 'Mystery', 'NAKED...!', 'NAME1', 'NAME2', 'NEVA', 'NEVER', 'NIGHT', 'NO-440', 'NOK', 'NOKIA6600', 'NOTHING!', 'Nah,', 'Nan', 'Nasdaq', 'Natalja', 'Nature', 'Network', 'Networking', 'Nice', 'Nice.nice.how', 'Nigeria.', 'Nimya..pls', 'Nite...', 'No:81151', 'Nokia6650', 'Nope...', 'Nothing,', 'Now!4T&', 'Nt', 'Nvm', 'O2FWD', 'O:-)', 'OH', 'OK', 'OUR', 'OVER', 'Off', 'Offer:', 'Offer:The', 'Ok..', 'Okay...', 'Okey', 'Old', 'Other', 'PARIS', 'PC', 'PERSON.', 'PICK', 'PIX', 'PLAY', 'PLEASE', 'POBOX84,', 'POD', 'POLYPHONIC', 'PREMIER.', 'PS', 'PUB', 'Parents', 'Parents,', 'People', 'Personality', 'Phone', 'Phone,', 'Pick', 'Pls.', 'Poly', 'Pound', 'Prepare', 'Princess,', 'Pub', 'Purity', 'Ques-', 'Quite', 'Quiz.Win', 'RECEIVE', 'REVEAL', 'RSTM,', 'Rain', 'Red', 'Remember', 'Reverse', 'Right', 'Ringtone', 'Roger', 'Rs', 'S.I.M.', 'SAME', 'SEE', 'SEX', 'SHIT.', 'SITUATION,', 'SIX', 'SLAP', 'SN', 'SPECIAL', 'SPK', 'SPOOK', 'START', 'SUBPOLY', 'SW7', 'SW73SS', 'SWEET', 'Sad', 'Sale!', 'Saturday.', 'Save', 'Scotsman', 'Secret', 'Sender:Name', 'Sexy', 'Sh!jas', 'Shijas', 'Shit', 'Shop', 'ShrAcomOrSglSuplt)10,', 'Shuhui', 'Sir', 'SkilGme.', 'SkillGame,', 'Sky', 'Sleeping', 'Smiling!!', 'Something', 'Spanish', 'Spoke', 'St', 'StarWars3,', 'Street', 'Strong-Buy)', 'Stupid', 'Stupid.its', 'Summer', 'Super', 'Suprman', 'Sweet', 'Sweetest', 'Symbol', 'T&C:', \"T's\", 'T-Mobile', 'T.', 'TCs', 'TCs,', 'THERE', 'TIME.', 'TITLE', 'TODAY..', 'TONES2U', 'TOWN', 'TRY', 'TXTAUCTION!', 'TXTAUCTION!Txt', 'Tease', 'Tee', 'Tel', 'Tension', 'Terms', 'Tessy..pls', 'Thanx.', 'Theory:', 'These', 'Thgt', 'Thy', 'Tick,', 'Tickets', 'Time', 'Tis', 'Titles:', 'Tmr', 'Toll', 'Tomorrow', 'Top', 'Trav,', 'Travel', 'Trust', 'TsandCs', 'Tuesday', 'Two', 'Txt:', 'TxtNO', 'Txts!', \"U've\", 'U4', 'UK.', 'UNI', 'URE', 'URGENT!!', 'URSELF', 'U\\\\\"', 'Ugh.', 'Ummmmmaah', 'Under', 'Unsub', 'Up', 'Usually', 'V,', 'V.', 'VE', 'Valid12hrs', 'Village', 'W111WX', 'WALES', 'WANNA', 'WAY', 'WEEK', 'WENT', 'WHEN', 'WIFE', 'WIN:', 'WK.', 'WORLD', 'Wah...', 'Wan', 'Wan2', \"Wat's\", 'Wating', 'Wats', \"We'd\", 'Weekly', 'Went', 'Westlife', 'WeÂ\\x89Ã\\x9bÃ·re', 'Whatsup', \"When's\", 'Wife', 'Wife.how', 'Winning', 'World', 'World*', 'World:-)..', 'XMAS', 'XX', 'XXX.\\\\\"\"', 'YA', 'YEAH', 'YEAR', 'YES!', 'YES-440', 'YES.', 'YESTERDAY', 'YOR', 'YOU,', 'Yahoo!', 'Year.', 'Years', 'Yep', 'Yes!', 'Yes:)here', \"You'd\", 'Yours', 'Yourself', 'ZOE', '\\\\\"VALUED', '\\\\\"our', '\\\\A', '\\\\Because', '\\\\Boost', '\\\\CHEERS', '\\\\Hey', '\\\\Im', '\\\\Oh', '\\\\Ur', '\\\\Wen', '\\\\What', '\\\\X\\\\\"', '____', 'aathi..where', 'abi.', 'about.', 'ac', 'acc', 'accidentally', 'accordingly.', 'actual', 'address.', 'ads', 'advance..\"', 'aeroplane.', 'affair?', 'affairs', 'affection,', 'afternoon.', 'again,', 'age16.', 'ah?sen', 'aha.', 'aight', 'alert.', 'alex', 'allow', 'allowed', 'alone?', 'alright.', 'am,', 'am.', 'amazing', 'among', 'amused?', 'announcement', 'anot...', 'answer.', 'answering', 'anthony.', 'anti', 'anybody', 'anymore.', 'app', 'applebees', 'application', 'appreciate.', 'apps', 'aproach', 'armand', 'arms', 'ate?', 'atm,', 'attend', 'audition', 'aunts', 'auto', 'avatar', 'avent', 'avoid', 'avoiding', 'away,', \"b'day.\", 'b4190604,', 'b4280703.', 'ba', 'babes', 'back!', 'bad.', 'bag..i', 'bags,', 'bak', 'banks', 'bathing', 'bcums', 'be?', 'bed!', 'bed?', 'bedroom', 'been?', 'before.', 'behind', 'bein', 'belive', 'beloved', 'beneath', 'better.', 'beyond', 'biggest', 'billion', 'bills', 'birla', 'bishan', 'blah', 'blame', 'bleh.', 'blood,blood', 'bloody', 'bloomberg.com', 'boat', 'bonus', 'booty', 'bored.', 'borin', 'boring', 'bottle', 'bottom', 'bowl', 'boys', 'boys.', 'boytoy!', 'boytoy.', 'brain', 'breathe', 'bringing', 'broad', 'bros', 'bucks.', 'build', 'building', 'bulbs', 'bus.', 'business', 'buzy', 'buzz', 'bx420-ip4-5we.', 'bye', 'calicut', 'call,coz', 'callback,', 'calld', 'caller', 'callin', 'calling.', 'cam', 'campus.', 'can?', 'canal.', 'cares', 'cash.', 'cashto', 'cat', 'cbe', 'celebration', 'chain', 'chances', 'chat,', 'cheaper', 'cheaper,', 'cheating.', 'chechi.', 'chest', 'chicken', 'chikku,', 'childish', 'chill', 'china', 'chip', 'chocolate', 'christmas.', 'citizen', 'claim,', 'claim.', 'claims', 'cld', 'clear', 'clever', 'click', 'clock.', 'close.', 'closed,including', 'coat', 'cochin', 'cock', 'coin', 'coins', 'cold', 'college', 'college.', 'color', 'combine', 'come.', 'come...', 'coming.', 'coming?', 'company.', 'complete', 'completed', 'concentrate', 'conducts', 'confirmd', 'confuses', 'connect', 'considering', 'constantly', 'contacts', 'control', 'cool!', 'coping', 'correct.!', 'costing', 'count', 'country.', 'crash', 'credit.', 'credits', 'cry', 'cry...', 'cuddle', 'cum.', 'customer.', 'cutting', 'da..', 'da:)whats', 'dance', 'dare', 'dates', 'day!', 'day.!', 'day..', 'dear\"', 'dearer', 'deciding', 'decimal', 'decision,', 'decisions', 'deepak', 'delay.', 'delete', 'deleted', 'delivered', 'delivery.', 'dem!!!', 'demand', 'denis', 'depends', 'derek', 'desparate', 'deus', 'develop', 'dey', 'di', \"did'nt\", 'did.', 'died', 'died,', 'diet.', 'diff', 'dificult', 'dignity', 'dime', 'dislikes', 'display', 'disturbing', 'do?', 'doctor.', 'dogging', 'doggy', 'doing?how', 'dollars', \"don\\\\'t\", 'done,', 'done?', 'donÃ¥Ã\\x95t', 'door,', 'dough', 'down.', 'down...', 'down?', 'drinks', 'drivin...', 'dropped', 'drpd', 'drug', 'dry', 'dt', 'dubsack', 'e.', 'early..', 'earth', 'easier', 'easily', 'eat?', 'eaten', 'ebay', 'educational', 'eerie', 'eh', 'either.', 'elaine,', 'else?', 'enough.', 'enough?', 'envelope,', 'envelope.', 'epsilon', 'essential', 'etc.', 'eve?', 'everybody', \"everybody's\", 'everything.', 'evn', 'evng', 'evrydy', 'exact', 'exhausted', 'expecting', 'expensive', 'explain', 'faggy', 'failed', 'falling', 'falls', 'fan...', 'fantastic', 'far...', \"fast?'\", 'fathima', 'fault,', 'fave', 'favor.', 'favorite', 'favourite', 'feb', 'february', 'feeling.', 'fever', 'fifteen', 'fightng', 'filled', 'fills', 'fine..absolutly', 'fingers', 'fingers..?', 'finishing', 'five', 'fixed', 'fixedline', 'flag', 'flaked', 'flaky', 'flame.', 'flights', 'flip', 'flirt', 'flirt,', 'flirting', 'floor,', 'fo', 'food.', 'food?', 'foot', 'footprints', 'for.', 'for?', 'force', 'foreign', 'forgot.', 'forgotten', 'forum', 'forwarded', 'free?', 'freedom', 'frens...', 'fri?', 'friday.', 'friends,', 'frnds..', 'frndship', 'fromm', 'ful', 'funk', 'future.', 'g.', 'gals', 'game.', 'games!', 'garage', 'garden', 'gastroenteritis.', 'generally', 'gentle.', 'gentleman', 'genuine', 'getstop', 'girl,d', 'girls.', 'gives', 'go...', 'go2', 'go?', \"god's\", 'gone.', 'good..', 'good?', 'goodnite', 'gotten', 'govt.instituitions', 'grace', 'grave', 'greetings', 'ground.', 'guess.', 'guide', 'guys.', 'gv', 'haha', 'hai', 'handed', 'hanging', 'happen.', 'happily', 'have.', 'havenÃ¥Ã\\x95t', 'havin', 'heading', 'heads', 'hear.', 'heart,heart', 'heart..', 'hello', 'hence', 'her.I', 'her.love', 'her?', 'here..\\\\\"\"', 'hes', 'high', 'hill.', 'him?', 'hint', 'home!', 'honey', 'horrible', 'hospital.', 'hot,', 'hotels', 'hours.', 'hr', 'hrs', 'http://careers.', 'hug', 'huh...', 'hungry.', 'hungry...', 'hurried', 'hurry', 'husband', 'iPod!', 'id.', 'idea,', 'idiot', 'illness', 'impatient', 'impossible', 'improve', 'in2', 'inc', 'inc)', 'include:', 'inconsiderate', 'info:www.100percent-real.com', 'information', 'infront', 'instantly', 'instructions', 'insurance', 'insurance.', 'interested.', 'internet', 'interview', 'into:', 'intro', 'invite', 'iouri', 'ipod.', 'ish?', 'island', 'issue', 'it....', 'italian', 'items', 'itself', 'itself.', 'itself..', 'iÃ¥Ã\\x95m', 'jan', \"jay's\", 'jealous', 'jo', 'job.', 'job:)', 'jobs', 'joining', 'joking', 'joking!', 'joy', 'jst', 'just..', 'kadeem', 'kallis', 'kegger)', 'kettoda', 'key', 'kg', 'kickoff!', 'kids', 'killed', 'know?', 'la', 'la...', 'lab', 'ladies', 'laptop?', 'later,', 'later..', 'later?\\\\\"\"', 'law', 'law;', 'lays', 'lead:)', 'leaving?', 'lect...', 'left,', 'legs', 'leh?', 'leona', 'liao,', 'licks', 'lie', 'life...!!', 'like.', 'limiting', 'linerental', 'lines', 'lionm', 'lionp', 'list', 'listen.', 'live.', 'lived', 'lives.', 'living', 'lo', 'local', 'location', 'lol!', 'long,', 'long.', 'looks', 'lose.', 'loses', 'losing', 'lot...', 'lounge', 'lousy', 'lov', 'lovable', 'love!', 'love..', 'love...', 'lover', 'lower', 'lttrs,', 'luck!', 'luv!', 'luv!..', 'luvs', 'lv', 'm8?', 'm8s.', 'mag', 'magical', 'mah.', 'mah...', 'main', 'makin', 'manage', 'management', 'manda...', 'march.', 'mas', 'massive', 'mate.', 'mates.', 'math.', 'mathematics.', 'matter', 'matter?', 'me....', 'meal', 'measure', 'medicine.', 'meetin', 'meets', 'melt', 'membership', 'menu.', 'mess', 'message,', 'message..Its', 'midnight,', 'min:)', 'mind,', 'mini', 'minutes.', 'misbehaved', 'miss.', 'missing*', 'mite', 'mo', 'moan', 'mob.', 'mobile?', 'model', 'moments', 'mon.', 'monday', 'monday!', 'monkeys', 'mono', 'monthly', 'moon', 'morn', 'motorola', 'move...', 'moved', 'mp3', 'msg..', 'msging...', 'msgs,', 'msgs:D;):', 'mths?', 'mu,', 'mu?', 'much?', 'mum', 'murdered', 'murderer,', 'music', 'na', 'na-tuition..', 'nag', 'nahi', 'naked', 'named', 'nap', 'nasty', 'nd', 'ne', 'nearly', 'necessary', 'necklace', 'ned', 'nite.', 'nitros.', 'normally', 'northampton', 'not!', 'not...', 'note', 'note:', 'notxt.co.uk', 'now.i', 'number?', 'nuther', 'nw', 'nw,', 'nyt', 'nyt..', 'o', 'obviously', 'of?', 'off!', 'off.', 'offer,', 'often', 'ofÃ¥Â£2000', 'ok!', 'okie...', 'omw', 'on,', 'on.', 'on?', 'one,', 'online,', 'onto', 'onwards', 'opportunity', 'ordered', 'oredi', 'os', 'oso,', 'oso...', 'otherwise', 'otside', 'out?', 'over!', 'over,', 'ovulation', 'own.', 'owns', 'p', 'pages', 'paid.', 'pain.', 'pale', 'pap', 'paper.', 'papers', 'parco', 'parents', \"parents'\", 'park.', 'parked', 'parking', 'pc', 'peak!', 'pence', 'per..', 'period', 'person.', 'phoned', 'pics.', 'picture', 'pissed.', 'place,', 'place..', 'place?', 'placement', 'plane..', 'plans.', 'plaza', 'plm', 'politicians.', 'poly.', 'polypH', 'pongal?do', 'pool', 'popped', 'postcode', 'potential', 'pours', 'pple', 'praying', 'prefer', 'preferably', 'prepaid', 'press', 'prey', 'princess', 'princess.', 'printed', 'prizes', 'prob...', 'problem..', 'professors', 'profit', 'project.', 'promise.', 'prompts.', 'property', 'propose', 'propsd', 'prospects', 'public', 'pull', 'purchase', 'purse', 'pussy', 'pussy...', 'putting', 'pÃ¥Â£3.99', 'qatar', 'question(std', 'question.', 'questions.', 'quit.', 'rain', 'raise', \"rate)T&C's\", 'rd', 're-schedule.', 'reading.', 'ready.', 'ready...', 'realize', 'realized', 'reasonable', 'reasons', 'rec', 'receipt', 'received', 'recession', 'recognise', 'records', 'red,red', 'reduce.', 'reference', 'refilled', 'reg', 'regarding', 'relation!', 'relax,', 'rem', 'remains', 'remember.', 'remembered', 'remind', 'removal', 'replace', 'replying', 'report', 'report?', 'research', 'respect.', 'response', 'responsibility.', 'reward.', 'rich', 'rights', 'road.', 'rock,', 'rock.', 'role', 'ron', 'roommate', \"roommate's\", 'royal', 'rs', 'ru', 'rub', 'ruin', 'ruining', 'runs', 'said:\\\\if', 'sale.', 'same.', 'sat.', 'satisfied', 'sch...', 'scream', 'screaming', 'screaming..', 'se', 'sea,', 'sec', 'seconds', 'secretly', 'see!', 'seeds', 'seem', 'send,', 'sent.', 'seriously..', 'service.', 'settings.', 'seven.', 'shagged', 'shame', 'sheets', 'shining', 'ship', 'shirts', 'shld', 'shocking', 'shoppin', 'shopping.', 'short', 'shorter', 'shot', 'shouted', 'shower,', 'shu', 'shuhui', 'shut', 'silent', 'simple', 'simpler,', 'sing', 'singing', 'sister.', 'six', 'size', 'skip', 'skype', 'sleep!', 'sleeping..and', 'slightly', 'slippers', 'slowly', 'smashed', 'smeone', 'smile.', 'smiling.', 'smoking', 'smth..', 'snowman', 'so,', 'sofa..', 'soft', 'software', 'somethin', 'something,', 'something.', 'sometime', 'sometimes', 'soon...', 'soon?', 'sooner', 'sooooo', 'sorry!', 'sorry,', 'sorry.', 'sorting', 'sound?', 'special.', 'special?', 'speeding', 'spile', 'spoiled?', 'spoke', 'sports', 'stamps', 'staring', 'stayed', 'stays', 'std', 'sticky', 'story:-', 'studying', 'subs', 'subscription', 'successfully', 'sucks', 'suggest', 'suits', 'sun.', 'sunlight.', 'sup', 'superior', 'supervisor', 'surely', 'surprised', 'sweet!', 'sweet,', 'sweets', 'swiss', 'table', 'tacos', 'tahan', 'takin', 'tap', 'tb', 'tea', 'teach', 'teaches', 'tear', 'teasing', 'tech', 'telephone', 'tell.', 'term', 'terrible', 'test?', 'tests.', 'text?', 'thanksgiving', 'thanx', 'theatre.', 'there...', 'theres', 'thing!', 'thing?', 'things,', 'things?', 'think.', 'thm.', 'tho!', 'thousands', 'thread', 'threw', 'ths', 'thurs', 'thursday', 'tick', 'tick,', 'tihs', 'time,', 'timing.', 'tirupur.', 'tlk', 'tmr...', 'to?', 'toa', 'today,', 'today..', 'tom', 'tomo,', 'tomo.', 'tomo?', 'tonite', 'tons', 'tooo', 'tortilla', 'tough', 'tour?', 'town?', 'tree', 'trip.', 'trips?', 'truck', 'true.', 'try.', 'tuesday.', 'turning', 'two?', 'txt>', 'txts.', 'u.:-)', 'u:', 'uncle.', 'understood', 'university', 'unknown', 'unlimited', 'unnecessarily', 'unsold.', 'up...', 'urgnt,', 'urgnt.', 'used.', 'usual', 'valid', 'vava', 'verified', 'vikky', 'village', 'visionsms.com', 'vl', 'voicemail.', 'vomit.', 'vote', 'voucher,', 'vouchers!', 'vth', 'waheed', 'waited', 'walked', 'wallpaper', 'wan...', 'wanting', 'warranty.', \"wat's\", 'water,', 'water.', 'way!', 'wearing', \"weekend's\", 'weekly!', 'weigh', 'weight.', 'welcome', 'west', 'wet', 'what!', 'whatever,', 'whatever.', \"where's\", 'white', 'whn', \"who's\", 'whos', 'widelive.com/index.', 'wifi', 'winner!', 'wins', 'wise', 'wk.', 'wo', 'woken', 'woman', 'won.', 'wonders', 'word.', 'word:START', 'words...', 'work?', 'working?', 'worst', 'woulda', 'wow', 'wrong,', 'wtf', 'wun', 'www.Idew.com', 'www.Ldew.com.subs16+1win150ppmx3', 'www.SMS.ac/u/nat27081980', 'www.dbuk.net', 'www.movietrivia.tv', 'www.smsco.net', 'www.txt-2-shop.com', 'www.txttowin.co.uk', 'www.win-82050.co.uk', 'wylie,', 'xavier', 'xxx\\\\\"\"', 'xy', 'yay!', 'yeah!', 'year,', 'yep', 'yer', 'yet?', 'yijue', 'yo.', 'you:-.', 'youre', 'yourself,', 'yrs', 'yrs.', 'yun', 'yuo', 'Ã\\x8c_?', 'Ã¥Â£100,000', 'Ã¥Â£1000.', 'Ã¥Â£2.50', 'Ã¥Â£3/wk', 'Ã¥Â£33:50', 'Ã¥Â£350!', 'Ã¥Â£4.50.', 'Ã¥Â£6', 'Ã¥Ã\\x90', \"!!''.\", '!:-)', '!This', '$1', '$140', '$180', '$2', '$50', '$700', '$900', '$95/pax,', '%of', '&Cs', '&SAM', '&XXX', '&lt;EMAIL&gt;', '&lt;URL&gt;', '&othrs', \"''OK'',\", \"'An\", \"'HEART'...\", \"'MARRIED'\", \"'Melle\", \"'Uptown\", \"'Wnevr\", \"'anything'\", \"'hex'\", \"'its\", \"'rencontre'\", \"'taxless'\", \"'xam...\", '($900)', '(100p/SMS)', '(18', '(18+).', '(20/F)', '(25p),', '(29/M)', '(And', '(Book', '(Career', '(Get', '(I', '(More', '(No', '(Oru', '(Send', '(That', '(Txt', '(You', '(again),', '(but', '(come', '(long', '(mob', '(not', '(or', '(quizclub', '(to', '(Â\\x89Ã\\x9b_)', '(Ã¥Â£4.50)', '*****', '**FREE', '*BILLING', '*HAVE', '*a', '*childish', '*covers', '*deep', \"*didn't*\", '*exposes', '*kisses*', '*laughs*\"', '*passionate', '*phews*', '*possessive', '*pushes', '*smacks', '*turn*', '*wicked', '+CHEER', '+GET', '+Ã¥Â£400', ',kerala', '-)', '-NO', '-Shakespeare-', '-The', '-call', '-msg', '-sub', '-tho', '-via', '..\"', '...*kiss*', '.........', '....My', '....photoshop', '..i', '..it', '..water.?', '..will', '.Call', '.Please', '.Terry\\\\\"\"', '.dont', '.irritating', '.joker', '.lovable.', '.nt', '.so', '/-', '0121', '0125698789', '02/09/03!', '0207-083-6089', '02072069400.', '02073162414', '0578', '06.', '06.05.05', '06/11/04', '07/11/04', '07008009200', '07046744435', '07090201529', '07090298926', '07099833605', '07732584351', '07753741225', '0776xxxxxxx', '078', '07808247860', '07815296484', '07821230901', '078498****7', '0789xxxxxxx.', '07946746291/07880867867', '07XXXXXXXXX', '08000930705.', '08002888812', '08002988890', '08081263000', '0844', '08448350055', '08450542832', '08452810071', '0870..k', '08701213186.', '08701237397', '08701417012150p', '0870141701216+', '08701752560.', '087018728737,', '0870241182716', '08702490080', '08702840625', '08704439680.', '08704439680Ts&Cs', '08706091795', '08706091795.', '0870737910216yrs', '08707500020', '08707808226.', '08708800282', '08709501522', '0871-872-9755', '087104711148', '08712103738', '0871212025016', '087123002209am-7pm.', '08712317606', '08712400603', '08712402578', '08712402779', '08712402972', '08712404000', '08712405020', '08712405020.', '08712460324(nat', '08712466669', '0871277810810', '0871277810910p/min', '08714342399.2stop', '087147123779am-7pm.', '08714712379', '08714712388', '08714714011', '08715203652', '08715203677', '08715203694', '08715500022', '08715705022', '08717111821', '08717168528', '08717205546', '0871750.77.11!', '08717507382', '08717509990', '08717890890Ã¥Â£1.50', '08717895698', '08718711108', '08718723815.', '08718725756.', '08718726270', '087187262701.50gbp/mtmsg18', '08718726978', '08718727870.', '08718738034.', '08719180219', '08719181259', '08719839835.', '08719899229', '08719899230', '09041940223', '09050000332', '09050000460', '09050000555.', '09050000878.', '09050001295', '09050001808', '09050005321.', '09050280520,', '09053750005', '09056242159', '09058091870', '09058094454', '09058094583', '09058094594', '09058094597', '09058094599', '09058095107', '09058095201', '09058097189', '09058097218', '09058098002.', '09061104276', '09061104283', '09061213237', '09061701461.', '09061701851.', '09061701939.', '09061702893', '09061702893.', '09061743386', '09061743810', '09061743811', '09061744553', '09061749602', '09061790126', '0906346330.', '09064012103', '09064015307', '09064017295', '09064017305', '09065069120', '09065171142-stopsms-08', '09065171142-stopsms-08718727870150ppm', '09065174042.', '09065394514', '09065394973', '09066358361', '09066361921', '09066362220', '09066364311', '09066364349', '09066368327', '09066368470', '09066380611', '09066649731from', '09066660100', '09071512432', '09077818151', '09090204448', '09094100151', '09094646631', '09094646899', '09095350301', '09099725823', '09099726481', '09111030116.', '09111032124', '0A$NETWORKS', '1)McFly-All', '1-Hanuman', '1.20', '1.50p', '1.childish', '1/2price', '1/3.', '10..', \"100's\", '1013', '10:10', '10:30', '10p.', '10p/min.', '10th', '1172.', '11?', '12,000pes,', '1225', '123', '125gift', '128', '12:30', '12hours', '12mths', '13/4/04.', '130.', '139,', '1405,', '140ppm', '146tf150p', '14thMarch.', '150P', '150PPM', '150p/MSGRCVD', '150p/MsgrcvdHG/Suite342/2Lands/Row/W1J6HL', '150p/Mtmsgrcvd18', '150p/Mtmsgrcvd18+', '150p/msg,', '150p/rcvd', '150p/text', '150p/tone', '150ppmsg', '15541', '15:26,', '16+only!', '1680,', '177', '18+only', '18/11/04', '1843.', '18yrs', '195', '1DA', '1ER', '1Winawk!', '1YF', '1hr', '1hr.', '1st...\"', '1st4Terms', '1stchoice.co.uk', '1stone,', '2!', '2%', '2,', '2-Bajarangabali', '2.30ish', '2.50', '2.IM', '2.U', '2.naughty', '2/2', '2004,', '2006', '2025050', '20p/min', '21/m', '21870000>Hi', '2309.', '24/10/04', '24Hrs', '24M', '24th', '25', '25.', '255.', '26.03.05', '26/11/04', '27/03', '27/6/03.', '28/5', '2814032', '28th', \"28thFeb.T&C's\", '29/03/05', '29/10/0', '2?', '2B', '2EZ', '2GETHA!', '2GEVA', '2KBSubject:', '2MORO', '2MORO!', '2MORRO', '2NITE-TELL', '2NITE?', '2StopTx', '2U', '2WU.', '2day,', '2geva,', '2go', '2go,', '2morow.', '2morro', '2morrowxxxx', '2mrw', '2nhite', '2nite', '2optout/D3WV', '2rcv', '2stop', '2stoptxt', '2u', '2u2.', '2waxsto', '2wks', '2wks.', '2years', '2yrs.', '3)Cover', '3,', '3-Maruti', '3.Sentiment', '3.U', '30', '300', '300603t&csBCM4235WC1N3XX.callcost150ppmmobilesvary.', '300p', '300p.', '30Apr', '30s', '31', '31/10/04', '310303.', '32000', '3680', '3680.Offer', '373', '3750', '3MOBILE', '3UZ.', '3days', '3hrs', '3rd?', '3xÃ¥Â£150pw', \"4'o\", '4)Press', '4-6...', '4-7/12.', '4-Pavanaputra', '4...', '4.15', '4.30', '4.49/month', '4.rowdy', '40', '400', '402.', '40411', '40533', '40mph.', '41685', '41782', '420', '42478', '42810', '430', '434', '44', '447801259231', '448712404000>Please', '45', '450p', '450pw', '47', '49557', '4?', '4EVA', '4GET', '4JX', '4U', '4U!:', '4d', '4eva', '4few', '4got,', '4goten', '4thNOV.BEHIND', '4the', '4txt/120p', '4txt/Ã\\x8cÂ¼1.20', '4u,', '4u.i', '4u:', '4uTxt', '4w', '5)', '5)Gently', '5+3+2=', '5-Sankatmochan', '5.IÃ¥Ã\\x95m', '5.Terror', '5.ful', '50%', '505060', '50\\\\\"\"', '50s?', '526,', '528', '545', '5WE', '5WQ', '5mls', '5p', '5pm', '5pm.', '5wkg', '5years', '6-Ramaduth', '6.45pm.', '6.Cruel', '6.romantic', '60,400thousad.i', '600', '61200', '61610', '62220Cncl', '62735=Ã¥Â£450', '63miles.', '645', '650.', '6669', '67441233', '69101.', '69669.', '69855,', '69876.', '69888!', '69888Nyt.', '69911(Ã¥Â£1.50p.', '6HL', '6hrs', '6hrs.', '6ish.', '6missed', '6pm', '6pm.', '6pm..:-)', '6times', '7+2+5=?????', '7,', '7-Mahaveer', '7.30.', '7.30ish?', '7.30pm', '7.Romantic', '7.shy', '730.', '731', '74355', '7634', '7684', '7732584351,', '7:30', '7WS.', '7ZS', '7cfca1a', '7ish,', '7ish?', '7oz.', \"8'o\", '8+6+3=', '8-8:30', '8-hr', '8.30.', '8.Attractive', '8.Lovable', \"80's\", '80062', '80122300p/wk', '80155,', '80160', '8027', '80488.', '80488.biz', '8077', '80878', '81303.', '81618,', '81618-?3', '82242', '82324.', '82468', '83039', '83118', '83332.Please', '83338', '83355', '83370.', '83383.', '83435.', '83600.', '83738.', '84,', '84025', '84122', '84128,custcare', '84484', '85', '85.', '850.', '85222', '85233', '861', '864233.', '86888', '87077:', '87131.', '8714714', '8800,', '88039', '88039.', '88039.SkilGme.TsCs087147403231Winawk!Age16+Ã¥Â£1.50perWKsub', '88066', '88088', '88800', '88877', '88877>FREE', '88888', '88888.', '89034', '89080', '89123\"', '89545', '89555', '89555.', '89693.', '89938', '8Ball', '8WP', '8am', '8lb', '8pm.', '8th?', '9+2+4=', '9-6.', '9.decent', '9.funny', '9061100010', '9153.', '930.', '946', '98321561', '9996.', '9YT', '9am', '9ja', '9ja.', '9t:)', '9t;-)', ':)\"', ':)all', ':)finally', ':)going', ':)it', ':)my', ':)so', ':-):):-):-):-).', ':-):-)', ':-)keep', ':-)only', ':-)please', ':-D', ':-P', ':-xx', ':getzed.co.uk', ':zed', ';).', ';-(', ';V', ';abel', '=/', '=Twelve', '>>>More', '?!', '?!\\\\\"', '?-', '?.', '@Warner', '@kiosk.', 'A-Green', 'A-ffectionate.', 'A.', 'A21.', 'ACCEPT', 'ACL03530150PM', 'ACTUALLY', 'ADDAMSFA,', 'AFEW', 'AFTER', 'AFTERNOON?', 'AGAIN', 'AGAIN!', 'AGAIN.', 'AGAIN.call', 'AGAINST', 'AGE,', 'AGO.', 'AGO.CUSOON', 'AIG', 'AINT', 'ALETTER', 'AM!?!', 'AMY', 'ANAL', 'ANNIE', 'ANSWER', 'AOM', 'AOM,', 'APPY', 'APRIL.', 'AREA.', 'ARIES', 'AROUND!', 'AS', 'ASKED', 'AUCTION', 'AUGUST!', 'AV', 'AVA', 'AVENT', 'AWARD!', 'AXIS', 'Aah', 'Aah!', 'Aah.', 'Aaniye', 'Aaooooright', 'Ab..,', 'Abbey!', 'Abeg,', 'Aberdeen,', 'Abiola.', 'Abt', 'Accident', 'AccommodationVouchers', 'Accounts', 'Acnt.', 'Activate', 'Active', 'Actually,', 'Address', 'Adrian', 'Adult', 'Affections...&amp;', 'Afternoon', 'Afternoons,', 'Agalla', 'Ages', 'Ah', 'Ahhh.', 'Ahhhh...just', 'Airtel', 'Aka', 'Akon-Lonely>>>', 'Alaikkum.Pride', 'Aldrine,', 'AlertFrom:', 'Alex', 'Alfie', 'Algarve', 'Allah,meet', 'Allah.Rakhesh,', 'Almost', 'Alright,', 'Alrite', 'Although', 'Alwys', 'Amanda', 'Amazing...', 'Amrca', 'Amrita', 'Amy,', 'Annoying', 'Anyone', 'Anything!', 'Anything...', 'Anytime', 'Anytime.', 'Anytime...', 'Apart', 'Apnt', 'Apo', 'Apparently', 'Apps', 'Appt', 'Armand', 'Arms', 'Arrow', 'Arul.', 'Arun', 'Ashley', 'Asian', 'Ask', 'Asking', 'Astronomer', 'Athletic', 'Atlast', 'Atleast', 'Audrie', 'August', 'Avenge', 'Awesome', 'Awww', 'AÃ¥Â£1.50', \"B'day\", \"B'tooth*.\", 'B-Blue', 'B-day', 'B.', 'B/Tooth', 'B4U', 'BA128NNFWFLY150ppm', 'BABE,', 'BABE..', 'BABE.SOZI', 'BABES', 'BABY!HOPE', 'BACKWARDS)', 'BAILIFF', 'BAK!', 'BANG', 'BANK', 'BANNEDUK', 'BATH.', 'BBD(pooja)', 'BCK', 'BCM1896WC1N3XX', 'BCoz,I', 'BEAUTIFUL', 'BEAUTIFUL,', 'BEDROOM!LOVE', 'BEER', 'BEGIN', 'BEST', 'BETTER', 'BETTERSN', 'BIDS', 'BILL.', 'BLOKE', 'BLOKES', 'BOATIN', 'BOOKS?', 'BORED', 'BORING.', 'BORN.PLEASE', 'BOUT', 'BOX334SK38ch', 'BOX420.', 'BOX95QU', 'BREAK', 'BREATHE1', 'BRISTOL', 'BROKE', 'BT-national', 'BTW', 'BUDDY!!', 'BY', 'BYATCH', 'Baaaaaaaabe!', 'Baaaaabe!', 'Babe!', 'Babe:', 'Babe?', 'Baby', 'BabyGoodbye', 'Back.', 'Badrith', 'Ball', 'Balls.', 'Bam', 'BangBabes', 'Bani', 'Bank', 'Barry', 'Bbq', 'Bcm', 'Bears', 'Beauty', 'Becaus', 'Because', 'Become', 'Becoz', 'Been', 'Beer', 'Beerage?', 'Before', 'Being', 'Belovd', 'Ben', 'Bennys', 'Best1', 'Beth', 'Better.', 'Beware!', 'Big', 'Big,', 'Bill', 'Bill,', 'Birthday', 'Birthday?', 'Bishan', 'Bits', 'Black', \"Black;i'm\", 'Blacko', 'Blank', 'Blank.', 'Bless', 'Bloody', 'Blue;u', 'Bluetooth!', 'BluetoothHdset', 'Bob,', 'Boltblue', 'Bonus!', 'Boo', 'Boo.', 'Book', 'Booked', 'Bookmark', 'Boooo', 'Boss', 'Bought', 'Box434SK38WP150PPM18+', 'Box61,M60', 'Boy;', 'Boys', 'Boys.', 'Brandy', 'Brb', 'Bright', 'Bring', 'Bristol', 'Broadband', 'Brother', 'Brought', 'Brown;i', 'Bstfrnd', 'Bugis', 'Bull.', 'Burns', 'Buzz!', 'Buzzzz!', 'Bx', 'Bx526,', 'Bye.', 'C!', \"C's.\", 'C)', 'C-Red', 'C.', 'CAKE', 'CAL', 'CALLED', 'CALLIN', 'CAME!', 'CAMERA,', 'CANCEL', 'CANT', 'CAREFUL', 'CAT', 'CATCH', 'CAUSE', 'CER', 'CERI', 'CHANCE', 'CHATLINES', 'CHECKIN', 'CHEERS', 'CHILLIN', 'CHOSEN', 'CL.', 'CLUB', 'CLoSE', 'COLLEGE', 'COLLEGE!', 'COMMON', 'COMPLETELY', 'COUNTINLOTS', 'CRAZYIN,', 'CREDIT', 'CULDNT', 'CUM', 'CUST', 'CUTE', 'CaRE', 'Cab', 'Call.', 'Call2OptOut/674', 'Call2OptOut/674&', 'Calling!', 'Calls1.50ppm', 'CallsÃ¥Â£1/minmoremobsEMSPOBox45PO139WA', 'Camcorder', 'Camera/Video', \"Can't.\", 'Can.', 'Can...', 'Can?', 'Canada,', 'Cancer', 'Cannot', 'Captain', 'Cardiff', \"Carlos'll\", 'Carry', 'Cashbin.co.uk', 'Catching', 'Cause', 'Cbe', 'Celebrated', 'Chachi', 'Chance', 'Charles', 'Chasing', 'Chat.', 'Chat80155', 'Cheap', 'Cheer', 'Cheers,', 'Cheers.', 'Chef', 'Chikku,', 'Chk', 'Chloe,', 'Christians', 'Christmas...', 'Ciao!', 'Cine', 'Claim,', 'Click', 'Clos1', 'Club.', 'Club>>', 'Coca-Cola', 'Coffee', 'Cold.', 'Colin', 'Colour', 'Com', 'Common.', 'Companion', 'Company', 'Complete', 'Compliments', 'Concentrate', 'Congrats.', 'Congratulations!', 'Consider', 'Contact', 'Cool', 'Cool-Mob', 'Correct', 'Costs', 'Courageous', 'Crab', 'Craigslist', 'Cramps', 'Credit!', 'Cud', 'Cust', 'CustCare:08718720201', 'CustomerCare', 'Cute:', 'Cutefrnd', 'Cuz', 'D=', 'DABOOKS.', 'DADS', 'DAMMIT!!', 'DAN', 'DAY!', 'DAY..U', 'DAYS', 'DAYS.', 'DD', 'DE', 'DEAD', 'DECIDED', 'DEFO', 'DEL', 'DENA', 'DETAILS', \"DIDN'T\", 'DIDNT', 'DIGITAL', 'DIRTY', 'DISCOUNT', 'DOCKS.', 'DOES', 'DOESDISCOUNT!SHITINNIT\\\\\"\"', 'DOESNT', 'DOIN', 'DOIN?', 'DONATE', 'DOT', 'DPS,', 'DRACULA', 'DREAMS..', 'DREAMZ', 'DRINK', 'DRUNK!', 'DUE', 'Dad.', 'Daddy,', 'Dan', 'Darling', 'Darren', 'Dasara', 'Date', 'Dates', 'Dating', 'Day!', 'Day.', 'Day...!!!', 'Day:)', 'Day\\\\\"', 'Deal?', 'Dear,Me', 'Dear,regret', 'Dear,shall', 'Dear.', 'Dear..:)', 'Dear1', 'Declare', 'Def', 'Deliver', 'Delivered', 'DeliveredTomorrow?', 'Dependable', 'Desires-', 'Desires...,', 'Determined', 'Detroit', 'Detroit.', 'Devils', 'Dial', 'Dick.', 'Dictionary', \"Didn't\", 'Die', 'Dileep.thank', 'Din', 'Ding', 'Dino', 'Direct', 'Dirty', 'Diwali', 'Dizzamn,', 'Dizzee', 'Doc', 'Doctor', 'Doggy', 'Dolls', 'Dom', 'DontCha', 'DonÂ\\x89Ã\\x9bÃ·t', 'Dormitory', 'Dorothy@kiefer.com', 'DoubleMins', 'DoubleTxt', 'Download', 'Dozens', 'Draw.', 'Dream', 'Drink', 'Driver', 'Dude.', 'Dvd', 'E-namous.', 'E-ternal.', 'E.G.23F.', 'E14', 'E=', 'EACHOTHER.', 'EASTENDERS', 'EAT', 'ELLO', 'ENC', 'ENGLAND', 'ENJOY', 'ENJOYIN', 'ENTER', 'ENUFCREDEIT', 'ESPECIALLY', 'EVE.', 'EVEN', 'EVENING*', 'EVERY1', 'EVERYTHIN', 'EVONE', 'EXACT', 'EXORCIST,', 'EXP.', 'EXPLAIN', 'Early', 'Earth...', 'Easter', 'Edison', 'Ee', 'Eek', 'Eek!', 'Eerie', 'Egbon', 'Ela', 'Election', 'Eleven', 'Elvis', 'Email', 'Emily', 'En', 'End?', 'Energy!', 'Enjoy,', 'Enna', 'Erm', 'Erm.', 'Erm...', 'Err...', 'Erutupalam', 'Ese', 'Esplanade', 'Eta', 'Europe', 'Eve?', 'Evening', 'Evenings', 'Everytime...', 'Evn', 'Evrey', 'Ew', 'Exactly.', 'Exam', 'Excellent', 'Excellent!', 'Excellent,', 'Except', 'Executive', 'Exorcism', 'Expected...', 'Expecting', 'Explain!', 'Express', 'Expression', 'Eyed-Dont', 'Eyes', 'F=', 'F>>>', 'FANCY', 'FANTASY', 'FAR', 'FFFFUUUUUUU', 'FIFA', 'FIGHTS.', 'FILTH', 'FINE', 'FINEST,', 'FINISH', 'FIRST', 'FIT', 'FIZZ.', 'FLOWER', 'FM...you', 'FONE,', \"FR'NDSHIP\", 'FREE*', 'FREE-Nokia', 'FREE2DAY', 'FREE>Ringtone!', 'FREE>Ringtone!Reply', 'FREEMSG:', 'FRESHERS', 'FRIENDS', 'FRIENDSHIP', 'FUCK', 'FUCK.', 'FUCKED', 'FUCKIN', 'FUCKINNICE!SELFISH', 'FUDGE', 'FUNNY!', 'Face.:)', 'Facebook', 'Facebook?', 'Fails', 'Fair', 'Fantasy', 'Farrell', 'Fear', 'Feels', 'Fffff.', 'Ffffffffff.', 'Fifty?', 'Filthy', 'Final', 'Find', 'Finished', 'Flight', 'Flirt!!', 'Flung', 'Fml', 'Follow', 'Foned', 'Fools', 'Football', 'Forever', 'Forevr...', 'Forgets', 'Fr', 'Frankie', 'Fredericksburg', 'Free-message:', 'FreeMSG', 'FreeMsg:', 'Freeentry', 'Fresh', 'Friday', 'Friday,', 'Friday.', 'Friendship,Mother,Father,Teachers,Childrens', 'Frog-AXEL', 'Fun', 'G.', 'G2', 'GAIL', 'GAILxx', 'GAME.', 'GANG', 'GAS', 'GBP/week!', 'GBP1.50/week', 'GBP4.50/week.', 'GBP5/month.', 'GETTIN', 'GHOST,', 'GIFTS!!', 'GIMMI', 'GIRL,', 'GIRL.', 'GIRLS', 'GM', 'GMW', 'GO!', 'GONNA', 'GOODEVENING', 'GOODFRIEND', 'GOODMORNING', 'GOODMORNING:)', 'GOODNIGHT', 'GOODNITE', 'GOODNOON:)', 'GOODTIME!OLI', 'GORGEOUS', 'GOSS!x', 'GOSSIP', 'GOTMARRIED', 'GOWER', 'GR8FUN', 'GRAVEL', 'GREAT', 'GSOH?', 'GUARANTEED!', 'GUD', 'GURL', 'Gain', 'Gal', 'Game', 'Gamestar', 'Ganesh', 'Garbage', 'Gaze', 'Gd', 'Gee,later', 'Geeeee', 'Genius', 'Geoenvironmental', \"George's\", 'Gettin', 'Gibbs', 'Gimme', 'Gin', \"Girl'\", 'Gn:-)', 'GoTo', 'God,', 'Gods', 'Gokila', 'GoldDigger', 'Golf', 'Good!', 'Good.', 'Goodmorning,my', 'Goodmorning..', 'Goodnight', 'Goodnight,', 'Goodnoon..:)', 'Gotta', 'Gr8.', 'Grazed', 'Green;i', 'Greetings', 'Grumpy', 'Guai...', 'Gudni8', 'Gudnite\"', 'Gudnite....tc...practice', 'Gudnyt', 'Guessin', 'Guild.', \"Gumby's\", 'Guy,', 'Guys', 'H&M', 'H*', 'HALF', 'HARD', 'HARDEST', 'HARRY,', 'HAS', 'HATES', 'HAUGHAIGHGTUJHYGUJ', 'HAVENT', 'HAVIN', 'HAVING', 'HCL', 'HELL', 'HELLO', 'HELP', 'HIDE', 'HIT', 'HMM', 'HOLIDAY', 'HOLIDAY?', 'HOME.', 'HONEY?DID', 'HONI\\\\\"\"', 'HOSPITAL', 'HOTMIX', 'HOUSE', 'HOUSE?\\\\\"\"', 'HOWDY', 'HOWS', 'HP20', 'HRS', 'HTTP://WWW.URAWINNER.COM', 'HU.', 'HUN!', 'HUN!LOVE', 'HUNNY', 'HUNNY!HOPE', 'HUNNY!WOT', 'Ha.', 'Habit', 'Hack', 'Haha...take', 'Haiyoh...', 'Haiz...', 'Handset?', 'Hanging', 'Hanumanji', 'Happy..', 'Happy?', 'Hard', 'Hari-', \"Harish's\", 'Hasbro...in', 'Hav', 'Head', 'Headin', 'Headset', 'Healer', 'Hee..', 'Heehee', 'Helen,', 'Hell', 'Hello-', 'Helloooo...', 'Help', 'Her', 'Hero,i', 'Hey!', 'Hey!!!', 'Hey...Great', 'Hhahhaahahah', 'Hi..i', 'Hi.:)technical', 'Hi.what', 'Hi:)cts', 'Hi:)did', 'Him', 'Hint', 'Hitler', 'Hiya', 'Hiya.', 'Hlp', 'Hmm,', 'Hmm...', 'Hmm...Bad', 'Hmm...my', 'Hmmm...', 'Hmmm....', 'Hmmm...k...but', 'Hmmm.still', 'Hmmm:)how', 'Hmmmm?', 'Ho', 'Ho.', 'Hockey.', 'Hogli', 'Hogolo', 'Holder', 'Holding', 'Holla', 'Holy', 'Home', 'Honey', 'Honey,', 'Hoping', 'Hospital', 'Host-based', 'Hotel', 'How...', 'Howda', 'However', 'Hrishi', 'Hrishi.', 'Huh...', 'Huh?', 'Hui', 'Hyde', \"I'ma\", 'I,', 'I-ntimate.', 'I?', 'IDIOT\\\\\".', 'IDPS', 'IFINK', 'IG11', 'IJUST', 'IKNO', 'ILEAVE', 'IMAT', 'IMF', 'IMIN', 'INC', 'INCLU', 'INCONVENIENCE', 'INDYAROCKS.COM', 'INFORM', 'INFORMATION', 'INK', 'INSTEAD!', 'INTELLIGENT', 'INTERFLORA', 'INTO', 'IP4', 'ISH', 'ISNT', 'IT+BOTH', 'IT.(NOW', 'IT.,', 'IT?T.B*', 'IT?xx', 'IVE', 'Ice', 'Idea', 'Idk', 'Ilol', 'Inclusive', 'Incorrect?', 'Independence', 'India:-):', 'Indian.Pls', 'Indians.', 'Indyarocks.com', 'Inever', 'Infact', 'Inform', 'Information', 'Innocent', 'Insha', 'Intelligent', 'Interflora', 'Invaders', 'Iriver', 'Irritates', 'Isaiah.=D', \"Isn't\", \"It'snot\", 'It,,s', 'It..', 'It...!..!!', 'Itna', 'ItÂ\\x89Ã\\x9bÃ·s', 'Ive', 'Iwas+marine&thatÃ¥Ã\\x95s', 'IÂ\\x89Ã\\x9bÃ·ve', 'IÃ¥Ã\\x95LLSPEAK', 'IÃ¥Ã\\x95m', 'IÃ¥Ã\\x95ve', 'J!', 'J89.', 'J?', 'JANX', 'JD', 'JEN', 'JJC', 'JULY', 'JUSWOKE', 'James.', 'Jamster!', 'Jamster!Get', 'Jamz', 'Jane', 'January', 'Jason', \"Jay's\", 'Jealous?', 'Jen', 'Jeremiah.', 'Jeri', 'Jerk!', 'Jerry', 'Jersey', 'Jesus', 'Jia', 'Joanna', 'Jokin', 'Joking', 'Jolly', 'Jon,', 'Jordan', 'Jordan!Txt', 'Jordan,', 'Jorge-Shock..', 'Jstfrnd', 'Jsut', 'July', 'July.', 'Junna', 'K..', 'K...', 'K...k...when', 'K..give', 'K..i', 'K..k...from', 'K..k..any', \"K..k..i'm\", 'K..k.:)congratulation', 'K..k:)how', 'K..k:)where', 'K..then', 'K..u', 'K.:)you', 'K.i', 'K.k..how', 'K.k.how', 'K.k.this', 'K.k:)advance', 'K.k:)apo', \"K.k:)i'm\", 'K.then', 'K52', 'K61.', 'K718.', 'K:)i', 'K:)k..its', 'K:)k:)what', 'KING', 'KISS', 'KL341.', 'KNACKERED', 'Kanagu', 'Katexxx\\\\\"\"', 'Kath.', 'Kay...', 'Kent', 'Keris', 'Kick', 'Kind', 'Kinda.', 'Kingdom.', 'Kit', 'Kothi', 'L-oveable.', 'L8ER', 'L8R.', 'L8TR', 'LA1', 'LA3', 'LADIES', 'LAPTOP', 'LATE', 'LATER', 'LAY', 'LDN', 'LE', 'LEKDOG', 'LES', 'LETS', 'LIKELY', 'LIKEYOUR', 'LIKING.BE', 'LILY', 'LITTLE', 'LIVE.', 'LOCAL', 'LOCAXX\\\\\"\"', 'LOG', 'LONG', 'LONGER', 'LORD', 'LOST', 'LOT.', 'LOTS', 'LOU!', 'LOVE?:-|', 'LOVEJEN', 'LS278BB', 'LUCKY', 'LUCYxx', 'LUSH!', 'LUTON', 'LUV!', 'Ladies', 'Lands', 'Lara', 'Large', 'Ldn,', 'Leaving', 'Left', 'Lemme', 'Lessons.', 'Libertines', 'Lies', 'Life..', 'Life\\\\\"', 'Lifpartnr', 'Lil', 'Limited', 'Lindsay', 'Line', 'Linerental', 'Lion', 'Lk', 'Lmao!nice', 'Lmao.', 'Loads', 'Loans', 'Log', 'Lol,', 'Lolnice.', 'Lool!', 'Loooooool', 'Love!!', 'Love.', 'Loved', 'Lover.', 'Loverboy', 'Low-cost', 'Ltd.Ã¥Â£1,50/Mtmsgrcvd18+', 'Luckily', 'Lucozade', 'Lul', 'Lvblefrnd', 'M', 'M227XY.', 'M39M51', 'M95.', 'MAD1,', 'MAD2', 'MADE', 'MAHAL', 'MALL', 'MAN!', 'MAN?', 'MARSMS.', 'MAT', 'MATE!', 'MAYBE', 'ME!!', 'ME,', 'ME...', 'MECAUSE', 'MEETIN', 'MEGA', 'MELNITE', 'MESSAGE**Thanks', 'MESSAGE.', 'MESSED', 'MF', 'MFL', 'MILLIONS', 'MINI!!!!', 'MINS.', 'MISSED', 'MISSIN', 'MISTAKE.U', 'MITE', 'MIX\\\\\"', 'MMM', 'MO', 'MO...', 'MOAN', 'MOMENT', 'MON.L8RS.x', 'MONKEESPEOPLE', 'MONKEYAROUND!', 'MONO#', 'MONOC', 'MOON', 'MORNING!', 'MOVIE', 'MR!ur', 'MRNG\\\\\".\"', 'MSG*', 'MSG:We', 'MSGS', 'MUCHXXLOVE', 'MUM', 'MUMS', 'MUNSTERS,', 'MUST', 'MYSELF', 'Ma', 'Maat\\\\\"', 'Macedonia', 'Macha', 'Made', 'Mah', 'Mailbox', 'Makes', 'Making', 'Manchester.', 'Mandy', 'March', 'Maretare', 'Mark.', 'Marley,', 'Marvel', 'Match', 'Mathe', 'Mathews', 'May,', 'Mayb', 'Maybe?!', 'Me,', 'Meat', 'Meet', 'Melle', 'Message', 'Messages', 'Messaging', 'Might', 'Mileage', 'Miles', 'Mine', 'Minnaminunginte', 'Miserable.', 'Misplaced', 'Mite', 'Mmmm....', 'Mmmmmm', 'Mob!', 'Mob?', 'MobStoreQuiz10ppm', 'MobcudB', 'Mobiles', 'Mobileupd8', 'Mode', 'Moment', 'Moms', 'Mon', 'Monday', 'Monday,', 'MonthlySubscription@50p/msg', 'Moon', 'Moral:\\\\Dont', 'Mornings', 'Mother', 'Mother-in-law', 'Motivate', 'Mountains', 'Movie', 'Ms.Suman', 'Msg150p', 'Msg:', 'Multiply', 'Musta', 'Muz', 'Mwahs.', 'MySpace', 'N-Gage', 'N-atural.', 'N-oble.', 'NBME', 'NEEDS', 'NEFT', 'NEO69', 'NHS', 'NIC', 'NICHOLS', 'NIGHT\"', 'NITE', 'NITE!!', 'NITE+2', 'NO-165', 'NO-762', 'NO-910.', 'NO.', 'NO.1', 'NOW!REPLY', 'NOW?', 'NR31', 'NRI', 'NUMBER,', 'NUMBER-SO', 'NVQ,', \"NY's\", 'Natalie', 'Nationwide', 'Near', 'Neshanth..tel', 'Network.', 'Neville?', 'Newport', 'Ni8;-)', 'Nice.', 'Nick,', 'Nights.', 'Nimya.', 'Nite', 'No!', 'No..few', 'No..its', 'No..jst', 'No:-)i', 'NoWorriesLoans.com', 'Noice.', 'Nokia,', 'Nokias', 'None', 'None?', 'Nookii', 'Noooooooo', 'Norcorp', 'Normal', 'Normally', 'Not..tel', 'Nothin', 'Nothing.', 'Nottingham', 'November', 'Now.', 'Now?', 'Nowadays', 'Nt.', 'Number.Respectful', 'Number:', 'Nurungu', 'Nvm...', 'Nw', 'Nyt.', 'O2:', 'OFF', 'OFTEN', 'OJA', 'OK,', 'OK?', 'OK?TAKE', 'OKDEN', 'OLD.', 'ONCALL.', 'ONLYFOUND', 'ONTO', 'OPT', 'OREOS', 'OTBox', 'OTHERWISE', 'OURBACKS', 'OUT.', 'OUTL8R', 'OVERDOSE', 'Ocean..:-D', 'Ofcourse', 'Oh!', 'Oh.', 'Oh...i', 'Oh:)as', 'Oi', 'Oic...', 'Ok.,', 'Okay,', 'Okay.', 'Okie,', 'Okie..', 'Okies...', 'Olol', 'Omw', 'Onam', 'Only1more', 'Onum', 'Ooh,', 'Oooh', 'Oops,', 'Open', 'Opinion????', 'Opt', 'Orange;i', 'Oranges', 'Orchard', 'Order', 'Organizer', 'Orh', 'Other..', 'Other...', 'Out', 'Oyea.', 'Oz?', 'P.S', 'PA', 'PARENTS', 'PARIS.FREE', 'PARK', \"PARTNER'S\", 'PARTY', 'PEACH!', 'PETE,', 'PETROL!', 'PHP', 'PHP.', 'PIC', 'PIN', 'PISS', 'PLEASSSSSSSEEEEEE', 'PLUS', 'PO19', 'POBOXox36504W45WQ', 'POBox365O4W45WQ', 'POBox84,', 'POINT', 'POLY#', 'POLY3', 'POLYC', 'POOR', 'PORN', 'POST', 'POST,', 'PRICE', 'PROBLEM.', 'PROBTHAT', 'PROPERLY', 'PSP', 'PT2', 'PUTTIN', 'Pa.', 'Package', 'Painful', 'Panasonic', 'Pandy', 'Paris.', 'Park!', 'Part', \"Party's\", 'Pass', 'Passwords,ATM/SMS', 'Pathaya', 'Patrick', 'Peaceful', 'Perhaps', 'Peripherals', 'Persian', 'Pest', 'Pete!', 'Petey!noiÃ¥Ã\\x95m', 'Ph:08704050406)', 'Pharmacy', 'Phil', 'Phoenix', 'Phone?', 'Phony', 'Pic', 'Pics', 'Pie', 'Piggy,', 'Pilates', 'Pink;u', 'Pity,', 'Pl', 'PlanetTalkInstant.com', 'Player', 'Playin', 'Please.', 'Plyr.', 'Po', 'PoBox1,', 'PoBox12n146tf15', 'PoBox12n146tf150p', 'PoBox202', 'PoBox45W2TG150P', 'PoBox75LDNS7', 'PoBox84', 'PocketBabe.co.uk', 'Polo', 'Polyphonic', 'Poor', 'Popcorn!Just', 'Pose', 'Potter', 'Poyyarikatur,kolathupalayam,unjalur', 'Prabu', 'Prakesh', 'Prasanth', \"Prashanthettan's\", 'Pray', 'Predicte', 'Prem.', 'Presleys', 'Princess!', 'Printer', 'Prize.', 'Pro', 'Probably', 'Probably,', 'Prof:', 'Prof:????', 'Promo', 'Promo\"', 'Promotion', 'Props?', 'Provided', 'Pshew...missing', 'Psychiatrist', 'Psychologist', 'Purple;u', 'PushButton', 'Put', 'Putting', 'Q', 'QUITE', 'Qatar', 'Qatar.Rakhesh', 'Que', 'Queen?', 'Queries', 'Question', 'Questions:', 'Quick', 'Quiz.', \"Quote''\", 'RALLY', 'RANDOM!', 'RANG', \"RCT'\", 'READ', 'REAL1', 'REALISE', 'REALITY', 'REALY', 'REBEL!', 'RECD', 'RECPT', 'REGRET', 'REMINDER', 'REPLY', 'REPLYS150', 'REPORT', 'REWARD', 'RG21', 'RIGHT', 'RINGS:RETURN', 'RITE.', 'ROOM', 'ROSES', 'RP176781.', 'RT-KIng', 'RTM', 'RTO', 'RUDI', 'RV', 'Racal,', 'Raining!', 'Raj', 'Raji..pls', 'Rajnikant', 'Rally', 'Randy,', 'Rate', 'Rate.', 'Rats.', 'Raviyog', 'Rayman', 'Re', 'Ready', 'Real', 'Really...', 'Really?', 'Realy', 'Reckon', 'Records', \"Red;i'm\", 'Ref:9280114', 'Ref:9307622', 'Reflection', 'Refused', 'Regards.', 'RememberI', 'Remembered', 'Remembrs', 'Remind', 'Remove', 'Rent', 'Rental', 'Rental?', 'Requests', 'Resend', 'Rgds', 'Ride', 'Ring', 'Ringtone!From:', 'Ringtone.', 'RingtoneÃ¥Ã\\x81', 'Rock', 'Rodds1', 'Rodger', 'Rofl', 'Rofl.', 'Roger?', 'Romantic', 'Ron', 'Row/W1J6HL', 'Rs.', 'Rs.5', 'Rum', \"S'fine.\", 'S....s...india', 'S...from', 'S..antha', 'S.i', \"S.i'm\", 'S.this', 'S3XY', 'S89.', 'S:)8', 'S:)but', 'S:)no', 'S:)s.nervous', 'S:-)if', 'SAD', 'SAID', 'SAT?SOUNDÃ¥Ã\\x95S', 'SAW', 'SAY', 'SCARY', 'SCOTLAND', 'SED', 'SEE..NO', 'SEEING?', 'SEEMED', 'SEEN.', 'SENDS', 'SENT:)', 'SERIOUSLY.', 'SERVICES', 'SERVs', 'SEXYCHAT', 'SF', 'SHAME', 'SHESIL', 'SHIT.JUSTFOUND', 'SHITIN', 'SHOULD', 'SHOW', 'SIB', 'SIM', 'SIR.', 'SK3', 'SLEEP..SWEET', 'SLEEPING', 'SLEEPINGWITH,', 'SLEPT', 'SLO(4msgs)', 'SMILEY', 'SMS,', 'SMSSERVICES.', 'SNAP', 'SNORING.THEY', 'SOFA', 'SOIREE', 'SOMETHIN', 'SOMETHING', 'SOMETHING?', 'SONY', 'SOO', 'SOON.C', 'SOONLOTS', 'SORTED,BUT', 'SOZ', 'SP:RWM', 'SPAM', 'SPECIALE', 'SPEEDCHAT', 'SPEEDCHAT,', 'SPIDER', 'SPINOUT!', 'SPJanuary', 'SPORT', 'SPORTSx', 'SPTV', 'SPUN-OUT', 'ST', 'STAPATI', 'STAR', 'STARS', 'STATION.', 'STIL', 'STOP2stop)', 'STOPBCM', 'STOPCS', 'STORES', 'STU', 'STUDENT', 'STUDY', 'STaY', 'SUE', 'SUM', 'SUMTHIN?xx', 'SUNDAY', 'SUNDAY..:)', 'SUPER', 'SUZY', 'SWAN', 'SWAP', 'SWAT', 'SWITCH', 'Sac', 'Saeed', 'Safe', 'Salam', 'Sam', 'Same,', 'Sankranti', 'Sar', 'Sara', 'Sarcasm', 'Saristar', 'Saturday,', 'Saw', 'Says', 'Schools', 'Science', 'Scoring', 'Scotch', 'Search', 'Second', 'Secured', 'Seem', 'Select,', 'Sen', 'Sending', 'Sends', 'Senthil', 'Serena:)', 'Serious?', 'Service.', 'Services', 'Set', 'Sex', 'Shahjahan', \"Shahjahan's\", 'Shampain', 'Shanil,Rakhesh', 'Shb', 'Shhhhh', 'Shifad', 'Shijutta...........', 'Shinco', 'Shit,', 'Shivratri', 'Shop.We', 'Shopping?', 'Shoranur', 'Short', 'Shoul', 'Si', 'Sian...', 'Simply', 'Simpsons', 'Sindu', 'Single', 'Single?', 'Singles', 'Sir,Salam', 'Sirji.I', 'Sister', 'Siva', 'SkillGame,1Winaweek,', 'Skip', 'Sleep.', 'Sleepwell&amp;Take', 'Slept?', 'Slide', 'Slow', 'Slowly', 'Small', 'Smiling', 'Smith', 'Smith-Switch..', 'So,', 'So...any', 'Someonone', 'Somewhr', 'Sonetimes', 'Sony,', 'Soon', 'Sorry,in', 'Sort', 'Sos!', 'Soup', 'South', 'Space', 'Spain', 'Special!', 'Spending', 'Spider-man', 'SplashMobile:', 'Splat!', 'Spook', 'Spoons', 'Sppok', 'Spring', 'Sptv:', 'Squeeeeeze!!', 'Squishy', 'Sry', 'Staff', 'Starting', 'Starts', 'Staying', 'StdTxtRate.', 'Stereophonics,', 'StewartSize:', 'Stop2', 'Stream', 'Strip', 'Strokes!', 'Student:', 'Studying.', 'Stuff', 'Stylist', 'Subs', 'Subscribe6GBP/mnth', 'Subscriber', 'Subscription', 'Suganya.', 'Sugar', 'Suite', 'Sullivan', 'Sun', 'Sunday', 'Sup,', 'Sure', 'Sure!', 'Surely', 'Swayze', 'Sweetheart', 'Swtheart', 'Sympathetic', 'Syria', 'T&CsC', 'T-ruthful.', 'TA', 'TAJ', 'TALKBUT', 'TALKED', 'TALKING', 'TAMPA', 'TASTS', 'TBS/PERSOLVO.', 'TEL', 'TELLMISS', 'TERMINATED.WE', 'TEX', 'TEXT?', 'TEXTBUDDY', 'TEXTCOMP', 'TEXTPOD', 'TH', 'THAN', 'THANX', 'THANX4', 'THASA', 'THATMUM', 'THATÃ¥Ã\\x95S', 'THE!', \"THERE'S\", 'THERE.', \"THESE...your's\", 'THINK', 'THNQ', 'THO!', 'THOSE', 'TISSCO,Tayseer.', 'TOBED', 'TOCALL.SHALL', 'TOMORROW', 'TONE.', 'TONEXS', 'TONIGHT!', 'TONIGHT?', 'TONITE', 'TOOL!', 'TOP', 'TOWN.DONTMATTER', 'TROUBLE?', 'TRUBLE', 'TRUE', 'TRUE:', 'TS&Cs', 'TULIP', 'TV', 'TV.', 'TWILIGHT', 'TXTAUCTION', 'Ta', 'Taka', 'Takin', 'Tata', 'Tayseer,TISSCO', 'Tb', 'Tea', 'Teach', 'Teacher', 'Team.', 'Tear', 'Tel)', 'Telephonic', 'Teresa.', 'Termsapply', 'Text82228>>', 'Text:', 'TextOperator', 'Thank.', 'Thankyou', 'Thanx..', \"That'll\", 'TheDailyDraw)', 'TheMob', 'TheMob>Yo', 'Them', 'Then.', \"There're\", 'These..', \"They're\", 'Theyre', 'Thing', 'Thinkin', 'Thinks', 'Tho', 'Though', 'Thts', 'Thurs', 'Thursday', 'Thursday.', 'Thx.', 'Tiger', 'Tired.', 'Tiwary', 'TnC', 'Toa', 'Today-sunday..sunday', 'Toledo.', 'Tom,', 'Tomarrow', 'Tomorrow?', 'Tonight?', 'Total', 'Touch.', 'Tour.', 'Toxic', 'Trackmarque', 'Traditions....', 'Treat', 'True.', 'Truro', 'Try:WALES,', 'Trying', 'TsCs08714740323', 'TsCs087147403231Winawk!Age16', 'Tsunami', 'Tsunamis', 'Ttyl!', 'Tues,', 'Tuesday.', 'Tuesday?', 'Tunde,', 'Turns', 'Twinks,', 'Twittering', 'Txting', 'Txts', 'U!U', \"U'll\", 'U.CALL', 'UAWAKE?FEELLIKW', 'UIN', 'UK-mobile-date', 'UKs', 'UNBELIEVABLE.', 'UNDERSTaND', \"UNICEF's\", 'UP+NOT', 'UP.YEH', 'UPDAT', 'UR...', 'URFEELING', 'URGENT!:', 'URGENT,', 'URGOIN', 'USED', 'USER.', 'Ubi', 'Ugadi', 'Uh,', 'Uhhhhrmm', 'Ultimate', 'Umma.', 'UnSub', 'Uncle', 'Unfortunately', 'United', 'University', 'Unless', 'Unlike', 'Unlimited', 'Unsecured?', 'Until', 'Upd8', 'Update_Now', 'UpgrdCentre', 'Ups', 'Urgh,', 'Usf', 'Usmle,', 'V-aluable.', \"VALENTINE'S\", 'VAT', 'VCo', 'VIA', 'VILLA', 'VIOLENCE', 'VIOLET', 'VPOD', 'VU', 'Valentine', 'Values...,', 'Vatian', 'Vegas', 'Velusamy', \"Vettam)'\", 'ViVa..', 'Videos', 'Vijay', 'Virgin', 'Vodka', 'Voila!', 'Vry', 'W14RG', 'W1J', 'W4', 'WAIT', 'WAITING', 'WANNATELL', 'WEEK+', 'WEEK.', 'WEN', 'WENWECAN', 'WEREBORED!', 'WERETHE', 'WHASSUP?', 'WHERE', 'WHICH', 'WHITE', 'WHORE', 'WHY', 'WID', 'WILD', 'WILL!!', 'WINNER!!', 'WISH', 'WISHING', 'WITHOUT', 'WIV', 'WK', 'WK?', 'WKENT/150P16+', 'WOKE', 'WOMAN', 'WOMEN.', 'WONT', 'WORDS', 'WORLD...!!!', 'WORRY.', 'WORRY.C', \"WOULDN'T\", 'WOW!', 'WRC', 'WRK!\\\\\"\"', 'WRK.I', 'WRKIN?', 'WRLD.', 'WRONG!!TAKE', 'WTF.', 'Wa,', 'Wa...', 'Wah', 'Wahleykkum.sharing', 'Wait,', 'Wait...should', 'Wait.i', 'Waqt', 'Warm', 'Warner', \"Wasn't\", 'Waste', 'Watch', 'Water', 'Waves', \"We've\", 'WeBeBurnin', 'Wed', 'WeddingFriend', 'Wednesday.', 'Weightloss!', 'Weiyi', 'Welcome!', 'Welcome.', 'Well.', 'Wendy', 'Wewa', 'What????', 'Whatever,', 'Whats', 'WhatÂ\\x89Ã\\x9bÃ·s', 'When/where', 'When?', 'Whenevr..', 'Wherevr..', \"Wherre's\", 'Whom', 'Whos', 'Why.', 'Wife,', 'Wil', 'Wings', 'Winner', 'WinnersClub', 'Wire3.net', 'Wld', 'Woman', 'Won.', 'Wondering', 'Woo', 'Woodland', 'Woods', 'Woohoo!', 'Work.', 'Working', 'Worth', 'Wotz', 'Wrong', 'Wuld', 'Wun', 'Wylie', 'X.', 'XCHAT.', 'XCLUSIVE@CLUBSAISAI', 'XXUK', 'XXXX', 'XXXX.\\\\\"\"', 'XXXXX', 'XXXXX.\\\\\"\"', 'XXX\\\\\"\"', 'X\\\\\"\"', 'Xavier', 'XoXo', 'Xuhui', 'XxX', 'Xy', 'Y87.', 'YES-165', 'YES-762', 'YES-910', 'YEST', 'YET?', 'YM', 'YMCA', \"YOU'VE\", 'YOU.', 'YOURJOB?', 'YRS', 'Ya:)going', 'Yar...', 'Yavnt', 'Yaxxx', 'Yay', 'Yay!', 'Yay.', 'Year!', 'Year,', 'Yeesh', 'Yeh.', 'Yellow', 'Yelow;i', 'Yen', 'Yep.', 'Yes...', 'Yes..but', 'Yes..gauti', 'Yes.he', 'Yes.mum', 'Yes:)from', 'Yes:)sura', 'Yest', 'Yesterday', 'Yet,', 'Yetunde', 'Yetunde,', \"You'll\", 'Youi', 'Yummmm', 'Yunny', 'Yunny...', 'Yup,', 'Z', 'ZOUK', 'Zindgi', 'Zogtorius.', '\\\\\"', '\\\\\"\"', '\\\\\".', '\\\\\"1.U', '\\\\\"Best', '\\\\\"DRIVE', '\\\\\"Enjoy\\\\\"', '\\\\\"GUD', '\\\\\"How', '\\\\\"Shah', '\\\\\"She', '\\\\\"This', '\\\\\"You\\\\\"', '\\\\\"life', '\\\\\"morning\\\\\"', '\\\\\"oh\\\\\"\"', '\\\\\"the', '\\\\\"welcomes\\\\\"', '\\\\\"with', '\\\\3000', '\\\\ADP\\\\\"\"', '\\\\AH', '\\\\ALRITE', '\\\\Are', '\\\\BOO', '\\\\Be', '\\\\CAN', '\\\\Checkmate\\\\\"', '\\\\DRINK\\\\\".', '\\\\ER', '\\\\For', '\\\\GOODMORNING', '\\\\GRAN', '\\\\Getting', '\\\\Gimme', '\\\\HELLO', '\\\\HI', '\\\\Happy', '\\\\Hello-/@drivby-:0quit', '\\\\Hurt', '\\\\Its', '\\\\KUDI\\\\\"yarasu', '\\\\Keep', '\\\\Life', '\\\\ME', '\\\\Miss', '\\\\NONE!NOWHERE', '\\\\NOT', '\\\\OH', '\\\\POLYS\\\\\"', '\\\\Pete', '\\\\Response\\\\\"', '\\\\SHIT', '\\\\STOP', '\\\\SYMPTOMS\\\\\"', '\\\\Si.como', '\\\\Sometimes', '\\\\Speak', '\\\\Sweet\\\\\"', '\\\\The', '\\\\Thinking', '\\\\URGENT!', '\\\\VALENTINES', '\\\\Walk', '\\\\alright', '\\\\find', '\\\\get', '\\\\go', '\\\\how', '\\\\julianaland\\\\\"', '\\\\sleep', '\\\\song', '\\\\suppliers\\\\\"', '\\\\woah\\\\\"', '\\\\wow', '\\\\wylie', '^', 'a30.', 'aathi..love', 'abdomen', 'ability', 'abnormally.', 'about...', 'above', 'abroad', 'absence....', 'absolutely', 'abstract?', 'aburo.', 'abuse???', 'ac/W/icmb3cktz8r7!-4', 'ac/smsrewards', 'accept', 'access!', 'accessible.', 'accident', 'accommodation', 'accordingly.or', 'account..', 'ache', 'acid!', 'acknowledgement', 'acted', 'acting', 'action.', 'activ8.', 'activate', 'actor.', 'ad.', 'addie', \"address.u'll\", 'adewale', 'adi', 'adjustable,', 'admin', 'administrator', 'administrator..', 'admirer.', 'admit,i', 'adress?\\\\\"\"', 'adults', 'advance\"', 'advance.', 'advance..', 'adventure', 'adventuring', 'advice.', 'advisors', 'affectionate', 'africa?', 'african', 'aft?', 'after.', 'afterwards.', 'aftr', 'again*loving', 'again..', 'again:)', 'agalla', 'age16.150ppermessSubscription', 'agent', 'agents', 'ages', 'agidhane..', 'aging', 'ago\"', 'ago,', 'ago.', 'ago...', 'agree', 'ah', 'ah...gee..', 'ah.now', 'ah.the', 'ah?what', 'aha:)', 'aha:-.', 'ahead:', 'aid', 'aids', 'air1', 'air?', 'airtel', 'ajith', 'aka', 'album', 'album-quite', 'album.', 'alcohol,', 'alcohol.', 'alcohol?', 'alerts', \"alex's\", 'alfie', 'alian', 'alibi.', 'alive....', 'alive.better', 'alive?', 'allah', 'allah.', 'allalo', 'allday!', 'alle', 'allows', 'alone\\\\\"\"', 'along', 'along!', 'along.', 'alot', 'already,', 'alright,', 'alright.Okay.', 'alrite.', 'alrite.have', 'also,', 'also..', 'also...', 'also?', 'alter', 'alternative.hope', 'although', 'alwa....!!:)', 'always,', 'always?', 'alwys', 'am.x', 'ambitious.', 'american', 'amk.', 'amongst', 'amore', 'amplikater', 'ams', 'amt', 'ana', 'analysis', 'and,', 'anderson', 'andre,', 'andres', 'andrews-boy', 'angels', 'angry.', 'anjie!', 'anna', 'anniversary', 'annoncement.', 'announced', 'annoyin!', 'annoying', 'anonymous', 'answer:', 'answer\\\\\"', 'answered', 'answered:', 'answerin', 'answers.', 'answr.', 'antibiotic', 'any,', \"anybody's\", 'anybody.', 'anyhow', 'anymore', 'anyone.', 'anythiing', 'anythin', 'anything!', \"anything's\", 'anythingtomorrow', 'anyway...', 'anyways,', 'apartment', 'apartment.', 'aphexÃ¥Ã\\x95s', 'apologise', 'apologise.', 'apology', 'app?', 'apparently', 'appeal', 'appendix', 'apply:', 'applying,', 'appointment', 'appointment.', 'appointments', 'appreciated)', 'approaches', 'approaching.', 'appropriate', 'approve', 'approx', 'appt', 'appt.', 'april', 'apt', 'aquarius', 'ar', 'ar.', 'ard...Ã\\x8cÃ¤', 'area!', 'area.', 'arent', 'arestaurant', 'aretaking', 'argh', 'arguing', 'argument', 'arguments', 'arises', 'arithmetic', 'arm', 'arm?', 'armenia', 'arms...', 'arnt', 'around.', 'arrange.', 'arranging', 'arsenal', 'art', 'artists.', 'arty', 'as?', 'asa', 'asap', 'asap.', 'asap.ok', 'asap?', 'asda', \"ashley's\", 'ashwini', 'asia.', 'ask.', 'asked.', 'asked:', 'asleep?', 'aspects', 'ass!', 'ass!!', 'ass*', 'ass?', 'assessment', 'asshole..................', 'assistance', 'associate.', 'assumed', 'asthma', 'astoundingly', 'astrology....', 'at!', 'atHome', 'atlanta', 'atlast', 'atm', 'atrocious..', 'attach', 'attached', 'attack,', 'attempt.', 'attended', 'attending', 'attitude', 'attraction.i', 'attracts', 'attributed', 'auction..', 'auction:)punj', 'aunties', 'aunty', 'aust', 'authorise', 'autocorrect', 'av', 'availa', 'available.they', 'available?', 'avble.', 'avenue', 'avin', 'avo', 'avoids', 'awake?', 'away!!', 'away.', 'away?', 'ax', 'ayn', 'ayo', 'b,', 'babe!', 'babe?', 'babes.', 'babies', 'babysit', 'babysitting', 'back..', 'back...', 'back?.a', 'backdoor', 'bad!', 'bad,', 'bags.', 'baig', 'bakra', 'bakrid!', 'balloon!', 'bambling', 'band', 'bandages', 'bang', 'bangb.', 'banned', 'bao', 'bar', 'barcelona.', 'bari', 'barred', 'barrel', 'barring', 'bars', \"basket's\", 'basq!ihave', 'bat:)', 'batch!', 'batchlor', 'bathe...', 'bathing...', 'batsman:-)', 'bawling', 'bb.', 'bc', 'bcaz', 'bck.', 'bday', 'be.', 'be...', 'beach', 'bear', 'bears,', 'beatings', 'beauties', 'beautiful,', 'beauty', 'bec', 'becausethey', 'becz', 'bed...', 'bedrm', 'bedrm-$900...', 'beendropping', 'before,', 'before.went', 'before?', 'beg', 'beggar.', 'begging', 'begin', 'begin.', 'begins', 'begun', 'behalf', 'behave', 'behind...', 'bellearlier', 'belligerent', 'belongs', 'belovd', 'ben', 'bend', 'beneficiary', 'benefits', 'benefits.', 'beside', 'best?', 'best?rply', 'betta', 'better..', 'bevies.waz', 'bf...', 'bffs', 'bfore', 'bhayandar', 'bian', 'biatch!', 'bid,', 'big!', 'big,', 'big..|', 'big?', 'bigger', 'bike?', 'billy', 'bimbo', 'bird!', 'birds...', 'birthdate', 'birthday?', 'bishan?', 'bit,', 'bit...', 'bit?', 'bitch', 'bitch.', 'bitch..........', 'bitch?', 'bitching', 'bk', 'black', 'black..and', 'blah...', 'blank', 'blank?', 'blanked', 'blanket', 'blastin..', 'bleak,', 'bless!', 'blessing', 'blessings', 'blessings!', 'block', 'blocked', 'blog.', 'bloke', 'blowing', 'blown', 'bluff', 'blur', 'blur...', 'board', 'boat.', 'body?', 'boggy', 'bold2', 'bone', 'bong', 'boo', 'boobs.', 'book...', 'book?', 'bookedthe', 'booking', 'books', 'books,', 'bookshelf', 'booty...', 'borderline', 'bored!', 'boring.', 'boring?!', 'born', 'born!', 'born,', 'borrow', 'borrow?', 'boss', 'boss?', 'boston,', 'boston.', 'bot', 'bother,', 'bother?', 'bothering', 'bottle.', 'boughtÃ¥Ã\\x93braindanceÃ¥Ã\\x93a', 'boundaries.', 'bowa?', 'bowls', 'box245c2150pm', 'box334sk38ch', 'box403', 'boy-y?', 'boye,', 'boyfriend', 'boytoy?', 'bpo..', 'brah,', 'brains', 'brainy', 'bras', 'brats', 'bread', 'bread,', 'breadstick.', 'break.', 'break:).', 'breakfast', 'breaking', 'breaks', 'breath', 'breather.', 'breathing', 'breeze...', 'bribe', 'bridge', 'brilliant', 'brilliant...1thing.i', 'brilliantly.', 'brison', 'bro', 'broken', 'brothas?', 'brothers', 'brotherÂ\\x89Ã\\x9bÃ·s', 'brought', 'brownie', 'brownies', 'browse', 'browser', 'bruce', 'brum!', 'bruv!', 'bruv,', 'bsnl', 'bt....hmm', 'btwn', 'bucks,', 'bud,', 'buddys.', 'buen', 'buffet...', 'bugis.', 'bugis...', 'built', 'bullshit', 'bunch', 'bundle', 'bunkers', 'buns!', 'burden', 'burger', 'burgundy', 'burning', 'burns', 'burrito,', 'bus!', 'bus..', 'bus8,22,65,61,66,382.', 'bus?', 'buses', 'busetop', 'busy.', 'busy.i', 'but,', 'butt', 'butt.', 'butting', 'buttons', 'buy...', 'buy:)', 'buy?', 'buyer', 'buying...', 'buying?', 'bw', 'by,', 'by?', 'bye.', 'byÃ¥Ã\\x93leafcutter', 'bÃ¥Ã\\x95day,', 'c...', 'cabin', 'cage', 'cake...n', 'cakes.', 'cal;l', 'calculated', 'calculation.', \"cali's\", 'calicut?', 'california', 'california.', 'call,', 'call.drove', 'call.urgent.', 'call09050000327', 'call09050000327.', 'call2optout/F4Q=', 'call2optout/HF8', 'call2optout/J', 'call2optout/LF56', 'call2optout/N9DX', 'call;', 'callback', 'called.', 'calling!', 'calling.Forgot', 'callon', 'cam,', 'camcorder.', 'camera/video', 'camp', 'campus?', 'camry', 'can,', 'can.dont', 'cancelled', 'cancer', 'cannot', 'cannot?', 'cantdo', 'canteen', 'canÂ\\x89Ã\\x9bÃ·t', 'canÃ¥Ã\\x95t', 'capacity', 'capital', 'cappuccino', 'caps.', 'captain', 'captaining', 'car...', 'car..ente', 'car.so', 'card!', 'card.', 'cardiff', 'cardin', 'cards', 'care!', 'care,', 'care.insha', 'careabout', 'caring', 'caring,', 'carlin', 'carlos,', 'carly', 'carolina', 'caroline', 'carpark.', 'carry', 'cars.', 'cartons', 'cartoon', 'case.', 'cash,', 'cashed', 'casing', 'cast', 'casting', 'casualty', 'catches', 'catching', 'categories', 'caught', 'causing', 'cbe.', 'ccna', 'cedar', 'ceiling.', 'celeb!4', 'census.', 'century', 'cereals.', 'chad', 'chain.', 'challenging', 'champ', 'champlaxigating,', 'champneys.', 'change,', 'change.', 'changed.', 'changing', 'channel:-):-):):-).', 'chapel', 'chaps', 'character?', 'charge)', 'charged@150p/msg.2', 'charity.', 'charles', 'charlie', 'charming', 'chart', 'chase', 'chasing', 'chastity', 'chat.\\\\\"\"', 'chat?Im', 'chatter!', 'chatting', 'chatting!', 'chatting.', 'cheap!', 'check,', 'check.', 'check?', 'checkboxes', 'checkup', 'cheery', 'cheese', 'cheesy', 'cheetos', 'chennai.', 'chennai:)i', 'chennai:-)', 'chennai?', 'cheque.', 'cherish', 'cherthala.in', 'chess', 'chex', 'chez', 'chg', 'chgs', 'chic.', 'chick', 'chief,', 'chik.', 'chikku..going', 'chikku..k,', 'chikku..simple', 'chikku..wat', 'chikku:-)', 'chikku:-):-DB-)', 'child', \"child's\", 'chillaxin,', 'chinchillas', 'chinese', 'chinese.', 'chinky', 'choice.', 'choices', 'choose.', 'choosing', 'chores', 'chosen', 'christ', 'christmassy', 'chuck.:-)', 'church', 'cine...', 'cinema,', 'cinema.', 'cinema?', 'city.', 'citylink', 'claimcode', 'claire', 'clash...', 'class,', 'class:-)', 'class?', 'classes', 'classes,', 'clean,', 'cleaning', 'clearer..', 'clearing', 'clearly.', 'cliff', 'clock', 'clock,', 'close?', 'closeby', 'closed', 'closed.', 'closer..', 'closes', 'closingdate04/09/02', 'cloth', 'clothes', 'clothes,', 'clover', 'club!', 'clue,', 'cm', 'cme', 'cme.', 'cmon', 'cnl', 'coach', 'coast...', 'coccooning', 'cock!', 'cocksuckers.', 'coco', 'code:', 'coimbatore.', 'coincidence?', 'coins.', 'colany', 'cold,', 'cold.', 'collages', 'collapsed', 'collected', 'collecting', 'collecting.', 'college?', 'college?xx', 'colourful', 'colours', 'comb', 'come..til', 'comedy..cant', 'comes!', 'comes,', 'comes..', 'comes?', 'comfey;', 'comin...', 'coming.tmorow', 'comingdown', 'comment', 'commercial', 'commercial?', 'commit', 'common', 'community.', 'comp.', 'comp.ofstuff', 'companies', 'compare', 'complain', 'complaining', 'complaint', 'complete.', 'completing..', 'complexities', 'comprehensive', 'computer..', 'computers?', 'comuk.220cm2', 'conacted', 'concentration', 'concern', 'concert', 'concert?', 'condition', 'conditions', 'conditions,', 'conditions?', 'conected.', 'conference', 'confidence', 'confidence,', 'confirm/deny', 'confirmed', 'confirmed?', 'conform', 'conform.', 'confused', 'confused...', 'congrats', 'connected', 'connections', 'connections,', 'consent', 'consider', 'consistently', 'console.', 'constant', 'contains', 'contents', 'continue', 'contract.', 'contribute', 'converted', 'converter', 'conveying', 'convince', 'convincing.', 'convincing..just', 'cook', 'cooked', 'cookies', 'cookies.', 'cooped', 'cooperative', 'copied', 'copies.', 'cops', 'corect', 'cornwall.', 'corrct', 'correction.', 'correction?or', 'corrupt', 'corvettes', 'cosign', 'cost?', 'costs', 'costs,', 'costume.', 'costumes.', 'costÃ¥Â£3.75max', 'couch\\\\\"', 'cough', 'coughing', 'countin', 'counts', 'coupla', 'courage', 'course.', 'course...', 'course:)', 'course?', 'court.', 'cousin', 'coveragd', 'cozy.', 'cr', 'crab', 'crab..', 'crammed', 'cramps', 'crap', 'crashed', 'crashing', 'craving', 'craziest', 'crazy,', 'crazy.', 'crazy..', 'cream...', 'creativity', 'credit!', 'credit?', 'credit\\\\\"\"', 'credited', 'creep', 'creepy', 'cres,ubi', 'cricket', 'crickiting', 'crisis', 'crore', 'crore\\\\\"', 'crossing', 'crowd', 'cruisin', 'crushes..!!!;-)', 'cry.', 'cst', 'cstore', 'ctla', 'cuck', 'cuddle!', 'cuddled', 'cuddling', 'cuddling..', 'cudnt', 'cultures', 'cum?', 'cumming', 'cup', 'cupboard', 'cuppa', 'curious', 'curry', 'curtsey?', 'custom', 'customers', 'customersqueries@netvision.uk.com', 'cut?', 'cute:)', 'cutest', 'cutie.', 'cya...', 'cyclists', 'da..al', 'da..always', 'da..jst', 'da..today', 'da.i', 'da:)do', 'da:)good', 'da:)he', 'da:)how', 'da:)i', 'da:)where', 'da:-)i', 'dabbles', \"dad's\", 'daddy...', 'daily', 'daily:)', 'dancce', 'dancin,', 'dancing', 'dane', 'dang!', 'danger.', 'dangerous', 'dao', 'dark', 'dark.', 'darker', 'darkest', 'darkness,', 'darlin!im', 'darlings!', 'dartboard.', \"dat's\", 'dat..', 'dat?', 'data', 'date.', 'dating:i', 'dating?', 'dats', 'dawns', 'day!2find', 'day,has', 'day..:)\"', 'day..\\\\\"', 'day:)except', 'day\\\\\"', 'days,', 'days...', 'days.he', 'days.so', 'days.will', 'days.Ã\\x8cÂ¬n', 'daywith', 'de.am', 'de:-)', 'de:-).', 'dead', 'dead...', 'dead..\\\\\"', 'deal...Farm', 'deal:-)', 'dealer', \"dealer's\", 'dealing!', 'deals', 'dear,', 'dear..\"', 'dear..i', 'dear.Rakhesh', 'dear?', 'dear?y', 'dearly', 'death', 'dec', 'decades..!', 'decide...', 'decision', 'decision?', 'deck', 'decking?', 'dedicate', 'dedicated', 'deduct', 'deepest', 'deer', 'def', 'defeat', 'definitly', 'degree.', 'degrees.', 'dehydrated.', 'dehydration', 'delTOMORROW', 'dem.', 'den,', 'den...', 'dengra.', 'dent!', 'denying', 'department', 'dependents', 'deposit', 'deposited', 'depressed', 'depressed.', 'depression', 'dept.', 'der..', \"derek's\", 'describe', 'desert.', 'desperate', 'despite', 'destination', 'detail', 'detailed', 'details!', 'details..i', 'details:)', 'device', 'dey.i', 'dhina', 'dial', 'dialling', 'dialogue', 'diamond', 'diamonds.', 'diapers', 'dice,', 'dick', 'dick!', 'dict', 'dictionary.', 'did?', 'diddy', \"didn't.\", 'didnt.', 'didntgive', 'didnÂ\\x89Ã\\x9bÃ·t', 'didnÃ¥Ã\\x95t', 'diet', 'dieting', 'difference..?', 'different.', 'different?', 'difficult..', 'difficult...;-)', 'difficulties', 'difficulties,', 'digi', 'dimension', 'dinero', 'ding', 'dining', 'dinner,', 'dinner.msg', 'dippeditinaDEW,', 'directly.', 'director', 'directors.', 'dirt,', 'dirtiest', 'dirty', 'dis,', 'disagreeable', 'disaster', 'disastrous', 'disc', 'disconnected', 'disk...you', 'dismissial', 'distract', 'divert', 'division,', 'divorce.', 'dled', 'do..', 'do.Interested?', 'dob', 'doc', 'dock,', 'doctor?', 'documents', 'dodda', 'dodgey', 'does,', \"doesn\\\\'t\", 'doesnÂ\\x89Ã\\x9bÃ·t', 'dog.', 'dogg', 'doggin', 'dogs', 'doing!', 'doke.', 'dokey,', 'dollars.', 'domain', \"don't,\", 'don,t', 'donate', 'done!', 'done...', 'donno', 'dont....', 'donyt', 'door:)', 'door?', 'doors', 'dorm.', 'dose', 'dosomething', 'dot', 'doubles', 'doubt', 'doug', 'down:)', 'download,', 'downstem', 'dr.', \"dramastorm's\", 'dramatic.', 'draw.....Please', 'dreading', 'dream.', 'dream.love', 'dreams,', 'dreams.', 'dreams...', 'dressed', 'dresser', 'drink,', 'drink.pa', 'drinkin,', 'driver!', 'drivin', 'driving,', 'driving...', 'drms.take', 'drop.', 'drops', 'drove', 'drug.', 'drugdealer', 'drugs!', 'drum', 'drunk', 'drunkard!', 'drunken', 'drvgsTo', 'dryer', 'dual', 'dub', 'ducking', 'dude!', 'dude,', 'dude.', 'duffer', 'dull', 'dumb', 'dump', 'dungerees', 'duo', 'durban', 'durban:)', 'durham', 'dusk', 'dust?', 'duvet', 'dwn', 'dysentry', 'e-threats.', 'e.g', 'e.g.23G.', 'ear', 'earlier-we', 'earlier.', 'earlier...', 'earliest', 'early.', 'early?', 'earn', 'earning', 'ears', 'earth&sofa', 'easier.', 'easiest', 'east', 'easter.', 'eaten?', 'eatin,', 'eating.', 'eating?', 'ecstacy.', 'edge.', 'edrunk', 'edukkukayee', 'edward', 'edwards', 'ee', 'eerulli', 'effect', 'effect...', 'effects', 'efficient...', 'efreefone', 'egg', 'egg-potato', 'egg.', 'eggs', 'eggs,', 'eh?', 'eight', 'eight,', 'eight.', 'eighth', 'eightish', 'ela', 'elaborate', 'elaborating', 'elama', 'elaya.', 'eldest', 'elections', 'electricity', 'elephant', 'elliot', 'else,', 'else...', 'else....', 'elsewhere', 'elsewhere.', 'email:)', 'email?', 'emailed', 'embarassed', 'embarassed,', 'embassy', 'emigrated', 'employee', \"employer's\", 'en', 'end,', 'ended.', 'ending,', 'endless', 'endowed.', 'ends.', 'enemies', 'enemy', 'enemy..', 'energy..', 'engaged', 'engagement', 'engalnd!', 'engin?', 'england?', 'english', 'enjoyed', 'enjoying', 'enketa', 'enough,', 'entertaining', 'entey', 'entirely', 'entropication....', 'enuff', 'enuff...', 'envy', 'epi,', 'equally', 'ericson', 'erotic', 'error', 'error.', 'errors', 'ertini', 'eruku.', 'esaplanade', 'escalator...', 'escape.', 'ese', 'especially.', 'esplanade..', 'esplanade?', 'essay', 'establish', 'eta.', 'etc.?', 'ethnicity', 'ettans', 'europe?', 'evaluation', 'evaporated', 'eve.', 'eveB-)', 'eveB-).', 'evening.', 'evening...', 'event', 'event?', 'eventually', 'ever!!', 'ever,', 'everyboy', 'everyone...', 'everyones', 'everyso', 'everything!', 'everything\\\\\".', 'everywhere', 'everywhere...', 'evil', 'evo.', 'ex...', 'ex?', 'exam,', 'exams', 'exams,', 'excellent', 'exchanged', 'excited', 'excused.', 'excuses', 'excuses)', 'exe', 'executive', 'exhausted.', 'exhibition...', 'exist,', 'exmpel:', 'expects', 'expensive.', 'experience', 'experiencehttp://www.vouch4me.com/etlp/dining.asp', 'experiment.', 'expired', 'expired..so', 'explicit', 'explicitly', 'exposed', 'express', 'expression?', 'ext.', 'exterminator', 'extra,', 'extract', 'ey?', 'eyes.', 'eyes...', 'eÃ¥Â£nd', 'fab', 'faber', 'face!', 'face...............asssssholeeee................', 'facebook,', 'facilities', 'fact,', 'fact.', 'fact:', 'factory', 'facts', 'faded', 'faglord', 'failed.', 'failing', 'failure', 'fainting', 'fair', 'fair.', 'faith,Evening', 'fake', 'fal', 'falconerf', 'falls.', 'fals', 'famamus....', 'familiar', 'family..', 'family...may', 'famous', 'fancied', 'fans', 'fantasies.', 'fantasy', 'far!', 'far.', 'farting', 'fassyole!', 'fast.', 'fast.pls', 'fastest', 'fat!', 'fat...', 'fated', 'fathima.', 'fault', 'fault&al', 'fault&fed', 'fault.', 'fav', 'favour', 'favour.', 'favourite.', 'fb.', 'fear', 'feathery', 'feed.', 'feel..', 'feelin', 'feeling..', 'feeling.wavering', 'feet,', 'fellow?', 'feng', 'festival', 'fetch?', 'fetching', 'fever,', 'fever:)', 'few\\\\\"', 'fgkslpo', 'fgkslpoPW', 'fidalfication?', 'field', 'field.', 'fighting', 'fighting?', 'fights.', 'figures,', 'figures...', 'figuring', 'film:)', 'film?', 'films', 'films.', 'filthy', 'filthyguys.', 'finalise', 'finance', 'finance.', 'financial', 'finding', 'fine!', 'fine!\\\\\"', 'fine.,', 'fine..', 'fine.Inshah', 'fine:)', 'fine:)when', 'finishd..', \"finn's\", 'fire', 'fire.', 'fired?', 'firefox.', 'fireplace.', 'fires.Are', 'firmware', 'firsg', 'first,', 'first..', 'first...', 'fish', 'fishrman', 'fit', 'five.', 'fixd', 'fixed.', 'fixes', 'flash', 'flash.', 'flat,', 'flatter', 'flavour', 'flea', 'flew', 'flies', 'flies,', 'flight', 'flight!', 'flim.', 'flippin', 'floating', 'floor?', 'floppy...', 'florida', 'flower', 'flower...', 'flowers', 'flowing', 'fluids', 'flurries', 'flute', \"fly..i'm\", 'flying', 'flyng', 'fold', 'follow', 'followin', 'follows,', 'fone...', 'fones,', 'food,', 'food...', 'fool', 'fooled', 'footie', 'footprints?', 'footy', 'for!', 'foregate', 'forever!!!', 'forever,', 'forever....', 'forevr', 'forfeit...', 'forgets', 'forgive', 'forgiven!', 'forgot..', 'forgt', 'form:)clark', 'formal...', 'formally.Pls', 'format', 'forms', 'forth', 'forums', 'forums.', 'forwarding', 'forÃ¥Â£38', 'four,', 'fourth', 'foward', 'fowler', 'fox', 'fraction', 'frank...good', 'freaked?', 'freaking', 'freaky', 'free-send', 'free..', 'free...', 'freefone', 'freek', 'freely,', \"fren's\", 'french', 'fret.', 'fri!', 'fri.', 'friday.hope', 'fried', \"friend's\", 'friend,', 'friend-of-a-friend', 'friendship..', 'friendship:', 'friendship:-)', 'friendships', 'fring', 'frnd,', 'frnd:', 'frndZ', 'frndshp', 'frndsship', 'frog', 'front', 'frontierville?', 'frosty', 'frwd', 'frying', 'fucked', 'fuckin', 'fuelled', 'fujitsu', 'fulfil', 'full..', 'fumbling!', 'fun!', 'fun...', 'fun?', 'function', 'fund', 'fundamentals', 'funeral', 'funky', 'funny...', 'funs', 'furniture', 'g696ga', 'g?', 'ga.', 'gained', 'gal-can', 'gal-no,', 'gal...', 'galileo', 'gals..', 'gals...U', 'game,', 'ganesh', 'gang', 'garbage', 'gari', 'garments', 'gate?', 'gautham?', 'gay.', 'gayle.', 'gays', 'gaytextbuddy.com.', 'gd&the', 'gd,', 'gd,now', 'gd.', 'gd?', 'gek1510...', 'genes', 'genus', 'gep', 'ger', 'get!', 'get4an18th.', 'get?', 'geting', 'gettin.', 'getting?', 'gf', 'gf?', 'gift?', 'gifted', 'giggle', 'gigolo?', 'girl.', 'girlie', 'gist', 'giv', 'give.', 'given', 'gives.', 'glad,', 'glad.', 'glands', 'glasgow!', 'glass', 'glo', 'global', 'glory,', 'gloucesterroad', 'go..a', 'go2sri', 'goals', 'goals/team', 'god!', 'god..', 'god.not', 'goggles', 'goigng', 'goin,', 'goin...', 'goin2bed', 'goin?', 'going.', 'gold', 'goldviking', 'gon', 'gong.', 'gooD', 'good...fine', 'good...no', 'good.environment', 'good:)dhanush', 'good:)when', 'goodies!', 'goodnight', 'gorgeous', 'gorgeous!', 'gossip', 'got.', 'got...', 'gotany', 'gotto', 'goverment', 'gpu', 'gr8prizes', 'grab', 'graduated', 'grandfather', 'grandma', 'grandmas.', 'granted', 'grasp', 'gravy.', 'gre', 'great,', 'great.bye', 'greatest', 'greatly', 'greatness.', 'green', 'green,', 'greeting..', 'grief', 'grinule', 'grocers.', 'grooved', 'groovy.', 'groovying', 'ground.amla', 'grow.', 'growing', 'grown', 'grownup', 'grr', 'grumble', 'gua...', 'guaranteed!', 'gucci', 'gud..', 'gud..k,', 'guess,', 'guessed', 'guesses', 'guessing', 'guidance.', 'guilty', 'guitar', 'guoyang', 'gut', 'gving', 'gym!!!', 'gym.', 'gymnastics', 'gynae', 'habba..hw', 'habit..', 'had.', 'had..ya', 'haf...', 'haha...', 'hai...', 'hai..........', 'hail', 'hair...', 'half-8th', 'hall', 'ham', 'hamper!!!', 'hamster', 'hand,', 'hand..', 'hand:)', 'hand?', 'hands', 'hands..', 'hands...', 'handset', 'handset?', 'handsome', 'handsomes', 'hang', 'hanger', 'hangin', 'hanks', 'hannaford', 'happened..!', 'happenin', 'happening,', 'happening?', 'happiness..', 'happy!', 'happy,', 'happy...', 'hard!', 'hard...', 'hard?', 'hardcore', 'harder', 'hardly', 'harlem.', 'harri', 'has,', \"hasn't\", 'hasnt', 'hassling', 'have?', 'haven', 'hdd', 'he!', 'he.', 'he...', 'headache', 'headin', 'headstart', 'heal', 'healthy.', 'heap.', 'heart-', 'heart....gn', 'hearted', 'hearts,not', 'heater', 'heater?', 'heaven', 'heavy...', 'heavy?', 'hectic', 'hee', 'hee.', 'held', 'held?', 'helen', 'helens', 'hell,', 'hello-ed', 'help!', 'help,', 'help:)', 'help:08700469649.', 'help:08712400602450p', 'help?', 'helpful', 'helping.', 'helps', 'hen', 'her,who', 'her...', 'her.my', 'her.she', 'her.will', 'here!', 'here,remember', 'here....', 'here.pls', 'here.thanks,i', 'here:)', 'heron', 'herself', 'hesitation', 'hey,', 'heÃ¥Ã\\x95s', 'hi.', 'hidden', 'hide', 'hides', 'high.', 'highest', 'hilarious-also', 'hill', 'hills', 'him,', 'him..', 'him:', 'him:)then', 'himso', 'his/her', 'hits', 'hittng', 'hiya', 'hlday', 'hme', 'hmmm', 'ho!', 'hockey', 'hogidhe..chinnu', 'hol', 'holder', 'hole,', 'holiday!', 'holiday.', 'holiday..so', 'holla?', 'holy', 'home!But', 'home..', 'home.check', 'home.left', 'home.wot', 'honesty', 'honey.', 'honeymoon', 'hoo', 'hooch', 'hoops', 'hope,afternoon', 'hope?', 'hoped', 'hopeful...', 'hopefully', 'hopefully,', 'hopeing', 'hopes', 'horny,', 'horse', 'hos', 'hospitals', 'hostel', 'hostile', 'hot.', 'hotel...', 'hourish?', 'house,', 'houseful', 'housewives!', 'housework', \"how're\", \"how've\", 'howard', 'hppnss,', 'html', 'http//tms.', 'http//www.gr8prizes.com', 'http://alto18.co.uk/wave/wave.asp?o=44345', 'http://gotbabes.co.uk.', 'http://img.', 'http://tms.', 'http://www.e-tlp.co.uk/reward.', 'http://www.urawinner.com', 'http://www.wtlp.co.uk/text.', \"hubby's\", 'hudgi', 'hug..', 'hug?...', 'huge', 'hugh', 'huh,', 'hum', 'humans', 'hun-onbus', 'hundred.he', 'hundreds', 'hungover!', 'hunks', 'hunny', 'hunt', 'hurt,', 'hurt..', 'hurt...:-)', 'hurting', 'hurts.', 'husband.', 'hussey', 'hustle', 'hut?', 'hw', 'hyde', 'hypertension', 'hypotheticalhuagauahahuagahyuhagga', 'i,m', 'i.e.', 'iPOD', 'iZ', 'ic', 'ic.', 'ice.', 'icky', 'icon', 'id,', 'idc', 'ideal', 'ideas.', 'ideas?', 'identification,', 'idiot?', 'idk', 'idu', 'iff', 'ignoring', 'ikea', 'ill!', 'ill?', 'image', 'imagination..My', 'imp', 'imp.', 'implications.', 'important.', 'importantly,', 'imposed', 'impossible.', 'impress', 'impressed.', 'impressively,', 'improved', 'in!!', 'in...', 'in:', 'inch', 'inches...', 'incident.', 'incident..', 'include', 'includes', 'incomm', 'inconvenient', 'increase', 'inde', 'indeed', 'independently', 'india', 'india.', 'indicate', 'individual', 'individual.time', 'infections', 'infections.', 'influx', 'info:', 'info@ringtoneking.co.uk', 'info@txt82228.co.uk', 'info@vipclub4u.', 'inform', 'information,', 'information.', 'infra', 'ing', 'inlude', 'inmind', 'innocent', 'inperialmusic', 'inpersonation', 'insects', 'inshah', 'inspection', 'inst', 'install', 'installation', 'installing', 'intelligent', 'intelligent,', 'intend', 'intentions', 'interest', 'interesting', 'interesting.', 'interesting..:)', 'interfued', 'internal', 'internet.', 'internet/service', 'interview?', 'intha', 'intrepid', 'intrude', 'invention', 'invest', 'invited?', 'involve', 'involved', 'iouri,', 'ip', 'ipad.', 'ipaditan;)', 'ipads', 'iphone', 'irene.ere', 'ironing', 'irritating', 'irritating.', 'irritation.', 'is!', 'is/are', 'is:', 'iscoming', 'ish', 'ish!', 'ishtamayoo?happy', 'isnÂ\\x89Ã\\x9bÂªt', 'isnÃ¥Ã\\x95t', 'issues..', 'it)', 'it*', 'it..just', 'it..let', 'it.i', 'it.or', 'it:)', 'itcould', 'itried2tell', 'itself!', 'itwhichturnedinto', 'itÃ¥Ã\\x95s', 'ivatte', 'izzit?', 'iÂ\\x89Ã\\x9bÂªm', 'iÂ\\x89Ã\\x9bÃ·ll', 'iÂ\\x89Ã\\x9bÃ·m', 'j!', 'jabo', 'jack', 'jacket', 'jackson', 'jacuzzi', 'jaklin', 'jam,', 'james', 'janarige', 'jane.', 'january', 'jap', 'jason', 'jaya', 'jaykwon', 'je', 'jeans', 'jeetey', 'jelly', 'jenny', 'jess', 'jesus.', 'jetton', 'jewelry,', 'ji', 'jiayin.', 'jide', 'job..', 'job?', 'jocks', 'jod', 'jog.', 'jogging,', 'jogging...', 'johnÃ¥Ã\\x93-sounds', 'join...', 'joined.Hope', 'joke', \"joke's\", 'joke--thet', 'joke.', 'jokes...', 'joking.,', 'jolt', 'jontin', 'jot', 'joy\\\\\"..', 'joys', 'js', 'juan.', 'jules', 'juliana.', 'jump', 'june.', 'jurong', 'justbeen', 'justify', \"k...i'm\", 'k.good', 'k.i', 'k.its', 'k.k..where', 'k.wish', 'k:)', 'k:)after', 'k?', 'kaila', 'kalaachutaarama..!!', 'kalisidare', 'kalstiya..then', 'kama', 'kane', 'kanji', 'kano', 'kano.,il', 'kano..whr', 'kano:-)', 'kano;-)', 'kappa', 'karnan', 'karo', 'kaypoh..', 'keen', 'keep.', 'keeps', 'keluviri...!', 'kerala', 'keypad.', 'keys', 'keys?', 'kfc', 'ki', 'kickboxing', 'kicks', 'kid.', 'kid..', 'kidding', 'kidding,', 'kids?', 'kill', 'killing', 'kills', 'kilos', 'kind.', 'kindly', 'kip', 'kisi', 'kisses', 'kisses*', 'kissing!', 'kittum', 'kitty', 'knackered', 'knackered.', \"knee's*\", 'knees', 'knew,', 'knocking', 'know,yetunde', 'know..he', 'know..wait', 'know:)this', 'known', 'ko', 'kochi.', 'kodstini', 'kodthini!', 'konw', 'korean', 'kotees', 'ktv', 'kuch', 'kvb', 'kz', \"l'm\", 'l8', 'l8r', 'l8r.', 'la,', 'la.', 'labor.', 'lac', 'lacking', 'laden.', 'ladies.', 'ladies?U', 'lady.', 'lag', 'lag.', 'lager.', 'laid?want', 'lakhs:)', 'lambda', 'lambu', 'landing', 'landlines!', 'landmark,', 'lane', 'langport?', 'language', 'language.', 'lanka?', 'lapdancer.', 'laptop...', 'lark.', 'lasagna', 'lastest', 'lasting', 'late!', 'late,i', 'late:)but', 'late?\\\\\"\"', 'lately', 'latelyxxx', 'later...', 'latest,', 'latr', 'laugh!', 'laugh,', 'laughing', 'laundry', 'laundry,', 'laurie', 'lavender?', 'law,', 'laxinorficated', 'laying', 'lazy...', 'le..u', 'lead', 'learned', 'least,', 'least...Which', 'leave.', 'leave...', 'leave?', 'lect.', 'lecture,', 'lecturer', 'left.', 'leftovers', 'leg', 'legal', 'legal!', 'legal.', 'legitimat', 'leh,', 'leh...Haha', 'lei', 'lei..', 'lei?', 'lengths', \"leona's\", 'leonardo', 'less.', 'lesser', 'lesson,', 'lesson...', 'lessons..', 'lessons...', 'lessons?', 'letter.', 'level', 'li', 'liao..', 'liao...So', 'lib', 'lib.', 'library?', 'lido', 'lido.', 'life!', 'life!?This', 'life.and', 'life:', 'life:):)', 'life?\\\\\"', 'lifebook', 'lifeis', 'lifetime', 'lifetime!', 'lift...', 'lifted', 'lifting', 'lighters', 'lightly,', 'like!', 'likes', 'lim', 'limit.', 'limits', 'line--you', 'line:', 'lined', 'linerental,', 'lingerie', 'lingo.', 'links', 'linux', 'lion', 'lip', 'lipo.', 'lips', 'liquor?', 'listener', 'listening', 'listening2the', 'lit', 'live..', 'live:)', 'liver.', 'lmao', 'loan.', 'loan?', 'loans', 'lobby', 'local.', 'lock', 'lodge', 'lodging', 'logged', 'logging', 'logo&pic', 'logo/pic', 'logoff', 'logos', 'loko', 'londn', 'london', 'loneliness', 'lonely,', 'long!', 'lonlines', 'loo', 'look.', 'looovvve', 'lor,goin', 'lor...We', 'losers', 'lost,', 'lost.', 'lot.', 'lot..', 'lot..i', 'lot..will', 'lot.will', 'lots.', 'lotsly!', 'lotta', 'lotto', 'lotz', 'loud..', 'lousy,', 'love!!', 'love.rakhesh', 'love:', 'lovely,', 'lover!', 'loverboy!', 'loverboy.', 'lovers', 'lovers...', 'lovin...', 'loving,', 'lovingly', 'lovly..', 'low', 'lowes.', 'loxahatchee', 'loyal', 'lst', 'lt...', 'luck.', 'luck.2', 'lucky.', 'lucky;)', 'lucozade.co.uk/wrc', 'luks', 'lunch...', 'lunch:)', 'lunch?', 'lunsford', 'lush!', 'luv,Night', 'luvd:*', 'lying.', 'lyk', 'lyricalladie(21/F)', 'lyrics..', 'm)', 'm...', 'm100', 'mac', 'machan.', 'machi?any', 'machines', 'macho', 'mack', 'macs', 'mad', 'mad.\"', 'mad.then', 'madam', 'madam.', 'madodu,', 'madstini', 'maga', 'maga..', 'maga?', 'magazine,', 'maggi', 'mah,', 'mah..', 'mahal', 'mail.i', 'mailed', 'mails.', 'major', 'makiing', 'male', 'mall', 'mall?', 'man!', 'man...', 'manageable', 'managed.', 'mandara', 'manege', 'mango', 'maniac?', 'manky', 'manual', 'maps', 'maraikara', 'marandratha.', 'mark', 'market', 'marketing', 'marriage', 'married.', 'mary', 'masked', 'massage....tie-pos', 'masteriastering', 'masters', 'masters.', 'match?', 'matches.', 'mate!', 'mate!!', 'mate,', 'mate...', 'matra', 'matric', 'matter.', 'matter..msg', 'matters', 'maturity', 'max.', 'max6/month', 'maximum', 'maxÃ¥Â£7.', 'may.', 'mayb?', 'mb.', 'mb...', 'mc?', 'mca.', 'mcat', 'mcat.', 'me!', 'me)', \"me..!''\", 'me...\"', 'me..i', 'me.I', 'me.she', 'me:', \"me:)i'm\", \"me?'\", 'me?Are', \"me?Don't\", 'me?like', 'meal.', 'meals', 'mean,', 'meaning...', 'meaning:::::', 'meaningless', 'means;', 'meant.', 'measure.', 'meatballs', 'med.', 'mee..', 'meet,itz', 'meet?', 'meeting,', 'meeting.', 'meeting?', 'mega', 'meh', 'meh.', 'meh?', \"mei's\", 'mei,', 'meive', 'mel', 'members', 'membership.take', 'memorable.', 'memories!', 'mens', 'mental:)', 'mention', 'mentioned.tomorrow', 'mentionned', 'mentor', 'merely', 'merry', 'mesages', 'message..', 'message.it', 'message.pandy', 'messages,', 'messages..im', 'messenger', 'messenger.', 'messy', 'messy...', 'met.', 'method', 'mgs', 'mi', 'mia', 'midnight', 'mids', 'miiiiiiissssssssss', 'miles', 'miles.', 'milk', 'millers', 'million', 'milta,Zindgi', 'min..', 'min..stand', 'minAPN', 'mina?', 'mind...', 'minded', 'mindset.believe', 'mine&all', \"mine's\", 'mine.', 'minecraft', 'minimum', 'minor', 'mins!', 'mins&100txt/mth', 'mins,', 'mins.', 'mins/texts.', 'mint!', 'minus', 'minute!', 'minutes,', 'minuts', 'mirror', 'miserable', 'misfits', 'mising', 'misscall', 'missing,', 'missionary', 'missions', 'misss', 'missunderstding', 'mist,', 'mistake.', 'mistakes', 'mistakes?', 'misundrstud', 'mitsake..', 'mjzgroup.', 'mo,', 'mo.', 'moan?', 'mob?', 'mobile.', 'mobiles.', 'mobs', 'moby.', 'model.', 'model..sony', 'modl', 'module', 'moji', 'mokka', 'molested&someone', 'moment,', 'moment.', 'moms', 'monday...', 'monday..nxt', 'mone,eppolum', 'moneY...as', 'money!!!', 'money,', 'money...', 'money.i', 'monkey', 'monos', 'month.not', 'months.', 'months?', 'mood', 'mood.', 'more,', 'more.', 'more?', 'morning..', 'morning.:', 'morphine.', 'moseley', 'motherfucker', 'motivating', 'motor', 'mountain', 'mouth', 'mouth,', 'move,', 'move.', 'moved,', 'movie,', 'movie...', 'movie..wat', 'movies.', 'moving', 'mre', 'mrng!', 'mrng\"', \"mrng''\", 'mrng.', 'mrng:-)\"', 'ms', 'msg+ticket@kiosk.Valid', 'msg...', 'msg..sometext', 'msg/subscription.', 'msg?', 'msg@Ã¥Â£1.50rcvd', 'msging', 'msgs@150p', 'msn.', 'msn...', 'mt', 'mth', 'mtnl', 'much!', 'much...', 'much.i', 'much:)', 'much\\\\\"', 'muchand', 'mudyadhu.', 'mumHas', 'mumbai.', \"mummy's\", 'murali', 'mus', 'mush!', 'musical', 'must.', 'musthu', 'mustprovide', 'mutai', 'mw', 'my-tone.com/enjoy.', 'mylife.', 'myparents', 'mys', 'myself.', 'n8', 'naal', 'nachos.', 'nagar', 'naked.', 'nalla', 'nalli', 'name,', 'name..', 'name...', 'name.my', 'name?', 'nammanna', 'nange', 'nannys', 'nap..', 'narcotics', 'naseeb', 'nattil', 'natural', 'natural?', 'nature', 'natwest.', 'naughty...', 'nauseous.', 'nav', 'navigate', 'nb.', 'nb...', 'nearer...', 'necessarily', 'neck', 'need...', 'need....|', 'needa', 'needed', 'needed!', 'needed.Salary', 'needing', 'needle', 'needy', 'negative', 'neglect', 'neglet.', 'neighbor', 'neighbors', 'neither', 'nervous', 'netflix', 'networks', 'nevr', 'newest', 'news.', 'news...Hype', 'news.By', 'news:', 'newscaster', 'newspapers', 'next.', 'next:-)..', 'ni8.swt', 'nice!', 'nice:)', 'nichols', 'nicky', 'nig', 'nigeria.', 'night!', 'night\"', 'night...', 'night.nobody', 'night:-)', 'nighters.', 'nights', 'nights,', 'nights.', 'nights...Excellent', 'nigpun?', 'nigro', 'ninish,', 'nipost', 'nit', 'nit.', 'nite!', 'nite...', 'nitro', 'nitz...', 'njan', 'no!', \"no's..\", 'no..', 'no...', 'no:)this', 'no?!listened2the', \"nobody's\", 'noisy.', 'nokias', 'noncomittal', 'nonetheless.', 'noon..', 'nor', 'nora', 'north', 'nos', 'nose', 'nosh', 'nosy', 'notes', 'nothin', 'nothing.', 'notice.', 'notifications,', 'notified', 'notixiquating', 'noun', 'novelty', 'now!SKY', 'now!SavaMob-member', 'now!Send', 'now!T&Cs', 'now!nyt.', 'now!still', 'now..', 'now.onion', 'now?can', 'nowadays:)lot', 'nte.:-', 'nudist', 'nuerologist.', 'numbers,', 'numbers.', 'nursery!', 'nurses', 'nus', 'nusstu...', 'nvm,', 'nxt?', 'nyc', 'nyc!', 'nyc,', 'nyt\"', 'nz', 'nÃ\\x8cÃ\\x82te?', 'o2.co.uk/games', 'oath', 'obedient,', 'obese.', 'obey', 'objection.', 'oblisingately', 'oblivious', 'occasion', 'occupied,', 'occupy', 'occur', 'occurs', 'october.', 'odalebeku:', 'odi', 'of,', 'of.', 'off,', 'off:)', 'off?', 'offc', 'offcampus', 'offense', 'offer:)', 'offering', 'offers.', 'office..understand?', 'office:)whats', 'office?', 'officially', 'ofice', 'ofice...got', 'often,', 'oga.', 'ogunrinde,', 'oh!', 'oh...', 'ok..', 'ok.varunnathu', 'ok:-)', 'okay', 'okay!', 'okay...', 'okay?', 'okday?!', 'okie', 'okmail:', 'ola?', 'olage', 'olave', \"olayiwola's\", 'old.', 'ollu.but', 'on..', 'on:)it', 'once?', 'ondu', \"one's?\", 'one,ta.', 'one?', 'ones..', 'oni...', 'online!', 'online?', 'onluy', 'only..', 'only...', 'only..bettr', 'only.don', 'only:-)..', 'only?', 'onwards...', 'onwords', 'open.', 'opened', 'opener?', 'openin', 'opening', 'openings', 'operate', 'operator.', 'opinions', 'opportunity.all', 'opportunity.pls', 'opposite', 'opps,', 'opted', 'optimistic', 'option', 'or2optout/HV9D', 'oral.', 'orc', 'orchard.', 'order,', 'oredi..', 'oreo', 'orig', 'orno', 'ors', 'ortxt', 'oru', 'oso.', 'oso?', 'other.', 'ou', 'ouch', 'ours:)so', 'out..', 'out...', 'outbid', 'outfit.', 'outfor', 'outrageous.', 'outsider', 'outstanding', 'over..', 'overa', 'overdid', 'overheating', 'overtime', 'ow', 'owe', 'owed', 'owl', \"own--you've\", 'owned', 'oyster...', 'oz', \"pa'\", 'pa,', 'pa..', 'pa?', 'paces,', 'pack.also', 'package', 'packing', 'packs', 'padhe.g.m.\\\\\"\"', 'page.', 'page...', 'pages?', 'pain.it', 'pain?hope', 'painful', 'painting', 'painting?', 'palm,', 'panalam...but', 'panic', 'panicks', 'panties?', 'papa', 'paper?', 'paperwork', 'paperwork.', 'parade', 'paragon,', 'paragon...', 'paragraphs?', 'parent.', 'parent...not', 'parents.:)i', 'parish', 'park...', 'park.6ph', 'part.', 'part..', 'particular', 'parties...', 'partner?', 'partnership', 'parts?', 'party:-)', 'pases', 'passable.', 'passes', 'passion', 'passionate', 'passport', 'pataistha', 'patent.', 'patients', 'pay.', 'pay?', 'payasam', 'payback.', 'payed.', 'paying,', 'payment', 'payment.', 'paypal.', 'peaceful', 'pears', 'pee', 'peeps', 'pehle', 'pei', 'pending.', 'pending.i', 'penis', 'penis.', 'people!\\\\\"', 'people,', 'peoples', 'percent', 'percentages.', 'perf?', 'perfect!', 'perform,', 'performance', 'performed?', 'perfume,', 'period..', 'permanent', 'permission.', 'perpetual', 'persevered', 'person!', 'person,', 'person.Meet', 'person2die', 'person;', 'personally', 'perspective', 'perumbavoor', 'pesky', 'ph:08700435505150p', 'ph?', 'phasing', 'phd,', 'philosophical', 'philosophy', \"phone's\", 'phone...', 'phone:)', 'phonebook', 'phones.', 'photos.', 'phrase', 'pic.', 'pic?', 'pick.', 'pickle', 'pics,', 'pictures', 'pictures,', 'pie!', 'pie.', 'piece', 'pierre', 'pilates', 'pilates...', 'pile', 'pillows', 'pimples', 'pimples..even', 'pin', 'pin?', 'pink', 'pints', 'pisces.', 'piss', 'pix', 'pix?', 'pizza.', 'places.', 'plaid', 'plan.', 'planet', 'planet.I', 'planned,', 'plans?', 'plate.', 'play,', 'play?', 'player.', 'player.why', 'please....', 'please?!', 'pleasure', 'pleasure!', 'pleasure...', 'pleasured', 'ploughing', 'pls.', 'pls:-)', 'plum', 'plumbers', 'plumbing,remixed', 'plz.', 'pm)', 'pm.', 'pocay', 'pockets:)', 'pocy', 'poem:', 'poet', 'point!', 'point,', 'point?', 'poker,', 'pole', 'pole.', 'police', 'poly/true/Pix/Ringtones/Games', 'polyH', 'polyPH', 'polys:', 'pongal.', 'pongal?', 'ponnungale', 'pookie', 'poorly', 'poortiyagi', 'pop', 'pop.', 'pop?', 'popcorn', 'porn!', 'portal.', 'portege', 'posh', 'posible', 'position.', 'positions', 'positive', 'possession', 'possession,', 'possibility', 'possibly', 'post,erode', 'postal', 'posts..', 'pouch', 'pouch?', 'powerful', 'pple...', 'pple...$700', 'ppm', 'ppt150x3+normal', 'pract', 'practical.', 'practice', 'practicum', 'practising', 'praises', 'praps', 'prasad.', 'prayers', 'praying.will', 'pre', 'pre-book', 'predict', 'prediction.', 'predictive', 'prefer...', 'prem', 'premium', 'prepared', 'prepared.', 'prepayment.', 'prescripiton', 'prescription', 'prescription.', 'present.', 'present...', 'presents.', 'pressies', 'pressure', 'prestige', 'pretend', 'pretsorginta,', 'pretsovru', 'pretty.', 'prevent', 'previews.', 'price.', 'pride.', 'priest', 'prin', 'prince', 'prince..GN:-)', 'princes', 'print', 'prior', \"priscilla's\", 'privacy', 'prix?', 'priya', 'prize.To', 'prizesWith..', 'prob.', 'problem!', 'problem,', 'problem-free', 'problem..but', 'problem.i', 'problem:-)', 'problem?', 'problems.', 'problems?', 'problum', 'process', 'process.', 'process.Excellent', 'process.networking', 'process:)its', 'processed', 'processed...', 'prods', 'products', 'professional', 'profile', 'profiles?', 'profit.', 'program.', 'programs', 'progress.', 'projects.', 'prolly', 'prometazine', 'prone', 'proove', 'proper', 'prospects.', 'protect', 'provided', 'provider', 'province', 'proze', 'prsn', 'pthis', 'pub!', 'pub/cafe', 'pub?', 'pub??', 'pubs', 'pudunga', 'pulling', 'pulls', 'punch', 'punish', 'punishment', 'punto.', 'pura', 'purchases', 'pure', 'push', 'pushes', 'puts', 'puttin', 'puzzeles.', 'puzzles', 'qbank', 'qet...', 'quality.', 'quarter,', 'queen.', 'question:', 'quiet', 'quiet.', 'quiz', 'quiz,', 'quizzes', 'racing', 'radio', 'raed', 'rael', 'raglan', 'rahul', 'raiden', 'railway', 'rain,', 'raining', 'raining?', 'raised', 'rajas', 'rakhesh', 'raksha', 'ralphs', 'random.', 'randomlly', 'randomly', 'rang', 'range', 'range.', 'ratio', 'rawring', 'rcb.battle', 'rcd', 'rcv', 'rd.', 'rdy', 're-met', 're-send.', 're-sub', 'reLation', 'reach?', 'reache', 'reaching', 'reaching...', 'reacting', 'reaction', 'read.', 'read...', 'readers!', 'ready,', 'ready.all', 'real.', 'realising', 'reality', 'realizes', 'really,', 'really?', 'really??', 'reapply?', 'rearrange', 'reason..', 'reboot', 'rebtel', 'recd.', 'recd@thirtyeight', 'receiptsÂ\\x89Ã\\x9bÃ\\x93well', 'receive..', 'receivea', 'receiving', 'reception', 'recharged', 'reckon', 'recognises', 'record', 'record:)', 'recorded', 'records.', 'recount', 'recovery', 'recovery,', 'recreation', 'recycling:', 'red', 'redeemable', 'ree', 'ref', 'referin', 'reflex', 'refreshed', 'refund', 'refunded.This', 'regard', 'register', 'register.', 'registration', 'regret', 'related', 'relation', 'relation..', 'relationship.....its', 'relatives', 'relieved', 'religiously.', 'reltnship..!!', 'remb...', 'reminded', 'reminder', 'reminding', 'remove.', 'renewal.', 'renewed', 'renewing', 'rent,', 'rent.', 'rents?\"', 'repair', 'repairs', 'repeat', 'repeat,', 'repeating', 'repent', 'replacement', 'replacement.', 'replied:', 'replies', 'reply.Be', 'report.', 'republic', 'request.', 'requests', 'requests.', 'require', 'required:)', 'requirements', 'requires', 'research?', 'resent', 'reservations.', 'reserved', 'reserves', 'reset', 'residency', 'resizing', 'reslove.', 'resolution.', 'responding', 'responsibilities.', 'responsible', 'rest,Wish', 'rest:-).', 'rest?', 'restaurant..', 'restock', 'restocked', 'restrictions,', 'result.', 'resume', 'resuming.', 'retard', 'retrieve', 'returned', 'returning', 'reunion?', 'revealing', 'revision', 'reward', 'reward!', 'rewarding', 'rhode', 'rhythm', 'rhythm.', 'rice.', 'ridden', 'right,', 'right.', 'rightly', \"riley's\", 'rimac', 'ring.', 'ring...', 'ringing', 'ringtone!', 'ringtone-get', 'ringtoneking', 'ringtones', 'ringtones,', 'rinu', 'ripped', 'risks,', 'rite', 'rite?', 'ritten', 'river', 'road...', 'roads', 'roads!RVx', 'roads.', 'roast', 'roast.', 'rob', 'robinson', 'robs', 'rocks', 'rocks...', 'rofl', 'rolled', 'romantic!', \"ron's\", 'roomate', 'roommate,', 'ros', 'rough', 'round,', 'round.', 'rounder:)so', 'rows', 'rpl', 'rr..', 'rs.', 'rubber', 'rude,', 'rule', 'rules', 'rumbling...', 'rummer.', 'rumour', 'run.', 'running.lets', 'rupaul', 'rush,', 'rushing.', \"ryan's\", 's..first', 'sack', 'sacked', 'sacrifice', 'sacrifice.', 'sad.', 'sad..', 'safe.', 'safely', 'safety', 'saibaba', \"said,''\", 'salary', 'salary.', 'sales', 'salmon', 'salon', 'salt,', 'samachara', 'samantha', 'sambar.life', 'same,so', 'sane.', 'sang', 'sao', 'sapna', 'sarasota', 'sarasota?', 'sarcasm..', 'sarcastic', 'sashimi...', 'sat...', 'sat....', 'sathy', 'sathya', 'sathya.', 'satisfy', 'saucy', 'save.', 'saved!', 'saves', 'say.', 'say...', 'say/ask', 'sc.', 'scallies,', 'scammers', 'scarcasim', 'scared', 'scared!', 'scary', 'scary,', 'sch.', 'sch?', 'schedule', 'school?', 'schools.', 'scold', 'scores', 'scotland.', 'scouse', 'scraped', 'scrappy.', 'scratches', 'scream.', 'screamed', 'screamed,', 'screen', 'scrounge', 'scrumptious...', 'sculpture', 'sd', 'sdryb8i', 'sea*', 'search:)', 'sec,', 'sec?', 'second,', 'second.', 'second..', 'secondary', 'seconds.', 'secrets.', 'secs?', 'section', 'sections', 'secure', 'sed', \"see's\", 'see,', 'see..', 'seeking', 'seemed', 'sef', 'sehwag', 'seing', 'select', 'selected.', 'selected?', 'self.', 'selfish', 'sell.', 'selling', 'sem', 'semester?', 'sen', 'sending.', 'senor', 'senrd-dnot', 'sense.', 'sense?', 'sensible,', 'sensitive', 'senthil.hsbc', 'seperated...!Â\\x8eÃ¶Â´Â\\x89Ã\\x93_??Â\\x8bÃ\\x9bÂ¬ud', 'sept.', 'september', 'series.', 'serious', 'serious.', 'served', 'server', 'service!', 'services.', 'settled', 'settled?', 'settling', 'sex.', 'sexiest', 'sextextuk.com', 'sexual', 'sexy!', 'sexy,', 'sexy?', 'sh', 'sha', 'sha!', 'sha.', 'shadow.', 'shag?', 'shakara', 'shake', 'shaking', 'shame!', 'shangela.', 'shanghai', 'shaping', 'share...', 'sharing', 'shattered.', 'shaved', 'sheets.', 'sheffield', 'shelf:)', 'shell', 'shelves', 'shes', 'shipped.', 'shipping', 'shirt.', 'shit\"', \"shit's\", 'shit,', 'shit.', 'shit....!!\\\\\"', 'shite.', 'shitstorm', 'shock', 'shoes', 'shop.', 'shop..', 'shopping!', 'shopping?', 'shore', 'shore..The', 'shortcode', 'shortly', 'shortly.', 'shorts...', 'should.', 'shouldnÂ\\x89Ã\\x9bÃ·t', 'shouting..', 'shove', 'shoving', 'show...', 'showed', 'shower!', 'shower.', 'showrooms:)city', 'shrub', 'shud', 'shuhui.', 'shuhui?', 'shun', 'shy', 'shy!', 'si.', 'sian', 'sick.', 'sick?', 'sickness', 'side,', 'sigh*', 'sign,', 'signal.', 'significance?', 'signin', 'signing,', 'siguviri', 'silence', 'silence...\\\\\"', 'silent.', 'silently', 'silver', 'simonwatson5120', 'since.', 'singapore', 'single?', 'sink', 'sip', \"sir's\", 'sister..', 'sisters', 'site.', 'sitll', 'sittin', 'sitting.', 'situation:', 'skateboarding', 'skinny', 'skins', 'skint', 'skirt...', 'skye', 'skype,', 'skype.', 'skyped', 'skyving', 'slacking.', 'slap', 'slave,', 'slave.', 'slave?', 'sleep...', 'sleepin,', 'sleeping.', 'sleeping?', 'sleeps', 'sleepy', 'slice', 'slices', 'slide', 'sliding', 'slip', 'slippery', 'slo', 'slob-', 'slots', 'slow.', 'slower', 'slowly.', 'slurp!', 'small,', 'small.', 'smaller', 'smart..Though', 'smarter', 'smash', 'smear', 'smell', 'smells', 'smidgin.', 'smile..:)', 'smiled', 'smiles', 'smiling..', 'smiling:-)', 'smiling?', 'smoke,', 'smoked', 'smokes', 'smokes,', 'smokin', 'smoothly.', \"sms'd\", 'sms-08718727870', 'sms.shsex.netUN', 'smsing', 'sn', 'snake.', 'snappy', 'snatch', 'snogs!', 'snogs.', 'snowball', 'snowboarding', 'so...not', 'so.so', 'so:)', 'so?', 'sochte', 'sofa', 'sofa.', 'soil..', 'soiree', 'soladha.', 'solve', 'solved', 'solved!', 'someday', 'someone....that', 'someplace,', 'somerset...', 'somethin.', 'something!', 'sometime.Rakhesh,visitor', 'somewhat', 'somewhere.', 'somewhereSomeone', 'somone', 'somtimes', 'sonathaya', 'song..:-)', 'soo', 'soon..', 'soon.xxx', 'sooner.', 'sooner?', 'sooo', 'soooo', 'sophas', 'sore', 'sore!', 'sore.', 'sore...', 'sorrow,', 'sorrows.I', 'sorry-i', 'sorta', 'sorted', 'sorts', 'soul', 'sound..', 'soundtrack', 'soup', 'soup.', 'sources', 'southern', 'spacebucks', 'spaces.', 'spanish', 'spares', 'spark.', 'sparkling', 'speak,', 'speaking', 'specialisation.', 'specialise', 'specific', 'specify', 'speechless', 'speechless.', 'speling', 'spelled', 'spelling.', 'spin', 'spirit.', 'spk', 'splash', 'split', 'splleing', 'spoil', 'spoken.', 'sponsors', 'spontaneously..', 'spoon', 'sporadically', 'sport,', 'spot', 'spotty,', 'spree,', 'spring', 'springs', 'squeezed', 'squid!', 'srs', 'srsly', 'stability', 'stadium?', 'staff', 'staff.science.nus.edu.sg/~phyhcmk/teaching/pc1323', 'stagwood', 'stairs', 'stalk', 'standing.', 'standing...|', 'stands,', 'star', 'starer', 'starring', 'start.', 'start.i', 'start?', 'started.india', 'statement,', 'station.', 'stay.', 'stayin', 'steak', 'stealing', 'steamboat?', 'steps.', 'stereo', 'sterling', 'steve', 'steve,like!', 'stick', 'stick.', 'stifled', 'still.maybe', 'still?', 'stink!', 'stitch', 'stolen,', 'stone', 'stones,', 'stones.', 'stool.', 'stop..', 'stop?txtStop', 'stopCost', 'stop\\\\\"', 'stopped.', 'stops', 'stoptxtstopÃ¥Â£1.50/week', 'store.', 'store.like', 'stores', 'stories', 'story)', 'str', 'str*', 'straight,', 'strain', 'stranger', 'stranger!!saw', 'street,shall', 'stress.', 'stressed', 'stressful.', 'stretch...', 'strewn', 'strict', 'strings', 'stripes', 'strips', 'strong:)', 'strongly', 'strtd', 'sts', 'studio', 'studying.', 'studying?', 'studyn', 'stuff,', 'stuff--why', 'stuff.leaving', 'stuff42moro', 'stuff?', 'stuffed', 'stuffing', 'stuffs.', 'stunning.', 'stupid.', 'style?', 'styling', 'stylish.', 'sub,', 'subject', 'submitted', 'subscribe', 'subscriber,', 'subscriptions.', 'subscrition', 'subsequent', 'success', 'success.', 'successfully.', 'sucks,', 'sudden', 'sudn;-(.', 'sue.', 'suffer.', 'suffering', 'suffers', 'sufficient', 'sugar', 'sugar.', 'sugardad', 'suggestion', 'suggestions?', 'suite:', 'suitemates', 'sum', 'sun...', 'sunday..', 'sunday?', 'sunshine!', 'suntec', 'suntec...', 'superb', 'supervisor.', 'suply', 'supose', 'support...very', 'support.providing', 'suppose', 'supreme.', 'sura', 'sura,', 'surf...', 'surname', 'surprise', 'surprise!', 'surprised,', 'surrounded', 'survey', 'survey...', 'sutra', 'sux', 'swalpa', 'swann', 'swatch', 'swear', 'sweater', 'sweatter..', 'sweet...', 'sweetie', 'swell', 'swimming', 'swimming?', 'swimsuit', 'switch', 'swollen', 'swoop', 'swoop.', 'swt.', 'syd', 'symbol', 'synced', 'syrup.', 'system.', 'systems.', 't&c', 't-shirt.', 'ta', \"table's\", 'tablet', 'tablets', 'tablets.', 'tactful', 'tactless', 'tag', 'tagged', 'tai', 'tait', 'take?', 'taken', 'taken...Only', 'talent.', 'talent?', 'talents!', 'talks', 'talks?', 'tall', 'tallent', 'tank', 'tank.', \"tantrum's\", 'tariffs', 'tarpon', 'tattoos?', 'taught', 'taunton', 'taxes', 'taxi.', 'taxi?', 'taxt', 'taylor', \"taylor's\", 'tb,', 'tc', 'tddnewsletter@emc1.co.uk', 'tea.', 'tea/coffee?', 'tea?', 'teacher...', 'teaching', 'team', 'team..', 'tear....\\\\\"\"', 'tears.', 'tease', 'technologies', 'teenager', 'teeth', 'teeth?if', 'teju', 'tel,', 'telly', 'telugu', 'telugu..thts', 'temales', 'temper', 'tendencies.', \"term's\", 'terms.', 'terrific', 'tescos', 'test.', 'test:-).', 'tests,', 'texas', 'text!', 'textand', 'texted', 'texted.', \"textin'.\", 'textoperator', 'texts,', 'texts.', 'texts/weekend', 'than.', 'thandiyachu', 'thangam', 'thangam,', \"thangam.it's\", 'thanks...', 'thanks2.', 'thanksgiving,', 'thanx!', 'thanx.', 'thanx.xx', \"that'll\", 'that)', 'that...', 'that.dont', 'thatÂ\\x89Ã\\x9bÃ·s', 'the4th', 'theater', 'theirs?', 'them...', 'them..:-P', 'them?', 'themed', 'themes?', 'then.will', 'then?', 'theory', 'theplace!', 'there..do', 'there.goodnight', 'there.xx', 'these.', 'thesis', 'thesis!', 'thesmszone.com', \"they'll\", 'thia', 'thin', 'thing....how', 'things.', 'things..', 'things...', 'think?', 'think???', 'thinkThis', 'this:)don', 'this?', 'thk...', 'thkin', 'thm', 'tho)', 'tho,so', 'tho.', 'thot', 'thou', 'thought,', 'thought-', 'thought:', 'thoughts', 'thoughts.I', 'threats', 'three', 'thriller', 'throat.', 'through.', 'throwin', 'throwing', 'thrown', 'throws', 'thru.Respect', 'thts', 'thuglyfe', 'ticket,', 'tickets.', 'tiempo', 'tight', 'tightly.', 'tiime', 'time!;-)', 'time-hope', 'time..:-)', 'time..dhoni', 'time?', 'time?)', 'times.', 'times:)lil', 'times?', 'timing', 'timings', 'tired.', 'tirunelvai', 'tirunelvali', 'tirupur', 'tiwary', 'tiz', 'tm', \"tm'ing\", 'tm.', 'tming', 'tmrw', 'to,', 'toaday', 'tobacco...', 'today!From', 'today...!', 'today.Good', 'today.do', 'today.he', 'together!', 'together.', 'toilet', 'token', 'toking', 'told..she', 'tolerance', 'tomarrow', 'tomeandsaid,THIS', 'tomo!', 'tomorro', 'tomorrow!', 'tomorrow..', 'tomorrow.....!', 'tomorrow.call', 'tomorrow/today?', 'tone!', 'tone.', 'tones2you.co.uk', 'tonght', 'tongued', 'tonight\"', 'tonight,', 'tonite!', 'tonite.', 'tonite...', 'tonite.busy', 'tonite.things', 'tonite?', 'too.Lets', 'too.pray', 'too?', 'took.', 'tool?', 'toot', 'toothpaste', 'tootsie', 'toppoly', 'torch.', 'torture', 'tosend', 'toshiba', 'toss', 'total', 'totally', 'totes.', 'touched', 'touched...', 'toughest', 'tour', 'town,', 'town.', 'toyota', 'tp', 'trade', 'traffic.', 'trained', 'training:-)', 'training?', 'trains', 'tram.', 'tranquility', 'transaction?', 'transcribing.', 'transfer', 'transfer?acc', 'transfered', 'transferred', 'transfr', 'transfred', 'transport', 'trash.', 'trauma', 'travel', 'travelled,', 'travelling', 'treacle?', 'treadmill', 'treasure', 'treat,', 'treat.', 'treat?', 'treated', \"treatin'\", 'treats', 'trebles!', 'trek', 'trial', 'trip!', 'trip...', 'trishul', 'troubleshooting:)', 'trouser', 'true..', 'truffles.', 'try!', 'try,', 'try:-)', 'tryin', \"tt's\", 'tt...', 'ttyl', 'ttyl!', 'tue', 'tuesday', 'tuition', 'tuition...', 'tune', 'turkeys.', 'turn', 'turned', 'tuth', 'tv...', 'tv..he', 'tv.:)lol.', 'twat', 'twelve!', 'twelve,', 'twenty', 'twice-', 'two.', 'txt~journey', \"tyler's\", 'type.', 'type...', 'types', 'u!xxxx', \"u've\", 'ubandu', 'ubi', \"ugo's\", 'uh,', 'uk!', \"uk's\", 'ultimatum', 'um', 'un', 'unbelievable', 'unclaimed!', 'uncomfortable.', 'unconditionally', 'unconscious', 'unconsciously', 'unconvinced', 'uncountable', 'uncut', 'underdtand', 'understand.', 'understanding', 'understanding.', 'underwear', 'underwear.', 'undrstnd', 'undrstndng', 'unemployed', 'unemployed,', 'uneventful', 'unfortunately...', 'unhappiness!', 'unhappy', 'uni', 'uni?', 'uniform?', 'unintentional.', 'unintentionally', 'unique', 'unique&I', 'univ.', 'unlimited...', 'unmits', 'unrecognized.', 'unsold.mike', 'unsubscribe.', 'unsubscribed', 'unusual', 'up!had', 'up..!', 'upcharge.', 'update:', 'upgrading', 'uploaded', 'upset', \"upset--it's\", 'upset.i', 'upstairs', 'upstairs.', 'urgnt', 'url', 'urmom.i', 'urself.', 'urself:-(', 'us.', 'us.LET', 'us:)no', 'usc', 'use.', 'use?', 'useful', 'useful?', 'useless', 'usf,', 'usps', 'utter', 'uup', 'uworld', 'v.tired', 'va?i', 'vaazhthukkal.', 'vaguely', 'vale', 'valentine?', 'valentines', 'valuable', 'value', 'value-Morning', 'valuing', 'varaya', 'varma', 'vary).', 'vasai', 'vday', 've', 'vegas', 'venaam..', 'venugopal', 'verifying', 'version', 'vibrant', 'vibrate', 'vibrator', 'vic', 'victoria', 'victors', 'vid..not', 'video/pic', 'view', 'vijay', 'vijaykanth', 'vikky,', 'vikky..', \"vikky..i'm\", 'vilikkam....t', 'vill', 'village,', 'violated', 'violence', \"virgil's\", 'virgins', 'virtual', 'visa', 'visit.need', 'visiting', 'vitamin', 'vivek..', 'vivek:)i', 'vodafone', 'vodka...', 'voice', 'voice...', 'voice.....', 'vomit', 'vomitin.', 'vomiting.', 'vote?', 'voted', 'vouchers-Text', 'vs.', 'w/c', 'w1t1jy', 'w8in', 'wad?', 'wadebridge.I', 'waheeda', 'waht', 'wait,', 'wait.', 'waiting.', 'wake,', 'waliking', 'walk,', 'wall?', 'walmart', 'walmart.', 'walsall', 'wamma', 'wanna?', 'wap.', 'warner', 'warning', 'warning.', 'was.', 'wasnt', 'wasnÂ\\x89Ã\\x9bÃ·t', 'waste.', 'wasted', 'wasting.', 'wat..', 'watch,', 'watch...', 'watched', 'watches', 'watchng', 'watever', 'waves', 'way&this', 'wc1n3xx', \"we'd\", \"we've\", 'weaknesses', 'weapon', 'wearing?', 'weaseling', 'weather.', 'web', 'webadres', 'website', 'website?', 'wed,', 'wednesday,', 'weds', 'weed-deficient', 'week-stop', 'week.:/', 'week??', 'weekend!)', 'weeks!', 'weighed', 'weight', 'weight!', 'weight,', 'weight...', 'weight...Haha...', 'weird,', 'weirdest', 'weirdo?', 'weirdy', 'well!!', 'well!i', 'well?', 'wenever', 'were/are', \"weren't\", 'wesley', 'wesleys', 'western', 'westonzoyland,', 'westshore', 'wet.', 'wetherspoons?', 'weÃ¥Ã\\x95ve', 'what...', 'wheat', 'wheel', \"when's\", 'when,', 'when...', 'where?', 'where?btw', 'white?', 'who.', 'whose', 'why?', 'wi', 'wife,', 'wife.', 'wife....', 'wife.dont', 'wifes.', 'wihtuot', 'wikipedia.com', 'will!', 'will,', 'willpower', 'win150ppmx3age16', 'wind', 'wind.', 'window', 'windows', 'windows,', 'winds', 'windy.', 'wining', 'winning.', 'winterstone', 'wipro:)you', 'wisdom', 'wisdom..', 'wish!', 'wisheds.', 'wishin', 'wishlist', 'wiskey', 'with:', 'withdraw', 'wither', 'witot', 'wk!', 'wk,', 'wk.TXT', 'wk?s', 'wkend', 'wkend.', 'wkg', 'wks', 'wks!', 'wlcome', 'wld', 'wml?id=1b6a5ecef91ff9*37819&first=true18:0430-JUL-05', 'wml?id=820554ad0a1705572711&first=trueÃ¥Ã\\x81C', 'wocay', 'won!', 'wondar', 'wondarfull', 'wonderful.', 'wondering,', 'wont.', 'woot', 'woot!', 'worc', 'word).', 'word.....not', 'words,', 'words-', 'work..', 'work...', 'works.', 'world,', 'world,may', 'world.', 'worried.', 'worries.', 'worry,', 'worry..', 'worry...use', 'worrying', 'worse.', 'worthless', 'wounds', 'wow.', 'wrecked.', 'wrench', 'wrenching', 'writhing', 'wrk,', 'wrking', 'wrnog..', 'wrong!!', 'wrongly', 'wrote', 'wtc', 'wud', 'wuld', 'wuldnt', 'www.07781482378.com', 'www.4-tc.biz', 'www.Applausestore.com', 'www.B4Utele.com', 'www.Ldew.com', 'www.Ldew.com1win150ppmx3age16', 'www.SMS.ac/u/goldviking', 'www.SMS.ac/u/hmmross', 'www.SMS.ac/u/natalie2k9', 'www.bridal.petticoatdreams.co.uk', 'www.cashbin.co.uk', 'www.clubmoby.com', 'www.clubzed.co.uk', 'www.cnupdates.com/newsletter.', 'www.flirtparty.us', 'www.fullonsms.com', 'www.ldew.com', 'www.ldew.com1win150ppmx3age16', 'www.music-trivia.net', 'www.orange.co.uk/ow', 'www.phb1.com', 'www.regalportfolio.co.uk.', 'www.ringtoneking.co.uk!', 'www.rtf.sphosting.com', 'www.santacalling.com', 'www.shortbreaks.org.uk\\\\\"\"', 'www.t-c.biz', 'www.telediscount.co.uk', 'www.textcomp.com', 'www.textpod.net', 'www.tkls.com', 'www.txt43.com', 'www.txt82228.com.', \"x'mas.\", 'x-net', 'x.', 'x\\\\\"\"', 'xafter', 'xam', 'xin', 'xmas', 'xmas!', 'xt', 'xuhui', 'xxSP', 'xxx.', 'xxxxxxx\\\\\"\"', 'xxxxxxxx', 'xxxxxxxxxxxxxX', 'xy?', \"y'day\", 'y.', 'ya!!', 'ya.', 'ya...', 'yah...', 'yay', 'yck?', 'year?', 'years,', 'years.', 'yelling', 'yelling.', 'yeovil', 'yes.', 'yest', 'yest...', 'yest?', 'yesterday!', 'yesterday,', 'yesterday?', 'yet)', 'yet..', 'yetunde', 'yi', 'yifeng', 'yijue,', 'yijue?', 'yijue@hotmail.com', 'ym', 'yo,', 'yo-Here', 'yoga...', 'yor', 'yorge', 'you!To', \"you'ld\", 'you,so', 'you..', 'you....dear.with', 'you...money', 'you.:)k:)where', 'you.my', 'you.thats', 'you/carlos', 'you:)any', 'you?how', 'you?when', 'youPhone', 'youdoing', 'younger', 'your\"', 'yourinclusive', 'yours!', 'yours,', 'yourself.', 'yourself...', 'youuuuu', 'youwanna', 'yowifes.', 'ystrday.ice', 'yummy', 'yuou', 'zac', 'zoom', 'zyada', '~', 'Â\\x89Ã\\x9b_Thanks', 'Â\\x89Ã\\x9bÃ\\x8fHarry', \"Ã\\x8c_'ll\", 'Ã\\x8c_.', 'Ã\\x8c_..', \"Ã\\x8cÃ\\x8f'll\", 'Ã¥Â£1', 'Ã¥Â£1,500', 'Ã¥Â£1.50.', 'Ã¥Â£1.50/msg', 'Ã¥Â£1.50/msg.', 'Ã¥Â£1.50/week.', 'Ã¥Â£1.50/wk.\"', 'Ã¥Â£1.50ea.', 'Ã¥Â£1.50perWKsub', 'Ã¥Â£1.50perweeksub.', 'Ã¥Â£1.50pm', 'Ã¥Â£1.50pmmorefrommobile2Bremoved-MobyPOBox734LS27YF', 'Ã¥Â£1/minMobsmoreLKPOBOX177HP51FL', 'Ã¥Â£10)', 'Ã¥Â£1000CALL', 'Ã¥Â£12', 'Ã¥Â£125', 'Ã¥Â£1million', 'Ã¥Â£250k', 'Ã¥Â£33.65', 'Ã¥Â£48,', 'Ã¥Â£500.', 'Ã¥Â£5000,', 'Ã¥Â£5000.00', 'Ã¥Â£50award.', 'Ã¥Â£54.', 'Ã¥Â£600.', 'Ã¥Â£71.', 'Ã¥Â£79', 'Ã¥Â£s', \"Ã¥Ã\\x92It's\", 'Ã¥Ã\\x94MORROW.', 'Ã¥Ã\\x94rents']\n"
          ],
          "name": "stdout"
        }
      ]
    },
    {
      "cell_type": "markdown",
      "metadata": {
        "id": "6dpL3pYvrzK7"
      },
      "source": [
        "Selecionamos o dispositivo de processamento disponível:"
      ]
    },
    {
      "cell_type": "code",
      "metadata": {
        "colab": {
          "base_uri": "https://localhost:8080/"
        },
        "id": "Pjt9jhbjr2kM",
        "outputId": "e81f6cee-8545-4eac-dcf0-f4d7c9973fef"
      },
      "source": [
        "device = torch.device(\"cuda:0\" if torch.cuda.is_available() else \"cpu\")\n",
        "print(device)"
      ],
      "execution_count": 131,
      "outputs": [
        {
          "output_type": "stream",
          "text": [
            "cpu\n"
          ],
          "name": "stdout"
        }
      ]
    },
    {
      "cell_type": "markdown",
      "metadata": {
        "id": "wWQqRM0xrqFm"
      },
      "source": [
        "Criamos os iteradores e iteramos sob eles:"
      ]
    },
    {
      "cell_type": "code",
      "metadata": {
        "id": "wlJYWplIrtlV"
      },
      "source": [
        "train_iter, test_iter = ttd.Iterator.splits((train_dataset, test_dataset), sort_key=lambda x: len(x.data), batch_sizes=(32, 256), device=device)"
      ],
      "execution_count": 132,
      "outputs": []
    },
    {
      "cell_type": "markdown",
      "metadata": {
        "id": "U6TrozJir_6K"
      },
      "source": [
        "Qual é a forma (shape) de embedding output?\n",
        "\n",
        "N x T x D"
      ]
    },
    {
      "cell_type": "code",
      "metadata": {
        "colab": {
          "base_uri": "https://localhost:8080/"
        },
        "id": "sFsyjskHsJ_0",
        "outputId": "355e1faa-4d8d-46eb-f0c3-53cae87493cd"
      },
      "source": [
        "embed = nn.Embedding(len(vocab), 20).to(device)\n",
        "\n",
        "for inputs, targets in train_iter:\n",
        "    out = embed(inputs)\n",
        "    print(\"input shape:\", inputs.shape, \"output shape:\", out.shape)\n",
        "    break"
      ],
      "execution_count": 133,
      "outputs": [
        {
          "output_type": "stream",
          "text": [
            "input shape: torch.Size([32, 70]) output shape: torch.Size([32, 70, 20])\n"
          ],
          "name": "stdout"
        }
      ]
    },
    {
      "cell_type": "markdown",
      "metadata": {
        "id": "z-aiNrDesPFm"
      },
      "source": [
        "Definimos o nosso modelo de classificação:"
      ]
    },
    {
      "cell_type": "code",
      "metadata": {
        "id": "zNZwwaxhsRAu"
      },
      "source": [
        "class CNN(nn.Module):\n",
        "    def __init__(self, n_vocab, embed_dim, n_outputs):\n",
        "        super(CNN, self).__init__()\n",
        "        self.V = n_vocab\n",
        "        self.D = embed_dim\n",
        "        self.K = n_outputs\n",
        "\n",
        "        # if input is T words\n",
        "        # then output is (T, D) matrix\n",
        "        self.embed = nn.Embedding(self.V, self.D)\n",
        "\n",
        "        # conv layers\n",
        "        self.conv1 = nn.Conv1d(self.D, 32, 3, padding=1)\n",
        "        self.pool1 = nn.MaxPool1d(2)\n",
        "        self.conv2 = nn.Conv1d(32, 64, 3, padding=1)\n",
        "        self.pool2 = nn.MaxPool1d(2)\n",
        "        self.conv3 = nn.Conv1d(64, 128, 3, padding=1)\n",
        "\n",
        "        self.fc = nn.Linear(128, self.K)\n",
        "\n",
        "    def forward(self, X):\n",
        "        # embedding layer\n",
        "        # turns word indexes into word vectors\n",
        "        out = self.embed(X)\n",
        "\n",
        "        # note: output of embedding is always\n",
        "        # (N, T, D)\n",
        "        # conv1d expects\n",
        "        # (N, D, T)\n",
        "\n",
        "        # conv layers\n",
        "        out = out.permute(0, 2, 1)\n",
        "        out = self.conv1(out)\n",
        "        out = F.relu(out)\n",
        "        out = self.pool1(out)\n",
        "        out = self.conv2(out)\n",
        "        out = F.relu(out)\n",
        "        out = self.pool2(out)\n",
        "        out = self.conv3(out)\n",
        "        out = F.relu(out)\n",
        "\n",
        "        # change it back\n",
        "        out = out.permute(0, 2, 1)\n",
        "\n",
        "        # max pool\n",
        "        out, _ = torch.max(out, 1)\n",
        "\n",
        "        # final dense layer\n",
        "        out = self.fc(out)\n",
        "        return out"
      ],
      "execution_count": 134,
      "outputs": []
    },
    {
      "cell_type": "markdown",
      "metadata": {
        "id": "tH5O2IiRsbfx"
      },
      "source": [
        "Instanciamos o modelo:"
      ]
    },
    {
      "cell_type": "code",
      "metadata": {
        "colab": {
          "base_uri": "https://localhost:8080/"
        },
        "id": "3UAjps-Esce9",
        "outputId": "e56cca62-9c6b-4cf2-9653-41a19c4575d8"
      },
      "source": [
        "model = CNN(len(vocab), 20, 1)\n",
        "model.to(device)"
      ],
      "execution_count": 135,
      "outputs": [
        {
          "output_type": "execute_result",
          "data": {
            "text/plain": [
              "CNN(\n",
              "  (embed): Embedding(12731, 20)\n",
              "  (conv1): Conv1d(20, 32, kernel_size=(3,), stride=(1,), padding=(1,))\n",
              "  (pool1): MaxPool1d(kernel_size=2, stride=2, padding=0, dilation=1, ceil_mode=False)\n",
              "  (conv2): Conv1d(32, 64, kernel_size=(3,), stride=(1,), padding=(1,))\n",
              "  (pool2): MaxPool1d(kernel_size=2, stride=2, padding=0, dilation=1, ceil_mode=False)\n",
              "  (conv3): Conv1d(64, 128, kernel_size=(3,), stride=(1,), padding=(1,))\n",
              "  (fc): Linear(in_features=128, out_features=1, bias=True)\n",
              ")"
            ]
          },
          "metadata": {
            "tags": []
          },
          "execution_count": 135
        }
      ]
    },
    {
      "cell_type": "markdown",
      "metadata": {
        "id": "nK8m4VwIuSah"
      },
      "source": [
        "Definimos a função Loss e o Otimizador:"
      ]
    },
    {
      "cell_type": "code",
      "metadata": {
        "id": "o7_LDxFruUus"
      },
      "source": [
        "criterion = nn.BCEWithLogitsLoss()\n",
        "optimizer = torch.optim.Adam(model.parameters())"
      ],
      "execution_count": 136,
      "outputs": []
    },
    {
      "cell_type": "markdown",
      "metadata": {
        "id": "DsNwX_lDuXED"
      },
      "source": [
        "Criamos uma função para encapsular o loop de treinamento:"
      ]
    },
    {
      "cell_type": "code",
      "metadata": {
        "id": "NZ-I41wNuaij"
      },
      "source": [
        "def batch_gd(model, criterion, optimizer, train_iter, test_iter, epochs):\n",
        "    train_losses = np.zeros(epochs)\n",
        "    test_losses = np.zeros(epochs)\n",
        "\n",
        "    for it in range(epochs):\n",
        "        t0 = datetime.now()\n",
        "        train_loss = []\n",
        "        for inputs, targets in train_iter:\n",
        "            targets = targets.view(-1, 1).float()\n",
        "            # move os dados para o dispositivo de processamento\n",
        "            inputs, targets = inputs.to(device), targets.to(device)\n",
        "\n",
        "            # zera os parâmetros do gradient\n",
        "            optimizer.zero_grad()\n",
        "\n",
        "            # Forward pass\n",
        "            outputs = model(inputs)\n",
        "            loss = criterion(outputs, targets)\n",
        "            \n",
        "            # Backward e optimize\n",
        "            loss.backward()\n",
        "            optimizer.step()\n",
        "\n",
        "            train_loss.append(loss.item())\n",
        "\n",
        "        # Obtém o loss de treinamento e teste\n",
        "        train_loss = np.mean(train_loss) \n",
        "\n",
        "        test_loss = []\n",
        "        for inputs, targets in test_iter:\n",
        "            inputs, targets = inputs.to(device), targets.to(device)\n",
        "            targets = targets.view(-1, 1).float()\n",
        "            outputs = model(inputs)\n",
        "            loss = criterion(outputs, targets)\n",
        "            test_loss.append(loss.item())\n",
        "        test_loss = np.mean(test_loss)\n",
        "\n",
        "        # Salva os losses\n",
        "        train_losses[it] = train_loss\n",
        "        test_losses[it] = test_loss\n",
        "\n",
        "        dt = datetime.now() - t0\n",
        "        print(f'Epoch {it+1}/{epochs}, Train Loss: {train_loss:.4f}, \\\n",
        "            Test Loss: {test_loss:.4f}, Duration: {dt}')\n",
        "\n",
        "    return train_losses, test_losses"
      ],
      "execution_count": 137,
      "outputs": []
    },
    {
      "cell_type": "markdown",
      "metadata": {
        "id": "Wv3WT2D0up4n"
      },
      "source": [
        "Treinamos o nosso modelo:"
      ]
    },
    {
      "cell_type": "code",
      "metadata": {
        "colab": {
          "base_uri": "https://localhost:8080/"
        },
        "id": "MYUk0RrRurI4",
        "outputId": "c02de1a9-9036-4291-8b75-efa0c59a28a3"
      },
      "source": [
        "train_losses, test_losses = batch_gd(model, criterion, optimizer, train_iter, test_iter, 5)"
      ],
      "execution_count": 138,
      "outputs": [
        {
          "output_type": "stream",
          "text": [
            "Epoch 1/5, Train Loss: 0.3993,             Test Loss: 0.4706, Duration: 0:00:01.713912\n",
            "Epoch 2/5, Train Loss: 0.2847,             Test Loss: 0.4480, Duration: 0:00:01.604717\n",
            "Epoch 3/5, Train Loss: 0.1836,             Test Loss: 0.2203, Duration: 0:00:01.584746\n",
            "Epoch 4/5, Train Loss: 0.1147,             Test Loss: 0.1563, Duration: 0:00:01.559204\n",
            "Epoch 5/5, Train Loss: 0.0844,             Test Loss: 0.1500, Duration: 0:00:01.554961\n"
          ],
          "name": "stdout"
        }
      ]
    },
    {
      "cell_type": "markdown",
      "metadata": {
        "id": "rcXtNVTcvMkz"
      },
      "source": [
        "Plotamos a loss de treinamento e teste por iteração:"
      ]
    },
    {
      "cell_type": "code",
      "metadata": {
        "colab": {
          "base_uri": "https://localhost:8080/",
          "height": 265
        },
        "id": "NgQIlBvrvPGY",
        "outputId": "54589e55-eaf8-428b-9ef0-05bfd74be2a0"
      },
      "source": [
        "plt.plot(train_losses, label='train loss')\n",
        "plt.plot(test_losses, label='test loss')\n",
        "plt.legend();"
      ],
      "execution_count": 139,
      "outputs": [
        {
          "output_type": "display_data",
          "data": {
            "image/png": "[encoded data removed]",
            "text/plain": [
              "<Figure size 432x288 with 1 Axes>"
            ]
          },
          "metadata": {
            "tags": [],
            "needs_background": "light"
          }
        }
      ]
    },
    {
      "cell_type": "markdown",
      "metadata": {
        "id": "tcDVjw0NvukN"
      },
      "source": [
        "Por fim, calculamos a **Accuracy** do modelo:"
      ]
    },
    {
      "cell_type": "code",
      "metadata": {
        "colab": {
          "base_uri": "https://localhost:8080/"
        },
        "id": "7dIHcrykvxgp",
        "outputId": "0c13561d-605b-4354-f757-919d916e836d"
      },
      "source": [
        "n_correct = 0.\n",
        "n_total = 0.\n",
        "for inputs, targets in train_iter:\n",
        "    targets = targets.view(-1, 1).float()\n",
        "\n",
        "    # Forward pass\n",
        "    outputs = model(inputs)\n",
        "\n",
        "    # Obtemos previsões\n",
        "    predictions = (outputs > 0)\n",
        "\n",
        "    # Atualizamos os contadores\n",
        "    n_correct += (predictions == targets).sum().item()\n",
        "    n_total += targets.shape[0]\n",
        "\n",
        "train_acc = n_correct / n_total\n",
        "\n",
        "n_correct = 0.\n",
        "n_total = 0.\n",
        "for inputs, targets in test_iter:\n",
        "    targets = targets.view(-1, 1).float()\n",
        "\n",
        "    # Forward pass\n",
        "    outputs = model(inputs)\n",
        "\n",
        "    # Obtemos previsões\n",
        "    predictions = (outputs > 0)\n",
        "\n",
        "    # Atualizamos os contadores\n",
        "    n_correct += (predictions == targets).sum().item()\n",
        "    n_total += targets.shape[0]\n",
        "\n",
        "test_acc = n_correct / n_total\n",
        "print(f\"Train acc: {train_acc:.4f}, Test acc: {test_acc:.4f}\")"
      ],
      "execution_count": 140,
      "outputs": [
        {
          "output_type": "stream",
          "text": [
            "Train acc: 0.9841, Test acc: 0.9581\n"
          ],
          "name": "stdout"
        }
      ]
    }
  ]
}