{
 "cells": [
  {
   "cell_type": "markdown",
   "metadata": {
    "id": "qwQio9op3qAt"
   },
   "source": [
    "# Classificação\n",
    "\n",
    "Neste notebook iremos apresentar um exemplo de classificação usando a biblioteca PyTorch.\n",
    "\n",
    "O problema se trata de prever se um diagnóstico de tecido mamário de um paciente é **maligno** um **benigno** baseado em características específicas.\n",
    "\n",
    "Como de costume, começaremos importando as bibliotecas necessárias:"
   ]
  },
  {
   "cell_type": "code",
   "execution_count": 1,
   "metadata": {
    "id": "__0cyHzE4p3V"
   },
   "outputs": [],
   "source": [
    "import torch\n",
    "import torch.nn as nn \n",
    "import numpy as np\n",
    "import matplotlib.pyplot as plt"
   ]
  },
  {
   "cell_type": "markdown",
   "metadata": {
    "id": "eFWQb37N4x5H"
   },
   "source": [
    "Importamos e carregamos os dados:"
   ]
  },
  {
   "cell_type": "code",
   "execution_count": 2,
   "metadata": {
    "id": "07r2AitZ400-"
   },
   "outputs": [],
   "source": [
    "from sklearn.datasets import load_breast_cancer\n",
    "\n",
    "data = load_breast_cancer()"
   ]
  },
  {
   "cell_type": "markdown",
   "metadata": {
    "id": "ShGbzx5T4-0t"
   },
   "source": [
    "Checamos o tipo dos dados:"
   ]
  },
  {
   "cell_type": "code",
   "execution_count": 3,
   "metadata": {
    "colab": {
     "base_uri": "https://localhost:8080/"
    },
    "id": "KHE6q-wJ5BOr",
    "outputId": "fe069029-de71-4af1-9b8f-8fa370c50a4a"
   },
   "outputs": [
    {
     "data": {
      "text/plain": [
       "sklearn.utils.Bunch"
      ]
     },
     "execution_count": 3,
     "metadata": {
      "tags": []
     },
     "output_type": "execute_result"
    }
   ],
   "source": [
    "type(data)"
   ]
  },
  {
   "cell_type": "markdown",
   "metadata": {
    "id": "j54niypY5OOz"
   },
   "source": [
    "Observe que se trata de um **objeto** Bunch.\n",
    "\n",
    "Basicamente ele atua como um dicionário onde podemos tratar as chaves como atributos."
   ]
  },
  {
   "cell_type": "code",
   "execution_count": 4,
   "metadata": {
    "colab": {
     "base_uri": "https://localhost:8080/"
    },
    "id": "-Cf02Kc-5aAh",
    "outputId": "54b381ea-d352-439c-aa82-84e8e30edf84"
   },
   "outputs": [
    {
     "data": {
      "text/plain": [
       "dict_keys(['data', 'target', 'target_names', 'DESCR', 'feature_names', 'filename'])"
      ]
     },
     "execution_count": 4,
     "metadata": {
      "tags": []
     },
     "output_type": "execute_result"
    }
   ],
   "source": [
    "data.keys()"
   ]
  },
  {
   "cell_type": "markdown",
   "metadata": {
    "id": "ZL56l0Od5f3g"
   },
   "source": [
    "A chave **'data'** significa os dados de input para o nosso algoritmo.\n",
    "\n",
    "Vejamos o seu formato:"
   ]
  },
  {
   "cell_type": "code",
   "execution_count": 5,
   "metadata": {
    "colab": {
     "base_uri": "https://localhost:8080/"
    },
    "id": "zG0ltanl5o-d",
    "outputId": "d192f717-e8af-480b-dedc-5cbbfbeed976"
   },
   "outputs": [
    {
     "data": {
      "text/plain": [
       "(569, 30)"
      ]
     },
     "execution_count": 5,
     "metadata": {
      "tags": []
     },
     "output_type": "execute_result"
    }
   ],
   "source": [
    "data.data.shape"
   ]
  },
  {
   "cell_type": "markdown",
   "metadata": {
    "id": "gU_BrIUY5v8Y"
   },
   "source": [
    "Veja que temos 569 amostras (linhas) e 30 features (colunas).\n",
    "\n",
    "Agora vamos checar o **target** (que desejamos prever):"
   ]
  },
  {
   "cell_type": "code",
   "execution_count": 6,
   "metadata": {
    "colab": {
     "base_uri": "https://localhost:8080/"
    },
    "id": "6cV4fmGG56A7",
    "outputId": "b77037cf-e7ee-47f4-e99f-f4be44dfc598"
   },
   "outputs": [
    {
     "data": {
      "text/plain": [
       "array([0, 0, 0, 0, 0, 0, 0, 0, 0, 0, 0, 0, 0, 0, 0, 0, 0, 0, 0, 1, 1, 1,\n",
       "       0, 0, 0, 0, 0, 0, 0, 0, 0, 0, 0, 0, 0, 0, 0, 1, 0, 0, 0, 0, 0, 0,\n",
       "       0, 0, 1, 0, 1, 1, 1, 1, 1, 0, 0, 1, 0, 0, 1, 1, 1, 1, 0, 1, 0, 0,\n",
       "       1, 1, 1, 1, 0, 1, 0, 0, 1, 0, 1, 0, 0, 1, 1, 1, 0, 0, 1, 0, 0, 0,\n",
       "       1, 1, 1, 0, 1, 1, 0, 0, 1, 1, 1, 0, 0, 1, 1, 1, 1, 0, 1, 1, 0, 1,\n",
       "       1, 1, 1, 1, 1, 1, 1, 0, 0, 0, 1, 0, 0, 1, 1, 1, 0, 0, 1, 0, 1, 0,\n",
       "       0, 1, 0, 0, 1, 1, 0, 1, 1, 0, 1, 1, 1, 1, 0, 1, 1, 1, 1, 1, 1, 1,\n",
       "       1, 1, 0, 1, 1, 1, 1, 0, 0, 1, 0, 1, 1, 0, 0, 1, 1, 0, 0, 1, 1, 1,\n",
       "       1, 0, 1, 1, 0, 0, 0, 1, 0, 1, 0, 1, 1, 1, 0, 1, 1, 0, 0, 1, 0, 0,\n",
       "       0, 0, 1, 0, 0, 0, 1, 0, 1, 0, 1, 1, 0, 1, 0, 0, 0, 0, 1, 1, 0, 0,\n",
       "       1, 1, 1, 0, 1, 1, 1, 1, 1, 0, 0, 1, 1, 0, 1, 1, 0, 0, 1, 0, 1, 1,\n",
       "       1, 1, 0, 1, 1, 1, 1, 1, 0, 1, 0, 0, 0, 0, 0, 0, 0, 0, 0, 0, 0, 0,\n",
       "       0, 0, 1, 1, 1, 1, 1, 1, 0, 1, 0, 1, 1, 0, 1, 1, 0, 1, 0, 0, 1, 1,\n",
       "       1, 1, 1, 1, 1, 1, 1, 1, 1, 1, 1, 0, 1, 1, 0, 1, 0, 1, 1, 1, 1, 1,\n",
       "       1, 1, 1, 1, 1, 1, 1, 1, 1, 0, 1, 1, 1, 0, 1, 0, 1, 1, 1, 1, 0, 0,\n",
       "       0, 1, 1, 1, 1, 0, 1, 0, 1, 0, 1, 1, 1, 0, 1, 1, 1, 1, 1, 1, 1, 0,\n",
       "       0, 0, 1, 1, 1, 1, 1, 1, 1, 1, 1, 1, 1, 0, 0, 1, 0, 0, 0, 1, 0, 0,\n",
       "       1, 1, 1, 1, 1, 0, 1, 1, 1, 1, 1, 0, 1, 1, 1, 0, 1, 1, 0, 0, 1, 1,\n",
       "       1, 1, 1, 1, 0, 1, 1, 1, 1, 1, 1, 1, 0, 1, 1, 1, 1, 1, 0, 1, 1, 0,\n",
       "       1, 1, 1, 1, 1, 1, 1, 1, 1, 1, 1, 1, 0, 1, 0, 0, 1, 0, 1, 1, 1, 1,\n",
       "       1, 0, 1, 1, 0, 1, 0, 1, 1, 0, 1, 0, 1, 1, 1, 1, 1, 1, 1, 1, 0, 0,\n",
       "       1, 1, 1, 1, 1, 1, 0, 1, 1, 1, 1, 1, 1, 1, 1, 1, 1, 0, 1, 1, 1, 1,\n",
       "       1, 1, 1, 0, 1, 0, 1, 1, 0, 1, 1, 1, 1, 1, 0, 0, 1, 0, 1, 0, 1, 1,\n",
       "       1, 1, 1, 0, 1, 1, 0, 1, 0, 1, 0, 0, 1, 1, 1, 0, 1, 1, 1, 1, 1, 1,\n",
       "       1, 1, 1, 1, 1, 0, 1, 0, 0, 1, 1, 1, 1, 1, 1, 1, 1, 1, 1, 1, 1, 1,\n",
       "       1, 1, 1, 1, 1, 1, 1, 1, 1, 1, 1, 1, 0, 0, 0, 0, 0, 0, 1])"
      ]
     },
     "execution_count": 6,
     "metadata": {
      "tags": []
     },
     "output_type": "execute_result"
    }
   ],
   "source": [
    "data.target"
   ]
  },
  {
   "cell_type": "markdown",
   "metadata": {
    "id": "mv415VOm59ZP"
   },
   "source": [
    "Observe como os **targets** são apenas 0's e 1's.\n",
    "\n",
    "Normalmente, quando você tem **K** targets, eles são rotulados 0...K-1\n",
    "\n",
    "Para sabermos do que se trata exatamente, podemos ver os seus nomes:"
   ]
  },
  {
   "cell_type": "code",
   "execution_count": 7,
   "metadata": {
    "colab": {
     "base_uri": "https://localhost:8080/"
    },
    "id": "9M4Ls1JX6Ry1",
    "outputId": "232ebb26-3f15-45c3-a81a-a4834a848ea0"
   },
   "outputs": [
    {
     "data": {
      "text/plain": [
       "array(['malignant', 'benign'], dtype='<U9')"
      ]
     },
     "execution_count": 7,
     "metadata": {
      "tags": []
     },
     "output_type": "execute_result"
    }
   ],
   "source": [
    "data.target_names"
   ]
  },
  {
   "cell_type": "markdown",
   "metadata": {
    "id": "ycbE4uIf6U4L"
   },
   "source": [
    "Podemos confirmar que existem 569 targets correspondentes:"
   ]
  },
  {
   "cell_type": "code",
   "execution_count": 8,
   "metadata": {
    "colab": {
     "base_uri": "https://localhost:8080/"
    },
    "id": "5pAt6ws06X8I",
    "outputId": "c246b0eb-e57c-45d4-b8dc-acab92eeb7bb"
   },
   "outputs": [
    {
     "data": {
      "text/plain": [
       "(569,)"
      ]
     },
     "execution_count": 8,
     "metadata": {
      "tags": []
     },
     "output_type": "execute_result"
    }
   ],
   "source": [
    "data.target.shape"
   ]
  },
  {
   "cell_type": "markdown",
   "metadata": {
    "id": "6GvwzSqu6d5H"
   },
   "source": [
    "Também podemos ver o significado de cada feature:"
   ]
  },
  {
   "cell_type": "code",
   "execution_count": 9,
   "metadata": {
    "colab": {
     "base_uri": "https://localhost:8080/"
    },
    "id": "kMG7bumo6hWy",
    "outputId": "b3043f79-622a-4d98-9f10-0bcd29fc190e"
   },
   "outputs": [
    {
     "data": {
      "text/plain": [
       "array(['mean radius', 'mean texture', 'mean perimeter', 'mean area',\n",
       "       'mean smoothness', 'mean compactness', 'mean concavity',\n",
       "       'mean concave points', 'mean symmetry', 'mean fractal dimension',\n",
       "       'radius error', 'texture error', 'perimeter error', 'area error',\n",
       "       'smoothness error', 'compactness error', 'concavity error',\n",
       "       'concave points error', 'symmetry error',\n",
       "       'fractal dimension error', 'worst radius', 'worst texture',\n",
       "       'worst perimeter', 'worst area', 'worst smoothness',\n",
       "       'worst compactness', 'worst concavity', 'worst concave points',\n",
       "       'worst symmetry', 'worst fractal dimension'], dtype='<U23')"
      ]
     },
     "execution_count": 9,
     "metadata": {
      "tags": []
     },
     "output_type": "execute_result"
    }
   ],
   "source": [
    "data.feature_names"
   ]
  },
  {
   "cell_type": "markdown",
   "metadata": {
    "id": "a8E-J-Y96tku"
   },
   "source": [
    "Agora chegou o momento em que vamos dividir os dados em **treinamento** e **teste**.\n",
    "\n",
    "Isso nos ajudará a simular quão bem o nosso modelo irá performar no futuro.\n",
    "\n",
    "Também estamos atribuindo o shape de **X_train** as variáveis **N** e **D**."
   ]
  },
  {
   "cell_type": "code",
   "execution_count": 11,
   "metadata": {
    "colab": {
     "base_uri": "https://localhost:8080/"
    },
    "id": "Dvsc-DNt7eMN",
    "outputId": "a1a430a5-6dab-47ea-f876-ba826c3c062e"
   },
   "outputs": [
    {
     "name": "stdout",
     "output_type": "stream",
     "text": [
      "381 30\n"
     ]
    }
   ],
   "source": [
    "from sklearn.model_selection import train_test_split \n",
    "\n",
    "X = data.data \n",
    "y = data.target\n",
    "\n",
    "X_train, X_test, y_train, y_test = train_test_split(X, y, test_size=0.33)\n",
    "\n",
    "N, D = X_train.shape\n",
    "print(N,D)"
   ]
  },
  {
   "cell_type": "markdown",
   "metadata": {
    "id": "CWJaz6B78aot"
   },
   "source": [
    "Faremos o scaling dos dados:"
   ]
  },
  {
   "cell_type": "code",
   "execution_count": 12,
   "metadata": {
    "id": "KqViWzR58eQN"
   },
   "outputs": [],
   "source": [
    "from sklearn.preprocessing import StandardScaler \n",
    "\n",
    "scaler = StandardScaler()\n",
    "X_train = scaler.fit_transform(X_train)\n",
    "X_test = scaler.transform(X_test)"
   ]
  },
  {
   "cell_type": "markdown",
   "metadata": {
    "id": "7U7L77i48tQE"
   },
   "source": [
    "E então iniciamos a construção de nosso modelo com PyTorch:"
   ]
  },
  {
   "cell_type": "code",
   "execution_count": 13,
   "metadata": {
    "id": "S-p_AVUk8vs6"
   },
   "outputs": [],
   "source": [
    "model = nn.Sequential(\n",
    "    nn.Linear(D, 1),\n",
    "    nn.Sigmoid()\n",
    ")"
   ]
  },
  {
   "cell_type": "markdown",
   "metadata": {
    "id": "Jf1BfjMk84J1"
   },
   "source": [
    "Definimos a função Loss e o Otimizador:"
   ]
  },
  {
   "cell_type": "code",
   "execution_count": 14,
   "metadata": {
    "id": "HdLtMdzC86Vd"
   },
   "outputs": [],
   "source": [
    "criterion = nn.BCELoss()\n",
    "optimizer = torch.optim.Adam(model.parameters())"
   ]
  },
  {
   "cell_type": "markdown",
   "metadata": {
    "id": "O1rtSN2g9OBP"
   },
   "source": [
    "Convertemos os dados Torch Tensors:"
   ]
  },
  {
   "cell_type": "code",
   "execution_count": 15,
   "metadata": {
    "id": "3i1WZq1a9S41"
   },
   "outputs": [],
   "source": [
    "X_train = torch.from_numpy(X_train.astype(np.float32))\n",
    "X_test = torch.from_numpy(X_test.astype(np.float32))\n",
    "y_train = torch.from_numpy(y_train.astype(np.float32).reshape(-1, 1))\n",
    "y_test = torch.from_numpy(y_test.astype(np.float32).reshape(-1, 1))"
   ]
  },
  {
   "cell_type": "markdown",
   "metadata": {
    "id": "PsJEVoOT9WfY"
   },
   "source": [
    "E treinamos o modelo:"
   ]
  },
  {
   "cell_type": "code",
   "execution_count": 16,
   "metadata": {
    "colab": {
     "base_uri": "https://localhost:8080/"
    },
    "id": "oolLssnN9ZMG",
    "outputId": "45606e08-2400-40b5-a554-58586cc66106"
   },
   "outputs": [
    {
     "name": "stdout",
     "output_type": "stream",
     "text": [
      "Epoch 50/1000, Train Loss: 0.6381, Test Loss: 0.6311\n",
      "Epoch 100/1000, Train Loss: 0.4453, Test Loss: 0.4508\n",
      "Epoch 150/1000, Train Loss: 0.3489, Test Loss: 0.3542\n",
      "Epoch 200/1000, Train Loss: 0.2921, Test Loss: 0.2948\n",
      "Epoch 250/1000, Train Loss: 0.2543, Test Loss: 0.2544\n",
      "Epoch 300/1000, Train Loss: 0.2272, Test Loss: 0.2251\n",
      "Epoch 350/1000, Train Loss: 0.2067, Test Loss: 0.2030\n",
      "Epoch 400/1000, Train Loss: 0.1907, Test Loss: 0.1857\n",
      "Epoch 450/1000, Train Loss: 0.1777, Test Loss: 0.1718\n",
      "Epoch 500/1000, Train Loss: 0.1670, Test Loss: 0.1604\n",
      "Epoch 550/1000, Train Loss: 0.1580, Test Loss: 0.1509\n",
      "Epoch 600/1000, Train Loss: 0.1504, Test Loss: 0.1429\n",
      "Epoch 650/1000, Train Loss: 0.1438, Test Loss: 0.1360\n",
      "Epoch 700/1000, Train Loss: 0.1380, Test Loss: 0.1300\n",
      "Epoch 750/1000, Train Loss: 0.1329, Test Loss: 0.1248\n",
      "Epoch 800/1000, Train Loss: 0.1284, Test Loss: 0.1202\n",
      "Epoch 850/1000, Train Loss: 0.1243, Test Loss: 0.1162\n",
      "Epoch 900/1000, Train Loss: 0.1206, Test Loss: 0.1125\n",
      "Epoch 950/1000, Train Loss: 0.1173, Test Loss: 0.1092\n",
      "Epoch 1000/1000, Train Loss: 0.1142, Test Loss: 0.1063\n"
     ]
    }
   ],
   "source": [
    "n_epochs = 1000\n",
    "\n",
    "train_losses = np.zeros(n_epochs)\n",
    "test_losses = np.zeros(n_epochs)\n",
    "\n",
    "for it in range(n_epochs):\n",
    "    # zerar os parâmetros do gradient\n",
    "    optimizer.zero_grad()\n",
    "\n",
    "    # Forward pass\n",
    "    outputs = model(X_train)\n",
    "    loss = criterion(outputs, y_train)\n",
    "\n",
    "    # Backward e optimize\n",
    "    loss.backward()\n",
    "    optimizer.step()\n",
    "\n",
    "    # Obter a loss de teste\n",
    "    outputs_test = model(X_test)\n",
    "    loss_test = criterion(outputs_test, y_test)\n",
    "\n",
    "    # Salvar as losses\n",
    "    train_losses[it] = loss.item()\n",
    "    test_losses[it] = loss_test.item()\n",
    "\n",
    "    if (it + 1) % 50 == 0:\n",
    "        print(f'Epoch {it+1}/{n_epochs}, Train Loss: {loss.item():.4f}, Test Loss: {loss_test.item():.4f}')"
   ]
  },
  {
   "cell_type": "markdown",
   "metadata": {
    "id": "skoi6kh495h2"
   },
   "source": [
    "Plotamos a loss de treinamento e teste por iteração:"
   ]
  },
  {
   "cell_type": "code",
   "execution_count": 17,
   "metadata": {
    "colab": {
     "base_uri": "https://localhost:8080/",
     "height": 265
    },
    "id": "ThLT6lHN9_Kb",
    "outputId": "bdc3e9c6-b1c6-4a3c-f403-a06e93fdc2cb"
   },
   "outputs": [
    {
     "data": {
      "image/png": "[encoded data removed]",
      "text/plain": [
       "<Figure size 432x288 with 1 Axes>"
      ]
     },
     "metadata": {
      "needs_background": "light",
      "tags": []
     },
     "output_type": "display_data"
    }
   ],
   "source": [
    "plt.plot(train_losses, label='Loss de Treinamento')\n",
    "plt.plot(test_losses, label='Loss de Teste')\n",
    "plt.legend();"
   ]
  },
  {
   "cell_type": "markdown",
   "metadata": {
    "id": "QnLcSS_G-LCl"
   },
   "source": [
    "De acordo com o gráfico, aparentemente o nosso modelo não está **Overfitting**.\n",
    "\n",
    "Vamos agora obter a **accuracy** do modelo:"
   ]
  },
  {
   "cell_type": "code",
   "execution_count": 18,
   "metadata": {
    "colab": {
     "base_uri": "https://localhost:8080/"
    },
    "id": "2i0XfPfh-Vy3",
    "outputId": "7194f412-2a78-49f9-8228-a08dcd527d5c"
   },
   "outputs": [
    {
     "name": "stdout",
     "output_type": "stream",
     "text": [
      "Train acc: 0.9764, Test acc: 0.9840\n"
     ]
    }
   ],
   "source": [
    "with torch.no_grad():\n",
    "    p_train = model(X_train)\n",
    "    p_train = np.round(p_train.numpy())\n",
    "    train_acc = np.mean(y_train.numpy() == p_train)\n",
    "\n",
    "    p_test = model(X_test)\n",
    "    p_test = np.round(p_test.numpy())\n",
    "    test_acc = np.mean(y_test.numpy() == p_test)\n",
    "print(f\"Train acc: {train_acc:.4f}, Test acc: {test_acc:.4f}\")"
   ]
  },
  {
   "cell_type": "markdown",
   "metadata": {
    "id": "poPtwJ9v_doN"
   },
   "source": [
    "## Salvando o Modelo\n",
    "\n",
    "Uma vez que temos um modelo construído, é importante que saibamos como salvá-lo para uso posterior.\n",
    "\n",
    "Primeiramente, vamos olhar o **state_dict()** que representa o estado de nosso modelo:"
   ]
  },
  {
   "cell_type": "code",
   "execution_count": 19,
   "metadata": {
    "colab": {
     "base_uri": "https://localhost:8080/"
    },
    "id": "8LlfaI4x_7Wp",
    "outputId": "0794a796-55ca-4d99-8376-65d7da17f908"
   },
   "outputs": [
    {
     "data": {
      "text/plain": [
       "OrderedDict([('0.weight',\n",
       "              tensor([[-0.3724, -0.5677, -0.4269, -0.4059, -0.2397, -0.3722, -0.2505, -0.1704,\n",
       "                       -0.0443,  0.5479, -0.4004,  0.0765, -0.2337, -0.3447,  0.0647, -0.0328,\n",
       "                       -0.0381, -0.1901,  0.1511,  0.3339, -0.3281, -0.2917, -0.2119, -0.2266,\n",
       "                       -0.4853, -0.1003, -0.1372, -0.2075, -0.3589, -0.3443]])),\n",
       "             ('0.bias', tensor([0.4758]))])"
      ]
     },
     "execution_count": 19,
     "metadata": {
      "tags": []
     },
     "output_type": "execute_result"
    }
   ],
   "source": [
    "model.state_dict()"
   ]
  },
  {
   "cell_type": "markdown",
   "metadata": {
    "id": "Fn44_Ij7ADoK"
   },
   "source": [
    "Veja que ele nos apresenta os parâmetros do modelo.\n",
    "\n",
    "Uma vez que só temos uma layer em nosso modelo, o primeiro elemento é a matriz de **weights** e o segundo elemento e o vetor de **bias**.\n",
    "\n",
    "A próxima etapa é salvar o modelo com a função **torch.save()**:"
   ]
  },
  {
   "cell_type": "code",
   "execution_count": 20,
   "metadata": {
    "id": "Nh3udXGJAavU"
   },
   "outputs": [],
   "source": [
    "torch.save(model.state_dict(), 'modelo.pt')"
   ]
  },
  {
   "cell_type": "markdown",
   "metadata": {
    "id": "W2rmMWANAl1j"
   },
   "source": [
    "Podemos confirmar com o comando **ls** que agora temos um arquivo `modelo.pt` que representa o nosso modelo persistente em disco:"
   ]
  },
  {
   "cell_type": "code",
   "execution_count": 21,
   "metadata": {
    "colab": {
     "base_uri": "https://localhost:8080/"
    },
    "id": "_IxeWhTBAubY",
    "outputId": "6b564cf8-e79e-4a81-a307-2fe4b95df518"
   },
   "outputs": [
    {
     "name": "stdout",
     "output_type": "stream",
     "text": [
      "modelo.pt  sample_data\n"
     ]
    }
   ],
   "source": [
    "!ls"
   ]
  },
  {
   "cell_type": "markdown",
   "metadata": {
    "id": "eSI1evwwAy1B"
   },
   "source": [
    "A próxima etapa é carregar o modelo e avaliá-lo para verificarmos se ele foi salvo corretamente.\n",
    "\n",
    "Para fazermos isso, precisamos antes recriá-lo da mesma maneira que fizemos antes e em seguida vamos usar a função **load_state_dict()**, passando para ela o nosso modelo carregado com a função **torch.load()**.\n",
    "\n",
    "Vejamos o exemplo:"
   ]
  },
  {
   "cell_type": "code",
   "execution_count": 22,
   "metadata": {
    "colab": {
     "base_uri": "https://localhost:8080/"
    },
    "id": "7qlDL3y7A5QP",
    "outputId": "37503fe3-5fdf-4a0d-e1ef-9f3dff625da4"
   },
   "outputs": [
    {
     "data": {
      "text/plain": [
       "<All keys matched successfully>"
      ]
     },
     "execution_count": 22,
     "metadata": {
      "tags": []
     },
     "output_type": "execute_result"
    }
   ],
   "source": [
    "modelo = nn.Sequential(\n",
    "    nn.Linear(D, 1),\n",
    "    nn.Sigmoid()\n",
    ")\n",
    "\n",
    "modelo.load_state_dict(torch.load('modelo.pt'))"
   ]
  },
  {
   "cell_type": "markdown",
   "metadata": {
    "id": "jBait9dmBtST"
   },
   "source": [
    "E agora vamos avaliar o modelo que carregamos:"
   ]
  },
  {
   "cell_type": "code",
   "execution_count": 23,
   "metadata": {
    "colab": {
     "base_uri": "https://localhost:8080/"
    },
    "id": "bhraH8GbBv77",
    "outputId": "6c255ff2-5309-42e7-ba8f-7399ed49e497"
   },
   "outputs": [
    {
     "name": "stdout",
     "output_type": "stream",
     "text": [
      "Train acc: 0.9764, Test acc: 0.9840\n"
     ]
    }
   ],
   "source": [
    "with torch.no_grad():\n",
    "    p_train = modelo(X_train)\n",
    "    p_train = np.round(p_train.numpy())\n",
    "    train_acc = np.mean(y_train.numpy() == p_train)\n",
    "\n",
    "    p_test = modelo(X_test)\n",
    "    p_test = np.round(p_test.numpy())\n",
    "    test_acc = np.mean(y_test.numpy() == p_test)\n",
    "print(f\"Train acc: {train_acc:.4f}, Test acc: {test_acc:.4f}\")"
   ]
  },
  {
   "cell_type": "markdown",
   "metadata": {
    "id": "SIvWedMvCDKP"
   },
   "source": [
    "Também temos a opção de fazer o download de nosso modelo (caso estejamos usando a plataforma Google Colab):"
   ]
  },
  {
   "cell_type": "code",
   "execution_count": 24,
   "metadata": {
    "colab": {
     "base_uri": "https://localhost:8080/",
     "height": 17
    },
    "id": "gkjcZEA3CSgx",
    "outputId": "e357889a-98f5-4197-e687-8f9bb9e66292"
   },
   "outputs": [
    {
     "data": {
      "application/javascript": [
       "\n",
       "    async function download(id, filename, size) {\n",
       "      if (!google.colab.kernel.accessAllowed) {\n",
       "        return;\n",
       "      }\n",
       "      const div = document.createElement('div');\n",
       "      const label = document.createElement('label');\n",
       "      label.textContent = `Downloading \"${filename}\": `;\n",
       "      div.appendChild(label);\n",
       "      const progress = document.createElement('progress');\n",
       "      progress.max = size;\n",
       "      div.appendChild(progress);\n",
       "      document.body.appendChild(div);\n",
       "\n",
       "      const buffers = [];\n",
       "      let downloaded = 0;\n",
       "\n",
       "      const channel = await google.colab.kernel.comms.open(id);\n",
       "      // Send a message to notify the kernel that we're ready.\n",
       "      channel.send({})\n",
       "\n",
       "      for await (const message of channel.messages) {\n",
       "        // Send a message to notify the kernel that we're ready.\n",
       "        channel.send({})\n",
       "        if (message.buffers) {\n",
       "          for (const buffer of message.buffers) {\n",
       "            buffers.push(buffer);\n",
       "            downloaded += buffer.byteLength;\n",
       "            progress.value = downloaded;\n",
       "          }\n",
       "        }\n",
       "      }\n",
       "      const blob = new Blob(buffers, {type: 'application/binary'});\n",
       "      const a = document.createElement('a');\n",
       "      a.href = window.URL.createObjectURL(blob);\n",
       "      a.download = filename;\n",
       "      div.appendChild(a);\n",
       "      a.click();\n",
       "      div.remove();\n",
       "    }\n",
       "  "
      ],
      "text/plain": [
       "<IPython.core.display.Javascript object>"
      ]
     },
     "metadata": {
      "tags": []
     },
     "output_type": "display_data"
    },
    {
     "data": {
      "application/javascript": [
       "download(\"download_ee3fd44c-1400-4549-97e0-eda46a079d9c\", \"modelo.pt\", 1191)"
      ],
      "text/plain": [
       "<IPython.core.display.Javascript object>"
      ]
     },
     "metadata": {
      "tags": []
     },
     "output_type": "display_data"
    }
   ],
   "source": [
    "from google.colab import files\n",
    "\n",
    "files.download('modelo.pt')"
   ]
  }
 ],
 "metadata": {
  "colab": {
   "collapsed_sections": [],
   "name": "Classificação.ipynb",
   "provenance": []
  },
  "kernelspec": {
   "display_name": "Python 3",
   "language": "python",
   "name": "python3"
  },
  "language_info": {
   "codemirror_mode": {
    "name": "ipython",
    "version": 3
   },
   "file_extension": ".py",
   "mimetype": "text/x-python",
   "name": "python",
   "nbconvert_exporter": "python",
   "pygments_lexer": "ipython3",
   "version": "3.7.10"
  }
 },
 "nbformat": 4,
 "nbformat_minor": 4
}
