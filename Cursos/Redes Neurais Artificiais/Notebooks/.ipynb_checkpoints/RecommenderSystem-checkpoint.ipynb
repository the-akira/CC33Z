{
  "nbformat": 4,
  "nbformat_minor": 0,
  "metadata": {
    "colab": {
      "name": "RecommenderSystem.ipynb",
      "provenance": [],
      "collapsed_sections": []
    },
    "kernelspec": {
      "name": "python3",
      "display_name": "Python 3"
    },
    "language_info": {
      "name": "python"
    },
    "accelerator": "GPU"
  },
  "cells": [
    {
      "cell_type": "markdown",
      "metadata": {
        "id": "5GGetAPuVMNH"
      },
      "source": [
        "# Recommender System\n",
        "\n",
        "Um sistema de recomendação é uma subclasse de sistema de filtragem de informações que busca prever a \"classificação\" ou \"preferência\" que um usuário daria a um item.\n",
        "\n",
        "Neste notebook, veremos como podemos construir um sistema de recomendação usando a biblioteca PyTorch.\n",
        "\n",
        "Primeiramente vamos importar as bibliotecas necessárias:"
      ]
    },
    {
      "cell_type": "code",
      "metadata": {
        "id": "GivY290NVhxm"
      },
      "source": [
        "import torch\n",
        "import torch.nn as nn\n",
        "import torch.nn.functional as F\n",
        "import numpy as np\n",
        "import pandas as pd\n",
        "import matplotlib.pyplot as plt\n",
        "from datetime import datetime\n",
        "from sklearn.utils import shuffle"
      ],
      "execution_count": null,
      "outputs": []
    },
    {
      "cell_type": "markdown",
      "metadata": {
        "id": "UkYY502KYPyO"
      },
      "source": [
        "Faremos o download dos dados.\n",
        "\n",
        "Estamos usando o conjunto de dados [MovieLens](https://grouplens.org/datasets/movielens/)."
      ]
    },
    {
      "cell_type": "code",
      "metadata": {
        "colab": {
          "base_uri": "https://localhost:8080/"
        },
        "id": "BPS1fXQDYWwF",
        "outputId": "554a66b3-2a2a-4fa7-b47d-6c75abccdb51"
      },
      "source": [
        "!wget -nc http://files.grouplens.org/datasets/movielens/ml-20m.zip"
      ],
      "execution_count": null,
      "outputs": [
        {
          "output_type": "stream",
          "text": [
            "--2021-06-22 20:32:24--  http://files.grouplens.org/datasets/movielens/ml-20m.zip\n",
            "Resolving files.grouplens.org (files.grouplens.org)... 128.101.65.152\n",
            "Connecting to files.grouplens.org (files.grouplens.org)|128.101.65.152|:80... connected.\n",
            "HTTP request sent, awaiting response... 200 OK\n",
            "Length: 198702078 (189M) [application/zip]\n",
            "Saving to: ‘ml-20m.zip’\n",
            "\n",
            "ml-20m.zip          100%[===================>] 189.50M  46.8MB/s    in 4.4s    \n",
            "\n",
            "2021-06-22 20:32:29 (42.8 MB/s) - ‘ml-20m.zip’ saved [198702078/198702078]\n",
            "\n"
          ],
          "name": "stdout"
        }
      ]
    },
    {
      "cell_type": "markdown",
      "metadata": {
        "id": "H2dCogW8Yg40"
      },
      "source": [
        "Descompactamos o arquivo que fizemos download:"
      ]
    },
    {
      "cell_type": "code",
      "metadata": {
        "colab": {
          "base_uri": "https://localhost:8080/"
        },
        "id": "UHrIDVPJYkMM",
        "outputId": "0bdbe240-f646-47f0-d6c5-04a9b975a8b4"
      },
      "source": [
        "!unzip -n ml-20m.zip"
      ],
      "execution_count": null,
      "outputs": [
        {
          "output_type": "stream",
          "text": [
            "Archive:  ml-20m.zip\n",
            "   creating: ml-20m/\n",
            "  inflating: ml-20m/genome-scores.csv  \n",
            "  inflating: ml-20m/genome-tags.csv  \n",
            "  inflating: ml-20m/links.csv        \n",
            "  inflating: ml-20m/movies.csv       \n",
            "  inflating: ml-20m/ratings.csv      \n",
            "  inflating: ml-20m/README.txt       \n",
            "  inflating: ml-20m/tags.csv         \n"
          ],
          "name": "stdout"
        }
      ]
    },
    {
      "cell_type": "markdown",
      "metadata": {
        "id": "LIF7__IQYpbj"
      },
      "source": [
        "Vejamos os arquivos que temos disponíveis:"
      ]
    },
    {
      "cell_type": "code",
      "metadata": {
        "colab": {
          "base_uri": "https://localhost:8080/"
        },
        "id": "bsybmxPrYr6T",
        "outputId": "ce258422-7a56-470f-91da-fc7e40ab6110"
      },
      "source": [
        "!ls"
      ],
      "execution_count": null,
      "outputs": [
        {
          "output_type": "stream",
          "text": [
            "ml-20m\tml-20m.zip  sample_data\n"
          ],
          "name": "stdout"
        }
      ]
    },
    {
      "cell_type": "markdown",
      "metadata": {
        "id": "DIkHEworYudZ"
      },
      "source": [
        "Carregamos as avaliações de filmes em um DataFrame pandas:"
      ]
    },
    {
      "cell_type": "code",
      "metadata": {
        "colab": {
          "base_uri": "https://localhost:8080/",
          "height": 204
        },
        "id": "menQWZ3uYw98",
        "outputId": "529fe4b4-30bf-4d9d-a8c7-b46aaa6f4f22"
      },
      "source": [
        "df = pd.read_csv('ml-20m/ratings.csv')\n",
        "df.head()"
      ],
      "execution_count": null,
      "outputs": [
        {
          "output_type": "execute_result",
          "data": {
            "text/html": [
              "<div>\n",
              "<style scoped>\n",
              "    .dataframe tbody tr th:only-of-type {\n",
              "        vertical-align: middle;\n",
              "    }\n",
              "\n",
              "    .dataframe tbody tr th {\n",
              "        vertical-align: top;\n",
              "    }\n",
              "\n",
              "    .dataframe thead th {\n",
              "        text-align: right;\n",
              "    }\n",
              "</style>\n",
              "<table border=\"1\" class=\"dataframe\">\n",
              "  <thead>\n",
              "    <tr style=\"text-align: right;\">\n",
              "      <th></th>\n",
              "      <th>userId</th>\n",
              "      <th>movieId</th>\n",
              "      <th>rating</th>\n",
              "      <th>timestamp</th>\n",
              "    </tr>\n",
              "  </thead>\n",
              "  <tbody>\n",
              "    <tr>\n",
              "      <th>0</th>\n",
              "      <td>1</td>\n",
              "      <td>2</td>\n",
              "      <td>3.5</td>\n",
              "      <td>1112486027</td>\n",
              "    </tr>\n",
              "    <tr>\n",
              "      <th>1</th>\n",
              "      <td>1</td>\n",
              "      <td>29</td>\n",
              "      <td>3.5</td>\n",
              "      <td>1112484676</td>\n",
              "    </tr>\n",
              "    <tr>\n",
              "      <th>2</th>\n",
              "      <td>1</td>\n",
              "      <td>32</td>\n",
              "      <td>3.5</td>\n",
              "      <td>1112484819</td>\n",
              "    </tr>\n",
              "    <tr>\n",
              "      <th>3</th>\n",
              "      <td>1</td>\n",
              "      <td>47</td>\n",
              "      <td>3.5</td>\n",
              "      <td>1112484727</td>\n",
              "    </tr>\n",
              "    <tr>\n",
              "      <th>4</th>\n",
              "      <td>1</td>\n",
              "      <td>50</td>\n",
              "      <td>3.5</td>\n",
              "      <td>1112484580</td>\n",
              "    </tr>\n",
              "  </tbody>\n",
              "</table>\n",
              "</div>"
            ],
            "text/plain": [
              "   userId  movieId  rating   timestamp\n",
              "0       1        2     3.5  1112486027\n",
              "1       1       29     3.5  1112484676\n",
              "2       1       32     3.5  1112484819\n",
              "3       1       47     3.5  1112484727\n",
              "4       1       50     3.5  1112484580"
            ]
          },
          "metadata": {
            "tags": []
          },
          "execution_count": 5
        }
      ]
    },
    {
      "cell_type": "markdown",
      "metadata": {
        "id": "_BfwVpL8Y9fu"
      },
      "source": [
        "A seguir vamos setar um novo ID de usuário:"
      ]
    },
    {
      "cell_type": "code",
      "metadata": {
        "id": "ME9BDJ2vY_-i"
      },
      "source": [
        "df.userId = pd.Categorical(df.userId)\n",
        "df['new_user_id'] = df.userId.cat.codes"
      ],
      "execution_count": null,
      "outputs": []
    },
    {
      "cell_type": "markdown",
      "metadata": {
        "id": "adsDWLtCZEOp"
      },
      "source": [
        "A seguir vamos setar um novo ID de filme:"
      ]
    },
    {
      "cell_type": "code",
      "metadata": {
        "id": "96NUcee9ZGjD"
      },
      "source": [
        "df.movieId = pd.Categorical(df.movieId)\n",
        "df['new_movie_id'] = df.movieId.cat.codes"
      ],
      "execution_count": null,
      "outputs": []
    },
    {
      "cell_type": "markdown",
      "metadata": {
        "id": "VTAuUUsMZLJJ"
      },
      "source": [
        "Obtemos ID's de usuário, ID's de filme e avaliações como arrays separados:"
      ]
    },
    {
      "cell_type": "code",
      "metadata": {
        "id": "JfF0IRlEZQFl"
      },
      "source": [
        "user_ids = df['new_user_id'].values\n",
        "movie_ids = df['new_movie_id'].values\n",
        "ratings = df['rating'].values - 2.5"
      ],
      "execution_count": null,
      "outputs": []
    },
    {
      "cell_type": "markdown",
      "metadata": {
        "id": "z48ajipKZVs9"
      },
      "source": [
        "Obtemos o número de usuários e o número de filmes:"
      ]
    },
    {
      "cell_type": "code",
      "metadata": {
        "id": "nPXI6DIAZX1i"
      },
      "source": [
        "N = len(set(user_ids))\n",
        "M = len(set(movie_ids))"
      ],
      "execution_count": null,
      "outputs": []
    },
    {
      "cell_type": "markdown",
      "metadata": {
        "id": "08M55TAzZdC9"
      },
      "source": [
        "Setamos a embedding dimension:"
      ]
    },
    {
      "cell_type": "code",
      "metadata": {
        "id": "i7OVjDEsZfA6"
      },
      "source": [
        "D = 10"
      ],
      "execution_count": null,
      "outputs": []
    },
    {
      "cell_type": "markdown",
      "metadata": {
        "id": "TSoDPob7ZiXf"
      },
      "source": [
        "Construímos a Rede Neural (Modelo):"
      ]
    },
    {
      "cell_type": "code",
      "metadata": {
        "id": "HZeq12qLZkeh"
      },
      "source": [
        "class Model(nn.Module):\n",
        "    def __init__(self, n_users, n_items, embed_dim, n_hidden=1024):\n",
        "        super(Model, self).__init__()\n",
        "        self.N = n_users\n",
        "        self.M = n_items\n",
        "        self.D = embed_dim\n",
        "\n",
        "        self.u_emb = nn.Embedding(self.N, self.D)\n",
        "        self.m_emb = nn.Embedding(self.M, self.D)\n",
        "        self.fc1 = nn.Linear(2 * self.D, n_hidden)\n",
        "        self.fc2 = nn.Linear(n_hidden, 1)\n",
        "\n",
        "        # set the weights since N(0, 1) leads to poor results\n",
        "        self.u_emb.weight.data = nn.Parameter(\n",
        "            torch.Tensor(np.random.randn(self.N, self.D) * 0.01))\n",
        "        self.m_emb.weight.data = nn.Parameter(\n",
        "            torch.Tensor(np.random.randn(self.M, self.D) * 0.01))\n",
        "\n",
        "    def forward(self, u, m):\n",
        "        u = self.u_emb(u) # output is (num_samples, D)\n",
        "        m = self.m_emb(m) # output is (num_samples, D)\n",
        "\n",
        "        # merge\n",
        "        out = torch.cat((u, m), 1) # output is (num_samples, 2D)\n",
        "\n",
        "        # ANN\n",
        "        out = self.fc1(out)\n",
        "        out = F.relu(out)\n",
        "        out = self.fc2(out)\n",
        "        return out"
      ],
      "execution_count": null,
      "outputs": []
    },
    {
      "cell_type": "markdown",
      "metadata": {
        "id": "ubiLoS1xZr6v"
      },
      "source": [
        "Selecionamos o dispositivo de processamento:"
      ]
    },
    {
      "cell_type": "code",
      "metadata": {
        "colab": {
          "base_uri": "https://localhost:8080/"
        },
        "id": "8vUDPH8pZwY5",
        "outputId": "2a84970a-a1d6-4866-8ee7-d6c74bb4e911"
      },
      "source": [
        "device = torch.device(\"cuda:0\" if torch.cuda.is_available() else \"cpu\")\n",
        "print(device)"
      ],
      "execution_count": null,
      "outputs": [
        {
          "output_type": "stream",
          "text": [
            "cuda:0\n"
          ],
          "name": "stdout"
        }
      ]
    },
    {
      "cell_type": "markdown",
      "metadata": {
        "id": "_p9k2lP3Z4E7"
      },
      "source": [
        "Instanciamos o modelo:"
      ]
    },
    {
      "cell_type": "code",
      "metadata": {
        "colab": {
          "base_uri": "https://localhost:8080/"
        },
        "id": "UNvdYap5Z5Tw",
        "outputId": "095d4537-7c8d-4907-a92d-8866c4eaf362"
      },
      "source": [
        "model = Model(N, M, D)\n",
        "model.to(device)"
      ],
      "execution_count": null,
      "outputs": [
        {
          "output_type": "execute_result",
          "data": {
            "text/plain": [
              "Model(\n",
              "  (u_emb): Embedding(138493, 10)\n",
              "  (m_emb): Embedding(26744, 10)\n",
              "  (fc1): Linear(in_features=20, out_features=1024, bias=True)\n",
              "  (fc2): Linear(in_features=1024, out_features=1, bias=True)\n",
              ")"
            ]
          },
          "metadata": {
            "tags": []
          },
          "execution_count": 13
        }
      ]
    },
    {
      "cell_type": "markdown",
      "metadata": {
        "id": "kNELw6UuZ7y-"
      },
      "source": [
        "Definimos a função Loss e o Optimizer:"
      ]
    },
    {
      "cell_type": "code",
      "metadata": {
        "id": "KhdkVbYVZ95q"
      },
      "source": [
        "criterion = nn.MSELoss()\n",
        "optimizer = torch.optim.SGD(model.parameters(), lr=0.08, momentum=0.9)"
      ],
      "execution_count": null,
      "outputs": []
    },
    {
      "cell_type": "markdown",
      "metadata": {
        "id": "jT7QQLXuaHen"
      },
      "source": [
        "Criamos uma função para encapsular o loop de treinamento:"
      ]
    },
    {
      "cell_type": "code",
      "metadata": {
        "id": "3wwATGIWaR7L"
      },
      "source": [
        "def batch_gd2(model, criterion, optimizer, train_data, test_data, epochs, bs=512):\n",
        "    train_users, train_movies, train_ratings = train_data\n",
        "    test_users, test_movies, test_ratings = test_data\n",
        "\n",
        "    train_losses = np.zeros(epochs)\n",
        "    test_losses = np.zeros(epochs)\n",
        "\n",
        "    # batches per epoch\n",
        "    Ntrain = len(train_users)\n",
        "    batches_per_epoch = int(np.ceil(Ntrain / bs))\n",
        "\n",
        "    for it in range(epochs):\n",
        "        t0 = datetime.now()\n",
        "        train_loss = []\n",
        "\n",
        "        # shuffle each batch\n",
        "        train_users, train_movies, train_ratings = shuffle(\n",
        "            train_users, train_movies, train_ratings\n",
        "        )\n",
        "\n",
        "        for j in range(batches_per_epoch):\n",
        "            # get the batch\n",
        "            users = train_users[j*bs:(j+1)*bs]\n",
        "            movies = train_movies[j*bs:(j+1)*bs]\n",
        "            targets = train_ratings[j*bs:(j+1)*bs]\n",
        "\n",
        "            # conver to tensor\n",
        "            users = torch.from_numpy(users).long()\n",
        "            movies = torch.from_numpy(movies).long()\n",
        "            targets = torch.from_numpy(targets)\n",
        "\n",
        "            # reshape targets\n",
        "            targets = targets.view(-1, 1).float()\n",
        "\n",
        "            # move data to GPU\n",
        "            users, movies, targets = users.to(device), movies.to(device), targets.to(device)\n",
        "\n",
        "            # zero the parameter gradients\n",
        "            optimizer.zero_grad()\n",
        "\n",
        "            # Forward pass\n",
        "            outputs = model(users, movies)\n",
        "            loss = criterion(outputs, targets)\n",
        "            \n",
        "            # Backward and optimize\n",
        "            loss.backward()\n",
        "            optimizer.step()\n",
        "\n",
        "            train_loss.append(loss.item())\n",
        "\n",
        "        # Get train loss and test loss\n",
        "        train_loss = np.mean(train_loss) # a little misleading\n",
        "\n",
        "        # we could do this if the test set size was manageable\n",
        "        # test_outputs = model(test_users, test_movies)\n",
        "        # test_loss = criterion(test_outputs, test_ratings).item()\n",
        "        test_loss = []\n",
        "        for j in range(int(np.ceil(len(test_users) / bs))):\n",
        "            # get the batch\n",
        "            users = test_users[j*bs:(j+1)*bs]\n",
        "            movies = test_movies[j*bs:(j+1)*bs]\n",
        "            targets = test_ratings[j*bs:(j+1)*bs]\n",
        "\n",
        "            # conver to tensor\n",
        "            users = torch.from_numpy(users).long()\n",
        "            movies = torch.from_numpy(movies).long()\n",
        "            targets = torch.from_numpy(targets)\n",
        "\n",
        "            # reshape targets\n",
        "            targets = targets.view(-1, 1).float()\n",
        "\n",
        "            # move data to GPU\n",
        "            users, movies, targets = users.to(device), movies.to(device), targets.to(device)\n",
        "\n",
        "            outputs = model(users, movies)\n",
        "            loss = criterion(outputs, targets).item()\n",
        "            test_loss.append(loss)\n",
        "        test_loss = np.mean(test_loss)\n",
        "\n",
        "        # Save losses\n",
        "        train_losses[it] = train_loss\n",
        "        test_losses[it] = test_loss\n",
        "\n",
        "        dt = datetime.now() - t0\n",
        "        print(f'Epoch {it+1}/{epochs}, Train Loss: {train_loss:.4f}, '\n",
        "                f'Test Loss: {test_loss:.4f}, Duration: {dt}')\n",
        "\n",
        "    return train_losses, test_losses"
      ],
      "execution_count": null,
      "outputs": []
    },
    {
      "cell_type": "markdown",
      "metadata": {
        "id": "qg3ZgKewaiiE"
      },
      "source": [
        "Embaralhamos os dados na ordem correspondente:"
      ]
    },
    {
      "cell_type": "code",
      "metadata": {
        "id": "EYZHSrAzakMx"
      },
      "source": [
        "user_ids, movie_ids, ratings = shuffle(user_ids, movie_ids, ratings)"
      ],
      "execution_count": null,
      "outputs": []
    },
    {
      "cell_type": "markdown",
      "metadata": {
        "id": "VPaYpgV9apDw"
      },
      "source": [
        "Treinamos o modelo:"
      ]
    },
    {
      "cell_type": "code",
      "metadata": {
        "colab": {
          "base_uri": "https://localhost:8080/"
        },
        "id": "PyTM0bD8aqKq",
        "outputId": "e1c334b9-5993-4aa4-a2e2-4d01cf45e553"
      },
      "source": [
        "Ntrain = int(0.8 * len(ratings))\n",
        "train_users = user_ids[:Ntrain]\n",
        "train_movies = movie_ids[:Ntrain]\n",
        "train_ratings = ratings[:Ntrain]\n",
        "\n",
        "test_users = user_ids[Ntrain:]\n",
        "test_movies = movie_ids[Ntrain:]\n",
        "test_ratings = ratings[Ntrain:]\n",
        "\n",
        "train_losses, test_losses = batch_gd2(\n",
        "    model,\n",
        "    criterion,\n",
        "    optimizer,\n",
        "    (train_users, train_movies, train_ratings),\n",
        "    (test_users, test_movies, test_ratings),\n",
        "    10)"
      ],
      "execution_count": null,
      "outputs": [
        {
          "output_type": "stream",
          "text": [
            "Epoch 1/10, Train Loss: 0.7389, Test Loss: 0.6955, Duration: 0:00:41.870735\n",
            "Epoch 2/10, Train Loss: 0.6703, Test Loss: 0.6668, Duration: 0:00:41.844064\n",
            "Epoch 3/10, Train Loss: 0.6378, Test Loss: 0.6507, Duration: 0:00:41.498121\n",
            "Epoch 4/10, Train Loss: 0.6155, Test Loss: 0.6406, Duration: 0:00:41.889691\n",
            "Epoch 5/10, Train Loss: 0.5994, Test Loss: 0.6324, Duration: 0:00:41.638929\n",
            "Epoch 6/10, Train Loss: 0.5867, Test Loss: 0.6298, Duration: 0:00:41.502983\n",
            "Epoch 7/10, Train Loss: 0.5764, Test Loss: 0.6286, Duration: 0:00:41.950145\n",
            "Epoch 8/10, Train Loss: 0.5684, Test Loss: 0.6269, Duration: 0:00:41.597173\n",
            "Epoch 9/10, Train Loss: 0.5622, Test Loss: 0.6275, Duration: 0:00:41.598991\n",
            "Epoch 10/10, Train Loss: 0.5573, Test Loss: 0.6260, Duration: 0:00:41.603273\n"
          ],
          "name": "stdout"
        }
      ]
    },
    {
      "cell_type": "markdown",
      "metadata": {
        "id": "2chpPOkPc6j5"
      },
      "source": [
        "Plotamos a loss de treinamento e teste por iteração:"
      ]
    },
    {
      "cell_type": "code",
      "metadata": {
        "colab": {
          "base_uri": "https://localhost:8080/",
          "height": 265
        },
        "id": "N6YNjzwIc8v_",
        "outputId": "5a0513b9-e918-4d37-cb5d-999178ee3ed3"
      },
      "source": [
        "plt.plot(train_losses, label='train loss')\n",
        "plt.plot(test_losses, label='test loss')\n",
        "plt.legend();"
      ],
      "execution_count": null,
      "outputs": [
        {
          "output_type": "display_data",
          "data": {
            "image/png": "[encoded data removed]",
            "text/plain": [
              "<Figure size 432x288 with 1 Axes>"
            ]
          },
          "metadata": {
            "tags": [],
            "needs_background": "light"
          }
        }
      ]
    },
    {
      "cell_type": "markdown",
      "metadata": {
        "id": "u88FOIzZdE32"
      },
      "source": [
        "## Fazendo Previsões\n",
        "\n",
        "Vejamos agora como podemos usar o nosso modelo para fazer previsões.\n",
        "\n",
        "Suponha que desejamos encontrar recomendações para o usuário cujo id é 1 (user_id = 1).\n",
        "\n",
        "Primeiro, encontramos todos os ID's de filme (movie_ids) para os filmes que esse usuário não assistiu:"
      ]
    },
    {
      "cell_type": "code",
      "metadata": {
        "colab": {
          "base_uri": "https://localhost:8080/"
        },
        "id": "OywUvr63dLsf",
        "outputId": "2a6b7886-2ea1-4324-e523-209499296c64"
      },
      "source": [
        "watched_movie_ids = df[df.new_user_id == 1].new_movie_id.values\n",
        "watched_movie_ids"
      ],
      "execution_count": null,
      "outputs": [
        {
          "output_type": "execute_result",
          "data": {
            "text/plain": [
              "array([   2,   61,   69,  108,  239,  257,  263,  465,  476,  537,  583,\n",
              "        874,  891,  907, 1098, 1171, 1184, 1188, 1221, 1231, 1242, 1298,\n",
              "       1326, 1494, 1528, 1616, 1684, 1881, 1885, 1886, 1887, 1888, 1889,\n",
              "       1890, 1902, 2206, 2369, 2370, 2705, 2772, 2862, 2865, 3063, 3072,\n",
              "       3086, 3361, 3423, 3443, 3464, 3474, 3612, 3662, 3824, 3825, 3830,\n",
              "       3833, 3834, 3835, 3837, 3843, 3865], dtype=int16)"
            ]
          },
          "metadata": {
            "tags": []
          },
          "execution_count": 19
        }
      ]
    },
    {
      "cell_type": "code",
      "metadata": {
        "id": "gOZL18qBdld3"
      },
      "source": [
        "potential_movie_ids = df[~df.new_movie_id.isin(watched_movie_ids)].new_movie_id.unique()"
      ],
      "execution_count": null,
      "outputs": []
    },
    {
      "cell_type": "markdown",
      "metadata": {
        "id": "o2YItl_nd3X5"
      },
      "source": [
        "Quantos filmes em potencial temos para recomendar para este usuário?"
      ]
    },
    {
      "cell_type": "code",
      "metadata": {
        "colab": {
          "base_uri": "https://localhost:8080/"
        },
        "id": "rKjWAbrrd6Hz",
        "outputId": "12eea93f-ede1-4eea-be11-b6fb1919a274"
      },
      "source": [
        "potential_movie_ids.shape"
      ],
      "execution_count": null,
      "outputs": [
        {
          "output_type": "execute_result",
          "data": {
            "text/plain": [
              "(26683,)"
            ]
          },
          "metadata": {
            "tags": []
          },
          "execution_count": 22
        }
      ]
    },
    {
      "cell_type": "code",
      "metadata": {
        "colab": {
          "base_uri": "https://localhost:8080/"
        },
        "id": "uk2guhzmd-bc",
        "outputId": "a999b9d5-d1c4-432a-d589-fd61e92971df"
      },
      "source": [
        "len(set(potential_movie_ids))"
      ],
      "execution_count": null,
      "outputs": [
        {
          "output_type": "execute_result",
          "data": {
            "text/plain": [
              "26683"
            ]
          },
          "metadata": {
            "tags": []
          },
          "execution_count": 23
        }
      ]
    },
    {
      "cell_type": "markdown",
      "metadata": {
        "id": "i5d4R2DqeDNS"
      },
      "source": [
        "Vamos repetir o id do usuário este número potencial de vezes:"
      ]
    },
    {
      "cell_type": "code",
      "metadata": {
        "id": "n0xNGpGreLLE"
      },
      "source": [
        "user_id_to_recommend = np.ones_like(potential_movie_ids)"
      ],
      "execution_count": null,
      "outputs": []
    },
    {
      "cell_type": "markdown",
      "metadata": {
        "id": "plmgQ5M0el9K"
      },
      "source": [
        "Convertemos para Torch Tensor e movemos os dados para o dispositivo de processamento disponível:"
      ]
    },
    {
      "cell_type": "code",
      "metadata": {
        "id": "PGWXs_VaeoRb"
      },
      "source": [
        "t_user_ids = torch.from_numpy(user_id_to_recommend).long().to(device)\n",
        "t_movie_ids = torch.from_numpy(potential_movie_ids).long().to(device)"
      ],
      "execution_count": null,
      "outputs": []
    },
    {
      "cell_type": "markdown",
      "metadata": {
        "id": "2qw-N6NBe7Y4"
      },
      "source": [
        "E então podemos obter previsões:"
      ]
    },
    {
      "cell_type": "code",
      "metadata": {
        "id": "zh-bl4D4e9LX"
      },
      "source": [
        "with torch.no_grad():\n",
        "    predictions = model(t_user_ids, t_movie_ids)"
      ],
      "execution_count": null,
      "outputs": []
    },
    {
      "cell_type": "markdown",
      "metadata": {
        "id": "-JuzQ6yTfEC6"
      },
      "source": [
        "Convertemos as previsões para NumPy:"
      ]
    },
    {
      "cell_type": "code",
      "metadata": {
        "id": "OargY496fGHy"
      },
      "source": [
        "predictions_np = predictions.cpu().numpy().flatten()"
      ],
      "execution_count": null,
      "outputs": []
    },
    {
      "cell_type": "markdown",
      "metadata": {
        "id": "5Ro8PnlVfMuL"
      },
      "source": [
        "Obtemos os índices ordenados (ordem descendente) para as previsões:"
      ]
    },
    {
      "cell_type": "code",
      "metadata": {
        "id": "DI7-PBb0fO--"
      },
      "source": [
        "sort_idx = np.argsort(-predictions_np)"
      ],
      "execution_count": null,
      "outputs": []
    },
    {
      "cell_type": "code",
      "metadata": {
        "colab": {
          "base_uri": "https://localhost:8080/"
        },
        "id": "KvAi-TU1fSKN",
        "outputId": "68555b3c-0b7a-4ab6-f39a-f425fb4afc26"
      },
      "source": [
        "print(sort_idx)"
      ],
      "execution_count": null,
      "outputs": [
        {
          "output_type": "stream",
          "text": [
            "[ 5204  5063 11271 ...  8583  6543  8795]\n"
          ],
          "name": "stdout"
        }
      ]
    },
    {
      "cell_type": "markdown",
      "metadata": {
        "id": "yrodPBMwfyJB"
      },
      "source": [
        "Por fim, apresentamos os TOP 10 candidatos a serem recomendados:"
      ]
    },
    {
      "cell_type": "code",
      "metadata": {
        "colab": {
          "base_uri": "https://localhost:8080/"
        },
        "id": "YEzpe6f2gA2N",
        "outputId": "e98b4ed1-05d8-41ba-e422-2f8f54e15543"
      },
      "source": [
        "top_10_movie_ids = potential_movie_ids[sort_idx[:10]]\n",
        "top_10_scores = predictions_np[sort_idx[:10]]\n",
        "\n",
        "for movie, score in zip(top_10_movie_ids, top_10_scores):\n",
        "    print(\"movie:\", movie, \"score:\", score)"
      ],
      "execution_count": null,
      "outputs": [
        {
          "output_type": "stream",
          "text": [
            "movie: 15188 score: 2.600116\n",
            "movie: 7563 score: 2.5426302\n",
            "movie: 19124 score: 2.5201933\n",
            "movie: 315 score: 2.508326\n",
            "movie: 17016 score: 2.5077925\n",
            "movie: 17019 score: 2.485153\n",
            "movie: 20780 score: 2.4806252\n",
            "movie: 16241 score: 2.4800231\n",
            "movie: 9159 score: 2.4762163\n",
            "movie: 10901 score: 2.4757345\n"
          ],
          "name": "stdout"
        }
      ]
    }
  ]
}