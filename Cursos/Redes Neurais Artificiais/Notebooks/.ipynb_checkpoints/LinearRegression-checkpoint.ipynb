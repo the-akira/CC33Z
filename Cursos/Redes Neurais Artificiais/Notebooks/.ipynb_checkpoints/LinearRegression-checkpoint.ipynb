{
 "cells": [
  {
   "cell_type": "markdown",
   "metadata": {
    "id": "i4PbswyRqQwK"
   },
   "source": [
    "# Regressão Linear com PyTorch\n",
    "\n",
    "Neste notebook veremos um exemplo de como executar Linear Regression com [PyTorch](https://pytorch.org/get-started/locally/).\n",
    "\n",
    "Iniciaremos importando as bibliotecas necessárias:"
   ]
  },
  {
   "cell_type": "code",
   "execution_count": null,
   "metadata": {
    "id": "JZhdc10lqjRj"
   },
   "outputs": [],
   "source": [
    "import torch\n",
    "import torch.nn as nn\n",
    "import numpy as np\n",
    "import matplotlib.pyplot as plt"
   ]
  },
  {
   "cell_type": "markdown",
   "metadata": {
    "id": "FsnGuC7Lqv-A"
   },
   "source": [
    "Queremos gerar 20 pontos de dados:"
   ]
  },
  {
   "cell_type": "code",
   "execution_count": null,
   "metadata": {
    "id": "pNen8z7cqyuc"
   },
   "outputs": [],
   "source": [
    "N = 20"
   ]
  },
  {
   "cell_type": "markdown",
   "metadata": {
    "id": "jFDgdunHq3ZR"
   },
   "source": [
    "Dados aleatórios no eixo X em (-5, +5):"
   ]
  },
  {
   "cell_type": "code",
   "execution_count": null,
   "metadata": {
    "colab": {
     "base_uri": "https://localhost:8080/"
    },
    "id": "OU2qR1Rvq9rQ",
    "outputId": "f1f5e84e-c5bf-4651-fc3d-ca47a320b18f"
   },
   "outputs": [
    {
     "name": "stdout",
     "output_type": "stream",
     "text": [
      "[-3.45076775 -1.52308395  4.66589705  0.4180479  -0.19119658 -0.75836261\n",
      "  2.50094807  0.29298487  3.16988436 -4.51778407  2.77489709  2.39443355\n",
      "  3.86085875 -1.51441843  0.36358376  2.27991586  1.18557601 -4.63991508\n",
      " -3.53119273 -1.22126193]\n"
     ]
    }
   ],
   "source": [
    "X = np.random.random(N) * 10 - 5\n",
    "print(X)"
   ]
  },
  {
   "cell_type": "markdown",
   "metadata": {
    "id": "AYSVKz0brJD3"
   },
   "source": [
    "Uma linha e um pouco de ruído:"
   ]
  },
  {
   "cell_type": "code",
   "execution_count": null,
   "metadata": {
    "colab": {
     "base_uri": "https://localhost:8080/"
    },
    "id": "i-ahtSXErMF6",
    "outputId": "2d2c4df6-c300-4172-d077-dcf5db81da40"
   },
   "outputs": [
    {
     "name": "stdout",
     "output_type": "stream",
     "text": [
      "[-2.48908807 -3.30313804  1.31774371  0.22418876 -1.72741339 -1.40691673\n",
      " -0.83844063 -2.36384722 -0.07240042 -3.13671514  0.25740794  0.27140676\n",
      "  1.5575243  -1.03521636 -1.48809903  0.56533829 -1.07635353 -4.54024197\n",
      " -2.93051296  1.15636967]\n"
     ]
    }
   ],
   "source": [
    "Y = 0.5 * X - 1 + np.random.randn(N)\n",
    "print(Y)"
   ]
  },
  {
   "cell_type": "markdown",
   "metadata": {
    "id": "Q9R-FcVurUUE"
   },
   "source": [
    "E então plotamos os dados:"
   ]
  },
  {
   "cell_type": "code",
   "execution_count": null,
   "metadata": {
    "colab": {
     "base_uri": "https://localhost:8080/",
     "height": 265
    },
    "id": "4GOt2hDxrXfq",
    "outputId": "83d55136-4220-4073-e46e-8b1e7d0f194b"
   },
   "outputs": [
    {
     "data": {
      "image/png": "[encoded data removed]",
      "text/plain": [
       "<Figure size 432x288 with 1 Axes>"
      ]
     },
     "metadata": {
      "needs_background": "light",
      "tags": []
     },
     "output_type": "display_data"
    }
   ],
   "source": [
    "plt.scatter(X, Y);"
   ]
  },
  {
   "cell_type": "markdown",
   "metadata": {
    "id": "n1SFkrrpronr"
   },
   "source": [
    "Criaremos o modelo de Regressão Linear:"
   ]
  },
  {
   "cell_type": "code",
   "execution_count": null,
   "metadata": {
    "id": "3VcfNxqtr-Ds"
   },
   "outputs": [],
   "source": [
    "model = nn.Linear(1,1)"
   ]
  },
  {
   "cell_type": "markdown",
   "metadata": {
    "id": "Zad0nW72sBc_"
   },
   "source": [
    "Definimos a função Loss e o Optimizer:"
   ]
  },
  {
   "cell_type": "code",
   "execution_count": null,
   "metadata": {
    "id": "CbOHX7vtsHZa"
   },
   "outputs": [],
   "source": [
    "criterion = nn.MSELoss()\n",
    "optimizer = torch.optim.SGD(model.parameters(), lr=0.1)"
   ]
  },
  {
   "cell_type": "markdown",
   "metadata": {
    "id": "ViDjAHdCsQTB"
   },
   "source": [
    "Em Machine Learning queremos que os nossos dados estejam na forma (**num_amostras** x **num dimensões**):"
   ]
  },
  {
   "cell_type": "code",
   "execution_count": null,
   "metadata": {
    "id": "sYCgoxdEsZAK"
   },
   "outputs": [],
   "source": [
    "X = X.reshape(N, 1)\n",
    "Y = Y.reshape(N, 1)"
   ]
  },
  {
   "cell_type": "markdown",
   "metadata": {
    "id": "2fCO1ykZsjaM"
   },
   "source": [
    "- PyTorch utiliza **float32** por padrão\n",
    "- NumPy define **float64** por padrão\n",
    "\n",
    "Vamos então fazer a conversão para que haja compatibilidade:"
   ]
  },
  {
   "cell_type": "code",
   "execution_count": null,
   "metadata": {
    "id": "lB_n3JTIswOy"
   },
   "outputs": [],
   "source": [
    "inputs = torch.from_numpy(X.astype(np.float32))\n",
    "targets = torch.from_numpy(Y.astype(np.float32))"
   ]
  },
  {
   "cell_type": "markdown",
   "metadata": {
    "id": "n78ZvnpqtBbr"
   },
   "source": [
    "Como podemos observar, agora estamos lidando com um tipo de dados **torch.Tensor**:"
   ]
  },
  {
   "cell_type": "code",
   "execution_count": null,
   "metadata": {
    "colab": {
     "base_uri": "https://localhost:8080/"
    },
    "id": "YtR0XKkktITA",
    "outputId": "1f7b4deb-e73f-4e8d-c0b6-230b76603a36"
   },
   "outputs": [
    {
     "data": {
      "text/plain": [
       "torch.Tensor"
      ]
     },
     "execution_count": 10,
     "metadata": {
      "tags": []
     },
     "output_type": "execute_result"
    }
   ],
   "source": [
    "type(inputs)"
   ]
  },
  {
   "cell_type": "markdown",
   "metadata": {
    "id": "H-bV_ql2uWL2"
   },
   "source": [
    "Agora podemos treinar o nosso modelo:"
   ]
  },
  {
   "cell_type": "code",
   "execution_count": null,
   "metadata": {
    "colab": {
     "base_uri": "https://localhost:8080/"
    },
    "id": "ycswDf_TuYSZ",
    "outputId": "9276c7d1-24ba-4be5-e9b3-d716454d1f36"
   },
   "outputs": [
    {
     "name": "stdout",
     "output_type": "stream",
     "text": [
      "Epoch 1/30, Loss: 2.0750\n",
      "Epoch 2/30, Loss: 1.3228\n",
      "Epoch 3/30, Loss: 1.1093\n",
      "Epoch 4/30, Loss: 1.0305\n",
      "Epoch 5/30, Loss: 0.9925\n",
      "Epoch 6/30, Loss: 0.9709\n",
      "Epoch 7/30, Loss: 0.9577\n",
      "Epoch 8/30, Loss: 0.9493\n",
      "Epoch 9/30, Loss: 0.9440\n",
      "Epoch 10/30, Loss: 0.9405\n",
      "Epoch 11/30, Loss: 0.9384\n",
      "Epoch 12/30, Loss: 0.9370\n",
      "Epoch 13/30, Loss: 0.9361\n",
      "Epoch 14/30, Loss: 0.9355\n",
      "Epoch 15/30, Loss: 0.9351\n",
      "Epoch 16/30, Loss: 0.9349\n",
      "Epoch 17/30, Loss: 0.9347\n",
      "Epoch 18/30, Loss: 0.9346\n",
      "Epoch 19/30, Loss: 0.9346\n",
      "Epoch 20/30, Loss: 0.9345\n",
      "Epoch 21/30, Loss: 0.9345\n",
      "Epoch 22/30, Loss: 0.9345\n",
      "Epoch 23/30, Loss: 0.9345\n",
      "Epoch 24/30, Loss: 0.9345\n",
      "Epoch 25/30, Loss: 0.9345\n",
      "Epoch 26/30, Loss: 0.9345\n",
      "Epoch 27/30, Loss: 0.9345\n",
      "Epoch 28/30, Loss: 0.9345\n",
      "Epoch 29/30, Loss: 0.9345\n",
      "Epoch 30/30, Loss: 0.9345\n"
     ]
    }
   ],
   "source": [
    "n_epochs = 30\n",
    "losses = []\n",
    "\n",
    "for it in range(n_epochs):\n",
    "    # zerar os parâmetros do gradient\n",
    "    optimizer.zero_grad()\n",
    "\n",
    "    # forward pass\n",
    "    outputs = model(inputs)\n",
    "    loss = criterion(outputs, targets)\n",
    "\n",
    "    # armazenamos o loss para plotarmos depois\n",
    "    losses.append(loss.item())\n",
    "\n",
    "    # backward e optimize\n",
    "    loss.backward()\n",
    "    optimizer.step()\n",
    "\n",
    "    print(f'Epoch {it+1}/{n_epochs}, Loss: {loss.item():.4f}')"
   ]
  },
  {
   "cell_type": "markdown",
   "metadata": {
    "id": "s6Yzt1AAvijE"
   },
   "source": [
    "Plotamos a loss por iteração:"
   ]
  },
  {
   "cell_type": "code",
   "execution_count": null,
   "metadata": {
    "colab": {
     "base_uri": "https://localhost:8080/",
     "height": 265
    },
    "id": "Svz7xF3Nvksl",
    "outputId": "d323f1d1-d96e-4107-c5d1-2d2303c7c218"
   },
   "outputs": [
    {
     "data": {
      "image/png": "[encoded data removed]",
      "text/plain": [
       "<Figure size 432x288 with 1 Axes>"
      ]
     },
     "metadata": {
      "needs_background": "light",
      "tags": []
     },
     "output_type": "display_data"
    }
   ],
   "source": [
    "plt.plot(losses);"
   ]
  },
  {
   "cell_type": "markdown",
   "metadata": {
    "id": "FN7EGhunvuZ0"
   },
   "source": [
    "Plotamos o gráfico do modelo:"
   ]
  },
  {
   "cell_type": "code",
   "execution_count": null,
   "metadata": {
    "colab": {
     "base_uri": "https://localhost:8080/",
     "height": 265
    },
    "id": "-bZSXWt1vwkS",
    "outputId": "2bfff5b9-2671-4b2c-ec4e-5cb78e20152c"
   },
   "outputs": [
    {
     "data": {
      "image/png": "[encoded data removed]",
      "text/plain": [
       "<Figure size 432x288 with 1 Axes>"
      ]
     },
     "metadata": {
      "needs_background": "light",
      "tags": []
     },
     "output_type": "display_data"
    }
   ],
   "source": [
    "predicted = model(inputs).detach().numpy()\n",
    "plt.scatter(X, Y, label='Dados Originais')\n",
    "plt.plot(X, predicted, label='Linha Ajustada', c='r')\n",
    "plt.legend()\n",
    "plt.show()"
   ]
  },
  {
   "cell_type": "markdown",
   "metadata": {
    "id": "6Yb4Itg0wT5B"
   },
   "source": [
    "Também podemos fazer previsões com o nosso modelo da seguinte maneira:"
   ]
  },
  {
   "cell_type": "code",
   "execution_count": null,
   "metadata": {
    "colab": {
     "base_uri": "https://localhost:8080/"
    },
    "id": "UkF8sF5swWfS",
    "outputId": "dadd9cd2-85b7-4634-8056-cbfbb7d73b4d"
   },
   "outputs": [
    {
     "name": "stdout",
     "output_type": "stream",
     "text": [
      "[[-2.8529644 ]\n",
      " [-1.8829751 ]\n",
      " [ 1.2312518 ]\n",
      " [-0.906219  ]\n",
      " [-1.212784  ]\n",
      " [-1.4981757 ]\n",
      " [ 0.14187348]\n",
      " [-0.96914935]\n",
      " [ 0.47847486]\n",
      " [-3.3898754 ]\n",
      " [ 0.2797215 ]\n",
      " [ 0.08827639]\n",
      " [ 0.82616544]\n",
      " [-1.8786147 ]\n",
      " [-0.93362474]\n",
      " [ 0.0306524 ]\n",
      " [-0.5200073 ]\n",
      " [-3.4513302 ]\n",
      " [-2.8934333 ]\n",
      " [-1.7311016 ]]\n"
     ]
    }
   ],
   "source": [
    "with torch.no_grad():\n",
    "    out = model(inputs).numpy()\n",
    "\n",
    "print(out)"
   ]
  },
  {
   "cell_type": "markdown",
   "metadata": {
    "id": "UMJS_Nrxwkkt"
   },
   "source": [
    "**Importante!**\n",
    "\n",
    "De forma a testar a eficiência de nosso modelo, dados sintéticos são úteis.\n",
    "\n",
    "Por que?\n",
    "\n",
    "Pelo fato de que sabemos as respostas (**targets**)\n",
    "\n",
    "Os valores verdadeiros de (**w**, **b**) são (0.5, -1) como definimos inicialmente."
   ]
  },
  {
   "cell_type": "code",
   "execution_count": null,
   "metadata": {
    "colab": {
     "base_uri": "https://localhost:8080/"
    },
    "id": "755UeltBxGfv",
    "outputId": "6e862e8c-cb0d-41e9-b95f-b488a1bf2448"
   },
   "outputs": [
    {
     "name": "stdout",
     "output_type": "stream",
     "text": [
      "[[0.50318897]] [-1.1165761]\n"
     ]
    }
   ],
   "source": [
    "w = model.weight.data.numpy()\n",
    "b = model.bias.data.numpy()\n",
    "print(w, b)"
   ]
  },
  {
   "cell_type": "markdown",
   "metadata": {
    "id": "SM8xsJPLxcJ-"
   },
   "source": [
    "Observe que nosso modelo está muito próximo dos valores verdadeiros."
   ]
  }
 ],
 "metadata": {
  "colab": {
   "collapsed_sections": [],
   "name": "LinearRegression.ipynb",
   "provenance": []
  },
  "kernelspec": {
   "display_name": "Python 3",
   "language": "python",
   "name": "python3"
  },
  "language_info": {
   "codemirror_mode": {
    "name": "ipython",
    "version": 3
   },
   "file_extension": ".py",
   "mimetype": "text/x-python",
   "name": "python",
   "nbconvert_exporter": "python",
   "pygments_lexer": "ipython3",
   "version": "3.7.10"
  }
 },
 "nbformat": 4,
 "nbformat_minor": 4
}
