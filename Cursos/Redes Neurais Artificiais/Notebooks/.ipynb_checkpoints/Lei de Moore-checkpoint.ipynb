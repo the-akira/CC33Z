{
 "cells": [
  {
   "cell_type": "markdown",
   "metadata": {
    "id": "UJRs7dYnCgnQ"
   },
   "source": [
    "# Lei de Moore (Regressão Linear)\n",
    "\n",
    "A [lei de Moore](https://en.wikipedia.org/wiki/Moore%27s_law) é a observação de que o número de transistores em um circuito integrado (CI) denso dobra a cada dois anos. A lei de Moore é uma observação e projeção de uma tendência histórica. Mais do que uma lei da física, é uma relação empírica ligada aos ganhos da experiência na produção.\n",
    "\n",
    "A observação leva o nome de Gordon Moore, o cofundador da Fairchild Semiconductor e da Intel (e ex-CEO desta última), que em 1965 postulou uma duplicação a cada ano no número de componentes por circuito integrado, e projetou esta taxa de crescimento continuaria por pelo menos mais uma década. Em 1975, olhando para a próxima década, ele revisou a previsão para dobrar a cada dois anos, uma **compound annual growth rate** (CAGR) de 41%. Embora Moore não tinha usado evidências empíricas para prever que a tendência histórica continuaria, sua previsão se manteve desde 1975 e desde então se tornou conhecida como uma \"lei\".\n",
    "\n",
    "Neste nootebook vamos trabalhar com dados históricos de transistores de forma a criarmos um modelo linear que se ajuste a estes dados.\n",
    "\n",
    "Iniciaremos importando as bibliotecas necessárias:"
   ]
  },
  {
   "cell_type": "code",
   "execution_count": 47,
   "metadata": {
    "id": "7jXOYgdYDa9O"
   },
   "outputs": [],
   "source": [
    "import torch\n",
    "import torch.nn as nn\n",
    "import pandas as pd\n",
    "import numpy as np\n",
    "import matplotlib.pyplot as plt"
   ]
  },
  {
   "cell_type": "markdown",
   "metadata": {
    "id": "il1XYbssDrUC"
   },
   "source": [
    "Obtemos os dados:"
   ]
  },
  {
   "cell_type": "code",
   "execution_count": 48,
   "metadata": {
    "colab": {
     "base_uri": "https://localhost:8080/"
    },
    "id": "c3sFLMOlDxTk",
    "outputId": "b6acbec2-a1df-4fcd-857a-cd307a89e83d"
   },
   "outputs": [
    {
     "name": "stdout",
     "output_type": "stream",
     "text": [
      "--2021-06-18 18:36:07--  https://gist.githubusercontent.com/the-akira/5fe07b248b52c442dd1632702d5da095/raw/93d24c0132c92bc9e00da4dbe6820ae356dfaf5a/moore.csv\n",
      "Resolving gist.githubusercontent.com (gist.githubusercontent.com)... 185.199.108.133, 185.199.109.133, 185.199.110.133, ...\n",
      "Connecting to gist.githubusercontent.com (gist.githubusercontent.com)|185.199.108.133|:443... connected.\n",
      "HTTP request sent, awaiting response... 200 OK\n",
      "Length: 2301 (2.2K) [text/plain]\n",
      "Saving to: ‘moore.csv’\n",
      "\n",
      "moore.csv           100%[===================>]   2.25K  --.-KB/s    in 0s      \n",
      "\n",
      "2021-06-18 18:36:07 (24.1 MB/s) - ‘moore.csv’ saved [2301/2301]\n",
      "\n"
     ]
    }
   ],
   "source": [
    "!wget -nc https://gist.githubusercontent.com/the-akira/5fe07b248b52c442dd1632702d5da095/raw/93d24c0132c92bc9e00da4dbe6820ae356dfaf5a/moore.csv"
   ]
  },
  {
   "cell_type": "markdown",
   "metadata": {
    "id": "kYx_2efpEUey"
   },
   "source": [
    "Carregamos os dados em um pandas DataFrame:"
   ]
  },
  {
   "cell_type": "code",
   "execution_count": 49,
   "metadata": {
    "colab": {
     "base_uri": "https://localhost:8080/",
     "height": 204
    },
    "id": "rsVCLr2KEW6-",
    "outputId": "56ae148b-9476-4998-be88-2c036e799730"
   },
   "outputs": [
    {
     "data": {
      "text/html": [
       "<div>\n",
       "<style scoped>\n",
       "    .dataframe tbody tr th:only-of-type {\n",
       "        vertical-align: middle;\n",
       "    }\n",
       "\n",
       "    .dataframe tbody tr th {\n",
       "        vertical-align: top;\n",
       "    }\n",
       "\n",
       "    .dataframe thead th {\n",
       "        text-align: right;\n",
       "    }\n",
       "</style>\n",
       "<table border=\"1\" class=\"dataframe\">\n",
       "  <thead>\n",
       "    <tr style=\"text-align: right;\">\n",
       "      <th></th>\n",
       "      <th>0</th>\n",
       "      <th>1</th>\n",
       "    </tr>\n",
       "  </thead>\n",
       "  <tbody>\n",
       "    <tr>\n",
       "      <th>0</th>\n",
       "      <td>1971</td>\n",
       "      <td>2300</td>\n",
       "    </tr>\n",
       "    <tr>\n",
       "      <th>1</th>\n",
       "      <td>1972</td>\n",
       "      <td>3500</td>\n",
       "    </tr>\n",
       "    <tr>\n",
       "      <th>2</th>\n",
       "      <td>1973</td>\n",
       "      <td>2500</td>\n",
       "    </tr>\n",
       "    <tr>\n",
       "      <th>3</th>\n",
       "      <td>1973</td>\n",
       "      <td>2500</td>\n",
       "    </tr>\n",
       "    <tr>\n",
       "      <th>4</th>\n",
       "      <td>1974</td>\n",
       "      <td>4100</td>\n",
       "    </tr>\n",
       "  </tbody>\n",
       "</table>\n",
       "</div>"
      ],
      "text/plain": [
       "      0     1\n",
       "0  1971  2300\n",
       "1  1972  3500\n",
       "2  1973  2500\n",
       "3  1973  2500\n",
       "4  1974  4100"
      ]
     },
     "execution_count": 49,
     "metadata": {
      "tags": []
     },
     "output_type": "execute_result"
    }
   ],
   "source": [
    "data = pd.read_csv('moore.csv', header=None)\n",
    "data.head()"
   ]
  },
  {
   "cell_type": "markdown",
   "metadata": {
    "id": "XyLi83LhIQke"
   },
   "source": [
    "Separamos os dados em **X** e **Y**:"
   ]
  },
  {
   "cell_type": "code",
   "execution_count": 50,
   "metadata": {
    "id": "3v1lAijAIVDP"
   },
   "outputs": [],
   "source": [
    "dados = data.values\n",
    "# tornaremos eles um array 2D de tamanho N x D, onde D = 1\n",
    "X = dados[:,0].reshape(-1, 1)\n",
    "Y = dados[:,1].reshape(-1, 1)"
   ]
  },
  {
   "cell_type": "markdown",
   "metadata": {
    "id": "0IfJJIv-JA6a"
   },
   "source": [
    "Plotamos os dados (observe que há um crescimento exponencial):"
   ]
  },
  {
   "cell_type": "code",
   "execution_count": 51,
   "metadata": {
    "colab": {
     "base_uri": "https://localhost:8080/",
     "height": 276
    },
    "id": "BIUNzN6HJG6b",
    "outputId": "6c8f37d5-9fbf-4bb3-c92a-63b964a0d6dc"
   },
   "outputs": [
    {
     "data": {
      "image/png": "[encoded data removed]",
      "text/plain": [
       "<Figure size 432x288 with 1 Axes>"
      ]
     },
     "metadata": {
      "needs_background": "light",
      "tags": []
     },
     "output_type": "display_data"
    }
   ],
   "source": [
    "plt.scatter(X, Y);"
   ]
  },
  {
   "cell_type": "markdown",
   "metadata": {
    "id": "CGZPlSvTM8c9"
   },
   "source": [
    "Como desejamos um modelo linear, vamos então extrair o log de **Y**:"
   ]
  },
  {
   "cell_type": "code",
   "execution_count": 52,
   "metadata": {
    "colab": {
     "base_uri": "https://localhost:8080/",
     "height": 265
    },
    "id": "7QxZ9b1vNA3m",
    "outputId": "f97dc6a3-767a-4e6e-f0bf-19d2e789d3af"
   },
   "outputs": [
    {
     "data": {
      "image/png": "[encoded data removed]",
      "text/plain": [
       "<Figure size 432x288 with 1 Axes>"
      ]
     },
     "metadata": {
      "needs_background": "light",
      "tags": []
     },
     "output_type": "display_data"
    }
   ],
   "source": [
    "Y = np.log(Y)\n",
    "plt.scatter(X, Y);"
   ]
  },
  {
   "cell_type": "markdown",
   "metadata": {
    "id": "N1apnU1sNLm1"
   },
   "source": [
    "Faremos o scaling e centralizaremos ambos os eixos **X** e **Y**:"
   ]
  },
  {
   "cell_type": "code",
   "execution_count": 53,
   "metadata": {
    "id": "S4oNBWRqNYQ4"
   },
   "outputs": [],
   "source": [
    "mx = X.mean()\n",
    "sx = X.std()\n",
    "my = Y.mean()\n",
    "sy = Y.std()\n",
    "\n",
    "X = (X - mx)/sx\n",
    "Y = (Y - my)/sy"
   ]
  },
  {
   "cell_type": "markdown",
   "metadata": {
    "id": "MQaKrXI0NiYy"
   },
   "source": [
    "Agora tudo está centralizado e em uma pequena variação:"
   ]
  },
  {
   "cell_type": "code",
   "execution_count": 54,
   "metadata": {
    "colab": {
     "base_uri": "https://localhost:8080/",
     "height": 265
    },
    "id": "Wk24iDauNqNo",
    "outputId": "24208ae3-ceff-4682-97d4-528167440af4"
   },
   "outputs": [
    {
     "data": {
      "image/png": "[encoded data removed]",
      "text/plain": [
       "<Figure size 432x288 with 1 Axes>"
      ]
     },
     "metadata": {
      "needs_background": "light",
      "tags": []
     },
     "output_type": "display_data"
    }
   ],
   "source": [
    "plt.scatter(X, Y);"
   ]
  },
  {
   "cell_type": "markdown",
   "metadata": {
    "id": "mJH21AxKOBEt"
   },
   "source": [
    "Convertemos os dados para **float32**:"
   ]
  },
  {
   "cell_type": "code",
   "execution_count": 55,
   "metadata": {
    "id": "5ZF6J2seODkq"
   },
   "outputs": [],
   "source": [
    "X = X.astype(np.float32)\n",
    "Y = Y.astype(np.float32)"
   ]
  },
  {
   "cell_type": "markdown",
   "metadata": {
    "id": "FfRp255nOJtx"
   },
   "source": [
    "Criamos o modelo de Regressão Linear:"
   ]
  },
  {
   "cell_type": "code",
   "execution_count": 56,
   "metadata": {
    "id": "Ufgax-cnOMU5"
   },
   "outputs": [],
   "source": [
    "model = nn.Linear(1, 1)"
   ]
  },
  {
   "cell_type": "markdown",
   "metadata": {
    "id": "pfWbJLOSOQB3"
   },
   "source": [
    "Definimos a função Loss e o Optimizer:"
   ]
  },
  {
   "cell_type": "code",
   "execution_count": 57,
   "metadata": {
    "id": "CbojonjgOSbI"
   },
   "outputs": [],
   "source": [
    "criterion = nn.MSELoss()\n",
    "optimizer = torch.optim.SGD(model.parameters(), lr=0.01, momentum=0.7)"
   ]
  },
  {
   "cell_type": "markdown",
   "metadata": {
    "id": "HlU6NitLOg_L"
   },
   "source": [
    "Convertemos os dados para o formato aceito pelo PyTorch:"
   ]
  },
  {
   "cell_type": "code",
   "execution_count": 58,
   "metadata": {
    "colab": {
     "base_uri": "https://localhost:8080/"
    },
    "id": "FlDRXr3dOkVW",
    "outputId": "ae085af6-77f5-4b22-c209-8cb413818e7f"
   },
   "outputs": [
    {
     "data": {
      "text/plain": [
       "torch.Tensor"
      ]
     },
     "execution_count": 58,
     "metadata": {
      "tags": []
     },
     "output_type": "execute_result"
    }
   ],
   "source": [
    "inputs = torch.from_numpy(X)\n",
    "targets = torch.from_numpy(Y)\n",
    "\n",
    "type(inputs)"
   ]
  },
  {
   "cell_type": "markdown",
   "metadata": {
    "id": "Wiy3uSfJPAcZ"
   },
   "source": [
    "E então treinamos o modelo:"
   ]
  },
  {
   "cell_type": "code",
   "execution_count": 59,
   "metadata": {
    "colab": {
     "base_uri": "https://localhost:8080/"
    },
    "id": "yxxQCFvWPCIN",
    "outputId": "43839e31-96fc-46a8-8c0e-912e79bc232f"
   },
   "outputs": [
    {
     "name": "stdout",
     "output_type": "stream",
     "text": [
      "Epoch 1/100, Loss: 2.6732\n",
      "Epoch 2/100, Loss: 2.5688\n",
      "Epoch 3/100, Loss: 2.3983\n",
      "Epoch 4/100, Loss: 2.1914\n",
      "Epoch 5/100, Loss: 1.9697\n",
      "Epoch 6/100, Loss: 1.7483\n",
      "Epoch 7/100, Loss: 1.5366\n",
      "Epoch 8/100, Loss: 1.3403\n",
      "Epoch 9/100, Loss: 1.1622\n",
      "Epoch 10/100, Loss: 1.0032\n",
      "Epoch 11/100, Loss: 0.8630\n",
      "Epoch 12/100, Loss: 0.7407\n",
      "Epoch 13/100, Loss: 0.6348\n",
      "Epoch 14/100, Loss: 0.5435\n",
      "Epoch 15/100, Loss: 0.4654\n",
      "Epoch 16/100, Loss: 0.3988\n",
      "Epoch 17/100, Loss: 0.3421\n",
      "Epoch 18/100, Loss: 0.2941\n",
      "Epoch 19/100, Loss: 0.2534\n",
      "Epoch 20/100, Loss: 0.2191\n",
      "Epoch 21/100, Loss: 0.1902\n",
      "Epoch 22/100, Loss: 0.1658\n",
      "Epoch 23/100, Loss: 0.1453\n",
      "Epoch 24/100, Loss: 0.1280\n",
      "Epoch 25/100, Loss: 0.1136\n",
      "Epoch 26/100, Loss: 0.1014\n",
      "Epoch 27/100, Loss: 0.0912\n",
      "Epoch 28/100, Loss: 0.0826\n",
      "Epoch 29/100, Loss: 0.0755\n",
      "Epoch 30/100, Loss: 0.0695\n",
      "Epoch 31/100, Loss: 0.0644\n",
      "Epoch 32/100, Loss: 0.0602\n",
      "Epoch 33/100, Loss: 0.0567\n",
      "Epoch 34/100, Loss: 0.0537\n",
      "Epoch 35/100, Loss: 0.0512\n",
      "Epoch 36/100, Loss: 0.0491\n",
      "Epoch 37/100, Loss: 0.0474\n",
      "Epoch 38/100, Loss: 0.0460\n",
      "Epoch 39/100, Loss: 0.0447\n",
      "Epoch 40/100, Loss: 0.0437\n",
      "Epoch 41/100, Loss: 0.0429\n",
      "Epoch 42/100, Loss: 0.0421\n",
      "Epoch 43/100, Loss: 0.0416\n",
      "Epoch 44/100, Loss: 0.0411\n",
      "Epoch 45/100, Loss: 0.0406\n",
      "Epoch 46/100, Loss: 0.0403\n",
      "Epoch 47/100, Loss: 0.0400\n",
      "Epoch 48/100, Loss: 0.0397\n",
      "Epoch 49/100, Loss: 0.0395\n",
      "Epoch 50/100, Loss: 0.0394\n",
      "Epoch 51/100, Loss: 0.0392\n",
      "Epoch 52/100, Loss: 0.0391\n",
      "Epoch 53/100, Loss: 0.0390\n",
      "Epoch 54/100, Loss: 0.0389\n",
      "Epoch 55/100, Loss: 0.0388\n",
      "Epoch 56/100, Loss: 0.0388\n",
      "Epoch 57/100, Loss: 0.0387\n",
      "Epoch 58/100, Loss: 0.0387\n",
      "Epoch 59/100, Loss: 0.0387\n",
      "Epoch 60/100, Loss: 0.0386\n",
      "Epoch 61/100, Loss: 0.0386\n",
      "Epoch 62/100, Loss: 0.0386\n",
      "Epoch 63/100, Loss: 0.0386\n",
      "Epoch 64/100, Loss: 0.0386\n",
      "Epoch 65/100, Loss: 0.0385\n",
      "Epoch 66/100, Loss: 0.0385\n",
      "Epoch 67/100, Loss: 0.0385\n",
      "Epoch 68/100, Loss: 0.0385\n",
      "Epoch 69/100, Loss: 0.0385\n",
      "Epoch 70/100, Loss: 0.0385\n",
      "Epoch 71/100, Loss: 0.0385\n",
      "Epoch 72/100, Loss: 0.0385\n",
      "Epoch 73/100, Loss: 0.0385\n",
      "Epoch 74/100, Loss: 0.0385\n",
      "Epoch 75/100, Loss: 0.0385\n",
      "Epoch 76/100, Loss: 0.0385\n",
      "Epoch 77/100, Loss: 0.0385\n",
      "Epoch 78/100, Loss: 0.0385\n",
      "Epoch 79/100, Loss: 0.0385\n",
      "Epoch 80/100, Loss: 0.0385\n",
      "Epoch 81/100, Loss: 0.0385\n",
      "Epoch 82/100, Loss: 0.0385\n",
      "Epoch 83/100, Loss: 0.0385\n",
      "Epoch 84/100, Loss: 0.0385\n",
      "Epoch 85/100, Loss: 0.0385\n",
      "Epoch 86/100, Loss: 0.0385\n",
      "Epoch 87/100, Loss: 0.0385\n",
      "Epoch 88/100, Loss: 0.0385\n",
      "Epoch 89/100, Loss: 0.0385\n",
      "Epoch 90/100, Loss: 0.0385\n",
      "Epoch 91/100, Loss: 0.0385\n",
      "Epoch 92/100, Loss: 0.0385\n",
      "Epoch 93/100, Loss: 0.0385\n",
      "Epoch 94/100, Loss: 0.0385\n",
      "Epoch 95/100, Loss: 0.0385\n",
      "Epoch 96/100, Loss: 0.0385\n",
      "Epoch 97/100, Loss: 0.0385\n",
      "Epoch 98/100, Loss: 0.0385\n",
      "Epoch 99/100, Loss: 0.0385\n",
      "Epoch 100/100, Loss: 0.0385\n"
     ]
    }
   ],
   "source": [
    "n_epochs = 100\n",
    "losses = []\n",
    "\n",
    "for it in range(n_epochs):\n",
    "    # zeramos os parâmetros do gradient\n",
    "    optimizer.zero_grad()\n",
    "\n",
    "    # forward pass\n",
    "    outputs = model(inputs)\n",
    "    loss = criterion(outputs, targets)\n",
    "\n",
    "    # registramos o loss\n",
    "    losses.append(loss.item())\n",
    "\n",
    "    # backward e optimize\n",
    "    loss.backward()\n",
    "    optimizer.step()\n",
    "\n",
    "    print(f'Epoch {it+1}/{n_epochs}, Loss: {loss.item():.4f}')"
   ]
  },
  {
   "cell_type": "markdown",
   "metadata": {
    "id": "Ns529fQvPxG4"
   },
   "source": [
    "Plotamos o loss por iteração para confirmar que ela convergiu:"
   ]
  },
  {
   "cell_type": "code",
   "execution_count": 60,
   "metadata": {
    "colab": {
     "base_uri": "https://localhost:8080/",
     "height": 265
    },
    "id": "j1ETBVPZP2Es",
    "outputId": "40f983d0-92e6-4e7e-9472-a6218e977e81"
   },
   "outputs": [
    {
     "data": {
      "image/png": "[encoded data removed]",
      "text/plain": [
       "<Figure size 432x288 with 1 Axes>"
      ]
     },
     "metadata": {
      "needs_background": "light",
      "tags": []
     },
     "output_type": "display_data"
    }
   ],
   "source": [
    "plt.plot(losses);"
   ]
  },
  {
   "cell_type": "markdown",
   "metadata": {
    "id": "N2BZYBo7P6G-"
   },
   "source": [
    "Plotamos o gráfico com os dados originais e a linha ajustada:"
   ]
  },
  {
   "cell_type": "code",
   "execution_count": 61,
   "metadata": {
    "colab": {
     "base_uri": "https://localhost:8080/",
     "height": 265
    },
    "id": "pil-7x3vQCWU",
    "outputId": "98cf250c-cf5d-46c4-b48e-6965347e091b"
   },
   "outputs": [
    {
     "data": {
      "image/png": "[encoded data removed]",
      "text/plain": [
       "<Figure size 432x288 with 1 Axes>"
      ]
     },
     "metadata": {
      "needs_background": "light",
      "tags": []
     },
     "output_type": "display_data"
    }
   ],
   "source": [
    "predicted = model(torch.from_numpy(X)).detach().numpy()\n",
    "plt.plot(X, Y, 'ro', label='Dados Originais')\n",
    "plt.plot(X, predicted, label='Linha Ajustada', c='k', lw=2.4)\n",
    "plt.legend();"
   ]
  },
  {
   "cell_type": "markdown",
   "metadata": {
    "id": "OqxIMD9mQ_nw"
   },
   "source": [
    "## Transformando os Dados de volta à Escala Original\n",
    "\n",
    "Nossa hipótese original é que o crescimento é exponencial. Com o formato:\n",
    "\n",
    "$$ C = C_0 r ^ t $$\n",
    "\n",
    "Nessa equação, $C$ é a contagem do transistor, $t$ é o ano, $C_0$ é a contagem original do transistor no ano $0$ e $r$ é a taxa de crescimento.\n",
    "\n",
    "Tornamos essa equação linear tomando o logaritmo de ambos os lados.\n",
    "\n",
    "$$ \\log C = \\log C_0 + \\log r * t $$\n",
    "\n",
    "Aqui, $\\log C$ representa a variável que segue ao longo do eixo y, e $t$ representa a variável que segue ao longo do eixo x.\n",
    "\n",
    "Em outras palavras, em nosso modelo hipotético, o log das contagens de transistores é linear em relação ao tempo.\n",
    "\n",
    "Vamos renomear as variáveis para uma forma mais familiar:\n",
    "\n",
    "$$ y = a x + \\log C_0 $$\n",
    "\n",
    "Agora $y = \\log C$ representa o log das contagens de transistores e $x = t$ representa o tempo. $a = \\log r$ é a inclinação e $\\log C_0$ é a interceptação y.\n",
    "\n",
    "### Nosso Modelo\n",
    "\n",
    "Normalizamos os dados da seguinte forma:\n",
    "\n",
    "$$ y' = \\frac{y - m_y}{s_y} $$\n",
    "\n",
    "$$ x' = \\frac{x - m_x}{s_x} $$\n",
    "\n",
    "Aqui, $m_x$ representa a média da amostra de $x$ e $s_x$ representa o desvio padrão da amostra de $x$, com definições análogas para $m_y$ e $s_y$.\n",
    "\n",
    "Nosso modelo se parece com:\n",
    "\n",
    "$$ y' = wx' + b $$\n",
    "\n",
    "Podemos recuperar o modelo original substituindo $x'$ e $y'$ por expressões correspondentes em termos de $x$ e $y$.\n",
    "\n",
    "$$ \\frac{y - m_y}{s_y} = w \\frac{x - m_x}{s_x} + b $$\n",
    "\n",
    "Depois de alguma manipulação algébrica, obtemos:\n",
    "\n",
    "$$ y = w \\frac{s_y}{s_x} x - w \\frac{s_y}{s_x} m_x + b s_y + m_y = a x + \\log C_0 $$\n",
    "\n",
    "É claro que o coeficiente na frente de $x$ representa nosso $a$ original, e a soma de todos os outros termos representa $\\log C_0$.\n",
    "\n",
    "Estamos interessados apenas no tempo de duplicação, então descobrimos que:\n",
    "\n",
    "$$ a = w \\frac{s_y}{s_x} $$"
   ]
  },
  {
   "cell_type": "code",
   "execution_count": 63,
   "metadata": {
    "colab": {
     "base_uri": "https://localhost:8080/"
    },
    "id": "A9Lt6mwYZIih",
    "outputId": "538ce54a-49d4-4046-e5ce-5f76bd1425d1"
   },
   "outputs": [
    {
     "name": "stdout",
     "output_type": "stream",
     "text": [
      "0.3415944348286519\n"
     ]
    }
   ],
   "source": [
    "w = model.weight.data.numpy()\n",
    "a = w[0,0] * sy / sx\n",
    "print(a)"
   ]
  },
  {
   "cell_type": "markdown",
   "metadata": {
    "id": "HR1QHDNEajmP"
   },
   "source": [
    "## Modelo de Crescimento Exponencial\n",
    "\n",
    "Nossa equação atualmente é linear. Ainda precisamos encontrar o tempo de duplicação.\n",
    "\n",
    "Nosso modelo original para crescimento exponencial é:\n",
    "\n",
    "$$ C = C_0 r^t $$\n",
    "\n",
    "Onde $C$ é o transistor (a contagem) e $t$ é o ano.\n",
    "\n",
    "$ r $ é a taxa de crescimento. Por exemplo, quando $ t $ vai de 1 para 2, $ C $ aumenta por um fator de $ r $. Quando $ t $ passa de 2 para 3, $ C $ aumenta por um fator de $ r $ novamente.\n",
    "\n",
    "Quando extraímos o log de ambos os lados, obtemos:\n",
    "\n",
    "$$ \\log C = \\log r * t + \\log C_0 $$\n",
    "\n",
    "Esta é nossa equação linear:\n",
    "\n",
    "$$ y = ax + \\log C_0 $$\n",
    "\n",
    "Onde:\n",
    "\n",
    "$$ y = \\log C $$\n",
    "$$ a = \\log r $$\n",
    "$$ x = t $$\n",
    "\n",
    "Estamos interessados em $ r $, porque essa é a taxa de crescimento. Dados nossos **weights** de regressão, sabemos que:\n",
    "\n",
    "$$ a = 0.341659983 $$\n",
    "\n",
    "De modo que:\n",
    "\n",
    "$$ r = e^{0.341659983} = 1.40728 $$\n",
    "\n",
    "Para descobrir o tempo que leva para a contagem do transistor dobrar, simplesmente precisamos encontrar a quantidade de tempo que leva para $ C $ aumentar para $ 2C $.\n",
    "\n",
    "Vamos chamar o tempo inicial original de $ t $, para corresponder à contagem inicial do transistor de $ C $.\n",
    "\n",
    "Vamos chamar o tempo final de $ t '$, para corresponder à contagem final do transistor de $ 2C $.\n",
    "\n",
    "Então também temos:\n",
    "\n",
    "$$ 2C = C_0 r ^ {t'} $$\n",
    "\n",
    "Combine isso com nossa equação original:\n",
    "\n",
    "$$ C = C_0 r^t $$\n",
    "\n",
    "Obtemos (dividindo as 2 equações):\n",
    "\n",
    "$$ 2C/C = (C_0 r ^ {t'}) / C_0 r^t $$\n",
    "\n",
    "O que simplifica para:\n",
    "\n",
    "$$ 2 = r^{(t' - t)} $$\n",
    "\n",
    "Resolvemos para $ t '- t $:\n",
    "\n",
    "$$ t' - t = \\frac{\\log 2}{\\log r} = \\frac{\\log2}{a}$$\n",
    "\n",
    "Nota importante! Não especificamos qual é o tempo de início $ t $ realmente, e não precisamos, já que acabamos de provar que isso vale para qualquer $ t $."
   ]
  },
  {
   "cell_type": "code",
   "execution_count": 65,
   "metadata": {
    "colab": {
     "base_uri": "https://localhost:8080/"
    },
    "id": "itWgWbDocP2Z",
    "outputId": "6a699429-e7b9-4495-884e-bd3a786f4b88"
   },
   "outputs": [
    {
     "name": "stdout",
     "output_type": "stream",
     "text": [
      "Tempo para dobrar: 2.0291524389372344\n"
     ]
    }
   ],
   "source": [
    "print(\"Tempo para dobrar:\", np.log(2) / a)"
   ]
  }
 ],
 "metadata": {
  "colab": {
   "collapsed_sections": [],
   "name": "Lei de Moore.ipynb",
   "provenance": []
  },
  "kernelspec": {
   "display_name": "Python 3",
   "language": "python",
   "name": "python3"
  },
  "language_info": {
   "codemirror_mode": {
    "name": "ipython",
    "version": 3
   },
   "file_extension": ".py",
   "mimetype": "text/x-python",
   "name": "python",
   "nbconvert_exporter": "python",
   "pygments_lexer": "ipython3",
   "version": "3.7.10"
  }
 },
 "nbformat": 4,
 "nbformat_minor": 4
}
