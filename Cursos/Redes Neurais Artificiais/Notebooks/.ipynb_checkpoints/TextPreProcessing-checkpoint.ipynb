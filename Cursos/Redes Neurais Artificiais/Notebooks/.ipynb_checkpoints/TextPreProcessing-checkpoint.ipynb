{
  "nbformat": 4,
  "nbformat_minor": 0,
  "metadata": {
    "colab": {
      "name": "TextPreProcessing.ipynb",
      "provenance": [],
      "collapsed_sections": []
    },
    "kernelspec": {
      "name": "python3",
      "display_name": "Python 3"
    },
    "language_info": {
      "name": "python"
    }
  },
  "cells": [
    {
      "cell_type": "markdown",
      "metadata": {
        "id": "Z3Ax1W0hJ39V"
      },
      "source": [
        "# Pré-processamento de Texto\n",
        "\n",
        "Neste notebook iremos explorar as funcionalidades de pré-processamento de textos da biblioteca PyTorch."
      ]
    },
    {
      "cell_type": "code",
      "metadata": {
        "id": "6Mk4mUo1KCv5"
      },
      "source": [
        "import torch\n",
        "import torch.nn as nn\n",
        "from torchtext.legacy import data as ttd\n",
        "import numpy as np\n",
        "import pandas as pd\n",
        "import matplotlib.pyplot as plt\n",
        "from datetime import datetime"
      ],
      "execution_count": 8,
      "outputs": []
    },
    {
      "cell_type": "markdown",
      "metadata": {
        "id": "x8YcTBQbKPcl"
      },
      "source": [
        "Começaremos criando dados falsos experimentais:"
      ]
    },
    {
      "cell_type": "code",
      "metadata": {
        "id": "PO248i1fKRRq"
      },
      "source": [
        "data = {\n",
        "    \"label\": [0, 1, 1],\n",
        "    \"data\": [\n",
        "        \"I like eggs and ham.\",\n",
        "        \"Eggs I like!\",\n",
        "        \"Ham and eggs or just ham?\",\n",
        "    ]\n",
        "}"
      ],
      "execution_count": 2,
      "outputs": []
    },
    {
      "cell_type": "markdown",
      "metadata": {
        "id": "HnB9CEjpKdc0"
      },
      "source": [
        "Em seguida, vamos carregar esses dados em um DataFrame pandas:"
      ]
    },
    {
      "cell_type": "code",
      "metadata": {
        "id": "Hk7SzfoEKibO"
      },
      "source": [
        "df = pd.DataFrame(data)"
      ],
      "execution_count": 3,
      "outputs": []
    },
    {
      "cell_type": "markdown",
      "metadata": {
        "id": "SyQ4yNOOKmhr"
      },
      "source": [
        "Observe que agora temos os dados em um formato tabular:"
      ]
    },
    {
      "cell_type": "code",
      "metadata": {
        "colab": {
          "base_uri": "https://localhost:8080/",
          "height": 142
        },
        "id": "AvZiKrrjKoml",
        "outputId": "e2e6e401-a694-4317-ce57-b238ba9eb926"
      },
      "source": [
        "df.head()"
      ],
      "execution_count": 4,
      "outputs": [
        {
          "output_type": "execute_result",
          "data": {
            "text/html": [
              "<div>\n",
              "<style scoped>\n",
              "    .dataframe tbody tr th:only-of-type {\n",
              "        vertical-align: middle;\n",
              "    }\n",
              "\n",
              "    .dataframe tbody tr th {\n",
              "        vertical-align: top;\n",
              "    }\n",
              "\n",
              "    .dataframe thead th {\n",
              "        text-align: right;\n",
              "    }\n",
              "</style>\n",
              "<table border=\"1\" class=\"dataframe\">\n",
              "  <thead>\n",
              "    <tr style=\"text-align: right;\">\n",
              "      <th></th>\n",
              "      <th>label</th>\n",
              "      <th>data</th>\n",
              "    </tr>\n",
              "  </thead>\n",
              "  <tbody>\n",
              "    <tr>\n",
              "      <th>0</th>\n",
              "      <td>0</td>\n",
              "      <td>I like eggs and ham.</td>\n",
              "    </tr>\n",
              "    <tr>\n",
              "      <th>1</th>\n",
              "      <td>1</td>\n",
              "      <td>Eggs I like!</td>\n",
              "    </tr>\n",
              "    <tr>\n",
              "      <th>2</th>\n",
              "      <td>1</td>\n",
              "      <td>Ham and eggs or just ham?</td>\n",
              "    </tr>\n",
              "  </tbody>\n",
              "</table>\n",
              "</div>"
            ],
            "text/plain": [
              "   label                       data\n",
              "0      0       I like eggs and ham.\n",
              "1      1               Eggs I like!\n",
              "2      1  Ham and eggs or just ham?"
            ]
          },
          "metadata": {
            "tags": []
          },
          "execution_count": 4
        }
      ]
    },
    {
      "cell_type": "markdown",
      "metadata": {
        "id": "SodKFNFrKzkD"
      },
      "source": [
        "Agora iremos salvar o DataFrame em um arquivo CSV:"
      ]
    },
    {
      "cell_type": "code",
      "metadata": {
        "id": "6OpO5ICWK3zM"
      },
      "source": [
        "df.to_csv('textos.csv', index=False)"
      ],
      "execution_count": 5,
      "outputs": []
    },
    {
      "cell_type": "markdown",
      "metadata": {
        "id": "HHKj-_0kK9iT"
      },
      "source": [
        "Agora temos um arquivo csv chamado *textos.csv*:"
      ]
    },
    {
      "cell_type": "code",
      "metadata": {
        "colab": {
          "base_uri": "https://localhost:8080/"
        },
        "id": "gflaJMWiLBBD",
        "outputId": "e6555c46-3fd2-4613-fefc-d436b5d03bce"
      },
      "source": [
        "!head textos.csv"
      ],
      "execution_count": 6,
      "outputs": [
        {
          "output_type": "stream",
          "text": [
            "label,data\n",
            "0,I like eggs and ham.\n",
            "1,Eggs I like!\n",
            "1,Ham and eggs or just ham?\n"
          ],
          "name": "stdout"
        }
      ]
    },
    {
      "cell_type": "markdown",
      "metadata": {
        "id": "cH-OkfXqLF9J"
      },
      "source": [
        "Criaremos dois objetos **Field**, um para o texto e outro para o label."
      ]
    },
    {
      "cell_type": "code",
      "metadata": {
        "id": "UQG6q1TmLVIE"
      },
      "source": [
        "TEXT = ttd.Field(\n",
        "    sequential=True,\n",
        "    batch_first=True,\n",
        "    lower=True,\n",
        "    tokenize='spacy',\n",
        "    pad_first=True)\n",
        "\n",
        "LABEL = ttd.Field(sequential=False, use_vocab=False, is_target=True)"
      ],
      "execution_count": 10,
      "outputs": []
    },
    {
      "cell_type": "markdown",
      "metadata": {
        "id": "aFCKlnH9MCk9"
      },
      "source": [
        "Criaremos um objeto **TabularDataset** em que passamos para ele o arquivo CSV que exportamos com pandas:"
      ]
    },
    {
      "cell_type": "code",
      "metadata": {
        "id": "YItSMBkXMKT_"
      },
      "source": [
        "dataset = ttd.TabularDataset(\n",
        "    path='textos.csv',\n",
        "    format='csv',\n",
        "    skip_header=True,\n",
        "    fields=[('label', LABEL), ('data', TEXT)]\n",
        ")"
      ],
      "execution_count": 11,
      "outputs": []
    },
    {
      "cell_type": "markdown",
      "metadata": {
        "id": "dPti7HWXMSwE"
      },
      "source": [
        "Em seguida, checamos o atributo **examples** do objeto **dataset**:"
      ]
    },
    {
      "cell_type": "code",
      "metadata": {
        "colab": {
          "base_uri": "https://localhost:8080/"
        },
        "id": "xgaxcg_LMeBd",
        "outputId": "7e4a2bce-10cd-4ab8-a15a-339ff60a77ee"
      },
      "source": [
        "ex = dataset.examples[0]\n",
        "print(type(ex))\n",
        "print(ex.data)\n",
        "print(ex.label)"
      ],
      "execution_count": 13,
      "outputs": [
        {
          "output_type": "stream",
          "text": [
            "<class 'torchtext.legacy.data.example.Example'>\n",
            "['i', 'like', 'eggs', 'and', 'ham', '.']\n",
            "0\n"
          ],
          "name": "stdout"
        }
      ]
    },
    {
      "cell_type": "markdown",
      "metadata": {
        "id": "Wxgo9NbwMs35"
      },
      "source": [
        "Dividimos o nosso conjunto de dados em treinamento e teste com o método **split()**:"
      ]
    },
    {
      "cell_type": "code",
      "metadata": {
        "id": "YnlQqIehMyVa"
      },
      "source": [
        "train_dataset, test_dataset = dataset.split(0.66)"
      ],
      "execution_count": 14,
      "outputs": []
    },
    {
      "cell_type": "markdown",
      "metadata": {
        "id": "E7ioE3kBM8_s"
      },
      "source": [
        "Usamos a função **build_vocab** para construir um vocabulário a partir dos nossos dados de treinamento:"
      ]
    },
    {
      "cell_type": "code",
      "metadata": {
        "id": "esZYLRL8NCZZ"
      },
      "source": [
        "TEXT.build_vocab(train_dataset,)"
      ],
      "execution_count": 15,
      "outputs": []
    },
    {
      "cell_type": "markdown",
      "metadata": {
        "id": "LFhQ6lSZNH2K"
      },
      "source": [
        "E então inspecionamos o atributo **vocab**:"
      ]
    },
    {
      "cell_type": "code",
      "metadata": {
        "colab": {
          "base_uri": "https://localhost:8080/"
        },
        "id": "FnScJDObNPW6",
        "outputId": "755ca740-7812-4560-c389-cb38e821e19c"
      },
      "source": [
        "vocab = TEXT.vocab\n",
        "print(type(vocab))\n",
        "print(vocab.stoi)\n",
        "print(vocab.itos)"
      ],
      "execution_count": 17,
      "outputs": [
        {
          "output_type": "stream",
          "text": [
            "<class 'torchtext.legacy.vocab.Vocab'>\n",
            "defaultdict(<bound method Vocab._default_unk_index of <torchtext.legacy.vocab.Vocab object at 0x7f029b6e2650>>, {'<unk>': 0, '<pad>': 1, 'eggs': 2, 'ham': 3, '!': 4, '?': 5, 'and': 6, 'i': 7, 'just': 8, 'like': 9, 'or': 10})\n",
            "['<unk>', '<pad>', 'eggs', 'ham', '!', '?', 'and', 'i', 'just', 'like', 'or']\n"
          ],
          "name": "stdout"
        }
      ]
    },
    {
      "cell_type": "markdown",
      "metadata": {
        "id": "tKbSI4KFNdzY"
      },
      "source": [
        "A seguir, criamos o nosso objeto **device** que representa o dispositivo de processamento que está sendo utilizado:"
      ]
    },
    {
      "cell_type": "code",
      "metadata": {
        "colab": {
          "base_uri": "https://localhost:8080/"
        },
        "id": "oSvG9ZIcNpns",
        "outputId": "e3093cdc-8e56-45e9-f8da-a6777c495633"
      },
      "source": [
        "device = torch.device(\"cuda:0\" if torch.cuda.is_available() else \"cpu\")\n",
        "print(device)"
      ],
      "execution_count": 18,
      "outputs": [
        {
          "output_type": "stream",
          "text": [
            "cpu\n"
          ],
          "name": "stdout"
        }
      ]
    },
    {
      "cell_type": "markdown",
      "metadata": {
        "id": "w2qQ3PwVNupa"
      },
      "source": [
        "Criamos iteradores a partir do nosso conjunto de dados de treinamento e teste:"
      ]
    },
    {
      "cell_type": "code",
      "metadata": {
        "id": "UDibAXttNy21"
      },
      "source": [
        "train_iter, test_iter = ttd.Iterator.splits((train_dataset, test_dataset), sort_key=lambda x: len(x.data), batch_sizes=(2, 2), device=device)"
      ],
      "execution_count": 19,
      "outputs": []
    },
    {
      "cell_type": "markdown",
      "metadata": {
        "id": "Cw7L9bqbODPO"
      },
      "source": [
        "Finalmente, vamos um loop sob cada iterador para observar o comportamento da biblioteca PyTorch:"
      ]
    },
    {
      "cell_type": "code",
      "metadata": {
        "colab": {
          "base_uri": "https://localhost:8080/"
        },
        "id": "OdUXohBQOLid",
        "outputId": "8a33f62e-1de8-4e69-ed75-e149d10246bd"
      },
      "source": [
        "for inputs, targets in train_iter:\n",
        "    print(\"inputs:\", inputs, \"shape:\", inputs.shape)\n",
        "    print(\"targets:\", targets, \"shape:\", targets.shape)\n",
        "    break"
      ],
      "execution_count": 20,
      "outputs": [
        {
          "output_type": "stream",
          "text": [
            "inputs: tensor([[ 1,  1,  1,  2,  7,  9,  4],\n",
            "        [ 3,  6,  2, 10,  8,  3,  5]]) shape: torch.Size([2, 7])\n",
            "targets: tensor([1, 1]) shape: torch.Size([2])\n"
          ],
          "name": "stdout"
        }
      ]
    },
    {
      "cell_type": "code",
      "metadata": {
        "colab": {
          "base_uri": "https://localhost:8080/"
        },
        "id": "IKOgO4v-ONxX",
        "outputId": "d563cb73-b199-470f-cc2c-9f98d80cca6b"
      },
      "source": [
        "for inputs, targets in test_iter:\n",
        "    print(\"inputs:\", inputs, \"shape:\", inputs.shape)\n",
        "    print(\"targets:\", targets, \"shape:\", targets.shape)\n",
        "    break"
      ],
      "execution_count": 21,
      "outputs": [
        {
          "output_type": "stream",
          "text": [
            "inputs: tensor([[7, 9, 2, 6, 3, 0]]) shape: torch.Size([1, 6])\n",
            "targets: tensor([0]) shape: torch.Size([1])\n"
          ],
          "name": "stdout"
        }
      ]
    }
  ]
}