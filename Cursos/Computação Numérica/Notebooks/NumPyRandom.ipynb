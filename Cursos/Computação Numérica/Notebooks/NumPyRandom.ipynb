{
 "cells": [
  {
   "cell_type": "markdown",
   "metadata": {},
   "source": [
    "# Números Aleatórios em NumPy\n",
    "\n",
    "Número aleatório NÃO significa um número diferente a cada vez. \n",
    "\n",
    "Aleatório significa algo que não pode ser previsto logicamente.\n",
    "\n",
    "## Pseudo Random\n",
    "\n",
    "Os computadores funcionam em programas, e os programas são conjuntos de instruções definitivas. Portanto, isso significa que deve haver algum algoritmo para gerar um número aleatório também.\n",
    "\n",
    "Se houver um programa para gerar um número aleatório, ele pode ser previsto, portanto, não é verdadeiramente aleatório.\n",
    "\n",
    "Os números aleatórios gerados por meio de um algoritmo de geração são chamados de **pseudo-aleatórios**.\n",
    "\n",
    "## Gerando Números Aleatórios\n",
    "\n",
    "NumPy oferece o módulo `random` para trabalhar com números aleatórios."
   ]
  },
  {
   "cell_type": "markdown",
   "metadata": {},
   "source": [
    "Gerando um número inteiro aleatório de **0** a **100**:"
   ]
  },
  {
   "cell_type": "code",
   "execution_count": 25,
   "metadata": {},
   "outputs": [
    {
     "name": "stdout",
     "output_type": "stream",
     "text": [
      "67\n"
     ]
    }
   ],
   "source": [
    "from numpy import random\n",
    "import numpy as np\n",
    "\n",
    "x = random.randint(100)\n",
    "print(x)"
   ]
  },
  {
   "cell_type": "markdown",
   "metadata": {},
   "source": [
    "O método **rand()** do módulo **random** retorna um float aleatório entre **0** e **1**."
   ]
  },
  {
   "cell_type": "code",
   "execution_count": 4,
   "metadata": {},
   "outputs": [
    {
     "name": "stdout",
     "output_type": "stream",
     "text": [
      "0.5074536798772583\n"
     ]
    }
   ],
   "source": [
    "x = random.rand()\n",
    "print(x)"
   ]
  },
  {
   "cell_type": "markdown",
   "metadata": {},
   "source": [
    "### Gerando um Array Aleatório\n",
    "\n",
    "No NumPy, trabalhamos com arrays, e podemos usar os dois métodos dos exemplos acima para criar arrays aleatórios."
   ]
  },
  {
   "cell_type": "markdown",
   "metadata": {},
   "source": [
    "#### Inteiros\n",
    "\n",
    "O método **randint()** usa um parâmetro de tamanho onde podemos especificar a forma de um array.\n",
    "\n",
    "Gerando um array **1-D** contendo 5 inteiros aleatórios de **0** a **100**:"
   ]
  },
  {
   "cell_type": "code",
   "execution_count": 5,
   "metadata": {},
   "outputs": [
    {
     "name": "stdout",
     "output_type": "stream",
     "text": [
      "[89 56 30 17 10]\n"
     ]
    }
   ],
   "source": [
    "x = random.randint(100, size=(5))\n",
    "print(x)"
   ]
  },
  {
   "cell_type": "markdown",
   "metadata": {},
   "source": [
    "Gerando um array **2-D** com 3 linhas, cada linha contendo 5 inteiros aleatórios de **0** a **100**:"
   ]
  },
  {
   "cell_type": "code",
   "execution_count": 6,
   "metadata": {},
   "outputs": [
    {
     "name": "stdout",
     "output_type": "stream",
     "text": [
      "[[93 65 68 89 48]\n",
      " [37 31 27 22 81]\n",
      " [19 17 89 24  0]]\n"
     ]
    }
   ],
   "source": [
    "x = random.randint(100, size=(3, 5))\n",
    "print(x)"
   ]
  },
  {
   "cell_type": "markdown",
   "metadata": {},
   "source": [
    "#### Floats\n",
    "\n",
    "O método **rand()** também permite que especifiquemos a forma do array.\n",
    "\n",
    "Gerando um array **1-D** contendo 5 floats aleatórios:"
   ]
  },
  {
   "cell_type": "code",
   "execution_count": 7,
   "metadata": {},
   "outputs": [
    {
     "name": "stdout",
     "output_type": "stream",
     "text": [
      "[0.03743282 0.05124623 0.09429611 0.78566707 0.45007037]\n"
     ]
    }
   ],
   "source": [
    "x = random.rand(5)\n",
    "print(x)"
   ]
  },
  {
   "cell_type": "markdown",
   "metadata": {},
   "source": [
    "Gerando um array **2-D** com 3 linhas, cada linha contendo 5 números floats aleatórios:"
   ]
  },
  {
   "cell_type": "code",
   "execution_count": 8,
   "metadata": {},
   "outputs": [
    {
     "name": "stdout",
     "output_type": "stream",
     "text": [
      "[[0.59083326 0.33712459 0.44991712 0.78773972 0.67025495]\n",
      " [0.31782939 0.27511295 0.18789889 0.07545293 0.12466325]\n",
      " [0.87235428 0.47312413 0.55814929 0.09261366 0.53950085]]\n"
     ]
    }
   ],
   "source": [
    "x = random.rand(3, 5)\n",
    "print(x)"
   ]
  },
  {
   "cell_type": "markdown",
   "metadata": {},
   "source": [
    "### Gerando Números Aleatórios de um Array\n",
    "\n",
    "O método **choice()** permite gerar um valor aleatório com base em uma array de valores.\n",
    "\n",
    "O método **choice()** usa um array como parâmetro e retorna aleatoriamente um dos valores.\n",
    "\n",
    "Retorne um dos valores em um array:"
   ]
  },
  {
   "cell_type": "code",
   "execution_count": 15,
   "metadata": {},
   "outputs": [
    {
     "name": "stdout",
     "output_type": "stream",
     "text": [
      "3\n"
     ]
    }
   ],
   "source": [
    "x = random.choice([3, 5, 7, 9])\n",
    "print(x)"
   ]
  },
  {
   "cell_type": "markdown",
   "metadata": {},
   "source": [
    "Também podemos obter mais de um valor:"
   ]
  },
  {
   "cell_type": "code",
   "execution_count": 21,
   "metadata": {},
   "outputs": [
    {
     "name": "stdout",
     "output_type": "stream",
     "text": [
      "[ 7 27]\n"
     ]
    }
   ],
   "source": [
    "x = random.choice([3, 5, 7, 9, 12, 13, 17, 27],2)\n",
    "print(x)"
   ]
  },
  {
   "cell_type": "markdown",
   "metadata": {},
   "source": [
    "O método **choice()** também permite retornar um array de valores.\n",
    "\n",
    "Adicione um parâmetro de tamanho (**size**) para especificar a forma do array.\n",
    "\n",
    "Gerando um array **2-D** que consiste nos valores do parâmetro do array `(3, 5, 7 e 9)`:"
   ]
  },
  {
   "cell_type": "code",
   "execution_count": 13,
   "metadata": {},
   "outputs": [
    {
     "name": "stdout",
     "output_type": "stream",
     "text": [
      "[[9 3 9 7 5]\n",
      " [3 5 7 7 5]\n",
      " [5 3 9 9 7]]\n"
     ]
    }
   ],
   "source": [
    "x = random.choice([3, 5, 7, 9], size=(3, 5))\n",
    "print(x)"
   ]
  },
  {
   "cell_type": "markdown",
   "metadata": {},
   "source": [
    "### Distribuição Aleatória de Dados\n",
    "\n",
    "Distribuição de dados é uma lista de todos os valores possíveis e a frequência com que cada valor ocorre.\n",
    "\n",
    "Essas listas são importantes ao trabalhar com estatísticas e ciência de dados.\n",
    "\n",
    "O módulo `random` oferece métodos que retornam distribuições de dados gerados aleatoriamente.\n",
    "\n",
    "Uma distribuição aleatória é um conjunto de números aleatórios que seguem uma certa **[função de densidade de probabilidade](https://en.wikipedia.org/wiki/Probability_density_function)**.\n",
    "\n",
    "**Função de densidade de probabilidade**: uma função que descreve uma probabilidade contínua. ou seja, probabilidade de todos os valores em um array.\n",
    "\n",
    "Podemos gerar números aleatórios com base em probabilidades definidas usando o método **choice()** do módulo **random**.\n",
    "\n",
    "O método **choice()** nos permite especificar a probabilidade de cada valor.\n",
    "\n",
    "A probabilidade é definida por um número entre **0** e **1**, onde 0 significa que o valor nunca ocorrerá e 1 significa que o valor sempre ocorrerá."
   ]
  },
  {
   "cell_type": "markdown",
   "metadata": {},
   "source": [
    "#### Exemplo\n",
    "\n",
    "Gerando um array **1-D** contendo 100 valores, onde cada valor deve ser **3**, **5**, **7** ou **9**.\n",
    "\n",
    "A probabilidade do valor ser 3 está definida como **0.1**\n",
    "\n",
    "A probabilidade do valor ser 5 é de **0.3**\n",
    "\n",
    "A probabilidade do valor ser 7 é definida como **0.6**\n",
    "\n",
    "A probabilidade do valor ser 9 é definida como **0**"
   ]
  },
  {
   "cell_type": "code",
   "execution_count": 22,
   "metadata": {},
   "outputs": [
    {
     "name": "stdout",
     "output_type": "stream",
     "text": [
      "[7 7 7 7 5 7 3 5 5 7 7 5 7 7 7 7 7 5 5 5 5 7 5 7 7 7 7 7 7 7 7 5 5 5 7 7 7\n",
      " 7 5 5 5 7 3 7 7 7 5 3 7 3 7 7 7 7 3 7 7 5 5 5 5 7 7 5 7 7 7 7 5 3 7 5 5 7\n",
      " 7 5 7 5 3 3 3 5 5 7 5 3 7 5 7 7 7 7 5 7 5 5 7 7 5 5]\n"
     ]
    }
   ],
   "source": [
    "x = random.choice([3, 5, 7, 9], p=[0.1, 0.3, 0.6, 0.0], size=(100))\n",
    "print(x)"
   ]
  },
  {
   "cell_type": "markdown",
   "metadata": {},
   "source": [
    "**Importante**: A soma de todos os números de probabilidade deve ser **1**.\n",
    "\n",
    "Mesmo se executarmos o exemplo acima de 100 vezes, o valor 9 nunca ocorrerá.\n",
    "\n",
    "Podemos retornar arrays de qualquer forma e tamanho (**size**), especificando a forma no parâmetro de tamanho."
   ]
  },
  {
   "cell_type": "markdown",
   "metadata": {},
   "source": [
    "### Permutações Aleatórias de Elementos\n",
    "\n",
    "Uma permutação se refere a um arranjo de elementos. Por exemplo: `[3, 2, 1]` é uma permutação de `[1, 2, 3]` e vice-versa.\n",
    "\n",
    "O módulo NumPy Random fornece dois métodos para isso: **shuffle()** e **permutation()**."
   ]
  },
  {
   "cell_type": "markdown",
   "metadata": {},
   "source": [
    "#### Embaralhando Arrays\n",
    "\n",
    "**Shuffle** significa alterar a disposição dos elementos **in-place**, ou seja, na próprio array.\n",
    "\n",
    "Vamos embaralhar aleatoriamente os elementos do array a seguir:"
   ]
  },
  {
   "cell_type": "code",
   "execution_count": 27,
   "metadata": {},
   "outputs": [
    {
     "name": "stdout",
     "output_type": "stream",
     "text": [
      "[2 1 3 4 5]\n"
     ]
    }
   ],
   "source": [
    "arr = np.array([1, 2, 3, 4, 5])\n",
    "random.shuffle(arr)\n",
    "print(arr)"
   ]
  },
  {
   "cell_type": "markdown",
   "metadata": {},
   "source": [
    "**Importante**: O método **shuffle()** faz alterações no array original."
   ]
  },
  {
   "cell_type": "markdown",
   "metadata": {},
   "source": [
    "#### Gerando Permutação de Arrays\n",
    "\n",
    "Gerando uma permutação aleatória de elementos do seguinte array:"
   ]
  },
  {
   "cell_type": "code",
   "execution_count": 32,
   "metadata": {},
   "outputs": [
    {
     "name": "stdout",
     "output_type": "stream",
     "text": [
      "[2 5 4 3 1]\n"
     ]
    }
   ],
   "source": [
    "arr = np.array([1, 2, 3, 4, 5])\n",
    "print(random.permutation(arr))"
   ]
  },
  {
   "cell_type": "code",
   "execution_count": 33,
   "metadata": {},
   "outputs": [
    {
     "data": {
      "text/plain": [
       "array([1, 2, 3, 4, 5])"
      ]
     },
     "execution_count": 33,
     "metadata": {},
     "output_type": "execute_result"
    }
   ],
   "source": [
    "arr"
   ]
  },
  {
   "cell_type": "markdown",
   "metadata": {},
   "source": [
    "**Importante**: O método **permutation()** retorna um array reorganizado (e deixa o array original inalterado)."
   ]
  },
  {
   "cell_type": "markdown",
   "metadata": {},
   "source": [
    "### Visualizando Distribuições com Seaborn\n",
    "\n",
    "**[Seaborn](https://seaborn.pydata.org/)** é uma biblioteca que usa **Matplotlib** *underneath* para traçar gráficos. \n",
    "\n",
    "Ele pode ser usada para visualizar distribuições aleatórias."
   ]
  },
  {
   "cell_type": "markdown",
   "metadata": {},
   "source": [
    "#### Distplots\n",
    "\n",
    "**Distplot** significa gráfico de distribuição, toma como entrada um array e plota uma curva correspondente à distribuição de pontos no array."
   ]
  },
  {
   "cell_type": "code",
   "execution_count": 36,
   "metadata": {},
   "outputs": [],
   "source": [
    "import seaborn as sns"
   ]
  },
  {
   "cell_type": "markdown",
   "metadata": {},
   "source": [
    "#### Traçando um Displot"
   ]
  },
  {
   "cell_type": "code",
   "execution_count": 35,
   "metadata": {},
   "outputs": [
    {
     "data": {
      "image/png": "[encoded data removed]",
      "text/plain": [
       "<Figure size 432x288 with 1 Axes>"
      ]
     },
     "metadata": {
      "needs_background": "light"
     },
     "output_type": "display_data"
    }
   ],
   "source": [
    "sns.distplot([0, 1, 2, 3, 4, 5]);"
   ]
  },
  {
   "cell_type": "markdown",
   "metadata": {},
   "source": [
    "#### Traçando um Distplot sem o Histograma"
   ]
  },
  {
   "cell_type": "code",
   "execution_count": 38,
   "metadata": {},
   "outputs": [
    {
     "data": {
      "image/png": "[encoded data removed]",
      "text/plain": [
       "<Figure size 432x288 with 1 Axes>"
      ]
     },
     "metadata": {
      "needs_background": "light"
     },
     "output_type": "display_data"
    }
   ],
   "source": [
    "sns.distplot([0, 1, 2, 3, 4, 5, 6, 7], hist=False);"
   ]
  },
  {
   "cell_type": "markdown",
   "metadata": {},
   "source": [
    "### Distribuição Normal (Gaussian)\n",
    "\n",
    "A distribuição normal é uma das distribuições mais importantes.\n",
    "\n",
    "É também chamada de Distribuição Gaussiana em homenagem ao matemático alemão **Carl Friedrich Gauss**.\n",
    "\n",
    "Ele se ajusta à distribuição de probabilidade de muitos eventos, por exemplo: Pontuações de QI, pulsação etc.\n",
    "\n",
    "Usamos o método **random.normal()** para obter uma distribuição normal de dados.\n",
    "\n",
    "Ele possui três parâmetros:\n",
    "\n",
    "- **loc** - (média) onde existe o pico do sino (**bell**).\n",
    "\n",
    "- **scale** - (Desvio padrão) quão plana a distribuição do gráfico deve ser.\n",
    "\n",
    "- **size** - A forma do array retornado."
   ]
  },
  {
   "cell_type": "markdown",
   "metadata": {},
   "source": [
    "#### Exemplo\n",
    "\n",
    "Gerando uma distribuição normal aleatória de tamanho 2x3:"
   ]
  },
  {
   "cell_type": "code",
   "execution_count": 39,
   "metadata": {},
   "outputs": [
    {
     "name": "stdout",
     "output_type": "stream",
     "text": [
      "[[ 2.43826769 -0.78888876 -0.14645032]\n",
      " [ 0.67113708 -0.52822905  1.13274281]]\n"
     ]
    }
   ],
   "source": [
    "x = random.normal(size=(2, 3))\n",
    "print(x)"
   ]
  },
  {
   "cell_type": "markdown",
   "metadata": {},
   "source": [
    "Gerando uma distribuição normal aleatória de tamanho 2x3 com média em **1** e desvio padrão de **2**:"
   ]
  },
  {
   "cell_type": "code",
   "execution_count": 40,
   "metadata": {},
   "outputs": [
    {
     "name": "stdout",
     "output_type": "stream",
     "text": [
      "[[ 5.82269785  2.02511798 -0.31599401]\n",
      " [ 1.68194183  0.63114534 -1.32631086]]\n"
     ]
    }
   ],
   "source": [
    "x = random.normal(loc=1, scale=2, size=(2, 3))\n",
    "print(x)"
   ]
  },
  {
   "cell_type": "markdown",
   "metadata": {},
   "source": [
    "#### Visualizando a Distribuição Normal"
   ]
  },
  {
   "cell_type": "code",
   "execution_count": 41,
   "metadata": {},
   "outputs": [
    {
     "data": {
      "image/png": "[encoded data removed]",
      "text/plain": [
       "<Figure size 432x288 with 1 Axes>"
      ]
     },
     "metadata": {
      "needs_background": "light"
     },
     "output_type": "display_data"
    }
   ],
   "source": [
    "sns.distplot(random.normal(size=1000), hist=False);"
   ]
  },
  {
   "cell_type": "markdown",
   "metadata": {},
   "source": [
    "**Observação**: A curva de uma distribuição normal também é conhecida como **Curva em Sino** por causa da curva em forma de sino."
   ]
  },
  {
   "cell_type": "markdown",
   "metadata": {},
   "source": [
    "### Distribuição Binomial\n",
    "\n",
    "A distribuição binomial é uma distribuição discreta.\n",
    "\n",
    "Ele descreve o resultado de cenários binários, por exemplo: lançamento de uma moeda, **cara** ou **coroa**.\n",
    "\n",
    "Possui três parâmetros:\n",
    "\n",
    "- **n** - Número de tentativas.\n",
    "\n",
    "- **p** - Probabilidade de ocorrência de cada tentativa (por exemplo, para lançamento de uma moeda **0.5** / 50% cada).\n",
    "\n",
    "- **size** - A forma do array retornado."
   ]
  },
  {
   "cell_type": "markdown",
   "metadata": {},
   "source": [
    "**Distribuição Discreta:** A distribuição é definida em um conjunto separado de eventos, por exemplo: o resultado de um lançamento de moeda é discreto, pois pode ser apenas cara ou coroa, enquanto a altura das pessoas é contínua, pois pode ser 170.0 170.1, 170.11 e assim por diante."
   ]
  },
  {
   "cell_type": "markdown",
   "metadata": {},
   "source": [
    "#### Exemplo\n",
    "\n",
    "Dados 10 lançamentos para uma moeda, geramos 10 pontos de dados:"
   ]
  },
  {
   "cell_type": "code",
   "execution_count": 52,
   "metadata": {},
   "outputs": [
    {
     "name": "stdout",
     "output_type": "stream",
     "text": [
      "[0 0 0 0 0 0 0 1 1 1]\n"
     ]
    }
   ],
   "source": [
    "x = random.binomial(n=1, p=0.5, size=10)\n",
    "print(x)"
   ]
  },
  {
   "cell_type": "markdown",
   "metadata": {},
   "source": [
    "#### Visualizando a Distribuição Binomial\n",
    "\n",
    "Dessa vez vamos realizar **1000** lançamentos:"
   ]
  },
  {
   "cell_type": "code",
   "execution_count": 54,
   "metadata": {},
   "outputs": [
    {
     "data": {
      "image/png": "[encoded data removed]",
      "text/plain": [
       "<Figure size 432x288 with 1 Axes>"
      ]
     },
     "metadata": {
      "needs_background": "light"
     },
     "output_type": "display_data"
    }
   ],
   "source": [
    "sns.distplot(random.binomial(n=1, p=0.5, size=1000), hist=True, kde=False);"
   ]
  },
  {
   "cell_type": "markdown",
   "metadata": {},
   "source": [
    "#### Diferença entre Normal e Binomial\n",
    "\n",
    "A principal diferença é que a distribuição normal é contínua, enquanto a binomial é discreta, mas se houver pontos de dados suficientes, será bastante semelhante à distribuição normal com certos **loc** e **scale**."
   ]
  },
  {
   "cell_type": "code",
   "execution_count": 58,
   "metadata": {},
   "outputs": [
    {
     "data": {
      "image/png": "[encoded data removed]",
      "text/plain": [
       "<Figure size 432x288 with 1 Axes>"
      ]
     },
     "metadata": {
      "needs_background": "light"
     },
     "output_type": "display_data"
    }
   ],
   "source": [
    "sns.distplot(random.normal(loc=50, scale=5, size=1000), hist=False, label='normal');\n",
    "sns.distplot(random.binomial(n=100, p=0.5, size=1000), hist=False, label='binomial');"
   ]
  },
  {
   "cell_type": "markdown",
   "metadata": {},
   "source": [
    "### Distribuição Poisson\n",
    "\n",
    "A distribuição de Poisson é uma **distribuição discreta**.\n",
    "\n",
    "Ele estima quantas vezes um evento pode acontecer em um determinado momento. por exemplo: Se alguém come duas vezes por dia, qual é a probabilidade de que coma três vezes?\n",
    "\n",
    "Possui dois parâmetros:\n",
    "\n",
    "- **lam** - Rate ou número conhecido de ocorrências, por ex: 2 para o problema acima.\n",
    "\n",
    "- **size** - A forma do array retornado."
   ]
  },
  {
   "cell_type": "markdown",
   "metadata": {},
   "source": [
    "Gerando uma distribuição 1x10 aleatória para a ocorrência 2:"
   ]
  },
  {
   "cell_type": "code",
   "execution_count": 59,
   "metadata": {},
   "outputs": [
    {
     "name": "stdout",
     "output_type": "stream",
     "text": [
      "[3 2 1 1 2 3 4 2 4 4]\n"
     ]
    }
   ],
   "source": [
    "x = random.poisson(lam=2, size=10)\n",
    "print(x)"
   ]
  },
  {
   "cell_type": "markdown",
   "metadata": {},
   "source": [
    "#### Visualização da Distribuição de Poisson"
   ]
  },
  {
   "cell_type": "code",
   "execution_count": 60,
   "metadata": {},
   "outputs": [
    {
     "data": {
      "image/png": "[encoded data removed]",
      "text/plain": [
       "<Figure size 432x288 with 1 Axes>"
      ]
     },
     "metadata": {
      "needs_background": "light"
     },
     "output_type": "display_data"
    }
   ],
   "source": [
    "sns.distplot(random.poisson(lam=2, size=1000), kde=False);"
   ]
  },
  {
   "cell_type": "markdown",
   "metadata": {},
   "source": [
    "### Distribuição Uniforme\n",
    "\n",
    "Usada para descrever a probabilidade onde cada evento tem chances iguais de ocorrer.\n",
    "\n",
    "Por exemplo: Geração de números aleatórios.\n",
    "\n",
    "Possui três parâmetros:\n",
    "\n",
    "- **a** - Limite inferior - *default* 0 .0.\n",
    "\n",
    "- **b** - Limite superior - *default* 1.0.\n",
    "\n",
    "- **size** - A forma do array retornado."
   ]
  },
  {
   "cell_type": "markdown",
   "metadata": {},
   "source": [
    "Criando uma amostra de distribuição uniforme 2x3:"
   ]
  },
  {
   "cell_type": "code",
   "execution_count": 61,
   "metadata": {},
   "outputs": [
    {
     "name": "stdout",
     "output_type": "stream",
     "text": [
      "[[0.70865087 0.1727624  0.49841128]\n",
      " [0.15423447 0.61491903 0.99521839]]\n"
     ]
    }
   ],
   "source": [
    "x = random.uniform(size=(2, 3))\n",
    "print(x)"
   ]
  },
  {
   "cell_type": "markdown",
   "metadata": {},
   "source": [
    "#### Visualização da Distribuição Uniforme"
   ]
  },
  {
   "cell_type": "code",
   "execution_count": 62,
   "metadata": {},
   "outputs": [
    {
     "data": {
      "image/png": "[encoded data removed]",
      "text/plain": [
       "<Figure size 432x288 with 1 Axes>"
      ]
     },
     "metadata": {
      "needs_background": "light"
     },
     "output_type": "display_data"
    }
   ],
   "source": [
    "sns.distplot(random.uniform(size=1000), hist=False);"
   ]
  },
  {
   "cell_type": "markdown",
   "metadata": {},
   "source": [
    "### Distribuição Logística\n",
    "\n",
    "A distribuição logística é usada para descrever o crescimento.\n",
    "\n",
    "Usado extensivamente em *machine learning* em regressão logística, redes neurais, etc.\n",
    "\n",
    "Possui três parâmetros:\n",
    "\n",
    "- **loc** - Média, onde está o pico. Padrão 0.\n",
    "\n",
    "- **scale** - Desvio padrão, a uniformidade da distribuição. Padrão 1.\n",
    "\n",
    "- **size** - A forma do array retornado."
   ]
  },
  {
   "cell_type": "markdown",
   "metadata": {},
   "source": [
    "Desenhando amostras 2x3 de uma distribuição logística com média em 1 e **stddev** (desvio padrão) 2.0:"
   ]
  },
  {
   "cell_type": "code",
   "execution_count": 63,
   "metadata": {},
   "outputs": [
    {
     "name": "stdout",
     "output_type": "stream",
     "text": [
      "[[11.54806215 -3.12196978  2.24520722]\n",
      " [ 5.70937356  5.92215412 -0.37077555]]\n"
     ]
    }
   ],
   "source": [
    "x = random.logistic(loc=1, scale=2, size=(2, 3))\n",
    "print(x)"
   ]
  },
  {
   "cell_type": "markdown",
   "metadata": {},
   "source": [
    "#### Visualização da Distribuição Logística"
   ]
  },
  {
   "cell_type": "code",
   "execution_count": 64,
   "metadata": {},
   "outputs": [
    {
     "data": {
      "image/png": "[encoded data removed]",
      "text/plain": [
       "<Figure size 432x288 with 1 Axes>"
      ]
     },
     "metadata": {
      "needs_background": "light"
     },
     "output_type": "display_data"
    }
   ],
   "source": [
    "sns.distplot(random.logistic(size=1000), hist=False);"
   ]
  },
  {
   "cell_type": "markdown",
   "metadata": {},
   "source": [
    "### Seed\n",
    "\n",
    "A função **seed()** pode ser usada para propagar o gerador de números pseudo-aleatórios NumPy, tomando um inteiro como o valor inicial.\n",
    "\n",
    "O exemplo abaixo demonstra como semear o gerador e como a nova propagação do gerador resultará na mesma sequência de números aleatórios sendo gerados."
   ]
  },
  {
   "cell_type": "code",
   "execution_count": 71,
   "metadata": {},
   "outputs": [
    {
     "name": "stdout",
     "output_type": "stream",
     "text": [
      "5\n"
     ]
    }
   ],
   "source": [
    "random.seed(1)\n",
    "print(random.randint(10))"
   ]
  },
  {
   "cell_type": "code",
   "execution_count": 72,
   "metadata": {},
   "outputs": [
    {
     "name": "stdout",
     "output_type": "stream",
     "text": [
      "5\n"
     ]
    }
   ],
   "source": [
    "random.seed(1)\n",
    "print(random.randint(10))"
   ]
  },
  {
   "cell_type": "markdown",
   "metadata": {},
   "source": [
    "Quando lançamos a **seed** (todas as vezes), ela faz a mesma coisa todas as vezes, nos dando os mesmos números.\n",
    "\n",
    "Sendo assim, os experimentos \"aleatórios\" podem ser replicados por outras pessoas em diferentes máquinas."
   ]
  }
 ],
 "metadata": {
  "kernelspec": {
   "display_name": "Python 3",
   "language": "python",
   "name": "python3"
  },
  "language_info": {
   "codemirror_mode": {
    "name": "ipython",
    "version": 3
   },
   "file_extension": ".py",
   "mimetype": "text/x-python",
   "name": "python",
   "nbconvert_exporter": "python",
   "pygments_lexer": "ipython3",
   "version": "3.7.7"
  }
 },
 "nbformat": 4,
 "nbformat_minor": 4
}
