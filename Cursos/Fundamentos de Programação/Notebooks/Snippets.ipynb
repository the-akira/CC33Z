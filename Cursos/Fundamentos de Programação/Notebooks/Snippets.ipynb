{
 "cells": [
  {
   "cell_type": "markdown",
   "metadata": {},
   "source": [
    "# Snippets\n",
    "\n",
    "Snippets úteis de Código Python que podem nos ajudar na solução de problemas."
   ]
  },
  {
   "cell_type": "markdown",
   "metadata": {},
   "source": [
    "## Recebendo Múltiplos Inputs Separados por Espaços\n",
    "\n",
    "Este trecho de código permite que você pegue vários **inputs** separados por espaço de uma vez. Este snippet será útil sempre que você estiver resolvendo uma questão de competição de programação."
   ]
  },
  {
   "cell_type": "markdown",
   "metadata": {},
   "source": [
    "Recebendo **dois inteiros** como Input:"
   ]
  },
  {
   "cell_type": "code",
   "execution_count": 8,
   "metadata": {},
   "outputs": [
    {
     "name": "stdin",
     "output_type": "stream",
     "text": [
      " 30 33\n"
     ]
    },
    {
     "name": "stdout",
     "output_type": "stream",
     "text": [
      "a: 30\n",
      "b: 33\n",
      "30 + 33 = 63\n"
     ]
    }
   ],
   "source": [
    "a,b = map(int,input().split())\n",
    "print(f\"a: {a}\")\n",
    "print(f\"b: {b}\")\n",
    "print(f\"{a} + {b} = {a+b}\")"
   ]
  },
  {
   "cell_type": "markdown",
   "metadata": {},
   "source": [
    "Recebendo uma **lista** como Input:"
   ]
  },
  {
   "cell_type": "code",
   "execution_count": 9,
   "metadata": {},
   "outputs": [
    {
     "name": "stdin",
     "output_type": "stream",
     "text": [
      " 10 15 20 25\n"
     ]
    },
    {
     "name": "stdout",
     "output_type": "stream",
     "text": [
      "Lista: [10, 15, 20, 25]\n"
     ]
    }
   ],
   "source": [
    "arr = list(map(int,input().split()))\n",
    "print(f\"Lista: {arr}\")"
   ]
  },
  {
   "cell_type": "markdown",
   "metadata": {},
   "source": [
    "## Acessando Índice e Valor ao Mesmo Tempo\n",
    "\n",
    "A função embutida **enumerate()** permite que você acesse o **índice** e o **valor** ao mesmo tempo dentro de um **for** loop."
   ]
  },
  {
   "cell_type": "code",
   "execution_count": 12,
   "metadata": {},
   "outputs": [
    {
     "name": "stdout",
     "output_type": "stream",
     "text": [
      "No índice 0 O valor é -> 2\n",
      "No índice 1 O valor é -> 4\n",
      "No índice 2 O valor é -> 6\n",
      "No índice 3 O valor é -> 3\n",
      "No índice 4 O valor é -> 8\n",
      "No índice 5 O valor é -> 10\n"
     ]
    }
   ],
   "source": [
    "arr = [2,4,6,3,8,10]\n",
    "\n",
    "for index,value in enumerate(arr):\n",
    "    print(f\"No índice {index} O valor é -> {value}\")"
   ]
  },
  {
   "cell_type": "markdown",
   "metadata": {},
   "source": [
    "## Checando Uso de Memória\n",
    "\n",
    "Este trecho será usado para verificar o uso de memória de um objeto."
   ]
  },
  {
   "cell_type": "code",
   "execution_count": 11,
   "metadata": {},
   "outputs": [
    {
     "name": "stdout",
     "output_type": "stream",
     "text": [
      "32\n"
     ]
    }
   ],
   "source": [
    "import sys\n",
    "\n",
    "x = 10_000_000_000\n",
    "print(sys.getsizeof(x))"
   ]
  },
  {
   "cell_type": "markdown",
   "metadata": {},
   "source": [
    "## Imprimindo o ID Único de uma Variável\n",
    "\n",
    "O método **id()** permite que você encontre o id único de uma variável. Você só precisa passar o nome da variável no método."
   ]
  },
  {
   "cell_type": "code",
   "execution_count": 13,
   "metadata": {},
   "outputs": [
    {
     "name": "stdout",
     "output_type": "stream",
     "text": [
      "140166819047280\n",
      "140166827983760\n",
      "140166819045936\n"
     ]
    }
   ],
   "source": [
    "nome = 'Sofia'\n",
    "ano = 1993\n",
    "cidade = 'Minsk'\n",
    "\n",
    "print(id(nome))\n",
    "print(id(ano))\n",
    "print(id(cidade))"
   ]
  },
  {
   "cell_type": "markdown",
   "metadata": {},
   "source": [
    "## Checando por Anagrama\n",
    "\n",
    "Um anagrama é uma palavra formada pela reorganização das letras de uma palavra diferente, usando todas as letras originais exatamente uma vez."
   ]
  },
  {
   "cell_type": "code",
   "execution_count": 15,
   "metadata": {},
   "outputs": [],
   "source": [
    "def checar_anagrama(primeira_palavra, segunda_palavra):\n",
    "    return sorted(primeira_palavra) == sorted(segunda_palavra)"
   ]
  },
  {
   "cell_type": "code",
   "execution_count": 16,
   "metadata": {},
   "outputs": [
    {
     "name": "stdout",
     "output_type": "stream",
     "text": [
      "True\n",
      "False\n"
     ]
    }
   ],
   "source": [
    "print(checar_anagrama('roma','amor'))\n",
    "print(checar_anagrama('macaco','cachorro'))"
   ]
  },
  {
   "cell_type": "markdown",
   "metadata": {},
   "source": [
    "## Unindo Dois Dicionários\n",
    "\n",
    "Isso será útil quando você estiver lidando com bancos de dados e arquivos JSON e precisar mesclar vários dados de diferentes arquivos ou tabelas em um arquivo comum. \n",
    "\n",
    "A fusão de dois dicionários apresenta alguns riscos, como, por exemplo, se tivermos chaves duplicadas. Felizmente, também temos soluções para isso."
   ]
  },
  {
   "cell_type": "code",
   "execution_count": 24,
   "metadata": {},
   "outputs": [],
   "source": [
    "info = {\"nome\":['Karl','Lars'],\"mobile\":[\"0134567894\",\"0123456789\"]}\n",
    "notas = {\"notas\":[\"A\",\"B\"]}"
   ]
  },
  {
   "cell_type": "markdown",
   "metadata": {},
   "source": [
    "Método Dictionary Comprehension:"
   ]
  },
  {
   "cell_type": "code",
   "execution_count": 25,
   "metadata": {},
   "outputs": [
    {
     "name": "stdout",
     "output_type": "stream",
     "text": [
      "{'nome': ['Karl', 'Lars'], 'mobile': ['0134567894', '0123456789'], 'notas': ['A', 'B']}\n"
     ]
    }
   ],
   "source": [
    "detalhes = {chave:valor for data in (info, notas) for chave,valor in data.items()}\n",
    "print(detalhes)"
   ]
  },
  {
   "cell_type": "markdown",
   "metadata": {},
   "source": [
    "Método Dictionary Unpacking:"
   ]
  },
  {
   "cell_type": "code",
   "execution_count": 26,
   "metadata": {},
   "outputs": [
    {
     "name": "stdout",
     "output_type": "stream",
     "text": [
      "{'nome': ['Karl', 'Lars'], 'mobile': ['0134567894', '0123456789'], 'notas': ['A', 'B']}\n"
     ]
    }
   ],
   "source": [
    "detalhes = {**info, **notas}\n",
    "print(detalhes)"
   ]
  },
  {
   "cell_type": "markdown",
   "metadata": {},
   "source": [
    "Método Copy e Update:"
   ]
  },
  {
   "cell_type": "code",
   "execution_count": 27,
   "metadata": {},
   "outputs": [
    {
     "name": "stdout",
     "output_type": "stream",
     "text": [
      "{'nome': ['Karl', 'Lars'], 'mobile': ['0134567894', '0123456789'], 'notas': ['A', 'B']}\n"
     ]
    }
   ],
   "source": [
    "detalhes = info.copy()\n",
    "detalhes.update(notas)\n",
    "print(detalhes)"
   ]
  },
  {
   "cell_type": "markdown",
   "metadata": {},
   "source": [
    "## Checando se um Arquivo Existe\n",
    "\n",
    "É importante saber se os arquivos que estamos usando em nossos códigos existem. \n",
    "\n",
    "Python facilita o gerenciamento de arquivos. Python tem sintaxe embutida para ler e escrever arquivos."
   ]
  },
  {
   "cell_type": "code",
   "execution_count": 29,
   "metadata": {},
   "outputs": [
    {
     "data": {
      "text/plain": [
       "True"
      ]
     },
     "execution_count": 29,
     "metadata": {},
     "output_type": "execute_result"
    }
   ],
   "source": [
    "from os import path\n",
    "\n",
    "path.exists('quicksort.py')"
   ]
  },
  {
   "cell_type": "markdown",
   "metadata": {},
   "source": [
    "## Elevando Todos os Números ao Quadrado em um Intervalo\n",
    "\n",
    "Neste trecho, usamos a biblioteca **itertools** para encontrar o quadrado de cada inteiro em um determinado intervalo."
   ]
  },
  {
   "cell_type": "markdown",
   "metadata": {},
   "source": [
    "Método 1:"
   ]
  },
  {
   "cell_type": "code",
   "execution_count": 30,
   "metadata": {},
   "outputs": [
    {
     "name": "stdout",
     "output_type": "stream",
     "text": [
      "[1, 4, 9, 16, 25, 36, 49, 64, 81, 100]\n"
     ]
    }
   ],
   "source": [
    "from itertools import repeat\n",
    "\n",
    "n = 10\n",
    "quadrados = list(map(pow, range(1,n+1), repeat(2)))\n",
    "print(quadrados)"
   ]
  },
  {
   "cell_type": "markdown",
   "metadata": {},
   "source": [
    "Método 2:"
   ]
  },
  {
   "cell_type": "code",
   "execution_count": 31,
   "metadata": {},
   "outputs": [
    {
     "name": "stdout",
     "output_type": "stream",
     "text": [
      "[1, 4, 9, 16, 25, 36, 49, 64, 81, 100, 121, 144, 169, 196, 225]\n"
     ]
    }
   ],
   "source": [
    "n = 15\n",
    "quadrados = [i**2 for i in range(1,n+1)]\n",
    "print(quadrados)"
   ]
  },
  {
   "cell_type": "markdown",
   "metadata": {},
   "source": [
    "## Convertendo Duas Listas em um Dicionário\n",
    "\n",
    "O método a seguir pode ser usado para converter duas listas em um dicionário."
   ]
  },
  {
   "cell_type": "markdown",
   "metadata": {},
   "source": [
    "Método 1:"
   ]
  },
  {
   "cell_type": "code",
   "execution_count": 32,
   "metadata": {},
   "outputs": [
    {
     "name": "stdout",
     "output_type": "stream",
     "text": [
      "{'PHP': 1994, 'Python': 1991, 'C': 1972, 'LISP': 1958}\n"
     ]
    }
   ],
   "source": [
    "linguagens = ['PHP', 'Python', 'C', 'LISP']\n",
    "ano = [1994, 1991, 1972, 1958]\n",
    "\n",
    "dicionário = dict(zip(linguagens, ano))\n",
    "print(dicionário)"
   ]
  },
  {
   "cell_type": "markdown",
   "metadata": {},
   "source": [
    "Método 2:"
   ]
  },
  {
   "cell_type": "code",
   "execution_count": 33,
   "metadata": {},
   "outputs": [
    {
     "name": "stdout",
     "output_type": "stream",
     "text": [
      "{'PHP': 1994, 'Python': 1991, 'C': 1972, 'LISP': 1958}\n"
     ]
    }
   ],
   "source": [
    "dicionário = {chave:valor for chave,valor in zip(linguagens,ano)}\n",
    "print(dicionário)"
   ]
  },
  {
   "cell_type": "markdown",
   "metadata": {},
   "source": [
    "Método 3:"
   ]
  },
  {
   "cell_type": "code",
   "execution_count": 34,
   "metadata": {},
   "outputs": [
    {
     "name": "stdout",
     "output_type": "stream",
     "text": [
      "{'PHP': 1994, 'Python': 1991, 'C': 1972, 'LISP': 1958}\n"
     ]
    }
   ],
   "source": [
    "tuplas = zip(linguagens,ano)\n",
    "dicionário = {}\n",
    "for chave,valor in tuplas:\n",
    "    if chave in dicionário:\n",
    "        pass\n",
    "    else:\n",
    "        dicionário[chave] = valor\n",
    "\n",
    "print(dicionário)"
   ]
  },
  {
   "cell_type": "markdown",
   "metadata": {},
   "source": [
    "## Ordenando uma Lista de Strings\n",
    "\n",
    "Isto pode ser útil quando desejamos ordenar uma lista de nomes, por exemplo."
   ]
  },
  {
   "cell_type": "markdown",
   "metadata": {},
   "source": [
    "Método 1:"
   ]
  },
  {
   "cell_type": "code",
   "execution_count": 35,
   "metadata": {},
   "outputs": [
    {
     "name": "stdout",
     "output_type": "stream",
     "text": [
      "['Argentina', 'Bulgária', 'China', 'Espanha', 'Jamaica', 'Marrocos', 'México', 'Palestina', 'Rússia', 'Uruguai', 'Índia']\n"
     ]
    }
   ],
   "source": [
    "países = ['Jamaica','Argentina','Uruguai','México','Índia','China','Palestina','Espanha','Rússia','Marrocos','Bulgária']\n",
    "\n",
    "países_ordenados = sorted(países)\n",
    "print(países_ordenados)"
   ]
  },
  {
   "cell_type": "markdown",
   "metadata": {},
   "source": [
    "Método 2:"
   ]
  },
  {
   "cell_type": "code",
   "execution_count": 37,
   "metadata": {},
   "outputs": [
    {
     "name": "stdout",
     "output_type": "stream",
     "text": [
      "['Argentina', 'Bulgária', 'China', 'Espanha', 'Jamaica', 'Marrocos', 'México', 'Palestina', 'Rússia', 'Uruguai', 'Índia']\n"
     ]
    }
   ],
   "source": [
    "países.sort()\n",
    "print(países)"
   ]
  },
  {
   "cell_type": "markdown",
   "metadata": {},
   "source": [
    "Método 3:"
   ]
  },
  {
   "cell_type": "code",
   "execution_count": 39,
   "metadata": {},
   "outputs": [
    {
     "name": "stdout",
     "output_type": "stream",
     "text": [
      "['Argentina', 'Bulgária', 'China', 'Espanha', 'Jamaica', 'Marrocos', 'México', 'Palestina', 'Rússia', 'Uruguai', 'Índia']\n"
     ]
    }
   ],
   "source": [
    "tamanho = len(países)\n",
    "for i in range(tamanho): \n",
    "    for j in range(tamanho): \n",
    "        if países[i] < países[j]: \n",
    "            temp = países[i] \n",
    "            países[i] = países[j] \n",
    "            países[j] = temp\n",
    "            \n",
    "print(países)"
   ]
  },
  {
   "cell_type": "markdown",
   "metadata": {},
   "source": [
    "## List Comprehension com IF e ELSE\n",
    "\n",
    "Este snippet de código é muito útil quando você deseja filtrar uma estrutura de dados com base em algumas condições."
   ]
  },
  {
   "cell_type": "markdown",
   "metadata": {},
   "source": [
    "Apresentando Números Divísiveis por 5 em um intervalo:"
   ]
  },
  {
   "cell_type": "code",
   "execution_count": 40,
   "metadata": {},
   "outputs": [
    {
     "data": {
      "text/plain": [
       "[1,\n",
       " 2,\n",
       " 3,\n",
       " 4,\n",
       " 'Divisível por 5',\n",
       " 6,\n",
       " 7,\n",
       " 8,\n",
       " 9,\n",
       " 'Divisível por 5',\n",
       " 11,\n",
       " 12,\n",
       " 13,\n",
       " 14,\n",
       " 'Divisível por 5',\n",
       " 16,\n",
       " 17,\n",
       " 18,\n",
       " 19,\n",
       " 'Divisível por 5']"
      ]
     },
     "execution_count": 40,
     "metadata": {},
     "output_type": "execute_result"
    }
   ],
   "source": [
    "[\"Divisível por 5\" if i%5==0 else i for i in range(1,21)]"
   ]
  },
  {
   "cell_type": "markdown",
   "metadata": {},
   "source": [
    "O problema FizzBuzz:"
   ]
  },
  {
   "cell_type": "code",
   "execution_count": 41,
   "metadata": {},
   "outputs": [
    {
     "data": {
      "text/plain": [
       "[1,\n",
       " 2,\n",
       " 'Fizz',\n",
       " 4,\n",
       " 'Buzz',\n",
       " 'Fizz',\n",
       " 7,\n",
       " 8,\n",
       " 'Fizz',\n",
       " 'Buzz',\n",
       " 11,\n",
       " 'Fizz',\n",
       " 13,\n",
       " 14,\n",
       " 'FizzBuzz',\n",
       " 16,\n",
       " 17,\n",
       " 'Fizz',\n",
       " 19,\n",
       " 'Buzz',\n",
       " 'Fizz',\n",
       " 22,\n",
       " 23,\n",
       " 'Fizz',\n",
       " 'Buzz',\n",
       " 26,\n",
       " 'Fizz',\n",
       " 28,\n",
       " 29]"
      ]
     },
     "execution_count": 41,
     "metadata": {},
     "output_type": "execute_result"
    }
   ],
   "source": [
    "['FizzBuzz' if i%3==0 and i%5==0 else 'Fizz' if i%3==0 else 'Buzz' if i%5==0 else i for i in range(1,30)]"
   ]
  },
  {
   "cell_type": "markdown",
   "metadata": {},
   "source": [
    "## Adicionando Elementos de Duas Listas\n",
    "\n",
    "Digamos que você tenha duas listas e queira mesclá-las em uma única lista adicionando seus elementos. "
   ]
  },
  {
   "cell_type": "markdown",
   "metadata": {},
   "source": [
    "Método 1:"
   ]
  },
  {
   "cell_type": "code",
   "execution_count": 43,
   "metadata": {},
   "outputs": [
    {
     "name": "stdout",
     "output_type": "stream",
     "text": [
      "[170, 140, 165]\n"
     ]
    }
   ],
   "source": [
    "matemática = [70, 80, 90]\n",
    "física = [100, 60, 75]\n",
    "\n",
    "lista = [x + y for x,y in zip(matemática,física)]\n",
    "print(lista)"
   ]
  },
  {
   "cell_type": "markdown",
   "metadata": {},
   "source": [
    "Método 2:"
   ]
  },
  {
   "cell_type": "code",
   "execution_count": 44,
   "metadata": {},
   "outputs": [
    {
     "name": "stdout",
     "output_type": "stream",
     "text": [
      "[170, 140, 165]\n"
     ]
    }
   ],
   "source": [
    "import operator\n",
    "\n",
    "lista = list(map(operator.add, matemática, física))\n",
    "print(lista)"
   ]
  },
  {
   "cell_type": "markdown",
   "metadata": {},
   "source": [
    "Método 3:"
   ]
  },
  {
   "cell_type": "code",
   "execution_count": 45,
   "metadata": {},
   "outputs": [
    {
     "name": "stdout",
     "output_type": "stream",
     "text": [
      "[170 140 165]\n"
     ]
    }
   ],
   "source": [
    "import numpy as np\n",
    "\n",
    "lista = np.add(matemática,física)\n",
    "print(lista)"
   ]
  },
  {
   "cell_type": "markdown",
   "metadata": {},
   "source": [
    "## Ordenando uma Lista de Dicionários\n",
    "\n",
    "Quando você tem uma lista de dicionários, poderá organizá-los de forma ordenada."
   ]
  },
  {
   "cell_type": "code",
   "execution_count": 46,
   "metadata": {},
   "outputs": [],
   "source": [
    "dicionários = [\n",
    "    {'Nome':'Goku','Idade':50},\n",
    "    {'Nome':'Vegeta','Idade':60},\n",
    "    {'Nome':'Trunks','Idade':25},\n",
    "    {'Nome':'Raditz','Idade':40},\n",
    "    {'Nome':'Android 18','Idade':22},\n",
    "    {'Nome':'Frieza','Idade':80}\n",
    "]"
   ]
  },
  {
   "cell_type": "markdown",
   "metadata": {},
   "source": [
    "Usando o método **sort()**:"
   ]
  },
  {
   "cell_type": "code",
   "execution_count": 48,
   "metadata": {},
   "outputs": [
    {
     "name": "stdout",
     "output_type": "stream",
     "text": [
      "[{'Nome': 'Android 18', 'Idade': 22}, {'Nome': 'Trunks', 'Idade': 25}, {'Nome': 'Raditz', 'Idade': 40}, {'Nome': 'Goku', 'Idade': 50}, {'Nome': 'Vegeta', 'Idade': 60}, {'Nome': 'Frieza', 'Idade': 80}]\n"
     ]
    }
   ],
   "source": [
    "dicionários.sort(key=lambda item: item.get('Idade'))\n",
    "print(dicionários)"
   ]
  },
  {
   "cell_type": "markdown",
   "metadata": {},
   "source": [
    "Usando **itemgetter**:"
   ]
  },
  {
   "cell_type": "code",
   "execution_count": 49,
   "metadata": {},
   "outputs": [
    {
     "name": "stdout",
     "output_type": "stream",
     "text": [
      "[{'Nome': 'Android 18', 'Idade': 22}, {'Nome': 'Frieza', 'Idade': 80}, {'Nome': 'Goku', 'Idade': 50}, {'Nome': 'Raditz', 'Idade': 40}, {'Nome': 'Trunks', 'Idade': 25}, {'Nome': 'Vegeta', 'Idade': 60}]\n"
     ]
    }
   ],
   "source": [
    "from operator import itemgetter\n",
    "\n",
    "f = itemgetter('Nome')\n",
    "dicionários.sort(key=f)\n",
    "print(dicionários)"
   ]
  },
  {
   "cell_type": "markdown",
   "metadata": {},
   "source": [
    "## Checando por uma Substring em uma Lista de Strings\n",
    "\n",
    "Algo que geralmente encontramos é verificar se uma **string** contém uma **substring**. \n",
    "\n",
    "O Python oferece uma boa palavra-chave para isso."
   ]
  },
  {
   "cell_type": "code",
   "execution_count": 50,
   "metadata": {},
   "outputs": [
    {
     "name": "stdout",
     "output_type": "stream",
     "text": [
      "12/45 Elm street\n",
      "17/45 Elm street\n"
     ]
    }
   ],
   "source": [
    "endereços = [\n",
    "  \"12/45 Elm street\",\n",
    "  '34/56 Clark street',\n",
    "  '56,77 maple street',\n",
    "  '17/45 Elm street'\n",
    "\n",
    "]\n",
    "\n",
    "rua = 'Elm street'\n",
    "for endereço in endereços:\n",
    "    if rua in endereço:\n",
    "        print(endereço)"
   ]
  },
  {
   "cell_type": "markdown",
   "metadata": {},
   "source": [
    "## Item Mais Frequente em uma Lista\n",
    "\n",
    "O método abaixo retorna o elemento mais frequente que aparece em uma lista."
   ]
  },
  {
   "cell_type": "code",
   "execution_count": 51,
   "metadata": {},
   "outputs": [],
   "source": [
    "def mais_frequente(n):\n",
    "    return max(set(n), key=n.count)"
   ]
  },
  {
   "cell_type": "code",
   "execution_count": 52,
   "metadata": {},
   "outputs": [
    {
     "name": "stdout",
     "output_type": "stream",
     "text": [
      "1\n"
     ]
    }
   ],
   "source": [
    "l = [1,1,3,4,5,6,3,1,1,3,2,2,1]\n",
    "\n",
    "print(mais_frequente(l))"
   ]
  },
  {
   "cell_type": "markdown",
   "metadata": {},
   "source": [
    "## Calculadora sem IF e ELSE\n",
    "\n",
    "Este trecho de código mostra como você pode escrever uma calculadora de maneira simples, sem usar nenhuma condição **if**-**else**."
   ]
  },
  {
   "cell_type": "code",
   "execution_count": 57,
   "metadata": {},
   "outputs": [
    {
     "name": "stdout",
     "output_type": "stream",
     "text": [
      "25\n",
      "10\n",
      "0\n",
      "1.0\n",
      "3125\n"
     ]
    }
   ],
   "source": [
    "import operator\n",
    "\n",
    "ação = {\n",
    "    \"+\"  : operator.add,\n",
    "    \"-\"  : operator.sub,\n",
    "    \"/\"  : operator.truediv,\n",
    "    \"*\"  : operator.mul,\n",
    "    \"**\" : operator.pow\n",
    "}\n",
    "\n",
    "print(ação['*'](5,5))\n",
    "print(ação['+'](5,5))\n",
    "print(ação['-'](5,5))\n",
    "print(ação['/'](5,5))\n",
    "print(ação['**'](5,5))"
   ]
  },
  {
   "cell_type": "markdown",
   "metadata": {},
   "source": [
    "## Chamada Encadeada de Funções\n",
    "\n",
    "Podemos chamar várias funções em uma linha de Python."
   ]
  },
  {
   "cell_type": "code",
   "execution_count": 58,
   "metadata": {},
   "outputs": [
    {
     "name": "stdout",
     "output_type": "stream",
     "text": [
      "30\n"
     ]
    }
   ],
   "source": [
    "def add(a,b):\n",
    "    return a + b\n",
    "\n",
    "def sub(a,b):\n",
    "    return a - b\n",
    "\n",
    "a, b = 10, 20\n",
    "\n",
    "print((sub if a > b else add)(a,b))"
   ]
  },
  {
   "cell_type": "markdown",
   "metadata": {},
   "source": [
    "## Encontrando Duplicados\n",
    "\n",
    "Esse trecho de código permitirá que verifiquemos se há valores duplicados em uma lista."
   ]
  },
  {
   "cell_type": "code",
   "execution_count": 59,
   "metadata": {},
   "outputs": [],
   "source": [
    "def há_duplicados(lista):\n",
    "    return len(lista) != len(set(lista))"
   ]
  },
  {
   "cell_type": "code",
   "execution_count": 61,
   "metadata": {},
   "outputs": [
    {
     "name": "stdout",
     "output_type": "stream",
     "text": [
      "True\n",
      "False\n"
     ]
    }
   ],
   "source": [
    "x = [1,2,2,2,3,5]\n",
    "y = [1,2,3,4,5,6]\n",
    "\n",
    "print(há_duplicados(x))\n",
    "print(há_duplicados(y))"
   ]
  },
  {
   "cell_type": "markdown",
   "metadata": {},
   "source": [
    "## Soma de Números Pares em uma Lista\n",
    "\n",
    "Pode haver várias maneiras de fazer isso, mas a melhor e mais simples é usar a indexação de lista e a função de **sum()**."
   ]
  },
  {
   "cell_type": "code",
   "execution_count": 62,
   "metadata": {},
   "outputs": [
    {
     "name": "stdout",
     "output_type": "stream",
     "text": [
      "30\n"
     ]
    }
   ],
   "source": [
    "números = [1,2,3,4,5,6,7,8,9,10]\n",
    "s = sum([n for n in números if n%2 == 0])\n",
    "print(s)"
   ]
  },
  {
   "cell_type": "markdown",
   "metadata": {},
   "source": [
    "## Deletando Múltiplos Elementos de uma Lista\n",
    "\n",
    "**del** é uma palavra-chave usada em Python para remover valores de uma lista."
   ]
  },
  {
   "cell_type": "code",
   "execution_count": 63,
   "metadata": {},
   "outputs": [
    {
     "name": "stdout",
     "output_type": "stream",
     "text": [
      "[1, 4, 5, 6]\n"
     ]
    }
   ],
   "source": [
    "x = [1,2,3,4,5,6]\n",
    "del x[1:3]\n",
    "print(x)"
   ]
  },
  {
   "cell_type": "markdown",
   "metadata": {},
   "source": [
    "## Mapeando Listas ou Executando TypeCasting da Lista Inteira\n",
    "\n",
    "Às vezes, em nosso projeto, precisamos alterar os tipos de dados de todos os elementos de uma lista, com Python é muito simples!"
   ]
  },
  {
   "cell_type": "markdown",
   "metadata": {},
   "source": [
    "TypeCasting para Inteiro:"
   ]
  },
  {
   "cell_type": "code",
   "execution_count": 64,
   "metadata": {},
   "outputs": [
    {
     "data": {
      "text/plain": [
       "[1, 2, 3]"
      ]
     },
     "execution_count": 64,
     "metadata": {},
     "output_type": "execute_result"
    }
   ],
   "source": [
    "list(map(int,['1','2','3']))"
   ]
  },
  {
   "cell_type": "markdown",
   "metadata": {},
   "source": [
    "TypeCasting para Float:"
   ]
  },
  {
   "cell_type": "code",
   "execution_count": 65,
   "metadata": {},
   "outputs": [
    {
     "data": {
      "text/plain": [
       "[1.0, 2.0, 3.0]"
      ]
     },
     "execution_count": 65,
     "metadata": {},
     "output_type": "execute_result"
    }
   ],
   "source": [
    "list(map(float,[1,2,3]))"
   ]
  },
  {
   "cell_type": "markdown",
   "metadata": {},
   "source": [
    "TypeCasting para Float:"
   ]
  },
  {
   "cell_type": "code",
   "execution_count": 66,
   "metadata": {},
   "outputs": [
    {
     "data": {
      "text/plain": [
       "[1.0, 2.0, 3.0]"
      ]
     },
     "execution_count": 66,
     "metadata": {},
     "output_type": "execute_result"
    }
   ],
   "source": [
    "[float(i) for i in [1,2,3]]"
   ]
  },
  {
   "cell_type": "markdown",
   "metadata": {},
   "source": [
    "TypeCasting para String:"
   ]
  },
  {
   "cell_type": "code",
   "execution_count": 68,
   "metadata": {},
   "outputs": [
    {
     "data": {
      "text/plain": [
       "['1', '2', '3']"
      ]
     },
     "execution_count": 68,
     "metadata": {},
     "output_type": "execute_result"
    }
   ],
   "source": [
    "list(map(str,[1,2,3]))"
   ]
  },
  {
   "cell_type": "code",
   "execution_count": 69,
   "metadata": {},
   "outputs": [
    {
     "data": {
      "text/plain": [
       "['1', '2', '3']"
      ]
     },
     "execution_count": 69,
     "metadata": {},
     "output_type": "execute_result"
    }
   ],
   "source": [
    "[str(i) for i in [1,2,3]]"
   ]
  },
  {
   "cell_type": "markdown",
   "metadata": {},
   "source": [
    "## Imprimindo Padrões\n",
    "\n",
    "Em Python, podemos desenhar padrões incríveis usando apenas uma única linha de código."
   ]
  },
  {
   "cell_type": "code",
   "execution_count": 71,
   "metadata": {},
   "outputs": [
    {
     "name": "stdout",
     "output_type": "stream",
     "text": [
      "#\n",
      "##\n",
      "###\n",
      "####\n",
      "#####\n",
      "######\n",
      "#######\n",
      "########\n",
      "#########\n",
      "##########\n",
      "###########\n",
      "############\n",
      "#############\n",
      "##############\n",
      "###############\n"
     ]
    }
   ],
   "source": [
    "n = 15\n",
    "print('\\n'.join('#' * i for i in range(1, n + 1)))"
   ]
  },
  {
   "cell_type": "markdown",
   "metadata": {},
   "source": [
    "## Números Primos\n",
    "\n",
    "Um número primo é um número divisível apenas por ele mesmo e 1. \n",
    "\n",
    "Por exemplo: 2,3,5,7. \n",
    "\n",
    "Para gerar números primos em um intervalo, podemos usar a função **list** com **filter** e **lambda**:"
   ]
  },
  {
   "cell_type": "code",
   "execution_count": 74,
   "metadata": {},
   "outputs": [
    {
     "name": "stdout",
     "output_type": "stream",
     "text": [
      "[2, 3, 5, 7, 11, 13, 17, 19, 23, 29, 31, 37, 41, 43, 47, 53, 59, 61, 67, 71, 73, 79, 83, 89, 97]\n"
     ]
    }
   ],
   "source": [
    "primos = list(filter(lambda x:all(x % y != 0 for y in range(2, x)), range(2, 100)))\n",
    "print(primos)"
   ]
  },
  {
   "cell_type": "markdown",
   "metadata": {},
   "source": [
    "## Encontrando o Fatorial\n",
    "\n",
    "Fatorial é o produto de um inteiro e todos os inteiros abaixo dele.\n",
    "\n",
    "Por exemplo, o fatorial de 5, denotado por `5! = 5 x 4 x 3 x 2 x 1 = 120`"
   ]
  },
  {
   "cell_type": "code",
   "execution_count": 75,
   "metadata": {},
   "outputs": [
    {
     "data": {
      "text/plain": [
       "120"
      ]
     },
     "execution_count": 75,
     "metadata": {},
     "output_type": "execute_result"
    }
   ],
   "source": [
    "import math\n",
    "\n",
    "math.factorial(5)"
   ]
  },
  {
   "cell_type": "code",
   "execution_count": 77,
   "metadata": {},
   "outputs": [
    {
     "data": {
      "text/plain": [
       "40320"
      ]
     },
     "execution_count": 77,
     "metadata": {},
     "output_type": "execute_result"
    }
   ],
   "source": [
    "math.factorial(8)"
   ]
  }
 ],
 "metadata": {
  "kernelspec": {
   "display_name": "Python 3",
   "language": "python",
   "name": "python3"
  },
  "language_info": {
   "codemirror_mode": {
    "name": "ipython",
    "version": 3
   },
   "file_extension": ".py",
   "mimetype": "text/x-python",
   "name": "python",
   "nbconvert_exporter": "python",
   "pygments_lexer": "ipython3",
   "version": "3.7.7"
  }
 },
 "nbformat": 4,
 "nbformat_minor": 4
}
