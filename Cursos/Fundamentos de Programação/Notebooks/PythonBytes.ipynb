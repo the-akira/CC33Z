{
 "cells": [
  {
   "cell_type": "markdown",
   "metadata": {},
   "source": [
    "# Python Bytes\n",
    "\n",
    "Pequenos trechos de códigos Python úteis.\n",
    "\n",
    "Inspirado por: [PyBites](https://twitter.com/pybites) & [Daily Python Tip](https://twitter.com/python_tip)"
   ]
  },
  {
   "cell_type": "markdown",
   "metadata": {},
   "source": [
    "### Extraindo Números de uma String"
   ]
  },
  {
   "cell_type": "code",
   "execution_count": 2,
   "metadata": {},
   "outputs": [
    {
     "data": {
      "text/plain": [
       "[2, 2000]"
      ]
     },
     "execution_count": 2,
     "metadata": {},
     "output_type": "execute_result"
    }
   ],
   "source": [
    "string = \"Python 2 was released in 2000 and introduced new features, such as list comprehensions and a garbage collection system\"\n",
    "[int(palavra) for palavra in string.split() if palavra.isdigit()]"
   ]
  },
  {
   "cell_type": "markdown",
   "metadata": {},
   "source": [
    "### Trocar Chaves e Valores de um Dicionário"
   ]
  },
  {
   "cell_type": "code",
   "execution_count": 147,
   "metadata": {},
   "outputs": [
    {
     "data": {
      "text/plain": [
       "{'The Dark Side of the Moon': 1973,\n",
       " 'Wish You Were Here': 1975,\n",
       " 'Animals': 1977,\n",
       " 'The Wall': 1979,\n",
       " 'The Division Bell': 1994,\n",
       " 'The Endless River': 2014}"
      ]
     },
     "execution_count": 147,
     "metadata": {},
     "output_type": "execute_result"
    }
   ],
   "source": [
    "pink_floyd = {\n",
    "    \"The Dark Side of the Moon\": 1973,\n",
    "    \"Wish You Were Here\": 1975,\n",
    "    \"Animals\": 1977,\n",
    "    \"The Wall\": 1979,\n",
    "    \"The Division Bell\": 1994,\n",
    "    \"The Endless River\": 2014\n",
    "}\n",
    "\n",
    "pink_floyd"
   ]
  },
  {
   "cell_type": "code",
   "execution_count": 4,
   "metadata": {},
   "outputs": [
    {
     "data": {
      "text/plain": [
       "{1973: 'The Dark Side of the Moon',\n",
       " 1975: 'Wish You Were Here',\n",
       " 1977: 'Animals',\n",
       " 1979: 'The Wall',\n",
       " 1994: 'The Division Bell',\n",
       " 2014: 'The Endless River'}"
      ]
     },
     "execution_count": 4,
     "metadata": {},
     "output_type": "execute_result"
    }
   ],
   "source": [
    "{v:k for k,v in pink_floyd.items()}"
   ]
  },
  {
   "cell_type": "markdown",
   "metadata": {},
   "source": [
    "### Textwrap"
   ]
  },
  {
   "cell_type": "code",
   "execution_count": 20,
   "metadata": {},
   "outputs": [
    {
     "data": {
      "text/plain": [
       "'\\n\"The real hopeless victims of mental illness are to be found among those who appear to be most normal. \\nMany of them are normal because they are so well adjusted to our mode of existence, \\nbecause their human voice has been silenced so early in their lives, \\nthat they do not even struggle or suffer or develop symptoms as the neurotic does.\\nThey are normal not in what may be called the absolute sense of the word; \\nthey are normal only in relation to a profoundly abnormal society. \\nTheir perfect adjustment to that abnormal society is a measure of their mental sickness. \\nThese millions of abnormally normal people, living without fuss in a society to which, \\nif they were fully human beings, they ought not to be adjusted.\" Aldous Huxley, Brave New World\\n'"
      ]
     },
     "execution_count": 20,
     "metadata": {},
     "output_type": "execute_result"
    }
   ],
   "source": [
    "quote = \"\"\"\n",
    "\"The real hopeless victims of mental illness are to be found among those who appear to be most normal. \n",
    "Many of them are normal because they are so well adjusted to our mode of existence, \n",
    "because their human voice has been silenced so early in their lives, \n",
    "that they do not even struggle or suffer or develop symptoms as the neurotic does.\n",
    "They are normal not in what may be called the absolute sense of the word; \n",
    "they are normal only in relation to a profoundly abnormal society. \n",
    "Their perfect adjustment to that abnormal society is a measure of their mental sickness. \n",
    "These millions of abnormally normal people, living without fuss in a society to which, \n",
    "if they were fully human beings, they ought not to be adjusted.\" Aldous Huxley, Brave New World\n",
    "\"\"\"\n",
    "quote"
   ]
  },
  {
   "cell_type": "code",
   "execution_count": 21,
   "metadata": {},
   "outputs": [
    {
     "name": "stdout",
     "output_type": "stream",
     "text": [
      " \"The real hopeless victims of mental illness are to be found among those who\n",
      "appear to be most normal.  Many of them are normal because they are so well\n",
      "adjusted to our mode of existence,  because their human voice has been silenced\n",
      "so early in their lives,  that they do not even struggle or suffer or develop\n",
      "symptoms as the neurotic does. They are normal not in what may be called the\n",
      "absolute sense of the word;  they are normal only in relation to a profoundly\n",
      "abnormal society.  Their perfect adjustment to that abnormal society is a\n",
      "measure of their mental sickness.  These millions of abnormally normal people,\n",
      "living without fuss in a society to which,  if they were fully human beings,\n",
      "they ought not to be adjusted.\" Aldous Huxley, Brave New World\n"
     ]
    }
   ],
   "source": [
    "import textwrap\n",
    "\n",
    "for line in textwrap.wrap(quote, width=80):\n",
    "    print(line)"
   ]
  },
  {
   "cell_type": "code",
   "execution_count": 23,
   "metadata": {},
   "outputs": [
    {
     "name": "stdout",
     "output_type": "stream",
     "text": [
      " \"The real hopeless victims of mental illness\n",
      "are to be found among those who appear to be\n",
      "most normal.  Many of them are normal because\n",
      "they are so well adjusted to our mode of\n",
      "existence,  because their human voice has\n",
      "been silenced so early in their lives,  that\n",
      "they do not even struggle or suffer or\n",
      "develop symptoms as the neurotic does. They\n",
      "are normal not in what may be called the\n",
      "absolute sense of the word;  they are normal\n",
      "only in relation to a profoundly abnormal\n",
      "society.  Their perfect adjustment to that\n",
      "abnormal society is a measure of their mental\n",
      "sickness.  These millions of abnormally\n",
      "normal people, living without fuss in a\n",
      "society to which,  if they were fully human\n",
      "beings, they ought not to be adjusted.\"\n",
      "Aldous Huxley, Brave New World\n"
     ]
    }
   ],
   "source": [
    "import textwrap\n",
    "\n",
    "for line in textwrap.wrap(quote, width=45):\n",
    "    print(line)"
   ]
  },
  {
   "cell_type": "markdown",
   "metadata": {},
   "source": [
    "### Melhores Correspondências"
   ]
  },
  {
   "cell_type": "code",
   "execution_count": 24,
   "metadata": {},
   "outputs": [],
   "source": [
    "nomes = [\"João\",'José',\"Josué\",\"Lucas\",\"Luciano\",\"Maria\",\"Marta\",\"Marcos\",\"Luiz\",\"Gabriel\"]"
   ]
  },
  {
   "cell_type": "code",
   "execution_count": 25,
   "metadata": {},
   "outputs": [
    {
     "data": {
      "text/plain": [
       "['João', 'José']"
      ]
     },
     "execution_count": 25,
     "metadata": {},
     "output_type": "execute_result"
    }
   ],
   "source": [
    "from difflib import get_close_matches\n",
    "\n",
    "get_close_matches('Jo',nomes)"
   ]
  },
  {
   "cell_type": "code",
   "execution_count": 26,
   "metadata": {},
   "outputs": [
    {
     "data": {
      "text/plain": [
       "['Lucas', 'Luciano']"
      ]
     },
     "execution_count": 26,
     "metadata": {},
     "output_type": "execute_result"
    }
   ],
   "source": [
    "get_close_matches('Luc',nomes)"
   ]
  },
  {
   "cell_type": "code",
   "execution_count": 27,
   "metadata": {},
   "outputs": [
    {
     "data": {
      "text/plain": [
       "['Marta', 'Maria', 'Marcos']"
      ]
     },
     "execution_count": 27,
     "metadata": {},
     "output_type": "execute_result"
    }
   ],
   "source": [
    "get_close_matches('Mar',nomes)"
   ]
  },
  {
   "cell_type": "markdown",
   "metadata": {},
   "source": [
    "### Print Unpacking"
   ]
  },
  {
   "cell_type": "code",
   "execution_count": 28,
   "metadata": {},
   "outputs": [],
   "source": [
    "letras = ['a','b','c','d','e']\n",
    "números = [1, 2, 3, 4, 5]"
   ]
  },
  {
   "cell_type": "code",
   "execution_count": 29,
   "metadata": {},
   "outputs": [
    {
     "name": "stdout",
     "output_type": "stream",
     "text": [
      "['a', 'b', 'c', 'd', 'e']\n",
      "a, b, c, d, e\n"
     ]
    }
   ],
   "source": [
    "print(letras)\n",
    "print(*letras, sep=', ')"
   ]
  },
  {
   "cell_type": "code",
   "execution_count": 31,
   "metadata": {},
   "outputs": [
    {
     "name": "stdout",
     "output_type": "stream",
     "text": [
      "[1, 2, 3, 4, 5]\n",
      "1-2-3-4-5\n"
     ]
    }
   ],
   "source": [
    "print(números)\n",
    "print(*números, sep=\"-\")"
   ]
  },
  {
   "cell_type": "markdown",
   "metadata": {},
   "source": [
    "### Criando uma String Aleatória"
   ]
  },
  {
   "cell_type": "code",
   "execution_count": 32,
   "metadata": {},
   "outputs": [],
   "source": [
    "import random, string"
   ]
  },
  {
   "cell_type": "code",
   "execution_count": 33,
   "metadata": {},
   "outputs": [
    {
     "data": {
      "text/plain": [
       "'xhduchcvdouaickfejlk'"
      ]
     },
     "execution_count": 33,
     "metadata": {},
     "output_type": "execute_result"
    }
   ],
   "source": [
    "''.join(random.choice(string.ascii_lowercase) for i in range(20))"
   ]
  },
  {
   "cell_type": "code",
   "execution_count": 35,
   "metadata": {},
   "outputs": [
    {
     "data": {
      "text/plain": [
       "'8gitqpycv6m1anh4kbr520w3x9d7ou'"
      ]
     },
     "execution_count": 35,
     "metadata": {},
     "output_type": "execute_result"
    }
   ],
   "source": [
    "''.join(random.sample(string.ascii_lowercase + string.digits, 30))"
   ]
  },
  {
   "cell_type": "markdown",
   "metadata": {},
   "source": [
    "### Encadeando Métodos"
   ]
  },
  {
   "cell_type": "code",
   "execution_count": 36,
   "metadata": {},
   "outputs": [],
   "source": [
    "class Calculadora:\n",
    "    \n",
    "    def __init__(self, número):\n",
    "        self.número = número\n",
    "    \n",
    "    def __str__(self):\n",
    "        return f\"Número = {self.número}\"\n",
    "\n",
    "    @property\n",
    "    def metade(self):\n",
    "        self.número /= 2\n",
    "        return self\n",
    "\n",
    "    @property\n",
    "    def dobro(self):\n",
    "        self.número *= 2\n",
    "        return self"
   ]
  },
  {
   "cell_type": "code",
   "execution_count": 38,
   "metadata": {},
   "outputs": [
    {
     "name": "stdout",
     "output_type": "stream",
     "text": [
      "Número = 15\n"
     ]
    }
   ],
   "source": [
    "c = Calculadora(15)\n",
    "print(c)"
   ]
  },
  {
   "cell_type": "code",
   "execution_count": 39,
   "metadata": {},
   "outputs": [
    {
     "name": "stdout",
     "output_type": "stream",
     "text": [
      "Número = 60\n"
     ]
    }
   ],
   "source": [
    "print(c.dobro.dobro)"
   ]
  },
  {
   "cell_type": "code",
   "execution_count": 40,
   "metadata": {},
   "outputs": [
    {
     "name": "stdout",
     "output_type": "stream",
     "text": [
      "Número = 60\n"
     ]
    }
   ],
   "source": [
    "print(c)"
   ]
  },
  {
   "cell_type": "code",
   "execution_count": 41,
   "metadata": {},
   "outputs": [
    {
     "name": "stdout",
     "output_type": "stream",
     "text": [
      "Número = 30.0\n"
     ]
    }
   ],
   "source": [
    "print(c.dobro.metade.metade)"
   ]
  },
  {
   "cell_type": "markdown",
   "metadata": {},
   "source": [
    "### Analisando Similaridade entre Strings"
   ]
  },
  {
   "cell_type": "code",
   "execution_count": 42,
   "metadata": {},
   "outputs": [],
   "source": [
    "from itertools import combinations\n",
    "from difflib import SequenceMatcher"
   ]
  },
  {
   "cell_type": "code",
   "execution_count": 43,
   "metadata": {},
   "outputs": [],
   "source": [
    "tags = 'python pythonista developer development'.split()"
   ]
  },
  {
   "cell_type": "code",
   "execution_count": 44,
   "metadata": {},
   "outputs": [
    {
     "name": "stdout",
     "output_type": "stream",
     "text": [
      "('python', 'pythonista') 0.75\n",
      "('python', 'developer') 0.13333333333333333\n",
      "('python', 'development') 0.23529411764705882\n",
      "('pythonista', 'developer') 0.10526315789473684\n",
      "('pythonista', 'development') 0.19047619047619047\n",
      "('developer', 'development') 0.8\n"
     ]
    }
   ],
   "source": [
    "for pares in combinations(tags,2):\n",
    "    similaridade = SequenceMatcher(None,*pares).ratio()\n",
    "    print(pares, similaridade)"
   ]
  },
  {
   "cell_type": "markdown",
   "metadata": {},
   "source": [
    "### Eliminando Vogais e Contando Substituições"
   ]
  },
  {
   "cell_type": "code",
   "execution_count": 50,
   "metadata": {},
   "outputs": [],
   "source": [
    "# Machado de Assis\n",
    "texto = \"Purifica o teu coraçao antes de permitires que o amor entre nele, pois até o mel mais doce azeda num recipiente sujo.\""
   ]
  },
  {
   "cell_type": "code",
   "execution_count": 51,
   "metadata": {},
   "outputs": [
    {
     "data": {
      "text/plain": [
       "('P*r*f*c* * t** c*r*ç** *nt*s d* p*rm*t*r*s q** * *m*r *ntr* n*l*, p**s *té * m*l m**s d*c* *z*d* n*m r*c*p**nt* s*j*.',\n",
       " 47)"
      ]
     },
     "execution_count": 51,
     "metadata": {},
     "output_type": "execute_result"
    }
   ],
   "source": [
    "import re\n",
    "\n",
    "re.subn(r'[aeiou]','*',texto)"
   ]
  },
  {
   "cell_type": "markdown",
   "metadata": {},
   "source": [
    "### HTML para Markdown"
   ]
  },
  {
   "cell_type": "code",
   "execution_count": 73,
   "metadata": {},
   "outputs": [],
   "source": [
    "from markdownify import markdownify as md"
   ]
  },
  {
   "cell_type": "code",
   "execution_count": 74,
   "metadata": {},
   "outputs": [
    {
     "data": {
      "text/plain": [
       "'**Python** [Python Iluminado](https://github.com/the-akira/Python-Iluminado)'"
      ]
     },
     "execution_count": 74,
     "metadata": {},
     "output_type": "execute_result"
    }
   ],
   "source": [
    "html = '<b>Python</b> <a href=\"https://github.com/the-akira/Python-Iluminado\">Python Iluminado</a>'\n",
    "md(html)"
   ]
  },
  {
   "cell_type": "markdown",
   "metadata": {},
   "source": [
    "### Meses do Calendário Numéricos"
   ]
  },
  {
   "cell_type": "code",
   "execution_count": 76,
   "metadata": {},
   "outputs": [
    {
     "data": {
      "text/plain": [
       "{'Jan': 1,\n",
       " 'Feb': 2,\n",
       " 'Mar': 3,\n",
       " 'Apr': 4,\n",
       " 'May': 5,\n",
       " 'Jun': 6,\n",
       " 'Jul': 7,\n",
       " 'Aug': 8,\n",
       " 'Sep': 9,\n",
       " 'Oct': 10,\n",
       " 'Nov': 11,\n",
       " 'Dec': 12}"
      ]
     },
     "execution_count": 76,
     "metadata": {},
     "output_type": "execute_result"
    }
   ],
   "source": [
    "import calendar\n",
    "\n",
    "{mês:índice for índice, mês in enumerate(calendar.month_abbr) if mês}"
   ]
  },
  {
   "cell_type": "code",
   "execution_count": 78,
   "metadata": {},
   "outputs": [
    {
     "data": {
      "text/plain": [
       "{1: 'Jan',\n",
       " 2: 'Feb',\n",
       " 3: 'Mar',\n",
       " 4: 'Apr',\n",
       " 5: 'May',\n",
       " 6: 'Jun',\n",
       " 7: 'Jul',\n",
       " 8: 'Aug',\n",
       " 9: 'Sep',\n",
       " 10: 'Oct',\n",
       " 11: 'Nov',\n",
       " 12: 'Dec'}"
      ]
     },
     "execution_count": 78,
     "metadata": {},
     "output_type": "execute_result"
    }
   ],
   "source": [
    "{índice:mês for índice, mês in enumerate(calendar.month_abbr) if mês}"
   ]
  },
  {
   "cell_type": "markdown",
   "metadata": {},
   "source": [
    "### Parsing de URL em Diferentes Componentes"
   ]
  },
  {
   "cell_type": "code",
   "execution_count": 79,
   "metadata": {},
   "outputs": [],
   "source": [
    "url = \"https://secretlibrary.herokuapp.com/search/?q=1984\""
   ]
  },
  {
   "cell_type": "code",
   "execution_count": 80,
   "metadata": {},
   "outputs": [
    {
     "data": {
      "text/plain": [
       "ParseResult(scheme='https', netloc='secretlibrary.herokuapp.com', path='/search/', params='', query='q=1984', fragment='')"
      ]
     },
     "execution_count": 80,
     "metadata": {},
     "output_type": "execute_result"
    }
   ],
   "source": [
    "from urllib.parse import urlparse\n",
    "\n",
    "partes = urlparse(url)\n",
    "partes"
   ]
  },
  {
   "cell_type": "markdown",
   "metadata": {},
   "source": [
    "### Validando Endereço IP"
   ]
  },
  {
   "cell_type": "code",
   "execution_count": 82,
   "metadata": {},
   "outputs": [],
   "source": [
    "import ipaddress"
   ]
  },
  {
   "cell_type": "code",
   "execution_count": 83,
   "metadata": {},
   "outputs": [
    {
     "data": {
      "text/plain": [
       "IPv4Address('192.168.0.1')"
      ]
     },
     "execution_count": 83,
     "metadata": {},
     "output_type": "execute_result"
    }
   ],
   "source": [
    "ipaddress.ip_address('192.168.0.1')"
   ]
  },
  {
   "cell_type": "markdown",
   "metadata": {},
   "source": [
    "### Concatenando Iteráveis"
   ]
  },
  {
   "cell_type": "code",
   "execution_count": 89,
   "metadata": {},
   "outputs": [
    {
     "name": "stdout",
     "output_type": "stream",
     "text": [
      "b\n",
      "c\n",
      "a\n",
      "1\n",
      "2\n",
      "3\n",
      "4\n"
     ]
    }
   ],
   "source": [
    "import numpy as np\n",
    "from itertools import chain\n",
    "\n",
    "s = set(['a','b','c'])\n",
    "l = list()\n",
    "a = np.array([1,2,3,4])\n",
    "\n",
    "for x in chain(s,l,a):\n",
    "    print(x)"
   ]
  },
  {
   "cell_type": "markdown",
   "metadata": {},
   "source": [
    "### Chave de um Dicionário com Menor Valor"
   ]
  },
  {
   "cell_type": "code",
   "execution_count": 90,
   "metadata": {},
   "outputs": [
    {
     "data": {
      "text/plain": [
       "'abacates'"
      ]
     },
     "execution_count": 90,
     "metadata": {},
     "output_type": "execute_result"
    }
   ],
   "source": [
    "frutas = {\n",
    "    'laranjas': 20,\n",
    "    'abacaxis': 25,\n",
    "    'abacates': 3\n",
    "}\n",
    "\n",
    "min(frutas, key=frutas.__getitem__)"
   ]
  },
  {
   "cell_type": "markdown",
   "metadata": {},
   "source": [
    "### Números de Comprimento Igual"
   ]
  },
  {
   "cell_type": "code",
   "execution_count": 92,
   "metadata": {},
   "outputs": [
    {
     "name": "stdout",
     "output_type": "stream",
     "text": [
      "001\n",
      "002\n",
      "003\n",
      "004\n",
      "005\n",
      "006\n",
      "007\n",
      "008\n",
      "009\n",
      "010\n",
      "011\n",
      "012\n"
     ]
    }
   ],
   "source": [
    "for i in range(1,13):\n",
    "    print(str(i).zfill(3))"
   ]
  },
  {
   "cell_type": "markdown",
   "metadata": {},
   "source": [
    "### Palavras-chave"
   ]
  },
  {
   "cell_type": "code",
   "execution_count": 93,
   "metadata": {},
   "outputs": [],
   "source": [
    "import keyword\n",
    "import builtins"
   ]
  },
  {
   "cell_type": "code",
   "execution_count": 95,
   "metadata": {},
   "outputs": [
    {
     "name": "stdout",
     "output_type": "stream",
     "text": [
      "['False', 'None', 'True', 'and', 'as', 'assert', 'async', 'await', 'break', 'class', 'continue', 'def', 'del', 'elif', 'else', 'except', 'finally', 'for', 'from', 'global', 'if', 'import', 'in', 'is', 'lambda', 'nonlocal', 'not', 'or', 'pass', 'raise', 'return', 'try', 'while', 'with', 'yield']\n"
     ]
    }
   ],
   "source": [
    "print(keyword.kwlist)"
   ]
  },
  {
   "cell_type": "code",
   "execution_count": 97,
   "metadata": {},
   "outputs": [
    {
     "data": {
      "text/plain": [
       "35"
      ]
     },
     "execution_count": 97,
     "metadata": {},
     "output_type": "execute_result"
    }
   ],
   "source": [
    "len(keyword.kwlist)"
   ]
  },
  {
   "cell_type": "markdown",
   "metadata": {},
   "source": [
    "### Checando se uma String é Palavra-chave Python"
   ]
  },
  {
   "cell_type": "code",
   "execution_count": 98,
   "metadata": {},
   "outputs": [
    {
     "data": {
      "text/plain": [
       "False"
      ]
     },
     "execution_count": 98,
     "metadata": {},
     "output_type": "execute_result"
    }
   ],
   "source": [
    "keyword.iskeyword('file')"
   ]
  },
  {
   "cell_type": "code",
   "execution_count": 99,
   "metadata": {},
   "outputs": [
    {
     "data": {
      "text/plain": [
       "True"
      ]
     },
     "execution_count": 99,
     "metadata": {},
     "output_type": "execute_result"
    }
   ],
   "source": [
    "keyword.iskeyword('nonlocal')"
   ]
  },
  {
   "cell_type": "markdown",
   "metadata": {},
   "source": [
    "### Checando se uma String é builtins"
   ]
  },
  {
   "cell_type": "code",
   "execution_count": 100,
   "metadata": {},
   "outputs": [
    {
     "data": {
      "text/plain": [
       "True"
      ]
     },
     "execution_count": 100,
     "metadata": {},
     "output_type": "execute_result"
    }
   ],
   "source": [
    "'locals' in dir(builtins)"
   ]
  },
  {
   "cell_type": "code",
   "execution_count": 101,
   "metadata": {},
   "outputs": [
    {
     "data": {
      "text/plain": [
       "True"
      ]
     },
     "execution_count": 101,
     "metadata": {},
     "output_type": "execute_result"
    }
   ],
   "source": [
    "'property' in dir(builtins)"
   ]
  },
  {
   "cell_type": "code",
   "execution_count": 106,
   "metadata": {},
   "outputs": [
    {
     "name": "stdout",
     "output_type": "stream",
     "text": [
      "['ArithmeticError', 'AssertionError', 'AttributeError', 'BaseException', 'BlockingIOError', 'BrokenPipeError', 'BufferError', 'BytesWarning', 'ChildProcessError', 'ConnectionAbortedError', 'ConnectionError', 'ConnectionRefusedError', 'ConnectionResetError', 'DeprecationWarning', 'EOFError', 'Ellipsis', 'EnvironmentError', 'Exception', 'False', 'FileExistsError', 'FileNotFoundError', 'FloatingPointError', 'FutureWarning', 'GeneratorExit', 'IOError', 'ImportError', 'ImportWarning', 'IndentationError', 'IndexError', 'InterruptedError', 'IsADirectoryError', 'KeyError', 'KeyboardInterrupt', 'LookupError', 'MemoryError', 'ModuleNotFoundError', 'NameError', 'None', 'NotADirectoryError', 'NotImplemented', 'NotImplementedError', 'OSError', 'OverflowError', 'PendingDeprecationWarning', 'PermissionError', 'ProcessLookupError', 'RecursionError', 'ReferenceError', 'ResourceWarning', 'RuntimeError', 'RuntimeWarning', 'StopAsyncIteration', 'StopIteration', 'SyntaxError', 'SyntaxWarning', 'SystemError', 'SystemExit', 'TabError', 'TimeoutError', 'True', 'TypeError', 'UnboundLocalError', 'UnicodeDecodeError', 'UnicodeEncodeError', 'UnicodeError', 'UnicodeTranslateError', 'UnicodeWarning', 'UserWarning', 'ValueError', 'Warning', 'ZeroDivisionError', '__IPYTHON__', '__build_class__', '__debug__', '__doc__', '__import__', '__loader__', '__name__', '__package__', '__spec__', 'abs', 'all', 'any', 'ascii', 'bin', 'bool', 'breakpoint', 'bytearray', 'bytes', 'callable', 'chr', 'classmethod', 'compile', 'complex', 'copyright', 'credits', 'delattr', 'dict', 'dir', 'display', 'divmod', 'enumerate', 'eval', 'exec', 'filter', 'float', 'format', 'frozenset', 'get_ipython', 'getattr', 'globals', 'hasattr', 'hash', 'help', 'hex', 'id', 'input', 'int', 'isinstance', 'issubclass', 'iter', 'len', 'license', 'list', 'locals', 'map', 'max', 'memoryview', 'min', 'next', 'object', 'oct', 'open', 'ord', 'pow', 'print', 'property', 'range', 'repr', 'reversed', 'round', 'set', 'setattr', 'slice', 'sorted', 'staticmethod', 'str', 'sum', 'super', 'tuple', 'type', 'vars', 'zip']\n"
     ]
    }
   ],
   "source": [
    "print(dir(builtins))"
   ]
  },
  {
   "cell_type": "markdown",
   "metadata": {},
   "source": [
    "### Detectando Caracteres Acentuados"
   ]
  },
  {
   "cell_type": "code",
   "execution_count": 107,
   "metadata": {},
   "outputs": [],
   "source": [
    "from unicodedata import decomposition"
   ]
  },
  {
   "cell_type": "code",
   "execution_count": 109,
   "metadata": {},
   "outputs": [
    {
     "name": "stdout",
     "output_type": "stream",
     "text": [
      "C \n",
      "a \n",
      "t \n",
      "a \n",
      "l \n",
      "u \n",
      "ñ 006E 0303\n",
      "a \n"
     ]
    }
   ],
   "source": [
    "for c in 'Cataluña':\n",
    "    print(c, decomposition(c))"
   ]
  },
  {
   "cell_type": "code",
   "execution_count": 110,
   "metadata": {},
   "outputs": [],
   "source": [
    "text = 'La capital de Cataluña, es la ciudad más visitada de España y la segunda más poblada.'"
   ]
  },
  {
   "cell_type": "code",
   "execution_count": 111,
   "metadata": {},
   "outputs": [
    {
     "name": "stdout",
     "output_type": "stream",
     "text": [
      "20 ñ\n",
      "38 á\n",
      "57 ñ\n",
      "74 á\n"
     ]
    }
   ],
   "source": [
    "positions = [i for i, c in enumerate(text) if decomposition(c)]\n",
    "\n",
    "for position in positions:\n",
    "    print(position, text[position])"
   ]
  },
  {
   "cell_type": "markdown",
   "metadata": {},
   "source": [
    "### Quanto Tempo Passou?"
   ]
  },
  {
   "cell_type": "code",
   "execution_count": 113,
   "metadata": {},
   "outputs": [
    {
     "data": {
      "text/plain": [
       "relativedelta(months=+4, days=+3)"
      ]
     },
     "execution_count": 113,
     "metadata": {},
     "output_type": "execute_result"
    }
   ],
   "source": [
    "from dateutil.relativedelta import relativedelta\n",
    "from datetime import date\n",
    "\n",
    "relativedelta(date.today(), date(2020, 12, 13))"
   ]
  },
  {
   "cell_type": "markdown",
   "metadata": {},
   "source": [
    "### Gerando Dados Fakes"
   ]
  },
  {
   "cell_type": "code",
   "execution_count": 115,
   "metadata": {},
   "outputs": [],
   "source": [
    "from faker import Faker\n",
    "\n",
    "faker = Faker()"
   ]
  },
  {
   "cell_type": "code",
   "execution_count": 116,
   "metadata": {},
   "outputs": [
    {
     "name": "stdout",
     "output_type": "stream",
     "text": [
      "Nome: Marie Bell\n",
      "Endereço: 010 Kyle Trafficway\n",
      "North Michael, IL 25809\n",
      "Texto: Among wide against employee development institution step. Along per have girl bad see area.\n",
      "Field hot yes fear region travel sister.\n"
     ]
    }
   ],
   "source": [
    "print(f'Nome: {faker.name()}')\n",
    "print(f'Endereço: {faker.address()}')\n",
    "print(f'Texto: {faker.text()}')"
   ]
  },
  {
   "cell_type": "code",
   "execution_count": 118,
   "metadata": {},
   "outputs": [
    {
     "name": "stdout",
     "output_type": "stream",
     "text": [
      "Ana Vitória Oliveira, Chácara Pires, 36\n",
      "Bonfim\n",
      "59691492 Silveira Verde / SP, +55 (084) 8001 3097\n",
      "Ana Clara da Cruz, Quadra da Paz, 44\n",
      "Centro\n",
      "58013733 Rocha / AC, +55 31 3077 7671\n",
      "Emilly Nogueira, Feira Maria Clara da Luz, 61\n",
      "Horto\n",
      "31782-435 Souza / GO, +55 84 2045 8829\n",
      "Dra. Helena Almeida, Loteamento Cardoso\n",
      "Marieta 2ª Seção\n",
      "04646-181 Melo da Praia / RJ, 31 5172-6527\n",
      "Rodrigo Correia, Área de da Mata, 74\n",
      "Madre Gertrudes\n",
      "60919187 Barros / PB, (084) 1164-1998\n"
     ]
    }
   ],
   "source": [
    "faker = Faker('pt_BR')\n",
    "\n",
    "for i in range(5):\n",
    "    name = faker.name()\n",
    "    address = faker.address()\n",
    "    phone = faker.phone_number()\n",
    "    print(f'{name}, {address}, {phone}')"
   ]
  },
  {
   "cell_type": "markdown",
   "metadata": {},
   "source": [
    "### Baixando um Arquivo em Python"
   ]
  },
  {
   "cell_type": "code",
   "execution_count": 121,
   "metadata": {},
   "outputs": [
    {
     "data": {
      "text/plain": [
       "('imagem.gif', <http.client.HTTPMessage at 0x7f19e6800390>)"
      ]
     },
     "execution_count": 121,
     "metadata": {},
     "output_type": "execute_result"
    }
   ],
   "source": [
    "from urllib.request import urlretrieve\n",
    "\n",
    "url = ('https://cyberunderground.netlify.app/imagens/cybermax.gif')\n",
    "urlretrieve(url,'imagem.gif')"
   ]
  },
  {
   "cell_type": "code",
   "execution_count": 122,
   "metadata": {},
   "outputs": [],
   "source": [
    "import requests\n",
    "\n",
    "r = requests.get(url)\n",
    "\n",
    "with open('img.gif','wb') as f:\n",
    "    f.write(r.content)"
   ]
  },
  {
   "cell_type": "markdown",
   "metadata": {},
   "source": [
    "### Gerando Universally Unique IDs"
   ]
  },
  {
   "cell_type": "code",
   "execution_count": 123,
   "metadata": {},
   "outputs": [
    {
     "name": "stdout",
     "output_type": "stream",
     "text": [
      "bee4d0d8-529c-4ef5-8537-68b1c78e6f5f\n"
     ]
    }
   ],
   "source": [
    "import uuid\n",
    "\n",
    "user_id = uuid.uuid4()\n",
    "print(user_id)"
   ]
  },
  {
   "cell_type": "markdown",
   "metadata": {},
   "source": [
    "### Wikipedia"
   ]
  },
  {
   "cell_type": "code",
   "execution_count": 135,
   "metadata": {},
   "outputs": [
    {
     "name": "stdout",
     "output_type": "stream",
     "text": [
      "Python is an interpreted high-level general-purpose programming language. Python's design philosophy emphasizes code readability with its notable use of significant indentation. Its language constructs as well as its object-oriented approach aim to help programmers write clear, logical code for small and large-scale projects.Python is dynamically-typed and garbage-collected. It supports multiple programming paradigms, including structured (particularly, procedural), object-oriented and functional programming. Python is often described as a \"batteries included\" language due to its comprehensive standard library.Guido van Rossum began working on Python in the late 1980s, as a successor to the ABC programming language, and first released it in 1991 as Python 0.9.0. Python 2.0 was released in 2000 and introduced new features, such as list comprehensions and a garbage collection system using reference counting and was discontinued with version 2.7.18 in 2020. Python 3.0 was released in 2008 and was a major revision of the language that is not completely backward-compatible and much Python 2 code does not run unmodified on Python 3.\n",
      "Python consistently ranks as one of the most popular programming languages.\n",
      "\"Hello, World!\" program, 3ds Max, ?:, ABC (programming language), ADMB, ALGOL, ALGOL 68, APL (programming language), Abaqus, Academic Free License, Academic conference, Action selection, Activation function, Ada (programming language), Advanced Simulation Library, Adversarial machine learning, AlexNet, Alex Graves (computer scientist), Alex Martelli, Algebra, AlphaFold, AlphaGo, Alternative terms for free software, Amazon (company), AmigaOS 4, Amoeba (operating system), Anaconda (installer), Analyse-it, Andrew Ng, Anonymous function, Apache Groovy, Apache License, Apache web server, Aphorism, Apple M1, Apple Public Source License, ArXiv (identifier), Arbitrary-precision arithmetic, ArcGIS, Array index, Array slicing, Artificial intelligence, Artificial neural network, Artistic License, Aspect-oriented programming, Assembly language, Assertion (programming), Assignment (computer science), Associative array, Astropy, Attention (machine learning), Autodesk Softimage, Automatic differentiation, Automation, BASIC, BERT (language model), BMDP, BNF (identifier), BSD licenses, BV4.1 (software), Backporting, Backpropagation, Backward compatibility, Batch normalization, Bazel (software), Beerware, Benevolent Dictator For Life, Beta release, Bibcode (identifier), Biopython, Blender (software), Block (programming), Boo (programming language), Boolean value, Bottle (web framework), Break statement, Bug tracker, Byte, Bytecode, C++, C11 (C standard revision), C89 (C version), C99, CCP Games, CERN, CLPython, CLU (programming language), COBOL, CPython, CSPro, C (programming language), C Sharp (programming language), Cable theory, Cache poisoning, Calculus, Call stack, Capella (notation program), Centrum Wiskunde & Informatica, Chapel (programming language), CherryPy, Chris Lattner, Cinema 4D, CircuitPython, CiteSeerX (identifier), Class (computer science), Cluster analysis, Cobra (programming language), Code readability, CoffeeScript, Combinatorics, Command line interpreter, Commercial software, Common Development and Distribution License, Common Language Runtime, Common Lisp, Community of practice, Comparison of free and open-source software licences, Comparison of free geophysics software, Comparison of free software for audio, Comparison of integrated development environments, Comparison of numerical-analysis software, Comparison of open-source and closed-source software, Comparison of open-source configuration management software, Comparison of open-source operating systems, Comparison of open-source programming language licensing, Comparison of open-source wireless drivers, Comparison of programming languages, Comparison of shopping cart software, Comparison of source-code-hosting facilities, Comparison of statistical packages, Compile time, Complex number, Computational learning theory, Computational science, Computer file, Computer networking, Computer vision, Concatenation, Conditional (programming), Contributor License Agreement, Convolution, Copyleft, Coroutine, Creative Commons license, Cross-platform software, CubicWeb, CumFreq, Curly bracket programming language, Cycle detection, Cython, DADiSP, DALL-E, DAP (software), D (programming language), Data Desk, Data analytics, Data augmentation, Data mapper pattern, Data type, Databases, Dataplot, David Silver (computer scientist), Debian Free Software Guidelines, Decimal floating point, DeepMind, Deep learning, Definition of Free Cultural Works, Demis Hassabis, Design by contract, Differentiable function, Differentiable neural computer, Differentiable programming, Digital image processing, Digital rights management, Django (web framework), Documentation, Doi (identifier), Double-precision floating-point format, Doxygen, Dropbox (service), Duck typing, Dylan (programming language), Dynamic programming language, Dynamic type, Dynamic typing, ECMAScript, EViews, Eclipse Public License, Ellipsis (programming operator), End-of-life (product), Epi Info, Eric Python IDE, Erlang (programming language), Escape character, Esri, Euler (software), Exception handling, Exception handling syntax, Exponentiation, Expression (computer science), Extensibility, FEATool Multiphysics, F Sharp (programming language), Facebook, Facial recognition system, Factorial, FastAPI, Fedora (operating system), Fei-Fei Li, Fellow, Filename extension, Finite element method, Firaxis Games, First-class continuations, Flask (web framework), Floating-point arithmetic, Foobar, Foreach, Fork (software development), Forth (programming language), Fortran, Fortress (programming language), Free-software license, FreeBSD, FreeCAD, FreeFem++, FreeMat, Free Software Foundation, Free and open-source graphics device driver, Free and open-source software, Free license, Free software, Free software movement, Freeware, Function (computing), Function (programming), Functional programming, GAUSS (software), GDScript, GIMP, GND (identifier), GNU Debugger, GNU General Public License, GNU Lesser General Public License, GNU Manifesto, GNU Octave, GPT-2, GPT-3, GTK, Garbage collection (computer science), General-purpose programming language, Generational list of programming languages, Generator (computer programming), Generator (computer science), Genie (programming language), Genius (mathematics software), Genstat, Gentoo Linux, Geoffrey Hinton, GitHub, Global interpreter lock, Gmsh, Go (programming language), Godot (game engine), Google, Google App Engine, Google Brain, Gradient descent, Gradual typing, GraphPad InStat, GraphPad Prism, Graphcore, Graphical user interface, Graphical user interfaces, Graphviz, Gratis versus libre, Gretl, Grok (web framework), Groovy (programming language), Guido van Rossum, Half-open interval, Handwriting recognition, Hardware description language, Hardware restriction, Haskell (programming language), Here document, High-level programming language, History of Python, History of free and open-source software, History of programming languages, Houdini (software), Human image synthesis, Hypertext Transfer Protocol, IDLE, IDLE (Python), IEEE 754, IPython, ISBN (identifier), ISC license, ITA Software, Ian Goodfellow, Icon (programming language), If-then-else, Image processing, Immutable, Immutable object, Imperative programming, Industrial Light & Magic, Infix notation, InfoWorld, Information security, Inkscape, Instagram, Instance data, Integer (computer science), Integrated development environment, Interpreted language, IronPython, Iterator, JASP, JMP (statistical software), JMulTi, JavaScript, Java (programming language), Java (software platform), Jeff Dean (computer scientist), Julia (programming language), Just-in-time compilation, Just another Gibbs sampler, Jython, Keras, LCCN (identifier), LIMDEP, LISREL, LLVM, LabVIEW, Lambda (programming), Language binding, Language construct, Late binding, Lazy evaluation, Lego Mindstorms EV3, LibreOffice, License proliferation, Lightwave, Linux, Linux distribution, Lisp (programming language), List (computer science), List comprehension, List comprehensions, List of Python software, List of commercial open-source applications and services, List of formerly open-source software, List of formerly proprietary software, List of free-software events, List of free and open-source Android applications, List of free and open-source iOS applications, List of free and open-source software organizations, List of free and open-source software packages, List of free and open-source web applications, List of free software project directories, List of free television software, List of integrated development environments for Python, List of numerical-analysis software, List of open-source bioinformatics software, List of open-source codecs, List of open-source health software, List of open-source routing platforms, List of open-source software for mathematics, List of open-source video games, List of programming languages, List of programming languages by type, List of statistical software, List of trademarked open-source software, Lock (computer science), Logic programming, Long-term support, Loss functions for classification, Lua (programming language), MATLAB, MA (identifier), MFEM, MIME, MIT Computer Science and Artificial Intelligence Laboratory, MIT License, ML (programming language), MLwiN, MacOS, Machine learning, Maple (software), Mathcad, Mathematical software, Mathematics, Matplotlib, Matrix multiplication, Maya (software), MedCalc, Memory management, Memristor, Mercurial, Metaclass, Metaobject, Metaprogramming, Metasyntactic variable, Method (computing), Method (programming), MicroPython, Microcontroller, Microfit, Microsoft Excel, Microsoft Open Specification Promise, Microsoft Windows, Microthread, Mila (research institute), Minitab, Mobile App, Mod wsgi, Modo (software), Modula-3, Modular programming, Modulo operation, Monty Python, MotionBuilder, Mozilla Public License, Mozilla software rebranded by Debian, MuZero, Multi-paradigm programming language, Multimedia, Musical notation, MyHDL, N900, NASA, NCSS (statistical software), NOP (code), Nagare (web framework), Name resolution (programming languages), Natural language processing, Neologism, NetBSD, Netherlands, Neural Turing machine, Neural machine translation, Neuromorphic engineering, Nevow, Nim (programming language), Ninja-IDE, Nokia, Non-English-based programming languages, Norman Jouppi, Notebook interface, Nuitka, Nuke (software), Null pointer, NumPy, Numba, Number theory, Numerical mathematics, O'Reilly Media, OS/2, Object-oriented programming, Object (computer science), Object language, Objective-C, Off-side rule, One Laptop per Child, Open-core model, Open-source-software movement, Open-source hardware, Open-source license, Open-source software, Open-source software development, Open-source software security, OpenAI, OpenAI Five, OpenBSD, OpenBUGS, OpenCV, OpenFOAM, OpenVMS, Operating system, Operator overloading, Optical character recognition, Oracle Corporation, Orange (software), Order of operations, Outline of free software, Overfitting, OxMetrics, PHP, PSPP, Package management system, Paint Shop Pro, Pascal (programming language), Pattern matching, Pattern recognition, Pdoc, Perl, Permissive software license, Peter Norvig, Pip (package manager), Pointer (computer programming), Portage (software), Ported, Premature optimization, Prettyprint, Printf format string, Procedural programming, Programmers, Programming language, Programming language implementation, Programming paradigm, Programming paradigms, Project Debater, Project Jupyter, Prolog, Proprietary device driver, Proprietary firmware, Proprietary software, Pseudorandom number generator, Psyco, Public-domain software, Public domain, PyCharm, PyCon, PyDev, PyGTK, PyMC3, PyPy, PyQt, PyS60, PyTorch, Pydoc, Pygame, Pyjs, Pyladies, Pylons (web framework), Pylons project, Pyramid (web framework), Pyrex (programming language), PythonAnywhere, Python (disambiguation), Python Conference, Python License, Python Package Index, Python Software Foundation, Python Software Foundation License, Python for S60, Python syntax and semantics, Q-learning, Qt (software), Quixote (web framework), RATS (software), RExcel, RPython, RStudio, R (programming language), Raspberry Pi, Rational number, Raw string, Read–eval–print loop, Rectifier (neural networks), Red Hat Linux, Reddit, Reference counting, Reference implementation, Reflection (computer science), Reflective programming, Regression analysis, Regular expression, Regularization (mathematics), Relational database, Remote code execution, Resource acquisition is initialization, Revolution Analytics, Revolution OS, Ring-lang, Robot control, Round to even, Rounding, Roundup (issue tracker), Ruby (programming language), Run-time algorithm specialization, Rust (programming language), S-PLUS, S2CID (identifier), SAS (software), SCO–Linux disputes, SETL, SHAZAM (software), SOFA Statistics, SPSS, SPSS Modeler, SQL, SQLAlchemy, SUDAAN, SUDOC (identifier), SYSTAT (software), SageMath, Salome (software), Scheme (programming language), SciPy, ScicosLab, Scientific computing, Scikit-learn, Scilab, Scorewriter, Scribus, Scripting language, SegReg, Self-driving car, Self-hosting (web services), Series 60, Set (computer science), Shallow copy, Shared Source Initiative, Shed Skin, Shell script, SigmaStat, SigmaXL, Sigmoid function, SimFiT, Simple DirectMedia Layer, Simula, Single-board computer, Sleepycat License, Smalltalk, SmartPLS, Softmax function, Software design, Software developer, Software license, Software patents and free software, Software release life cycle, Solaris (operating system), Source-available software, Spam (Monty Python), Speakeasy (computational environment), Speech recognition, Speech synthesis, Sphinx (documentation generator), SpiNNaker, Spotify, Stack Overflow, Stackless Python, Stan (software), Standard ML, Standard library, StatView, StatXact, Stata, Statement (computer science), State–action–reward–state–action, Statically-typed, Statistica, StatsDirect, Statsmodels, Stochastic gradient descent, String (computer science), String interpolation, String literal, Strong and weak typing, Structured programming, Stuart J. Russell, Sugar (software), Sugar Labs, Swift (programming language), Symbian, Syntactic sugar, Syntax highlighting, System administration, TACTIC (web framework), TIOBE Programming Community Index, TIOBE index, TSP (econometrics software), Tail call, Tcl, TensorFlow, Tensor calculus, Tensor processing unit, Test framework, Test suite, Text processing, The C Programming Language, The Cathedral and the Bazaar, The Computer Language Benchmarks Game, The Document Foundation, The Free Software Definition, The Inquirer, The Open Source Definition, The Unscrambler, Theano (software), There is more than one way to do it, This (computer programming), Timeline of free and open-source software, Timeline of programming languages, Tornado (web server), Training, validation, and test sets, Transformer (machine learning model), Transpile, Trusted Computing, Tuple, TurboGears, Twisted (software), Type system, Ubiquity (software), Ubuntu (operating system), Unary operation, Unicode, Unistat, Unit test, Unit testing, Unix-like, Unix shell, Unladen Swallow, Unlicense, VHDL, Verilog, Viral license, Virtual machine, VisSim, Vision processing unit, WTFPL, Watson (computer), WaveNet, Web2py, Web Server Gateway Interface, Web application, Web browser, Web framework, Web scraping, Webware for Python, Weka (machine learning), While loop, Whitespace character, Wikipedia, WinBUGS, Windows 7, Windows 8, Windows XP, Wolfram Mathematica, Word2vec, World Programming System, X-12-ARIMA, X10 (programming language), XLfit, XLispStat, XploRe, Yahoo!, Yann LeCun, Yoshua Bengio, Yukihiro Matsumoto, Zen of Python, Zero-based, Zlib License, Zope, "
     ]
    }
   ],
   "source": [
    "import wikipedia\n",
    "\n",
    "result = wikipedia.page('Python Language')\n",
    "print(result.summary)\n",
    "\n",
    "for link in result.links:\n",
    "    print(link,end=', ')"
   ]
  },
  {
   "cell_type": "markdown",
   "metadata": {},
   "source": [
    "### Obtendo o Diretório de uma Biblioteca"
   ]
  },
  {
   "cell_type": "code",
   "execution_count": 136,
   "metadata": {},
   "outputs": [
    {
     "name": "stdout",
     "output_type": "stream",
     "text": [
      "<module 'pandas' from '/home/akira/anaconda3/lib/python3.7/site-packages/pandas/__init__.py'>\n"
     ]
    }
   ],
   "source": [
    "import pandas\n",
    "\n",
    "print(pandas)"
   ]
  },
  {
   "cell_type": "markdown",
   "metadata": {},
   "source": [
    "### Múltiplos Valores Maiores e Menores"
   ]
  },
  {
   "cell_type": "code",
   "execution_count": 137,
   "metadata": {},
   "outputs": [
    {
     "name": "stdout",
     "output_type": "stream",
     "text": [
      "[1005.2, 809.5]\n",
      "[1.9, 5, 6, 30, 78]\n"
     ]
    }
   ],
   "source": [
    "import heapq\n",
    "\n",
    "notas = [5, 78, 6, 30, 91, 1005.2, 741, 1.9, 112, 809.5]\n",
    "print(heapq.nlargest(2, notas))\n",
    "print(heapq.nsmallest(5, notas))"
   ]
  },
  {
   "cell_type": "markdown",
   "metadata": {},
   "source": [
    "### Abrindo uma Web Page"
   ]
  },
  {
   "cell_type": "code",
   "execution_count": 138,
   "metadata": {},
   "outputs": [
    {
     "data": {
      "text/plain": [
       "True"
      ]
     },
     "execution_count": 138,
     "metadata": {},
     "output_type": "execute_result"
    }
   ],
   "source": [
    "import webbrowser\n",
    "\n",
    "f=r'https://www.google.com'\n",
    "webbrowser.open(f)"
   ]
  },
  {
   "cell_type": "markdown",
   "metadata": {},
   "source": [
    "### Documentação Python\n",
    "\n",
    "Informações Básicas:\n",
    "\n",
    "`python -m pydoc`\n",
    "\n",
    "Informações do módulo **math**:\n",
    "\n",
    "`python -m pydoc math`\n",
    "\n",
    "Pesquisando módulos referentes a uma palavra-chave \"sql\":\n",
    "\n",
    "`python -m pydoc -k sql`\n",
    "\n",
    "Lendo a Documentação no Browser:\n",
    "\n",
    "`python -m pydoc -p 6060`\n",
    "\n",
    "Criando um arquivo HTML sobre a Documentação do módulo json:\n",
    "\n",
    "`python -m pydoc -w json`"
   ]
  },
  {
   "cell_type": "markdown",
   "metadata": {},
   "source": [
    "### Criando um Servidor de Arquivos\n",
    "\n",
    "`python -m http.server 8000`"
   ]
  },
  {
   "cell_type": "markdown",
   "metadata": {},
   "source": [
    "### Formatando um Decimal"
   ]
  },
  {
   "cell_type": "code",
   "execution_count": 140,
   "metadata": {},
   "outputs": [
    {
     "name": "stdout",
     "output_type": "stream",
     "text": [
      "88.23\n",
      "88.235\n"
     ]
    }
   ],
   "source": [
    "number= 88.23457\n",
    "\n",
    "print('{0:.2f}'.format(number))\n",
    "print(f'{number:.3f}')"
   ]
  },
  {
   "cell_type": "markdown",
   "metadata": {},
   "source": [
    "### Textos Coloridos"
   ]
  },
  {
   "cell_type": "code",
   "execution_count": 145,
   "metadata": {},
   "outputs": [
    {
     "name": "stdout",
     "output_type": "stream",
     "text": [
      "\u001b[33mAmarelo\u001b[0m\n",
      "\u001b[31mVermelho\u001b[0m\n",
      "\u001b[32mVerde\u001b[0m\n"
     ]
    }
   ],
   "source": [
    "from termcolor import colored\n",
    "\n",
    "print(colored(\"Amarelo\",\"yellow\"))\n",
    "print(colored(\"Vermelho\",\"red\"))\n",
    "print(colored(\"Verde\",\"green\"))"
   ]
  },
  {
   "cell_type": "markdown",
   "metadata": {},
   "source": [
    "### Obtendo Senha do Usuário"
   ]
  },
  {
   "cell_type": "code",
   "execution_count": 146,
   "metadata": {},
   "outputs": [
    {
     "name": "stdin",
     "output_type": "stream",
     "text": [
      " ············\n"
     ]
    }
   ],
   "source": [
    "from getpass import getpass\n",
    "\n",
    "password = getpass()"
   ]
  }
 ],
 "metadata": {
  "kernelspec": {
   "display_name": "Python 3",
   "language": "python",
   "name": "python3"
  },
  "language_info": {
   "codemirror_mode": {
    "name": "ipython",
    "version": 3
   },
   "file_extension": ".py",
   "mimetype": "text/x-python",
   "name": "python",
   "nbconvert_exporter": "python",
   "pygments_lexer": "ipython3",
   "version": "3.7.7"
  }
 },
 "nbformat": 4,
 "nbformat_minor": 4
}
