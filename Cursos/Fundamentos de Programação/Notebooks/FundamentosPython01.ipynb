{
 "cells": [
  {
   "cell_type": "markdown",
   "metadata": {},
   "source": [
    "# Fundamentos Python\n",
    "\n",
    "![img](https://i.ibb.co/F6TLzYT/pythonn.png)\n",
    "\n",
    "**[Python](https://www.python.org/)** é uma linguagem de programação que nos permite trabalhar rapidamente e integrar sistemas de forma mais eficaz.\n",
    "\n",
    "Quer você seja novo em programação ou um desenvolvedor experiente, é fácil aprender e usar Python."
   ]
  },
  {
   "cell_type": "markdown",
   "metadata": {},
   "source": [
    "## O Zen do Python\n",
    "\n",
    "O pioneiro Python de longo tempo [Tim Peters](https://en.wikipedia.org/wiki/Tim_Peters_(software_engineer)) criou uma série de princípios que guiam a linguagem Python. \n",
    "\n",
    "Para conhecermos eles, podemos executar o seguinte comando:"
   ]
  },
  {
   "cell_type": "code",
   "execution_count": 1,
   "metadata": {},
   "outputs": [
    {
     "name": "stdout",
     "output_type": "stream",
     "text": [
      "The Zen of Python, by Tim Peters\n",
      "\n",
      "Beautiful is better than ugly.\n",
      "Explicit is better than implicit.\n",
      "Simple is better than complex.\n",
      "Complex is better than complicated.\n",
      "Flat is better than nested.\n",
      "Sparse is better than dense.\n",
      "Readability counts.\n",
      "Special cases aren't special enough to break the rules.\n",
      "Although practicality beats purity.\n",
      "Errors should never pass silently.\n",
      "Unless explicitly silenced.\n",
      "In the face of ambiguity, refuse the temptation to guess.\n",
      "There should be one-- and preferably only one --obvious way to do it.\n",
      "Although that way may not be obvious at first unless you're Dutch.\n",
      "Now is better than never.\n",
      "Although never is often better than *right* now.\n",
      "If the implementation is hard to explain, it's a bad idea.\n",
      "If the implementation is easy to explain, it may be a good idea.\n",
      "Namespaces are one honking great idea -- let's do more of those!\n"
     ]
    }
   ],
   "source": [
    "import this"
   ]
  },
  {
   "cell_type": "markdown",
   "metadata": {},
   "source": [
    "## Python Básico\n",
    "\n",
    "A seguir vamos aprender os fundamentos básicos da linguagem Python, nosso estudo será orientado a exemplos."
   ]
  },
  {
   "cell_type": "markdown",
   "metadata": {},
   "source": [
    "### Operadores Matemáticos\n",
    "\n",
    "De precedência **mais alta** para a **mais baixa**:\n",
    "\n",
    "| Operadores | Operação         | Exemplo         |\n",
    "| --------- | ----------------- | --------------- |\n",
    "| \\*\\*      | Expoente          | `2 ** 3 = 8`    |\n",
    "| %         | Módulo/Restante | `22 % 8 = 6`    |\n",
    "| //        | Divisão Inteira  | `22 // 8 = 2`   |\n",
    "| /         | Divisão          | `22 / 8 = 2.75` |\n",
    "| \\*        | Multiplicação    | `3 * 3 = 9`     |\n",
    "| -         | Subtração       | `5 - 2 = 3`     |\n",
    "| +         | Adição          | `2 + 2 = 4`     |\n",
    "\n",
    "Exemplos de expressões no shell interativo:"
   ]
  },
  {
   "cell_type": "code",
   "execution_count": 7,
   "metadata": {},
   "outputs": [
    {
     "data": {
      "text/plain": [
       "20"
      ]
     },
     "execution_count": 7,
     "metadata": {},
     "output_type": "execute_result"
    }
   ],
   "source": [
    "2 + 3 * 6"
   ]
  },
  {
   "cell_type": "code",
   "execution_count": 8,
   "metadata": {},
   "outputs": [
    {
     "data": {
      "text/plain": [
       "30"
      ]
     },
     "execution_count": 8,
     "metadata": {},
     "output_type": "execute_result"
    }
   ],
   "source": [
    "(2 + 3) * 6"
   ]
  },
  {
   "cell_type": "code",
   "execution_count": 10,
   "metadata": {},
   "outputs": [
    {
     "data": {
      "text/plain": [
       "256"
      ]
     },
     "execution_count": 10,
     "metadata": {},
     "output_type": "execute_result"
    }
   ],
   "source": [
    "2 ** 8"
   ]
  },
  {
   "cell_type": "code",
   "execution_count": 11,
   "metadata": {},
   "outputs": [
    {
     "data": {
      "text/plain": [
       "3"
      ]
     },
     "execution_count": 11,
     "metadata": {},
     "output_type": "execute_result"
    }
   ],
   "source": [
    "23 // 7"
   ]
  },
  {
   "cell_type": "code",
   "execution_count": 14,
   "metadata": {},
   "outputs": [
    {
     "data": {
      "text/plain": [
       "3.2857142857142856"
      ]
     },
     "execution_count": 14,
     "metadata": {},
     "output_type": "execute_result"
    }
   ],
   "source": [
    "23 / 7"
   ]
  },
  {
   "cell_type": "code",
   "execution_count": 15,
   "metadata": {},
   "outputs": [
    {
     "data": {
      "text/plain": [
       "2"
      ]
     },
     "execution_count": 15,
     "metadata": {},
     "output_type": "execute_result"
    }
   ],
   "source": [
    "23 % 7"
   ]
  },
  {
   "cell_type": "code",
   "execution_count": 16,
   "metadata": {},
   "outputs": [
    {
     "data": {
      "text/plain": [
       "16.0"
      ]
     },
     "execution_count": 16,
     "metadata": {},
     "output_type": "execute_result"
    }
   ],
   "source": [
    "(5 - 1) * ((7 + 1) / (3 - 1))"
   ]
  },
  {
   "cell_type": "markdown",
   "metadata": {},
   "source": [
    "### Tipos de Dados\n",
    "\n",
    "| Tipos de Dados              | Exemplos                                  |\n",
    "| ---------------------- | ----------------------------------------- |\n",
    "| Inteiros               | `-2, -1, 0, 1, 2, 3, 4, 5`                |\n",
    "| Números Floating-point | `-1.25, -1.0, -0.5, 0.0, 0.5, 1.0, 1.25` |\n",
    "| Strings                | `'a', 'aa', 'aaa', 'Olá!', '11 gatos'`   |"
   ]
  },
  {
   "cell_type": "code",
   "execution_count": 17,
   "metadata": {},
   "outputs": [
    {
     "name": "stdout",
     "output_type": "stream",
     "text": [
      "<class 'int'>\n",
      "<class 'int'>\n",
      "<class 'int'>\n"
     ]
    }
   ],
   "source": [
    "print(type(-1))\n",
    "print(type(0))\n",
    "print(type(5))"
   ]
  },
  {
   "cell_type": "code",
   "execution_count": 18,
   "metadata": {},
   "outputs": [
    {
     "name": "stdout",
     "output_type": "stream",
     "text": [
      "<class 'float'>\n",
      "<class 'float'>\n",
      "<class 'float'>\n"
     ]
    }
   ],
   "source": [
    "print(type(-1.3))\n",
    "print(type(0.0))\n",
    "print(type(7.6633))"
   ]
  },
  {
   "cell_type": "code",
   "execution_count": 19,
   "metadata": {},
   "outputs": [
    {
     "name": "stdout",
     "output_type": "stream",
     "text": [
      "<class 'str'>\n",
      "<class 'str'>\n",
      "<class 'str'>\n"
     ]
    }
   ],
   "source": [
    "print(type('Olá'))\n",
    "print(type('aaa'))\n",
    "print(type('111'))"
   ]
  },
  {
   "cell_type": "markdown",
   "metadata": {},
   "source": [
    "### Concatenação e Replicação de Strings\n",
    "\n",
    "Concatenando uma String:"
   ]
  },
  {
   "cell_type": "code",
   "execution_count": 20,
   "metadata": {},
   "outputs": [
    {
     "data": {
      "text/plain": [
       "'PythonProgramação'"
      ]
     },
     "execution_count": 20,
     "metadata": {},
     "output_type": "execute_result"
    }
   ],
   "source": [
    "'Python' 'Programação'"
   ]
  },
  {
   "cell_type": "code",
   "execution_count": 21,
   "metadata": {},
   "outputs": [
    {
     "data": {
      "text/plain": [
       "'PythonProgramação'"
      ]
     },
     "execution_count": 21,
     "metadata": {},
     "output_type": "execute_result"
    }
   ],
   "source": [
    "'Python' + 'Programação'"
   ]
  },
  {
   "cell_type": "markdown",
   "metadata": {},
   "source": [
    "**Observação**: Evite o operador `+` para concatenação de string. Prefira a formatação da string."
   ]
  },
  {
   "cell_type": "markdown",
   "metadata": {},
   "source": [
    "Replicação de String:"
   ]
  },
  {
   "cell_type": "code",
   "execution_count": 22,
   "metadata": {},
   "outputs": [
    {
     "data": {
      "text/plain": [
       "'PythonPythonPythonPythonPythonPythonPythonPythonPythonPython'"
      ]
     },
     "execution_count": 22,
     "metadata": {},
     "output_type": "execute_result"
    }
   ],
   "source": [
    "\"Python\" * 10"
   ]
  },
  {
   "cell_type": "markdown",
   "metadata": {},
   "source": [
    "### Variáveis\n",
    "\n",
    "Podemos nomear qualquer variável, desde que obedeçamos às seguintes regras:\n",
    "\n",
    "1. Pode ser apenas uma palavra.\n",
    "2. Ele pode usar apenas letras, números e o caractere sublinhado (`_`).\n",
    "3. Não pode começar com um número.\n",
    "4. Os nomes das variáveis que começam com um sublinhado (`_`) são considerados \"inúteis\".\n",
    "\n",
    "Por exemplo:"
   ]
  },
  {
   "cell_type": "code",
   "execution_count": 23,
   "metadata": {},
   "outputs": [
    {
     "data": {
      "text/plain": [
       "'Gabriel'"
      ]
     },
     "execution_count": 23,
     "metadata": {},
     "output_type": "execute_result"
    }
   ],
   "source": [
    "nome = 'Gabriel'\n",
    "nome"
   ]
  },
  {
   "cell_type": "code",
   "execution_count": 25,
   "metadata": {},
   "outputs": [],
   "source": [
    "_nome = 'Gabriel'"
   ]
  },
  {
   "cell_type": "markdown",
   "metadata": {},
   "source": [
    "`_nome` não deve ser usado novamente no código."
   ]
  },
  {
   "cell_type": "markdown",
   "metadata": {},
   "source": [
    "### Comentários\n",
    "\n",
    "Em programação de computador, um comentário é uma explicação legível ou anotação no código-fonte de um programa de computador. \n",
    "\n",
    "Eles são adicionados com o propósito de tornar o código-fonte mais fácil de ser entendido por humanos e geralmente são ignorados por compiladores e interpretadores."
   ]
  },
  {
   "cell_type": "markdown",
   "metadata": {},
   "source": [
    "Comentários Inline:"
   ]
  },
  {
   "cell_type": "code",
   "execution_count": 28,
   "metadata": {},
   "outputs": [],
   "source": [
    "# Este é um comentário Inline"
   ]
  },
  {
   "cell_type": "markdown",
   "metadata": {},
   "source": [
    "Comentários Multiline:"
   ]
  },
  {
   "cell_type": "code",
   "execution_count": 29,
   "metadata": {},
   "outputs": [],
   "source": [
    "# Este é um comentário\n",
    "# Com múltiplas linhas"
   ]
  },
  {
   "cell_type": "markdown",
   "metadata": {},
   "source": [
    "Código com um comentário:"
   ]
  },
  {
   "cell_type": "code",
   "execution_count": 30,
   "metadata": {},
   "outputs": [],
   "source": [
    "x = 13 # inicializando a variável x"
   ]
  },
  {
   "cell_type": "markdown",
   "metadata": {},
   "source": [
    "Docstrings:"
   ]
  },
  {
   "cell_type": "code",
   "execution_count": 31,
   "metadata": {},
   "outputs": [
    {
     "data": {
      "text/plain": [
       "'\\nDocstrings normalmente são usados\\nPara documentar funções e blocos de código\\n'"
      ]
     },
     "execution_count": 31,
     "metadata": {},
     "output_type": "execute_result"
    }
   ],
   "source": [
    "\"\"\"\n",
    "Docstrings normalmente são usados\n",
    "Para documentar funções e blocos de código\n",
    "\"\"\""
   ]
  },
  {
   "cell_type": "markdown",
   "metadata": {},
   "source": [
    "Observe os dois espaços antes do comentário:"
   ]
  },
  {
   "cell_type": "code",
   "execution_count": 32,
   "metadata": {},
   "outputs": [],
   "source": [
    "def func():\n",
    "    \"\"\"\n",
    "    Essa é uma docstring de função\n",
    "    Também podemos usar:\n",
    "    ''' Docstring de Função '''\n",
    "    \"\"\""
   ]
  },
  {
   "cell_type": "markdown",
   "metadata": {},
   "source": [
    "### A Função print()\n",
    "\n",
    "A função **print()** imprime a mensagem especificada na tela ou outro dispositivo de saída (**output**) padrão.\n",
    "\n",
    "A mensagem pode ser uma string, ou qualquer outro objeto, o objeto será convertido em uma string antes de ser escrito na tela."
   ]
  },
  {
   "cell_type": "code",
   "execution_count": 33,
   "metadata": {},
   "outputs": [
    {
     "name": "stdout",
     "output_type": "stream",
     "text": [
      "Hello World\n"
     ]
    }
   ],
   "source": [
    "print('Hello World')"
   ]
  },
  {
   "cell_type": "code",
   "execution_count": 35,
   "metadata": {},
   "outputs": [
    {
     "name": "stdout",
     "output_type": "stream",
     "text": [
      "a = 1\n"
     ]
    }
   ],
   "source": [
    "a = 1\n",
    "print('a =',a)"
   ]
  },
  {
   "cell_type": "markdown",
   "metadata": {},
   "source": [
    "### A Função input()\n",
    "\n",
    "O método **input()** lê uma linha da entrada (geralmente do usuário), converte a linha em uma string removendo a nova linha final e a retorna."
   ]
  },
  {
   "cell_type": "code",
   "execution_count": 36,
   "metadata": {},
   "outputs": [
    {
     "name": "stdout",
     "output_type": "stream",
     "text": [
      "Qual o seu nome?\n"
     ]
    },
    {
     "name": "stdin",
     "output_type": "stream",
     "text": [
      " Gabriel\n"
     ]
    },
    {
     "name": "stdout",
     "output_type": "stream",
     "text": [
      "É uma honra conhecê-lo, Gabriel\n"
     ]
    }
   ],
   "source": [
    "print('Qual o seu nome?')\n",
    "meu_nome = input()\n",
    "print('É uma honra conhecê-lo, {}'.format(meu_nome))"
   ]
  },
  {
   "cell_type": "markdown",
   "metadata": {},
   "source": [
    "### A Função len()\n",
    "\n",
    "A função **len()** avalia como um valor inteiro o número de caracteres em uma string:"
   ]
  },
  {
   "cell_type": "code",
   "execution_count": 37,
   "metadata": {},
   "outputs": [
    {
     "data": {
      "text/plain": [
       "6"
      ]
     },
     "execution_count": 37,
     "metadata": {},
     "output_type": "execute_result"
    }
   ],
   "source": [
    "len('python')"
   ]
  },
  {
   "cell_type": "markdown",
   "metadata": {},
   "source": [
    "**len()** também pode ser usado para sabermos quantos objetos estão contidos em uma lista, tupla, etc."
   ]
  },
  {
   "cell_type": "code",
   "execution_count": 39,
   "metadata": {},
   "outputs": [
    {
     "data": {
      "text/plain": [
       "3"
      ]
     },
     "execution_count": 39,
     "metadata": {},
     "output_type": "execute_result"
    }
   ],
   "source": [
    "langs = ['python','javascript','c++']\n",
    "len(langs)"
   ]
  },
  {
   "cell_type": "markdown",
   "metadata": {},
   "source": [
    "**Observação**: Teste de vazio de strings, listas, dicionário, etc, não é recomendado usar **len()**, mas sim avaliação booleana direta."
   ]
  },
  {
   "cell_type": "code",
   "execution_count": 40,
   "metadata": {},
   "outputs": [
    {
     "name": "stdout",
     "output_type": "stream",
     "text": [
      "A lista NÃO está vazia!\n"
     ]
    }
   ],
   "source": [
    "lista = [1,2,3]\n",
    "if lista:\n",
    "    print('A lista NÃO está vazia!')"
   ]
  },
  {
   "cell_type": "markdown",
   "metadata": {},
   "source": [
    "### As Funções str(), int() e float()\n",
    "\n",
    "São funções que nos auxiliam na conversão de dados, também conhecido como *casting*."
   ]
  },
  {
   "cell_type": "markdown",
   "metadata": {},
   "source": [
    "Inteiro ou Float para String"
   ]
  },
  {
   "cell_type": "code",
   "execution_count": 41,
   "metadata": {},
   "outputs": [
    {
     "data": {
      "text/plain": [
       "'27'"
      ]
     },
     "execution_count": 41,
     "metadata": {},
     "output_type": "execute_result"
    }
   ],
   "source": [
    "str(27)"
   ]
  },
  {
   "cell_type": "code",
   "execution_count": 42,
   "metadata": {},
   "outputs": [
    {
     "name": "stdout",
     "output_type": "stream",
     "text": [
      "Eu tenho 27 anos de idade\n"
     ]
    }
   ],
   "source": [
    "print(f'Eu tenho {str(27)} anos de idade')"
   ]
  },
  {
   "cell_type": "code",
   "execution_count": 43,
   "metadata": {},
   "outputs": [
    {
     "data": {
      "text/plain": [
       "'3.14'"
      ]
     },
     "execution_count": 43,
     "metadata": {},
     "output_type": "execute_result"
    }
   ],
   "source": [
    "str(3.14)"
   ]
  },
  {
   "cell_type": "markdown",
   "metadata": {},
   "source": [
    "Float para Inteiro:"
   ]
  },
  {
   "cell_type": "code",
   "execution_count": 44,
   "metadata": {},
   "outputs": [
    {
     "data": {
      "text/plain": [
       "7"
      ]
     },
     "execution_count": 44,
     "metadata": {},
     "output_type": "execute_result"
    }
   ],
   "source": [
    "int(7.55)"
   ]
  },
  {
   "cell_type": "code",
   "execution_count": 45,
   "metadata": {},
   "outputs": [
    {
     "data": {
      "text/plain": [
       "10"
      ]
     },
     "execution_count": 45,
     "metadata": {},
     "output_type": "execute_result"
    }
   ],
   "source": [
    "int(6.333) + 4"
   ]
  },
  {
   "cell_type": "markdown",
   "metadata": {},
   "source": [
    "Inteiro para Float:"
   ]
  },
  {
   "cell_type": "code",
   "execution_count": 46,
   "metadata": {},
   "outputs": [
    {
     "data": {
      "text/plain": [
       "15.0"
      ]
     },
     "execution_count": 46,
     "metadata": {},
     "output_type": "execute_result"
    }
   ],
   "source": [
    "float(15)"
   ]
  },
  {
   "cell_type": "markdown",
   "metadata": {},
   "source": [
    "### Controle de Fluxo\n",
    "\n",
    "| Operador | Significado              |\n",
    "| -------- | ------------------------ |\n",
    "| `==`     | Igual a                  |\n",
    "| `!=`     | Diferente de             |\n",
    "| `<`      | Menor que                |\n",
    "| `>`      | Maior que                |\n",
    "| `<=`     | Menor ou igual a         |\n",
    "| `>=`     | Maior ou igual a         |\n",
    "\n",
    "Esses operadores são avaliados como `True` ou `False`, dependendo dos valores fornecidos a eles."
   ]
  },
  {
   "cell_type": "markdown",
   "metadata": {},
   "source": [
    "Exemplos:"
   ]
  },
  {
   "cell_type": "code",
   "execution_count": 47,
   "metadata": {},
   "outputs": [
    {
     "data": {
      "text/plain": [
       "True"
      ]
     },
     "execution_count": 47,
     "metadata": {},
     "output_type": "execute_result"
    }
   ],
   "source": [
    "77 == 77"
   ]
  },
  {
   "cell_type": "code",
   "execution_count": 48,
   "metadata": {},
   "outputs": [
    {
     "data": {
      "text/plain": [
       "False"
      ]
     },
     "execution_count": 48,
     "metadata": {},
     "output_type": "execute_result"
    }
   ],
   "source": [
    "100 == 90"
   ]
  },
  {
   "cell_type": "code",
   "execution_count": 49,
   "metadata": {},
   "outputs": [
    {
     "data": {
      "text/plain": [
       "True"
      ]
     },
     "execution_count": 49,
     "metadata": {},
     "output_type": "execute_result"
    }
   ],
   "source": [
    "'python' == 'python'"
   ]
  },
  {
   "cell_type": "code",
   "execution_count": 50,
   "metadata": {},
   "outputs": [
    {
     "data": {
      "text/plain": [
       "False"
      ]
     },
     "execution_count": 50,
     "metadata": {},
     "output_type": "execute_result"
    }
   ],
   "source": [
    "\"Python\" == \"python\""
   ]
  },
  {
   "cell_type": "code",
   "execution_count": 51,
   "metadata": {},
   "outputs": [
    {
     "data": {
      "text/plain": [
       "True"
      ]
     },
     "execution_count": 51,
     "metadata": {},
     "output_type": "execute_result"
    }
   ],
   "source": [
    "'cachorro' != 'gato'"
   ]
  },
  {
   "cell_type": "code",
   "execution_count": 52,
   "metadata": {},
   "outputs": [
    {
     "data": {
      "text/plain": [
       "True"
      ]
     },
     "execution_count": 52,
     "metadata": {},
     "output_type": "execute_result"
    }
   ],
   "source": [
    "33 == 33.00"
   ]
  },
  {
   "cell_type": "code",
   "execution_count": 53,
   "metadata": {},
   "outputs": [
    {
     "data": {
      "text/plain": [
       "False"
      ]
     },
     "execution_count": 53,
     "metadata": {},
     "output_type": "execute_result"
    }
   ],
   "source": [
    "33 == '33'"
   ]
  },
  {
   "cell_type": "code",
   "execution_count": 54,
   "metadata": {},
   "outputs": [
    {
     "data": {
      "text/plain": [
       "True"
      ]
     },
     "execution_count": 54,
     "metadata": {},
     "output_type": "execute_result"
    }
   ],
   "source": [
    "100 > 50"
   ]
  },
  {
   "cell_type": "code",
   "execution_count": 55,
   "metadata": {},
   "outputs": [
    {
     "data": {
      "text/plain": [
       "True"
      ]
     },
     "execution_count": 55,
     "metadata": {},
     "output_type": "execute_result"
    }
   ],
   "source": [
    "50 <= 50"
   ]
  },
  {
   "cell_type": "code",
   "execution_count": 56,
   "metadata": {},
   "outputs": [
    {
     "data": {
      "text/plain": [
       "False"
      ]
     },
     "execution_count": 56,
     "metadata": {},
     "output_type": "execute_result"
    }
   ],
   "source": [
    "20 >= 30"
   ]
  },
  {
   "cell_type": "markdown",
   "metadata": {},
   "source": [
    "### Avaliação Booleana\n",
    "\n",
    "Não é recomendado usar o operador `==` ou `!=` para avaliar uma operação booleana. \n",
    "\n",
    "Use os operadores `is` ou `is not`, ou use a avaliação booleana implícita."
   ]
  },
  {
   "cell_type": "code",
   "execution_count": 57,
   "metadata": {},
   "outputs": [
    {
     "data": {
      "text/plain": [
       "True"
      ]
     },
     "execution_count": 57,
     "metadata": {},
     "output_type": "execute_result"
    }
   ],
   "source": [
    "True == True"
   ]
  },
  {
   "cell_type": "code",
   "execution_count": 58,
   "metadata": {},
   "outputs": [
    {
     "data": {
      "text/plain": [
       "True"
      ]
     },
     "execution_count": 58,
     "metadata": {},
     "output_type": "execute_result"
    }
   ],
   "source": [
    "True != False"
   ]
  },
  {
   "cell_type": "code",
   "execution_count": 59,
   "metadata": {},
   "outputs": [
    {
     "data": {
      "text/plain": [
       "True"
      ]
     },
     "execution_count": 59,
     "metadata": {},
     "output_type": "execute_result"
    }
   ],
   "source": [
    "True is True"
   ]
  },
  {
   "cell_type": "code",
   "execution_count": 60,
   "metadata": {},
   "outputs": [
    {
     "data": {
      "text/plain": [
       "True"
      ]
     },
     "execution_count": 60,
     "metadata": {},
     "output_type": "execute_result"
    }
   ],
   "source": [
    "True is not False"
   ]
  },
  {
   "cell_type": "markdown",
   "metadata": {},
   "source": [
    "Essas declarações são equivalentes:"
   ]
  },
  {
   "cell_type": "code",
   "execution_count": 2,
   "metadata": {},
   "outputs": [
    {
     "name": "stdout",
     "output_type": "stream",
     "text": [
      "A é True\n",
      "A é True\n"
     ]
    }
   ],
   "source": [
    "A = [10,20,30]\n",
    "\n",
    "if A is not False:\n",
    "    print('A é True')\n",
    "if A:\n",
    "    print('A é True')"
   ]
  },
  {
   "cell_type": "markdown",
   "metadata": {},
   "source": [
    "Confirmando que **A** é **True** com o método **bool()**:"
   ]
  },
  {
   "cell_type": "code",
   "execution_count": 4,
   "metadata": {},
   "outputs": [
    {
     "data": {
      "text/plain": [
       "True"
      ]
     },
     "execution_count": 4,
     "metadata": {},
     "output_type": "execute_result"
    }
   ],
   "source": [
    "bool(A)"
   ]
  },
  {
   "cell_type": "markdown",
   "metadata": {},
   "source": [
    "E estes também:"
   ]
  },
  {
   "cell_type": "code",
   "execution_count": 3,
   "metadata": {},
   "outputs": [
    {
     "name": "stdout",
     "output_type": "stream",
     "text": [
      "B é False\n",
      "B é False\n"
     ]
    }
   ],
   "source": [
    "B = []\n",
    "\n",
    "if B is not True:\n",
    "    print('B é False')\n",
    "if not B:\n",
    "    print('B é False')"
   ]
  },
  {
   "cell_type": "markdown",
   "metadata": {},
   "source": [
    "Confirmando que **B** é **False** com o método **bool()**:"
   ]
  },
  {
   "cell_type": "code",
   "execution_count": 5,
   "metadata": {},
   "outputs": [
    {
     "data": {
      "text/plain": [
       "False"
      ]
     },
     "execution_count": 5,
     "metadata": {},
     "output_type": "execute_result"
    }
   ],
   "source": [
    "bool(B)"
   ]
  },
  {
   "cell_type": "markdown",
   "metadata": {},
   "source": [
    "### Operadores Booleanos\n",
    "\n",
    "Existem três operadores booleanos: **and**, **or** e **not**.\n",
    "\n",
    "A Tabela Verdade do Operador **and**:\n",
    "\n",
    "| Expressão         | Resultado    |\n",
    "| ----------------- | ------------ |\n",
    "| `True and True`   | `True`       |\n",
    "| `True and False`  | `False`      |\n",
    "| `False and True`  | `False`      |\n",
    "| `False and False` | `False`      |\n",
    "\n",
    "A Tabela Verdade do Operador **or**:\n",
    "\n",
    "| Expressão        | Resultado    |\n",
    "| ---------------- | ------------ |\n",
    "| `True or True`   | `True`       |\n",
    "| `True or False`  | `True`       |\n",
    "| `False or True`  | `True`       |\n",
    "| `False or False` | `False`      |\n",
    "\n",
    "A Tabela Verdade do Operador **not**:\n",
    "\n",
    "| Expressão   | Resultado    |\n",
    "| ----------- | ------------ |\n",
    "| `not True`  | `False`      |\n",
    "| `not False` | `True`       |"
   ]
  },
  {
   "cell_type": "markdown",
   "metadata": {},
   "source": [
    "### Combinando Operadores Booleanos e de Comparação"
   ]
  },
  {
   "cell_type": "code",
   "execution_count": 103,
   "metadata": {},
   "outputs": [
    {
     "data": {
      "text/plain": [
       "True"
      ]
     },
     "execution_count": 103,
     "metadata": {},
     "output_type": "execute_result"
    }
   ],
   "source": [
    "(4 < 5) and (5 < 6)"
   ]
  },
  {
   "cell_type": "code",
   "execution_count": 104,
   "metadata": {},
   "outputs": [
    {
     "data": {
      "text/plain": [
       "False"
      ]
     },
     "execution_count": 104,
     "metadata": {},
     "output_type": "execute_result"
    }
   ],
   "source": [
    "(4 < 5) and (9 < 6)"
   ]
  },
  {
   "cell_type": "code",
   "execution_count": 105,
   "metadata": {},
   "outputs": [
    {
     "data": {
      "text/plain": [
       "True"
      ]
     },
     "execution_count": 105,
     "metadata": {},
     "output_type": "execute_result"
    }
   ],
   "source": [
    "(1 == 2) or (2 == 2)"
   ]
  },
  {
   "cell_type": "markdown",
   "metadata": {},
   "source": [
    "Podemos também usar vários **operadores booleanos** em uma expressão, junto com os **operadores de comparação**:"
   ]
  },
  {
   "cell_type": "code",
   "execution_count": 106,
   "metadata": {},
   "outputs": [
    {
     "data": {
      "text/plain": [
       "True"
      ]
     },
     "execution_count": 106,
     "metadata": {},
     "output_type": "execute_result"
    }
   ],
   "source": [
    "2 + 2 == 4 and not 2 + 2 == 5 and 2 * 2 == 2 + 2"
   ]
  },
  {
   "cell_type": "markdown",
   "metadata": {},
   "source": [
    "### Declarações if"
   ]
  },
  {
   "cell_type": "code",
   "execution_count": 108,
   "metadata": {},
   "outputs": [
    {
     "name": "stdout",
     "output_type": "stream",
     "text": [
      "Olá Bob!\n"
     ]
    }
   ],
   "source": [
    "nome = 'Bob'\n",
    "\n",
    "if nome == 'Bob':\n",
    "    print('Olá Bob!')"
   ]
  },
  {
   "cell_type": "markdown",
   "metadata": {},
   "source": [
    "### Declarações else"
   ]
  },
  {
   "cell_type": "code",
   "execution_count": 110,
   "metadata": {},
   "outputs": [
    {
     "name": "stdout",
     "output_type": "stream",
     "text": [
      "Olá, amigo.\n"
     ]
    }
   ],
   "source": [
    "nome = 'João'\n",
    "\n",
    "if nome == 'Bob':\n",
    "    print('Olá Bob!')\n",
    "else:\n",
    "    print('Olá, amigo.')"
   ]
  },
  {
   "cell_type": "markdown",
   "metadata": {},
   "source": [
    "### Declarações elif"
   ]
  },
  {
   "cell_type": "code",
   "execution_count": 111,
   "metadata": {},
   "outputs": [
    {
     "name": "stdout",
     "output_type": "stream",
     "text": [
      "Criança, você não é a Alice!\n"
     ]
    }
   ],
   "source": [
    "nome = 'Bob'\n",
    "idade = 5\n",
    "\n",
    "if nome == 'Alice':\n",
    "    print('Olá, Alice.')\n",
    "elif idade < 12:\n",
    "    print('Criança, você não é a Alice!')"
   ]
  },
  {
   "cell_type": "code",
   "execution_count": 6,
   "metadata": {},
   "outputs": [
    {
     "name": "stdout",
     "output_type": "stream",
     "text": [
      "Você não é a Alice e nem uma criança.\n"
     ]
    }
   ],
   "source": [
    "nome = 'Bob'\n",
    "idade = 30\n",
    "\n",
    "if nome == 'Alice':\n",
    "    print('Olá, Alice.')\n",
    "elif idade < 12:\n",
    "    print('Criança, você não é a Alice!')\n",
    "else:\n",
    "    print('Você não é a Alice e nem uma criança.')"
   ]
  },
  {
   "cell_type": "markdown",
   "metadata": {},
   "source": [
    "### Declarações while (Loop)"
   ]
  },
  {
   "cell_type": "code",
   "execution_count": 113,
   "metadata": {},
   "outputs": [
    {
     "name": "stdout",
     "output_type": "stream",
     "text": [
      "Hello, world!\n",
      "Hello, world!\n",
      "Hello, world!\n",
      "Hello, world!\n",
      "Hello, world!\n"
     ]
    }
   ],
   "source": [
    "spam = 0\n",
    "\n",
    "while spam < 5:\n",
    "    print('Hello, world!')\n",
    "    spam = spam + 1"
   ]
  },
  {
   "cell_type": "markdown",
   "metadata": {},
   "source": [
    "### Declarações **break**\n",
    "\n",
    "Se a execução atinge uma instrução **break**, ela sai imediatamente da cláusula do loop **while**:"
   ]
  },
  {
   "cell_type": "code",
   "execution_count": 114,
   "metadata": {},
   "outputs": [
    {
     "name": "stdout",
     "output_type": "stream",
     "text": [
      "Por favor, informe o seu nome: \n"
     ]
    },
    {
     "name": "stdin",
     "output_type": "stream",
     "text": [
      " Rafael\n"
     ]
    },
    {
     "name": "stdout",
     "output_type": "stream",
     "text": [
      "Por favor, informe o seu nome: \n"
     ]
    },
    {
     "name": "stdin",
     "output_type": "stream",
     "text": [
      " Miguel\n"
     ]
    },
    {
     "name": "stdout",
     "output_type": "stream",
     "text": [
      "Por favor, informe o seu nome: \n"
     ]
    },
    {
     "name": "stdin",
     "output_type": "stream",
     "text": [
      " Gabriel\n"
     ]
    },
    {
     "name": "stdout",
     "output_type": "stream",
     "text": [
      "Obrigado!\n"
     ]
    }
   ],
   "source": [
    "while True:\n",
    "    print('Por favor, informe o seu nome: ')\n",
    "    nome = input()\n",
    "    if nome == 'Gabriel':\n",
    "        break\n",
    "print('Obrigado!')"
   ]
  },
  {
   "cell_type": "markdown",
   "metadata": {},
   "source": [
    "### Declarações **continue**\n",
    "\n",
    "Quando a execução do programa atinge uma instrução **continue**, a execução do programa salta imediatamente para o início do loop."
   ]
  },
  {
   "cell_type": "code",
   "execution_count": 115,
   "metadata": {},
   "outputs": [
    {
     "name": "stdout",
     "output_type": "stream",
     "text": [
      "Quem é você?\n"
     ]
    },
    {
     "name": "stdin",
     "output_type": "stream",
     "text": [
      " José\n"
     ]
    },
    {
     "name": "stdout",
     "output_type": "stream",
     "text": [
      "Quem é você?\n"
     ]
    },
    {
     "name": "stdin",
     "output_type": "stream",
     "text": [
      " Luiz\n"
     ]
    },
    {
     "name": "stdout",
     "output_type": "stream",
     "text": [
      "Olá, Luiz. Qual é a senha de acesso? (É um animal)\n"
     ]
    },
    {
     "name": "stdin",
     "output_type": "stream",
     "text": [
      " cachorro\n"
     ]
    },
    {
     "name": "stdout",
     "output_type": "stream",
     "text": [
      "Quem é você?\n"
     ]
    },
    {
     "name": "stdin",
     "output_type": "stream",
     "text": [
      " Luiz\n"
     ]
    },
    {
     "name": "stdout",
     "output_type": "stream",
     "text": [
      "Olá, Luiz. Qual é a senha de acesso? (É um animal)\n"
     ]
    },
    {
     "name": "stdin",
     "output_type": "stream",
     "text": [
      " vaca\n"
     ]
    },
    {
     "name": "stdout",
     "output_type": "stream",
     "text": [
      "Acesso autorizado.\n"
     ]
    }
   ],
   "source": [
    "while True:\n",
    "    print('Quem é você?')\n",
    "    name = input()\n",
    "    if name != 'Luiz':\n",
    "        continue\n",
    "    print('Olá, Luiz. Qual é a senha de acesso? (É um animal)')\n",
    "    password = input()\n",
    "    if password == 'vaca':\n",
    "        break\n",
    "print('Acesso autorizado.')"
   ]
  },
  {
   "cell_type": "markdown",
   "metadata": {},
   "source": [
    "### Loops **for** e a Função **range()**"
   ]
  },
  {
   "cell_type": "code",
   "execution_count": 119,
   "metadata": {},
   "outputs": [
    {
     "name": "stdout",
     "output_type": "stream",
     "text": [
      "Ano: 1999\n",
      "Ano: 2000\n",
      "Ano: 2001\n",
      "Ano: 2002\n",
      "Ano: 2003\n",
      "Ano: 2004\n",
      "Ano: 2005\n",
      "Ano: 2006\n",
      "Ano: 2007\n",
      "Ano: 2008\n",
      "Ano: 2009\n",
      "Ano: 2010\n",
      "Ano: 2011\n",
      "Ano: 2012\n",
      "Ano: 2013\n",
      "Ano: 2014\n",
      "Ano: 2015\n",
      "Ano: 2016\n",
      "Ano: 2017\n",
      "Ano: 2018\n",
      "Ano: 2019\n",
      "Ano: 2020\n",
      "Ano: 2021\n"
     ]
    }
   ],
   "source": [
    "for i in range(1999,2022):\n",
    "    print('Ano: {}'.format(str(i)))"
   ]
  },
  {
   "cell_type": "markdown",
   "metadata": {},
   "source": [
    "A função **range()** também pode ser chamada com três argumentos. \n",
    "\n",
    "Os primeiros dois argumentos serão os valores **inicial** e **final**, e o terceiro será o argumento da **etapa**. \n",
    "\n",
    "A etapa é o valor pelo qual a variável é aumentada após cada iteração."
   ]
  },
  {
   "cell_type": "code",
   "execution_count": 121,
   "metadata": {},
   "outputs": [
    {
     "name": "stdout",
     "output_type": "stream",
     "text": [
      "0\n",
      "2\n",
      "4\n",
      "6\n",
      "8\n",
      "10\n"
     ]
    }
   ],
   "source": [
    "for i in range(0,12,2):\n",
    "    print(i)"
   ]
  },
  {
   "cell_type": "markdown",
   "metadata": {},
   "source": [
    "Podemos até usar um número negativo para o argumento **etapa**, para fazer o loop **for** fazer a contagem regressiva em vez de aumentar."
   ]
  },
  {
   "cell_type": "code",
   "execution_count": 122,
   "metadata": {},
   "outputs": [
    {
     "name": "stdout",
     "output_type": "stream",
     "text": [
      "7\n",
      "6\n",
      "5\n",
      "4\n",
      "3\n",
      "2\n",
      "1\n",
      "0\n"
     ]
    }
   ],
   "source": [
    "for i in range(7,-1,-1):\n",
    "    print(i)"
   ]
  },
  {
   "cell_type": "markdown",
   "metadata": {},
   "source": [
    "### Declaração for else\n",
    "\n",
    "Isso permite especificar uma instrução a ser executada no caso de o loop completo ter sido executado. \n",
    "\n",
    "Útil apenas quando uma condição de interrupção pode ocorrer no loop:"
   ]
  },
  {
   "cell_type": "code",
   "execution_count": 126,
   "metadata": {},
   "outputs": [],
   "source": [
    "for i in [1, 2, 3, 4, 5]:\n",
    "    if i == 3:\n",
    "        break\n",
    "else:\n",
    "    print('Só executado quando nenhum item da lista for igual a 3')"
   ]
  },
  {
   "cell_type": "markdown",
   "metadata": {},
   "source": [
    "### Importando Módulos"
   ]
  },
  {
   "cell_type": "code",
   "execution_count": 129,
   "metadata": {},
   "outputs": [
    {
     "name": "stdout",
     "output_type": "stream",
     "text": [
      "9\n",
      "7\n",
      "10\n",
      "10\n",
      "6\n"
     ]
    }
   ],
   "source": [
    "import random\n",
    "\n",
    "for _ in range(5):\n",
    "    print(random.randint(1, 10))"
   ]
  },
  {
   "cell_type": "code",
   "execution_count": 136,
   "metadata": {},
   "outputs": [
    {
     "name": "stdout",
     "output_type": "stream",
     "text": [
      "tesoura\n",
      "pedra\n",
      "papel\n"
     ]
    }
   ],
   "source": [
    "from random import *\n",
    "\n",
    "for _ in range(3):\n",
    "    print(choice(['pedra','papel','tesoura']))"
   ]
  },
  {
   "cell_type": "code",
   "execution_count": 138,
   "metadata": {},
   "outputs": [
    {
     "name": "stdout",
     "output_type": "stream",
     "text": [
      "Estou usando o Sistema: linux\n",
      "Estou trabalhando no diretório: /home/akira/Documentos/Cursos/Fundamentos de Programação\n",
      "Valor de PI = 3.141592653589793\n"
     ]
    }
   ],
   "source": [
    "import sys, os, math\n",
    "\n",
    "print(f'Estou usando o Sistema: {sys.platform}')\n",
    "print(f'Estou trabalhando no diretório: {os.getcwd()}')\n",
    "print(f'Valor de PI = {math.pi}')"
   ]
  },
  {
   "cell_type": "markdown",
   "metadata": {},
   "source": [
    "### Encerrando um Programa Antecipadamente com **sys.exit()**"
   ]
  },
  {
   "cell_type": "code",
   "execution_count": null,
   "metadata": {},
   "outputs": [],
   "source": [
    "while True:\n",
    "    print('Digite exit para sair do programa.')\n",
    "    resposta = input()\n",
    "    if resposta == 'exit':\n",
    "        sys.exit()\n",
    "    print('Você digitou: {}.'.format(resposta))"
   ]
  },
  {
   "cell_type": "markdown",
   "metadata": {},
   "source": [
    "### Funções"
   ]
  },
  {
   "cell_type": "code",
   "execution_count": 143,
   "metadata": {},
   "outputs": [
    {
     "name": "stdout",
     "output_type": "stream",
     "text": [
      "Olá Gabriel\n",
      "Olá Rafael\n"
     ]
    }
   ],
   "source": [
    "def olá(nome):\n",
    "    print('Olá {}'.format(nome))\n",
    "\n",
    "olá('Gabriel')\n",
    "olá('Rafael')"
   ]
  },
  {
   "cell_type": "markdown",
   "metadata": {},
   "source": [
    "### Valores de Retorno e Declarações de retorno\n",
    "\n",
    "Ao criar uma função usando a instrução **def**, podemos especificar qual deve ser o valor de retorno com uma instrução **return**. \n",
    "\n",
    "Uma declaração de retorno consiste no seguinte:\n",
    "\n",
    "- A palavra-chave **return**\n",
    "- O valor ou expressão que a função deve retornar"
   ]
  },
  {
   "cell_type": "code",
   "execution_count": 154,
   "metadata": {},
   "outputs": [
    {
     "name": "stdout",
     "output_type": "stream",
     "text": [
      "It is not enough to have a good mind; the main thing is to use it well. René Descartes\n"
     ]
    }
   ],
   "source": [
    "def gerador_frases(num):\n",
    "    if num == 1:\n",
    "        return 'It is not enough to have a good mind; the main thing is to use it well. René Descartes'\n",
    "    if num == 2:\n",
    "        return 'Except our own thoughts, there is nothing absolutely in our power. René Descartes'\n",
    "    if num == 3:\n",
    "        return 'Love does not dominate; it cultivates. Johann Wolfgang von Goethe'\n",
    "    if num == 4:\n",
    "        return 'The soul that sees beauty may sometimes walk alone. Johann Wolfgang von Goethe'\n",
    "    if num == 5:\n",
    "        return 'That which does not kill us makes us stronger. Friedrich Nietzsche'\n",
    "    if num == 6:\n",
    "        return 'Man is the cruelest animal. Friedrich Nietzsche'\n",
    "    if num == 7:\n",
    "        return 'You have power over your mind - not outside events. Realize this, and you will find strength. Marcus Aurelius'\n",
    "    if num == 8:\n",
    "        return 'Death smiles at us all, but all a man can do is smile back. Marcus Aurelius'\n",
    "    if num == 9:\n",
    "        return 'Science is organized knowledge. Wisdom is organized life. Immanuel Kant'\n",
    "\n",
    "n = randint(1, 9)\n",
    "frase_aleatoria = gerador_frases(n)\n",
    "print(frase_aleatoria)"
   ]
  },
  {
   "cell_type": "markdown",
   "metadata": {},
   "source": [
    "### O Valor **None**"
   ]
  },
  {
   "cell_type": "code",
   "execution_count": 157,
   "metadata": {},
   "outputs": [
    {
     "name": "stdout",
     "output_type": "stream",
     "text": [
      "Hello\n"
     ]
    }
   ],
   "source": [
    "hello = print('Hello')\n",
    "hello"
   ]
  },
  {
   "cell_type": "code",
   "execution_count": 158,
   "metadata": {},
   "outputs": [
    {
     "data": {
      "text/plain": [
       "True"
      ]
     },
     "execution_count": 158,
     "metadata": {},
     "output_type": "execute_result"
    }
   ],
   "source": [
    "hello is None"
   ]
  },
  {
   "cell_type": "code",
   "execution_count": 159,
   "metadata": {},
   "outputs": [
    {
     "data": {
      "text/plain": [
       "NoneType"
      ]
     },
     "execution_count": 159,
     "metadata": {},
     "output_type": "execute_result"
    }
   ],
   "source": [
    "type(hello)"
   ]
  },
  {
   "cell_type": "markdown",
   "metadata": {},
   "source": [
    "**Observação**: Evite comparar **None** com o operador `==`. Procure usar `is`."
   ]
  },
  {
   "cell_type": "markdown",
   "metadata": {},
   "source": [
    "### Argumentos de Palavra-chave e **print()**"
   ]
  },
  {
   "cell_type": "code",
   "execution_count": 162,
   "metadata": {},
   "outputs": [
    {
     "name": "stdout",
     "output_type": "stream",
     "text": [
      "OláPython\n"
     ]
    }
   ],
   "source": [
    "print('Olá',end='')\n",
    "print('Python')"
   ]
  },
  {
   "cell_type": "code",
   "execution_count": 163,
   "metadata": {},
   "outputs": [
    {
     "name": "stdout",
     "output_type": "stream",
     "text": [
      "leão elefante tigre\n"
     ]
    }
   ],
   "source": [
    "print('leão','elefante','tigre')"
   ]
  },
  {
   "cell_type": "code",
   "execution_count": 164,
   "metadata": {},
   "outputs": [
    {
     "name": "stdout",
     "output_type": "stream",
     "text": [
      "China,Rússia,Índia\n"
     ]
    }
   ],
   "source": [
    "print('China','Rússia','Índia', sep=',')"
   ]
  },
  {
   "cell_type": "markdown",
   "metadata": {},
   "source": [
    "### A Declaração **global**\n",
    "\n",
    "Se você precisar modificar uma variável global de dentro de uma função, use a instrução **global**:"
   ]
  },
  {
   "cell_type": "code",
   "execution_count": 165,
   "metadata": {},
   "outputs": [
    {
     "name": "stdout",
     "output_type": "stream",
     "text": [
      "variável da função\n"
     ]
    }
   ],
   "source": [
    "def func():\n",
    "    global var\n",
    "    var = 'variável da função'\n",
    "\n",
    "var = 'variável global'\n",
    "func()\n",
    "print(var)"
   ]
  },
  {
   "cell_type": "markdown",
   "metadata": {},
   "source": [
    "Existem quatro regras para dizer se uma variável está em um escopo **local** ou **global**:\n",
    "\n",
    "1. Se uma variável está sendo usada no escopo global (ou seja, fora de todas as funções), então é sempre uma variável global.\n",
    "\n",
    "2. Se houver uma declaração global para essa variável em uma função, é uma variável global.\n",
    "\n",
    "3. Caso contrário, se a variável for usada em uma instrução de atribuição na função, é uma variável local.\n",
    "\n",
    "4. Mas se a variável não for usada em uma instrução de atribuição, é uma variável global."
   ]
  },
  {
   "cell_type": "markdown",
   "metadata": {},
   "source": [
    "### Lidando com Exceções"
   ]
  },
  {
   "cell_type": "markdown",
   "metadata": {},
   "source": [
    "Tratamento básico de exceções:"
   ]
  },
  {
   "cell_type": "code",
   "execution_count": 167,
   "metadata": {},
   "outputs": [
    {
     "name": "stdout",
     "output_type": "stream",
     "text": [
      "1.0\n",
      "33.333333333333336\n",
      "0.5\n",
      "Erro: Argumento Inválido: division by zero\n",
      "None\n"
     ]
    }
   ],
   "source": [
    "def divisão(x, y):\n",
    "    try:\n",
    "        return x / y\n",
    "    except ZeroDivisionError as e:\n",
    "        print('Erro: Argumento Inválido: {}'.format(e))\n",
    "\n",
    "print(divisão(2,2))\n",
    "print(divisão(100,3))\n",
    "print(divisão(1,2))\n",
    "print(divisão(5,0))"
   ]
  },
  {
   "cell_type": "markdown",
   "metadata": {},
   "source": [
    "O código dentro da seção **finally** é sempre executado, não importa se uma exceção foi levantada ou não, e mesmo se uma exceção não for detectada."
   ]
  },
  {
   "cell_type": "code",
   "execution_count": 168,
   "metadata": {},
   "outputs": [
    {
     "name": "stdout",
     "output_type": "stream",
     "text": [
      "-- Divisão Finalizada! --\n",
      "1.0\n",
      "-- Divisão Finalizada! --\n",
      "33.333333333333336\n",
      "-- Divisão Finalizada! --\n",
      "0.5\n",
      "Erro: Argumento Inválido: division by zero\n",
      "-- Divisão Finalizada! --\n",
      "None\n"
     ]
    }
   ],
   "source": [
    "def divisão(x, y):\n",
    "    try:\n",
    "        return x / y\n",
    "    except ZeroDivisionError as e:\n",
    "        print('Erro: Argumento Inválido: {}'.format(e))\n",
    "    finally:\n",
    "        print('-- Divisão Finalizada! --')\n",
    "\n",
    "print(divisão(2,2))\n",
    "print(divisão(100,3))\n",
    "print(divisão(1,2))\n",
    "print(divisão(5,0))"
   ]
  },
  {
   "cell_type": "markdown",
   "metadata": {},
   "source": [
    "### Listas"
   ]
  },
  {
   "cell_type": "code",
   "execution_count": 172,
   "metadata": {},
   "outputs": [
    {
     "data": {
      "text/plain": [
       "['tartaruga', 'lobo', 'baleia', 'coruja']"
      ]
     },
     "execution_count": 172,
     "metadata": {},
     "output_type": "execute_result"
    }
   ],
   "source": [
    "animais = ['tartaruga','lobo','baleia','coruja']\n",
    "animais"
   ]
  },
  {
   "cell_type": "markdown",
   "metadata": {},
   "source": [
    "Obtendo valores individuais em uma lista com índices:"
   ]
  },
  {
   "cell_type": "code",
   "execution_count": 173,
   "metadata": {},
   "outputs": [
    {
     "data": {
      "text/plain": [
       "'tartaruga'"
      ]
     },
     "execution_count": 173,
     "metadata": {},
     "output_type": "execute_result"
    }
   ],
   "source": [
    "animais[0]"
   ]
  },
  {
   "cell_type": "code",
   "execution_count": 174,
   "metadata": {},
   "outputs": [
    {
     "data": {
      "text/plain": [
       "'lobo'"
      ]
     },
     "execution_count": 174,
     "metadata": {},
     "output_type": "execute_result"
    }
   ],
   "source": [
    "animais[1]"
   ]
  },
  {
   "cell_type": "code",
   "execution_count": 175,
   "metadata": {},
   "outputs": [
    {
     "data": {
      "text/plain": [
       "'baleia'"
      ]
     },
     "execution_count": 175,
     "metadata": {},
     "output_type": "execute_result"
    }
   ],
   "source": [
    "animais[2]"
   ]
  },
  {
   "cell_type": "code",
   "execution_count": 177,
   "metadata": {},
   "outputs": [
    {
     "data": {
      "text/plain": [
       "'coruja'"
      ]
     },
     "execution_count": 177,
     "metadata": {},
     "output_type": "execute_result"
    }
   ],
   "source": [
    "animais[3]"
   ]
  },
  {
   "cell_type": "markdown",
   "metadata": {},
   "source": [
    "Índices Negativos:"
   ]
  },
  {
   "cell_type": "code",
   "execution_count": 178,
   "metadata": {},
   "outputs": [
    {
     "data": {
      "text/plain": [
       "'coruja'"
      ]
     },
     "execution_count": 178,
     "metadata": {},
     "output_type": "execute_result"
    }
   ],
   "source": [
    "animais[-1]"
   ]
  },
  {
   "cell_type": "code",
   "execution_count": 179,
   "metadata": {},
   "outputs": [
    {
     "data": {
      "text/plain": [
       "'lobo'"
      ]
     },
     "execution_count": 179,
     "metadata": {},
     "output_type": "execute_result"
    }
   ],
   "source": [
    "animais[-3]"
   ]
  },
  {
   "cell_type": "code",
   "execution_count": 180,
   "metadata": {},
   "outputs": [
    {
     "name": "stdout",
     "output_type": "stream",
     "text": [
      "A coruja é um pássaro\n",
      "A baleia é um animal marinho\n"
     ]
    }
   ],
   "source": [
    "print('A {} é um pássaro\\nA {} é um animal marinho'.format(animais[-1],animais[-2]))"
   ]
  },
  {
   "cell_type": "markdown",
   "metadata": {},
   "source": [
    "Obtendo Sublistas com **Slices**:"
   ]
  },
  {
   "cell_type": "code",
   "execution_count": 181,
   "metadata": {},
   "outputs": [
    {
     "data": {
      "text/plain": [
       "['tartaruga', 'lobo', 'baleia', 'coruja']"
      ]
     },
     "execution_count": 181,
     "metadata": {},
     "output_type": "execute_result"
    }
   ],
   "source": [
    "animais[0:4]"
   ]
  },
  {
   "cell_type": "code",
   "execution_count": 182,
   "metadata": {},
   "outputs": [
    {
     "data": {
      "text/plain": [
       "['lobo', 'baleia']"
      ]
     },
     "execution_count": 182,
     "metadata": {},
     "output_type": "execute_result"
    }
   ],
   "source": [
    "animais[1:3]"
   ]
  },
  {
   "cell_type": "code",
   "execution_count": 183,
   "metadata": {},
   "outputs": [
    {
     "data": {
      "text/plain": [
       "['tartaruga', 'lobo', 'baleia']"
      ]
     },
     "execution_count": 183,
     "metadata": {},
     "output_type": "execute_result"
    }
   ],
   "source": [
    "animais[0:-1]"
   ]
  },
  {
   "cell_type": "code",
   "execution_count": 184,
   "metadata": {},
   "outputs": [
    {
     "data": {
      "text/plain": [
       "['tartaruga', 'lobo']"
      ]
     },
     "execution_count": 184,
     "metadata": {},
     "output_type": "execute_result"
    }
   ],
   "source": [
    "animais[:2]"
   ]
  },
  {
   "cell_type": "code",
   "execution_count": 185,
   "metadata": {},
   "outputs": [
    {
     "data": {
      "text/plain": [
       "['lobo', 'baleia', 'coruja']"
      ]
     },
     "execution_count": 185,
     "metadata": {},
     "output_type": "execute_result"
    }
   ],
   "source": [
    "animais[1:]"
   ]
  },
  {
   "cell_type": "markdown",
   "metadata": {},
   "source": [
    "Fazer o **slicing** da lista completa resultará em uma cópia:"
   ]
  },
  {
   "cell_type": "code",
   "execution_count": 186,
   "metadata": {},
   "outputs": [],
   "source": [
    "copia_animais = animais[:]"
   ]
  },
  {
   "cell_type": "code",
   "execution_count": 187,
   "metadata": {},
   "outputs": [
    {
     "data": {
      "text/plain": [
       "['tartaruga', 'lobo', 'baleia', 'coruja', 'jacaré']"
      ]
     },
     "execution_count": 187,
     "metadata": {},
     "output_type": "execute_result"
    }
   ],
   "source": [
    "animais.append('jacaré')\n",
    "animais"
   ]
  },
  {
   "cell_type": "code",
   "execution_count": 188,
   "metadata": {},
   "outputs": [
    {
     "data": {
      "text/plain": [
       "['tartaruga', 'lobo', 'baleia', 'coruja']"
      ]
     },
     "execution_count": 188,
     "metadata": {},
     "output_type": "execute_result"
    }
   ],
   "source": [
    "copia_animais"
   ]
  },
  {
   "cell_type": "markdown",
   "metadata": {},
   "source": [
    "Obtendo o comprimento de uma lista com **len()**:"
   ]
  },
  {
   "cell_type": "code",
   "execution_count": 189,
   "metadata": {},
   "outputs": [
    {
     "data": {
      "text/plain": [
       "5"
      ]
     },
     "execution_count": 189,
     "metadata": {},
     "output_type": "execute_result"
    }
   ],
   "source": [
    "len(animais)"
   ]
  },
  {
   "cell_type": "markdown",
   "metadata": {},
   "source": [
    "Alteração os valores em uma lista com índices:"
   ]
  },
  {
   "cell_type": "code",
   "execution_count": 190,
   "metadata": {},
   "outputs": [
    {
     "data": {
      "text/plain": [
       "['tartaruga', 'morcego', 'baleia', 'coruja', 'jacaré']"
      ]
     },
     "execution_count": 190,
     "metadata": {},
     "output_type": "execute_result"
    }
   ],
   "source": [
    "animais[1] = 'morcego'\n",
    "animais"
   ]
  },
  {
   "cell_type": "code",
   "execution_count": 191,
   "metadata": {},
   "outputs": [],
   "source": [
    "animais[3] = animais[1]"
   ]
  },
  {
   "cell_type": "code",
   "execution_count": 192,
   "metadata": {},
   "outputs": [
    {
     "data": {
      "text/plain": [
       "['tartaruga', 'morcego', 'baleia', 'morcego', 'jacaré']"
      ]
     },
     "execution_count": 192,
     "metadata": {},
     "output_type": "execute_result"
    }
   ],
   "source": [
    "animais"
   ]
  },
  {
   "cell_type": "code",
   "execution_count": 193,
   "metadata": {},
   "outputs": [],
   "source": [
    "animais[-1] = 999"
   ]
  },
  {
   "cell_type": "code",
   "execution_count": 194,
   "metadata": {},
   "outputs": [
    {
     "data": {
      "text/plain": [
       "['tartaruga', 'morcego', 'baleia', 'morcego', 999]"
      ]
     },
     "execution_count": 194,
     "metadata": {},
     "output_type": "execute_result"
    }
   ],
   "source": [
    "animais"
   ]
  },
  {
   "cell_type": "markdown",
   "metadata": {},
   "source": [
    "**Concatenação** de Lista e **Replicação** de Lista:"
   ]
  },
  {
   "cell_type": "code",
   "execution_count": 195,
   "metadata": {},
   "outputs": [
    {
     "data": {
      "text/plain": [
       "[1, 2, 3, 'X', 'Y', 'Z']"
      ]
     },
     "execution_count": 195,
     "metadata": {},
     "output_type": "execute_result"
    }
   ],
   "source": [
    "[1,2,3] + ['X','Y','Z']"
   ]
  },
  {
   "cell_type": "code",
   "execution_count": 196,
   "metadata": {},
   "outputs": [
    {
     "data": {
      "text/plain": [
       "['X', 'Y', 'Z', 'X', 'Y', 'Z', 'X', 'Y', 'Z']"
      ]
     },
     "execution_count": 196,
     "metadata": {},
     "output_type": "execute_result"
    }
   ],
   "source": [
    "['X', 'Y', 'Z'] * 3"
   ]
  },
  {
   "cell_type": "code",
   "execution_count": 197,
   "metadata": {},
   "outputs": [],
   "source": [
    "z = [3,6,9]\n",
    "z = z + ['A','B','C']"
   ]
  },
  {
   "cell_type": "code",
   "execution_count": 198,
   "metadata": {},
   "outputs": [
    {
     "data": {
      "text/plain": [
       "[3, 6, 9, 'A', 'B', 'C']"
      ]
     },
     "execution_count": 198,
     "metadata": {},
     "output_type": "execute_result"
    }
   ],
   "source": [
    "z"
   ]
  },
  {
   "cell_type": "markdown",
   "metadata": {},
   "source": [
    "Removendo Valores de Listas com declarações **del**"
   ]
  },
  {
   "cell_type": "code",
   "execution_count": 199,
   "metadata": {},
   "outputs": [
    {
     "data": {
      "text/plain": [
       "['física', 'química', 'matemática', 'cosmologia']"
      ]
     },
     "execution_count": 199,
     "metadata": {},
     "output_type": "execute_result"
    }
   ],
   "source": [
    "ciencias = ['física','química','matemática','cosmologia']\n",
    "ciencias"
   ]
  },
  {
   "cell_type": "code",
   "execution_count": 200,
   "metadata": {},
   "outputs": [],
   "source": [
    "del ciencias[2]"
   ]
  },
  {
   "cell_type": "code",
   "execution_count": 201,
   "metadata": {},
   "outputs": [
    {
     "data": {
      "text/plain": [
       "['física', 'química', 'cosmologia']"
      ]
     },
     "execution_count": 201,
     "metadata": {},
     "output_type": "execute_result"
    }
   ],
   "source": [
    "ciencias"
   ]
  },
  {
   "cell_type": "markdown",
   "metadata": {},
   "source": [
    "Usando **for** Loops com Listas"
   ]
  },
  {
   "cell_type": "code",
   "execution_count": 202,
   "metadata": {},
   "outputs": [
    {
     "name": "stdout",
     "output_type": "stream",
     "text": [
      "Índice 0 em alimentos é: tomate\n",
      "Índice 1 em alimentos é: abacate\n",
      "Índice 2 em alimentos é: feijão\n",
      "Índice 3 em alimentos é: arroz\n"
     ]
    }
   ],
   "source": [
    "alimentos = ['tomate','abacate','feijão','arroz']\n",
    "\n",
    "for i, alimento in enumerate(alimentos):\n",
    "    print(f'Índice {i} em alimentos é: {alimento}')"
   ]
  },
  {
   "cell_type": "markdown",
   "metadata": {},
   "source": [
    "Percorrendo Múltiplas Listas com **zip()**"
   ]
  },
  {
   "cell_type": "code",
   "execution_count": 203,
   "metadata": {},
   "outputs": [
    {
     "name": "stdout",
     "output_type": "stream",
     "text": [
      "Aldous Huxley é autor do livro Brave New World\n",
      "George Orwell é autor do livro 1984\n",
      "Jacques Ellul é autor do livro The Technological Society\n"
     ]
    }
   ],
   "source": [
    "autor = ['Aldous Huxley','George Orwell','Jacques Ellul']\n",
    "livro = ['Brave New World','1984','The Technological Society']\n",
    "\n",
    "for a,l in zip(autor,livro):\n",
    "    print('{} é autor do livro {}'.format(a,l))"
   ]
  },
  {
   "cell_type": "markdown",
   "metadata": {},
   "source": [
    "Os Operadores **in** e **not**"
   ]
  },
  {
   "cell_type": "code",
   "execution_count": 206,
   "metadata": {},
   "outputs": [
    {
     "data": {
      "text/plain": [
       "False"
      ]
     },
     "execution_count": 206,
     "metadata": {},
     "output_type": "execute_result"
    }
   ],
   "source": [
    "periféricos = ['teclado','monitor','microfone']\n",
    "\n",
    "'mouse' in periféricos"
   ]
  },
  {
   "cell_type": "code",
   "execution_count": 207,
   "metadata": {},
   "outputs": [
    {
     "data": {
      "text/plain": [
       "True"
      ]
     },
     "execution_count": 207,
     "metadata": {},
     "output_type": "execute_result"
    }
   ],
   "source": [
    "'teclado' in periféricos"
   ]
  },
  {
   "cell_type": "code",
   "execution_count": 208,
   "metadata": {},
   "outputs": [
    {
     "data": {
      "text/plain": [
       "True"
      ]
     },
     "execution_count": 208,
     "metadata": {},
     "output_type": "execute_result"
    }
   ],
   "source": [
    "'mouse' not in periféricos"
   ]
  },
  {
   "cell_type": "code",
   "execution_count": 209,
   "metadata": {},
   "outputs": [
    {
     "data": {
      "text/plain": [
       "False"
      ]
     },
     "execution_count": 209,
     "metadata": {},
     "output_type": "execute_result"
    }
   ],
   "source": [
    "'teclado' not in periféricos"
   ]
  },
  {
   "cell_type": "markdown",
   "metadata": {},
   "source": [
    "### O Truque da Atribuição Múltipla\n",
    "\n",
    "O truque de atribuição múltipla é um atalho que permite atribuir várias variáveis com os valores em uma lista em uma linha de código.\n",
    "\n",
    "Então, em vez de fazer isso:"
   ]
  },
  {
   "cell_type": "code",
   "execution_count": 210,
   "metadata": {},
   "outputs": [
    {
     "name": "stdout",
     "output_type": "stream",
     "text": [
      "Félix é um gato Preto e Veloz\n"
     ]
    }
   ],
   "source": [
    "gato = ['Félix','Preto','Veloz']\n",
    "\n",
    "nome = gato[0]\n",
    "cor = gato[1]\n",
    "agilidade = gato[2]\n",
    "\n",
    "print('{} é um gato {} e {}'.format(nome,cor,agilidade))"
   ]
  },
  {
   "cell_type": "markdown",
   "metadata": {},
   "source": [
    "Podemos usar este atalho, que torna muito mais simples e legível:"
   ]
  },
  {
   "cell_type": "code",
   "execution_count": 211,
   "metadata": {},
   "outputs": [
    {
     "name": "stdout",
     "output_type": "stream",
     "text": [
      "Félix é um gato Preto e Veloz\n"
     ]
    }
   ],
   "source": [
    "nome, cor, agilidade = gato\n",
    "\n",
    "print('{} é um gato {} e {}'.format(nome,cor,agilidade))"
   ]
  },
  {
   "cell_type": "markdown",
   "metadata": {},
   "source": [
    "O truque de atribuição múltipla também pode ser usado para trocar os valores de duas variáveis:"
   ]
  },
  {
   "cell_type": "code",
   "execution_count": 212,
   "metadata": {},
   "outputs": [
    {
     "name": "stdout",
     "output_type": "stream",
     "text": [
      "20 30\n",
      "30 20\n"
     ]
    }
   ],
   "source": [
    "a, b = 20, 30\n",
    "print(a,b)\n",
    "a, b = b, a\n",
    "print(a,b)"
   ]
  },
  {
   "cell_type": "markdown",
   "metadata": {},
   "source": [
    "### Operadores de Atribuição Augmented\n",
    "\n",
    "| Operador    | Equivalência      |\n",
    "| ----------- | ----------------- |\n",
    "| `spam += 1` | `spam = spam + 1` |\n",
    "| `spam -= 1` | `spam = spam - 1` |\n",
    "| `spam *= 1` | `spam = spam * 1` |\n",
    "| `spam /= 1` | `spam = spam / 1` |\n",
    "| `spam %= 1` | `spam = spam % 1` |"
   ]
  },
  {
   "cell_type": "code",
   "execution_count": 213,
   "metadata": {},
   "outputs": [
    {
     "data": {
      "text/plain": [
       "'Hello World'"
      ]
     },
     "execution_count": 213,
     "metadata": {},
     "output_type": "execute_result"
    }
   ],
   "source": [
    "spam = 'Hello'\n",
    "spam += ' World'\n",
    "spam"
   ]
  },
  {
   "cell_type": "code",
   "execution_count": 214,
   "metadata": {},
   "outputs": [
    {
     "data": {
      "text/plain": [
       "['Naruto', 'Naruto', 'Naruto', 'Naruto']"
      ]
     },
     "execution_count": 214,
     "metadata": {},
     "output_type": "execute_result"
    }
   ],
   "source": [
    "anime = ['Naruto']\n",
    "anime *= 4\n",
    "anime"
   ]
  },
  {
   "cell_type": "code",
   "execution_count": 215,
   "metadata": {},
   "outputs": [
    {
     "name": "stdout",
     "output_type": "stream",
     "text": [
      "0\n"
     ]
    }
   ],
   "source": [
    "n = 0\n",
    "n += 1\n",
    "n -= 1\n",
    "print(n)"
   ]
  },
  {
   "cell_type": "markdown",
   "metadata": {},
   "source": [
    "Encontrar um Valor em uma Lista com o método **index()**:"
   ]
  },
  {
   "cell_type": "code",
   "execution_count": 217,
   "metadata": {},
   "outputs": [
    {
     "data": {
      "text/plain": [
       "2"
      ]
     },
     "execution_count": 217,
     "metadata": {},
     "output_type": "execute_result"
    }
   ],
   "source": [
    "animes = ['Dragon Ball','Death Note','Hellsing']\n",
    "\n",
    "animes.index('Hellsing')"
   ]
  },
  {
   "cell_type": "markdown",
   "metadata": {},
   "source": [
    "Adicionando Valores a Listas com os métodos **append()** e **insert()**"
   ]
  },
  {
   "cell_type": "markdown",
   "metadata": {},
   "source": [
    "**append()**:"
   ]
  },
  {
   "cell_type": "code",
   "execution_count": 218,
   "metadata": {},
   "outputs": [],
   "source": [
    "animes.append('Shurato')"
   ]
  },
  {
   "cell_type": "code",
   "execution_count": 219,
   "metadata": {},
   "outputs": [
    {
     "data": {
      "text/plain": [
       "['Dragon Ball', 'Death Note', 'Hellsing', 'Shurato']"
      ]
     },
     "execution_count": 219,
     "metadata": {},
     "output_type": "execute_result"
    }
   ],
   "source": [
    "animes"
   ]
  },
  {
   "cell_type": "markdown",
   "metadata": {},
   "source": [
    "**insert()**:"
   ]
  },
  {
   "cell_type": "code",
   "execution_count": 220,
   "metadata": {},
   "outputs": [],
   "source": [
    "animes.insert(1,'Pokémon')"
   ]
  },
  {
   "cell_type": "code",
   "execution_count": 221,
   "metadata": {},
   "outputs": [
    {
     "data": {
      "text/plain": [
       "['Dragon Ball', 'Pokémon', 'Death Note', 'Hellsing', 'Shurato']"
      ]
     },
     "execution_count": 221,
     "metadata": {},
     "output_type": "execute_result"
    }
   ],
   "source": [
    "animes"
   ]
  },
  {
   "cell_type": "markdown",
   "metadata": {},
   "source": [
    "Removendo Valores de Listas com o método **remove()**:"
   ]
  },
  {
   "cell_type": "code",
   "execution_count": 222,
   "metadata": {},
   "outputs": [],
   "source": [
    "animes.remove('Death Note')"
   ]
  },
  {
   "cell_type": "code",
   "execution_count": 223,
   "metadata": {},
   "outputs": [
    {
     "data": {
      "text/plain": [
       "['Dragon Ball', 'Pokémon', 'Hellsing', 'Shurato']"
      ]
     },
     "execution_count": 223,
     "metadata": {},
     "output_type": "execute_result"
    }
   ],
   "source": [
    "animes"
   ]
  },
  {
   "cell_type": "markdown",
   "metadata": {},
   "source": [
    "Se o valor aparecer várias vezes na lista, apenas a primeira instância do valor será removida."
   ]
  },
  {
   "cell_type": "markdown",
   "metadata": {},
   "source": [
    "Removendo valores de listas com **pop()**:"
   ]
  },
  {
   "cell_type": "code",
   "execution_count": 224,
   "metadata": {},
   "outputs": [
    {
     "data": {
      "text/plain": [
       "['Dragon Ball', 'Pokémon', 'Hellsing', 'Shurato']"
      ]
     },
     "execution_count": 224,
     "metadata": {},
     "output_type": "execute_result"
    }
   ],
   "source": [
    "animes"
   ]
  },
  {
   "cell_type": "code",
   "execution_count": 225,
   "metadata": {},
   "outputs": [
    {
     "data": {
      "text/plain": [
       "'Shurato'"
      ]
     },
     "execution_count": 225,
     "metadata": {},
     "output_type": "execute_result"
    }
   ],
   "source": [
    "animes.pop()"
   ]
  },
  {
   "cell_type": "code",
   "execution_count": 226,
   "metadata": {},
   "outputs": [
    {
     "data": {
      "text/plain": [
       "['Dragon Ball', 'Pokémon', 'Hellsing']"
      ]
     },
     "execution_count": 226,
     "metadata": {},
     "output_type": "execute_result"
    }
   ],
   "source": [
    "animes"
   ]
  },
  {
   "cell_type": "code",
   "execution_count": 227,
   "metadata": {},
   "outputs": [
    {
     "data": {
      "text/plain": [
       "'Dragon Ball'"
      ]
     },
     "execution_count": 227,
     "metadata": {},
     "output_type": "execute_result"
    }
   ],
   "source": [
    "animes.pop(0)"
   ]
  },
  {
   "cell_type": "code",
   "execution_count": 228,
   "metadata": {},
   "outputs": [
    {
     "data": {
      "text/plain": [
       "['Pokémon', 'Hellsing']"
      ]
     },
     "execution_count": 228,
     "metadata": {},
     "output_type": "execute_result"
    }
   ],
   "source": [
    "animes"
   ]
  },
  {
   "cell_type": "markdown",
   "metadata": {},
   "source": [
    "Ordenando os Valores em uma Lista com o método **sort()**:"
   ]
  },
  {
   "cell_type": "code",
   "execution_count": 229,
   "metadata": {},
   "outputs": [
    {
     "data": {
      "text/plain": [
       "[1, 3, 4, 6, 13, 19, 27]"
      ]
     },
     "execution_count": 229,
     "metadata": {},
     "output_type": "execute_result"
    }
   ],
   "source": [
    "números = [1,13,27,4,3,6,19]\n",
    "números.sort()\n",
    "números"
   ]
  },
  {
   "cell_type": "code",
   "execution_count": 230,
   "metadata": {},
   "outputs": [
    {
     "data": {
      "text/plain": [
       "['Hades', 'Heimdall', 'Krishna', 'Marte', 'Shiva', 'Thor', 'Zeus']"
      ]
     },
     "execution_count": 230,
     "metadata": {},
     "output_type": "execute_result"
    }
   ],
   "source": [
    "deuses = ['Zeus','Thor','Hades','Shiva','Krishna','Marte','Heimdall']\n",
    "deuses.sort()\n",
    "deuses"
   ]
  },
  {
   "cell_type": "markdown",
   "metadata": {},
   "source": [
    "Podemos também passar **True** para o argumento de palavra-chave `reverse` para que o método **sort()** ordene os valores na ordem inversa:"
   ]
  },
  {
   "cell_type": "code",
   "execution_count": 231,
   "metadata": {},
   "outputs": [
    {
     "data": {
      "text/plain": [
       "['Zeus', 'Thor', 'Shiva', 'Marte', 'Krishna', 'Heimdall', 'Hades']"
      ]
     },
     "execution_count": 231,
     "metadata": {},
     "output_type": "execute_result"
    }
   ],
   "source": [
    "deuses.sort(reverse=True)\n",
    "deuses"
   ]
  },
  {
   "cell_type": "markdown",
   "metadata": {},
   "source": [
    "Se você precisar ordenar os valores em ordem alfabética regular, passe `str.lower` para o argumento de palavra-chave **key** na chamada do método **sort()**:"
   ]
  },
  {
   "cell_type": "code",
   "execution_count": 232,
   "metadata": {},
   "outputs": [
    {
     "data": {
      "text/plain": [
       "['a', 'b', 'f', 'g', 'j', 'x']"
      ]
     },
     "execution_count": 232,
     "metadata": {},
     "output_type": "execute_result"
    }
   ],
   "source": [
    "letras = ['b','f','g','j','x','a']\n",
    "letras.sort(key=str.lower)\n",
    "letras"
   ]
  },
  {
   "cell_type": "markdown",
   "metadata": {},
   "source": [
    "Podemos usar a função integrada **sorted()** para retornar uma nova lista:"
   ]
  },
  {
   "cell_type": "code",
   "execution_count": 233,
   "metadata": {},
   "outputs": [
    {
     "data": {
      "text/plain": [
       "['Hades', 'Heimdall', 'Krishna', 'Marte', 'Shiva', 'Thor', 'Zeus']"
      ]
     },
     "execution_count": 233,
     "metadata": {},
     "output_type": "execute_result"
    }
   ],
   "source": [
    "sorted(deuses)"
   ]
  },
  {
   "cell_type": "markdown",
   "metadata": {},
   "source": [
    "### Tipo de Dados Tupla"
   ]
  },
  {
   "cell_type": "code",
   "execution_count": 239,
   "metadata": {},
   "outputs": [],
   "source": [
    "pessoa = ('Machado de Assis', 40, 'Escritor')"
   ]
  },
  {
   "cell_type": "code",
   "execution_count": 240,
   "metadata": {},
   "outputs": [
    {
     "data": {
      "text/plain": [
       "('Machado de Assis', 40, 'Escritor')"
      ]
     },
     "execution_count": 240,
     "metadata": {},
     "output_type": "execute_result"
    }
   ],
   "source": [
    "pessoa"
   ]
  },
  {
   "cell_type": "code",
   "execution_count": 241,
   "metadata": {},
   "outputs": [
    {
     "data": {
      "text/plain": [
       "'Machado de Assis'"
      ]
     },
     "execution_count": 241,
     "metadata": {},
     "output_type": "execute_result"
    }
   ],
   "source": [
    "pessoa[0]"
   ]
  },
  {
   "cell_type": "code",
   "execution_count": 242,
   "metadata": {},
   "outputs": [
    {
     "data": {
      "text/plain": [
       "(40, 'Escritor')"
      ]
     },
     "execution_count": 242,
     "metadata": {},
     "output_type": "execute_result"
    }
   ],
   "source": [
    "pessoa[1:3]"
   ]
  },
  {
   "cell_type": "code",
   "execution_count": 243,
   "metadata": {},
   "outputs": [
    {
     "data": {
      "text/plain": [
       "3"
      ]
     },
     "execution_count": 243,
     "metadata": {},
     "output_type": "execute_result"
    }
   ],
   "source": [
    "len(pessoa)"
   ]
  },
  {
   "cell_type": "markdown",
   "metadata": {},
   "source": [
    "A principal maneira pelo qual as tuplas são diferentes das listas é que as tuplas, como as strings, são **imutáveis**."
   ]
  },
  {
   "cell_type": "markdown",
   "metadata": {},
   "source": [
    "Convertendo tipos com as funções **list()** e **tupla()**"
   ]
  },
  {
   "cell_type": "code",
   "execution_count": 244,
   "metadata": {},
   "outputs": [
    {
     "data": {
      "text/plain": [
       "('cachorro', 'gato', 'coelho')"
      ]
     },
     "execution_count": 244,
     "metadata": {},
     "output_type": "execute_result"
    }
   ],
   "source": [
    "tuple(['cachorro','gato','coelho'])"
   ]
  },
  {
   "cell_type": "code",
   "execution_count": 245,
   "metadata": {},
   "outputs": [
    {
     "data": {
      "text/plain": [
       "['cachorro', 'gato', 'coelho']"
      ]
     },
     "execution_count": 245,
     "metadata": {},
     "output_type": "execute_result"
    }
   ],
   "source": [
    "list(('cachorro','gato','coelho'))"
   ]
  },
  {
   "cell_type": "code",
   "execution_count": 246,
   "metadata": {},
   "outputs": [
    {
     "data": {
      "text/plain": [
       "['c', 'a', 'c', 'h', 'o', 'r', 'r', 'o']"
      ]
     },
     "execution_count": 246,
     "metadata": {},
     "output_type": "execute_result"
    }
   ],
   "source": [
    "list('cachorro')"
   ]
  },
  {
   "cell_type": "markdown",
   "metadata": {},
   "source": [
    "### Dicionários e Dados Estruturados\n",
    "\n",
    "Exemplo de um dicionário:"
   ]
  },
  {
   "cell_type": "code",
   "execution_count": 247,
   "metadata": {},
   "outputs": [],
   "source": [
    "pokémon = {'Nome':'Charizard','Tipo':'Fogo','Geração':1}"
   ]
  },
  {
   "cell_type": "markdown",
   "metadata": {},
   "source": [
    "Acessando Dados:"
   ]
  },
  {
   "cell_type": "code",
   "execution_count": 248,
   "metadata": {},
   "outputs": [
    {
     "data": {
      "text/plain": [
       "'Charizard'"
      ]
     },
     "execution_count": 248,
     "metadata": {},
     "output_type": "execute_result"
    }
   ],
   "source": [
    "pokémon['Nome']"
   ]
  },
  {
   "cell_type": "code",
   "execution_count": 249,
   "metadata": {},
   "outputs": [
    {
     "data": {
      "text/plain": [
       "'Fogo'"
      ]
     },
     "execution_count": 249,
     "metadata": {},
     "output_type": "execute_result"
    }
   ],
   "source": [
    "pokémon['Tipo']"
   ]
  },
  {
   "cell_type": "markdown",
   "metadata": {},
   "source": [
    "Os métodos **keys()**, **values()** e **items()**"
   ]
  },
  {
   "cell_type": "markdown",
   "metadata": {},
   "source": [
    "**valeus()**:"
   ]
  },
  {
   "cell_type": "code",
   "execution_count": 252,
   "metadata": {},
   "outputs": [
    {
     "name": "stdout",
     "output_type": "stream",
     "text": [
      "Charizard\n",
      "Fogo\n",
      "1\n"
     ]
    }
   ],
   "source": [
    "for v in pokémon.values():\n",
    "    print(v)"
   ]
  },
  {
   "cell_type": "markdown",
   "metadata": {},
   "source": [
    "**keys()**:"
   ]
  },
  {
   "cell_type": "code",
   "execution_count": 253,
   "metadata": {},
   "outputs": [
    {
     "name": "stdout",
     "output_type": "stream",
     "text": [
      "Nome\n",
      "Tipo\n",
      "Geração\n"
     ]
    }
   ],
   "source": [
    "for k in pokémon.keys():\n",
    "    print(k)"
   ]
  },
  {
   "cell_type": "markdown",
   "metadata": {},
   "source": [
    "**items()**:"
   ]
  },
  {
   "cell_type": "code",
   "execution_count": 255,
   "metadata": {},
   "outputs": [
    {
     "name": "stdout",
     "output_type": "stream",
     "text": [
      "('Nome', 'Charizard')\n",
      "('Tipo', 'Fogo')\n",
      "('Geração', 1)\n"
     ]
    }
   ],
   "source": [
    "for i in pokémon.items():\n",
    "    print(i)"
   ]
  },
  {
   "cell_type": "markdown",
   "metadata": {},
   "source": [
    "Usando os métodos **keys()**, **values()** e **items()**, um loop **for** pode iterar sob as chaves, valores ou pares de valores-chave em um dicionário, respectivamente."
   ]
  },
  {
   "cell_type": "code",
   "execution_count": 256,
   "metadata": {},
   "outputs": [
    {
     "name": "stdout",
     "output_type": "stream",
     "text": [
      "Chave: Nome | Valor: Charizard\n",
      "Chave: Tipo | Valor: Fogo\n",
      "Chave: Geração | Valor: 1\n"
     ]
    }
   ],
   "source": [
    "for k,v in pokémon.items():\n",
    "    print('Chave: {} | Valor: {}'.format(k,str(v)))"
   ]
  },
  {
   "cell_type": "markdown",
   "metadata": {},
   "source": [
    "Verificando se uma chave ou valor existem em um dicionário"
   ]
  },
  {
   "cell_type": "code",
   "execution_count": 257,
   "metadata": {},
   "outputs": [
    {
     "data": {
      "text/plain": [
       "True"
      ]
     },
     "execution_count": 257,
     "metadata": {},
     "output_type": "execute_result"
    }
   ],
   "source": [
    "'Nome' in pokémon.keys()"
   ]
  },
  {
   "cell_type": "code",
   "execution_count": 258,
   "metadata": {},
   "outputs": [
    {
     "data": {
      "text/plain": [
       "True"
      ]
     },
     "execution_count": 258,
     "metadata": {},
     "output_type": "execute_result"
    }
   ],
   "source": [
    "'Charizard' in pokémon.values()"
   ]
  },
  {
   "cell_type": "markdown",
   "metadata": {},
   "source": [
    "Podemos omitir a chamada para **keys()** ao verificar se há uma chave:"
   ]
  },
  {
   "cell_type": "code",
   "execution_count": 259,
   "metadata": {},
   "outputs": [
    {
     "data": {
      "text/plain": [
       "True"
      ]
     },
     "execution_count": 259,
     "metadata": {},
     "output_type": "execute_result"
    }
   ],
   "source": [
    "'Geração' in pokémon"
   ]
  },
  {
   "cell_type": "code",
   "execution_count": 260,
   "metadata": {},
   "outputs": [
    {
     "data": {
      "text/plain": [
       "False"
      ]
     },
     "execution_count": 260,
     "metadata": {},
     "output_type": "execute_result"
    }
   ],
   "source": [
    "'Tipo' not in pokémon"
   ]
  },
  {
   "cell_type": "markdown",
   "metadata": {},
   "source": [
    "O método **get()**\n",
    "\n",
    "**get** tem dois parâmetros: chave e valor-padrão se a chave não existir"
   ]
  },
  {
   "cell_type": "code",
   "execution_count": 261,
   "metadata": {},
   "outputs": [],
   "source": [
    "frutas = {'laranja': 6, 'limão': 8}"
   ]
  },
  {
   "cell_type": "code",
   "execution_count": 262,
   "metadata": {},
   "outputs": [
    {
     "data": {
      "text/plain": [
       "'Eu estou levando 8 limãos'"
      ]
     },
     "execution_count": 262,
     "metadata": {},
     "output_type": "execute_result"
    }
   ],
   "source": [
    "'Eu estou levando {} limãos'.format(frutas.get('limão'))"
   ]
  },
  {
   "cell_type": "code",
   "execution_count": 265,
   "metadata": {},
   "outputs": [
    {
     "data": {
      "text/plain": [
       "'Eu estou levando 0 abacates'"
      ]
     },
     "execution_count": 265,
     "metadata": {},
     "output_type": "execute_result"
    }
   ],
   "source": [
    "'Eu estou levando {} abacates'.format(frutas.get('abacate',0))"
   ]
  },
  {
   "cell_type": "markdown",
   "metadata": {},
   "source": [
    "O método **setdefault()**\n",
    "\n",
    "Vamos agora considerar este código:"
   ]
  },
  {
   "cell_type": "code",
   "execution_count": 266,
   "metadata": {},
   "outputs": [
    {
     "data": {
      "text/plain": [
       "{'nome': 'Miguel', 'idade': 28, 'país': 'Brasil'}"
      ]
     },
     "execution_count": 266,
     "metadata": {},
     "output_type": "execute_result"
    }
   ],
   "source": [
    "pessoa = {'nome':'Miguel','idade':28}\n",
    "\n",
    "if 'país' not in pessoa:\n",
    "    pessoa['país'] = 'Brasil'\n",
    "    \n",
    "pessoa"
   ]
  },
  {
   "cell_type": "markdown",
   "metadata": {},
   "source": [
    "Ao usarmos **setdefault()** podemos escrever o mesmo código de forma mais legível:"
   ]
  },
  {
   "cell_type": "code",
   "execution_count": 267,
   "metadata": {},
   "outputs": [
    {
     "data": {
      "text/plain": [
       "{'nome': 'Miguel', 'idade': 28, 'páis': 'Brasil'}"
      ]
     },
     "execution_count": 267,
     "metadata": {},
     "output_type": "execute_result"
    }
   ],
   "source": [
    "pessoa = {'nome':'Miguel','idade':28}\n",
    "pessoa.setdefault('páis','Brasil')\n",
    "pessoa"
   ]
  },
  {
   "cell_type": "markdown",
   "metadata": {},
   "source": [
    "### Pretty Printing"
   ]
  },
  {
   "cell_type": "code",
   "execution_count": 268,
   "metadata": {},
   "outputs": [
    {
     "name": "stdout",
     "output_type": "stream",
     "text": [
      "{' ': 8,\n",
      " 'O': 1,\n",
      " 'R': 5,\n",
      " 'a': 4,\n",
      " 'd': 2,\n",
      " 'e': 3,\n",
      " 'i': 1,\n",
      " 'm': 1,\n",
      " 'o': 5,\n",
      " 'p': 1,\n",
      " 't': 1,\n",
      " 'u': 2}\n"
     ]
    }
   ],
   "source": [
    "import pprint\n",
    "\n",
    "mensagem = 'O Rato Roeu a Roupa do Rei de Roma'\n",
    "contador = {}\n",
    "\n",
    "for caracter in mensagem:\n",
    "    contador.setdefault(caracter, 0)\n",
    "    contador[caracter] += 1\n",
    "\n",
    "pprint.pprint(contador)"
   ]
  },
  {
   "cell_type": "markdown",
   "metadata": {},
   "source": [
    "### Unindo dois Dicionários"
   ]
  },
  {
   "cell_type": "markdown",
   "metadata": {},
   "source": [
    "Opção 1 (Python 3.5+):"
   ]
  },
  {
   "cell_type": "code",
   "execution_count": 269,
   "metadata": {},
   "outputs": [
    {
     "data": {
      "text/plain": [
       "{'a': 1, 'b': 3, 'c': 4}"
      ]
     },
     "execution_count": 269,
     "metadata": {},
     "output_type": "execute_result"
    }
   ],
   "source": [
    "x = {'a': 1, 'b': 2}\n",
    "y = {'b': 3, 'c': 4}\n",
    "z = {**x, **y}\n",
    "z"
   ]
  },
  {
   "cell_type": "markdown",
   "metadata": {},
   "source": [
    "Opção 2 (Python 2.7):"
   ]
  },
  {
   "cell_type": "code",
   "execution_count": 270,
   "metadata": {},
   "outputs": [
    {
     "data": {
      "text/plain": [
       "{'a': 1, 'b': 3, 'c': 4}"
      ]
     },
     "execution_count": 270,
     "metadata": {},
     "output_type": "execute_result"
    }
   ],
   "source": [
    "z = dict(x, **y)\n",
    "z"
   ]
  }
 ],
 "metadata": {
  "kernelspec": {
   "display_name": "Python 3",
   "language": "python",
   "name": "python3"
  },
  "language_info": {
   "codemirror_mode": {
    "name": "ipython",
    "version": 3
   },
   "file_extension": ".py",
   "mimetype": "text/x-python",
   "name": "python",
   "nbconvert_exporter": "python",
   "pygments_lexer": "ipython3",
   "version": "3.7.7"
  }
 },
 "nbformat": 4,
 "nbformat_minor": 4
}
