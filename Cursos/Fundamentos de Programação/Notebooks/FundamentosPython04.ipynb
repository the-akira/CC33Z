{
 "cells": [
  {
   "cell_type": "markdown",
   "metadata": {},
   "source": [
    "# Fundamentos Python\n",
    "\n",
    "![img](https://i.ibb.co/F6TLzYT/pythonn.png)\n",
    "\n",
    "**[Python](https://www.python.org/)** é uma linguagem de programação que nos permite trabalhar rapidamente e integrar sistemas de forma mais eficaz.\n",
    "\n",
    "Quer você seja novo em programação ou um desenvolvedor experiente, é fácil aprender e usar Python."
   ]
  },
  {
   "cell_type": "markdown",
   "metadata": {},
   "source": [
    "### Debugging"
   ]
  },
  {
   "cell_type": "markdown",
   "metadata": {},
   "source": [
    "#### Levantando Exceções\n",
    "\n",
    "As exceções são levantadas com uma instrução **raise**. \n",
    "\n",
    "\n",
    "No código, uma instrução **raise** consiste no seguinte:\n",
    "\n",
    "- A palavra-chave de **raise**\n",
    "- Uma chamada para a função **Exception()**\n",
    "- Uma string com uma mensagem útil de erro passada para a função **Exception()**"
   ]
  },
  {
   "cell_type": "code",
   "execution_count": 1,
   "metadata": {},
   "outputs": [
    {
     "ename": "Exception",
     "evalue": "Mensagem de erro",
     "output_type": "error",
     "traceback": [
      "\u001b[0;31m---------------------------------------------------------------------------\u001b[0m",
      "\u001b[0;31mException\u001b[0m                                 Traceback (most recent call last)",
      "\u001b[0;32m<ipython-input-1-6ac944e833dd>\u001b[0m in \u001b[0;36m<module>\u001b[0;34m\u001b[0m\n\u001b[0;32m----> 1\u001b[0;31m \u001b[0;32mraise\u001b[0m \u001b[0mException\u001b[0m\u001b[0;34m(\u001b[0m\u001b[0;34m'Mensagem de erro'\u001b[0m\u001b[0;34m)\u001b[0m\u001b[0;34m\u001b[0m\u001b[0;34m\u001b[0m\u001b[0m\n\u001b[0m",
      "\u001b[0;31mException\u001b[0m: Mensagem de erro"
     ]
    }
   ],
   "source": [
    "raise Exception('Mensagem de erro')"
   ]
  },
  {
   "cell_type": "markdown",
   "metadata": {},
   "source": [
    "Freqüentemente, é o código que chama a função, não a função em si, que sabe como lidar com uma exceção.\n",
    "\n",
    "Portanto, normalmente vamos ver uma instrução **raise** dentro de uma função e as instruções **try** e **except** no código que chama a função.\n",
    "\n",
    "Por exemplo:"
   ]
  },
  {
   "cell_type": "code",
   "execution_count": 4,
   "metadata": {},
   "outputs": [
    {
     "name": "stdout",
     "output_type": "stream",
     "text": [
      "****\n",
      "*  *\n",
      "*  *\n",
      "****\n",
      "OOOOOOOOOOOOOOOOOOOO\n",
      "O                  O\n",
      "O                  O\n",
      "O                  O\n",
      "OOOOOOOOOOOOOOOOOOOO\n",
      "Uma exception ocorreu: Width must be greater than 2.\n",
      "Uma exception ocorreu: Symbol must be a single character string.\n"
     ]
    }
   ],
   "source": [
    "def box_print(symbol, width, height):\n",
    "    if len(symbol) != 1:\n",
    "        raise Exception('Symbol must be a single character string.')\n",
    "    if width <= 2:\n",
    "        raise Exception('Width must be greater than 2.')\n",
    "    if height <= 2:\n",
    "        raise Exception('Height must be greater than 2.')\n",
    "    print(symbol * width)\n",
    "    for i in range(height - 2):\n",
    "        print(symbol + (' ' * (width - 2)) + symbol)\n",
    "    print(symbol * width)\n",
    "\n",
    "for sym, w, h in (('*', 4, 4), ('O', 20, 5), ('x', 1, 3), ('ZZ', 3, 3)):\n",
    "    try:\n",
    "        box_print(sym, w, h)\n",
    "    except Exception as err:\n",
    "        print('Uma exception ocorreu: ' + str(err))"
   ]
  },
  {
   "cell_type": "markdown",
   "metadata": {},
   "source": [
    "#### Obtendo o Traceback como uma String\n",
    "\n",
    "O traceback é exibido pelo Python sempre que uma exceção gerada não é tratada. \n",
    "\n",
    "Mas também podemos obtê-lo como uma string chamando `traceback.format_exc()`. \n",
    "\n",
    "Esta função é útil se desejarmos as informações de um rastreamento de exceção, mas também desejamos que uma instrução **except** para lidar com a exceção de maneira elegante. \n",
    "\n",
    "Precisamos importar o módulo [traceback](https://docs.python.org/3/library/traceback.html) do Python antes de chamar esta função."
   ]
  },
  {
   "cell_type": "code",
   "execution_count": 5,
   "metadata": {},
   "outputs": [],
   "source": [
    "import traceback"
   ]
  },
  {
   "cell_type": "code",
   "execution_count": 8,
   "metadata": {},
   "outputs": [
    {
     "name": "stdout",
     "output_type": "stream",
     "text": [
      "A informação traceback info foi escrita em error_info.txt.\n"
     ]
    }
   ],
   "source": [
    "try:\n",
    "    raise Exception('Essa é a mensagem de erro')\n",
    "except:\n",
    "    with open('error_info.txt', 'w') as error_file:\n",
    "        error_file.write(traceback.format_exc())\n",
    "    print('A informação traceback info foi escrita em error_info.txt.')"
   ]
  },
  {
   "cell_type": "markdown",
   "metadata": {},
   "source": [
    "#### Assertions\n",
    "\n",
    "Uma **assertion** é uma verificação de sanidade para garantir que seu código não esteja fazendo algo obviamente errado. \n",
    "\n",
    "Essas verificações de integridade são realizadas pela declaração **assert**. \n",
    "\n",
    "Se a verificação de integridade falhar, uma exceção **AssertionError** será gerada. No código, uma declaração assert consiste no seguinte:\n",
    "\n",
    "- A palavra-chave **assert**\n",
    "- Uma condição (ou seja, uma expressão avaliada como **True** ou **False**)\n",
    "- Uma vírgula\n",
    "- Uma string a ser exibida quando a condição for **False**"
   ]
  },
  {
   "cell_type": "code",
   "execution_count": 9,
   "metadata": {},
   "outputs": [],
   "source": [
    "porta_status = 'aberta'"
   ]
  },
  {
   "cell_type": "code",
   "execution_count": 10,
   "metadata": {},
   "outputs": [],
   "source": [
    "assert porta_status == 'aberta', 'A porta precisa ser \"aberta\"'"
   ]
  },
  {
   "cell_type": "code",
   "execution_count": 11,
   "metadata": {},
   "outputs": [],
   "source": [
    "porta_status = 'I\\'m sorry, Dave. I\\'m afraid I can\\'t do that.'"
   ]
  },
  {
   "cell_type": "code",
   "execution_count": 12,
   "metadata": {},
   "outputs": [
    {
     "ename": "AssertionError",
     "evalue": "A porta precisa ser \"aberta\"",
     "output_type": "error",
     "traceback": [
      "\u001b[0;31m---------------------------------------------------------------------------\u001b[0m",
      "\u001b[0;31mAssertionError\u001b[0m                            Traceback (most recent call last)",
      "\u001b[0;32m<ipython-input-12-f4503c204426>\u001b[0m in \u001b[0;36m<module>\u001b[0;34m\u001b[0m\n\u001b[0;32m----> 1\u001b[0;31m \u001b[0;32massert\u001b[0m \u001b[0mporta_status\u001b[0m \u001b[0;34m==\u001b[0m \u001b[0;34m'aberta'\u001b[0m\u001b[0;34m,\u001b[0m \u001b[0;34m'A porta precisa ser \"aberta\"'\u001b[0m\u001b[0;34m\u001b[0m\u001b[0;34m\u001b[0m\u001b[0m\n\u001b[0m",
      "\u001b[0;31mAssertionError\u001b[0m: A porta precisa ser \"aberta\""
     ]
    }
   ],
   "source": [
    "assert porta_status == 'aberta', 'A porta precisa ser \"aberta\"'"
   ]
  },
  {
   "cell_type": "markdown",
   "metadata": {},
   "source": [
    "Uma declaração **assert** diz: “Eu afirmo que esta condição é verdadeira e, se não for, há um bug em algum lugar do programa”. \n",
    "\n",
    "Ao contrário das exceções, seu código não deve manipular instruções **assert** com **try** e **except**; se uma declaração falhar, seu programa deve falhar. Ao falhar rápido assim, você encurta o tempo entre a causa original do bug e quando você percebe o bug pela primeira vez. Isso reduzirá a quantidade de código que você terá que verificar antes de encontrar o código que está causando o bug."
   ]
  },
  {
   "cell_type": "markdown",
   "metadata": {},
   "source": [
    "#### Logging\n",
    "\n",
    "Para habilitar o módulo **[logging](https://docs.python.org/3/library/logging.html)** para exibir mensagens de *log* em sua tela enquanto seu programa é executado, copie o seguinte no topo de seu programa:"
   ]
  },
  {
   "cell_type": "code",
   "execution_count": 13,
   "metadata": {},
   "outputs": [],
   "source": [
    "import logging\n",
    "\n",
    "logging.basicConfig(level=logging.DEBUG, format=' %(asctime)s - %(levelname)s- %(message)s')"
   ]
  },
  {
   "cell_type": "markdown",
   "metadata": {},
   "source": [
    "Digamos que você escreveu uma função para calcular o fatorial de um número. \n",
    "\n",
    "Em matemática, o fatorial de `4` é `1 × 2 × 3 × 4` ou `24`.\n",
    "\n",
    "O fatorial de `7` é `1 × 2 × 3 × 4 × 5 × 6 × 7` ou `5040`. \n",
    "\n",
    "O código a seguir tem um bug, iremos inserir várias mensagens de log para ajudar a descobrir o que está errado. "
   ]
  },
  {
   "cell_type": "code",
   "execution_count": 15,
   "metadata": {},
   "outputs": [
    {
     "name": "stderr",
     "output_type": "stream",
     "text": [
      " 2021-03-31 04:21:39,310 - DEBUG- Start of program\n",
      " 2021-03-31 04:21:39,312 - DEBUG- Start of factorial(5)\n",
      " 2021-03-31 04:21:39,314 - DEBUG- i is 1, total is 1\n",
      " 2021-03-31 04:21:39,315 - DEBUG- i is 2, total is 2\n",
      " 2021-03-31 04:21:39,315 - DEBUG- i is 3, total is 6\n",
      " 2021-03-31 04:21:39,316 - DEBUG- i is 4, total is 24\n",
      " 2021-03-31 04:21:39,317 - DEBUG- i is 5, total is 120\n",
      " 2021-03-31 04:21:39,317 - DEBUG- End of factorial(5)\n",
      " 2021-03-31 04:21:39,318 - DEBUG- End of program\n"
     ]
    },
    {
     "name": "stdout",
     "output_type": "stream",
     "text": [
      "120\n"
     ]
    }
   ],
   "source": [
    "logging.debug('Start of program')\n",
    "\n",
    "def factorial(n):\n",
    "    logging.debug('Start of factorial(%s)' % (n))\n",
    "    \n",
    "    total = 1\n",
    "    \n",
    "    for i in range(1, n + 1):\n",
    "        total *= i\n",
    "        logging.debug('i is ' + str(i) + ', total is ' + str(total))\n",
    "    \n",
    "    logging.debug('End of factorial(%s)' % (n))\n",
    "    \n",
    "    return total\n",
    "\n",
    "print(factorial(5))\n",
    "logging.debug('End of program')"
   ]
  },
  {
   "cell_type": "markdown",
   "metadata": {},
   "source": [
    "#### Níveis de Logging\n",
    "\n",
    "Os níveis de **logging** fornecem uma maneira de categorizar suas mensagens de registro por importância. Existem cinco níveis de logging, descritos na Tabela a seguir do menos ao mais importante. As mensagens podem ser registradas em cada nível usando uma função de logging diferente.\n",
    "\n",
    "| Nível      | Função Logging      | Descrição                                                                                                                    |\n",
    "| ---------- | -------------------- | ------------------------------------------------------------------------------------------------------------------------------ |\n",
    "| `DEBUG`    | `logging.debug()`    | O nível mais baixo. Usado para pequenos detalhes. Normalmente, você se preocupa com essas mensagens apenas ao diagnosticar problemas.                 |\n",
    "| `INFO`     | `logging.info()`     | Usado para registrar informações sobre eventos gerais em seu programa ou confirmar se as coisas estão funcionando em seu ponto no programa. |\n",
    "| `WARNING`  | `logging.warning()`  | Usado para indicar um problema potencial que não impede o programa de funcionar, mas pode impedir no futuro.              |\n",
    "| `ERROR`    | `logging.error()`    | Usado para registrar um erro que fez com que o programa deixasse de fazer algo.                                                               |\n",
    "| `CRITICAL` | `logging.critical()` | O nível mais alto. Usado para indicar um erro fatal que causou ou está prestes a fazer com que o programa pare totalmente de ser executado.   |"
   ]
  },
  {
   "cell_type": "markdown",
   "metadata": {},
   "source": [
    "#### Desativando Logging\n",
    "\n",
    "Depois de **debuggarmos** o nosso programa, provavelmente não vamos querer todas essas mensagens de log bagunçando a tela. \n",
    "\n",
    "A função **logging.disable()** desativa isso para que não precisemos entrar em nosso programa e remover todas as chamadas de log manualmente."
   ]
  },
  {
   "cell_type": "code",
   "execution_count": 16,
   "metadata": {},
   "outputs": [],
   "source": [
    "logging.basicConfig(level=logging.INFO, format=' %(asctime)s -%(levelname)s - %(message)s')"
   ]
  },
  {
   "cell_type": "code",
   "execution_count": 17,
   "metadata": {},
   "outputs": [
    {
     "name": "stderr",
     "output_type": "stream",
     "text": [
      " 2021-03-31 04:27:47,238 - CRITICAL- Critical error! Critical error!\n"
     ]
    }
   ],
   "source": [
    "logging.critical('Critical error! Critical error!')"
   ]
  },
  {
   "cell_type": "code",
   "execution_count": 18,
   "metadata": {},
   "outputs": [],
   "source": [
    "logging.disable(logging.CRITICAL)"
   ]
  },
  {
   "cell_type": "code",
   "execution_count": 19,
   "metadata": {},
   "outputs": [],
   "source": [
    "logging.critical('Critical error! Critical error!')"
   ]
  },
  {
   "cell_type": "code",
   "execution_count": 20,
   "metadata": {},
   "outputs": [],
   "source": [
    "logging.error('Error! Error!')"
   ]
  },
  {
   "cell_type": "markdown",
   "metadata": {},
   "source": [
    "#### Logging para um Arquivo\n",
    "\n",
    "Em vez de exibir as mensagens de log na tela, podemos gravá-las em um arquivo de texto. \n",
    "\n",
    "A função **logging.basicConfig()** recebe um argumento de palavra-chave de nome de arquivo, assim:"
   ]
  },
  {
   "cell_type": "code",
   "execution_count": 21,
   "metadata": {},
   "outputs": [],
   "source": [
    "logging.basicConfig(filename='log_do_programa.txt', level=logging.DEBUG, format='%(asctime)s - %(levelname)s - %(message)s')"
   ]
  },
  {
   "cell_type": "markdown",
   "metadata": {},
   "source": [
    "### Funções Lambda"
   ]
  },
  {
   "cell_type": "markdown",
   "metadata": {},
   "source": [
    "Esta Função:"
   ]
  },
  {
   "cell_type": "code",
   "execution_count": 23,
   "metadata": {},
   "outputs": [],
   "source": [
    "def add(x, y):\n",
    "    return x + y"
   ]
  },
  {
   "cell_type": "code",
   "execution_count": 24,
   "metadata": {},
   "outputs": [
    {
     "data": {
      "text/plain": [
       "16"
      ]
     },
     "execution_count": 24,
     "metadata": {},
     "output_type": "execute_result"
    }
   ],
   "source": [
    "add(8,8)"
   ]
  },
  {
   "cell_type": "markdown",
   "metadata": {},
   "source": [
    "É equivalente a esta Função Lambda:"
   ]
  },
  {
   "cell_type": "code",
   "execution_count": 25,
   "metadata": {},
   "outputs": [
    {
     "data": {
      "text/plain": [
       "16"
      ]
     },
     "execution_count": 25,
     "metadata": {},
     "output_type": "execute_result"
    }
   ],
   "source": [
    "add = lambda x, y: x + y\n",
    "add(8,8)"
   ]
  },
  {
   "cell_type": "markdown",
   "metadata": {},
   "source": [
    "Não é nem necessário vinculá-lo a um nome como **add** anterior:"
   ]
  },
  {
   "cell_type": "code",
   "execution_count": 26,
   "metadata": {},
   "outputs": [
    {
     "data": {
      "text/plain": [
       "16"
      ]
     },
     "execution_count": 26,
     "metadata": {},
     "output_type": "execute_result"
    }
   ],
   "source": [
    "(lambda x, y: x + y)(8,8)"
   ]
  },
  {
   "cell_type": "markdown",
   "metadata": {},
   "source": [
    "Como funções aninhadas regulares, lambdas também funcionam como **lexical closures**:"
   ]
  },
  {
   "cell_type": "code",
   "execution_count": 27,
   "metadata": {},
   "outputs": [],
   "source": [
    "def make_adder(n):\n",
    "    return lambda x: x + n"
   ]
  },
  {
   "cell_type": "code",
   "execution_count": 28,
   "metadata": {},
   "outputs": [],
   "source": [
    "plus_3 = make_adder(3)\n",
    "plus_5 = make_adder(5)"
   ]
  },
  {
   "cell_type": "code",
   "execution_count": 29,
   "metadata": {},
   "outputs": [
    {
     "data": {
      "text/plain": [
       "7"
      ]
     },
     "execution_count": 29,
     "metadata": {},
     "output_type": "execute_result"
    }
   ],
   "source": [
    "plus_3(4)"
   ]
  },
  {
   "cell_type": "code",
   "execution_count": 30,
   "metadata": {},
   "outputs": [
    {
     "data": {
      "text/plain": [
       "9"
      ]
     },
     "execution_count": 30,
     "metadata": {},
     "output_type": "execute_result"
    }
   ],
   "source": [
    "plus_5(4)"
   ]
  },
  {
   "cell_type": "markdown",
   "metadata": {},
   "source": [
    "**Observação**: lambda só pode avaliar uma expressão, como uma única linha de código."
   ]
  },
  {
   "cell_type": "markdown",
   "metadata": {},
   "source": [
    "### Operador Condicional Ternário\n",
    "\n",
    "Muitas linguagens de programação têm um operador ternário, que define uma expressão condicional. \n",
    "\n",
    "O uso mais comum é fazer uma declaração de atribuição condicional simples e concisa. \n",
    "\n",
    "Em outras palavras, ele oferece um código de uma linha para avaliar a primeira expressão se a condição for verdadeira, caso contrário, avalia a segunda expressão.\n",
    "\n",
    "Eles seguem a seguinte sintaxe:\n",
    "\n",
    "```python\n",
    "<expression1> if <condition> else <expression2>\n",
    "```"
   ]
  },
  {
   "cell_type": "markdown",
   "metadata": {},
   "source": [
    "Por exemplo:"
   ]
  },
  {
   "cell_type": "code",
   "execution_count": 32,
   "metadata": {},
   "outputs": [
    {
     "name": "stdout",
     "output_type": "stream",
     "text": [
      "criança\n"
     ]
    }
   ],
   "source": [
    "idade = 10\n",
    "\n",
    "print('criança' if idade < 18 else 'adulto')"
   ]
  },
  {
   "cell_type": "markdown",
   "metadata": {},
   "source": [
    "Operadores ternários podem ser encadeados:"
   ]
  },
  {
   "cell_type": "code",
   "execution_count": 33,
   "metadata": {},
   "outputs": [
    {
     "name": "stdout",
     "output_type": "stream",
     "text": [
      "adolescente\n"
     ]
    }
   ],
   "source": [
    "idade = 16\n",
    "\n",
    "print('criança' if idade < 13 else 'adolescente' if idade < 18 else 'adulto')"
   ]
  },
  {
   "cell_type": "markdown",
   "metadata": {},
   "source": [
    "O código abaixo é equivalente também:"
   ]
  },
  {
   "cell_type": "code",
   "execution_count": 34,
   "metadata": {},
   "outputs": [
    {
     "name": "stdout",
     "output_type": "stream",
     "text": [
      "adulto\n"
     ]
    }
   ],
   "source": [
    "idade = 40\n",
    "\n",
    "if idade < 18:\n",
    "    if idade < 13:\n",
    "        print('criança')\n",
    "    else:\n",
    "        print('adolescente')\n",
    "else:\n",
    "    print('adulto')"
   ]
  },
  {
   "cell_type": "markdown",
   "metadata": {},
   "source": [
    "### args e kwargs\n",
    "\n",
    "Os nomes `args` e `kwargs` são arbitrários - o importante são os operadores `*` e `**`. Eles podem significar:\n",
    "\n",
    "1. Em uma declaração de função, `*` significa “empacotar todos os argumentos posicionais restantes em uma tupla chamada `<nome>`”, enquanto `**` é o mesmo para argumentos de palavra-chave (exceto que usa um dicionário, não uma tupla).\n",
    "\n",
    "2. Em uma chamada de função, `*` significa “desempacotar tupla ou lista chamada `<nome>` para argumentos posicionais nesta posição”, enquanto `**` é o mesmo para argumentos de palavra-chave.\n",
    "\n",
    "Por exemplo, podemos fazer uma função que pode ser usada para chamar qualquer outra função, não importa quais parâmetros ela tenha:"
   ]
  },
  {
   "cell_type": "code",
   "execution_count": 35,
   "metadata": {},
   "outputs": [],
   "source": [
    "def forward(f, *args, **kwargs):\n",
    "    return f(*args, **kwargs)"
   ]
  },
  {
   "cell_type": "markdown",
   "metadata": {},
   "source": [
    "No forward, `args` é uma tupla (de todos os argumentos posicionais, exceto o primeiro, porque o especificamos - o **f**), `kwargs` é um dict. Em seguida, chamamos **f** e os descompactamos para que se tornem argumentos normais para **f**.\n",
    "\n",
    "Usamos `*args` quando tem uma quantidade indefinida de argumentos posicionais."
   ]
  },
  {
   "cell_type": "code",
   "execution_count": 36,
   "metadata": {},
   "outputs": [],
   "source": [
    "def frutas(*args):\n",
    "    for fruta in args:\n",
    "        print(fruta)"
   ]
  },
  {
   "cell_type": "code",
   "execution_count": 37,
   "metadata": {},
   "outputs": [
    {
     "name": "stdout",
     "output_type": "stream",
     "text": [
      "maçãs\n",
      "bananas\n",
      "uvas\n"
     ]
    }
   ],
   "source": [
    "frutas(\"maçãs\", \"bananas\", \"uvas\")"
   ]
  },
  {
   "cell_type": "markdown",
   "metadata": {},
   "source": [
    "Da mesma forma, usamos `**kwargs` quando temos um número indefinido de argumentos de palavra-chave."
   ]
  },
  {
   "cell_type": "code",
   "execution_count": 38,
   "metadata": {},
   "outputs": [],
   "source": [
    "def fruta(**kwargs):\n",
    "    for key, value in kwargs.items():\n",
    "        print(\"{0}: {1}\".format(key, value))"
   ]
  },
  {
   "cell_type": "code",
   "execution_count": 39,
   "metadata": {},
   "outputs": [
    {
     "name": "stdout",
     "output_type": "stream",
     "text": [
      "nome: limão\n",
      "cor: verde\n"
     ]
    }
   ],
   "source": [
    "fruta(nome = \"limão\", cor = \"verde\")"
   ]
  },
  {
   "cell_type": "code",
   "execution_count": 40,
   "metadata": {},
   "outputs": [],
   "source": [
    "def show(arg1, arg2, *args, kwarg1=None, kwarg2=None, **kwargs):\n",
    "    print(arg1)\n",
    "    print(arg2)\n",
    "    print(args)\n",
    "    print(kwarg1)\n",
    "    print(kwarg2)\n",
    "    print(kwargs)"
   ]
  },
  {
   "cell_type": "code",
   "execution_count": 41,
   "metadata": {},
   "outputs": [],
   "source": [
    "data1 = [1,2,3]\n",
    "data2 = [4,5,6]\n",
    "data3 = {'a':7,'b':8,'c':9}"
   ]
  },
  {
   "cell_type": "code",
   "execution_count": 42,
   "metadata": {},
   "outputs": [
    {
     "name": "stdout",
     "output_type": "stream",
     "text": [
      "1\n",
      "2\n",
      "(3, 4, 5, 6)\n",
      "python\n",
      "cheatsheet\n",
      "{'a': 7, 'b': 8, 'c': 9}\n"
     ]
    }
   ],
   "source": [
    "show(*data1,*data2, kwarg1=\"python\",kwarg2=\"cheatsheet\",**data3)"
   ]
  },
  {
   "cell_type": "code",
   "execution_count": 43,
   "metadata": {},
   "outputs": [
    {
     "name": "stdout",
     "output_type": "stream",
     "text": [
      "1\n",
      "2\n",
      "(3, 4, 5, 6)\n",
      "None\n",
      "None\n",
      "{'a': 7, 'b': 8, 'c': 9}\n"
     ]
    }
   ],
   "source": [
    "show(*data1, *data2, **data3)"
   ]
  },
  {
   "cell_type": "markdown",
   "metadata": {},
   "source": [
    "#### Coisas para lembrar (**args**)\n",
    "\n",
    "1. As funções podem aceitar um número variável de argumentos posicionais usando `*args` na instrução def.\n",
    "2. Podemos usar os itens de uma sequência como argumentos posicionais para uma função com o operador `*`.\n",
    "3. Usar o operador `*` com um gerador pode fazer com que nosso programa fique sem memória e trave.\n",
    "4. Adicionar novos parâmetros posicionais a funções que aceitam `*args` pode introduzir bugs difíceis de encontrar."
   ]
  },
  {
   "cell_type": "markdown",
   "metadata": {},
   "source": [
    "#### Coisas para lembrar (**kwargs**)\n",
    "\n",
    "1. Os argumentos da função podem ser especificados por posição ou por palavra-chave.\n",
    "2. Palavras-chave deixam claro qual é o propósito de cada argumento quando seria confuso apenas com argumentos posicionais.\n",
    "3. Argumentos de palavra-chave com valores padrão facilitam a adição de novos comportamentos a uma função, especialmente quando a função possui chamadores existentes.\n",
    "4. Argumentos opcionais de palavra-chave devem sempre ser passados por palavra-chave em vez de por posição."
   ]
  },
  {
   "cell_type": "markdown",
   "metadata": {},
   "source": [
    "### `__main__` Ambiente de script de nível superior\n",
    "\n",
    "`__main__` é o nome do escopo no qual o código de nível superior é executado. O nome de um módulo é definido como `__main__` quando lido da entrada padrão (**standard input**), um script ou de um prompt interativo.\n",
    "\n",
    "Um módulo pode descobrir se está ou não sendo executado no escopo principal verificando seu próprio `__name__`, o que permite um idioma comum para executar código condicionalmente em um módulo quando ele é executado como um script ou com `python -m`, mas não quando é importado:"
   ]
  },
  {
   "cell_type": "code",
   "execution_count": 50,
   "metadata": {},
   "outputs": [
    {
     "name": "stdout",
     "output_type": "stream",
     "text": [
      "Hello World\n"
     ]
    }
   ],
   "source": [
    "if __name__ == \"__main__\":\n",
    "    # executa apenas se rodar como script\n",
    "    print('Hello World')"
   ]
  },
  {
   "cell_type": "markdown",
   "metadata": {},
   "source": [
    "Para um pacote, o mesmo efeito pode ser obtido incluindo um módulo **main.py**, cujo conteúdo será executado quando o módulo for executado com `-m`\n",
    "\n",
    "Por exemplo, estamos desenvolvendo um script que é projetado para ser usado como módulo, devemos fazer:"
   ]
  },
  {
   "cell_type": "code",
   "execution_count": 53,
   "metadata": {},
   "outputs": [
    {
     "data": {
      "text/plain": [
       "4"
      ]
     },
     "execution_count": 53,
     "metadata": {},
     "output_type": "execute_result"
    }
   ],
   "source": [
    "# Programa Python para executar funções diretamente\n",
    "def add(a, b):\n",
    "    return a + b\n",
    "\n",
    "add(2,2)"
   ]
  },
  {
   "cell_type": "markdown",
   "metadata": {},
   "source": [
    "Agora, se quisermos usar esse módulo importando, temos que comentar nossa chamada, senão ela será **invocada**.\n",
    "\n",
    "Em vez disso, podemos escrever dessa maneira:"
   ]
  },
  {
   "cell_type": "code",
   "execution_count": 54,
   "metadata": {},
   "outputs": [],
   "source": [
    "if __name__ == \"__main__\":\n",
    "    add(3, 5)"
   ]
  },
  {
   "cell_type": "markdown",
   "metadata": {},
   "source": [
    "#### Vantagens\n",
    "\n",
    "1. Cada módulo Python tem seu `__name__` definido e se este for `__main__`, isso implica que o módulo está sendo executado de forma autônoma pelo usuário e podemos fazer as ações apropriadas correspondentes.\n",
    "2. Se você importar este script como um módulo em outro script, o **name** será definido como o nome do script/módulo.\n",
    "3. Os arquivos Python podem atuar como módulos reutilizáveis ou como programas independentes.\n",
    "4. `__name__ == “main”:` é usado para executar algum código apenas se o arquivo foi executado diretamente, e não importado."
   ]
  },
  {
   "cell_type": "markdown",
   "metadata": {},
   "source": [
    "### Dataclasses\n",
    "\n",
    "**Dataclasses** são classes python, mas são adequadas para armazenar objetos de dados. Este módulo fornece um decorador e funções para adicionar automaticamente métodos especiais gerados, como `__init __()` e `__repr __()` para classes definidas pelo usuário.\n",
    "\n",
    "#### Características\n",
    "\n",
    "1. Eles armazenam dados e representam um determinado tipo de dados. Ex: um número. Para pessoas familiarizadas com ORMs, uma instância de modelo é um objeto de dados. Ele representa um tipo específico de entidade. Ele contém atributos que definem ou representam a entidade.\n",
    "\n",
    "2. Eles podem ser comparados a outros objetos do mesmo tipo. Ex: um número pode ser maior, menor ou igual a outro número.\n",
    "\n",
    "O Python 3.7 fornece uma **decorator dataclass** que é usado para converter uma **class** em uma **dataclass**."
   ]
  },
  {
   "cell_type": "markdown",
   "metadata": {},
   "source": [
    "Class:"
   ]
  },
  {
   "cell_type": "code",
   "execution_count": 44,
   "metadata": {},
   "outputs": [
    {
     "data": {
      "text/plain": [
       "3"
      ]
     },
     "execution_count": 44,
     "metadata": {},
     "output_type": "execute_result"
    }
   ],
   "source": [
    "class Number:\n",
    "    def __init__(self, val):\n",
    "        self.val = val\n",
    "\n",
    "n = Number(3)\n",
    "n.val"
   ]
  },
  {
   "cell_type": "markdown",
   "metadata": {},
   "source": [
    "Dataclass:"
   ]
  },
  {
   "cell_type": "code",
   "execution_count": 47,
   "metadata": {},
   "outputs": [
    {
     "data": {
      "text/plain": [
       "3"
      ]
     },
     "execution_count": 47,
     "metadata": {},
     "output_type": "execute_result"
    }
   ],
   "source": [
    "from dataclasses import dataclass\n",
    "\n",
    "@dataclass\n",
    "class Number:\n",
    "    val: int\n",
    "\n",
    "n = Number(3)\n",
    "n.val"
   ]
  },
  {
   "cell_type": "markdown",
   "metadata": {},
   "source": [
    "#### Valores Default\n",
    "\n",
    "É fácil adicionar valores padrão aos campos de sua dataclass."
   ]
  },
  {
   "cell_type": "code",
   "execution_count": 48,
   "metadata": {},
   "outputs": [
    {
     "name": "stdout",
     "output_type": "stream",
     "text": [
      "Python 0 0.0\n"
     ]
    }
   ],
   "source": [
    "@dataclass\n",
    "class Produto:\n",
    "    nome: str\n",
    "    quantidade: int = 0\n",
    "    preço: float = 0.0\n",
    "\n",
    "obj = Produto('Python')\n",
    "print(obj.nome,obj.quantidade,obj.preço)"
   ]
  },
  {
   "cell_type": "markdown",
   "metadata": {},
   "source": [
    "#### Type hints\n",
    "\n",
    "É obrigatório definir o tipo de dados na dataclass. No entanto, se você não quiser especificar o tipo de dados, use `typing.Any`."
   ]
  },
  {
   "cell_type": "code",
   "execution_count": 49,
   "metadata": {},
   "outputs": [],
   "source": [
    "from typing import Any\n",
    "\n",
    "@dataclass\n",
    "class WithoutExplicitTypes:\n",
    "    nome: Any\n",
    "    valor: Any = 42"
   ]
  },
  {
   "cell_type": "markdown",
   "metadata": {},
   "source": [
    "### Context Manager\n",
    "\n",
    "Embora os **gerenciadores de contexto** do Python sejam amplamente usados, poucos entendem o propósito por trás de seu uso. Essas instruções, comumente usadas com leitura e gravação de arquivos, ajudam a aplicação a conservar a memória do sistema e melhorar o gerenciamento de recursos, garantindo que recursos específicos sejam usados apenas para determinados processos."
   ]
  },
  {
   "cell_type": "markdown",
   "metadata": {},
   "source": [
    "#### Declaração with\n",
    "\n",
    "Um gerenciador de contexto é um objeto que é notificado quando um contexto (um bloco de código) começa e termina. Normalmente usamos um com a instrução `with`. \n",
    "\n",
    "Por exemplo, objetos de arquivo são gerenciadores de contexto. Quando um contexto termina, o objeto de arquivo é fechado automaticamente:"
   ]
  },
  {
   "cell_type": "code",
   "execution_count": 55,
   "metadata": {},
   "outputs": [
    {
     "name": "stdout",
     "output_type": "stream",
     "text": [
      "{\n",
      "  \"nome\": \"Gabriel\",\n",
      "  \"idade\": 20\n",
      "}\n"
     ]
    }
   ],
   "source": [
    "with open('arquivo.json') as f:\n",
    "    file_contents = f.read()\n",
    "    print(file_contents)\n",
    "\n",
    "# O arquivo aberto foi fechado automaticamente."
   ]
  },
  {
   "cell_type": "markdown",
   "metadata": {},
   "source": [
    "Qualquer coisa que termine a execução do bloco faz com que o método de saída do gerenciador de contexto seja chamado. \n",
    "\n",
    "Isso inclui exceções e pode ser útil quando um erro faz com que você saia prematuramente de um arquivo ou conexão aberta. \n",
    "\n",
    "Sair de um script sem fechar arquivos / conexões corretamente é uma má ideia, pois pode causar perda de dados ou outros problemas. Ao usar um gerenciador de contexto, você pode garantir que sejam sempre tomadas precauções para evitar danos ou perdas dessa forma."
   ]
  },
  {
   "cell_type": "markdown",
   "metadata": {},
   "source": [
    "#### Escrevendo o seu Próprio contextmanager usando a Sintaxe Generator\n",
    "\n",
    "Também é possível escrever um gerenciador de contexto usando a **sintaxe do gerador**, graças ao decorador `contextlib.contextmanager`:"
   ]
  },
  {
   "cell_type": "code",
   "execution_count": 58,
   "metadata": {},
   "outputs": [
    {
     "name": "stdout",
     "output_type": "stream",
     "text": [
      "Entrada\n",
      "cm = 3\n",
      "Saída\n",
      "Entrada\n",
      "cm = 10\n",
      "Saída\n"
     ]
    }
   ],
   "source": [
    "import contextlib\n",
    "\n",
    "@contextlib.contextmanager\n",
    "def context_manager(num):\n",
    "    print('Entrada')\n",
    "    yield num + 1\n",
    "    print('Saída')\n",
    "\n",
    "with context_manager(2) as cm:\n",
    "    # as seguintes instruções são executadas quando o ponto de 'yield' do gerenciador\n",
    "    # de contexto for alcançada.\n",
    "    # 'cm' terá o valor que foi 'yielded'\n",
    "    print('cm = {}'.format(cm))\n",
    "\n",
    "with context_manager(9) as cm:\n",
    "    print('cm = {}'.format(cm))"
   ]
  },
  {
   "cell_type": "markdown",
   "metadata": {},
   "source": [
    "### Ambiente Virtual\n",
    "\n",
    "O uso de um ambiente virtual é para testar o código python em ambientes encapsulados e também para evitar o preenchimento da instalação base do Python com bibliotecas que podemos usar para apenas um projeto."
   ]
  },
  {
   "cell_type": "markdown",
   "metadata": {},
   "source": [
    "#### virtualenv\n",
    "\n",
    "1. Instale o virtualenv\n",
    "\n",
    "```\n",
    "pip install virtualenv\n",
    "```"
   ]
  },
  {
   "cell_type": "markdown",
   "metadata": {},
   "source": [
    "Uso:\n",
    "\n",
    "1. Crie um Ambiente Virtual:\n",
    "\n",
    "```\n",
    "mkvirtualenv HelloWold\n",
    "```\n",
    "\n",
    "Tudo o que instalarmos agora será específico para este projeto. E à disposição dos projetos que conectamos a este ambiente.\n",
    "\n",
    "2. Estabelecer um Diretório do Projeto\n",
    "\n",
    "Para vincular nosso **virtualenv** com nosso diretório de trabalho atual, basta inserir:\n",
    "\n",
    "```\n",
    "setprojectdir .\n",
    "```\n",
    "\n",
    "3. Deactivate\n",
    "\n",
    "Para passar para outro ambiente na linha de comando, digite \"**deactivate**\" para desativar seu ambiente.\n",
    "\n",
    "```\n",
    "deactivate\n",
    "```\n",
    "\n",
    "Observe como os parênteses desaparecem.\n",
    "\n",
    "4. Workon\n",
    "\n",
    "Abra o prompt de comando e digite ‘**workon HelloWold**’ para ativar o ambiente e mover para a pasta raiz do projeto\n",
    "\n",
    "```\n",
    "workon HelloWold\n",
    "```"
   ]
  },
  {
   "cell_type": "markdown",
   "metadata": {},
   "source": [
    "#### poetry\n",
    "\n",
    "**[Poetry](https://python-poetry.org/)** é uma ferramenta para gerenciamento de dependências e empacotamento em Python. Ele permite que você declare as bibliotecas das quais seu projeto depende e as gerenciará (instalará / atualizará) para você."
   ]
  },
  {
   "cell_type": "markdown",
   "metadata": {},
   "source": [
    "1. Instalando Poetry\n",
    "\n",
    "```\n",
    "pip install --user poetry\n",
    "```\n",
    "\n",
    "2. Criando um Novo Projeto\n",
    "\n",
    "```\n",
    "poetry new my-project\n",
    "```\n",
    "\n",
    "Isso criará um diretório **my-project**:\n",
    "\n",
    "```\n",
    "my-project\n",
    "├── pyproject.toml\n",
    "├── README.rst\n",
    "├── poetry_demo\n",
    "│   └── __init__.py\n",
    "└── tests\n",
    "    ├── __init__.py\n",
    "    └── test_poetry_demo.py\n",
    "```\n",
    "\n",
    "O arquivo `pyproject.toml` orquestrará seu projeto e suas dependências:\n",
    "\n",
    "```\n",
    "[tool.poetry]\n",
    "name = \"my-project\"\n",
    "version = \"0.1.0\"\n",
    "description = \"\"\n",
    "authors = [\"your name <your@mail.com>\"]\n",
    "\n",
    "[tool.poetry.dependencies]\n",
    "python = \"*\"\n",
    "\n",
    "[tool.poetry.dev-dependencies]\n",
    "pytest = \"^3.4\"\n",
    "```\n",
    "\n",
    "3. Pacotes\n",
    "\n",
    "Para adicionar dependências ao seu projeto, você pode especificá-las na seção **tool.poetry.dependencies**:\n",
    "\n",
    "```\n",
    "[tool.poetry.dependencies]\n",
    "pendulum = \"^1.4\"\n",
    "```\n",
    "\n",
    "Além disso, em vez de modificar o arquivo `pyproject.toml` manualmente, você pode usar o comando add e ele encontrará automaticamente uma restrição de versão adequada.\n",
    "\n",
    "```\n",
    "poetry add pendulum\n",
    "```\n",
    "\n",
    "Para instalar as dependências listadas no `pyproject.toml`:\n",
    "\n",
    "```\n",
    "poetry install\n",
    "```\n",
    "\n",
    "Para remover dependências:\n",
    "\n",
    "```\n",
    "poetry remove pendulum\n",
    "```\n",
    "\n",
    "Para mais informações, visite a **[documentação](https://python-poetry.org/docs/)**"
   ]
  },
  {
   "cell_type": "markdown",
   "metadata": {},
   "source": [
    "### pipenv\n",
    "\n",
    "**[Pipenv](https://pipenv.pypa.io/en/latest/)** é uma ferramenta que visa trazer o melhor de todos os mundos de pacotes (bundler, composer, npm, cargo, yarn, etc.) para o mundo Python. "
   ]
  },
  {
   "cell_type": "markdown",
   "metadata": {},
   "source": [
    "1. Instalando pipenv\n",
    "\n",
    "```\n",
    "pip install pipenv\n",
    "```\n",
    "\n",
    "2. Entre no diretório do seu projeto e instale os pacotes para o seu projeto\n",
    "\n",
    "```\n",
    "cd projeto\n",
    "pipenv install <package>\n",
    "```\n",
    "\n",
    "O Pipenv instalará seu pacote e criará um Pipfile para você no diretório do seu projeto. O Pipfile é usado para rastrear quais dependências seu projeto precisa, caso você precise reinstalá-las.\n",
    "\n",
    "3. Desinstalando Pacotes\n",
    "\n",
    "```\n",
    "pipenv uninstall <package>\n",
    "```\n",
    "\n",
    "4. Ative o ambiente virtual associado ao seu projeto Python\n",
    "\n",
    "```\n",
    "pipenv shell\n",
    "```\n",
    "\n",
    "5. Saindo do Ambiente Virtual\n",
    "\n",
    "```\n",
    "exit\n",
    "```\n",
    "\n",
    "Obtenha mais informações na [documentação](https://docs.pipenv.org/)"
   ]
  },
  {
   "cell_type": "markdown",
   "metadata": {},
   "source": [
    "#### anaconda\n",
    "\n",
    "**[Anaconda](https://anaconda.org/)** é outra ferramenta popular para gerenciar pacotes Python."
   ]
  },
  {
   "cell_type": "markdown",
   "metadata": {},
   "source": [
    "Uso:\n",
    "\n",
    "1. Crie um Ambiente Virtual\n",
    "\n",
    "```\n",
    "conda create -n HelloWorld\n",
    "```\n",
    "\n",
    "2. Para usar o Ambiente Virtual, ative-o:\n",
    "\n",
    "```\n",
    "conda activate HelloWorld\n",
    "```\n",
    "\n",
    "Qualquer coisa instalada agora será específica para o projeto HelloWorld\n",
    "\n",
    "3. Saindo do Ambiente Virtual\n",
    "\n",
    "```\n",
    "conda deactivate\n",
    "```"
   ]
  }
 ],
 "metadata": {
  "kernelspec": {
   "display_name": "Python 3",
   "language": "python",
   "name": "python3"
  },
  "language_info": {
   "codemirror_mode": {
    "name": "ipython",
    "version": 3
   },
   "file_extension": ".py",
   "mimetype": "text/x-python",
   "name": "python",
   "nbconvert_exporter": "python",
   "pygments_lexer": "ipython3",
   "version": "3.7.7"
  }
 },
 "nbformat": 4,
 "nbformat_minor": 4
}
