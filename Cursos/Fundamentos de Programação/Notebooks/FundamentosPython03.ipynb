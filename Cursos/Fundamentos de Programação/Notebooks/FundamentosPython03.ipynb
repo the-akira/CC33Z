{
 "cells": [
  {
   "cell_type": "markdown",
   "metadata": {},
   "source": [
    "# Fundamentos Python\n",
    "\n",
    "![img](https://i.ibb.co/F6TLzYT/pythonn.png)\n",
    "\n",
    "**[Python](https://www.python.org/)** é uma linguagem de programação que nos permite trabalhar rapidamente e integrar sistemas de forma mais eficaz.\n",
    "\n",
    "Quer você seja novo em programação ou um desenvolvedor experiente, é fácil aprender e usar Python."
   ]
  },
  {
   "cell_type": "markdown",
   "metadata": {},
   "source": [
    "### Expressões Regulares\n",
    "\n",
    "1. Importe o **[módulo regex](https://docs.python.org/3/library/re.html)** com `import re`.\n",
    "2. Crie um objeto Regex com a função `re.compile()`. (Lembre-se de usar uma **raw string**.)\n",
    "3. Passe a string que você deseja pesquisar no método `search()` do objeto Regex. Isso retorna um objeto `Match`.\n",
    "4. Chame o método `group()` do objeto `Match` para retornar uma string do texto correspondido."
   ]
  },
  {
   "cell_type": "markdown",
   "metadata": {},
   "source": [
    "Todas as funções regex em Python estão no módulo **re**:"
   ]
  },
  {
   "cell_type": "code",
   "execution_count": 1,
   "metadata": {},
   "outputs": [],
   "source": [
    "import re"
   ]
  },
  {
   "cell_type": "markdown",
   "metadata": {},
   "source": [
    "#### Correspondendo Objetos Regex "
   ]
  },
  {
   "cell_type": "code",
   "execution_count": 2,
   "metadata": {},
   "outputs": [
    {
     "name": "stdout",
     "output_type": "stream",
     "text": [
      "Número de telefone encontrado: 415-555-4242\n"
     ]
    }
   ],
   "source": [
    "telefone_num_regex = re.compile(r'\\d\\d\\d-\\d\\d\\d-\\d\\d\\d\\d')\n",
    "\n",
    "t = telefone_num_regex.search('Meu número é 415-555-4242.')\n",
    "\n",
    "print('Número de telefone encontrado: {}'.format(t.group()))"
   ]
  },
  {
   "cell_type": "markdown",
   "metadata": {},
   "source": [
    "#### Agrupando com Parênteses"
   ]
  },
  {
   "cell_type": "code",
   "execution_count": 4,
   "metadata": {},
   "outputs": [],
   "source": [
    "telefone_num_regex = re.compile(r'(\\d\\d\\d)-(\\d\\d\\d-\\d\\d\\d\\d)')\n",
    "\n",
    "t = telefone_num_regex.search('Meu número é: 415-555-4242.')"
   ]
  },
  {
   "cell_type": "code",
   "execution_count": 5,
   "metadata": {},
   "outputs": [
    {
     "data": {
      "text/plain": [
       "'415'"
      ]
     },
     "execution_count": 5,
     "metadata": {},
     "output_type": "execute_result"
    }
   ],
   "source": [
    "t.group(1)"
   ]
  },
  {
   "cell_type": "code",
   "execution_count": 6,
   "metadata": {},
   "outputs": [
    {
     "data": {
      "text/plain": [
       "'555-4242'"
      ]
     },
     "execution_count": 6,
     "metadata": {},
     "output_type": "execute_result"
    }
   ],
   "source": [
    "t.group(2)"
   ]
  },
  {
   "cell_type": "code",
   "execution_count": 7,
   "metadata": {},
   "outputs": [
    {
     "data": {
      "text/plain": [
       "'415-555-4242'"
      ]
     },
     "execution_count": 7,
     "metadata": {},
     "output_type": "execute_result"
    }
   ],
   "source": [
    "t.group(0)"
   ]
  },
  {
   "cell_type": "code",
   "execution_count": 8,
   "metadata": {},
   "outputs": [
    {
     "data": {
      "text/plain": [
       "'415-555-4242'"
      ]
     },
     "execution_count": 8,
     "metadata": {},
     "output_type": "execute_result"
    }
   ],
   "source": [
    "t.group()"
   ]
  },
  {
   "cell_type": "markdown",
   "metadata": {},
   "source": [
    "Para recuperar todos os grupos de uma vez: use o método **groups()** - observe a forma plural do nome do método."
   ]
  },
  {
   "cell_type": "code",
   "execution_count": 9,
   "metadata": {},
   "outputs": [
    {
     "data": {
      "text/plain": [
       "('415', '555-4242')"
      ]
     },
     "execution_count": 9,
     "metadata": {},
     "output_type": "execute_result"
    }
   ],
   "source": [
    "t.groups()"
   ]
  },
  {
   "cell_type": "code",
   "execution_count": 10,
   "metadata": {},
   "outputs": [],
   "source": [
    "código_área, número_principal = t.groups()"
   ]
  },
  {
   "cell_type": "code",
   "execution_count": 11,
   "metadata": {},
   "outputs": [
    {
     "name": "stdout",
     "output_type": "stream",
     "text": [
      "415\n"
     ]
    }
   ],
   "source": [
    "print(código_área)"
   ]
  },
  {
   "cell_type": "code",
   "execution_count": 13,
   "metadata": {},
   "outputs": [
    {
     "name": "stdout",
     "output_type": "stream",
     "text": [
      "555-4242\n"
     ]
    }
   ],
   "source": [
    "print(número_principal)"
   ]
  },
  {
   "cell_type": "markdown",
   "metadata": {},
   "source": [
    "#### Correspondendo Múltiplos Grupos com Pipe\n",
    "\n",
    "O caracter `|` é chamado de **pipe**. \n",
    "\n",
    "Podemos usá-lo em qualquer lugar em que desejarmos corresponder a uma das muitas expressões. \n",
    "\n",
    "Por exemplo, a expressão regular `r'Batman | Superman'` corresponderá a `'Batman'` ou `'Superman'`."
   ]
  },
  {
   "cell_type": "code",
   "execution_count": 14,
   "metadata": {},
   "outputs": [],
   "source": [
    "heróis_regex = re.compile (r'Batman|Superman')\n",
    "h = heróis_regex.search('Batman e Superman são membros da liga da Justiça')"
   ]
  },
  {
   "cell_type": "code",
   "execution_count": 15,
   "metadata": {},
   "outputs": [
    {
     "data": {
      "text/plain": [
       "'Batman'"
      ]
     },
     "execution_count": 15,
     "metadata": {},
     "output_type": "execute_result"
    }
   ],
   "source": [
    "h.group()"
   ]
  },
  {
   "cell_type": "code",
   "execution_count": 18,
   "metadata": {},
   "outputs": [],
   "source": [
    "h2 = heróis_regex.search('Superman e Batman são membros da liga da Justiça')"
   ]
  },
  {
   "cell_type": "code",
   "execution_count": 19,
   "metadata": {},
   "outputs": [
    {
     "data": {
      "text/plain": [
       "'Superman'"
      ]
     },
     "execution_count": 19,
     "metadata": {},
     "output_type": "execute_result"
    }
   ],
   "source": [
    "h2.group()"
   ]
  },
  {
   "cell_type": "markdown",
   "metadata": {},
   "source": [
    "Podemos também usar o **pipe** para corresponder a um dos vários padrões como parte de nossa regex:"
   ]
  },
  {
   "cell_type": "code",
   "execution_count": 21,
   "metadata": {},
   "outputs": [],
   "source": [
    "bat_regex = re.compile(r'Bat(man|mobile|copter|bat)')\n",
    "\n",
    "b = bat_regex.search('Batmobile sofreu danos problemáticos')"
   ]
  },
  {
   "cell_type": "code",
   "execution_count": 23,
   "metadata": {},
   "outputs": [
    {
     "data": {
      "text/plain": [
       "'Batmobile'"
      ]
     },
     "execution_count": 23,
     "metadata": {},
     "output_type": "execute_result"
    }
   ],
   "source": [
    "b.group()"
   ]
  },
  {
   "cell_type": "code",
   "execution_count": 24,
   "metadata": {},
   "outputs": [
    {
     "data": {
      "text/plain": [
       "'mobile'"
      ]
     },
     "execution_count": 24,
     "metadata": {},
     "output_type": "execute_result"
    }
   ],
   "source": [
    "b.group(1)"
   ]
  },
  {
   "cell_type": "markdown",
   "metadata": {},
   "source": [
    "#### Correspondência Opcional com o Ponto de Interrogação\n",
    "\n",
    "O `?` caractere sinaliza o grupo que o precede como uma parte opcional do padrão."
   ]
  },
  {
   "cell_type": "code",
   "execution_count": 25,
   "metadata": {},
   "outputs": [
    {
     "data": {
      "text/plain": [
       "'Batman'"
      ]
     },
     "execution_count": 25,
     "metadata": {},
     "output_type": "execute_result"
    }
   ],
   "source": [
    "bat_regex = re.compile(r'Bat(wo)?man')\n",
    "b1 = bat_regex.search('As Aventuras do Batman')\n",
    "b1.group()"
   ]
  },
  {
   "cell_type": "code",
   "execution_count": 26,
   "metadata": {},
   "outputs": [
    {
     "data": {
      "text/plain": [
       "'Batwoman'"
      ]
     },
     "execution_count": 26,
     "metadata": {},
     "output_type": "execute_result"
    }
   ],
   "source": [
    "b2 = bat_regex.search('As Aventuras da Batwoman')\n",
    "b2.group()"
   ]
  },
  {
   "cell_type": "markdown",
   "metadata": {},
   "source": [
    "#### Correspondência de Zero ou Mais com a Estrela\n",
    "\n",
    "O `*` (chamado de estrela ou asterisco) significa “corresponder a zero ou mais” - o grupo que precede a estrela pode ocorrer qualquer número de vezes no texto."
   ]
  },
  {
   "cell_type": "code",
   "execution_count": 27,
   "metadata": {},
   "outputs": [
    {
     "data": {
      "text/plain": [
       "'Batman'"
      ]
     },
     "execution_count": 27,
     "metadata": {},
     "output_type": "execute_result"
    }
   ],
   "source": [
    "bat_regex = re.compile(r'Bat(wo)*man')\n",
    "\n",
    "b1 = bat_regex.search('The Adventures of Batman')\n",
    "b1.group()"
   ]
  },
  {
   "cell_type": "code",
   "execution_count": 28,
   "metadata": {},
   "outputs": [
    {
     "data": {
      "text/plain": [
       "'Batwoman'"
      ]
     },
     "execution_count": 28,
     "metadata": {},
     "output_type": "execute_result"
    }
   ],
   "source": [
    "b2 = bat_regex.search('The Adventures of Batwoman')\n",
    "b2.group()"
   ]
  },
  {
   "cell_type": "code",
   "execution_count": 29,
   "metadata": {},
   "outputs": [
    {
     "data": {
      "text/plain": [
       "'Batwowowowoman'"
      ]
     },
     "execution_count": 29,
     "metadata": {},
     "output_type": "execute_result"
    }
   ],
   "source": [
    "b3 = bat_regex.search('The Adventures of Batwowowowoman')\n",
    "b3.group()"
   ]
  },
  {
   "cell_type": "markdown",
   "metadata": {},
   "source": [
    "#### Correspondência de Um ou Mais com o Mais\n",
    "\n",
    "Enquanto `*` significa: “corresponder a zero ou mais”. \n",
    "\n",
    "O `+` (ou mais) significa “corresponder a um ou mais”. \n",
    "\n",
    "O grupo que precede um sinal de mais deve aparecer pelo menos uma vez. Não é opcional:"
   ]
  },
  {
   "cell_type": "code",
   "execution_count": 30,
   "metadata": {},
   "outputs": [
    {
     "data": {
      "text/plain": [
       "'Batwoman'"
      ]
     },
     "execution_count": 30,
     "metadata": {},
     "output_type": "execute_result"
    }
   ],
   "source": [
    "bat_regex = re.compile(r'Bat(wo)+man')\n",
    "b1 = bat_regex.search('The Adventures of Batwoman')\n",
    "b1.group()"
   ]
  },
  {
   "cell_type": "code",
   "execution_count": 31,
   "metadata": {},
   "outputs": [
    {
     "data": {
      "text/plain": [
       "'Batwowowowoman'"
      ]
     },
     "execution_count": 31,
     "metadata": {},
     "output_type": "execute_result"
    }
   ],
   "source": [
    "b2 = bat_regex.search('The Adventures of Batwowowowoman')\n",
    "b2.group()"
   ]
  },
  {
   "cell_type": "code",
   "execution_count": 33,
   "metadata": {},
   "outputs": [
    {
     "data": {
      "text/plain": [
       "True"
      ]
     },
     "execution_count": 33,
     "metadata": {},
     "output_type": "execute_result"
    }
   ],
   "source": [
    "b3 = bat_regex.search('The Adventures of Batman')\n",
    "b3 is None"
   ]
  },
  {
   "cell_type": "markdown",
   "metadata": {},
   "source": [
    "#### Correspondendo Repetições Específicas com Chaves\n",
    "\n",
    "Se você tem um grupo que deseja repetir um determinado número de vezes, siga o grupo em sua regex com um número entre chaves. \n",
    "\n",
    "Por exemplo: a regex `(Ha){3}` corresponderá à string `'HaHaHa'`, mas não corresponderá a `'HaHa'`, já que a última tem apenas duas repetições do grupo `(Ha)`.\n",
    "\n",
    "Em vez de um número, você pode especificar um intervalo escrevendo um **mínimo**, uma vírgula e um **máximo** entre as chaves. \n",
    "\n",
    "Por exemplo: o regex `(Ha){3,5}` corresponderá a `'HaHaHa'`, `'HaHaHaHa'` e `'HaHaHaHaHa'`."
   ]
  },
  {
   "cell_type": "code",
   "execution_count": 34,
   "metadata": {},
   "outputs": [
    {
     "data": {
      "text/plain": [
       "'HaHaHa'"
      ]
     },
     "execution_count": 34,
     "metadata": {},
     "output_type": "execute_result"
    }
   ],
   "source": [
    "ha_regex = re.compile(r'(Ha){3}')\n",
    "h1 = ha_regex.search('HaHaHa')\n",
    "h1.group()"
   ]
  },
  {
   "cell_type": "code",
   "execution_count": 35,
   "metadata": {},
   "outputs": [
    {
     "data": {
      "text/plain": [
       "True"
      ]
     },
     "execution_count": 35,
     "metadata": {},
     "output_type": "execute_result"
    }
   ],
   "source": [
    "h2 = ha_regex.search('Ha')\n",
    "h2 is None"
   ]
  },
  {
   "cell_type": "markdown",
   "metadata": {},
   "source": [
    "#### Correspondência Greedy e Nongreedy\n",
    "\n",
    "As expressões regulares do Python são **greedy** por padrão, o que significa que em situações ambíguas, elas corresponderão à string mais longa possível. A versão **nongreedy** das chaves, que corresponde à menor string possível, tem a chave de fechamento seguida por um ponto de interrogação."
   ]
  },
  {
   "cell_type": "code",
   "execution_count": 36,
   "metadata": {},
   "outputs": [
    {
     "data": {
      "text/plain": [
       "'HaHaHaHaHa'"
      ]
     },
     "execution_count": 36,
     "metadata": {},
     "output_type": "execute_result"
    }
   ],
   "source": [
    "greedy_ha_regex = re.compile(r'(Ha){3,5}')\n",
    "g = greedy_ha_regex.search('HaHaHaHaHa')\n",
    "g.group()"
   ]
  },
  {
   "cell_type": "code",
   "execution_count": 37,
   "metadata": {},
   "outputs": [
    {
     "data": {
      "text/plain": [
       "'HaHaHa'"
      ]
     },
     "execution_count": 37,
     "metadata": {},
     "output_type": "execute_result"
    }
   ],
   "source": [
    "nongreedy_ha_regex = re.compile(r'(Ha){3,5}?')\n",
    "ng = nongreedy_ha_regex.search('HaHaHaHaHa')\n",
    "ng.group()"
   ]
  },
  {
   "cell_type": "markdown",
   "metadata": {},
   "source": [
    "#### O Método **findall()**\n",
    "\n",
    "Além do método **search()**, os objetos Regex também possuem um método **findall()**. \n",
    "\n",
    "Enquanto **search()** retornará um **objeto Match** do primeiro texto encontrado na string pesquisada, o método **findall()** retornará as strings de cada correspondência na string pesquisada."
   ]
  },
  {
   "cell_type": "code",
   "execution_count": 38,
   "metadata": {},
   "outputs": [
    {
     "data": {
      "text/plain": [
       "['415-555-9999', '212-555-0000']"
      ]
     },
     "execution_count": 38,
     "metadata": {},
     "output_type": "execute_result"
    }
   ],
   "source": [
    "phone_num_regex = re.compile(r'\\d\\d\\d-\\d\\d\\d-\\d\\d\\d\\d')\n",
    "phone_num_regex.findall('Celular: 415-555-9999 Trabalho: 212-555-0000')"
   ]
  },
  {
   "cell_type": "markdown",
   "metadata": {},
   "source": [
    "#### Criando suas Próprias Classes de Caracteres\n",
    "\n",
    "Há momentos em que desejamos combinar um conjunto de caracteres, mas as classes de caracteres abreviados (`\\d`, `\\w`, `\\s` e assim por diante) são muito amplas. \n",
    "\n",
    "Podemos definir nossa própria classe de caracter usando colchetes. \n",
    "\n",
    "Por exemplo, a classe de caracteres `[aeiouAEIOU]` corresponderá a qualquer vogal, tanto em minúsculas quanto em maiúsculas."
   ]
  },
  {
   "cell_type": "code",
   "execution_count": 39,
   "metadata": {},
   "outputs": [
    {
     "data": {
      "text/plain": [
       "['a', 'o', 'o', 'e', 'u', 'a', 'o', 'u', 'a', 'o', 'e', 'i', 'e', 'o', 'a']"
      ]
     },
     "execution_count": 39,
     "metadata": {},
     "output_type": "execute_result"
    }
   ],
   "source": [
    "vogais_regex = re.compile(r'[aeiouAEIOU]')\n",
    "\n",
    "vogais_regex.findall('Rato Roeu a Roupa do Rei de Roma')"
   ]
  },
  {
   "cell_type": "markdown",
   "metadata": {},
   "source": [
    "Se quisermos contar cada caracter, podemos usar o método **Counter** do módulo **[collections](https://docs.python.org/3/library/collections.html)**."
   ]
  },
  {
   "cell_type": "code",
   "execution_count": 41,
   "metadata": {},
   "outputs": [
    {
     "name": "stdout",
     "output_type": "stream",
     "text": [
      "Counter({'o': 5, 'a': 4, 'e': 3, 'u': 2, 'i': 1})\n"
     ]
    }
   ],
   "source": [
    "from collections import Counter\n",
    "\n",
    "vogais = vogais_regex.findall('Rato Roeu a Roupa do Rei de Roma')\n",
    "\n",
    "contador = Counter(vogais)\n",
    "print(contador)"
   ]
  },
  {
   "cell_type": "markdown",
   "metadata": {},
   "source": [
    "Podemos também incluir intervalos de letras ou números usando um hífen. \n",
    "\n",
    "Por exemplo, a classe de caracteres `[a-zA-Z0-9]` corresponderá a todas as letras minúsculas, maiúsculas e números.\n",
    "\n",
    "Ao colocar um acento circunflexo (`^`) logo após o colchete de abertura da classe de caractere, podemos fazer uma classe de caractere de negação. \n",
    "\n",
    "Uma classe de caractere de negação corresponderá a todos os caracteres que não estão na classe de caractere. \n",
    "\n",
    "Por exemplo, digite o seguinte no shell interativo:"
   ]
  },
  {
   "cell_type": "code",
   "execution_count": 44,
   "metadata": {},
   "outputs": [
    {
     "data": {
      "text/plain": [
       "['R', 't', 'R', 'R', 'p', 'd', 'R', 'd', 'R', 'm']"
      ]
     },
     "execution_count": 44,
     "metadata": {},
     "output_type": "execute_result"
    }
   ],
   "source": [
    "consoantes_regex = re.compile(r'[^aeiouAEIOU\\s]')\n",
    "\n",
    "consoantes_regex.findall('Rato Roeu a Roupa do Rei de Roma')"
   ]
  },
  {
   "cell_type": "markdown",
   "metadata": {},
   "source": [
    "Novamente podemos fazer a contagem das consoantes com o método **Counter**:"
   ]
  },
  {
   "cell_type": "code",
   "execution_count": 45,
   "metadata": {},
   "outputs": [
    {
     "name": "stdout",
     "output_type": "stream",
     "text": [
      "Counter({'R': 5, 'd': 2, 't': 1, 'p': 1, 'm': 1})\n"
     ]
    }
   ],
   "source": [
    "consoantes = consoantes_regex.findall('Rato Roeu a Roupa do Rei de Roma')\n",
    "\n",
    "c = Counter(consoantes)\n",
    "print(c)"
   ]
  },
  {
   "cell_type": "markdown",
   "metadata": {},
   "source": [
    "#### Os Caracteres Acento Circunflexo e Sinal de Dólar\n",
    "\n",
    "- Podemos também usar o símbolo circunflexo (`^`) no início de uma regex para indicar que uma correspondência deve ocorrer no início do texto pesquisado.\n",
    "\n",
    "- Da mesma forma, podemos colocar um cifrão (`$`) no final da regex para indicar que a string deve terminar com esse padrão de regex.\n",
    "\n",
    "- E podemos usar `^` e `$` juntos para indicar que toda a string deve corresponder à regex, ou seja, não é suficiente para uma correspondência ser feita em algum subconjunto da string.\n",
    "\n",
    "- A string de expressão regular `r'^ Hello'` corresponde a strings que começam com 'Hello':"
   ]
  },
  {
   "cell_type": "code",
   "execution_count": 46,
   "metadata": {},
   "outputs": [
    {
     "data": {
      "text/plain": [
       "<re.Match object; span=(0, 5), match='Hello'>"
      ]
     },
     "execution_count": 46,
     "metadata": {},
     "output_type": "execute_result"
    }
   ],
   "source": [
    "começa_com_hello = re.compile(r'^Hello')\n",
    "começa_com_hello.search('Hello world!')"
   ]
  },
  {
   "cell_type": "code",
   "execution_count": 47,
   "metadata": {},
   "outputs": [
    {
     "data": {
      "text/plain": [
       "True"
      ]
     },
     "execution_count": 47,
     "metadata": {},
     "output_type": "execute_result"
    }
   ],
   "source": [
    "começa_com_hello.search('Ele falou Hello') is None"
   ]
  },
  {
   "cell_type": "markdown",
   "metadata": {},
   "source": [
    "A string de expressão regular `r'\\d$'` corresponde a strings que terminam com um caractere numérico de **0** a **9**:"
   ]
  },
  {
   "cell_type": "code",
   "execution_count": 48,
   "metadata": {},
   "outputs": [
    {
     "data": {
      "text/plain": [
       "<re.Match object; span=(0, 10), match='1234567890'>"
      ]
     },
     "execution_count": 48,
     "metadata": {},
     "output_type": "execute_result"
    }
   ],
   "source": [
    "string_é_número = re.compile(r'^\\d+$')\n",
    "string_é_número.search('1234567890')"
   ]
  },
  {
   "cell_type": "code",
   "execution_count": 49,
   "metadata": {},
   "outputs": [
    {
     "data": {
      "text/plain": [
       "True"
      ]
     },
     "execution_count": 49,
     "metadata": {},
     "output_type": "execute_result"
    }
   ],
   "source": [
    "string_é_número.search('12345xyz67890') is None"
   ]
  },
  {
   "cell_type": "code",
   "execution_count": 50,
   "metadata": {},
   "outputs": [
    {
     "data": {
      "text/plain": [
       "True"
      ]
     },
     "execution_count": 50,
     "metadata": {},
     "output_type": "execute_result"
    }
   ],
   "source": [
    "string_é_número.search('12 34567890') is None"
   ]
  },
  {
   "cell_type": "code",
   "execution_count": 51,
   "metadata": {},
   "outputs": [
    {
     "data": {
      "text/plain": [
       "False"
      ]
     },
     "execution_count": 51,
     "metadata": {},
     "output_type": "execute_result"
    }
   ],
   "source": [
    "string_é_número.search('1234567890') is None"
   ]
  },
  {
   "cell_type": "markdown",
   "metadata": {},
   "source": [
    "#### O Caracter Wildcard\n",
    "\n",
    "O caractere `.` (ou ponto) em uma expressão regular é chamado de curinga (**wildcard**) e corresponderá a qualquer caractere, exceto para uma nova linha:"
   ]
  },
  {
   "cell_type": "code",
   "execution_count": 53,
   "metadata": {},
   "outputs": [
    {
     "data": {
      "text/plain": [
       "['gato', 'pato', 'mato', 'jato']"
      ]
     },
     "execution_count": 53,
     "metadata": {},
     "output_type": "execute_result"
    }
   ],
   "source": [
    "at_regex = re.compile(r'.ato')\n",
    "at_regex.findall('O gato, o pato, o mato, o jato')"
   ]
  },
  {
   "cell_type": "markdown",
   "metadata": {},
   "source": [
    "#### Correspondendo Tudo com Dot-Star (.*)\n"
   ]
  },
  {
   "cell_type": "code",
   "execution_count": 56,
   "metadata": {},
   "outputs": [],
   "source": [
    "nome_regex = re.compile(r'Nome: (.*) Sobrenome: (.*)')"
   ]
  },
  {
   "cell_type": "code",
   "execution_count": 57,
   "metadata": {},
   "outputs": [
    {
     "data": {
      "text/plain": [
       "'Nome: Gabriel Sobrenome: Felippe'"
      ]
     },
     "execution_count": 57,
     "metadata": {},
     "output_type": "execute_result"
    }
   ],
   "source": [
    "nr = nome_regex.search('Nome: Gabriel Sobrenome: Felippe')\n",
    "nr.group()"
   ]
  },
  {
   "cell_type": "code",
   "execution_count": 58,
   "metadata": {},
   "outputs": [
    {
     "data": {
      "text/plain": [
       "'Gabriel'"
      ]
     },
     "execution_count": 58,
     "metadata": {},
     "output_type": "execute_result"
    }
   ],
   "source": [
    "nr.group(1)"
   ]
  },
  {
   "cell_type": "code",
   "execution_count": 60,
   "metadata": {},
   "outputs": [
    {
     "data": {
      "text/plain": [
       "'Felippe'"
      ]
     },
     "execution_count": 60,
     "metadata": {},
     "output_type": "execute_result"
    }
   ],
   "source": [
    "nr.group(2)"
   ]
  },
  {
   "cell_type": "markdown",
   "metadata": {},
   "source": [
    "O **Dot-Start** (ponto-estrela) usa o modo **greedy**: \n",
    "\n",
    "Ele sempre tentará corresponder o máximo de texto possível. \n",
    "\n",
    "Para fazer a correspondência de todo e qualquer texto de maneira **nongreedy**, use o ponto, a estrela e o ponto de interrogação `(.*?)`. \n",
    "\n",
    "O ponto de interrogação diz ao Python para corresponder de uma forma **nongreedy**:"
   ]
  },
  {
   "cell_type": "code",
   "execution_count": 61,
   "metadata": {},
   "outputs": [
    {
     "data": {
      "text/plain": [
       "'<Hora do Trabalho>'"
      ]
     },
     "execution_count": 61,
     "metadata": {},
     "output_type": "execute_result"
    }
   ],
   "source": [
    "nongreedy_regex = re.compile(r'<.*?>')\n",
    "ngr = nongreedy_regex.search('<Hora do Trabalho> Programação e Estudos.>')\n",
    "ngr.group()"
   ]
  },
  {
   "cell_type": "code",
   "execution_count": 62,
   "metadata": {},
   "outputs": [
    {
     "data": {
      "text/plain": [
       "'<Hora do Trabalho> Programação e Estudos.>'"
      ]
     },
     "execution_count": 62,
     "metadata": {},
     "output_type": "execute_result"
    }
   ],
   "source": [
    "greedy_regex = re.compile(r'<.*>')\n",
    "gr = greedy_regex.search('<Hora do Trabalho> Programação e Estudos.>')\n",
    "gr.group()"
   ]
  },
  {
   "cell_type": "markdown",
   "metadata": {},
   "source": [
    "#### Correspondendo Novas Linhas com o Caracter Dot\n",
    "\n",
    "O **Dot-Star** (ponto-estrela) corresponderá a tudo, exceto a uma nova linha. \n",
    "\n",
    "Ao passarmos `re.DOTALL` como o segundo argumento para **re.compile()**, podemos fazer com que o caractere ponto corresponda a todos os caracteres, incluindo o caractere de nova linha:"
   ]
  },
  {
   "cell_type": "code",
   "execution_count": 63,
   "metadata": {},
   "outputs": [
    {
     "data": {
      "text/plain": [
       "'Rato'"
      ]
     },
     "execution_count": 63,
     "metadata": {},
     "output_type": "execute_result"
    }
   ],
   "source": [
    "no_newline_regex = re.compile('.*')\n",
    "no_newline_regex.search('Rato\\nRoeu\\nRoupa\\nRei\\nRoma').group()"
   ]
  },
  {
   "cell_type": "code",
   "execution_count": 64,
   "metadata": {},
   "outputs": [
    {
     "data": {
      "text/plain": [
       "'Rato\\nRoeu\\nRoupa\\nRei\\nRoma'"
      ]
     },
     "execution_count": 64,
     "metadata": {},
     "output_type": "execute_result"
    }
   ],
   "source": [
    "newline_regex = re.compile('.*', re.DOTALL)\n",
    "newline_regex.search('Rato\\nRoeu\\nRoupa\\nRei\\nRoma').group()"
   ]
  },
  {
   "cell_type": "markdown",
   "metadata": {},
   "source": [
    "#### Revisão dos Símbolos de Expressões Regulares\n",
    "\n",
    "| Símbolo                   | Correspondência                                                |\n",
    "| ------------------------ | ------------------------------------------------------ |\n",
    "| `?`                      | zero ou um do grupo anterior.                          |\n",
    "| `*`                      | zero ou mais do grupo anterior.                        |\n",
    "| `+`                      | um ou mais do grupo anterior.                          |\n",
    "| `{n}`                    | exatamente **n** do grupo anterior.                    |\n",
    "| `{n,}`                   | **n** ou mais do grupo anterior.                       |\n",
    "| `{,m}`                   | **0** a **m** do grupo anterior.                       |\n",
    "| `{n,m}`                  | pelo menos **n** e no máximo **m** do **p** anteior    |\n",
    "| `{n,m}?` or `*?` or `+?` | executa uma combinação **nongreedy** do **p**.         |\n",
    "| `^spam`                  | significa que a string deve começar com spam.          |\n",
    "| `spam$`                  | significa que a string deve terminar com spam.         |\n",
    "| `.`                      | qualquer caractere, exceto caracteres de nova linha.   |\n",
    "| `\\d`, `\\w`, and `\\s`     | um dígito, palavra ou caractere de espaço, respectivamente.      |\n",
    "| `\\D`, `\\W`, and `\\S`     | qualquer coisa, exceto um dígito, palavra ou espaço, respectivamente. |\n",
    "| `[abc]`                  | qualquer caractere entre colchetes (como a, b, c).   |\n",
    "| `[^abc]`                 | qualquer caractere que não esteja entre colchetes.   |"
   ]
  },
  {
   "cell_type": "markdown",
   "metadata": {},
   "source": [
    "#### Correspondência Case-Insensitive\n",
    "\n",
    "Para tornar o regex insensível a maiúsculas e minúsculas, podemos passar `re.IGNORECASE` ou `re.I` como um segundo argumento para **re.compile()**:"
   ]
  },
  {
   "cell_type": "code",
   "execution_count": 65,
   "metadata": {},
   "outputs": [
    {
     "data": {
      "text/plain": [
       "'Robocop'"
      ]
     },
     "execution_count": 65,
     "metadata": {},
     "output_type": "execute_result"
    }
   ],
   "source": [
    "robocop = re.compile(r'robocop', re.I)\n",
    "robocop.search('Robocop is part man, part machine, all cop.').group()"
   ]
  },
  {
   "cell_type": "code",
   "execution_count": 66,
   "metadata": {},
   "outputs": [
    {
     "data": {
      "text/plain": [
       "'ROBOCOP'"
      ]
     },
     "execution_count": 66,
     "metadata": {},
     "output_type": "execute_result"
    }
   ],
   "source": [
    "robocop.search('ROBOCOP protects the innocent.').group()"
   ]
  },
  {
   "cell_type": "code",
   "execution_count": 67,
   "metadata": {},
   "outputs": [
    {
     "data": {
      "text/plain": [
       "'robocop'"
      ]
     },
     "execution_count": 67,
     "metadata": {},
     "output_type": "execute_result"
    }
   ],
   "source": [
    "robocop.search('Al, why does your programming book talk about robocop so much?').group()"
   ]
  },
  {
   "cell_type": "markdown",
   "metadata": {},
   "source": [
    "#### Substituindo Strings com o Método **sub()**\n",
    "\n",
    "O método **sub()** para objetos Regex recebe dois argumentos:\n",
    "\n",
    "1. O primeiro argumento é uma string para substituir quaisquer correspondências.\n",
    "2. A segunda é a string para a expressão regular.\n",
    "\n",
    "O método **sub()** retorna uma string com as substituições aplicadas:"
   ]
  },
  {
   "cell_type": "code",
   "execution_count": 68,
   "metadata": {},
   "outputs": [
    {
     "data": {
      "text/plain": [
       "'CENSORED gave the secret documents to CENSORED.'"
      ]
     },
     "execution_count": 68,
     "metadata": {},
     "output_type": "execute_result"
    }
   ],
   "source": [
    "names_regex = re.compile(r'Agent \\w+')\n",
    "names_regex.sub('CENSORED', 'Agent Alice gave the secret documents to Agent Bob.')"
   ]
  },
  {
   "cell_type": "markdown",
   "metadata": {},
   "source": [
    "Outro exemplo:"
   ]
  },
  {
   "cell_type": "code",
   "execution_count": 72,
   "metadata": {},
   "outputs": [
    {
     "data": {
      "text/plain": [
       "'A**** told C**** that E**** knew B**** was a double agent.'"
      ]
     },
     "execution_count": 72,
     "metadata": {},
     "output_type": "execute_result"
    }
   ],
   "source": [
    "agent_names_regex = re.compile(r'Agent (\\w)\\w*')\n",
    "agent_names_regex.sub(r'\\1****', 'Agent Alice told Agent Carol that Agent Eve knew Agent Bob was a double agent.')"
   ]
  },
  {
   "cell_type": "markdown",
   "metadata": {},
   "source": [
    "#### Gerenciando Expressões Regulares Complexas\n",
    "\n",
    "Para dizer à função **re.compile()** para ignorar espaços em branco e comentários dentro da string de expressão regular, o “modo verboso” pode ser ativado passando a variável `re.VERBOSE` como o segundo argumento para **re.compile()**.\n",
    "\n",
    "Agora, em vez de uma expressão regular difícil de ler como esta:"
   ]
  },
  {
   "cell_type": "code",
   "execution_count": 73,
   "metadata": {},
   "outputs": [],
   "source": [
    "phone_regex = re.compile(r'((\\d{3}|\\(\\d{3}\\))?(\\s|-|\\.)?\\d{3}(\\s|-|\\.)\\d{4}(\\s*(ext|x|ext.)\\s*\\d{2,5})?)')"
   ]
  },
  {
   "cell_type": "markdown",
   "metadata": {},
   "source": [
    "Podemos espalhar a expressão regular em várias linhas com comentários como este:"
   ]
  },
  {
   "cell_type": "code",
   "execution_count": 74,
   "metadata": {},
   "outputs": [],
   "source": [
    "phone_regex = re.compile(r'''(\n",
    "    (\\d{3}|\\(\\d{3}\\))?            # area code\n",
    "    (\\s|-|\\.)?                    # separator\n",
    "    \\d{3}                         # first 3 digits\n",
    "    (\\s|-|\\.)                     # separator\n",
    "    \\d{4}                         # last 4 digits\n",
    "    (\\s*(ext|x|ext.)\\s*\\d{2,5})?  # extension\n",
    "    )''', re.VERBOSE)"
   ]
  },
  {
   "cell_type": "markdown",
   "metadata": {},
   "source": [
    "### Manipulando Caminhos de Arquivos e Diretórios\n",
    "\n",
    "Existem dois módulos principais em Python que lidam com a manipulação de caminhos. \n",
    "\n",
    "Um é o módulo `os.path` e o outro é o módulo `pathlib`. \n",
    "\n",
    "O módulo `pathlib` foi adicionado ao Python 3.4, oferecendo uma maneira orientada a objetos de lidar com os caminhos do sistema de arquivos."
   ]
  },
  {
   "cell_type": "markdown",
   "metadata": {},
   "source": [
    "#### Barra Invertida no Windows e Barra no OS X e Linux\n",
    "\n",
    "No Windows, os caminhos são gravados com barras invertidas (`\\`) como separador entre os nomes das pastas. \n",
    "\n",
    "Em sistemas operacionais baseados em Unix, como macOS, Linux e BSDs, a barra (`/`) é usada como separador de caminho. \n",
    "\n",
    "Unir caminhos pode ser uma dor de cabeça se seu código precisar funcionar em plataformas diferentes.\n",
    "\n",
    "Felizmente, Python oferece maneiras fáceis de lidar com isso. Mostraremos como lidar com isso com `os.path.join` e `pathlib.Path.joinpath`"
   ]
  },
  {
   "cell_type": "markdown",
   "metadata": {},
   "source": [
    "Usando `os.path.join` no Unix:"
   ]
  },
  {
   "cell_type": "code",
   "execution_count": 77,
   "metadata": {},
   "outputs": [
    {
     "data": {
      "text/plain": [
       "'/usr/bin/spam'"
      ]
     },
     "execution_count": 77,
     "metadata": {},
     "output_type": "execute_result"
    }
   ],
   "source": [
    "import os \n",
    "os.path.join('usr', 'bin', 'spam')"
   ]
  },
  {
   "cell_type": "markdown",
   "metadata": {},
   "source": [
    "Usando `pathlib` no Unix:"
   ]
  },
  {
   "cell_type": "code",
   "execution_count": 78,
   "metadata": {},
   "outputs": [
    {
     "name": "stdout",
     "output_type": "stream",
     "text": [
      "usr/bin/spam\n"
     ]
    }
   ],
   "source": [
    "from pathlib import Path\n",
    "print(Path('usr').joinpath('bin').joinpath('spam'))"
   ]
  },
  {
   "cell_type": "markdown",
   "metadata": {},
   "source": [
    "`pathlib` também fornece um atalho para **joinpath** usando o operador `/`:"
   ]
  },
  {
   "cell_type": "code",
   "execution_count": 79,
   "metadata": {},
   "outputs": [
    {
     "name": "stdout",
     "output_type": "stream",
     "text": [
      "usr/bin/spam\n"
     ]
    }
   ],
   "source": [
    "print(Path('usr') / 'bin' / 'spam')"
   ]
  },
  {
   "cell_type": "markdown",
   "metadata": {},
   "source": [
    "Observe que o separador de caminho é diferente entre o Windows e o sistema operacional baseado em Unix, é por isso que devemos optar em usar um dos métodos acima em vez de adicionar strings para juntar caminhos.\n",
    "\n",
    "Juntar caminhos é útil se você precisar criar caminhos de arquivo diferentes no mesmo diretório.\n",
    "\n",
    "Usando `os.path.join` no Unix:"
   ]
  },
  {
   "cell_type": "code",
   "execution_count": 148,
   "metadata": {},
   "outputs": [
    {
     "name": "stdout",
     "output_type": "stream",
     "text": [
      "/home/gabriel/accounts.txt\n",
      "/home/gabriel/details.csv\n",
      "/home/gabriel/invite.docx\n"
     ]
    }
   ],
   "source": [
    "my_files = ['accounts.txt', 'details.csv', 'invite.docx']\n",
    "\n",
    "for filename in my_files:\n",
    "    print(os.path.join('/home/gabriel', filename))"
   ]
  },
  {
   "cell_type": "markdown",
   "metadata": {},
   "source": [
    "Usando `pathlib` no Unix:"
   ]
  },
  {
   "cell_type": "code",
   "execution_count": 81,
   "metadata": {},
   "outputs": [
    {
     "name": "stdout",
     "output_type": "stream",
     "text": [
      "/home/akira/accounts.txt\n",
      "/home/akira/details.csv\n",
      "/home/akira/invite.docx\n"
     ]
    }
   ],
   "source": [
    "my_files = ['accounts.txt', 'details.csv', 'invite.docx']\n",
    "home = Path.home()\n",
    "for filename in my_files:\n",
    "    print(home / filename)"
   ]
  },
  {
   "cell_type": "markdown",
   "metadata": {},
   "source": [
    "#### O Diretório de Trabalho Atual\n",
    "\n",
    "Usando `os` no Unix:"
   ]
  },
  {
   "cell_type": "code",
   "execution_count": 82,
   "metadata": {},
   "outputs": [
    {
     "data": {
      "text/plain": [
       "'/home/akira/Documentos/Cursos/Fundamentos de Programação'"
      ]
     },
     "execution_count": 82,
     "metadata": {},
     "output_type": "execute_result"
    }
   ],
   "source": [
    "os.getcwd()"
   ]
  },
  {
   "cell_type": "code",
   "execution_count": 149,
   "metadata": {},
   "outputs": [],
   "source": [
    "os.chdir('/home/akira/Downloads')"
   ]
  },
  {
   "cell_type": "markdown",
   "metadata": {},
   "source": [
    "Usando `pathlib` no Unix:"
   ]
  },
  {
   "cell_type": "code",
   "execution_count": 83,
   "metadata": {},
   "outputs": [
    {
     "name": "stdout",
     "output_type": "stream",
     "text": [
      "/home/akira/Documentos/Cursos/Fundamentos de Programação\n"
     ]
    }
   ],
   "source": [
    "from os import chdir\n",
    "\n",
    "print(Path.cwd())"
   ]
  },
  {
   "cell_type": "code",
   "execution_count": 84,
   "metadata": {},
   "outputs": [],
   "source": [
    "chdir('/usr/lib/python3.6')"
   ]
  },
  {
   "cell_type": "code",
   "execution_count": 85,
   "metadata": {},
   "outputs": [
    {
     "name": "stdout",
     "output_type": "stream",
     "text": [
      "/usr/lib/python3.6\n"
     ]
    }
   ],
   "source": [
    "print(Path.cwd())"
   ]
  },
  {
   "cell_type": "code",
   "execution_count": 150,
   "metadata": {},
   "outputs": [],
   "source": [
    "chdir('/home/akira/Documentos/Cursos/Fundamentos de Programação')"
   ]
  },
  {
   "cell_type": "code",
   "execution_count": 151,
   "metadata": {},
   "outputs": [
    {
     "name": "stdout",
     "output_type": "stream",
     "text": [
      "/home/akira/Documentos/Cursos/Fundamentos de Programação\n"
     ]
    }
   ],
   "source": [
    "print(Path.cwd())"
   ]
  },
  {
   "cell_type": "markdown",
   "metadata": {},
   "source": [
    "#### Criando Novos Diretórios\n",
    "\n",
    "Usando `os` no Unix:"
   ]
  },
  {
   "cell_type": "code",
   "execution_count": 152,
   "metadata": {},
   "outputs": [],
   "source": [
    "os.makedirs(f'{Path.cwd()}/Teste/Teste/Teste')"
   ]
  },
  {
   "cell_type": "markdown",
   "metadata": {},
   "source": [
    "Usando `pathlib` no Unix:"
   ]
  },
  {
   "cell_type": "code",
   "execution_count": 88,
   "metadata": {},
   "outputs": [
    {
     "name": "stdout",
     "output_type": "stream",
     "text": [
      "/home/akira/Documentos/Cursos/Fundamentos de Programação\n"
     ]
    }
   ],
   "source": [
    "cwd = Path.cwd()\n",
    "print(cwd)"
   ]
  },
  {
   "cell_type": "code",
   "execution_count": 89,
   "metadata": {},
   "outputs": [],
   "source": [
    "(cwd / 'Teste' / 'Teste' / 'Teste').mkdir(parents=True)"
   ]
  },
  {
   "cell_type": "markdown",
   "metadata": {},
   "source": [
    "#### Caminhos Relativos vs Caminhos Absolutos\n",
    "\n",
    "Existem duas maneiras de especificar um caminho de arquivo:\n",
    "\n",
    "1. Um caminho absoluto, que sempre começa com a pasta raiz\n",
    "2. Um caminho relativo, que é relativo ao diretório de trabalho atual do programa\n",
    "\n",
    "Existem também os diretórios (pastas) ponto (`.`) E ponto-ponto (`..`).\n",
    "\n",
    "Essas não são pastas reais, mas nomes especiais que podem ser usados em um caminho. \n",
    "\n",
    "- Um único ponto (“**ponto**”) para o nome de uma pasta é a abreviação de “este diretório”. \n",
    "- Dois pontos (“**ponto-ponto**”) significa “a pasta pai”."
   ]
  },
  {
   "cell_type": "markdown",
   "metadata": {},
   "source": [
    "#### Lidando com Caminhos Absolutos e Relativos\n",
    "\n",
    "Para ver se um caminho é um caminho absoluto."
   ]
  },
  {
   "cell_type": "markdown",
   "metadata": {},
   "source": [
    "Usando `os.path` no Unix:"
   ]
  },
  {
   "cell_type": "code",
   "execution_count": 90,
   "metadata": {},
   "outputs": [
    {
     "data": {
      "text/plain": [
       "True"
      ]
     },
     "execution_count": 90,
     "metadata": {},
     "output_type": "execute_result"
    }
   ],
   "source": [
    "os.path.isabs('/')"
   ]
  },
  {
   "cell_type": "code",
   "execution_count": 91,
   "metadata": {},
   "outputs": [
    {
     "data": {
      "text/plain": [
       "False"
      ]
     },
     "execution_count": 91,
     "metadata": {},
     "output_type": "execute_result"
    }
   ],
   "source": [
    "os.path.isabs('..')"
   ]
  },
  {
   "cell_type": "markdown",
   "metadata": {},
   "source": [
    "Usando `pathlib` no Unix:"
   ]
  },
  {
   "cell_type": "code",
   "execution_count": 92,
   "metadata": {},
   "outputs": [
    {
     "data": {
      "text/plain": [
       "True"
      ]
     },
     "execution_count": 92,
     "metadata": {},
     "output_type": "execute_result"
    }
   ],
   "source": [
    "Path('/').is_absolute()"
   ]
  },
  {
   "cell_type": "code",
   "execution_count": 93,
   "metadata": {},
   "outputs": [
    {
     "data": {
      "text/plain": [
       "False"
      ]
     },
     "execution_count": 93,
     "metadata": {},
     "output_type": "execute_result"
    }
   ],
   "source": [
    "Path('..').is_absolute()"
   ]
  },
  {
   "cell_type": "markdown",
   "metadata": {},
   "source": [
    "Você pode extrair um caminho absoluto com `os.path` e `pathlib`."
   ]
  },
  {
   "cell_type": "markdown",
   "metadata": {},
   "source": [
    "Usando `os.path` no Unix:"
   ]
  },
  {
   "cell_type": "code",
   "execution_count": 96,
   "metadata": {},
   "outputs": [
    {
     "name": "stdout",
     "output_type": "stream",
     "text": [
      "/home/akira/Documentos/Cursos/Fundamentos de Programação\n"
     ]
    },
    {
     "data": {
      "text/plain": [
       "'/home/akira/Documentos/Cursos'"
      ]
     },
     "execution_count": 96,
     "metadata": {},
     "output_type": "execute_result"
    }
   ],
   "source": [
    "print(os.getcwd())\n",
    "os.path.abspath('..')"
   ]
  },
  {
   "cell_type": "markdown",
   "metadata": {},
   "source": [
    "Usando `pathlib` no Unix:"
   ]
  },
  {
   "cell_type": "code",
   "execution_count": 97,
   "metadata": {},
   "outputs": [
    {
     "name": "stdout",
     "output_type": "stream",
     "text": [
      "/home/akira/Documentos/Cursos/Fundamentos de Programação\n",
      "/home/akira/Documentos/Cursos\n"
     ]
    }
   ],
   "source": [
    "print(Path.cwd())\n",
    "print(Path('..').resolve())"
   ]
  },
  {
   "cell_type": "markdown",
   "metadata": {},
   "source": [
    "Você pode obter um caminho relativo de um caminho inicial para outro caminho."
   ]
  },
  {
   "cell_type": "markdown",
   "metadata": {},
   "source": [
    "Usando `os.path` no Unix:"
   ]
  },
  {
   "cell_type": "code",
   "execution_count": 98,
   "metadata": {},
   "outputs": [
    {
     "data": {
      "text/plain": [
       "'etc/passwd'"
      ]
     },
     "execution_count": 98,
     "metadata": {},
     "output_type": "execute_result"
    }
   ],
   "source": [
    "os.path.relpath('/etc/passwd', '/')"
   ]
  },
  {
   "cell_type": "markdown",
   "metadata": {},
   "source": [
    "Usando `pathlib` no Unix:"
   ]
  },
  {
   "cell_type": "code",
   "execution_count": 99,
   "metadata": {},
   "outputs": [
    {
     "name": "stdout",
     "output_type": "stream",
     "text": [
      "etc/passwd\n"
     ]
    }
   ],
   "source": [
    "print(Path('/etc/passwd').relative_to('/'))"
   ]
  },
  {
   "cell_type": "markdown",
   "metadata": {},
   "source": [
    "#### Checando a Validade de um Caminho\n",
    "\n",
    "Verificando se um **arquivo** / **diretório** existe:"
   ]
  },
  {
   "cell_type": "markdown",
   "metadata": {},
   "source": [
    "Usando `os.path` no Unix:"
   ]
  },
  {
   "cell_type": "code",
   "execution_count": 100,
   "metadata": {},
   "outputs": [
    {
     "data": {
      "text/plain": [
       "True"
      ]
     },
     "execution_count": 100,
     "metadata": {},
     "output_type": "execute_result"
    }
   ],
   "source": [
    "os.path.exists('.')"
   ]
  },
  {
   "cell_type": "code",
   "execution_count": 101,
   "metadata": {},
   "outputs": [
    {
     "data": {
      "text/plain": [
       "False"
      ]
     },
     "execution_count": 101,
     "metadata": {},
     "output_type": "execute_result"
    }
   ],
   "source": [
    "os.path.exists('setup.py')"
   ]
  },
  {
   "cell_type": "code",
   "execution_count": 102,
   "metadata": {},
   "outputs": [
    {
     "data": {
      "text/plain": [
       "True"
      ]
     },
     "execution_count": 102,
     "metadata": {},
     "output_type": "execute_result"
    }
   ],
   "source": [
    "os.path.exists('/etc')"
   ]
  },
  {
   "cell_type": "code",
   "execution_count": 103,
   "metadata": {},
   "outputs": [
    {
     "data": {
      "text/plain": [
       "False"
      ]
     },
     "execution_count": 103,
     "metadata": {},
     "output_type": "execute_result"
    }
   ],
   "source": [
    "os.path.exists('arquivo')"
   ]
  },
  {
   "cell_type": "markdown",
   "metadata": {},
   "source": [
    "Usando `pathlib` no Unix:"
   ]
  },
  {
   "cell_type": "code",
   "execution_count": 104,
   "metadata": {},
   "outputs": [
    {
     "data": {
      "text/plain": [
       "True"
      ]
     },
     "execution_count": 104,
     "metadata": {},
     "output_type": "execute_result"
    }
   ],
   "source": [
    "Path('.').exists()"
   ]
  },
  {
   "cell_type": "code",
   "execution_count": 110,
   "metadata": {},
   "outputs": [
    {
     "data": {
      "text/plain": [
       "True"
      ]
     },
     "execution_count": 110,
     "metadata": {},
     "output_type": "execute_result"
    }
   ],
   "source": [
    "Path('FundamentosPython01.ipynb').exists()"
   ]
  },
  {
   "cell_type": "code",
   "execution_count": 106,
   "metadata": {},
   "outputs": [
    {
     "data": {
      "text/plain": [
       "True"
      ]
     },
     "execution_count": 106,
     "metadata": {},
     "output_type": "execute_result"
    }
   ],
   "source": [
    "Path('/etc').exists()"
   ]
  },
  {
   "cell_type": "code",
   "execution_count": 113,
   "metadata": {},
   "outputs": [
    {
     "data": {
      "text/plain": [
       "False"
      ]
     },
     "execution_count": 113,
     "metadata": {},
     "output_type": "execute_result"
    }
   ],
   "source": [
    "Path('arquivo_inexistente').exists()"
   ]
  },
  {
   "cell_type": "markdown",
   "metadata": {},
   "source": [
    "#### Checando se um Caminho é um Arquivo"
   ]
  },
  {
   "cell_type": "markdown",
   "metadata": {},
   "source": [
    "Usando `os.path` no Unix:"
   ]
  },
  {
   "cell_type": "code",
   "execution_count": 109,
   "metadata": {},
   "outputs": [
    {
     "data": {
      "text/plain": [
       "True"
      ]
     },
     "execution_count": 109,
     "metadata": {},
     "output_type": "execute_result"
    }
   ],
   "source": [
    "os.path.isfile('FundamentosPython01.ipynb')"
   ]
  },
  {
   "cell_type": "code",
   "execution_count": 111,
   "metadata": {},
   "outputs": [
    {
     "data": {
      "text/plain": [
       "False"
      ]
     },
     "execution_count": 111,
     "metadata": {},
     "output_type": "execute_result"
    }
   ],
   "source": [
    "os.path.isfile('/home')"
   ]
  },
  {
   "cell_type": "code",
   "execution_count": 114,
   "metadata": {},
   "outputs": [
    {
     "data": {
      "text/plain": [
       "False"
      ]
     },
     "execution_count": 114,
     "metadata": {},
     "output_type": "execute_result"
    }
   ],
   "source": [
    "os.path.isfile('arquivo_inexistente')"
   ]
  },
  {
   "cell_type": "markdown",
   "metadata": {},
   "source": [
    "Usando `pathlib` no Unix:"
   ]
  },
  {
   "cell_type": "code",
   "execution_count": 115,
   "metadata": {},
   "outputs": [
    {
     "data": {
      "text/plain": [
       "True"
      ]
     },
     "execution_count": 115,
     "metadata": {},
     "output_type": "execute_result"
    }
   ],
   "source": [
    "Path('FundamentosPython01.ipynb').is_file()"
   ]
  },
  {
   "cell_type": "code",
   "execution_count": 116,
   "metadata": {},
   "outputs": [
    {
     "data": {
      "text/plain": [
       "False"
      ]
     },
     "execution_count": 116,
     "metadata": {},
     "output_type": "execute_result"
    }
   ],
   "source": [
    "Path('/home').is_file()"
   ]
  },
  {
   "cell_type": "code",
   "execution_count": 117,
   "metadata": {},
   "outputs": [
    {
     "data": {
      "text/plain": [
       "False"
      ]
     },
     "execution_count": 117,
     "metadata": {},
     "output_type": "execute_result"
    }
   ],
   "source": [
    "Path('arquivo_inexistente').is_file()"
   ]
  },
  {
   "cell_type": "markdown",
   "metadata": {},
   "source": [
    "#### Checando se um Caminho é um Diretório"
   ]
  },
  {
   "cell_type": "markdown",
   "metadata": {},
   "source": [
    "Usando `os.path` no Unix:"
   ]
  },
  {
   "cell_type": "code",
   "execution_count": 118,
   "metadata": {},
   "outputs": [
    {
     "data": {
      "text/plain": [
       "True"
      ]
     },
     "execution_count": 118,
     "metadata": {},
     "output_type": "execute_result"
    }
   ],
   "source": [
    "os.path.isdir('/')"
   ]
  },
  {
   "cell_type": "code",
   "execution_count": 119,
   "metadata": {},
   "outputs": [
    {
     "data": {
      "text/plain": [
       "False"
      ]
     },
     "execution_count": 119,
     "metadata": {},
     "output_type": "execute_result"
    }
   ],
   "source": [
    "os.path.isdir('FundamentosPython01.ipynb')"
   ]
  },
  {
   "cell_type": "code",
   "execution_count": 120,
   "metadata": {},
   "outputs": [
    {
     "data": {
      "text/plain": [
       "False"
      ]
     },
     "execution_count": 120,
     "metadata": {},
     "output_type": "execute_result"
    }
   ],
   "source": [
    "os.path.isdir('/spam')"
   ]
  },
  {
   "cell_type": "markdown",
   "metadata": {},
   "source": [
    "Usando `pathlib` no Unix:"
   ]
  },
  {
   "cell_type": "code",
   "execution_count": 121,
   "metadata": {},
   "outputs": [
    {
     "data": {
      "text/plain": [
       "True"
      ]
     },
     "execution_count": 121,
     "metadata": {},
     "output_type": "execute_result"
    }
   ],
   "source": [
    "Path('/').is_dir()"
   ]
  },
  {
   "cell_type": "code",
   "execution_count": 122,
   "metadata": {},
   "outputs": [
    {
     "data": {
      "text/plain": [
       "False"
      ]
     },
     "execution_count": 122,
     "metadata": {},
     "output_type": "execute_result"
    }
   ],
   "source": [
    "Path('FundamentosPython01.ipynb').is_dir()"
   ]
  },
  {
   "cell_type": "code",
   "execution_count": 123,
   "metadata": {},
   "outputs": [
    {
     "data": {
      "text/plain": [
       "False"
      ]
     },
     "execution_count": 123,
     "metadata": {},
     "output_type": "execute_result"
    }
   ],
   "source": [
    "Path('/spam').is_dir()"
   ]
  },
  {
   "cell_type": "markdown",
   "metadata": {},
   "source": [
    "#### Buscando Tamanho de Arquivos e Conteúdo de Diretórios\n",
    "\n",
    "Obtendo o tamanho de um arquivo em **bytes**."
   ]
  },
  {
   "cell_type": "markdown",
   "metadata": {},
   "source": [
    "Usando `os.path` no Unix:"
   ]
  },
  {
   "cell_type": "code",
   "execution_count": 124,
   "metadata": {},
   "outputs": [
    {
     "data": {
      "text/plain": [
       "80994"
      ]
     },
     "execution_count": 124,
     "metadata": {},
     "output_type": "execute_result"
    }
   ],
   "source": [
    "os.path.getsize('/home/akira/Documentos/Cursos/Fundamentos de Programação/FundamentosPython01.ipynb')"
   ]
  },
  {
   "cell_type": "markdown",
   "metadata": {},
   "source": [
    "Usando `pathlib` no Unix:"
   ]
  },
  {
   "cell_type": "code",
   "execution_count": 128,
   "metadata": {},
   "outputs": [
    {
     "name": "stdout",
     "output_type": "stream",
     "text": [
      "os.stat_result(st_mode=33204, st_ino=30413514, st_dev=2049, st_nlink=1, st_uid=1000, st_gid=1000, st_size=80994, st_atime=1617083410, st_mtime=1617083409, st_ctime=1617083409)\n",
      "Tamanho do Arquivo = 80994\n"
     ]
    }
   ],
   "source": [
    "stat = Path('/home/akira/Documentos/Cursos/Fundamentos de Programação/FundamentosPython01.ipynb').stat()\n",
    "print(stat)\n",
    "print(f'Tamanho do Arquivo = {stat.st_size}')"
   ]
  },
  {
   "cell_type": "markdown",
   "metadata": {},
   "source": [
    "Listando o conteúdo do diretório usando `os.listdir` no Unix:"
   ]
  },
  {
   "cell_type": "code",
   "execution_count": 129,
   "metadata": {},
   "outputs": [
    {
     "data": {
      "text/plain": [
       "['FundamentosProgramaçãoPython.pdf',\n",
       " 'FundamentosPython03.ipynb',\n",
       " 'FundamentosPython02.ipynb',\n",
       " 'Scripts',\n",
       " 'FundamentosPython01.ipynb',\n",
       " '.ipynb_checkpoints',\n",
       " 'Python.odp']"
      ]
     },
     "execution_count": 129,
     "metadata": {},
     "output_type": "execute_result"
    }
   ],
   "source": [
    "cwd = os.getcwd()\n",
    "os.listdir(cwd)"
   ]
  },
  {
   "cell_type": "markdown",
   "metadata": {},
   "source": [
    "Listando o conteúdo do diretório usando `pathlib` no Unix:"
   ]
  },
  {
   "cell_type": "code",
   "execution_count": 131,
   "metadata": {},
   "outputs": [
    {
     "name": "stdout",
     "output_type": "stream",
     "text": [
      "/home/akira/Documentos/Cursos/Fundamentos de Programação/FundamentosProgramaçãoPython.pdf\n",
      "/home/akira/Documentos/Cursos/Fundamentos de Programação/FundamentosPython03.ipynb\n",
      "/home/akira/Documentos/Cursos/Fundamentos de Programação/FundamentosPython02.ipynb\n",
      "/home/akira/Documentos/Cursos/Fundamentos de Programação/Scripts\n",
      "/home/akira/Documentos/Cursos/Fundamentos de Programação/FundamentosPython01.ipynb\n",
      "/home/akira/Documentos/Cursos/Fundamentos de Programação/.ipynb_checkpoints\n",
      "/home/akira/Documentos/Cursos/Fundamentos de Programação/Python.odp\n"
     ]
    }
   ],
   "source": [
    "for f in Path(cwd).iterdir():\n",
    "    print(f)"
   ]
  },
  {
   "cell_type": "markdown",
   "metadata": {},
   "source": [
    "Para encontrar o tamanho total de todos os arquivos neste diretório:\n",
    "\n",
    "**AVISO**: Os próprios diretórios também têm um tamanho! Portanto, você pode querer verificar se um caminho é um arquivo ou diretório usando os métodos nos métodos discutidos na seção acima!\n",
    "\n",
    "Usando `os.path.getsize()` e `os.listdir()` juntos no Unix:"
   ]
  },
  {
   "cell_type": "code",
   "execution_count": 132,
   "metadata": {},
   "outputs": [],
   "source": [
    "total_size = 0\n",
    "\n",
    "for filename in os.listdir(cwd):\n",
    "    total_size = total_size + os.path.getsize(os.path.join(cwd, filename))"
   ]
  },
  {
   "cell_type": "code",
   "execution_count": 133,
   "metadata": {},
   "outputs": [
    {
     "name": "stdout",
     "output_type": "stream",
     "text": [
      "13069178\n"
     ]
    }
   ],
   "source": [
    "print(total_size)"
   ]
  },
  {
   "cell_type": "markdown",
   "metadata": {},
   "source": [
    "Usando `pathlib` no Unix:"
   ]
  },
  {
   "cell_type": "code",
   "execution_count": 134,
   "metadata": {},
   "outputs": [],
   "source": [
    "total_size = 0\n",
    "\n",
    "for sub_path in Path(cwd).iterdir():\n",
    "    total_size += sub_path.stat().st_size"
   ]
  },
  {
   "cell_type": "code",
   "execution_count": 135,
   "metadata": {},
   "outputs": [
    {
     "name": "stdout",
     "output_type": "stream",
     "text": [
      "13069178\n"
     ]
    }
   ],
   "source": [
    "print(total_size)"
   ]
  },
  {
   "cell_type": "markdown",
   "metadata": {},
   "source": [
    "#### Copiando Arquivos e Diretórios\n",
    "\n",
    "O módulo `shutil` fornece funções para copiar arquivos, bem como pastas inteiras."
   ]
  },
  {
   "cell_type": "code",
   "execution_count": 136,
   "metadata": {},
   "outputs": [],
   "source": [
    "import shutil"
   ]
  },
  {
   "cell_type": "code",
   "execution_count": 139,
   "metadata": {},
   "outputs": [
    {
     "data": {
      "text/plain": [
       "'hal2.png'"
      ]
     },
     "execution_count": 139,
     "metadata": {},
     "output_type": "execute_result"
    }
   ],
   "source": [
    "os.chdir('/home/akira/Downloads')\n",
    "shutil.copy('hal.png', 'hal2.png')"
   ]
  },
  {
   "cell_type": "code",
   "execution_count": 140,
   "metadata": {},
   "outputs": [
    {
     "data": {
      "text/plain": [
       "'bitcoin.csv'"
      ]
     },
     "execution_count": 140,
     "metadata": {},
     "output_type": "execute_result"
    }
   ],
   "source": [
    "shutil.copy('market-price', 'bitcoin.csv')"
   ]
  },
  {
   "cell_type": "markdown",
   "metadata": {},
   "source": [
    "Enquanto `shutil.copy()` copia um único arquivo, `shutil.copytree()` copia uma pasta inteira e todas as pastas e arquivos contidos nela:"
   ]
  },
  {
   "cell_type": "code",
   "execution_count": 141,
   "metadata": {},
   "outputs": [
    {
     "data": {
      "text/plain": [
       "'BigO_backup'"
      ]
     },
     "execution_count": 141,
     "metadata": {},
     "output_type": "execute_result"
    }
   ],
   "source": [
    "os.chdir('/home/akira/Downloads')\n",
    "shutil.copytree('BigO', 'BigO_backup')"
   ]
  },
  {
   "cell_type": "markdown",
   "metadata": {},
   "source": [
    "#### Renomeando Arquivos "
   ]
  },
  {
   "cell_type": "code",
   "execution_count": 146,
   "metadata": {},
   "outputs": [
    {
     "data": {
      "text/plain": [
       "'btc.csv'"
      ]
     },
     "execution_count": 146,
     "metadata": {},
     "output_type": "execute_result"
    }
   ],
   "source": [
    "shutil.move('market-price','btc.csv')"
   ]
  },
  {
   "cell_type": "markdown",
   "metadata": {},
   "source": [
    "#### Deletando Arquivos e Diretórios Permanentemente\n",
    "\n",
    "Chamar `os.unlink(path)` ou `Path.unlink()` excluirá o arquivo no caminho.\n",
    "\n",
    "Chamar `os.rmdir(caminho)` ou `Path.rmdir()` excluirá a pasta no caminho. Esta pasta deve estar vazia de quaisquer arquivos ou pastas.\n",
    "\n",
    "Chamar `shutil.rmtree(path)` removerá a pasta em path e todos os arquivos e pastas que ela contém também serão excluídos."
   ]
  },
  {
   "cell_type": "markdown",
   "metadata": {},
   "source": [
    "#### Caminhando por uma Árvore de Diretórios"
   ]
  },
  {
   "cell_type": "code",
   "execution_count": 147,
   "metadata": {},
   "outputs": [
    {
     "name": "stdout",
     "output_type": "stream",
     "text": [
      "O diretório atual é: /home/akira/Documentos/Cursos/Fundamentos de Programação\n",
      "Subdiretório de /home/akira/Documentos/Cursos/Fundamentos de Programação: Scripts\n",
      "Subdiretório de /home/akira/Documentos/Cursos/Fundamentos de Programação: .ipynb_checkpoints\n",
      "Arquivo Dentro /home/akira/Documentos/Cursos/Fundamentos de Programação: FundamentosProgramaçãoPython.pdf\n",
      "Arquivo Dentro /home/akira/Documentos/Cursos/Fundamentos de Programação: FundamentosPython03.ipynb\n",
      "Arquivo Dentro /home/akira/Documentos/Cursos/Fundamentos de Programação: FundamentosPython02.ipynb\n",
      "Arquivo Dentro /home/akira/Documentos/Cursos/Fundamentos de Programação: FundamentosPython01.ipynb\n",
      "Arquivo Dentro /home/akira/Documentos/Cursos/Fundamentos de Programação: Python.odp\n",
      "\n",
      "O diretório atual é: /home/akira/Documentos/Cursos/Fundamentos de Programação/Scripts\n",
      "Arquivo Dentro /home/akira/Documentos/Cursos/Fundamentos de Programação/Scripts: for.py\n",
      "Arquivo Dentro /home/akira/Documentos/Cursos/Fundamentos de Programação/Scripts: soma.py\n",
      "Arquivo Dentro /home/akira/Documentos/Cursos/Fundamentos de Programação/Scripts: fibonacci.py\n",
      "Arquivo Dentro /home/akira/Documentos/Cursos/Fundamentos de Programação/Scripts: variáveis.py\n",
      "Arquivo Dentro /home/akira/Documentos/Cursos/Fundamentos de Programação/Scripts: hello_world.py\n",
      "Arquivo Dentro /home/akira/Documentos/Cursos/Fundamentos de Programação/Scripts: operações.py\n",
      "Arquivo Dentro /home/akira/Documentos/Cursos/Fundamentos de Programação/Scripts: dicionario.py\n",
      "Arquivo Dentro /home/akira/Documentos/Cursos/Fundamentos de Programação/Scripts: jsonpy.py\n",
      "Arquivo Dentro /home/akira/Documentos/Cursos/Fundamentos de Programação/Scripts: anime.py\n",
      "Arquivo Dentro /home/akira/Documentos/Cursos/Fundamentos de Programação/Scripts: comentários.py\n",
      "Arquivo Dentro /home/akira/Documentos/Cursos/Fundamentos de Programação/Scripts: strings.py\n",
      "Arquivo Dentro /home/akira/Documentos/Cursos/Fundamentos de Programação/Scripts: modulo.py\n",
      "Arquivo Dentro /home/akira/Documentos/Cursos/Fundamentos de Programação/Scripts: akira.py\n",
      "Arquivo Dentro /home/akira/Documentos/Cursos/Fundamentos de Programação/Scripts: erro.py\n",
      "Arquivo Dentro /home/akira/Documentos/Cursos/Fundamentos de Programação/Scripts: fatorial.py\n",
      "Arquivo Dentro /home/akira/Documentos/Cursos/Fundamentos de Programação/Scripts: loops.py\n",
      "Arquivo Dentro /home/akira/Documentos/Cursos/Fundamentos de Programação/Scripts: condicionais.py\n",
      "Arquivo Dentro /home/akira/Documentos/Cursos/Fundamentos de Programação/Scripts: req.py\n",
      "Arquivo Dentro /home/akira/Documentos/Cursos/Fundamentos de Programação/Scripts: pessoa.py\n",
      "Arquivo Dentro /home/akira/Documentos/Cursos/Fundamentos de Programação/Scripts: ponto.py\n",
      "Arquivo Dentro /home/akira/Documentos/Cursos/Fundamentos de Programação/Scripts: fahr_celsius.py\n",
      "\n",
      "O diretório atual é: /home/akira/Documentos/Cursos/Fundamentos de Programação/.ipynb_checkpoints\n",
      "Arquivo Dentro /home/akira/Documentos/Cursos/Fundamentos de Programação/.ipynb_checkpoints: FundamentosPython03-checkpoint.ipynb\n",
      "Arquivo Dentro /home/akira/Documentos/Cursos/Fundamentos de Programação/.ipynb_checkpoints: FundamentosPython01-checkpoint.ipynb\n",
      "Arquivo Dentro /home/akira/Documentos/Cursos/Fundamentos de Programação/.ipynb_checkpoints: FundamentosPython02-checkpoint.ipynb\n",
      "\n"
     ]
    }
   ],
   "source": [
    "for folder_name, subfolders, filenames in os.walk(cwd):\n",
    "    print('O diretório atual é: {}'.format(folder_name))\n",
    "    \n",
    "    for subfolder in subfolders:\n",
    "        print('Subdiretório de {}: {}'.format(folder_name, subfolder))\n",
    "    \n",
    "    for filename in filenames:\n",
    "        print('Arquivo Dentro {}: {}'.format(folder_name, filename))\n",
    "    \n",
    "    print('')"
   ]
  },
  {
   "cell_type": "markdown",
   "metadata": {},
   "source": [
    "`pathlib` fornece muito mais funcionalidades do que as listadas acima, como obter o nome do arquivo, obter a extensão do arquivo, ler / gravar um arquivo sem abri-lo manualmente, etc. \n",
    "\n",
    "Verifique a [documentação oficial](https://docs.python.org/3/library/pathlib.html) se quiser saber mais!"
   ]
  },
  {
   "cell_type": "markdown",
   "metadata": {},
   "source": [
    "#### Abrindo e Lendo Arquivos com a Função **open()**"
   ]
  },
  {
   "cell_type": "code",
   "execution_count": 153,
   "metadata": {},
   "outputs": [
    {
     "data": {
      "text/plain": [
       "'Hello World!'"
      ]
     },
     "execution_count": 153,
     "metadata": {},
     "output_type": "execute_result"
    }
   ],
   "source": [
    "with open('hello_world.txt') as hello_file:\n",
    "    conteúdo_hello = hello_file.read()\n",
    "\n",
    "conteúdo_hello"
   ]
  },
  {
   "cell_type": "markdown",
   "metadata": {},
   "source": [
    "Como alternativa, você pode usar o método **readlines()** para obter uma lista de valores de string do arquivo, uma string para cada linha de texto:"
   ]
  },
  {
   "cell_type": "code",
   "execution_count": 157,
   "metadata": {},
   "outputs": [
    {
     "data": {
      "text/plain": [
       "['Sonnet 1\\n',\n",
       " '\\n',\n",
       " 'From fairest creatures we desire increase,\\n',\n",
       " 'That thereby beauty’s rose might never die,\\n',\n",
       " 'But as the riper should by time decease,\\n',\n",
       " 'His tender heir might bear his memory;\\n',\n",
       " 'But thou, contracted to thine own bright eyes,\\n',\n",
       " 'Feed’st thy light’s flame with self-substantial fuel,\\n',\n",
       " 'Making a famine where abundance lies,\\n',\n",
       " 'Thyself thy foe, to thy sweet self too cruel.\\n',\n",
       " 'Thou that art now the world’s fresh ornament\\n',\n",
       " 'And only herald to the gaudy spring\\n',\n",
       " 'Within thine own bud buriest thy content,\\n',\n",
       " 'And, tender churl, mak’st waste in niggarding.\\n',\n",
       " 'Pity the world, or else this glutton be,\\n',\n",
       " 'To eat the world’s due, by the grave and thee.\\n']"
      ]
     },
     "execution_count": 157,
     "metadata": {},
     "output_type": "execute_result"
    }
   ],
   "source": [
    "with open('shakespeare.txt') as sonnet_file:\n",
    "    soneto = sonnet_file.readlines()\n",
    "\n",
    "soneto"
   ]
  },
  {
   "cell_type": "markdown",
   "metadata": {},
   "source": [
    "Podemos também iterar no arquivo linha por linha:"
   ]
  },
  {
   "cell_type": "code",
   "execution_count": 158,
   "metadata": {},
   "outputs": [
    {
     "name": "stdout",
     "output_type": "stream",
     "text": [
      "Sonnet 1\n",
      "\n",
      "\n",
      "\n",
      "From fairest creatures we desire increase,\n",
      "\n",
      "That thereby beauty’s rose might never die,\n",
      "\n",
      "But as the riper should by time decease,\n",
      "\n",
      "His tender heir might bear his memory;\n",
      "\n",
      "But thou, contracted to thine own bright eyes,\n",
      "\n",
      "Feed’st thy light’s flame with self-substantial fuel,\n",
      "\n",
      "Making a famine where abundance lies,\n",
      "\n",
      "Thyself thy foe, to thy sweet self too cruel.\n",
      "\n",
      "Thou that art now the world’s fresh ornament\n",
      "\n",
      "And only herald to the gaudy spring\n",
      "\n",
      "Within thine own bud buriest thy content,\n",
      "\n",
      "And, tender churl, mak’st waste in niggarding.\n",
      "\n",
      "Pity the world, or else this glutton be,\n",
      "\n",
      "To eat the world’s due, by the grave and thee.\n",
      "\n"
     ]
    }
   ],
   "source": [
    "with open('shakespeare.txt') as sonnet_file:\n",
    "    for linha in sonnet_file:\n",
    "        print(linha)"
   ]
  },
  {
   "cell_type": "markdown",
   "metadata": {},
   "source": [
    "#### Escrevendo em Arquivos"
   ]
  },
  {
   "cell_type": "code",
   "execution_count": 163,
   "metadata": {},
   "outputs": [],
   "source": [
    "with open('texto.txt', 'w') as texto:\n",
    "    texto.write('Escrevendo em um Arquivo com Python\\n')"
   ]
  },
  {
   "cell_type": "code",
   "execution_count": 164,
   "metadata": {},
   "outputs": [],
   "source": [
    "with open('texto.txt', 'a') as texto:\n",
    "    texto.write('Escrevendo novamente em um Arquivo com Python')"
   ]
  },
  {
   "cell_type": "code",
   "execution_count": 165,
   "metadata": {},
   "outputs": [
    {
     "data": {
      "text/plain": [
       "'Escrevendo em um Arquivo com Python\\nEscrevendo novamente em um Arquivo com Python'"
      ]
     },
     "execution_count": 165,
     "metadata": {},
     "output_type": "execute_result"
    }
   ],
   "source": [
    "with open('texto.txt') as texto:\n",
    "    conteúdo = texto.read()\n",
    "\n",
    "conteúdo"
   ]
  },
  {
   "cell_type": "markdown",
   "metadata": {},
   "source": [
    "#### Lendo Arquivos ZIP"
   ]
  },
  {
   "cell_type": "code",
   "execution_count": 180,
   "metadata": {},
   "outputs": [
    {
     "name": "stdout",
     "output_type": "stream",
     "text": [
      "['shakespeare.txt', 'texto.txt']\n",
      "632\n",
      "372\n",
      "Arquivo comprimido é 1.7x menor!\n"
     ]
    }
   ],
   "source": [
    "import zipfile\n",
    "\n",
    "with zipfile.ZipFile('compactados.zip') as example_zip:\n",
    "    print(example_zip.namelist())\n",
    "    info = example_zip.getinfo('shakespeare.txt')\n",
    "    print(info.file_size)\n",
    "    print(info.compress_size)\n",
    "    print('Arquivo comprimido é %sx menor!' % (round(info.file_size / info.compress_size, 2)))"
   ]
  },
  {
   "cell_type": "markdown",
   "metadata": {},
   "source": [
    "#### Extraindo Arquivos ZIP\n",
    "\n",
    "O método **extractall()** para objetos **ZipFile** extrai todos os arquivos e pastas de um arquivo ZIP para o diretório de trabalho atual:"
   ]
  },
  {
   "cell_type": "code",
   "execution_count": 181,
   "metadata": {},
   "outputs": [],
   "source": [
    "with zipfile.ZipFile('compactados.zip') as example_zip:\n",
    "    example_zip.extractall()"
   ]
  },
  {
   "cell_type": "markdown",
   "metadata": {},
   "source": [
    "O método **extract()** para objetos ZipFile extrairá um único arquivo do arquivo ZIP:"
   ]
  },
  {
   "cell_type": "code",
   "execution_count": 182,
   "metadata": {},
   "outputs": [
    {
     "name": "stdout",
     "output_type": "stream",
     "text": [
      "/home/akira/Documentos/Cursos/Fundamentos de Programação/texto.txt\n",
      "/home/akira/Documentos/Cursos/Fundamentos de Programação/texto.txt\n"
     ]
    }
   ],
   "source": [
    "with zipfile.ZipFile('compactados.zip') as example_zip:\n",
    "    print(example_zip.extract('texto.txt'))\n",
    "    print(example_zip.extract('texto.txt', cwd))"
   ]
  },
  {
   "cell_type": "markdown",
   "metadata": {},
   "source": [
    "#### Criando e Adicionando Arquivos ZIP"
   ]
  },
  {
   "cell_type": "code",
   "execution_count": 183,
   "metadata": {},
   "outputs": [],
   "source": [
    "with zipfile.ZipFile('hello_world.zip', 'w') as new_zip:\n",
    "    new_zip.write('hello_world.txt', compress_type=zipfile.ZIP_DEFLATED)"
   ]
  },
  {
   "cell_type": "markdown",
   "metadata": {},
   "source": [
    "Este código criará um novo arquivo ZIP denominado `hello_world.zip` que possui o conteúdo compactado de `hello_world.txt`."
   ]
  },
  {
   "cell_type": "markdown",
   "metadata": {},
   "source": [
    "### Arquivos JSON"
   ]
  },
  {
   "cell_type": "markdown",
   "metadata": {},
   "source": [
    "Abrindo um arquivo JSON:"
   ]
  },
  {
   "cell_type": "code",
   "execution_count": 190,
   "metadata": {},
   "outputs": [
    {
     "name": "stdout",
     "output_type": "stream",
     "text": [
      "{'nome': 'Gabriel', 'idade': 20}\n"
     ]
    }
   ],
   "source": [
    "import json\n",
    "\n",
    "with open(\"arquivo.json\", \"r\") as f:\n",
    "    content = json.loads(f.read())\n",
    "\n",
    "print(content)"
   ]
  },
  {
   "cell_type": "markdown",
   "metadata": {},
   "source": [
    "Escrevendo em um Arquivo JSON:"
   ]
  },
  {
   "cell_type": "code",
   "execution_count": 189,
   "metadata": {},
   "outputs": [],
   "source": [
    "content = {\"nome\": \"Gabriel\", \"idade\": 20}\n",
    "\n",
    "with open(\"arquivo.json\", \"w\") as f:\n",
    "    f.write(json.dumps(content, indent=2))"
   ]
  }
 ],
 "metadata": {
  "kernelspec": {
   "display_name": "Python 3",
   "language": "python",
   "name": "python3"
  },
  "language_info": {
   "codemirror_mode": {
    "name": "ipython",
    "version": 3
   },
   "file_extension": ".py",
   "mimetype": "text/x-python",
   "name": "python",
   "nbconvert_exporter": "python",
   "pygments_lexer": "ipython3",
   "version": "3.7.7"
  }
 },
 "nbformat": 4,
 "nbformat_minor": 4
}
