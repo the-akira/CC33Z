{
 "cells": [
  {
   "cell_type": "markdown",
   "id": "27b486ba",
   "metadata": {},
   "source": [
    "# Exercícios Python\n",
    "\n",
    "Neste notebook vamos resolver alguns exercícios com a linguagem Python."
   ]
  },
  {
   "cell_type": "markdown",
   "id": "e4cfc985",
   "metadata": {},
   "source": [
    "## 1)\n",
    "\n",
    "Crie um programa que peça ao usuário para inserir seu nome e sua idade. Imprima uma mensagem dirigida a eles, informando-os em que ano farão 100 anos."
   ]
  },
  {
   "cell_type": "code",
   "execution_count": 12,
   "id": "d0f8f6d1",
   "metadata": {},
   "outputs": [
    {
     "name": "stdin",
     "output_type": "stream",
     "text": [
      "Informe o seu nome:  Gabriel\n",
      "Informe a sua idade:  30\n"
     ]
    },
    {
     "name": "stdout",
     "output_type": "stream",
     "text": [
      "Gabriel com atualmente 30 anos fará 100 anos em 2090\n"
     ]
    }
   ],
   "source": [
    "from datetime import datetime\n",
    "\n",
    "nome = input(\"Informe o seu nome: \")\n",
    "idade = int(input(\"Informe a sua idade: \"))\n",
    "\n",
    "ano_atual = datetime.now().year\n",
    "ano_100 = str((ano_atual - idade - 1) + 100)\n",
    "\n",
    "print(f\"{nome} com atualmente {idade} anos fará 100 anos em {ano_100}\")"
   ]
  },
  {
   "cell_type": "markdown",
   "id": "b161a2b6",
   "metadata": {},
   "source": [
    "## 2)\n",
    "\n",
    "Peça um número ao usuário. Dependendo se o número é par ou ímpar, imprima uma mensagem apropriada para o usuário."
   ]
  },
  {
   "cell_type": "code",
   "execution_count": 13,
   "id": "b5154994",
   "metadata": {},
   "outputs": [
    {
     "name": "stdin",
     "output_type": "stream",
     "text": [
      "Informe um número:  20\n"
     ]
    },
    {
     "name": "stdout",
     "output_type": "stream",
     "text": [
      "Você informou um número par!\n"
     ]
    }
   ],
   "source": [
    "número = int(input('Informe um número: '))\n",
    "\n",
    "if número % 2 == 0:\n",
    "    print('Você informou um número par!')\n",
    "else:\n",
    "    print('Você informou um número ímpar!')"
   ]
  },
  {
   "cell_type": "markdown",
   "id": "7ed14d7f",
   "metadata": {},
   "source": [
    "## 3)\n",
    "\n",
    "Receba do usuário uma lista, por exemplo, esta:\n",
    "\n",
    "```python\n",
    "x = [1, 1, 2, 3, 5, 8, 13, 21, 34, 55, 89]\n",
    "```\n",
    "\n",
    "e escreva um programa que imprima todos os elementos da lista que sejam menores que 5."
   ]
  },
  {
   "cell_type": "code",
   "execution_count": 25,
   "id": "1e513986",
   "metadata": {},
   "outputs": [
    {
     "name": "stdin",
     "output_type": "stream",
     "text": [
      "Informe os itens da lista:  1 2 3 4 5 6 7 8 9 10 11 12 13 0 0.3 0.4 0.5\n"
     ]
    },
    {
     "name": "stdout",
     "output_type": "stream",
     "text": [
      "Elementos menores do que 5: [1.0, 2.0, 3.0, 4.0, 0.0, 0.3, 0.4, 0.5]\n"
     ]
    }
   ],
   "source": [
    "x = [float(item) for item in input(\"Informe os itens da lista: \").split()]\n",
    "\n",
    "elementos = [elemento for elemento in x if elemento < 5]\n",
    "\n",
    "print(f'Elementos menores do que 5: {elementos}')"
   ]
  },
  {
   "cell_type": "markdown",
   "id": "7ee9b02b",
   "metadata": {},
   "source": [
    "## 4)\n",
    "\n",
    "Crie um programa que peça ao usuário um número e, em seguida, imprima uma lista de todos os divisores desse número. (Se você não sabe o que é um divisor, é um número que se divide igualmente em outro número. Por exemplo, 13 é um divisor de 26 porque 26/13 não tem resto.)"
   ]
  },
  {
   "cell_type": "code",
   "execution_count": 35,
   "id": "92dbc8e5",
   "metadata": {},
   "outputs": [
    {
     "name": "stdin",
     "output_type": "stream",
     "text": [
      "Informe um número:  30\n"
     ]
    },
    {
     "name": "stdout",
     "output_type": "stream",
     "text": [
      "Os divisores de 30 são: [1, 2, 3, 5, 6.0, 10.0, 15.0, 30]\n"
     ]
    }
   ],
   "source": [
    "import math\n",
    "\n",
    "def divisores(n):\n",
    "    divisores = [1]\n",
    "    for i in range(2,int(math.sqrt(n))+1):\n",
    "        if n%i == 0:\n",
    "            divisores.extend([i,n/i])\n",
    "    divisores.extend([n])\n",
    "    return list(set(divisores))\n",
    "\n",
    "n = int(input('Informe um número: '))\n",
    "print(f'Os divisores de {n} são: {divisores(n)}')"
   ]
  },
  {
   "cell_type": "markdown",
   "id": "b68bfd8b",
   "metadata": {},
   "source": [
    "## 5)\n",
    "\n",
    "Pegue duas listas, digamos, por exemplo, estas duas:\n",
    "\n",
    "```python\n",
    "a = [1, 1, 2, 3, 5, 8, 13, 21, 34, 55, 89]\n",
    "b = [1, 2, 3, 4, 5, 6, 7, 8, 9, 10, 11, 12, 13]\n",
    "```\n",
    "\n",
    "e escreva um programa que retorne uma lista que contenha apenas os elementos que são comuns entre as listas (sem duplicatas). Certifique-se de que seu programa funcione em duas listas de tamanhos diferentes."
   ]
  },
  {
   "cell_type": "code",
   "execution_count": 39,
   "id": "8beb73fd",
   "metadata": {},
   "outputs": [
    {
     "name": "stdout",
     "output_type": "stream",
     "text": [
      "Os elementos comuns entre as listas são: [1, 2, 3, 5, 8, 13]\n"
     ]
    }
   ],
   "source": [
    "a = [1, 1, 2, 3, 5, 8, 13, 21, 34, 55, 89]\n",
    "b = [1, 2, 3, 4, 5, 6, 7, 8, 9, 10, 11, 12, 13]\n",
    "\n",
    "intersecção = list(set(a).intersection(b))\n",
    "print(f'Os elementos comuns entre as listas são: {intersecção}')"
   ]
  },
  {
   "cell_type": "markdown",
   "id": "f04d6fd8",
   "metadata": {},
   "source": [
    "## 6)\n",
    "\n",
    "Peça ao usuário uma string e imprima se essa string é um palíndromo ou não. (Um palíndromo é uma string que lê o mesmo para a frente e para trás)."
   ]
  },
  {
   "cell_type": "code",
   "execution_count": 43,
   "id": "230fbee0",
   "metadata": {},
   "outputs": [
    {
     "name": "stdin",
     "output_type": "stream",
     "text": [
      "Digite uma string:  omissíssimo\n"
     ]
    },
    {
     "name": "stdout",
     "output_type": "stream",
     "text": [
      "A string informada é palíndromo\n"
     ]
    }
   ],
   "source": [
    "string = str(input('Digite uma string: '))\n",
    "\n",
    "if str(string) == str(string)[::-1]:\n",
    "    print('A string informada é palíndromo')\n",
    "else:\n",
    "    print('A string informada não é palíndromo')"
   ]
  },
  {
   "cell_type": "markdown",
   "id": "fc3cd122",
   "metadata": {},
   "source": [
    "## 7)\n",
    "\n",
    "Digamos que tenhamos uma lista salva em uma variável: \n",
    "\n",
    "```python\n",
    "Z = [1, 4, 9, 16, 25, 36, 49, 64, 81, 100]\n",
    "```\n",
    "\n",
    "Escreva uma linha de Python que receba essa lista **Z** e faça uma nova lista que contenha apenas os elementos pares dessa lista."
   ]
  },
  {
   "cell_type": "code",
   "execution_count": 46,
   "id": "348e07a4",
   "metadata": {},
   "outputs": [
    {
     "name": "stdout",
     "output_type": "stream",
     "text": [
      "Elementos pares de a = [4, 16, 36, 64, 100]\n"
     ]
    }
   ],
   "source": [
    "Z = [1, 4, 9, 16, 25, 36, 49, 64, 81, 100]\n",
    "\n",
    "Z_pares = [item for item in a if item % 2 == 0]\n",
    "\n",
    "print(f'Elementos pares de a = {Z_pares}')"
   ]
  },
  {
   "cell_type": "markdown",
   "id": "eb74cb6f",
   "metadata": {},
   "source": [
    "## 8)\n",
    "\n",
    "Gere um número aleatório entre 1 e 9 (incluindo 1 e 9). \n",
    "\n",
    "Peça ao usuário para adivinhar o número e, em seguida, diga se ele adivinhou muito baixo, muito alto ou exatamente certo.\n",
    "\n",
    "- Continue o jogo até que o usuário digite “sair”\n",
    "- Acompanhe quantas suposições o usuário fez e, quando o jogo terminar, imprima-o."
   ]
  },
  {
   "cell_type": "code",
   "execution_count": 5,
   "id": "109ff7de",
   "metadata": {},
   "outputs": [
    {
     "name": "stdin",
     "output_type": "stream",
     "text": [
      "Faça uma tentativa entre 1 e 9:  2\n"
     ]
    },
    {
     "name": "stdout",
     "output_type": "stream",
     "text": [
      "Muito alto!\n"
     ]
    },
    {
     "name": "stdin",
     "output_type": "stream",
     "text": [
      "Faça uma tentativa entre 1 e 9:  1\n"
     ]
    },
    {
     "name": "stdout",
     "output_type": "stream",
     "text": [
      "Correto!\n",
      "Você levou 2 tentativa(s)!\n"
     ]
    }
   ],
   "source": [
    "import random\n",
    "\n",
    "n = random.randint(1,9)\n",
    "tentativa = 0\n",
    "contagem = 0\n",
    "\n",
    "while tentativa != n and tentativa != \"sair\":\n",
    "    tentativa = input(\"Faça uma tentativa entre 1 e 9: \")\n",
    "\n",
    "    if tentativa == \"sair\":\n",
    "        break\n",
    "\n",
    "    tentativa = int(tentativa)\n",
    "    contagem += 1\n",
    "\n",
    "    if tentativa < n:\n",
    "        print(\"Muito baixo!\")\n",
    "    elif tentativa > n:\n",
    "        print(\"Muito alto!\")\n",
    "    else:\n",
    "        print(\"Correto!\")\n",
    "        print(f\"Você levou {contagem} tentativa(s)!\") "
   ]
  },
  {
   "cell_type": "markdown",
   "id": "39fee108",
   "metadata": {},
   "source": [
    "## 9)\n",
    "\n",
    "Peça ao usuário um número e determine se o número é primo ou não. \n",
    "\n",
    "Um número primo é um número natural maior que 1 que não é produto de dois números naturais menores. Um número natural maior que 1 que não é primo é chamado de número composto. Por exemplo, 5 é primo porque as únicas maneiras de escrevê-lo como um produto, 1 × 5 ou 5 × 1, envolvem o próprio 5."
   ]
  },
  {
   "cell_type": "code",
   "execution_count": 14,
   "id": "f9a2415d",
   "metadata": {},
   "outputs": [
    {
     "name": "stdin",
     "output_type": "stream",
     "text": [
      "Informe um número:  13\n"
     ]
    },
    {
     "name": "stdout",
     "output_type": "stream",
     "text": [
      "O número é primo!\n"
     ]
    }
   ],
   "source": [
    "def is_prime(n):\n",
    "    return all(n % i for i in range(2, n))\n",
    "\n",
    "número = int(input('Informe um número: '))\n",
    "\n",
    "if is_prime(número):\n",
    "    print('O número é primo!')\n",
    "else:\n",
    "    print('O número não é primo!')"
   ]
  },
  {
   "cell_type": "markdown",
   "id": "fea1fb5d",
   "metadata": {},
   "source": [
    "## 10)\n",
    "\n",
    "Escreva um programa que pegue uma lista de números, por exemplo: \n",
    "\n",
    "```python\n",
    "a = [5, 10, 15, 20, 25]\n",
    "```\n",
    "\n",
    "e faça uma nova lista apenas do primeiro e do último elemento da lista fornecida. Para praticar, escreva este código dentro de uma função."
   ]
  },
  {
   "cell_type": "code",
   "execution_count": 15,
   "id": "99a3be24",
   "metadata": {},
   "outputs": [
    {
     "name": "stdout",
     "output_type": "stream",
     "text": [
      "[5, 25]\n"
     ]
    }
   ],
   "source": [
    "def first_last(a):\n",
    "    return [a[0], a[-1]]\n",
    "\n",
    "a = [5, 10, 15, 20, 25]\n",
    "\n",
    "print(first_last(a))"
   ]
  },
  {
   "cell_type": "markdown",
   "id": "444ad28f",
   "metadata": {},
   "source": [
    "## 11)\n",
    "\n",
    "Escreva um programa que pergunte ao usuário quantos números Fibonnaci gerar e os gere. \n",
    "\n",
    "Aproveite esta oportunidade para pensar sobre como você pode usar as funções. Certifique-se de pedir ao usuário para inserir o número de números na sequência a gerar. \n",
    "\n",
    "**Dica**: a sequência de Fibonnaci é uma sequência de números onde o próximo número na sequência é a soma dos dois números anteriores na sequência. A sequência se parece com isto: (1, 1, 2, 3, 5, 8, 13, ...)"
   ]
  },
  {
   "cell_type": "code",
   "execution_count": 23,
   "id": "4ddf9601",
   "metadata": {},
   "outputs": [
    {
     "name": "stdin",
     "output_type": "stream",
     "text": [
      "Quantos números Fibonnaci vocẽ quer gerar?  13\n"
     ]
    },
    {
     "name": "stdout",
     "output_type": "stream",
     "text": [
      "0 1 1 2 3 5 8 13 21 34 55 89 144 "
     ]
    }
   ],
   "source": [
    "def print_fibonnaci(n):\n",
    "    f1 = 0\n",
    "    f2 = 1\n",
    "    if (n < 1):\n",
    "        return\n",
    "    print(f1, end=\" \")\n",
    "    for x in range(1, n):\n",
    "        print(f2, end=\" \")\n",
    "        nxt = f1 + f2\n",
    "        f1 = f2\n",
    "        f2 = nxt\n",
    "        \n",
    "n = int(input('Quantos números Fibonnaci vocẽ quer gerar? '))\n",
    "print_fibonnaci(n)"
   ]
  },
  {
   "cell_type": "markdown",
   "id": "62747876",
   "metadata": {},
   "source": [
    "## 12)\n",
    "\n",
    "Escreva um programa (uma função!) que recebe uma lista e retorna uma nova lista que contém todos os elementos da primeira lista menos todas as duplicatas."
   ]
  },
  {
   "cell_type": "code",
   "execution_count": 24,
   "id": "adcfd4a7",
   "metadata": {},
   "outputs": [
    {
     "name": "stdout",
     "output_type": "stream",
     "text": [
      "[1, 2, 3, 5, 12, 13]\n"
     ]
    }
   ],
   "source": [
    "def remover_duplicatas(lst):\n",
    "    return list(set(lst))\n",
    "\n",
    "x = [1,1,1,3,2,2,3,5,12,13,5]\n",
    "print(remover_duplicatas(x))"
   ]
  },
  {
   "cell_type": "markdown",
   "id": "3cc334d9",
   "metadata": {},
   "source": [
    "## 13)\n",
    "\n",
    "Escreva um programa (usando funções!) que peça ao usuário uma longa string contendo várias palavras. Imprime de volta para o usuário a mesma string, exceto com as palavras em ordem inversa. Por exemplo, digamos que eu digite a string:\n",
    "\n",
    "**Meu nome é Gabriel**\n",
    "   \n",
    "Então eu veria a string:\n",
    "\n",
    "**Gabriel é nome Meu**\n",
    "   \n",
    "mostrado de volta para mim."
   ]
  },
  {
   "cell_type": "code",
   "execution_count": 25,
   "id": "8d9707bb",
   "metadata": {},
   "outputs": [
    {
     "name": "stdin",
     "output_type": "stream",
     "text": [
      "Digite uma frase:  Meu nome é Gabriel\n"
     ]
    },
    {
     "name": "stdout",
     "output_type": "stream",
     "text": [
      "A frase inversa é: Gabriel é nome Meu\n"
     ]
    }
   ],
   "source": [
    "def inverter_frase(palavra):\n",
    "    return ' '.join(palavra.split()[::-1])\n",
    "\n",
    "frase = str(input('Digite uma frase: '))\n",
    "print(f'A frase inversa é: {inverter_frase(frase)}')"
   ]
  },
  {
   "cell_type": "markdown",
   "id": "12c7b19b",
   "metadata": {},
   "source": [
    "## 14)\n",
    "\n",
    "Escreva um gerador de senha em Python. Seja criativo ao gerar senhas - senhas fortes têm uma mistura de letras minúsculas, maiúsculas, números e símbolos. As senhas devem ser aleatórias, gerando uma nova senha toda vez que o usuário solicitar uma nova senha."
   ]
  },
  {
   "cell_type": "code",
   "execution_count": 35,
   "id": "eafbfb55",
   "metadata": {},
   "outputs": [
    {
     "name": "stdin",
     "output_type": "stream",
     "text": [
      "Quantos dígitos você deseja em sua senha?  15\n"
     ]
    },
    {
     "name": "stdout",
     "output_type": "stream",
     "text": [
      "k6#Oz@WZS5!-!yi\n"
     ]
    }
   ],
   "source": [
    "import secrets\n",
    "import string\n",
    "\n",
    "alfabeto = string.ascii_letters + string.digits + '-_!#%@?=*$.'\n",
    "n = int(input('Quantos dígitos você deseja em sua senha? '))\n",
    "senha = ''.join(secrets.choice(alfabeto) for i in range(n))\n",
    "\n",
    "print(senha)"
   ]
  },
  {
   "cell_type": "markdown",
   "id": "29748c6a",
   "metadata": {},
   "source": [
    "## 15)\n",
    "\n",
    "Escreva uma função que receba uma lista ordenada de números (uma lista em que os elementos estão em ordem do menor para o maior) e outro número. A função decide se o número fornecido está ou não dentro da lista e retorna (em seguida, imprime) um booleano apropriado."
   ]
  },
  {
   "cell_type": "code",
   "execution_count": 43,
   "id": "c03fa002",
   "metadata": {},
   "outputs": [
    {
     "name": "stdin",
     "output_type": "stream",
     "text": [
      "Digite um número:  9\n"
     ]
    },
    {
     "name": "stdout",
     "output_type": "stream",
     "text": [
      "O número está na lista\n"
     ]
    }
   ],
   "source": [
    "lista = [1,2,3,4,5,6,7,8,9]\n",
    "\n",
    "def está_na_lista(lst,n):\n",
    "    if n in lst:\n",
    "        return True\n",
    "    else: \n",
    "        return False\n",
    "\n",
    "n = int(input('Digite um número: '))\n",
    "\n",
    "if está_na_lista(lista,n):\n",
    "    print('O número está na lista')\n",
    "else:\n",
    "    print('O número não está na lista')"
   ]
  },
  {
   "cell_type": "markdown",
   "id": "062652ae",
   "metadata": {},
   "source": [
    "## 16)\n",
    "\n",
    "Implemente uma função que recebe como entrada três variáveis e retorna a maior das três. Faça isso sem usar a função **max()** do Python!"
   ]
  },
  {
   "cell_type": "code",
   "execution_count": 50,
   "id": "b7aad4bf",
   "metadata": {},
   "outputs": [
    {
     "name": "stdout",
     "output_type": "stream",
     "text": [
      "25\n"
     ]
    }
   ],
   "source": [
    "n1 = 17\n",
    "n2 = 25\n",
    "n3 = 15\n",
    "\n",
    "def maximum(n1,n2,n3):\n",
    "    if (n1 >= n2) and (n1 >= n3):\n",
    "        maior = n1\n",
    "    elif (n2 >= n1) and (n2 >= n3):\n",
    "        maior = n2\n",
    "    else:\n",
    "        maior = n3\n",
    "    return maior\n",
    "\n",
    "print(maximum(n1,n2,n3))"
   ]
  },
  {
   "cell_type": "markdown",
   "id": "bcc3a381",
   "metadata": {},
   "source": [
    "## 17)\n",
    "\n",
    "Para este exercício, controlaremos quando são os aniversários de nossos amigos e poderemos encontrar essas informações com base no nome deles. \n",
    "\n",
    "Crie um dicionário (em seu arquivo) de nomes e aniversários. Quando você executa seu programa, ele deve pedir ao usuário para inserir um nome e retornar o aniversário dessa pessoa."
   ]
  },
  {
   "cell_type": "code",
   "execution_count": 59,
   "id": "c9161e19",
   "metadata": {},
   "outputs": [
    {
     "name": "stdout",
     "output_type": "stream",
     "text": [
      "Seja bem-vindo ao dicionário de aniversários, nos conhecemos o aniversário das seguintes pessoas:\n",
      "Gabriel\n",
      "Rafael\n",
      "Miguel\n",
      "Maria\n",
      "Luana\n"
     ]
    },
    {
     "name": "stdin",
     "output_type": "stream",
     "text": [
      "Informe o nome de uma pessoa:  lUaNa\n"
     ]
    },
    {
     "name": "stdout",
     "output_type": "stream",
     "text": [
      "o aniversário de Luana é no dia 01/01/1955\n"
     ]
    }
   ],
   "source": [
    "aniversários = {\n",
    "    'Gabriel': '13/10/1995',\n",
    "    'Rafael' : '15/11/1992',\n",
    "    'Miguel' : '17/08/2001',\n",
    "    'Maria'  : '25/12/1974',\n",
    "    'Luana'  : '01/01/1955'\n",
    "}\n",
    "\n",
    "print('Seja bem-vindo ao dicionário de aniversários, nos conhecemos o aniversário das seguintes pessoas:')\n",
    "for a in aniversários:\n",
    "    print(a)\n",
    "\n",
    "nome = str(input('Informe o nome de uma pessoa: ')).title()\n",
    "\n",
    "if nome in aniversários:\n",
    "    print(f'o aniversário de {nome} é no dia {aniversários[nome]}')\n",
    "else:\n",
    "    print(f'Infelizmente não temos o registro para {nome}')"
   ]
  },
  {
   "cell_type": "markdown",
   "id": "3e91f946",
   "metadata": {},
   "source": [
    "## 18)\n",
    "\n",
    "Escreva um programa Python para obter a versão Python que você está usando.\n",
    "\n",
    "Uma string contendo o número da versão do interpretador Python mais informações adicionais sobre o número da compilação e o compilador usado. Esta string é exibida quando o interpretador interativo é iniciado."
   ]
  },
  {
   "cell_type": "code",
   "execution_count": 60,
   "id": "fb94981b",
   "metadata": {},
   "outputs": [
    {
     "name": "stdout",
     "output_type": "stream",
     "text": [
      "Versão do Python: 3.7.10 (default, Feb 26 2021, 18:47:35) \n",
      "[GCC 7.3.0]\n",
      "Informações sobre a versão: sys.version_info(major=3, minor=7, micro=10, releaselevel='final', serial=0)\n"
     ]
    }
   ],
   "source": [
    "import sys\n",
    "\n",
    "print(f\"Versão do Python: {sys.version}\")\n",
    "print(f\"Informações sobre a versão: {sys.version_info}\")"
   ]
  },
  {
   "cell_type": "markdown",
   "id": "ea524243",
   "metadata": {},
   "source": [
    "## 19)\n",
    "\n",
    "Escreva um programa Python para exibir a data e hora atuais."
   ]
  },
  {
   "cell_type": "code",
   "execution_count": 62,
   "id": "097f1275",
   "metadata": {},
   "outputs": [
    {
     "name": "stdout",
     "output_type": "stream",
     "text": [
      "Data e hora atual:\n",
      "21-05-2021 02:37:20\n"
     ]
    }
   ],
   "source": [
    "import datetime\n",
    "\n",
    "agora = datetime.datetime.now()\n",
    "\n",
    "print(\"Data e hora atual:\")\n",
    "print(agora.strftime(\"%d-%m-%Y %H:%M:%S\"))"
   ]
  },
  {
   "cell_type": "markdown",
   "id": "1d77dda7",
   "metadata": {},
   "source": [
    "## 20)\n",
    "\n",
    "Escreva um programa Python que aceite o raio de um círculo do usuário e calcule a área do círculo.\n",
    "\n",
    "Em geometria, a área delimitada por um círculo de raio r é **πr²**. Aqui, a letra grega π representa uma constante, aproximadamente igual a **3.14159**, que é igual à razão entre a circunferência de qualquer círculo e seu diâmetro.\n",
    "\n",
    "![img](https://www.w3resource.com/w3r_images/python-area-of-a-circle-exercise-4.png)"
   ]
  },
  {
   "cell_type": "code",
   "execution_count": 66,
   "id": "402515bc",
   "metadata": {},
   "outputs": [
    {
     "name": "stdin",
     "output_type": "stream",
     "text": [
      "Informe o raio do círculo:  5\n"
     ]
    },
    {
     "name": "stdout",
     "output_type": "stream",
     "text": [
      "A área do círculo de raio 5.0 é igual a 78.53981633974483\n"
     ]
    }
   ],
   "source": [
    "from math import pi\n",
    "\n",
    "r = float(input(\"Informe o raio do círculo: \"))\n",
    "\n",
    "def circle_area(r):\n",
    "    return pi * r**2\n",
    "\n",
    "print (f\"A área do círculo de raio {r} é igual a {circle_area(r)}\")"
   ]
  },
  {
   "cell_type": "markdown",
   "id": "c0a7b2f2",
   "metadata": {},
   "source": [
    "## 21)\n",
    "\n",
    "Escreva um programa Python para aceitar um nome de arquivo do usuário e imprimir sua extensão.\n",
    "\n",
    "Exemplo de nome de arquivo: `script.py`"
   ]
  },
  {
   "cell_type": "code",
   "execution_count": 1,
   "id": "e7c7affd",
   "metadata": {},
   "outputs": [
    {
     "name": "stdin",
     "output_type": "stream",
     "text": [
      "Informe o nome do arquivo:  teste.py\n"
     ]
    },
    {
     "name": "stdout",
     "output_type": "stream",
     "text": [
      "A extensão do arquivo é: py\n"
     ]
    }
   ],
   "source": [
    "filename = input(\"Informe o nome do arquivo: \")\n",
    "\n",
    "file_ext = filename.split(\".\")\n",
    "print (f\"A extensão do arquivo é: {file_ext[-1]}\")"
   ]
  },
  {
   "cell_type": "markdown",
   "id": "63482b1c",
   "metadata": {},
   "source": [
    "## 22)\n",
    "\n",
    "Escreva um programa Python para imprimir os documentos (sintaxe, descrição, etc.) das funções integradas do Python.\n",
    "\n",
    "Por exemplo: **abs()**"
   ]
  },
  {
   "cell_type": "code",
   "execution_count": 3,
   "id": "73b6f20a",
   "metadata": {},
   "outputs": [
    {
     "name": "stdout",
     "output_type": "stream",
     "text": [
      "Return a new list containing all items from the iterable in ascending order.\n",
      "\n",
      "A custom key function can be supplied to customize the sort order, and the\n",
      "reverse flag can be set to request the result in descending order.\n"
     ]
    }
   ],
   "source": [
    "print(sorted.__doc__)"
   ]
  },
  {
   "cell_type": "markdown",
   "id": "437c206b",
   "metadata": {},
   "source": [
    "## 23)\n",
    "\n",
    "Escreva um programa Python para imprimir o calendário de um determinado mês e ano.\n",
    "\n",
    "Observação: Use o módulo **calendar**."
   ]
  },
  {
   "cell_type": "code",
   "execution_count": 4,
   "id": "c87072a9",
   "metadata": {},
   "outputs": [
    {
     "name": "stdin",
     "output_type": "stream",
     "text": [
      "Informe o ano:  2021\n",
      "Informe o mês:  5\n"
     ]
    },
    {
     "name": "stdout",
     "output_type": "stream",
     "text": [
      "      May 2021\n",
      "Mo Tu We Th Fr Sa Su\n",
      "                1  2\n",
      " 3  4  5  6  7  8  9\n",
      "10 11 12 13 14 15 16\n",
      "17 18 19 20 21 22 23\n",
      "24 25 26 27 28 29 30\n",
      "31\n",
      "\n"
     ]
    }
   ],
   "source": [
    "import calendar\n",
    "\n",
    "ano = int(input(\"Informe o ano: \"))\n",
    "mês = int(input(\"Informe o mês: \"))\n",
    "\n",
    "print(calendar.month(ano, mês))"
   ]
  },
  {
   "cell_type": "markdown",
   "id": "dc0fbbd8",
   "metadata": {},
   "source": [
    "## 24)\n",
    "\n",
    "Escreva um programa Python para calcular o número de dias entre duas datas.\n",
    "\n",
    "Por exemplo:\n",
    "\n",
    "- **Datas**: (2014, 7, 2), (2014, 7, 11)\n",
    "- **Output esperado**: 9 dias"
   ]
  },
  {
   "cell_type": "code",
   "execution_count": 9,
   "id": "ced9f93a",
   "metadata": {},
   "outputs": [
    {
     "name": "stdout",
     "output_type": "stream",
     "text": [
      "218\n"
     ]
    }
   ],
   "source": [
    "from datetime import date\n",
    "\n",
    "data_1 = date(2021, 5, 21)\n",
    "data_2 = date(2021, 12, 25)\n",
    "delta = data_2 - data_1\n",
    "\n",
    "print(delta.days)"
   ]
  },
  {
   "cell_type": "markdown",
   "id": "482ac8ce",
   "metadata": {},
   "source": [
    "## 25)\n",
    "\n",
    "Escreva um programa Python para contar o número 4 em uma determinada lista."
   ]
  },
  {
   "cell_type": "code",
   "execution_count": 11,
   "id": "09976053",
   "metadata": {},
   "outputs": [
    {
     "name": "stdout",
     "output_type": "stream",
     "text": [
      "1\n",
      "4\n"
     ]
    }
   ],
   "source": [
    "def lista_contar_4(lista):\n",
    "    count = 0  \n",
    "    for num in lista:\n",
    "        if num == 4:\n",
    "            count += 1\n",
    "    return count\n",
    "\n",
    "print(lista_contar_4([1, 4, 2, 7, 3]))\n",
    "print(lista_contar_4([1, 4, 3, 4, 8, 4, 4]))"
   ]
  },
  {
   "cell_type": "markdown",
   "id": "67f8c546",
   "metadata": {},
   "source": [
    "## 26)\n",
    "\n",
    "Escreva um programa Python para testar se uma determinada letra é uma vogal ou não."
   ]
  },
  {
   "cell_type": "code",
   "execution_count": 12,
   "id": "1d663e2b",
   "metadata": {},
   "outputs": [
    {
     "name": "stdout",
     "output_type": "stream",
     "text": [
      "False\n",
      "True\n"
     ]
    }
   ],
   "source": [
    "def é_vogal(letra):\n",
    "    vogais = 'aeiou'\n",
    "    return letra in vogais\n",
    "\n",
    "print(é_vogal('z'))\n",
    "print(é_vogal('i'))"
   ]
  },
  {
   "cell_type": "markdown",
   "id": "725675bb",
   "metadata": {},
   "source": [
    "## 27)\n",
    "\n",
    "Escreva um programa Python para criar um histograma a partir de uma determinada lista de inteiros.\n",
    "\n",
    "Um histograma é uma representação aproximada da distribuição de dados numéricos. Foi introduzido pela primeira vez por Karl Pearson.\n",
    "\n",
    "Um histograma é uma representação gráfica de uma variável em forma de barras, onde a área de cada barra é proporcional à frequência dos valores representados."
   ]
  },
  {
   "cell_type": "code",
   "execution_count": 15,
   "id": "6553c296",
   "metadata": {},
   "outputs": [
    {
     "name": "stdout",
     "output_type": "stream",
     "text": [
      "**\n",
      "****\n",
      "**********\n",
      "*****************\n"
     ]
    }
   ],
   "source": [
    "def histograma(itens):\n",
    "    for n in itens:\n",
    "        output = ''\n",
    "        times = n\n",
    "        while(times > 0):\n",
    "            output += '*'\n",
    "            times -= 1\n",
    "        print(output)\n",
    "\n",
    "histograma([2, 4, 10, 17])"
   ]
  },
  {
   "cell_type": "markdown",
   "id": "01138ed6",
   "metadata": {},
   "source": [
    "## 28)\n",
    "\n",
    "Escreva um programa Python que aceite a base e a altura de um triângulo e calcule a sua área.\n",
    "\n",
    "Um triângulo é um polígono com três arestas e três vértices. É uma das formas básicas da geometria. Um triângulo com vértices A, B e C é denotado como triângulo ABC.\n",
    "\n",
    "- Vértice de um triângulo: O ponto em que dois lados de um triângulo se encontram.\n",
    "- Altitude de um triângulo: O segmento perpendicular de um vértice de um triângulo à linha que contém o lado oposto.\n",
    "- Base de um triângulo: o lado de um triângulo para o qual uma altitude é desenhada.\n",
    "- Altura de um triângulo: o comprimento de uma altitude.\n",
    "\n",
    "![img](https://i.ibb.co/16jLbnP/area-triangle-basic-exercise-30.png)"
   ]
  },
  {
   "cell_type": "code",
   "execution_count": 16,
   "id": "3d7bc5db",
   "metadata": {},
   "outputs": [
    {
     "name": "stdin",
     "output_type": "stream",
     "text": [
      "Informe a base:  20\n",
      "Informe a altura:  40\n"
     ]
    },
    {
     "name": "stdout",
     "output_type": "stream",
     "text": [
      "area = 400.0\n"
     ]
    }
   ],
   "source": [
    "base = int(input(\"Informe a base: \"))\n",
    "altura = int(input(\"Informe a altura: \"))\n",
    "\n",
    "area = (base * altura)/2\n",
    "print(f\"area = {area}\")"
   ]
  },
  {
   "cell_type": "markdown",
   "id": "c7ee8962",
   "metadata": {},
   "source": [
    "## 29)\n",
    "\n",
    "Escreva um programa Python para calcular o **máximo divisor comum** (MDC) de dois inteiros positivos."
   ]
  },
  {
   "cell_type": "code",
   "execution_count": 17,
   "id": "a82986b4",
   "metadata": {},
   "outputs": [
    {
     "name": "stdout",
     "output_type": "stream",
     "text": [
      "1\n",
      "2\n"
     ]
    }
   ],
   "source": [
    "def gcd(x, y):\n",
    "    while y != 0:\n",
    "        (x, y) = (y, x % y)\n",
    "    return x\n",
    "\n",
    "print(gcd(12,17))\n",
    "print(gcd(4,6))"
   ]
  },
  {
   "cell_type": "markdown",
   "id": "23ec8fa2",
   "metadata": {},
   "source": [
    "## 30)\n",
    "\n",
    "Escreva um programa Python para adicionar dois objetos, apenas se ambos os objetos forem do tipo **inteiro**."
   ]
  },
  {
   "cell_type": "code",
   "execution_count": 21,
   "id": "2a174f27",
   "metadata": {},
   "outputs": [
    {
     "name": "stdout",
     "output_type": "stream",
     "text": [
      "60\n"
     ]
    }
   ],
   "source": [
    "def adicionar_números(a, b):\n",
    "    if not (isinstance(a, int) and isinstance(b, int)):\n",
    "         raise TypeError(\"Os números devem ser inteiros!\")\n",
    "    return a + b\n",
    "\n",
    "print(adicionar_números(30, 30))"
   ]
  },
  {
   "cell_type": "markdown",
   "id": "7957a758",
   "metadata": {},
   "source": [
    "## 31)\n",
    "\n",
    "Escreva um programa Python para calcular a distância entre os pontos (**x1**, **y1**) e (**x2**, **y2**).\n",
    "\n",
    "![img](https://i.ibb.co/dK4fQnh/pointsdist.jpg)"
   ]
  },
  {
   "cell_type": "code",
   "execution_count": 22,
   "id": "cfdb0087",
   "metadata": {},
   "outputs": [
    {
     "name": "stdout",
     "output_type": "stream",
     "text": [
      "A distância entre [3, 2] e [5, 6] é = 4.47213595499958\n"
     ]
    }
   ],
   "source": [
    "import math\n",
    "\n",
    "p1 = [3, 2]\n",
    "p2 = [5, 6]\n",
    "\n",
    "dist = math.sqrt(((p1[0]-p2[0])**2) + ((p1[1]-p2[1])**2))\n",
    "\n",
    "print(f'A distância entre {p1} e {p2} é = {dist}')"
   ]
  },
  {
   "cell_type": "markdown",
   "id": "77a1790f",
   "metadata": {},
   "source": [
    "## 32)\n",
    "\n",
    "Escreva um programa Python para verificar se um arquivo especificado existe."
   ]
  },
  {
   "cell_type": "code",
   "execution_count": 25,
   "id": "3e52a07a",
   "metadata": {},
   "outputs": [
    {
     "name": "stdout",
     "output_type": "stream",
     "text": [
      "True\n",
      "False\n"
     ]
    }
   ],
   "source": [
    "import os\n",
    "\n",
    "print(os.path.isfile('ExercíciosPython.ipynb'))\n",
    "print(os.path.isfile('Texto.txt'))"
   ]
  },
  {
   "cell_type": "markdown",
   "id": "efc85a2c",
   "metadata": {},
   "source": [
    "## 33)\n",
    "\n",
    "Escreva um programa Python para calcular a hipotenusa de um triângulo retângulo.\n",
    "\n",
    "\"Em qualquer triângulo retângulo, o quadrado do comprimento da hipotenusa é igual à soma dos quadrados dos comprimentos dos catetos.\"\n",
    "\n",
    "![img](https://i.ibb.co/6w7zRNL/hypote.png)"
   ]
  },
  {
   "cell_type": "code",
   "execution_count": 26,
   "id": "2ee6e5ef",
   "metadata": {},
   "outputs": [
    {
     "name": "stdout",
     "output_type": "stream",
     "text": [
      "Informe os comprimentos dos lados do triângulo mais curtos: \n"
     ]
    },
    {
     "name": "stdin",
     "output_type": "stream",
     "text": [
      "a:  4\n",
      "b:  3\n"
     ]
    },
    {
     "name": "stdout",
     "output_type": "stream",
     "text": [
      "O comprimento da hipotenusa é = 5.0\n"
     ]
    }
   ],
   "source": [
    "from math import sqrt\n",
    "\n",
    "print(\"Informe os comprimentos dos lados do triângulo mais curtos: \")\n",
    "\n",
    "A = float(input(\"a: \"))\n",
    "B = float(input(\"b: \"))\n",
    "C = sqrt(A**2 + B**2)\n",
    "\n",
    "print(f\"O comprimento da hipotenusa é = {C}\")"
   ]
  },
  {
   "cell_type": "markdown",
   "id": "cba47666",
   "metadata": {},
   "source": [
    "## 34)\n",
    "\n",
    "Escreva um programa Python para calcular a soma dos dígitos em um inteiro.\n",
    "\n",
    "Por exemplo: `5245` = `5 + 2 + 4 + 5` = `16`"
   ]
  },
  {
   "cell_type": "code",
   "execution_count": 28,
   "id": "900d3bd4",
   "metadata": {},
   "outputs": [
    {
     "name": "stdout",
     "output_type": "stream",
     "text": [
      "16\n",
      "9\n"
     ]
    }
   ],
   "source": [
    "def soma_dígitos(n):\n",
    "    r = 0\n",
    "    while n:\n",
    "        r, n = r + n % 10, n // 10\n",
    "    return r\n",
    "\n",
    "print(soma_dígitos(5245))\n",
    "print(soma_dígitos(27))"
   ]
  },
  {
   "cell_type": "markdown",
   "id": "a1b3368c",
   "metadata": {},
   "source": [
    "## 35)\n",
    "\n",
    "Escreva um programa Python para testar se o sistema é uma plataforma **big-endian** ou uma plataforma **little-endian**."
   ]
  },
  {
   "cell_type": "code",
   "execution_count": 30,
   "id": "4eeedece",
   "metadata": {},
   "outputs": [
    {
     "name": "stdout",
     "output_type": "stream",
     "text": [
      "Little-endian platform.\n"
     ]
    }
   ],
   "source": [
    "import sys\n",
    "\n",
    "if sys.byteorder == \"little\":\n",
    "    print(\"Little-endian platform.\")\n",
    "else:\n",
    "    print(\"Big-endian platform.\")"
   ]
  },
  {
   "cell_type": "markdown",
   "id": "ba74e08c",
   "metadata": {},
   "source": [
    "## 36)\n",
    "\n",
    "Escreva um programa Python para testar se todos os números de uma lista são maiores que um certo número."
   ]
  },
  {
   "cell_type": "code",
   "execution_count": 36,
   "id": "17aac0fd",
   "metadata": {},
   "outputs": [
    {
     "name": "stdout",
     "output_type": "stream",
     "text": [
      "Todos são maiores do que 1? True\n",
      "Todos são maiores do que 4? False\n"
     ]
    }
   ],
   "source": [
    "lista = [2,3,4,20,30,100]\n",
    "\n",
    "print('Todos são maiores do que 1?', end=' ')\n",
    "print(all(n > 1 for n in lista))\n",
    "print('Todos são maiores do que 4?', end=' ')\n",
    "print(all(n > 4 for n in lista))"
   ]
  },
  {
   "cell_type": "markdown",
   "id": "ff5897cb",
   "metadata": {},
   "source": [
    "## 37)\n",
    "\n",
    "Escreva um programa Python para contar o número de ocorrências de um caractere específico em uma string."
   ]
  },
  {
   "cell_type": "code",
   "execution_count": 37,
   "id": "c45b6cf6",
   "metadata": {},
   "outputs": [
    {
     "name": "stdout",
     "output_type": "stream",
     "text": [
      "5\n"
     ]
    }
   ],
   "source": [
    "s = \"Rato Roeu a Roupa do Rei de Roma.\"\n",
    "\n",
    "print(s.count(\"R\"))"
   ]
  },
  {
   "cell_type": "markdown",
   "id": "ed8e3320",
   "metadata": {},
   "source": [
    "## 38)\n",
    "\n",
    "Escreva um programa Python para calcular o valor da dívida em **n** meses. \n",
    "\n",
    "O valor do empréstimo é de **R$100.000** e o empréstimo acrescenta 5% de juros da dívida e os arredonda para os **1.000** mais próximos mês a mês.\n",
    "\n",
    "Por exemplo:\n",
    "\n",
    "- **Número de meses de entrada**: 7\n",
    "- **Valor da dívida**: R$144.000"
   ]
  },
  {
   "cell_type": "code",
   "execution_count": 41,
   "id": "d12a35d5",
   "metadata": {},
   "outputs": [
    {
     "name": "stdout",
     "output_type": "stream",
     "text": [
      "Informe o número de meses: \n"
     ]
    },
    {
     "name": "stdin",
     "output_type": "stream",
     "text": [
      " 7\n"
     ]
    },
    {
     "name": "stdout",
     "output_type": "stream",
     "text": [
      "Quantidade de dívida: R$144000\n"
     ]
    }
   ],
   "source": [
    "def round_n(n):\n",
    "    if n%1000:\n",
    "        return (1+n//1000)*1000\n",
    "    else:\n",
    "        return n\n",
    "     \n",
    "def computar_dívida(n):\n",
    "    if n==0: return 100_000\n",
    "    return int(round_n(computar_dívida(n-1)*1.05))\n",
    "\n",
    "print(\"Informe o número de meses: \")\n",
    "result = computar_dívida(int(input()))\n",
    "print(f\"Quantidade de dívida: R${str(result).strip()}\")"
   ]
  },
  {
   "cell_type": "markdown",
   "id": "929f036e",
   "metadata": {},
   "source": [
    "## 39)\n",
    "\n",
    "Dada uma lista de números e um número **k**, escreva um programa Python para verificar se a soma de quaisquer dois números da lista é igual a **k** ou não.\n",
    "\n",
    "Por exemplo, dado `[1, 5, 11, 5]` e `k = 16`, retorna verdadeiro(**True**), pois `11 + 5 é 16`."
   ]
  },
  {
   "cell_type": "code",
   "execution_count": 42,
   "id": "72ad7de2",
   "metadata": {},
   "outputs": [
    {
     "name": "stdout",
     "output_type": "stream",
     "text": [
      "True\n",
      "True\n",
      "True\n",
      "False\n"
     ]
    }
   ],
   "source": [
    "def checar_soma(nums, k):   \n",
    "    for i in range(len(nums)):\n",
    "        for j in range(i+1, len(nums)):\n",
    "            if nums[i] + nums[j] == k:\n",
    "                return True\n",
    "    return False\n",
    "\n",
    "print(checar_soma([12, 5, 0, 5], 10))\n",
    "print(checar_soma([20, 20, 4, 5], 40))\n",
    "print(checar_soma([1, -1], 0))\n",
    "print(checar_soma([1, 1, 0], 0))"
   ]
  },
  {
   "cell_type": "markdown",
   "id": "6875b65c",
   "metadata": {},
   "source": [
    "## 40)\n",
    "\n",
    "Escreva um programa Python para remover todas as instâncias de um determinado valor de uma determinada lista de inteiros e retorne a nova lista."
   ]
  },
  {
   "cell_type": "code",
   "execution_count": 44,
   "id": "14965114",
   "metadata": {},
   "outputs": [
    {
     "name": "stdout",
     "output_type": "stream",
     "text": [
      "[2, 3, 4, 6, 7]\n",
      "[1, 2, 3, 4]\n",
      "[5, 6, 10, 10, 10, 10, 10]\n"
     ]
    }
   ],
   "source": [
    "def remover_elemento(lista, val):\n",
    "    i = 0\n",
    "    while i < len(lista):\n",
    "        if lista[i] == val:\n",
    "            lista.remove(lista[i])\n",
    "        else:\n",
    "            i += 1\n",
    "    return lista\n",
    "\n",
    "print(remover_elemento([5,2,3,4,5,6,7,5], 5))\n",
    "print(remover_elemento([1,2,3,4,10,10,10,10,10], 10)) \n",
    "print(remover_elemento([5,6,7,10,10,10,10,10], 7)) "
   ]
  },
  {
   "cell_type": "markdown",
   "id": "207883b6",
   "metadata": {},
   "source": [
    "## 41)\n",
    "\n",
    "Escreva um programa Python para calcular a mediana de uma lista de números.\n",
    "\n",
    "Em estatística e teoria da probabilidade, a mediana é o valor que separa a metade superior da metade inferior de uma amostra de dados, uma população ou uma distribuição de probabilidade. \n",
    "\n",
    "Para um conjunto de dados, pode ser considerado como o valor \"do meio\"."
   ]
  },
  {
   "cell_type": "code",
   "execution_count": 46,
   "id": "1e4ad70d",
   "metadata": {},
   "outputs": [
    {
     "name": "stdout",
     "output_type": "stream",
     "text": [
      "3\n",
      "3.5\n"
     ]
    }
   ],
   "source": [
    "def mediana(números):\n",
    "    números.sort()\n",
    "    n = len(números)\n",
    "    m = n // 2\n",
    "    if n % 2 == 0:\n",
    "        return (números[m - 1] + números[m]) / 2\n",
    "    else:\n",
    "        return números[m]\n",
    "\n",
    "print(mediana([1,2,3,4,5]))\n",
    "print(mediana([1,2,3,4,5,6]))"
   ]
  },
  {
   "cell_type": "markdown",
   "id": "1234a0b5",
   "metadata": {},
   "source": [
    "## 42)\n",
    "\n",
    "Escreva uma função que retorne **True** se um ano for um bissexto, caso contrário, retorne **False**.\n",
    "\n",
    "Um ano é um \"ano bissexto\" se durar 366 dias, em vez de 365 em um ano normal. Esse dia extra é adicionado ao final do mês mais curto, criando 29 de fevereiro.\n",
    "\n",
    "Um ano bissexto ocorre a cada quatro anos e ocorrerá se o ano for múltiplo de quatro. A exceção a isso é um ano no início de um século (por exemplo, 1900 ou 2000), onde o ano deve ser divisível por 400 para ser um ano bissexto."
   ]
  },
  {
   "cell_type": "code",
   "execution_count": 48,
   "id": "5b0fe6ee",
   "metadata": {},
   "outputs": [
    {
     "name": "stdout",
     "output_type": "stream",
     "text": [
      "False\n",
      "True\n",
      "False\n"
     ]
    }
   ],
   "source": [
    "def bissexto(ano):\n",
    "    \"\"\"Determina se um ano é bissexto\"\"\"\n",
    "    return ano % 4 == 0 and (ano % 100 != 0 or ano % 400 == 0)\n",
    "\n",
    "print(bissexto(1990)) \n",
    "print(bissexto(1924))\n",
    "print(bissexto(2021)) "
   ]
  },
  {
   "cell_type": "markdown",
   "id": "9d3f969b",
   "metadata": {},
   "source": [
    "## 43)\n",
    "\n",
    "Crie uma função que receba um número **num** e retorne seu comprimento."
   ]
  },
  {
   "cell_type": "code",
   "execution_count": 50,
   "id": "038ff112",
   "metadata": {},
   "outputs": [
    {
     "name": "stdout",
     "output_type": "stream",
     "text": [
      "2\n",
      "4\n",
      "6\n"
     ]
    }
   ],
   "source": [
    "def comprimento_num(num):\n",
    "    return len(str(num))\n",
    "\n",
    "print(comprimento_num(10)) \n",
    "print(comprimento_num(5000)) \n",
    "print(comprimento_num(100_000)) "
   ]
  },
  {
   "cell_type": "markdown",
   "id": "d6fa6274",
   "metadata": {},
   "source": [
    "## 44)\n",
    "\n",
    "Crie uma função que testa se um inteiro é ou não um **número perfeito**. Um número perfeito é um número que pode ser escrito como a soma de seus fatores, excluindo o próprio número.\n",
    "\n",
    "Por exemplo, **6** é um número perfeito, uma vez que `1 + 2 + 3 = 6`, onde 1, 2 e 3 são todos fatores de 6. \n",
    "\n",
    "Da mesma forma, **28** é um número perfeito, uma vez que `1 + 2 + 4 + 7 + 14 = 28`"
   ]
  },
  {
   "cell_type": "code",
   "execution_count": 53,
   "id": "c73d3da1",
   "metadata": {},
   "outputs": [
    {
     "name": "stdout",
     "output_type": "stream",
     "text": [
      "True\n",
      "True\n",
      "True\n",
      "False\n",
      "False\n"
     ]
    }
   ],
   "source": [
    "def número_perfeito(n):\n",
    "    soma = 0\n",
    "    for x in range(1, n):\n",
    "        if n % x == 0:\n",
    "            soma += x\n",
    "    return soma == n\n",
    "\n",
    "print(número_perfeito(6))\n",
    "print(número_perfeito(28)) \n",
    "print(número_perfeito(496))\n",
    "print(número_perfeito(12)) \n",
    "print(número_perfeito(97))"
   ]
  },
  {
   "cell_type": "markdown",
   "id": "94243928",
   "metadata": {},
   "source": [
    "## 45)\n",
    "\n",
    "Escreva um programa Python para gerar aleatoriamente uma lista com 10 números pares entre 1 e 100 (inclusivo)."
   ]
  },
  {
   "cell_type": "code",
   "execution_count": 149,
   "id": "f71d0be9",
   "metadata": {},
   "outputs": [
    {
     "name": "stdout",
     "output_type": "stream",
     "text": [
      "[50, 48, 98, 54, 74, 24, 4, 92, 100, 60]\n"
     ]
    }
   ],
   "source": [
    "from random import sample\n",
    "\n",
    "print(sample([i for i in range(1,101) if i%2==0], 10))"
   ]
  },
  {
   "cell_type": "markdown",
   "id": "1cc42083",
   "metadata": {},
   "source": [
    "## 46)\n",
    "\n",
    "Escreva um programa Python que aceite uma lista de números e crie uma lista para armazenar:\n",
    "\n",
    "- a contagem de números negativos no primeiro elemento \n",
    "- e armazenar a soma dos números positivos no segundo elemento.\n",
    "\n",
    "Por exemplo:\n",
    "\n",
    "```python\n",
    "x = [1, 2, 3, 4, 5] ➞ [0, 15]\n",
    "y = [-1, -2, -3, -4, -5] ➞ [5, 0]\n",
    "z = [1, 2, 3, -4, -5] ➞ [2, 6]\n",
    "k = [1, 2, -3, -4, -5] ➞ [3, 3]\n",
    "```"
   ]
  },
  {
   "cell_type": "code",
   "execution_count": 151,
   "id": "598fc667",
   "metadata": {},
   "outputs": [
    {
     "name": "stdout",
     "output_type": "stream",
     "text": [
      "[0, 15]\n",
      "[5, 0]\n",
      "[2, 6]\n",
      "[3, 3]\n",
      "[3, 15]\n"
     ]
    }
   ],
   "source": [
    "def contagem_num(nums):\n",
    "    if not nums: \n",
    "        return []\n",
    "    return [len([n for n in nums if n < 0]), sum(n for n in nums if n > 0)]\n",
    "\n",
    "print(contagem_num([1, 2, 3, 4, 5]))\n",
    "print(contagem_num([-1, -2, -3, -4, -5]))\n",
    "print(contagem_num([1, 2, 3, -4, -5]))\n",
    "print(contagem_num([1, 2, -3, -4, -5])) \n",
    "print(contagem_num([1, 2, 12, -4, -5, -10])) "
   ]
  },
  {
   "cell_type": "markdown",
   "id": "cf652383",
   "metadata": {},
   "source": [
    "## 47)\n",
    "\n",
    "Escreva um programa Python para calcular a soma dos três menores números positivos de uma determinada lista de números."
   ]
  },
  {
   "cell_type": "code",
   "execution_count": 152,
   "id": "99f3fe67",
   "metadata": {},
   "outputs": [
    {
     "name": "stdout",
     "output_type": "stream",
     "text": [
      "37\n",
      "6\n",
      "6\n"
     ]
    }
   ],
   "source": [
    "def soma_três_menores(lst):\n",
    "\treturn sum(sorted([x for x in lst if x > 0])[:3])\n",
    "\n",
    "print(soma_três_menores([10, 20, 30, 40, 50, 60, 7]))\n",
    "print(soma_três_menores([1, 2, 3, 4, 5]))\n",
    "print(soma_três_menores([0, 1, 2, 3, 4, 5]))"
   ]
  },
  {
   "cell_type": "markdown",
   "id": "f962b3df",
   "metadata": {},
   "source": [
    "## 48)\n",
    "\n",
    "Escreva um programa Python para contar o número de argumentos em uma determinada função."
   ]
  },
  {
   "cell_type": "code",
   "execution_count": 153,
   "id": "f3a30a14",
   "metadata": {},
   "outputs": [
    {
     "name": "stdout",
     "output_type": "stream",
     "text": [
      "0\n",
      "1\n",
      "2\n",
      "3\n",
      "4\n",
      "1\n"
     ]
    }
   ],
   "source": [
    "def num_args(*args):\n",
    "\treturn(len(args))\n",
    "\n",
    "print(num_args())\n",
    "print(num_args(1))\n",
    "print(num_args(1, 2))\n",
    "print(num_args(1, 2, 3))\n",
    "print(num_args(1, 2, 3, 4))\n",
    "print(num_args([1, 2, 3, 4]))"
   ]
  },
  {
   "cell_type": "markdown",
   "id": "96d369f3",
   "metadata": {},
   "source": [
    "## 49)\n",
    "\n",
    "Escreva um programa Python para calcular a soma cumulativa dos números de uma determinada lista.\n",
    "\n",
    "**Observação**: Soma cumulativa = soma de si mesma + todos os números anteriores na referida lista.\n",
    "\n",
    "Por exemplo:\n",
    "\n",
    "```python\n",
    "x = [10, 20, 30, 40, 50, 60, 7] ➞ [10, 30, 60, 100, 150, 210, 217]\n",
    "y = [1, 2, 3, 4, 5] ➞ [1, 3, 6, 10, 15]\n",
    "z = [0, 1, 2, 3, 4, 5] ➞ [0, 1, 3, 6, 10, 15]\n",
    "```"
   ]
  },
  {
   "cell_type": "code",
   "execution_count": 154,
   "id": "2ba0dc1d",
   "metadata": {},
   "outputs": [
    {
     "name": "stdout",
     "output_type": "stream",
     "text": [
      "[10, 30, 60, 100, 150, 210, 217]\n",
      "[1, 3, 6, 10, 15]\n",
      "[0, 1, 3, 6, 10, 15]\n"
     ]
    }
   ],
   "source": [
    "def soma_cumulativa(lista):\n",
    "    return [sum(lista[:i+1]) for i in range(len(lista))]\n",
    "\n",
    "print(soma_cumulativa([10, 20, 30, 40, 50, 60, 7]))\n",
    "print(soma_cumulativa([1, 2, 3, 4, 5]))\n",
    "print(soma_cumulativa([0, 1, 2, 3, 4, 5]))"
   ]
  },
  {
   "cell_type": "markdown",
   "id": "1e9020bf",
   "metadata": {},
   "source": [
    "## 50)\n",
    "\n",
    "Escreva um programa Python para encontrar o(s) caractere(s) do meio de uma determinada string. Se o comprimento da string for ímpar, retorne o caractere do meio, e os dois caracteres do meio se o comprimento da string for par.\n",
    "\n",
    "Por exemplo: \n",
    "\n",
    "```python\n",
    "x = (\"Python\") ➞ th\n",
    "y = (\"PHP\") ➞ H\n",
    "z = (\"Java\") ➞ av\n",
    "```"
   ]
  },
  {
   "cell_type": "code",
   "execution_count": 155,
   "id": "00a5c37a",
   "metadata": {},
   "outputs": [
    {
     "name": "stdout",
     "output_type": "stream",
     "text": [
      "bb\n",
      "o\n",
      "r\n"
     ]
    }
   ],
   "source": [
    "def caracter_meio(txt):\n",
    "    return txt[(len(txt)-1)//2:(len(txt)+2)//2]\n",
    "\n",
    "print(caracter_meio(\"abba\"))\n",
    "print(caracter_meio(\"boi\"))\n",
    "print(caracter_meio(\"Gabriel\"))"
   ]
  },
  {
   "cell_type": "markdown",
   "id": "894aaf25",
   "metadata": {},
   "source": [
    "## 51)\n",
    "\n",
    "Escreva um programa Python para encontrar o maior produto do par de elementos adjacentes de uma determinada lista de inteiros.\n",
    "\n",
    "Por exemplo:\n",
    "\n",
    "```python\n",
    "x = [1,2,3,4,5,6] ➞ 30\n",
    "y = [1,2,3,4,5] ➞ 20\n",
    "z = [2,3] ➞ 6\n",
    "```"
   ]
  },
  {
   "cell_type": "code",
   "execution_count": 157,
   "id": "6cb25eb7",
   "metadata": {},
   "outputs": [
    {
     "name": "stdout",
     "output_type": "stream",
     "text": [
      "30\n",
      "20\n",
      "6\n",
      "18\n"
     ]
    }
   ],
   "source": [
    "def maior_produto_adjacentes(lista):\n",
    "    return max(a*b for a, b in zip(lista, lista[1:]))\n",
    "\n",
    "print(maior_produto_adjacentes([1,2,3,4,5,6]))\n",
    "print(maior_produto_adjacentes([1,2,3,4,5]))\n",
    "print(maior_produto_adjacentes([2,3]))\n",
    "print(maior_produto_adjacentes([1,1,9,2,5]))"
   ]
  },
  {
   "cell_type": "markdown",
   "id": "90fff4e7",
   "metadata": {},
   "source": [
    "## 52)\n",
    "\n",
    "Escreva um programa Python para verificar se todo índice par contém um número par e se todo índice ímpar contém um número ímpar de uma determinada lista.\n",
    "\n",
    "Por exemplo:\n",
    "\n",
    "```python\n",
    "x = [2, 1, 4, 3, 6, 7, 6, 3] ➞ True\n",
    "y = [2, 1, 4, 3, 6, 7, 6, 4] ➞ False\n",
    "z = [4, 1, 2] ➞ True\n",
    "```"
   ]
  },
  {
   "cell_type": "code",
   "execution_count": 160,
   "id": "67f49ccf",
   "metadata": {},
   "outputs": [
    {
     "name": "stdout",
     "output_type": "stream",
     "text": [
      "True\n",
      "False\n",
      "True\n",
      "False\n"
     ]
    }
   ],
   "source": [
    "def posição_ímpar_par(lista):\n",
    "\treturn all(lista[i]%2==i%2 for i in range(len(lista)))\n",
    "\n",
    "print(posição_ímpar_par([2, 1, 4, 3, 6, 7, 6, 3]))\n",
    "print(posição_ímpar_par([2, 1, 4, 3, 6, 7, 6, 4]))\n",
    "print(posição_ímpar_par([4, 1, 2]))\n",
    "print(posição_ímpar_par([1]))"
   ]
  },
  {
   "cell_type": "markdown",
   "id": "8c67cf58",
   "metadata": {},
   "source": [
    "## 53)\n",
    "\n",
    "Escreva um programa Python para verificar se uma sequência de números tem uma tendência crescente ou não.\n",
    "\n",
    "Por exemplo:\n",
    "\n",
    "```python\n",
    "x = [1,2,3,4] ➞ True\n",
    "y = [1,2,5,3,4] ➞ False\n",
    "z = [-1,-2,-3,-4] ➞ False\n",
    "k = [-4,-3,-2,-1] ➞ True\n",
    "m = [1,2,3,4,0] ➞ False\n",
    "```"
   ]
  },
  {
   "cell_type": "code",
   "execution_count": 162,
   "id": "95ffb3ba",
   "metadata": {},
   "outputs": [
    {
     "name": "stdout",
     "output_type": "stream",
     "text": [
      "True\n",
      "False\n",
      "False\n",
      "True\n",
      "False\n",
      "True\n"
     ]
    }
   ],
   "source": [
    "def n_crescentes(lista):\n",
    "    if (sorted(lista) == lista):\n",
    "        return True\n",
    "    else:\n",
    "        return False\n",
    "\n",
    "print(n_crescentes([1,2,3,4]))\n",
    "print(n_crescentes([1,2,5,3,4]))\n",
    "print(n_crescentes([-1,-2,-3,-4]))\n",
    "print(n_crescentes([-4,-3,-2,-1]))\n",
    "print(n_crescentes([1,2,3,4,0]))\n",
    "print(n_crescentes([10,20,30,40,50]))"
   ]
  },
  {
   "cell_type": "markdown",
   "id": "9fae5e8e",
   "metadata": {},
   "source": [
    "## 54)\n",
    "\n",
    "Escreva um programa Python para calcular a soma de todos os itens de uma determinada lista de inteiros, onde cada inteiro é multiplicado por seu índice. Retorne 0 se não houver nenhum número.\n",
    "\n",
    "Por exemplo:\n",
    "\n",
    "```python\n",
    "x = [1,2,3,4] ➞ 20\n",
    "y = [-1,-2,-3,-4] ➞ -20\n",
    "z = [] ➞ 0\n",
    "```"
   ]
  },
  {
   "cell_type": "code",
   "execution_count": 164,
   "id": "e7a1422b",
   "metadata": {},
   "outputs": [
    {
     "name": "stdout",
     "output_type": "stream",
     "text": [
      "20\n",
      "-20\n",
      "0\n",
      "80\n"
     ]
    }
   ],
   "source": [
    "def soma_multiplicação_índices(lista):\n",
    "\treturn sum(j*i for i, j in enumerate(lista))\n",
    "\n",
    "print(soma_multiplicação_índices([1,2,3,4]))\n",
    "print(soma_multiplicação_índices([-1,-2,-3,-4]))\n",
    "print(soma_multiplicação_índices([]))\n",
    "print(soma_multiplicação_índices([10,20,30]))"
   ]
  },
  {
   "cell_type": "markdown",
   "id": "2a450fd6",
   "metadata": {},
   "source": [
    "## 55)\n",
    "\n",
    "Escreva um programa Python para encontrar os índices de todas as ocorrências de um determinado item em uma determinada lista.\n",
    "\n",
    "Por exemplo:\n",
    "\n",
    "```python\n",
    "x = ([1,2,3,4,5,2], 2) ➞ [1, 5]\n",
    "y = ([3,1,2,3,4,5,6,3,3], 3) ➞ [0, 3, 7, 8]\n",
    "z = ([1,2,3,-4,5,2,-4], -4) ➞ [3, 6]\n",
    "```"
   ]
  },
  {
   "cell_type": "code",
   "execution_count": 165,
   "id": "a3fdf865",
   "metadata": {},
   "outputs": [
    {
     "name": "stdout",
     "output_type": "stream",
     "text": [
      "[1, 5]\n",
      "[0, 3, 7, 8]\n",
      "[3, 6]\n",
      "[1, 2, 3, 4, 5]\n"
     ]
    }
   ],
   "source": [
    "def índices_na_lista(lista, n):\n",
    "\treturn [idx for idx, i in enumerate(lista) if i == n]\n",
    "\n",
    "print(índices_na_lista([1,2,3,4,5,2], 2))\n",
    "print(índices_na_lista([3,1,2,3,4,5,6,3,3], 3))\n",
    "print(índices_na_lista([1,2,3,-4,5,2,-4], -4))\n",
    "print(índices_na_lista([1,2,2,2,2,2,1], 2))"
   ]
  },
  {
   "cell_type": "markdown",
   "id": "db90163f",
   "metadata": {},
   "source": [
    "## 56)\n",
    "\n",
    "Escreva um programa Python para fazer uma solicitação a uma página da web e testar o código de status, além de exibir o código HTML da página da web especificada."
   ]
  },
  {
   "cell_type": "code",
   "execution_count": 169,
   "id": "eab3d318",
   "metadata": {},
   "outputs": [
    {
     "name": "stdout",
     "output_type": "stream",
     "text": [
      "Web page STATUS CODE: <Response [200]>\n",
      "\n",
      "Código HTML da página Web:\n",
      "\n",
      "<!doctype html>\n",
      "<html>\n",
      "<head>\n",
      "    <title>Example Domain</title>\n",
      "\n",
      "    <meta charset=\"utf-8\" />\n",
      "    <meta http-equiv=\"Content-type\" content=\"text/html; charset=utf-8\" />\n",
      "    <meta name=\"viewport\" content=\"width=device-width, initial-scale=1\" />\n",
      "    <style type=\"text/css\">\n",
      "    body {\n",
      "        background-color: #f0f0f2;\n",
      "        margin: 0;\n",
      "        padding: 0;\n",
      "        font-family: -apple-system, system-ui, BlinkMacSystemFont, \"Segoe UI\", \"Open Sans\", \"Helvetica Neue\", Helvetica, Arial, sans-serif;\n",
      "        \n",
      "    }\n",
      "    div {\n",
      "        width: 600px;\n",
      "        margin: 5em auto;\n",
      "        padding: 2em;\n",
      "        background-color: #fdfdff;\n",
      "        border-radius: 0.5em;\n",
      "        box-shadow: 2px 3px 7px 2px rgba(0,0,0,0.02);\n",
      "    }\n",
      "    a:link, a:visited {\n",
      "        color: #38488f;\n",
      "        text-decoration: none;\n",
      "    }\n",
      "    @media (max-width: 700px) {\n",
      "        div {\n",
      "            margin: 0 auto;\n",
      "            width: auto;\n",
      "        }\n",
      "    }\n",
      "    </style>    \n",
      "</head>\n",
      "\n",
      "<body>\n",
      "<div>\n",
      "    <h1>Example Domain</h1>\n",
      "    <p>This domain is for use in illustrative examples in documents. You may use this\n",
      "    domain in literature without prior coordination or asking for permission.</p>\n",
      "    <p><a href=\"https://www.iana.org/domains/example\">More information...</a></p>\n",
      "</div>\n",
      "</body>\n",
      "</html>\n",
      "\n"
     ]
    }
   ],
   "source": [
    "import requests\n",
    "\n",
    "URL = 'http://www.example.com/'\n",
    "headers = {'User-Agent': 'Mozilla/5.0 (Macintosh) Gecko/20100101 Firefox/38.0'}\n",
    "request = requests.get(URL, headers=headers)\n",
    "\n",
    "print(f\"Web page STATUS CODE: {request}\")\n",
    "print(\"\\nCódigo HTML da página Web:\\n\")\n",
    "if request.ok:\n",
    "    print(request.text)"
   ]
  },
  {
   "cell_type": "markdown",
   "id": "45a2cc3b",
   "metadata": {},
   "source": [
    "## 57)\n",
    "\n",
    "Escreva um programa Python para gerar: \n",
    "\n",
    "- um hexadecimal de cor aleatória \n",
    "- uma string alfabética aleatória\n",
    "- um valor aleatório entre dois inteiros (inclusivo) \n",
    "- e um múltiplo aleatório de 7 entre 0 e 70."
   ]
  },
  {
   "cell_type": "code",
   "execution_count": 209,
   "id": "3f3d8fa8",
   "metadata": {},
   "outputs": [
    {
     "name": "stdout",
     "output_type": "stream",
     "text": [
      "Gerar uma cor hexadecimal aleatória:\n",
      "#028080\n",
      "\n",
      "Gerar uma string alfabética aleatória:\n",
      "UKonmPhAvVOQSFrxPLtQBcOMDkJtNJilYRCOYOkuqWONIDAmbXyDygyVYEagWQPkSnOPqlNOtDgwPaXsgsvG\n",
      "\n",
      "Gere um valor aleatório entre dois inteiros, inclusivo:\n",
      "7\n",
      "4\n",
      "1\n",
      "\n",
      "Gere um múltiplo aleatório de 7 entre 0 e 70:\n",
      "21\n"
     ]
    }
   ],
   "source": [
    "from random import randint, choice\n",
    "import string\n",
    "\n",
    "print(\"Gerar uma cor hexadecimal aleatória:\")\n",
    "print(\"#{:06x}\".format(randint(0, 0xFFFFFF)).upper())\n",
    "\n",
    "print(\"\\nGerar uma string alfabética aleatória:\")\n",
    "max_length = 100\n",
    "s = \"\"\n",
    "for i in range(randint(1, max_length)):\n",
    "    s += choice(string.ascii_letters)  \n",
    "print(s)\n",
    "\n",
    "print(\"\\nGere um valor aleatório entre dois inteiros, inclusivo:\")\n",
    "print(randint(0, 10))\n",
    "print(randint(-7, 7))\n",
    "print(randint(1, 1))\n",
    "\n",
    "print(\"\\nGere um múltiplo aleatório de 7 entre 0 e 70:\")\n",
    "print(randint(0, 10) * 7)"
   ]
  },
  {
   "cell_type": "markdown",
   "id": "95f7cf90",
   "metadata": {},
   "source": [
    "## 58)\n",
    "\n",
    "Escreva uma função Python que aceite uma string e calcule o número de letras maiúsculas e minúsculas."
   ]
  },
  {
   "cell_type": "code",
   "execution_count": 213,
   "id": "4d694c08",
   "metadata": {},
   "outputs": [
    {
     "name": "stdout",
     "output_type": "stream",
     "text": [
      "Original String : PYTHON é uma Excelente Linguagem de PROGRAMAÇÃO\n",
      "Número de caracteres Upper Case: 19\n",
      "Número de caracteres Lower Case: 22\n"
     ]
    }
   ],
   "source": [
    "def string_teste(string):\n",
    "    d = {\"UPPER_CASE\":0, \"LOWER_CASE\":0}\n",
    "    for c in string:\n",
    "        if c.isupper():\n",
    "            d[\"UPPER_CASE\"] += 1\n",
    "        elif c.islower():\n",
    "            d[\"LOWER_CASE\"] += 1\n",
    "        else:\n",
    "            pass\n",
    "    print (f\"Original String : {string}\")\n",
    "    print (f\"Número de caracteres Upper Case: {d['UPPER_CASE']}\")\n",
    "    print (f\"Número de caracteres Lower Case: {d['LOWER_CASE']}\")\n",
    "\n",
    "string_teste('PYTHON é uma Excelente Linguagem de PROGRAMAÇÃO')"
   ]
  },
  {
   "cell_type": "markdown",
   "id": "f7caf21c",
   "metadata": {},
   "source": [
    "## 59)\n",
    "\n",
    "Escreva uma função Python que imprima as primeiras **n** linhas do triângulo de Pascal.\n",
    "\n",
    "**Observação**: o triângulo de Pascal é uma figura aritmética e geométrica imaginada pela primeira vez por Blaise Pascal.\n",
    "\n",
    "Exemplo do triângulo de Pascal:\n",
    "\n",
    "![img](https://www.w3resource.com/w3r_images/pascal-traingle.png)"
   ]
  },
  {
   "cell_type": "code",
   "execution_count": 223,
   "id": "325762ac",
   "metadata": {},
   "outputs": [
    {
     "name": "stdout",
     "output_type": "stream",
     "text": [
      "                 1                 \n",
      "\n",
      "                1 1                \n",
      "\n",
      "               1 2 1               \n",
      "\n",
      "              1 3 3 1              \n",
      "\n",
      "             1 4 6 4 1             \n",
      "\n",
      "           1 5 10 10 5 1           \n",
      "\n",
      "          1 6 15 20 15 6 1         \n",
      "\n",
      "        1 7 21 35 35 21 7 1        \n",
      "\n",
      "       1 8 28 56 70 56 28 8 1      \n",
      "\n",
      "    1 9 36 84 126 126 84 36 9 1    \n",
      "\n",
      "1 10 45 120 210 252 210 120 45 10 1\n",
      "\n"
     ]
    }
   ],
   "source": [
    "def gerar_números(n,r=[]):\n",
    "    for x in range(n):\n",
    "        l = len(r)\n",
    "        r = [1 if i == 0 or i == l else r[i-1]+r[i] for i in range(l+1)]\n",
    "        yield r\n",
    "        \n",
    "def desenhar(n):\n",
    "    ps = list(gerar_números(n))\n",
    "    max = len(' '.join(map(str,ps[-1])))\n",
    "    for p in ps:\n",
    "        print(' '.join(map(str,p)).center(max)+'\\n')\n",
    "\n",
    "desenhar(11)"
   ]
  },
  {
   "cell_type": "markdown",
   "id": "bd0b8ee2",
   "metadata": {},
   "source": [
    "## 60)\n",
    "\n",
    "Escreva um programa Python para executar uma string contendo código Python."
   ]
  },
  {
   "cell_type": "code",
   "execution_count": 225,
   "id": "291f0643",
   "metadata": {},
   "outputs": [
    {
     "name": "stdout",
     "output_type": "stream",
     "text": [
      "Hello World!\n",
      "2 x 3 = 6\n"
     ]
    }
   ],
   "source": [
    "code = 'print(\"Hello World!\")'\n",
    "\n",
    "código = \"\"\"\n",
    "def multiplicar(x,y):\n",
    "    return x*y\n",
    "\n",
    "print(f'2 x 3 = {multiplicar(2,3)}')\n",
    "\"\"\"\n",
    "\n",
    "exec(code)\n",
    "exec(código)"
   ]
  },
  {
   "cell_type": "markdown",
   "id": "39a45d73",
   "metadata": {},
   "source": [
    "## 61)\n",
    "\n",
    "Escreva um programa Python para detectar o número de variáveis locais declaradas em uma função."
   ]
  },
  {
   "cell_type": "code",
   "execution_count": 229,
   "id": "d6f84c49",
   "metadata": {},
   "outputs": [
    {
     "name": "stdout",
     "output_type": "stream",
     "text": [
      "4\n"
     ]
    }
   ],
   "source": [
    "def func():\n",
    "    x = 1\n",
    "    y = 2\n",
    "    string = \"Python\"\n",
    "    lista = [1,2,3]\n",
    "    print(\"Exercícios Python!\")\n",
    "\n",
    "print(func.__code__.co_nlocals)"
   ]
  },
  {
   "cell_type": "markdown",
   "id": "754279ea",
   "metadata": {},
   "source": [
    "## 62)\n",
    "\n",
    "Escreva um programa Python para converter um número binário em número decimal."
   ]
  },
  {
   "cell_type": "code",
   "execution_count": 233,
   "id": "4de2f8d6",
   "metadata": {},
   "outputs": [
    {
     "name": "stdin",
     "output_type": "stream",
     "text": [
      "Informe um número binário:  11111111\n"
     ]
    },
    {
     "name": "stdout",
     "output_type": "stream",
     "text": [
      "O valor decimal do número é 255\n"
     ]
    }
   ],
   "source": [
    "bn = list(input(\"Informe um número binário: \"))\n",
    "valor = 0\n",
    "\n",
    "for i in range(len(bn)):\n",
    "\tdigit = bn.pop()\n",
    "\tif digit == '1':\n",
    "\t\tvalor = valor + pow(2, i)\n",
    "        \n",
    "print(f\"O valor decimal do número é {valor}\")"
   ]
  },
  {
   "cell_type": "markdown",
   "id": "bf877e0c",
   "metadata": {},
   "source": [
    "## 63)\n",
    "\n",
    "Escreva um programa Python para arredondar um decimal especificado definindo a precisão (entre 1 e 4).\n",
    "\n",
    "Por exemplo:\n",
    "\n",
    "```\n",
    "Número Exemplo = 0.26598\n",
    "Número Original = 0.26598\n",
    "Precisão-1 = 0.3\n",
    "Precisão-2 = 0.27\n",
    "Precisão-3 = 0.266\n",
    "Precisão-4 = 0.2660\n",
    "```"
   ]
  },
  {
   "cell_type": "code",
   "execution_count": 234,
   "id": "82e9ee1b",
   "metadata": {},
   "outputs": [
    {
     "name": "stdout",
     "output_type": "stream",
     "text": [
      "Número original = 0.26598\n",
      "Precision-1 = 0.3\n",
      "Precision-2 = 0.27\n",
      "Precision-3 = 0.266\n",
      "Precision-4 = 0.2660\n"
     ]
    }
   ],
   "source": [
    "import decimal\n",
    "\n",
    "d = decimal.Decimal('00.26598')\n",
    "\n",
    "print(f\"Número original = {d}\")\n",
    "\n",
    "for i in range(1, 5):\n",
    "    decimal.getcontext().prec = i\n",
    "    print(f\"Precision-{i} = {d * 1}\")"
   ]
  },
  {
   "cell_type": "markdown",
   "id": "7f8f6483",
   "metadata": {},
   "source": [
    "## 64)\n",
    "\n",
    "Escreva um programa Python para exibir as instâncias fracionárias da representação em string de um número.\n",
    "\n",
    "**Dados de amostra**: `'0.7', '2.5', '9.32'`\n",
    "\n",
    "**Output esperado**:\n",
    "\n",
    "```\n",
    "0.7 = 7/10                                                                  \n",
    "2.5 = 5/2                                                                  \n",
    "9.32 = 233/25                                                                  \n",
    "```"
   ]
  },
  {
   "cell_type": "code",
   "execution_count": 235,
   "id": "cde47fba",
   "metadata": {},
   "outputs": [
    {
     "name": "stdout",
     "output_type": "stream",
     "text": [
      " 0.7 = 7/10\n",
      " 2.5 = 5/2\n",
      "9.32 = 233/25\n"
     ]
    }
   ],
   "source": [
    "import fractions\n",
    "\n",
    "for s in ['0.7', '2.5', '9.32']:\n",
    "    f = fractions.Fraction(s)\n",
    "    print('{0:>4} = {1}'.format(s, f))"
   ]
  },
  {
   "cell_type": "markdown",
   "id": "89699dfe",
   "metadata": {},
   "source": [
    "## 65)\n",
    "\n",
    "Escreva um programa Python para adicionar, subtrair, multiplicar e dividir duas frações.\n",
    "\n",
    "**Output esperado**:\n",
    "\n",
    "```\n",
    "2/3 + 3/7 = 23/21                                                                \n",
    "2/3 - 3/7 = 5/21                                                                 \n",
    "2/3 * 3/7 = 2/7                                                                  \n",
    "2/3 / 3/7 = 14/9 \n",
    "```"
   ]
  },
  {
   "cell_type": "code",
   "execution_count": 237,
   "id": "51bd79c8",
   "metadata": {},
   "outputs": [
    {
     "name": "stdout",
     "output_type": "stream",
     "text": [
      "2/3 + 3/7 = 23/21\n",
      "2/3 - 3/7 = 5/21\n",
      "2/3 * 3/7 = 2/7\n",
      "2/3 / 3/7 = 14/9\n"
     ]
    }
   ],
   "source": [
    "import fractions\n",
    "\n",
    "f1 = fractions.Fraction(2, 3)\n",
    "f2 = fractions.Fraction(3, 7)\n",
    "\n",
    "print('{} + {} = {}'.format(f1, f2, f1 + f2))\n",
    "print('{} - {} = {}'.format(f1, f2, f1 - f2))\n",
    "print('{} * {} = {}'.format(f1, f2, f1 * f2))\n",
    "print('{} / {} = {}'.format(f1, f2, f1 / f2))"
   ]
  },
  {
   "cell_type": "markdown",
   "id": "1f20981c",
   "metadata": {},
   "source": [
    "## 66)\n",
    "\n",
    "Escreva um programa Python para lançar uma moeda 10.000 vezes e contar o número de caras e coroas."
   ]
  },
  {
   "cell_type": "code",
   "execution_count": 252,
   "id": "e6b11783",
   "metadata": {},
   "outputs": [
    {
     "name": "stdout",
     "output_type": "stream",
     "text": [
      "Caras: 4983\n",
      "Coroas: 5017\n"
     ]
    }
   ],
   "source": [
    "from random import choice\n",
    "\n",
    "resultados = {\n",
    "    'caras': 0,\n",
    "    'coroas': 0,\n",
    "}\n",
    "lados = list(resultados.keys())\n",
    "\n",
    "for i in range(10_000):\n",
    "    resultados[choice(lados)] += 1\n",
    "\n",
    "print(f\"Caras: {resultados['caras']}\")\n",
    "print(f\"Coroas: {resultados['coroas']}\")"
   ]
  },
  {
   "cell_type": "markdown",
   "id": "eb5d8e4a",
   "metadata": {},
   "source": [
    "## 67)\n",
    "\n",
    "Escreva um programa Python para triplicar todos os números de uma determinada lista de inteiros. Use o Python **map**."
   ]
  },
  {
   "cell_type": "code",
   "execution_count": 254,
   "id": "b18d3b7e",
   "metadata": {},
   "outputs": [
    {
     "name": "stdout",
     "output_type": "stream",
     "text": [
      "Lista Original: [1, 2, 3, 4, 5, 6, 7]\n",
      "Triplo de cada número: [3, 6, 9, 12, 15, 18, 21]\n"
     ]
    }
   ],
   "source": [
    "lista = [1, 2, 3, 4, 5, 6, 7]\n",
    "\n",
    "print(f\"Lista Original: {lista}\")\n",
    "resultado = map(lambda x: x + x + x, lista) \n",
    "print(f\"Triplo de cada número: {list(resultado)}\")"
   ]
  },
  {
   "cell_type": "markdown",
   "id": "3d336bb9",
   "metadata": {},
   "source": [
    "## 68)\n",
    "\n",
    "Escreva um programa Python para ordenar uma lista de tuplas usando **Lambda**."
   ]
  },
  {
   "cell_type": "code",
   "execution_count": 255,
   "id": "e59e5c53",
   "metadata": {},
   "outputs": [
    {
     "name": "stdout",
     "output_type": "stream",
     "text": [
      "Lista de tuplas original:\n",
      "[('Português', 88), ('Biologia', 90), ('Matemática', 97), ('História', 82)]\n",
      "\n",
      "Lista de tuplas ordenada:\n",
      "[('Biologia', 90), ('História', 82), ('Matemática', 97), ('Português', 88)]\n"
     ]
    }
   ],
   "source": [
    "disciplinas = [('Português', 88), ('Biologia', 90), ('Matemática', 97), ('História', 82)]\n",
    "\n",
    "print(\"Lista de tuplas original:\")\n",
    "print(disciplinas)\n",
    "disciplinas.sort(key = lambda x: x[0])\n",
    "print(\"\\nLista de tuplas ordenada:\")\n",
    "print(disciplinas)"
   ]
  },
  {
   "cell_type": "markdown",
   "id": "00efd86d",
   "metadata": {},
   "source": [
    "## 69)\n",
    "\n",
    "Escreva um programa Python para encontrar as ocorrências das 10 palavras mais comuns em um determinado texto."
   ]
  },
  {
   "cell_type": "code",
   "execution_count": 256,
   "id": "8e4755ef",
   "metadata": {},
   "outputs": [
    {
     "name": "stdout",
     "output_type": "stream",
     "text": [
      "[('Python', 6), ('the', 6), ('and', 5), ('We', 2), ('with', 2), ('The', 1), ('Software', 1), ('Foundation', 1), ('PSF', 1), ('is', 1)]\n"
     ]
    }
   ],
   "source": [
    "from collections import Counter\n",
    "import re\n",
    "\n",
    "texto = \"\"\"The Python Software Foundation (PSF) is a 501(c)(3) non-profit \n",
    "corporation that holds the intellectual property rights behind\n",
    "the Python programming language. We manage the open source licensing \n",
    "for Python version 2.1 and later and own and protect the trademarks \n",
    "associated with Python. We also run the North American PyCon conference \n",
    "annually, support other Python conferences around the world, and \n",
    "fund Python related development with our grants program and by funding \n",
    "special projects.\"\"\"\n",
    "\n",
    "palavras = re.findall('\\w+',texto)\n",
    "print(Counter(palavras).most_common(10))"
   ]
  },
  {
   "cell_type": "markdown",
   "id": "fe22a4a0",
   "metadata": {},
   "source": [
    "## 70)\n",
    "\n",
    "Escreva um programa Python para verificar se um número é um quadrado perfeito.\n",
    "\n",
    "Um número quadrado perfeito é o produto de dois inteiros iguais."
   ]
  },
  {
   "cell_type": "code",
   "execution_count": 257,
   "id": "4a322f91",
   "metadata": {},
   "outputs": [
    {
     "name": "stdout",
     "output_type": "stream",
     "text": [
      "False\n",
      "True\n",
      "True\n"
     ]
    }
   ],
   "source": [
    "def quadrado_perfeito(n):\n",
    "    x = n // 2\n",
    "    y = set([x])\n",
    "    while x * x != n:\n",
    "        x = (x + (n // x)) // 2\n",
    "        if x in y: return False\n",
    "        y.add(x)\n",
    "    return True\n",
    "\n",
    "print(quadrado_perfeito(8))\n",
    "print(quadrado_perfeito(9))\n",
    "print(quadrado_perfeito(100))"
   ]
  },
  {
   "cell_type": "markdown",
   "id": "890f478d",
   "metadata": {},
   "source": [
    "## 71)\n",
    "\n",
    "Escreva um programa Python para adicionar os dígitos de um inteiro positivo repetidamente até que o resultado tenha um único dígito.\n",
    "\n",
    "Por exemplo, se o número for 59, o resultado será 5.\n",
    "\n",
    "- **Etapa 1**: `5 + 9 = 14`\n",
    "- **Etapa 2**: `1 + 4 = 5`"
   ]
  },
  {
   "cell_type": "code",
   "execution_count": 258,
   "id": "8d7214a1",
   "metadata": {},
   "outputs": [
    {
     "name": "stdout",
     "output_type": "stream",
     "text": [
      "3\n",
      "5\n"
     ]
    }
   ],
   "source": [
    "def adicionar_digitos(num):\n",
    "    return (num - 1) % 9 + 1 if num > 0 else 0\n",
    "\n",
    "print(adicionar_digitos(48))\n",
    "print(adicionar_digitos(59))"
   ]
  },
  {
   "cell_type": "markdown",
   "id": "cf73dad2",
   "metadata": {},
   "source": [
    "## 72)\n",
    "\n",
    "Escreva um programa Python para colocar todos os zeros no final de uma lista."
   ]
  },
  {
   "cell_type": "code",
   "execution_count": 260,
   "id": "179a4432",
   "metadata": {},
   "outputs": [
    {
     "name": "stdout",
     "output_type": "stream",
     "text": [
      "[2, 3, 4, 6, 7, 10, 0, 0, 0]\n",
      "[10, 11, 12, 14, 17, 0, 0]\n"
     ]
    }
   ],
   "source": [
    "def mover_zero(lista):\n",
    "    a = [0 for i in range(lista.count(0))]\n",
    "    x = [i for i in lista if i != 0]\n",
    "    x.extend(a)\n",
    "    return(x)\n",
    "\n",
    "print(mover_zero([0,2,3,0,4,0,6,7,10]))\n",
    "print(mover_zero([10,0,11,12,0,14,17]))"
   ]
  },
  {
   "cell_type": "markdown",
   "id": "407a4484",
   "metadata": {},
   "source": [
    "## 73)\n",
    "\n",
    "Escreva um programa Python para verificar se uma determinada string é um anagrama de outra string fornecida.\n",
    "\n",
    "De acordo com a Wikipedia, um anagrama é uma troca direta de palavras ou jogo de palavras, o resultado da reorganização das letras de uma palavra ou frase para produzir uma nova palavra ou frase, usando todas as letras originais exatamente uma vez; por exemplo, a palavra **anagrama** pode ser reorganizada em **nagarama**."
   ]
  },
  {
   "cell_type": "code",
   "execution_count": 263,
   "id": "a78e1ae7",
   "metadata": {},
   "outputs": [
    {
     "name": "stdout",
     "output_type": "stream",
     "text": [
      "True\n",
      "False\n"
     ]
    }
   ],
   "source": [
    "def teste_anagrama(str1, str2):\n",
    "    list_str1 = list(str1)\n",
    "    list_str1.sort()\n",
    "    list_str2 = list(str2)\n",
    "    list_str2.sort()\n",
    "    return (list_str1 == list_str2)\n",
    "\n",
    "print(teste_anagrama('anagrama','nagarama'))\n",
    "print(teste_anagrama('rato','gato'))"
   ]
  },
  {
   "cell_type": "markdown",
   "id": "e5773e15",
   "metadata": {},
   "source": [
    "## 74)\n",
    "\n",
    "Imprima o seguinte padrão:\n",
    "\n",
    "```\n",
    "1 \n",
    "2 2 \n",
    "3 3 3 \n",
    "4 4 4 4 \n",
    "5 5 5 5 5\n",
    "```"
   ]
  },
  {
   "cell_type": "code",
   "execution_count": 271,
   "id": "487f7786",
   "metadata": {},
   "outputs": [
    {
     "name": "stdout",
     "output_type": "stream",
     "text": [
      "\n",
      "\n",
      "1 \n",
      "\n",
      "2 2 \n",
      "\n",
      "3 3 3 \n",
      "\n",
      "4 4 4 4 \n",
      "\n",
      "5 5 5 5 5 \n",
      "\n"
     ]
    }
   ],
   "source": [
    "for num in range(6):\n",
    "    for i in range(num):\n",
    "        print(num, end=\" \")\n",
    "    print('\\n')"
   ]
  },
  {
   "cell_type": "markdown",
   "id": "212d4ddb",
   "metadata": {},
   "source": [
    "## 75)\n",
    "\n",
    "Imprima tabuada de **1** a **10**."
   ]
  },
  {
   "cell_type": "code",
   "execution_count": 277,
   "id": "cfeca2ff",
   "metadata": {},
   "outputs": [
    {
     "name": "stdout",
     "output_type": "stream",
     "text": [
      "1    2    3    4    5    6    7    8    9    10   \t\t\n",
      "2    4    6    8    10   12   14   16   18   20   \t\t\n",
      "3    6    9    12   15   18   21   24   27   30   \t\t\n",
      "4    8    12   16   20   24   28   32   36   40   \t\t\n",
      "5    10   15   20   25   30   35   40   45   50   \t\t\n",
      "6    12   18   24   30   36   42   48   54   60   \t\t\n",
      "7    14   21   28   35   42   49   56   63   70   \t\t\n",
      "8    16   24   32   40   48   56   64   72   80   \t\t\n",
      "9    18   27   36   45   54   63   72   81   90   \t\t\n",
      "10   20   30   40   50   60   70   80   90   100  \t\t\n"
     ]
    }
   ],
   "source": [
    "for i in range(1, 11):\n",
    "    for j in range(1, 11):\n",
    "        print(f'{i * j}'.ljust(4), end=' ')\n",
    "    print(\"\\t\\t\")"
   ]
  },
  {
   "cell_type": "markdown",
   "id": "290ee5d0",
   "metadata": {},
   "source": [
    "## 76)\n",
    "\n",
    "Converta o seguinte objeto **Pessoa** em **JSON**.\n",
    "\n",
    "```python\n",
    "class Pessoa:\n",
    "    def __init__(self, nome, idade, profissão):\n",
    "        self.nome = nome\n",
    "        self.idade = idade\n",
    "        self.profissão = profissão\n",
    "\n",
    "pessoa = Pessoa(\"Rafael\", 25, \"Enfermeiro\")\n",
    "``` "
   ]
  },
  {
   "cell_type": "code",
   "execution_count": 280,
   "id": "77c92b36",
   "metadata": {},
   "outputs": [
    {
     "name": "stdout",
     "output_type": "stream",
     "text": [
      "Objeto Pessoa codificado em JSON:\n",
      "{\n",
      "    \"nome\": \"Rafael\",\n",
      "    \"idade\": 25,\n",
      "    \"profissão\": \"Enfermeiro\"\n",
      "}\n",
      "<class 'str'>\n"
     ]
    }
   ],
   "source": [
    "import json\n",
    "from json import JSONEncoder\n",
    "\n",
    "class Pessoa:\n",
    "    def __init__(self, nome, idade, profissão):\n",
    "        self.nome = nome\n",
    "        self.idade = idade\n",
    "        self.profissão = profissão\n",
    "\n",
    "class PessoaEncoder(JSONEncoder):\n",
    "        def default(self, o):\n",
    "            return o.__dict__\n",
    "\n",
    "pessoa = Pessoa(\"Rafael\", 25, \"Enfermeiro\")\n",
    "\n",
    "print(\"Objeto Pessoa codificado em JSON:\")\n",
    "pessoaJSON = json.dumps(pessoa, indent=4, cls=PessoaEncoder, ensure_ascii=False)\n",
    "print(pessoaJSON)\n",
    "print(type(pessoaJSON))"
   ]
  },
  {
   "cell_type": "markdown",
   "id": "17699724",
   "metadata": {},
   "source": [
    "## 77)\n",
    "\n",
    "Imprima o seguinte padrão usando o **for** loop:\n",
    "\n",
    "```\n",
    "5 4 3 2 1 \n",
    "4 3 2 1 \n",
    "3 2 1 \n",
    "2 1 \n",
    "1\n",
    "```"
   ]
  },
  {
   "cell_type": "code",
   "execution_count": 283,
   "id": "c04753c0",
   "metadata": {},
   "outputs": [
    {
     "name": "stdout",
     "output_type": "stream",
     "text": [
      "5 4 3 2 1 \n",
      "4 3 2 1 \n",
      "3 2 1 \n",
      "2 1 \n",
      "1 \n",
      "\n"
     ]
    }
   ],
   "source": [
    "n = 5\n",
    "k = 5\n",
    "\n",
    "for i in range(0,n+1):\n",
    "    for j in range(k-i,0,-1):\n",
    "        print(j,end=' ')\n",
    "    print()"
   ]
  },
  {
   "cell_type": "markdown",
   "id": "03de92be",
   "metadata": {},
   "source": [
    "## 78)\n",
    "\n",
    "Defina uma classe que tenha pelo menos dois métodos: \n",
    "\n",
    "- **get_string**: para obter uma string da entrada do console \n",
    "- **print_string**: para imprimir a string em maiúsculas. "
   ]
  },
  {
   "cell_type": "code",
   "execution_count": 285,
   "id": "084b1123",
   "metadata": {},
   "outputs": [
    {
     "name": "stdin",
     "output_type": "stream",
     "text": [
      " python\n"
     ]
    },
    {
     "name": "stdout",
     "output_type": "stream",
     "text": [
      "PYTHON\n"
     ]
    }
   ],
   "source": [
    "class InputOutString(object):\n",
    "    def __init__(self):\n",
    "        self.s = \"\"\n",
    "\n",
    "    def get_string(self):\n",
    "        self.s = input()\n",
    "    \n",
    "    def print_string(self):\n",
    "        print(self.s.upper())\n",
    "\n",
    "str_obj = InputOutString()\n",
    "str_obj.get_string()\n",
    "str_obj.print_string()"
   ]
  },
  {
   "cell_type": "markdown",
   "id": "cee2d8d5",
   "metadata": {},
   "source": [
    "## 79)\n",
    "\n",
    "Escreva um programa que pode filtrar números pares em uma lista usando a função **filter**. \n",
    "\n",
    "A lista é: `[1,2,3,4,5,6,7,8,9,10]`"
   ]
  },
  {
   "cell_type": "code",
   "execution_count": 287,
   "id": "9481d060",
   "metadata": {},
   "outputs": [
    {
     "name": "stdout",
     "output_type": "stream",
     "text": [
      "[2, 4, 6, 8, 10]\n"
     ]
    }
   ],
   "source": [
    "li = [1,2,3,4,5,6,7,8,9,10]\n",
    "pares = filter(lambda x: x%2==0, li)\n",
    "print(list(pares))"
   ]
  },
  {
   "cell_type": "markdown",
   "id": "f25c3d75",
   "metadata": {},
   "source": [
    "## 80)\n",
    "\n",
    "Defina uma classe chamada Retângulo que pode ser construída por uma **base** e **altura**. \n",
    "\n",
    "A classe Retângulo tem um método que pode calcular a área."
   ]
  },
  {
   "cell_type": "code",
   "execution_count": 288,
   "id": "2f5176a0",
   "metadata": {},
   "outputs": [
    {
     "name": "stdout",
     "output_type": "stream",
     "text": [
      "20\n"
     ]
    }
   ],
   "source": [
    "class Retângulo(object):\n",
    "    def __init__(self, b, a):\n",
    "        self.base = b\n",
    "        self.altura  = a\n",
    "\n",
    "    def area(self):\n",
    "        return self.base * self.altura\n",
    "\n",
    "ret = Retângulo(2,10)\n",
    "print(ret.area())"
   ]
  },
  {
   "cell_type": "markdown",
   "id": "8f9265ee",
   "metadata": {},
   "source": [
    "## Mais Exercícios\n",
    "\n",
    "Para mais exercícios de programação, você pode visitar os seguintes websites:\n",
    "\n",
    "- [w3resource](https://www.w3resource.com/python-exercises/)\n",
    "- [pynative](https://pynative.com/python-exercises-with-solutions/)\n",
    "- [edabit](https://edabit.com/challenges/python3)\n",
    "- [hackerrank](https://www.hackerrank.com/dashboard)\n",
    "- [projecteuler](https://projecteuler.net/)\n",
    "- [codewars](https://www.codewars.com/)\n",
    "- [leetcode](https://leetcode.com/)\n",
    "- [coderbyte](https://www.coderbyte.com/)"
   ]
  }
 ],
 "metadata": {
  "kernelspec": {
   "display_name": "Python 3",
   "language": "python",
   "name": "python3"
  },
  "language_info": {
   "codemirror_mode": {
    "name": "ipython",
    "version": 3
   },
   "file_extension": ".py",
   "mimetype": "text/x-python",
   "name": "python",
   "nbconvert_exporter": "python",
   "pygments_lexer": "ipython3",
   "version": "3.7.10"
  }
 },
 "nbformat": 4,
 "nbformat_minor": 5
}
